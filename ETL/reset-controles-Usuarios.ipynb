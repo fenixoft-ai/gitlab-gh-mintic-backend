{
 "cells": [
  {
   "cell_type": "markdown",
   "metadata": {},
   "source": [
    "### ¿Qué hace este script?\n",
    "Reinicia todas las jerarquías de control que son usadas para la ejecución de los ETLs "
   ]
  },
  {
   "cell_type": "code",
   "execution_count": 28,
   "metadata": {},
   "outputs": [],
   "source": [
    "from elasticsearch import Elasticsearch, helpers\n",
    "from ssl import create_default_context\n",
    "import parametros"
   ]
  },
  {
   "cell_type": "code",
   "execution_count": 29,
   "metadata": {},
   "outputs": [],
   "source": [
    "context = create_default_context(cafile=parametros.cafile)\n",
    "es = Elasticsearch(\n",
    "    parametros.servidor,\n",
    "    http_auth=(parametros.usuario_EC, parametros.password_EC),\n",
    "    scheme=\"https\",\n",
    "    port=parametros.puerto,\n",
    "    ssl_context=context,\n",
    "    timeout=60, max_retries=3, retry_on_timeout=True\n",
    ") "
   ]
  },
  {
   "cell_type": "code",
   "execution_count": 30,
   "metadata": {},
   "outputs": [],
   "source": [
    "indice_control = parametros.usuarios_mintic_control"
   ]
  },
  {
   "cell_type": "markdown",
   "metadata": {},
   "source": [
    "## 1. Usuarios velocidades"
   ]
  },
  {
   "cell_type": "code",
   "execution_count": 20,
   "metadata": {},
   "outputs": [],
   "source": [
    "response = es.index(\n",
    "        index = indice_control,\n",
    "        id = 'jerarquia_usuarios_velocidad',\n",
    "        body = { 'jerarquia_usuarios_velocidad': 'usuarios_velocidad','usuarios.fechaControl' : '2021-07-01 00:00:00'}\n",
    ")"
   ]
  },
  {
   "cell_type": "markdown",
   "metadata": {},
   "source": [
    "## 2. Usuarios conectados"
   ]
  },
  {
   "cell_type": "code",
   "execution_count": 5,
   "metadata": {},
   "outputs": [],
   "source": [
    "response = es.index(\n",
    "        index = indice_control,\n",
    "        id = 'jerarquia_usuarios_conectados',\n",
    "        body = { 'jerarquia_usuarios_conectados': 'usuarios_conectados','usuarios.fechaControl' : '2021-07-01 00:00:00'}\n",
    ")"
   ]
  },
  {
   "cell_type": "markdown",
   "metadata": {},
   "source": [
    "## 3. Usuarios valoraciones"
   ]
  },
  {
   "cell_type": "code",
   "execution_count": 15,
   "metadata": {},
   "outputs": [],
   "source": [
    "response = es.index(\n",
    "        index = indice_control,\n",
    "        id = 'jerarquia_valoraciones_usuario',\n",
    "        body = { 'jerarquia_valoraciones_usuario': 'valoraciones_usuario','usuarios.fechaControl' : '2021-07-01 00:00:00'}\n",
    ")"
   ]
  },
  {
   "cell_type": "markdown",
   "metadata": {},
   "source": [
    "## 4. Usuarios consumos"
   ]
  },
  {
   "cell_type": "code",
   "execution_count": 6,
   "metadata": {},
   "outputs": [],
   "source": [
    "response = es.index(\n",
    "        index = indice_control,\n",
    "        id = 'jerarquia_usuarios_consumos',\n",
    "        body = { 'jerarquia_usuarios_consumos': 'usuarios_consumos','usuarios.fechaControl' : '2021-07-01 00:00:00'}\n",
    ")"
   ]
  },
  {
   "cell_type": "markdown",
   "metadata": {},
   "source": [
    "## 5. Usuarios categorías web"
   ]
  },
  {
   "cell_type": "code",
   "execution_count": 14,
   "metadata": {},
   "outputs": [],
   "source": [
    "response = es.index(\n",
    "        index = indice_control,\n",
    "        id = 'jerarquia_usuarios_web',\n",
    "        body = { 'jerarquia_usuarios_web': 'usuarios_web','usuarios.fechaControl' : '2021-07-01 00:00:00'}\n",
    ")"
   ]
  },
  {
   "cell_type": "markdown",
   "metadata": {},
   "source": [
    "## 6. Usuarios sesiones sitio"
   ]
  },
  {
   "cell_type": "code",
   "execution_count": 12,
   "metadata": {},
   "outputs": [],
   "source": [
    "response = es.index(\n",
    "        index = indice_control,\n",
    "        id = 'jerarquia_usuarios_sesiones_sitio',\n",
    "        body = { 'jerarquia_usuarios_sesiones_sitio': 'usuarios_sesiones_sitio','usuarios.fechaControl' : '2021-07-05 03:30:00'}\n",
    ")"
   ]
  },
  {
   "cell_type": "markdown",
   "metadata": {},
   "source": [
    "## 7. Usuarios registros"
   ]
  },
  {
   "cell_type": "code",
   "execution_count": 7,
   "metadata": {},
   "outputs": [],
   "source": [
    "response = es.index(\n",
    "        index = indice_control,\n",
    "        id = 'jerarquia_usuarios_registro',\n",
    "        body = { 'jerarquia_usuarios_registro': 'usuarios_registro','usuarios.fechaControl' : '2021-07-01 00:00:00'}\n",
    ")"
   ]
  },
  {
   "cell_type": "markdown",
   "metadata": {},
   "source": [
    "## 8. Trafico velocidades"
   ]
  },
  {
   "cell_type": "code",
   "execution_count": 21,
   "metadata": {},
   "outputs": [],
   "source": [
    "response = es.index(\n",
    "        index = indice_control,\n",
    "        id = 'jerarquia_trafico_velocidad',\n",
    "        body = { 'jerarquia_trafico_velocidad': 'trafico_velocidad','trafico.fechaControl' : '2021-07-01 00:00:00'}\n",
    ")"
   ]
  },
  {
   "cell_type": "markdown",
   "metadata": {},
   "source": [
    "## 9. Trafico alarmas"
   ]
  },
  {
   "cell_type": "code",
   "execution_count": 19,
   "metadata": {},
   "outputs": [],
   "source": [
    "response = es.index(\n",
    "        index = indice_control,\n",
    "        id = 'jerarquia_trafico_alarmas',\n",
    "        body = { 'jerarquia_trafico_alarmas': 'trafico_alarmas','trafico.fechaControl' : '2021-07-01 00:00:00'}\n",
    ")"
   ]
  },
  {
   "cell_type": "markdown",
   "metadata": {},
   "source": [
    "## 10. Trafico conectados y consumos"
   ]
  },
  {
   "cell_type": "code",
   "execution_count": 16,
   "metadata": {},
   "outputs": [],
   "source": [
    "response = es.index(\n",
    "        index = indice_control,\n",
    "        id = 'jerarquia_trafico_conectados',\n",
    "        body = { 'jerarquia_trafico_conectados': 'trafico_conectados','trafico.fechaControl' : '2021-07-01 00:00:00'}\n",
    ")"
   ]
  },
  {
   "cell_type": "markdown",
   "metadata": {},
   "source": [
    "## 11. Trafico conexiones"
   ]
  },
  {
   "cell_type": "code",
   "execution_count": 17,
   "metadata": {},
   "outputs": [],
   "source": [
    "response = es.index(\n",
    "        index = indice_control,\n",
    "        id = 'jerarquia_trafico_conexiones',\n",
    "        body = { 'jerarquia_trafico_conexiones': 'trafico_conexiones','trafico.fechaControl' : '2021-07-01 00:00:00'}\n",
    ")"
   ]
  },
  {
   "cell_type": "markdown",
   "metadata": {},
   "source": [
    "## 12. Trafico promedios"
   ]
  },
  {
   "cell_type": "code",
   "execution_count": 18,
   "metadata": {},
   "outputs": [],
   "source": [
    "response = es.index(\n",
    "        index = indice_control,\n",
    "        id = 'jerarquia_trafico_promedios',\n",
    "        body = { 'jerarquia_trafico_promedios': 'trafico_promedios','trafico.fechaControl' : '2021-07-01 00:00:00'}\n",
    ")"
   ]
  },
  {
   "cell_type": "markdown",
   "metadata": {},
   "source": [
    "## 13. Gestion incidentes"
   ]
  },
  {
   "cell_type": "code",
   "execution_count": 54,
   "metadata": {},
   "outputs": [],
   "source": [
    "response = es.index(\n",
    "        index = indice_control,\n",
    "        id = 'jerarquia_gestion_incidentes',\n",
    "        body = { 'jerarquia_gestion_incidentes': 'gestion_incindentes','gestion.fechaControl' : '2021-05-01T00:00:00'}\n",
    ")"
   ]
  },
  {
   "cell_type": "markdown",
   "metadata": {},
   "source": [
    "## 14. Gestion interacciones"
   ]
  },
  {
   "cell_type": "code",
   "execution_count": 55,
   "metadata": {},
   "outputs": [],
   "source": [
    "response = es.index(\n",
    "        index = indice_control,\n",
    "        id = 'jerarquia_gestion_interacciones',\n",
    "        body = { 'jerarquia_gestion_interacciones': 'gestion_interacciones','gestion.fechaControl' : '2021-05-01T00:00:00'}\n",
    ")"
   ]
  },
  {
   "cell_type": "markdown",
   "metadata": {},
   "source": [
    "## 15. Gestion totales llamadas"
   ]
  },
  {
   "cell_type": "code",
   "execution_count": 33,
   "metadata": {},
   "outputs": [],
   "source": [
    "response = es.index(\n",
    "    index = indice_control,\n",
    "    id = 'jerarquia_gestion_totales_llamadas',\n",
    "    body = { 'jerarquia_gestion_totales_llamadas': 'gestion_totales_llamadas','gestion.fechaControl' : '2021-07-01T00:00:00'}\n",
    ")"
   ]
  },
  {
   "cell_type": "markdown",
   "metadata": {},
   "source": [
    "## 16. Gestión totales incidentes"
   ]
  },
  {
   "cell_type": "code",
   "execution_count": 34,
   "metadata": {},
   "outputs": [],
   "source": [
    "response = es.index(\n",
    "    index = indice_control,\n",
    "    id = 'jerarquia_gestion_totales_incidentes',\n",
    "    body = { 'jerarquia_gestion_totales_incidentes': 'gestion_totales_incidentes','gestion.fechaControl' : '2021-07-01T00:00:00'}\n",
    ")"
   ]
  },
  {
   "cell_type": "code",
   "execution_count": null,
   "metadata": {},
   "outputs": [],
   "source": []
  },
  {
   "cell_type": "markdown",
   "metadata": {},
   "source": [
    "Las dos siguientes están dentro de mintic-concat-gestion-estado. Pendiente confirmar que hace ese script y si se usan esos controles"
   ]
  },
  {
   "cell_type": "markdown",
   "metadata": {},
   "source": [
    "## 17. jerarquia_gestion_estado_bmc?????"
   ]
  },
  {
   "cell_type": "code",
   "execution_count": 35,
   "metadata": {},
   "outputs": [],
   "source": [
    "response = es.index(\n",
    "    index = indice_control,\n",
    "    id = 'jerarquia_gestion_estado_bmc',\n",
    "    body = { 'jerarquia_gestion_estado_bmc': 'gestion_estado_bmc','gestion.fechaControl' : '20210701000000'}\n",
    ")"
   ]
  },
  {
   "cell_type": "markdown",
   "metadata": {},
   "source": [
    "## 18. jerarquia_gestion_estado_incidentes???"
   ]
  },
  {
   "cell_type": "code",
   "execution_count": 37,
   "metadata": {},
   "outputs": [],
   "source": [
    "response = es.index(\n",
    "    index = indice_control,\n",
    "    id = 'jerarquia_gestion_estado_incidentes',\n",
    "    body = { 'jerarquia_gestion_estado_incidentes': 'gestion_estado_incidentes','gestion.fechaControl' : '2021-07-01T00:00:00'}\n",
    ")"
   ]
  },
  {
   "cell_type": "code",
   "execution_count": null,
   "metadata": {},
   "outputs": [],
   "source": []
  }
 ],
 "metadata": {
  "kernelspec": {
   "display_name": "Python 3",
   "language": "python",
   "name": "python3"
  },
  "language_info": {
   "codemirror_mode": {
    "name": "ipython",
    "version": 3
   },
   "file_extension": ".py",
   "mimetype": "text/x-python",
   "name": "python",
   "nbconvert_exporter": "python",
   "pygments_lexer": "ipython3",
   "version": "3.8.5"
  }
 },
 "nbformat": 4,
 "nbformat_minor": 4
}
