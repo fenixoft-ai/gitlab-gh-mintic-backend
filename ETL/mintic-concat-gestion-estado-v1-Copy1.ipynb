{
 "cells": [
  {
   "cell_type": "code",
   "execution_count": 603,
   "metadata": {},
   "outputs": [],
   "source": [
    "from elasticsearch import Elasticsearch, helpers\n",
    "from ssl import create_default_context\n",
    "import pandas as pd\n",
    "import numpy as np\n",
    "from datetime import datetime, timedelta\n",
    "import parametros\n",
    "import re\n",
    "import time\n",
    "# Aqui comence con los cambios, quite algunas librerias que no se estan usando [GM]"
   ]
  },
  {
   "cell_type": "markdown",
   "metadata": {},
   "source": [
    "## Conectando a ElasticSearch"
   ]
  },
  {
   "cell_type": "markdown",
   "metadata": {},
   "source": [
    "La ultima línea se utiliza para garantizar la ejecución de la consulta\n",
    "* timeout es el tiempo para cada ejecución\n",
    "* max_retries el número de intentos si la conexión falla\n",
    "* retry_on_timeout para activar los reitentos"
   ]
  },
  {
   "cell_type": "code",
   "execution_count": 604,
   "metadata": {},
   "outputs": [],
   "source": [
    "context = create_default_context(cafile=parametros.cafile)\n",
    "es = Elasticsearch(\n",
    "    parametros.servidor,\n",
    "    http_auth=(parametros.usuario_EC, parametros.password_EC),\n",
    "    scheme=\"https\",\n",
    "    port=parametros.puerto,\n",
    "    ssl_context=context,\n",
    "    timeout=60, max_retries=3, retry_on_timeout=True\n",
    ") "
   ]
  },
  {
   "cell_type": "markdown",
   "metadata": {},
   "source": [
    "### Calculando fechas para la ejecución"
   ]
  },
  {
   "cell_type": "markdown",
   "metadata": {},
   "source": [
    "* Se calculan las fechas para asociar al nombre del indice\n",
    "* fecha_hoy es usada para concatenar al nombre del indice principal previa inserción"
   ]
  },
  {
   "cell_type": "code",
   "execution_count": 605,
   "metadata": {},
   "outputs": [],
   "source": [
    "now = datetime.now()\n",
    "fecha_hoy = str(now.strftime(\"%Y.%m.%d\"))\n",
    "ahora_format = \"%Y-%m-%d\"'T'\"%H:%M:%S\"\n",
    "ahora = str(now.strftime(ahora_format))\n",
    "ahora_cdd = str(now.strftime(\"%Y-%m-%d\"' '\"%H:%M:%S\"))\n",
    "fechaAhora = str(now.strftime(\"%Y%m%d%H%M%S\"))\n",
    "datos_logs =\"\"\n",
    "#fechaAhora"
   ]
  },
  {
   "cell_type": "markdown",
   "metadata": {},
   "source": [
    "### Definiendo indice principal con fecha de hoy\n",
    "* 1.- Primer detalle (aqui se deberia de quitar esa fecha_hoy ? )\n",
    "*     [ indice parameter= \"dev-mintic-concat\" ]   [GM]\n",
    "\n"
   ]
  },
  {
   "cell_type": "code",
   "execution_count": null,
   "metadata": {},
   "outputs": [],
   "source": [
    "indice = parametros.gestion_mintic_concat_index"
   ]
  },
  {
   "cell_type": "markdown",
   "metadata": {},
   "source": [
    "### Función para generar JSON compatible con ES"
   ]
  },
  {
   "cell_type": "code",
   "execution_count": 608,
   "metadata": {},
   "outputs": [],
   "source": [
    "def filterKeys(document, use_these_keys):\n",
    "    return {key: document.get(key) for key in use_these_keys }"
   ]
  },
  {
   "cell_type": "markdown",
   "metadata": {},
   "source": [
    "### Trae la ultima fecha para control de ejecución"
   ]
  },
  {
   "cell_type": "markdown",
   "metadata": {},
   "source": [
    "Cuando en el rango de tiempo de la ejecución, no se insertan nuevos valores, las fecha maxima en indice mintic no aumenta, por tanto se usa esta fecha de control para garantizar que incremente el bucle de ejecución"
   ]
  },
  {
   "cell_type": "code",
   "execution_count": 609,
   "metadata": {},
   "outputs": [
    {
     "name": "stdout",
     "output_type": "stream",
     "text": [
      "ultima fecha para control de ejecucion gestion_estado_cdd:  2021-04-01 00:00:00\n"
     ]
    }
   ],
   "source": [
    "# aqui se busca la fecha ultima de control de Estado Cambuim  \n",
    "                   # tengo una pregunta:  porque usa \n",
    "                   # parametros.mintic_control=dev-control_ejecucion_mintic\n",
    "                   # en vez de  indice = parametros.mintic_concat_index que es = dev-mintic-concat-2021.06.24\n",
    "                   # me imagino que es donde guardan todos los controles de las ejecuciones  * devuelvo el cambio *\n",
    "total_docs = 1\n",
    "try:\n",
    "    response = es.search(\n",
    "        index=  parametros.mintic_control,     # ***  quite esto, creo que no va, pero lo devolvi,habia puesto indice\n",
    "        body={\n",
    "           \"_source\": [\"gestion.fechaControl\"],\n",
    "              \"query\": {\n",
    "                \"bool\": {\n",
    "                  \"filter\": [\n",
    "                  {\n",
    "                    \"exists\": {\n",
    "                      \"field\":\"jerarquia_gestion_estado_cdd\"\n",
    "                    }\n",
    "                  }\n",
    "              ]\n",
    "            }\n",
    "          }\n",
    "        },\n",
    "        size=total_docs\n",
    "    )\n",
    "    #print(es.info())\n",
    "    elastic_docs = response[\"hits\"][\"hits\"]\n",
    "    fields = {}\n",
    "    for num, doc in enumerate(elastic_docs):\n",
    "        fecha_ejecucion_bmc = doc[\"_source\"]['gestion.fechaControl']\n",
    "except:\n",
    "    response[\"hits\"][\"hits\"] = []\n",
    "if response[\"hits\"][\"hits\"] == []:    \n",
    "    fecha_ejecucion_cdd = '2021-04-01 00:00:00'   # el formato tiene que ser solo numeros, asi aparecen los registros[GM]\n",
    "    \n",
    "print(\"ultima fecha para control de ejecucion gestion_estado_cdd: \",fecha_ejecucion_cdd)"
   ]
  },
  {
   "cell_type": "code",
   "execution_count": 155,
   "metadata": {},
   "outputs": [],
   "source": [
    "#parametros.mintic_control    #  Estoy trabajando en DEV :  'dev-control_ejecucion_mintic'\n"
   ]
  },
  {
   "cell_type": "code",
   "execution_count": 610,
   "metadata": {},
   "outputs": [
    {
     "name": "stdout",
     "output_type": "stream",
     "text": [
      "ultima fecha para control de ejecucion gestion_estado_bmc:  20210701002000\n"
     ]
    }
   ],
   "source": [
    "total_docs = 1\n",
    "try:\n",
    "    response = es.search(\n",
    "        index= parametros.mintic_control,\n",
    "        body={\n",
    "           \"_source\": [\"gestion.fechaControl\"],\n",
    "              \"query\": {\n",
    "                \"bool\": {\n",
    "                  \"filter\": [\n",
    "                  {\n",
    "                    \"exists\": {\n",
    "                      \"field\":\"jerarquia_gestion_estado_bmc\"\n",
    "                    }\n",
    "                  }\n",
    "              ]\n",
    "            }\n",
    "          }\n",
    "        },\n",
    "        size=total_docs\n",
    "    )\n",
    "    #print(es.info())\n",
    "    elastic_docs = response[\"hits\"][\"hits\"]\n",
    "    fields = {}\n",
    "    for num, doc in enumerate(elastic_docs):\n",
    "        fecha_ejecucion_bmc = doc[\"_source\"]['gestion.fechaControl']\n",
    "except:\n",
    "    response[\"hits\"][\"hits\"] = []\n",
    "if response[\"hits\"][\"hits\"] == []:\n",
    "    #fecha_ejecucion_bmc = '2021-04-01T00:00:00'   # \n",
    "    fecha_ejecucion_bmc = '20210401000000'   # el fomrato tiene que ser solo numeros, asi aparecen los registros[GM]\n",
    "    fecha_ejecucion_cdd = '2021-04-01 00:00:00'   # el fomrato tiene que ser solo numeros, asi aparecen los registros[GM]\n",
    "    \n",
    "print(\"ultima fecha para control de ejecucion gestion_estado_bmc: \",fecha_ejecucion_bmc)"
   ]
  },
  {
   "cell_type": "code",
   "execution_count": 611,
   "metadata": {},
   "outputs": [
    {
     "name": "stdout",
     "output_type": "stream",
     "text": [
      "ultima fecha para control de ejecucion gestion_estado_incidentes: 2021-04-01T01:30:00\n"
     ]
    }
   ],
   "source": [
    "total_docs = 1\n",
    "try:\n",
    "    response = es.search(\n",
    "        index= parametros.mintic_control,\n",
    "        body={\n",
    "           \"_source\": [\"gestion.fechaControl\"],\n",
    "              \"query\": {\n",
    "                \"bool\": {\n",
    "                  \"filter\": [\n",
    "                  {\n",
    "                    \"exists\": {\n",
    "                              \"field\":\"jerarquia_gestion_estado_incidentes\"\n",
    "                    }\n",
    "                  }\n",
    "              ]\n",
    "            }\n",
    "          }\n",
    "        },\n",
    "        size=total_docs\n",
    "    )\n",
    "    #print(es.info())\n",
    "    elastic_docs = response[\"hits\"][\"hits\"]\n",
    "    fields = {}\n",
    "    for num, doc in enumerate(elastic_docs):\n",
    "        fecha_ejecucion_inc = doc[\"_source\"]['gestion.fechaControl']\n",
    "except:\n",
    "    response[\"hits\"][\"hits\"] = []\n",
    "if response[\"hits\"][\"hits\"] == []:\n",
    "    fecha_ejecucion_inc = '2021-04-01T00:00:00'\n",
    "print(\"ultima fecha para control de ejecucion gestion_estado_incidentes:\",fecha_ejecucion_inc)\n",
    "\n"
   ]
  },
  {
   "cell_type": "markdown",
   "metadata": {},
   "source": [
    "### 1.- leyendo indice semilla-inventario"
   ]
  },
  {
   "cell_type": "markdown",
   "metadata": {},
   "source": [
    "En el script que ingesta semilla, trae la información de los centros de conexión administrados. Para el indice principal se requiere:\n",
    "\n",
    "* site_id como llave del centro de conexión.\n",
    "* Datos geográficos (Departamento, municipio, centro poblado, sede.)"
   ]
  },
  {
   "cell_type": "code",
   "execution_count": 641,
   "metadata": {},
   "outputs": [],
   "source": [
    "t1=time.time()\n",
    "\n",
    "total_docs = 10000\n",
    "try:\n",
    "    response = es.search(\n",
    "        index= parametros.semilla_inventario_index,\n",
    "        body={\n",
    "               \"_source\": ['site_id','nombre_municipio', 'nombre_departamento', 'nombre_centro_pob','energiadesc'\n",
    "                           ,'nombreSede','latitud', 'longitud','id_Beneficiario','COD_ISO','codDanesede',\n",
    "                           'cod_servicio','codDaneMuni','nombre_centro_pob','codCentroPoblado','codDaneInstitucionEdu',\n",
    "                           'tipoSitio','detalleSitio','energia','region','matricula','DDA','grupoDesc','estadoInstalacion']\n",
    "        },\n",
    "        size=total_docs\n",
    "    )\n",
    "    #print(es.info())  antes era:\n",
    "    # ['site_id','nombre_municipio', 'nombre_departamento', 'nombre_centro_pob','energiadesc'\n",
    "    #                       ,'nombreSede','latitud', 'longitud','id_Beneficiario','COD_ISO','codDanesede'\n",
    "    #                       ,'DDA','estadoInstalacion','nombreInstitucionEd','matricula','municipioPDET']\n",
    "    elastic_docs = response[\"hits\"][\"hits\"]\n",
    "#     fields = {}\n",
    "#     for num, doc in enumerate(elastic_docs):\n",
    "#         source_data = doc[\"_source\"]\n",
    "#         for key, val in source_data.items():\n",
    "#             try:\n",
    "#                 fields[key] = np.append(fields[key], val)\n",
    "#             except KeyError:\n",
    "#                 fields[key] = np.array([val])\n",
    "\n",
    "#     datos_semilla = pd.DataFrame(dict([ (k,pd.Series(v)) for k,v in fields.items() ])) #pd.DataFrame(fields)\n",
    "    \n",
    "    datos_semilla = pd.DataFrame([x[\"_source\"] for x in elastic_docs])\n",
    "\n",
    "except Exception as e:\n",
    "    print(e.message)\n",
    "    print(\"fecha:\",now,\"- Error en lectura de datos semilla\")\n",
    "    #exit()\n",
    "\n",
    "t2=time.time()"
   ]
  },
  {
   "cell_type": "code",
   "execution_count": 643,
   "metadata": {},
   "outputs": [
    {
     "data": {
      "text/plain": [
       "Index(['nombreSede', 'DDA', 'estadoInstalacion', 'latitud', 'COD_ISO',\n",
       "       'energia', 'nombre_departamento', 'codCentroPoblado', 'longitud',\n",
       "       'codDanesede', 'tipoSitio', 'codDaneMuni', 'nombre_centro_pob',\n",
       "       'site_id', 'matricula', 'energiadesc', 'grupoDesc', 'cod_servicio',\n",
       "       'region', 'detalleSitio', 'nombre_municipio', 'id_Beneficiario',\n",
       "       'codDaneInstitucionEdu'],\n",
       "      dtype='object')"
      ]
     },
     "execution_count": 643,
     "metadata": {},
     "output_type": "execute_result"
    }
   ],
   "source": [
    "datos_semilla.columns"
   ]
  },
  {
   "cell_type": "code",
   "execution_count": 613,
   "metadata": {},
   "outputs": [],
   "source": [
    "def get_location(x,y='lat'):\n",
    "    patron = re.compile('^(\\-?\\d+(\\.\\d+)?),\\s*(\\-?\\d+(\\.\\d+)?)$') #patrón que debe cumplir\n",
    "    if (not patron.match(x) is None) and (str(x)!=''):\n",
    "        return x.replace(',','.')\n",
    "    else:\n",
    "        #Código a ejecutar si las coordenadas no son válidas\n",
    "        return '4.596389' if y=='lat' else '-74.074639'"
   ]
  },
  {
   "cell_type": "code",
   "execution_count": 614,
   "metadata": {},
   "outputs": [],
   "source": [
    "datos_semilla['latitud'] = datos_semilla['latitud'].apply(lambda x:get_location(x,'lat'))\n",
    "datos_semilla['longitud'] = datos_semilla['longitud'].apply(lambda x:get_location(x,'lon'))\n",
    "datos_semilla = datos_semilla.drop(datos_semilla[(datos_semilla[\"longitud\"]=='a') | (datos_semilla[\"latitud\"]=='a')].index)\n",
    "datos_semilla['gestion.location'] = datos_semilla['latitud'] + ',' + datos_semilla['longitud']\n",
    "datos_semilla['gestion.location']=datos_semilla['gestion.location'].str.replace('a,a','')\n",
    "datos_semilla.drop(columns=['latitud','longitud'],inplace=True)"
   ]
  },
  {
   "cell_type": "markdown",
   "metadata": {},
   "source": [
    "### 2.- Leyendo datos de Cambium-Device-Devices"
   ]
  },
  {
   "cell_type": "code",
   "execution_count": 615,
   "metadata": {},
   "outputs": [],
   "source": [
    "# Se extraen los datos de cambium-devicedevices,  'cambium-devicedevices'\n",
    "\n",
    "def traerDDevices(fecha_max,fecha_tope):\n",
    "    total_docs = 10000\n",
    "    try:\n",
    "        response = es.search(\n",
    "            index= parametros.cambium_d_d_index,\n",
    "            body={\n",
    "                \"_source\": [\"registration_date\",\"mac\",\"ip\",\"ap_group\",\"site_id\",\"status\"]\n",
    "                ,\"query\":{\n",
    "                    \"bool\": {\n",
    "                      \"filter\": [\n",
    "                        {\n",
    "                          \"range\": {\n",
    "                            \"registration_date\": {\n",
    "                              \"gte\": fecha_max,\n",
    "                              \"lt\": fecha_tope\n",
    "                            }\n",
    "                          }\n",
    "                        }\n",
    "                      ],\n",
    "\n",
    "                    }\n",
    "                }\n",
    "            },\n",
    "            size=total_docs\n",
    "        )\n",
    "        elastic_docs = response[\"hits\"][\"hits\"]\n",
    "#         fields = {}\n",
    "#         for num, doc in enumerate(elastic_docs):\n",
    "#             source_data = doc[\"_source\"]\n",
    "#             for key, val in source_data.items():\n",
    "#                 try:\n",
    "#                     fields[key] = np.append(fields[key], val)\n",
    "#                 except KeyError:\n",
    "#                     fields[key] = np.array([val])\n",
    "\n",
    "#         datos_DDevices  = pd.DataFrame(dict([ (k,pd.Series(v)) for k,v in fields.items() ]))\n",
    "        \n",
    "        datos_DDevices = pd.DataFrame([x[\"_source\"] for x in elastic_docs])\n",
    "        \n",
    "        datos_DDevices  = datos_DDevices.rename(columns={'ap_group':'gestion.ptos_acceso'})\n",
    "        datos_DDevices  = datos_DDevices.dropna(subset=['site_id'])\n",
    "        return datos_DDevices \n",
    "    except Exception as e:\n",
    "#         print(e.message)\n",
    "        return pd.DataFrame()\n",
    "    "
   ]
  },
  {
   "cell_type": "markdown",
   "metadata": {},
   "source": [
    "## 3.- Se leen datos de BMC"
   ]
  },
  {
   "cell_type": "markdown",
   "metadata": {},
   "source": [
    "* Se acota por el rango de fecha\n",
    "* BMC trae las alertas generadas por sitio"
   ]
  },
  {
   "cell_type": "code",
   "execution_count": 616,
   "metadata": {},
   "outputs": [],
   "source": [
    "def traerBMC(fecha_max,fecha_tope):\n",
    "    total_docs = 1000\n",
    "    try:\n",
    "        response = es.search(\n",
    "            index= parametros.bmc_index_1,\n",
    "            body={\n",
    "                \"_source\": [\"*\"]\n",
    "                ,\"query\":{\n",
    "                    \"bool\": {\n",
    "                      \"filter\": [\n",
    "                        {\n",
    "                          \"range\": {\n",
    "                            \"fechahora\": {\n",
    "                              \"gte\": fecha_max,\n",
    "                              \"lt\": fecha_tope\n",
    "                            }\n",
    "                          }\n",
    "                        }\n",
    "                      ],\n",
    "\n",
    "                    }\n",
    "                }\n",
    "            },\n",
    "            size=total_docs\n",
    "        )\n",
    "        elastic_docs = response[\"hits\"][\"hits\"]\n",
    "        \n",
    "#         print(elastic_docs)\n",
    "        \n",
    "        fields = {}\n",
    "        for num, doc in enumerate(elastic_docs):\n",
    "            source_data = doc[\"_source\"]\n",
    "            for key, val in source_data.items():\n",
    "                try:\n",
    "                    fields[key] = np.append(fields[key], val)\n",
    "                except KeyError:\n",
    "                    fields[key] = np.array([val])\n",
    "\n",
    "        datos_BMC = pd.DataFrame(dict([ (k,pd.Series(v)) for k,v in fields.items() ]))\n",
    "        \n",
    "        \n",
    "#         datos_BMC = pd.DataFrame([x[\"_source\"] for x in elastic_docs]) #Los dataframe son diferentes..\n",
    "        \n",
    "        datos_BMC = datos_BMC.rename(columns={'mc_location':'site_id'})\n",
    "        datos_BMC = datos_BMC.dropna(subset=['site_id'])\n",
    "        return datos_BMC\n",
    "    except Exception as e:\n",
    "#         print(e)\n",
    "        return pd.DataFrame()\n",
    "    "
   ]
  },
  {
   "cell_type": "markdown",
   "metadata": {},
   "source": [
    "### 4.- Leyendo indice servicemanager-incidentes"
   ]
  },
  {
   "cell_type": "markdown",
   "metadata": {},
   "source": [
    "Se lee la información de los De Service Manager. En la lectura se traen todas las interacciones reportadas por servicemanager, con la información de la misma.\n",
    "\n",
    "* clr_bmc_location, es la llave para cruzar con cada centro de conexión.\n",
    "* product_type, es el detalle del ticket.\n",
    "* clr_bmc_host, estado la IP\n",
    "* assignment, es el sujeto asignado al ticket\n",
    "* contact_name, usuario del ticket\n",
    "* open_time y resolved_time, son las fecha de apertura y cierre del ticket\n",
    "* resolution, respuesta al ticket\n",
    "* number, numero del ticket\n",
    "* source, fuente del ticket(email o telefono)\n",
    "* severity, gravedad del ticket\n",
    "* category y subcategory, clasificacion dada por mintic"
   ]
  },
  {
   "cell_type": "code",
   "execution_count": 617,
   "metadata": {
    "scrolled": true
   },
   "outputs": [],
   "source": [
    "def traeSMIncidentes(fecha_max,fecha_tope):\n",
    "    total_docs = 100\n",
    "    try:\n",
    "        response = es.search(\n",
    "            index= parametros.sm_incidentes,\n",
    "            body={\n",
    "                \"_source\": [\"clr_bmc_location\",\"resolved_time\"]  # clr_bmcdatevent= fecha del evento, open_time=fecha del ticket\n",
    "                ,\"query\": {\n",
    "                    \"bool\": {\n",
    "                      \"filter\": [\n",
    "                        {\n",
    "                          \"range\": {\n",
    "                            \"@timestamp\": {\n",
    "                              \"gte\": fecha_max,\n",
    "                              \"lt\": fecha_tope\n",
    "                            }\n",
    "                          }\n",
    "                        }\n",
    "                      ], \n",
    "                      \"must_not\": [\n",
    "                        {\n",
    "                          \"exists\": {\n",
    "                            \"field\": \"gestion.fechaCierre\"\n",
    "                          }\n",
    "                        }\n",
    "                      ]\n",
    "                    }\n",
    "                  }\n",
    "            },\n",
    "            size=total_docs\n",
    "        )\n",
    "        elastic_docs = response[\"hits\"][\"hits\"]\n",
    "        fields = {}\n",
    "        for num, doc in enumerate(elastic_docs):\n",
    "            source_data = doc[\"_source\"]\n",
    "            for key, val in source_data.items():\n",
    "                try:\n",
    "                    fields[key] = np.append(fields[key], val)\n",
    "                except KeyError:\n",
    "                    fields[key] = np.array([val])\n",
    "\n",
    "        datos_SM_incidents = pd.DataFrame(dict([ (k,pd.Series(v)) for k,v in fields.items() ]))\n",
    "        \n",
    "#         datos_SM_incidents = pd.DataFrame([x[\"_source\"] for x in elastic_docs])\n",
    "        \n",
    "        datos_SM_incidents = datos_SM_incidents.rename(columns={'clr_bmc_location':'site_id'})\n",
    "        \n",
    "        if datos_SM_incidents.empty:\n",
    "            datos_SM_incidents=pd.DataFrame(columns=['site_id','resolved_time'])\n",
    "        \n",
    "        return datos_SM_incidents\n",
    "\n",
    "    except Exception as e:\n",
    "#         print(e)\n",
    "        return pd.DataFrame(columns=['site_id','resolved_time'])"
   ]
  },
  {
   "cell_type": "markdown",
   "metadata": {},
   "source": [
    "Realizando bucle hasta conseguir datos de servicemanager-incidentes o hasta la fecha actual para realizar la carga de datos"
   ]
  },
  {
   "cell_type": "code",
   "execution_count": 618,
   "metadata": {},
   "outputs": [],
   "source": [
    "def drop_invalid_values(df, fields=[], values = ['NA','',np.NaN,None],operator='or'):\n",
    "    fields = df.columns if fields==[] else fields\n",
    "    if operator=='or':\n",
    "        freduce = np.logical_or.reduce\n",
    "    elif operator=='and':\n",
    "        freduce = np.logical_and.reduce\n",
    "    else:\n",
    "        return\n",
    "    \n",
    "    df.drop(df[freduce([df[c].isin(values) for c in fields])].index,inplace=True)"
   ]
  },
  {
   "cell_type": "code",
   "execution_count": 619,
   "metadata": {},
   "outputs": [],
   "source": [
    "fec1=\"2021-04-01 00:00:00\"\n",
    "\n",
    "datos_CDD  = traerDDevices(fec1 , ahora_cdd)\n",
    "\n",
    "datos_logs= \"Buscado en cambium-DD desde  \" + fec1 +\" hasta \" + ahora_cdd\n",
    "\n",
    "if datos_CDD is None or datos_CDD.empty:\n",
    "    datos_logs = datos_logs +\"\\n No trajo datos en este rango de fecha. \"\n",
    "    pass\n",
    "else:\n",
    "    \n",
    "    drop_invalid_values(datos_CDD,['gestion.ptos_acceso','site_id','status'])\n",
    "    \n",
    "    datos_CDD  = datos_CDD.dropna(subset=['site_id'])\n",
    "\n",
    "    datos_CDD = datos_CDD.drop(datos_CDD[(datos_CDD['site_id']=='')].index)\n",
    "    datos_logs= datos_logs + \"\\n total reg.: \" + str(datos_CDD[\"site_id\"].size) + \"    viene con (registration_date,gestion.ptos_acceso,ip,site_id,mac,status)\"\n",
    "\n",
    "    #datos_CDD2 = datos_CDD[[\"site_id\",\"registration_date\", \"status\", \"gestion.ptos_acceso\"]]\n",
    "    datos_CDD2 = datos_CDD[[\"site_id\", \"status\"]]    #datos_CDD2 = datos_CDD2[[\"site_id\",\"registration_date\", \"status\", \"gestion.ptos_acceso\"]].groupby([\"site_id\", \"status\", \"gestion.ptos_acceso\"]).agg(['max']).reset_index()\n",
    "    datos_CDD2 = datos_CDD2[[\"site_id\",\"status\"]].groupby([\"site_id\"]).agg(['count']).reset_index()\n",
    "\n",
    "    datos_CDD2.columns = datos_CDD2.columns.droplevel(1)       \n",
    "    datos_logs = datos_logs +\"\\n se quitan los repetidos status=(offline, online, onboaring) total reg.: \" + str(datos_CDD2[\"site_id\"].size)\n",
    "\n",
    "\n",
    "#print (datos_logs)    # ojoooooo  cuando se pase a Produccion se quita esta linea"
   ]
  },
  {
   "cell_type": "code",
   "execution_count": 620,
   "metadata": {},
   "outputs": [],
   "source": [
    "fecha_max_bmc = fecha_ejecucion_bmc                \n",
    "#fecha_max_bmc = \"20210401200000\"  aqui nos dimos cuenta que el formato es distinto [GM]\n",
    "\n",
    "fecha_tope_bmc = (datetime.strptime(fecha_max_bmc, \"%Y%m%d%H%M%S\")+timedelta(minutes=59)-timedelta(seconds=1)).strftime(\"%Y%m%d%H%M%S\")\n",
    "\n",
    "#fecha_tope_bmc =  \"20210601200000\"\n",
    "datos_BMC = traerBMC(fecha_max_bmc,fecha_tope_bmc)"
   ]
  },
  {
   "cell_type": "code",
   "execution_count": 621,
   "metadata": {},
   "outputs": [],
   "source": [
    "datos_logs = datos_logs +\"\\n Busco en BMC desde \" + fecha_max_bmc+\", hasta \"+ fecha_tope_bmc\n",
    "\n",
    "fecha_max_inc = fecha_ejecucion_inc\n",
    "fecha_tope_inc = (datetime.strptime(fecha_max_inc, \"%Y-%m-%d\"'T'\"%H:%M:%S\")+timedelta(minutes=59)-timedelta(seconds=1)).strftime(\"%Y-%m-%d\"'T'\"%H:%M:%S\")\n",
    "#fecha_tope_inc = \"2021-06-01T20:00:00\"\n",
    "datos_SM_incidents = traeSMIncidentes(fecha_max_inc,fecha_tope_inc)"
   ]
  },
  {
   "cell_type": "code",
   "execution_count": 622,
   "metadata": {},
   "outputs": [],
   "source": [
    "datos_logs = datos_logs +\"\\n Busco en SMIncidentes desde \" + fecha_max_inc+ \", hasta \"+ fecha_tope_inc +\" y lo recorro hasta hoy \"\n",
    "\n",
    "if (datos_BMC is None or datos_BMC.empty) & (datos_SM_incidents is None or datos_SM_incidents.empty):\n",
    "    while (datos_BMC is None or datos_BMC.empty) and ((datetime.strptime(fecha_max_bmc[0:8], '%Y%m%d').strftime(\"%Y%m%d%H%M%S\")) < str(now.strftime(\"%Y%m%d%H%M%S\"))):\n",
    "        fecha_max_bmc = (datetime.strptime(fecha_max_bmc, \"%Y%m%d%H%M%S\")+timedelta(minutes=59)).strftime(\"%Y%m%d%H%M%S\")\n",
    "        fecha_tope_bmc = (datetime.strptime(fecha_tope_bmc, \"%Y%m%d%H%M%S\")+timedelta(minutes=59)).strftime(\"%Y%m%d%H%M%S\")\n",
    "        datos_BMC = traerBMC(fecha_max_bmc,fecha_tope_bmc)\n",
    "        datos_SM_incidents = traeSMIncidentes(fecha_max_inc,fecha_tope_inc)        \n",
    "else:\n",
    "    pass\n",
    "#datos_BMC\n",
    "#datos_BMC2 = traerBMC(\"2021-05-01T00:00:00\",\"2021-06-22T00:10:00\")\n",
    "#datos_BMC2 = traerBMC(\"20210401010000\",\"20210607200000\")\n",
    "# datos_SM_incidents = traeSMIncidentes(\"2021-05-01T00:00:00\",\"2021-06-22T00:10:00\")"
   ]
  },
  {
   "cell_type": "code",
   "execution_count": 623,
   "metadata": {},
   "outputs": [],
   "source": [
    "datos_SM_incidents.fillna({'resolved_time':'0'},inplace=True)  ##  ojooooooo aqui hay que ponerlo en 0  // 2021-04-01T05:50:00\n",
    "datos_SM_incidents_liberado = datos_SM_incidents[ (datos_SM_incidents[\"resolved_time\"]!=\"0\") ]\n",
    "datos_SM_incidents_liberado=datos_SM_incidents_liberado[['site_id','resolved_time'\n",
    "                                       ]].groupby(['site_id']).agg(['max']).reset_index()\n",
    "datos_SM_incidents_liberado.columns = datos_SM_incidents_liberado.columns.droplevel(1)"
   ]
  },
  {
   "cell_type": "code",
   "execution_count": 624,
   "metadata": {},
   "outputs": [],
   "source": [
    "nbmc=0\n",
    "if datos_BMC is None or datos_BMC.empty:\n",
    "    nbmc=0\n",
    "else: \n",
    "    nbmc=datos_BMC[\"site_id\"].size\n",
    "\n",
    "datos_BMC2 = datos_BMC.groupby(['site_id','fechahora','itsm_incident_id']).count().reset_index()  # no se para que es esta linea , solo veo que pone los demas campos en 0 , y creo que deberian de estar en 1\n",
    "datos_BMC2 = datos_BMC2.rename(columns={'nombreSede':'gestion.estadoCentro'})"
   ]
  },
  {
   "cell_type": "code",
   "execution_count": 625,
   "metadata": {},
   "outputs": [],
   "source": [
    "datos_BMC2.drop(columns=['severity','mc_host','@timestamp','mc_modhist','itsm_incident_status','mc_client_address','CLASS','mc_original_severity'],inplace=True)\n",
    "#datos_BMC2 = datos_BMC2.rename(columns={'fechahora' : 'estado'})"
   ]
  },
  {
   "cell_type": "code",
   "execution_count": 626,
   "metadata": {},
   "outputs": [],
   "source": [
    "datos_BMC = datos_BMC2\n",
    "datos_BMC.fillna({'itsm_incident_id':'0'},inplace=True)\n",
    "datos_BMC.replace('','0',inplace=True)\n",
    "\n",
    "\n",
    "datos_BMC=datos_BMC[['site_id','fechahora','itsm_incident_id'\n",
    "                                       ]].groupby(['site_id']).agg(['max']).reset_index()\n",
    "\n",
    "datos_BMC.columns = datos_BMC.columns.droplevel(1)"
   ]
  },
  {
   "cell_type": "code",
   "execution_count": 627,
   "metadata": {
    "scrolled": true
   },
   "outputs": [],
   "source": [
    "bmcX =[]\n",
    "smi=0\n",
    "if datos_SM_incidents_liberado is None or datos_SM_incidents_liberado.empty:\n",
    "    smi=0\n",
    "else: \n",
    "    smi=datos_SM_incidents_liberado[\"site_id\"].size\n",
    "    try:\n",
    "        bmcX  = pd.merge(datos_BMC, datos_SM_incidents_liberado , on=['site_id'],how='left')\n",
    "    except:\n",
    "        bmcX = pd.DataFrame()\n",
    "\n",
    "    \n",
    "datos_logs = datos_logs +\"\\n  total BMC: \"+ str(nbmc) +\"  y Total  SMIncidentes: \" + str(smi)\n",
    "#print (datos_logs)    \n",
    "\n",
    "\n",
    "if len(bmcX) >0:    #aqui se liberan los que vienen en SMI\n",
    "    bmcX.fillna({'resolved_time':'10a'},inplace=True)\n",
    "    datos_BMC = bmcX[bmcX[\"resolved_time\"]==\"10a\"]\n",
    "    datos_BMC.drop(columns=['resolved_time'],inplace=True)\n",
    "\n",
    "#datos_BMC"
   ]
  },
  {
   "cell_type": "markdown",
   "metadata": {},
   "source": [
    "## Lectura de estados\n",
    "* estos estados guardan el ultimo estado \"offline\" en que estuvo el centro \n"
   ]
  },
  {
   "cell_type": "code",
   "execution_count": 628,
   "metadata": {},
   "outputs": [],
   "source": [
    "total_docs = 10000\n",
    "try:\n",
    "    response = es.search(\n",
    "        index= \"edo_sitio-\" + indice,\n",
    "        body={\n",
    "               \"_source\": ['site_id','fechahora','itsm_incident_id']\n",
    "        },\n",
    "        size=total_docs\n",
    "    )    \n",
    "    elastic_docs = response[\"hits\"][\"hits\"]\n",
    "    fields = {}\n",
    "    for num, doc in enumerate(elastic_docs):\n",
    "        source_data = doc[\"_source\"]\n",
    "        for key, val in source_data.items():\n",
    "            try:\n",
    "                fields[key] = np.append(fields[key], val)\n",
    "            except KeyError:\n",
    "                fields[key] = np.array([val])\n",
    "\n",
    "    edo_sitio = pd.DataFrame(dict([ (k,pd.Series(v)) for k,v in fields.items() ]))\n",
    "    \n",
    "    if edo_sitio.empty:\n",
    "        edo_sitio = pd.DataFrame(columns=['site_id','fechahora','itsm_incident_id'])\n",
    "\n",
    "except Exception as e:\n",
    "#     print(e.message)\n",
    "    edo_sitio = pd.DataFrame(columns=['site_id','fechahora','itsm_incident_id'])\n",
    "    \n",
    "edo_sitio[\"fechahora\"] = fechaAhora\n",
    "#edo_sitio[\"itsm_incident_id\"]    = \"0\"\n",
    "\n",
    "#edo_sitio    "
   ]
  },
  {
   "cell_type": "code",
   "execution_count": 629,
   "metadata": {},
   "outputs": [],
   "source": [
    "try:\n",
    "    concat0 = pd.merge(datos_semilla, datos_CDD2 , on=['site_id'],how='inner')\n",
    "except Exception as e:\n",
    "    print(e.message)\n",
    "    concat0 = pd.DataFrame()\n",
    "\n",
    "\n",
    "datos_logs = datos_logs +\"\\n se cruza con SEMILLA  total reg.: \" + str(concat0[\"site_id\"].size)"
   ]
  },
  {
   "cell_type": "markdown",
   "metadata": {},
   "source": [
    "Haciendo merge entre semilla e incidentes"
   ]
  },
  {
   "cell_type": "code",
   "execution_count": 630,
   "metadata": {},
   "outputs": [
    {
     "name": "stdout",
     "output_type": "stream",
     "text": [
      "  ...... SMI= 0   y BMC=  11\n",
      " Conectados:  1181  desconectados:  12  total:  1193\n",
      "tienes registro .. todo_off\n"
     ]
    }
   ],
   "source": [
    "# esto es el deber ser, lo politicamente correcto \n",
    "completo =[]\n",
    "todos_off =[]\n",
    "if smi==0:     # si no hay incidentes, es decir centros habilitados \n",
    "    #entonces cruzo Semilla con los estados-BMC con left para que me queden los demas online\n",
    "    if nbmc>0:\n",
    "        # para colocar todos los offline cruzo BMC con edo_sitio y alli obtengo todos con un outer\n",
    "        todos_off = pd.merge(edo_sitio, datos_BMC, on=['site_id'],how='outer')\n",
    "        todos_off[\"gestion.estadoCentro\"]=\"DESCONECTADOS\"\n",
    "        todos_off.fillna({'fechahora_x':''},inplace=True)\n",
    "        todos_off.fillna({'fechahora_x':''},inplace=True)\n",
    "        \n",
    "        todos_off.fillna({'itsm_incident_id_x':'0'},inplace=True)\n",
    "        todos_off.fillna({'itsm_incident_id_y':'0'},inplace=True)\n",
    "        todos_off.fillna({'itsm_incident_id':'0'},inplace=True)\n",
    "        todos_off[\"itsm_incident_id\"] ='0'\n",
    "        todos_off[\"fechahora\"] = fechaAhora\n",
    "        \n",
    "        #todos_off[\"fechahora\"]  = todos_off[\"fechahora_y\"] + todos_off[\"fechahora_x\"]\n",
    "        for i in todos_off.index: \n",
    "            if todos_off[\"itsm_incident_id_x\"][i]=='0':\n",
    "                todos_off[\"itsm_incident_id\"][i] = todos_off[\"itsm_incident_id_y\"][i]\n",
    "            if todos_off[\"itsm_incident_id_y\"][i]=='0':\n",
    "                todos_off[\"itsm_incident_id\"][i] = todos_off[\"itsm_incident_id_x\"][i]\n",
    "                \n",
    "            if todos_off[\"fechahora_x\"][i]=='':\n",
    "                todos_off[\"fechahora\"][i] = todos_off[\"fechahora_y\"][i]\n",
    "            if todos_off[\"fechahora_y\"][i]=='':\n",
    "                todos_off[\"fechahora\"][i] = todos_off[\"fechahora_x\"][i]                             \n",
    "        \n",
    "        \n",
    "        todos_off.drop(columns=['fechahora_x','fechahora_y','itsm_incident_id_x','itsm_incident_id_y'],inplace=True)        \n",
    "        \n",
    "        # ahora lo cruzo con semilla \n",
    "        print (\"  ...... SMI=\" , smi, \"  y BMC= \", nbmc)\n",
    "        datos_logs = datos_logs +\"\\n\\n\\n en el cruce de los offline que son datos_BMC con edo_sitio tipo outer  total reg.: \" + str(todos_off[\"site_id\"].size)\n",
    "        completo  = pd.merge(concat0, todos_off, on=['site_id'],how='left')\n",
    "else:\n",
    "    completo  = concat0\n",
    "    completo[\"gestion.estadoCentro\"]=\"CONECTADOS\"\n",
    "    # si hay incidentes es decir se liberaron los centros digitales\n",
    "    # \n",
    "\n",
    "#print (datos_logs)\n",
    "#completo.to_excel(\"cdd_completo2.xlsx\")        \n",
    "\n",
    "completo['gestion.estadoCentro'].fillna('CONECTADOS',inplace=True)\n",
    "\n",
    "\n",
    "#completo \n",
    "conectados = 0\n",
    "desconectados = 0\n",
    "\n",
    "\n",
    "bb = completo[(completo[\"gestion.estadoCentro\"]==\"DESCONECTADOS\")].reset_index()\n",
    "aa = completo[(completo[\"gestion.estadoCentro\"]!=\"DESCONECTADOS\")].reset_index()\n",
    "\n",
    "conectados = aa[\"site_id\"].size\n",
    "desconectados = bb[\"site_id\"].size\n",
    "totales = desconectados + conectados\n",
    "print (\" Conectados: \" , conectados , \" desconectados: \", desconectados , \" total: \" , totales)\n",
    "#i=0\n",
    "#for index2 in todos_off:    \n",
    " #   print (i,\" reg. site_id: \" )\n",
    " #   print (index2)\n",
    " #   i=i+1\n",
    "    # df.loc[df['A'] > 2, 'B'] = new_val    ejemplo \n",
    "\n",
    "if len(todos_off)>0:\n",
    "    print (\"tienes registro .. todo_off\")\n",
    "else:    \n",
    "    print (\"NO  NOOOOO tienes registro .. todo_off\")\n",
    "    "
   ]
  },
  {
   "cell_type": "markdown",
   "metadata": {},
   "source": [
    "### Realizando inserción en ultimo estado del sitio"
   ]
  },
  {
   "cell_type": "code",
   "execution_count": 631,
   "metadata": {},
   "outputs": [
    {
     "name": "stdout",
     "output_type": "stream",
     "text": [
      "Fecha:  2021-07-15 11:26:14.765854 - Ult.Estado de los Centros Desconectados  insertadas en indice edo_sitio: 13\n"
     ]
    }
   ],
   "source": [
    "use_these_keys = ['site_id','gestion.estadoCentro','fechahora', 'itsm_incident_id']\n",
    "def doc_generator(df,use_these_keys):\n",
    "    df_iter = df.iterrows()\n",
    "    for index, document in df_iter:\n",
    "        yield {\n",
    "                \"_index\": \"edo_sitio-\" + indice, \n",
    "                \"_id\": f\"{'Estado-'+str(document['site_id'])}\",\n",
    "                \"_source\": filterKeys(document,use_these_keys),\n",
    "            }\n",
    "if len(todos_off)>0:        \n",
    "    salida = helpers.bulk(es, doc_generator(todos_off,use_these_keys))\n",
    "    print(\"Fecha: \", now,\"- Ult.Estado de los Centros Desconectados  insertadas en indice edo_sitio:\",salida[0])\n"
   ]
  },
  {
   "cell_type": "code",
   "execution_count": 86,
   "metadata": {},
   "outputs": [],
   "source": [
    "# es.indices.delete(index=\"edo_sitio-\" + parametros.mintic_concat_index, ignore=[400, 404])\n",
    "# aqui elimino todo el indice para poder ingresar los nuevos registros con los campos nuevos  GM"
   ]
  },
  {
   "cell_type": "markdown",
   "metadata": {},
   "source": [
    "Actualizando fecha de control de ejecución"
   ]
  },
  {
   "cell_type": "code",
   "execution_count": 632,
   "metadata": {},
   "outputs": [
    {
     "name": "stdout",
     "output_type": "stream",
     "text": [
      "actualizada fecha control de ejecucion: 2021-04-01T01:40:00\n"
     ]
    }
   ],
   "source": [
    "fecha_ejecucion_inc = (datetime.strptime(fecha_max_inc, \"%Y-%m-%d\"'T'\"%H:%M:%S\")+timedelta(minutes=10)).strftime(\"%Y-%m-%d\"'T'\"%H:%M:%S\")[0:15] + '0:00'    \n",
    "#fecha_ejecucion_inc = '2021-05-01T00:00:00'\n",
    "\n",
    "if fecha_ejecucion_inc > str(now.strftime(\"%Y-%m-%d\"'T'\"%H:%M:%S\"))[0:15] + '0:00':\n",
    "    fecha_ejecucion_inc = str(now.strftime(\"%Y-%m-%d\"'T'\"%H:%M:%S\"))[0:15] + '0:00'\n",
    "response = es.index(\n",
    "        index = parametros.mintic_control,\n",
    "        id = 'jerarquia_gestion_estado_incidentes',\n",
    "        body = { 'jerarquia_gestion_estado_incidentes': 'gestion_estado_incidentes','gestion.fechaControl' : fecha_ejecucion_inc}\n",
    ")\n",
    "print(\"actualizada fecha control de ejecucion:\",fecha_ejecucion_inc)\n"
   ]
  },
  {
   "cell_type": "code",
   "execution_count": 633,
   "metadata": {},
   "outputs": [
    {
     "name": "stdout",
     "output_type": "stream",
     "text": [
      "actualizada fecha control de ejecucion: 20210701003000\n"
     ]
    }
   ],
   "source": [
    "fecha_ejecucion_bmc = (datetime.strptime(fecha_max_bmc, \"%Y%m%d%H%M%S\")+timedelta(minutes=10)).strftime(\"%Y%m%d%H%M%S\")[0:11] + '000'    \n",
    "#fecha_ejecucion_bmc = '20210501000000'\n",
    "\n",
    "if fecha_ejecucion_bmc > str(now.strftime(\"%Y%m%d%H%M%S\"))[0:11] + '000':\n",
    "    fecha_ejecucion_bmc = str(now.strftime(\"%Y%m%d%H%M%S\"))[0:11] + '000'\n",
    "response = es.index(\n",
    "        index = parametros.mintic_control,\n",
    "        id = 'jerarquia_gestion_estado_bmc',\n",
    "        body = { 'jerarquia_gestion_estado_bmc': 'gestion_estado_bmc','gestion.fechaControl' : fecha_ejecucion_bmc}\n",
    ")\n",
    "print(\"actualizada fecha control de ejecucion:\",fecha_ejecucion_bmc)\n"
   ]
  },
  {
   "cell_type": "markdown",
   "metadata": {},
   "source": [
    "## 10.- insercion en el indice\n"
   ]
  },
  {
   "cell_type": "code",
   "execution_count": 634,
   "metadata": {},
   "outputs": [],
   "source": [
    "# primero INSERTAR FINAL\n",
    "completo.fillna({'fechahora':fechaAhora},inplace=True)\n",
    "completo.fillna({'gestion.estadoCentro':'CONECTADOS'},inplace=True)\n",
    "completo.fillna({'itsm_incident_id':0},inplace=True)\n",
    "\n",
    "try:\n",
    "    completo = completo.rename(columns={'id_Beneficiario' :  'gestion.estado.id_Beneficiario'\n",
    "                                                                ,'nombreSede':'gestion.estado.nombreSede'\n",
    "                                                                ,'site_id':'gestion.estado.site_id'\n",
    "                                                                ,'nombre_departamento':'gestion.estado.dptoGestion'\n",
    "                                                                ,'nombre_municipio':'gestion.estado.muniGestion'\n",
    "                                                                ,'nombre_centro_pob':'gestion.estado.nombre_centro_pob'\n",
    "                                                                ,'COD_ISO':'gestion.estado.COD_ISO'\n",
    "                                                                ,'codDanesede':'gestion.estado.codDanesede'\n",
    "                                                                ,'energiadesc':'gestion.estado.energiadesc'\n",
    "                                                                ,'DDA':'gestion.estado.DDA'\n",
    "                                                                ,'gestion.location':'gestion.estado.location'\n",
    "                                                                ,'estadoInstalacion':'gestion.estado.estadoInstalacion'\n",
    "                                                                ,'nombreInstitucionEd':'gestion.estado.nombreInstitucionEd'\n",
    "                                                                ,'matricula':'gestion.estado.matricula'\n",
    "                                                                ,'municipioPDET':'gestion.estado.municipioPDET'    \n",
    "                                        ,'cod_servicio':'gestion.estado.cod_servicio'\n",
    "                                        ,'codDaneMuni':'gestion.estado.codDaneMuni'\n",
    "                                        ,'codCentroPoblado':'gestion.estado.codCentroPoblado'\n",
    "                                        ,'codDaneInstitucionEdu':'gestion.estado.codDaneInstitucionEdu'\n",
    "                                        ,'tipoSitio':'gestion.estado.tipoSitio'\n",
    "                                        ,'detalleSitio':'gestion.estado.detalleSitio'\n",
    "                                        ,'energia':'gestion.estado.energia'\n",
    "                                        ,'region':'gestion.estado.region'\n",
    "                                        ,'grupoDesc' :'gestion.estado.grupoDesc'\n",
    "                                        })\n",
    "                \n",
    "    completo[\"gestion.fechaControl\"] =  ahora_cdd\n",
    "    completo[\"gestion.fecha\"]=  completo[\"gestion.fechaControl\"].str.split(\" \", n = 1, expand = True)[0]\n",
    "    completo[\"gestion.hora\"]=completo[\"gestion.fechaControl\"].str.split(\" \", n=1, expand=True)[1].str.split(\":\", n = 2, expand = True)[0]\n",
    "    completo[\"gestion.anyo\"] =  completo[\"gestion.fecha\"].str[0:4]\n",
    "    completo[\"gestion.mes\"]  =  completo[\"gestion.fecha\"].str[5:7]\n",
    "    completo[\"gestion.dia\"]  =  completo[\"gestion.fecha\"].str[8:10]\n",
    "    completo[\"gestion.totales.cantDev\"]  = totales  \n",
    "    completo[\"gestion.totales.cantDevConectados\"]  =  conectados\n",
    "    completo[\"gestion.totales.cantDevdesConectados\"]  =  desconectados\n",
    "    \n",
    "    \n",
    "except Exception as e:\n",
    "    completo = pd.DataFrame(columns=['gestion.estado.nombreSede', 'gestion.estado.DDA','gestion.estado.estadoInstalacion', 'gestion.estado.COD_ISO',\n",
    "   'gestion.estado.energia', 'gestion.estado.dptoGestion','gestion.estado.codCentroPoblado', 'gestion.estado.codDanesede',\n",
    "   'gestion.estado.tipoSitio', 'gestion.estado.codDaneMuni','gestion.estado.nombre_centro_pob', 'gestion.estado.site_id',\n",
    "   'gestion.estado.matricula', 'gestion.estado.energiadesc','gestion.estado.grupoDesc', 'gestion.estado.cod_servicio',\n",
    "   'gestion.estado.region', 'gestion.estado.detalleSitio','gestion.estado.muniGestion', 'gestion.estado.id_Beneficiario',\n",
    "   'gestion.estado.codDaneInstitucionEdu', 'gestion.estado.location','status', 'gestion.estadoCentro', 'itsm_incident_id', 'fechahora',\n",
    "   'gestion.fechaControl', 'gestion.fecha', 'gestion.hora', 'gestion.anyo','gestion.mes', 'gestion.dia', 'gestion.totales.cantDev',\n",
    "   'gestion.totales.cantDevConectados','gestion.totales.cantDevdesConectados'])\n",
    "    print(e.message)\n"
   ]
  },
  {
   "cell_type": "code",
   "execution_count": 635,
   "metadata": {},
   "outputs": [],
   "source": [
    "idx=completo[completo['gestion.estado.matricula']=='No aplica'].index\n",
    "\n",
    "completo.loc[idx,'gestion.estado.matricula']=0"
   ]
  },
  {
   "cell_type": "code",
   "execution_count": 636,
   "metadata": {},
   "outputs": [],
   "source": [
    "# insertando los datos en el indice \n",
    "\n",
    "use_these_keys = ['gestion.estado.id_Beneficiario'\n",
    "                  ,'gestion.estadoCentro'\n",
    "                  ,'gestion.estado.nombreSede'\n",
    "                  ,'gestion.estado.COD_ISO'\n",
    "                  ,'gestion.estado.codDanesede'\n",
    "                  ,'gestion.estado.nombre_centro_pob'\n",
    "                  ,'gestion.estado.site_id'\n",
    "                  ,'gestion.estado.dptoGestion'\n",
    "                  ,'gestion.estado.energiadesc'\n",
    "                  ,'gestion.estado.muniGestion'\n",
    "                  ,'gestion.estado.location'  \n",
    "                  ,'gestion.estado.DDA'\n",
    "                  ,'gestion.estado.nombreInstitucionEd'\n",
    "                  ,'gestion.estado.matricula'\n",
    "                  ,'gestion.estado.municipioPDET'    \n",
    "                  ,'gestion.fechaControl'\n",
    "                  ,'gestion.fecha'\n",
    "                  ,'gestion.anyo'\n",
    "                  ,'gestion.mes'\n",
    "                  ,'gestion.dia'\n",
    "                  ,'gestion.hora'\n",
    "                  ,'gestion.totales.cantDev'\n",
    "                  ,'gestion.totales.cantDevConectados'\n",
    "                  ,'gestion.totales.cantDevdesConectados'                   \n",
    "                  ,'gestion.estado.cod_servicio'\n",
    "                  ,'gestion.estado.codDaneMuni'                  \n",
    "                  ,'gestion.estado.codCentroPoblado'\n",
    "                  ,'gestion.estado.codDaneInstitucionEdu'\n",
    "                  ,'gestion.estado.tipoSitio'\n",
    "                  ,'gestion.estado.detalleSitio'\n",
    "                  ,'gestion.estado.energia'\n",
    "                  ,'gestion.estado.region'\n",
    "                  ,'gestion.estado.grupoDesc'\n",
    "                  ,'gestion.estado.estadoInstalacion'\n",
    "                  ,'@timestamp']                         "
   ]
  },
  {
   "cell_type": "code",
   "execution_count": 597,
   "metadata": {},
   "outputs": [
    {
     "name": "stdout",
     "output_type": "stream",
     "text": [
      "Fecha:  2021-07-15 10:22:18.276125 - Llamadas insertadas en indice principal: 1193\n"
     ]
    }
   ],
   "source": [
    "completo['@timestamp'] = now.isoformat()\n",
    "def doc_generator2(df,use_these_keys):\n",
    "    df_iter = df.iterrows()\n",
    "    for index, document in df_iter:\n",
    "        yield {\n",
    "                \"_index\": indice, \n",
    "                \"_id\": f\"{'Estado-'+str(+document['gestion.estado.id_Beneficiario']) + '-' + str(document['gestion.fechaControl'])}\",\n",
    "                \"_source\": filterKeys(document,use_these_keys),\n",
    "            }\n",
    "\n",
    "salida = helpers.bulk(es, doc_generator2(completo,use_these_keys))\n",
    "print(\"Fecha: \", now,\"- Llamadas insertadas en indice principal:\",salida[0])"
   ]
  }
 ],
 "metadata": {
  "kernelspec": {
   "display_name": "Python 3",
   "language": "python",
   "name": "python3"
  },
  "language_info": {
   "codemirror_mode": {
    "name": "ipython",
    "version": 3
   },
   "file_extension": ".py",
   "mimetype": "text/x-python",
   "name": "python",
   "nbconvert_exporter": "python",
   "pygments_lexer": "ipython3",
   "version": "3.8.5"
  }
 },
 "nbformat": 4,
 "nbformat_minor": 4
}
