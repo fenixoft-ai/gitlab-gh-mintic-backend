{
 "cells": [
  {
   "cell_type": "markdown",
   "metadata": {},
   "source": [
    "### ¿Qué hace este script?\n",
    "\n",
    "#### Calcula para cada AP: \n",
    "* usuarios.consumoUsuariosDescarga\n",
    "* usuarios.consumoUsuariosCarga\n",
    "* usuarios.consumoUsuarios, que es el resultado de la suma de los dos anteriores"
   ]
  },
  {
   "cell_type": "code",
   "execution_count": 1,
   "metadata": {},
   "outputs": [],
   "source": [
    "from elasticsearch import Elasticsearch, helpers\n",
    "from ssl import create_default_context\n",
    "import pandas as pd\n",
    "import numpy as np\n",
    "from datetime import datetime, timedelta\n",
    "import parametros\n",
    "import re"
   ]
  },
  {
   "cell_type": "markdown",
   "metadata": {},
   "source": [
    "## Conectando a ElasticSearch"
   ]
  },
  {
   "cell_type": "markdown",
   "metadata": {},
   "source": [
    "La ultima línea se utiliza para garantizar la ejecución de la consulta\n",
    "* timeout es el tiempo para cada ejecución\n",
    "* max_retries el número de intentos si la conexión falla\n",
    "* retry_on_timeout para activar los reitentos"
   ]
  },
  {
   "cell_type": "code",
   "execution_count": 2,
   "metadata": {},
   "outputs": [],
   "source": [
    "context = create_default_context(cafile=parametros.cafile)\n",
    "es = Elasticsearch(\n",
    "    parametros.servidor,\n",
    "    http_auth=(parametros.usuario_EC, parametros.password_EC),\n",
    "    scheme=\"https\",\n",
    "    port=parametros.puerto,\n",
    "    ssl_context=context,\n",
    "    timeout=60, max_retries=3, retry_on_timeout=True\n",
    ")"
   ]
  },
  {
   "cell_type": "markdown",
   "metadata": {},
   "source": [
    "### Calculando fechas para la ejecución"
   ]
  },
  {
   "cell_type": "markdown",
   "metadata": {},
   "source": [
    "* Se calculan las fechas para asociar al nombre del indice\n",
    "* fecha_hoy es usada para concatenar al nombre del indice principal previa inserción"
   ]
  },
  {
   "cell_type": "code",
   "execution_count": 3,
   "metadata": {},
   "outputs": [],
   "source": [
    "now = datetime.now()\n",
    "fecha_hoy = str(now.strftime(\"%Y.%m.%d\"))"
   ]
  },
  {
   "cell_type": "markdown",
   "metadata": {},
   "source": [
    "### nombre de indice donde se insertará"
   ]
  },
  {
   "cell_type": "code",
   "execution_count": 4,
   "metadata": {},
   "outputs": [],
   "source": [
    "indice = parametros.usuarios_mintic_concat_index\n",
    "indice_control = parametros.usuarios_mintic_control"
   ]
  },
  {
   "cell_type": "markdown",
   "metadata": {},
   "source": [
    "### Función para generar JSON compatible con ES"
   ]
  },
  {
   "cell_type": "code",
   "execution_count": 5,
   "metadata": {},
   "outputs": [],
   "source": [
    "def filterKeys(document):\n",
    "    return {key: document[key] for key in use_these_keys }"
   ]
  },
  {
   "cell_type": "markdown",
   "metadata": {},
   "source": [
    "### Trae la ultima fecha para control de ejecución"
   ]
  },
  {
   "cell_type": "markdown",
   "metadata": {},
   "source": [
    "Cuando en el rango de tiempo de la ejecución, no se insertan nuevos valores, las fecha maxima en indice mintic no aumenta, por tanto se usa esta fecha de control para garantizar que incremente el bucle de ejecución"
   ]
  },
  {
   "cell_type": "code",
   "execution_count": 6,
   "metadata": {},
   "outputs": [
    {
     "name": "stdout",
     "output_type": "stream",
     "text": [
      "ultima fecha para control de ejecucion: 2021-07-27 20:20:00\n"
     ]
    }
   ],
   "source": [
    "total_docs = 1\n",
    "try:\n",
    "    response = es.search(\n",
    "        index= indice_control,\n",
    "        body={\n",
    "               \"_source\": [\"usuarios.fechaControl\"],\n",
    "              \"query\": {\n",
    "                \"bool\": {\n",
    "                  \"filter\": [\n",
    "                  {\n",
    "                    \"exists\": {\n",
    "                      \"field\":\"jerarquia_usuarios_consumos\"\n",
    "                    }\n",
    "                  }\n",
    "                  ]\n",
    "                }\n",
    "              }\n",
    "        },\n",
    "        size=total_docs\n",
    "    )\n",
    "    #print(es.info())\n",
    "    elastic_docs = response[\"hits\"][\"hits\"]\n",
    "    fields = {}\n",
    "    for num, doc in enumerate(elastic_docs):\n",
    "        fecha_ejecucion = doc[\"_source\"]['usuarios.fechaControl']\n",
    "except:\n",
    "    fecha_ejecucion = '2021-05-01 00:00:00'\n",
    "if response[\"hits\"][\"hits\"] == []:\n",
    "    fecha_ejecucion = '2021-05-01 00:00:00'\n",
    "print(\"ultima fecha para control de ejecucion:\",fecha_ejecucion)"
   ]
  },
  {
   "cell_type": "markdown",
   "metadata": {},
   "source": [
    "### leyendo indice semilla-inventario"
   ]
  },
  {
   "cell_type": "markdown",
   "metadata": {},
   "source": [
    "En el script que ingesta semilla, trae la información de los centros de conexión administrados. Para el indice principal se requiere:\n",
    "* site_id como llave del centro de conexión.\n",
    "* Datos geográficos (Departamento, municipio, centro poblado, sede, energía, latitud, longitud, COD_ISO, id_Beneficiario, entre otros."
   ]
  },
  {
   "cell_type": "code",
   "execution_count": 7,
   "metadata": {},
   "outputs": [],
   "source": [
    "total_docs = 10000\n",
    "try:\n",
    "    response = es.search(\n",
    "        index= parametros.semilla_inventario_index,\n",
    "        body={\n",
    "               \"_source\": ['site_id','nombre_municipio', 'nombre_departamento', 'nombre_centro_pob', 'nombreSede' \n",
    "                           , 'energiadesc', 'latitud', 'longitud', 'COD_ISO','id_Beneficiario']\n",
    "        },\n",
    "        size=total_docs\n",
    "    )\n",
    "    #print(es.info())\n",
    "    elastic_docs = response[\"hits\"][\"hits\"]\n",
    "    fields = {}\n",
    "    for num, doc in enumerate(elastic_docs):\n",
    "        source_data = doc[\"_source\"]\n",
    "        for key, val in source_data.items():\n",
    "            try:\n",
    "                fields[key] = np.append(fields[key], val)\n",
    "            except KeyError:\n",
    "                fields[key] = np.array([val])\n",
    "\n",
    "    datos_semilla = pd.DataFrame(dict([ (k,pd.Series(v)) for k,v in fields.items() ])) #pd.DataFrame(fields)\n",
    "except:\n",
    "    exit()"
   ]
  },
  {
   "cell_type": "markdown",
   "metadata": {},
   "source": [
    "### Cambiando nombre de campos y generando location"
   ]
  },
  {
   "cell_type": "markdown",
   "metadata": {},
   "source": [
    "* Se valida latitud y longitud. Luego se calcula campo location\n",
    "* Se renombran los campos de semilla"
   ]
  },
  {
   "cell_type": "code",
   "execution_count": 8,
   "metadata": {},
   "outputs": [],
   "source": [
    "def get_location(x):\n",
    "    patron = re.compile('^(\\-?\\d+(\\.\\d+)?),\\s*(\\-?\\d+(\\.\\d+)?)$') #patrón que debe cumplir\n",
    "    if (not patron.match(x) is None):\n",
    "        return x.replace(',','.')\n",
    "    else:\n",
    "        #Código a ejecutar si las coordenadas no son válidas\n",
    "        return 'a'\n",
    "datos_semilla['latitud'] = datos_semilla['latitud'].apply(get_location)\n",
    "datos_semilla['longitud'] = datos_semilla['longitud'].apply(get_location)\n",
    "datos_semilla = datos_semilla.drop(datos_semilla[(datos_semilla[\"longitud\"]=='a') | (datos_semilla[\"latitud\"]=='a')].index)\n",
    "datos_semilla['usuarios.location'] = datos_semilla['latitud'] + ',' + datos_semilla['longitud']\n",
    "datos_semilla['usuarios.location']=datos_semilla['usuarios.location'].str.replace('a,a','')\n",
    "datos_semilla.drop(columns=['latitud','longitud'],inplace=True)"
   ]
  },
  {
   "cell_type": "code",
   "execution_count": 9,
   "metadata": {},
   "outputs": [],
   "source": [
    "datos_semilla = datos_semilla.rename(columns={'lugar_cod' : 'usuarios.centroDigitalUsuarios'\n",
    "                                            , 'nombre_municipio': 'usuarios.nombreMunicipio'\n",
    "                                            , 'nombre_departamento' : 'usuarios.nombreDepartamento'\n",
    "                                            , 'nombre_centro_pob': 'usuarios.localidad'\n",
    "                                            , 'nombreSede':'usuarios.nomCentroDigital'\n",
    "                                            , 'energiadesc' : 'usuarios.sistemaEnergia'\n",
    "                                            , 'COD_ISO' : 'usuarios.codISO'\n",
    "                                            , 'id_Beneficiario' : 'usuarios.idBeneficiario'})"
   ]
  },
  {
   "cell_type": "markdown",
   "metadata": {},
   "source": [
    "Se descartan los registros que tengan la latitud y longitud vacía o no valida"
   ]
  },
  {
   "cell_type": "code",
   "execution_count": 10,
   "metadata": {},
   "outputs": [],
   "source": [
    "datos_semilla = datos_semilla.drop(datos_semilla[(datos_semilla[\"usuarios.location\"]=='')].index)"
   ]
  },
  {
   "cell_type": "markdown",
   "metadata": {},
   "source": [
    "### leyendo indice cambium-devicedevices"
   ]
  },
  {
   "cell_type": "markdown",
   "metadata": {},
   "source": [
    "De esta formas se asocia las MAC de dispositivos de red INDOOR y OUTDOOR\n",
    "* site_id para cruzar con las misma llave de semilla.\n",
    "* datos del dispositivo: mac, status, ip.\n",
    "* ap_group para identificar si la conexión es indoor/outdoor"
   ]
  },
  {
   "cell_type": "code",
   "execution_count": 11,
   "metadata": {},
   "outputs": [],
   "source": [
    "total_docs = 30000\n",
    "try:\n",
    "    response = es.search(\n",
    "        index= parametros.cambium_d_d_index,\n",
    "        body={\n",
    "                    \"_source\": [\"site_id\",\"mac\",\"status\",\"ip\",\"ap_group\"]\n",
    "                  , \"query\": {\n",
    "                    \"match_all\": {}\n",
    "                  }\n",
    "        },\n",
    "        size=total_docs\n",
    "    )\n",
    "    #print(es.info())\n",
    "    elastic_docs = response[\"hits\"][\"hits\"]\n",
    "    fields = {}\n",
    "    for num, doc in enumerate(elastic_docs):\n",
    "        source_data = doc[\"_source\"]\n",
    "        for key, val in source_data.items():\n",
    "            try:\n",
    "                fields[key] = np.append(fields[key], val)\n",
    "            except KeyError:\n",
    "                fields[key] = np.array([val])\n",
    "\n",
    "    datos_dev = pd.DataFrame(dict([ (k,pd.Series(v)) for k,v in fields.items() ])) #pd.DataFrame(fields)\n",
    "except:\n",
    "    exit()"
   ]
  },
  {
   "cell_type": "markdown",
   "metadata": {},
   "source": [
    "Se descartan registros con site_id vacios ya que no cruzarán en el merge y se limpian los NaN del dataframe."
   ]
  },
  {
   "cell_type": "code",
   "execution_count": 12,
   "metadata": {},
   "outputs": [],
   "source": [
    "datos_dev.dropna(subset=['site_id'], inplace=True)\n",
    "datos_dev.fillna('', inplace=True)\n",
    "datos_dev = datos_dev.drop(datos_dev[(datos_dev['site_id']=='')].index)"
   ]
  },
  {
   "cell_type": "markdown",
   "metadata": {},
   "source": [
    "Se corrigen datos de ap group con formato no valido"
   ]
  },
  {
   "cell_type": "code",
   "execution_count": 13,
   "metadata": {},
   "outputs": [],
   "source": [
    "datos_dev['ap_group'] = datos_dev['ap_group'].str.split(\"-\", n = 1, expand = True)[0]\n",
    "datos_dev['ap_group'] = datos_dev['ap_group'].str.split(\"_\", n = 1, expand = True)[0]\n",
    "datos_dev = datos_dev.drop(datos_dev[(datos_dev['ap_group']=='')].index)"
   ]
  },
  {
   "cell_type": "markdown",
   "metadata": {},
   "source": [
    "Se toman solo los datos unicos con site_id y mac."
   ]
  },
  {
   "cell_type": "code",
   "execution_count": 14,
   "metadata": {},
   "outputs": [],
   "source": [
    "#datos_dev.drop_duplicates(subset=['site_id','mac'],inplace=True)\n",
    "datos_dev = datos_dev.drop_duplicates('mac')"
   ]
  },
  {
   "cell_type": "markdown",
   "metadata": {},
   "source": [
    "Se cambia el nombre a la mac del dispositivo de red para no confundir con la de dispositivos de usuario "
   ]
  },
  {
   "cell_type": "code",
   "execution_count": 15,
   "metadata": {},
   "outputs": [],
   "source": [
    "datos_dev= datos_dev.rename(columns={'mac' : 'usuarios.macRed','ap_group' : 'usuarios.apGroup'})"
   ]
  },
  {
   "cell_type": "markdown",
   "metadata": {},
   "source": [
    "## Se lee la información de cambium device client"
   ]
  },
  {
   "cell_type": "markdown",
   "metadata": {},
   "source": [
    " Se toma los valores de dispositivos y su desempeño. De esta lectura se toma el consumo de carga y descarga para cada dispositivo de usuario en una fecha dada. \n",
    " * mac corresponde al dispositivo de usuario.\n",
    " * ap_mac corresponde al dispositivo de red.\n",
    " * timestamp es la fecha y hora de la medición\n",
    " * radio.* volumen de datos descargados(r) y cargados(t)\n"
   ]
  },
  {
   "cell_type": "code",
   "execution_count": 17,
   "metadata": {},
   "outputs": [],
   "source": [
    "def traeRadio(fecha_max,fecha_tope):\n",
    "    ttotal_docs = 100000\n",
    "    response = es.search(\n",
    "        index= 'all-'+parametros.cambium_d_c_index,\n",
    "        body={\n",
    "            \"_source\": ['mac', 'ap_mac', 'radio.band', 'radio.rx_bytes', 'radio.tx_bytes'\n",
    "                  ,'fecha_control']\n",
    "              , \"query\": {\n",
    "                  \"range\": {\n",
    "                    \"fecha_control\": {\n",
    "                      \"gte\": fecha_max,\n",
    "                      \"lt\": fecha_tope\n",
    "                      #\"gte\": \"2021-05-26 15:00:00\",\n",
    "                      #\"lt\": \"2021-05-26 15:10:00\"  \n",
    "                    }\n",
    "                  }\n",
    "              }\n",
    "        },\n",
    "        size=total_docs\n",
    "    )\n",
    "    elastic_docs = response[\"hits\"][\"hits\"]\n",
    "    fields = {}\n",
    "    for num, doc in enumerate(elastic_docs):\n",
    "        source_data = doc[\"_source\"]\n",
    "        for key, val in source_data.items():\n",
    "            try:\n",
    "                fields[key] = np.append(fields[key], val)\n",
    "            except KeyError:\n",
    "                fields[key] = np.array([val])\n",
    "\n",
    "    return pd.DataFrame(dict([ (k,pd.Series(v)) for k,v in fields.items() ]))"
   ]
  },
  {
   "cell_type": "markdown",
   "metadata": {},
   "source": [
    "### Se ejecuta consulta"
   ]
  },
  {
   "cell_type": "markdown",
   "metadata": {},
   "source": [
    "* Se calcula rango en base a la fecha de control. Para este caso es de 10 minutos.\n",
    "* Se ejecuta la función de consulta con el rango de fechas.\n",
    "* Si no retorna datos se incrementa el rango y se ejecuta nuevamente. Este proceso se repite hasta conseguir datos o hasta que el rango de ejecución alcance la fecha y hora actual."
   ]
  },
  {
   "cell_type": "code",
   "execution_count": 21,
   "metadata": {},
   "outputs": [],
   "source": [
    "fecha_max_mintic = fecha_ejecucion\n",
    "\n",
    "fecha_tope_mintic = (datetime.strptime(fecha_max_mintic, '%Y-%m-%d %H:%M:%S')+timedelta(minutes=10)-timedelta(seconds=1)).strftime(\"%Y-%m-%d %H:%M:%S\")\n",
    "datos_performance = traeRadio(fecha_max_mintic,fecha_tope_mintic)"
   ]
  },
  {
   "cell_type": "code",
   "execution_count": 22,
   "metadata": {},
   "outputs": [
    {
     "data": {
      "text/html": [
       "<div>\n",
       "<style scoped>\n",
       "    .dataframe tbody tr th:only-of-type {\n",
       "        vertical-align: middle;\n",
       "    }\n",
       "\n",
       "    .dataframe tbody tr th {\n",
       "        vertical-align: top;\n",
       "    }\n",
       "\n",
       "    .dataframe thead th {\n",
       "        text-align: right;\n",
       "    }\n",
       "</style>\n",
       "<table border=\"1\" class=\"dataframe\">\n",
       "  <thead>\n",
       "    <tr style=\"text-align: right;\">\n",
       "      <th></th>\n",
       "      <th>ap_mac</th>\n",
       "      <th>fecha_control</th>\n",
       "      <th>mac</th>\n",
       "      <th>radio.band</th>\n",
       "      <th>radio.rx_bytes</th>\n",
       "      <th>radio.tx_bytes</th>\n",
       "    </tr>\n",
       "  </thead>\n",
       "  <tbody>\n",
       "    <tr>\n",
       "      <th>0</th>\n",
       "      <td>BC:E6:7C:5B:7D:4B</td>\n",
       "      <td>2021-07-27 20:26:00</td>\n",
       "      <td>D0:FF:98:A6:DE:E8</td>\n",
       "      <td>2.4GHz</td>\n",
       "      <td>3448843</td>\n",
       "      <td>46728905</td>\n",
       "    </tr>\n",
       "    <tr>\n",
       "      <th>1</th>\n",
       "      <td>BC:E6:7C:EF:FC:C4</td>\n",
       "      <td>2021-07-27 20:26:00</td>\n",
       "      <td>06:5B:D2:59:0D:D9</td>\n",
       "      <td>2.4GHz</td>\n",
       "      <td>1702374</td>\n",
       "      <td>14128459</td>\n",
       "    </tr>\n",
       "    <tr>\n",
       "      <th>2</th>\n",
       "      <td>BC:E6:7C:5B:B0:01</td>\n",
       "      <td>2021-07-27 20:26:00</td>\n",
       "      <td>D4:63:C6:F8:CA:94</td>\n",
       "      <td>2.4GHz</td>\n",
       "      <td>148942</td>\n",
       "      <td>35757</td>\n",
       "    </tr>\n",
       "    <tr>\n",
       "      <th>3</th>\n",
       "      <td>BC:E6:7C:5B:7D:4B</td>\n",
       "      <td>2021-07-27 20:26:00</td>\n",
       "      <td>56:69:32:E2:A7:1C</td>\n",
       "      <td>5GHz</td>\n",
       "      <td>5279318</td>\n",
       "      <td>183060300</td>\n",
       "    </tr>\n",
       "    <tr>\n",
       "      <th>4</th>\n",
       "      <td>58:C1:7A:E8:76:08</td>\n",
       "      <td>2021-07-27 20:26:00</td>\n",
       "      <td>70:C9:4E:5F:CB:B3</td>\n",
       "      <td>2.4GHz</td>\n",
       "      <td>14244898</td>\n",
       "      <td>124975430</td>\n",
       "    </tr>\n",
       "    <tr>\n",
       "      <th>...</th>\n",
       "      <td>...</td>\n",
       "      <td>...</td>\n",
       "      <td>...</td>\n",
       "      <td>...</td>\n",
       "      <td>...</td>\n",
       "      <td>...</td>\n",
       "    </tr>\n",
       "    <tr>\n",
       "      <th>4006</th>\n",
       "      <td>BC:A9:93:0C:7C:2E</td>\n",
       "      <td>2021-07-27 20:26:00</td>\n",
       "      <td>56:F9:9D:B5:31:EC</td>\n",
       "      <td>2.4GHz</td>\n",
       "      <td>33085</td>\n",
       "      <td>28160</td>\n",
       "    </tr>\n",
       "    <tr>\n",
       "      <th>4007</th>\n",
       "      <td>BC:A9:93:0C:7A:ED</td>\n",
       "      <td>2021-07-27 20:26:00</td>\n",
       "      <td>A4:6C:F1:5A:28:C0</td>\n",
       "      <td>2.4GHz</td>\n",
       "      <td>281267</td>\n",
       "      <td>8302415</td>\n",
       "    </tr>\n",
       "    <tr>\n",
       "      <th>4008</th>\n",
       "      <td>BC:A9:93:0C:7A:ED</td>\n",
       "      <td>2021-07-27 20:26:00</td>\n",
       "      <td>BC:98:DF:6B:EB:ED</td>\n",
       "      <td>2.4GHz</td>\n",
       "      <td>9671</td>\n",
       "      <td>4254</td>\n",
       "    </tr>\n",
       "    <tr>\n",
       "      <th>4009</th>\n",
       "      <td>BC:A9:93:0C:7A:F5</td>\n",
       "      <td>2021-07-27 20:26:00</td>\n",
       "      <td>20:32:6C:A7:58:44</td>\n",
       "      <td>2.4GHz</td>\n",
       "      <td>7165490</td>\n",
       "      <td>81434787</td>\n",
       "    </tr>\n",
       "    <tr>\n",
       "      <th>4010</th>\n",
       "      <td>BC:E6:7C:5D:20:8A</td>\n",
       "      <td>2021-07-27 20:26:00</td>\n",
       "      <td>24:35:23:46:4D:15</td>\n",
       "      <td>2.4GHz</td>\n",
       "      <td>4028762</td>\n",
       "      <td>8483801</td>\n",
       "    </tr>\n",
       "  </tbody>\n",
       "</table>\n",
       "<p>4011 rows × 6 columns</p>\n",
       "</div>"
      ],
      "text/plain": [
       "                 ap_mac        fecha_control                mac radio.band  \\\n",
       "0     BC:E6:7C:5B:7D:4B  2021-07-27 20:26:00  D0:FF:98:A6:DE:E8     2.4GHz   \n",
       "1     BC:E6:7C:EF:FC:C4  2021-07-27 20:26:00  06:5B:D2:59:0D:D9     2.4GHz   \n",
       "2     BC:E6:7C:5B:B0:01  2021-07-27 20:26:00  D4:63:C6:F8:CA:94     2.4GHz   \n",
       "3     BC:E6:7C:5B:7D:4B  2021-07-27 20:26:00  56:69:32:E2:A7:1C       5GHz   \n",
       "4     58:C1:7A:E8:76:08  2021-07-27 20:26:00  70:C9:4E:5F:CB:B3     2.4GHz   \n",
       "...                 ...                  ...                ...        ...   \n",
       "4006  BC:A9:93:0C:7C:2E  2021-07-27 20:26:00  56:F9:9D:B5:31:EC     2.4GHz   \n",
       "4007  BC:A9:93:0C:7A:ED  2021-07-27 20:26:00  A4:6C:F1:5A:28:C0     2.4GHz   \n",
       "4008  BC:A9:93:0C:7A:ED  2021-07-27 20:26:00  BC:98:DF:6B:EB:ED     2.4GHz   \n",
       "4009  BC:A9:93:0C:7A:F5  2021-07-27 20:26:00  20:32:6C:A7:58:44     2.4GHz   \n",
       "4010  BC:E6:7C:5D:20:8A  2021-07-27 20:26:00  24:35:23:46:4D:15     2.4GHz   \n",
       "\n",
       "      radio.rx_bytes  radio.tx_bytes  \n",
       "0            3448843        46728905  \n",
       "1            1702374        14128459  \n",
       "2             148942           35757  \n",
       "3            5279318       183060300  \n",
       "4           14244898       124975430  \n",
       "...              ...             ...  \n",
       "4006           33085           28160  \n",
       "4007          281267         8302415  \n",
       "4008            9671            4254  \n",
       "4009         7165490        81434787  \n",
       "4010         4028762         8483801  \n",
       "\n",
       "[4011 rows x 6 columns]"
      ]
     },
     "execution_count": 22,
     "metadata": {},
     "output_type": "execute_result"
    }
   ],
   "source": [
    "# datos_performance"
   ]
  },
  {
   "cell_type": "code",
   "execution_count": 24,
   "metadata": {},
   "outputs": [],
   "source": [
    "if datos_performance is None or datos_performance.empty:\n",
    "    while (datos_performance is None or datos_performance.empty) and ((datetime.strptime(fecha_max_mintic[0:10], '%Y-%m-%d').strftime(\"%Y-%m-%d %H:%M:%S\")) < str(now.strftime(\"%Y-%m-%d %H:%M:%S\"))):\n",
    "        fecha_max_mintic = (datetime.strptime(fecha_max_mintic, '%Y-%m-%d %H:%M:%S')+timedelta(minutes=10)).strftime(\"%Y-%m-%d %H:%M:%S\")\n",
    "        fecha_tope_mintic = (datetime.strptime(fecha_tope_mintic, '%Y-%m-%d %H:%M:%S')+timedelta(minutes=10)).strftime(\"%Y-%m-%d %H:%M:%S\")\n",
    "        datos_performance = traeRadio(fecha_max_mintic,fecha_tope_mintic)\n",
    "else:\n",
    "    pass"
   ]
  },
  {
   "cell_type": "markdown",
   "metadata": {},
   "source": [
    "* Se calcula fecha control.\n",
    "* Se toma la maxima medición de radios(rx y tx) para cada AP y banda.\n",
    "* Se suman los radios agrupando por AP y fecha control\n",
    "* Se convierten a Gb los resultados"
   ]
  },
  {
   "cell_type": "code",
   "execution_count": 19,
   "metadata": {},
   "outputs": [],
   "source": [
    "try:  \n",
    "    datos_performance['fecha_control'] = datos_performance[\"fecha_control\"].str[0:-4] + '0:00'\n",
    "    datos_performance.replace('','0',inplace=True)\n",
    "    datos_performance.fillna({'radio.rx_bytes':0,'radio.tx_bytes':0},inplace=True)\n",
    "    datos_performance['radio.rx_bytes'] = datos_performance['radio.rx_bytes'].astype(float)\n",
    "    datos_performance['radio.tx_bytes'] = datos_performance['radio.tx_bytes'].astype(float)\n",
    "    \n",
    "    datos_performance = datos_performance.groupby(['ap_mac', 'fecha_control', 'mac', 'radio.band']).agg(['max']).reset_index()\n",
    "    datos_performance.columns = datos_performance.columns.droplevel(1)\n",
    "    datos_performance = datos_performance[['ap_mac'\n",
    "                                         , 'fecha_control'\n",
    "                                         , 'radio.rx_bytes'\n",
    "                                         , 'radio.tx_bytes']].groupby(['ap_mac'\n",
    "                                                                     , 'fecha_control']).agg(['sum']).reset_index()\n",
    "    datos_performance.columns = datos_performance.columns.droplevel(1)\n",
    "    datos_performance = datos_performance.rename(columns={'radio.rx_bytes': 'usuarios.consumoUsuariosDescarga_aux'\n",
    "                                                     , 'radio.tx_bytes':'usuarios.consumoUsuariosCarga_aux'})    \n",
    "    \n",
    "    \n",
    "    datos_performance['usuarios.consumoUsuariosDescarga'] = round((datos_performance['usuarios.consumoUsuariosDescarga_aux']/float(1<<30)),6)\n",
    "    datos_performance['usuarios.consumoUsuariosCarga'] = round((datos_performance['usuarios.consumoUsuariosCarga_aux']/float(1<<30)),6)\n",
    "    datos_performance['usuarios.consumoUsuarios'] = datos_performance['usuarios.consumoUsuariosDescarga'] + datos_performance['usuarios.consumoUsuariosCarga']\n",
    "    datos_performance['usuarios.consumoUsuarios'] = round(datos_performance['usuarios.consumoUsuarios'],6)\n",
    "    datos_performance = datos_performance.rename(columns={'ap_mac':'usuarios.macRed'})\n",
    "    \n",
    "    datos_performance = pd.merge(datos_performance,datos_dev[['site_id','usuarios.macRed','usuarios.apGroup']],on='usuarios.macRed', how='left')\n",
    "    \n",
    "    aux_performance = pd.merge(datos_performance,  datos_semilla, on='site_id',how='inner')\n",
    "    aux_performance.fillna({'usuarios.consumoUsuariosDescarga':0,\n",
    "                              'usuarios.consumoUsuariosCarga':0,\n",
    "                              'usuarios.consumoUsuarios':0,\n",
    "                              'usuarios.apGroup':'No identificado'},inplace=True)\n",
    "    aux_performance = aux_performance.rename(columns={'fecha_control':'usuarios.fechaControl'\n",
    "                                                           ,'site_id' : 'usuarios.siteID'})\n",
    "    \n",
    "    aux_performance[\"usuarios.fecha\"] = aux_performance[\"usuarios.fechaControl\"].str.split(\" \", n = 1, expand = True)[0]\n",
    "    aux_performance[\"usuarios.anyo\"] = aux_performance[\"usuarios.fecha\"].str[0:4]\n",
    "    aux_performance[\"usuarios.mes\"] = aux_performance[\"usuarios.fecha\"].str[5:7]\n",
    "    aux_performance[\"usuarios.dia\"] = aux_performance[\"usuarios.fecha\"].str[8:10]\n",
    "    aux_performance[\"usuarios.hora\"] = aux_performance[\"usuarios.fechaControl\"].str.split(\" \", n = 1, expand = True)[1].str.split(\":\", n = 2, expand = True)[0]\n",
    "    aux_performance[\"usuarios.minuto\"] = aux_performance[\"usuarios.fechaControl\"].str.split(\" \", n = 1, expand = True)[1].str.split(\":\", n = 2, expand = True)[1]\n",
    "    \n",
    "    aux_performance['nombreDepartamento'] = aux_performance['usuarios.nombreDepartamento']\n",
    "    aux_performance['nombreMunicipio'] = aux_performance['usuarios.nombreMunicipio']\n",
    "    aux_performance['idBeneficiario'] = aux_performance['usuarios.idBeneficiario']\n",
    "    aux_performance['fecha'] = aux_performance['usuarios.fecha']\n",
    "    aux_performance['anyo'] = aux_performance['usuarios.anyo']\n",
    "    aux_performance['mes'] = aux_performance['usuarios.mes']\n",
    "    aux_performance['dia'] = aux_performance['usuarios.dia']\n",
    "except:\n",
    "    pass"
   ]
  },
  {
   "cell_type": "code",
   "execution_count": 20,
   "metadata": {},
   "outputs": [
    {
     "data": {
      "text/html": [
       "<div>\n",
       "<style scoped>\n",
       "    .dataframe tbody tr th:only-of-type {\n",
       "        vertical-align: middle;\n",
       "    }\n",
       "\n",
       "    .dataframe tbody tr th {\n",
       "        vertical-align: top;\n",
       "    }\n",
       "\n",
       "    .dataframe thead th {\n",
       "        text-align: right;\n",
       "    }\n",
       "</style>\n",
       "<table border=\"1\" class=\"dataframe\">\n",
       "  <thead>\n",
       "    <tr style=\"text-align: right;\">\n",
       "      <th></th>\n",
       "      <th>usuarios.macRed</th>\n",
       "      <th>fecha_control</th>\n",
       "      <th>usuarios.consumoUsuariosDescarga_aux</th>\n",
       "      <th>usuarios.consumoUsuariosCarga_aux</th>\n",
       "      <th>usuarios.consumoUsuariosDescarga</th>\n",
       "      <th>usuarios.consumoUsuariosCarga</th>\n",
       "      <th>usuarios.consumoUsuarios</th>\n",
       "      <th>site_id</th>\n",
       "      <th>usuarios.apGroup</th>\n",
       "    </tr>\n",
       "  </thead>\n",
       "  <tbody>\n",
       "    <tr>\n",
       "      <th>0</th>\n",
       "      <td>58:C1:7A:0A:9B:04</td>\n",
       "      <td>2021-07-27 20:20:00</td>\n",
       "      <td>150584334.0</td>\n",
       "      <td>1.411438e+09</td>\n",
       "      <td>0.140243</td>\n",
       "      <td>1.314504</td>\n",
       "      <td>1.454747</td>\n",
       "      <td>32428-ZGYO495</td>\n",
       "      <td>INDOOR</td>\n",
       "    </tr>\n",
       "    <tr>\n",
       "      <th>1</th>\n",
       "      <td>58:C1:7A:0A:9B:2C</td>\n",
       "      <td>2021-07-27 20:20:00</td>\n",
       "      <td>12795997.0</td>\n",
       "      <td>1.928964e+08</td>\n",
       "      <td>0.011917</td>\n",
       "      <td>0.179649</td>\n",
       "      <td>0.191566</td>\n",
       "      <td>32447-ZGYO451</td>\n",
       "      <td>INDOOR</td>\n",
       "    </tr>\n",
       "    <tr>\n",
       "      <th>2</th>\n",
       "      <td>58:C1:7A:0A:9B:7C</td>\n",
       "      <td>2021-07-27 20:20:00</td>\n",
       "      <td>10851802.0</td>\n",
       "      <td>2.793650e+08</td>\n",
       "      <td>0.010107</td>\n",
       "      <td>0.260179</td>\n",
       "      <td>0.270286</td>\n",
       "      <td>31645-ZGYO322</td>\n",
       "      <td>INDOOR</td>\n",
       "    </tr>\n",
       "    <tr>\n",
       "      <th>3</th>\n",
       "      <td>58:C1:7A:0A:9B:AD</td>\n",
       "      <td>2021-07-27 20:20:00</td>\n",
       "      <td>2695730.0</td>\n",
       "      <td>5.123264e+07</td>\n",
       "      <td>0.002511</td>\n",
       "      <td>0.047714</td>\n",
       "      <td>0.050225</td>\n",
       "      <td>32414-ZGYO452</td>\n",
       "      <td>INDOOR</td>\n",
       "    </tr>\n",
       "    <tr>\n",
       "      <th>4</th>\n",
       "      <td>58:C1:7A:0A:C1:E1</td>\n",
       "      <td>2021-07-27 20:20:00</td>\n",
       "      <td>37648060.0</td>\n",
       "      <td>7.741096e+08</td>\n",
       "      <td>0.035062</td>\n",
       "      <td>0.720946</td>\n",
       "      <td>0.756008</td>\n",
       "      <td>31565-ZGYO325</td>\n",
       "      <td>INDOOR</td>\n",
       "    </tr>\n",
       "    <tr>\n",
       "      <th>...</th>\n",
       "      <td>...</td>\n",
       "      <td>...</td>\n",
       "      <td>...</td>\n",
       "      <td>...</td>\n",
       "      <td>...</td>\n",
       "      <td>...</td>\n",
       "      <td>...</td>\n",
       "      <td>...</td>\n",
       "      <td>...</td>\n",
       "    </tr>\n",
       "    <tr>\n",
       "      <th>1399</th>\n",
       "      <td>BC:E6:7C:EF:FE:3A</td>\n",
       "      <td>2021-07-27 20:20:00</td>\n",
       "      <td>3789614.0</td>\n",
       "      <td>3.202446e+07</td>\n",
       "      <td>0.003529</td>\n",
       "      <td>0.029825</td>\n",
       "      <td>0.033354</td>\n",
       "      <td>47609-ZGYO881</td>\n",
       "      <td>OUTDOOR</td>\n",
       "    </tr>\n",
       "    <tr>\n",
       "      <th>1400</th>\n",
       "      <td>BC:E6:7C:EF:FE:3D</td>\n",
       "      <td>2021-07-27 20:20:00</td>\n",
       "      <td>20869168.0</td>\n",
       "      <td>7.191197e+08</td>\n",
       "      <td>0.019436</td>\n",
       "      <td>0.669732</td>\n",
       "      <td>0.689168</td>\n",
       "      <td>48636-ZGYO154</td>\n",
       "      <td>OUTDOOR</td>\n",
       "    </tr>\n",
       "    <tr>\n",
       "      <th>1401</th>\n",
       "      <td>BC:E6:7C:EF:FE:4A</td>\n",
       "      <td>2021-07-27 20:20:00</td>\n",
       "      <td>8995395.0</td>\n",
       "      <td>1.141955e+06</td>\n",
       "      <td>0.008378</td>\n",
       "      <td>0.001064</td>\n",
       "      <td>0.009442</td>\n",
       "      <td>48674-ZGYO152</td>\n",
       "      <td>OUTDOOR</td>\n",
       "    </tr>\n",
       "    <tr>\n",
       "      <th>1402</th>\n",
       "      <td>BC:E6:7C:EF:FE:4C</td>\n",
       "      <td>2021-07-27 20:20:00</td>\n",
       "      <td>58336301.0</td>\n",
       "      <td>1.931102e+08</td>\n",
       "      <td>0.054330</td>\n",
       "      <td>0.179848</td>\n",
       "      <td>0.234178</td>\n",
       "      <td>48317-ZZZY094</td>\n",
       "      <td>OUTDOOR</td>\n",
       "    </tr>\n",
       "    <tr>\n",
       "      <th>1403</th>\n",
       "      <td>BC:E6:7C:EF:FE:4D</td>\n",
       "      <td>2021-07-27 20:20:00</td>\n",
       "      <td>23157.0</td>\n",
       "      <td>2.555600e+04</td>\n",
       "      <td>0.000022</td>\n",
       "      <td>0.000024</td>\n",
       "      <td>0.000046</td>\n",
       "      <td>73791-ZZZY213</td>\n",
       "      <td>OUTDOOR</td>\n",
       "    </tr>\n",
       "  </tbody>\n",
       "</table>\n",
       "<p>1404 rows × 9 columns</p>\n",
       "</div>"
      ],
      "text/plain": [
       "        usuarios.macRed        fecha_control  \\\n",
       "0     58:C1:7A:0A:9B:04  2021-07-27 20:20:00   \n",
       "1     58:C1:7A:0A:9B:2C  2021-07-27 20:20:00   \n",
       "2     58:C1:7A:0A:9B:7C  2021-07-27 20:20:00   \n",
       "3     58:C1:7A:0A:9B:AD  2021-07-27 20:20:00   \n",
       "4     58:C1:7A:0A:C1:E1  2021-07-27 20:20:00   \n",
       "...                 ...                  ...   \n",
       "1399  BC:E6:7C:EF:FE:3A  2021-07-27 20:20:00   \n",
       "1400  BC:E6:7C:EF:FE:3D  2021-07-27 20:20:00   \n",
       "1401  BC:E6:7C:EF:FE:4A  2021-07-27 20:20:00   \n",
       "1402  BC:E6:7C:EF:FE:4C  2021-07-27 20:20:00   \n",
       "1403  BC:E6:7C:EF:FE:4D  2021-07-27 20:20:00   \n",
       "\n",
       "      usuarios.consumoUsuariosDescarga_aux  usuarios.consumoUsuariosCarga_aux  \\\n",
       "0                              150584334.0                       1.411438e+09   \n",
       "1                               12795997.0                       1.928964e+08   \n",
       "2                               10851802.0                       2.793650e+08   \n",
       "3                                2695730.0                       5.123264e+07   \n",
       "4                               37648060.0                       7.741096e+08   \n",
       "...                                    ...                                ...   \n",
       "1399                             3789614.0                       3.202446e+07   \n",
       "1400                            20869168.0                       7.191197e+08   \n",
       "1401                             8995395.0                       1.141955e+06   \n",
       "1402                            58336301.0                       1.931102e+08   \n",
       "1403                               23157.0                       2.555600e+04   \n",
       "\n",
       "      usuarios.consumoUsuariosDescarga  usuarios.consumoUsuariosCarga  \\\n",
       "0                             0.140243                       1.314504   \n",
       "1                             0.011917                       0.179649   \n",
       "2                             0.010107                       0.260179   \n",
       "3                             0.002511                       0.047714   \n",
       "4                             0.035062                       0.720946   \n",
       "...                                ...                            ...   \n",
       "1399                          0.003529                       0.029825   \n",
       "1400                          0.019436                       0.669732   \n",
       "1401                          0.008378                       0.001064   \n",
       "1402                          0.054330                       0.179848   \n",
       "1403                          0.000022                       0.000024   \n",
       "\n",
       "      usuarios.consumoUsuarios        site_id usuarios.apGroup  \n",
       "0                     1.454747  32428-ZGYO495           INDOOR  \n",
       "1                     0.191566  32447-ZGYO451           INDOOR  \n",
       "2                     0.270286  31645-ZGYO322           INDOOR  \n",
       "3                     0.050225  32414-ZGYO452           INDOOR  \n",
       "4                     0.756008  31565-ZGYO325           INDOOR  \n",
       "...                        ...            ...              ...  \n",
       "1399                  0.033354  47609-ZGYO881          OUTDOOR  \n",
       "1400                  0.689168  48636-ZGYO154          OUTDOOR  \n",
       "1401                  0.009442  48674-ZGYO152          OUTDOOR  \n",
       "1402                  0.234178  48317-ZZZY094          OUTDOOR  \n",
       "1403                  0.000046  73791-ZZZY213          OUTDOOR  \n",
       "\n",
       "[1404 rows x 9 columns]"
      ]
     },
     "execution_count": 20,
     "metadata": {},
     "output_type": "execute_result"
    }
   ],
   "source": [
    "datos_performance"
   ]
  },
  {
   "cell_type": "markdown",
   "metadata": {},
   "source": [
    "# Insertando consumo usuarios  al indice principal"
   ]
  },
  {
   "cell_type": "code",
   "execution_count": 21,
   "metadata": {},
   "outputs": [
    {
     "name": "stdout",
     "output_type": "stream",
     "text": [
      "Fecha:  2021-06-10 16:25:19.094536 -Consumos de usuarios insertados en indice principal: 60\n"
     ]
    }
   ],
   "source": [
    "try:\n",
    "    use_these_keys = ['usuarios.nomCentroDigital'\n",
    "                  , 'usuarios.codISO'\n",
    "                  , 'usuarios.idBeneficiario'    \n",
    "                  , 'usuarios.localidad'\n",
    "                  , 'usuarios.siteID'\n",
    "                  , 'usuarios.nombreDepartamento'\n",
    "                  , 'usuarios.sistemaEnergia'\n",
    "                  , 'usuarios.nombreMunicipio'\n",
    "                  , 'usuarios.location'\n",
    "                  , 'usuarios.fechaControl'\n",
    "                  , 'usuarios.macRed'\n",
    "                  , 'usuarios.apGroup'    \n",
    "                  , 'usuarios.consumoUsuariosDescarga'\n",
    "                  , 'usuarios.consumoUsuariosCarga'\n",
    "                  , 'usuarios.consumoUsuarios'\n",
    "                  , 'usuarios.fecha'\n",
    "                  , 'usuarios.anyo'\n",
    "                  , 'usuarios.mes'\n",
    "                  , 'usuarios.dia'\n",
    "                  , 'usuarios.hora'\n",
    "                  , 'usuarios.minuto'\n",
    "                    , 'nombreDepartamento'\n",
    "                    , 'nombreMunicipio'\n",
    "                    , 'idBeneficiario'\n",
    "                    , 'fecha'\n",
    "                    , 'anyo'\n",
    "                    , 'mes'\n",
    "                    , 'dia'\n",
    "                  , '@timestamp']\n",
    "\n",
    "    aux_performance['@timestamp'] = now.isoformat()\n",
    "    def doc_generator(df):\n",
    "        df_iter = df.iterrows()\n",
    "        for index, document in df_iter:\n",
    "            yield {\n",
    "                    \"_index\": indice, \n",
    "                    \"_id\": f\"{ 'usuariosConsumo-'+ str(document['usuarios.siteID']) + str(document['usuarios.macRed']) + '-' + str(document['usuarios.fechaControl'])}\",\n",
    "                    \"_source\": filterKeys(document),\n",
    "                }\n",
    "    salida = helpers.bulk(es, doc_generator(aux_performance))\n",
    "    print(\"Fecha: \", now,\"-Consumos de usuarios insertados en indice principal:\",salida[0])\n",
    "except:\n",
    "    print(\"Fecha: \", now,\"- Ningun consumo usuario para insertar en indice principal\")"
   ]
  },
  {
   "cell_type": "markdown",
   "metadata": {},
   "source": [
    "### Guardando fecha para control de ejecución"
   ]
  },
  {
   "cell_type": "markdown",
   "metadata": {},
   "source": [
    "* Se actualiza la fecha de control. Si el calculo supera la fecha hora actual, se asocia esta ultima."
   ]
  },
  {
   "cell_type": "code",
   "execution_count": 19,
   "metadata": {},
   "outputs": [
    {
     "name": "stdout",
     "output_type": "stream",
     "text": [
      "actualizada fecha control de ejecucion: 2021-05-26 10:50:00\n"
     ]
    }
   ],
   "source": [
    "fecha_ejecucion = (datetime.strptime(fecha_max_mintic, '%Y-%m-%d %H:%M:%S')+timedelta(minutes=10)).strftime(\"%Y-%m-%d %H:%M:%S\")[0:15] + '0:00'    \n",
    "\n",
    "if fecha_ejecucion > str(now.strftime('%Y-%m-%d %H:%M:%S'))[0:15] + '0:00':\n",
    "    fecha_ejecucion = str(now.strftime('%Y-%m-%d %H:%M:%S'))[0:15] + '0:00'\n",
    "response = es.index(\n",
    "        index = indice_control,\n",
    "        id = 'jerarquia_usuarios_consumos',\n",
    "        body = { 'jerarquia_usuarios_consumos': 'usuarios_consumos','usuarios.fechaControl' : fecha_ejecucion}\n",
    ")\n",
    "print(\"actualizada fecha control de ejecucion:\",fecha_ejecucion)"
   ]
  }
 ],
 "metadata": {
  "kernelspec": {
   "display_name": "Python 3",
   "language": "python",
   "name": "python3"
  },
  "language_info": {
   "codemirror_mode": {
    "name": "ipython",
    "version": 3
   },
   "file_extension": ".py",
   "mimetype": "text/x-python",
   "name": "python",
   "nbconvert_exporter": "python",
   "pygments_lexer": "ipython3",
   "version": "3.8.5"
  }
 },
 "nbformat": 4,
 "nbformat_minor": 4
}
