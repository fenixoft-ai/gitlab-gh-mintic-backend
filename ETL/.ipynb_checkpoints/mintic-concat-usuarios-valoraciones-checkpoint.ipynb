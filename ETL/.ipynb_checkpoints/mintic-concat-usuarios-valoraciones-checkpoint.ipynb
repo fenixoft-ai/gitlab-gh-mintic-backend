{
 "cells": [
  {
   "cell_type": "markdown",
   "metadata": {},
   "source": [
    "### ¿Qué hace este script?\n",
    "Para cada sitio y fecha calcula:\n",
    "* usuarios.nivelesSatisfaccionUsuarios: Clasificación de la respuesta (bueno, regular, malo)\n",
    "* usuarios.nivelesSatisfaccionUsuariosRespuesta: Total de respuestas para cada opción\n",
    "* usuarios.nivelesSatisfaccionUsuariosRespuestaPorCien (porcentaje asociado al total para ese grupo de respuetas)\n",
    "* usuarios.cantidadCalificaciones: total de calificaciones (incluye todas las opciones)"
   ]
  },
  {
   "cell_type": "code",
   "execution_count": 20,
   "metadata": {},
   "outputs": [],
   "source": [
    "from elasticsearch import Elasticsearch, helpers\n",
    "import pandas as pd\n",
    "import numpy as np\n",
    "from ssl import create_default_context\n",
    "from datetime import datetime, timedelta\n",
    "import time\n",
    "import parametros #parametros propios del desarrollo"
   ]
  },
  {
   "cell_type": "markdown",
   "metadata": {},
   "source": [
    "### Conexión a Elastic Search"
   ]
  },
  {
   "cell_type": "code",
   "execution_count": 21,
   "metadata": {},
   "outputs": [],
   "source": [
    "context = create_default_context(cafile=parametros.cafile)\n",
    "es = Elasticsearch(\n",
    "    parametros.servidor,\n",
    "    http_auth=(parametros.usuario_EC, parametros.password_EC),\n",
    "    scheme=\"https\",\n",
    "    port=parametros.puerto,\n",
    "    ssl_context=context,\n",
    "    timeout=60, max_retries=3, retry_on_timeout=True\n",
    ")"
   ]
  },
  {
   "cell_type": "markdown",
   "metadata": {},
   "source": [
    "### Calculando fechas para la ejecución"
   ]
  },
  {
   "cell_type": "code",
   "execution_count": 22,
   "metadata": {},
   "outputs": [],
   "source": [
    "now = datetime.now()\n",
    "fecha_hoy = str(now.strftime(\"%Y.%m.%d\"))"
   ]
  },
  {
   "cell_type": "markdown",
   "metadata": {},
   "source": [
    "### nombre de indice donde se insertará"
   ]
  },
  {
   "cell_type": "markdown",
   "metadata": {},
   "source": [
    "se define tanto el indice principal como el que controla la ejecución"
   ]
  },
  {
   "cell_type": "code",
   "execution_count": 23,
   "metadata": {},
   "outputs": [],
   "source": [
    "indice = parametros.mintic_concat_index\n",
    "indice_control = parametros.mintic_control"
   ]
  },
  {
   "cell_type": "markdown",
   "metadata": {},
   "source": [
    "### Funcion que genera JSON compatible con ElasticSearch"
   ]
  },
  {
   "cell_type": "code",
   "execution_count": 24,
   "metadata": {},
   "outputs": [],
   "source": [
    "def filterKeys(document):\n",
    "    return {key: document[key] for key in use_these_keys }"
   ]
  },
  {
   "cell_type": "markdown",
   "metadata": {},
   "source": [
    "### Trae la ultima fecha para control de ejecución"
   ]
  },
  {
   "cell_type": "markdown",
   "metadata": {},
   "source": [
    "Cuando en el rango de tiempo de la ejecución, no se insertan nuevos valores, las fecha maxima en indice mintic no aumenta, por tanto se usa esta fecha de control para garantizar que incremente el bucle de ejecución"
   ]
  },
  {
   "cell_type": "code",
   "execution_count": 25,
   "metadata": {},
   "outputs": [
    {
     "name": "stdout",
     "output_type": "stream",
     "text": [
      "ultima fecha para control de ejecucion: 2021-05-01 00:00:00\n"
     ]
    }
   ],
   "source": [
    "total_docs = 1\n",
    "try:\n",
    "    response = es.search(\n",
    "        index= indice_control,\n",
    "        body={\n",
    "               \"_source\": [\"usuarios.fechaControl\"],\n",
    "              \"query\": {\n",
    "                \"bool\": {\n",
    "                  \"filter\": [\n",
    "                  {\n",
    "                    \"exists\": {\n",
    "                      \"field\":\"jerarquia_valoraciones_usuario\"\n",
    "                    }\n",
    "                  }\n",
    "                  ]\n",
    "                }\n",
    "              }\n",
    "        },\n",
    "        size=total_docs\n",
    "    )\n",
    "    #print(es.info())\n",
    "    elastic_docs = response[\"hits\"][\"hits\"]\n",
    "    fields = {}\n",
    "    for num, doc in enumerate(elastic_docs):\n",
    "        fecha_ejecucion = doc[\"_source\"]['usuarios.fechaControl']\n",
    "except:\n",
    "    pass\n",
    "if response[\"hits\"][\"hits\"] == []:\n",
    "    fecha_ejecucion = '2021-05-01 00:00:00'\n",
    "print(\"ultima fecha para control de ejecucion:\",fecha_ejecucion)"
   ]
  },
  {
   "cell_type": "markdown",
   "metadata": {},
   "source": [
    "### leyendo indice semilla-inventario"
   ]
  },
  {
   "cell_type": "markdown",
   "metadata": {},
   "source": [
    "En el script que ingesta semilla, trae la información de los centros de conexión administrados. Para el indice principal se requiere:\n",
    "* site_id como llave del centro de conexión.\n",
    "* Datos geográficos (Departamento, municipio, centro poblado, sede, energía, latitud, longitud,  COD_ISO , id_Beneficiario)."
   ]
  },
  {
   "cell_type": "code",
   "execution_count": 26,
   "metadata": {},
   "outputs": [],
   "source": [
    "total_docs = 10000\n",
    "try:\n",
    "    response = es.search(\n",
    "        index= parametros.semilla_inventario_index,\n",
    "        body={\n",
    "               \"_source\": ['site_id','nombre_municipio', 'nombre_departamento', 'nombre_centro_pob', 'nombreSede' \n",
    "                           , 'energiadesc', 'latitud', 'longitud', 'COD_ISO','id_Beneficiario']\n",
    "        },\n",
    "        size=total_docs\n",
    "    )\n",
    "    #print(es.info())\n",
    "    elastic_docs = response[\"hits\"][\"hits\"]\n",
    "    fields = {}\n",
    "    for num, doc in enumerate(elastic_docs):\n",
    "        source_data = doc[\"_source\"]\n",
    "        for key, val in source_data.items():\n",
    "            try:\n",
    "                fields[key] = np.append(fields[key], val)\n",
    "            except KeyError:\n",
    "                fields[key] = np.array([val])\n",
    "\n",
    "    datos_semilla = pd.DataFrame(dict([ (k,pd.Series(v)) for k,v in fields.items() ])) #pd.DataFrame(fields)\n",
    "except:\n",
    "    exit()"
   ]
  },
  {
   "cell_type": "markdown",
   "metadata": {},
   "source": [
    "### Cambiando nombre de campos y generando location"
   ]
  },
  {
   "cell_type": "markdown",
   "metadata": {},
   "source": [
    "* Se valida latitud y longitud. Luego se calcula campo location\n",
    "* Se renombran los campos de semilla"
   ]
  },
  {
   "cell_type": "code",
   "execution_count": 27,
   "metadata": {},
   "outputs": [],
   "source": [
    "import re\n",
    "def get_location(x):\n",
    "    patron = re.compile('^(\\-?\\d+(\\.\\d+)?),\\s*(\\-?\\d+(\\.\\d+)?)$') #patrón que debe cumplir\n",
    "    if (not patron.match(x) is None):\n",
    "        return x.replace(',','.')\n",
    "    else:\n",
    "        #Código a ejecutar si las coordenadas no son válidas\n",
    "        return 'a'\n",
    "datos_semilla['latitud'] = datos_semilla['latitud'].apply(get_location)\n",
    "datos_semilla['longitud'] = datos_semilla['longitud'].apply(get_location)\n",
    "datos_semilla = datos_semilla.drop(datos_semilla[(datos_semilla[\"longitud\"]=='a') | (datos_semilla[\"latitud\"]=='a')].index)\n",
    "datos_semilla['usuarios.location'] = datos_semilla['latitud'] + ',' + datos_semilla['longitud']\n",
    "datos_semilla['usuarios.location']=datos_semilla['usuarios.location'].str.replace('a,a','')\n",
    "datos_semilla.drop(columns=['latitud','longitud'],inplace=True)"
   ]
  },
  {
   "cell_type": "code",
   "execution_count": 28,
   "metadata": {},
   "outputs": [],
   "source": [
    "datos_semilla = datos_semilla.rename(columns={'lugar_cod' : 'usuarios.centroDigitalUsuarios'\n",
    "                                            , 'nombre_municipio': 'usuarios.nombreMunicipio'\n",
    "                                            , 'nombre_departamento' : 'usuarios.nombreDepartamento'\n",
    "                                            , 'nombre_centro_pob': 'usuarios.localidad'\n",
    "                                            , 'nombreSede' : 'usuarios.nomCentroDigital'\n",
    "                                            , 'energiadesc' : 'usuarios.sistemaEnergia'\n",
    "                                            , 'COD_ISO' : 'usuarios.codISO'\n",
    "                                            , 'id_Beneficiario' : 'usuarios.idBeneficiario'})"
   ]
  },
  {
   "cell_type": "markdown",
   "metadata": {},
   "source": [
    "Se descartan los registros que tengan la latitud y longitud vacía o no valida"
   ]
  },
  {
   "cell_type": "code",
   "execution_count": 29,
   "metadata": {},
   "outputs": [],
   "source": [
    "datos_semilla = datos_semilla.drop(datos_semilla[(datos_semilla[\"usuarios.location\"]=='')].index)"
   ]
  },
  {
   "cell_type": "markdown",
   "metadata": {},
   "source": [
    "## leyendo indice ohmyfi valoraciones"
   ]
  },
  {
   "cell_type": "markdown",
   "metadata": {},
   "source": [
    "Se toman en cuenta todas las valoraciones realizadas dentro del rango de fecha fecha. Campos leidos:\n",
    "\n",
    "* lugar_cod que es la llave para cruzar con site_id.\n",
    "* datos asociados a la valoración: pregunta, respuesta, fechahora (cuando se registró la valoración)"
   ]
  },
  {
   "cell_type": "code",
   "execution_count": 30,
   "metadata": {},
   "outputs": [],
   "source": [
    "def trae_valoraciones(fecha_ini,fecha_fin):\n",
    "    total_docs = 10000\n",
    "    response = es.search(\n",
    "        index= parametros.ohmyfi_val_index,\n",
    "        body={\n",
    "                  \"_source\": [\"lugar_cod\", \"respuesta\",\"fechahora\",\"@timestamp\"]\n",
    "                , \"query\": {\n",
    "                      \"range\": {\n",
    "                            \"fechahora\": {\n",
    "                            \"gte\": fecha_ini,\n",
    "                            \"lt\":  fecha_fin\n",
    "                            }\n",
    "                        }\n",
    "                  }\n",
    "        },\n",
    "        size=total_docs\n",
    "    )\n",
    "    #print(es.info())\n",
    "    elastic_docs = response[\"hits\"][\"hits\"]\n",
    "    fields = {}\n",
    "    for num, doc in enumerate(elastic_docs):\n",
    "        source_data = doc[\"_source\"]\n",
    "        for key, val in source_data.items():\n",
    "            try:\n",
    "                fields[key] = np.append(fields[key], val)\n",
    "            except KeyError:\n",
    "                fields[key] = np.array([val])\n",
    "\n",
    "    return pd.DataFrame(dict([ (k,pd.Series(v)) for k,v in fields.items() ])) \n"
   ]
  },
  {
   "cell_type": "markdown",
   "metadata": {},
   "source": [
    "### Se realiza la consulta de datos"
   ]
  },
  {
   "cell_type": "markdown",
   "metadata": {},
   "source": [
    "* Se calcula rango en base a la fecha de control. Para este caso es de un día.\n",
    "* Se ejecuta la función de consulta con el rango de fechas.\n",
    "* Si no retorna datos se incrementa el rango y se ejecuta nuevamente. Este proceso se repite hasta conseguir datos o hasta que el rango de ejecución alcance la fecha y hora actual."
   ]
  },
  {
   "cell_type": "code",
   "execution_count": 31,
   "metadata": {},
   "outputs": [],
   "source": [
    "fecha_max_mintic = fecha_ejecucion\n",
    "fecha_tope_mintic = (datetime.strptime(fecha_max_mintic, '%Y-%m-%d %H:%M:%S')+timedelta(days=1)-timedelta(seconds=1)).strftime(\"%Y-%m-%d %H:%M:%S\")\n",
    "datos_valoraciones =  trae_valoraciones(fecha_max_mintic,fecha_tope_mintic)\n",
    "\n",
    "if datos_valoraciones is None or datos_valoraciones.empty:\n",
    "    while (datos_valoraciones is None or datos_valoraciones.empty) and ((datetime.strptime(fecha_max_mintic, '%Y-%m-%d %H:%M:%S').strftime(\"%Y-%m-%d %H:%M:%S\")) < str(now.strftime(\"%Y-%m-%d %H:%M:%S\"))):\n",
    "        fecha_max_mintic = (datetime.strptime(fecha_max_mintic, '%Y-%m-%d %H:%M:%S')+timedelta(days=1)).strftime(\"%Y-%m-%d %H:%M:%S\")\n",
    "        fecha_tope_mintic = (datetime.strptime(fecha_tope_mintic, '%Y-%m-%d %H:%M:%S')+timedelta(days=1)).strftime(\"%Y-%m-%d %H:%M:%S\")\n",
    "        datos_valoraciones = trae_valoraciones(fecha_max_mintic,fecha_tope_mintic)\n",
    "else:\n",
    "    pass"
   ]
  },
  {
   "cell_type": "markdown",
   "metadata": {},
   "source": [
    "1. Se descartan las respuestas Si y No de las valoraciones, las cuales corresponden a la pregunta: \"Te gustaría calificar tu última conexión en\". De esta forma solo se dejan las respuestas asociadas a la percepción de calidad por parte del usuario.\n",
    "2. Se estandariza lugar_cod a site_id\n",
    "3. Se estadariza fecha para agrupar (solo se toma yyyy-mm-dd)\n",
    "4. Se Calcula nivel de valoracion por pregunta y total de valoraciones\n",
    "\n",
    "* Para cada centro de conexión, pregunta, se contabilizan las valoraciones. El calculo es diario"
   ]
  },
  {
   "cell_type": "code",
   "execution_count": 32,
   "metadata": {},
   "outputs": [],
   "source": [
    "try:\n",
    "    datos_valoraciones = datos_valoraciones.drop(datos_valoraciones[(datos_valoraciones[\"respuesta\"].isin(['Si','No']))].index)\n",
    "    #datos_valoraciones['mac_usuario'] = datos_valoraciones['mac_usuario'].str.replace('-',':')\n",
    "    datos_valoraciones = datos_valoraciones.rename(columns={'lugar_cod': 'site_id'})\n",
    "    datos_valoraciones['fecha'] = datos_valoraciones[\"fechahora\"].str.split(\" \", n = 1, expand = True)[0]\n",
    "    nivel_valoraciones=datos_valoraciones[['fechahora', 'site_id'\n",
    "                                         , 'respuesta'\n",
    "                                         , 'fecha']].groupby(['site_id','respuesta','fecha']).agg(['count']).reset_index()\n",
    "    nivel_valoraciones.columns = nivel_valoraciones.columns.droplevel(1)\n",
    "    nivel_valoraciones = nivel_valoraciones.rename(columns={'fechahora' :'usuarios.nivelesSatisfaccionUsuarios'\n",
    "                                                           ,'respuesta' :'usuarios.nivelesSatisfaccionUsuariosRespuesta'\n",
    "                                                           ,'fecha' : 'usuarios.fechaCalificacion'})\n",
    "    \n",
    "    total_valoraciones = datos_valoraciones[['site_id','fechahora','fecha']].groupby(['site_id','fecha']).agg(['count']).reset_index()\n",
    "    total_valoraciones.columns = total_valoraciones.columns.droplevel(1)\n",
    "    total_valoraciones = total_valoraciones.rename(columns={'fechahora' :'usuarios.cantidadCalificaciones'\n",
    "                                                           ,'fecha' : 'usuarios.fechaCalificacion'})\n",
    "\n",
    "    #Con ambos se calcula el porcentaje de cada respuesta\n",
    "    nivel_valoraciones =  pd.merge(nivel_valoraciones,total_valoraciones, on=['site_id','usuarios.fechaCalificacion'],how='inner')\n",
    "    nivel_valoraciones['usuarios.nivelesSatisfaccionUsuariosRespuestaPorCien'] = ((nivel_valoraciones['usuarios.nivelesSatisfaccionUsuarios']) / nivel_valoraciones['usuarios.cantidadCalificaciones']).round(4)\n",
    "except:\n",
    "    total_valoraciones = pd.DataFrame(columns=['site_id','usuarios.fechaCalificacion'\n",
    "                                              ,'usuarios.cantidadCalificaciones'])\n",
    "    nivel_valoraciones = pd.DataFrame(columns=['site_id','usuarios.fechaCalificacion'\n",
    "                                              ,'usuarios.nivelesSatisfaccionUsuarios'\n",
    "                                              ,'usuarios.nivelesSatisfaccionUsuariosRespuesta'\n",
    "                                              ,'usuarios.nivelesSatisfaccionUsuariosRespuestaPorCien'])\n",
    "    "
   ]
  },
  {
   "cell_type": "markdown",
   "metadata": {},
   "source": [
    "### Cruzando con semilla las agregaciones de valoraciones"
   ]
  },
  {
   "cell_type": "code",
   "execution_count": 33,
   "metadata": {},
   "outputs": [],
   "source": [
    "mintic_valoraciones = pd.merge(datos_semilla, nivel_valoraciones, on='site_id',how='inner')"
   ]
  },
  {
   "cell_type": "markdown",
   "metadata": {},
   "source": [
    "# Escribiendo en indice la información de Valoraciones"
   ]
  },
  {
   "cell_type": "markdown",
   "metadata": {},
   "source": [
    "Se convierten los nulos a ceros a nivelesSatisfaccionUsuarios y cantidadCalificaciones"
   ]
  },
  {
   "cell_type": "code",
   "execution_count": 34,
   "metadata": {},
   "outputs": [],
   "source": [
    "try:\n",
    "    mintic_valoraciones.fillna({'usuarios.nivelesSatisfaccionUsuarios':0\n",
    "                               ,'usuarios.nivelesSatisfaccionUsuariosRespuestaPorCien':0},inplace=True)\n",
    "    mintic_valoraciones[['usuarios.nivelesSatisfaccionUsuarios']] = mintic_valoraciones[['usuarios.nivelesSatisfaccionUsuarios']].astype(int)\n",
    "    mintic_valoraciones = mintic_valoraciones.rename(columns={'site_id' : 'usuarios.siteID'})\n",
    "    mintic_valoraciones.dropna(subset=['usuarios.nivelesSatisfaccionUsuariosRespuesta'], inplace=True)\n",
    "    mintic_valoraciones[\"usuarios.anyo\"] = mintic_valoraciones[\"usuarios.fechaCalificacion\"].str[0:4]\n",
    "    mintic_valoraciones[\"usuarios.mes\"] = mintic_valoraciones[\"usuarios.fechaCalificacion\"].str[5:7]\n",
    "    mintic_valoraciones[\"usuarios.dia\"] = mintic_valoraciones[\"usuarios.fechaCalificacion\"].str[8:10]\n",
    "    \n",
    "    mintic_valoraciones['nombreDepartamento'] = mintic_valoraciones['usuarios.nombreDepartamento']\n",
    "    mintic_valoraciones['nombreMunicipio'] = mintic_valoraciones['usuarios.nombreMunicipio']\n",
    "    mintic_valoraciones['idBeneficiario'] = mintic_valoraciones['usuarios.idBeneficiario']\n",
    "    mintic_valoraciones['fecha'] = mintic_valoraciones['usuarios.fechaCalificacion']\n",
    "    mintic_valoraciones['anyo'] = mintic_valoraciones['usuarios.anyo']\n",
    "    mintic_valoraciones['mes'] = mintic_valoraciones['usuarios.mes']\n",
    "    mintic_valoraciones['dia'] = mintic_valoraciones['usuarios.dia']\n",
    "except:\n",
    "    pass"
   ]
  },
  {
   "cell_type": "code",
   "execution_count": 35,
   "metadata": {
    "scrolled": true
   },
   "outputs": [
    {
     "name": "stdout",
     "output_type": "stream",
     "text": [
      "Fecha:  2021-06-10 19:17:15.349671 - Valoraciones insertadas en indice principal: 366\n"
     ]
    }
   ],
   "source": [
    "use_these_keys = ['usuarios.nomCentroDigital'\n",
    "                  , 'usuarios.codISO'\n",
    "                  , 'usuarios.idBeneficiario'\n",
    "                  , 'usuarios.localidad'\n",
    "                  , 'usuarios.siteID'\n",
    "                  , 'usuarios.nombreDepartamento'\n",
    "                  , 'usuarios.sistemaEnergia'\n",
    "                  , 'usuarios.nombreMunicipio'\n",
    "                  , 'usuarios.location'\n",
    "                  , 'usuarios.nivelesSatisfaccionUsuariosRespuesta'\n",
    "                  , 'usuarios.nivelesSatisfaccionUsuariosRespuestaPorCien'\n",
    "                  , 'usuarios.nivelesSatisfaccionUsuarios'\n",
    "                  , 'usuarios.fechaCalificacion'\n",
    "                  , 'usuarios.anyo'\n",
    "                  , 'usuarios.mes'\n",
    "                  , 'usuarios.dia'\n",
    "                    , 'nombreDepartamento'\n",
    "                    , 'nombreMunicipio'\n",
    "                    , 'idBeneficiario'\n",
    "                    , 'fecha'\n",
    "                    , 'anyo'\n",
    "                    , 'mes'\n",
    "                    , 'dia'\n",
    "                  , '@timestamp']\n",
    "try:\n",
    "    mintic_valoraciones['@timestamp'] = now.isoformat()\n",
    "    def doc_generator(df):\n",
    "        df_iter = df.iterrows()\n",
    "        for index, document in df_iter:\n",
    "            yield {\n",
    "                    \"_index\": indice, \n",
    "                    \"_id\": f\"{'Valoracion-' + str(document['usuarios.siteID']) + '-' + str(document['usuarios.fechaCalificacion']) + '-' + str(document['usuarios.nivelesSatisfaccionUsuariosRespuesta'])}\",\n",
    "                    \"_source\": filterKeys(document),\n",
    "                }\n",
    "    salida = helpers.bulk(es, doc_generator(mintic_valoraciones))\n",
    "    print(\"Fecha: \", now,\"- Valoraciones insertadas en indice principal:\",salida[0])\n",
    "except:\n",
    "    print(\"Fecha: \", now,\"- No se insertaron valoraciones en indice principal\")"
   ]
  },
  {
   "cell_type": "markdown",
   "metadata": {},
   "source": [
    "## Insertando total de calificaciones"
   ]
  },
  {
   "cell_type": "code",
   "execution_count": 36,
   "metadata": {},
   "outputs": [],
   "source": [
    "mintic_calificaciones = pd.merge(datos_semilla,  total_valoraciones, on='site_id', how='inner')"
   ]
  },
  {
   "cell_type": "code",
   "execution_count": 37,
   "metadata": {},
   "outputs": [],
   "source": [
    "try:\n",
    "    mintic_calificaciones.fillna({'usuarios.cantidadCalificaciones':0},inplace=True)\n",
    "    mintic_calificaciones[['usuarios.cantidadCalificaciones']] = mintic_calificaciones[['usuarios.cantidadCalificaciones']].astype(int)\n",
    "    mintic_calificaciones = mintic_calificaciones.rename(columns={'site_id' : 'usuarios.siteID'})\n",
    "    mintic_calificaciones.dropna(subset=['usuarios.cantidadCalificaciones'], inplace=True)\n",
    "    mintic_calificaciones[\"usuarios.anyo\"] = mintic_calificaciones[\"usuarios.fechaCalificacion\"].str[0:4]\n",
    "    mintic_calificaciones[\"usuarios.mes\"] = mintic_calificaciones[\"usuarios.fechaCalificacion\"].str[5:7]\n",
    "    mintic_calificaciones[\"usuarios.dia\"] = mintic_calificaciones[\"usuarios.fechaCalificacion\"].str[8:10]\n",
    "    \n",
    "    mintic_calificaciones['nombreDepartamento'] = mintic_calificaciones['usuarios.nombreDepartamento']\n",
    "    mintic_calificaciones['nombreMunicipio'] = mintic_calificaciones['usuarios.nombreMunicipio']\n",
    "    mintic_calificaciones['idBeneficiario'] = mintic_calificaciones['usuarios.idBeneficiario']\n",
    "    mintic_calificaciones['fecha'] = mintic_calificaciones['usuarios.fechaCalificacion']\n",
    "    mintic_calificaciones['anyo'] = mintic_calificaciones['usuarios.anyo']\n",
    "    mintic_calificaciones['mes'] = mintic_calificaciones['usuarios.mes']\n",
    "    mintic_calificaciones['dia'] = mintic_calificaciones['usuarios.dia']\n",
    "except:\n",
    "    pass"
   ]
  },
  {
   "cell_type": "code",
   "execution_count": 39,
   "metadata": {},
   "outputs": [
    {
     "name": "stdout",
     "output_type": "stream",
     "text": [
      "Fecha:  2021-06-10 19:17:15.349671 - Total calificaciones insertadas en indice principal: 129\n"
     ]
    }
   ],
   "source": [
    "use_these_keys = ['usuarios.nomCentroDigital'\n",
    "                  , 'usuarios.codISO'\n",
    "                  , 'usuarios.idBeneficiario'\n",
    "                  , 'usuarios.localidad'\n",
    "                  , 'usuarios.siteID'\n",
    "                  , 'usuarios.nombreDepartamento'\n",
    "                  , 'usuarios.sistemaEnergia'\n",
    "                  , 'usuarios.nombreMunicipio'\n",
    "                  , 'usuarios.location'\n",
    "                  , 'usuarios.cantidadCalificaciones'\n",
    "                  , 'usuarios.fechaCalificacion'\n",
    "                  , 'usuarios.anyo'\n",
    "                  , 'usuarios.mes'\n",
    "                  , 'usuarios.dia'\n",
    "                    , 'nombreDepartamento'\n",
    "                    , 'nombreMunicipio'\n",
    "                    , 'idBeneficiario'\n",
    "                    , 'fecha'\n",
    "                    , 'anyo'\n",
    "                    , 'mes'\n",
    "                    , 'dia'\n",
    "                  , '@timestamp']\n",
    "try:\n",
    "    mintic_calificaciones['@timestamp'] = now.isoformat()\n",
    "    def doc_generator(df):\n",
    "        df_iter = df.iterrows()\n",
    "        for index, document in df_iter:\n",
    "            yield {\n",
    "                    \"_index\": indice, \n",
    "                    \"_id\": f\"{ 'Calificacion-' + str(document['usuarios.siteID']) + '-' + str(document['usuarios.fechaCalificacion'])}\",\n",
    "                    \"_source\": filterKeys(document),\n",
    "                }\n",
    "    salida = helpers.bulk(es, doc_generator(mintic_calificaciones))\n",
    "    print(\"Fecha: \", now,\"- Total calificaciones insertadas en indice principal:\",salida[0])\n",
    "except:\n",
    "    print(\"Fecha: \", now,\"- No se insertaron totales de calificaciones en indice principal\")"
   ]
  },
  {
   "cell_type": "markdown",
   "metadata": {},
   "source": [
    "### Guardando fecha para control de ejecución"
   ]
  },
  {
   "cell_type": "markdown",
   "metadata": {},
   "source": [
    "* Se actualiza la fecha de control. Si el calculo supera la fecha hora actual, se asocia esta ultima."
   ]
  },
  {
   "cell_type": "code",
   "execution_count": null,
   "metadata": {},
   "outputs": [],
   "source": [
    "fecha_ejecucion = (datetime.strptime(fecha_max_mintic, '%Y-%m-%d %H:%M:%S')+timedelta(days=1)).strftime(\"%Y-%m-%d %H:%M:%S\")\n",
    "if fecha_ejecucion > str(now.strftime('%Y-%m-%d %H:%M:%S'))[0:10] + ' 00:00:00':\n",
    "    fecha_ejecucion = str(now.strftime('%Y-%m-%d %H:%M:%S'))[0:10] + ' 00:00:00'\n",
    "response = es.index(\n",
    "        index = indice_control,\n",
    "        id = 'jerarquia_valoraciones_usuario',\n",
    "        body = { 'jerarquia_valoraciones_usuario': 'valoraciones_usuario','usuarios.fechaControl' : fecha_ejecucion}\n",
    ")\n",
    "print(\"actualizada fecha control de ejecucion:\",fecha_ejecucion)"
   ]
  }
 ],
 "metadata": {
  "kernelspec": {
   "display_name": "Python 3",
   "language": "python",
   "name": "python3"
  },
  "language_info": {
   "codemirror_mode": {
    "name": "ipython",
    "version": 3
   },
   "file_extension": ".py",
   "mimetype": "text/x-python",
   "name": "python",
   "nbconvert_exporter": "python",
   "pygments_lexer": "ipython3",
   "version": "3.8.5"
  }
 },
 "nbformat": 4,
 "nbformat_minor": 4
}
