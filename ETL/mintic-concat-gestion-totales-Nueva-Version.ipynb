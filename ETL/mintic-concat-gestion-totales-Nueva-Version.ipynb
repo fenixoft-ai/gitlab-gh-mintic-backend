{
 "cells": [
  {
   "cell_type": "code",
   "execution_count": 12,
   "metadata": {},
   "outputs": [],
   "source": [
    "from elasticsearch import Elasticsearch, helpers\n",
    "from ssl import create_default_context\n",
    "import pandas as pd\n",
    "import numpy as np\n",
    "from datetime import datetime, timedelta\n",
    "import parametros\n",
    "import re"
   ]
  },
  {
   "cell_type": "markdown",
   "metadata": {},
   "source": [
    "## Conectando a ElasticSearch"
   ]
  },
  {
   "cell_type": "markdown",
   "metadata": {},
   "source": [
    "La ultima línea se utiliza para garantizar la ejecución de la consulta\n",
    "* timeout es el tiempo para cada ejecución\n",
    "* max_retries el número de intentos si la conexión falla\n",
    "* retry_on_timeout para activar los reitentos"
   ]
  },
  {
   "cell_type": "code",
   "execution_count": 13,
   "metadata": {},
   "outputs": [],
   "source": [
    "context = create_default_context(cafile=parametros.cafile)\n",
    "es = Elasticsearch(\n",
    "    parametros.servidor,\n",
    "    http_auth=(parametros.usuario_EC, parametros.password_EC),\n",
    "    scheme=\"https\",\n",
    "    port=parametros.puerto,\n",
    "    ssl_context=context,\n",
    "    timeout=60, max_retries=3, retry_on_timeout=True\n",
    ") "
   ]
  },
  {
   "cell_type": "markdown",
   "metadata": {},
   "source": [
    "### Calculando fechas para la ejecución"
   ]
  },
  {
   "cell_type": "markdown",
   "metadata": {},
   "source": [
    "* Se calculan las fechas para asociar al nombre del indice\n",
    "* fecha_hoy es usada para concatenar al nombre del indice principal previa inserción"
   ]
  },
  {
   "cell_type": "code",
   "execution_count": 14,
   "metadata": {},
   "outputs": [],
   "source": [
    "now = datetime.now()\n",
    "fecha_hoy = str(now.strftime(\"%Y.%m.%d\"))"
   ]
  },
  {
   "cell_type": "markdown",
   "metadata": {},
   "source": [
    "### Definiendo indice principal con fecha de hoy"
   ]
  },
  {
   "cell_type": "code",
   "execution_count": 15,
   "metadata": {},
   "outputs": [],
   "source": [
    "indice = parametros.gestion_mintic_concat_index"
   ]
  },
  {
   "cell_type": "markdown",
   "metadata": {},
   "source": [
    "### Función para generar JSON compatible con ES"
   ]
  },
  {
   "cell_type": "code",
   "execution_count": 16,
   "metadata": {},
   "outputs": [],
   "source": [
    "def filterKeys(document):\n",
    "    return {key: document[key] for key in use_these_keys }"
   ]
  },
  {
   "cell_type": "markdown",
   "metadata": {},
   "source": [
    "### Trae la ultima fecha para control de ejecución"
   ]
  },
  {
   "cell_type": "markdown",
   "metadata": {},
   "source": [
    "Cuando en el rango de tiempo de la ejecución, no se insertan nuevos valores, las fecha maxima en indice mintic no aumenta, por tanto se usa esta fecha de control para garantizar que incremente el bucle de ejecución\n",
    "\n",
    "Se usan dos fechas control:\n",
    "* jerarquia_gestion_totales_incidentes\n",
    "* jerarquia_gestion_totales_llamadas"
   ]
  },
  {
   "cell_type": "code",
   "execution_count": 17,
   "metadata": {},
   "outputs": [
    {
     "name": "stdout",
     "output_type": "stream",
     "text": [
      "ultima fecha para control de ejecucion: 2021-05-15T00:00:00\n"
     ]
    }
   ],
   "source": [
    "total_docs = 1\n",
    "try:\n",
    "    response = es.search(\n",
    "        index= parametros.mintic_control,\n",
    "        body={\n",
    "           \"_source\": [\"gestion.fechaControl\"],\n",
    "              \"query\": {\n",
    "                \"bool\": {\n",
    "                  \"filter\": [\n",
    "                  {\n",
    "                    \"exists\": {\n",
    "                      \"field\":\"jerarquia_gestion_totales_incidentes\"\n",
    "                    }\n",
    "                  }\n",
    "              ]\n",
    "            }\n",
    "          }\n",
    "        },\n",
    "        size=total_docs\n",
    "    )\n",
    "    #print(es.info())\n",
    "    elastic_docs = response[\"hits\"][\"hits\"]\n",
    "    fields = {}\n",
    "    for num, doc in enumerate(elastic_docs):\n",
    "        fecha_ejecucion = doc[\"_source\"]['gestion.fechaControl']\n",
    "except Exception as e:\n",
    "    print(e.message)\n",
    "    response[\"hits\"][\"hits\"] = []\n",
    "if response[\"hits\"][\"hits\"] == []:\n",
    "    fecha_ejecucion = '2021-05-01T00:00:00'\n",
    "print(\"ultima fecha para control de ejecucion:\",fecha_ejecucion)"
   ]
  },
  {
   "cell_type": "code",
   "execution_count": 18,
   "metadata": {},
   "outputs": [
    {
     "name": "stdout",
     "output_type": "stream",
     "text": [
      "ultima fecha para control de ejecucion: 2021-05-05T00:00:00\n"
     ]
    }
   ],
   "source": [
    "total_docs = 1\n",
    "try:\n",
    "    response = es.search(\n",
    "        index= parametros.mintic_control,\n",
    "        body={\n",
    "           \"_source\": [\"gestion.fechaControl\"],\n",
    "              \"query\": {\n",
    "                \"bool\": {\n",
    "                  \"filter\": [\n",
    "                  {\n",
    "                    \"exists\": {\n",
    "                      \"field\":\"jerarquia_gestion_totales_llamadas\"\n",
    "                    }\n",
    "                  }\n",
    "              ]\n",
    "            }\n",
    "          }\n",
    "        },\n",
    "        size=total_docs\n",
    "    )\n",
    "    #print(es.info())\n",
    "    elastic_docs = response[\"hits\"][\"hits\"]\n",
    "    fields = {}\n",
    "    for num, doc in enumerate(elastic_docs):\n",
    "        fecha_ejecucion2 = doc[\"_source\"]['gestion.fechaControl']\n",
    "except Exception as e:\n",
    "    print(e.message)\n",
    "    response[\"hits\"][\"hits\"] = []\n",
    "if response[\"hits\"][\"hits\"] == []:\n",
    "    fecha_ejecucion2 = '2021-04-01T00:00:00'\n",
    "print(\"ultima fecha para control de ejecucion:\",fecha_ejecucion2)"
   ]
  },
  {
   "cell_type": "markdown",
   "metadata": {},
   "source": [
    "### leyendo indice semilla-inventario"
   ]
  },
  {
   "cell_type": "markdown",
   "metadata": {},
   "source": [
    "En el script que ingesta semilla, trae la información de los centros de conexión administrados. Para el indice principal se requiere:\n",
    "\n",
    "* site_id como llave del centro de conexión.\n",
    "* Datos geográficos (Departamento, municipio, centro poblado, sede, entre otros)"
   ]
  },
  {
   "cell_type": "code",
   "execution_count": 22,
   "metadata": {},
   "outputs": [],
   "source": [
    "total_docs = 10000\n",
    "try:\n",
    "    response = es.search(\n",
    "        index= parametros.semilla_inventario_index,\n",
    "        body={\n",
    "               \"_source\":  ['site_id','nombre_municipio', 'nombre_departamento', 'nombre_centro_pob','energiadesc'\n",
    "                           ,'nombreSede','latitud', 'longitud','id_Beneficiario','COD_ISO','codDanesede',\n",
    "                           'cod_servicio','codDaneMuni','nombre_centro_pob','codCentroPoblado','codDaneInstitucionEdu',\n",
    "                           'tipoSitio','detalleSitio','energia','region','matricula','DDA','grupoDesc','estadoInstalacion']            \n",
    "            \n",
    "        },\n",
    "        size=total_docs\n",
    "    )\n",
    "    #print(es.info())  se agregaron mas campos 01/07/21\n",
    "    #['site_id','nombre_municipio', 'nombre_departamento', 'nombre_centro_pob','energiadesc'\n",
    "    #                       ,'nombreSede','latitud', 'longitud','id_Beneficiario','COD_ISO','codDanesede'\n",
    "    #                       ,'DDA','estadoInstalacion','nombreInstitucionEd','matricula','municipioPDET']\n",
    "    elastic_docs = response[\"hits\"][\"hits\"]\n",
    "    fields = {}\n",
    "    for num, doc in enumerate(elastic_docs):\n",
    "        source_data = doc[\"_source\"]\n",
    "        for key, val in source_data.items():\n",
    "            try:\n",
    "                fields[key] = np.append(fields[key], val)\n",
    "            except KeyError:\n",
    "                fields[key] = np.array([val])\n",
    "\n",
    "    datos_semilla = pd.DataFrame(dict([ (k,pd.Series(v)) for k,v in fields.items() ])) #pd.DataFrame(fields)\n",
    "except Exception as e:\n",
    "    print(e.message)\n",
    "    print(\"fecha:\",now,\"- Error en lectura de datos semilla\")\n",
    "    exit()\n",
    "\n",
    "\n"
   ]
  },
  {
   "cell_type": "code",
   "execution_count": 31,
   "metadata": {},
   "outputs": [],
   "source": [
    "datos_semilla['matricula']=datos_semilla['matricula'].apply(lambda x:x if x!='No aplica' else 0)"
   ]
  },
  {
   "cell_type": "code",
   "execution_count": 32,
   "metadata": {
    "scrolled": true
   },
   "outputs": [
    {
     "data": {
      "text/html": [
       "<div>\n",
       "<style scoped>\n",
       "    .dataframe tbody tr th:only-of-type {\n",
       "        vertical-align: middle;\n",
       "    }\n",
       "\n",
       "    .dataframe tbody tr th {\n",
       "        vertical-align: top;\n",
       "    }\n",
       "\n",
       "    .dataframe thead th {\n",
       "        text-align: right;\n",
       "    }\n",
       "</style>\n",
       "<table border=\"1\" class=\"dataframe\">\n",
       "  <thead>\n",
       "    <tr style=\"text-align: right;\">\n",
       "      <th></th>\n",
       "      <th>site_id</th>\n",
       "      <th>matricula</th>\n",
       "    </tr>\n",
       "  </thead>\n",
       "  <tbody>\n",
       "  </tbody>\n",
       "</table>\n",
       "</div>"
      ],
      "text/plain": [
       "Empty DataFrame\n",
       "Columns: [site_id, matricula]\n",
       "Index: []"
      ]
     },
     "execution_count": 32,
     "metadata": {},
     "output_type": "execute_result"
    }
   ],
   "source": [
    "# datos_semilla[datos_semilla['matricula']=='No aplica'][['site_id','matricula']]"
   ]
  },
  {
   "cell_type": "markdown",
   "metadata": {},
   "source": [
    "* se valida latitud longitud\n",
    "* Se crea campo location\n",
    "* se renombran campos de semilla"
   ]
  },
  {
   "cell_type": "code",
   "execution_count": null,
   "metadata": {},
   "outputs": [],
   "source": [
    "def get_location(x):\n",
    "    patron = re.compile('^(\\-?\\d+(\\.\\d+)?),\\s*(\\-?\\d+(\\.\\d+)?)$') #patrón que debe cumplir\n",
    "    if (not patron.match(x) is None):\n",
    "        return x.replace(',','.')\n",
    "    else:\n",
    "        #Código a ejecutar si las coordenadas no son válidas\n",
    "        return 'a'\n",
    "datos_semilla['latitud'] = datos_semilla['latitud'].apply(get_location)\n",
    "datos_semilla['longitud'] = datos_semilla['longitud'].apply(get_location)\n",
    "datos_semilla = datos_semilla.drop(datos_semilla[(datos_semilla[\"longitud\"]=='a') | (datos_semilla[\"latitud\"]=='a')].index)\n",
    "datos_semilla['gestion.totales.location'] = datos_semilla['latitud'] + ',' + datos_semilla['longitud']\n",
    "datos_semilla['gestion.totales.location']=datos_semilla['gestion.totales.location'].str.replace('a,a','')\n",
    "datos_semilla.drop(columns=['latitud','longitud'],inplace=True)\n",
    "\n",
    "#datos_semilla"
   ]
  },
  {
   "cell_type": "markdown",
   "metadata": {},
   "source": [
    "### Leyendo indice servicemanager-incidentes"
   ]
  },
  {
   "cell_type": "markdown",
   "metadata": {},
   "source": [
    "Se lee la información de los De Service Manager. En la lectura se traen todas las interacciones reportadas por servicemanager, con la información de la misma.\n",
    "\n",
    "* clr_bmc_location, es la llave para cruzar con cada centro de conexión.\n",
    "* product_type, es el detalle del ticket.\n",
    "* clr_bmc_host, estado la IP\n",
    "* assignment, es el sujeto asignado al ticket\n",
    "* contact_name, usuario del ticket\n",
    "* open_time y resolved_time, son las fecha de apertura y cierre del ticket\n",
    "* resolution, respuesta al ticket\n",
    "* number, numero del ticket\n",
    "* source, fuente del ticket(email o telefono)\n",
    "* severity, gravedad del ticket\n",
    "* category y subcategory, clasificacion dada por mintic"
   ]
  },
  {
   "cell_type": "code",
   "execution_count": null,
   "metadata": {
    "scrolled": true
   },
   "outputs": [],
   "source": [
    "def traeSMIncidentes(fecha_max,fecha_tope):\n",
    "    total_docs = 10000\n",
    "    response = es.search(\n",
    "        index= parametros.sm_incidentes,\n",
    "        body={\n",
    "            \"_source\": [\"clr_bmc_location\",\"severity\",\"open_time\"]\n",
    "            ,\"query\": {\n",
    "                \"range\": {\n",
    "                  \"@timestamp\": {\n",
    "                  #\"open_time\": {\n",
    "                    \"gte\": fecha_max,\n",
    "                    \"lt\": fecha_tope\n",
    "                  }\n",
    "                }\n",
    "            }\n",
    "        },\n",
    "        size=total_docs\n",
    "    )\n",
    "    elastic_docs = response[\"hits\"][\"hits\"]\n",
    "    fields = {}\n",
    "    for num, doc in enumerate(elastic_docs):\n",
    "        source_data = doc[\"_source\"]\n",
    "        for key, val in source_data.items():\n",
    "            try:\n",
    "                fields[key] = np.append(fields[key], val)\n",
    "            except KeyError:\n",
    "                fields[key] = np.array([val])\n",
    "\n",
    "    return pd.DataFrame(dict([ (k,pd.Series(v)) for k,v in fields.items() ]))\n",
    "    "
   ]
  },
  {
   "cell_type": "markdown",
   "metadata": {},
   "source": [
    "Realizando bucle hasta conseguir datos de servicemanager-incidentes o hasta la fecha actual para realizar la carga de datos"
   ]
  },
  {
   "cell_type": "code",
   "execution_count": null,
   "metadata": {},
   "outputs": [],
   "source": [
    "def traeSMInteracciones(fecha_max,fecha_tope):\n",
    "    total_docs = 10000    \n",
    "    response = es.search(\n",
    "        index= parametros.sm_interaciones,\n",
    "        body={\n",
    "            \"_source\": [\"clr_txt_idbneficmtc\",\"variable1\",\"source\",\"open_time\",\"category\"]\n",
    "            ,\"query\": {\n",
    "                \"bool\":{\n",
    "                    \"must_not\": [\n",
    "                        {\n",
    "                          \"term\": {\n",
    "                            \"clr_txt_idbneficmtc\": \"null\"\n",
    "                          }\n",
    "                        }\n",
    "                      ],\n",
    "                      \"filter\": {\n",
    "                        \"range\": {\n",
    "                            #\"@timestamp\": {\n",
    "                             \"open_time\": {\n",
    "                                \"gte\": fecha_max,\n",
    "                                \"lt\": fecha_tope\n",
    "                            }\n",
    "                        }\n",
    "                      }\n",
    "                 }\n",
    "              }\n",
    "        },\n",
    "        size=total_docs\n",
    "    )\n",
    "    elastic_docs = response[\"hits\"][\"hits\"]\n",
    "    fields = {}\n",
    "    for num, doc in enumerate(elastic_docs):\n",
    "        source_data = doc[\"_source\"]\n",
    "        for key, val in source_data.items():\n",
    "            try:\n",
    "                fields[key] = np.append(fields[key], val)\n",
    "            except KeyError:\n",
    "                fields[key] = np.array([val])\n",
    "\n",
    "    return pd.DataFrame(dict([ (k,pd.Series(v)) for k,v in fields.items() ]))"
   ]
  },
  {
   "cell_type": "code",
   "execution_count": null,
   "metadata": {},
   "outputs": [],
   "source": [
    "#fecha_ejecucion = \"2021-04-01T12:40:00\"\n",
    "#print(\" f1: \", fecha_max_mintic, \"  ***** f2: \", fecha_tope_mintic)\n",
    "#print(\" fecha_ejecucion : \",fecha_ejecucion, \" fecha_ejecucion2 : \",fecha_ejecucion2)\n",
    "#fecha_ejecucion = \"2021-06-12T12:40:00\""
   ]
  },
  {
   "cell_type": "markdown",
   "metadata": {},
   "source": [
    "* Se calcula rango en base a la fecha de ejecución. Para este caso es de 24 horas.\n",
    "* Se ejecuta la función de consulta con el rango de fechas.\n",
    "* Si no retorna datos se incrementa el rango y se ejecuta nuevamente. Este proceso se repite hasta conseguir datos o hasta que el rango de ejecución alcance la fecha y hora actual."
   ]
  },
  {
   "cell_type": "code",
   "execution_count": null,
   "metadata": {},
   "outputs": [],
   "source": [
    "fecha_max_mintic = fecha_ejecucion\n",
    "fecha_tope_mintic = (datetime.strptime(fecha_max_mintic, \"%Y-%m-%d\"'T'\"%H:%M:%S\")+timedelta(hours=24)-timedelta(seconds=1)).strftime(\"%Y-%m-%d\"'T'\"%H:%M:%S\")\n",
    "#fecha_tope_mintic = (datetime.strptime(fecha_max_mintic, \"%Y-%m-%d\"'T'\"%H:%M:%S\")+timedelta(days=124)-timedelta(seconds=1)).strftime(\"%Y-%m-%d\"'T'\"%H:%M:%S\")\n",
    "\n",
    "datos_SM_incidents = traeSMIncidentes(fecha_max_mintic,fecha_tope_mintic)\n",
    "\n",
    "if (datos_SM_incidents is None or datos_SM_incidents.empty):\n",
    "    while (datos_SM_incidents is None or datos_SM_incidents.empty) and ((datetime.strptime(fecha_max_mintic[0:10], '%Y-%m-%d').strftime(\"%Y-%m-%d\"'T'\"%H:%M:%S\")) < str(now.strftime(\"%Y-%m-%d\"'T'\"%H:%M:%S\"))):\n",
    "        fecha_max_mintic = (datetime.strptime(fecha_max_mintic, \"%Y-%m-%d\"'T'\"%H:%M:%S\")+timedelta(hours=24)).strftime(\"%Y-%m-%d\"'T'\"%H:%M:%S\")\n",
    "        fecha_tope_mintic = (datetime.strptime(fecha_tope_mintic, \"%Y-%m-%d\"'T'\"%H:%M:%S\")+timedelta(hours=24)).strftime(\"%Y-%m-%d\"'T'\"%H:%M:%S\")\n",
    "        datos_SM_incidents = traeSMIncidentes(fecha_max_mintic,fecha_tope_mintic)\n",
    "else:\n",
    "    pass\n",
    "#datos_SM_incidents   "
   ]
  },
  {
   "cell_type": "code",
   "execution_count": null,
   "metadata": {},
   "outputs": [],
   "source": [
    "fecha_max_mintic2 = fecha_ejecucion2\n",
    "fecha_tope_mintic2 = (datetime.strptime(fecha_max_mintic2, \"%Y-%m-%d\"'T'\"%H:%M:%S\")+timedelta(hours=24)-timedelta(seconds=1)).strftime(\"%Y-%m-%d\"'T'\"%H:%M:%S\")\n",
    "\n",
    "datos_SM_interactions = traeSMInteracciones(fecha_max_mintic2,fecha_tope_mintic2)\n",
    "\n",
    "if datos_SM_interactions is None or datos_SM_interactions.empty:\n",
    "    while (datos_SM_interactions is None or datos_SM_interactions.empty) and ((datetime.strptime(fecha_max_mintic2[0:10], '%Y-%m-%d').strftime(\"%Y-%m-%d\"'T'\"%H:%M:%S\")) < str(now.strftime(\"%Y-%m-%d\"'T'\"%H:%M:%S\"))):\n",
    "        fecha_max_mintic2 = (datetime.strptime(fecha_max_mintic2, \"%Y-%m-%d\"'T'\"%H:%M:%S\")+timedelta(hours=24)).strftime(\"%Y-%m-%d\"'T'\"%H:%M:%S\")\n",
    "        fecha_tope_mintic2 = (datetime.strptime(fecha_tope_mintic2, \"%Y-%m-%d\"'T'\"%H:%M:%S\")+timedelta(hours=24)).strftime(\"%Y-%m-%d\"'T'\"%H:%M:%S\")\n",
    "        datos_SM_interactions = traeSMInteracciones(fecha_max_mintic2,fecha_tope_mintic2)\n",
    "else:\n",
    "    pass\n",
    "#datos_SM_interactions"
   ]
  },
  {
   "cell_type": "markdown",
   "metadata": {},
   "source": [
    "# De aqui hacia arriba esta OK!"
   ]
  },
  {
   "cell_type": "markdown",
   "metadata": {},
   "source": [
    "### Se calcula conteo de incidentes"
   ]
  },
  {
   "cell_type": "markdown",
   "metadata": {},
   "source": [
    "* Se calcula fecha control\n",
    "* Se totaliza incidentes por site_id y fecha control\n",
    "* Se hace merge entre semilla e incidentes"
   ]
  },
  {
   "cell_type": "code",
   "execution_count": null,
   "metadata": {
    "scrolled": true
   },
   "outputs": [],
   "source": [
    "try:\n",
    "    datos_SM_incidents['gestion.fechaControl'] = datos_SM_incidents['open_time'].str.split(\".\", n = 1, expand = True)[0].str[0:-4] + '0:00'\n",
    "    datos_SM_incidents['gestion.fechaControl'] = datos_SM_incidents['gestion.fechaControl'].str.replace(\"T\",\" \")\n",
    "    datos_SM_incidents = datos_SM_incidents.groupby(['clr_bmc_location','gestion.fechaControl']).count().reset_index()\n",
    "    datos_SM_incidents = datos_SM_incidents.rename(columns={'clr_bmc_location':'site_id', 'severity':'gestion.totales.total_incidentes'})\n",
    "    conteo_incidentes = pd.merge(datos_SM_incidents,datos_semilla, on=['site_id'],how='inner')\n",
    "    conteo_incidentes = conteo_incidentes.rename(columns={'id_Beneficiario' : 'gestion.totales.id_Beneficiario'\n",
    "#                                                           ,'nombreSede':'gestion.totales.nombreSede'\n",
    "                                                          ,'site_id':'gestion.totales.site_id'\n",
    "                                                          ,'nombre_departamento':'gestion.totales.dptoGestion'\n",
    "                                                          ,'nombre_municipio':'gestion.totales.muniGestion'\n",
    "                                                          ,'nombre_centro_pob':'gestion.totales.nombre_centro_pob'\n",
    "                                                          ,'COD_ISO':'gestion.totales.COD_ISO'\n",
    "                                                          ,'codDanesede':'gestion.totales.codDanesede'\n",
    "                                                          ,'energiadesc':'gestion.totales.energiadesc'\n",
    "                                                          ,'DDA':'gestion.totales.DDA'\n",
    "                                                          ,'estadoInstalacion':'gestion.totales.estadoInstalacion'\n",
    "                                                          ,'nombreSede':'gestion.totales.nombreInstitucionEd'\n",
    "                                                          ,'matricula':'gestion.totales.matricula'\n",
    "                                                          ,'cod_servicio': 'gestion.estado.cod_servicio'\n",
    "                                                          ,'codDaneMuni':'gestion.estado.codDaneMuni'\n",
    "#                                                           ,'municipioPDET':'gestion.totales.municipioPDET'\n",
    "                                                          \n",
    "                                                                                                                          ,'codDaneMuni':'gestion.estado.codDaneMuni'\n",
    "                                                        ,'codCentroPoblado':'gestion.estado.codCentroPoblado'\n",
    "                                                        ,'codDaneInstitucionEdu':'gestion.estado.codDaneInstitucionEdu'\n",
    "                                                        ,'tipoSitio':'gestion.estado.tipoSitio'\n",
    "                                                        ,'detalleSitio':'gestion.estado.detalleSitio'\n",
    "                                                        ,'energia':'gestion.estado.energia'\n",
    "                                                        ,'region':'gestion.estado.region'\n",
    "                                                        ,'grupoDesc' :'gestion.estado.grupoDesc'\n",
    "                                                          \n",
    "                                                         })\n",
    "    \n",
    "    conteo_incidentes['gestion.totales.nombreSede'] = conteo_incidentes['gestion.totales.nombreInstitucionEd']\n",
    "    conteo_incidentes['gestion.estado.estadoInstalacion'] = conteo_incidentes['gestion.totales.estadoInstalacion']\n",
    "    \n",
    "    conteo_incidentes[\"gestion.fecha\"] = conteo_incidentes[\"gestion.fechaControl\"].str.split(\" \", n = 1, expand = True)[0]\n",
    "    conteo_incidentes[\"gestion.hora\"] = conteo_incidentes[\"gestion.fechaControl\"].str.split(\" \", n = 1, expand = True)[1].str.split(\":\", n = 2, expand = True)[0]\n",
    "    conteo_incidentes[\"gestion.anyo\"] = conteo_incidentes[\"gestion.fecha\"].str[0:4]\n",
    "    conteo_incidentes[\"gestion.mes\"] = conteo_incidentes[\"gestion.fecha\"].str[5:7]\n",
    "    conteo_incidentes[\"gestion.dia\"] = conteo_incidentes[\"gestion.fecha\"].str[8:10]\n",
    "except:\n",
    "    conteo_incidentes = pd.DataFrame()\n",
    "#conteo_incidentes"
   ]
  },
  {
   "cell_type": "markdown",
   "metadata": {},
   "source": [
    "### Se calcula conteo de llamadas correos"
   ]
  },
  {
   "cell_type": "markdown",
   "metadata": {},
   "source": [
    "* Se calcula fecha control\n",
    "* Se totaliza source por site_id y fecha control\n",
    "* Se hace merge entre semilla e incidentes\n",
    "* Se separa el conteo de llamadas y correos"
   ]
  },
  {
   "cell_type": "code",
   "execution_count": null,
   "metadata": {},
   "outputs": [],
   "source": [
    "try:\n",
    "    datos_SM_interactions['gestion.fechaControl'] = datos_SM_interactions['open_time'].str.split(\".\", n = 1, expand = True)[0].str[0:-4] + '0:00'\n",
    "    datos_SM_interactions['gestion.fechaControl'] = datos_SM_interactions['gestion.fechaControl'].str.replace(\"T\",\" \")\n",
    "    datos_SM_interactions['gestion.fechaControl'].str[0:-4] + '0:00'\n",
    "    datos_SM_interactions = datos_SM_interactions.rename(columns={'variable1' : 'gestion.totales.llamadas','clr_txt_idbneficmtc':'id_Beneficiario'})\n",
    "    datos_SM_interactions = datos_SM_interactions.groupby(['id_Beneficiario','source','gestion.fechaControl']).count().reset_index()           \n",
    "    datos_SM_interactions['id_Beneficiario'] = datos_SM_interactions['id_Beneficiario'].astype(int)\n",
    "    #datos_SM_interactions['gestion.tiempoRespuesta'] = datos_SM_interactions.apply(lambda row: row.close_time - row.open_time, axis=1)\n",
    "    conteo_interacciones = pd.merge(datos_SM_interactions,datos_semilla, on=['id_Beneficiario'],how='inner')\n",
    "    conteo_interacciones = conteo_interacciones.rename(columns={'id_Beneficiario' : 'gestion.totales.id_Beneficiario'\n",
    "#                                                                 ,'nombreSede':'gestion.totales.nombreSede'\n",
    "                                                                ,'site_id':'gestion.totales.site_id'\n",
    "                                                                ,'nombre_departamento':'gestion.totales.dptoGestion'\n",
    "                                                                ,'nombre_municipio':'gestion.totales.muniGestion'\n",
    "                                                                ,'nombre_centro_pob':'gestion.totales.nombre_centro_pob'\n",
    "                                                                ,'COD_ISO':'gestion.totales.COD_ISO'\n",
    "                                                                ,'codDanesede':'gestion.totales.codDanesede'\n",
    "                                                                ,'energiadesc':'gestion.totales.energiadesc'\n",
    "                                                                ,'DDA':'gestion.totales.DDA'\n",
    "                                                                ,'estadoInstalacion':'gestion.totales.estadoInstalacion'\n",
    "                                                                ,'nombreSede':'gestion.totales.nombreInstitucionEd'\n",
    "                                                                ,'matricula':'gestion.totales.matricula'\n",
    "                                                                ,'cod_servicio': 'gestion.estado.cod_servicio'\n",
    "                                                                ,'codDaneMuni':'gestion.estado.codDaneMuni'\n",
    "#                                                                 ,'municipioPDET':'gestion.totales.municipioPDET'\n",
    "                                                                \n",
    "        \n",
    "                                                                ,'codDaneMuni':'gestion.estado.codDaneMuni'\n",
    "                                                                ,'codCentroPoblado':'gestion.estado.codCentroPoblado'\n",
    "                                                                ,'codDaneInstitucionEdu':'gestion.estado.codDaneInstitucionEdu'\n",
    "                                                                ,'tipoSitio':'gestion.estado.tipoSitio'\n",
    "                                                                ,'detalleSitio':'gestion.estado.detalleSitio'\n",
    "                                                                ,'energia':'gestion.estado.energia'\n",
    "                                                                ,'region':'gestion.estado.region'\n",
    "                                                                ,'grupoDesc' :'gestion.estado.grupoDesc'\n",
    "                                                                \n",
    "                                                               })\n",
    "    \n",
    "    conteo_interacciones['gestion.totales.nombreSede'] = conteo_interacciones['gestion.totales.nombreInstitucionEd']\n",
    "    conteo_interacciones['gestion.estado.estadoInstalacion'] = conteo_interacciones['gestion.totales.estadoInstalacion']\n",
    "    \n",
    "    conteo_interacciones[\"gestion.fecha\"] = conteo_interacciones[\"gestion.fechaControl\"].str.split(\" \", n = 1, expand = True)[0]\n",
    "    conteo_interacciones[\"gestion.hora\"] = conteo_interacciones[\"gestion.fechaControl\"].str.split(\" \", n = 1, expand = True)[1].str.split(\":\", n = 2, expand = True)[0]\n",
    "    conteo_interacciones[\"gestion.anyo\"] = conteo_interacciones[\"gestion.fecha\"].str[0:4]\n",
    "    conteo_interacciones[\"gestion.mes\"] = conteo_interacciones[\"gestion.fecha\"].str[5:7]\n",
    "    conteo_interacciones[\"gestion.dia\"] = conteo_interacciones[\"gestion.fecha\"].str[8:10]\n",
    "    \n",
    "    conteo_llamadas = conteo_interacciones[conteo_interacciones['source'] == \"6\"]\n",
    "    conteo_correos = conteo_interacciones[conteo_interacciones['source'] == \"5\"]\n",
    "except Exception as e:\n",
    "    print(e)\n",
    "    conteo_llamadas = pd.DataFrame()\n",
    "    conteo_correos = pd.DataFrame()\n",
    "    "
   ]
  },
  {
   "cell_type": "markdown",
   "metadata": {},
   "source": [
    "# calculo del total de ticket \n"
   ]
  },
  {
   "cell_type": "code",
   "execution_count": null,
   "metadata": {},
   "outputs": [],
   "source": [
    "try:\n",
    "    \n",
    "    #calculo del total de ticket : que seria el total de (conteo_interacciones  + conteo_incidentes)\n",
    "\n",
    "    #prueba =conteo_incidentes\n",
    "    #conteo_interacciones\n",
    "    \n",
    "    if not (isinstance(conteo_incidentes, pd.core.frame.DataFrame) and   \\\n",
    "            isinstance(conteo_interacciones, pd.core.frame.DataFrame) ):\n",
    "        raise Exception()\n",
    "        \n",
    "    tot = pd.concat( [conteo_incidentes, conteo_interacciones] )\n",
    "    #tot = pd.concat( [conteo_incidentes, prueba] )\n",
    "\n",
    "\n",
    "    tot = tot[['gestion.totales.id_Beneficiario','gestion.totales.site_id','gestion.fechaControl']]\n",
    "    tot[\"gestion.totales.total_tickets\"] = 0\n",
    "\n",
    "    totalesx = tot.groupby(['gestion.totales.id_Beneficiario','gestion.totales.site_id','gestion.fechaControl']).agg(['count']).reset_index()\n",
    "\n",
    "    totalesx.columns =totalesx.columns.droplevel(1)  \n",
    "    \n",
    "    totalesx['gestion.fechaControl'] = totalesx['gestion.fechaControl'].str.replace(\"T\",\" \")\n",
    "    totalesx['gestion.fechaControl'].str[0:-4] + '0:00'\n",
    "    \n",
    "    totalesx = totalesx.rename(columns={'gestion.totales.id_Beneficiario' : 'id_Beneficiario'})\n",
    "    \n",
    "    totalesx['id_Beneficiario'] = totalesx['id_Beneficiario'].astype(int)\n",
    "    \n",
    "    conteo_totalesx = pd.merge(totalesx,datos_semilla, on=['id_Beneficiario'],how='inner')\n",
    "    conteo_totalesx = conteo_totalesx.rename(columns={'id_Beneficiario' : 'gestion.totales.id_Beneficiario'\n",
    "#                                                                 ,'nombreSede':'gestion.totales.nombreSede'\n",
    "                                                                ,'site_id':'gestion.totales.site_id'\n",
    "                                                                ,'nombre_departamento':'gestion.totales.dptoGestion'\n",
    "                                                                ,'nombre_municipio':'gestion.totales.muniGestion'\n",
    "                                                                ,'nombre_centro_pob':'gestion.totales.nombre_centro_pob'\n",
    "                                                                ,'COD_ISO':'gestion.totales.COD_ISO'\n",
    "                                                                ,'codDanesede':'gestion.totales.codDanesede'\n",
    "                                                                ,'energiadesc':'gestion.totales.energiadesc'\n",
    "                                                                ,'DDA':'gestion.totales.DDA'\n",
    "                                                                ,'estadoInstalacion':'gestion.totales.estadoInstalacion'\n",
    "                                                                ,'nombreSede':'gestion.totales.nombreInstitucionEd'\n",
    "                                                                ,'matricula':'gestion.totales.matricula'\n",
    "                                                                \n",
    "                                                            ,'cod_servicio':'gestion.estado.cod_servicio'\n",
    "                                                            ,'codDaneMuni':'gestion.estado.codDaneMuni'\n",
    "                                                            ,'codCentroPoblado':'gestion.estado.codCentroPoblado'\n",
    "                                                            ,'codDaneInstitucionEdu':'gestion.estado.codDaneInstitucionEdu'\n",
    "                                                            ,'tipoSitio':'gestion.estado.tipoSitio'\n",
    "                                                            ,'detalleSitio':'gestion.estado.detalleSitio'\n",
    "                                                            ,'energia':'gestion.estado.energia'\n",
    "                                                            ,'region':'gestion.estado.region'\n",
    "                                                            ,'grupoDesc' :'gestion.estado.grupoDesc'\n",
    "#                                                             ,'estadoInstalacion':'gestion.estado.estadoInstalacion'\n",
    "                                                     \n",
    "                                                     })\n",
    "    \n",
    "    conteo_totalesx['gestion.totales.nombreSede'] = conteo_totalesx['gestion.totales.nombreInstitucionEd']\n",
    "    conteo_totalesx['gestion.estado.estadoInstalacion'] = conteo_totalesx['gestion.totales.estadoInstalacion']\n",
    "    \n",
    "    conteo_totalesx[\"gestion.fecha\"] = conteo_totalesx[\"gestion.fechaControl\"].str.split(\" \", n = 1, expand = True)[0]\n",
    "    conteo_totalesx[\"gestion.hora\"] = conteo_totalesx[\"gestion.fechaControl\"].str.split(\" \", n = 1, expand = True)[1].str.split(\":\", n = 2, expand = True)[0]\n",
    "    conteo_totalesx[\"gestion.anyo\"] = conteo_totalesx[\"gestion.fecha\"].str[0:4]\n",
    "    conteo_totalesx[\"gestion.mes\"] = conteo_totalesx[\"gestion.fecha\"].str[5:7]\n",
    "    conteo_totalesx[\"gestion.dia\"] = conteo_totalesx[\"gestion.fecha\"].str[8:10]\n",
    "    totalesx = conteo_totalesx\n",
    "except KeyError as err:\n",
    "    totalesx =pd.DataFrame([])\n",
    "    print(\"hubo error \", err)\n",
    "except:\n",
    "    totalesx =pd.DataFrame([])\n",
    "    print('conteo_incidentes o conteo_interacciones no existen')"
   ]
  },
  {
   "cell_type": "code",
   "execution_count": null,
   "metadata": {},
   "outputs": [],
   "source": [
    "# 'gestion.totales.estadoInstalacion' in conteo_incidentes, \\\n",
    "# 'gestion.totales.estadoInstalacion' in conteo_interacciones,\\\n",
    "# 'gestion.totales.estadoInstalacion' in conteo_llamadas,\\\n",
    "# 'gestion.totales.estadoInstalacion' in conteo_correos,\\\n",
    "# 'gestion.totales.estadoInstalacion' in conteo_totalesx"
   ]
  },
  {
   "cell_type": "markdown",
   "metadata": {},
   "source": [
    "# Despues del calculo la insercion de Tickets\n"
   ]
  },
  {
   "cell_type": "code",
   "execution_count": null,
   "metadata": {},
   "outputs": [],
   "source": [
    "use_these_keys = ['gestion.totales.site_id'\n",
    "                    ,'gestion.totales.total_tickets'\n",
    "                    ,'gestion.totales.COD_ISO'\n",
    "                    ,'gestion.totales.codDanesede'\n",
    "                    ,'gestion.totales.nombre_centro_pob'\n",
    "                    ,'gestion.totales.dptoGestion'\n",
    "                    ,'gestion.totales.energiadesc'\n",
    "                    ,'gestion.totales.muniGestion'\n",
    "                    ,'gestion.totales.id_Beneficiario'\n",
    "                    ,'gestion.totales.location'\n",
    "                    , 'gestion.totales.DDA'\n",
    "                    , 'gestion.totales.estadoInstalacion'\n",
    "                    , 'gestion.totales.nombreInstitucionEd'\n",
    "                    , 'gestion.totales.matricula'\n",
    "                    , 'gestion.totales.estadoInstalacion'\n",
    "#                   , 'gestion.totales.municipioPDET'\n",
    "                    , 'gestion.fechaControl'\n",
    "                    , 'gestion.fecha'\n",
    "                    , 'gestion.anyo'\n",
    "                    , 'gestion.mes'\n",
    "                    , 'gestion.dia'\n",
    "                    , 'gestion.hora'\n",
    "                \n",
    "                  , 'gestion.estado.cod_servicio'\n",
    "                  , 'gestion.estado.codDaneMuni'                  \n",
    "                  , 'gestion.estado.codCentroPoblado'\n",
    "                  , 'gestion.estado.codDaneInstitucionEdu'\n",
    "                  , 'gestion.estado.tipoSitio'\n",
    "                  , 'gestion.estado.detalleSitio'\n",
    "                  , 'gestion.estado.energia'\n",
    "                  , 'gestion.estado.region'\n",
    "                  , 'gestion.estado.grupoDesc'\n",
    "                  , 'gestion.estado.estadoInstalacion'\n",
    "                  \n",
    "                    , '@timestamp']\n",
    "\n",
    "#conteo_incidentes['gestion.totales.fecha_control'] = fecha_max_mintic\n",
    "\n",
    "totalesx['@timestamp'] = now.isoformat()"
   ]
  },
  {
   "cell_type": "code",
   "execution_count": 9,
   "metadata": {},
   "outputs": [
    {
     "data": {
      "text/plain": [
       "(0, 1)"
      ]
     },
     "execution_count": 9,
     "metadata": {},
     "output_type": "execute_result"
    }
   ],
   "source": [
    "# #$$$$$$$$$$$\n",
    "# t =pd.DataFrame([])\n",
    "# now = datetime.now()\n",
    "# t['@timestamp'] = now.isoformat()\n",
    "# t.shape"
   ]
  },
  {
   "cell_type": "code",
   "execution_count": null,
   "metadata": {},
   "outputs": [],
   "source": [
    "def doc_generator(df):\n",
    "    df_iter = df.iterrows()\n",
    "    for index, document in df_iter:\n",
    "        yield {\n",
    "                \"_index\": indice, \n",
    "                \"_id\": f\"{'totales-tickets-'+str(document['gestion.totales.id_Beneficiario']) + '-' + str(document['gestion.fechaControl'])}\",\n",
    "                \"_source\": filterKeys(document),\n",
    "            }\n",
    "if totalesx.shape[0]!=0:\n",
    "    salida = helpers.bulk(es, doc_generator(totalesx))\n",
    "    print(\"Fecha: \", now,\"- Totales tickets insertados en indice principal:\",salida[0]) "
   ]
  },
  {
   "cell_type": "markdown",
   "metadata": {},
   "source": [
    "### Realizando inserción conteo de llamadas"
   ]
  },
  {
   "cell_type": "code",
   "execution_count": null,
   "metadata": {},
   "outputs": [],
   "source": [
    "use_these_keys = ['gestion.totales.id_Beneficiario'\n",
    "                    ,'gestion.totales.llamadas'\n",
    "#                     ,'gestion.totales.nombreSede'\n",
    "                    ,'gestion.totales.COD_ISO'\n",
    "                    ,'gestion.totales.codDanesede'\n",
    "                    ,'gestion.totales.nombre_centro_pob'\n",
    "                    ,'gestion.totales.site_id'\n",
    "                    ,'gestion.totales.dptoGestion'\n",
    "                    ,'gestion.totales.energiadesc'\n",
    "                    ,'gestion.totales.muniGestion'\n",
    "                    ,'gestion.totales.location'\n",
    "                    ,'gestion.totales.estadoInstalacion'\n",
    "                    , 'gestion.fechaControl'\n",
    "                    , 'gestion.fecha'\n",
    "                    , 'gestion.anyo'\n",
    "                    , 'gestion.mes'\n",
    "                    , 'gestion.dia'\n",
    "                    , 'gestion.hora'\n",
    "                  , 'gestion.estado.cod_servicio'\n",
    "                  , 'gestion.estado.codDaneMuni'                  \n",
    "                  , 'gestion.estado.codCentroPoblado'\n",
    "                  , 'gestion.estado.codDaneInstitucionEdu'\n",
    "                  , 'gestion.estado.tipoSitio'\n",
    "                  , 'gestion.estado.detalleSitio'\n",
    "                  , 'gestion.estado.energia'\n",
    "                  , 'gestion.estado.region'\n",
    "                  , 'gestion.estado.grupoDesc'\n",
    "                  , 'gestion.estado.estadoInstalacion'\n",
    "                                      , '@timestamp']\n",
    "#conteo_llamadas['gestion.totales.fecha_control'] = fecha_max_mintic2\n",
    "conteo_llamadas['@timestamp'] = now.isoformat()\n",
    "def doc_generator(df):\n",
    "    df_iter = df.iterrows()\n",
    "    for index, document in df_iter:\n",
    "        yield {\n",
    "                \"_index\": indice, \n",
    "                \"_id\": f\"{'totales-llamadas-'+str(+document['gestion.totales.id_Beneficiario']) + '-' + str(document['gestion.fechaControl'])}\",\n",
    "                \"_source\": filterKeys(document),\n",
    "            }\n",
    "\n",
    "salida = helpers.bulk(es, doc_generator(conteo_llamadas))\n",
    "print(\"Fecha: \", now,\"- Llamadas insertadas en indice principal:\",salida[0])"
   ]
  },
  {
   "cell_type": "markdown",
   "metadata": {},
   "source": [
    "### Realizando inserción conteo de Correos"
   ]
  },
  {
   "cell_type": "code",
   "execution_count": null,
   "metadata": {},
   "outputs": [],
   "source": [
    "use_these_keys = ['gestion.totales.id_Beneficiario'\n",
    "                    ,'gestion.totales.correos'\n",
    "                    ,'gestion.totales.nombreSede'\n",
    "                    ,'gestion.totales.COD_ISO'\n",
    "                    ,'gestion.totales.codDanesede'\n",
    "                    ,'gestion.totales.nombre_centro_pob'\n",
    "                    ,'gestion.totales.site_id'\n",
    "                    ,'gestion.totales.dptoGestion'\n",
    "                    ,'gestion.totales.energiadesc'\n",
    "                    ,'gestion.totales.muniGestion'\n",
    "                    ,'gestion.totales.location'\n",
    "                    ,'gestion.totales.DDA'\n",
    "                    ,'gestion.totales.estadoInstalacion'\n",
    "                    ,'gestion.totales.nombreInstitucionEd'\n",
    "                    ,'gestion.totales.matricula'\n",
    "#                     ,'gestion.totales.municipioPDET'\n",
    "                    ,'gestion.fechaControl'\n",
    "                    , 'gestion.fecha'\n",
    "                    , 'gestion.anyo'\n",
    "                    , 'gestion.mes'\n",
    "                    , 'gestion.dia'\n",
    "                    , 'gestion.hora'\n",
    "                  \n",
    "                  , 'gestion.estado.cod_servicio'\n",
    "                  , 'gestion.estado.codDaneMuni'                  \n",
    "                  , 'gestion.estado.codCentroPoblado'\n",
    "                  , 'gestion.estado.codDaneInstitucionEdu'\n",
    "                  , 'gestion.estado.tipoSitio'\n",
    "                  , 'gestion.estado.detalleSitio'\n",
    "                  , 'gestion.estado.energia'\n",
    "                  , 'gestion.estado.region'\n",
    "                  , 'gestion.estado.grupoDesc'\n",
    "                  , 'gestion.estado.estadoInstalacion'\n",
    "                  \n",
    "                    , '@timestamp']\n",
    "\n",
    "#conteo_correos['gestion.totales.fecha_control'] = fecha_max_mintic2\n",
    "conteo_correos['@timestamp'] = now.isoformat()\n",
    "def doc_generator(df):\n",
    "    df_iter = df.iterrows()\n",
    "    for index, document in df_iter:\n",
    "        yield {\n",
    "                \"_index\": indice, \n",
    "                \"_id\": f\"{'totales-correos-'+str(+document['gestion.totales.id_Beneficiario']) + '-' + str(document['gestion.fechaControl'])}\",\n",
    "                \"_source\": filterKeys(document),\n",
    "            }\n",
    "\n",
    "salida = helpers.bulk(es, doc_generator(conteo_correos))\n",
    "print(\"Fecha: \", now,\"- Correos insertados en indice principal:\",salida[0])"
   ]
  },
  {
   "cell_type": "markdown",
   "metadata": {},
   "source": [
    "### Realizando inserción conteo de incidentes"
   ]
  },
  {
   "cell_type": "code",
   "execution_count": null,
   "metadata": {},
   "outputs": [],
   "source": [
    "use_these_keys = ['gestion.totales.site_id'\n",
    "                    ,'gestion.totales.total_incidentes'\n",
    "                    ,'gestion.totales.nombreSede'\n",
    "                    ,'gestion.totales.COD_ISO'\n",
    "                    ,'gestion.totales.codDanesede'\n",
    "                    ,'gestion.totales.nombre_centro_pob'\n",
    "                    ,'gestion.totales.dptoGestion'\n",
    "                    ,'gestion.totales.energiadesc'\n",
    "                    ,'gestion.totales.muniGestion'\n",
    "                    ,'gestion.totales.id_Beneficiario'\n",
    "                    ,'gestion.totales.location'\n",
    "                    , 'gestion.totales.DDA'\n",
    "                    , 'gestion.totales.estadoInstalacion'\n",
    "                    , 'gestion.totales.nombreInstitucionEd'\n",
    "                    , 'gestion.totales.matricula'\n",
    "#                     , 'gestion.totales.municipioPDET'\n",
    "                    , 'gestion.fechaControl'\n",
    "                    , 'gestion.fecha'\n",
    "                    , 'gestion.anyo'\n",
    "                    , 'gestion.mes'\n",
    "                    , 'gestion.dia'\n",
    "                    , 'gestion.hora'\n",
    "                  \n",
    "                  , 'gestion.estado.cod_servicio'\n",
    "                  , 'gestion.estado.codDaneMuni'                  \n",
    "                  , 'gestion.estado.codCentroPoblado'\n",
    "                  , 'gestion.estado.codDaneInstitucionEdu'\n",
    "                  , 'gestion.estado.tipoSitio'\n",
    "                  , 'gestion.estado.detalleSitio'\n",
    "                  , 'gestion.estado.energia'\n",
    "                  , 'gestion.estado.region'\n",
    "                  , 'gestion.estado.grupoDesc'\n",
    "                  , 'gestion.estado.estadoInstalacion'\n",
    "                  \n",
    "                    , '@timestamp']\n",
    "\n",
    "#conteo_incidentes['gestion.totales.fecha_control'] = fecha_max_mintic\n",
    "\n",
    "conteo_incidentes['@timestamp'] = now.isoformat()\n",
    "def doc_generator(df):\n",
    "    df_iter = df.iterrows()\n",
    "    for index, document in df_iter:\n",
    "        yield {\n",
    "                \"_index\": indice, \n",
    "                \"_id\": f\"{'totales-incidentes-'+str(document['gestion.totales.id_Beneficiario']) + '-' + str(document['gestion.fechaControl'])}\",\n",
    "                \"_source\": filterKeys(document),\n",
    "            }\n",
    "\n",
    "salida = helpers.bulk(es, doc_generator(conteo_incidentes))\n",
    "print(\"Fecha: \", now,\"- Incidentes insertados en indice principal:\",salida[0])    \n"
   ]
  },
  {
   "cell_type": "markdown",
   "metadata": {},
   "source": [
    "### Actualizando fecha de control de ejecución"
   ]
  },
  {
   "cell_type": "markdown",
   "metadata": {},
   "source": [
    "* Se actualiza la fecha de control. Si el calculo supera la fecha hora actual, se asocia esta ultima."
   ]
  },
  {
   "cell_type": "code",
   "execution_count": null,
   "metadata": {},
   "outputs": [],
   "source": [
    "fecha_ejecucion = (datetime.strptime(fecha_max_mintic, \"%Y-%m-%d\"'T'\"%H:%M:%S\")+timedelta(hours=24)).strftime(\"%Y-%m-%d\"'T'\"%H:%M:%S\")[0:15] + '0:00'    \n",
    "#fecha_ejecucion = \"2021-05-01T00:00:00\"\n",
    "\n",
    "if fecha_ejecucion > str(now.strftime(\"%Y-%m-%d\"'T'\"%H:%M:%S\"))[0:15] + '0:00':\n",
    "    fecha_ejecucion = str(now.strftime(\"%Y-%m-%d\"'T'\"%H:%M:%S\"))[0:15] + '0:00'\n",
    "response = es.index(\n",
    "        index = parametros.mintic_control,\n",
    "        id = 'jerarquia_gestion_totales_incidentes',\n",
    "        body = { 'jerarquia_gestion_totales_incidentes': 'gestion_totales_incidentes','gestion.fechaControl' : fecha_ejecucion}\n",
    ")\n",
    "print(\"actualizada fecha control de ejecucion:\",fecha_ejecucion)"
   ]
  },
  {
   "cell_type": "code",
   "execution_count": null,
   "metadata": {},
   "outputs": [],
   "source": [
    "fecha_ejecucion2 = (datetime.strptime(fecha_max_mintic2, \"%Y-%m-%d\"'T'\"%H:%M:%S\")+timedelta(hours=24)).strftime(\"%Y-%m-%d\"'T'\"%H:%M:%S\")[0:15] + '0:00'    \n",
    "#fecha_ejecucion2 = \"2021-05-01T00:00:00\"\n",
    "\n",
    "if fecha_ejecucion2 > str(now.strftime(\"%Y-%m-%d\"'T'\"%H:%M:%S\"))[0:15] + '0:00':\n",
    "    fecha_ejecucion2 = str(now.strftime(\"%Y-%m-%d\"'T'\"%H:%M:%S\"))[0:15] + '0:00'\n",
    "response = es.index(\n",
    "        index = parametros.mintic_control,\n",
    "        id = 'jerarquia_gestion_totales_llamadas',\n",
    "        body = { 'jerarquia_gestion_totales_llamadas': 'gestion_totales_llamadas','gestion.fechaControl' : fecha_ejecucion2}\n",
    ")\n",
    "print(\"actualizada fecha control de ejecucion:\",fecha_ejecucion2)"
   ]
  },
  {
   "cell_type": "code",
   "execution_count": null,
   "metadata": {},
   "outputs": [],
   "source": []
  }
 ],
 "metadata": {
  "kernelspec": {
   "display_name": "Python 3",
   "language": "python",
   "name": "python3"
  },
  "language_info": {
   "codemirror_mode": {
    "name": "ipython",
    "version": 3
   },
   "file_extension": ".py",
   "mimetype": "text/x-python",
   "name": "python",
   "nbconvert_exporter": "python",
   "pygments_lexer": "ipython3",
   "version": "3.8.5"
  }
 },
 "nbformat": 4,
 "nbformat_minor": 4
}
