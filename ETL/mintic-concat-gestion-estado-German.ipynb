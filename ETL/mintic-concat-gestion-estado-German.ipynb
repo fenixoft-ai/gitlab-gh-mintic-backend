{
 "cells": [
  {
   "cell_type": "code",
   "execution_count": 16,
   "metadata": {},
   "outputs": [],
   "source": [
    "from elasticsearch import Elasticsearch, helpers\n",
    "from ssl import create_default_context\n",
    "import pandas as pd\n",
    "import numpy as np\n",
    "from datetime import datetime, timedelta\n",
    "import parametros\n",
    "import re\n",
    "# Aqui comence con los cambios, quite algunas librerias que no se estan usando [GM]\n"
   ]
  },
  {
   "cell_type": "markdown",
   "metadata": {},
   "source": [
    "## Conectando a ElasticSearch"
   ]
  },
  {
   "cell_type": "markdown",
   "metadata": {},
   "source": [
    "La ultima línea se utiliza para garantizar la ejecución de la consulta\n",
    "* timeout es el tiempo para cada ejecución\n",
    "* max_retries el número de intentos si la conexión falla\n",
    "* retry_on_timeout para activar los reitentos"
   ]
  },
  {
   "cell_type": "code",
   "execution_count": 17,
   "metadata": {},
   "outputs": [],
   "source": [
    "context = create_default_context(cafile=parametros.cafile)\n",
    "es = Elasticsearch(\n",
    "    parametros.servidor,\n",
    "    http_auth=(parametros.usuario_EC, parametros.password_EC),\n",
    "    scheme=\"https\",\n",
    "    port=parametros.puerto,\n",
    "    ssl_context=context,\n",
    "    timeout=60, max_retries=3, retry_on_timeout=True\n",
    ") "
   ]
  },
  {
   "cell_type": "markdown",
   "metadata": {},
   "source": [
    "### Calculando fechas para la ejecución"
   ]
  },
  {
   "cell_type": "markdown",
   "metadata": {},
   "source": [
    "* Se calculan las fechas para asociar al nombre del indice\n",
    "* fecha_hoy es usada para concatenar al nombre del indice principal previa inserción"
   ]
  },
  {
   "cell_type": "code",
   "execution_count": 18,
   "metadata": {},
   "outputs": [
    {
     "data": {
      "text/plain": [
       "'20210821130346'"
      ]
     },
     "execution_count": 18,
     "metadata": {},
     "output_type": "execute_result"
    }
   ],
   "source": [
    "now = datetime.now()\n",
    "fecha_hoy = str(now.strftime(\"%Y.%m.%d\"))\n",
    "ahora_format = \"%Y-%m-%d\"'T'\"%H:%M:%S\"\n",
    "ahora = str(now.strftime(ahora_format))\n",
    "ahora_cdd = str(now.strftime(\"%Y-%m-%d\"' '\"%H:%M:%S\"))\n",
    "fechaAhora = str(now.strftime(\"%Y%m%d%H%M%S\"))\n",
    "datos_logs =\"\"\n",
    "fechaAhora"
   ]
  },
  {
   "cell_type": "markdown",
   "metadata": {},
   "source": [
    "### Definiendo indice principal con fecha de hoy\n",
    "* 1.- Primer detalle (aqui se deberia de quitar esa fecha_hoy ? )\n",
    "*     [ indice parameter= \"dev-mintic-concat\" ]   [GM]\n",
    "\n"
   ]
  },
  {
   "cell_type": "code",
   "execution_count": 19,
   "metadata": {},
   "outputs": [
    {
     "data": {
      "text/plain": [
       "'dev-mintic-concat-2021.08.21'"
      ]
     },
     "execution_count": 19,
     "metadata": {},
     "output_type": "execute_result"
    }
   ],
   "source": [
    "indice = parametros.mintic_concat_index + '-' + fecha_hoy\n",
    "indice"
   ]
  },
  {
   "cell_type": "markdown",
   "metadata": {},
   "source": [
    "### Función para generar JSON compatible con ES"
   ]
  },
  {
   "cell_type": "code",
   "execution_count": 20,
   "metadata": {},
   "outputs": [],
   "source": [
    "def filterKeys(document):\n",
    "    return {key: document[key] for key in use_these_keys }"
   ]
  },
  {
   "cell_type": "markdown",
   "metadata": {},
   "source": [
    "### Trae la ultima fecha para control de ejecución"
   ]
  },
  {
   "cell_type": "markdown",
   "metadata": {},
   "source": [
    "Cuando en el rango de tiempo de la ejecución, no se insertan nuevos valores, las fecha maxima en indice mintic no aumenta, por tanto se usa esta fecha de control para garantizar que incremente el bucle de ejecución"
   ]
  },
  {
   "cell_type": "code",
   "execution_count": 21,
   "metadata": {},
   "outputs": [
    {
     "name": "stdout",
     "output_type": "stream",
     "text": [
      "ultima fecha para control de ejecucion:  2021-04-01 00:00:00\n"
     ]
    }
   ],
   "source": [
    "# aqui se busca la fecha ultima de control de Estado Cambuim  \n",
    "                   # tengo una pregunta:  porque usa \n",
    "                   # parametros.mintic_control=dev-control_ejecucion_mintic\n",
    "                   # en vez de  indice = parametros.mintic_concat_index que es = dev-mintic-concat-2021.06.24\n",
    "                   # me imagino que es donde guardan todos los controles de las ejecuciones  * devuelvo el cambio *\n",
    "total_docs = 1\n",
    "try:\n",
    "    response = es.search(\n",
    "        index=  parametros.mintic_control,     # ***  quite esto, creo que no va, pero lo devolvi,habia puesto indice\n",
    "        body={\n",
    "           \"_source\": [\"gestion.fechaControl\"],\n",
    "              \"query\": {\n",
    "                \"bool\": {\n",
    "                  \"filter\": [\n",
    "                  {\n",
    "                    \"exists\": {\n",
    "                      \"field\":\"jerarquia_gestion_estado_cdd\"\n",
    "                    }\n",
    "                  }\n",
    "              ]\n",
    "            }\n",
    "          }\n",
    "        },\n",
    "        size=total_docs\n",
    "    )\n",
    "    #print(es.info())\n",
    "    elastic_docs = response[\"hits\"][\"hits\"]\n",
    "    fields = {}\n",
    "    for num, doc in enumerate(elastic_docs):\n",
    "        fecha_ejecucion_bmc = doc[\"_source\"]['gestion.fechaControl']\n",
    "except:\n",
    "    response[\"hits\"][\"hits\"] = []\n",
    "if response[\"hits\"][\"hits\"] == []:    \n",
    "    fecha_ejecucion_cdd = '2021-04-01 00:00:00'   # el formato tiene que ser solo numeros, asi aparecen los registros[GM]\n",
    "    \n",
    "print(\"ultima fecha para control de ejecucion: \",fecha_ejecucion_cdd)\n",
    "\n"
   ]
  },
  {
   "cell_type": "code",
   "execution_count": 22,
   "metadata": {},
   "outputs": [
    {
     "data": {
      "text/plain": [
       "'dev-control_ejecucion_mintic'"
      ]
     },
     "execution_count": 22,
     "metadata": {},
     "output_type": "execute_result"
    }
   ],
   "source": [
    "parametros.mintic_control    #  Estoy trabajando en DEV :  'dev-control_ejecucion_mintic'\n"
   ]
  },
  {
   "cell_type": "code",
   "execution_count": 23,
   "metadata": {},
   "outputs": [
    {
     "name": "stdout",
     "output_type": "stream",
     "text": [
      "ultima fecha para control de ejecucion:  20210615022000\n"
     ]
    }
   ],
   "source": [
    "total_docs = 1\n",
    "try:\n",
    "    response = es.search(\n",
    "        index= parametros.mintic_control,\n",
    "        body={\n",
    "           \"_source\": [\"gestion.fechaControl\"],\n",
    "              \"query\": {\n",
    "                \"bool\": {\n",
    "                  \"filter\": [\n",
    "                  {\n",
    "                    \"exists\": {\n",
    "                      \"field\":\"jerarquia_gestion_estado_bmc\"\n",
    "                    }\n",
    "                  }\n",
    "              ]\n",
    "            }\n",
    "          }\n",
    "        },\n",
    "        size=total_docs\n",
    "    )\n",
    "    #print(es.info())\n",
    "    elastic_docs = response[\"hits\"][\"hits\"]\n",
    "    fields = {}\n",
    "    for num, doc in enumerate(elastic_docs):\n",
    "        fecha_ejecucion_bmc = doc[\"_source\"]['gestion.fechaControl']\n",
    "except:\n",
    "    response[\"hits\"][\"hits\"] = []\n",
    "if response[\"hits\"][\"hits\"] == []:\n",
    "    #fecha_ejecucion_bmc = '2021-04-01T00:00:00'   # \n",
    "    fecha_ejecucion_bmc = '20210401000000'   # el fomrato tiene que ser solo numeros, asi aparecen los registros[GM]\n",
    "    fecha_ejecucion_cdd = '2021-04-01 00:00:00'   # el fomrato tiene que ser solo numeros, asi aparecen los registros[GM]\n",
    "    \n",
    "print(\"ultima fecha para control de ejecucion: \",fecha_ejecucion_bmc)\n",
    "\n",
    "#Aqui si muestra el 01-04-2021 es porque no se ha ejecutado nunca [GM]\n",
    "#  parametros.mintic_control tiene = \"dev-control_ejecucion_mintic\" \n",
    "# *** en este proceso se buscan datos (gestion.fechaControl) en el indice=\"dev-control_ejecucion_mintic\"  cuando el campo jerarquia_gestion_estado_bmc contenga datos\n",
    "\n"
   ]
  },
  {
   "cell_type": "code",
   "execution_count": 24,
   "metadata": {},
   "outputs": [
    {
     "name": "stdout",
     "output_type": "stream",
     "text": [
      "ultima fecha para control de ejecucion: aqui  2021-04-01T02:00:00\n"
     ]
    }
   ],
   "source": [
    "total_docs = 1\n",
    "try:\n",
    "    response = es.search(\n",
    "        index= parametros.mintic_control,\n",
    "        body={\n",
    "           \"_source\": [\"gestion.fechaControl\"],\n",
    "              \"query\": {\n",
    "                \"bool\": {\n",
    "                  \"filter\": [\n",
    "                  {\n",
    "                    \"exists\": {\n",
    "                      \"field\":\"jerarquia_gestion_estado_incidentes\"\n",
    "                    }\n",
    "                  }\n",
    "              ]\n",
    "            }\n",
    "          }\n",
    "        },\n",
    "        size=total_docs\n",
    "    )\n",
    "    #print(es.info())\n",
    "    elastic_docs = response[\"hits\"][\"hits\"]\n",
    "    fields = {}\n",
    "    for num, doc in enumerate(elastic_docs):\n",
    "        fecha_ejecucion_inc = doc[\"_source\"]['gestion.fechaControl']\n",
    "except:\n",
    "    response[\"hits\"][\"hits\"] = []\n",
    "if response[\"hits\"][\"hits\"] == []:\n",
    "    fecha_ejecucion_inc = '2021-04-01T00:00:00'\n",
    "print(\"ultima fecha para control de ejecucion: aqui \",fecha_ejecucion_inc)\n",
    "# aqui igual al anterior pero con el campo jerarquia_gestion_estado_incidentes  el cual tampoco tiene fecha de control\n",
    "# ya que estamos en el indice DEV no debe haber nada cargado .... *****  [GM]"
   ]
  },
  {
   "cell_type": "markdown",
   "metadata": {},
   "source": [
    "### 1.- leyendo indice semilla-inventario"
   ]
  },
  {
   "cell_type": "markdown",
   "metadata": {},
   "source": [
    "En el script que ingesta semilla, trae la información de los centros de conexión administrados. Para el indice principal se requiere:\n",
    "\n",
    "* site_id como llave del centro de conexión.\n",
    "* Datos geográficos (Departamento, municipio, centro poblado, sede.)"
   ]
  },
  {
   "cell_type": "code",
   "execution_count": 25,
   "metadata": {},
   "outputs": [],
   "source": [
    "total_docs = 10000\n",
    "try:\n",
    "    response = es.search(\n",
    "        index= parametros.semilla_inventario_index,\n",
    "        body={\n",
    "               \"_source\": ['site_id','nombre_municipio', 'nombre_departamento', 'nombre_centro_pob','energiadesc'\n",
    "                           ,'nombreSede','latitud', 'longitud','id_Beneficiario','COD_ISO','codDanesede'\n",
    "                           ,'DDA','estadoInstalacion','nombreInstitucionEd','matricula','municipioPDET']\n",
    "        },\n",
    "        size=total_docs\n",
    "    )\n",
    "    #print(es.info())\n",
    "    elastic_docs = response[\"hits\"][\"hits\"]\n",
    "    fields = {}\n",
    "    for num, doc in enumerate(elastic_docs):\n",
    "        source_data = doc[\"_source\"]\n",
    "        for key, val in source_data.items():\n",
    "            try:\n",
    "                fields[key] = np.append(fields[key], val)\n",
    "            except KeyError:\n",
    "                fields[key] = np.array([val])\n",
    "\n",
    "    datos_semilla = pd.DataFrame(dict([ (k,pd.Series(v)) for k,v in fields.items() ])) #pd.DataFrame(fields)\n",
    "except:\n",
    "    print(\"fecha:\",now,\"- Error en lectura de datos semilla\")\n",
    "    #exit()\n",
    "    "
   ]
  },
  {
   "cell_type": "code",
   "execution_count": 26,
   "metadata": {},
   "outputs": [],
   "source": [
    "def get_location(x):\n",
    "    patron = re.compile('^(\\-?\\d+(\\.\\d+)?),\\s*(\\-?\\d+(\\.\\d+)?)$') #patrón que debe cumplir\n",
    "    if (not patron.match(x) is None):\n",
    "        return x.replace(',','.')\n",
    "    else:\n",
    "        #Código a ejecutar si las coordenadas no son válidas\n",
    "        return 'a'\n",
    "datos_semilla['latitud'] = datos_semilla['latitud'].apply(get_location)\n",
    "datos_semilla['longitud'] = datos_semilla['longitud'].apply(get_location)\n",
    "datos_semilla = datos_semilla.drop(datos_semilla[(datos_semilla[\"longitud\"]=='a') | (datos_semilla[\"latitud\"]=='a')].index)\n",
    "datos_semilla['gestion.location'] = datos_semilla['latitud'] + ',' + datos_semilla['longitud']\n",
    "datos_semilla['gestion.location']=datos_semilla['gestion.location'].str.replace('a,a','')\n",
    "datos_semilla.drop(columns=['latitud','longitud'],inplace=True)\n"
   ]
  },
  {
   "cell_type": "markdown",
   "metadata": {},
   "source": [
    "### 2.- Leyendo datos de Cambium-Device-Devices"
   ]
  },
  {
   "cell_type": "code",
   "execution_count": 37,
   "metadata": {},
   "outputs": [],
   "source": [
    "# Se extraen los datos de cambium-devicedevices,  'cambium-devicedevices'\n",
    "\n",
    "def traerDDevices(fecha_max,fecha_tope):\n",
    "    total_docs = 10000\n",
    "    try:\n",
    "        response = es.search(\n",
    "            index= parametros.cambium_d_d_index,\n",
    "            body={\n",
    "                \"_source\": [\"registration_date\",\"mac\",\"ip\",\"ap_group\",\"site_id\",\"status\"]\n",
    "                ,\"query\":{\n",
    "                    \"bool\": {\n",
    "                      \"filter\": [\n",
    "                        {\n",
    "                          \"range\": {\n",
    "                            \"registration_date\": {\n",
    "                              \"gte\": fecha_max,\n",
    "                              \"lt\": fecha_tope\n",
    "                            }\n",
    "                          }\n",
    "                        }\n",
    "                      ],\n",
    "\n",
    "                    }\n",
    "                }\n",
    "            },\n",
    "            size=total_docs\n",
    "        )\n",
    "        elastic_docs = response[\"hits\"][\"hits\"]\n",
    "        fields = {}\n",
    "        for num, doc in enumerate(elastic_docs):\n",
    "            source_data = doc[\"_source\"]\n",
    "            for key, val in source_data.items():\n",
    "                try:\n",
    "                    fields[key] = np.append(fields[key], val)\n",
    "                except KeyError:\n",
    "                    fields[key] = np.array([val])\n",
    "\n",
    "        datos_DDevices  = pd.DataFrame(dict([ (k,pd.Series(v)) for k,v in fields.items() ]))\n",
    "        datos_DDevices  = datos_DDevices.rename(columns={'ap_group':'gestion.ptos_acceso'})\n",
    "        datos_DDevices  = datos_DDevices.dropna(subset=['site_id'])\n",
    "        return datos_DDevices \n",
    "    except:\n",
    "        return pd.DataFrame()"
   ]
  },
  {
   "cell_type": "markdown",
   "metadata": {},
   "source": [
    "## 3.- Se leen datos de BMC"
   ]
  },
  {
   "cell_type": "markdown",
   "metadata": {},
   "source": [
    "* Se acota por el rango de fecha\n",
    "* BMC trae las alertas generadas por sitio"
   ]
  },
  {
   "cell_type": "code",
   "execution_count": 30,
   "metadata": {},
   "outputs": [],
   "source": [
    "def traerBMC(fecha_max,fecha_tope):\n",
    "    total_docs = 1000\n",
    "    try:\n",
    "        response = es.search(\n",
    "            index= parametros.bmc_index_1,\n",
    "            body={\n",
    "                \"_source\": [\"*\"]\n",
    "                ,\"query\":{\n",
    "                    \"bool\": {\n",
    "                      \"filter\": [\n",
    "                        {\n",
    "                          \"range\": {\n",
    "                            \"fechahora\": {\n",
    "                              \"gte\": fecha_max,\n",
    "                              \"lt\": fecha_tope\n",
    "                            }\n",
    "                          }\n",
    "                        }\n",
    "                      ],\n",
    "\n",
    "                    }\n",
    "                }\n",
    "            },\n",
    "            size=total_docs\n",
    "        )\n",
    "        elastic_docs = response[\"hits\"][\"hits\"]\n",
    "        fields = {}\n",
    "        for num, doc in enumerate(elastic_docs):\n",
    "            source_data = doc[\"_source\"]\n",
    "            for key, val in source_data.items():\n",
    "                try:\n",
    "                    fields[key] = np.append(fields[key], val)\n",
    "                except KeyError:\n",
    "                    fields[key] = np.array([val])\n",
    "\n",
    "        datos_BMC = pd.DataFrame(dict([ (k,pd.Series(v)) for k,v in fields.items() ]))\n",
    "        datos_BMC = datos_BMC.rename(columns={'mc_location':'site_id'})\n",
    "        datos_BMC = datos_BMC.dropna(subset=['site_id'])\n",
    "        return datos_BMC\n",
    "    except:\n",
    "        return pd.DataFrame()"
   ]
  },
  {
   "cell_type": "code",
   "execution_count": 29,
   "metadata": {},
   "outputs": [
    {
     "ename": "NameError",
     "evalue": "name 'datos_BMC' is not defined",
     "output_type": "error",
     "traceback": [
      "\u001b[0;31m---------------------------------------------------------------------------\u001b[0m",
      "\u001b[0;31mNameError\u001b[0m                                 Traceback (most recent call last)",
      "\u001b[0;32m<ipython-input-29-db9a705d8748>\u001b[0m in \u001b[0;36m<module>\u001b[0;34m\u001b[0m\n\u001b[0;32m----> 1\u001b[0;31m \u001b[0mdatos_BMC\u001b[0m\u001b[0;34m\u001b[0m\u001b[0;34m\u001b[0m\u001b[0m\n\u001b[0m",
      "\u001b[0;31mNameError\u001b[0m: name 'datos_BMC' is not defined"
     ]
    }
   ],
   "source": []
  },
  {
   "cell_type": "markdown",
   "metadata": {},
   "source": [
    "### 4.- Leyendo indice servicemanager-incidentes"
   ]
  },
  {
   "cell_type": "markdown",
   "metadata": {},
   "source": [
    "Se lee la información de los De Service Manager. En la lectura se traen todas las interacciones reportadas por servicemanager, con la información de la misma.\n",
    "\n",
    "* clr_bmc_location, es la llave para cruzar con cada centro de conexión.\n",
    "* product_type, es el detalle del ticket.\n",
    "* clr_bmc_host, estado la IP\n",
    "* assignment, es el sujeto asignado al ticket\n",
    "* contact_name, usuario del ticket\n",
    "* open_time y resolved_time, son las fecha de apertura y cierre del ticket\n",
    "* resolution, respuesta al ticket\n",
    "* number, numero del ticket\n",
    "* source, fuente del ticket(email o telefono)\n",
    "* severity, gravedad del ticket\n",
    "* category y subcategory, clasificacion dada por mintic"
   ]
  },
  {
   "cell_type": "code",
   "execution_count": 31,
   "metadata": {
    "scrolled": true
   },
   "outputs": [],
   "source": [
    "def traeSMIncidentes(fecha_max,fecha_tope):\n",
    "    total_docs = 100\n",
    "    try:\n",
    "        response = es.search(\n",
    "            index= parametros.sm_incidentes,\n",
    "            body={\n",
    "                \"_source\": [\"clr_bmc_location\",\"resolved_time\"]  # clr_bmcdatevent= fecha del evento, open_time=fecha del ticket\n",
    "                ,\"query\": {\n",
    "                    \"bool\": {\n",
    "                      \"filter\": [\n",
    "                        {\n",
    "                          \"range\": {\n",
    "                            \"@timestamp\": {\n",
    "                              \"gte\": fecha_max,\n",
    "                              \"lt\": fecha_tope\n",
    "                            }\n",
    "                          }\n",
    "                        }\n",
    "                      ], \n",
    "                      \"must_not\": [\n",
    "                        {\n",
    "                          \"exists\": {\n",
    "                            \"field\": \"gestion.fechaCierre\"\n",
    "                          }\n",
    "                        }\n",
    "                      ]\n",
    "                    }\n",
    "                  }\n",
    "            },\n",
    "            size=total_docs\n",
    "        )\n",
    "        elastic_docs = response[\"hits\"][\"hits\"]\n",
    "        fields = {}\n",
    "        for num, doc in enumerate(elastic_docs):\n",
    "            source_data = doc[\"_source\"]\n",
    "            for key, val in source_data.items():\n",
    "                try:\n",
    "                    fields[key] = np.append(fields[key], val)\n",
    "                except KeyError:\n",
    "                    fields[key] = np.array([val])\n",
    "\n",
    "        datos_SM_incidents = pd.DataFrame(dict([ (k,pd.Series(v)) for k,v in fields.items() ]))\n",
    "        datos_SM_incidents = datos_SM_incidents.rename(columns={'clr_bmc_location':'site_id'})\n",
    "        return datos_SM_incidents\n",
    "    except:\n",
    "        return None\n",
    "\n",
    "    \n",
    "   "
   ]
  },
  {
   "cell_type": "markdown",
   "metadata": {},
   "source": [
    "Realizando bucle hasta conseguir datos de servicemanager-incidentes o hasta la fecha actual para realizar la carga de datos"
   ]
  },
  {
   "cell_type": "code",
   "execution_count": 32,
   "metadata": {},
   "outputs": [
    {
     "name": "stdout",
     "output_type": "stream",
     "text": [
      "Buscado en cambium-DD desde  2021-04-01 00:00:00 hasta 2021-08-21 13:03:46\n",
      " total reg.: 5140    viene con (registration_date,gestion.ptos_acceso,ip,site_id,mac,status)\n",
      " se quitan los repetidos status=(offline, online, onboaring) total reg.: 1703\n"
     ]
    }
   ],
   "source": [
    "fec1=\"2021-04-01 00:00:00\"\n",
    "datos_CDD  = traerDDevices(fec1 , ahora_cdd)\n",
    "datos_logs= \"Buscado en cambium-DD desde  \" + fec1 +\" hasta \" + ahora_cdd\n",
    "\n",
    "if datos_CDD is None or datos_CDD.empty:\n",
    "    datos_logs = datos_logs +\"\\n No trajo datos en este rango de fecha. \"\n",
    "    pass\n",
    "else:\n",
    "    datos_CDD  = datos_CDD.dropna(subset=['site_id'])\n",
    "\n",
    "    datos_CDD = datos_CDD.drop(datos_CDD[(datos_CDD['site_id']=='')].index)\n",
    "    datos_logs= datos_logs + \"\\n total reg.: \" + str(datos_CDD[\"site_id\"].size) + \"    viene con (registration_date,gestion.ptos_acceso,ip,site_id,mac,status)\"\n",
    "\n",
    "    #datos_CDD2 = datos_CDD[[\"site_id\",\"registration_date\", \"status\", \"gestion.ptos_acceso\"]]\n",
    "    datos_CDD2 = datos_CDD[[\"site_id\", \"status\"]]    #datos_CDD2 = datos_CDD2[[\"site_id\",\"registration_date\", \"status\", \"gestion.ptos_acceso\"]].groupby([\"site_id\", \"status\", \"gestion.ptos_acceso\"]).agg(['max']).reset_index()\n",
    "    datos_CDD2 = datos_CDD2[[\"site_id\",\"status\"]].groupby([\"site_id\"]).agg(['count']).reset_index()\n",
    "\n",
    "    datos_CDD2.columns = datos_CDD2.columns.droplevel(1)       \n",
    "    datos_logs = datos_logs +\"\\n se quitan los repetidos status=(offline, online, onboaring) total reg.: \" + str(datos_CDD2[\"site_id\"].size)\n",
    "\n",
    "\n",
    "print (datos_logs)\n"
   ]
  },
  {
   "cell_type": "code",
   "execution_count": 33,
   "metadata": {
    "scrolled": true
   },
   "outputs": [
    {
     "data": {
      "text/html": [
       "<div>\n",
       "<style scoped>\n",
       "    .dataframe tbody tr th:only-of-type {\n",
       "        vertical-align: middle;\n",
       "    }\n",
       "\n",
       "    .dataframe tbody tr th {\n",
       "        vertical-align: top;\n",
       "    }\n",
       "\n",
       "    .dataframe thead th {\n",
       "        text-align: right;\n",
       "    }\n",
       "</style>\n",
       "<table border=\"1\" class=\"dataframe\">\n",
       "  <thead>\n",
       "    <tr style=\"text-align: right;\">\n",
       "      <th></th>\n",
       "      <th>site_id</th>\n",
       "      <th>fechahora</th>\n",
       "      <th>itsm_incident_id</th>\n",
       "    </tr>\n",
       "  </thead>\n",
       "  <tbody>\n",
       "    <tr>\n",
       "      <th>0</th>\n",
       "      <td>26025-ZZZY170</td>\n",
       "      <td>20210615140132</td>\n",
       "      <td>0</td>\n",
       "    </tr>\n",
       "    <tr>\n",
       "      <th>1</th>\n",
       "      <td>26038-ZZZY293</td>\n",
       "      <td>20210615140132</td>\n",
       "      <td>0</td>\n",
       "    </tr>\n",
       "    <tr>\n",
       "      <th>2</th>\n",
       "      <td>31895-ZGYO272</td>\n",
       "      <td>20210615135132</td>\n",
       "      <td>0</td>\n",
       "    </tr>\n",
       "    <tr>\n",
       "      <th>3</th>\n",
       "      <td>31902-ZGYO433</td>\n",
       "      <td>20210615135132</td>\n",
       "      <td>0</td>\n",
       "    </tr>\n",
       "    <tr>\n",
       "      <th>4</th>\n",
       "      <td>68746-ZGYO443</td>\n",
       "      <td>20210615135132</td>\n",
       "      <td>0</td>\n",
       "    </tr>\n",
       "  </tbody>\n",
       "</table>\n",
       "</div>"
      ],
      "text/plain": [
       "         site_id       fechahora itsm_incident_id\n",
       "0  26025-ZZZY170  20210615140132                0\n",
       "1  26038-ZZZY293  20210615140132                0\n",
       "2  31895-ZGYO272  20210615135132                0\n",
       "3  31902-ZGYO433  20210615135132                0\n",
       "4  68746-ZGYO443  20210615135132                0"
      ]
     },
     "execution_count": 33,
     "metadata": {},
     "output_type": "execute_result"
    }
   ],
   "source": [
    "fecha_max_bmc = fecha_ejecucion_bmc                \n",
    "#fecha_max_bmc = \"20210401200000\"  aqui nos dimos cuenta que el formato es distinto [GM]\n",
    "\n",
    "fecha_tope_bmc = (datetime.strptime(fecha_max_bmc, \"%Y%m%d%H%M%S\")+timedelta(minutes=59)-timedelta(seconds=1)).strftime(\"%Y%m%d%H%M%S\")\n",
    "\n",
    "#fecha_tope_bmc =  \"20210601200000\"\n",
    "datos_BMC = traerBMC(fecha_max_bmc,fecha_tope_bmc)\n",
    "datos_logs = datos_logs +\"\\n Busco en BMC desde \" + fecha_max_bmc+\", hasta \"+ fecha_tope_bmc\n",
    "\n",
    "fecha_max_inc = fecha_ejecucion_inc\n",
    "fecha_tope_inc = (datetime.strptime(fecha_max_inc, \"%Y-%m-%d\"'T'\"%H:%M:%S\")+timedelta(minutes=59)-timedelta(seconds=1)).strftime(\"%Y-%m-%d\"'T'\"%H:%M:%S\")\n",
    "#fecha_tope_inc = \"2021-06-01T20:00:00\"\n",
    "datos_SM_incidents = traeSMIncidentes(fecha_max_inc,fecha_tope_inc)\n",
    "datos_logs = datos_logs +\"\\n Busco en SMIncidentes desde \" + fecha_max_inc+ \", hasta \"+ fecha_tope_inc +\" y lo recorro hasta hoy \"\n",
    "\n",
    "if (datos_BMC is None or datos_BMC.empty) & (datos_SM_incidents is None or datos_SM_incidents.empty):\n",
    "    while (datos_BMC is None or datos_BMC.empty) and ((datetime.strptime(fecha_max_bmc[0:8], '%Y%m%d').strftime(\"%Y%m%d%H%M%S\")) < str(now.strftime(\"%Y%m%d%H%M%S\"))):\n",
    "        fecha_max_bmc = (datetime.strptime(fecha_max_bmc, \"%Y%m%d%H%M%S\")+timedelta(minutes=59)).strftime(\"%Y%m%d%H%M%S\")\n",
    "        fecha_tope_bmc = (datetime.strptime(fecha_tope_bmc, \"%Y%m%d%H%M%S\")+timedelta(minutes=59)).strftime(\"%Y%m%d%H%M%S\")\n",
    "        datos_BMC = traerBMC(fecha_max_bmc,fecha_tope_bmc)\n",
    "        datos_SM_incidents = traeSMIncidentes(fecha_max_inc,fecha_tope_inc)        \n",
    "else:\n",
    "    pass\n",
    "#datos_BMC\n",
    "#datos_BMC2 = traerBMC(\"2021-05-01T00:00:00\",\"2021-06-22T00:10:00\")\n",
    "#datos_BMC2 = traerBMC(\"20210401010000\",\"20210607200000\")\n",
    "datos_SM_incidents = traeSMIncidentes(\"2021-05-01T00:00:00\",\"2021-06-22T00:10:00\")\n",
    "\n",
    "datos_SM_incidents.fillna({'resolved_time':'2021-04-01T05:50:00'},inplace=True)  ##  ojooooooo aqui hay que ponerlo en 0\n",
    "datos_SM_incidents_liberado = datos_SM_incidents[ (datos_SM_incidents[\"resolved_time\"]!=\"0\") ]\n",
    "datos_SM_incidents_liberado=datos_SM_incidents_liberado[['site_id','resolved_time'\n",
    "                                       ]].groupby(['site_id']).agg(['max']).reset_index()\n",
    "datos_SM_incidents_liberado.columns = datos_SM_incidents_liberado.columns.droplevel(1)\n",
    "\n",
    "\n",
    "nbmc=0\n",
    "if datos_BMC is None or datos_BMC.empty:\n",
    "    nbmc=0\n",
    "else: \n",
    "    nbmc=datos_BMC[\"site_id\"].size\n",
    "\n",
    "datos_BMC2 = datos_BMC.groupby(['site_id','fechahora','itsm_incident_id']).count().reset_index()  # no se para que es esta linea , solo veo que pone los demas campos en 0 , y creo que deberian de estar en 1\n",
    "datos_BMC2 = datos_BMC2.rename(columns={'nombreSede':'gestion.estadoCentro'})\n",
    "\n",
    "datos_BMC2.drop(columns=['severity','mc_host','@timestamp','mc_modhist','itsm_incident_status','mc_client_address','CLASS','mc_original_severity'],inplace=True)\n",
    "#datos_BMC2 = datos_BMC2.rename(columns={'fechahora' : 'estado'})\n",
    "\n",
    "datos_BMC = datos_BMC2\n",
    "datos_BMC.fillna({'itsm_incident_id':'0'},inplace=True)\n",
    "datos_BMC.replace('','0',inplace=True)\n",
    "\n",
    "\n",
    "datos_BMC=datos_BMC[['site_id','fechahora','itsm_incident_id'\n",
    "                                       ]].groupby(['site_id']).agg(['max']).reset_index()\n",
    "\n",
    "datos_BMC.columns = datos_BMC.columns.droplevel(1)\n",
    "\n",
    "\n",
    "bmcX =[]\n",
    "smi=0\n",
    "if datos_SM_incidents_liberado is None or datos_SM_incidents_liberado.empty:\n",
    "    smi=0\n",
    "else: \n",
    "    smi=datos_SM_incidents_liberado[\"site_id\"].size\n",
    "    try:\n",
    "        bmcX  = pd.merge(datos_BMC, datos_SM_incidents_liberado , on=['site_id'],how='left')\n",
    "    except:\n",
    "        bmcX = pd.DataFrame()\n",
    "\n",
    "    \n",
    "datos_logs = datos_logs +\"\\n  total BMC: \"+ str(nbmc) +\"  y Total  SMIncidentes: \" + str(smi)\n",
    "#print (datos_logs)    \n",
    "\n",
    "\n",
    "bmcX.fillna({'resolved_time':'10a'},inplace=True)\n",
    "\n",
    "datos_BMC = bmcX[bmcX[\"resolved_time\"]==\"10a\"]\n",
    "datos_BMC.drop(columns=['resolved_time'],inplace=True)\n",
    "\n",
    "datos_BMC\n"
   ]
  },
  {
   "cell_type": "markdown",
   "metadata": {},
   "source": [
    "## Lectura de estados\n",
    "* estos estados guardan el ultimo estado \"offline\" en que estuvo el centro \n"
   ]
  },
  {
   "cell_type": "code",
   "execution_count": 34,
   "metadata": {},
   "outputs": [
    {
     "data": {
      "text/html": [
       "<div>\n",
       "<style scoped>\n",
       "    .dataframe tbody tr th:only-of-type {\n",
       "        vertical-align: middle;\n",
       "    }\n",
       "\n",
       "    .dataframe tbody tr th {\n",
       "        vertical-align: top;\n",
       "    }\n",
       "\n",
       "    .dataframe thead th {\n",
       "        text-align: right;\n",
       "    }\n",
       "</style>\n",
       "<table border=\"1\" class=\"dataframe\">\n",
       "  <thead>\n",
       "    <tr style=\"text-align: right;\">\n",
       "      <th></th>\n",
       "      <th>fechahora</th>\n",
       "      <th>site_id</th>\n",
       "      <th>itsm_incident_id</th>\n",
       "    </tr>\n",
       "  </thead>\n",
       "  <tbody>\n",
       "    <tr>\n",
       "      <th>0</th>\n",
       "      <td>20210821130346</td>\n",
       "      <td>31699-ZGYO293</td>\n",
       "      <td>0</td>\n",
       "    </tr>\n",
       "    <tr>\n",
       "      <th>1</th>\n",
       "      <td>20210821130346</td>\n",
       "      <td>28.107.49</td>\n",
       "      <td>0</td>\n",
       "    </tr>\n",
       "    <tr>\n",
       "      <th>2</th>\n",
       "      <td>20210821130346</td>\n",
       "      <td>28.117.9</td>\n",
       "      <td>0</td>\n",
       "    </tr>\n",
       "    <tr>\n",
       "      <th>3</th>\n",
       "      <td>20210821130346</td>\n",
       "      <td>30484-ZGYO118</td>\n",
       "      <td>0</td>\n",
       "    </tr>\n",
       "    <tr>\n",
       "      <th>4</th>\n",
       "      <td>20210821130346</td>\n",
       "      <td>20928-ZZZY059</td>\n",
       "      <td>0</td>\n",
       "    </tr>\n",
       "    <tr>\n",
       "      <th>5</th>\n",
       "      <td>20210821130346</td>\n",
       "      <td>30088-ZZZY185</td>\n",
       "      <td>0</td>\n",
       "    </tr>\n",
       "    <tr>\n",
       "      <th>6</th>\n",
       "      <td>20210821130346</td>\n",
       "      <td>31620-ZZZY235</td>\n",
       "      <td>0</td>\n",
       "    </tr>\n",
       "    <tr>\n",
       "      <th>7</th>\n",
       "      <td>20210821130346</td>\n",
       "      <td>31636-ZZZY230</td>\n",
       "      <td>0</td>\n",
       "    </tr>\n",
       "    <tr>\n",
       "      <th>8</th>\n",
       "      <td>20210821130346</td>\n",
       "      <td>31652-ZGYO331</td>\n",
       "      <td>0</td>\n",
       "    </tr>\n",
       "    <tr>\n",
       "      <th>9</th>\n",
       "      <td>20210821130346</td>\n",
       "      <td>31664-ZGYO320</td>\n",
       "      <td>0</td>\n",
       "    </tr>\n",
       "    <tr>\n",
       "      <th>10</th>\n",
       "      <td>20210821130346</td>\n",
       "      <td>31831-ZGYO333</td>\n",
       "      <td>0</td>\n",
       "    </tr>\n",
       "    <tr>\n",
       "      <th>11</th>\n",
       "      <td>20210821130346</td>\n",
       "      <td>31837-ZGYO286</td>\n",
       "      <td>0</td>\n",
       "    </tr>\n",
       "    <tr>\n",
       "      <th>12</th>\n",
       "      <td>20210821130346</td>\n",
       "      <td>31844-ZGYO279</td>\n",
       "      <td>0</td>\n",
       "    </tr>\n",
       "    <tr>\n",
       "      <th>13</th>\n",
       "      <td>20210821130346</td>\n",
       "      <td>31854-ZGYO338</td>\n",
       "      <td>0</td>\n",
       "    </tr>\n",
       "    <tr>\n",
       "      <th>14</th>\n",
       "      <td>20210821130346</td>\n",
       "      <td>31858-ZGYO283</td>\n",
       "      <td>0</td>\n",
       "    </tr>\n",
       "    <tr>\n",
       "      <th>15</th>\n",
       "      <td>20210821130346</td>\n",
       "      <td>31859-ZGYO337</td>\n",
       "      <td>0</td>\n",
       "    </tr>\n",
       "    <tr>\n",
       "      <th>16</th>\n",
       "      <td>20210821130346</td>\n",
       "      <td>31863-ZGYO482</td>\n",
       "      <td>0</td>\n",
       "    </tr>\n",
       "    <tr>\n",
       "      <th>17</th>\n",
       "      <td>20210821130346</td>\n",
       "      <td>31866-ZGYO282</td>\n",
       "      <td>0</td>\n",
       "    </tr>\n",
       "    <tr>\n",
       "      <th>18</th>\n",
       "      <td>20210821130346</td>\n",
       "      <td>32021-ZZZY348</td>\n",
       "      <td>0</td>\n",
       "    </tr>\n",
       "    <tr>\n",
       "      <th>19</th>\n",
       "      <td>20210821130346</td>\n",
       "      <td>32054-ZZZY344</td>\n",
       "      <td>0</td>\n",
       "    </tr>\n",
       "    <tr>\n",
       "      <th>20</th>\n",
       "      <td>20210821130346</td>\n",
       "      <td>32374-ZZZY803</td>\n",
       "      <td>0</td>\n",
       "    </tr>\n",
       "    <tr>\n",
       "      <th>21</th>\n",
       "      <td>20210821130346</td>\n",
       "      <td>36611-SGYO560</td>\n",
       "      <td>0</td>\n",
       "    </tr>\n",
       "    <tr>\n",
       "      <th>22</th>\n",
       "      <td>20210821130346</td>\n",
       "      <td>43005-ZGYO695</td>\n",
       "      <td>0</td>\n",
       "    </tr>\n",
       "    <tr>\n",
       "      <th>23</th>\n",
       "      <td>20210821130346</td>\n",
       "      <td>59326-ZZZY496</td>\n",
       "      <td>0</td>\n",
       "    </tr>\n",
       "  </tbody>\n",
       "</table>\n",
       "</div>"
      ],
      "text/plain": [
       "         fechahora        site_id itsm_incident_id\n",
       "0   20210821130346  31699-ZGYO293                0\n",
       "1   20210821130346      28.107.49                0\n",
       "2   20210821130346       28.117.9                0\n",
       "3   20210821130346  30484-ZGYO118                0\n",
       "4   20210821130346  20928-ZZZY059                0\n",
       "5   20210821130346  30088-ZZZY185                0\n",
       "6   20210821130346  31620-ZZZY235                0\n",
       "7   20210821130346  31636-ZZZY230                0\n",
       "8   20210821130346  31652-ZGYO331                0\n",
       "9   20210821130346  31664-ZGYO320                0\n",
       "10  20210821130346  31831-ZGYO333                0\n",
       "11  20210821130346  31837-ZGYO286                0\n",
       "12  20210821130346  31844-ZGYO279                0\n",
       "13  20210821130346  31854-ZGYO338                0\n",
       "14  20210821130346  31858-ZGYO283                0\n",
       "15  20210821130346  31859-ZGYO337                0\n",
       "16  20210821130346  31863-ZGYO482                0\n",
       "17  20210821130346  31866-ZGYO282                0\n",
       "18  20210821130346  32021-ZZZY348                0\n",
       "19  20210821130346  32054-ZZZY344                0\n",
       "20  20210821130346  32374-ZZZY803                0\n",
       "21  20210821130346  36611-SGYO560                0\n",
       "22  20210821130346  43005-ZGYO695                0\n",
       "23  20210821130346  59326-ZZZY496                0"
      ]
     },
     "execution_count": 34,
     "metadata": {},
     "output_type": "execute_result"
    }
   ],
   "source": [
    "total_docs = 10000\n",
    "try:\n",
    "    response = es.search(\n",
    "        index= \"edo_sitio-\" + parametros.mintic_concat_index,\n",
    "        body={\n",
    "               \"_source\": ['site_id','fechahora','itsm_incident_id']\n",
    "        },\n",
    "        size=total_docs\n",
    "    )    \n",
    "    elastic_docs = response[\"hits\"][\"hits\"]\n",
    "    fields = {}\n",
    "    for num, doc in enumerate(elastic_docs):\n",
    "        source_data = doc[\"_source\"]\n",
    "        for key, val in source_data.items():\n",
    "            try:\n",
    "                fields[key] = np.append(fields[key], val)\n",
    "            except KeyError:\n",
    "                fields[key] = np.array([val])\n",
    "\n",
    "    edo_sitio = pd.DataFrame(dict([ (k,pd.Series(v)) for k,v in fields.items() ])) \n",
    "except:\n",
    "    edo_sitio = pd.DataFrame(columns=['site_id','fechahora','itsm_incident_id'])\n",
    "    \n",
    "edo_sitio[\"fechahora\"] = fechaAhora\n",
    "#edo_sitio[\"itsm_incident_id\"]    = \"0\"\n",
    "\n",
    "edo_sitio    "
   ]
  },
  {
   "cell_type": "code",
   "execution_count": 35,
   "metadata": {},
   "outputs": [],
   "source": [
    "try:\n",
    "    concat0 = pd.merge(datos_semilla, datos_CDD2 , on=['site_id'],how='inner')\n",
    "except:\n",
    "    concat0 = pd.DataFrame()\n",
    "\n",
    "\n",
    "datos_logs = datos_logs +\"\\n se cruza con SEMILLA  total reg.: \" + str(concat0[\"site_id\"].size)\n",
    "\n"
   ]
  },
  {
   "cell_type": "code",
   "execution_count": 36,
   "metadata": {
    "scrolled": true
   },
   "outputs": [
    {
     "data": {
      "text/html": [
       "<div>\n",
       "<style scoped>\n",
       "    .dataframe tbody tr th:only-of-type {\n",
       "        vertical-align: middle;\n",
       "    }\n",
       "\n",
       "    .dataframe tbody tr th {\n",
       "        vertical-align: top;\n",
       "    }\n",
       "\n",
       "    .dataframe thead th {\n",
       "        text-align: right;\n",
       "    }\n",
       "</style>\n",
       "<table border=\"1\" class=\"dataframe\">\n",
       "  <thead>\n",
       "    <tr style=\"text-align: right;\">\n",
       "      <th></th>\n",
       "      <th>site_id</th>\n",
       "      <th>fechahora</th>\n",
       "      <th>itsm_incident_id</th>\n",
       "    </tr>\n",
       "  </thead>\n",
       "  <tbody>\n",
       "    <tr>\n",
       "      <th>0</th>\n",
       "      <td>26025-ZZZY170</td>\n",
       "      <td>20210615140132</td>\n",
       "      <td>0</td>\n",
       "    </tr>\n",
       "    <tr>\n",
       "      <th>1</th>\n",
       "      <td>26038-ZZZY293</td>\n",
       "      <td>20210615140132</td>\n",
       "      <td>0</td>\n",
       "    </tr>\n",
       "    <tr>\n",
       "      <th>2</th>\n",
       "      <td>31895-ZGYO272</td>\n",
       "      <td>20210615135132</td>\n",
       "      <td>0</td>\n",
       "    </tr>\n",
       "    <tr>\n",
       "      <th>3</th>\n",
       "      <td>31902-ZGYO433</td>\n",
       "      <td>20210615135132</td>\n",
       "      <td>0</td>\n",
       "    </tr>\n",
       "    <tr>\n",
       "      <th>4</th>\n",
       "      <td>68746-ZGYO443</td>\n",
       "      <td>20210615135132</td>\n",
       "      <td>0</td>\n",
       "    </tr>\n",
       "  </tbody>\n",
       "</table>\n",
       "</div>"
      ],
      "text/plain": [
       "         site_id       fechahora itsm_incident_id\n",
       "0  26025-ZZZY170  20210615140132                0\n",
       "1  26038-ZZZY293  20210615140132                0\n",
       "2  31895-ZGYO272  20210615135132                0\n",
       "3  31902-ZGYO433  20210615135132                0\n",
       "4  68746-ZGYO443  20210615135132                0"
      ]
     },
     "execution_count": 36,
     "metadata": {},
     "output_type": "execute_result"
    }
   ],
   "source": [
    "datos_BMC"
   ]
  },
  {
   "cell_type": "markdown",
   "metadata": {},
   "source": [
    "Haciendo merge entre semilla e incidentes"
   ]
  },
  {
   "cell_type": "code",
   "execution_count": null,
   "metadata": {},
   "outputs": [],
   "source": [
    "# esto es el deber ser, lo politicamente correcto \n",
    "completo =[]\n",
    "if smi ==0:     # si no hay incidentes, es decir centros habilitados \n",
    "    #entonces cruzo Semilla con los estados-BMC con left para que me queden los demas online\n",
    "    if nbmc>0:\n",
    "        # para colocar todos los offline cruzo BMC con edo_sitio y alli obtengo todos con un outer\n",
    "        todos_off = pd.merge(edo_sitio, datos_BMC, on=['site_id'],how='outer')\n",
    "        todos_off[\"gestion.estadoCentro\"]=\"DESCONECTADOS\"\n",
    "        todos_off.fillna({'fechahora_x':''},inplace=True)\n",
    "        todos_off.fillna({'fechahora_x':''},inplace=True)\n",
    "        \n",
    "        todos_off.fillna({'itsm_incident_id_x':'0'},inplace=True)\n",
    "        todos_off.fillna({'itsm_incident_id_y':'0'},inplace=True)\n",
    "        todos_off.fillna({'itsm_incident_id':'0'},inplace=True)\n",
    "        todos_off[\"itsm_incident_id\"] ='0'\n",
    "        todos_off[\"fechahora\"] = fechaAhora\n",
    "        \n",
    "        #todos_off[\"fechahora\"]  = todos_off[\"fechahora_y\"] + todos_off[\"fechahora_x\"]\n",
    "        for i in todos_off.index: \n",
    "            if todos_off[\"itsm_incident_id_x\"][i]=='0':\n",
    "                todos_off[\"itsm_incident_id\"][i] = todos_off[\"itsm_incident_id_y\"][i]\n",
    "            if todos_off[\"itsm_incident_id_y\"][i]=='0':\n",
    "                todos_off[\"itsm_incident_id\"][i] = todos_off[\"itsm_incident_id_x\"][i]\n",
    "                \n",
    "            if todos_off[\"fechahora_x\"][i]=='':\n",
    "                todos_off[\"fechahora\"][i] = todos_off[\"fechahora_y\"][i]\n",
    "            if todos_off[\"fechahora_y\"][i]=='':\n",
    "                todos_off[\"fechahora\"][i] = todos_off[\"fechahora_x\"][i]                             \n",
    "        \n",
    "        \n",
    "        todos_off.drop(columns=['fechahora_x','fechahora_y','itsm_incident_id_x','itsm_incident_id_y'],inplace=True)\n",
    "        #todos_off[\"fechahora\"]  = todos_off[((todos_off['fechahora_y']!='NaN') | ~(todos_off['fechahora_x']!='NaN'))][['fechahora_y']]\n",
    "\n",
    "        \n",
    "        # ahora lo cruzo con semilla \n",
    "        datos_logs = datos_logs +\"\\n en el cruce de los offline que son datos_BMC con edo_sitio tipo outer  total reg.: \" + str(todos_off[\"site_id\"].size)\n",
    "        completo  = pd.merge(concat0, todos_off, on=['site_id'],how='left')\n",
    "\n",
    "print (datos_logs)\n",
    "\n",
    "#completo.to_excel(\"cdd_completo2.xlsx\")        \n",
    "\n",
    "#completo              \n",
    "bb = completo[(completo[\"gestion.estadoCentro\"]==\"DESCONECTADOS\")].reset_index()\n",
    "aa = completo[(completo[\"gestion.estadoCentro\"]!=\"DESCONECTADOS\")].reset_index()\n",
    "\n",
    "#cantDevConectadosLAN = mintic_02[~(mintic_02['trafico.totales.traficoIN']>0) & (mintic_02['trafico.apGroup']=='INDOOR')][['trafico.totales.fechaControl','trafico.macRed','trafico.siteID']].groupby(['trafico.siteID','trafico.totales.fechaControl'])['trafico.macRed'].nunique().reset_index()\n",
    "\n",
    "conectados = aa[\"site_id\"].size\n",
    "desconectados = bb[\"site_id\"].size\n",
    "totales = desconectados + conectados\n",
    "print (\" Conectados: \" , conectados , \" desconectados: \", desconectados , \" total: \" , totales)\n",
    "#i=0\n",
    "#for index2 in todos_off:    \n",
    " #   print (i,\" reg. site_id: \" )\n",
    " #   print (index2)\n",
    " #   i=i+1\n",
    "    # df.loc[df['A'] > 2, 'B'] = new_val    ejemplo \n",
    "    \n",
    "\n",
    "\n",
    "todos_off\n",
    "    "
   ]
  },
  {
   "cell_type": "markdown",
   "metadata": {},
   "source": [
    "### Realizando inserción en ultimo estado del sitio"
   ]
  },
  {
   "cell_type": "code",
   "execution_count": null,
   "metadata": {},
   "outputs": [],
   "source": [
    "use_these_keys = ['site_id','gestion.estadoCentro','fechahora', 'itsm_incident_id']\n",
    "def doc_generator(df):\n",
    "    df_iter = df.iterrows()\n",
    "    for index, document in df_iter:\n",
    "        yield {\n",
    "                \"_index\": \"edo_sitio-\" + parametros.mintic_concat_index, \n",
    "                \"_id\": f\"{'Estado-'+str(document['site_id'])}\",\n",
    "                \"_source\": filterKeys(document),\n",
    "            }\n",
    "salida = helpers.bulk(es, doc_generator(todos_off))\n",
    "print(\"Fecha: \", now,\"- Valoraciones insertadas en indice principal:\",salida[0])\n"
   ]
  },
  {
   "cell_type": "code",
   "execution_count": null,
   "metadata": {},
   "outputs": [],
   "source": [
    "# es.indices.delete(index=\"edo_sitio-\" + parametros.mintic_concat_index, ignore=[400, 404])\n",
    "# aqui elimino todo el indice para poder ingresar los nuevos registros con los campos nuevos  GM\n"
   ]
  },
  {
   "cell_type": "markdown",
   "metadata": {},
   "source": [
    "Actualizando fecha de control de ejecución"
   ]
  },
  {
   "cell_type": "code",
   "execution_count": null,
   "metadata": {},
   "outputs": [],
   "source": [
    "fecha_ejecucion_inc = (datetime.strptime(fecha_max_inc, \"%Y-%m-%d\"'T'\"%H:%M:%S\")+timedelta(minutes=10)).strftime(\"%Y-%m-%d\"'T'\"%H:%M:%S\")[0:15] + '0:00'    \n",
    "#fecha_ejecucion_inc = '2021-05-01T00:00:00'\n",
    "\n",
    "if fecha_ejecucion_inc > str(now.strftime(\"%Y-%m-%d\"'T'\"%H:%M:%S\"))[0:15] + '0:00':\n",
    "    fecha_ejecucion_inc = str(now.strftime(\"%Y-%m-%d\"'T'\"%H:%M:%S\"))[0:15] + '0:00'\n",
    "response = es.index(\n",
    "        index = parametros.mintic_control,\n",
    "        id = 'jerarquia_gestion_estado_incidentes',\n",
    "        body = { 'jerarquia_gestion_estado_incidentes': 'gestion_estado_incidentes','gestion.fechaControl' : fecha_ejecucion_inc}\n",
    ")\n",
    "print(\"actualizada fecha control de ejecucion:\",fecha_ejecucion_inc)\n"
   ]
  },
  {
   "cell_type": "code",
   "execution_count": null,
   "metadata": {},
   "outputs": [],
   "source": [
    "fecha_ejecucion_bmc = (datetime.strptime(fecha_max_bmc, \"%Y%m%d%H%M%S\")+timedelta(minutes=10)).strftime(\"%Y%m%d%H%M%S\")[0:11] + '000'    \n",
    "#fecha_ejecucion_bmc = '20210501000000'\n",
    "\n",
    "if fecha_ejecucion_bmc > str(now.strftime(\"%Y%m%d%H%M%S\"))[0:11] + '000':\n",
    "    fecha_ejecucion_bmc = str(now.strftime(\"%Y%m%d%H%M%S\"))[0:11] + '000'\n",
    "response = es.index(\n",
    "        index = parametros.mintic_control,\n",
    "        id = 'jerarquia_gestion_estado_bmc',\n",
    "        body = { 'jerarquia_gestion_estado_bmc': 'gestion_estado_bmc','gestion.fechaControl' : fecha_ejecucion_bmc}\n",
    ")\n",
    "print(\"actualizada fecha control de ejecucion:\",fecha_ejecucion_bmc)\n"
   ]
  },
  {
   "cell_type": "code",
   "execution_count": null,
   "metadata": {},
   "outputs": [],
   "source": [
    " "
   ]
  },
  {
   "cell_type": "markdown",
   "metadata": {},
   "source": [
    "## 10.- insercion en el indice\n"
   ]
  },
  {
   "cell_type": "code",
   "execution_count": null,
   "metadata": {},
   "outputs": [],
   "source": [
    "# primero INSERTAR FINAL\n",
    "completo.fillna({'fechahora':fechaAhora},inplace=True)\n",
    "completo.fillna({'gestion.estadoCentro':'CONECTADOS'},inplace=True)\n",
    "completo.fillna({'itsm_incident_id':0},inplace=True)\n",
    "\n",
    "try:\n",
    "    completo = completo.rename(columns={'id_Beneficiario' :  'gestion.estado.id_Beneficiario'\n",
    "                                                                ,'nombreSede':'gestion.estado.nombreSede'\n",
    "                                                                ,'site_id':'gestion.estado.site_id'\n",
    "                                                                ,'nombre_departamento':'gestion.estado.dptoGestion'\n",
    "                                                                ,'nombre_municipio':'gestion.estado.muniGestion'\n",
    "                                                                ,'nombre_centro_pob':'gestion.estado.nombre_centro_pob'\n",
    "                                                                ,'COD_ISO':'gestion.estado.COD_ISO'\n",
    "                                                                ,'codDanesede':'gestion.estado.codDanesede'\n",
    "                                                                ,'energiadesc':'gestion.estado.energiadesc'\n",
    "                                                                ,'DDA':'gestion.estado.DDA'\n",
    "                                                                ,'gestion.location':'gestion.estado.location'\n",
    "                                                                ,'estadoInstalacion':'gestion.estado.estadoInstalacion'\n",
    "                                                                ,'nombreInstitucionEd':'gestion.estado.nombreInstitucionEd'\n",
    "                                                                ,'matricula':'gestion.estado.matricula'\n",
    "                                                                ,'municipioPDET':'gestion.estado.municipioPDET'})\n",
    "    completo[\"gestion.fechaControl\"] =  ahora_cdd\n",
    "    completo[\"gestion.fecha\"]=  completo[\"gestion.fechaControl\"].str.split(\" \", n = 1, expand = True)[0]\n",
    "    completo[\"gestion.hora\"]=completo[\"gestion.fechaControl\"].str.split(\" \", n=1, expand=True)[1].str.split(\":\", n = 2, expand = True)[0]\n",
    "    completo[\"gestion.anyo\"] =  completo[\"gestion.fecha\"].str[0:4]\n",
    "    completo[\"gestion.mes\"]  =  completo[\"gestion.fecha\"].str[5:7]\n",
    "    completo[\"gestion.dia\"]  =  completo[\"gestion.fecha\"].str[8:10]\n",
    "    completo[\"gestion.totales.cantDev\"]  = totales  \n",
    "    completo[\"gestion.totales.cantDevConectados\"]  =  conectados\n",
    "    completo[\"gestion.totales.cantDevdesConectados\"]  =  desconectados\n",
    "    \n",
    "    \n",
    "except err:\n",
    "    completo = pd.DataFrame()\n",
    "    print(\"hubo error \", err)\n",
    "completo\n"
   ]
  },
  {
   "cell_type": "code",
   "execution_count": null,
   "metadata": {},
   "outputs": [],
   "source": [
    "# insertando los datos en el indice \n",
    "\n",
    "use_these_keys = ['gestion.estado.id_Beneficiario'\n",
    "                    ,'gestion.estadoCentro'\n",
    "                    ,'gestion.estado.nombreSede'\n",
    "                    ,'gestion.estado.COD_ISO'\n",
    "                    ,'gestion.estado.codDanesede'\n",
    "                    ,'gestion.estado.nombre_centro_pob'\n",
    "                    ,'gestion.estado.site_id'\n",
    "                    ,'gestion.estado.dptoGestion'\n",
    "                    ,'gestion.estado.energiadesc'\n",
    "                    ,'gestion.estado.muniGestion'\n",
    "                    ,'gestion.estado.location'\n",
    "                    , 'gestion.fechaControl'\n",
    "                    , 'gestion.fecha'\n",
    "                    , 'gestion.anyo'\n",
    "                    , 'gestion.mes'\n",
    "                    , 'gestion.dia'\n",
    "                    , 'gestion.hora'\n",
    "                    , 'gestion.totales.cantDev'\n",
    "                    , 'gestion.totales.cantDevConectados'\n",
    "                    , 'gestion.totales.cantDevdesConectados'                   \n",
    "                    , '@timestamp']\n",
    "   \n",
    "completo['@timestamp'] = now.isoformat()\n",
    "def doc_generator2(df):\n",
    "    df_iter = df.iterrows()\n",
    "    for index, document in df_iter:\n",
    "        yield {\n",
    "                \"_index\": indice, \n",
    "                \"_id\": f\"{'Estado-'+str(+document['gestion.estado.id_Beneficiario']) + '-' + str(document['gestion.fechaControl'])}\",\n",
    "                \"_source\": filterKeys(document),\n",
    "            }\n",
    "\n",
    "salida = helpers.bulk(es, doc_generator2(completo))\n",
    "print(\"Fecha: \", now,\"- Llamadas insertadas en indice principal:\",salida[0])\n"
   ]
  }
 ],
 "metadata": {
  "kernelspec": {
   "display_name": "Python 3",
   "language": "python",
   "name": "python3"
  },
  "language_info": {
   "codemirror_mode": {
    "name": "ipython",
    "version": 3
   },
   "file_extension": ".py",
   "mimetype": "text/x-python",
   "name": "python",
   "nbconvert_exporter": "python",
   "pygments_lexer": "ipython3",
   "version": "3.8.5"
  }
 },
 "nbformat": 4,
 "nbformat_minor": 4
}
