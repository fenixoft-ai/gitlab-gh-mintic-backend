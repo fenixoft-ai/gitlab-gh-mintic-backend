{
 "cells": [
  {
   "cell_type": "markdown",
   "metadata": {},
   "source": [
    "### ¿Qué genera este script?\n",
    "\n",
    "Para cada sitio y fecha, el total de usuarios registrados (usuarios.usuariosRegistrados)"
   ]
  },
  {
   "cell_type": "code",
   "execution_count": 1,
   "metadata": {},
   "outputs": [],
   "source": [
    "from elasticsearch import Elasticsearch, helpers\n",
    "from ssl import create_default_context\n",
    "import pandas as pd\n",
    "import numpy as np\n",
    "from datetime import datetime, timedelta\n",
    "import parametros\n",
    "import re"
   ]
  },
  {
   "cell_type": "markdown",
   "metadata": {},
   "source": [
    "## Conectando a ElasticSearch"
   ]
  },
  {
   "cell_type": "markdown",
   "metadata": {},
   "source": [
    "La ultima línea se utiliza para garantizar la ejecución de la consulta\n",
    "* timeout es el tiempo para cada ejecución\n",
    "* max_retries el número de intentos si la conexión falla\n",
    "* retry_on_timeout para activar los reitentos"
   ]
  },
  {
   "cell_type": "code",
   "execution_count": 2,
   "metadata": {},
   "outputs": [],
   "source": [
    "context = create_default_context(cafile=parametros.cafile)\n",
    "es = Elasticsearch(\n",
    "    parametros.servidor,\n",
    "    http_auth=(parametros.usuario_EC, parametros.password_EC),\n",
    "    scheme=\"https\",\n",
    "    port=parametros.puerto,\n",
    "    ssl_context=context,\n",
    "    timeout=60, max_retries=3, retry_on_timeout=True\n",
    ") "
   ]
  },
  {
   "cell_type": "markdown",
   "metadata": {},
   "source": [
    "### Calculando fechas para la ejecución"
   ]
  },
  {
   "cell_type": "markdown",
   "metadata": {},
   "source": [
    "* Se calculan las fechas para asociar al nombre del indice\n",
    "* fecha_hoy es usada para concatenar al nombre del indice principal previa inserción"
   ]
  },
  {
   "cell_type": "code",
   "execution_count": 3,
   "metadata": {},
   "outputs": [],
   "source": [
    "now = datetime.now()\n",
    "fecha_hoy = str(now.strftime(\"%Y.%m.%d\"))"
   ]
  },
  {
   "cell_type": "markdown",
   "metadata": {},
   "source": [
    "### Definiendo indice principal con fecha de hoy e indice de control"
   ]
  },
  {
   "cell_type": "code",
   "execution_count": 4,
   "metadata": {},
   "outputs": [],
   "source": [
    "indice = parametros.usuarios_mintic_concat_index\n",
    "indice_control = parametros.usuarios_mintic_control"
   ]
  },
  {
   "cell_type": "markdown",
   "metadata": {},
   "source": [
    "### Función para generar JSON compatible con ElactiSearch"
   ]
  },
  {
   "cell_type": "code",
   "execution_count": 5,
   "metadata": {},
   "outputs": [],
   "source": [
    "def filterKeys(document):\n",
    "    return {key: document[key] for key in use_these_keys }"
   ]
  },
  {
   "cell_type": "markdown",
   "metadata": {},
   "source": [
    "### leyendo indice semilla-inventario"
   ]
  },
  {
   "cell_type": "markdown",
   "metadata": {},
   "source": [
    "En el script que ingesta semilla, trae la información de los centros de conexión administrados. Para el indice principal se requiere:\n",
    "\n",
    "* site_id como llave del centro de conexión.\n",
    "* Datos geográficos (Departamento, municipio, centro poblado, sede, energía, latitud, longitud, COD_ISOid_Beneficiario)."
   ]
  },
  {
   "cell_type": "code",
   "execution_count": 6,
   "metadata": {},
   "outputs": [],
   "source": [
    "total_docs = 10000\n",
    "try:\n",
    "    response = es.search(\n",
    "        index= parametros.semilla_inventario_index,\n",
    "        body={\n",
    "               \"_source\": ['site_id','nombre_municipio', 'nombre_departamento', 'nombre_centro_pob', 'nombreSede' \n",
    "                           , 'energiadesc', 'latitud', 'longitud','COD_ISO','id_Beneficiario']\n",
    "        },\n",
    "        size=total_docs\n",
    "    )\n",
    "    #print(es.info())\n",
    "    elastic_docs = response[\"hits\"][\"hits\"]\n",
    "    fields = {}\n",
    "    for num, doc in enumerate(elastic_docs):\n",
    "        source_data = doc[\"_source\"]\n",
    "        for key, val in source_data.items():\n",
    "            try:\n",
    "                fields[key] = np.append(fields[key], val)\n",
    "            except KeyError:\n",
    "                fields[key] = np.array([val])\n",
    "\n",
    "    datos_semilla = pd.DataFrame(dict([ (k,pd.Series(v)) for k,v in fields.items() ])) #pd.DataFrame(fields)\n",
    "except:\n",
    "    print(\"fecha:\",now,\"- Error en lectura de datos semilla\")\n",
    "    #exit()\n",
    "    "
   ]
  },
  {
   "cell_type": "markdown",
   "metadata": {},
   "source": [
    "* Se valida latitud y longitud. Luego se calcula campo location\n",
    "* Se renombran los campos de semilla"
   ]
  },
  {
   "cell_type": "code",
   "execution_count": 7,
   "metadata": {},
   "outputs": [],
   "source": [
    "def get_location(x,y='lat'):\n",
    "    patron = re.compile('^(\\-?\\d+(\\.\\d+)?),\\s*(\\-?\\d+(\\.\\d+)?)$') #patrón que debe cumplir\n",
    "    if (not patron.match(x) is None) and (str(x)!=''):\n",
    "        return x.replace(',','.')\n",
    "    else:\n",
    "        #Código a ejecutar si las coordenadas no son válidas\n",
    "        return '4.596389' if y=='lat' else '-74.074639'"
   ]
  },
  {
   "cell_type": "code",
   "execution_count": 8,
   "metadata": {},
   "outputs": [],
   "source": [
    "datos_semilla['latitud'] = datos_semilla['latitud'].apply(lambda x:get_location(x,'lat'))\n",
    "datos_semilla['longitud'] = datos_semilla['longitud'].apply(lambda x:get_location(x,'lon'))\n",
    "datos_semilla['usuarios.location'] = datos_semilla['latitud'] + ',' + datos_semilla['longitud']\n",
    "datos_semilla['usuarios.location']=datos_semilla['usuarios.location'].str.replace('a,a','')\n",
    "datos_semilla.drop(columns=['latitud','longitud'],inplace=True)\n",
    "\n",
    "datos_semilla = datos_semilla.rename(columns={'lugar_cod' : 'usuarios.centroDigitalUsuarios'\n",
    "                                            , 'nombre_municipio': 'usuarios.nombreMunicipio'\n",
    "                                            , 'nombre_departamento' : 'usuarios.nombreDepartamento'\n",
    "                                            , 'nombre_centro_pob': 'usuarios.localidad'\n",
    "                                            , 'nombreSede' : 'usuarios.nomCentroDigital'\n",
    "                                            , 'energiadesc' : 'usuarios.sistemaEnergia'\n",
    "                                            , 'COD_ISO' : 'usuarios.codISO'\n",
    "                                            , 'id_Beneficiario' : 'usuarios.idBeneficiario'})\n",
    "datos_semilla.fillna('', inplace=True)"
   ]
  },
  {
   "cell_type": "markdown",
   "metadata": {},
   "source": [
    "### Trae la ultima fecha para control de ejecución"
   ]
  },
  {
   "cell_type": "markdown",
   "metadata": {},
   "source": [
    "Cuando en el rango de tiempo de la ejecución, no se insertan nuevos valores, las fecha maxima en indice mintic no aumenta, por tanto se usa esta fecha de control para garantizar que incremente el bucle de ejecución"
   ]
  },
  {
   "cell_type": "code",
   "execution_count": 9,
   "metadata": {},
   "outputs": [
    {
     "name": "stdout",
     "output_type": "stream",
     "text": [
      "ultima fecha para control de ejecucion: 2021-08-10 00:00:00\n"
     ]
    }
   ],
   "source": [
    "total_docs = 1\n",
    "try:\n",
    "    response = es.search(\n",
    "        index= indice_control,\n",
    "        body={\n",
    "               \"_source\": [\"usuarios.fechaControl\"],\n",
    "              \"query\": {\n",
    "                \"bool\": {\n",
    "                  \"filter\": [\n",
    "                  {\n",
    "                    \"exists\": {\n",
    "                      \"field\":\"jerarquia_usuarios_registro\"\n",
    "                    }\n",
    "                  }\n",
    "                  ]\n",
    "                }\n",
    "              }\n",
    "        },\n",
    "        size=total_docs\n",
    "    )\n",
    "    #print(es.info())\n",
    "    elastic_docs = response[\"hits\"][\"hits\"]\n",
    "    fields = {}\n",
    "    for num, doc in enumerate(elastic_docs):\n",
    "        fecha_ejecucion = doc[\"_source\"]['usuarios.fechaControl']\n",
    "except:\n",
    "    pass\n",
    "if response[\"hits\"][\"hits\"] == []:\n",
    "    fecha_ejecucion = '2021-05-01 00:00:00'\n",
    "print(\"ultima fecha para control de ejecucion:\",fecha_ejecucion)"
   ]
  },
  {
   "cell_type": "markdown",
   "metadata": {},
   "source": [
    "### Asociando datos de usuarios"
   ]
  },
  {
   "cell_type": "markdown",
   "metadata": {},
   "source": [
    "* Se realiza lectura por día procesado\n",
    "* lugar_cod se usa para cruzar con semilla por site_id\n",
    "* creado es la fecha de creación del usuario\n",
    "* tipodoc y documento corresponden a datos del usuario. Se usa para calcular totales"
   ]
  },
  {
   "cell_type": "code",
   "execution_count": 10,
   "metadata": {},
   "outputs": [],
   "source": [
    "def traeRegistros(fecha_max,fecha_tope):\n",
    "    total_docs = 10000\n",
    "    response = es.search(\n",
    "        index= parametros.ohmyfi_d_u_index,\n",
    "        body={\n",
    "                \"_source\": ['lugar_cod','tipodoc', 'documento', 'creado']\n",
    "                  , \"query\": {\n",
    "                  \"range\": {\n",
    "                    \"creado\": {\n",
    "                      \"gte\": fecha_max.split(' ')[0]+' 00:00:00',\n",
    "                      \"lt\": fecha_tope.split(' ')[0]+' 23:59:59'\n",
    "                      #\"gte\": \"2021-05-26 10:00:00\",\n",
    "                      #\"lt\": \"2021-05-26 15:00:00\"  \n",
    "                    }\n",
    "                  }\n",
    "              }\n",
    "        },\n",
    "        size=total_docs\n",
    "    )\n",
    "    #print(es.info())\n",
    "    elastic_docs = response[\"hits\"][\"hits\"]\n",
    "    fields = {}\n",
    "    for num, doc in enumerate(elastic_docs):\n",
    "        source_data = doc[\"_source\"]\n",
    "        for key, val in source_data.items():\n",
    "            try:\n",
    "                fields[key] = np.append(fields[key], val)\n",
    "            except KeyError:\n",
    "                fields[key] = np.array([val])\n",
    "\n",
    "    return pd.DataFrame(dict([ (k,pd.Series(v)) for k,v in fields.items() ]))"
   ]
  },
  {
   "cell_type": "markdown",
   "metadata": {},
   "source": [
    "### Se realiza consulta de datos"
   ]
  },
  {
   "cell_type": "markdown",
   "metadata": {},
   "source": [
    "* Se calcula rango en base a la fecha de control. Para este caso es de un día.\n",
    "* Se ejecuta la función de consulta con el rango de fechas.\n",
    "* Si no retorna datos se incrementa el rango y se ejecuta nuevamente. Este proceso se repite hasta conseguir datos o hasta que el rango de ejecución alcance la fecha actual."
   ]
  },
  {
   "cell_type": "code",
   "execution_count": 13,
   "metadata": {},
   "outputs": [],
   "source": [
    "fecha_max_mintic = fecha_ejecucion\n",
    "fecha_tope_mintic = (datetime.strptime(fecha_max_mintic, '%Y-%m-%d %H:%M:%S')+timedelta(days=1)-timedelta(seconds=1)).strftime(\"%Y-%m-%d %H:%M:%S\")\n",
    "datos_registro = traeRegistros(fecha_max_mintic,fecha_tope_mintic)\n",
    "\n",
    "if datos_registro is None or datos_registro.empty:\n",
    "    while (datos_registro is None or datos_registro.empty) and ((datetime.strptime(fecha_max_mintic[0:10], '%Y-%m-%d').strftime(\"%Y-%m-%d %H:%M:%S\")) < str(now.strftime(\"%Y-%m-%d %H:%M:%S\"))):\n",
    "        fecha_max_mintic = (datetime.strptime(fecha_max_mintic, '%Y-%m-%d %H:%M:%S')+timedelta(days=1)).strftime(\"%Y-%m-%d %H:%M:%S\")\n",
    "        fecha_tope_mintic = (datetime.strptime(fecha_tope_mintic, '%Y-%m-%d %H:%M:%S')+timedelta(days=1)).strftime(\"%Y-%m-%d %H:%M:%S\")\n",
    "        datos_speed = traeRegistros(fecha_max_mintic,fecha_tope_mintic)\n",
    "else:\n",
    "    pass"
   ]
  },
  {
   "cell_type": "markdown",
   "metadata": {},
   "source": [
    "# Total registros  a indice"
   ]
  },
  {
   "cell_type": "markdown",
   "metadata": {},
   "source": [
    "la lista use_these_keys se usa para referenciar cuales campos del dataframe irán al indice final. si los datos no se declaran en este, no se insertarán"
   ]
  },
  {
   "cell_type": "code",
   "execution_count": 14,
   "metadata": {},
   "outputs": [],
   "source": [
    "use_these_keys = ['usuarios.fecha'\n",
    "                  , 'usuarios.siteID'\n",
    "                  , 'usuarios.usuariosRegistrados'\n",
    "                  , 'usuarios.anyo'\n",
    "                  , 'usuarios.mes'\n",
    "                  , 'usuarios.dia'\n",
    "                  , 'usuarios.nomCentroDigital'\n",
    "                  , 'usuarios.codISO'\n",
    "                  , 'usuarios.localidad'\n",
    "                  , 'usuarios.nombreDepartamento'\n",
    "                  , 'usuarios.sistemaEnergia'\n",
    "                  , 'usuarios.nombreMunicipio'\n",
    "                  , 'usuarios.idBeneficiario'\n",
    "                  , 'usuarios.location'\n",
    "                  , 'nombreDepartamento'\n",
    "                    , 'nombreMunicipio'\n",
    "                    , 'idBeneficiario'\n",
    "                    , 'fecha'\n",
    "                    , 'anyo'\n",
    "                    , 'mes'\n",
    "                    , 'dia'\n",
    "                  , '@timestamp']\n",
    "\n",
    "def doc_generator(df):\n",
    "    df_iter = df.iterrows()\n",
    "    for index, document in df_iter:\n",
    "        yield {\n",
    "                \"_index\": indice, \n",
    "                \"_id\": f\"{'UsuRegistro-'+ str(document['usuarios.siteID']) + '-' + str(document['usuarios.fecha'])}\",\n",
    "                \"_source\": filterKeys(document)\n",
    "            }"
   ]
  },
  {
   "cell_type": "markdown",
   "metadata": {},
   "source": [
    "Para cada sitio y fecha, se cuentan los documentos de usuario. Esto resulta en el total de usuarios registrados para esa fecha"
   ]
  },
  {
   "cell_type": "code",
   "execution_count": 15,
   "metadata": {},
   "outputs": [],
   "source": [
    "def invalid_values(df, values=['']):\n",
    "    return df.loc[df['usuarios.location'].isin(values)]"
   ]
  },
  {
   "cell_type": "code",
   "execution_count": 16,
   "metadata": {},
   "outputs": [
    {
     "name": "stdout",
     "output_type": "stream",
     "text": [
      "Fecha:  2021-08-10 08:26:54.610237 - Datos Registro usuarios en indice principal: 128\n"
     ]
    }
   ],
   "source": [
    "try:\n",
    "    \n",
    "    datos_registro['creado'] = datos_registro['creado'].str[0:10]\n",
    "    datos_registro['tipo_mas_doc'] = datos_registro['tipodoc'] + datos_registro['documento']\n",
    "    datos_registro= datos_registro.rename(columns={'creado' : 'usuarios.fecha'\n",
    "                                                  ,'lugar_cod':'site_id'})\n",
    "\n",
    "    datos_registro = datos_registro[[\"usuarios.fecha\",\"site_id\",\"tipo_mas_doc\"]].groupby([\"usuarios.fecha\",\"site_id\"]).agg(['count']).reset_index()\n",
    "    datos_registro.columns = datos_registro.columns.droplevel(1)\n",
    "    datos_registro= datos_registro.rename(columns={'tipo_mas_doc' : 'usuarios.usuariosRegistrados'})\n",
    "    datos_registro[\"usuarios.anyo\"] = datos_registro[\"usuarios.fecha\"].str[0:4]\n",
    "    datos_registro[\"usuarios.mes\"] = datos_registro[\"usuarios.fecha\"].str[5:7]\n",
    "    datos_registro[\"usuarios.dia\"] = datos_registro[\"usuarios.fecha\"].str[8:10]\n",
    "    datos_registro = pd.merge(datos_registro,  datos_semilla, on='site_id', how='inner')\n",
    "    datos_registro.rename(columns={'site_id': 'usuarios.siteID'\n",
    "                               }, inplace=True)\n",
    "    \n",
    "    datos_registro['nombreDepartamento'] = datos_registro['usuarios.nombreDepartamento']\n",
    "    datos_registro['nombreMunicipio'] = datos_registro['usuarios.nombreMunicipio']\n",
    "    datos_registro['idBeneficiario'] = datos_registro['usuarios.idBeneficiario']\n",
    "    datos_registro['fecha'] = datos_registro['usuarios.fecha']\n",
    "    datos_registro['anyo'] = datos_registro['usuarios.anyo']\n",
    "    datos_registro['mes'] = datos_registro['usuarios.mes']\n",
    "    datos_registro['dia'] = datos_registro['usuarios.dia']\n",
    "    \n",
    "    datos_registro['@timestamp'] = now.isoformat()\n",
    "    \n",
    "    salida = helpers.bulk(es, doc_generator(datos_registro))\n",
    "    print(\"Fecha: \", now,\"- Datos Registro usuarios en indice principal:\",salida[0])\n",
    "except Exception as e:\n",
    "    print(\"Fecha: \", now,\"- Nada que insertar en indice principal\",e)"
   ]
  },
  {
   "cell_type": "markdown",
   "metadata": {},
   "source": [
    "## Actualiza fecha control"
   ]
  },
  {
   "cell_type": "markdown",
   "metadata": {},
   "source": [
    "* Se actualiza la fecha de control. Si el calculo supera la fecha actual, se asocia esta ultima."
   ]
  },
  {
   "cell_type": "code",
   "execution_count": 17,
   "metadata": {},
   "outputs": [
    {
     "name": "stdout",
     "output_type": "stream",
     "text": [
      "actualizada fecha control de ejecucion: 2021-08-10 00:00:00\n"
     ]
    }
   ],
   "source": [
    "fecha_ejecucion = (datetime.strptime(fecha_max_mintic, '%Y-%m-%d %H:%M:%S')+timedelta(days=1)).strftime(\"%Y-%m-%d %H:%M:%S\")#[0:15] + '0:00'    \n",
    "\n",
    "if fecha_ejecucion > str(now.strftime('%Y-%m-%d %H:%M:%S'))[0:10] + ' 00:00:00':\n",
    "    fecha_ejecucion = str(now.strftime('%Y-%m-%d %H:%M:%S'))[0:10] + ' 00:00:00'\n",
    "response = es.index(\n",
    "        index = indice_control,\n",
    "        id = 'jerarquia_usuarios_registro',\n",
    "        body = { 'jerarquia_usuarios_registro': 'usuarios_registro','usuarios.fechaControl' : fecha_ejecucion}\n",
    ")\n",
    "print(\"actualizada fecha control de ejecucion:\",fecha_ejecucion)"
   ]
  },
  {
   "cell_type": "code",
   "execution_count": null,
   "metadata": {},
   "outputs": [],
   "source": []
  }
 ],
 "metadata": {
  "kernelspec": {
   "display_name": "Python 3",
   "language": "python",
   "name": "python3"
  },
  "language_info": {
   "codemirror_mode": {
    "name": "ipython",
    "version": 3
   },
   "file_extension": ".py",
   "mimetype": "text/x-python",
   "name": "python",
   "nbconvert_exporter": "python",
   "pygments_lexer": "ipython3",
   "version": "3.8.5"
  }
 },
 "nbformat": 4,
 "nbformat_minor": 4
}
