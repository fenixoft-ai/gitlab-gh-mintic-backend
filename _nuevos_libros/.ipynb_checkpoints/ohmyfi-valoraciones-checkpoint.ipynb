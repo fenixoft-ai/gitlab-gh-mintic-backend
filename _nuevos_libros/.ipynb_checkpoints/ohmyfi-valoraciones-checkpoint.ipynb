{
 "cells": [
  {
   "cell_type": "code",
   "execution_count": 9,
   "metadata": {},
   "outputs": [],
   "source": [
    "from elasticsearch import Elasticsearch\n",
    "from elasticsearch import helpers\n",
    "import pandas as pd\n",
    "import numpy as np\n",
    "import json\n",
    "from ssl import create_default_context\n",
    "from datetime import datetime\n",
    "from datetime import timedelta\n",
    "#para request\n",
    "import requests\n",
    "from getpass import getpass\n",
    "import parametros\n",
    "import time"
   ]
  },
  {
   "cell_type": "markdown",
   "metadata": {},
   "source": [
    "### Definiendo fechas para rangos de consultas"
   ]
  },
  {
   "cell_type": "code",
   "execution_count": 10,
   "metadata": {},
   "outputs": [],
   "source": [
    "now = datetime.now()\n",
    "new_date = now - timedelta(days=6)\n",
    "#fecha_url = str(new_date.strftime(format))\n",
    "ahora = str(now.strftime(\"%Y/%m/%d %H:%M\"))\n",
    "fecha_6 = str(new_date.strftime(\"%Y/%m/%d %H:%M\"))\n",
    "fecha_hoy = str(now.strftime(\"%Y.%m.%d\"))"
   ]
  },
  {
   "cell_type": "markdown",
   "metadata": {},
   "source": [
    "## Leyendo datos del indice ohmyfi-valoraciones"
   ]
  },
  {
   "cell_type": "code",
   "execution_count": 11,
   "metadata": {},
   "outputs": [],
   "source": [
    "context = create_default_context(cafile=parametros.cafile)\n",
    "es = Elasticsearch(\n",
    "    parametros.servidor,\n",
    "    http_auth=(parametros.usuario_EC, parametros.password_EC),\n",
    "    scheme=\"https\",\n",
    "    port=parametros.puerto,\n",
    "    ssl_context=context,\n",
    ")"
   ]
  },
  {
   "cell_type": "markdown",
   "metadata": {},
   "source": [
    "## tomando fecha mas reciente del indice"
   ]
  },
  {
   "cell_type": "code",
   "execution_count": 12,
   "metadata": {},
   "outputs": [
    {
     "name": "stdout",
     "output_type": "stream",
     "text": [
      "ultima fecha para control de ejecucion: 2021-10-19 21:30:02\n"
     ]
    }
   ],
   "source": [
    "total_docs = 1\n",
    "try:\n",
    "    response = es.search(\n",
    "        index= parametros.mintic_control,\n",
    "        body={\n",
    "               \"_source\": [\"usuarios.fechaControl\"],\n",
    "              \"query\": {\n",
    "                \"bool\": {\n",
    "                  \"filter\": [\n",
    "                  {\n",
    "                    \"exists\": {\n",
    "                      \"field\":\"jerarquia_ohmyfi_valoraciones\"\n",
    "                    }\n",
    "                  }\n",
    "                  ]\n",
    "                }\n",
    "              }\n",
    "        },\n",
    "        size=total_docs\n",
    "    )\n",
    "    #print(es.info())\n",
    "    elastic_docs = response[\"hits\"][\"hits\"]\n",
    "    fields = {}\n",
    "    for num, doc in enumerate(elastic_docs):\n",
    "        fecha_ejecucion = doc[\"_source\"]['usuarios.fechaControl']\n",
    "except:\n",
    "    pass\n",
    "if response[\"hits\"][\"hits\"] == []:\n",
    "    try:\n",
    "        response = es.search(\n",
    "            index=parametros.ohmyfi_val_index,\n",
    "            body={\"aggs\" : {\n",
    "                       \"max_date\": {\"max\": {\"field\": \"fechahora\", \"format\": \"yyyy-MM-dd HH:mm:ss\"}}\n",
    "                    }\n",
    "                 },\n",
    "            size=total_docs\n",
    "        )\n",
    "        elastic_docs = response[\"aggregations\"]\n",
    "        fecha_ejecucion = response[\"aggregations\"][\"max_date\"]['value_as_string']\n",
    "        if response[\"hits\"][\"hits\"] == []:\n",
    "            fecha_ejecucion = \"2021-04-01 00:00:00\"\n",
    "    except:\n",
    "        print(\"Error calculando rangos\") \n",
    "        fecha_ejecucion = \"2021-04-01 00:00:00\"\n",
    "print(\"ultima fecha para control de ejecucion:\",fecha_ejecucion)"
   ]
  },
  {
   "cell_type": "markdown",
   "metadata": {},
   "source": [
    "## Leyendo la APi valoraciones"
   ]
  },
  {
   "cell_type": "code",
   "execution_count": 5,
   "metadata": {},
   "outputs": [],
   "source": [
    "#url2 = parametros.url_ohmyfi +'?/consumos/=&apiKey=' + parametros.ohmyfi_api_key \n",
    "url2 = parametros.url_ohmyfi + '?/valoraciones' + '/=&apiKey=' + parametros.ohmyfi_api_key "
   ]
  },
  {
   "cell_type": "code",
   "execution_count": 6,
   "metadata": {},
   "outputs": [],
   "source": [
    "datos_api = pd.DataFrame(columns=[\"mac_usuario\",\"fecha_resp\",\"hora_resp\",\"id_pregunta\",\"pregunta\",\"respuesta\"\n",
    "                                  ,\"lugar_serespondio\",\"lugar_nombre\",\"lugar_cod\",\"nombre_completo\",\"apellidos\",\"correo\"\n",
    "                                  ,\"documento\",\"tipo_documento\",\"celular\",\"telefono\",\"direccion\",\"ciudad\",\"pais\"\n",
    "                                  ,\"genero\",\"fecha_nacimiento\",\"nivel_educativo\",\"rango_edad\",\"creado\"\n",
    "                                  ,\"tipo_dispositivo\",\"sistema_operativo\",\"mac_ap\"])"
   ]
  },
  {
   "cell_type": "code",
   "execution_count": 7,
   "metadata": {},
   "outputs": [],
   "source": [
    "h_inicio = fecha_ejecucion[0:-3].replace(\"-\",\"/\")\n",
    "h_fin = str(( datetime.strptime(h_inicio, '%Y/%m/%d %H:%M') + timedelta(minutes=59)).strftime(\"%Y/%m/%d %H:%M\"))"
   ]
  },
  {
   "cell_type": "code",
   "execution_count": 8,
   "metadata": {},
   "outputs": [
    {
     "name": "stdout",
     "output_type": "stream",
     "text": [
      "https://www.ohmyfi.com/ApiOMF?/valoraciones/=&apiKey=okMOpLAkiYpafQKXhXirwUys&inicio=2021/10/19 18:00&final=2021/10/19 18:59\n"
     ]
    }
   ],
   "source": [
    "if h_inicio[8:10] != h_fin[8:10]:\n",
    "    h_inicio = h_inicio[0:11] + '23:00'\n",
    "    h_fin = h_inicio[0:11] + '23:59'\n",
    "url = url2 + '&inicio=' + str(h_inicio) + '&final=' + str(h_fin) \n",
    "print(url)\n",
    "r = requests.get(url)\n",
    "if r.status_code == 200:\n",
    "    res = json.loads(r.text)\n",
    "    #print(url)\n",
    "    datos_api = datos_api.append(res, ignore_index=True)\n",
    "    datos_api.drop_duplicates(inplace=True)\n",
    "else:\n",
    "    if (r.status_code != 500) & (r.status_code != 204):\n",
    "        print(\"Se rompe bucle por error de request horas:\",r.status_code)\n",
    "    else:\n",
    "        print(h_inicio,\"- No hay datos para mostrar.\",r.status_code)"
   ]
  },
  {
   "cell_type": "markdown",
   "metadata": {},
   "source": [
    "Se actualiza la fecha de ejecución"
   ]
  },
  {
   "cell_type": "code",
   "execution_count": 9,
   "metadata": {},
   "outputs": [
    {
     "name": "stdout",
     "output_type": "stream",
     "text": [
      "actualizada fecha control de ejecucion: 2021-06-22 15:00:00\n"
     ]
    }
   ],
   "source": [
    "if r.status_code in (200,204):\n",
    "    ## Se actualiza la fecha control\n",
    "    fecha_ejecucion = (datetime.strptime(h_inicio+':00', '%Y/%m/%d %H:%M:%S')+timedelta(hours=1)).strftime(\"%Y-%m-%d %H:%M:%S\")\n",
    "    if fecha_ejecucion > str(now.strftime('%Y-%m-%d %H:%M:%S')):\n",
    "        fecha_ejecucion = str(now.strftime('%Y-%m-%d %H:%M:%S'))\n",
    "    response = es.index(\n",
    "            index = 'control_valoraciones',\n",
    "            id = 'jerarquia_ohmyfi_valoraciones',\n",
    "            body = { 'jerarquia_ohmyfi_valoraciones': 'valoraciones_ohmyfi','usuarios.fechaControl' : fecha_ejecucion}\n",
    "    )\n",
    "    print(\"actualizada fecha control de ejecucion:\",fecha_ejecucion)"
   ]
  },
  {
   "cell_type": "markdown",
   "metadata": {},
   "source": [
    "### Descartando datos de la API que ya están en el indice\n",
    "* se quito la fecha hoy (solicitado por Napoleon [GM] )\n"
   ]
  },
  {
   "cell_type": "code",
   "execution_count": 10,
   "metadata": {},
   "outputs": [],
   "source": [
    "indice = 'valoraciones_ohmyfi_pruebaingesta_20_1cha_hoy"
   ]
  },
  {
   "cell_type": "code",
   "execution_count": 11,
   "metadata": {},
   "outputs": [],
   "source": [
    "use_these_keys = [\"mac_usuario\",\"fecha_resp\",\"hora_resp\",\"id_pregunta\",\"pregunta\",\"respuesta\"\n",
    "                  ,\"lugar_serespondio\",\"lugar_nombre\",\"lugar_cod\",\"nombre_completo\",\"apellidos\",\"correo\"\n",
    "                  ,\"documento\",\"tipo_documento\",\"celular\",\"telefono\",\"direccion\",\"ciudad\",\"pais\"\n",
    "                  ,\"genero\",\"fecha_nacimiento\",\"nivel_educativo\",\"rango_edad\",\"creado\"\n",
    "                  ,\"tipo_dispositivo\",\"sistema_operativo\",\"mac_ap\",'fechahora','@timestamp']\n",
    "def filterKeys(document):\n",
    "    return {key: document[key] for key in use_these_keys }\n",
    "\n",
    "def doc_generator(df):\n",
    "    df_iter = df.iterrows()\n",
    "    for index, document in df_iter:\n",
    "        yield {\n",
    "                \"_index\": indice, \n",
    "                \"_id\": f\"{str(document['mac_usuario']) + '-' + str(document['fechahora'])}\",\n",
    "                \"_source\": filterKeys(document),\n",
    "            }"
   ]
  },
  {
   "cell_type": "markdown",
   "metadata": {},
   "source": [
    "Se limpia y formatea datos"
   ]
  },
  {
   "cell_type": "code",
   "execution_count": 12,
   "metadata": {},
   "outputs": [
    {
     "name": "stdout",
     "output_type": "stream",
     "text": [
      "Nada por insertar\n"
     ]
    }
   ],
   "source": [
    "try:\n",
    "    datos_api.fillna('', inplace=True)\n",
    "    datos_api['creado_new'] = datos_api[\"creado\"].str.split(\".\", n = 1, expand = True)[0] \n",
    "    datos_api.drop(columns=['creado'], inplace=True)\n",
    "    datos_api.rename(columns={'creado_new': 'creado'}, inplace=True)\n",
    "    datos_api['hora_resp_new'] = datos_api[\"hora_resp\"].str.split(\".\", n = 1, expand = True)[0] \n",
    "    datos_api.drop(columns=['hora_resp'], inplace=True)\n",
    "    datos_api.rename(columns={'hora_resp_new': 'hora_resp'}, inplace=True)\n",
    "    datos_api['fechahora'] = datos_api['fecha_resp'] + ' '+ datos_api[\"hora_resp\"]\n",
    "    #datos_api = datos_api.drop(datos_api[(datos_api['fechahora']<= fecha_max.replace(\"/\",\"-\"))].index)\n",
    "    datos_api.fillna('', inplace=True)\n",
    "    datos_api['@timestamp'] = now.isoformat() \n",
    "    salida = helpers.bulk(es, doc_generator(datos_api))\n",
    "    print(\"Fecha:\",now,\"- Total documentos insertados:\",salida[0])\n",
    "except:\n",
    "    print(\"Nada por insertar\")\n",
    "    pass"
   ]
  }
 ],
 "metadata": {
  "kernelspec": {
   "display_name": "Python 3",
   "language": "python",
   "name": "python3"
  },
  "language_info": {
   "codemirror_mode": {
    "name": "ipython",
    "version": 3
   },
   "file_extension": ".py",
   "mimetype": "text/x-python",
   "name": "python",
   "nbconvert_exporter": "python",
   "pygments_lexer": "ipython3",
   "version": "3.8.5"
  }
 },
 "nbformat": 4,
 "nbformat_minor": 4
}
