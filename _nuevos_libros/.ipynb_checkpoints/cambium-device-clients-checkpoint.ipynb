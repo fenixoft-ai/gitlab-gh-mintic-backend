{
 "cells": [
  {
   "cell_type": "code",
   "execution_count": 1,
   "metadata": {},
   "outputs": [],
   "source": [
    "from elasticsearch import Elasticsearch\n",
    "from elasticsearch import helpers\n",
    "import pandas as pd\n",
    "import numpy as np\n",
    "import json\n",
    "from ssl import create_default_context\n",
    "from datetime import datetime\n",
    "from datetime import timedelta\n",
    "import requests\n",
    "import math\n",
    "#from getpass import getpass\n",
    "import parametros\n"
   ]
  },
  {
   "cell_type": "markdown",
   "metadata": {},
   "source": [
    "## Conectando a ElasticSearch"
   ]
  },
  {
   "cell_type": "code",
   "execution_count": 2,
   "metadata": {},
   "outputs": [],
   "source": [
    "context = create_default_context(cafile=parametros.cafile)\n",
    "es = Elasticsearch(\n",
    "    parametros.servidor,\n",
    "    http_auth=(parametros.usuario_EC, parametros.password_EC),\n",
    "    scheme=\"https\",\n",
    "    port=parametros.puerto,\n",
    "    ssl_context=context,\n",
    ")"
   ]
  },
  {
   "cell_type": "markdown",
   "metadata": {},
   "source": [
    "### Fechas para el proceso"
   ]
  },
  {
   "cell_type": "code",
   "execution_count": 3,
   "metadata": {},
   "outputs": [],
   "source": [
    "now = datetime.now()\n",
    "new_date = now - timedelta(days=6)\n",
    "format = \"%Y%m%d\"\n",
    "format_ES = \"%Y.%m.%d\"\n",
    "fecha_url = str(new_date.strftime(format))\n",
    "fecha_hoy = str(now.strftime(format_ES))"
   ]
  },
  {
   "cell_type": "markdown",
   "metadata": {},
   "source": [
    "### Función para formato JSON ES"
   ]
  },
  {
   "cell_type": "code",
   "execution_count": 57,
   "metadata": {},
   "outputs": [],
   "source": [
    "def filterKeys(document):\n",
    "    return {key: document[key] for key in use_these_keys }"
   ]
  },
  {
   "cell_type": "markdown",
   "metadata": {},
   "source": [
    "## Leyendo la APi cambium-deviceclients"
   ]
  },
  {
   "cell_type": "code",
   "execution_count": 58,
   "metadata": {},
   "outputs": [
    {
     "name": "stderr",
     "output_type": "stream",
     "text": [
      "/opt/anaconda3/lib/python3.8/site-packages/urllib3/connectionpool.py:981: InsecureRequestWarning: Unverified HTTPS request is being made to host '100.123.26.252'. Adding certificate verification is strongly advised. See: https://urllib3.readthedocs.io/en/latest/advanced-usage.html#ssl-warnings\n",
      "  warnings.warn(\n",
      "/opt/anaconda3/lib/python3.8/site-packages/urllib3/connectionpool.py:981: InsecureRequestWarning: Unverified HTTPS request is being made to host '100.123.26.252'. Adding certificate verification is strongly advised. See: https://urllib3.readthedocs.io/en/latest/advanced-usage.html#ssl-warnings\n",
      "  warnings.warn(\n",
      "/opt/anaconda3/lib/python3.8/site-packages/urllib3/connectionpool.py:981: InsecureRequestWarning: Unverified HTTPS request is being made to host '100.123.26.252'. Adding certificate verification is strongly advised. See: https://urllib3.readthedocs.io/en/latest/advanced-usage.html#ssl-warnings\n",
      "  warnings.warn(\n",
      "/opt/anaconda3/lib/python3.8/site-packages/urllib3/connectionpool.py:981: InsecureRequestWarning: Unverified HTTPS request is being made to host '100.123.26.252'. Adding certificate verification is strongly advised. See: https://urllib3.readthedocs.io/en/latest/advanced-usage.html#ssl-warnings\n",
      "  warnings.warn(\n",
      "/opt/anaconda3/lib/python3.8/site-packages/urllib3/connectionpool.py:981: InsecureRequestWarning: Unverified HTTPS request is being made to host '100.123.26.252'. Adding certificate verification is strongly advised. See: https://urllib3.readthedocs.io/en/latest/advanced-usage.html#ssl-warnings\n",
      "  warnings.warn(\n",
      "/opt/anaconda3/lib/python3.8/site-packages/urllib3/connectionpool.py:981: InsecureRequestWarning: Unverified HTTPS request is being made to host '100.123.26.252'. Adding certificate verification is strongly advised. See: https://urllib3.readthedocs.io/en/latest/advanced-usage.html#ssl-warnings\n",
      "  warnings.warn(\n",
      "/opt/anaconda3/lib/python3.8/site-packages/urllib3/connectionpool.py:981: InsecureRequestWarning: Unverified HTTPS request is being made to host '100.123.26.252'. Adding certificate verification is strongly advised. See: https://urllib3.readthedocs.io/en/latest/advanced-usage.html#ssl-warnings\n",
      "  warnings.warn(\n",
      "/opt/anaconda3/lib/python3.8/site-packages/urllib3/connectionpool.py:981: InsecureRequestWarning: Unverified HTTPS request is being made to host '100.123.26.252'. Adding certificate verification is strongly advised. See: https://urllib3.readthedocs.io/en/latest/advanced-usage.html#ssl-warnings\n",
      "  warnings.warn(\n",
      "/opt/anaconda3/lib/python3.8/site-packages/urllib3/connectionpool.py:981: InsecureRequestWarning: Unverified HTTPS request is being made to host '100.123.26.252'. Adding certificate verification is strongly advised. See: https://urllib3.readthedocs.io/en/latest/advanced-usage.html#ssl-warnings\n",
      "  warnings.warn(\n",
      "/opt/anaconda3/lib/python3.8/site-packages/urllib3/connectionpool.py:981: InsecureRequestWarning: Unverified HTTPS request is being made to host '100.123.26.252'. Adding certificate verification is strongly advised. See: https://urllib3.readthedocs.io/en/latest/advanced-usage.html#ssl-warnings\n",
      "  warnings.warn(\n",
      "/opt/anaconda3/lib/python3.8/site-packages/urllib3/connectionpool.py:981: InsecureRequestWarning: Unverified HTTPS request is being made to host '100.123.26.252'. Adding certificate verification is strongly advised. See: https://urllib3.readthedocs.io/en/latest/advanced-usage.html#ssl-warnings\n",
      "  warnings.warn(\n",
      "/opt/anaconda3/lib/python3.8/site-packages/urllib3/connectionpool.py:981: InsecureRequestWarning: Unverified HTTPS request is being made to host '100.123.26.252'. Adding certificate verification is strongly advised. See: https://urllib3.readthedocs.io/en/latest/advanced-usage.html#ssl-warnings\n",
      "  warnings.warn(\n",
      "/opt/anaconda3/lib/python3.8/site-packages/urllib3/connectionpool.py:981: InsecureRequestWarning: Unverified HTTPS request is being made to host '100.123.26.252'. Adding certificate verification is strongly advised. See: https://urllib3.readthedocs.io/en/latest/advanced-usage.html#ssl-warnings\n",
      "  warnings.warn(\n",
      "/opt/anaconda3/lib/python3.8/site-packages/urllib3/connectionpool.py:981: InsecureRequestWarning: Unverified HTTPS request is being made to host '100.123.26.224'. Adding certificate verification is strongly advised. See: https://urllib3.readthedocs.io/en/latest/advanced-usage.html#ssl-warnings\n",
      "  warnings.warn(\n",
      "/opt/anaconda3/lib/python3.8/site-packages/urllib3/connectionpool.py:981: InsecureRequestWarning: Unverified HTTPS request is being made to host '100.123.26.224'. Adding certificate verification is strongly advised. See: https://urllib3.readthedocs.io/en/latest/advanced-usage.html#ssl-warnings\n",
      "  warnings.warn(\n",
      "/opt/anaconda3/lib/python3.8/site-packages/urllib3/connectionpool.py:981: InsecureRequestWarning: Unverified HTTPS request is being made to host '100.123.26.224'. Adding certificate verification is strongly advised. See: https://urllib3.readthedocs.io/en/latest/advanced-usage.html#ssl-warnings\n",
      "  warnings.warn(\n",
      "/opt/anaconda3/lib/python3.8/site-packages/urllib3/connectionpool.py:981: InsecureRequestWarning: Unverified HTTPS request is being made to host '100.123.26.224'. Adding certificate verification is strongly advised. See: https://urllib3.readthedocs.io/en/latest/advanced-usage.html#ssl-warnings\n",
      "  warnings.warn(\n",
      "/opt/anaconda3/lib/python3.8/site-packages/urllib3/connectionpool.py:981: InsecureRequestWarning: Unverified HTTPS request is being made to host '100.123.26.224'. Adding certificate verification is strongly advised. See: https://urllib3.readthedocs.io/en/latest/advanced-usage.html#ssl-warnings\n",
      "  warnings.warn(\n",
      "/opt/anaconda3/lib/python3.8/site-packages/urllib3/connectionpool.py:981: InsecureRequestWarning: Unverified HTTPS request is being made to host '100.123.26.224'. Adding certificate verification is strongly advised. See: https://urllib3.readthedocs.io/en/latest/advanced-usage.html#ssl-warnings\n",
      "  warnings.warn(\n",
      "/opt/anaconda3/lib/python3.8/site-packages/urllib3/connectionpool.py:981: InsecureRequestWarning: Unverified HTTPS request is being made to host '100.123.26.224'. Adding certificate verification is strongly advised. See: https://urllib3.readthedocs.io/en/latest/advanced-usage.html#ssl-warnings\n",
      "  warnings.warn(\n",
      "/opt/anaconda3/lib/python3.8/site-packages/urllib3/connectionpool.py:981: InsecureRequestWarning: Unverified HTTPS request is being made to host '100.123.26.224'. Adding certificate verification is strongly advised. See: https://urllib3.readthedocs.io/en/latest/advanced-usage.html#ssl-warnings\n",
      "  warnings.warn(\n",
      "/opt/anaconda3/lib/python3.8/site-packages/urllib3/connectionpool.py:981: InsecureRequestWarning: Unverified HTTPS request is being made to host '100.123.26.224'. Adding certificate verification is strongly advised. See: https://urllib3.readthedocs.io/en/latest/advanced-usage.html#ssl-warnings\n",
      "  warnings.warn(\n",
      "/opt/anaconda3/lib/python3.8/site-packages/urllib3/connectionpool.py:981: InsecureRequestWarning: Unverified HTTPS request is being made to host '100.123.26.224'. Adding certificate verification is strongly advised. See: https://urllib3.readthedocs.io/en/latest/advanced-usage.html#ssl-warnings\n",
      "  warnings.warn(\n",
      "/opt/anaconda3/lib/python3.8/site-packages/urllib3/connectionpool.py:981: InsecureRequestWarning: Unverified HTTPS request is being made to host '100.123.26.224'. Adding certificate verification is strongly advised. See: https://urllib3.readthedocs.io/en/latest/advanced-usage.html#ssl-warnings\n",
      "  warnings.warn(\n",
      "/opt/anaconda3/lib/python3.8/site-packages/urllib3/connectionpool.py:981: InsecureRequestWarning: Unverified HTTPS request is being made to host '100.123.26.224'. Adding certificate verification is strongly advised. See: https://urllib3.readthedocs.io/en/latest/advanced-usage.html#ssl-warnings\n",
      "  warnings.warn(\n",
      "/opt/anaconda3/lib/python3.8/site-packages/urllib3/connectionpool.py:981: InsecureRequestWarning: Unverified HTTPS request is being made to host '100.123.26.224'. Adding certificate verification is strongly advised. See: https://urllib3.readthedocs.io/en/latest/advanced-usage.html#ssl-warnings\n",
      "  warnings.warn(\n",
      "/opt/anaconda3/lib/python3.8/site-packages/urllib3/connectionpool.py:981: InsecureRequestWarning: Unverified HTTPS request is being made to host '100.123.26.224'. Adding certificate verification is strongly advised. See: https://urllib3.readthedocs.io/en/latest/advanced-usage.html#ssl-warnings\n",
      "  warnings.warn(\n",
      "/opt/anaconda3/lib/python3.8/site-packages/urllib3/connectionpool.py:981: InsecureRequestWarning: Unverified HTTPS request is being made to host '100.123.26.224'. Adding certificate verification is strongly advised. See: https://urllib3.readthedocs.io/en/latest/advanced-usage.html#ssl-warnings\n",
      "  warnings.warn(\n",
      "/opt/anaconda3/lib/python3.8/site-packages/urllib3/connectionpool.py:981: InsecureRequestWarning: Unverified HTTPS request is being made to host '100.123.26.224'. Adding certificate verification is strongly advised. See: https://urllib3.readthedocs.io/en/latest/advanced-usage.html#ssl-warnings\n",
      "  warnings.warn(\n",
      "/opt/anaconda3/lib/python3.8/site-packages/urllib3/connectionpool.py:981: InsecureRequestWarning: Unverified HTTPS request is being made to host '100.123.26.224'. Adding certificate verification is strongly advised. See: https://urllib3.readthedocs.io/en/latest/advanced-usage.html#ssl-warnings\n",
      "  warnings.warn(\n",
      "/opt/anaconda3/lib/python3.8/site-packages/urllib3/connectionpool.py:981: InsecureRequestWarning: Unverified HTTPS request is being made to host '100.123.26.224'. Adding certificate verification is strongly advised. See: https://urllib3.readthedocs.io/en/latest/advanced-usage.html#ssl-warnings\n",
      "  warnings.warn(\n",
      "/opt/anaconda3/lib/python3.8/site-packages/urllib3/connectionpool.py:981: InsecureRequestWarning: Unverified HTTPS request is being made to host '100.123.26.224'. Adding certificate verification is strongly advised. See: https://urllib3.readthedocs.io/en/latest/advanced-usage.html#ssl-warnings\n",
      "  warnings.warn(\n"
     ]
    }
   ],
   "source": [
    "# Definimos la cabecera y el diccionario con los datos\n",
    "\n",
    "datos_api = pd.DataFrame(columns=[\"mac\",\"ip\",\"manufacturer\",\"name\",\"user\",\"radio\",\"client_type\"\n",
    "                                  ,\"total_quota\",\"total_quota_balance\",\"upload_quota\",\"download_quota\"\n",
    "                                  ,\"upload_quota_balance\",\"download_quota_balance\",\"ap_mac\"\n",
    "                                  ,\"managed_account\"])\n",
    "j=0\n",
    "for k in range(0,len(parametros.url_cambium)):\n",
    "    token_aux = 'Bearer ' + parametros.cambium_token_aux[k]\n",
    "    cabecera1 = { 'Content-Type': 'application/json', 'Authorization' : token_aux, 'accept' : '*/*' } \n",
    "    url = parametros.url_cambium[k] + \"devices/clients/\"\n",
    "    r = requests.get(url, headers = cabecera1, verify=False)\n",
    "    if r.status_code == 200:\n",
    "        res = json.loads(r.text)\n",
    "        dato_param = res['paging']\n",
    "        #se calcula los ciclos de la consulta paginada\n",
    "        ciclos = int(math.ceil(dato_param['total']/100))\n",
    "        i = 0\n",
    "        while i < ciclos:\n",
    "            offset = str(i*100)\n",
    "            i+=1\n",
    "            #url2 = parametros.cambium_d_c_url + '?offset=' + offset\n",
    "            url2 = url + '?offset=' + offset\n",
    "            r = requests.get(url2, headers = cabecera1, verify=False)\n",
    "            if r.status_code == 200:\n",
    "                #print(\"respuesta 200: \",r.text)\n",
    "                res = json.loads(r.text)\n",
    "                #datos_api = datos_api.append(res['data'], ignore_index=True)\n",
    "                for x in range(0,len(res['data'])):\n",
    "                    #print(res['data'])\n",
    "                    try:\n",
    "                        mac = res['data'][x]['mac']\n",
    "                    except KeyError:\n",
    "                        mac = ''\n",
    "                    try:\n",
    "                        ip = res['data'][x]['ip']\n",
    "                    except KeyError:\n",
    "                        ip = ''\n",
    "                    try:\n",
    "                        manufacturer = res['data'][x]['manufacturer']\n",
    "                    except KeyError:\n",
    "                        manufacturer = ''\n",
    "                    try:\n",
    "                        name = res['data'][x]['name']\n",
    "                    except KeyError:\n",
    "                        name = ''\n",
    "                    try:\n",
    "                        user = res['data'][x]['user']\n",
    "                    except KeyError:\n",
    "                        user = ''\n",
    "                    try:\n",
    "                        radio = res['data'][x]['radio']\n",
    "                    except KeyError:\n",
    "                        radio = ''\n",
    "                    try:\n",
    "                        client_type = res['data'][x]['client_type']\n",
    "                    except KeyError:\n",
    "                        client_type = ''\n",
    "                    try:\n",
    "                        total_quota = res['data'][x]['total_quota']\n",
    "                    except KeyError:\n",
    "                        total_quota = ''\n",
    "                    try:\n",
    "                        total_quota_balance = res['data'][x]['total_quota_balance']\n",
    "                    except KeyError:\n",
    "                        total_quota_balance = ''\n",
    "                    try:\n",
    "                        upload_quota = res['data'][x]['upload_quota']\n",
    "                    except KeyError:\n",
    "                        upload_quota = ''\n",
    "                    try:\n",
    "                        download_quota = res['data'][x]['download_quota']\n",
    "                    except KeyError:\n",
    "                        download_quota = ''\n",
    "                    try:\n",
    "                        upload_quota_balance = res['data'][x]['upload_quota_balance']\n",
    "                    except KeyError:\n",
    "                        upload_quota_balance = ''\n",
    "                    try:\n",
    "                        download_quota_balance = res['data'][x]['download_quota_balance']\n",
    "                    except KeyError:\n",
    "                        download_quota_balance = ''\n",
    "                    try:\n",
    "                        ap_mac = res['data'][x]['ap_mac']\n",
    "                    except KeyError:\n",
    "                        ap_mac = ''\n",
    "                    try:\n",
    "                        managed_account = res['data'][x]['managed_account']\n",
    "                    except KeyError:\n",
    "                        managed_account = ''\n",
    "                    try:    \n",
    "                        datos_api.loc[j] = [mac,ip,manufacturer,name,user\n",
    "                                         ,radio,client_type,total_quota,total_quota_balance,upload_quota\n",
    "                                         ,download_quota,upload_quota_balance\n",
    "                                         ,download_quota_balance,ap_mac,managed_account]\n",
    "                    except:\n",
    "                        pass\n",
    "                    j+=1 # es el indice\n",
    "            else:\n",
    "                #break\n",
    "                print(\"Fecha:\",now,\"- Error bucle interno: \",r.status_code)\n",
    "        datos_api.dropna(how='all',inplace=True)\n",
    "    else:\n",
    "        print(\"Fecha:\",now,\"- Error bucle externo:\",r.status_code)\n",
    "        #exit()"
   ]
  },
  {
   "cell_type": "markdown",
   "metadata": {},
   "source": [
    "### Se eliminan duplicados por mac"
   ]
  },
  {
   "cell_type": "code",
   "execution_count": 59,
   "metadata": {},
   "outputs": [],
   "source": [
    "datos_api.drop_duplicates(subset=['mac'],inplace=True)\n",
    "#datos_api.drop_duplicates(subset=['ap_mac','mac'],inplace=True)"
   ]
  },
  {
   "cell_type": "markdown",
   "metadata": {},
   "source": [
    "### Se descompone el diccionario radio"
   ]
  },
  {
   "cell_type": "code",
   "execution_count": 60,
   "metadata": {},
   "outputs": [],
   "source": [
    "datos_api['radio.band'] = datos_api.loc[:, 'radio'].apply(lambda x: x['band'])\n",
    "datos_api['radio.rssi'] = datos_api.loc[:, 'radio'].apply(lambda x: x['rssi'])\n",
    "datos_api['radio.rx_bytes'] = datos_api.loc[:, 'radio'].apply(lambda x: x['rx_bytes'])\n",
    "datos_api['radio.snr'] = datos_api.loc[:, 'radio'].apply(lambda x: x['snr'])\n",
    "datos_api['radio.ssid'] = datos_api.loc[:, 'radio'].apply(lambda x: x['ssid'])\n",
    "datos_api['radio.tx_bytes'] = datos_api.loc[:, 'radio'].apply(lambda x: x['tx_bytes'])\n",
    "datos_api.drop(columns=['radio'],inplace=True)"
   ]
  },
  {
   "cell_type": "code",
   "execution_count": 61,
   "metadata": {},
   "outputs": [],
   "source": [
    "datos_api['upload_quota'] = datos_api['upload_quota'].str.replace('NA','')\n",
    "datos_api['upload_quota_balance'] = datos_api['upload_quota_balance'].str.replace('NA','')\n",
    "datos_api['download_quota'] = datos_api['download_quota'].str.replace('NA','')\n",
    "datos_api['download_quota_balance'] = datos_api['download_quota_balance'].str.replace('NA','')"
   ]
  },
  {
   "cell_type": "code",
   "execution_count": 62,
   "metadata": {},
   "outputs": [],
   "source": [
    "datos_api.fillna('', inplace=True)"
   ]
  },
  {
   "cell_type": "markdown",
   "metadata": {},
   "source": [
    "### Definiendo indice con fecha e insertando en ES"
   ]
  },
  {
   "cell_type": "code",
   "execution_count": 63,
   "metadata": {},
   "outputs": [],
   "source": [
    "indice = parametros.cambium_d_c_index"
   ]
  },
  {
   "cell_type": "code",
   "execution_count": 64,
   "metadata": {},
   "outputs": [
    {
     "name": "stdout",
     "output_type": "stream",
     "text": [
      "total documentos insertados:  1582\n"
     ]
    }
   ],
   "source": [
    "use_these_keys = ['mac', 'ip', 'manufacturer', 'name', 'user', 'client_type','total_quota'\n",
    "                  , 'total_quota_balance', 'upload_quota', 'download_quota','upload_quota_balance'\n",
    "                  , 'download_quota_balance', 'ap_mac','managed_account', 'radio.band', 'radio.rssi'\n",
    "                  , 'radio.rx_bytes','radio.snr', 'radio.ssid', 'radio.tx_bytes','@timestamp']\n",
    "def filterKeys(document):\n",
    "    return {key: document[key] for key in use_these_keys }\n",
    "\n",
    "timestamp = datetime.now()\n",
    "datos_api['@timestamp'] = timestamp.isoformat()\n",
    "def doc_generator(df):\n",
    "    df_iter = df.iterrows()\n",
    "    for index, document in df_iter:\n",
    "        yield {\n",
    "                \"_index\": indice, \n",
    "                \"_id\": f\"{document['mac']}\",\n",
    "                \"_source\": filterKeys(document),\n",
    "            }\n",
    "salida = helpers.bulk(es, doc_generator(datos_api))\n",
    "print(\"total documentos insertados: \",salida[0])"
   ]
  },
  {
   "cell_type": "markdown",
   "metadata": {},
   "source": [
    "# Inserta con con fecha_control"
   ]
  },
  {
   "cell_type": "code",
   "execution_count": 65,
   "metadata": {},
   "outputs": [
    {
     "name": "stdout",
     "output_type": "stream",
     "text": [
      "fecha: 2021-06-23 12:55:52 total documentos con fecha control:  1582\n"
     ]
    }
   ],
   "source": [
    "use_these_keys = ['mac', 'ip', 'manufacturer', 'name', 'user'\n",
    "                  , 'client_type', 'ap_mac','managed_account'\n",
    "                  , 'radio.band', 'radio.rx_bytes', 'radio.tx_bytes'\n",
    "                  ,'fecha_control','@timestamp']\n",
    "def filterKeys(document):\n",
    "    return {key: document[key] for key in use_these_keys }\n",
    "datos_api['fecha_control'] = str(now.strftime('%Y-%m-%d %H:%M:%S'))[0:-3]+':00'\n",
    "datos_api['@timestamp'] = now.isoformat()\n",
    "def doc_generator(df):\n",
    "    df_iter = df.iterrows()\n",
    "    for index, document in df_iter:\n",
    "        yield {\n",
    "                \"_index\": 'all-'+indice, \n",
    "                \"_id\": f\"{str(document['mac'])+'-'+str(document['ap_mac'])+'-'+str(document['fecha_control'])}\",\n",
    "                \"_source\": filterKeys(document),\n",
    "            }\n",
    "salida = helpers.bulk(es, doc_generator(datos_api))\n",
    "print(\"fecha:\",str(now.strftime('%Y-%m-%d %H:%M:%S')),\"total documentos con fecha control: \",salida[0])"
   ]
  },
  {
   "cell_type": "markdown",
   "metadata": {},
   "source": [
    "### Se calculan datos agrupados"
   ]
  },
  {
   "cell_type": "markdown",
   "metadata": {},
   "source": [
    "Se calcula para cada ap_mac:\n",
    "* conteo por usuarios.marcaTerminal\n",
    "* conteo por usuarios.detallesTecnologiasTerminales\n",
    "\n",
    "Los resultados se almacenan dentro del mismo indice. Para garantizar la no duplicidad de registro por mac, se pone el prefito 'totales' al _id"
   ]
  },
  {
   "cell_type": "code",
   "execution_count": 66,
   "metadata": {},
   "outputs": [],
   "source": [
    "total_docs = 30000000\n",
    "response = es.search(\n",
    "    index= parametros.cambium_d_c_index,\n",
    "    body={\n",
    "            \"_source\": [\"mac\",\"ap_mac\",\"radio.band\",\"radio.rx_bytes\",\"radio.tx_bytes\",\"manufacturer\"]\n",
    "    },\n",
    "    size=total_docs\n",
    ")\n",
    "elastic_docs = response[\"hits\"][\"hits\"]\n",
    "fields = {}\n",
    "for num, doc in enumerate(elastic_docs):\n",
    "    source_data = doc[\"_source\"]\n",
    "    for key, val in source_data.items():\n",
    "        try:\n",
    "            fields[key] = np.append(fields[key], val)\n",
    "        except KeyError:\n",
    "            fields[key] = np.array([val])\n",
    "\n",
    "datos_dev_clients = pd.DataFrame(dict([ (k,pd.Series(v)) for k,v in fields.items() ]))\n",
    "datos_dev_clients.drop_duplicates(subset=['ap_mac','mac'],inplace=True)"
   ]
  },
  {
   "cell_type": "code",
   "execution_count": 67,
   "metadata": {},
   "outputs": [],
   "source": [
    "fabricantes = datos_dev_clients[['ap_mac','manufacturer','mac']].groupby(['ap_mac','manufacturer']).agg(['count']).reset_index()\n",
    "fabricantes.columns = fabricantes.columns.droplevel(1)\n",
    "fabricantes= fabricantes.rename(columns={'ap_mac': 'usuarios.macRed',\n",
    "                                         'manufacturer' : 'usuarios.marcaTerminal',\n",
    "                                         'mac' : 'usuarios.total.marcaTerminal'})"
   ]
  },
  {
   "cell_type": "code",
   "execution_count": 68,
   "metadata": {},
   "outputs": [
    {
     "name": "stdout",
     "output_type": "stream",
     "text": [
      "total totales fabricantes insertados:  6169\n"
     ]
    }
   ],
   "source": [
    "use_these_keys = ['usuarios.macRed', 'usuarios.total.marcaTerminal', 'usuarios.marcaTerminal','@timestamp']\n",
    "\n",
    "fabricantes['@timestamp'] = now.isoformat()\n",
    "def doc_generator(df):\n",
    "    df_iter = df.iterrows()\n",
    "    for index, document in df_iter:\n",
    "        yield {\n",
    "                \"_index\": indice, \n",
    "                \"_id\": f\"{'Totales-'+document['usuarios.macRed'] + '-' +document['usuarios.marcaTerminal']}\",\n",
    "                \"_source\": filterKeys(document),\n",
    "            }\n",
    "salida = helpers.bulk(es, doc_generator(fabricantes))\n",
    "print(\"total totales fabricantes insertados: \",salida[0])"
   ]
  },
  {
   "cell_type": "code",
   "execution_count": 69,
   "metadata": {},
   "outputs": [],
   "source": [
    "datos_dev_clients.fillna({'radio.rx_bytes':0,'radio.tx_bytes':0},inplace=True)\n",
    "datos_dev_clients['usuarios.usoServicioInternetSitio'] = datos_dev_clients['radio.rx_bytes'] + datos_dev_clients['radio.tx_bytes']\n",
    "radios = datos_dev_clients[['ap_mac','radio.band','usuarios.usoServicioInternetSitio']].groupby(['ap_mac','radio.band']).agg(['sum']).reset_index()\n",
    "radios.columns = radios.columns.droplevel(1)\n",
    "radios= radios.rename(columns={'ap_mac': 'usuarios.macRed',\n",
    "                               'radio.band' : 'usuarios.detallesTecnologiasTerminales'})"
   ]
  },
  {
   "cell_type": "code",
   "execution_count": 70,
   "metadata": {},
   "outputs": [
    {
     "name": "stdout",
     "output_type": "stream",
     "text": [
      "total totales Uso servicio insertados:  1525\n",
      "Fin\n"
     ]
    }
   ],
   "source": [
    "use_these_keys = ['usuarios.macRed', 'usuarios.detallesTecnologiasTerminales', 'usuarios.usoServicioInternetSitio','@timestamp']\n",
    "\n",
    "radios['@timestamp'] = now.isoformat()\n",
    "def doc_generator(df):\n",
    "    df_iter = df.iterrows()\n",
    "    for index, document in df_iter:\n",
    "        yield {\n",
    "                \"_index\": indice, \n",
    "                \"_id\": f\"{'Totales-'+document['usuarios.macRed']}\",\n",
    "                \"_source\": filterKeys(document),\n",
    "            }\n",
    "salida = helpers.bulk(es, doc_generator(radios))\n",
    "print(\"total totales Uso servicio insertados: \",salida[0])\n",
    "print(\"Fin\")"
   ]
  },
  {
   "cell_type": "code",
   "execution_count": null,
   "metadata": {},
   "outputs": [],
   "source": []
  }
 ],
 "metadata": {
  "kernelspec": {
   "display_name": "Python 3",
   "language": "python",
   "name": "python3"
  },
  "language_info": {
   "codemirror_mode": {
    "name": "ipython",
    "version": 3
   },
   "file_extension": ".py",
   "mimetype": "text/x-python",
   "name": "python",
   "nbconvert_exporter": "python",
   "pygments_lexer": "ipython3",
   "version": "3.8.5"
  }
 },
 "nbformat": 4,
 "nbformat_minor": 4
}
