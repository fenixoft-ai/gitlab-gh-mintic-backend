{
 "cells": [
  {
   "cell_type": "code",
   "execution_count": 4,
   "metadata": {},
   "outputs": [],
   "source": [
    "from elasticsearch import Elasticsearch\n",
    "from elasticsearch import helpers\n",
    "import pandas as pd\n",
    "import numpy as np\n",
    "import json\n",
    "from ssl import create_default_context\n",
    "from datetime import datetime\n",
    "from datetime import timedelta\n",
    "import requests\n",
    "#from getpass import getpass\n",
    "import parametros"
   ]
  },
  {
   "cell_type": "markdown",
   "metadata": {},
   "source": [
    "## Parametros de conexion para ES"
   ]
  },
  {
   "cell_type": "code",
   "execution_count": 5,
   "metadata": {},
   "outputs": [],
   "source": [
    "context = create_default_context(cafile=parametros.cafile)\n",
    "es = Elasticsearch(\n",
    "    parametros.servidor,\n",
    "    http_auth=(parametros.usuario_EC, parametros.password_EC),\n",
    "    scheme=\"https\",\n",
    "    port=parametros.puerto,\n",
    "    ssl_context=context,\n",
    ")"
   ]
  },
  {
   "cell_type": "markdown",
   "metadata": {},
   "source": [
    "## tomando fecha mas reciente del indice"
   ]
  },
  {
   "cell_type": "markdown",
   "metadata": {},
   "source": [
    "Las alertas que traiga el Endpoint con fechas menores a la maxima en indice, se descartan."
   ]
  },
  {
   "cell_type": "code",
   "execution_count": 6,
   "metadata": {},
   "outputs": [
    {
     "name": "stdout",
     "output_type": "stream",
     "text": [
      "Fecha maxima en indice: 2021-10-05 23:17:54\n"
     ]
    }
   ],
   "source": [
    "total_docs = 0\n",
    "try:\n",
    "    response = es.search(\n",
    "        index= parametros.cambium_a_h_index,\n",
    "        body={\"aggs\" : {\n",
    "                   \"max_date\": {\"max\": {\"field\": \"time_raised\", \"format\": \"yyyy-MM-dd HH:mm:ss\"}}\n",
    "                }\n",
    "             },\n",
    "        size=total_docs\n",
    "    )\n",
    "    #print(es.info())\n",
    "    elastic_docs = response[\"aggregations\"]\n",
    "    fecha_max=response[\"aggregations\"][\"max_date\"]['value_as_string']\n",
    "except:\n",
    "    fecha_max = '2010-01-01 00:00:01'\n",
    "print(\"Fecha maxima en indice:\",fecha_max)"
   ]
  },
  {
   "cell_type": "code",
   "execution_count": 7,
   "metadata": {},
   "outputs": [],
   "source": [
    "now = datetime.now()\n",
    "new_date = now - timedelta(days=6)\n",
    "format = \"%Y%m%d\"\n",
    "format_ES = \"%Y.%m.%d\"\n",
    "fecha_url = str(new_date.strftime(format))\n",
    "fecha_hoy = str(now.strftime(format_ES))"
   ]
  },
  {
   "cell_type": "code",
   "execution_count": 8,
   "metadata": {},
   "outputs": [],
   "source": [
    "aaa = str(now.strftime(\"%Y%m%d%H\"))+'00'\n",
    "fecha_ini = (datetime.strptime(aaa, '%Y%m%d%H%M')-timedelta(minutes=60)).strftime(\"%Y%m%d%H%M\")\n",
    "fecha_fin = (datetime.strptime(fecha_ini, '%Y%m%d%H%M')+timedelta(minutes=59)).strftime(\"%Y%m%d%H%M\")"
   ]
  },
  {
   "cell_type": "markdown",
   "metadata": {},
   "source": [
    "## Leyendo la APi cambium-alarm-history"
   ]
  },
  {
   "cell_type": "code",
   "execution_count": 9,
   "metadata": {},
   "outputs": [
    {
     "name": "stderr",
     "output_type": "stream",
     "text": [
      "/opt/anaconda3/lib/python3.8/site-packages/urllib3/connectionpool.py:981: InsecureRequestWarning: Unverified HTTPS request is being made to host '100.123.26.252'. Adding certificate verification is strongly advised. See: https://urllib3.readthedocs.io/en/latest/advanced-usage.html#ssl-warnings\n",
      "  warnings.warn(\n"
     ]
    },
    {
     "ename": "NameError",
     "evalue": "name 'url2' is not defined",
     "output_type": "error",
     "traceback": [
      "\u001b[0;31m---------------------------------------------------------------------------\u001b[0m",
      "\u001b[0;31mNameError\u001b[0m                                 Traceback (most recent call last)",
      "\u001b[0;32m<ipython-input-9-f7f33364ee8c>\u001b[0m in \u001b[0;36m<module>\u001b[0;34m\u001b[0m\n\u001b[1;32m     19\u001b[0m             \u001b[0;31m#url2 = parametros.url_cambium[k] + \"alarms/history\" + '?offset=' + offset  + '&start_time=' + fecha_url\u001b[0m\u001b[0;34m\u001b[0m\u001b[0;34m\u001b[0m\u001b[0;34m\u001b[0m\u001b[0m\n\u001b[1;32m     20\u001b[0m             \u001b[0murl\u001b[0m \u001b[0;34m=\u001b[0m \u001b[0mparametros\u001b[0m\u001b[0;34m.\u001b[0m\u001b[0murl_cambium\u001b[0m\u001b[0;34m[\u001b[0m\u001b[0mk\u001b[0m\u001b[0;34m]\u001b[0m \u001b[0;34m+\u001b[0m \u001b[0;34m\"alarms/history\"\u001b[0m \u001b[0;34m+\u001b[0m \u001b[0;34m'?start_time='\u001b[0m \u001b[0;34m+\u001b[0m \u001b[0mfecha_ini\u001b[0m \u001b[0;34m+\u001b[0m \u001b[0;34m'&stop_time='\u001b[0m \u001b[0;34m+\u001b[0m \u001b[0mfecha_fin\u001b[0m\u001b[0;34m\u001b[0m\u001b[0;34m\u001b[0m\u001b[0m\n\u001b[0;32m---> 21\u001b[0;31m             \u001b[0mr\u001b[0m \u001b[0;34m=\u001b[0m \u001b[0mrequests\u001b[0m\u001b[0;34m.\u001b[0m\u001b[0mget\u001b[0m\u001b[0;34m(\u001b[0m\u001b[0murl2\u001b[0m\u001b[0;34m,\u001b[0m \u001b[0mheaders\u001b[0m \u001b[0;34m=\u001b[0m \u001b[0mcabecera1\u001b[0m\u001b[0;34m,\u001b[0m \u001b[0mverify\u001b[0m\u001b[0;34m=\u001b[0m\u001b[0;32mFalse\u001b[0m\u001b[0;34m)\u001b[0m\u001b[0;34m\u001b[0m\u001b[0;34m\u001b[0m\u001b[0m\n\u001b[0m\u001b[1;32m     22\u001b[0m             \u001b[0;32mif\u001b[0m \u001b[0mr\u001b[0m\u001b[0;34m.\u001b[0m\u001b[0mstatus_code\u001b[0m \u001b[0;34m==\u001b[0m \u001b[0;36m200\u001b[0m\u001b[0;34m:\u001b[0m\u001b[0;34m\u001b[0m\u001b[0;34m\u001b[0m\u001b[0m\n\u001b[1;32m     23\u001b[0m                 \u001b[0;31m#print(\"respuesta 200: \",r.text)\u001b[0m\u001b[0;34m\u001b[0m\u001b[0;34m\u001b[0m\u001b[0;34m\u001b[0m\u001b[0m\n",
      "\u001b[0;31mNameError\u001b[0m: name 'url2' is not defined"
     ]
    }
   ],
   "source": [
    "datos_api = pd.DataFrame(columns=['ip','network','message','name','severity','source_type','status'\n",
    "                                          ,'time_raised','time_cleared','site','duration','id','code','mac'\n",
    "                                          ,'acknowledged_by','source','managed_account'])\n",
    "for k in range(0,len(parametros.url_cambium)):\n",
    "    token_aux = 'Bearer ' + parametros.cambium_token_aux[k]\n",
    "    cabecera1 = { 'Content-Type': 'application/json', 'Authorization' : token_aux, 'accept' : '*/*' } \n",
    "    #url = parametros.url_cambium[k] + \"alarms/history\" + '?start_time='+ fecha_url\n",
    "    url = parametros.url_cambium[k] + \"alarms/history\" + '?start_time=' + fecha_ini + '&stop_time=' + fecha_fin\n",
    "    r = requests.get(url, headers = cabecera1, verify=False)\n",
    "    if r.status_code == 200:\n",
    "        res = json.loads(r.text)\n",
    "        dato_param = res['paging']\n",
    "        #se calcula los ciclos de la consulta paginada\n",
    "        ciclos = int(round(dato_param['total']/100,0))\n",
    "        i = 0\n",
    "        while i < ciclos:\n",
    "            i+=1\n",
    "            offset = str(i)\n",
    "            #url2 = parametros.url_cambium[k] + \"alarms/history\" + '?offset=' + offset  + '&start_time=' + fecha_url \n",
    "            url = parametros.url_cambium[k] + \"alarms/history\" + '?start_time=' + fecha_ini + '&stop_time=' + fecha_fin\n",
    "            r = requests.get(url2, headers = cabecera1, verify=False)\n",
    "            if r.status_code == 200:\n",
    "                #print(\"respuesta 200: \",r.text)\n",
    "                res = json.loads(r.text)\n",
    "                datos_api = datos_api.append(res['data'], ignore_index=True)\n",
    "            else:\n",
    "                #break\n",
    "                print(\"Error de request:\",r.status_code)\n",
    "\n",
    "        pass\n",
    "    else:\n",
    "        print(\"el else saca esto: \",r.status_code)\n",
    "        #exit()"
   ]
  },
  {
   "cell_type": "code",
   "execution_count": null,
   "metadata": {},
   "outputs": [],
   "source": []
  },
  {
   "cell_type": "markdown",
   "metadata": {},
   "source": [
    "### Descartando datos de la API que ya están en el indice"
   ]
  },
  {
   "cell_type": "code",
   "execution_count": 7,
   "metadata": {},
   "outputs": [
    {
     "name": "stdout",
     "output_type": "stream",
     "text": [
      "Error de request: 401\n"
     ]
    }
   ],
   "source": [
    "try:\n",
    "    datos_api['time_raised'] = (datos_api[\"time_raised\"].str.split(\"T\", n = 2, expand = True)[0])+' '+(datos_api[\"time_raised\"].str.split(\"T\", n = 2, expand = True)[1]).str.split(\"-\", n = 1, expand = True)[0]\n",
    "    datos_api['time_cleared'] = (datos_api[\"time_cleared\"].str.split(\"T\", n = 2, expand = True)[0])+' '+(datos_api[\"time_cleared\"].str.split(\"T\", n = 2, expand = True)[1]).str.split(\"-\", n = 1, expand = True)[0]\n",
    "except:\n",
    "    print(\"Fecha:\",now,\"Error de request:\",r.status_code)\n",
    "    exit()"
   ]
  },
  {
   "cell_type": "code",
   "execution_count": 23,
   "metadata": {},
   "outputs": [],
   "source": [
    "datos_api = datos_api.drop(datos_api[(datos_api['time_raised']<= fecha_max)].index)"
   ]
  },
  {
   "cell_type": "code",
   "execution_count": 49,
   "metadata": {},
   "outputs": [],
   "source": [
    "datos_api.fillna('', inplace=True)"
   ]
  },
  {
   "cell_type": "markdown",
   "metadata": {},
   "source": [
    "### Definiendo indice con fecha e insertando en ES"
   ]
  },
  {
   "cell_type": "code",
   "execution_count": 50,
   "metadata": {},
   "outputs": [],
   "source": [
    "indice = parametros.cambium_a_h_index +'-'+ fecha_hoy"
   ]
  },
  {
   "cell_type": "code",
   "execution_count": 51,
   "metadata": {},
   "outputs": [
    {
     "name": "stdout",
     "output_type": "stream",
     "text": [
      "Fecha: 2021-05-10 17:40:44.237766 - Total documentos insertados: 0\n"
     ]
    }
   ],
   "source": [
    "use_these_keys = ['ip','network','message','name','severity','source_type','status'\n",
    "                  ,'time_raised','time_cleared','site','duration','id','code','mac'\n",
    "                  ,'acknowledged_by','source','managed_account','@timestamp']\n",
    "def filterKeys(document):\n",
    "    return {key: document[key] for key in use_these_keys }\n",
    "\n",
    "timestamp = datetime.now()\n",
    "datos_api['@timestamp'] = timestamp.isoformat()\n",
    "def doc_generator(df):\n",
    "    df_iter = df.iterrows()\n",
    "    for index, document in df_iter:\n",
    "        yield {\n",
    "                \"_index\": indice, \n",
    "                \"_source\": filterKeys(document),\n",
    "            }\n",
    "salida = helpers.bulk(es, doc_generator(datos_api))\n",
    "print(\"Fecha:\",now,\"- Total documentos insertados:\",salida[0])"
   ]
  }
 ],
 "metadata": {
  "kernelspec": {
   "display_name": "Python 3",
   "language": "python",
   "name": "python3"
  },
  "language_info": {
   "codemirror_mode": {
    "name": "ipython",
    "version": 3
   },
   "file_extension": ".py",
   "mimetype": "text/x-python",
   "name": "python",
   "nbconvert_exporter": "python",
   "pygments_lexer": "ipython3",
   "version": "3.8.5"
  }
 },
 "nbformat": 4,
 "nbformat_minor": 4
}
