{
 "cells": [
  {
   "cell_type": "code",
   "execution_count": 836,
   "metadata": {},
   "outputs": [
    {
     "data": {
      "text/plain": [
       "True"
      ]
     },
     "execution_count": 836,
     "metadata": {},
     "output_type": "execute_result"
    }
   ],
   "source": [
    "from elasticsearch import Elasticsearch, helpers, exceptions\n",
    "#from elasticsearch import helpers\n",
    "import pandas as pd\n",
    "import numpy as np\n",
    "import json\n",
    "from ssl import create_default_context\n",
    "from datetime import datetime, timedelta\n",
    "import time\n",
    "#para request\n",
    "#import requests\n",
    "#from getpass import getpass\n",
    "import math\n",
    "import ipaddress # convertir IP\n",
    "import parametros #parametros propios del desarrollo\n",
    "from tld import get_tld #para manipulación de URLs\n",
    "from tld.utils import update_tld_names\n",
    "update_tld_names()"
   ]
  },
  {
   "cell_type": "markdown",
   "metadata": {},
   "source": [
    "### Función para gestión de URLs"
   ]
  },
  {
   "cell_type": "code",
   "execution_count": 837,
   "metadata": {},
   "outputs": [],
   "source": [
    "def maneja_url(url):\n",
    "    try:\n",
    "        res = get_tld(url, fix_protocol=True, as_object=True)\n",
    "        # opciones de retorno: res,res.subdomain,res.domain,res.tld,res.fld\n",
    "        #por ejemplo google.com/* maneja estos casos\n",
    "        \n",
    "        return res.fld\n",
    "    except:\n",
    "        return url"
   ]
  },
  {
   "cell_type": "markdown",
   "metadata": {},
   "source": [
    "Se realizan 3 lecturas al mismo indice crudo (paramtros.sonicwall_raw) con los siguientes criterios:\n",
    "1. Traer los URL de las páginas:\n",
    "* el criterio de filtrado es cuando el campo netflow.url-flow tiene datos\n",
    "* de esta lectura se obtienen los datos netflow.url-time(fecha de visita) y netflow.url-name(URL visidata), de la cual solo se tomará el dominio.\n",
    "* Este flujo cruza con el 2 y el 3.\n",
    "\n",
    "2. Traer la IP del acces point desde donde se consulta la URL:\n",
    "* netflow.url-flow-identify traiga algo (esta es la llave de cruce)\n",
    "* el criterio de filtrado es cuando el campo netflow.url-flow-ip-origen tiene datos\n",
    "* este flujo cruza con el 1 por medio del campo netflow.url-flow.\n",
    "\n",
    "3. Categorias de las URL\n",
    "* el criterio de filtrado es cuando el campo netflow.url-flow-categoria tiene datos.\n",
    "* de esta lectura se obtiene el campo netflow.url-categoria-name2, el cual es la llave para cruzar con con el archivo \"Mapeo-categorias-url.tsv\"\n",
    "* Esta lectura cruza con la lectura 1, usando el campo netflow.url-name.\n",
    "* De la URL solo se debe tomar el dominio. Las jerarquías inferiores se descartan\n",
    "* En cada lectura, si la categoría(netflow.url-categoria-name2) no se consigue en el archivo de mapeos, se agrega. Este proceso se hará inicialmente cargando el archivo al indice, después solo se usará el indice sonicwall_categorias\n",
    "* este flujop cruza con el 1"
   ]
  },
  {
   "cell_type": "markdown",
   "metadata": {},
   "source": [
    "#Definiendo fechas para rangos de consultas"
   ]
  },
  {
   "cell_type": "code",
   "execution_count": 838,
   "metadata": {},
   "outputs": [],
   "source": [
    "now = datetime.now()\n",
    "new_date = now - timedelta(days=6)\n",
    "format_ES = \"%Y.%m.%d\"\n",
    "ahora = str(now.strftime(\"%Y-%m-%dT%H:%M:%S\"))\n",
    "fecha_6 = str(new_date.strftime(\"%Y-%m-%dT%H:%M:%S\"))\n",
    "fecha_hoy = str(now.strftime(format_ES))"
   ]
  },
  {
   "cell_type": "markdown",
   "metadata": {},
   "source": [
    "* Limite inferior del rango es la maxima fecha en el indice curado de sonicwall. En caso de no existir. Se calcula del indice crudo filebeat restandole 5 minutos a la maxima fecha en este.\n",
    "* Limite superior del rango es la maxima fecha de actualización en el indice crudo filebeat. \n",
    "* Las ejecuciones se hacen sobre el indice crudo de la fecha actual. No se toman históricos."
   ]
  },
  {
   "cell_type": "markdown",
   "metadata": {},
   "source": [
    "### Conexión a Elastic Search"
   ]
  },
  {
   "cell_type": "code",
   "execution_count": 839,
   "metadata": {},
   "outputs": [],
   "source": [
    "context = create_default_context(cafile=parametros.cafile)\n",
    "es = Elasticsearch(\n",
    "    parametros.servidor,\n",
    "    http_auth=(parametros.usuario_EC, parametros.password_EC),\n",
    "    scheme=\"https\",\n",
    "    port=parametros.puerto,\n",
    "    ssl_context=context,\n",
    "    timeout=300, max_retries=1, retry_on_timeout=True\n",
    ")"
   ]
  },
  {
   "cell_type": "markdown",
   "metadata": {},
   "source": [
    "### Indice crudo filebeat"
   ]
  },
  {
   "cell_type": "code",
   "execution_count": 840,
   "metadata": {},
   "outputs": [],
   "source": [
    "index_raw = parametros.sonicwall_raw"
   ]
  },
  {
   "cell_type": "markdown",
   "metadata": {},
   "source": [
    "### Funcion para construcción de JSON ES"
   ]
  },
  {
   "cell_type": "code",
   "execution_count": 841,
   "metadata": {},
   "outputs": [],
   "source": [
    "def filterKeys(document):\n",
    "    return {key: document[key] for key in use_these_keys }"
   ]
  },
  {
   "cell_type": "markdown",
   "metadata": {},
   "source": [
    "### Fecha maxima de indice sonicwall"
   ]
  },
  {
   "cell_type": "markdown",
   "metadata": {},
   "source": [
    "Este se usa para descartar de los indices crudos los registros menores a esa fecha"
   ]
  },
  {
   "cell_type": "code",
   "execution_count": 842,
   "metadata": {},
   "outputs": [
    {
     "name": "stdout",
     "output_type": "stream",
     "text": [
      "Fecha maxima en sonic curado: 2021-10-14 00:30:00 | Fecha inicio: 2021-10-14 00:30:00\n"
     ]
    }
   ],
   "source": [
    "total_docs = 0\n",
    "try:\n",
    "    response = es.search(\n",
    "        index=parametros.sonicwall_index,\n",
    "        body={\"aggs\" : {\n",
    "                   \"max_date\": {\"max\": {\"field\": \"fecha_control\", \"format\": \"yyyy-MM-dd HH:mm:ss\"}}\n",
    "                }\n",
    "             },\n",
    "        size=total_docs\n",
    "    )\n",
    "#     elastic_docs = response[\"aggregations\"]\n",
    "    fecha_max = response[\"aggregations\"][\"max_date\"]['value_as_string']\n",
    "    h_inicio = response[\"aggregations\"][\"max_date\"]['value_as_string']\n",
    "    #h_fin = (datetime.strptime(h_inicio, '%Y-%m-%dT%H:%M:%S')+timedelta(hours=2)).strftime(\"%Y/%m/%dT%H:%M:%S\")\n",
    "except:\n",
    "    fecha_max = (new_date).strftime(\"%Y-%m-%d\") + ' 00:00:00'\n",
    "    h_inicio = fecha_max\n",
    "    \n",
    "    #h_fin = (datetime.strptime(h_inicio, '%Y-%m-%dT%H:%M:%S') + timedelta(hours=1)).strftime(\"%Y-%m-%dT%H:%M:%S\")\n",
    "print(\"Fecha maxima en sonic curado:\", fecha_max,\"| Fecha inicio:\", h_inicio)"
   ]
  },
  {
   "cell_type": "code",
   "execution_count": 788,
   "metadata": {},
   "outputs": [],
   "source": [
    "#h_inicio = \"2021-10-14 00:00:00\""
   ]
  },
  {
   "cell_type": "markdown",
   "metadata": {},
   "source": [
    "### Fecha maxima del indice crudo filebeat"
   ]
  },
  {
   "cell_type": "code",
   "execution_count": 789,
   "metadata": {},
   "outputs": [
    {
     "name": "stdout",
     "output_type": "stream",
     "text": [
      "Fecha maxima en indice crudo: 2021-10-14 16:30:47\n"
     ]
    }
   ],
   "source": [
    "total_docs = 0\n",
    "try:\n",
    "    response = es.search(\n",
    "        index= index_raw,\n",
    "        body={\n",
    "                \"aggs\" : {\n",
    "                   \"max_date\": {\"max\": {\"field\": \"@timestamp\", \"format\": \"yyyy-MM-dd HH:mm:ss\"}}\n",
    "                },\n",
    "            \"query\": {\n",
    "                \"bool\": {\n",
    "                  \"filter\": [\n",
    "                \n",
    "                  {\n",
    "                    \"exists\": {\n",
    "                      \"field\":\"netflow.url-flow\"\n",
    "                    }\n",
    "                  }\n",
    "                  ]\n",
    "                }\n",
    "              }\n",
    "             },\n",
    "        size=total_docs\n",
    "    )\n",
    "    elastic_docs = response[\"aggregations\"]\n",
    "    fecha_max_crudo = response[\"aggregations\"][\"max_date\"]['value_as_string']\n",
    "    #h_fin = (datetime.strptime(h_inicio, '%Y-%m-%dT%H:%M:%S')+timedelta(hours=2)).strftime(\"%Y/%m/%dT%H:%M:%S\")\n",
    "    print(\"Fecha maxima en indice crudo:\", fecha_max_crudo)\n",
    "except:\n",
    "    print(\"Error leyendo indice crudo filebeat\")\n",
    "    #exit()"
   ]
  },
  {
   "cell_type": "markdown",
   "metadata": {},
   "source": [
    "* h_inicio viene del indice curado\n",
    "* h_fin viene de el indice crudo\n",
    "* En caso de que la fechas inicio y fin sean de dias diferentes, se igualan al actual. Se asume un rango de 10 minutos por corrida.\n",
    "* Cuando el rango de fechas es mayor a 10 minutos se ajusta."
   ]
  },
  {
   "cell_type": "markdown",
   "metadata": {},
   "source": [
    "### 1. Traer los URL de las páginas"
   ]
  },
  {
   "cell_type": "markdown",
   "metadata": {},
   "source": [
    "Se ajusta el maximo de resultados por consulta en el indice"
   ]
  },
  {
   "cell_type": "code",
   "execution_count": 790,
   "metadata": {},
   "outputs": [
    {
     "data": {
      "text/plain": [
       "{'acknowledged': True}"
      ]
     },
     "execution_count": 790,
     "metadata": {},
     "output_type": "execute_result"
    }
   ],
   "source": [
    "es.indices.put_settings(index=index_raw,\n",
    "                        body= {\"index\" : {\n",
    "                                \"max_result_window\" : 500000\n",
    "                        }})"
   ]
  },
  {
   "cell_type": "code",
   "execution_count": 791,
   "metadata": {},
   "outputs": [],
   "source": [
    "# def cargarJSON(elastic_docs):\n",
    "#     return pd.DataFrame([x[\"_source\"]['netflow'] for x in elastic_docs])"
   ]
  },
  {
   "cell_type": "code",
   "execution_count": 792,
   "metadata": {},
   "outputs": [],
   "source": [
    "def trae_datos(desde, hasta, total_docs):\n",
    "    response = es.search(\n",
    "        index= index_raw,\n",
    "        body={\n",
    "              \"_source\": [\"netflow.url*\",\"@timestamp\"],\n",
    "              \"query\": {\n",
    "                \"bool\": {\n",
    "                  \"filter\": [\n",
    "                    {\n",
    "                      \"range\": {\n",
    "                        \"@timestamp\": {\n",
    "                            \"gte\": desde.replace(\" \",\"T\"),\n",
    "                            \"lt\": hasta.replace(\" \",\"T\")\n",
    "                        }\n",
    "                      }\n",
    "                    }\n",
    "                  ,\n",
    "                  {\n",
    "                    \"exists\": {\n",
    "                      \"field\":\"netflow.url-flow\"\n",
    "                    }\n",
    "                  }\n",
    "                  ]\n",
    "                }\n",
    "              }\n",
    "        },\n",
    "        size=total_docs\n",
    "    )\n",
    "    elastic_docs = response[\"hits\"][\"hits\"]\n",
    "    \n",
    "    datos_api = pd.DataFrame([x[\"_source\"]['netflow'] for x in elastic_docs])\n",
    "    \n",
    "    #datos_api = pd.DataFrame(elastic_docs,['url-time', 'url-name', 'url-flow', 'url-ip'])\n",
    "    return datos_api"
   ]
  },
  {
   "cell_type": "markdown",
   "metadata": {},
   "source": [
    "Se incrementa la fecha de inicio ya que esta es el limite inferior del rango anteriormente procesado"
   ]
  },
  {
   "cell_type": "code",
   "execution_count": 793,
   "metadata": {},
   "outputs": [],
   "source": [
    "#h_fin = h_fin[0:15]+'0:00'\n",
    "h_inicio = (datetime.strptime(h_inicio, '%Y-%m-%d %H:%M:%S')+timedelta(minutes=30)).strftime(\"%Y-%m-%d %H:%M:%S\")\n",
    "h_fin = (datetime.strptime(h_inicio, '%Y-%m-%d %H:%M:%S')+timedelta(minutes=30)).strftime(\"%Y-%m-%d %H:%M:%S\")\n",
    "if h_inicio.split(\" \")[0]<h_fin.split(\" \")[0]:\n",
    "    h_inicio = h_fin[0:10]+' 00:00:01'\n",
    "    h_fin = h_fin[0:10]+' 00:30:00'"
   ]
  },
  {
   "cell_type": "code",
   "execution_count": 794,
   "metadata": {},
   "outputs": [],
   "source": [
    "#h_inicio='2021-06-30 09:00:00'\n",
    "#h_fin='2021-06-30 09:10:00'\n"
   ]
  },
  {
   "cell_type": "code",
   "execution_count": 795,
   "metadata": {},
   "outputs": [],
   "source": [
    "sonic_paginas = trae_datos(h_inicio, h_fin,100000)"
   ]
  },
  {
   "cell_type": "code",
   "execution_count": 796,
   "metadata": {},
   "outputs": [],
   "source": [
    "if sonic_paginas is None or sonic_paginas.empty:\n",
    "    while (sonic_paginas is None or sonic_paginas.empty) and ((datetime.strptime(h_inicio, '%Y-%m-%d %H:%M:%S').strftime(\"%Y-%m-%d %H:%M:%S\")) < (datetime.strptime(fecha_max_crudo, '%Y-%m-%d %H:%M:%S').strftime(\"%Y-%m-%d %H:%M:%S\"))):\n",
    "        h_inicio = (datetime.strptime(h_inicio, '%Y-%m-%d %H:%M:%S')+timedelta(minutes=10)).strftime(\"%Y-%m-%d %H:%M:%S\")\n",
    "        h_fin = (datetime.strptime(h_fin, '%Y-%m-%d %H:%M:%S')+timedelta(minutes=10)).strftime(\"%Y-%m-%d %H:%M:%S\")\n",
    "        sonic_paginas = trae_datos(h_inicio, h_fin,100000)\n",
    "else:\n",
    "    pass"
   ]
  },
  {
   "cell_type": "code",
   "execution_count": 797,
   "metadata": {},
   "outputs": [
    {
     "name": "stdout",
     "output_type": "stream",
     "text": [
      "         url-time                        url-name    url-flow  url-ip\n",
      "0      1634171441        youtubei.googleapis.com/  2158787594      27\n",
      "1      1634171441              v77e.tiktokcdn.com  2158787359       0\n",
      "2      1634171440       video-bog1-1.xx.fbcdn.net  2158786828       0\n",
      "3      1634171441             graph.facebook.com/  2158788069      58\n",
      "4      1634171441                  s.youtube.com/  2158788328      48\n",
      "...           ...                             ...         ...     ...\n",
      "99995  1634172429                  yt3.ggpht.com/  2181087176      27\n",
      "99996  1634172429                   yt3.ggpht.com  2181087176       0\n",
      "99997  1634172429  connectivitycheck.gstatic.com/  2181087213      27\n",
      "99998  1634172429             cdn.ampproject.org/  2181087323      27\n",
      "99999  1634172429  nav.smartscreen.microsoft.com/  2181087273      27\n",
      "\n",
      "[100000 rows x 4 columns]\n"
     ]
    }
   ],
   "source": [
    "#h_inicio='2021-06-30 09:00:00'\n",
    "#h_fin='2021-06-30 09:10:00'\n",
    "print(sonic_paginas)"
   ]
  },
  {
   "cell_type": "code",
   "execution_count": 798,
   "metadata": {},
   "outputs": [
    {
     "name": "stdout",
     "output_type": "stream",
     "text": [
      "         url-time                        url-name    url-flow  url-ip  \\\n",
      "0      1634171441        youtubei.googleapis.com/  2158787594      27   \n",
      "1      1634171441              v77e.tiktokcdn.com  2158787359       0   \n",
      "2      1634171440       video-bog1-1.xx.fbcdn.net  2158786828       0   \n",
      "3      1634171441             graph.facebook.com/  2158788069      58   \n",
      "4      1634171441                  s.youtube.com/  2158788328      48   \n",
      "...           ...                             ...         ...     ...   \n",
      "99995  1634172429                  yt3.ggpht.com/  2181087176      27   \n",
      "99996  1634172429                   yt3.ggpht.com  2181087176       0   \n",
      "99997  1634172429  connectivitycheck.gstatic.com/  2181087213      27   \n",
      "99998  1634172429             cdn.ampproject.org/  2181087323      27   \n",
      "99999  1634172429  nav.smartscreen.microsoft.com/  2181087273      27   \n",
      "\n",
      "                   url-dominio  \n",
      "0      youtubei.googleapis.com  \n",
      "1                tiktokcdn.com  \n",
      "2                    fbcdn.net  \n",
      "3                 facebook.com  \n",
      "4                  youtube.com  \n",
      "...                        ...  \n",
      "99995                ggpht.com  \n",
      "99996                ggpht.com  \n",
      "99997              gstatic.com  \n",
      "99998           ampproject.org  \n",
      "99999            microsoft.com  \n",
      "\n",
      "[98420 rows x 5 columns]\n"
     ]
    }
   ],
   "source": [
    "sonic_paginas.drop_duplicates(subset=['url-flow','url-ip', 'url-time', 'url-name'],inplace=True)\n",
    "sonic_paginas['url-dominio'] = sonic_paginas['url-name'].apply(maneja_url)\n",
    "print(sonic_paginas)"
   ]
  },
  {
   "cell_type": "code",
   "execution_count": 799,
   "metadata": {},
   "outputs": [],
   "source": [
    "#sonic_paginas.to_excel(\"sonic_pagina.xlsx\")"
   ]
  },
  {
   "cell_type": "markdown",
   "metadata": {},
   "source": [
    "### 2. Traer la IP del access point desde donde se consulta la URL"
   ]
  },
  {
   "cell_type": "code",
   "execution_count": 800,
   "metadata": {},
   "outputs": [],
   "source": [
    "try:\n",
    "    total_docs = 500000\n",
    "    response = es.search(\n",
    "        index= index_raw,\n",
    "        body={\n",
    "              \"_source\": [\"netflow.url*\",\"@timestamp\"],\n",
    "              \"query\": {\n",
    "                \"bool\": {\n",
    "                  \"filter\": [\n",
    "                    {\n",
    "                      \"range\": {\n",
    "                        \"@timestamp\": {\n",
    "                            \"gte\": h_inicio.replace(\" \",\"T\"),\n",
    "                            \"lt\": h_fin.replace(\" \",\"T\")\n",
    "                        }\n",
    "                      }\n",
    "                    }\n",
    "                  ,\n",
    "                  {\n",
    "                    \"exists\": {\n",
    "                      \"field\":\"netflow.url-flow-identify\"\n",
    "                    }\n",
    "                  }\n",
    "                  ]\n",
    "                }\n",
    "              }\n",
    "        },\n",
    "        size=total_docs\n",
    "    )\n",
    "    elastic_docs = response[\"hits\"][\"hits\"]\n",
    "#     fields = {}\n",
    "#     for num, doc in enumerate(elastic_docs):\n",
    "#         source_data = doc[\"_source\"][\"netflow\"]\n",
    "#         for key, val in source_data.items():\n",
    "#             try:\n",
    "#                 fields[key] = np.append(fields[key], val)\n",
    "#             except KeyError:\n",
    "#                 fields[key] = np.array([val])\n",
    "\n",
    "#     datos_ip = pd.DataFrame(dict([ (k,pd.Series(v)) for k,v in fields.items() ]))\n",
    "    \n",
    "    datos_ip = pd.DataFrame([x[\"_source\"]['netflow'] for x in elastic_docs])\n",
    "    \n",
    "except:\n",
    "    print(\"Error leyendo indice crudo URL\",response)\n",
    "    exit()"
   ]
  },
  {
   "cell_type": "code",
   "execution_count": 801,
   "metadata": {},
   "outputs": [],
   "source": [
    "datos_ip.drop_duplicates(subset=['url-ip-destino', 'url-ip-origen', 'url-flow-identify'],inplace=True)\n",
    "datos_ip = datos_ip.rename(columns={'url-flow-identify' : 'url-flow'})"
   ]
  },
  {
   "cell_type": "code",
   "execution_count": 802,
   "metadata": {},
   "outputs": [
    {
     "data": {
      "text/html": [
       "<div>\n",
       "<style scoped>\n",
       "    .dataframe tbody tr th:only-of-type {\n",
       "        vertical-align: middle;\n",
       "    }\n",
       "\n",
       "    .dataframe tbody tr th {\n",
       "        vertical-align: top;\n",
       "    }\n",
       "\n",
       "    .dataframe thead th {\n",
       "        text-align: right;\n",
       "    }\n",
       "</style>\n",
       "<table border=\"1\" class=\"dataframe\">\n",
       "  <thead>\n",
       "    <tr style=\"text-align: right;\">\n",
       "      <th></th>\n",
       "      <th>url-ip-origen</th>\n",
       "      <th>url-ip-destino</th>\n",
       "      <th>url-flow</th>\n",
       "    </tr>\n",
       "  </thead>\n",
       "  <tbody>\n",
       "    <tr>\n",
       "      <th>0</th>\n",
       "      <td>2887368169</td>\n",
       "      <td>1685789408</td>\n",
       "      <td>2158787256</td>\n",
       "    </tr>\n",
       "    <tr>\n",
       "      <th>1</th>\n",
       "      <td>1685789404</td>\n",
       "      <td>2887344177</td>\n",
       "      <td>2158788456</td>\n",
       "    </tr>\n",
       "    <tr>\n",
       "      <th>3</th>\n",
       "      <td>175020584</td>\n",
       "      <td>2915228554</td>\n",
       "      <td>2158788417</td>\n",
       "    </tr>\n",
       "    <tr>\n",
       "      <th>4</th>\n",
       "      <td>175134262</td>\n",
       "      <td>2649753111</td>\n",
       "      <td>2158788446</td>\n",
       "    </tr>\n",
       "    <tr>\n",
       "      <th>5</th>\n",
       "      <td>174426124</td>\n",
       "      <td>2649753107</td>\n",
       "      <td>2158786828</td>\n",
       "    </tr>\n",
       "    <tr>\n",
       "      <th>...</th>\n",
       "      <td>...</td>\n",
       "      <td>...</td>\n",
       "      <td>...</td>\n",
       "    </tr>\n",
       "    <tr>\n",
       "      <th>499993</th>\n",
       "      <td>175136820</td>\n",
       "      <td>3039892705</td>\n",
       "      <td>2159523838</td>\n",
       "    </tr>\n",
       "    <tr>\n",
       "      <th>499994</th>\n",
       "      <td>175292457</td>\n",
       "      <td>2899903306</td>\n",
       "      <td>2159533482</td>\n",
       "    </tr>\n",
       "    <tr>\n",
       "      <th>499995</th>\n",
       "      <td>176276521</td>\n",
       "      <td>2899903306</td>\n",
       "      <td>2159527189</td>\n",
       "    </tr>\n",
       "    <tr>\n",
       "      <th>499996</th>\n",
       "      <td>176051230</td>\n",
       "      <td>3357182308</td>\n",
       "      <td>2159528038</td>\n",
       "    </tr>\n",
       "    <tr>\n",
       "      <th>499997</th>\n",
       "      <td>169453883</td>\n",
       "      <td>3356413906</td>\n",
       "      <td>2159527995</td>\n",
       "    </tr>\n",
       "  </tbody>\n",
       "</table>\n",
       "<p>353731 rows × 3 columns</p>\n",
       "</div>"
      ],
      "text/plain": [
       "        url-ip-origen  url-ip-destino    url-flow\n",
       "0          2887368169      1685789408  2158787256\n",
       "1          1685789404      2887344177  2158788456\n",
       "3           175020584      2915228554  2158788417\n",
       "4           175134262      2649753111  2158788446\n",
       "5           174426124      2649753107  2158786828\n",
       "...               ...             ...         ...\n",
       "499993      175136820      3039892705  2159523838\n",
       "499994      175292457      2899903306  2159533482\n",
       "499995      176276521      2899903306  2159527189\n",
       "499996      176051230      3357182308  2159528038\n",
       "499997      169453883      3356413906  2159527995\n",
       "\n",
       "[353731 rows x 3 columns]"
      ]
     },
     "execution_count": 802,
     "metadata": {},
     "output_type": "execute_result"
    }
   ],
   "source": [
    "datos_ip"
   ]
  },
  {
   "cell_type": "code",
   "execution_count": 803,
   "metadata": {},
   "outputs": [],
   "source": [
    "#datos_ip.to_excel(\"datosip.xlsx\")"
   ]
  },
  {
   "cell_type": "markdown",
   "metadata": {},
   "source": [
    "### Combinando URL con Names"
   ]
  },
  {
   "cell_type": "code",
   "execution_count": 804,
   "metadata": {},
   "outputs": [
    {
     "name": "stdout",
     "output_type": "stream",
     "text": [
      "        url-ip-origen  url-ip-destino    url-flow\n",
      "0          2887368169      1685789408  2158787256\n",
      "1          1685789404      2887344177  2158788456\n",
      "3           175020584      2915228554  2158788417\n",
      "4           175134262      2649753111  2158788446\n",
      "5           174426124      2649753107  2158786828\n",
      "...               ...             ...         ...\n",
      "499993      175136820      3039892705  2159523838\n",
      "499994      175292457      2899903306  2159533482\n",
      "499995      176276521      2899903306  2159527189\n",
      "499996      176051230      3357182308  2159528038\n",
      "499997      169453883      3356413906  2159527995\n",
      "\n",
      "[353731 rows x 3 columns]\n",
      "///////\n",
      "         url-time                        url-name    url-flow  url-ip  \\\n",
      "0      1634171441        youtubei.googleapis.com/  2158787594      27   \n",
      "1      1634171441              v77e.tiktokcdn.com  2158787359       0   \n",
      "2      1634171440       video-bog1-1.xx.fbcdn.net  2158786828       0   \n",
      "3      1634171441             graph.facebook.com/  2158788069      58   \n",
      "4      1634171441                  s.youtube.com/  2158788328      48   \n",
      "...           ...                             ...         ...     ...   \n",
      "99995  1634172429                  yt3.ggpht.com/  2181087176      27   \n",
      "99996  1634172429                   yt3.ggpht.com  2181087176       0   \n",
      "99997  1634172429  connectivitycheck.gstatic.com/  2181087213      27   \n",
      "99998  1634172429             cdn.ampproject.org/  2181087323      27   \n",
      "99999  1634172429  nav.smartscreen.microsoft.com/  2181087273      27   \n",
      "\n",
      "                   url-dominio  \n",
      "0      youtubei.googleapis.com  \n",
      "1                tiktokcdn.com  \n",
      "2                    fbcdn.net  \n",
      "3                 facebook.com  \n",
      "4                  youtube.com  \n",
      "...                        ...  \n",
      "99995                ggpht.com  \n",
      "99996                ggpht.com  \n",
      "99997              gstatic.com  \n",
      "99998           ampproject.org  \n",
      "99999            microsoft.com  \n",
      "\n",
      "[98420 rows x 5 columns]\n"
     ]
    }
   ],
   "source": [
    "datos_ip.to_excel(\"datos_ip.xlsx\")\n",
    "datos_ip.to_excel(\"sonic_paginas.xlsx\")\n",
    "print(datos_ip)\n",
    "print(\"///////\")\n",
    "print(sonic_paginas)\n",
    "sonic_paginas = pd.merge(sonic_paginas,  datos_ip, on=['url-flow'], how='inner')"
   ]
  },
  {
   "cell_type": "code",
   "execution_count": 805,
   "metadata": {},
   "outputs": [
    {
     "data": {
      "text/html": [
       "<div>\n",
       "<style scoped>\n",
       "    .dataframe tbody tr th:only-of-type {\n",
       "        vertical-align: middle;\n",
       "    }\n",
       "\n",
       "    .dataframe tbody tr th {\n",
       "        vertical-align: top;\n",
       "    }\n",
       "\n",
       "    .dataframe thead th {\n",
       "        text-align: right;\n",
       "    }\n",
       "</style>\n",
       "<table border=\"1\" class=\"dataframe\">\n",
       "  <thead>\n",
       "    <tr style=\"text-align: right;\">\n",
       "      <th></th>\n",
       "      <th>url-time</th>\n",
       "      <th>url-name</th>\n",
       "      <th>url-flow</th>\n",
       "      <th>url-ip</th>\n",
       "      <th>url-dominio</th>\n",
       "      <th>url-ip-origen</th>\n",
       "      <th>url-ip-destino</th>\n",
       "    </tr>\n",
       "  </thead>\n",
       "  <tbody>\n",
       "    <tr>\n",
       "      <th>0</th>\n",
       "      <td>1634171441</td>\n",
       "      <td>v77e.tiktokcdn.com</td>\n",
       "      <td>2158787359</td>\n",
       "      <td>0</td>\n",
       "      <td>tiktokcdn.com</td>\n",
       "      <td>175301523</td>\n",
       "      <td>2626825142</td>\n",
       "    </tr>\n",
       "    <tr>\n",
       "      <th>1</th>\n",
       "      <td>1634171440</td>\n",
       "      <td>video-bog1-1.xx.fbcdn.net</td>\n",
       "      <td>2158786828</td>\n",
       "      <td>0</td>\n",
       "      <td>fbcdn.net</td>\n",
       "      <td>174426124</td>\n",
       "      <td>2649753107</td>\n",
       "    </tr>\n",
       "    <tr>\n",
       "      <th>2</th>\n",
       "      <td>1634171441</td>\n",
       "      <td>graph.facebook.com/</td>\n",
       "      <td>2158788069</td>\n",
       "      <td>58</td>\n",
       "      <td>facebook.com</td>\n",
       "      <td>176170273</td>\n",
       "      <td>2649755151</td>\n",
       "    </tr>\n",
       "    <tr>\n",
       "      <th>3</th>\n",
       "      <td>1634171441</td>\n",
       "      <td>s.youtube.com/</td>\n",
       "      <td>2158788328</td>\n",
       "      <td>48</td>\n",
       "      <td>youtube.com</td>\n",
       "      <td>174618429</td>\n",
       "      <td>2915228516</td>\n",
       "    </tr>\n",
       "    <tr>\n",
       "      <th>4</th>\n",
       "      <td>1634171441</td>\n",
       "      <td>s.youtube.com</td>\n",
       "      <td>2158788328</td>\n",
       "      <td>0</td>\n",
       "      <td>youtube.com</td>\n",
       "      <td>174618429</td>\n",
       "      <td>2915228516</td>\n",
       "    </tr>\n",
       "    <tr>\n",
       "      <th>...</th>\n",
       "      <td>...</td>\n",
       "      <td>...</td>\n",
       "      <td>...</td>\n",
       "      <td>...</td>\n",
       "      <td>...</td>\n",
       "      <td>...</td>\n",
       "      <td>...</td>\n",
       "    </tr>\n",
       "    <tr>\n",
       "      <th>39147</th>\n",
       "      <td>1634172425</td>\n",
       "      <td>www.ohmyfi.com/portal.php/cambium</td>\n",
       "      <td>2181081990</td>\n",
       "      <td>15</td>\n",
       "      <td>ohmyfi.com</td>\n",
       "      <td>174657964</td>\n",
       "      <td>2890089511</td>\n",
       "    </tr>\n",
       "    <tr>\n",
       "      <th>39148</th>\n",
       "      <td>1634172425</td>\n",
       "      <td>mqtt-mini.facebook.com</td>\n",
       "      <td>2181080807</td>\n",
       "      <td>0</td>\n",
       "      <td>facebook.com</td>\n",
       "      <td>175018305</td>\n",
       "      <td>520962848</td>\n",
       "    </tr>\n",
       "    <tr>\n",
       "      <th>39149</th>\n",
       "      <td>1634172407</td>\n",
       "      <td>video.fclo1-3.fna.fbcdn.net/</td>\n",
       "      <td>2181049335</td>\n",
       "      <td>58</td>\n",
       "      <td>fbcdn.net</td>\n",
       "      <td>169540174</td>\n",
       "      <td>3039909652</td>\n",
       "    </tr>\n",
       "    <tr>\n",
       "      <th>39150</th>\n",
       "      <td>1634172407</td>\n",
       "      <td>v58.tiktokcdn.com</td>\n",
       "      <td>2181050843</td>\n",
       "      <td>0</td>\n",
       "      <td>tiktokcdn.com</td>\n",
       "      <td>174465957</td>\n",
       "      <td>1467509309</td>\n",
       "    </tr>\n",
       "    <tr>\n",
       "      <th>39151</th>\n",
       "      <td>1634172410</td>\n",
       "      <td>dt.beyla.site/</td>\n",
       "      <td>2181054581</td>\n",
       "      <td>64</td>\n",
       "      <td>beyla.site</td>\n",
       "      <td>175024405</td>\n",
       "      <td>916463702</td>\n",
       "    </tr>\n",
       "  </tbody>\n",
       "</table>\n",
       "<p>39152 rows × 7 columns</p>\n",
       "</div>"
      ],
      "text/plain": [
       "         url-time                           url-name    url-flow  url-ip  \\\n",
       "0      1634171441                 v77e.tiktokcdn.com  2158787359       0   \n",
       "1      1634171440          video-bog1-1.xx.fbcdn.net  2158786828       0   \n",
       "2      1634171441                graph.facebook.com/  2158788069      58   \n",
       "3      1634171441                     s.youtube.com/  2158788328      48   \n",
       "4      1634171441                      s.youtube.com  2158788328       0   \n",
       "...           ...                                ...         ...     ...   \n",
       "39147  1634172425  www.ohmyfi.com/portal.php/cambium  2181081990      15   \n",
       "39148  1634172425             mqtt-mini.facebook.com  2181080807       0   \n",
       "39149  1634172407       video.fclo1-3.fna.fbcdn.net/  2181049335      58   \n",
       "39150  1634172407                  v58.tiktokcdn.com  2181050843       0   \n",
       "39151  1634172410                     dt.beyla.site/  2181054581      64   \n",
       "\n",
       "         url-dominio  url-ip-origen  url-ip-destino  \n",
       "0      tiktokcdn.com      175301523      2626825142  \n",
       "1          fbcdn.net      174426124      2649753107  \n",
       "2       facebook.com      176170273      2649755151  \n",
       "3        youtube.com      174618429      2915228516  \n",
       "4        youtube.com      174618429      2915228516  \n",
       "...              ...            ...             ...  \n",
       "39147     ohmyfi.com      174657964      2890089511  \n",
       "39148   facebook.com      175018305       520962848  \n",
       "39149      fbcdn.net      169540174      3039909652  \n",
       "39150  tiktokcdn.com      174465957      1467509309  \n",
       "39151     beyla.site      175024405       916463702  \n",
       "\n",
       "[39152 rows x 7 columns]"
      ]
     },
     "execution_count": 805,
     "metadata": {},
     "output_type": "execute_result"
    }
   ],
   "source": [
    "sonic_paginas"
   ]
  },
  {
   "cell_type": "code",
   "execution_count": 806,
   "metadata": {},
   "outputs": [],
   "source": [
    "#sonic_paginas.to_excel(\"paginas.xlsx\")"
   ]
  },
  {
   "cell_type": "markdown",
   "metadata": {},
   "source": [
    "### 3. Leyendo indice de categorías"
   ]
  },
  {
   "cell_type": "markdown",
   "metadata": {},
   "source": [
    "* Se lee indice categorias, si no retorna nada se lee el plano separado por tabulador.\n",
    "* La información leída del archivo es agregada al indice de categorías. En lecturas sucesivas ya estaría disponible el indice."
   ]
  },
  {
   "cell_type": "code",
   "execution_count": 807,
   "metadata": {},
   "outputs": [],
   "source": [
    "total_docs = 10000\n",
    "try:\n",
    "    response = es.search(\n",
    "        index= parametros.sonicwall_categorias,\n",
    "        body={\n",
    "                \"_source\": [\"ID\",\"Categoria\"]\n",
    "        },\n",
    "        size=total_docs\n",
    "    )\n",
    "    elastic_docs = response[\"hits\"][\"hits\"]\n",
    "    fields = {}\n",
    "    for num, doc in enumerate(elastic_docs):\n",
    "        source_data = doc[\"_source\"]\n",
    "        for key, val in source_data.items():\n",
    "            try:\n",
    "                fields[key] = np.append(fields[key], val)\n",
    "            except KeyError:\n",
    "                fields[key] = np.array([val])\n",
    "\n",
    "    datos_categorias = pd.DataFrame(dict([ (k,pd.Series(v)) for k,v in fields.items() ]))\n",
    "except:\n",
    "    datos_categorias = pd.read_csv('/home/desarrollo/gh-mintic-backend/archivos/Mapeo-categorias-url.tsv', sep='\\t', encoding = 'utf-8')\n",
    "    datos_categorias.dropna(inplace=True)\n",
    "    use_these_keys = ['ID', 'Categoria','@timestamp']\n",
    "    timestamp = datetime.now()\n",
    "    datos_categorias['@timestamp'] = timestamp.isoformat()\n",
    "    def doc_generator(df):\n",
    "        df_iter = df.iterrows()\n",
    "        for index, document in df_iter:\n",
    "            yield {\n",
    "                    \"_index\": sonicwall_categorias, \n",
    "                    \"_id\": f\"{document['ID']}\",\n",
    "                    \"_source\": filterKeys(document),\n",
    "                }\n",
    "    salida = helpers.bulk(es, doc_generator(datos_categorias))\n",
    "    print(\"Fecha: \", now,\"- Datos nuevos en indice sonic-categorias:\",salida[0])\n",
    "    #datos_sonic = datos_sonic.drop(aux_recurrencia[(aux_recurrencia['contador'] < 2)].index)\n"
   ]
  },
  {
   "cell_type": "markdown",
   "metadata": {},
   "source": [
    "### Se lee del indice crudo las Categorias"
   ]
  },
  {
   "cell_type": "code",
   "execution_count": 808,
   "metadata": {},
   "outputs": [],
   "source": [
    "try:\n",
    "    total_docs = 500000\n",
    "    response = es.search(\n",
    "        index= index_raw,\n",
    "        body={\n",
    "              \"_source\": [\"netflow.url*\",\"@timestamp\"],\n",
    "              \"query\": {\n",
    "                \"bool\": {\n",
    "                  \"filter\": [\n",
    "                    {\n",
    "                      \"range\": {\n",
    "                        \"@timestamp\": {\n",
    "                            \"gte\": h_inicio.replace(\" \",\"T\"),\n",
    "                            \"lt\": h_fin.replace(\" \",\"T\")\n",
    "                        }\n",
    "                      }\n",
    "                    }\n",
    "                  ,\n",
    "                  {\n",
    "                    \"exists\": {\n",
    "                      \"field\":\"netflow.url-categoria-name2\"\n",
    "                    }\n",
    "                  }\n",
    "                  ]\n",
    "                }\n",
    "              }\n",
    "        },\n",
    "        size=total_docs\n",
    "    )\n",
    "    elastic_docs = response[\"hits\"][\"hits\"]\n",
    "#     fields = {}\n",
    "#     for num, doc in enumerate(elastic_docs):\n",
    "#         source_data = doc[\"_source\"][\"netflow\"]\n",
    "#         for key, val in source_data.items():\n",
    "#             try:\n",
    "#                 fields[key] = np.append(fields[key], val)\n",
    "#             except KeyError:\n",
    "#                 fields[key] = np.array([val])\n",
    "#     sonic_categorias = pd.DataFrame(dict([ (k,pd.Series(v)) for k,v in fields.items() ]))\n",
    "\n",
    "    sonic_categorias = pd.DataFrame([x[\"_source\"]['netflow'] for x in elastic_docs])\n",
    "    \n",
    "except:\n",
    "    print(\"Error leyendo indice crudo Categorías\")\n",
    "    #exit()"
   ]
  },
  {
   "cell_type": "code",
   "execution_count": 809,
   "metadata": {},
   "outputs": [],
   "source": [
    "#prueba = json.loads(elastic_docs)\n",
    "#prueba\n",
    "#df = pd.json_normalize(prueba['results'])"
   ]
  },
  {
   "cell_type": "markdown",
   "metadata": {},
   "source": [
    "* Se  identifica el dominio de cada URL\n",
    "* Se descartam duplicados por dominio y categoría\n",
    "* Se renombre ID para cruce"
   ]
  },
  {
   "cell_type": "code",
   "execution_count": 810,
   "metadata": {},
   "outputs": [
    {
     "name": "stdout",
     "output_type": "stream",
     "text": [
      "                                                url-name  ID  \\\n",
      "0      ad9d08c0-89f7-49fe-84d7-dd334d9445f7.poki-gdn....  64   \n",
      "1                                         s.youtube.com/  48   \n",
      "2                                            dns.google/  27   \n",
      "3                                 scontent.xx.fbcdn.net/  58   \n",
      "4                   log16-normal-c-useast1a.tiktokv.com/  58   \n",
      "...                                                  ...  ..   \n",
      "88126                                    142.250.78.182/  64   \n",
      "88138  g-br-cdn.kwai.net/upic/2021/03/25/20/BMjAyMTAz...  41   \n",
      "88151                            hit.api.useinsider.com/  27   \n",
      "88153                                       poisism.com/  64   \n",
      "88163                                d3x2.myfastcdn.com/  27   \n",
      "\n",
      "       url-categoria-name5  url-categoria-name3  url-categoria-name4  \n",
      "0                        0                    0                    0  \n",
      "1                        0                    0                    0  \n",
      "2                        0                    0                    0  \n",
      "3                        0                    0                    0  \n",
      "4                        0                    0                    0  \n",
      "...                    ...                  ...                  ...  \n",
      "88126                    0                    0                    0  \n",
      "88138                    0                    0                    0  \n",
      "88151                    0                    0                    0  \n",
      "88153                    0                    0                    0  \n",
      "88163                    0                    0                    0  \n",
      "\n",
      "[6978 rows x 5 columns]\n"
     ]
    }
   ],
   "source": [
    "sonic_categorias.drop_duplicates(subset=['url-name','url-categoria-name2'],inplace=True)\n",
    "sonic_categorias = sonic_categorias.rename(columns={'url-categoria-name2' : 'ID'})\n",
    "print(sonic_categorias)"
   ]
  },
  {
   "cell_type": "markdown",
   "metadata": {},
   "source": [
    "### Se  combina las categorias que vienen del indice con las existentes en el indice de categorías"
   ]
  },
  {
   "cell_type": "code",
   "execution_count": 811,
   "metadata": {},
   "outputs": [],
   "source": [
    "sonic_categorias = pd.merge(sonic_categorias[['url-name','ID']],  datos_categorias, on='ID', how='outer')"
   ]
  },
  {
   "cell_type": "code",
   "execution_count": 812,
   "metadata": {},
   "outputs": [
    {
     "name": "stdout",
     "output_type": "stream",
     "text": [
      "         url-time                           url-name    url-flow  url-ip  \\\n",
      "0      1634171441                 v77e.tiktokcdn.com  2158787359       0   \n",
      "1      1634171440          video-bog1-1.xx.fbcdn.net  2158786828       0   \n",
      "2      1634171441                graph.facebook.com/  2158788069      58   \n",
      "3      1634171441                     s.youtube.com/  2158788328      48   \n",
      "4      1634171441                      s.youtube.com  2158788328       0   \n",
      "...           ...                                ...         ...     ...   \n",
      "39147  1634172425  www.ohmyfi.com/portal.php/cambium  2181081990      15   \n",
      "39148  1634172425             mqtt-mini.facebook.com  2181080807       0   \n",
      "39149  1634172407       video.fclo1-3.fna.fbcdn.net/  2181049335      58   \n",
      "39150  1634172407                  v58.tiktokcdn.com  2181050843       0   \n",
      "39151  1634172410                     dt.beyla.site/  2181054581      64   \n",
      "\n",
      "         url-dominio  url-ip-origen  url-ip-destino  \n",
      "0      tiktokcdn.com      175301523      2626825142  \n",
      "1          fbcdn.net      174426124      2649753107  \n",
      "2       facebook.com      176170273      2649755151  \n",
      "3        youtube.com      174618429      2915228516  \n",
      "4        youtube.com      174618429      2915228516  \n",
      "...              ...            ...             ...  \n",
      "39147     ohmyfi.com      174657964      2890089511  \n",
      "39148   facebook.com      175018305       520962848  \n",
      "39149      fbcdn.net      169540174      3039909652  \n",
      "39150  tiktokcdn.com      174465957      1467509309  \n",
      "39151     beyla.site      175024405       916463702  \n",
      "\n",
      "[39152 rows x 7 columns]\n"
     ]
    }
   ],
   "source": [
    "sonic_categorias.to_excel(\"categorias.xlsx\")\n",
    "sonic_paginas.to_excel(\"sonic_paginas.xlsx\")\n",
    "print(sonic_paginas)"
   ]
  },
  {
   "cell_type": "markdown",
   "metadata": {},
   "source": [
    "### Se combina categorías con indice principal"
   ]
  },
  {
   "cell_type": "code",
   "execution_count": 813,
   "metadata": {},
   "outputs": [
    {
     "name": "stdout",
     "output_type": "stream",
     "text": [
      "         url-time                                           url-name  \\\n",
      "0      1634171441                                graph.facebook.com/   \n",
      "1      1634171442                                graph.facebook.com/   \n",
      "2      1634171442                                graph.facebook.com/   \n",
      "3      1634171405                                graph.facebook.com/   \n",
      "4      1634171405                                graph.facebook.com/   \n",
      "...           ...                                                ...   \n",
      "20610  1634172722                       encrypted-vtbn0.gstatic.com/   \n",
      "20611  1634172740  connectivitycheck.platform.hicloud.com/generat...   \n",
      "20612  1634172742  ak-br-pic.kwai.net/bs2/overseaHead/20211009080...   \n",
      "20613  1634172725  6ecf76d7-b1b8-450e-87a1-1acdad330a27.goliath.a...   \n",
      "20614  1634172728  tx-br-cdn.kwai.net/bs2/newWatermark/MTUwMDYwMD...   \n",
      "\n",
      "         url-flow  url-ip     url-dominio  url-ip-origen  url-ip-destino  ID  \\\n",
      "0      2158788069      58    facebook.com      176170273      2649755151  58   \n",
      "1      2158789378      58    facebook.com      175557059      2649753106  58   \n",
      "2      2158788791      58    facebook.com      174863053      2649755151  58   \n",
      "3      2158748636      58    facebook.com      168883292      2649758738  58   \n",
      "4      2158749524      58    facebook.com      176281649       520962832  58   \n",
      "...           ...     ...             ...            ...             ...  ..   \n",
      "20610  2147715100      27     gstatic.com      168051990      2398765262  27   \n",
      "20611  2147740344      27     hicloud.com      175087655      2687290031  27   \n",
      "20612  2147743019      41        kwai.net      176230424      3088688171  41   \n",
      "20613  2147719287      22  miniclippt.com      175560807       586042940  22   \n",
      "20614  2147724134      41        kwai.net      167814714      1696666830  41   \n",
      "\n",
      "                             Categoria  \n",
      "0                    Social Networking  \n",
      "1                    Social Networking  \n",
      "2                    Social Networking  \n",
      "3                    Social Networking  \n",
      "4                    Social Networking  \n",
      "...                                ...  \n",
      "20610  Information Technology/Computer  \n",
      "20611  Information Technology/Computer  \n",
      "20612            Society and Lifestyle  \n",
      "20613                            Games  \n",
      "20614            Society and Lifestyle  \n",
      "\n",
      "[20615 rows x 9 columns]\n"
     ]
    }
   ],
   "source": [
    "sonic_paginas = pd.merge(sonic_paginas,  sonic_categorias, on='url-name', how='inner')\n",
    "print(sonic_paginas)"
   ]
  },
  {
   "cell_type": "markdown",
   "metadata": {},
   "source": [
    "* Si la categoría no existe en el indice de categorías, se agrega ascociando el dominio como nombre de la categoría\n",
    "* Se genera un nuevo dataframe con los valores que no existan en indice para luego insertarlos\n",
    "* Para incorporar en flujo principal, se sustituye el valor Categorías nulas por el valor del url-dominio"
   ]
  },
  {
   "cell_type": "code",
   "execution_count": 814,
   "metadata": {},
   "outputs": [],
   "source": [
    "sonic_categorias['url-dominio'] = sonic_categorias['url-name'].apply(maneja_url)\n",
    "sonic_categorias['Categoria'].fillna(sonic_categorias['url-dominio'], inplace=True)\n",
    "categoria_update = sonic_categorias[(sonic_categorias['Categoria'].isnull())][['url-dominio','ID']]"
   ]
  },
  {
   "cell_type": "markdown",
   "metadata": {},
   "source": [
    "### Convirtiendo fechas e IPs"
   ]
  },
  {
   "cell_type": "code",
   "execution_count": 815,
   "metadata": {},
   "outputs": [],
   "source": [
    "sonic_paginas['url-time'] = [time.strftime('%Y-%m-%d %H:%M:%S', time.localtime(x)) for x in sonic_paginas['url-time']]"
   ]
  },
  {
   "cell_type": "code",
   "execution_count": 816,
   "metadata": {},
   "outputs": [],
   "source": [
    "sonic_paginas['url-ip-destino'] = [str(ipaddress.ip_address(x)) for x in sonic_paginas['url-ip-destino']]\n",
    "sonic_paginas['url-ip-origen'] = [str(ipaddress.ip_address(x)) for x in sonic_paginas['url-ip-origen']]"
   ]
  },
  {
   "cell_type": "code",
   "execution_count": 817,
   "metadata": {},
   "outputs": [],
   "source": [
    "sonic_paginas.drop_duplicates(inplace=True)"
   ]
  },
  {
   "cell_type": "markdown",
   "metadata": {},
   "source": [
    "Se extrae solo los 3 primeros octetos de la IP origen"
   ]
  },
  {
   "cell_type": "code",
   "execution_count": 818,
   "metadata": {},
   "outputs": [
    {
     "name": "stdout",
     "output_type": "stream",
     "text": [
      "0          10.128.37.33\n",
      "1        10.118.201.195\n",
      "2         10.108.50.205\n",
      "3          10.16.244.92\n",
      "4         10.129.216.49\n",
      "              ...      \n",
      "20610        10.4.69.22\n",
      "20611     10.111.160.39\n",
      "20612      10.129.16.24\n",
      "20613    10.118.216.103\n",
      "20614       10.0.166.58\n",
      "Name: url-ip-origen, Length: 20615, dtype: object\n"
     ]
    }
   ],
   "source": [
    "print(sonic_paginas['url-ip-origen'])"
   ]
  },
  {
   "cell_type": "code",
   "execution_count": 819,
   "metadata": {},
   "outputs": [],
   "source": [
    "if (len(sonic_paginas) > 0):\n",
    "    sonic_paginas['segmento'] = sonic_paginas['url-ip-origen'].str.split(\".\", n = 1, expand = True)[0] +'.'+ sonic_paginas['url-ip-origen'].str.split(\".\", n = 2, expand = True)[1] +'.'+ sonic_paginas['url-ip-origen'].str.split(\".\", n = 3, expand = True)[2]"
   ]
  },
  {
   "cell_type": "code",
   "execution_count": 820,
   "metadata": {},
   "outputs": [
    {
     "data": {
      "text/html": [
       "<div>\n",
       "<style scoped>\n",
       "    .dataframe tbody tr th:only-of-type {\n",
       "        vertical-align: middle;\n",
       "    }\n",
       "\n",
       "    .dataframe tbody tr th {\n",
       "        vertical-align: top;\n",
       "    }\n",
       "\n",
       "    .dataframe thead th {\n",
       "        text-align: right;\n",
       "    }\n",
       "</style>\n",
       "<table border=\"1\" class=\"dataframe\">\n",
       "  <thead>\n",
       "    <tr style=\"text-align: right;\">\n",
       "      <th></th>\n",
       "      <th>url-time</th>\n",
       "      <th>url-name</th>\n",
       "      <th>url-flow</th>\n",
       "      <th>url-ip</th>\n",
       "      <th>url-dominio</th>\n",
       "      <th>url-ip-origen</th>\n",
       "      <th>url-ip-destino</th>\n",
       "      <th>ID</th>\n",
       "      <th>Categoria</th>\n",
       "      <th>segmento</th>\n",
       "    </tr>\n",
       "  </thead>\n",
       "  <tbody>\n",
       "    <tr>\n",
       "      <th>0</th>\n",
       "      <td>2021-10-13 19:30:41</td>\n",
       "      <td>graph.facebook.com/</td>\n",
       "      <td>2158788069</td>\n",
       "      <td>58</td>\n",
       "      <td>facebook.com</td>\n",
       "      <td>10.128.37.33</td>\n",
       "      <td>157.240.14.15</td>\n",
       "      <td>58</td>\n",
       "      <td>Social Networking</td>\n",
       "      <td>10.128.37</td>\n",
       "    </tr>\n",
       "    <tr>\n",
       "      <th>1</th>\n",
       "      <td>2021-10-13 19:30:42</td>\n",
       "      <td>graph.facebook.com/</td>\n",
       "      <td>2158789378</td>\n",
       "      <td>58</td>\n",
       "      <td>facebook.com</td>\n",
       "      <td>10.118.201.195</td>\n",
       "      <td>157.240.6.18</td>\n",
       "      <td>58</td>\n",
       "      <td>Social Networking</td>\n",
       "      <td>10.118.201</td>\n",
       "    </tr>\n",
       "    <tr>\n",
       "      <th>2</th>\n",
       "      <td>2021-10-13 19:30:42</td>\n",
       "      <td>graph.facebook.com/</td>\n",
       "      <td>2158788791</td>\n",
       "      <td>58</td>\n",
       "      <td>facebook.com</td>\n",
       "      <td>10.108.50.205</td>\n",
       "      <td>157.240.14.15</td>\n",
       "      <td>58</td>\n",
       "      <td>Social Networking</td>\n",
       "      <td>10.108.50</td>\n",
       "    </tr>\n",
       "    <tr>\n",
       "      <th>3</th>\n",
       "      <td>2021-10-13 19:30:05</td>\n",
       "      <td>graph.facebook.com/</td>\n",
       "      <td>2158748636</td>\n",
       "      <td>58</td>\n",
       "      <td>facebook.com</td>\n",
       "      <td>10.16.244.92</td>\n",
       "      <td>157.240.28.18</td>\n",
       "      <td>58</td>\n",
       "      <td>Social Networking</td>\n",
       "      <td>10.16.244</td>\n",
       "    </tr>\n",
       "    <tr>\n",
       "      <th>4</th>\n",
       "      <td>2021-10-13 19:30:05</td>\n",
       "      <td>graph.facebook.com/</td>\n",
       "      <td>2158749524</td>\n",
       "      <td>58</td>\n",
       "      <td>facebook.com</td>\n",
       "      <td>10.129.216.49</td>\n",
       "      <td>31.13.67.16</td>\n",
       "      <td>58</td>\n",
       "      <td>Social Networking</td>\n",
       "      <td>10.129.216</td>\n",
       "    </tr>\n",
       "    <tr>\n",
       "      <th>...</th>\n",
       "      <td>...</td>\n",
       "      <td>...</td>\n",
       "      <td>...</td>\n",
       "      <td>...</td>\n",
       "      <td>...</td>\n",
       "      <td>...</td>\n",
       "      <td>...</td>\n",
       "      <td>...</td>\n",
       "      <td>...</td>\n",
       "      <td>...</td>\n",
       "    </tr>\n",
       "    <tr>\n",
       "      <th>20610</th>\n",
       "      <td>2021-10-13 19:52:02</td>\n",
       "      <td>encrypted-vtbn0.gstatic.com/</td>\n",
       "      <td>2147715100</td>\n",
       "      <td>27</td>\n",
       "      <td>gstatic.com</td>\n",
       "      <td>10.4.69.22</td>\n",
       "      <td>142.250.64.206</td>\n",
       "      <td>27</td>\n",
       "      <td>Information Technology/Computer</td>\n",
       "      <td>10.4.69</td>\n",
       "    </tr>\n",
       "    <tr>\n",
       "      <th>20611</th>\n",
       "      <td>2021-10-13 19:52:20</td>\n",
       "      <td>connectivitycheck.platform.hicloud.com/generat...</td>\n",
       "      <td>2147740344</td>\n",
       "      <td>27</td>\n",
       "      <td>hicloud.com</td>\n",
       "      <td>10.111.160.39</td>\n",
       "      <td>160.44.202.175</td>\n",
       "      <td>27</td>\n",
       "      <td>Information Technology/Computer</td>\n",
       "      <td>10.111.160</td>\n",
       "    </tr>\n",
       "    <tr>\n",
       "      <th>20612</th>\n",
       "      <td>2021-10-13 19:52:22</td>\n",
       "      <td>ak-br-pic.kwai.net/bs2/overseaHead/20211009080...</td>\n",
       "      <td>2147743019</td>\n",
       "      <td>41</td>\n",
       "      <td>kwai.net</td>\n",
       "      <td>10.129.16.24</td>\n",
       "      <td>184.25.164.43</td>\n",
       "      <td>41</td>\n",
       "      <td>Society and Lifestyle</td>\n",
       "      <td>10.129.16</td>\n",
       "    </tr>\n",
       "    <tr>\n",
       "      <th>20613</th>\n",
       "      <td>2021-10-13 19:52:05</td>\n",
       "      <td>6ecf76d7-b1b8-450e-87a1-1acdad330a27.goliath.a...</td>\n",
       "      <td>2147719287</td>\n",
       "      <td>22</td>\n",
       "      <td>miniclippt.com</td>\n",
       "      <td>10.118.216.103</td>\n",
       "      <td>34.238.78.60</td>\n",
       "      <td>22</td>\n",
       "      <td>Games</td>\n",
       "      <td>10.118.216</td>\n",
       "    </tr>\n",
       "    <tr>\n",
       "      <th>20614</th>\n",
       "      <td>2021-10-13 19:52:08</td>\n",
       "      <td>tx-br-cdn.kwai.net/bs2/newWatermark/MTUwMDYwMD...</td>\n",
       "      <td>2147724134</td>\n",
       "      <td>41</td>\n",
       "      <td>kwai.net</td>\n",
       "      <td>10.0.166.58</td>\n",
       "      <td>101.33.20.206</td>\n",
       "      <td>41</td>\n",
       "      <td>Society and Lifestyle</td>\n",
       "      <td>10.0.166</td>\n",
       "    </tr>\n",
       "  </tbody>\n",
       "</table>\n",
       "<p>20615 rows × 10 columns</p>\n",
       "</div>"
      ],
      "text/plain": [
       "                  url-time                                           url-name  \\\n",
       "0      2021-10-13 19:30:41                                graph.facebook.com/   \n",
       "1      2021-10-13 19:30:42                                graph.facebook.com/   \n",
       "2      2021-10-13 19:30:42                                graph.facebook.com/   \n",
       "3      2021-10-13 19:30:05                                graph.facebook.com/   \n",
       "4      2021-10-13 19:30:05                                graph.facebook.com/   \n",
       "...                    ...                                                ...   \n",
       "20610  2021-10-13 19:52:02                       encrypted-vtbn0.gstatic.com/   \n",
       "20611  2021-10-13 19:52:20  connectivitycheck.platform.hicloud.com/generat...   \n",
       "20612  2021-10-13 19:52:22  ak-br-pic.kwai.net/bs2/overseaHead/20211009080...   \n",
       "20613  2021-10-13 19:52:05  6ecf76d7-b1b8-450e-87a1-1acdad330a27.goliath.a...   \n",
       "20614  2021-10-13 19:52:08  tx-br-cdn.kwai.net/bs2/newWatermark/MTUwMDYwMD...   \n",
       "\n",
       "         url-flow  url-ip     url-dominio   url-ip-origen  url-ip-destino  ID  \\\n",
       "0      2158788069      58    facebook.com    10.128.37.33   157.240.14.15  58   \n",
       "1      2158789378      58    facebook.com  10.118.201.195    157.240.6.18  58   \n",
       "2      2158788791      58    facebook.com   10.108.50.205   157.240.14.15  58   \n",
       "3      2158748636      58    facebook.com    10.16.244.92   157.240.28.18  58   \n",
       "4      2158749524      58    facebook.com   10.129.216.49     31.13.67.16  58   \n",
       "...           ...     ...             ...             ...             ...  ..   \n",
       "20610  2147715100      27     gstatic.com      10.4.69.22  142.250.64.206  27   \n",
       "20611  2147740344      27     hicloud.com   10.111.160.39  160.44.202.175  27   \n",
       "20612  2147743019      41        kwai.net    10.129.16.24   184.25.164.43  41   \n",
       "20613  2147719287      22  miniclippt.com  10.118.216.103    34.238.78.60  22   \n",
       "20614  2147724134      41        kwai.net     10.0.166.58   101.33.20.206  41   \n",
       "\n",
       "                             Categoria    segmento  \n",
       "0                    Social Networking   10.128.37  \n",
       "1                    Social Networking  10.118.201  \n",
       "2                    Social Networking   10.108.50  \n",
       "3                    Social Networking   10.16.244  \n",
       "4                    Social Networking  10.129.216  \n",
       "...                                ...         ...  \n",
       "20610  Information Technology/Computer     10.4.69  \n",
       "20611  Information Technology/Computer  10.111.160  \n",
       "20612            Society and Lifestyle   10.129.16  \n",
       "20613                            Games  10.118.216  \n",
       "20614            Society and Lifestyle    10.0.166  \n",
       "\n",
       "[20615 rows x 10 columns]"
      ]
     },
     "execution_count": 820,
     "metadata": {},
     "output_type": "execute_result"
    }
   ],
   "source": [
    "  sonic_paginas"
   ]
  },
  {
   "cell_type": "markdown",
   "metadata": {},
   "source": [
    "### Se lee semilla"
   ]
  },
  {
   "cell_type": "code",
   "execution_count": 821,
   "metadata": {},
   "outputs": [],
   "source": [
    "total_docs = 10000\n",
    "try:\n",
    "    response = es.search(\n",
    "        index= parametros.semilla_inventario_index,\n",
    "        body={\n",
    "               \"_source\": ['site_id','IP PROD_1','IP PROD_2']\n",
    "        },\n",
    "        size=total_docs\n",
    "    )\n",
    "    #print(es.info())\n",
    "    elastic_docs = response[\"hits\"][\"hits\"]\n",
    "#     fields = {}\n",
    "#     for num, doc in enumerate(elastic_docs):\n",
    "#         source_data = doc[\"_source\"]\n",
    "#         for key, val in source_data.items():\n",
    "#             try:\n",
    "#                 fields[key] = np.append(fields[key], val)\n",
    "#             except KeyError:\n",
    "#                 fields[key] = np.array([val])\n",
    "\n",
    "#     datos_semilla = pd.DataFrame(dict([ (k,pd.Series(v)) for k,v in fields.items() ])) #pd.DataFrame(fields)\n",
    "\n",
    "    datos_semilla = pd.DataFrame([x[\"_source\"] for x in elastic_docs])\n",
    "    \n",
    "except:\n",
    "    exit()"
   ]
  },
  {
   "cell_type": "markdown",
   "metadata": {},
   "source": [
    "Se extrae solo los 3 primeros octetos del IP OUTDOOR1 en semilla para cruzar con Sonic"
   ]
  },
  {
   "cell_type": "code",
   "execution_count": 822,
   "metadata": {},
   "outputs": [],
   "source": [
    "df1=datos_semilla\n",
    "df1['segmento'] = datos_semilla['IP PROD_1'].str.split(\".\", n = 1, expand = True)[0] +'.'+ datos_semilla['IP PROD_1'].str.split(\".\", n = 2, expand = True)[1] +'.'+ datos_semilla['IP PROD_1'].str.split(\".\", n = 3, expand = True)[2]\n",
    "#df1"
   ]
  },
  {
   "cell_type": "code",
   "execution_count": 823,
   "metadata": {},
   "outputs": [],
   "source": [
    "df2 = datos_semilla\n",
    "df2['segmento'] = datos_semilla['IP PROD_2'].str.split(\".\", n = 1, expand = True)[0] +'.'+ datos_semilla['IP PROD_2'].str.split(\".\", n = 2, expand = True)[1] +'.'+ datos_semilla['IP PROD_2'].str.split(\".\", n = 3, expand = True)[2]\n",
    "#df2"
   ]
  },
  {
   "cell_type": "code",
   "execution_count": 824,
   "metadata": {},
   "outputs": [],
   "source": [
    "# df2.index=df2.index+datos_semilla.shape[0]"
   ]
  },
  {
   "cell_type": "code",
   "execution_count": 825,
   "metadata": {},
   "outputs": [],
   "source": [
    "df3=pd.DataFrame(pd.concat([df1,df2]))"
   ]
  },
  {
   "cell_type": "code",
   "execution_count": 826,
   "metadata": {},
   "outputs": [],
   "source": [
    "if (len(sonic_paginas) > 0):\n",
    "    sonic_paginas = pd.merge(sonic_paginas, df3, on = 'segmento', how='inner')"
   ]
  },
  {
   "cell_type": "code",
   "execution_count": 827,
   "metadata": {},
   "outputs": [],
   "source": [
    "#sonic_paginas['site_id']"
   ]
  },
  {
   "cell_type": "code",
   "execution_count": 828,
   "metadata": {},
   "outputs": [],
   "source": [
    "# sonic_paginas = pd.merge(sonic_paginas, datos_semilla, on = 'segmento', how='inner')"
   ]
  },
  {
   "cell_type": "markdown",
   "metadata": {},
   "source": [
    "### Se totaliza para rango de fecha control"
   ]
  },
  {
   "cell_type": "markdown",
   "metadata": {},
   "source": [
    "* Se generan dos dataframe los cuales se insertan de forma independiente en el mismo indice\n",
    "* la agrupación de sitios mas visitados, se hacer por el dominio para dar mejor visualización al usuario"
   ]
  },
  {
   "cell_type": "code",
   "execution_count": 829,
   "metadata": {},
   "outputs": [],
   "source": [
    "#sonic_paginas['fecha_control'] = sonic_paginas['url-time'].str[0:15]+'0:00'\n",
    "if (len(sonic_paginas) > 0):\n",
    "    sonic_paginas['fecha_control'] = h_inicio"
   ]
  },
  {
   "cell_type": "code",
   "execution_count": 830,
   "metadata": {},
   "outputs": [],
   "source": [
    "total_categoria = pd.DataFrame()\n",
    "if (len(sonic_paginas) > 0):\n",
    "    total_categoria = sonic_paginas[['url-time','site_id','fecha_control','Categoria']].groupby(['site_id','fecha_control','Categoria']).agg(['count']).reset_index()\n",
    "    total_categoria.columns = total_categoria.columns.droplevel(1)\n",
    "    total_categoria.rename(columns={'url-time': 'total.categoria'}, inplace=True)"
   ]
  },
  {
   "cell_type": "code",
   "execution_count": 831,
   "metadata": {},
   "outputs": [],
   "source": [
    "total_dominio = pd.DataFrame()\n",
    "if (len(sonic_paginas) > 0):\n",
    "    total_dominio = sonic_paginas[['url-time','site_id','fecha_control','Categoria','url-dominio']].groupby(['site_id','fecha_control','Categoria','url-dominio']).agg(['count']).reset_index()\n",
    "    total_dominio.columns = total_dominio.columns.droplevel(1)\n",
    "    total_dominio.rename(columns={'url-time': 'total.dominio'}, inplace=True)"
   ]
  },
  {
   "cell_type": "markdown",
   "metadata": {},
   "source": [
    "### Se escribe la información al indice sonic curado"
   ]
  },
  {
   "cell_type": "code",
   "execution_count": 832,
   "metadata": {},
   "outputs": [
    {
     "name": "stdout",
     "output_type": "stream",
     "text": [
      "Fecha:  2021-10-12 14:15:36.844544 - Datos CATEGORIAS en sonic-curado: 5856\n"
     ]
    }
   ],
   "source": [
    "use_these_keys = ['site_id', 'fecha_control', 'Categoria', 'total.categoria','@timestamp']\n",
    "\n",
    "total_categoria['@timestamp'] = now.isoformat()\n",
    "def doc_generator(df):\n",
    "    df_iter = df.iterrows()\n",
    "    for index, document in df_iter:\n",
    "        yield {\n",
    "                \"_index\": parametros.sonicwall_index, \n",
    "                \"_id\": f\"{str(document['site_id'])+'-'+ str(document['fecha_control'])+'-'+ str(document['Categoria'])}\",\n",
    "                \"_source\": filterKeys(document),\n",
    "            }\n",
    "salida = helpers.bulk(es, doc_generator(total_categoria))\n",
    "print(\"Fecha: \", now,\"- Datos CATEGORIAS en sonic-curado:\",salida[0])"
   ]
  },
  {
   "cell_type": "code",
   "execution_count": 833,
   "metadata": {},
   "outputs": [
    {
     "name": "stdout",
     "output_type": "stream",
     "text": [
      "Fecha:  2021-10-12 14:15:36.844544 - Datos DOMINIOS en sonic-curado: 10632\n"
     ]
    }
   ],
   "source": [
    "use_these_keys = ['site_id', 'fecha_control', 'url-dominio','Categoria', 'total.dominio','@timestamp']\n",
    "\n",
    "total_dominio['@timestamp'] = now.isoformat()\n",
    "def doc_generator(df):\n",
    "    df_iter = df.iterrows()\n",
    "    for index, document in df_iter:\n",
    "        yield {\n",
    "                \"_index\": parametros.sonicwall_index, \n",
    "                \"_id\": f\"{str(document['site_id'])+'-'+ str(document['fecha_control'])+'-'+str(document['Categoria'])+'-'+ str(document['url-dominio'])}\",\n",
    "                \"_source\": filterKeys(document),\n",
    "            }\n",
    "salida = helpers.bulk(es, doc_generator(total_dominio))\n",
    "print(\"Fecha: \", now,\"- Datos DOMINIOS en sonic-curado:\",salida[0])"
   ]
  },
  {
   "cell_type": "markdown",
   "metadata": {},
   "source": [
    "### Se actualiza indice categorías"
   ]
  },
  {
   "cell_type": "code",
   "execution_count": 834,
   "metadata": {},
   "outputs": [],
   "source": [
    "categoria_update = categoria_update.rename(columns={'url-dominio' : 'Categoria'})"
   ]
  },
  {
   "cell_type": "code",
   "execution_count": 835,
   "metadata": {},
   "outputs": [
    {
     "name": "stdout",
     "output_type": "stream",
     "text": [
      "Fecha:  2021-10-12 14:15:36.844544 - Insertados en indice sonic-categorias: 0\n"
     ]
    }
   ],
   "source": [
    "use_these_keys = ['ID', 'Categoria','@timestamp']\n",
    "categoria_update['@timestamp'] = now.isoformat()\n",
    "def doc_generator(df):\n",
    "    df_iter = df.iterrows()\n",
    "    for index, document in df_iter:\n",
    "        yield {\n",
    "                \"_index\": sonicwall_categorias, \n",
    "                \"_id\": f\"{document['ID']}\",\n",
    "                \"_source\": filterKeys(document),\n",
    "            }\n",
    "salida = helpers.bulk(es, doc_generator(categoria_update))\n",
    "print(\"Fecha: \", now,\"- Insertados en indice sonic-categorias:\",salida[0])"
   ]
  },
  {
   "cell_type": "code",
   "execution_count": null,
   "metadata": {},
   "outputs": [],
   "source": []
  },
  {
   "cell_type": "code",
   "execution_count": null,
   "metadata": {},
   "outputs": [],
   "source": []
  },
  {
   "cell_type": "code",
   "execution_count": null,
   "metadata": {},
   "outputs": [],
   "source": []
  }
 ],
 "metadata": {
  "kernelspec": {
   "display_name": "Python 3",
   "language": "python",
   "name": "python3"
  },
  "language_info": {
   "codemirror_mode": {
    "name": "ipython",
    "version": 3
   },
   "file_extension": ".py",
   "mimetype": "text/x-python",
   "name": "python",
   "nbconvert_exporter": "python",
   "pygments_lexer": "ipython3",
   "version": "3.8.5"
  }
 },
 "nbformat": 4,
 "nbformat_minor": 4
}
