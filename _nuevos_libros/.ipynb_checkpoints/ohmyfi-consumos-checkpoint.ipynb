{
 "cells": [
  {
   "cell_type": "code",
   "execution_count": 7,
   "metadata": {},
   "outputs": [],
   "source": [
    "from elasticsearch import Elasticsearch\n",
    "from elasticsearch import helpers\n",
    "import pandas as pd\n",
    "import numpy as np\n",
    "import json\n",
    "from ssl import create_default_context\n",
    "from datetime import datetime\n",
    "from datetime import timedelta\n",
    "#para request\n",
    "import requests\n",
    "from getpass import getpass\n",
    "import parametros\n",
    "import time"
   ]
  },
  {
   "cell_type": "markdown",
   "metadata": {},
   "source": [
    "### Definiendo fechas para rangos de consultas"
   ]
  },
  {
   "cell_type": "code",
   "execution_count": 8,
   "metadata": {},
   "outputs": [],
   "source": [
    "now = datetime.now()\n",
    "ahora = str(now.strftime(\"%Y/%m/%d %H:%M\"))\n",
    "new_date = now - timedelta(days=6)\n",
    "fecha_6 = str(new_date.strftime(\"%Y/%m/%d %H:%M\"))\n",
    "#url_hoy = str(now.strftime(\"%Y/%m/%d\"))\n",
    "fecha_hoy = str(now.strftime(\"%Y.%m.%d\"))"
   ]
  },
  {
   "cell_type": "markdown",
   "metadata": {},
   "source": [
    "## Leyendo datos del indice"
   ]
  },
  {
   "cell_type": "code",
   "execution_count": 9,
   "metadata": {},
   "outputs": [],
   "source": [
    "context = create_default_context(cafile=parametros.cafile)\n",
    "es = Elasticsearch(\n",
    "    parametros.servidor,\n",
    "    http_auth=(parametros.usuario_EC, parametros.password_EC),\n",
    "    scheme=\"https\",\n",
    "    port=parametros.puerto,\n",
    "    ssl_context=context,\n",
    ")"
   ]
  },
  {
   "cell_type": "markdown",
   "metadata": {},
   "source": [
    "## tomando fecha mas reciente del indice"
   ]
  },
  {
   "cell_type": "markdown",
   "metadata": {},
   "source": [
    "Reglas definidas:\n",
    "* Cuando no exista información ingestada aún, se asume como fecha maxima 2021/01/01 00:00, sin embargo el rango para hacer request será la fecha actual menos N días para el inicio, y una hora mas para el fin.\n",
    "* Si existe información en el indice pero la maxima fecha en este es menor a la actual menos N días, se cambia su valor por esta ultima."
   ]
  },
  {
   "cell_type": "code",
   "execution_count": 10,
   "metadata": {},
   "outputs": [
    {
     "name": "stdout",
     "output_type": "stream",
     "text": [
      "Fecha maxima en indice: 2021/06/25 09:59 | Fecha inicio: 2021/06/25 09:59  | Fecha fin: 2021/06/25 10:59\n"
     ]
    }
   ],
   "source": [
    "total_docs = 0\n",
    "try:\n",
    "    response = es.search(\n",
    "        index=parametros.ohmyfi_consumos_index,\n",
    "        body={\"aggs\" : {\n",
    "                   \"max_date\": {\"max\": {\"field\": \"fecha_inicio\", \"format\": \"yyyy/MM/dd HH:mm\"}}\n",
    "                }\n",
    "             },\n",
    "        size=total_docs\n",
    "    )\n",
    "    #print(es.info())\n",
    "    elastic_docs = response[\"aggregations\"]\n",
    "    fecha_max=response[\"aggregations\"][\"max_date\"]['value_as_string']\n",
    "    h_inicio = response[\"aggregations\"][\"max_date\"]['value_as_string']\n",
    "    h_fin = (datetime.strptime(h_inicio, '%Y/%m/%d %H:%M')+timedelta(hours=1)).strftime(\"%Y/%m/%d %H:%M\")\n",
    "except:\n",
    "    fecha_max = fecha_6\n",
    "    h_inicio = fecha_6\n",
    "    h_fin = str((new_date+timedelta(hours=1)).strftime(\"%Y/%m/%d %H:%M\"))\n",
    "\n",
    "if fecha_6 > fecha_max:\n",
    "    h_inicio = fecha_6\n",
    "    h_fin = str((new_date+timedelta(hours=1)).strftime(\"%Y/%m/%d %H:%M\"))\n",
    "print(\"Fecha maxima en indice:\", fecha_max,\"| Fecha inicio:\", h_inicio, \" | Fecha fin:\", h_fin)"
   ]
  },
  {
   "cell_type": "markdown",
   "metadata": {},
   "source": [
    "## Leyendo la API consumos"
   ]
  },
  {
   "cell_type": "markdown",
   "metadata": {},
   "source": [
    "* Se hace un bucle externo incrementando la fecha una hora.\n",
    "* Se hace un bucle interno con un offset maximo de 10 paginas. LA API no tiene un tope.\n",
    "* Si el offset por defecto de la API aumenta de 100 a otra cantidad, se debe ajustar la cantidad de bucles de offset"
   ]
  },
  {
   "cell_type": "code",
   "execution_count": 11,
   "metadata": {},
   "outputs": [],
   "source": [
    "url2 = parametros.url_ohmyfi +'?/consumos/=&apiKey=' + parametros.ohmyfi_api_key "
   ]
  },
  {
   "cell_type": "code",
   "execution_count": 12,
   "metadata": {},
   "outputs": [
    {
     "name": "stdout",
     "output_type": "stream",
     "text": [
      "https://www.ohmyfi.com/ApiOMF?/consumos/=&apiKey=okMOpLAkiYpafQKXhXirwUys&inicio=2021/06/25 09:59&final=2021/06/25 10:59&offset=1\n",
      "Se rompe bucle por error de request: 204\n",
      "Se rompe bucle por error de request: 204\n",
      "Se rompe bucle por error de request: 204\n",
      "Se rompe bucle por error de request: 204\n",
      "Se rompe bucle por error de request: 204\n",
      "Se rompe bucle por error de request: 204\n",
      "Se rompe bucle por error de request: 204\n",
      "Se rompe bucle por error de request: 204\n",
      "Se rompe bucle por error de request: 204\n",
      "Se rompe bucle por error de request: 204\n",
      "Se rompe bucle por error de request: 204\n",
      "Se rompe bucle por error de request: 204\n",
      "Se rompe bucle por error de request: 204\n",
      "Se rompe bucle por error de request: 204\n",
      "Se rompe bucle por error de request: 204\n",
      "Se rompe bucle por error de request: 204\n",
      "Se rompe bucle por error de request: 204\n",
      "Se rompe bucle por error de request: 204\n",
      "Se rompe bucle por error de request: 204\n",
      "Se rompe bucle por error de request: 204\n",
      "Se rompe bucle por error de request: 204\n",
      "Se rompe bucle por error de request: 204\n",
      "Se rompe bucle por error de request: 204\n",
      "Se rompe bucle por error de request: 204\n",
      "Se rompe bucle por error de request: 204\n",
      "Se rompe bucle por error de request: 204\n",
      "Se rompe bucle por error de request: 204\n"
     ]
    }
   ],
   "source": [
    "datos_api = pd.DataFrame(columns=['idconexion','mac_usuario','lugar','idlugar','lugar_cod'\n",
    "                                  ,'mac_ap','fecha_inicio','fecha_finalizacion'\n",
    "                                  ,'tiempo_sesion_minutos','rango_hora'])\n",
    "\n",
    "while h_inicio < ahora:\n",
    "    offset = 1\n",
    "    bandera = 1\n",
    "    while bandera ==1 & offset < 50:\n",
    "        if h_fin[11:16] == '00:59':\n",
    "            h_inicio = h_fin[0:11] + '00:00'\n",
    "        elif h_inicio[8:10] != h_fin[8:10]:\n",
    "            h_inicio = h_inicio[0:11] + '23:00'\n",
    "            h_fin = h_inicio[0:11] + '23:59'\n",
    "        url = url2 + '&inicio=' + str(h_inicio) + '&final=' + str(h_fin) + '&offset=' + str(offset)\n",
    "        r = requests.get(url, timeout=15)\n",
    "        offset = offset + 1\n",
    "        if r.status_code == 200:\n",
    "            res = json.loads(r.text)\n",
    "            print(url)\n",
    "            datos_api = datos_api.append(res, ignore_index=True)\n",
    "            datos_api.drop_duplicates(inplace=True)\n",
    "        else:\n",
    "            print(\"Se rompe bucle por error de request:\",r.status_code)\n",
    "            if r.status_code != 204:\n",
    "                bandera = 2\n",
    "                print(\"Error:\",r.status_code,\"URL:\",url)\n",
    "    h_inicio = h_fin\n",
    "    h_fin = (datetime.strptime(h_inicio, '%Y/%m/%d %H:%M') + timedelta(hours=1)).strftime(\"%Y/%m/%d %H:%M\")\n",
    "    time.sleep(3)"
   ]
  },
  {
   "cell_type": "code",
   "execution_count": null,
   "metadata": {},
   "outputs": [],
   "source": [
    "datos_api.fillna('', inplace=True)"
   ]
  },
  {
   "cell_type": "markdown",
   "metadata": {},
   "source": [
    "### Validando y actualizando y formateando la duración de las sesiones"
   ]
  },
  {
   "cell_type": "markdown",
   "metadata": {},
   "source": [
    "Se define:\n",
    "* Una función para validar separador decimal. si es coma, lo pasa a punto. Si la cadena no es valoda, le pone 0\n",
    "* Una función para validar el tipo de dato. Si no es entero, flotante o complejo, le asigna cero\n",
    "* Un list comprehension para redondear a dos decimales y forzar el tipo de dato a flotante"
   ]
  },
  {
   "cell_type": "code",
   "execution_count": null,
   "metadata": {},
   "outputs": [],
   "source": [
    "import re\n",
    "def get_separator(x):\n",
    "    patron = re.compile('^(\\-?\\d+(\\.\\d+)?),\\s*(\\-?\\d+(\\.\\d+)?)$') #patrón que debe cumplir\n",
    "    if (not patron.match(x) is None):\n",
    "        return x.replace(',','.')\n",
    "    else:\n",
    "        return '0'\n",
    "\n",
    "def valida_numero(numero):\n",
    "    if type(numero) not in (int, float, complex):\n",
    "        return numero\n",
    "    else:\n",
    "        return 0\n",
    "try:\n",
    "    datos_api['tiempo_sesion_minutos'] = datos_api['tiempo_sesion_minutos'].apply(get_separator)\n",
    "    datos_api['tiempo_sesion_minutos'] = datos_api.apply(lambda x: valida_numero(datos_api['tiempo_sesion_minutos']))\n",
    "    datos_api['tiempo_sesion_minutos'] = pd.Series([round(val,2) for val in datos_api['tiempo_sesion_minutos'].astype(float)])\n",
    "except:\n",
    "    pass"
   ]
  },
  {
   "cell_type": "markdown",
   "metadata": {},
   "source": [
    "### Dando formato a fecha y ajustando formato de MAC"
   ]
  },
  {
   "cell_type": "code",
   "execution_count": null,
   "metadata": {},
   "outputs": [],
   "source": [
    "try:\n",
    "    datos_api['fecha_inicio'] = datos_api['fecha_inicio'].str[0:-3]\n",
    "    datos_api['fecha_finalizacion'] = datos_api['fecha_finalizacion'].str[0:-3]\n",
    "    datos_api['mac_ap'] = datos_api['mac_ap'].str.replace('-',':')\n",
    "except:\n",
    "    pass"
   ]
  },
  {
   "cell_type": "code",
   "execution_count": null,
   "metadata": {},
   "outputs": [],
   "source": [
    "indice = 'ohmyfi-consumopruebaingesta1'#+'-'+fecha_hoy"
   ]
  },
  {
   "cell_type": "code",
   "execution_count": null,
   "metadata": {},
   "outputs": [],
   "source": [
    "use_these_keys = ['idconexion', 'mac_usuario', 'lugar', 'idlugar', 'lugar_cod', 'mac_ap',\n",
    "                   'fecha_inicio', 'fecha_finalizacion', 'tiempo_sesion_minutos',\n",
    "                   'rango_hora','@timestamp']\n",
    "def filterKeys(document):\n",
    "    return {key: document[key] for key in use_these_keys }"
   ]
  },
  {
   "cell_type": "markdown",
   "metadata": {},
   "source": [
    "Se define como _id del indice a la mac de usuario y la fecha de inicio de la conexión. De esta forma se evita duplicar el mismo elemento si se lee en dos corridas diferentes"
   ]
  },
  {
   "cell_type": "code",
   "execution_count": null,
   "metadata": {},
   "outputs": [],
   "source": [
    "timestamp = datetime.now()\n",
    "#df = datos_api[(datos_api['fecha']>fecha_max)] \n",
    "datos_api['@timestamp'] = str(timestamp.isoformat())\n",
    "def doc_generator(df):\n",
    "    df_iter = df.iterrows()\n",
    "    for index, document in df_iter:\n",
    "        yield {\n",
    "                \"_index\": indice,\n",
    "                \"_id\": f\"{document['mac_usuario'] + '-' + document['fecha_inicio']}\",\n",
    "                \"_source\": filterKeys(document),\n",
    "            }\n",
    "salida = helpers.bulk(es, doc_generator(datos_api))\n",
    "print(\"Fecha: \", now, \" - Documentos insertados: \",salida[0])"
   ]
  }
 ],
 "metadata": {
  "kernelspec": {
   "display_name": "Python 3",
   "language": "python",
   "name": "python3"
  },
  "language_info": {
   "codemirror_mode": {
    "name": "ipython",
    "version": 3
   },
   "file_extension": ".py",
   "mimetype": "text/x-python",
   "name": "python",
   "nbconvert_exporter": "python",
   "pygments_lexer": "ipython3",
   "version": "3.8.5"
  }
 },
 "nbformat": 4,
 "nbformat_minor": 4
}
