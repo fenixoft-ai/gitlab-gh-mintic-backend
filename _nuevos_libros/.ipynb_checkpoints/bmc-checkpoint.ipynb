{
 "cells": [
  {
   "cell_type": "code",
   "execution_count": 5,
   "metadata": {},
   "outputs": [],
   "source": [
    "from elasticsearch import Elasticsearch\n",
    "from elasticsearch import helpers\n",
    "import pandas as pd\n",
    "import numpy as np\n",
    "import json\n",
    "from ssl import create_default_context\n",
    "from datetime import datetime\n",
    "#para el token\n",
    "import jwt\n",
    "#para request\n",
    "import requests\n",
    "from getpass import getpass\n",
    "import parametros"
   ]
  },
  {
   "cell_type": "markdown",
   "metadata": {},
   "source": [
    "### Conexion Elastic Search"
   ]
  },
  {
   "cell_type": "code",
   "execution_count": 6,
   "metadata": {},
   "outputs": [],
   "source": [
    "context = create_default_context(cafile=parametros.cafile)\n",
    "es = Elasticsearch(\n",
    "    parametros.servidor,\n",
    "    http_auth=(parametros.usuario_EC, parametros.password_EC),\n",
    "    scheme=\"https\",\n",
    "    port=parametros.puerto,\n",
    "    ssl_context=context,\n",
    ")"
   ]
  },
  {
   "cell_type": "markdown",
   "metadata": {},
   "source": [
    "### tomando fecha mas reciente del indice"
   ]
  },
  {
   "cell_type": "code",
   "execution_count": 7,
   "metadata": {},
   "outputs": [
    {
     "name": "stdout",
     "output_type": "stream",
     "text": [
      "20211028195949\n"
     ]
    }
   ],
   "source": [
    "total_docs = 0\n",
    "try:\n",
    "    response = es.search(\n",
    "        index=parametros.bmc_index_1,\n",
    "        body={\"aggs\" : {\n",
    "                   \"max_date\": {\"max\": {\"field\": \"fechahora\", \"format\": \"yyyyMMddHHmmss\"}}\n",
    "                }\n",
    "             },\n",
    "        size=total_docs\n",
    "    )\n",
    "    #print(es.info())\n",
    "    elastic_docs = response[\"aggregations\"]\n",
    "    fecha_max=response[\"aggregations\"][\"max_date\"]['value_as_string']\n",
    "except:\n",
    "    fecha_max = '20100101000001'\n",
    "print(fecha_max)"
   ]
  },
  {
   "cell_type": "markdown",
   "metadata": {},
   "source": [
    "### Definiendo función de llenado de ES"
   ]
  },
  {
   "cell_type": "code",
   "execution_count": 8,
   "metadata": {},
   "outputs": [],
   "source": [
    "def filterKeys(document):\n",
    "        return {key: document[key] for key in use_these_keys }\n",
    "    \n",
    "def doc_generator(df):\n",
    "    df_iter = df.iterrows()\n",
    "    for index, document in df_iter:\n",
    "        yield {\n",
    "                \"_index\": indice, \n",
    "                #\"_id\": f\"{document['tipodoc']+document['documento']}\",\n",
    "                \"_source\": filterKeys(document),\n",
    "            }"
   ]
  },
  {
   "cell_type": "markdown",
   "metadata": {},
   "source": [
    "### Solicitud de token"
   ]
  },
  {
   "cell_type": "code",
   "execution_count": 9,
   "metadata": {},
   "outputs": [
    {
     "name": "stderr",
     "output_type": "stream",
     "text": [
      "/opt/anaconda3/lib/python3.8/site-packages/urllib3/connectionpool.py:981: InsecureRequestWarning: Unverified HTTPS request is being made to host 'mintictsps.triara.co'. Adding certificate verification is strongly advised. See: https://urllib3.readthedocs.io/en/latest/advanced-usage.html#ssl-warnings\n",
      "  warnings.warn(\n"
     ]
    }
   ],
   "source": [
    "payload = json.dumps({\n",
    "  \"username\": parametros.bmc_username,\n",
    "  \"password\": parametros.bmc_password,\n",
    "  \"tenantName\": \"*\"\n",
    "})\n",
    "headers = {\n",
    "  'Content-Type': 'application/json'\n",
    "}\n",
    "\n",
    "r_tk = requests.request(\"POST\", parametros.bmc_url_token, headers=headers, data=payload, verify=False)\n",
    "if r_tk.status_code == 200:\n",
    "    res = json.loads(r_tk.text)\n",
    "    #print(res['response']['authToken'])\n",
    "else:\n",
    "    print(\"el else saca esto: \",r_tk.status_code)\n",
    "    #exit()"
   ]
  },
  {
   "cell_type": "raw",
   "metadata": {},
   "source": []
  },
  {
   "cell_type": "code",
   "execution_count": null,
   "metadata": {},
   "outputs": [],
   "source": [
    "autoriza = 'authtoken ' + res['response']['authToken']\n",
    "payload = json.dumps({\n",
    "  \"className\": \"EYE_EVENT\",\n",
    "  \"criteria\": {\n",
    "    \"value\": \"CRITICAL\",\n",
    "    \"identifier\": \"severity\",\n",
    "    \"operator\": \"EQUALS\"\n",
    "  }\n",
    "})\n",
    "headers = {\n",
    "  'Authorization' : autoriza,\n",
    "  'Content-Type': 'application/json'\n",
    "}\n",
    "\n",
    "r = requests.request(\"POST\", parametros.bmc_url, headers=headers, data=payload, verify=False)\n",
    "if r.status_code == 200:\n",
    "    res_api = json.loads(r.text)\n",
    "    #dato_param = res['paging']\n",
    "    datos_api = pd.DataFrame(columns=['mc_modhist','mc_location','mc_client_address','itsm_incident_id'\n",
    "                                      ,'date','CLASS','mc_original_severity','mc_host','severity'\n",
    "                                      ,'itsm_incident_id','itsm_incident_status'])\n",
    "    contador=1\n",
    "    for filas in res_api['responseList']:\n",
    "        for atributos in filas['eventList']:\n",
    "            #print(atributos['attributes']['date'])\n",
    "            datos_api.loc[contador] = atributos['attributes']\n",
    "            contador+=1\n",
    "            #break\n",
    "    try:\n",
    "        datos_api.fillna('', inplace=True)\n",
    "        datos_api['mc_modhist'] = datos_api['mc_modhist'].str[1:-1]\n",
    "        datos_api['fechahora'] = datos_api[\"date\"].str.split(\".\", n = 1, expand = True)[0]\n",
    "        datos_api.drop(columns=['date'], inplace=True)\n",
    "    except:\n",
    "        #pass\n",
    "        print(\"error al leer el dataframe\")\n",
    "        exit()\n",
    "    datos_api = datos_api.drop(datos_api[(datos_api['fechahora']<= fecha_max)].index)\n",
    "    now = datetime.now()\n",
    "    format_ES = \"%Y.%m.%d\"\n",
    "    fecha_hoy = str(now.strftime(format_ES))\n",
    "    indice = 'bmcingest_test' #+ '-' +fecha_hoy\n",
    "    # Quitado el fecha_hoy solicitado por Napoleon  [GM]"
   ]
  },
  {
   "cell_type": "markdown",
   "metadata": {},
   "source": [
    "### Solicitando los datos a la API"
   ]
  },
  {
   "cell_type": "code",
   "execution_count": 6,
   "metadata": {},
   "outputs": [
    {
     "name": "stderr",
     "output_type": "stream",
     "text": [
      "/opt/anaconda3/lib/python3.8/site-packages/urllib3/connectionpool.py:981: InsecureRequestWarning: Unverified HTTPS request is being made to host 'mintictsim.triara.co'. Adding certificate verification is strongly advised. See: https://urllib3.readthedocs.io/en/latest/advanced-usage.html#ssl-warnings\n",
      "  warnings.warn(\n"
     ]
    },
    {
     "name": "stdout",
     "output_type": "stream",
     "text": [
      "Fecha inserción:  2021-05-07 10:17:44.366562  - Documentos insertados:  195\n"
     ]
    }
   ],
   "source": [
    "autoriza = 'authtoken ' + res['response']['authToken']\n",
    "payload = json.dumps({\n",
    "  \"className\": \"EYE_EVENT\",\n",
    "  \"criteria\": {\n",
    "    \"value\": \"CRITICAL\",\n",
    "    \"identifier\": \"severity\",\n",
    "    \"operator\": \"EQUALS\"\n",
    "  }\n",
    "})\n",
    "headers = {\n",
    "  'Authorization' : autoriza,\n",
    "  'Content-Type': 'application/json'\n",
    "}\n",
    "\n",
    "r = requests.request(\"POST\", parametros.bmc_url, headers=headers, data=payload, verify=False)\n",
    "if r.status_code == 200:\n",
    "    res_api = json.loads(r.text)\n",
    "    #dato_param = res['paging']\n",
    "    datos_api = pd.DataFrame(columns=['mc_modhist','mc_location','mc_client_address','itsm_incident_id'\n",
    "                                      ,'date','CLASS','mc_original_severity','mc_host','severity'\n",
    "                                      ,'itsm_incident_id','itsm_incident_status'])\n",
    "    contador=1\n",
    "    for filas in res_api['responseList']:\n",
    "        for atributos in filas['eventList']:\n",
    "            #print(atributos['attributes']['date'])\n",
    "            datos_api.loc[contador] = atributos['attributes']\n",
    "            contador+=1\n",
    "            #break\n",
    "    try:\n",
    "        datos_api.fillna('', inplace=True)\n",
    "        datos_api['mc_modhist'] = datos_api['mc_modhist'].str[1:-1]\n",
    "        datos_api['fechahora'] = datos_api[\"date\"].str.split(\".\", n = 1, expand = True)[0]\n",
    "        datos_api.drop(columns=['date'], inplace=True)\n",
    "    except:\n",
    "        #pass\n",
    "        print(\"error al leer el dataframe\")\n",
    "        exit()\n",
    "    datos_api = datos_api.drop(datos_api[(datos_api['fechahora']<= fecha_max)].index)\n",
    "    now = datetime.now()\n",
    "    format_ES = \"%Y.%m.%d\"\n",
    "    fecha_hoy = str(now.strftime(format_ES))\n",
    "    indice = 'bmcingest_test' #+ '-' +fecha_hoy\n",
    "    # Quitado el fecha_hoy solicitado por Napoleon  [GM]\n",
    "\n",
    "    use_these_keys = ['mc_modhist','mc_location','mc_client_address','itsm_incident_id'\n",
    "                          ,'fechahora','CLASS','mc_original_severity','mc_host','severity'\n",
    "                          ,'itsm_incident_id','itsm_incident_status','@timestamp']\n",
    "    \n",
    "    timestamp = datetime.now()\n",
    "    datos_api['@timestamp'] = timestamp.isoformat()\n",
    "\n",
    "    salida = helpers.bulk(es, doc_generator(datos_api))\n",
    "    print(\"Fecha inserción: \",timestamp,\" - Documentos insertados: \", salida[0])\n",
    "else:\n",
    "    print(\"error de request: \",r.status_code)\n",
    "    exit()"
   ]
  }
 ],
 "metadata": {
  "kernelspec": {
   "display_name": "Python 3",
   "language": "python",
   "name": "python3"
  },
  "language_info": {
   "codemirror_mode": {
    "name": "ipython",
    "version": 3
   },
   "file_extension": ".py",
   "mimetype": "text/x-python",
   "name": "python",
   "nbconvert_exporter": "python",
   "pygments_lexer": "ipython3",
   "version": "3.8.5"
  }
 },
 "nbformat": 4,
 "nbformat_minor": 4
}
