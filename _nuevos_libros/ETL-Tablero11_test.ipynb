{
 "cells": [
  {
   "cell_type": "code",
   "execution_count": 1,
   "metadata": {},
   "outputs": [],
   "source": [
    "#!/usr/bin/env python\n",
    "# coding: utf-8"
   ]
  },
  {
   "cell_type": "code",
   "execution_count": 2,
   "metadata": {},
   "outputs": [],
   "source": [
    "# ## ¿Qué hace este script?\n",
    "# \n",
    "# #### Para cada AP:\n",
    "# * usuarios.usuariosConectados(corresponde al total de conexiones), usuarios.sesiones_Usuarios (Corresponde al total de usuarios)\n",
    "# * Información detallada de los dispositivos conectados en el rango de fecha procesado: usuarios.dispositivo.mac, usuarios.dispositivo.tipo, usuarios.dispositivo.marca, usuarios.dispositivo.tecnologia, usuarios.dispositivo.sisOperativo.\n",
    "# \n",
    "# #### Para cada sitio: \n",
    "# * Totales por características de dispositivos: usuarios.sistemaOperativoUsuarios, usuarios.tipoDispositivoUsuarios, usuarios.marcaTerminal, usuarios.tecnologiaTerminal, usuarios.totales.dispositivos (Este ultimo guarda el total)\n",
    "# * usuarios.usoServicioInternetSitio es la suma en Gb consumido discriminado por usuarios.detallesTecnologiasTerminales (Bandas 2.4 o 5 GHz)\n",
    "# * usuarios.conteoDispositivos el cual indica el total de dispositivos conectados (Es lo mismo que total de conexiones)\n",
    "# * usuarios.usuariosNuevos (Esta tenía antes Nuevos y Recurrentes, pero ahora solo tiene Nuevos por solicitud de BI)\n",
    "# * usuarios.totales.usuariosNuevos, tiene el total de usuarios nuevos (el script por el momento solo totaliza nuevos siempre y cuando no se corra historicos)"
   ]
  },
  {
   "cell_type": "markdown",
   "metadata": {},
   "source": [
    "In[103]:"
   ]
  },
  {
   "cell_type": "code",
   "execution_count": 3,
   "metadata": {},
   "outputs": [
    {
     "ename": "ModuleNotFoundError",
     "evalue": "No module named 'parametros'",
     "output_type": "error",
     "traceback": [
      "\u001b[0;31m---------------------------------------------------------------------------\u001b[0m",
      "\u001b[0;31mModuleNotFoundError\u001b[0m                       Traceback (most recent call last)",
      "\u001b[0;32m<ipython-input-3-03bac2197da9>\u001b[0m in \u001b[0;36m<module>\u001b[0;34m\u001b[0m\n\u001b[1;32m      4\u001b[0m \u001b[0;32mimport\u001b[0m \u001b[0mnumpy\u001b[0m \u001b[0;32mas\u001b[0m \u001b[0mnp\u001b[0m\u001b[0;34m\u001b[0m\u001b[0;34m\u001b[0m\u001b[0m\n\u001b[1;32m      5\u001b[0m \u001b[0;32mfrom\u001b[0m \u001b[0mdatetime\u001b[0m \u001b[0;32mimport\u001b[0m \u001b[0mdatetime\u001b[0m\u001b[0;34m,\u001b[0m \u001b[0mtimedelta\u001b[0m\u001b[0;34m\u001b[0m\u001b[0;34m\u001b[0m\u001b[0m\n\u001b[0;32m----> 6\u001b[0;31m \u001b[0;32mimport\u001b[0m \u001b[0mparametros\u001b[0m\u001b[0;34m\u001b[0m\u001b[0;34m\u001b[0m\u001b[0m\n\u001b[0m\u001b[1;32m      7\u001b[0m \u001b[0;32mimport\u001b[0m \u001b[0mrandom\u001b[0m\u001b[0;34m\u001b[0m\u001b[0;34m\u001b[0m\u001b[0m\n\u001b[1;32m      8\u001b[0m \u001b[0;32mimport\u001b[0m \u001b[0mre\u001b[0m\u001b[0;34m\u001b[0m\u001b[0;34m\u001b[0m\u001b[0m\n",
      "\u001b[0;31mModuleNotFoundError\u001b[0m: No module named 'parametros'"
     ]
    }
   ],
   "source": [
    "from elasticsearch import Elasticsearch, helpers\n",
    "from ssl import create_default_context\n",
    "import pandas as pd\n",
    "import numpy as np\n",
    "from datetime import datetime, timedelta\n",
    "import parametros\n",
    "import random\n",
    "import re\n",
    "import time"
   ]
  },
  {
   "cell_type": "markdown",
   "metadata": {},
   "source": [
    "## Conectando a ElasticSearch"
   ]
  },
  {
   "cell_type": "markdown",
   "metadata": {},
   "source": [
    "La ultima lÃ­nea se utiliza para garantizar la ejecuciÃ³n de la consulta<br>\n",
    "* timeout es el tiempo para cada ejecuciÃ³n<br>\n",
    "* max_retries el nÃºmero de intentos si la conexiÃ³n falla<br>\n",
    "* retry_on_timeout para activar los reitentos"
   ]
  },
  {
   "cell_type": "markdown",
   "metadata": {},
   "source": [
    "In[104]:"
   ]
  },
  {
   "cell_type": "code",
   "execution_count": 4,
   "metadata": {},
   "outputs": [
    {
     "ename": "NameError",
     "evalue": "name 'parametros' is not defined",
     "output_type": "error",
     "traceback": [
      "\u001b[0;31m---------------------------------------------------------------------------\u001b[0m",
      "\u001b[0;31mNameError\u001b[0m                                 Traceback (most recent call last)",
      "\u001b[0;32m<ipython-input-4-d555a95ea089>\u001b[0m in \u001b[0;36m<module>\u001b[0;34m\u001b[0m\n\u001b[0;32m----> 1\u001b[0;31m \u001b[0mcontext\u001b[0m \u001b[0;34m=\u001b[0m \u001b[0mcreate_default_context\u001b[0m\u001b[0;34m(\u001b[0m\u001b[0mcafile\u001b[0m\u001b[0;34m=\u001b[0m\u001b[0mparametros\u001b[0m\u001b[0;34m.\u001b[0m\u001b[0mcafile\u001b[0m\u001b[0;34m)\u001b[0m\u001b[0;34m\u001b[0m\u001b[0;34m\u001b[0m\u001b[0m\n\u001b[0m\u001b[1;32m      2\u001b[0m es = Elasticsearch(\n\u001b[1;32m      3\u001b[0m     \u001b[0mparametros\u001b[0m\u001b[0;34m.\u001b[0m\u001b[0mservidor\u001b[0m\u001b[0;34m,\u001b[0m\u001b[0;34m\u001b[0m\u001b[0;34m\u001b[0m\u001b[0m\n\u001b[1;32m      4\u001b[0m     \u001b[0mhttp_auth\u001b[0m\u001b[0;34m=\u001b[0m\u001b[0;34m(\u001b[0m\u001b[0mparametros\u001b[0m\u001b[0;34m.\u001b[0m\u001b[0musuario_EC\u001b[0m\u001b[0;34m,\u001b[0m \u001b[0mparametros\u001b[0m\u001b[0;34m.\u001b[0m\u001b[0mpassword_EC\u001b[0m\u001b[0;34m)\u001b[0m\u001b[0;34m,\u001b[0m\u001b[0;34m\u001b[0m\u001b[0;34m\u001b[0m\u001b[0m\n\u001b[1;32m      5\u001b[0m     \u001b[0mscheme\u001b[0m\u001b[0;34m=\u001b[0m\u001b[0;34m\"https\"\u001b[0m\u001b[0;34m,\u001b[0m\u001b[0;34m\u001b[0m\u001b[0;34m\u001b[0m\u001b[0m\n",
      "\u001b[0;31mNameError\u001b[0m: name 'parametros' is not defined"
     ]
    }
   ],
   "source": [
    "context = create_default_context(cafile=parametros.cafile)\n",
    "es = Elasticsearch(\n",
    "    parametros.servidor,\n",
    "    http_auth=(parametros.usuario_EC, parametros.password_EC),\n",
    "    scheme=\"https\",\n",
    "    port=parametros.puerto,\n",
    "    ssl_context=context,\n",
    "    timeout=60, max_retries=3, retry_on_timeout=True\n",
    ")"
   ]
  },
  {
   "cell_type": "markdown",
   "metadata": {},
   "source": [
    "### Calculando fechas para la ejecuciÃ³n"
   ]
  },
  {
   "cell_type": "markdown",
   "metadata": {},
   "source": [
    "* Se calculan las fechas para asociar al nombre del indice<br>\n",
    "* fecha_hoy es usada para concatenar al nombre del indice principal previa inserciÃ³n"
   ]
  },
  {
   "cell_type": "markdown",
   "metadata": {},
   "source": [
    "In[105]:"
   ]
  },
  {
   "cell_type": "code",
   "execution_count": 5,
   "metadata": {},
   "outputs": [],
   "source": [
    "now = datetime.now()\n",
    "fecha_hoy = str(now.strftime(\"%Y.%m.%d\"))"
   ]
  },
  {
   "cell_type": "markdown",
   "metadata": {},
   "source": [
    "### nombre de indice donde se insertarÃ¡"
   ]
  },
  {
   "cell_type": "markdown",
   "metadata": {},
   "source": [
    "In[106]:"
   ]
  },
  {
   "cell_type": "code",
   "execution_count": null,
   "metadata": {},
   "outputs": [],
   "source": [
    "indice = parametros.usuarios_tablero11_index \n",
    "indice_control = parametros.tableros_mintic_control"
   ]
  },
  {
   "cell_type": "markdown",
   "metadata": {},
   "source": [
    "### Funcion para construir JSON compatible con ElasticSearch"
   ]
  },
  {
   "cell_type": "markdown",
   "metadata": {},
   "source": [
    "In[107]:"
   ]
  },
  {
   "cell_type": "code",
   "execution_count": null,
   "metadata": {},
   "outputs": [],
   "source": [
    "def filterKeys(document, use_these_keys):\n",
    "    return {key: document.get(key) for key in use_these_keys }"
   ]
  },
  {
   "cell_type": "markdown",
   "metadata": {},
   "source": [
    "### Trae la ultima fecha para control de ejecuciÃ³n"
   ]
  },
  {
   "cell_type": "markdown",
   "metadata": {},
   "source": [
    "Cuando en el rango de tiempo de la ejecuciÃ³n, no se insertan nuevos valores, las fecha maxima en indice mintic no aumenta, por tanto se usa esta fecha de control para garantizar que incremente el bucle de ejecuciÃ³n"
   ]
  },
  {
   "cell_type": "markdown",
   "metadata": {},
   "source": [
    "In[108]:"
   ]
  },
  {
   "cell_type": "code",
   "execution_count": null,
   "metadata": {},
   "outputs": [],
   "source": [
    "total_docs = 1\n",
    "try:\n",
    "    response = es.search(\n",
    "        index= indice_control,\n",
    "        body={\n",
    "           \"_source\": [\"tablero11.fechaControl\"],\n",
    "              \"query\": {\n",
    "                \"bool\": {\n",
    "                  \"filter\": [\n",
    "                  {\n",
    "                    \"exists\": {\n",
    "                      \"field\":\"jerarquia-tablero11\"\n",
    "                    }\n",
    "                  }\n",
    "              ]\n",
    "            }\n",
    "          }\n",
    "        },\n",
    "        size=total_docs\n",
    "    )\n",
    "    #print(es.info())\n",
    "    elastic_docs = response[\"hits\"][\"hits\"]\n",
    "    fields = {}\n",
    "    for num, doc in enumerate(elastic_docs):\n",
    "        fecha_ejecucion = doc[\"_source\"]['tablero11.fechaControl']\n",
    "except Exception as e:\n",
    "    print(e)\n",
    "    response[\"hits\"][\"hits\"] = []\n",
    "if response[\"hits\"][\"hits\"] == []:\n",
    "    fecha_ejecucion = '2021-05-14T00:00:00'\n",
    "print(\"ultima fecha para control de ejecucion:\",fecha_ejecucion)"
   ]
  },
  {
   "cell_type": "markdown",
   "metadata": {},
   "source": [
    "### leyendo indice semilla-inventario"
   ]
  },
  {
   "cell_type": "markdown",
   "metadata": {},
   "source": [
    "En el script que ingesta semilla, trae la informaciÃ³n de los centros de conexiÃ³n administrados. Para el indice principal se requiere:<br>\n",
    "* site_id como llave del centro de conexiÃ³n.<br>\n",
    "* Datos geogrÃ¡ficos (Departamento, municipio, centro poblado, sede, energÃ­a, latitud, longitud,COD_ISO, id_Beneficiario)."
   ]
  },
  {
   "cell_type": "markdown",
   "metadata": {},
   "source": [
    "In[109]:"
   ]
  },
  {
   "cell_type": "code",
   "execution_count": null,
   "metadata": {},
   "outputs": [],
   "source": [
    "t1=time.time()\n",
    "total_docs = 10000\n",
    "try:\n",
    "    response = es.search(\n",
    "        index= parametros.semilla_inventario_index,\n",
    "        body={\n",
    "               \"_source\": ['site_id','nombre_municipio', 'nombre_departamento', 'nombre_centro_pob', 'nombreSede' \n",
    "                           , 'energiadesc', 'latitud', 'longitud', 'COD_ISO','id_Beneficiario']\n",
    "        },\n",
    "        size=total_docs\n",
    "    )\n",
    "    #print(es.info())\n",
    "    elastic_docs = response[\"hits\"][\"hits\"]\n",
    "#     fields = {}\n",
    "#     for num, doc in enumerate(elastic_docs):\n",
    "#         source_data = doc[\"_source\"]\n",
    "#         for key, val in source_data.items():\n",
    "#             try:\n",
    "#                 fields[key] = np.append(fields[key], val)\n",
    "#             except KeyError:\n",
    "#                 fields[key] = np.array([val])\n",
    "\n",
    "#     datos_semilla = pd.DataFrame(dict([ (k,pd.Series(v)) for k,v in fields.items() ])) #pd.DataFrame(fields)\n",
    "    \n",
    "    datos_semilla = pd.DataFrame([x[\"_source\"] for x in elastic_docs])\n",
    "    \n",
    "except:\n",
    "    exit()\n",
    "    \n",
    "t2=time.time()"
   ]
  },
  {
   "cell_type": "markdown",
   "metadata": {},
   "source": [
    "In[110]:"
   ]
  },
  {
   "cell_type": "code",
   "execution_count": null,
   "metadata": {},
   "outputs": [],
   "source": [
    "datos_semilla['site_id'] = datos_semilla['site_id'].str.strip()"
   ]
  },
  {
   "cell_type": "markdown",
   "metadata": {},
   "source": [
    "### Cambiando nombre de campos y generando location"
   ]
  },
  {
   "cell_type": "markdown",
   "metadata": {},
   "source": [
    "* Se valida latitud y longitud. Luego se calcula campo location<br>\n",
    "* Se renombran los campos de semilla"
   ]
  },
  {
   "cell_type": "markdown",
   "metadata": {},
   "source": [
    "In[111]:"
   ]
  },
  {
   "cell_type": "code",
   "execution_count": null,
   "metadata": {},
   "outputs": [],
   "source": [
    "def get_location(x,y='lat'):\n",
    "    patron = re.compile('^(\\-?\\d+(\\.\\d+)?),\\s*(\\-?\\d+(\\.\\d+)?)$') #patrÃ³n que debe cumplir\n",
    "    if (not patron.match(x) is None) and (str(x)!=''):\n",
    "        return x.replace(',','.')\n",
    "    else:\n",
    "        #CÃ³digo a ejecutar si las coordenadas no son vÃ¡lidas\n",
    "        return '4.596389' if y=='lat' else '-74.074639'\n",
    "    \n",
    "datos_semilla['latitud'] = datos_semilla['latitud'].apply(lambda x:get_location(x,'lat'))\n",
    "datos_semilla['longitud'] = datos_semilla['longitud'].apply(lambda x:get_location(x,'lon'))\n",
    "datos_semilla['latitud'] = datos_semilla['latitud'].apply(get_location)\n",
    "datos_semilla['longitud'] = datos_semilla['longitud'].apply(get_location)\n",
    "datos_semilla = datos_semilla.drop(datos_semilla[(datos_semilla[\"longitud\"]=='a') | (datos_semilla[\"latitud\"]=='a')].index)\n",
    "datos_semilla['usuarios.location'] = datos_semilla['latitud'] + ',' + datos_semilla['longitud']\n",
    "datos_semilla['usuarios.location']=datos_semilla['usuarios.location'].str.replace('a,a','')\n",
    "datos_semilla.drop(columns=['latitud','longitud'],inplace=True)"
   ]
  },
  {
   "cell_type": "markdown",
   "metadata": {},
   "source": [
    "In[112]:"
   ]
  },
  {
   "cell_type": "code",
   "execution_count": null,
   "metadata": {},
   "outputs": [],
   "source": [
    "datos_semilla = datos_semilla.rename(columns={'lugar_cod' : 'usuarios.centroDigitalUsuarios'\n",
    "                                            , 'nombre_municipio': 'usuarios.nombreMunicipio'\n",
    "                                            , 'nombre_departamento' : 'usuarios.nombreDepartamento'\n",
    "                                            , 'nombre_centro_pob': 'usuarios.localidad'\n",
    "                                            , 'nombreSede' : 'usuarios.nomCentroDigital'\n",
    "                                            , 'energiadesc' : 'usuarios.sistemaEnergia'\n",
    "                                            , 'COD_ISO' : 'usuarios.codISO'\n",
    "                                            , 'id_Beneficiario' : 'usuarios.idBeneficiario'})"
   ]
  },
  {
   "cell_type": "markdown",
   "metadata": {},
   "source": [
    "Se descartan los registros que tengan la latitud y longitud vacÃ­a o no valida"
   ]
  },
  {
   "cell_type": "markdown",
   "metadata": {},
   "source": [
    "In[113]:"
   ]
  },
  {
   "cell_type": "code",
   "execution_count": null,
   "metadata": {},
   "outputs": [],
   "source": [
    "datos_semilla = datos_semilla.drop(datos_semilla[(datos_semilla[\"usuarios.location\"]=='')].index)"
   ]
  },
  {
   "cell_type": "markdown",
   "metadata": {},
   "source": [
    "### leyendo indice cambium-devicedevices"
   ]
  },
  {
   "cell_type": "markdown",
   "metadata": {},
   "source": [
    "De esta formas se asocia las MAC de dispositivos de red INDOOR y OUTDOOR<br>\n",
    "* site_id para cruzar con las misma llave de semilla.<br>\n",
    "* datos del dispositivo: mac, status, ip.<br>\n",
    "* ap_group para identificar si la conexiÃ³n es indoor/outdoor"
   ]
  },
  {
   "cell_type": "markdown",
   "metadata": {},
   "source": [
    "In[114]:"
   ]
  },
  {
   "cell_type": "code",
   "execution_count": null,
   "metadata": {},
   "outputs": [],
   "source": [
    "t1=time.time()\n",
    "total_docs = 30000\n",
    "try:\n",
    "    response = es.search(\n",
    "        index= parametros.cambium_d_d_index,\n",
    "        body={\n",
    "                    \"_source\": [\"site_id\",\"mac\",\"status\",\"ip\",\"ap_group\"]\n",
    "                  , \"query\": {\n",
    "                    \"match_all\": {}\n",
    "                  }\n",
    "        },\n",
    "        size=total_docs\n",
    "    )\n",
    "    #print(es.info())\n",
    "    elastic_docs = response[\"hits\"][\"hits\"]\n",
    "#     fields = {}\n",
    "#     for num, doc in enumerate(elastic_docs):\n",
    "#         source_data = doc[\"_source\"]\n",
    "#         for key, val in source_data.items():\n",
    "#             try:\n",
    "#                 fields[key] = np.append(fields[key], val)\n",
    "#             except KeyError:\n",
    "#                 fields[key] = np.array([val])\n",
    "\n",
    "#     datos_dev = pd.DataFrame(dict([ (k,pd.Series(v)) for k,v in fields.items() ])) #pd.DataFrame(fields)\n",
    "    \n",
    "    datos_dev = pd.DataFrame([x[\"_source\"] for x in elastic_docs])\n",
    "    \n",
    "    \n",
    "except:\n",
    "    exit()\n",
    "    \n",
    "t2=time.time()"
   ]
  },
  {
   "cell_type": "markdown",
   "metadata": {},
   "source": [
    "In[115]:"
   ]
  },
  {
   "cell_type": "code",
   "execution_count": null,
   "metadata": {},
   "outputs": [],
   "source": [
    "datos_dev['site_id'] = datos_dev['site_id'].str.strip()"
   ]
  },
  {
   "cell_type": "markdown",
   "metadata": {},
   "source": [
    "Se descartan registros con site_id vacios ya que no cruzarÃ¡n en el merge y se limpian los NaN del dataframe."
   ]
  },
  {
   "cell_type": "markdown",
   "metadata": {},
   "source": [
    "In[116]:"
   ]
  },
  {
   "cell_type": "code",
   "execution_count": null,
   "metadata": {},
   "outputs": [],
   "source": [
    "datos_dev.dropna(subset=['site_id'], inplace=True)\n",
    "datos_dev.fillna('', inplace=True)\n",
    "datos_dev = datos_dev.drop(datos_dev[(datos_dev['site_id']=='')].index)"
   ]
  },
  {
   "cell_type": "markdown",
   "metadata": {},
   "source": [
    "In[117]:"
   ]
  },
  {
   "cell_type": "code",
   "execution_count": null,
   "metadata": {},
   "outputs": [],
   "source": [
    "datos_dev['ap_group'] = datos_dev['ap_group'].str.split(\"-\", n = 1, expand = True)[0]\n",
    "datos_dev['ap_group'] = datos_dev['ap_group'].str.split(\"_\", n = 1, expand = True)[0]\n",
    "datos_dev['ap_group'] = datos_dev['ap_group'].str.split(\".\", n = 1, expand = True)[0]\n",
    "datos_dev = datos_dev.drop(datos_dev[(datos_dev['ap_group']=='')].index)"
   ]
  },
  {
   "cell_type": "markdown",
   "metadata": {},
   "source": [
    "Se toman solo los datos unicos con mac."
   ]
  },
  {
   "cell_type": "markdown",
   "metadata": {},
   "source": [
    "In[118]:"
   ]
  },
  {
   "cell_type": "markdown",
   "metadata": {},
   "source": [
    "atos_dev.drop_duplicates(subset=['site_id','mac'],inplace=True)"
   ]
  },
  {
   "cell_type": "code",
   "execution_count": null,
   "metadata": {},
   "outputs": [],
   "source": [
    "datos_dev = datos_dev.drop_duplicates('mac')"
   ]
  },
  {
   "cell_type": "markdown",
   "metadata": {},
   "source": [
    "Se cambia el nombre a la mac del dispositivo de red para no confundir con la de dispositivos de usuario "
   ]
  },
  {
   "cell_type": "markdown",
   "metadata": {},
   "source": [
    "In[119]:"
   ]
  },
  {
   "cell_type": "code",
   "execution_count": null,
   "metadata": {},
   "outputs": [],
   "source": [
    "datos_dev= datos_dev.rename(columns={'mac' : 'usuarios.macRed','ap_group' : 'usuarios.apGroup'})"
   ]
  },
  {
   "cell_type": "markdown",
   "metadata": {},
   "source": [
    "## Lectura de datos ohmyfi-detalleconexiones"
   ]
  },
  {
   "cell_type": "markdown",
   "metadata": {},
   "source": [
    "Los datos que se toman son:<br>\n",
    "* fechahora (de cada conexiÃ³n). fecha_control es lo mismo pero con el intervalo de 10 minutos<br>\n",
    "* InformaciÃ³n del centro: lugar, lugar_cod.<br>\n",
    "* InformaciÃ³n del dispositivo de usuario: mac_usuario, dispositivo, sistema_operativo.<br>\n",
    "* InformaciÃ³n de usuario: tipodoc y documento"
   ]
  },
  {
   "cell_type": "markdown",
   "metadata": {},
   "source": [
    "In[120]:"
   ]
  },
  {
   "cell_type": "code",
   "execution_count": null,
   "metadata": {},
   "outputs": [],
   "source": [
    "def trae_conexiones(fecha_ini,fecha_fin):\n",
    "    total_docs = 5000000\n",
    "    response = es.search(\n",
    "        index= parametros.ohmyfi_d_c_index,\n",
    "        body={\n",
    "                \"_source\": [\"fechahora\",\"fecha_control\",\"lugar\",\"lugar_cod\",\"mac_usuario\", \"dispositivo\"\n",
    "                            ,\"sistema_operativo\",'tipodoc','documento']\n",
    "                , \"query\": {\n",
    "                  \"range\": {\n",
    "                    \"fechahora\": {\n",
    "                      \"gte\": fecha_ini,\n",
    "                      \"lt\": fecha_fin\n",
    "                    }\n",
    "                  }\n",
    "              }\n",
    "        },\n",
    "        size=total_docs\n",
    "    )\n",
    "    elastic_docs = response[\"hits\"][\"hits\"]\n",
    "#     fields = {}\n",
    "#     for num, doc in enumerate(elastic_docs):\n",
    "#         source_data = doc[\"_source\"]\n",
    "#         for key, val in source_data.items():\n",
    "#             try:\n",
    "#                 fields[key] = np.append(fields[key], val)\n",
    "#             except KeyError:\n",
    "#                 fields[key] = np.array([val])\n",
    "\n",
    "#     return pd.DataFrame(dict([ (k,pd.Series(v)) for k,v in fields.items() ])) \n",
    "\n",
    "    return pd.DataFrame([x[\"_source\"] for x in elastic_docs])"
   ]
  },
  {
   "cell_type": "markdown",
   "metadata": {},
   "source": [
    "### Lanzando ejecuciÃ³n de consulta"
   ]
  },
  {
   "cell_type": "markdown",
   "metadata": {},
   "source": [
    "* Se calcula rango en base a la fecha de control. Para este caso es de 10 minutos.<br>\n",
    "* Se ejecuta la funciÃ³n de consulta con el rango de fechas.<br>\n",
    "* Si no retorna datos se incrementa el rango y se ejecuta nuevamente. Este proceso se repite hasta conseguir datos o hasta que el rango de ejecuciÃ³n alcance la fecha y hora actual.<br>\n"
   ]
  },
  {
   "cell_type": "markdown",
   "metadata": {},
   "source": [
    "In[121]:"
   ]
  },
  {
   "cell_type": "code",
   "execution_count": null,
   "metadata": {},
   "outputs": [],
   "source": [
    "fecha_max_mintic = fecha_ejecucion\n",
    "fecha_tope_mintic = (datetime.strptime(fecha_max_mintic, '%Y-%m-%d %H:%M:%S')+timedelta(days=1)-timedelta(seconds=1)).strftime(\"%Y-%m-%d %H:%M:%S\")\n",
    "datos_det_conex = trae_conexiones(fecha_max_mintic,fecha_tope_mintic)\n",
    "\n",
    "if datos_det_conex is None or datos_det_conex.empty:\n",
    "    while (datos_det_conex is None or datos_det_conex.empty) and ((datetime.strptime(fecha_max_mintic[0:10], '%Y-%m-%d').strftime(\"%Y-%m-%d %H:%M:%S\")) < str(now.strftime(\"%Y-%m-%d %H:%M:%S\"))):\n",
    "        fecha_max_mintic = (datetime.strptime(fecha_max_mintic, '%Y-%m-%d %H:%M:%S')+timedelta(days=1)).strftime(\"%Y-%m-%d %H:%M:%S\")\n",
    "        fecha_tope_mintic = (datetime.strptime(fecha_tope_mintic, '%Y-%m-%d %H:%M:%S')+timedelta(days=1)).strftime(\"%Y-%m-%d %H:%M:%S\")\n",
    "        datos_det_conex = trae_conexiones(fecha_max_mintic,fecha_tope_mintic)\n",
    "else:\n",
    "    pass"
   ]
  },
  {
   "cell_type": "markdown",
   "metadata": {},
   "source": [
    "In[122]:"
   ]
  },
  {
   "cell_type": "code",
   "execution_count": null,
   "metadata": {},
   "outputs": [],
   "source": [
    "datos_det_conex['lugar_cod'] = datos_det_conex['lugar_cod'].str.strip()"
   ]
  },
  {
   "cell_type": "markdown",
   "metadata": {},
   "source": [
    "In[123]:"
   ]
  },
  {
   "cell_type": "code",
   "execution_count": null,
   "metadata": {},
   "outputs": [],
   "source": [
    "datos_det_conex['fecha'] = datos_det_conex['fecha_control'].str.split(\" \", n = 1, expand = True)[0]\n",
    "datos_det_conex.drop_duplicates(subset=[\"fecha_control\",\"lugar\",\"lugar_cod\",\"mac_usuario\", \"dispositivo\",\"sistema_operativo\",'tipodoc','documento'],inplace=True)"
   ]
  },
  {
   "cell_type": "markdown",
   "metadata": {},
   "source": [
    "In[124]:"
   ]
  },
  {
   "cell_type": "code",
   "execution_count": null,
   "metadata": {},
   "outputs": [],
   "source": [
    "datos_det_conex = datos_det_conex.rename(columns={'lugar_cod' : 'site_id'\n",
    "                                                   ,'fechahora':'usuarios.fechaConexionUsuarios'\n",
    "                                                   ,'dispositivo': 'usuarios.tipoDispositivoUsuarios'\n",
    "                                                   , 'sistema_operativo': 'usuarios.sistemaOperativoUsuarios'})"
   ]
  },
  {
   "cell_type": "markdown",
   "metadata": {},
   "source": [
    "Se corrigen valores errados de site_id en detalle conexiones"
   ]
  },
  {
   "cell_type": "markdown",
   "metadata": {},
   "source": [
    "In[125]:"
   ]
  },
  {
   "cell_type": "code",
   "execution_count": null,
   "metadata": {},
   "outputs": [],
   "source": [
    "def traeSesiones(fecha_max,fecha_tope):\n",
    "    total_docs = 500000\n",
    "    response = es.search(\n",
    "        index= parametros.ohmyfi_consumos_index,\n",
    "        body={\n",
    "                  \"_source\": [\"lugar_cod\", \"tiempo_sesion_minutos\",\"mac_ap\",\"fecha_inicio\"]\n",
    "                , \"query\": {\n",
    "                      \"range\": {\n",
    "                            \"fecha_inicio\": {\n",
    "                            \"gte\": fecha_max,\n",
    "                            \"lt\": fecha_tope\n",
    "                            }\n",
    "                        }\n",
    "                  }\n",
    "        },\n",
    "        size=total_docs\n",
    "    )\n",
    "    elastic_docs = response[\"hits\"][\"hits\"]\n",
    "#     fields = {}\n",
    "#     for num, doc in enumerate(elastic_docs):\n",
    "#         source_data = doc[\"_source\"]\n",
    "#         for key, val in source_data.items():\n",
    "#             try:\n",
    "#                 fields[key] = np.append(fields[key], val)\n",
    "#             except KeyError:\n",
    "#                 fields[key] = np.array([val])\n",
    "\n",
    "#     return pd.DataFrame(dict([ (k,pd.Series(v)) for k,v in fields.items() ])) \n",
    "\n",
    "    return pd.DataFrame([x[\"_source\"] for x in elastic_docs])"
   ]
  },
  {
   "cell_type": "markdown",
   "metadata": {},
   "source": [
    "In[126]:"
   ]
  },
  {
   "cell_type": "code",
   "execution_count": null,
   "metadata": {},
   "outputs": [],
   "source": [
    "def traeRadio(fecha_max,fecha_tope):\n",
    "    ttotal_docs = 100000\n",
    "    response = es.search(\n",
    "        index= 'all-'+parametros.cambium_d_c_index,\n",
    "        body={\n",
    "            \"_source\": ['mac', 'ap_mac', 'radio.band', 'radio.rx_bytes', 'radio.tx_bytes'\n",
    "                  ,'fecha_control']\n",
    "              , \"query\": {\n",
    "                  \"range\": {\n",
    "                    \"fecha_control\": {\n",
    "                      \"gte\": fecha_max,\n",
    "                      \"lt\": fecha_tope\n",
    "                      #\"gte\": \"2021-05-26 15:00:00\",\n",
    "                      #\"lt\": \"2021-05-26 15:10:00\"  \n",
    "                    }\n",
    "                  }\n",
    "              }\n",
    "        },\n",
    "        size=total_docs\n",
    "    )\n",
    "    elastic_docs = response[\"hits\"][\"hits\"]\n",
    "    fields = {}\n",
    "    for num, doc in enumerate(elastic_docs):\n",
    "        source_data = doc[\"_source\"]\n",
    "        for key, val in source_data.items():\n",
    "            try:\n",
    "                fields[key] = np.append(fields[key], val)\n",
    "            except KeyError:\n",
    "                fields[key] = np.array([val])\n",
    "    return pd.DataFrame(dict([ (k,pd.Series(v)) for k,v in fields.items() ]))"
   ]
  },
  {
   "cell_type": "markdown",
   "metadata": {},
   "source": [
    "### Se lee la informaciÃ³n de cambium device client"
   ]
  },
  {
   "cell_type": "markdown",
   "metadata": {},
   "source": [
    "Esta lectura se usa para identificar: <br>\n",
    "* Lecturas de consumo por dispositivo (radios rx y tx)<br>\n",
    "* Fabricante del dispositivo<br>\n",
    "* la mac del ap que luego se usa para identificar el ap group(Indoor/Outdoor)"
   ]
  },
  {
   "cell_type": "markdown",
   "metadata": {},
   "source": [
    "In[127]:"
   ]
  },
  {
   "cell_type": "code",
   "execution_count": null,
   "metadata": {},
   "outputs": [],
   "source": [
    "t1=time.time()\n",
    "\n",
    "total_docs = 30000000\n",
    "response = es.search(\n",
    "    index= parametros.cambium_d_c_index,\n",
    "    body={\n",
    "            \"_source\": [\"mac\",\"ap_mac\", 'manufacturer','name',\"radio.band\",'radio.rx_bytes','radio.tx_bytes'],\n",
    "              \"query\": {\n",
    "                \"bool\": {\n",
    "                  \"filter\": [\n",
    "                  {\n",
    "                    \"exists\": {\n",
    "                      \"field\":\"mac\"\n",
    "                    }\n",
    "                  }\n",
    "                  ]\n",
    "                }\n",
    "              }\n",
    "    },\n",
    "    size=total_docs\n",
    ")\n",
    "elastic_docs = response[\"hits\"][\"hits\"]\n",
    "# fields = {}\n",
    "# for num, doc in enumerate(elastic_docs):\n",
    "#     source_data = doc[\"_source\"]\n",
    "#     for key, val in source_data.items():\n",
    "#         try:\n",
    "#             fields[key] = np.append(fields[key], val)\n",
    "#         except KeyError:\n",
    "#             fields[key] = np.array([val])\n",
    "\n",
    "# datos_dev_clients = pd.DataFrame(dict([ (k,pd.Series(v)) for k,v in fields.items() ]))\n",
    "\n",
    "datos_dev_clients = pd.DataFrame([x[\"_source\"] for x in elastic_docs])\n",
    "\n",
    "t2=time.time()"
   ]
  },
  {
   "cell_type": "markdown",
   "metadata": {},
   "source": [
    "* se cruza por mac_usuario<br>\n",
    "* Los merge usan left para evitar perdida de datos en cruce con cambium-devicedevices. Aquellos datos que no cruzan se les marca como no identificados. En condiciones ideales, no deberÃ­a presentarse ausencia de informaciÃ³n<br>\n",
    "* Solo se toma lo que cruza con INNER<br>\n",
    "* se cambia el fabricante [Local MAC]<br>\n",
    "* se cambian lo nulos"
   ]
  },
  {
   "cell_type": "markdown",
   "metadata": {},
   "source": [
    "In[128]:"
   ]
  },
  {
   "cell_type": "code",
   "execution_count": null,
   "metadata": {},
   "outputs": [],
   "source": [
    "datos_dev_clients.drop_duplicates(inplace=True)"
   ]
  },
  {
   "cell_type": "markdown",
   "metadata": {},
   "source": [
    "In[129]:"
   ]
  },
  {
   "cell_type": "code",
   "execution_count": null,
   "metadata": {},
   "outputs": [],
   "source": [
    "try:\n",
    "    datos_dev_clients.drop_duplicates(inplace=True)\n",
    "    datos_dev_clients = datos_dev_clients.rename(columns={'ap_mac' : 'usuarios.macRed','mac' : 'mac_usuario'})\n",
    "    datos_dev_clients['manufacturer'] = datos_dev_clients['manufacturer'].replace(\"[Local MAC]\", \"No identificado\")\n",
    "    datos_dev_clients.fillna({'manufacturer':'No identificado'},inplace=True)\n",
    "    datos_det_conex = pd.merge(datos_det_conex,  datos_dev_clients, on='mac_usuario',how='left')\n",
    "    datos_det_conex = pd.merge(datos_det_conex,datos_dev[['usuarios.macRed','usuarios.apGroup']],on='usuarios.macRed', how='left')\n",
    "    datos_det_conex.fillna({'usuarios.tipoDispositivoUsuarios':'No identificado'\n",
    "                       ,'usuarios.sistemaOperativoUsuarios':'No identificado'\n",
    "                       ,'manufacturer':'No identificado'\n",
    "                       ,'radio.band':'No identificado'\n",
    "                       },inplace=True)\n",
    "except:\n",
    "    pass"
   ]
  },
  {
   "cell_type": "markdown",
   "metadata": {},
   "source": [
    "## Calculando totales por dispositivos"
   ]
  },
  {
   "cell_type": "markdown",
   "metadata": {},
   "source": [
    "la lista use_these_keys se usa para referenciar cuales campos del dataframe irÃ¡n al indice final. si los datos no se declaran en este, no se insertarÃ¡n"
   ]
  },
  {
   "cell_type": "markdown",
   "metadata": {},
   "source": [
    "In[130]:"
   ]
  },
  {
   "cell_type": "code",
   "execution_count": null,
   "metadata": {},
   "outputs": [],
   "source": [
    "use_these_keys = [ 'usuarios.tablero11.siteID'\n",
    "                  , 'usuarios.tablero11.nomCentroDigital'\n",
    "                  , 'usuarios.tablero11.nombreDepartamento'\n",
    "                  , 'usuarios.tablero11.nombreMunicipio'\n",
    "                  , 'usuarios.tablero11.idBeneficiario'\n",
    "                  , 'usuarios.tablero11.location'\n",
    "                  , 'usuarios.tablero11.fechaControl'\n",
    "                  , 'usuarios.tablero11.fecha'\n",
    "                  , 'usuarios.tablero11.anyo'\n",
    "                  , 'usuarios.tablero11.mes'\n",
    "                  , '@timestamp']\n",
    "\n",
    "def doc_generator(df,use_these_keys):\n",
    "    df_iter = df.iterrows()\n",
    "    for index, document in df_iter:\n",
    "        yield {\n",
    "                \"_index\": indice, \n",
    "                \"_id\": f\"{ 'totalesDispositivos-' + str(document['usuarios.tablero11siteID']) + '-' + str(document['usuarios.fechaControl'])+ '-' + str(document['usuarios.tablero11.fechaControl'])+'-'+str(random.randrange(10000))}\",\n",
    "                \"_source\": filterKeys(document,use_these_keys),\n",
    "            }"
   ]
  },
  {
   "cell_type": "markdown",
   "metadata": {},
   "source": [
    "Se agrupa por:<br>\n",
    "* Sistema operativo<br>\n",
    "* Tipo dispositivo<br>\n",
    "* Marca del terminal<br>\n",
    "* TecnologÃ­a terminal<br>\n",
    "<br>\n",
    "Se cuentan las mac de usuario para cada site id y fecha control"
   ]
  },
  {
   "cell_type": "markdown",
   "metadata": {},
   "source": [
    "In[131]:"
   ]
  },
  {
   "cell_type": "code",
   "execution_count": null,
   "metadata": {},
   "outputs": [],
   "source": [
    "def cambioVariable(df):\n",
    "    df = df.rename(columns={'siteID':'usuarios.tablero11.siteID'\n",
    "                        ,'usuarios.siteID': 'usuarios.tablero11.siteID'\n",
    "                        ,'usuarios.tablero11siteID':'usuarios.tablero11.siteID'\n",
    "                        ,'fechaControl':'usuarios.tablero11.fechaControl'\n",
    "                        ,'usuarios.fechaControl':'usuarios.tablero11.fechaControl'\n",
    "                        ,'usuarios.tablero11fechaControl': 'usuarios.tablero11.fechaControl'\n",
    "                        ,'nomCentroDigital':'usuarios.tablero11.nomCentroDigital'\n",
    "                        ,'usuarios.nomCentroDigital':'usuarios.tablero11.nomCentroDigital'\n",
    "                        ,'usuarios.tablero11nomCentroDigital':'usuarios.tablero11.nomCentroDigital'\n",
    "                        ,'localidad':'usuarios.tablero11.localidad'\n",
    "                        ,'usuarios.localidad':'usuarios.tablero11.localidad'\n",
    "                        ,'usuarios.tablero11localidad':'usuarios.tablero11.localidad'\n",
    "                        ,'nombreDepartamento':'usuarios.tablero11.nombreDepartamento'\n",
    "                        ,'usuarios.nombreDepartamento':'usuarios.tablero11.nombreDepartamento'\n",
    "                        ,'usuarios.tablero11nombreDepartamento':'usuarios.tablero11.nombreDepartamento'\n",
    "                        ,'nombreMunicipio':'usuarios.tablero11.nombreMunicipio'\n",
    "                        ,'usuarios.nombreMunicipio':'usuarios.tablero11.nombreMunicipio'\n",
    "                        ,'usuarios.tablero11nombreMunicipio':'usuarios.tablero11.nombreMunicipio'\n",
    "                        ,'idBeneficiario':'usuarios.tablero11.idBeneficiario'\n",
    "                        ,'usuarios.idBeneficiario':'usuarios.tablero11.idBeneficiario'\n",
    "                        ,'usuarios.tablero11idBeneficiario':'usuarios.tablero11.idBeneficiario'\n",
    "                        ,'apGroup':'usuarios.tablero11.apGroup'\n",
    "                        ,'usuarios.apGroup':'usuarios.tablero11.apGroup'\n",
    "                        ,'usuarios.tablero11apGroup':'usuarios.tablero11.apGroup'\n",
    "                        ,'location':'usuarios.tablero11.location'\n",
    "                        ,'usuarios.location':'usuarios.tablero11.location'\n",
    "                        ,'usuarios.tablero11location':'usuarios.tablero11.location'\n",
    "                        ,'fecha':'usuarios.tablero11.fecha'\n",
    "                        ,'usuarios.fecha':'usuarios.tablero11.fecha'\n",
    "                        ,'usuarios.tablero11fecha':'usuarios.tablero11.fecha'\n",
    "                        ,'anyo':'usuarios.tablero11.anyo'\n",
    "                        ,'usuarios.anyo':'usuarios.tablero11.anyo'\n",
    "                        ,'usuarios.tablero11anyo':'usuarios.tablero11.anyo'\n",
    "                        ,'mes':'usuarios.tablero11.mes'\n",
    "                        ,'usuarios.mes':'usuarios.tablero11.mes'\n",
    "                        ,'usuarios.tablero11mes':'usuarios.tablero11.mes'\n",
    "                        ,'macRed':'usuarios.tablero11.macRed'\n",
    "                        ,'usuarios.macRed':'usuarios.tablero11.macRed'\n",
    "                        ,'usuarios.tablero11macRed':'usuarios.tablero11.macRed'\n",
    "                        ,'usuariosConectados':'usuarios.tablero11.usuariosConectados'\n",
    "                        ,'usuarios.usuariosConectados':'usuarios.tablero11.usuariosConectados'\n",
    "                        ,'usuarios.tablero11usuariosConectados':'usuarios.tablero11.usuariosConectados'\n",
    "                        ,'sesiones_Usuarios':'usuarios.tablero11.sesiones_Usuarios'\n",
    "                        ,'usuarios.sesiones_Usuarios':'usuarios.tablero11.sesiones_Usuarios'\n",
    "                        ,'usuarios.tablero11sesiones_Usuarios':'usuarios.tablero11.sesiones_Usuarios'\n",
    "                        ,'consumoUsuarios':'usuarios.tablero11.consumoUsuarios'\n",
    "                        ,'usuarios.consumoUsuarios':'usuarios.tablero11.consumoUsuarios'\n",
    "                        ,'usuarios.tablero11consumoUsuarios':'usuarios.tablero11.consumoUsuarios'\n",
    "                        ,'consumoUsuariosDescarga_aux':'usuarios.tablero11.consumoUsuariosDescarga_aux'\n",
    "                        ,'usuarios.consumoUsuariosDescarga_aux':'usuarios.tablero11.consumoUsuariosDescarga_aux'\n",
    "                        ,'usuarios.tablero11consumoUsuariosDescarga_aux':'usuarios.tablero11.consumoUsuariosDescarga_aux'\n",
    "                        ,'consumoUsuariosCarga_aux':'usuarios.tablero11.consumoUsuariosCarga_aux'\n",
    "                        ,'usuarios.consumoUsuariosCarga_aux':'usuarios.tablero11.consumoUsuariosCarga_aux'\n",
    "                        ,'usuarios.tablero11consumoUsuariosCarga_aux':'usuarios.tablero11.consumoUsuariosCarga_aux'\n",
    "                        ,'consumoUsuariosDescarga':'usuarios.tablero11.consumoUsuariosDescarga'\n",
    "                        ,'usuarios.consumoUsuariosDescarga':'usuarios.tablero11.consumoUsuariosDescarga'\n",
    "                        ,'usuarios.tablero11consumoUsuariosDescarga':'usuarios.tablero11.consumoUsuariosDescarga'\n",
    "                        ,'consumoUsuariosCarga': 'usuarios.tablero11.consumoUsuariosCarga'\n",
    "                        ,'usuarios.tablero11consumoUsuariosCarga': 'usuarios.tablero11.consumoUsuariosCarga'\n",
    "                       }\n",
    "              )\n",
    "    \n",
    "    df_vacio = pd.DataFrame(index=df.index)\n",
    "    \n",
    "    col_select= ['usuarios.tablero11.siteID'\n",
    "                 ,'usuarios.tablero11.nomCentroDigital'\n",
    "                 , 'usuarios.tablero11.localidad'\n",
    "                 , 'usuarios.tablero11.nombreDepartamento'\n",
    "                 , 'usuarios.tablero11.nombreMunicipio'\n",
    "                 , 'usuarios.tablero11.idBeneficiario'\n",
    "                 , 'usuarios.tablero11.location'\n",
    "                 , 'usuarios.tablero11.sesiones_Usuarios'\n",
    "                 , 'usuarios.tablero11.usuariosConectados'\n",
    "                 , 'usuarios.tablero11.consumoUsuarios'\n",
    "                 , 'usuarios.tablero11.consumoUsuariosDescarga_aux'\n",
    "                 , 'usuarios.tablero11.consumoUsuariosCarga_aux'\n",
    "                 , 'usuarios.tablero11.consumoUsuariosDescarga'\n",
    "                 , 'usuarios.tablero11.consumoUsuariosCarga'\n",
    "                 , 'usuarios.tablero11.apGroup'\n",
    "                 , 'usuarios.tablero11.fechaControl'\n",
    "                 , 'usuarios.tablero11.fecha'\n",
    "                 , 'usuarios.tablero11.anyo'\n",
    "                 , 'usuarios.tablero11.mes'\n",
    "                 , 'usuarios.tablero11.macRed'\n",
    "                 , '@timestamp']\n",
    "    \n",
    "    for c in col_select:\n",
    "        try:\n",
    "            df_vacio=pd.concat([df_vacio,df[c]],axis=1)\n",
    "        except:\n",
    "            pass\n",
    "    \n",
    "#     print(df.columns)\n",
    "    \n",
    "    df_vacio=df_vacio.iloc[:,~df_vacio.columns.duplicated()]\n",
    "    return df_vacio\n",
    "    \n",
    "#     df= df[['usuarios.tablero11.siteID','usuarios.tablero11.fechaControl','usuarios.tablero11.nomCentroDigital',\\\n",
    "#            'usuarios.tablero11.localidad','usuarios.tablero11.nombreDepartamento','usuarios.tablero11.nombreMunicipio', \\\n",
    "#           'usuarios.tablero11idBeneficiario','usuarios.tablero11.apGroup','usuarios.tablero11.location', \\\n",
    "#           'usuarios.tablero11.fecha','usuarios.tablero11.anyo','usuarios.tablero11.mes','usuarios.tablero11.macRed' \\\n",
    "#           'usuarios.tablero11.usuariosConectados','usuarios.tablero11.sesiones_Usuarios','usuarios.tablero11.consumoUsuarios' \\\n",
    "#           'usuarios.tablero11.consumoUsuariosDescarga_aux','usuarios.tablero11.consumoUsuariosCarga_aux',\\\n",
    "#            'usuarios.tablero11.consumoUsuariosDescarga','usuarios.tablero11.consumoUsuariosCarga','@timestamp']]\n",
    "    \n",
    "#     return df"
   ]
  },
  {
   "cell_type": "markdown",
   "metadata": {},
   "source": [
    "In[132]:"
   ]
  },
  {
   "cell_type": "markdown",
   "metadata": {},
   "source": [
    "o se esta utilizando campo relacionado con los dispositivos en el tablero 11..."
   ]
  },
  {
   "cell_type": "code",
   "execution_count": null,
   "metadata": {},
   "outputs": [],
   "source": [
    "try:\n",
    "    totalesDispositivos = datos_det_conex[[\"fecha_control\",\"site_id\"\n",
    "                                 ,\"usuarios.sistemaOperativoUsuarios\"\n",
    "                                 ,'usuarios.tipoDispositivoUsuarios'\n",
    "                                 ,'manufacturer'\n",
    "                                 ,'radio.band'\n",
    "                                 ,\"mac_usuario\"]].groupby([\"fecha_control\",\"site_id\"\n",
    "                                                     ,\"usuarios.sistemaOperativoUsuarios\"\n",
    "                                                     ,'usuarios.tipoDispositivoUsuarios'\n",
    "                                                     ,'manufacturer'\n",
    "                                                     ,'radio.band']).agg(['count']).reset_index()\n",
    "    ##si se quiere contar ocurrencias unicas se debe usar en lugar del agg: ['mac_usuario'].nunique().reset_index()\n",
    "    totalesDispositivos.columns = totalesDispositivos.columns.droplevel(1)\n",
    "    totalesDispositivos= totalesDispositivos.rename(columns={'mac_usuario' : 'usuarios.totales.dispositivos'\n",
    "                                                            ,'fecha_control' : 'usuarios.fechaControl'\n",
    "                                                            ,'manufacturer' : 'usuarios.marcaTerminal'\n",
    "                                                            ,'radio.band' : 'usuarios.tecnologiaTerminal'\n",
    "                                                            })\n",
    "    totalesDispositivos = pd.merge(totalesDispositivos, datos_semilla, on='site_id',how='inner')\n",
    "    totalesDispositivos[\"usuarios.fecha\"] = totalesDispositivos[\"usuarios.fechaControl\"].str.split(\" \", n = 1, expand = True)[0]\n",
    "    totalesDispositivos[\"usuarios.anyo\"] = totalesDispositivos[\"usuarios.fecha\"].str[0:4]\n",
    "    totalesDispositivos[\"usuarios.mes\"] = totalesDispositivos[\"usuarios.fecha\"].str[5:7]\n",
    "    totalesDispositivos[\"usuarios.dia\"] = totalesDispositivos[\"usuarios.fecha\"].str[8:10]\n",
    "    totalesDispositivos[\"usuarios.hora\"] = totalesDispositivos[\"usuarios.fechaControl\"].str.split(\" \", n = 1, expand = True)[1].str.split(\":\", n = 2, expand = True)[0]\n",
    "    totalesDispositivos[\"usuarios.minuto\"] = totalesDispositivos[\"usuarios.fechaControl\"].str.split(\" \", n = 1, expand = True)[1].str.split(\":\", n = 2, expand = True)[1]\n",
    "    totalesDispositivos= totalesDispositivos.rename(columns={'site_id' : 'usuarios.siteID'})\n",
    "    totalesDispositivos['nombreDepartamento'] = totalesDispositivos['usuarios.nombreDepartamento']\n",
    "    totalesDispositivos['nombreMunicipio'] = totalesDispositivos['usuarios.nombreMunicipio']\n",
    "    totalesDispositivos['idBeneficiario'] = totalesDispositivos['usuarios.idBeneficiario']\n",
    "    totalesDispositivos['fecha'] = totalesDispositivos['usuarios.fecha']\n",
    "    totalesDispositivos['anyo'] = totalesDispositivos['usuarios.anyo']\n",
    "    totalesDispositivos['mes'] = totalesDispositivos['usuarios.mes']\n",
    "    totalesDispositivos['dia'] = totalesDispositivos['usuarios.dia']\n",
    "    totalesDispositivos['@timestamp'] = now.isoformat()\n",
    "    \n",
    "    #Se comenta escritura en el indice porque no se necesita esa estructura\n",
    "    \n",
    "    totalesDispositivos = cambioVariable(totalesDispositivos)\n",
    "    \n",
    "   \n",
    "\n",
    "    #salida = helpers.bulk(es, doc_generator(totalesDispositivos))\n",
    "\n",
    "except:\n",
    "    pass"
   ]
  },
  {
   "cell_type": "markdown",
   "metadata": {},
   "source": [
    "# Insertando usuarios conectados al indice principal"
   ]
  },
  {
   "cell_type": "markdown",
   "metadata": {},
   "source": [
    "* Se calcula cantidad de sesiones por sitio con detalle conexiones, pero contando la ocurrencia unica de documento<br>\n",
    "* Se calcula la cantidad de conexiones. Se agrupa por el campo usuarios.macRed(el cual corresponde al AP) y fecha_control. Se cuenta las ocurrencias de mac_usuario. Luego al cruzar con flujo principal, si el dato es nulo para ese momento, se debe colocar en 0."
   ]
  },
  {
   "cell_type": "markdown",
   "metadata": {},
   "source": [
    "In[133]:"
   ]
  },
  {
   "cell_type": "code",
   "execution_count": null,
   "metadata": {},
   "outputs": [],
   "source": [
    "fecha_max_mintic = fecha_ejecucion\n",
    "\n",
    "fecha_tope_mintic = (datetime.strptime(fecha_max_mintic, '%Y-%m-%d %H:%M:%S')+timedelta(days=1)-timedelta(seconds=1)).strftime(\"%Y-%m-%d %H:%M:%S\")\n",
    "datos_consumos = traeSesiones(fecha_max_mintic,fecha_tope_mintic)\n",
    "\n",
    "try:\n",
    "\n",
    "    if datos_consumos is None or datos_consumos.empty:\n",
    "        while (datos_consumos is None or datos_consumos.empty) and ((datetime.strptime(fecha_max_mintic[0:50], '%Y-%m-%d %H:%M:%S\"').strftime(\"%Y-%m-%d %H:%M:%S\")) < str(now.strftime(\"%Y-%m-%d %H:%M:%S\"))):\n",
    "            fecha_max_mintic = (datetime.strptime(fecha_max_mintic, '%Y-%m-%d %H:%M:%S')+timedelta(days=1)).strftime(\"%Y-%m-%d %H:%M:%S\")\n",
    "            fecha_tope_mintic = (datetime.strptime(fecha_tope_mintic, '%Y-%m-%d %H:%M:%S')+timedelta(days=1)).strftime(\"%Y-%m-%d %H:%M:%S\")\n",
    "            datos_consumos = traeSesiones(fecha_max_mintic,fecha_tope_mintic)\n",
    "    else:\n",
    "        pass\n",
    "except:\n",
    "    pass"
   ]
  },
  {
   "cell_type": "markdown",
   "metadata": {},
   "source": [
    "### Se lee el indice all-cambium-device-client"
   ]
  },
  {
   "cell_type": "markdown",
   "metadata": {},
   "source": [
    "* En este indice se guarda el detalle de los radio por fecha<br>\n",
    "* Detalle conexiones cruza con device clients. Con estos se calculan los totales por marca"
   ]
  },
  {
   "cell_type": "markdown",
   "metadata": {},
   "source": [
    "In[134]:"
   ]
  },
  {
   "cell_type": "code",
   "execution_count": null,
   "metadata": {},
   "outputs": [],
   "source": [
    "total_docs = 100000\n",
    "response = es.search(\n",
    "    index= 'all-'+parametros.cambium_d_c_index,\n",
    "    body={\n",
    "        \"_source\": ['mac', 'ap_mac', 'radio.band', 'radio.rx_bytes', 'radio.tx_bytes','fecha_control']\n",
    "          , \"query\": {\n",
    "              \"range\": {\n",
    "                \"fecha_control\": {\n",
    "                  \"gte\": fecha_max_mintic,\n",
    "                  \"lt\": fecha_tope_mintic\n",
    "                  #\"gte\": \"2021-05-26 15:00:00\",\n",
    "                  #\"lt\": \"2021-05-26 15:10:00\"  \n",
    "                }\n",
    "              }\n",
    "          }\n",
    "    },\n",
    "    size=total_docs\n",
    ")\n",
    "elastic_docs = response[\"hits\"][\"hits\"]\n",
    "# fields = {}\n",
    "# for num, doc in enumerate(elastic_docs):\n",
    "#     source_data = doc[\"_source\"]\n",
    "#     for key, val in source_data.items():\n",
    "#         try:\n",
    "#             fields[key] = np.append(fields[key], val)\n",
    "#         except KeyError:\n",
    "#             fields[key] = np.array([val])\n",
    "\n",
    "# datos_radio = pd.DataFrame(dict([ (k,pd.Series(v)) for k,v in fields.items() ]))\n",
    "\n",
    "datos_radio = pd.DataFrame([x[\"_source\"] for x in elastic_docs])\n",
    "\n",
    "datos_performance = datos_radio"
   ]
  },
  {
   "cell_type": "markdown",
   "metadata": {},
   "source": [
    "In[135]:"
   ]
  },
  {
   "cell_type": "code",
   "execution_count": null,
   "metadata": {},
   "outputs": [],
   "source": [
    "if datos_performance is None or datos_performance.empty:\n",
    "    while (datos_performance is None or datos_performance.empty) and ((datetime.strptime(fecha_max_mintic[0:10], '%Y-%m-%d').strftime(\"%Y-%m-%d %H:%M:%S\")) < str(now.strftime(\"%Y-%m-%d %H:%M:%S\"))):\n",
    "        fecha_max_mintic = (datetime.strptime(fecha_max_mintic, '%Y-%m-%d %H:%M:%S')+timedelta(days=1)).strftime(\"%Y-%m-%d %H:%M:%S\")\n",
    "        fecha_tope_mintic = (datetime.strptime(fecha_tope_mintic, '%Y-%m-%d %H:%M:%S')+timedelta(days=1)).strftime(\"%Y-%m-%d %H:%M:%S\")\n",
    "        datos_performance = traeRadio(fecha_max_mintic,fecha_tope_mintic)\n",
    "else:\n",
    "    pass"
   ]
  },
  {
   "cell_type": "markdown",
   "metadata": {},
   "source": [
    "In[136]:"
   ]
  },
  {
   "cell_type": "code",
   "execution_count": null,
   "metadata": {},
   "outputs": [],
   "source": [
    "try:\n",
    "    datos_logins = datos_det_conex[['fecha_control', 'site_id', 'documento','usuarios.macRed']].groupby([\"fecha_control\",\"site_id\",\"usuarios.macRed\"])['documento'].nunique().reset_index()\n",
    "    datos_logins= datos_logins.rename(columns={'documento' : 'usuarios.sesiones_Usuarios'})\n",
    "    \n",
    "    ################# datos_performance #####################\n",
    "    datos_performance['fecha_control'] = datos_performance[\"fecha_control\"].str[0:-4] + '0:00'\n",
    "    datos_performance.replace('','0',inplace=True)\n",
    "    datos_performance.fillna({'radio.rx_bytes':0,'radio.tx_bytes':0},inplace=True)\n",
    "    datos_performance['radio.rx_bytes'] = datos_performance['radio.rx_bytes'].astype(float)\n",
    "    datos_performance['radio.tx_bytes'] = datos_performance['radio.tx_bytes'].astype(float)\n",
    "    \n",
    "    datos_performance = datos_performance.groupby(['ap_mac', 'fecha_control', 'mac', 'radio.band']).agg(['max']).reset_index()\n",
    "    datos_performance.columns = datos_performance.columns.droplevel(1)\n",
    "    datos_performance = datos_performance[['ap_mac'\n",
    "                                         , 'fecha_control'\n",
    "                                         , 'radio.rx_bytes'\n",
    "                                         , 'radio.tx_bytes']].groupby(['ap_mac'\n",
    "                                                                     , 'fecha_control']).agg(['sum']).reset_index()\n",
    "    datos_performance.columns = datos_performance.columns.droplevel(1)\n",
    "    datos_performance = datos_performance.rename(columns={'radio.rx_bytes': 'usuarios.consumoUsuariosDescarga_aux'\n",
    "                                                     , 'radio.tx_bytes':'usuarios.consumoUsuariosCarga_aux'})\n",
    "    \n",
    "    datos_performance['usuarios.consumoUsuariosDescarga'] = round((datos_performance['usuarios.consumoUsuariosDescarga_aux']/float(1<<30)),6)\n",
    "    datos_performance['usuarios.consumoUsuariosCarga'] = round((datos_performance['usuarios.consumoUsuariosCarga_aux']/float(1<<30)),6)\n",
    "    datos_performance['usuarios.consumoUsuarios'] = datos_performance['usuarios.consumoUsuariosDescarga'] + datos_performance['usuarios.consumoUsuariosCarga']\n",
    "    datos_performance['usuarios.consumoUsuarios'] = round(datos_performance['usuarios.consumoUsuarios'],6)\n",
    "    datos_performance = datos_performance.rename(columns={'ap_mac':'usuarios.macRed'})\n",
    "    \n",
    "    \n",
    "    datos_performance = pd.merge(datos_performance,datos_dev[['site_id','usuarios.macRed','usuarios.apGroup']],on='usuarios.macRed', how='left')\n",
    "    \n",
    "    aux_performance = pd.merge(datos_performance,  datos_semilla, on='site_id',how='inner')\n",
    "    aux_performance.fillna({'usuarios.consumoUsuariosDescarga':0,\n",
    "                              'usuarios.consumoUsuariosCarga':0,\n",
    "                              'usuarios.consumoUsuarios':0,\n",
    "                              'usuarios.apGroup':'No identificado'},inplace=True)\n",
    "    aux_performance = aux_performance.rename(columns={'fecha_control':'usuarios.fechaControl'\n",
    "                                                           ,'site_id' : 'usuarios.siteID'})\n",
    "    \n",
    "    aux_performance[\"usuarios.fecha\"] = aux_performance[\"usuarios.fechaControl\"].str.split(\" \", n = 1, expand = True)[0]\n",
    "    aux_performance[\"usuarios.anyo\"] = aux_performance[\"usuarios.fecha\"].str[0:4]\n",
    "    aux_performance[\"usuarios.mes\"] = aux_performance[\"usuarios.fecha\"].str[5:7]\n",
    "    aux_performance[\"usuarios.dia\"] = aux_performance[\"usuarios.fecha\"].str[8:10]\n",
    "    aux_performance[\"usuarios.hora\"] = aux_performance[\"usuarios.fechaControl\"].str.split(\" \", n = 1, expand = True)[1].str.split(\":\", n = 2, expand = True)[0]\n",
    "    aux_performance[\"usuarios.minuto\"] = aux_performance[\"usuarios.fechaControl\"].str.split(\" \", n = 1, expand = True)[1].str.split(\":\", n = 2, expand = True)[1]\n",
    "    \n",
    "    aux_performance['nombreDepartamento'] = aux_performance['usuarios.nombreDepartamento']\n",
    "    aux_performance['nombreMunicipio'] = aux_performance['usuarios.nombreMunicipio']\n",
    "    aux_performance['idBeneficiario'] = aux_performance['usuarios.idBeneficiario']\n",
    "    aux_performance['fecha'] = aux_performance['usuarios.fecha']\n",
    "    aux_performance['anyo'] = aux_performance['usuarios.anyo']\n",
    "    aux_performance['mes'] = aux_performance['usuarios.mes']\n",
    "    aux_performance['dia'] = aux_performance['usuarios.dia']\n",
    "    \n",
    "    \n",
    "    ##################\n",
    "    usuariosConectados = datos_det_conex[[\"fecha_control\",\"site_id\",\"usuarios.macRed\",\"mac_usuario\"]].groupby([\"fecha_control\",\"site_id\",\"usuarios.macRed\"]).agg(['count']).reset_index()\n",
    "    usuariosConectados.columns = usuariosConectados.columns.droplevel(1)\n",
    "    usuariosConectados= usuariosConectados.rename(columns={'mac_usuario' : 'usuarios.tablero11usuariosConectados'})\n",
    "    \n",
    "    ###################\n",
    "    usuariosConectados = pd.merge(usuariosConectados,datos_logins, on=[\"fecha_control\",\"site_id\",\"usuarios.macRed\"], how='inner')\n",
    "    \n",
    "    usuariosConectados= usuariosConectados.rename(columns={'usuarios.sesiones_Usuarios' : 'usuarios.tablero11sesiones_Usuarios'})\n",
    "    \n",
    "    ###################\n",
    "    usuariosConectados = pd.merge(datos_semilla,  usuariosConectados, on=['site_id'], how='inner')\n",
    "    \n",
    "   \n",
    "    #Al parecer no esta viniendo consumoUsuario....\n",
    "    \n",
    "    usuariosConectados.fillna({'usuarios.consumoUsuarios' : 0\n",
    "                              ,'usuarios.consumoUsuariosDescarga':0\n",
    "                              ,'usuarios.consumoUsuariosCarga':0},inplace=True)\n",
    "    \n",
    "    ####################\n",
    "    usuariosConectados = pd.merge(usuariosConectados,datos_dev[['usuarios.apGroup','usuarios.macRed']], on ='usuarios.macRed', how='left')\n",
    "    \n",
    "    usuariosConectados.fillna({'usuarios.apGroup':'No identificado'},inplace=True)\n",
    "    usuariosConectados['usuarios.tablero11usuariosConectados'] = usuariosConectados['usuarios.tablero11usuariosConectados'].astype(int)\n",
    "    usuariosConectados = usuariosConectados.rename(columns={'fecha_control':'usuarios.fechaControl'\n",
    "                                                           ,'site_id' : 'usuarios.siteID'})\n",
    "    \n",
    "    usuariosConectados[\"usuarios.fecha\"] = usuariosConectados[\"usuarios.fechaControl\"].str.split(\" \", n = 1, expand = True)[0]\n",
    "    usuariosConectados[\"usuarios.anyo\"] = usuariosConectados[\"usuarios.fecha\"].str[0:4]\n",
    "    usuariosConectados[\"usuarios.mes\"] = usuariosConectados[\"usuarios.fecha\"].str[5:7]\n",
    "    usuariosConectados[\"usuarios.dia\"] = usuariosConectados[\"usuarios.fecha\"].str[8:10]\n",
    "    usuariosConectados[\"usuarios.hora\"] = usuariosConectados[\"usuarios.fechaControl\"].str.split(\" \", n = 1, expand = True)[1].str.split(\":\", n = 2, expand = True)[0]\n",
    "    usuariosConectados[\"usuarios.minuto\"] = usuariosConectados[\"usuarios.fechaControl\"].str.split(\" \", n = 1, expand = True)[1].str.split(\":\", n = 2, expand = True)[1]\n",
    "    \n",
    "    usuariosConectados['nombreDepartamento'] = usuariosConectados['usuarios.nombreDepartamento']\n",
    "    usuariosConectados['nombreMunicipio'] = usuariosConectados['usuarios.nombreMunicipio']\n",
    "    usuariosConectados['idBeneficiario'] = usuariosConectados['usuarios.idBeneficiario']\n",
    "    usuariosConectados['fecha'] = usuariosConectados['usuarios.fecha']\n",
    "    usuariosConectados['anyo'] = usuariosConectados['usuarios.anyo']\n",
    "    usuariosConectados['mes'] = usuariosConectados['usuarios.mes']\n",
    "    usuariosConectados['dia'] = usuariosConectados['usuarios.dia']\n",
    "    \n",
    "    #####################\n",
    "    columnas_aux_performance=[ 'usuarios.fechaControl', 'usuarios.siteID',                               'usuarios.apGroup', 'usuarios.macRed',                               'usuarios.consumoUsuariosCarga_aux', 'usuarios.consumoUsuariosDescarga',                               'usuarios.consumoUsuariosCarga', 'usuarios.consumoUsuarios',                                 'usuarios.consumoUsuariosDescarga_aux']\n",
    "    columnas_merge = ['usuarios.fechaControl','usuarios.siteID','usuarios.apGroup','usuarios.macRed']\n",
    "    \n",
    "    usuariosConectados=pd.merge(usuariosConectados,aux_performance[columnas_aux_performance],on=columnas_merge, how='left')\n",
    "    \n",
    "    usuariosConectados = usuariosConectados.rename(columns=\n",
    "                                                   {'usuarios.consumoUsuariosCarga_aux':'usuarios.tablero11consumoUsuariosCarga_aux'\n",
    "                                                    ,'usuarios.consumoUsuariosDescarga_aux':'usuarios.tablero11consumoUsuariosDescarga_aux'\n",
    "                                                    ,'usuarios.consumoUsuariosCarga' : 'usuarios.tablero11consumoUsuariosCarga'\n",
    "                                                    ,'usuarios.consumoUsuariosDescarga':'usuarios.tablero11consumoUsuariosDescarga'\n",
    "                                                    ,'usuarios.consumoUsuarios':'usuarios.tablero11consumoUsuarios'\n",
    "                                                   })\n",
    "    \n",
    "except:\n",
    "    pass"
   ]
  },
  {
   "cell_type": "markdown",
   "metadata": {},
   "source": [
    "In[137]:"
   ]
  },
  {
   "cell_type": "code",
   "execution_count": null,
   "metadata": {},
   "outputs": [],
   "source": [
    "try:\n",
    "    use_these_keys = ['usuarios.tablero11.siteID'\n",
    "                      ,'usuarios.tablero11.nomCentroDigital'\n",
    "                      , 'usuarios.tablero11.localidad'\n",
    "                      , 'usuarios.tablero11.nombreDepartamento'\n",
    "                      , 'usuarios.tablero11.nombreMunicipio'\n",
    "                      , 'usuarios.tablero11.idBeneficiario'\n",
    "                      , 'usuarios.tablero11.location'\n",
    "                      , 'usuarios.tablero11.sesiones_Usuarios'\n",
    "                      , 'usuarios.tablero11.usuariosConectados'\n",
    "                      , 'usuarios.tablero11.consumoUsuarios'\n",
    "                      , 'usuarios.tablero11.consumoUsuariosDescarga_aux'\n",
    "                      , 'usuarios.tablero11.consumoUsuariosCarga_aux'\n",
    "                      , 'usuarios.tablero11.consumoUsuariosDescarga'\n",
    "                      , 'usuarios.tablero11.consumoUsuariosCarga'\n",
    "                      , 'usuarios.tablero11.apGroup'\n",
    "                      , 'usuarios.tablero11.fechaControl'\n",
    "                      , 'usuarios.tablero11.fecha'\n",
    "                      , 'usuarios.tablero11.anyo'\n",
    "                      , 'usuarios.tablero11.mes'\n",
    "                      , 'usuarios.tablero11.macRed'\n",
    "                      , '@timestamp']\n",
    "\n",
    "\n",
    "    usuariosConectados['@timestamp'] = now.isoformat()\n",
    "    \n",
    "    #Seleccionar campos del Tablero..\n",
    "    \n",
    "    #Cambio de variables en usuariosConectados...\n",
    "    \n",
    "    usuariosConectados = cambioVariable(usuariosConectados)\n",
    "    \n",
    "    \n",
    "    def doc_generator_consumo(df,use_these_keys):\n",
    "        df_iter = df.iterrows()\n",
    "        for index, document in df_iter:\n",
    "            yield {\n",
    "                    \"_index\": indice, \n",
    "                    \"_id\": f\"{ 'usuariosConectados-'+ str(document['usuarios.tablero11.siteID']) + str(document['usuarios.tablero11.macRed']) + '-' + str(document['usuarios.tablero11.fechaControl']) +'-'+ str(random.randrange(10000))}\",\n",
    "                    \"_source\": filterKeys(document,use_these_keys),\n",
    "                }\n",
    "\n",
    "    #Se comenta escritura en el indice porque no se necesita esa estructura#Se comenta escritura en el indice porque no se necesita esa estructura            }\n",
    "    \n",
    "#     usuariosConectados.fillna(\"\",inplace=True)\n",
    "\n",
    "    usuariosConectados.fillna({'usuarios.tablero11.sesiones_Usuarios':0\n",
    "                              , 'usuarios.tablero11.usuariosConectados':0\n",
    "                              , 'usuarios.tablero11.consumoUsuarios':0\n",
    "                              , 'usuarios.tablero11.consumoUsuariosDescarga_aux':0\n",
    "                              , 'usuarios.tablero11.consumoUsuariosCarga_aux':0\n",
    "                              , 'usuarios.tablero11.consumoUsuariosDescarga':0\n",
    "                              , 'usuarios.tablero11.consumoUsuariosCarga':0},inplace=True)\n",
    "    \n",
    "    usuariosConectados.fillna(\"\",inplace=True)\n",
    "    \n",
    "    salida = helpers.bulk(es, doc_generator_consumo(usuariosConectados,use_these_keys))\n",
    "    \n",
    "    print(\"Fecha: \", now,\"- Usuarios conectados insertados en indice principal:\",salida[0])\n",
    "    \n",
    "except Exception as e:  \n",
    "    \n",
    "    print(\"Fecha: \", now,\"- Ningun usuario conectado para insertar en indice principal:\")"
   ]
  },
  {
   "cell_type": "markdown",
   "metadata": {},
   "source": [
    "# Uso servicio de internet insertados en indice principal"
   ]
  },
  {
   "cell_type": "markdown",
   "metadata": {},
   "source": [
    "la lista use_these_keys se usa para referenciar cuales campos del dataframe irÃ¡n al indice final. si los datos no se declaran en este, no se insertarÃ¡n"
   ]
  },
  {
   "cell_type": "markdown",
   "metadata": {},
   "source": [
    "In[139]:"
   ]
  },
  {
   "cell_type": "markdown",
   "metadata": {},
   "source": [
    "use_these_keys = ['usuarios.siteID'<br>\n",
    "                  ,'usuarios.tablero11.nomCentroDigital'<br>\n",
    "                  , 'usuarios.tablero11.localidad'<br>\n",
    "                  , 'usuarios.tablero11.nombreDepartamento'<br>\n",
    "                  , 'usuarios.tablero11.nombreMunicipio'<br>\n",
    "                  , 'usuarios.tablero11.idBeneficiario'<br>\n",
    "                  , 'usuarios.tablero11.location'<br>\n",
    "#                   , 'usuarios.tablero11sesiones_Usuarios'<br>\n",
    "#                   , 'usuarios.tablero11consumoUsuarios'<br>\n",
    "                  , 'usuarios.tablero11.apGroup'<br>\n",
    "                  , 'usuarios.tablero11.fechaControl'<br>\n",
    "                  , 'usuarios.tablero11.fecha'<br>\n",
    "                  , 'usuarios.tablero11.anyo'<br>\n",
    "                  , 'usuarios.tablero11.mes'<br>\n",
    "                  , '@timestamp']"
   ]
  },
  {
   "cell_type": "markdown",
   "metadata": {},
   "source": [
    "def doc_generator(df,use_these_keys):<br>\n",
    "    df_iter = df.iterrows()<br>\n",
    "    for index, document in df_iter:<br>\n",
    "        yield {<br>\n",
    "                \"_index\": indice, <br>\n",
    "                \"_id\": f\"{ 'UsoServicio-' + str(document['usuarios.macRed']) + '-' + str(document['usuarios.detallesTecnologiasTerminales']) + '-' + str(document['usuarios.fechaControl'])}\",<br>\n",
    "                \"_source\": filterKeys(document,use_these_keys),<br>\n",
    "            }"
   ]
  },
  {
   "cell_type": "markdown",
   "metadata": {},
   "source": [
    "* se toma el maximo radio para cada mac de dispositivo final<br>\n",
    "* se suma agrupando por ap_mac, banda y fecha<br>\n",
    "* El resultado es un total para cada banda, fecha y ap_mac"
   ]
  },
  {
   "cell_type": "markdown",
   "metadata": {},
   "source": [
    "In[140]:"
   ]
  },
  {
   "cell_type": "markdown",
   "metadata": {},
   "source": [
    "O se utiliza informacion del uso del servicio de Internet por MAC address en el Tablero 11."
   ]
  },
  {
   "cell_type": "markdown",
   "metadata": {},
   "source": [
    "try:    <br>\n",
    "    datos_radio['fecha_control'] = datos_radio['fecha_control'].str[0:15]+'0:00'<br>\n",
    "    datos_radio = datos_radio.groupby(['ap_mac', 'fecha_control', 'mac', 'radio.band']).agg(['max']).reset_index()<br>\n",
    "    datos_radio.columns = datos_radio.columns.droplevel(1)<br>\n",
    "    datos_radio = datos_radio[['ap_mac', 'fecha_control', 'radio.band', 'radio.rx_bytes',<br>\n",
    "           'radio.tx_bytes']].groupby(['ap_mac', 'fecha_control', 'radio.band']).agg(['sum']).reset_index()<br>\n",
    "    datos_radio.columns = datos_radio.columns.droplevel(1)<br>\n",
    "    datos_radio = datos_radio.rename(columns={'ap_mac' : 'usuarios.macRed'})<br>\n",
    "    usoServicioInternetSitio = pd.merge(datos_radio,datos_dev[['usuarios.apGroup', 'site_id', 'usuarios.macRed']], on ='usuarios.macRed', how='inner')<br>\n",
    "    usoServicioInternetSitio.fillna({'radio.rx_bytes':0,'radio.tx_bytes':0},inplace=True)<br>\n",
    "    usoServicioInternetSitio.fillna({'usuarios.macRed':'','radio.band':'No identificado','usuarios.apGroup':'No identificado'},inplace=True)<br>\n",
    "    usoServicioInternetSitio['usuarios.usoServicioInternetSitio'] = usoServicioInternetSitio['radio.rx_bytes'].astype(float) + usoServicioInternetSitio['radio.tx_bytes'].astype(float)<br>\n",
    "    usoServicioInternetSitio = pd.merge(usoServicioInternetSitio,datos_semilla, on ='site_id', how='inner')<br>\n",
    "    usoServicioInternetSitio= usoServicioInternetSitio.rename(columns={'site_id' : 'usuarios.siteID'<br>\n",
    "                                                                    ,'radio.band' : 'usuarios.detallesTecnologiasTerminales'<br>\n",
    "                                                                    , 'fecha_control' : 'usuarios.fechaControl'})<br>\n",
    "    usoServicioInternetSitio['usuarios.usoServicioInternetSitio'] = round((usoServicioInternetSitio['usuarios.usoServicioInternetSitio']/float(1<<30)),6) <br>\n",
    "    usoServicioInternetSitio[\"usuarios.fecha\"] = usoServicioInternetSitio[\"usuarios.fechaControl\"].str.split(\" \", n = 1, expand = True)[0]<br>\n",
    "    usoServicioInternetSitio[\"usuarios.anyo\"] = usoServicioInternetSitio[\"usuarios.fecha\"].str[0:4]<br>\n",
    "    usoServicioInternetSitio[\"usuarios.mes\"] = usoServicioInternetSitio[\"usuarios.fecha\"].str[5:7]<br>\n",
    "    usoServicioInternetSitio[\"usuarios.dia\"] = usoServicioInternetSitio[\"usuarios.fecha\"].str[8:10]<br>\n",
    "    usoServicioInternetSitio[\"usuarios.hora\"] = usoServicioInternetSitio[\"usuarios.fechaControl\"].str.split(\" \", n = 1, expand = True)[1].str.split(\":\", n = 2, expand = True)[0]<br>\n",
    "    usoServicioInternetSitio[\"usuarios.minuto\"] = usoServicioInternetSitio[\"usuarios.fechaControl\"].str.split(\" \", n = 1, expand = True)[1].str.split(\":\", n = 2, expand = True)[1]"
   ]
  },
  {
   "cell_type": "code",
   "execution_count": null,
   "metadata": {},
   "outputs": [],
   "source": [
    "    \n",
    "#     usoServicioInternetSitio['nombreDepartamento'] = usoServicioInternetSitio['usuarios.nombreDepartamento']\n",
    "#     usoServicioInternetSitio['nombreMunicipio'] = usoServicioInternetSitio['usuarios.nombreMunicipio']\n",
    "#     usoServicioInternetSitio['idBeneficiario'] = usoServicioInternetSitio['usuarios.idBeneficiario']\n",
    "#     usoServicioInternetSitio['fecha'] = usoServicioInternetSitio['usuarios.fecha']\n",
    "#     usoServicioInternetSitio['anyo'] = usoServicioInternetSitio['usuarios.anyo']\n",
    "#     usoServicioInternetSitio['mes'] = usoServicioInternetSitio['usuarios.mes']\n",
    "#     usoServicioInternetSitio['dia'] = usoServicioInternetSitio['usuarios.dia']\n",
    "    \n",
    "#     usoServicioInternetSitio['@timestamp'] = now.isoformat()\n",
    "    \n",
    "#     #Cambio de variables utilizando los campos del Tablero...\n",
    "    \n",
    "#     usoServicioInternetSitio=cambioVariable(usoServicioInternetSitio)\n",
    "    \n",
    "#     #Se comenta escritura en el indice porque no se necesita esa estructura\n",
    "#     #salida = helpers.bulk(es, doc_generator(usoServicioInternetSitio))\n",
    "#     #print(\"Fecha: \", now,\"- Uso servicio y tecnologÃ­a terminal insertados en indice principal:\",salida[0])\n",
    "# except:\n",
    "#     print(\"Fecha: \", now,\"- Ningun uservicio/tecnologÃ­a terminal conectado para insertar en indice principal\")"
   ]
  },
  {
   "cell_type": "markdown",
   "metadata": {},
   "source": [
    "Se renombra fecha_control para cruzar"
   ]
  },
  {
   "cell_type": "markdown",
   "metadata": {},
   "source": [
    "## Totalizar la cantidad de dispositivos por usuario"
   ]
  },
  {
   "cell_type": "markdown",
   "metadata": {},
   "source": [
    "* Para contabilizar los dispositivos por usuario, se debe contar la cantidad de ocurrencias de mac_usuario dentro de detalle de conexiones, agrupando por tipo documento y documento. <br>\n",
    "* AÃºn cuando la mayoria de las fuentes referencia a mac_usuario, no se debe confundir a la hora de agrupar con los datos reales de usuario que en este caso serÃ­an el documento de identidad como campo de identificaciÃ³n"
   ]
  },
  {
   "cell_type": "markdown",
   "metadata": {},
   "source": [
    "In[141]:"
   ]
  },
  {
   "cell_type": "markdown",
   "metadata": {},
   "source": [
    "NO se utiliza campos de CONTEO DE DISPOSITIVOS.."
   ]
  },
  {
   "cell_type": "markdown",
   "metadata": {},
   "source": [
    "try:<br>\n",
    "    conteoDispositivos = datos_det_conex[['fecha_control','site_id', 'documento', 'tipodoc','fecha']].groupby(['fecha_control','site_id', 'documento', 'tipodoc']).agg(['count']).reset_index()<br>\n",
    "    conteoDispositivos.columns = conteoDispositivos.columns.droplevel(1)<br>\n",
    "    conteoDispositivos= conteoDispositivos.rename(columns={'fecha' : 'conteo'})<br>\n",
    "    conteoDispositivos = conteoDispositivos[['fecha_control','site_id','conteo']].groupby(['fecha_control','site_id']).agg(['sum']).reset_index()<br>\n",
    "    conteoDispositivos.columns = conteoDispositivos.columns.droplevel(1)<br>\n",
    "    conteoDispositivos= conteoDispositivos.rename(columns={'conteo' : 'usuarios.conteoDispositivos'})<br>\n",
    "    conteoDispositivos = pd.merge(conteoDispositivos, datos_semilla, on='site_id', how='inner')<br>\n",
    "    conteoDispositivos = conteoDispositivos.rename(columns={'fecha_control' : 'usuarios.fechaControl'})<br>\n",
    "    conteoDispositivos[\"usuarios.fecha\"] = conteoDispositivos[\"usuarios.fechaControl\"].str.split(\" \", n = 1, expand = True)[0]<br>\n",
    "    conteoDispositivos[\"usuarios.anyo\"] = conteoDispositivos[\"usuarios.fecha\"].str[0:4]<br>\n",
    "    conteoDispositivos[\"usuarios.mes\"] = conteoDispositivos[\"usuarios.fecha\"].str[5:7]<br>\n",
    "    conteoDispositivos[\"usuarios.dia\"] = conteoDispositivos[\"usuarios.fecha\"].str[8:10]<br>\n",
    "    conteoDispositivos[\"usuarios.hora\"] = conteoDispositivos[\"usuarios.fechaControl\"].str.split(\" \", n = 1, expand = True)[1].str.split(\":\", n = 2, expand = True)[0]<br>\n",
    "    conteoDispositivos[\"usuarios.minuto\"] = conteoDispositivos[\"usuarios.fechaControl\"].str.split(\" \", n = 1, expand = True)[1].str.split(\":\", n = 2, expand = True)[1]<br>\n",
    "    conteoDispositivos= conteoDispositivos.rename(columns={'site_id' : 'usuarios.siteID'})"
   ]
  },
  {
   "cell_type": "code",
   "execution_count": null,
   "metadata": {},
   "outputs": [],
   "source": [
    "    \n",
    "#     conteoDispositivos['nombreDepartamento'] = conteoDispositivos['usuarios.nombreDepartamento']\n",
    "#     conteoDispositivos['nombreMunicipio'] = conteoDispositivos['usuarios.nombreMunicipio']\n",
    "#     conteoDispositivos['idBeneficiario'] = conteoDispositivos['usuarios.idBeneficiario']\n",
    "#     conteoDispositivos['fecha'] = conteoDispositivos['usuarios.fecha']\n",
    "#     conteoDispositivos['anyo'] = conteoDispositivos['usuarios.anyo']\n",
    "#     conteoDispositivos['mes'] = conteoDispositivos['usuarios.mes']\n",
    "#     conteoDispositivos['dia'] = conteoDispositivos['usuarios.dia']\n",
    "# except:\n",
    "#     pass"
   ]
  },
  {
   "cell_type": "markdown",
   "metadata": {},
   "source": [
    "# 4. Insertando promedio dispositivos en indice principal"
   ]
  },
  {
   "cell_type": "markdown",
   "metadata": {},
   "source": [
    "la lista use_these_keys se usa para referenciar cuales campos del dataframe irÃ¡n al indice final. si los datos no se declaran en este, no se insertarÃ¡n"
   ]
  },
  {
   "cell_type": "markdown",
   "metadata": {},
   "source": [
    "In[142]:"
   ]
  },
  {
   "cell_type": "markdown",
   "metadata": {},
   "source": [
    "NO se utiliza campos de CONTEO DE DISPOSITIVOS.."
   ]
  },
  {
   "cell_type": "markdown",
   "metadata": {},
   "source": [
    "try:<br>\n",
    "    use_these_keys = ['usuarios.tablero11siteID'<br>\n",
    "                     , 'usuarios.tablero11nomCentroDigital'<br>\n",
    "                     , 'usuarios.tablero11localidad'<br>\n",
    "                     , 'usuarios.tablero11nombreDepartamento'<br>\n",
    "                     , 'usuarios.tablero11nombreMunicipio'<br>\n",
    "                     , 'usuarios.tablero11idBeneficiario'<br>\n",
    "                     , 'usuarios.tablero11location'<br>\n",
    "                     , 'usuarios.tablero11fechaControl'<br>\n",
    "                     , 'usuarios.tablero11fecha'<br>\n",
    "                     , 'usuarios.tablero11anyo'<br>\n",
    "                     , 'usuarios.tablero11mes'<br>\n",
    "                     , '@timestamp']"
   ]
  },
  {
   "cell_type": "markdown",
   "metadata": {},
   "source": [
    "    conteoDispositivos['@timestamp'] = now.isoformat()"
   ]
  },
  {
   "cell_type": "code",
   "execution_count": null,
   "metadata": {},
   "outputs": [],
   "source": [
    "    \n",
    "#     #Cambio de variables utilizando los campos del Tablero...\n",
    "    \n",
    "#     conteoDispositivos=cambioVariable(conteoDispositivos)\n",
    "    \n",
    "#     #2307\n",
    "    \n",
    "#     def doc_generator(df):\n",
    "#         df_iter = df.iterrows()\n",
    "#         for index, document in df_iter:\n",
    "#             yield {\n",
    "#                     \"_index\": indice, \n",
    "#                     \"_id\": f\"{ 'PromedioDispositivos-' + str(document['usuarios.tablero11siteID']) + '-' + str(document['usuarios.fechaControl'])}\",\n",
    "#                     \"_source\": filterKeys(document),\n",
    "#                 }\n",
    "#     #Se comenta escritura en el indice porque no se necesita esa estructura        \n",
    "#     #salida = helpers.bulk(es, doc_generator(conteoDispositivos))\n",
    "#     #print(\"Fecha: \", now,\"- Promedios dispositivos Usuarios:\",salida[0])\n",
    "# except:\n",
    "#     print(\"Fecha: \", now,\"- Ningun Promedios dispositivos Usuarios para insertar en indice principal\")\n",
    "    "
   ]
  },
  {
   "cell_type": "markdown",
   "metadata": {},
   "source": [
    "# Marcando si usuario es nuevo o recurrente"
   ]
  },
  {
   "cell_type": "markdown",
   "metadata": {},
   "source": [
    "* Se toma del dataframe datos_det_conex y se cuenta las veces que cada mac_usuario aparece<br>\n",
    "* Luego se suma con el historico de conexiones por usuario (indice intermedio ohmyfi-total-conexiones-historico)<br>\n",
    "* marca como Nuevo(1 conexiÃ³n). <br>\n",
    "<br>\n",
    "De este proceso se obtiene el campo:<br>\n",
    "* usuarios.usuariosNuevos<br>\n",
    "* usuarios.totales.usuariosNuevos"
   ]
  },
  {
   "cell_type": "markdown",
   "metadata": {},
   "source": [
    "In[143]:"
   ]
  },
  {
   "cell_type": "markdown",
   "metadata": {},
   "source": [
    "try:<br>\n",
    "    datos_recurrencia = datos_det_conex[[\"fecha\",\"tipodoc\",\"documento\"]].groupby([\"tipodoc\",\"documento\"]).agg(['count']).reset_index()<br>\n",
    "    datos_recurrencia.columns = datos_recurrencia.columns.droplevel(1)<br>\n",
    "    datos_recurrencia= datos_recurrencia.rename(columns={'fecha' : 'usuarios_recurrencia_aux'})<br>\n",
    "    datos_recurrencia['tipodoc'] = datos_recurrencia['tipodoc'].replace('','No especificado')<br>\n",
    "    datos_recurrencia['documento'] = datos_recurrencia['documento'].replace('','No especificado')<br>\n",
    "except:<br>\n",
    "    pass"
   ]
  },
  {
   "cell_type": "markdown",
   "metadata": {},
   "source": [
    "### Se lee historico"
   ]
  },
  {
   "cell_type": "markdown",
   "metadata": {},
   "source": [
    "Se lee ohmyfi-total-conexiones-historico, el cual es un indice creado a partir de los datos crudos. Este guarda la cantidad de conexiones realizadas por ese usuario. Para que la consulta funcione correctamente se debe colocar el filtro que usuarios_recurrencia exista."
   ]
  },
  {
   "cell_type": "markdown",
   "metadata": {},
   "source": [
    "In[144]:"
   ]
  },
  {
   "cell_type": "markdown",
   "metadata": {},
   "source": [
    "try:<br>\n",
    "    total_docs = 30000000<br>\n",
    "    response = es.search(<br>\n",
    "        index= parametros.ohmyfi_total_c_index,<br>\n",
    "        body={<br>\n",
    "              \"_source\": ['tipodoc', 'documento', 'usuarios_recurrencia'],<br>\n",
    "              \"query\": {<br>\n",
    "                \"bool\": {<br>\n",
    "                  \"filter\": [<br>\n",
    "                  {<br>\n",
    "                    \"exists\": {<br>\n",
    "                      \"field\":\"usuarios_recurrencia\"<br>\n",
    "                    }<br>\n",
    "                  }<br>\n",
    "                  ]<br>\n",
    "                }<br>\n",
    "              }<br>\n",
    "        },<br>\n",
    "        size=total_docs<br>\n",
    "    )<br>\n",
    "    elastic_docs = response[\"hits\"][\"hits\"]"
   ]
  },
  {
   "cell_type": "code",
   "execution_count": null,
   "metadata": {},
   "outputs": [],
   "source": [
    "    \n",
    "#     ya_en_indice = pd.DataFrame([x[\"_source\"] for x in elastic_docs])\n",
    "    \n",
    "    \n",
    "# except:\n",
    "#     ya_en_indice = pd.DataFrame(columns=['tipodoc', 'documento', 'usuarios_recurrencia'])"
   ]
  },
  {
   "cell_type": "markdown",
   "metadata": {},
   "source": [
    "In[145]:"
   ]
  },
  {
   "cell_type": "markdown",
   "metadata": {},
   "source": [
    "if ya_en_indice is None or ya_en_indice.empty:<br>\n",
    "    datos_recurrencia= datos_recurrencia.rename(columns={'usuarios_recurrencia_aux' : 'usuarios_recurrencia'})<br>\n",
    "else:<br>\n",
    "    datos_recurrencia = pd.merge(datos_recurrencia, ya_en_indice, on=['tipodoc', 'documento'],how='left')<br>\n",
    "    datos_recurrencia.fillna({'usuarios_recurrencia':0},inplace=True)<br>\n",
    "    datos_recurrencia['usuarios_recurrencia'] = datos_recurrencia['usuarios_recurrencia'] + datos_recurrencia['usuarios_recurrencia_aux']<br>\n",
    "    datos_recurrencia['usuarios_recurrencia'] = [int(x) for x in datos_recurrencia['usuarios_recurrencia']]"
   ]
  },
  {
   "cell_type": "markdown",
   "metadata": {},
   "source": [
    "In[146]:"
   ]
  },
  {
   "cell_type": "markdown",
   "metadata": {},
   "source": [
    "try:<br>\n",
    "    aux_recurrencia = pd.merge(datos_recurrencia,datos_det_conex, on=['tipodoc','documento'],how='inner' )<br>\n",
    "    aux_recurrencia = aux_recurrencia[(aux_recurrencia['usuarios_recurrencia']==1)]<br>\n",
    "    aux_recurrencia.loc[aux_recurrencia['usuarios_recurrencia']==1,'usuarios.usuariosNuevos']='Nuevo'<br>\n",
    "    #aux_recurrencia.loc[aux_recurrencia['usuarios_recurrencia']!=1,'usuarios.usuariosNuevos']='Recurrente'<br>\n",
    "    aux_recurrencia = aux_recurrencia.rename(columns={'usuarios_recurrencia' :'usuarios.sesiones_Usuarios'})<br>\n",
    "    aux_recurrencia = aux_recurrencia[[\"fecha_control\",\"site_id\",\"usuarios.usuariosNuevos\",'documento']].groupby([\"fecha_control\",\"site_id\",\"usuarios.usuariosNuevos\"])['documento'].nunique().reset_index()<br>\n",
    "    aux_recurrencia= aux_recurrencia.rename(columns={'documento' : 'usuarios.totales.usuariosNuevos'})<br>\n",
    "except:<br>\n",
    "    pass"
   ]
  },
  {
   "cell_type": "markdown",
   "metadata": {},
   "source": [
    "In[147]:"
   ]
  },
  {
   "cell_type": "markdown",
   "metadata": {},
   "source": [
    "try:<br>\n",
    "    datos_recurrencia = pd.merge(datos_semilla,  aux_recurrencia, on='site_id', how='inner')<br>\n",
    "    datos_recurrencia = datos_recurrencia.rename(columns={'fecha_control' : 'usuarios.fechaControl'})<br>\n",
    "    datos_recurrencia[\"usuarios.fecha\"] = datos_recurrencia[\"usuarios.fechaControl\"].str.split(\" \", n = 1, expand = True)[0]<br>\n",
    "    datos_recurrencia[\"usuarios.anyo\"] = datos_recurrencia[\"usuarios.fecha\"].str[0:4]<br>\n",
    "    datos_recurrencia[\"usuarios.mes\"] = datos_recurrencia[\"usuarios.fecha\"].str[5:7]<br>\n",
    "    datos_recurrencia[\"usuarios.dia\"] = datos_recurrencia[\"usuarios.fecha\"].str[8:10]<br>\n",
    "    datos_recurrencia[\"usuarios.hora\"] = datos_recurrencia[\"usuarios.fechaControl\"].str.split(\" \", n = 1, expand = True)[1].str.split(\":\", n = 2, expand = True)[0]<br>\n",
    "    datos_recurrencia[\"usuarios.minuto\"] = datos_recurrencia[\"usuarios.fechaControl\"].str.split(\" \", n = 1, expand = True)[1].str.split(\":\", n = 2, expand = True)[1]<br>\n",
    "    datos_recurrencia= datos_recurrencia.rename(columns={'site_id' : 'usuarios.siteID'})"
   ]
  },
  {
   "cell_type": "code",
   "execution_count": null,
   "metadata": {},
   "outputs": [],
   "source": [
    "    \n",
    "#     datos_recurrencia['nombreDepartamento'] = datos_recurrencia['usuarios.nombreDepartamento']\n",
    "#     datos_recurrencia['nombreMunicipio'] = datos_recurrencia['usuarios.nombreMunicipio']\n",
    "#     datos_recurrencia['idBeneficiario'] = datos_recurrencia['usuarios.idBeneficiario']\n",
    "#     datos_recurrencia['fecha'] = datos_recurrencia['usuarios.fecha']\n",
    "#     datos_recurrencia['anyo'] = datos_recurrencia['usuarios.anyo']\n",
    "#     datos_recurrencia['mes'] = datos_recurrencia['usuarios.mes']\n",
    "#     datos_recurrencia['dia'] = datos_recurrencia['usuarios.dia']\n",
    "# except:\n",
    "#     pass"
   ]
  },
  {
   "cell_type": "markdown",
   "metadata": {},
   "source": [
    "# Insertando recurrencia de usuario en indice principal"
   ]
  },
  {
   "cell_type": "markdown",
   "metadata": {},
   "source": [
    "la lista use_these_keys se usa para referenciar cuales campos del dataframe irÃ¡n al indice final. si los datos no se declaran en este, no se insertarÃ¡n"
   ]
  },
  {
   "cell_type": "markdown",
   "metadata": {},
   "source": [
    "In[148]:"
   ]
  },
  {
   "cell_type": "markdown",
   "metadata": {},
   "source": [
    "try:<br>\n",
    "    use_these_keys = ['usuarios.tablero11.siteID'<br>\n",
    "                      , 'usuarios.tablero11.nomCentroDigital'<br>\n",
    "                      , 'usuarios.tablero11.localidad'<br>\n",
    "                      , 'usuarios.tablero11.nombreDepartamento'<br>\n",
    "                      , 'usuarios.tablero11.nombreMunicipio'<br>\n",
    "                      , 'usuarios.tablero11.idBeneficiario'<br>\n",
    "                      , 'usuarios.tablero11.location'<br>\n",
    "    #                   , 'usuarios.tablero11sesiones_Usuarios'<br>\n",
    "    #                   , 'usuarios.tablero11consumoUsuarios'<br>\n",
    "    #                   , 'usuarios.tablero11apGroup'<br>\n",
    "                      , 'usuarios.tablero11.fechaControl'<br>\n",
    "                      , 'usuarios.tablero11.fecha'<br>\n",
    "                      , 'usuarios.tablero11.anyo'<br>\n",
    "                      , 'usuarios.tablero11.mes'<br>\n",
    "                      , '@timestamp']"
   ]
  },
  {
   "cell_type": "markdown",
   "metadata": {},
   "source": [
    "    datos_recurrencia['@timestamp'] = now.isoformat()"
   ]
  },
  {
   "cell_type": "code",
   "execution_count": null,
   "metadata": {},
   "outputs": [],
   "source": [
    "    \n",
    "#     datos_recurrencia=cambioVariable(datos_recurrencia)\n",
    "    \n",
    "#     datos_recurrencia=cambio\n",
    "    \n",
    "#     def doc_generator(df,use_these_keys):\n",
    "#         df_iter = df.iterrows()\n",
    "#         for index, document in df_iter:\n",
    "#             yield {\n",
    "#                     \"_index\": indice, \n",
    "#                     \"_id\": f\"{ 'Recurrencia-' + str(document['usuarios.tablero11.siteID']) + '-' + str(document['usuarios.tablero11.fechaControl'])}\",\n",
    "#                     \"_source\": filterKeys(document,use_these_keys),\n",
    "#                 }\n",
    "            \n",
    "#     #Se comenta escritura en el indice porque no se necesita esa estructura        \n",
    "#     #  salida = helpers.bulk(es, doc_generator(datos_recurrencia))\n",
    "# #     print(\"Fecha: \", now,\"- recurrencia de usuario a indice:\",salida[0])\n",
    "# except:\n",
    "#     print(\"Fecha: \", now,\"- Ninguna recurrencia de usuario para insertar en indice principal\")"
   ]
  },
  {
   "cell_type": "markdown",
   "metadata": {},
   "source": [
    "## Insertando detalle MACs"
   ]
  },
  {
   "cell_type": "markdown",
   "metadata": {},
   "source": [
    "In[149]:"
   ]
  },
  {
   "cell_type": "markdown",
   "metadata": {},
   "source": [
    "O Se utilizan campos MAC en el Tablero 11.."
   ]
  },
  {
   "cell_type": "markdown",
   "metadata": {},
   "source": [
    "use_these_keys = ['usuarios.tablero11siteID'<br>\n",
    "                  ,'usuarios.tablero11nomCentroDigital'<br>\n",
    "                  , 'usuarios.tablero11localidad'<br>\n",
    "                  , 'usuarios.tablero11nombreDepartamento'<br>\n",
    "                  , 'usuarios.tablero11nombreMunicipio'<br>\n",
    "                  , 'usuarios.tablero11idBeneficiario'<br>\n",
    "                  , 'usuarios.tablero11location'<br>\n",
    "                  , 'usuarios.tablero11apGroup'<br>\n",
    "                  , 'usuarios.tablero11fechaControl'<br>\n",
    "                  , 'usuarios.tablero11fecha'<br>\n",
    "                  , 'usuarios.tablero11anyo'<br>\n",
    "                  , 'usuarios.tablero11mes'<br>\n",
    "                  , '@timestamp']"
   ]
  },
  {
   "cell_type": "markdown",
   "metadata": {},
   "source": [
    "# use_these_keys = ['usuarios.siteID'<br>\n",
    "#                   , 'usuarios.nomCentroDigital'<br>\n",
    "#                   , 'usuarios.codISO'<br>\n",
    "#                   , 'usuarios.localidad'<br>\n",
    "#                   , 'usuarios.nombreDepartamento'<br>\n",
    "#                   , 'usuarios.sistemaEnergia'<br>\n",
    "#                   , 'usuarios.nombreMunicipio'<br>\n",
    "#                   , 'usuarios.idBeneficiario'<br>\n",
    "#                   , 'usuarios.location'<br>\n",
    "#                   , 'usuarios.macRed'<br>\n",
    "#                   , 'usuarios.apGroup'<br>\n",
    "#                   , 'usuarios.dispositivo.mac'<br>\n",
    "#                   , 'usuarios.dispositivo.tipo'<br>\n",
    "#                   , 'usuarios.dispositivo.nombre'<br>\n",
    "#                   , 'usuarios.dispositivo.marca'<br>\n",
    "#                   , 'usuarios.dispositivo.tecnologia'<br>\n",
    "#                   , 'usuarios.dispositivo.sisOperativo'<br>\n",
    "#                   , 'usuarios.fechaControl'<br>\n",
    "#                   , 'usuarios.fecha'<br>\n",
    "#                   , 'usuarios.anyo'<br>\n",
    "#                   , 'usuarios.mes'<br>\n",
    "#                   , 'usuarios.dia'<br>\n",
    "#                   , 'usuarios.hora'<br>\n",
    "#                   , 'usuarios.minuto'<br>\n",
    "#                   , '@timestamp']<br>\n",
    "def doc_generator_mac(df,use_these_keys):<br>\n",
    "    df_iter = df.iterrows()<br>\n",
    "    for index, document in df_iter:<br>\n",
    "        yield {<br>\n",
    "                \"_index\": indice, <br>\n",
    "                \"_id\": f\"{ 'detalleMAC-' + str(document['usuarios.tablero11siteID']) + '-' + str(document['usuarios.fechaControl']) + '-' + str(document['usuarios.dispositivo.mac'])   }\",<br>\n",
    "                \"_source\": filterKeys(document,use_these_keys),<br>\n",
    "            }"
   ]
  },
  {
   "cell_type": "markdown",
   "metadata": {},
   "source": [
    "## Insertando campos para tablero11"
   ]
  },
  {
   "cell_type": "markdown",
   "metadata": {},
   "source": [
    "In[150]:"
   ]
  },
  {
   "cell_type": "markdown",
   "metadata": {},
   "source": [
    "use_these_keys = ['usuarios.tablero11.siteID'<br>\n",
    "                  ,'usuarios.tablero11.nomCentroDigital'<br>\n",
    "                  , 'usuarios.tablero11.localidad'<br>\n",
    "                  , 'usuarios.tablero11.nombreDepartamento'<br>\n",
    "                  , 'usuarios.tablero11.nombreMunicipio'<br>\n",
    "                  , 'usuarios.tablero11.idBeneficiario'<br>\n",
    "                  , 'usuarios.tablero11.location'<br>\n",
    "                  , 'usuarios.tablero11.sesiones_Usuarios'<br>\n",
    "                  , 'usuarios.tablero11.consumoUsuarios'<br>\n",
    "                  , 'usuarios.tablero11.apGroup'<br>\n",
    "                  , 'usuarios.tablero11.fechaControl'<br>\n",
    "                  , 'usuarios.tablero11.fecha'<br>\n",
    "                  , 'usuarios.tablero11.anyo'<br>\n",
    "                  , 'usuarios.tablero11.mes'<br>\n",
    "                  , '@timestamp']<br>\n",
    "def doc_tablero11(df,use_these_keys):<br>\n",
    "    df_iter = df.iterrows()<br>\n",
    "    for index, document in df_iter:<br>\n",
    "        yield {<br>\n",
    "                \"_index\": indice, <br>\n",
    "                \"_id\": f\"{ 'Tablero11-' + str(document['usuarios.tablero11.idBeneficiario']) + '-' + str(document['usuarios.tablero11.fechaControl'])  }\",<br>\n",
    "                \"_source\": filterKeys(document,use_these_keys),<br>\n",
    "            }"
   ]
  },
  {
   "cell_type": "markdown",
   "metadata": {},
   "source": [
    "In[151]:"
   ]
  },
  {
   "cell_type": "markdown",
   "metadata": {},
   "source": [
    "try:<br>\n",
    "    dispositivoUsuarios = datos_det_conex[['site_id','usuarios.macRed','usuarios.apGroup'<br>\n",
    "                                ,'mac_usuario','fecha_control'<br>\n",
    "                                ,'usuarios.tipoDispositivoUsuarios'<br>\n",
    "                                ,'name','manufacturer','radio.band'<br>\n",
    "                                ,'usuarios.sistemaOperativoUsuarios']].drop_duplicates(subset=['mac_usuario'])<br>\n",
    "    dispositivoUsuarios.fillna({'usuarios.tipoDispositivoUsuarios':'No identificado'<br>\n",
    "                               ,'name':'No identificado'<br>\n",
    "                               ,'manufacturer':'No identificado'<br>\n",
    "                               ,'radio.band':'No identificado'<br>\n",
    "                               ,'usuarios.sistemaOperativoUsuarios':'No identificado'<br>\n",
    "                               ,'usuarios.macRed':'No identificado'<br>\n",
    "                               ,'usuarios.apGroup':'No identificado'<br>\n",
    "                               },inplace=True)"
   ]
  },
  {
   "cell_type": "markdown",
   "metadata": {},
   "source": [
    "    dispositivoUsuarios = pd.merge(dispositivoUsuarios, datos_semilla, on='site_id',how='inner')<br>\n",
    "    dispositivoUsuarios= dispositivoUsuarios.rename(columns={<br>\n",
    "                                                     'site_id' : 'usuarios.siteID'<br>\n",
    "                                                    ,'mac_usuario' : 'usuarios.dispositivo.mac'<br>\n",
    "                                                    ,'usuarios.tipoDispositivoUsuarios' : 'usuarios.dispositivo.tipo'<br>\n",
    "                                                    ,'name' : 'usuarios.dispositivo.nombre'<br>\n",
    "                                                    ,'manufacturer' : 'usuarios.dispositivo.marca'<br>\n",
    "                                                    ,'radio.band' : 'usuarios.dispositivo.tecnologia'<br>\n",
    "                                                    ,'usuarios.sistemaOperativoUsuarios' : 'usuarios.dispositivo.sisOperativo'<br>\n",
    "                                                    ,'fecha_control':'usuarios.fechaControl'<br>\n",
    "                                                    })<br>\n",
    "    dispositivoUsuarios[\"usuarios.fecha\"] = dispositivoUsuarios[\"usuarios.fechaControl\"].str.split(\" \", n = 1, expand = True)[0]<br>\n",
    "    dispositivoUsuarios[\"usuarios.anyo\"] = dispositivoUsuarios[\"usuarios.fecha\"].str[0:4]<br>\n",
    "    dispositivoUsuarios[\"usuarios.mes\"] = dispositivoUsuarios[\"usuarios.fecha\"].str[5:7]<br>\n",
    "    dispositivoUsuarios[\"usuarios.dia\"] = dispositivoUsuarios[\"usuarios.fecha\"].str[8:10]<br>\n",
    "    dispositivoUsuarios[\"usuarios.hora\"] = dispositivoUsuarios[\"usuarios.fechaControl\"].str.split(\" \", n = 1, expand = True)[1].str.split(\":\", n = 2, expand = True)[0]<br>\n",
    "    dispositivoUsuarios[\"usuarios.minuto\"] = dispositivoUsuarios[\"usuarios.fechaControl\"].str.split(\" \", n = 1, expand = True)[1].str.split(\":\", n = 2, expand = True)[1]<br>\n",
    "    dispositivoUsuarios['@timestamp'] = now.isoformat()"
   ]
  },
  {
   "cell_type": "code",
   "execution_count": null,
   "metadata": {},
   "outputs": [],
   "source": [
    "    \n",
    "#    ############# aqui hacer cambio de variable  ################\n",
    "#     ## El dataframe dispositivos usuarios debe contener los campos de use_these_keys de arriba\n",
    "    \n",
    "#     dispositivoUsuarios=cambioVariable(dispositivoUsuarios)\n",
    "    \n",
    "    \n",
    "# #     salida = helpers.bulk(es, doc_tablero11(dataframeresultante))\n",
    "#     print(\"Fecha: \", now,\"- Detalle MACs a indice:\",salida[0])"
   ]
  },
  {
   "cell_type": "markdown",
   "metadata": {},
   "source": [
    "except:<br>\n",
    "    print(\"Fecha: \", now,\"- NingÃºn Detalle MACs para insertar en indice principal\")"
   ]
  },
  {
   "cell_type": "markdown",
   "metadata": {},
   "source": [
    "### Guardando fecha para control de ejecuciÃ³n"
   ]
  },
  {
   "cell_type": "markdown",
   "metadata": {},
   "source": [
    "* Se actualiza la fecha de control. Si el calculo supera la fecha hora actual, se asocia esta ultima."
   ]
  },
  {
   "cell_type": "markdown",
   "metadata": {},
   "source": [
    "In[152]:"
   ]
  },
  {
   "cell_type": "code",
   "execution_count": null,
   "metadata": {},
   "outputs": [],
   "source": [
    "fecha_ejecucion = (datetime.strptime(fecha_max_mintic, '%Y-%m-%d %H:%M:%S')+timedelta(days=1)).strftime(\"%Y-%m-%d %H:%M:%S\")[0:15] + '0:00'    \n",
    "\n",
    "if fecha_ejecucion > str(now.strftime('%Y-%m-%d %H:%M:%S'))[0:15] + '0:00':\n",
    "    fecha_ejecucion = str(now.strftime('%Y-%m-%d %H:%M:%S'))[0:15] + '0:00'\n",
    "response = es.index(\n",
    "        index = indice_control,\n",
    "        id = 'jerarquia-tablero11',\n",
    "        body = { 'jerarquia-tablero11': 'jerarquia-tablero11','tablero11.fechaControl' : fecha_ejecucion}\n",
    ")\n",
    "print(\"actualizada fecha control de ejecucion:\",fecha_ejecucion)"
   ]
  },
  {
   "cell_type": "markdown",
   "metadata": {},
   "source": [
    "In[ ]:"
   ]
  }
 ],
 "metadata": {
  "kernelspec": {
   "display_name": "Python 3",
   "language": "python",
   "name": "python3"
  },
  "language_info": {
   "codemirror_mode": {
    "name": "ipython",
    "version": 3
   },
   "file_extension": ".py",
   "mimetype": "text/x-python",
   "name": "python",
   "nbconvert_exporter": "python",
   "pygments_lexer": "ipython3",
   "version": "3.8.5"
  }
 },
 "nbformat": 4,
 "nbformat_minor": 2
}
