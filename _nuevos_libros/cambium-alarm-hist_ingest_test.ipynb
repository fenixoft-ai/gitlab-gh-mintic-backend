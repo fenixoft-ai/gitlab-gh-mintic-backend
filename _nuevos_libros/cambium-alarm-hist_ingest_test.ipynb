{
 "cells": [
  {
   "cell_type": "code",
   "execution_count": 90,
   "metadata": {},
   "outputs": [],
   "source": [
    "from elasticsearch import Elasticsearch\n",
    "from elasticsearch import helpers\n",
    "import pandas as pd\n",
    "import numpy as np\n",
    "import json\n",
    "from ssl import create_default_context\n",
    "from datetime import datetime\n",
    "from datetime import timedelta\n",
    "import requests\n",
    "#from getpass import getpass\n",
    "import parametros"
   ]
  },
  {
   "cell_type": "markdown",
   "metadata": {},
   "source": [
    "## Parametros de conexion para ES"
   ]
  },
  {
   "cell_type": "code",
   "execution_count": 91,
   "metadata": {},
   "outputs": [],
   "source": [
    "context = create_default_context(cafile=parametros.cafile)\n",
    "es = Elasticsearch(\n",
    "    parametros.servidor,\n",
    "    http_auth=(parametros.usuario_EC, parametros.password_EC),\n",
    "    scheme=\"https\",\n",
    "    port=parametros.puerto,\n",
    "    ssl_context=context,\n",
    ")"
   ]
  },
  {
   "cell_type": "markdown",
   "metadata": {},
   "source": [
    "## tomando fecha mas reciente del indice"
   ]
  },
  {
   "cell_type": "markdown",
   "metadata": {},
   "source": [
    "Las alertas que traiga el Endpoint con fechas menores a la maxima en indice, se descartan."
   ]
  },
  {
   "cell_type": "code",
   "execution_count": 92,
   "metadata": {},
   "outputs": [
    {
     "name": "stdout",
     "output_type": "stream",
     "text": [
      "Fecha maxima en indice: 2021-10-05 23:17:54\n"
     ]
    }
   ],
   "source": [
    "total_docs = 0\n",
    "try:\n",
    "    response = es.search(\n",
    "        index= parametros.cambium_a_h_index,\n",
    "        body={\"aggs\" : {\n",
    "                   \"max_date\": {\"max\": {\"field\": \"time_raised\", \"format\": \"yyyy-MM-dd HH:mm:ss\"}}\n",
    "                }\n",
    "             },\n",
    "        size=total_docs\n",
    "    )\n",
    "    #print(es.info())\n",
    "    elastic_docs = response[\"aggregations\"]\n",
    "    fecha_max=response[\"aggregations\"][\"max_date\"]['value_as_string']\n",
    "except:\n",
    "    fecha_max = '2010-01-01 00:00:01'\n",
    "print(\"Fecha maxima en indice:\",fecha_max)"
   ]
  },
  {
   "cell_type": "code",
   "execution_count": 93,
   "metadata": {},
   "outputs": [],
   "source": [
    "now = datetime.now()\n",
    "new_date = now - timedelta(days=6)\n",
    "format = \"%Y%m%d\"\n",
    "format_ES = \"%Y.%m.%d\"\n",
    "fecha_url = str(new_date.strftime(format))\n",
    "fecha_hoy = str(now.strftime(format_ES))"
   ]
  },
  {
   "cell_type": "code",
   "execution_count": 94,
   "metadata": {},
   "outputs": [],
   "source": [
    "aaa = str(now.strftime(\"%Y%m%d%H\"))+'00'\n",
    "fecha_ini = (datetime.strptime(aaa, '%Y%m%d%H%M')-timedelta(minutes=60)).strftime(\"%Y%m%d%H%M\")\n",
    "fecha_fin = (datetime.strptime(fecha_ini, '%Y%m%d%H%M')+timedelta(minutes=59)).strftime(\"%Y%m%d%H%M\")"
   ]
  },
  {
   "cell_type": "markdown",
   "metadata": {},
   "source": [
    "## Leyendo la APi cambium-alarm-history"
   ]
  },
  {
   "cell_type": "code",
   "execution_count": 95,
   "metadata": {},
   "outputs": [
    {
     "name": "stdout",
     "output_type": "stream",
     "text": [
      "https://100.123.26.252/api/v2/alarms/history?start_time=202110052200&stop_time=202110052259\n",
      "Bearer 78cc089920a918f3346e1198fab37ebf79b8cf72\n",
      "el else saca esto:  401\n",
      "https://100.123.26.224/api/v2/alarms/history?start_time=202110052200&stop_time=202110052259\n",
      "Bearer 59c3b1fb3ed7b44b1cf84805929ba69483a1be66\n",
      "el else saca esto:  401\n"
     ]
    },
    {
     "name": "stderr",
     "output_type": "stream",
     "text": [
      "/opt/anaconda3/lib/python3.8/site-packages/urllib3/connectionpool.py:981: InsecureRequestWarning: Unverified HTTPS request is being made to host '100.123.26.252'. Adding certificate verification is strongly advised. See: https://urllib3.readthedocs.io/en/latest/advanced-usage.html#ssl-warnings\n",
      "  warnings.warn(\n",
      "/opt/anaconda3/lib/python3.8/site-packages/urllib3/connectionpool.py:981: InsecureRequestWarning: Unverified HTTPS request is being made to host '100.123.26.224'. Adding certificate verification is strongly advised. See: https://urllib3.readthedocs.io/en/latest/advanced-usage.html#ssl-warnings\n",
      "  warnings.warn(\n"
     ]
    }
   ],
   "source": [
    "datos_api = pd.DataFrame(columns=['ip','network','message','name','severity','source_type','status'\n",
    "                                          ,'time_raised','time_cleared','site','duration','id','code','mac'\n",
    "                                          ,'acknowledged_by','source','managed_account'])\n",
    "\n",
    "\n",
    "\n",
    "\n",
    "for k in range(0,len(parametros.url_cambium)):\n",
    "    token_aux = 'Bearer ' + parametros.cambium_token_aux[k]\n",
    "    cabecera1 = { 'Content-Type': 'application/json', 'Authorization' : token_aux, 'accept' : '*/*' } \n",
    "    #url = parametros.url_cambium[k] + \"alarms/history\" + '?start_time='+ fecha_url\n",
    "    url = parametros.url_cambium[k] + \"alarms/history\" + '?start_time=' + fecha_ini + '&stop_time=' + fecha_fin\n",
    "    print (url)\n",
    "    print(token_aux)\n",
    "    r = requests.get(url, headers = cabecera1, verify=False)\n",
    "    if r.status_code == 200:\n",
    "        res = json.loads(r.text)\n",
    "        dato_param = res['paging']\n",
    "        #se calcula los ciclos de la consulta paginada\n",
    "        ciclos = int(round(dato_param['total']/100,0))\n",
    "        i = 0\n",
    "        while i < ciclos:\n",
    "            i+=1\n",
    "            offset = str(i)\n",
    "            #url2 = parametros.url_cambium[k] + \"alarms/history\" + '?offset=' + offset  + '&start_time=' + fecha_url \n",
    "            url = parametros.url_cambium[k] + \"alarms/history\" + '?start_time=' + fecha_ini + '&stop_time=' + fecha_fin\n",
    "            r = requests.get(url2, headers = cabecera1, verify=False)\n",
    "            if r.status_code == 200:\n",
    "                #print(\"respuesta 200: \",r.text)\n",
    "                res = json.loads(r.text)\n",
    "                datos_api = datos_api.append(res['data'], ignore_index=True)\n",
    "            else:\n",
    "                #break\n",
    "                print(\"Error de request:\",r.status_code)\n",
    "\n",
    "        pass\n",
    "    else:\n",
    "        print(\"el else saca esto: \",r.status_code)\n",
    "        #exit()"
   ]
  },
  {
   "cell_type": "code",
   "execution_count": 82,
   "metadata": {},
   "outputs": [
    {
     "data": {
      "text/html": [
       "<div>\n",
       "<style scoped>\n",
       "    .dataframe tbody tr th:only-of-type {\n",
       "        vertical-align: middle;\n",
       "    }\n",
       "\n",
       "    .dataframe tbody tr th {\n",
       "        vertical-align: top;\n",
       "    }\n",
       "\n",
       "    .dataframe thead th {\n",
       "        text-align: right;\n",
       "    }\n",
       "</style>\n",
       "<table border=\"1\" class=\"dataframe\">\n",
       "  <thead>\n",
       "    <tr style=\"text-align: right;\">\n",
       "      <th></th>\n",
       "      <th>ip</th>\n",
       "      <th>network</th>\n",
       "      <th>message</th>\n",
       "      <th>name</th>\n",
       "      <th>severity</th>\n",
       "      <th>source_type</th>\n",
       "      <th>status</th>\n",
       "      <th>time_raised</th>\n",
       "      <th>time_cleared</th>\n",
       "      <th>site</th>\n",
       "      <th>duration</th>\n",
       "      <th>id</th>\n",
       "      <th>code</th>\n",
       "      <th>mac</th>\n",
       "      <th>acknowledged_by</th>\n",
       "      <th>source</th>\n",
       "      <th>managed_account</th>\n",
       "    </tr>\n",
       "  </thead>\n",
       "  <tbody>\n",
       "  </tbody>\n",
       "</table>\n",
       "</div>"
      ],
      "text/plain": [
       "Empty DataFrame\n",
       "Columns: [ip, network, message, name, severity, source_type, status, time_raised, time_cleared, site, duration, id, code, mac, acknowledged_by, source, managed_account]\n",
       "Index: []"
      ]
     },
     "execution_count": 82,
     "metadata": {},
     "output_type": "execute_result"
    }
   ],
   "source": [
    "datos_api"
   ]
  },
  {
   "cell_type": "code",
   "execution_count": 18,
   "metadata": {},
   "outputs": [],
   "source": [
    "datos_api.to_excel(\"cambium_alarm_crudo.xlsx\")"
   ]
  },
  {
   "cell_type": "markdown",
   "metadata": {},
   "source": [
    "### Descartando datos de la API que ya están en el indice"
   ]
  },
  {
   "cell_type": "code",
   "execution_count": 7,
   "metadata": {},
   "outputs": [
    {
     "name": "stdout",
     "output_type": "stream",
     "text": [
      "Error de request: 401\n"
     ]
    }
   ],
   "source": [
    "try:\n",
    "    datos_api['time_raised'] = (datos_api[\"time_raised\"].str.split(\"T\", n = 2, expand = True)[0])+' '+(datos_api[\"time_raised\"].str.split(\"T\", n = 2, expand = True)[1]).str.split(\"-\", n = 1, expand = True)[0]\n",
    "    datos_api['time_cleared'] = (datos_api[\"time_cleared\"].str.split(\"T\", n = 2, expand = True)[0])+' '+(datos_api[\"time_cleared\"].str.split(\"T\", n = 2, expand = True)[1]).str.split(\"-\", n = 1, expand = True)[0]\n",
    "except:\n",
    "    print(\"Fecha:\",now,\"Error de request:\",r.status_code)\n",
    "    exit()"
   ]
  },
  {
   "cell_type": "code",
   "execution_count": 23,
   "metadata": {},
   "outputs": [],
   "source": [
    "datos_api = datos_api.drop(datos_api[(datos_api['time_raised']<= fecha_max)].index)"
   ]
  },
  {
   "cell_type": "code",
   "execution_count": 49,
   "metadata": {},
   "outputs": [],
   "source": [
    "datos_api.fillna('', inplace=True)"
   ]
  },
  {
   "cell_type": "markdown",
   "metadata": {},
   "source": [
    "### Definiendo indice con fecha e insertando en ES"
   ]
  },
  {
   "cell_type": "code",
   "execution_count": 50,
   "metadata": {},
   "outputs": [],
   "source": [
    "indice = parametros.cambium_a_h_index +'-'+ fecha_hoy"
   ]
  },
  {
   "cell_type": "code",
   "execution_count": 51,
   "metadata": {},
   "outputs": [
    {
     "name": "stdout",
     "output_type": "stream",
     "text": [
      "Fecha: 2021-05-10 17:40:44.237766 - Total documentos insertados: 0\n"
     ]
    }
   ],
   "source": [
    "use_these_keys = ['ip','network','message','name','severity','source_type','status'\n",
    "                  ,'time_raised','time_cleared','site','duration','id','code','mac'\n",
    "                  ,'acknowledged_by','source','managed_account','@timestamp']\n",
    "def filterKeys(document):\n",
    "    return {key: document[key] for key in use_these_keys }\n",
    "\n",
    "timestamp = datetime.now()\n",
    "datos_api['@timestamp'] = timestamp.isoformat()\n",
    "def doc_generator(df):\n",
    "    df_iter = df.iterrows()\n",
    "    for index, document in df_iter:\n",
    "        yield {\n",
    "                \"_index\": indice, \n",
    "                \"_source\": filterKeys(document),\n",
    "            }\n",
    "salida = helpers.bulk(es, doc_generator(datos_api))\n",
    "print(\"Fecha:\",now,\"- Total documentos insertados:\",salida[0])"
   ]
  }
 ],
 "metadata": {
  "kernelspec": {
   "display_name": "Python 3",
   "language": "python",
   "name": "python3"
  },
  "language_info": {
   "codemirror_mode": {
    "name": "ipython",
    "version": 3
   },
   "file_extension": ".py",
   "mimetype": "text/x-python",
   "name": "python",
   "nbconvert_exporter": "python",
   "pygments_lexer": "ipython3",
   "version": "3.8.5"
  }
 },
 "nbformat": 4,
 "nbformat_minor": 4
}
