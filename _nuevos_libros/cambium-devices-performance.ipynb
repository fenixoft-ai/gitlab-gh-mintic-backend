{
 "cells": [
  {
   "cell_type": "code",
   "execution_count": 1,
   "metadata": {},
   "outputs": [],
   "source": [
    "from elasticsearch import Elasticsearch\n",
    "from elasticsearch import helpers\n",
    "import pandas as pd\n",
    "import numpy as np\n",
    "import json\n",
    "from ssl import create_default_context\n",
    "from datetime import datetime\n",
    "from datetime import timedelta\n",
    "import requests\n",
    "#from getpass import getpass\n",
    "import parametros"
   ]
  },
  {
   "cell_type": "markdown",
   "metadata": {},
   "source": [
    "## Leyendo datos del indice cambium-devices-performance"
   ]
  },
  {
   "cell_type": "code",
   "execution_count": 2,
   "metadata": {},
   "outputs": [],
   "source": [
    "context = create_default_context(cafile=parametros.cafile)\n",
    "es = Elasticsearch(\n",
    "    parametros.servidor,\n",
    "    http_auth=(parametros.usuario_EC, parametros.password_EC),\n",
    "    scheme=\"https\",\n",
    "    port=parametros.puerto,\n",
    "    ssl_context=context,\n",
    ")\n"
   ]
  },
  {
   "cell_type": "markdown",
   "metadata": {},
   "source": [
    "## tomando fecha mas reciente del indice"
   ]
  },
  {
   "cell_type": "code",
   "execution_count": 3,
   "metadata": {},
   "outputs": [
    {
     "data": {
      "text/plain": [
       "'2021-10-21 19:07:08'"
      ]
     },
     "execution_count": 3,
     "metadata": {},
     "output_type": "execute_result"
    }
   ],
   "source": [
    "now = datetime.now()\n",
    "new_date = now - timedelta(days=3)\n",
    "ayer = now - timedelta(days=1)\n",
    "fecha_hoy = str(now.strftime(\"%Y.%m.%d\"))\n",
    "ahora_cdd = str(now.strftime(\"%Y-%m-%d\"' '\"%H:%M:%S\"))\n",
    "\n",
    "ahora_cdd"
   ]
  },
  {
   "cell_type": "code",
   "execution_count": 4,
   "metadata": {},
   "outputs": [
    {
     "name": "stdout",
     "output_type": "stream",
     "text": [
      "Fecha maxima en indice: 2021-10-21 18:47:53\n"
     ]
    }
   ],
   "source": [
    "total_docs = 0\n",
    "try:\n",
    "    response = es.search(\n",
    "        index= parametros.cambium_d_p_index,\n",
    "        body={\"aggs\" : {\n",
    "                   \"max_date\": {\"max\": {\"field\": \"timestamp\", \"format\": \"yyyy-MM-dd HH:mm:ss\"}}\n",
    "                }\n",
    "             },\n",
    "        size=total_docs\n",
    "    )\n",
    "    #print(es.info())\n",
    "    elastic_docs = response[\"aggregations\"]\n",
    "    fecha_max=response[\"aggregations\"][\"max_date\"]['value_as_string']\n",
    "except:\n",
    "    fecha_max = (new_date).strftime(\"%Y-%m-%d %H:%M:%S\")\n",
    "print(\"Fecha maxima en indice:\",fecha_max)"
   ]
  },
  {
   "cell_type": "code",
   "execution_count": 5,
   "metadata": {},
   "outputs": [],
   "source": [
    "aaa = str(now.strftime(\"%Y%m%d%H\"))+'00'\n",
    "fecha_ini = (datetime.strptime(aaa, '%Y%m%d%H%M')-timedelta(minutes=60)).strftime(\"%Y%m%d%H%M\")\n",
    "fecha_fin = (datetime.strptime(fecha_ini, '%Y%m%d%H%M')+timedelta(minutes=59)).strftime(\"%Y%m%d%H%M\")"
   ]
  },
  {
   "cell_type": "code",
   "execution_count": 6,
   "metadata": {},
   "outputs": [
    {
     "data": {
      "text/plain": [
       "('202110211800', '202110211859')"
      ]
     },
     "execution_count": 6,
     "metadata": {},
     "output_type": "execute_result"
    }
   ],
   "source": [
    "fecha_ini, fecha_fin"
   ]
  },
  {
   "cell_type": "code",
   "execution_count": 7,
   "metadata": {},
   "outputs": [
    {
     "data": {
      "text/html": [
       "<div>\n",
       "<style scoped>\n",
       "    .dataframe tbody tr th:only-of-type {\n",
       "        vertical-align: middle;\n",
       "    }\n",
       "\n",
       "    .dataframe tbody tr th {\n",
       "        vertical-align: top;\n",
       "    }\n",
       "\n",
       "    .dataframe thead th {\n",
       "        text-align: right;\n",
       "    }\n",
       "</style>\n",
       "<table border=\"1\" class=\"dataframe\">\n",
       "  <thead>\n",
       "    <tr style=\"text-align: right;\">\n",
       "      <th></th>\n",
       "      <th>mac</th>\n",
       "      <th>site_id</th>\n",
       "    </tr>\n",
       "  </thead>\n",
       "  <tbody>\n",
       "    <tr>\n",
       "      <th>0</th>\n",
       "      <td>00:0E:C6:8A:C2:9E</td>\n",
       "      <td>1</td>\n",
       "    </tr>\n",
       "    <tr>\n",
       "      <th>1</th>\n",
       "      <td>2C:60:0C:0D:9E:68</td>\n",
       "      <td>1</td>\n",
       "    </tr>\n",
       "    <tr>\n",
       "      <th>2</th>\n",
       "      <td>58:C1:7A:0A:9A:E8</td>\n",
       "      <td>1</td>\n",
       "    </tr>\n",
       "    <tr>\n",
       "      <th>3</th>\n",
       "      <td>58:C1:7A:0A:9B:01</td>\n",
       "      <td>1</td>\n",
       "    </tr>\n",
       "    <tr>\n",
       "      <th>4</th>\n",
       "      <td>58:C1:7A:0A:9B:03</td>\n",
       "      <td>1</td>\n",
       "    </tr>\n",
       "    <tr>\n",
       "      <th>...</th>\n",
       "      <td>...</td>\n",
       "      <td>...</td>\n",
       "    </tr>\n",
       "    <tr>\n",
       "      <th>7538</th>\n",
       "      <td>BC:E6:7C:EF:FE:4A</td>\n",
       "      <td>1</td>\n",
       "    </tr>\n",
       "    <tr>\n",
       "      <th>7539</th>\n",
       "      <td>BC:E6:7C:EF:FE:4C</td>\n",
       "      <td>1</td>\n",
       "    </tr>\n",
       "    <tr>\n",
       "      <th>7540</th>\n",
       "      <td>BC:E6:7C:EF:FE:4D</td>\n",
       "      <td>1</td>\n",
       "    </tr>\n",
       "    <tr>\n",
       "      <th>7541</th>\n",
       "      <td>BC:E6:7C:EF:FE:4F</td>\n",
       "      <td>1</td>\n",
       "    </tr>\n",
       "    <tr>\n",
       "      <th>7542</th>\n",
       "      <td>DC:0E:A1:87:D0:31</td>\n",
       "      <td>1</td>\n",
       "    </tr>\n",
       "  </tbody>\n",
       "</table>\n",
       "<p>7543 rows × 2 columns</p>\n",
       "</div>"
      ],
      "text/plain": [
       "                    mac  site_id\n",
       "0     00:0E:C6:8A:C2:9E        1\n",
       "1     2C:60:0C:0D:9E:68        1\n",
       "2     58:C1:7A:0A:9A:E8        1\n",
       "3     58:C1:7A:0A:9B:01        1\n",
       "4     58:C1:7A:0A:9B:03        1\n",
       "...                 ...      ...\n",
       "7538  BC:E6:7C:EF:FE:4A        1\n",
       "7539  BC:E6:7C:EF:FE:4C        1\n",
       "7540  BC:E6:7C:EF:FE:4D        1\n",
       "7541  BC:E6:7C:EF:FE:4F        1\n",
       "7542  DC:0E:A1:87:D0:31        1\n",
       "\n",
       "[7543 rows x 2 columns]"
      ]
     },
     "execution_count": 7,
     "metadata": {},
     "output_type": "execute_result"
    }
   ],
   "source": [
    "# sacar las MAC de devices\n",
    "\"\"\"\n",
    "def traerDDevices(fecha_max,fecha_tope):\n",
    "    total_docs = 10000\n",
    "    try:\n",
    "        response = es.search(\n",
    "            index= parametros.cambium_d_d_index,\n",
    "            body={\n",
    "                \"_source\": [\"registration_date\",\"mac\",\"ip\",\"ap_group\",\"site_id\",\"status\"]\n",
    "                ,\"query\":{\n",
    "                    \"bool\": {\n",
    "                      \"filter\": [\n",
    "                        {\n",
    "                          \"range\": {\n",
    "                            \"registration_date\": {\n",
    "                              \"gte\": fecha_max,\n",
    "                              \"lt\": fecha_tope\n",
    "                            }\n",
    "                          }\n",
    "                        }\n",
    "                      ],\n",
    "\n",
    "                    }\n",
    "                }\n",
    "            },\n",
    "            size=total_docs\n",
    "        )\n",
    "        elastic_docs = response[\"hits\"][\"hits\"]\n",
    "        fields = {}\n",
    "        for num, doc in enumerate(elastic_docs):\n",
    "            source_data = doc[\"_source\"]\n",
    "            for key, val in source_data.items():\n",
    "                try:\n",
    "                    fields[key] = np.append(fields[key], val)\n",
    "                except KeyError:\n",
    "                    fields[key] = np.array([val])\n",
    "\n",
    "        datos_DDevices  = pd.DataFrame(dict([ (k,pd.Series(v)) for k,v in fields.items() ]))\n",
    "        datos_DDevices  = datos_DDevices.rename(columns={'ap_group':'gestion.ptos_acceso'})\n",
    "        datos_DDevices  = datos_DDevices.dropna(subset=['site_id'])\n",
    "        return datos_DDevices \n",
    "    except:\n",
    "        return pd.DataFrame()\n",
    "    \n",
    "\n",
    "fec1=\"2021-04-01 00:00:00\"\n",
    "datos_mac  = traerDDevices(fec1 , ahora_cdd)\n",
    "\n",
    "\"\"\"\n",
    "\n",
    "\n",
    "\n",
    "\n",
    "\n",
    "indice = parametros.cambium_d_d_index # + '-' + fecha_hoy\n",
    "total_docs = 10000\n",
    "try:\n",
    "    response = es.search(\n",
    "        index= indice, \n",
    "        body={\n",
    "               \"_source\": ['*']\n",
    "        },\n",
    "        size=total_docs\n",
    "    )    \n",
    "    elastic_docs = response[\"hits\"][\"hits\"]\n",
    "    fields = {}\n",
    "    for num, doc in enumerate(elastic_docs):\n",
    "        source_data = doc[\"_source\"]\n",
    "        for key, val in source_data.items():\n",
    "            try:\n",
    "                fields[key] = np.append(fields[key], val)\n",
    "            except KeyError:\n",
    "                fields[key] = np.array([val])\n",
    "\n",
    "    datos_mac = pd.DataFrame(dict([ (k,pd.Series(v)) for k,v in fields.items() ])) #pd.DataFrame(fields)\n",
    "except:\n",
    "    print(\"fecha:\",now,\"- Error en lectura de datos_mac: \", parametros.cambium_d_d_index, \" servidor: \", parametros.servidor)\n",
    "    \n",
    "\n",
    "if datos_mac is None or datos_mac.empty:\n",
    "    print (\" No se sacaron datos de Cambium-DeviceDevices. por lo que el proceso no continua. \", now, parametros.cambium_d_d_index)       \n",
    "    pass\n",
    "\n",
    "datos_mac = datos_mac[[\"mac\",\"site_id\"]].groupby([\"mac\"]).agg(['count']).reset_index()\n",
    "datos_mac.columns = datos_mac.columns.droplevel(1)  \n",
    "datos_mac =datos_mac.dropna(subset=['mac'])\n",
    "\n",
    "datos_mac\n",
    "\n",
    "#datos_mac[\"mac\"].size\n"
   ]
  },
  {
   "cell_type": "markdown",
   "metadata": {},
   "source": [
    "## Leyendo la APi cambium-devices-performance"
   ]
  },
  {
   "cell_type": "code",
   "execution_count": null,
   "metadata": {
    "scrolled": true
   },
   "outputs": [
    {
     "name": "stderr",
     "output_type": "stream",
     "text": [
      "/opt/anaconda3/lib/python3.8/site-packages/urllib3/connectionpool.py:981: InsecureRequestWarning: Unverified HTTPS request is being made to host '100.123.26.252'. Adding certificate verification is strongly advised. See: https://urllib3.readthedocs.io/en/latest/advanced-usage.html#ssl-warnings\n",
      "  warnings.warn(\n",
      "/opt/anaconda3/lib/python3.8/site-packages/urllib3/connectionpool.py:981: InsecureRequestWarning: Unverified HTTPS request is being made to host '100.123.26.252'. Adding certificate verification is strongly advised. See: https://urllib3.readthedocs.io/en/latest/advanced-usage.html#ssl-warnings\n",
      "  warnings.warn(\n",
      "/opt/anaconda3/lib/python3.8/site-packages/urllib3/connectionpool.py:981: InsecureRequestWarning: Unverified HTTPS request is being made to host '100.123.26.252'. Adding certificate verification is strongly advised. See: https://urllib3.readthedocs.io/en/latest/advanced-usage.html#ssl-warnings\n",
      "  warnings.warn(\n",
      "/opt/anaconda3/lib/python3.8/site-packages/urllib3/connectionpool.py:981: InsecureRequestWarning: Unverified HTTPS request is being made to host '100.123.26.252'. Adding certificate verification is strongly advised. See: https://urllib3.readthedocs.io/en/latest/advanced-usage.html#ssl-warnings\n",
      "  warnings.warn(\n"
     ]
    },
    {
     "name": "stdout",
     "output_type": "stream",
     "text": [
      "1.-Fecha: 2021-10-21 19:07:08.893157 - Error bucle externo:  404  no trajo datos:  https://100.123.26.252/api/v2/devices/00:0E:C6:8A:C2:9E/performance?start_time=202110211800&stop_time=202110211859\n",
      "1.-Fecha: 2021-10-21 19:07:08.893157 - Error bucle externo:  404  no trajo datos:  https://100.123.26.252/api/v2/devices/2C:60:0C:0D:9E:68/performance?start_time=202110211800&stop_time=202110211859\n",
      " dato_param['total']  13 1\n",
      "https://100.123.26.252/api/v2/devices/58:C1:7A:0A:9A:E8/performance?offset=0&start_time=202110211800&stop_time=202110211859\n"
     ]
    },
    {
     "name": "stderr",
     "output_type": "stream",
     "text": [
      "/opt/anaconda3/lib/python3.8/site-packages/urllib3/connectionpool.py:981: InsecureRequestWarning: Unverified HTTPS request is being made to host '100.123.26.224'. Adding certificate verification is strongly advised. See: https://urllib3.readthedocs.io/en/latest/advanced-usage.html#ssl-warnings\n",
      "  warnings.warn(\n",
      "/opt/anaconda3/lib/python3.8/site-packages/urllib3/connectionpool.py:981: InsecureRequestWarning: Unverified HTTPS request is being made to host '100.123.26.252'. Adding certificate verification is strongly advised. See: https://urllib3.readthedocs.io/en/latest/advanced-usage.html#ssl-warnings\n",
      "  warnings.warn(\n",
      "/opt/anaconda3/lib/python3.8/site-packages/urllib3/connectionpool.py:981: InsecureRequestWarning: Unverified HTTPS request is being made to host '100.123.26.252'. Adding certificate verification is strongly advised. See: https://urllib3.readthedocs.io/en/latest/advanced-usage.html#ssl-warnings\n",
      "  warnings.warn(\n",
      "/opt/anaconda3/lib/python3.8/site-packages/urllib3/connectionpool.py:981: InsecureRequestWarning: Unverified HTTPS request is being made to host '100.123.26.252'. Adding certificate verification is strongly advised. See: https://urllib3.readthedocs.io/en/latest/advanced-usage.html#ssl-warnings\n",
      "  warnings.warn(\n",
      "/opt/anaconda3/lib/python3.8/site-packages/urllib3/connectionpool.py:981: InsecureRequestWarning: Unverified HTTPS request is being made to host '100.123.26.252'. Adding certificate verification is strongly advised. See: https://urllib3.readthedocs.io/en/latest/advanced-usage.html#ssl-warnings\n",
      "  warnings.warn(\n"
     ]
    },
    {
     "name": "stdout",
     "output_type": "stream",
     "text": [
      "1.-Fecha: 2021-10-21 19:07:08.893157 - Error bucle externo:  404  no trajo datos:  https://100.123.26.224/api/v2/devices/58:C1:7A:0A:9A:E8/performance?start_time=202110211800&stop_time=202110211859\n",
      "1.-Fecha: 2021-10-21 19:07:08.893157 - Error bucle externo:  404  no trajo datos:  https://100.123.26.252/api/v2/devices/58:C1:7A:0A:9B:01/performance?start_time=202110211800&stop_time=202110211859\n",
      "1.-Fecha: 2021-10-21 19:07:08.893157 - Error bucle externo:  404  no trajo datos:  https://100.123.26.252/api/v2/devices/58:C1:7A:0A:9B:03/performance?start_time=202110211800&stop_time=202110211859\n",
      "1.-Fecha: 2021-10-21 19:07:08.893157 - Error bucle externo:  404  no trajo datos:  https://100.123.26.252/api/v2/devices/58:C1:7A:0A:9B:04/performance?start_time=202110211800&stop_time=202110211859\n",
      " dato_param['total']  13 1\n",
      "https://100.123.26.252/api/v2/devices/58:C1:7A:0A:9B:22/performance?offset=0&start_time=202110211800&stop_time=202110211859\n",
      "1.-Fecha: 2021-10-21 19:07:08.893157 - Error bucle externo:  404  no trajo datos:  https://100.123.26.224/api/v2/devices/58:C1:7A:0A:9B:22/performance?start_time=202110211800&stop_time=202110211859\n",
      "1.-Fecha: 2021-10-21 19:07:08.893157 - Error bucle externo:  404  no trajo datos:  https://100.123.26.252/api/v2/devices/58:C1:7A:0A:9B:2C/performance?start_time=202110211800&stop_time=202110211859\n"
     ]
    },
    {
     "name": "stderr",
     "output_type": "stream",
     "text": [
      "/opt/anaconda3/lib/python3.8/site-packages/urllib3/connectionpool.py:981: InsecureRequestWarning: Unverified HTTPS request is being made to host '100.123.26.252'. Adding certificate verification is strongly advised. See: https://urllib3.readthedocs.io/en/latest/advanced-usage.html#ssl-warnings\n",
      "  warnings.warn(\n",
      "/opt/anaconda3/lib/python3.8/site-packages/urllib3/connectionpool.py:981: InsecureRequestWarning: Unverified HTTPS request is being made to host '100.123.26.224'. Adding certificate verification is strongly advised. See: https://urllib3.readthedocs.io/en/latest/advanced-usage.html#ssl-warnings\n",
      "  warnings.warn(\n",
      "/opt/anaconda3/lib/python3.8/site-packages/urllib3/connectionpool.py:981: InsecureRequestWarning: Unverified HTTPS request is being made to host '100.123.26.252'. Adding certificate verification is strongly advised. See: https://urllib3.readthedocs.io/en/latest/advanced-usage.html#ssl-warnings\n",
      "  warnings.warn(\n",
      "/opt/anaconda3/lib/python3.8/site-packages/urllib3/connectionpool.py:981: InsecureRequestWarning: Unverified HTTPS request is being made to host '100.123.26.252'. Adding certificate verification is strongly advised. See: https://urllib3.readthedocs.io/en/latest/advanced-usage.html#ssl-warnings\n",
      "  warnings.warn(\n"
     ]
    },
    {
     "name": "stdout",
     "output_type": "stream",
     "text": [
      "1.-Fecha: 2021-10-21 19:07:08.893157 - Error bucle externo:  404  no trajo datos:  https://100.123.26.252/api/v2/devices/58:C1:7A:0A:9B:2F/performance?start_time=202110211800&stop_time=202110211859\n",
      "1.-Fecha: 2021-10-21 19:07:08.893157 - Error bucle externo:  404  no trajo datos:  https://100.123.26.252/api/v2/devices/58:C1:7A:0A:9B:35/performance?start_time=202110211800&stop_time=202110211859\n",
      "1.-Fecha: 2021-10-21 19:07:08.893157 - Error bucle externo:  404  no trajo datos:  https://100.123.26.252/api/v2/devices/58:C1:7A:0A:9B:36/performance?start_time=202110211800&stop_time=202110211859\n",
      "1.-Fecha: 2021-10-21 19:07:08.893157 - Error bucle externo:  404  no trajo datos:  https://100.123.26.252/api/v2/devices/58:C1:7A:0A:9B:3C/performance?start_time=202110211800&stop_time=202110211859\n"
     ]
    },
    {
     "name": "stderr",
     "output_type": "stream",
     "text": [
      "/opt/anaconda3/lib/python3.8/site-packages/urllib3/connectionpool.py:981: InsecureRequestWarning: Unverified HTTPS request is being made to host '100.123.26.252'. Adding certificate verification is strongly advised. See: https://urllib3.readthedocs.io/en/latest/advanced-usage.html#ssl-warnings\n",
      "  warnings.warn(\n",
      "/opt/anaconda3/lib/python3.8/site-packages/urllib3/connectionpool.py:981: InsecureRequestWarning: Unverified HTTPS request is being made to host '100.123.26.252'. Adding certificate verification is strongly advised. See: https://urllib3.readthedocs.io/en/latest/advanced-usage.html#ssl-warnings\n",
      "  warnings.warn(\n",
      "/opt/anaconda3/lib/python3.8/site-packages/urllib3/connectionpool.py:981: InsecureRequestWarning: Unverified HTTPS request is being made to host '100.123.26.252'. Adding certificate verification is strongly advised. See: https://urllib3.readthedocs.io/en/latest/advanced-usage.html#ssl-warnings\n",
      "  warnings.warn(\n",
      "/opt/anaconda3/lib/python3.8/site-packages/urllib3/connectionpool.py:981: InsecureRequestWarning: Unverified HTTPS request is being made to host '100.123.26.252'. Adding certificate verification is strongly advised. See: https://urllib3.readthedocs.io/en/latest/advanced-usage.html#ssl-warnings\n",
      "  warnings.warn(\n"
     ]
    },
    {
     "name": "stdout",
     "output_type": "stream",
     "text": [
      "1.-Fecha: 2021-10-21 19:07:08.893157 - Error bucle externo:  404  no trajo datos:  https://100.123.26.252/api/v2/devices/58:C1:7A:0A:9B:4C/performance?start_time=202110211800&stop_time=202110211859\n",
      "1.-Fecha: 2021-10-21 19:07:08.893157 - Error bucle externo:  404  no trajo datos:  https://100.123.26.252/api/v2/devices/58:C1:7A:0A:9B:4D/performance?start_time=202110211800&stop_time=202110211859\n",
      "1.-Fecha: 2021-10-21 19:07:08.893157 - Error bucle externo:  404  no trajo datos:  https://100.123.26.252/api/v2/devices/58:C1:7A:0A:9B:58/performance?start_time=202110211800&stop_time=202110211859\n"
     ]
    },
    {
     "name": "stderr",
     "output_type": "stream",
     "text": [
      "/opt/anaconda3/lib/python3.8/site-packages/urllib3/connectionpool.py:981: InsecureRequestWarning: Unverified HTTPS request is being made to host '100.123.26.252'. Adding certificate verification is strongly advised. See: https://urllib3.readthedocs.io/en/latest/advanced-usage.html#ssl-warnings\n",
      "  warnings.warn(\n",
      "/opt/anaconda3/lib/python3.8/site-packages/urllib3/connectionpool.py:981: InsecureRequestWarning: Unverified HTTPS request is being made to host '100.123.26.252'. Adding certificate verification is strongly advised. See: https://urllib3.readthedocs.io/en/latest/advanced-usage.html#ssl-warnings\n",
      "  warnings.warn(\n",
      "/opt/anaconda3/lib/python3.8/site-packages/urllib3/connectionpool.py:981: InsecureRequestWarning: Unverified HTTPS request is being made to host '100.123.26.252'. Adding certificate verification is strongly advised. See: https://urllib3.readthedocs.io/en/latest/advanced-usage.html#ssl-warnings\n",
      "  warnings.warn(\n"
     ]
    },
    {
     "name": "stdout",
     "output_type": "stream",
     "text": [
      "1.-Fecha: 2021-10-21 19:07:08.893157 - Error bucle externo:  404  no trajo datos:  https://100.123.26.252/api/v2/devices/58:C1:7A:0A:9B:5C/performance?start_time=202110211800&stop_time=202110211859\n",
      "1.-Fecha: 2021-10-21 19:07:08.893157 - Error bucle externo:  404  no trajo datos:  https://100.123.26.252/api/v2/devices/58:C1:7A:0A:9B:5E/performance?start_time=202110211800&stop_time=202110211859\n",
      "1.-Fecha: 2021-10-21 19:07:08.893157 - Error bucle externo:  404  no trajo datos:  https://100.123.26.252/api/v2/devices/58:C1:7A:0A:9B:63/performance?start_time=202110211800&stop_time=202110211859\n",
      " dato_param['total']  13 1\n",
      "https://100.123.26.252/api/v2/devices/58:C1:7A:0A:9B:79/performance?offset=0&start_time=202110211800&stop_time=202110211859\n"
     ]
    },
    {
     "name": "stderr",
     "output_type": "stream",
     "text": [
      "/opt/anaconda3/lib/python3.8/site-packages/urllib3/connectionpool.py:981: InsecureRequestWarning: Unverified HTTPS request is being made to host '100.123.26.252'. Adding certificate verification is strongly advised. See: https://urllib3.readthedocs.io/en/latest/advanced-usage.html#ssl-warnings\n",
      "  warnings.warn(\n",
      "/opt/anaconda3/lib/python3.8/site-packages/urllib3/connectionpool.py:981: InsecureRequestWarning: Unverified HTTPS request is being made to host '100.123.26.252'. Adding certificate verification is strongly advised. See: https://urllib3.readthedocs.io/en/latest/advanced-usage.html#ssl-warnings\n",
      "  warnings.warn(\n",
      "/opt/anaconda3/lib/python3.8/site-packages/urllib3/connectionpool.py:981: InsecureRequestWarning: Unverified HTTPS request is being made to host '100.123.26.252'. Adding certificate verification is strongly advised. See: https://urllib3.readthedocs.io/en/latest/advanced-usage.html#ssl-warnings\n",
      "  warnings.warn(\n",
      "/opt/anaconda3/lib/python3.8/site-packages/urllib3/connectionpool.py:981: InsecureRequestWarning: Unverified HTTPS request is being made to host '100.123.26.252'. Adding certificate verification is strongly advised. See: https://urllib3.readthedocs.io/en/latest/advanced-usage.html#ssl-warnings\n",
      "  warnings.warn(\n",
      "/opt/anaconda3/lib/python3.8/site-packages/urllib3/connectionpool.py:981: InsecureRequestWarning: Unverified HTTPS request is being made to host '100.123.26.224'. Adding certificate verification is strongly advised. See: https://urllib3.readthedocs.io/en/latest/advanced-usage.html#ssl-warnings\n",
      "  warnings.warn(\n",
      "/opt/anaconda3/lib/python3.8/site-packages/urllib3/connectionpool.py:981: InsecureRequestWarning: Unverified HTTPS request is being made to host '100.123.26.252'. Adding certificate verification is strongly advised. See: https://urllib3.readthedocs.io/en/latest/advanced-usage.html#ssl-warnings\n",
      "  warnings.warn(\n",
      "/opt/anaconda3/lib/python3.8/site-packages/urllib3/connectionpool.py:981: InsecureRequestWarning: Unverified HTTPS request is being made to host '100.123.26.252'. Adding certificate verification is strongly advised. See: https://urllib3.readthedocs.io/en/latest/advanced-usage.html#ssl-warnings\n",
      "  warnings.warn(\n"
     ]
    },
    {
     "name": "stdout",
     "output_type": "stream",
     "text": [
      "1.-Fecha: 2021-10-21 19:07:08.893157 - Error bucle externo:  404  no trajo datos:  https://100.123.26.224/api/v2/devices/58:C1:7A:0A:9B:79/performance?start_time=202110211800&stop_time=202110211859\n",
      "1.-Fecha: 2021-10-21 19:07:08.893157 - Error bucle externo:  404  no trajo datos:  https://100.123.26.252/api/v2/devices/58:C1:7A:0A:9B:7A/performance?start_time=202110211800&stop_time=202110211859\n",
      "1.-Fecha: 2021-10-21 19:07:08.893157 - Error bucle externo:  404  no trajo datos:  https://100.123.26.252/api/v2/devices/58:C1:7A:0A:9B:7C/performance?start_time=202110211800&stop_time=202110211859\n",
      "1.-Fecha: 2021-10-21 19:07:08.893157 - Error bucle externo:  404  no trajo datos:  https://100.123.26.252/api/v2/devices/58:C1:7A:0A:9B:7D/performance?start_time=202110211800&stop_time=202110211859\n"
     ]
    },
    {
     "name": "stderr",
     "output_type": "stream",
     "text": [
      "/opt/anaconda3/lib/python3.8/site-packages/urllib3/connectionpool.py:981: InsecureRequestWarning: Unverified HTTPS request is being made to host '100.123.26.252'. Adding certificate verification is strongly advised. See: https://urllib3.readthedocs.io/en/latest/advanced-usage.html#ssl-warnings\n",
      "  warnings.warn(\n",
      "/opt/anaconda3/lib/python3.8/site-packages/urllib3/connectionpool.py:981: InsecureRequestWarning: Unverified HTTPS request is being made to host '100.123.26.252'. Adding certificate verification is strongly advised. See: https://urllib3.readthedocs.io/en/latest/advanced-usage.html#ssl-warnings\n",
      "  warnings.warn(\n",
      "/opt/anaconda3/lib/python3.8/site-packages/urllib3/connectionpool.py:981: InsecureRequestWarning: Unverified HTTPS request is being made to host '100.123.26.252'. Adding certificate verification is strongly advised. See: https://urllib3.readthedocs.io/en/latest/advanced-usage.html#ssl-warnings\n",
      "  warnings.warn(\n"
     ]
    },
    {
     "name": "stdout",
     "output_type": "stream",
     "text": [
      "1.-Fecha: 2021-10-21 19:07:08.893157 - Error bucle externo:  404  no trajo datos:  https://100.123.26.252/api/v2/devices/58:C1:7A:0A:9B:7E/performance?start_time=202110211800&stop_time=202110211859\n",
      "1.-Fecha: 2021-10-21 19:07:08.893157 - Error bucle externo:  404  no trajo datos:  https://100.123.26.252/api/v2/devices/58:C1:7A:0A:9B:94/performance?start_time=202110211800&stop_time=202110211859\n",
      " dato_param['total']  13 1\n",
      "https://100.123.26.252/api/v2/devices/58:C1:7A:0A:9B:95/performance?offset=0&start_time=202110211800&stop_time=202110211859\n"
     ]
    },
    {
     "name": "stderr",
     "output_type": "stream",
     "text": [
      "/opt/anaconda3/lib/python3.8/site-packages/urllib3/connectionpool.py:981: InsecureRequestWarning: Unverified HTTPS request is being made to host '100.123.26.252'. Adding certificate verification is strongly advised. See: https://urllib3.readthedocs.io/en/latest/advanced-usage.html#ssl-warnings\n",
      "  warnings.warn(\n",
      "/opt/anaconda3/lib/python3.8/site-packages/urllib3/connectionpool.py:981: InsecureRequestWarning: Unverified HTTPS request is being made to host '100.123.26.252'. Adding certificate verification is strongly advised. See: https://urllib3.readthedocs.io/en/latest/advanced-usage.html#ssl-warnings\n",
      "  warnings.warn(\n",
      "/opt/anaconda3/lib/python3.8/site-packages/urllib3/connectionpool.py:981: InsecureRequestWarning: Unverified HTTPS request is being made to host '100.123.26.224'. Adding certificate verification is strongly advised. See: https://urllib3.readthedocs.io/en/latest/advanced-usage.html#ssl-warnings\n",
      "  warnings.warn(\n",
      "/opt/anaconda3/lib/python3.8/site-packages/urllib3/connectionpool.py:981: InsecureRequestWarning: Unverified HTTPS request is being made to host '100.123.26.252'. Adding certificate verification is strongly advised. See: https://urllib3.readthedocs.io/en/latest/advanced-usage.html#ssl-warnings\n",
      "  warnings.warn(\n",
      "/opt/anaconda3/lib/python3.8/site-packages/urllib3/connectionpool.py:981: InsecureRequestWarning: Unverified HTTPS request is being made to host '100.123.26.252'. Adding certificate verification is strongly advised. See: https://urllib3.readthedocs.io/en/latest/advanced-usage.html#ssl-warnings\n",
      "  warnings.warn(\n"
     ]
    },
    {
     "name": "stdout",
     "output_type": "stream",
     "text": [
      "1.-Fecha: 2021-10-21 19:07:08.893157 - Error bucle externo:  422  no trajo datos:  https://100.123.26.224/api/v2/devices/58:C1:7A:0A:9B:95/performance?start_time=202110211800&stop_time=202110211859\n",
      "1.-Fecha: 2021-10-21 19:07:08.893157 - Error bucle externo:  404  no trajo datos:  https://100.123.26.252/api/v2/devices/58:C1:7A:0A:9B:9A/performance?start_time=202110211800&stop_time=202110211859\n",
      "1.-Fecha: 2021-10-21 19:07:08.893157 - Error bucle externo:  404  no trajo datos:  https://100.123.26.252/api/v2/devices/58:C1:7A:0A:9B:AD/performance?start_time=202110211800&stop_time=202110211859\n",
      "1.-Fecha: 2021-10-21 19:07:08.893157 - Error bucle externo:  404  no trajo datos:  https://100.123.26.252/api/v2/devices/58:C1:7A:0A:9B:BB/performance?start_time=202110211800&stop_time=202110211859\n",
      "1.-Fecha: 2021-10-21 19:07:08.893157 - Error bucle externo:  404  no trajo datos:  https://100.123.26.252/api/v2/devices/58:C1:7A:0A:9B:BF/performance?start_time=202110211800&stop_time=202110211859\n"
     ]
    },
    {
     "name": "stderr",
     "output_type": "stream",
     "text": [
      "/opt/anaconda3/lib/python3.8/site-packages/urllib3/connectionpool.py:981: InsecureRequestWarning: Unverified HTTPS request is being made to host '100.123.26.252'. Adding certificate verification is strongly advised. See: https://urllib3.readthedocs.io/en/latest/advanced-usage.html#ssl-warnings\n",
      "  warnings.warn(\n",
      "/opt/anaconda3/lib/python3.8/site-packages/urllib3/connectionpool.py:981: InsecureRequestWarning: Unverified HTTPS request is being made to host '100.123.26.252'. Adding certificate verification is strongly advised. See: https://urllib3.readthedocs.io/en/latest/advanced-usage.html#ssl-warnings\n",
      "  warnings.warn(\n",
      "/opt/anaconda3/lib/python3.8/site-packages/urllib3/connectionpool.py:981: InsecureRequestWarning: Unverified HTTPS request is being made to host '100.123.26.252'. Adding certificate verification is strongly advised. See: https://urllib3.readthedocs.io/en/latest/advanced-usage.html#ssl-warnings\n",
      "  warnings.warn(\n",
      "/opt/anaconda3/lib/python3.8/site-packages/urllib3/connectionpool.py:981: InsecureRequestWarning: Unverified HTTPS request is being made to host '100.123.26.252'. Adding certificate verification is strongly advised. See: https://urllib3.readthedocs.io/en/latest/advanced-usage.html#ssl-warnings\n",
      "  warnings.warn(\n"
     ]
    },
    {
     "name": "stdout",
     "output_type": "stream",
     "text": [
      "1.-Fecha: 2021-10-21 19:07:08.893157 - Error bucle externo:  404  no trajo datos:  https://100.123.26.252/api/v2/devices/58:C1:7A:0A:9B:EB/performance?start_time=202110211800&stop_time=202110211859\n",
      "1.-Fecha: 2021-10-21 19:07:08.893157 - Error bucle externo:  404  no trajo datos:  https://100.123.26.252/api/v2/devices/58:C1:7A:0A:9C:00/performance?start_time=202110211800&stop_time=202110211859\n",
      "1.-Fecha: 2021-10-21 19:07:08.893157 - Error bucle externo:  404  no trajo datos:  https://100.123.26.252/api/v2/devices/58:C1:7A:0A:9C:01/performance?start_time=202110211800&stop_time=202110211859\n"
     ]
    },
    {
     "name": "stderr",
     "output_type": "stream",
     "text": [
      "/opt/anaconda3/lib/python3.8/site-packages/urllib3/connectionpool.py:981: InsecureRequestWarning: Unverified HTTPS request is being made to host '100.123.26.252'. Adding certificate verification is strongly advised. See: https://urllib3.readthedocs.io/en/latest/advanced-usage.html#ssl-warnings\n",
      "  warnings.warn(\n",
      "/opt/anaconda3/lib/python3.8/site-packages/urllib3/connectionpool.py:981: InsecureRequestWarning: Unverified HTTPS request is being made to host '100.123.26.252'. Adding certificate verification is strongly advised. See: https://urllib3.readthedocs.io/en/latest/advanced-usage.html#ssl-warnings\n",
      "  warnings.warn(\n",
      "/opt/anaconda3/lib/python3.8/site-packages/urllib3/connectionpool.py:981: InsecureRequestWarning: Unverified HTTPS request is being made to host '100.123.26.252'. Adding certificate verification is strongly advised. See: https://urllib3.readthedocs.io/en/latest/advanced-usage.html#ssl-warnings\n",
      "  warnings.warn(\n",
      "/opt/anaconda3/lib/python3.8/site-packages/urllib3/connectionpool.py:981: InsecureRequestWarning: Unverified HTTPS request is being made to host '100.123.26.224'. Adding certificate verification is strongly advised. See: https://urllib3.readthedocs.io/en/latest/advanced-usage.html#ssl-warnings\n",
      "  warnings.warn(\n"
     ]
    },
    {
     "name": "stdout",
     "output_type": "stream",
     "text": [
      " dato_param['total']  13 1\n",
      "https://100.123.26.252/api/v2/devices/58:C1:7A:0A:9C:08/performance?offset=0&start_time=202110211800&stop_time=202110211859\n",
      "1.-Fecha: 2021-10-21 19:07:08.893157 - Error bucle externo:  404  no trajo datos:  https://100.123.26.224/api/v2/devices/58:C1:7A:0A:9C:08/performance?start_time=202110211800&stop_time=202110211859\n",
      "1.-Fecha: 2021-10-21 19:07:08.893157 - Error bucle externo:  422  no trajo datos:  https://100.123.26.252/api/v2/devices/58:C1:7A:0A:C1:E1/performance?start_time=202110211800&stop_time=202110211859\n"
     ]
    },
    {
     "name": "stderr",
     "output_type": "stream",
     "text": [
      "/opt/anaconda3/lib/python3.8/site-packages/urllib3/connectionpool.py:981: InsecureRequestWarning: Unverified HTTPS request is being made to host '100.123.26.252'. Adding certificate verification is strongly advised. See: https://urllib3.readthedocs.io/en/latest/advanced-usage.html#ssl-warnings\n",
      "  warnings.warn(\n",
      "/opt/anaconda3/lib/python3.8/site-packages/urllib3/connectionpool.py:981: InsecureRequestWarning: Unverified HTTPS request is being made to host '100.123.26.252'. Adding certificate verification is strongly advised. See: https://urllib3.readthedocs.io/en/latest/advanced-usage.html#ssl-warnings\n",
      "  warnings.warn(\n",
      "/opt/anaconda3/lib/python3.8/site-packages/urllib3/connectionpool.py:981: InsecureRequestWarning: Unverified HTTPS request is being made to host '100.123.26.252'. Adding certificate verification is strongly advised. See: https://urllib3.readthedocs.io/en/latest/advanced-usage.html#ssl-warnings\n",
      "  warnings.warn(\n",
      "/opt/anaconda3/lib/python3.8/site-packages/urllib3/connectionpool.py:981: InsecureRequestWarning: Unverified HTTPS request is being made to host '100.123.26.252'. Adding certificate verification is strongly advised. See: https://urllib3.readthedocs.io/en/latest/advanced-usage.html#ssl-warnings\n",
      "  warnings.warn(\n"
     ]
    },
    {
     "name": "stdout",
     "output_type": "stream",
     "text": [
      "1.-Fecha: 2021-10-21 19:07:08.893157 - Error bucle externo:  404  no trajo datos:  https://100.123.26.252/api/v2/devices/58:C1:7A:0A:C2:36/performance?start_time=202110211800&stop_time=202110211859\n",
      "1.-Fecha: 2021-10-21 19:07:08.893157 - Error bucle externo:  422  no trajo datos:  https://100.123.26.252/api/v2/devices/58:C1:7A:0B:6F:3A/performance?start_time=202110211800&stop_time=202110211859\n",
      "1.-Fecha: 2021-10-21 19:07:08.893157 - Error bucle externo:  404  no trajo datos:  https://100.123.26.252/api/v2/devices/58:C1:7A:0B:6F:4E/performance?start_time=202110211800&stop_time=202110211859\n",
      "1.-Fecha: 2021-10-21 19:07:08.893157 - Error bucle externo:  404  no trajo datos:  https://100.123.26.252/api/v2/devices/58:C1:7A:0B:6F:A6/performance?start_time=202110211800&stop_time=202110211859\n"
     ]
    },
    {
     "name": "stderr",
     "output_type": "stream",
     "text": [
      "/opt/anaconda3/lib/python3.8/site-packages/urllib3/connectionpool.py:981: InsecureRequestWarning: Unverified HTTPS request is being made to host '100.123.26.252'. Adding certificate verification is strongly advised. See: https://urllib3.readthedocs.io/en/latest/advanced-usage.html#ssl-warnings\n",
      "  warnings.warn(\n",
      "/opt/anaconda3/lib/python3.8/site-packages/urllib3/connectionpool.py:981: InsecureRequestWarning: Unverified HTTPS request is being made to host '100.123.26.252'. Adding certificate verification is strongly advised. See: https://urllib3.readthedocs.io/en/latest/advanced-usage.html#ssl-warnings\n",
      "  warnings.warn(\n",
      "/opt/anaconda3/lib/python3.8/site-packages/urllib3/connectionpool.py:981: InsecureRequestWarning: Unverified HTTPS request is being made to host '100.123.26.252'. Adding certificate verification is strongly advised. See: https://urllib3.readthedocs.io/en/latest/advanced-usage.html#ssl-warnings\n",
      "  warnings.warn(\n"
     ]
    },
    {
     "name": "stdout",
     "output_type": "stream",
     "text": [
      "1.-Fecha: 2021-10-21 19:07:08.893157 - Error bucle externo:  404  no trajo datos:  https://100.123.26.252/api/v2/devices/58:C1:7A:0B:6F:DD/performance?start_time=202110211800&stop_time=202110211859\n",
      " dato_param['total']  13 1\n",
      "https://100.123.26.252/api/v2/devices/58:C1:7A:0B:6F:E0/performance?offset=0&start_time=202110211800&stop_time=202110211859\n",
      "1.-Fecha: 2021-10-21 19:07:08.893157 - Error bucle externo:  404  no trajo datos:  https://100.123.26.224/api/v2/devices/58:C1:7A:0B:6F:E0/performance?start_time=202110211800&stop_time=202110211859\n"
     ]
    },
    {
     "name": "stderr",
     "output_type": "stream",
     "text": [
      "/opt/anaconda3/lib/python3.8/site-packages/urllib3/connectionpool.py:981: InsecureRequestWarning: Unverified HTTPS request is being made to host '100.123.26.252'. Adding certificate verification is strongly advised. See: https://urllib3.readthedocs.io/en/latest/advanced-usage.html#ssl-warnings\n",
      "  warnings.warn(\n",
      "/opt/anaconda3/lib/python3.8/site-packages/urllib3/connectionpool.py:981: InsecureRequestWarning: Unverified HTTPS request is being made to host '100.123.26.224'. Adding certificate verification is strongly advised. See: https://urllib3.readthedocs.io/en/latest/advanced-usage.html#ssl-warnings\n",
      "  warnings.warn(\n",
      "/opt/anaconda3/lib/python3.8/site-packages/urllib3/connectionpool.py:981: InsecureRequestWarning: Unverified HTTPS request is being made to host '100.123.26.252'. Adding certificate verification is strongly advised. See: https://urllib3.readthedocs.io/en/latest/advanced-usage.html#ssl-warnings\n",
      "  warnings.warn(\n",
      "/opt/anaconda3/lib/python3.8/site-packages/urllib3/connectionpool.py:981: InsecureRequestWarning: Unverified HTTPS request is being made to host '100.123.26.252'. Adding certificate verification is strongly advised. See: https://urllib3.readthedocs.io/en/latest/advanced-usage.html#ssl-warnings\n",
      "  warnings.warn(\n"
     ]
    },
    {
     "name": "stdout",
     "output_type": "stream",
     "text": [
      " dato_param['total']  1 1\n",
      "https://100.123.26.252/api/v2/devices/58:C1:7A:0B:6F:E1/performance?offset=0&start_time=202110211800&stop_time=202110211859\n",
      "1.-Fecha: 2021-10-21 19:07:08.893157 - Error bucle externo:  404  no trajo datos:  https://100.123.26.224/api/v2/devices/58:C1:7A:0B:6F:E1/performance?start_time=202110211800&stop_time=202110211859\n"
     ]
    },
    {
     "name": "stderr",
     "output_type": "stream",
     "text": [
      "/opt/anaconda3/lib/python3.8/site-packages/urllib3/connectionpool.py:981: InsecureRequestWarning: Unverified HTTPS request is being made to host '100.123.26.224'. Adding certificate verification is strongly advised. See: https://urllib3.readthedocs.io/en/latest/advanced-usage.html#ssl-warnings\n",
      "  warnings.warn(\n",
      "/opt/anaconda3/lib/python3.8/site-packages/urllib3/connectionpool.py:981: InsecureRequestWarning: Unverified HTTPS request is being made to host '100.123.26.252'. Adding certificate verification is strongly advised. See: https://urllib3.readthedocs.io/en/latest/advanced-usage.html#ssl-warnings\n",
      "  warnings.warn(\n",
      "/opt/anaconda3/lib/python3.8/site-packages/urllib3/connectionpool.py:981: InsecureRequestWarning: Unverified HTTPS request is being made to host '100.123.26.252'. Adding certificate verification is strongly advised. See: https://urllib3.readthedocs.io/en/latest/advanced-usage.html#ssl-warnings\n",
      "  warnings.warn(\n",
      "/opt/anaconda3/lib/python3.8/site-packages/urllib3/connectionpool.py:981: InsecureRequestWarning: Unverified HTTPS request is being made to host '100.123.26.224'. Adding certificate verification is strongly advised. See: https://urllib3.readthedocs.io/en/latest/advanced-usage.html#ssl-warnings\n",
      "  warnings.warn(\n"
     ]
    },
    {
     "name": "stdout",
     "output_type": "stream",
     "text": [
      " dato_param['total']  1 1\n",
      "https://100.123.26.252/api/v2/devices/58:C1:7A:0B:70:2D/performance?offset=0&start_time=202110211800&stop_time=202110211859\n",
      "1.-Fecha: 2021-10-21 19:07:08.893157 - Error bucle externo:  404  no trajo datos:  https://100.123.26.224/api/v2/devices/58:C1:7A:0B:70:2D/performance?start_time=202110211800&stop_time=202110211859\n",
      " dato_param['total']  1 1\n",
      "https://100.123.26.252/api/v2/devices/58:C1:7A:0B:BB:76/performance?offset=0&start_time=202110211800&stop_time=202110211859\n"
     ]
    },
    {
     "name": "stderr",
     "output_type": "stream",
     "text": [
      "/opt/anaconda3/lib/python3.8/site-packages/urllib3/connectionpool.py:981: InsecureRequestWarning: Unverified HTTPS request is being made to host '100.123.26.252'. Adding certificate verification is strongly advised. See: https://urllib3.readthedocs.io/en/latest/advanced-usage.html#ssl-warnings\n",
      "  warnings.warn(\n",
      "/opt/anaconda3/lib/python3.8/site-packages/urllib3/connectionpool.py:981: InsecureRequestWarning: Unverified HTTPS request is being made to host '100.123.26.252'. Adding certificate verification is strongly advised. See: https://urllib3.readthedocs.io/en/latest/advanced-usage.html#ssl-warnings\n",
      "  warnings.warn(\n",
      "/opt/anaconda3/lib/python3.8/site-packages/urllib3/connectionpool.py:981: InsecureRequestWarning: Unverified HTTPS request is being made to host '100.123.26.224'. Adding certificate verification is strongly advised. See: https://urllib3.readthedocs.io/en/latest/advanced-usage.html#ssl-warnings\n",
      "  warnings.warn(\n",
      "/opt/anaconda3/lib/python3.8/site-packages/urllib3/connectionpool.py:981: InsecureRequestWarning: Unverified HTTPS request is being made to host '100.123.26.252'. Adding certificate verification is strongly advised. See: https://urllib3.readthedocs.io/en/latest/advanced-usage.html#ssl-warnings\n",
      "  warnings.warn(\n"
     ]
    },
    {
     "name": "stdout",
     "output_type": "stream",
     "text": [
      "1.-Fecha: 2021-10-21 19:07:08.893157 - Error bucle externo:  404  no trajo datos:  https://100.123.26.224/api/v2/devices/58:C1:7A:0B:BB:76/performance?start_time=202110211800&stop_time=202110211859\n",
      " dato_param['total']  1 1\n",
      "https://100.123.26.252/api/v2/devices/58:C1:7A:0B:BB:95/performance?offset=0&start_time=202110211800&stop_time=202110211859\n"
     ]
    },
    {
     "name": "stderr",
     "output_type": "stream",
     "text": [
      "/opt/anaconda3/lib/python3.8/site-packages/urllib3/connectionpool.py:981: InsecureRequestWarning: Unverified HTTPS request is being made to host '100.123.26.252'. Adding certificate verification is strongly advised. See: https://urllib3.readthedocs.io/en/latest/advanced-usage.html#ssl-warnings\n",
      "  warnings.warn(\n",
      "/opt/anaconda3/lib/python3.8/site-packages/urllib3/connectionpool.py:981: InsecureRequestWarning: Unverified HTTPS request is being made to host '100.123.26.224'. Adding certificate verification is strongly advised. See: https://urllib3.readthedocs.io/en/latest/advanced-usage.html#ssl-warnings\n",
      "  warnings.warn(\n",
      "/opt/anaconda3/lib/python3.8/site-packages/urllib3/connectionpool.py:981: InsecureRequestWarning: Unverified HTTPS request is being made to host '100.123.26.252'. Adding certificate verification is strongly advised. See: https://urllib3.readthedocs.io/en/latest/advanced-usage.html#ssl-warnings\n",
      "  warnings.warn(\n"
     ]
    },
    {
     "name": "stdout",
     "output_type": "stream",
     "text": [
      "1.-Fecha: 2021-10-21 19:07:08.893157 - Error bucle externo:  404  no trajo datos:  https://100.123.26.224/api/v2/devices/58:C1:7A:0B:BB:95/performance?start_time=202110211800&stop_time=202110211859\n",
      " dato_param['total']  12 1\n",
      "https://100.123.26.252/api/v2/devices/58:C1:7A:0B:BB:96/performance?offset=0&start_time=202110211800&stop_time=202110211859\n",
      "1.-Fecha: 2021-10-21 19:07:08.893157 - Error bucle externo:  404  no trajo datos:  https://100.123.26.224/api/v2/devices/58:C1:7A:0B:BB:96/performance?start_time=202110211800&stop_time=202110211859\n",
      " dato_param['total']  13 1\n",
      "https://100.123.26.252/api/v2/devices/58:C1:7A:0B:BC:32/performance?offset=0&start_time=202110211800&stop_time=202110211859\n"
     ]
    },
    {
     "name": "stderr",
     "output_type": "stream",
     "text": [
      "/opt/anaconda3/lib/python3.8/site-packages/urllib3/connectionpool.py:981: InsecureRequestWarning: Unverified HTTPS request is being made to host '100.123.26.252'. Adding certificate verification is strongly advised. See: https://urllib3.readthedocs.io/en/latest/advanced-usage.html#ssl-warnings\n",
      "  warnings.warn(\n",
      "/opt/anaconda3/lib/python3.8/site-packages/urllib3/connectionpool.py:981: InsecureRequestWarning: Unverified HTTPS request is being made to host '100.123.26.224'. Adding certificate verification is strongly advised. See: https://urllib3.readthedocs.io/en/latest/advanced-usage.html#ssl-warnings\n",
      "  warnings.warn(\n",
      "/opt/anaconda3/lib/python3.8/site-packages/urllib3/connectionpool.py:981: InsecureRequestWarning: Unverified HTTPS request is being made to host '100.123.26.252'. Adding certificate verification is strongly advised. See: https://urllib3.readthedocs.io/en/latest/advanced-usage.html#ssl-warnings\n",
      "  warnings.warn(\n",
      "/opt/anaconda3/lib/python3.8/site-packages/urllib3/connectionpool.py:981: InsecureRequestWarning: Unverified HTTPS request is being made to host '100.123.26.252'. Adding certificate verification is strongly advised. See: https://urllib3.readthedocs.io/en/latest/advanced-usage.html#ssl-warnings\n",
      "  warnings.warn(\n",
      "/opt/anaconda3/lib/python3.8/site-packages/urllib3/connectionpool.py:981: InsecureRequestWarning: Unverified HTTPS request is being made to host '100.123.26.224'. Adding certificate verification is strongly advised. See: https://urllib3.readthedocs.io/en/latest/advanced-usage.html#ssl-warnings\n",
      "  warnings.warn(\n",
      "/opt/anaconda3/lib/python3.8/site-packages/urllib3/connectionpool.py:981: InsecureRequestWarning: Unverified HTTPS request is being made to host '100.123.26.252'. Adding certificate verification is strongly advised. See: https://urllib3.readthedocs.io/en/latest/advanced-usage.html#ssl-warnings\n",
      "  warnings.warn(\n",
      "/opt/anaconda3/lib/python3.8/site-packages/urllib3/connectionpool.py:981: InsecureRequestWarning: Unverified HTTPS request is being made to host '100.123.26.252'. Adding certificate verification is strongly advised. See: https://urllib3.readthedocs.io/en/latest/advanced-usage.html#ssl-warnings\n",
      "  warnings.warn(\n",
      "/opt/anaconda3/lib/python3.8/site-packages/urllib3/connectionpool.py:981: InsecureRequestWarning: Unverified HTTPS request is being made to host '100.123.26.252'. Adding certificate verification is strongly advised. See: https://urllib3.readthedocs.io/en/latest/advanced-usage.html#ssl-warnings\n",
      "  warnings.warn(\n"
     ]
    },
    {
     "name": "stdout",
     "output_type": "stream",
     "text": [
      "1.-Fecha: 2021-10-21 19:07:08.893157 - Error bucle externo:  404  no trajo datos:  https://100.123.26.224/api/v2/devices/58:C1:7A:0B:BC:32/performance?start_time=202110211800&stop_time=202110211859\n",
      "1.-Fecha: 2021-10-21 19:07:08.893157 - Error bucle externo:  404  no trajo datos:  https://100.123.26.252/api/v2/devices/58:C1:7A:0D:A1:9A/performance?start_time=202110211800&stop_time=202110211859\n",
      "1.-Fecha: 2021-10-21 19:07:08.893157 - Error bucle externo:  404  no trajo datos:  https://100.123.26.252/api/v2/devices/58:C1:7A:0D:A1:D6/performance?start_time=202110211800&stop_time=202110211859\n",
      "1.-Fecha: 2021-10-21 19:07:08.893157 - Error bucle externo:  404  no trajo datos:  https://100.123.26.252/api/v2/devices/58:C1:7A:0D:A1:D9/performance?start_time=202110211800&stop_time=202110211859\n",
      "1.-Fecha: 2021-10-21 19:07:08.893157 - Error bucle externo:  404  no trajo datos:  https://100.123.26.252/api/v2/devices/58:C1:7A:0D:A1:F5/performance?start_time=202110211800&stop_time=202110211859\n",
      "1.-Fecha: 2021-10-21 19:07:08.893157 - Error bucle externo:  404  no trajo datos:  https://100.123.26.252/api/v2/devices/58:C1:7A:0D:A1:FF/performance?start_time=202110211800&stop_time=202110211859\n"
     ]
    },
    {
     "name": "stderr",
     "output_type": "stream",
     "text": [
      "/opt/anaconda3/lib/python3.8/site-packages/urllib3/connectionpool.py:981: InsecureRequestWarning: Unverified HTTPS request is being made to host '100.123.26.252'. Adding certificate verification is strongly advised. See: https://urllib3.readthedocs.io/en/latest/advanced-usage.html#ssl-warnings\n",
      "  warnings.warn(\n",
      "/opt/anaconda3/lib/python3.8/site-packages/urllib3/connectionpool.py:981: InsecureRequestWarning: Unverified HTTPS request is being made to host '100.123.26.252'. Adding certificate verification is strongly advised. See: https://urllib3.readthedocs.io/en/latest/advanced-usage.html#ssl-warnings\n",
      "  warnings.warn(\n",
      "/opt/anaconda3/lib/python3.8/site-packages/urllib3/connectionpool.py:981: InsecureRequestWarning: Unverified HTTPS request is being made to host '100.123.26.252'. Adding certificate verification is strongly advised. See: https://urllib3.readthedocs.io/en/latest/advanced-usage.html#ssl-warnings\n",
      "  warnings.warn(\n",
      "/opt/anaconda3/lib/python3.8/site-packages/urllib3/connectionpool.py:981: InsecureRequestWarning: Unverified HTTPS request is being made to host '100.123.26.252'. Adding certificate verification is strongly advised. See: https://urllib3.readthedocs.io/en/latest/advanced-usage.html#ssl-warnings\n",
      "  warnings.warn(\n"
     ]
    },
    {
     "name": "stdout",
     "output_type": "stream",
     "text": [
      " dato_param['total']  12 1\n",
      "https://100.123.26.252/api/v2/devices/58:C1:7A:0D:C8:63/performance?offset=0&start_time=202110211800&stop_time=202110211859\n",
      "1.-Fecha: 2021-10-21 19:07:08.893157 - Error bucle externo:  404  no trajo datos:  https://100.123.26.224/api/v2/devices/58:C1:7A:0D:C8:63/performance?start_time=202110211800&stop_time=202110211859\n",
      " dato_param['total']  13 1\n",
      "https://100.123.26.252/api/v2/devices/58:C1:7A:0D:C8:82/performance?offset=0&start_time=202110211800&stop_time=202110211859\n"
     ]
    },
    {
     "name": "stderr",
     "output_type": "stream",
     "text": [
      "/opt/anaconda3/lib/python3.8/site-packages/urllib3/connectionpool.py:981: InsecureRequestWarning: Unverified HTTPS request is being made to host '100.123.26.224'. Adding certificate verification is strongly advised. See: https://urllib3.readthedocs.io/en/latest/advanced-usage.html#ssl-warnings\n",
      "  warnings.warn(\n",
      "/opt/anaconda3/lib/python3.8/site-packages/urllib3/connectionpool.py:981: InsecureRequestWarning: Unverified HTTPS request is being made to host '100.123.26.252'. Adding certificate verification is strongly advised. See: https://urllib3.readthedocs.io/en/latest/advanced-usage.html#ssl-warnings\n",
      "  warnings.warn(\n",
      "/opt/anaconda3/lib/python3.8/site-packages/urllib3/connectionpool.py:981: InsecureRequestWarning: Unverified HTTPS request is being made to host '100.123.26.252'. Adding certificate verification is strongly advised. See: https://urllib3.readthedocs.io/en/latest/advanced-usage.html#ssl-warnings\n",
      "  warnings.warn(\n",
      "/opt/anaconda3/lib/python3.8/site-packages/urllib3/connectionpool.py:981: InsecureRequestWarning: Unverified HTTPS request is being made to host '100.123.26.224'. Adding certificate verification is strongly advised. See: https://urllib3.readthedocs.io/en/latest/advanced-usage.html#ssl-warnings\n",
      "  warnings.warn(\n"
     ]
    },
    {
     "name": "stdout",
     "output_type": "stream",
     "text": [
      "1.-Fecha: 2021-10-21 19:07:08.893157 - Error bucle externo:  404  no trajo datos:  https://100.123.26.224/api/v2/devices/58:C1:7A:0D:C8:82/performance?start_time=202110211800&stop_time=202110211859\n",
      "1.-Fecha: 2021-10-21 19:07:08.893157 - Error bucle externo:  404  no trajo datos:  https://100.123.26.252/api/v2/devices/58:C1:7A:0D:C8:DC/performance?start_time=202110211800&stop_time=202110211859\n",
      "1.-Fecha: 2021-10-21 19:07:08.893157 - Error bucle externo:  404  no trajo datos:  https://100.123.26.252/api/v2/devices/58:C1:7A:0D:C9:2B/performance?start_time=202110211800&stop_time=202110211859\n",
      " dato_param['total']  13 1\n",
      "https://100.123.26.252/api/v2/devices/58:C1:7A:0E:BA:8F/performance?offset=0&start_time=202110211800&stop_time=202110211859\n"
     ]
    },
    {
     "name": "stderr",
     "output_type": "stream",
     "text": [
      "/opt/anaconda3/lib/python3.8/site-packages/urllib3/connectionpool.py:981: InsecureRequestWarning: Unverified HTTPS request is being made to host '100.123.26.252'. Adding certificate verification is strongly advised. See: https://urllib3.readthedocs.io/en/latest/advanced-usage.html#ssl-warnings\n",
      "  warnings.warn(\n",
      "/opt/anaconda3/lib/python3.8/site-packages/urllib3/connectionpool.py:981: InsecureRequestWarning: Unverified HTTPS request is being made to host '100.123.26.252'. Adding certificate verification is strongly advised. See: https://urllib3.readthedocs.io/en/latest/advanced-usage.html#ssl-warnings\n",
      "  warnings.warn(\n",
      "/opt/anaconda3/lib/python3.8/site-packages/urllib3/connectionpool.py:981: InsecureRequestWarning: Unverified HTTPS request is being made to host '100.123.26.252'. Adding certificate verification is strongly advised. See: https://urllib3.readthedocs.io/en/latest/advanced-usage.html#ssl-warnings\n",
      "  warnings.warn(\n",
      "/opt/anaconda3/lib/python3.8/site-packages/urllib3/connectionpool.py:981: InsecureRequestWarning: Unverified HTTPS request is being made to host '100.123.26.252'. Adding certificate verification is strongly advised. See: https://urllib3.readthedocs.io/en/latest/advanced-usage.html#ssl-warnings\n",
      "  warnings.warn(\n",
      "/opt/anaconda3/lib/python3.8/site-packages/urllib3/connectionpool.py:981: InsecureRequestWarning: Unverified HTTPS request is being made to host '100.123.26.224'. Adding certificate verification is strongly advised. See: https://urllib3.readthedocs.io/en/latest/advanced-usage.html#ssl-warnings\n",
      "  warnings.warn(\n",
      "/opt/anaconda3/lib/python3.8/site-packages/urllib3/connectionpool.py:981: InsecureRequestWarning: Unverified HTTPS request is being made to host '100.123.26.252'. Adding certificate verification is strongly advised. See: https://urllib3.readthedocs.io/en/latest/advanced-usage.html#ssl-warnings\n",
      "  warnings.warn(\n",
      "/opt/anaconda3/lib/python3.8/site-packages/urllib3/connectionpool.py:981: InsecureRequestWarning: Unverified HTTPS request is being made to host '100.123.26.252'. Adding certificate verification is strongly advised. See: https://urllib3.readthedocs.io/en/latest/advanced-usage.html#ssl-warnings\n",
      "  warnings.warn(\n"
     ]
    },
    {
     "name": "stdout",
     "output_type": "stream",
     "text": [
      "1.-Fecha: 2021-10-21 19:07:08.893157 - Error bucle externo:  404  no trajo datos:  https://100.123.26.224/api/v2/devices/58:C1:7A:0E:BA:8F/performance?start_time=202110211800&stop_time=202110211859\n",
      "1.-Fecha: 2021-10-21 19:07:08.893157 - Error bucle externo:  404  no trajo datos:  https://100.123.26.252/api/v2/devices/58:C1:7A:0E:BB:62/performance?start_time=202110211800&stop_time=202110211859\n",
      "1.-Fecha: 2021-10-21 19:07:08.893157 - Error bucle externo:  404  no trajo datos:  https://100.123.26.252/api/v2/devices/58:C1:7A:0E:BC:0F/performance?start_time=202110211800&stop_time=202110211859\n"
     ]
    },
    {
     "name": "stderr",
     "output_type": "stream",
     "text": [
      "/opt/anaconda3/lib/python3.8/site-packages/urllib3/connectionpool.py:981: InsecureRequestWarning: Unverified HTTPS request is being made to host '100.123.26.252'. Adding certificate verification is strongly advised. See: https://urllib3.readthedocs.io/en/latest/advanced-usage.html#ssl-warnings\n",
      "  warnings.warn(\n",
      "/opt/anaconda3/lib/python3.8/site-packages/urllib3/connectionpool.py:981: InsecureRequestWarning: Unverified HTTPS request is being made to host '100.123.26.252'. Adding certificate verification is strongly advised. See: https://urllib3.readthedocs.io/en/latest/advanced-usage.html#ssl-warnings\n",
      "  warnings.warn(\n",
      "/opt/anaconda3/lib/python3.8/site-packages/urllib3/connectionpool.py:981: InsecureRequestWarning: Unverified HTTPS request is being made to host '100.123.26.224'. Adding certificate verification is strongly advised. See: https://urllib3.readthedocs.io/en/latest/advanced-usage.html#ssl-warnings\n",
      "  warnings.warn(\n",
      "/opt/anaconda3/lib/python3.8/site-packages/urllib3/connectionpool.py:981: InsecureRequestWarning: Unverified HTTPS request is being made to host '100.123.26.252'. Adding certificate verification is strongly advised. See: https://urllib3.readthedocs.io/en/latest/advanced-usage.html#ssl-warnings\n",
      "  warnings.warn(\n"
     ]
    },
    {
     "name": "stdout",
     "output_type": "stream",
     "text": [
      " dato_param['total']  13 1\n",
      "https://100.123.26.252/api/v2/devices/58:C1:7A:0F:2F:F3/performance?offset=0&start_time=202110211800&stop_time=202110211859\n",
      "1.-Fecha: 2021-10-21 19:07:08.893157 - Error bucle externo:  404  no trajo datos:  https://100.123.26.224/api/v2/devices/58:C1:7A:0F:2F:F3/performance?start_time=202110211800&stop_time=202110211859\n",
      "1.-Fecha: 2021-10-21 19:07:08.893157 - Error bucle externo:  404  no trajo datos:  https://100.123.26.252/api/v2/devices/58:C1:7A:0F:30:0F/performance?start_time=202110211800&stop_time=202110211859\n",
      "1.-Fecha: 2021-10-21 19:07:08.893157 - Error bucle externo:  404  no trajo datos:  https://100.123.26.252/api/v2/devices/58:C1:7A:0F:30:1B/performance?start_time=202110211800&stop_time=202110211859\n"
     ]
    },
    {
     "name": "stderr",
     "output_type": "stream",
     "text": [
      "/opt/anaconda3/lib/python3.8/site-packages/urllib3/connectionpool.py:981: InsecureRequestWarning: Unverified HTTPS request is being made to host '100.123.26.252'. Adding certificate verification is strongly advised. See: https://urllib3.readthedocs.io/en/latest/advanced-usage.html#ssl-warnings\n",
      "  warnings.warn(\n",
      "/opt/anaconda3/lib/python3.8/site-packages/urllib3/connectionpool.py:981: InsecureRequestWarning: Unverified HTTPS request is being made to host '100.123.26.252'. Adding certificate verification is strongly advised. See: https://urllib3.readthedocs.io/en/latest/advanced-usage.html#ssl-warnings\n",
      "  warnings.warn(\n",
      "/opt/anaconda3/lib/python3.8/site-packages/urllib3/connectionpool.py:981: InsecureRequestWarning: Unverified HTTPS request is being made to host '100.123.26.252'. Adding certificate verification is strongly advised. See: https://urllib3.readthedocs.io/en/latest/advanced-usage.html#ssl-warnings\n",
      "  warnings.warn(\n",
      "/opt/anaconda3/lib/python3.8/site-packages/urllib3/connectionpool.py:981: InsecureRequestWarning: Unverified HTTPS request is being made to host '100.123.26.252'. Adding certificate verification is strongly advised. See: https://urllib3.readthedocs.io/en/latest/advanced-usage.html#ssl-warnings\n",
      "  warnings.warn(\n",
      "/opt/anaconda3/lib/python3.8/site-packages/urllib3/connectionpool.py:981: InsecureRequestWarning: Unverified HTTPS request is being made to host '100.123.26.252'. Adding certificate verification is strongly advised. See: https://urllib3.readthedocs.io/en/latest/advanced-usage.html#ssl-warnings\n",
      "  warnings.warn(\n"
     ]
    },
    {
     "name": "stdout",
     "output_type": "stream",
     "text": [
      "1.-Fecha: 2021-10-21 19:07:08.893157 - Error bucle externo:  404  no trajo datos:  https://100.123.26.252/api/v2/devices/58:C1:7A:0F:30:1E/performance?start_time=202110211800&stop_time=202110211859\n",
      "1.-Fecha: 2021-10-21 19:07:08.893157 - Error bucle externo:  404  no trajo datos:  https://100.123.26.252/api/v2/devices/58:C1:7A:0F:30:23/performance?start_time=202110211800&stop_time=202110211859\n",
      " dato_param['total']  1 1\n",
      "https://100.123.26.252/api/v2/devices/58:C1:7A:0F:30:5E/performance?offset=0&start_time=202110211800&stop_time=202110211859\n"
     ]
    },
    {
     "name": "stderr",
     "output_type": "stream",
     "text": [
      "/opt/anaconda3/lib/python3.8/site-packages/urllib3/connectionpool.py:981: InsecureRequestWarning: Unverified HTTPS request is being made to host '100.123.26.224'. Adding certificate verification is strongly advised. See: https://urllib3.readthedocs.io/en/latest/advanced-usage.html#ssl-warnings\n",
      "  warnings.warn(\n",
      "/opt/anaconda3/lib/python3.8/site-packages/urllib3/connectionpool.py:981: InsecureRequestWarning: Unverified HTTPS request is being made to host '100.123.26.252'. Adding certificate verification is strongly advised. See: https://urllib3.readthedocs.io/en/latest/advanced-usage.html#ssl-warnings\n",
      "  warnings.warn(\n",
      "/opt/anaconda3/lib/python3.8/site-packages/urllib3/connectionpool.py:981: InsecureRequestWarning: Unverified HTTPS request is being made to host '100.123.26.252'. Adding certificate verification is strongly advised. See: https://urllib3.readthedocs.io/en/latest/advanced-usage.html#ssl-warnings\n",
      "  warnings.warn(\n",
      "/opt/anaconda3/lib/python3.8/site-packages/urllib3/connectionpool.py:981: InsecureRequestWarning: Unverified HTTPS request is being made to host '100.123.26.252'. Adding certificate verification is strongly advised. See: https://urllib3.readthedocs.io/en/latest/advanced-usage.html#ssl-warnings\n",
      "  warnings.warn(\n"
     ]
    },
    {
     "name": "stdout",
     "output_type": "stream",
     "text": [
      "1.-Fecha: 2021-10-21 19:07:08.893157 - Error bucle externo:  404  no trajo datos:  https://100.123.26.224/api/v2/devices/58:C1:7A:0F:30:5E/performance?start_time=202110211800&stop_time=202110211859\n",
      "1.-Fecha: 2021-10-21 19:07:08.893157 - Error bucle externo:  404  no trajo datos:  https://100.123.26.252/api/v2/devices/58:C1:7A:0F:30:80/performance?start_time=202110211800&stop_time=202110211859\n",
      "1.-Fecha: 2021-10-21 19:07:08.893157 - Error bucle externo:  404  no trajo datos:  https://100.123.26.252/api/v2/devices/58:C1:7A:0F:30:98/performance?start_time=202110211800&stop_time=202110211859\n",
      "1.-Fecha: 2021-10-21 19:07:08.893157 - Error bucle externo:  404  no trajo datos:  https://100.123.26.252/api/v2/devices/58:C1:7A:0F:30:99/performance?start_time=202110211800&stop_time=202110211859\n",
      "1.-Fecha: 2021-10-21 19:07:08.893157 - Error bucle externo:  404  no trajo datos:  https://100.123.26.252/api/v2/devices/58:C1:7A:0F:30:9C/performance?start_time=202110211800&stop_time=202110211859\n"
     ]
    },
    {
     "name": "stderr",
     "output_type": "stream",
     "text": [
      "/opt/anaconda3/lib/python3.8/site-packages/urllib3/connectionpool.py:981: InsecureRequestWarning: Unverified HTTPS request is being made to host '100.123.26.252'. Adding certificate verification is strongly advised. See: https://urllib3.readthedocs.io/en/latest/advanced-usage.html#ssl-warnings\n",
      "  warnings.warn(\n",
      "/opt/anaconda3/lib/python3.8/site-packages/urllib3/connectionpool.py:981: InsecureRequestWarning: Unverified HTTPS request is being made to host '100.123.26.252'. Adding certificate verification is strongly advised. See: https://urllib3.readthedocs.io/en/latest/advanced-usage.html#ssl-warnings\n",
      "  warnings.warn(\n",
      "/opt/anaconda3/lib/python3.8/site-packages/urllib3/connectionpool.py:981: InsecureRequestWarning: Unverified HTTPS request is being made to host '100.123.26.252'. Adding certificate verification is strongly advised. See: https://urllib3.readthedocs.io/en/latest/advanced-usage.html#ssl-warnings\n",
      "  warnings.warn(\n",
      "/opt/anaconda3/lib/python3.8/site-packages/urllib3/connectionpool.py:981: InsecureRequestWarning: Unverified HTTPS request is being made to host '100.123.26.252'. Adding certificate verification is strongly advised. See: https://urllib3.readthedocs.io/en/latest/advanced-usage.html#ssl-warnings\n",
      "  warnings.warn(\n"
     ]
    },
    {
     "name": "stdout",
     "output_type": "stream",
     "text": [
      "1.-Fecha: 2021-10-21 19:07:08.893157 - Error bucle externo:  404  no trajo datos:  https://100.123.26.252/api/v2/devices/58:C1:7A:0F:FF:40/performance?start_time=202110211800&stop_time=202110211859\n",
      " dato_param['total']  13 1\n",
      "https://100.123.26.252/api/v2/devices/58:C1:7A:0F:FF:82/performance?offset=0&start_time=202110211800&stop_time=202110211859\n",
      "1.-Fecha: 2021-10-21 19:07:08.893157 - Error bucle externo:  404  no trajo datos:  https://100.123.26.224/api/v2/devices/58:C1:7A:0F:FF:82/performance?start_time=202110211800&stop_time=202110211859\n",
      "1.-Fecha: 2021-10-21 19:07:08.893157 - Error bucle externo:  404  no trajo datos:  https://100.123.26.252/api/v2/devices/58:C1:7A:0F:FF:8C/performance?start_time=202110211800&stop_time=202110211859\n"
     ]
    },
    {
     "name": "stderr",
     "output_type": "stream",
     "text": [
      "/opt/anaconda3/lib/python3.8/site-packages/urllib3/connectionpool.py:981: InsecureRequestWarning: Unverified HTTPS request is being made to host '100.123.26.224'. Adding certificate verification is strongly advised. See: https://urllib3.readthedocs.io/en/latest/advanced-usage.html#ssl-warnings\n",
      "  warnings.warn(\n",
      "/opt/anaconda3/lib/python3.8/site-packages/urllib3/connectionpool.py:981: InsecureRequestWarning: Unverified HTTPS request is being made to host '100.123.26.252'. Adding certificate verification is strongly advised. See: https://urllib3.readthedocs.io/en/latest/advanced-usage.html#ssl-warnings\n",
      "  warnings.warn(\n",
      "/opt/anaconda3/lib/python3.8/site-packages/urllib3/connectionpool.py:981: InsecureRequestWarning: Unverified HTTPS request is being made to host '100.123.26.252'. Adding certificate verification is strongly advised. See: https://urllib3.readthedocs.io/en/latest/advanced-usage.html#ssl-warnings\n",
      "  warnings.warn(\n",
      "/opt/anaconda3/lib/python3.8/site-packages/urllib3/connectionpool.py:981: InsecureRequestWarning: Unverified HTTPS request is being made to host '100.123.26.252'. Adding certificate verification is strongly advised. See: https://urllib3.readthedocs.io/en/latest/advanced-usage.html#ssl-warnings\n",
      "  warnings.warn(\n"
     ]
    },
    {
     "name": "stdout",
     "output_type": "stream",
     "text": [
      " dato_param['total']  19 1\n",
      "https://100.123.26.252/api/v2/devices/58:C1:7A:0F:FF:E2/performance?offset=0&start_time=202110211800&stop_time=202110211859\n",
      "1.-Fecha: 2021-10-21 19:07:08.893157 - Error bucle externo:  404  no trajo datos:  https://100.123.26.224/api/v2/devices/58:C1:7A:0F:FF:E2/performance?start_time=202110211800&stop_time=202110211859\n",
      "1.-Fecha: 2021-10-21 19:07:08.893157 - Error bucle externo:  404  no trajo datos:  https://100.123.26.252/api/v2/devices/58:C1:7A:10:00:26/performance?start_time=202110211800&stop_time=202110211859\n",
      " dato_param['total']  13 1\n",
      "https://100.123.26.252/api/v2/devices/58:C1:7A:10:00:27/performance?offset=0&start_time=202110211800&stop_time=202110211859\n"
     ]
    },
    {
     "name": "stderr",
     "output_type": "stream",
     "text": [
      "/opt/anaconda3/lib/python3.8/site-packages/urllib3/connectionpool.py:981: InsecureRequestWarning: Unverified HTTPS request is being made to host '100.123.26.224'. Adding certificate verification is strongly advised. See: https://urllib3.readthedocs.io/en/latest/advanced-usage.html#ssl-warnings\n",
      "  warnings.warn(\n",
      "/opt/anaconda3/lib/python3.8/site-packages/urllib3/connectionpool.py:981: InsecureRequestWarning: Unverified HTTPS request is being made to host '100.123.26.252'. Adding certificate verification is strongly advised. See: https://urllib3.readthedocs.io/en/latest/advanced-usage.html#ssl-warnings\n",
      "  warnings.warn(\n",
      "/opt/anaconda3/lib/python3.8/site-packages/urllib3/connectionpool.py:981: InsecureRequestWarning: Unverified HTTPS request is being made to host '100.123.26.252'. Adding certificate verification is strongly advised. See: https://urllib3.readthedocs.io/en/latest/advanced-usage.html#ssl-warnings\n",
      "  warnings.warn(\n",
      "/opt/anaconda3/lib/python3.8/site-packages/urllib3/connectionpool.py:981: InsecureRequestWarning: Unverified HTTPS request is being made to host '100.123.26.252'. Adding certificate verification is strongly advised. See: https://urllib3.readthedocs.io/en/latest/advanced-usage.html#ssl-warnings\n",
      "  warnings.warn(\n",
      "/opt/anaconda3/lib/python3.8/site-packages/urllib3/connectionpool.py:981: InsecureRequestWarning: Unverified HTTPS request is being made to host '100.123.26.224'. Adding certificate verification is strongly advised. See: https://urllib3.readthedocs.io/en/latest/advanced-usage.html#ssl-warnings\n",
      "  warnings.warn(\n"
     ]
    },
    {
     "name": "stdout",
     "output_type": "stream",
     "text": [
      "1.-Fecha: 2021-10-21 19:07:08.893157 - Error bucle externo:  404  no trajo datos:  https://100.123.26.224/api/v2/devices/58:C1:7A:10:00:27/performance?start_time=202110211800&stop_time=202110211859\n",
      "1.-Fecha: 2021-10-21 19:07:08.893157 - Error bucle externo:  404  no trajo datos:  https://100.123.26.252/api/v2/devices/58:C1:7A:10:00:59/performance?start_time=202110211800&stop_time=202110211859\n",
      "1.-Fecha: 2021-10-21 19:07:08.893157 - Error bucle externo:  404  no trajo datos:  https://100.123.26.252/api/v2/devices/58:C1:7A:10:00:5B/performance?start_time=202110211800&stop_time=202110211859\n"
     ]
    },
    {
     "name": "stderr",
     "output_type": "stream",
     "text": [
      "/opt/anaconda3/lib/python3.8/site-packages/urllib3/connectionpool.py:981: InsecureRequestWarning: Unverified HTTPS request is being made to host '100.123.26.252'. Adding certificate verification is strongly advised. See: https://urllib3.readthedocs.io/en/latest/advanced-usage.html#ssl-warnings\n",
      "  warnings.warn(\n",
      "/opt/anaconda3/lib/python3.8/site-packages/urllib3/connectionpool.py:981: InsecureRequestWarning: Unverified HTTPS request is being made to host '100.123.26.252'. Adding certificate verification is strongly advised. See: https://urllib3.readthedocs.io/en/latest/advanced-usage.html#ssl-warnings\n",
      "  warnings.warn(\n",
      "/opt/anaconda3/lib/python3.8/site-packages/urllib3/connectionpool.py:981: InsecureRequestWarning: Unverified HTTPS request is being made to host '100.123.26.252'. Adding certificate verification is strongly advised. See: https://urllib3.readthedocs.io/en/latest/advanced-usage.html#ssl-warnings\n",
      "  warnings.warn(\n"
     ]
    },
    {
     "name": "stdout",
     "output_type": "stream",
     "text": [
      " dato_param['total']  7 1\n",
      "https://100.123.26.252/api/v2/devices/58:C1:7A:18:B3:20/performance?offset=0&start_time=202110211800&stop_time=202110211859\n",
      "1.-Fecha: 2021-10-21 19:07:08.893157 - Error bucle externo:  404  no trajo datos:  https://100.123.26.224/api/v2/devices/58:C1:7A:18:B3:20/performance?start_time=202110211800&stop_time=202110211859\n",
      "1.-Fecha: 2021-10-21 19:07:08.893157 - Error bucle externo:  404  no trajo datos:  https://100.123.26.252/api/v2/devices/58:C1:7A:85:B0:3D/performance?start_time=202110211800&stop_time=202110211859\n",
      " dato_param['total']  13 1\n",
      "https://100.123.26.252/api/v2/devices/58:C1:7A:85:D6:78/performance?offset=0&start_time=202110211800&stop_time=202110211859\n"
     ]
    },
    {
     "name": "stderr",
     "output_type": "stream",
     "text": [
      "/opt/anaconda3/lib/python3.8/site-packages/urllib3/connectionpool.py:981: InsecureRequestWarning: Unverified HTTPS request is being made to host '100.123.26.252'. Adding certificate verification is strongly advised. See: https://urllib3.readthedocs.io/en/latest/advanced-usage.html#ssl-warnings\n",
      "  warnings.warn(\n",
      "/opt/anaconda3/lib/python3.8/site-packages/urllib3/connectionpool.py:981: InsecureRequestWarning: Unverified HTTPS request is being made to host '100.123.26.224'. Adding certificate verification is strongly advised. See: https://urllib3.readthedocs.io/en/latest/advanced-usage.html#ssl-warnings\n",
      "  warnings.warn(\n",
      "/opt/anaconda3/lib/python3.8/site-packages/urllib3/connectionpool.py:981: InsecureRequestWarning: Unverified HTTPS request is being made to host '100.123.26.252'. Adding certificate verification is strongly advised. See: https://urllib3.readthedocs.io/en/latest/advanced-usage.html#ssl-warnings\n",
      "  warnings.warn(\n",
      "/opt/anaconda3/lib/python3.8/site-packages/urllib3/connectionpool.py:981: InsecureRequestWarning: Unverified HTTPS request is being made to host '100.123.26.252'. Adding certificate verification is strongly advised. See: https://urllib3.readthedocs.io/en/latest/advanced-usage.html#ssl-warnings\n",
      "  warnings.warn(\n",
      "/opt/anaconda3/lib/python3.8/site-packages/urllib3/connectionpool.py:981: InsecureRequestWarning: Unverified HTTPS request is being made to host '100.123.26.252'. Adding certificate verification is strongly advised. See: https://urllib3.readthedocs.io/en/latest/advanced-usage.html#ssl-warnings\n",
      "  warnings.warn(\n",
      "/opt/anaconda3/lib/python3.8/site-packages/urllib3/connectionpool.py:981: InsecureRequestWarning: Unverified HTTPS request is being made to host '100.123.26.224'. Adding certificate verification is strongly advised. See: https://urllib3.readthedocs.io/en/latest/advanced-usage.html#ssl-warnings\n",
      "  warnings.warn(\n",
      "/opt/anaconda3/lib/python3.8/site-packages/urllib3/connectionpool.py:981: InsecureRequestWarning: Unverified HTTPS request is being made to host '100.123.26.252'. Adding certificate verification is strongly advised. See: https://urllib3.readthedocs.io/en/latest/advanced-usage.html#ssl-warnings\n",
      "  warnings.warn(\n",
      "/opt/anaconda3/lib/python3.8/site-packages/urllib3/connectionpool.py:981: InsecureRequestWarning: Unverified HTTPS request is being made to host '100.123.26.252'. Adding certificate verification is strongly advised. See: https://urllib3.readthedocs.io/en/latest/advanced-usage.html#ssl-warnings\n",
      "  warnings.warn(\n",
      "/opt/anaconda3/lib/python3.8/site-packages/urllib3/connectionpool.py:981: InsecureRequestWarning: Unverified HTTPS request is being made to host '100.123.26.252'. Adding certificate verification is strongly advised. See: https://urllib3.readthedocs.io/en/latest/advanced-usage.html#ssl-warnings\n",
      "  warnings.warn(\n",
      "/opt/anaconda3/lib/python3.8/site-packages/urllib3/connectionpool.py:981: InsecureRequestWarning: Unverified HTTPS request is being made to host '100.123.26.252'. Adding certificate verification is strongly advised. See: https://urllib3.readthedocs.io/en/latest/advanced-usage.html#ssl-warnings\n",
      "  warnings.warn(\n"
     ]
    },
    {
     "name": "stdout",
     "output_type": "stream",
     "text": [
      "1.-Fecha: 2021-10-21 19:07:08.893157 - Error bucle externo:  404  no trajo datos:  https://100.123.26.224/api/v2/devices/58:C1:7A:85:D6:78/performance?start_time=202110211800&stop_time=202110211859\n",
      "1.-Fecha: 2021-10-21 19:07:08.893157 - Error bucle externo:  404  no trajo datos:  https://100.123.26.252/api/v2/devices/58:C1:7A:85:D6:83/performance?start_time=202110211800&stop_time=202110211859\n",
      "1.-Fecha: 2021-10-21 19:07:08.893157 - Error bucle externo:  404  no trajo datos:  https://100.123.26.252/api/v2/devices/58:C1:7A:85:D6:AE/performance?start_time=202110211800&stop_time=202110211859\n",
      "1.-Fecha: 2021-10-21 19:07:08.893157 - Error bucle externo:  404  no trajo datos:  https://100.123.26.252/api/v2/devices/58:C1:7A:85:D6:B1/performance?start_time=202110211800&stop_time=202110211859\n",
      "1.-Fecha: 2021-10-21 19:07:08.893157 - Error bucle externo:  404  no trajo datos:  https://100.123.26.252/api/v2/devices/58:C1:7A:85:D6:BC/performance?start_time=202110211800&stop_time=202110211859\n"
     ]
    },
    {
     "name": "stderr",
     "output_type": "stream",
     "text": [
      "/opt/anaconda3/lib/python3.8/site-packages/urllib3/connectionpool.py:981: InsecureRequestWarning: Unverified HTTPS request is being made to host '100.123.26.252'. Adding certificate verification is strongly advised. See: https://urllib3.readthedocs.io/en/latest/advanced-usage.html#ssl-warnings\n",
      "  warnings.warn(\n",
      "/opt/anaconda3/lib/python3.8/site-packages/urllib3/connectionpool.py:981: InsecureRequestWarning: Unverified HTTPS request is being made to host '100.123.26.252'. Adding certificate verification is strongly advised. See: https://urllib3.readthedocs.io/en/latest/advanced-usage.html#ssl-warnings\n",
      "  warnings.warn(\n",
      "/opt/anaconda3/lib/python3.8/site-packages/urllib3/connectionpool.py:981: InsecureRequestWarning: Unverified HTTPS request is being made to host '100.123.26.252'. Adding certificate verification is strongly advised. See: https://urllib3.readthedocs.io/en/latest/advanced-usage.html#ssl-warnings\n",
      "  warnings.warn(\n"
     ]
    },
    {
     "name": "stdout",
     "output_type": "stream",
     "text": [
      "1.-Fecha: 2021-10-21 19:07:08.893157 - Error bucle externo:  404  no trajo datos:  https://100.123.26.252/api/v2/devices/58:C1:7A:85:D6:C4/performance?start_time=202110211800&stop_time=202110211859\n",
      "1.-Fecha: 2021-10-21 19:07:08.893157 - Error bucle externo:  404  no trajo datos:  https://100.123.26.252/api/v2/devices/58:C1:7A:85:D6:D4/performance?start_time=202110211800&stop_time=202110211859\n",
      "1.-Fecha: 2021-10-21 19:07:08.893157 - Error bucle externo:  404  no trajo datos:  https://100.123.26.252/api/v2/devices/58:C1:7A:85:D7:24/performance?start_time=202110211800&stop_time=202110211859\n",
      "1.-Fecha: 2021-10-21 19:07:08.893157 - Error bucle externo:  404  no trajo datos:  https://100.123.26.252/api/v2/devices/58:C1:7A:85:D7:3F/performance?start_time=202110211800&stop_time=202110211859\n",
      "1.-Fecha: 2021-10-21 19:07:08.893157 - Error bucle externo:  404  no trajo datos:  https://100.123.26.252/api/v2/devices/58:C1:7A:86:22:A5/performance?start_time=202110211800&stop_time=202110211859\n"
     ]
    },
    {
     "name": "stderr",
     "output_type": "stream",
     "text": [
      "/opt/anaconda3/lib/python3.8/site-packages/urllib3/connectionpool.py:981: InsecureRequestWarning: Unverified HTTPS request is being made to host '100.123.26.252'. Adding certificate verification is strongly advised. See: https://urllib3.readthedocs.io/en/latest/advanced-usage.html#ssl-warnings\n",
      "  warnings.warn(\n",
      "/opt/anaconda3/lib/python3.8/site-packages/urllib3/connectionpool.py:981: InsecureRequestWarning: Unverified HTTPS request is being made to host '100.123.26.252'. Adding certificate verification is strongly advised. See: https://urllib3.readthedocs.io/en/latest/advanced-usage.html#ssl-warnings\n",
      "  warnings.warn(\n",
      "/opt/anaconda3/lib/python3.8/site-packages/urllib3/connectionpool.py:981: InsecureRequestWarning: Unverified HTTPS request is being made to host '100.123.26.252'. Adding certificate verification is strongly advised. See: https://urllib3.readthedocs.io/en/latest/advanced-usage.html#ssl-warnings\n",
      "  warnings.warn(\n",
      "/opt/anaconda3/lib/python3.8/site-packages/urllib3/connectionpool.py:981: InsecureRequestWarning: Unverified HTTPS request is being made to host '100.123.26.252'. Adding certificate verification is strongly advised. See: https://urllib3.readthedocs.io/en/latest/advanced-usage.html#ssl-warnings\n",
      "  warnings.warn(\n",
      "/opt/anaconda3/lib/python3.8/site-packages/urllib3/connectionpool.py:981: InsecureRequestWarning: Unverified HTTPS request is being made to host '100.123.26.252'. Adding certificate verification is strongly advised. See: https://urllib3.readthedocs.io/en/latest/advanced-usage.html#ssl-warnings\n",
      "  warnings.warn(\n"
     ]
    },
    {
     "name": "stdout",
     "output_type": "stream",
     "text": [
      "1.-Fecha: 2021-10-21 19:07:08.893157 - Error bucle externo:  404  no trajo datos:  https://100.123.26.252/api/v2/devices/58:C1:7A:86:4A:79/performance?start_time=202110211800&stop_time=202110211859\n",
      "1.-Fecha: 2021-10-21 19:07:08.893157 - Error bucle externo:  404  no trajo datos:  https://100.123.26.252/api/v2/devices/58:C1:7A:86:4A:93/performance?start_time=202110211800&stop_time=202110211859\n",
      "1.-Fecha: 2021-10-21 19:07:08.893157 - Error bucle externo:  404  no trajo datos:  https://100.123.26.252/api/v2/devices/58:C1:7A:86:4A:94/performance?start_time=202110211800&stop_time=202110211859\n",
      "1.-Fecha: 2021-10-21 19:07:08.893157 - Error bucle externo:  404  no trajo datos:  https://100.123.26.252/api/v2/devices/58:C1:7A:86:4A:9A/performance?start_time=202110211800&stop_time=202110211859\n"
     ]
    },
    {
     "name": "stderr",
     "output_type": "stream",
     "text": [
      "/opt/anaconda3/lib/python3.8/site-packages/urllib3/connectionpool.py:981: InsecureRequestWarning: Unverified HTTPS request is being made to host '100.123.26.252'. Adding certificate verification is strongly advised. See: https://urllib3.readthedocs.io/en/latest/advanced-usage.html#ssl-warnings\n",
      "  warnings.warn(\n",
      "/opt/anaconda3/lib/python3.8/site-packages/urllib3/connectionpool.py:981: InsecureRequestWarning: Unverified HTTPS request is being made to host '100.123.26.252'. Adding certificate verification is strongly advised. See: https://urllib3.readthedocs.io/en/latest/advanced-usage.html#ssl-warnings\n",
      "  warnings.warn(\n",
      "/opt/anaconda3/lib/python3.8/site-packages/urllib3/connectionpool.py:981: InsecureRequestWarning: Unverified HTTPS request is being made to host '100.123.26.252'. Adding certificate verification is strongly advised. See: https://urllib3.readthedocs.io/en/latest/advanced-usage.html#ssl-warnings\n",
      "  warnings.warn(\n",
      "/opt/anaconda3/lib/python3.8/site-packages/urllib3/connectionpool.py:981: InsecureRequestWarning: Unverified HTTPS request is being made to host '100.123.26.252'. Adding certificate verification is strongly advised. See: https://urllib3.readthedocs.io/en/latest/advanced-usage.html#ssl-warnings\n",
      "  warnings.warn(\n"
     ]
    },
    {
     "name": "stdout",
     "output_type": "stream",
     "text": [
      "1.-Fecha: 2021-10-21 19:07:08.893157 - Error bucle externo:  404  no trajo datos:  https://100.123.26.252/api/v2/devices/58:C1:7A:86:4A:C5/performance?start_time=202110211800&stop_time=202110211859\n",
      "1.-Fecha: 2021-10-21 19:07:08.893157 - Error bucle externo:  404  no trajo datos:  https://100.123.26.252/api/v2/devices/58:C1:7A:86:4A:D0/performance?start_time=202110211800&stop_time=202110211859\n",
      "1.-Fecha: 2021-10-21 19:07:08.893157 - Error bucle externo:  404  no trajo datos:  https://100.123.26.252/api/v2/devices/58:C1:7A:86:4A:D4/performance?start_time=202110211800&stop_time=202110211859\n",
      "1.-Fecha: 2021-10-21 19:07:08.893157 - Error bucle externo:  404  no trajo datos:  https://100.123.26.252/api/v2/devices/58:C1:7A:86:4B:3B/performance?start_time=202110211800&stop_time=202110211859\n"
     ]
    },
    {
     "name": "stderr",
     "output_type": "stream",
     "text": [
      "/opt/anaconda3/lib/python3.8/site-packages/urllib3/connectionpool.py:981: InsecureRequestWarning: Unverified HTTPS request is being made to host '100.123.26.252'. Adding certificate verification is strongly advised. See: https://urllib3.readthedocs.io/en/latest/advanced-usage.html#ssl-warnings\n",
      "  warnings.warn(\n",
      "/opt/anaconda3/lib/python3.8/site-packages/urllib3/connectionpool.py:981: InsecureRequestWarning: Unverified HTTPS request is being made to host '100.123.26.252'. Adding certificate verification is strongly advised. See: https://urllib3.readthedocs.io/en/latest/advanced-usage.html#ssl-warnings\n",
      "  warnings.warn(\n",
      "/opt/anaconda3/lib/python3.8/site-packages/urllib3/connectionpool.py:981: InsecureRequestWarning: Unverified HTTPS request is being made to host '100.123.26.252'. Adding certificate verification is strongly advised. See: https://urllib3.readthedocs.io/en/latest/advanced-usage.html#ssl-warnings\n",
      "  warnings.warn(\n",
      "/opt/anaconda3/lib/python3.8/site-packages/urllib3/connectionpool.py:981: InsecureRequestWarning: Unverified HTTPS request is being made to host '100.123.26.252'. Adding certificate verification is strongly advised. See: https://urllib3.readthedocs.io/en/latest/advanced-usage.html#ssl-warnings\n",
      "  warnings.warn(\n"
     ]
    },
    {
     "name": "stdout",
     "output_type": "stream",
     "text": [
      "1.-Fecha: 2021-10-21 19:07:08.893157 - Error bucle externo:  404  no trajo datos:  https://100.123.26.252/api/v2/devices/58:C1:7A:86:4B:3D/performance?start_time=202110211800&stop_time=202110211859\n",
      "1.-Fecha: 2021-10-21 19:07:08.893157 - Error bucle externo:  404  no trajo datos:  https://100.123.26.252/api/v2/devices/58:C1:7A:86:4B:47/performance?start_time=202110211800&stop_time=202110211859\n",
      "1.-Fecha: 2021-10-21 19:07:08.893157 - Error bucle externo:  404  no trajo datos:  https://100.123.26.252/api/v2/devices/58:C1:7A:86:4B:89/performance?start_time=202110211800&stop_time=202110211859\n",
      "1.-Fecha: 2021-10-21 19:07:08.893157 - Error bucle externo:  404  no trajo datos:  https://100.123.26.252/api/v2/devices/58:C1:7A:86:4B:8B/performance?start_time=202110211800&stop_time=202110211859\n"
     ]
    },
    {
     "name": "stderr",
     "output_type": "stream",
     "text": [
      "/opt/anaconda3/lib/python3.8/site-packages/urllib3/connectionpool.py:981: InsecureRequestWarning: Unverified HTTPS request is being made to host '100.123.26.252'. Adding certificate verification is strongly advised. See: https://urllib3.readthedocs.io/en/latest/advanced-usage.html#ssl-warnings\n",
      "  warnings.warn(\n",
      "/opt/anaconda3/lib/python3.8/site-packages/urllib3/connectionpool.py:981: InsecureRequestWarning: Unverified HTTPS request is being made to host '100.123.26.252'. Adding certificate verification is strongly advised. See: https://urllib3.readthedocs.io/en/latest/advanced-usage.html#ssl-warnings\n",
      "  warnings.warn(\n",
      "/opt/anaconda3/lib/python3.8/site-packages/urllib3/connectionpool.py:981: InsecureRequestWarning: Unverified HTTPS request is being made to host '100.123.26.252'. Adding certificate verification is strongly advised. See: https://urllib3.readthedocs.io/en/latest/advanced-usage.html#ssl-warnings\n",
      "  warnings.warn(\n",
      "/opt/anaconda3/lib/python3.8/site-packages/urllib3/connectionpool.py:981: InsecureRequestWarning: Unverified HTTPS request is being made to host '100.123.26.252'. Adding certificate verification is strongly advised. See: https://urllib3.readthedocs.io/en/latest/advanced-usage.html#ssl-warnings\n",
      "  warnings.warn(\n"
     ]
    },
    {
     "name": "stdout",
     "output_type": "stream",
     "text": [
      "1.-Fecha: 2021-10-21 19:07:08.893157 - Error bucle externo:  404  no trajo datos:  https://100.123.26.252/api/v2/devices/58:C1:7A:86:4B:94/performance?start_time=202110211800&stop_time=202110211859\n",
      "1.-Fecha: 2021-10-21 19:07:08.893157 - Error bucle externo:  404  no trajo datos:  https://100.123.26.252/api/v2/devices/58:C1:7A:86:4B:9F/performance?start_time=202110211800&stop_time=202110211859\n",
      "1.-Fecha: 2021-10-21 19:07:08.893157 - Error bucle externo:  404  no trajo datos:  https://100.123.26.252/api/v2/devices/58:C1:7A:86:4B:C8/performance?start_time=202110211800&stop_time=202110211859\n",
      "1.-Fecha: 2021-10-21 19:07:08.893157 - Error bucle externo:  404  no trajo datos:  https://100.123.26.252/api/v2/devices/58:C1:7A:86:4B:EC/performance?start_time=202110211800&stop_time=202110211859\n"
     ]
    },
    {
     "name": "stderr",
     "output_type": "stream",
     "text": [
      "/opt/anaconda3/lib/python3.8/site-packages/urllib3/connectionpool.py:981: InsecureRequestWarning: Unverified HTTPS request is being made to host '100.123.26.252'. Adding certificate verification is strongly advised. See: https://urllib3.readthedocs.io/en/latest/advanced-usage.html#ssl-warnings\n",
      "  warnings.warn(\n",
      "/opt/anaconda3/lib/python3.8/site-packages/urllib3/connectionpool.py:981: InsecureRequestWarning: Unverified HTTPS request is being made to host '100.123.26.252'. Adding certificate verification is strongly advised. See: https://urllib3.readthedocs.io/en/latest/advanced-usage.html#ssl-warnings\n",
      "  warnings.warn(\n",
      "/opt/anaconda3/lib/python3.8/site-packages/urllib3/connectionpool.py:981: InsecureRequestWarning: Unverified HTTPS request is being made to host '100.123.26.252'. Adding certificate verification is strongly advised. See: https://urllib3.readthedocs.io/en/latest/advanced-usage.html#ssl-warnings\n",
      "  warnings.warn(\n",
      "/opt/anaconda3/lib/python3.8/site-packages/urllib3/connectionpool.py:981: InsecureRequestWarning: Unverified HTTPS request is being made to host '100.123.26.252'. Adding certificate verification is strongly advised. See: https://urllib3.readthedocs.io/en/latest/advanced-usage.html#ssl-warnings\n",
      "  warnings.warn(\n"
     ]
    },
    {
     "name": "stdout",
     "output_type": "stream",
     "text": [
      "1.-Fecha: 2021-10-21 19:07:08.893157 - Error bucle externo:  404  no trajo datos:  https://100.123.26.252/api/v2/devices/58:C1:7A:86:4B:EF/performance?start_time=202110211800&stop_time=202110211859\n",
      "1.-Fecha: 2021-10-21 19:07:08.893157 - Error bucle externo:  404  no trajo datos:  https://100.123.26.252/api/v2/devices/58:C1:7A:86:4B:F4/performance?start_time=202110211800&stop_time=202110211859\n",
      "1.-Fecha: 2021-10-21 19:07:08.893157 - Error bucle externo:  404  no trajo datos:  https://100.123.26.252/api/v2/devices/58:C1:7A:86:4B:F5/performance?start_time=202110211800&stop_time=202110211859\n",
      "1.-Fecha: 2021-10-21 19:07:08.893157 - Error bucle externo:  404  no trajo datos:  https://100.123.26.252/api/v2/devices/58:C1:7A:86:4B:FA/performance?start_time=202110211800&stop_time=202110211859\n"
     ]
    },
    {
     "name": "stderr",
     "output_type": "stream",
     "text": [
      "/opt/anaconda3/lib/python3.8/site-packages/urllib3/connectionpool.py:981: InsecureRequestWarning: Unverified HTTPS request is being made to host '100.123.26.252'. Adding certificate verification is strongly advised. See: https://urllib3.readthedocs.io/en/latest/advanced-usage.html#ssl-warnings\n",
      "  warnings.warn(\n",
      "/opt/anaconda3/lib/python3.8/site-packages/urllib3/connectionpool.py:981: InsecureRequestWarning: Unverified HTTPS request is being made to host '100.123.26.252'. Adding certificate verification is strongly advised. See: https://urllib3.readthedocs.io/en/latest/advanced-usage.html#ssl-warnings\n",
      "  warnings.warn(\n",
      "/opt/anaconda3/lib/python3.8/site-packages/urllib3/connectionpool.py:981: InsecureRequestWarning: Unverified HTTPS request is being made to host '100.123.26.252'. Adding certificate verification is strongly advised. See: https://urllib3.readthedocs.io/en/latest/advanced-usage.html#ssl-warnings\n",
      "  warnings.warn(\n",
      "/opt/anaconda3/lib/python3.8/site-packages/urllib3/connectionpool.py:981: InsecureRequestWarning: Unverified HTTPS request is being made to host '100.123.26.252'. Adding certificate verification is strongly advised. See: https://urllib3.readthedocs.io/en/latest/advanced-usage.html#ssl-warnings\n",
      "  warnings.warn(\n"
     ]
    },
    {
     "name": "stdout",
     "output_type": "stream",
     "text": [
      "1.-Fecha: 2021-10-21 19:07:08.893157 - Error bucle externo:  404  no trajo datos:  https://100.123.26.252/api/v2/devices/58:C1:7A:86:4B:FB/performance?start_time=202110211800&stop_time=202110211859\n",
      "1.-Fecha: 2021-10-21 19:07:08.893157 - Error bucle externo:  404  no trajo datos:  https://100.123.26.252/api/v2/devices/58:C1:7A:86:4C:0D/performance?start_time=202110211800&stop_time=202110211859\n",
      "1.-Fecha: 2021-10-21 19:07:08.893157 - Error bucle externo:  404  no trajo datos:  https://100.123.26.252/api/v2/devices/58:C1:7A:86:4C:1C/performance?start_time=202110211800&stop_time=202110211859\n",
      "1.-Fecha: 2021-10-21 19:07:08.893157 - Error bucle externo:  404  no trajo datos:  https://100.123.26.252/api/v2/devices/58:C1:7A:86:4C:64/performance?start_time=202110211800&stop_time=202110211859\n",
      "1.-Fecha: 2021-10-21 19:07:08.893157 - Error bucle externo:  404  no trajo datos:  https://100.123.26.252/api/v2/devices/58:C1:7A:86:4C:8E/performance?start_time=202110211800&stop_time=202110211859\n"
     ]
    },
    {
     "name": "stderr",
     "output_type": "stream",
     "text": [
      "/opt/anaconda3/lib/python3.8/site-packages/urllib3/connectionpool.py:981: InsecureRequestWarning: Unverified HTTPS request is being made to host '100.123.26.252'. Adding certificate verification is strongly advised. See: https://urllib3.readthedocs.io/en/latest/advanced-usage.html#ssl-warnings\n",
      "  warnings.warn(\n",
      "/opt/anaconda3/lib/python3.8/site-packages/urllib3/connectionpool.py:981: InsecureRequestWarning: Unverified HTTPS request is being made to host '100.123.26.252'. Adding certificate verification is strongly advised. See: https://urllib3.readthedocs.io/en/latest/advanced-usage.html#ssl-warnings\n",
      "  warnings.warn(\n",
      "/opt/anaconda3/lib/python3.8/site-packages/urllib3/connectionpool.py:981: InsecureRequestWarning: Unverified HTTPS request is being made to host '100.123.26.252'. Adding certificate verification is strongly advised. See: https://urllib3.readthedocs.io/en/latest/advanced-usage.html#ssl-warnings\n",
      "  warnings.warn(\n",
      "/opt/anaconda3/lib/python3.8/site-packages/urllib3/connectionpool.py:981: InsecureRequestWarning: Unverified HTTPS request is being made to host '100.123.26.252'. Adding certificate verification is strongly advised. See: https://urllib3.readthedocs.io/en/latest/advanced-usage.html#ssl-warnings\n",
      "  warnings.warn(\n"
     ]
    },
    {
     "name": "stdout",
     "output_type": "stream",
     "text": [
      " dato_param['total']  1 1\n",
      "https://100.123.26.252/api/v2/devices/58:C1:7A:C8:44:28/performance?offset=0&start_time=202110211800&stop_time=202110211859\n",
      "1.-Fecha: 2021-10-21 19:07:08.893157 - Error bucle externo:  404  no trajo datos:  https://100.123.26.224/api/v2/devices/58:C1:7A:C8:44:28/performance?start_time=202110211800&stop_time=202110211859\n",
      "1.-Fecha: 2021-10-21 19:07:08.893157 - Error bucle externo:  404  no trajo datos:  https://100.123.26.252/api/v2/devices/58:C1:7A:E8:75:E2/performance?start_time=202110211800&stop_time=202110211859\n"
     ]
    },
    {
     "name": "stderr",
     "output_type": "stream",
     "text": [
      "/opt/anaconda3/lib/python3.8/site-packages/urllib3/connectionpool.py:981: InsecureRequestWarning: Unverified HTTPS request is being made to host '100.123.26.224'. Adding certificate verification is strongly advised. See: https://urllib3.readthedocs.io/en/latest/advanced-usage.html#ssl-warnings\n",
      "  warnings.warn(\n",
      "/opt/anaconda3/lib/python3.8/site-packages/urllib3/connectionpool.py:981: InsecureRequestWarning: Unverified HTTPS request is being made to host '100.123.26.252'. Adding certificate verification is strongly advised. See: https://urllib3.readthedocs.io/en/latest/advanced-usage.html#ssl-warnings\n",
      "  warnings.warn(\n",
      "/opt/anaconda3/lib/python3.8/site-packages/urllib3/connectionpool.py:981: InsecureRequestWarning: Unverified HTTPS request is being made to host '100.123.26.252'. Adding certificate verification is strongly advised. See: https://urllib3.readthedocs.io/en/latest/advanced-usage.html#ssl-warnings\n",
      "  warnings.warn(\n",
      "/opt/anaconda3/lib/python3.8/site-packages/urllib3/connectionpool.py:981: InsecureRequestWarning: Unverified HTTPS request is being made to host '100.123.26.252'. Adding certificate verification is strongly advised. See: https://urllib3.readthedocs.io/en/latest/advanced-usage.html#ssl-warnings\n",
      "  warnings.warn(\n"
     ]
    },
    {
     "name": "stdout",
     "output_type": "stream",
     "text": [
      " dato_param['total']  13 1\n",
      "https://100.123.26.252/api/v2/devices/58:C1:7A:E8:76:08/performance?offset=0&start_time=202110211800&stop_time=202110211859\n",
      "1.-Fecha: 2021-10-21 19:07:08.893157 - Error bucle externo:  422  no trajo datos:  https://100.123.26.224/api/v2/devices/58:C1:7A:E8:76:08/performance?start_time=202110211800&stop_time=202110211859\n",
      "1.-Fecha: 2021-10-21 19:07:08.893157 - Error bucle externo:  404  no trajo datos:  https://100.123.26.252/api/v2/devices/58:C1:7A:E8:76:15/performance?start_time=202110211800&stop_time=202110211859\n"
     ]
    },
    {
     "name": "stderr",
     "output_type": "stream",
     "text": [
      "/opt/anaconda3/lib/python3.8/site-packages/urllib3/connectionpool.py:981: InsecureRequestWarning: Unverified HTTPS request is being made to host '100.123.26.224'. Adding certificate verification is strongly advised. See: https://urllib3.readthedocs.io/en/latest/advanced-usage.html#ssl-warnings\n",
      "  warnings.warn(\n",
      "/opt/anaconda3/lib/python3.8/site-packages/urllib3/connectionpool.py:981: InsecureRequestWarning: Unverified HTTPS request is being made to host '100.123.26.252'. Adding certificate verification is strongly advised. See: https://urllib3.readthedocs.io/en/latest/advanced-usage.html#ssl-warnings\n",
      "  warnings.warn(\n",
      "/opt/anaconda3/lib/python3.8/site-packages/urllib3/connectionpool.py:981: InsecureRequestWarning: Unverified HTTPS request is being made to host '100.123.26.252'. Adding certificate verification is strongly advised. See: https://urllib3.readthedocs.io/en/latest/advanced-usage.html#ssl-warnings\n",
      "  warnings.warn(\n",
      "/opt/anaconda3/lib/python3.8/site-packages/urllib3/connectionpool.py:981: InsecureRequestWarning: Unverified HTTPS request is being made to host '100.123.26.252'. Adding certificate verification is strongly advised. See: https://urllib3.readthedocs.io/en/latest/advanced-usage.html#ssl-warnings\n",
      "  warnings.warn(\n"
     ]
    },
    {
     "name": "stdout",
     "output_type": "stream",
     "text": [
      " dato_param['total']  13 1\n",
      "https://100.123.26.252/api/v2/devices/58:C1:7A:E8:76:1B/performance?offset=0&start_time=202110211800&stop_time=202110211859\n",
      "1.-Fecha: 2021-10-21 19:07:08.893157 - Error bucle externo:  404  no trajo datos:  https://100.123.26.224/api/v2/devices/58:C1:7A:E8:76:1B/performance?start_time=202110211800&stop_time=202110211859\n",
      " dato_param['total']  13 1\n",
      "https://100.123.26.252/api/v2/devices/58:C1:7A:E8:76:1F/performance?offset=0&start_time=202110211800&stop_time=202110211859\n"
     ]
    },
    {
     "name": "stderr",
     "output_type": "stream",
     "text": [
      "/opt/anaconda3/lib/python3.8/site-packages/urllib3/connectionpool.py:981: InsecureRequestWarning: Unverified HTTPS request is being made to host '100.123.26.224'. Adding certificate verification is strongly advised. See: https://urllib3.readthedocs.io/en/latest/advanced-usage.html#ssl-warnings\n",
      "  warnings.warn(\n",
      "/opt/anaconda3/lib/python3.8/site-packages/urllib3/connectionpool.py:981: InsecureRequestWarning: Unverified HTTPS request is being made to host '100.123.26.252'. Adding certificate verification is strongly advised. See: https://urllib3.readthedocs.io/en/latest/advanced-usage.html#ssl-warnings\n",
      "  warnings.warn(\n",
      "/opt/anaconda3/lib/python3.8/site-packages/urllib3/connectionpool.py:981: InsecureRequestWarning: Unverified HTTPS request is being made to host '100.123.26.252'. Adding certificate verification is strongly advised. See: https://urllib3.readthedocs.io/en/latest/advanced-usage.html#ssl-warnings\n",
      "  warnings.warn(\n",
      "/opt/anaconda3/lib/python3.8/site-packages/urllib3/connectionpool.py:981: InsecureRequestWarning: Unverified HTTPS request is being made to host '100.123.26.224'. Adding certificate verification is strongly advised. See: https://urllib3.readthedocs.io/en/latest/advanced-usage.html#ssl-warnings\n",
      "  warnings.warn(\n",
      "/opt/anaconda3/lib/python3.8/site-packages/urllib3/connectionpool.py:981: InsecureRequestWarning: Unverified HTTPS request is being made to host '100.123.26.252'. Adding certificate verification is strongly advised. See: https://urllib3.readthedocs.io/en/latest/advanced-usage.html#ssl-warnings\n",
      "  warnings.warn(\n"
     ]
    },
    {
     "name": "stdout",
     "output_type": "stream",
     "text": [
      "1.-Fecha: 2021-10-21 19:07:08.893157 - Error bucle externo:  404  no trajo datos:  https://100.123.26.224/api/v2/devices/58:C1:7A:E8:76:1F/performance?start_time=202110211800&stop_time=202110211859\n",
      " dato_param['total']  13 1\n",
      "https://100.123.26.252/api/v2/devices/58:C1:7A:E8:76:22/performance?offset=0&start_time=202110211800&stop_time=202110211859\n",
      "1.-Fecha: 2021-10-21 19:07:08.893157 - Error bucle externo:  404  no trajo datos:  https://100.123.26.224/api/v2/devices/58:C1:7A:E8:76:22/performance?start_time=202110211800&stop_time=202110211859\n"
     ]
    },
    {
     "name": "stderr",
     "output_type": "stream",
     "text": [
      "/opt/anaconda3/lib/python3.8/site-packages/urllib3/connectionpool.py:981: InsecureRequestWarning: Unverified HTTPS request is being made to host '100.123.26.252'. Adding certificate verification is strongly advised. See: https://urllib3.readthedocs.io/en/latest/advanced-usage.html#ssl-warnings\n",
      "  warnings.warn(\n",
      "/opt/anaconda3/lib/python3.8/site-packages/urllib3/connectionpool.py:981: InsecureRequestWarning: Unverified HTTPS request is being made to host '100.123.26.224'. Adding certificate verification is strongly advised. See: https://urllib3.readthedocs.io/en/latest/advanced-usage.html#ssl-warnings\n",
      "  warnings.warn(\n",
      "/opt/anaconda3/lib/python3.8/site-packages/urllib3/connectionpool.py:981: InsecureRequestWarning: Unverified HTTPS request is being made to host '100.123.26.252'. Adding certificate verification is strongly advised. See: https://urllib3.readthedocs.io/en/latest/advanced-usage.html#ssl-warnings\n",
      "  warnings.warn(\n",
      "/opt/anaconda3/lib/python3.8/site-packages/urllib3/connectionpool.py:981: InsecureRequestWarning: Unverified HTTPS request is being made to host '100.123.26.252'. Adding certificate verification is strongly advised. See: https://urllib3.readthedocs.io/en/latest/advanced-usage.html#ssl-warnings\n",
      "  warnings.warn(\n"
     ]
    },
    {
     "name": "stdout",
     "output_type": "stream",
     "text": [
      " dato_param['total']  1 1\n",
      "https://100.123.26.252/api/v2/devices/58:C1:7A:E8:76:3D/performance?offset=0&start_time=202110211800&stop_time=202110211859\n",
      "1.-Fecha: 2021-10-21 19:07:08.893157 - Error bucle externo:  404  no trajo datos:  https://100.123.26.224/api/v2/devices/58:C1:7A:E8:76:3D/performance?start_time=202110211800&stop_time=202110211859\n"
     ]
    },
    {
     "name": "stderr",
     "output_type": "stream",
     "text": [
      "/opt/anaconda3/lib/python3.8/site-packages/urllib3/connectionpool.py:981: InsecureRequestWarning: Unverified HTTPS request is being made to host '100.123.26.224'. Adding certificate verification is strongly advised. See: https://urllib3.readthedocs.io/en/latest/advanced-usage.html#ssl-warnings\n",
      "  warnings.warn(\n",
      "/opt/anaconda3/lib/python3.8/site-packages/urllib3/connectionpool.py:981: InsecureRequestWarning: Unverified HTTPS request is being made to host '100.123.26.252'. Adding certificate verification is strongly advised. See: https://urllib3.readthedocs.io/en/latest/advanced-usage.html#ssl-warnings\n",
      "  warnings.warn(\n",
      "/opt/anaconda3/lib/python3.8/site-packages/urllib3/connectionpool.py:981: InsecureRequestWarning: Unverified HTTPS request is being made to host '100.123.26.252'. Adding certificate verification is strongly advised. See: https://urllib3.readthedocs.io/en/latest/advanced-usage.html#ssl-warnings\n",
      "  warnings.warn(\n",
      "/opt/anaconda3/lib/python3.8/site-packages/urllib3/connectionpool.py:981: InsecureRequestWarning: Unverified HTTPS request is being made to host '100.123.26.224'. Adding certificate verification is strongly advised. See: https://urllib3.readthedocs.io/en/latest/advanced-usage.html#ssl-warnings\n",
      "  warnings.warn(\n"
     ]
    },
    {
     "name": "stdout",
     "output_type": "stream",
     "text": [
      " dato_param['total']  13 1\n",
      "https://100.123.26.252/api/v2/devices/58:C1:7A:E8:76:59/performance?offset=0&start_time=202110211800&stop_time=202110211859\n",
      "1.-Fecha: 2021-10-21 19:07:08.893157 - Error bucle externo:  404  no trajo datos:  https://100.123.26.224/api/v2/devices/58:C1:7A:E8:76:59/performance?start_time=202110211800&stop_time=202110211859\n"
     ]
    },
    {
     "name": "stderr",
     "output_type": "stream",
     "text": [
      "/opt/anaconda3/lib/python3.8/site-packages/urllib3/connectionpool.py:981: InsecureRequestWarning: Unverified HTTPS request is being made to host '100.123.26.252'. Adding certificate verification is strongly advised. See: https://urllib3.readthedocs.io/en/latest/advanced-usage.html#ssl-warnings\n",
      "  warnings.warn(\n",
      "/opt/anaconda3/lib/python3.8/site-packages/urllib3/connectionpool.py:981: InsecureRequestWarning: Unverified HTTPS request is being made to host '100.123.26.252'. Adding certificate verification is strongly advised. See: https://urllib3.readthedocs.io/en/latest/advanced-usage.html#ssl-warnings\n",
      "  warnings.warn(\n",
      "/opt/anaconda3/lib/python3.8/site-packages/urllib3/connectionpool.py:981: InsecureRequestWarning: Unverified HTTPS request is being made to host '100.123.26.252'. Adding certificate verification is strongly advised. See: https://urllib3.readthedocs.io/en/latest/advanced-usage.html#ssl-warnings\n",
      "  warnings.warn(\n"
     ]
    },
    {
     "name": "stdout",
     "output_type": "stream",
     "text": [
      "1.-Fecha: 2021-10-21 19:07:08.893157 - Error bucle externo:  404  no trajo datos:  https://100.123.26.252/api/v2/devices/58:C1:7A:E8:76:7A/performance?start_time=202110211800&stop_time=202110211859\n",
      "1.-Fecha: 2021-10-21 19:07:08.893157 - Error bucle externo:  404  no trajo datos:  https://100.123.26.252/api/v2/devices/58:C1:7A:E8:76:8B/performance?start_time=202110211800&stop_time=202110211859\n",
      "1.-Fecha: 2021-10-21 19:07:08.893157 - Error bucle externo:  404  no trajo datos:  https://100.123.26.252/api/v2/devices/58:C1:7A:E8:76:C1/performance?start_time=202110211800&stop_time=202110211859\n",
      "1.-Fecha: 2021-10-21 19:07:08.893157 - Error bucle externo:  404  no trajo datos:  https://100.123.26.252/api/v2/devices/58:C1:7A:E8:76:DF/performance?start_time=202110211800&stop_time=202110211859\n"
     ]
    },
    {
     "name": "stderr",
     "output_type": "stream",
     "text": [
      "/opt/anaconda3/lib/python3.8/site-packages/urllib3/connectionpool.py:981: InsecureRequestWarning: Unverified HTTPS request is being made to host '100.123.26.252'. Adding certificate verification is strongly advised. See: https://urllib3.readthedocs.io/en/latest/advanced-usage.html#ssl-warnings\n",
      "  warnings.warn(\n",
      "/opt/anaconda3/lib/python3.8/site-packages/urllib3/connectionpool.py:981: InsecureRequestWarning: Unverified HTTPS request is being made to host '100.123.26.252'. Adding certificate verification is strongly advised. See: https://urllib3.readthedocs.io/en/latest/advanced-usage.html#ssl-warnings\n",
      "  warnings.warn(\n",
      "/opt/anaconda3/lib/python3.8/site-packages/urllib3/connectionpool.py:981: InsecureRequestWarning: Unverified HTTPS request is being made to host '100.123.26.252'. Adding certificate verification is strongly advised. See: https://urllib3.readthedocs.io/en/latest/advanced-usage.html#ssl-warnings\n",
      "  warnings.warn(\n",
      "/opt/anaconda3/lib/python3.8/site-packages/urllib3/connectionpool.py:981: InsecureRequestWarning: Unverified HTTPS request is being made to host '100.123.26.224'. Adding certificate verification is strongly advised. See: https://urllib3.readthedocs.io/en/latest/advanced-usage.html#ssl-warnings\n",
      "  warnings.warn(\n"
     ]
    },
    {
     "name": "stdout",
     "output_type": "stream",
     "text": [
      " dato_param['total']  13 1\n",
      "https://100.123.26.252/api/v2/devices/58:C1:7A:E8:76:E1/performance?offset=0&start_time=202110211800&stop_time=202110211859\n",
      "1.-Fecha: 2021-10-21 19:07:08.893157 - Error bucle externo:  404  no trajo datos:  https://100.123.26.224/api/v2/devices/58:C1:7A:E8:76:E1/performance?start_time=202110211800&stop_time=202110211859\n"
     ]
    },
    {
     "name": "stderr",
     "output_type": "stream",
     "text": [
      "/opt/anaconda3/lib/python3.8/site-packages/urllib3/connectionpool.py:981: InsecureRequestWarning: Unverified HTTPS request is being made to host '100.123.26.252'. Adding certificate verification is strongly advised. See: https://urllib3.readthedocs.io/en/latest/advanced-usage.html#ssl-warnings\n",
      "  warnings.warn(\n",
      "/opt/anaconda3/lib/python3.8/site-packages/urllib3/connectionpool.py:981: InsecureRequestWarning: Unverified HTTPS request is being made to host '100.123.26.252'. Adding certificate verification is strongly advised. See: https://urllib3.readthedocs.io/en/latest/advanced-usage.html#ssl-warnings\n",
      "  warnings.warn(\n",
      "/opt/anaconda3/lib/python3.8/site-packages/urllib3/connectionpool.py:981: InsecureRequestWarning: Unverified HTTPS request is being made to host '100.123.26.252'. Adding certificate verification is strongly advised. See: https://urllib3.readthedocs.io/en/latest/advanced-usage.html#ssl-warnings\n",
      "  warnings.warn(\n"
     ]
    },
    {
     "name": "stdout",
     "output_type": "stream",
     "text": [
      "1.-Fecha: 2021-10-21 19:07:08.893157 - Error bucle externo:  404  no trajo datos:  https://100.123.26.252/api/v2/devices/58:C1:7A:E8:77:29/performance?start_time=202110211800&stop_time=202110211859\n",
      " dato_param['total']  13 1\n",
      "https://100.123.26.252/api/v2/devices/58:C1:7A:E8:77:4E/performance?offset=0&start_time=202110211800&stop_time=202110211859\n",
      "1.-Fecha: 2021-10-21 19:07:08.893157 - Error bucle externo:  404  no trajo datos:  https://100.123.26.224/api/v2/devices/58:C1:7A:E8:77:4E/performance?start_time=202110211800&stop_time=202110211859\n"
     ]
    },
    {
     "name": "stderr",
     "output_type": "stream",
     "text": [
      "/opt/anaconda3/lib/python3.8/site-packages/urllib3/connectionpool.py:981: InsecureRequestWarning: Unverified HTTPS request is being made to host '100.123.26.224'. Adding certificate verification is strongly advised. See: https://urllib3.readthedocs.io/en/latest/advanced-usage.html#ssl-warnings\n",
      "  warnings.warn(\n",
      "/opt/anaconda3/lib/python3.8/site-packages/urllib3/connectionpool.py:981: InsecureRequestWarning: Unverified HTTPS request is being made to host '100.123.26.252'. Adding certificate verification is strongly advised. See: https://urllib3.readthedocs.io/en/latest/advanced-usage.html#ssl-warnings\n",
      "  warnings.warn(\n",
      "/opt/anaconda3/lib/python3.8/site-packages/urllib3/connectionpool.py:981: InsecureRequestWarning: Unverified HTTPS request is being made to host '100.123.26.252'. Adding certificate verification is strongly advised. See: https://urllib3.readthedocs.io/en/latest/advanced-usage.html#ssl-warnings\n",
      "  warnings.warn(\n",
      "/opt/anaconda3/lib/python3.8/site-packages/urllib3/connectionpool.py:981: InsecureRequestWarning: Unverified HTTPS request is being made to host '100.123.26.252'. Adding certificate verification is strongly advised. See: https://urllib3.readthedocs.io/en/latest/advanced-usage.html#ssl-warnings\n",
      "  warnings.warn(\n"
     ]
    },
    {
     "name": "stdout",
     "output_type": "stream",
     "text": [
      "1.-Fecha: 2021-10-21 19:07:08.893157 - Error bucle externo:  404  no trajo datos:  https://100.123.26.252/api/v2/devices/58:C1:7A:E8:77:56/performance?start_time=202110211800&stop_time=202110211859\n",
      "1.-Fecha: 2021-10-21 19:07:08.893157 - Error bucle externo:  404  no trajo datos:  https://100.123.26.252/api/v2/devices/58:C1:7A:E8:77:95/performance?start_time=202110211800&stop_time=202110211859\n",
      " dato_param['total']  1 1\n",
      "https://100.123.26.252/api/v2/devices/58:C1:7A:E8:77:C6/performance?offset=0&start_time=202110211800&stop_time=202110211859\n"
     ]
    },
    {
     "name": "stderr",
     "output_type": "stream",
     "text": [
      "/opt/anaconda3/lib/python3.8/site-packages/urllib3/connectionpool.py:981: InsecureRequestWarning: Unverified HTTPS request is being made to host '100.123.26.252'. Adding certificate verification is strongly advised. See: https://urllib3.readthedocs.io/en/latest/advanced-usage.html#ssl-warnings\n",
      "  warnings.warn(\n",
      "/opt/anaconda3/lib/python3.8/site-packages/urllib3/connectionpool.py:981: InsecureRequestWarning: Unverified HTTPS request is being made to host '100.123.26.224'. Adding certificate verification is strongly advised. See: https://urllib3.readthedocs.io/en/latest/advanced-usage.html#ssl-warnings\n",
      "  warnings.warn(\n",
      "/opt/anaconda3/lib/python3.8/site-packages/urllib3/connectionpool.py:981: InsecureRequestWarning: Unverified HTTPS request is being made to host '100.123.26.252'. Adding certificate verification is strongly advised. See: https://urllib3.readthedocs.io/en/latest/advanced-usage.html#ssl-warnings\n",
      "  warnings.warn(\n",
      "/opt/anaconda3/lib/python3.8/site-packages/urllib3/connectionpool.py:981: InsecureRequestWarning: Unverified HTTPS request is being made to host '100.123.26.252'. Adding certificate verification is strongly advised. See: https://urllib3.readthedocs.io/en/latest/advanced-usage.html#ssl-warnings\n",
      "  warnings.warn(\n",
      "/opt/anaconda3/lib/python3.8/site-packages/urllib3/connectionpool.py:981: InsecureRequestWarning: Unverified HTTPS request is being made to host '100.123.26.252'. Adding certificate verification is strongly advised. See: https://urllib3.readthedocs.io/en/latest/advanced-usage.html#ssl-warnings\n",
      "  warnings.warn(\n"
     ]
    },
    {
     "name": "stdout",
     "output_type": "stream",
     "text": [
      "1.-Fecha: 2021-10-21 19:07:08.893157 - Error bucle externo:  404  no trajo datos:  https://100.123.26.224/api/v2/devices/58:C1:7A:E8:77:C6/performance?start_time=202110211800&stop_time=202110211859\n",
      "1.-Fecha: 2021-10-21 19:07:08.893157 - Error bucle externo:  404  no trajo datos:  https://100.123.26.252/api/v2/devices/58:C1:7A:E8:77:EA/performance?start_time=202110211800&stop_time=202110211859\n",
      " dato_param['total']  13 1\n",
      "https://100.123.26.252/api/v2/devices/58:C1:7A:E8:77:F0/performance?offset=0&start_time=202110211800&stop_time=202110211859\n"
     ]
    },
    {
     "name": "stderr",
     "output_type": "stream",
     "text": [
      "/opt/anaconda3/lib/python3.8/site-packages/urllib3/connectionpool.py:981: InsecureRequestWarning: Unverified HTTPS request is being made to host '100.123.26.224'. Adding certificate verification is strongly advised. See: https://urllib3.readthedocs.io/en/latest/advanced-usage.html#ssl-warnings\n",
      "  warnings.warn(\n",
      "/opt/anaconda3/lib/python3.8/site-packages/urllib3/connectionpool.py:981: InsecureRequestWarning: Unverified HTTPS request is being made to host '100.123.26.252'. Adding certificate verification is strongly advised. See: https://urllib3.readthedocs.io/en/latest/advanced-usage.html#ssl-warnings\n",
      "  warnings.warn(\n",
      "/opt/anaconda3/lib/python3.8/site-packages/urllib3/connectionpool.py:981: InsecureRequestWarning: Unverified HTTPS request is being made to host '100.123.26.252'. Adding certificate verification is strongly advised. See: https://urllib3.readthedocs.io/en/latest/advanced-usage.html#ssl-warnings\n",
      "  warnings.warn(\n"
     ]
    },
    {
     "name": "stdout",
     "output_type": "stream",
     "text": [
      "1.-Fecha: 2021-10-21 19:07:08.893157 - Error bucle externo:  404  no trajo datos:  https://100.123.26.224/api/v2/devices/58:C1:7A:E8:77:F0/performance?start_time=202110211800&stop_time=202110211859\n",
      "1.-Fecha: 2021-10-21 19:07:08.893157 - Error bucle externo:  404  no trajo datos:  https://100.123.26.252/api/v2/devices/58:C1:7A:E8:78:01/performance?start_time=202110211800&stop_time=202110211859\n",
      "1.-Fecha: 2021-10-21 19:07:08.893157 - Error bucle externo:  404  no trajo datos:  https://100.123.26.252/api/v2/devices/58:C1:7A:E8:78:25/performance?start_time=202110211800&stop_time=202110211859\n"
     ]
    },
    {
     "name": "stderr",
     "output_type": "stream",
     "text": [
      "/opt/anaconda3/lib/python3.8/site-packages/urllib3/connectionpool.py:981: InsecureRequestWarning: Unverified HTTPS request is being made to host '100.123.26.252'. Adding certificate verification is strongly advised. See: https://urllib3.readthedocs.io/en/latest/advanced-usage.html#ssl-warnings\n",
      "  warnings.warn(\n",
      "/opt/anaconda3/lib/python3.8/site-packages/urllib3/connectionpool.py:981: InsecureRequestWarning: Unverified HTTPS request is being made to host '100.123.26.252'. Adding certificate verification is strongly advised. See: https://urllib3.readthedocs.io/en/latest/advanced-usage.html#ssl-warnings\n",
      "  warnings.warn(\n",
      "/opt/anaconda3/lib/python3.8/site-packages/urllib3/connectionpool.py:981: InsecureRequestWarning: Unverified HTTPS request is being made to host '100.123.26.252'. Adding certificate verification is strongly advised. See: https://urllib3.readthedocs.io/en/latest/advanced-usage.html#ssl-warnings\n",
      "  warnings.warn(\n",
      "/opt/anaconda3/lib/python3.8/site-packages/urllib3/connectionpool.py:981: InsecureRequestWarning: Unverified HTTPS request is being made to host '100.123.26.252'. Adding certificate verification is strongly advised. See: https://urllib3.readthedocs.io/en/latest/advanced-usage.html#ssl-warnings\n",
      "  warnings.warn(\n"
     ]
    },
    {
     "name": "stdout",
     "output_type": "stream",
     "text": [
      "1.-Fecha: 2021-10-21 19:07:08.893157 - Error bucle externo:  404  no trajo datos:  https://100.123.26.252/api/v2/devices/58:C1:7A:E8:C3:A1/performance?start_time=202110211800&stop_time=202110211859\n",
      "1.-Fecha: 2021-10-21 19:07:08.893157 - Error bucle externo:  404  no trajo datos:  https://100.123.26.252/api/v2/devices/58:C1:7A:E8:C3:F3/performance?start_time=202110211800&stop_time=202110211859\n",
      "1.-Fecha: 2021-10-21 19:07:08.893157 - Error bucle externo:  404  no trajo datos:  https://100.123.26.252/api/v2/devices/58:C1:7A:E8:C4:23/performance?start_time=202110211800&stop_time=202110211859\n",
      "1.-Fecha: 2021-10-21 19:07:08.893157 - Error bucle externo:  404  no trajo datos:  https://100.123.26.252/api/v2/devices/58:C1:7A:E8:C4:2F/performance?start_time=202110211800&stop_time=202110211859\n"
     ]
    },
    {
     "name": "stderr",
     "output_type": "stream",
     "text": [
      "/opt/anaconda3/lib/python3.8/site-packages/urllib3/connectionpool.py:981: InsecureRequestWarning: Unverified HTTPS request is being made to host '100.123.26.252'. Adding certificate verification is strongly advised. See: https://urllib3.readthedocs.io/en/latest/advanced-usage.html#ssl-warnings\n",
      "  warnings.warn(\n",
      "/opt/anaconda3/lib/python3.8/site-packages/urllib3/connectionpool.py:981: InsecureRequestWarning: Unverified HTTPS request is being made to host '100.123.26.252'. Adding certificate verification is strongly advised. See: https://urllib3.readthedocs.io/en/latest/advanced-usage.html#ssl-warnings\n",
      "  warnings.warn(\n",
      "/opt/anaconda3/lib/python3.8/site-packages/urllib3/connectionpool.py:981: InsecureRequestWarning: Unverified HTTPS request is being made to host '100.123.26.252'. Adding certificate verification is strongly advised. See: https://urllib3.readthedocs.io/en/latest/advanced-usage.html#ssl-warnings\n",
      "  warnings.warn(\n",
      "/opt/anaconda3/lib/python3.8/site-packages/urllib3/connectionpool.py:981: InsecureRequestWarning: Unverified HTTPS request is being made to host '100.123.26.224'. Adding certificate verification is strongly advised. See: https://urllib3.readthedocs.io/en/latest/advanced-usage.html#ssl-warnings\n",
      "  warnings.warn(\n",
      "/opt/anaconda3/lib/python3.8/site-packages/urllib3/connectionpool.py:981: InsecureRequestWarning: Unverified HTTPS request is being made to host '100.123.26.252'. Adding certificate verification is strongly advised. See: https://urllib3.readthedocs.io/en/latest/advanced-usage.html#ssl-warnings\n",
      "  warnings.warn(\n"
     ]
    },
    {
     "name": "stdout",
     "output_type": "stream",
     "text": [
      "1.-Fecha: 2021-10-21 19:07:08.893157 - Error bucle externo:  404  no trajo datos:  https://100.123.26.252/api/v2/devices/58:C1:7A:E8:C4:44/performance?start_time=202110211800&stop_time=202110211859\n",
      " dato_param['total']  1 1\n",
      "https://100.123.26.252/api/v2/devices/58:C1:7A:E8:C4:4F/performance?offset=0&start_time=202110211800&stop_time=202110211859\n",
      "1.-Fecha: 2021-10-21 19:07:08.893157 - Error bucle externo:  404  no trajo datos:  https://100.123.26.224/api/v2/devices/58:C1:7A:E8:C4:4F/performance?start_time=202110211800&stop_time=202110211859\n",
      "1.-Fecha: 2021-10-21 19:07:08.893157 - Error bucle externo:  404  no trajo datos:  https://100.123.26.252/api/v2/devices/58:C1:7A:E8:C4:54/performance?start_time=202110211800&stop_time=202110211859\n",
      " dato_param['total']  18 1\n",
      "https://100.123.26.252/api/v2/devices/58:C1:7A:E8:C4:65/performance?offset=0&start_time=202110211800&stop_time=202110211859\n"
     ]
    },
    {
     "name": "stderr",
     "output_type": "stream",
     "text": [
      "/opt/anaconda3/lib/python3.8/site-packages/urllib3/connectionpool.py:981: InsecureRequestWarning: Unverified HTTPS request is being made to host '100.123.26.252'. Adding certificate verification is strongly advised. See: https://urllib3.readthedocs.io/en/latest/advanced-usage.html#ssl-warnings\n",
      "  warnings.warn(\n",
      "/opt/anaconda3/lib/python3.8/site-packages/urllib3/connectionpool.py:981: InsecureRequestWarning: Unverified HTTPS request is being made to host '100.123.26.252'. Adding certificate verification is strongly advised. See: https://urllib3.readthedocs.io/en/latest/advanced-usage.html#ssl-warnings\n",
      "  warnings.warn(\n",
      "/opt/anaconda3/lib/python3.8/site-packages/urllib3/connectionpool.py:981: InsecureRequestWarning: Unverified HTTPS request is being made to host '100.123.26.224'. Adding certificate verification is strongly advised. See: https://urllib3.readthedocs.io/en/latest/advanced-usage.html#ssl-warnings\n",
      "  warnings.warn(\n"
     ]
    },
    {
     "name": "stdout",
     "output_type": "stream",
     "text": [
      "1.-Fecha: 2021-10-21 19:07:08.893157 - Error bucle externo:  404  no trajo datos:  https://100.123.26.224/api/v2/devices/58:C1:7A:E8:C4:65/performance?start_time=202110211800&stop_time=202110211859\n",
      "1.-Fecha: 2021-10-21 19:07:08.893157 - Error bucle externo:  404  no trajo datos:  https://100.123.26.252/api/v2/devices/58:C1:7A:E8:C4:6F/performance?start_time=202110211800&stop_time=202110211859\n",
      "1.-Fecha: 2021-10-21 19:07:08.893157 - Error bucle externo:  404  no trajo datos:  https://100.123.26.252/api/v2/devices/58:C1:7A:E8:C4:84/performance?start_time=202110211800&stop_time=202110211859\n",
      "1.-Fecha: 2021-10-21 19:07:08.893157 - Error bucle externo:  404  no trajo datos:  https://100.123.26.252/api/v2/devices/58:C1:7A:E8:C4:D7/performance?start_time=202110211800&stop_time=202110211859\n"
     ]
    },
    {
     "name": "stderr",
     "output_type": "stream",
     "text": [
      "/opt/anaconda3/lib/python3.8/site-packages/urllib3/connectionpool.py:981: InsecureRequestWarning: Unverified HTTPS request is being made to host '100.123.26.252'. Adding certificate verification is strongly advised. See: https://urllib3.readthedocs.io/en/latest/advanced-usage.html#ssl-warnings\n",
      "  warnings.warn(\n",
      "/opt/anaconda3/lib/python3.8/site-packages/urllib3/connectionpool.py:981: InsecureRequestWarning: Unverified HTTPS request is being made to host '100.123.26.252'. Adding certificate verification is strongly advised. See: https://urllib3.readthedocs.io/en/latest/advanced-usage.html#ssl-warnings\n",
      "  warnings.warn(\n",
      "/opt/anaconda3/lib/python3.8/site-packages/urllib3/connectionpool.py:981: InsecureRequestWarning: Unverified HTTPS request is being made to host '100.123.26.252'. Adding certificate verification is strongly advised. See: https://urllib3.readthedocs.io/en/latest/advanced-usage.html#ssl-warnings\n",
      "  warnings.warn(\n",
      "/opt/anaconda3/lib/python3.8/site-packages/urllib3/connectionpool.py:981: InsecureRequestWarning: Unverified HTTPS request is being made to host '100.123.26.252'. Adding certificate verification is strongly advised. See: https://urllib3.readthedocs.io/en/latest/advanced-usage.html#ssl-warnings\n",
      "  warnings.warn(\n"
     ]
    },
    {
     "name": "stdout",
     "output_type": "stream",
     "text": [
      " dato_param['total']  13 1\n",
      "https://100.123.26.252/api/v2/devices/58:C1:7A:E8:C4:EE/performance?offset=0&start_time=202110211800&stop_time=202110211859\n",
      "1.-Fecha: 2021-10-21 19:07:08.893157 - Error bucle externo:  404  no trajo datos:  https://100.123.26.224/api/v2/devices/58:C1:7A:E8:C4:EE/performance?start_time=202110211800&stop_time=202110211859\n",
      " dato_param['total']  13 1\n",
      "https://100.123.26.252/api/v2/devices/58:C1:7A:E8:C4:EF/performance?offset=0&start_time=202110211800&stop_time=202110211859\n"
     ]
    },
    {
     "name": "stderr",
     "output_type": "stream",
     "text": [
      "/opt/anaconda3/lib/python3.8/site-packages/urllib3/connectionpool.py:981: InsecureRequestWarning: Unverified HTTPS request is being made to host '100.123.26.252'. Adding certificate verification is strongly advised. See: https://urllib3.readthedocs.io/en/latest/advanced-usage.html#ssl-warnings\n",
      "  warnings.warn(\n",
      "/opt/anaconda3/lib/python3.8/site-packages/urllib3/connectionpool.py:981: InsecureRequestWarning: Unverified HTTPS request is being made to host '100.123.26.224'. Adding certificate verification is strongly advised. See: https://urllib3.readthedocs.io/en/latest/advanced-usage.html#ssl-warnings\n",
      "  warnings.warn(\n",
      "/opt/anaconda3/lib/python3.8/site-packages/urllib3/connectionpool.py:981: InsecureRequestWarning: Unverified HTTPS request is being made to host '100.123.26.252'. Adding certificate verification is strongly advised. See: https://urllib3.readthedocs.io/en/latest/advanced-usage.html#ssl-warnings\n",
      "  warnings.warn(\n",
      "/opt/anaconda3/lib/python3.8/site-packages/urllib3/connectionpool.py:981: InsecureRequestWarning: Unverified HTTPS request is being made to host '100.123.26.252'. Adding certificate verification is strongly advised. See: https://urllib3.readthedocs.io/en/latest/advanced-usage.html#ssl-warnings\n",
      "  warnings.warn(\n",
      "/opt/anaconda3/lib/python3.8/site-packages/urllib3/connectionpool.py:981: InsecureRequestWarning: Unverified HTTPS request is being made to host '100.123.26.224'. Adding certificate verification is strongly advised. See: https://urllib3.readthedocs.io/en/latest/advanced-usage.html#ssl-warnings\n",
      "  warnings.warn(\n",
      "/opt/anaconda3/lib/python3.8/site-packages/urllib3/connectionpool.py:981: InsecureRequestWarning: Unverified HTTPS request is being made to host '100.123.26.252'. Adding certificate verification is strongly advised. See: https://urllib3.readthedocs.io/en/latest/advanced-usage.html#ssl-warnings\n",
      "  warnings.warn(\n",
      "/opt/anaconda3/lib/python3.8/site-packages/urllib3/connectionpool.py:981: InsecureRequestWarning: Unverified HTTPS request is being made to host '100.123.26.252'. Adding certificate verification is strongly advised. See: https://urllib3.readthedocs.io/en/latest/advanced-usage.html#ssl-warnings\n",
      "  warnings.warn(\n",
      "/opt/anaconda3/lib/python3.8/site-packages/urllib3/connectionpool.py:981: InsecureRequestWarning: Unverified HTTPS request is being made to host '100.123.26.252'. Adding certificate verification is strongly advised. See: https://urllib3.readthedocs.io/en/latest/advanced-usage.html#ssl-warnings\n",
      "  warnings.warn(\n"
     ]
    },
    {
     "name": "stdout",
     "output_type": "stream",
     "text": [
      "1.-Fecha: 2021-10-21 19:07:08.893157 - Error bucle externo:  404  no trajo datos:  https://100.123.26.224/api/v2/devices/58:C1:7A:E8:C4:EF/performance?start_time=202110211800&stop_time=202110211859\n",
      "1.-Fecha: 2021-10-21 19:07:08.893157 - Error bucle externo:  404  no trajo datos:  https://100.123.26.252/api/v2/devices/58:C1:7A:E8:C4:F0/performance?start_time=202110211800&stop_time=202110211859\n",
      " dato_param['total']  1 1\n",
      "https://100.123.26.252/api/v2/devices/58:C1:7A:E8:C4:F1/performance?offset=0&start_time=202110211800&stop_time=202110211859\n"
     ]
    },
    {
     "name": "stderr",
     "output_type": "stream",
     "text": [
      "/opt/anaconda3/lib/python3.8/site-packages/urllib3/connectionpool.py:981: InsecureRequestWarning: Unverified HTTPS request is being made to host '100.123.26.224'. Adding certificate verification is strongly advised. See: https://urllib3.readthedocs.io/en/latest/advanced-usage.html#ssl-warnings\n",
      "  warnings.warn(\n",
      "/opt/anaconda3/lib/python3.8/site-packages/urllib3/connectionpool.py:981: InsecureRequestWarning: Unverified HTTPS request is being made to host '100.123.26.252'. Adding certificate verification is strongly advised. See: https://urllib3.readthedocs.io/en/latest/advanced-usage.html#ssl-warnings\n",
      "  warnings.warn(\n",
      "/opt/anaconda3/lib/python3.8/site-packages/urllib3/connectionpool.py:981: InsecureRequestWarning: Unverified HTTPS request is being made to host '100.123.26.252'. Adding certificate verification is strongly advised. See: https://urllib3.readthedocs.io/en/latest/advanced-usage.html#ssl-warnings\n",
      "  warnings.warn(\n",
      "/opt/anaconda3/lib/python3.8/site-packages/urllib3/connectionpool.py:981: InsecureRequestWarning: Unverified HTTPS request is being made to host '100.123.26.224'. Adding certificate verification is strongly advised. See: https://urllib3.readthedocs.io/en/latest/advanced-usage.html#ssl-warnings\n",
      "  warnings.warn(\n"
     ]
    },
    {
     "name": "stdout",
     "output_type": "stream",
     "text": [
      "1.-Fecha: 2021-10-21 19:07:08.893157 - Error bucle externo:  404  no trajo datos:  https://100.123.26.224/api/v2/devices/58:C1:7A:E8:C4:F1/performance?start_time=202110211800&stop_time=202110211859\n",
      " dato_param['total']  13 1\n",
      "https://100.123.26.252/api/v2/devices/58:C1:7A:E8:C5:0D/performance?offset=0&start_time=202110211800&stop_time=202110211859\n",
      "1.-Fecha: 2021-10-21 19:07:08.893157 - Error bucle externo:  404  no trajo datos:  https://100.123.26.224/api/v2/devices/58:C1:7A:E8:C5:0D/performance?start_time=202110211800&stop_time=202110211859\n",
      "1.-Fecha: 2021-10-21 19:07:08.893157 - Error bucle externo:  404  no trajo datos:  https://100.123.26.252/api/v2/devices/58:C1:7A:E8:C5:29/performance?start_time=202110211800&stop_time=202110211859\n",
      "1.-Fecha: 2021-10-21 19:07:08.893157 - Error bucle externo:  404  no trajo datos:  https://100.123.26.252/api/v2/devices/58:C1:7A:E8:C5:76/performance?start_time=202110211800&stop_time=202110211859\n",
      "1.-Fecha: 2021-10-21 19:07:08.893157 - Error bucle externo:  404  no trajo datos:  https://100.123.26.252/api/v2/devices/58:C1:7A:E9:11:81/performance?start_time=202110211800&stop_time=202110211859\n"
     ]
    },
    {
     "name": "stderr",
     "output_type": "stream",
     "text": [
      "/opt/anaconda3/lib/python3.8/site-packages/urllib3/connectionpool.py:981: InsecureRequestWarning: Unverified HTTPS request is being made to host '100.123.26.252'. Adding certificate verification is strongly advised. See: https://urllib3.readthedocs.io/en/latest/advanced-usage.html#ssl-warnings\n",
      "  warnings.warn(\n",
      "/opt/anaconda3/lib/python3.8/site-packages/urllib3/connectionpool.py:981: InsecureRequestWarning: Unverified HTTPS request is being made to host '100.123.26.252'. Adding certificate verification is strongly advised. See: https://urllib3.readthedocs.io/en/latest/advanced-usage.html#ssl-warnings\n",
      "  warnings.warn(\n",
      "/opt/anaconda3/lib/python3.8/site-packages/urllib3/connectionpool.py:981: InsecureRequestWarning: Unverified HTTPS request is being made to host '100.123.26.252'. Adding certificate verification is strongly advised. See: https://urllib3.readthedocs.io/en/latest/advanced-usage.html#ssl-warnings\n",
      "  warnings.warn(\n",
      "/opt/anaconda3/lib/python3.8/site-packages/urllib3/connectionpool.py:981: InsecureRequestWarning: Unverified HTTPS request is being made to host '100.123.26.252'. Adding certificate verification is strongly advised. See: https://urllib3.readthedocs.io/en/latest/advanced-usage.html#ssl-warnings\n",
      "  warnings.warn(\n"
     ]
    },
    {
     "name": "stdout",
     "output_type": "stream",
     "text": [
      "1.-Fecha: 2021-10-21 19:07:08.893157 - Error bucle externo:  404  no trajo datos:  https://100.123.26.252/api/v2/devices/58:C1:7A:E9:C7:A4/performance?start_time=202110211800&stop_time=202110211859\n",
      " dato_param['total']  12 1\n",
      "https://100.123.26.252/api/v2/devices/58:C1:7A:E9:C7:A8/performance?offset=0&start_time=202110211800&stop_time=202110211859\n"
     ]
    },
    {
     "name": "stderr",
     "output_type": "stream",
     "text": [
      "/opt/anaconda3/lib/python3.8/site-packages/urllib3/connectionpool.py:981: InsecureRequestWarning: Unverified HTTPS request is being made to host '100.123.26.252'. Adding certificate verification is strongly advised. See: https://urllib3.readthedocs.io/en/latest/advanced-usage.html#ssl-warnings\n",
      "  warnings.warn(\n",
      "/opt/anaconda3/lib/python3.8/site-packages/urllib3/connectionpool.py:981: InsecureRequestWarning: Unverified HTTPS request is being made to host '100.123.26.252'. Adding certificate verification is strongly advised. See: https://urllib3.readthedocs.io/en/latest/advanced-usage.html#ssl-warnings\n",
      "  warnings.warn(\n",
      "/opt/anaconda3/lib/python3.8/site-packages/urllib3/connectionpool.py:981: InsecureRequestWarning: Unverified HTTPS request is being made to host '100.123.26.224'. Adding certificate verification is strongly advised. See: https://urllib3.readthedocs.io/en/latest/advanced-usage.html#ssl-warnings\n",
      "  warnings.warn(\n"
     ]
    },
    {
     "name": "stdout",
     "output_type": "stream",
     "text": [
      "1.-Fecha: 2021-10-21 19:07:08.893157 - Error bucle externo:  404  no trajo datos:  https://100.123.26.224/api/v2/devices/58:C1:7A:E9:C7:A8/performance?start_time=202110211800&stop_time=202110211859\n",
      " dato_param['total']  12 1\n",
      "https://100.123.26.252/api/v2/devices/58:C1:7A:E9:C7:B1/performance?offset=0&start_time=202110211800&stop_time=202110211859\n",
      "1.-Fecha: 2021-10-21 19:07:08.893157 - Error bucle externo:  404  no trajo datos:  https://100.123.26.224/api/v2/devices/58:C1:7A:E9:C7:B1/performance?start_time=202110211800&stop_time=202110211859\n",
      " dato_param['total']  12 1\n",
      "https://100.123.26.252/api/v2/devices/58:C1:7A:E9:C7:B3/performance?offset=0&start_time=202110211800&stop_time=202110211859\n"
     ]
    },
    {
     "name": "stderr",
     "output_type": "stream",
     "text": [
      "/opt/anaconda3/lib/python3.8/site-packages/urllib3/connectionpool.py:981: InsecureRequestWarning: Unverified HTTPS request is being made to host '100.123.26.252'. Adding certificate verification is strongly advised. See: https://urllib3.readthedocs.io/en/latest/advanced-usage.html#ssl-warnings\n",
      "  warnings.warn(\n",
      "/opt/anaconda3/lib/python3.8/site-packages/urllib3/connectionpool.py:981: InsecureRequestWarning: Unverified HTTPS request is being made to host '100.123.26.252'. Adding certificate verification is strongly advised. See: https://urllib3.readthedocs.io/en/latest/advanced-usage.html#ssl-warnings\n",
      "  warnings.warn(\n",
      "/opt/anaconda3/lib/python3.8/site-packages/urllib3/connectionpool.py:981: InsecureRequestWarning: Unverified HTTPS request is being made to host '100.123.26.224'. Adding certificate verification is strongly advised. See: https://urllib3.readthedocs.io/en/latest/advanced-usage.html#ssl-warnings\n",
      "  warnings.warn(\n",
      "/opt/anaconda3/lib/python3.8/site-packages/urllib3/connectionpool.py:981: InsecureRequestWarning: Unverified HTTPS request is being made to host '100.123.26.252'. Adding certificate verification is strongly advised. See: https://urllib3.readthedocs.io/en/latest/advanced-usage.html#ssl-warnings\n",
      "  warnings.warn(\n",
      "/opt/anaconda3/lib/python3.8/site-packages/urllib3/connectionpool.py:981: InsecureRequestWarning: Unverified HTTPS request is being made to host '100.123.26.252'. Adding certificate verification is strongly advised. See: https://urllib3.readthedocs.io/en/latest/advanced-usage.html#ssl-warnings\n",
      "  warnings.warn(\n",
      "/opt/anaconda3/lib/python3.8/site-packages/urllib3/connectionpool.py:981: InsecureRequestWarning: Unverified HTTPS request is being made to host '100.123.26.224'. Adding certificate verification is strongly advised. See: https://urllib3.readthedocs.io/en/latest/advanced-usage.html#ssl-warnings\n",
      "  warnings.warn(\n",
      "/opt/anaconda3/lib/python3.8/site-packages/urllib3/connectionpool.py:981: InsecureRequestWarning: Unverified HTTPS request is being made to host '100.123.26.252'. Adding certificate verification is strongly advised. See: https://urllib3.readthedocs.io/en/latest/advanced-usage.html#ssl-warnings\n",
      "  warnings.warn(\n",
      "/opt/anaconda3/lib/python3.8/site-packages/urllib3/connectionpool.py:981: InsecureRequestWarning: Unverified HTTPS request is being made to host '100.123.26.252'. Adding certificate verification is strongly advised. See: https://urllib3.readthedocs.io/en/latest/advanced-usage.html#ssl-warnings\n",
      "  warnings.warn(\n",
      "/opt/anaconda3/lib/python3.8/site-packages/urllib3/connectionpool.py:981: InsecureRequestWarning: Unverified HTTPS request is being made to host '100.123.26.252'. Adding certificate verification is strongly advised. See: https://urllib3.readthedocs.io/en/latest/advanced-usage.html#ssl-warnings\n",
      "  warnings.warn(\n"
     ]
    },
    {
     "name": "stdout",
     "output_type": "stream",
     "text": [
      "1.-Fecha: 2021-10-21 19:07:08.893157 - Error bucle externo:  404  no trajo datos:  https://100.123.26.224/api/v2/devices/58:C1:7A:E9:C7:B3/performance?start_time=202110211800&stop_time=202110211859\n",
      "1.-Fecha: 2021-10-21 19:07:08.893157 - Error bucle externo:  404  no trajo datos:  https://100.123.26.252/api/v2/devices/58:C1:7A:E9:C7:BB/performance?start_time=202110211800&stop_time=202110211859\n",
      " dato_param['total']  13 1\n",
      "https://100.123.26.252/api/v2/devices/58:C1:7A:E9:C7:CC/performance?offset=0&start_time=202110211800&stop_time=202110211859\n"
     ]
    },
    {
     "name": "stderr",
     "output_type": "stream",
     "text": [
      "/opt/anaconda3/lib/python3.8/site-packages/urllib3/connectionpool.py:981: InsecureRequestWarning: Unverified HTTPS request is being made to host '100.123.26.224'. Adding certificate verification is strongly advised. See: https://urllib3.readthedocs.io/en/latest/advanced-usage.html#ssl-warnings\n",
      "  warnings.warn(\n",
      "/opt/anaconda3/lib/python3.8/site-packages/urllib3/connectionpool.py:981: InsecureRequestWarning: Unverified HTTPS request is being made to host '100.123.26.252'. Adding certificate verification is strongly advised. See: https://urllib3.readthedocs.io/en/latest/advanced-usage.html#ssl-warnings\n",
      "  warnings.warn(\n",
      "/opt/anaconda3/lib/python3.8/site-packages/urllib3/connectionpool.py:981: InsecureRequestWarning: Unverified HTTPS request is being made to host '100.123.26.252'. Adding certificate verification is strongly advised. See: https://urllib3.readthedocs.io/en/latest/advanced-usage.html#ssl-warnings\n",
      "  warnings.warn(\n",
      "/opt/anaconda3/lib/python3.8/site-packages/urllib3/connectionpool.py:981: InsecureRequestWarning: Unverified HTTPS request is being made to host '100.123.26.252'. Adding certificate verification is strongly advised. See: https://urllib3.readthedocs.io/en/latest/advanced-usage.html#ssl-warnings\n",
      "  warnings.warn(\n"
     ]
    },
    {
     "name": "stdout",
     "output_type": "stream",
     "text": [
      "1.-Fecha: 2021-10-21 19:07:08.893157 - Error bucle externo:  404  no trajo datos:  https://100.123.26.224/api/v2/devices/58:C1:7A:E9:C7:CC/performance?start_time=202110211800&stop_time=202110211859\n",
      "1.-Fecha: 2021-10-21 19:07:08.893157 - Error bucle externo:  404  no trajo datos:  https://100.123.26.252/api/v2/devices/58:C1:7A:E9:C7:D1/performance?start_time=202110211800&stop_time=202110211859\n",
      "1.-Fecha: 2021-10-21 19:07:08.893157 - Error bucle externo:  404  no trajo datos:  https://100.123.26.252/api/v2/devices/58:C1:7A:E9:C7:DF/performance?start_time=202110211800&stop_time=202110211859\n",
      " dato_param['total']  12 1\n",
      "https://100.123.26.252/api/v2/devices/58:C1:7A:E9:C7:F5/performance?offset=0&start_time=202110211800&stop_time=202110211859\n"
     ]
    },
    {
     "name": "stderr",
     "output_type": "stream",
     "text": [
      "/opt/anaconda3/lib/python3.8/site-packages/urllib3/connectionpool.py:981: InsecureRequestWarning: Unverified HTTPS request is being made to host '100.123.26.252'. Adding certificate verification is strongly advised. See: https://urllib3.readthedocs.io/en/latest/advanced-usage.html#ssl-warnings\n",
      "  warnings.warn(\n",
      "/opt/anaconda3/lib/python3.8/site-packages/urllib3/connectionpool.py:981: InsecureRequestWarning: Unverified HTTPS request is being made to host '100.123.26.224'. Adding certificate verification is strongly advised. See: https://urllib3.readthedocs.io/en/latest/advanced-usage.html#ssl-warnings\n",
      "  warnings.warn(\n",
      "/opt/anaconda3/lib/python3.8/site-packages/urllib3/connectionpool.py:981: InsecureRequestWarning: Unverified HTTPS request is being made to host '100.123.26.252'. Adding certificate verification is strongly advised. See: https://urllib3.readthedocs.io/en/latest/advanced-usage.html#ssl-warnings\n",
      "  warnings.warn(\n",
      "/opt/anaconda3/lib/python3.8/site-packages/urllib3/connectionpool.py:981: InsecureRequestWarning: Unverified HTTPS request is being made to host '100.123.26.252'. Adding certificate verification is strongly advised. See: https://urllib3.readthedocs.io/en/latest/advanced-usage.html#ssl-warnings\n",
      "  warnings.warn(\n",
      "/opt/anaconda3/lib/python3.8/site-packages/urllib3/connectionpool.py:981: InsecureRequestWarning: Unverified HTTPS request is being made to host '100.123.26.252'. Adding certificate verification is strongly advised. See: https://urllib3.readthedocs.io/en/latest/advanced-usage.html#ssl-warnings\n",
      "  warnings.warn(\n"
     ]
    },
    {
     "name": "stdout",
     "output_type": "stream",
     "text": [
      "1.-Fecha: 2021-10-21 19:07:08.893157 - Error bucle externo:  404  no trajo datos:  https://100.123.26.224/api/v2/devices/58:C1:7A:E9:C7:F5/performance?start_time=202110211800&stop_time=202110211859\n",
      "1.-Fecha: 2021-10-21 19:07:08.893157 - Error bucle externo:  404  no trajo datos:  https://100.123.26.252/api/v2/devices/58:C1:7A:E9:C8:01/performance?start_time=202110211800&stop_time=202110211859\n",
      "1.-Fecha: 2021-10-21 19:07:08.893157 - Error bucle externo:  404  no trajo datos:  https://100.123.26.252/api/v2/devices/58:C1:7A:E9:C8:28/performance?start_time=202110211800&stop_time=202110211859\n",
      " dato_param['total']  13 1\n",
      "https://100.123.26.252/api/v2/devices/58:C1:7A:E9:C8:40/performance?offset=0&start_time=202110211800&stop_time=202110211859\n"
     ]
    },
    {
     "name": "stderr",
     "output_type": "stream",
     "text": [
      "/opt/anaconda3/lib/python3.8/site-packages/urllib3/connectionpool.py:981: InsecureRequestWarning: Unverified HTTPS request is being made to host '100.123.26.252'. Adding certificate verification is strongly advised. See: https://urllib3.readthedocs.io/en/latest/advanced-usage.html#ssl-warnings\n",
      "  warnings.warn(\n",
      "/opt/anaconda3/lib/python3.8/site-packages/urllib3/connectionpool.py:981: InsecureRequestWarning: Unverified HTTPS request is being made to host '100.123.26.224'. Adding certificate verification is strongly advised. See: https://urllib3.readthedocs.io/en/latest/advanced-usage.html#ssl-warnings\n",
      "  warnings.warn(\n",
      "/opt/anaconda3/lib/python3.8/site-packages/urllib3/connectionpool.py:981: InsecureRequestWarning: Unverified HTTPS request is being made to host '100.123.26.252'. Adding certificate verification is strongly advised. See: https://urllib3.readthedocs.io/en/latest/advanced-usage.html#ssl-warnings\n",
      "  warnings.warn(\n"
     ]
    },
    {
     "name": "stdout",
     "output_type": "stream",
     "text": [
      "1.-Fecha: 2021-10-21 19:07:08.893157 - Error bucle externo:  404  no trajo datos:  https://100.123.26.224/api/v2/devices/58:C1:7A:E9:C8:40/performance?start_time=202110211800&stop_time=202110211859\n",
      " dato_param['total']  13 1\n",
      "https://100.123.26.252/api/v2/devices/58:C1:7A:E9:C8:44/performance?offset=0&start_time=202110211800&stop_time=202110211859\n"
     ]
    },
    {
     "name": "stderr",
     "output_type": "stream",
     "text": [
      "/opt/anaconda3/lib/python3.8/site-packages/urllib3/connectionpool.py:981: InsecureRequestWarning: Unverified HTTPS request is being made to host '100.123.26.252'. Adding certificate verification is strongly advised. See: https://urllib3.readthedocs.io/en/latest/advanced-usage.html#ssl-warnings\n",
      "  warnings.warn(\n",
      "/opt/anaconda3/lib/python3.8/site-packages/urllib3/connectionpool.py:981: InsecureRequestWarning: Unverified HTTPS request is being made to host '100.123.26.224'. Adding certificate verification is strongly advised. See: https://urllib3.readthedocs.io/en/latest/advanced-usage.html#ssl-warnings\n",
      "  warnings.warn(\n",
      "/opt/anaconda3/lib/python3.8/site-packages/urllib3/connectionpool.py:981: InsecureRequestWarning: Unverified HTTPS request is being made to host '100.123.26.252'. Adding certificate verification is strongly advised. See: https://urllib3.readthedocs.io/en/latest/advanced-usage.html#ssl-warnings\n",
      "  warnings.warn(\n"
     ]
    },
    {
     "name": "stdout",
     "output_type": "stream",
     "text": [
      "1.-Fecha: 2021-10-21 19:07:08.893157 - Error bucle externo:  404  no trajo datos:  https://100.123.26.224/api/v2/devices/58:C1:7A:E9:C8:44/performance?start_time=202110211800&stop_time=202110211859\n",
      " dato_param['total']  1 1\n",
      "https://100.123.26.252/api/v2/devices/58:C1:7A:E9:C8:4E/performance?offset=0&start_time=202110211800&stop_time=202110211859\n",
      "1.-Fecha: 2021-10-21 19:07:08.893157 - Error bucle externo:  404  no trajo datos:  https://100.123.26.224/api/v2/devices/58:C1:7A:E9:C8:4E/performance?start_time=202110211800&stop_time=202110211859\n"
     ]
    },
    {
     "name": "stderr",
     "output_type": "stream",
     "text": [
      "/opt/anaconda3/lib/python3.8/site-packages/urllib3/connectionpool.py:981: InsecureRequestWarning: Unverified HTTPS request is being made to host '100.123.26.252'. Adding certificate verification is strongly advised. See: https://urllib3.readthedocs.io/en/latest/advanced-usage.html#ssl-warnings\n",
      "  warnings.warn(\n",
      "/opt/anaconda3/lib/python3.8/site-packages/urllib3/connectionpool.py:981: InsecureRequestWarning: Unverified HTTPS request is being made to host '100.123.26.224'. Adding certificate verification is strongly advised. See: https://urllib3.readthedocs.io/en/latest/advanced-usage.html#ssl-warnings\n",
      "  warnings.warn(\n",
      "/opt/anaconda3/lib/python3.8/site-packages/urllib3/connectionpool.py:981: InsecureRequestWarning: Unverified HTTPS request is being made to host '100.123.26.252'. Adding certificate verification is strongly advised. See: https://urllib3.readthedocs.io/en/latest/advanced-usage.html#ssl-warnings\n",
      "  warnings.warn(\n",
      "/opt/anaconda3/lib/python3.8/site-packages/urllib3/connectionpool.py:981: InsecureRequestWarning: Unverified HTTPS request is being made to host '100.123.26.252'. Adding certificate verification is strongly advised. See: https://urllib3.readthedocs.io/en/latest/advanced-usage.html#ssl-warnings\n",
      "  warnings.warn(\n"
     ]
    },
    {
     "name": "stdout",
     "output_type": "stream",
     "text": [
      " dato_param['total']  13 1\n",
      "https://100.123.26.252/api/v2/devices/58:C1:7A:E9:C8:4F/performance?offset=0&start_time=202110211800&stop_time=202110211859\n",
      "1.-Fecha: 2021-10-21 19:07:08.893157 - Error bucle externo:  404  no trajo datos:  https://100.123.26.224/api/v2/devices/58:C1:7A:E9:C8:4F/performance?start_time=202110211800&stop_time=202110211859\n"
     ]
    },
    {
     "name": "stderr",
     "output_type": "stream",
     "text": [
      "/opt/anaconda3/lib/python3.8/site-packages/urllib3/connectionpool.py:981: InsecureRequestWarning: Unverified HTTPS request is being made to host '100.123.26.224'. Adding certificate verification is strongly advised. See: https://urllib3.readthedocs.io/en/latest/advanced-usage.html#ssl-warnings\n",
      "  warnings.warn(\n",
      "/opt/anaconda3/lib/python3.8/site-packages/urllib3/connectionpool.py:981: InsecureRequestWarning: Unverified HTTPS request is being made to host '100.123.26.252'. Adding certificate verification is strongly advised. See: https://urllib3.readthedocs.io/en/latest/advanced-usage.html#ssl-warnings\n",
      "  warnings.warn(\n"
     ]
    },
    {
     "name": "stdout",
     "output_type": "stream",
     "text": [
      "1.-Fecha: 2021-10-21 19:07:08.893157 - Error bucle externo:  404  no trajo datos:  https://100.123.26.252/api/v2/devices/58:C1:7A:E9:C8:5B/performance?start_time=202110211800&stop_time=202110211859\n",
      " dato_param['total']  13 1\n",
      "https://100.123.26.252/api/v2/devices/58:C1:7A:E9:C8:5C/performance?offset=0&start_time=202110211800&stop_time=202110211859\n",
      "1.-Fecha: 2021-10-21 19:07:08.893157 - Error bucle externo:  404  no trajo datos:  https://100.123.26.224/api/v2/devices/58:C1:7A:E9:C8:5C/performance?start_time=202110211800&stop_time=202110211859\n"
     ]
    },
    {
     "name": "stderr",
     "output_type": "stream",
     "text": [
      "/opt/anaconda3/lib/python3.8/site-packages/urllib3/connectionpool.py:981: InsecureRequestWarning: Unverified HTTPS request is being made to host '100.123.26.252'. Adding certificate verification is strongly advised. See: https://urllib3.readthedocs.io/en/latest/advanced-usage.html#ssl-warnings\n",
      "  warnings.warn(\n",
      "/opt/anaconda3/lib/python3.8/site-packages/urllib3/connectionpool.py:981: InsecureRequestWarning: Unverified HTTPS request is being made to host '100.123.26.252'. Adding certificate verification is strongly advised. See: https://urllib3.readthedocs.io/en/latest/advanced-usage.html#ssl-warnings\n",
      "  warnings.warn(\n",
      "/opt/anaconda3/lib/python3.8/site-packages/urllib3/connectionpool.py:981: InsecureRequestWarning: Unverified HTTPS request is being made to host '100.123.26.224'. Adding certificate verification is strongly advised. See: https://urllib3.readthedocs.io/en/latest/advanced-usage.html#ssl-warnings\n",
      "  warnings.warn(\n",
      "/opt/anaconda3/lib/python3.8/site-packages/urllib3/connectionpool.py:981: InsecureRequestWarning: Unverified HTTPS request is being made to host '100.123.26.252'. Adding certificate verification is strongly advised. See: https://urllib3.readthedocs.io/en/latest/advanced-usage.html#ssl-warnings\n",
      "  warnings.warn(\n"
     ]
    },
    {
     "name": "stdout",
     "output_type": "stream",
     "text": [
      " dato_param['total']  1 1\n",
      "https://100.123.26.252/api/v2/devices/58:C1:7A:E9:C8:5D/performance?offset=0&start_time=202110211800&stop_time=202110211859\n",
      "1.-Fecha: 2021-10-21 19:07:08.893157 - Error bucle externo:  404  no trajo datos:  https://100.123.26.224/api/v2/devices/58:C1:7A:E9:C8:5D/performance?start_time=202110211800&stop_time=202110211859\n"
     ]
    },
    {
     "name": "stderr",
     "output_type": "stream",
     "text": [
      "/opt/anaconda3/lib/python3.8/site-packages/urllib3/connectionpool.py:981: InsecureRequestWarning: Unverified HTTPS request is being made to host '100.123.26.252'. Adding certificate verification is strongly advised. See: https://urllib3.readthedocs.io/en/latest/advanced-usage.html#ssl-warnings\n",
      "  warnings.warn(\n",
      "/opt/anaconda3/lib/python3.8/site-packages/urllib3/connectionpool.py:981: InsecureRequestWarning: Unverified HTTPS request is being made to host '100.123.26.224'. Adding certificate verification is strongly advised. See: https://urllib3.readthedocs.io/en/latest/advanced-usage.html#ssl-warnings\n",
      "  warnings.warn(\n",
      "/opt/anaconda3/lib/python3.8/site-packages/urllib3/connectionpool.py:981: InsecureRequestWarning: Unverified HTTPS request is being made to host '100.123.26.252'. Adding certificate verification is strongly advised. See: https://urllib3.readthedocs.io/en/latest/advanced-usage.html#ssl-warnings\n",
      "  warnings.warn(\n"
     ]
    },
    {
     "name": "stdout",
     "output_type": "stream",
     "text": [
      "1.-Fecha: 2021-10-21 19:07:08.893157 - Error bucle externo:  404  no trajo datos:  https://100.123.26.252/api/v2/devices/58:C1:7A:E9:C8:69/performance?start_time=202110211800&stop_time=202110211859\n",
      "1.-Fecha: 2021-10-21 19:07:08.893157 - Error bucle externo:  404  no trajo datos:  https://100.123.26.252/api/v2/devices/58:C1:7A:E9:C8:78/performance?start_time=202110211800&stop_time=202110211859\n",
      "1.-Fecha: 2021-10-21 19:07:08.893157 - Error bucle externo:  404  no trajo datos:  https://100.123.26.252/api/v2/devices/58:C1:7A:E9:C8:88/performance?start_time=202110211800&stop_time=202110211859\n",
      " dato_param['total']  13 1\n",
      "https://100.123.26.252/api/v2/devices/58:C1:7A:E9:C8:8A/performance?offset=0&start_time=202110211800&stop_time=202110211859\n"
     ]
    },
    {
     "name": "stderr",
     "output_type": "stream",
     "text": [
      "/opt/anaconda3/lib/python3.8/site-packages/urllib3/connectionpool.py:981: InsecureRequestWarning: Unverified HTTPS request is being made to host '100.123.26.252'. Adding certificate verification is strongly advised. See: https://urllib3.readthedocs.io/en/latest/advanced-usage.html#ssl-warnings\n",
      "  warnings.warn(\n",
      "/opt/anaconda3/lib/python3.8/site-packages/urllib3/connectionpool.py:981: InsecureRequestWarning: Unverified HTTPS request is being made to host '100.123.26.252'. Adding certificate verification is strongly advised. See: https://urllib3.readthedocs.io/en/latest/advanced-usage.html#ssl-warnings\n",
      "  warnings.warn(\n",
      "/opt/anaconda3/lib/python3.8/site-packages/urllib3/connectionpool.py:981: InsecureRequestWarning: Unverified HTTPS request is being made to host '100.123.26.252'. Adding certificate verification is strongly advised. See: https://urllib3.readthedocs.io/en/latest/advanced-usage.html#ssl-warnings\n",
      "  warnings.warn(\n",
      "/opt/anaconda3/lib/python3.8/site-packages/urllib3/connectionpool.py:981: InsecureRequestWarning: Unverified HTTPS request is being made to host '100.123.26.252'. Adding certificate verification is strongly advised. See: https://urllib3.readthedocs.io/en/latest/advanced-usage.html#ssl-warnings\n",
      "  warnings.warn(\n",
      "/opt/anaconda3/lib/python3.8/site-packages/urllib3/connectionpool.py:981: InsecureRequestWarning: Unverified HTTPS request is being made to host '100.123.26.224'. Adding certificate verification is strongly advised. See: https://urllib3.readthedocs.io/en/latest/advanced-usage.html#ssl-warnings\n",
      "  warnings.warn(\n",
      "/opt/anaconda3/lib/python3.8/site-packages/urllib3/connectionpool.py:981: InsecureRequestWarning: Unverified HTTPS request is being made to host '100.123.26.252'. Adding certificate verification is strongly advised. See: https://urllib3.readthedocs.io/en/latest/advanced-usage.html#ssl-warnings\n",
      "  warnings.warn(\n",
      "/opt/anaconda3/lib/python3.8/site-packages/urllib3/connectionpool.py:981: InsecureRequestWarning: Unverified HTTPS request is being made to host '100.123.26.252'. Adding certificate verification is strongly advised. See: https://urllib3.readthedocs.io/en/latest/advanced-usage.html#ssl-warnings\n",
      "  warnings.warn(\n",
      "/opt/anaconda3/lib/python3.8/site-packages/urllib3/connectionpool.py:981: InsecureRequestWarning: Unverified HTTPS request is being made to host '100.123.26.224'. Adding certificate verification is strongly advised. See: https://urllib3.readthedocs.io/en/latest/advanced-usage.html#ssl-warnings\n",
      "  warnings.warn(\n"
     ]
    },
    {
     "name": "stdout",
     "output_type": "stream",
     "text": [
      "1.-Fecha: 2021-10-21 19:07:08.893157 - Error bucle externo:  404  no trajo datos:  https://100.123.26.224/api/v2/devices/58:C1:7A:E9:C8:8A/performance?start_time=202110211800&stop_time=202110211859\n",
      " dato_param['total']  12 1\n",
      "https://100.123.26.252/api/v2/devices/58:C1:7A:E9:C8:8D/performance?offset=0&start_time=202110211800&stop_time=202110211859\n",
      "1.-Fecha: 2021-10-21 19:07:08.893157 - Error bucle externo:  404  no trajo datos:  https://100.123.26.224/api/v2/devices/58:C1:7A:E9:C8:8D/performance?start_time=202110211800&stop_time=202110211859\n",
      "1.-Fecha: 2021-10-21 19:07:08.893157 - Error bucle externo:  404  no trajo datos:  https://100.123.26.252/api/v2/devices/58:C1:7A:E9:C8:A5/performance?start_time=202110211800&stop_time=202110211859\n",
      "1.-Fecha: 2021-10-21 19:07:08.893157 - Error bucle externo:  404  no trajo datos:  https://100.123.26.252/api/v2/devices/58:C1:7A:E9:C8:A8/performance?start_time=202110211800&stop_time=202110211859\n",
      " dato_param['total']  13 1\n",
      "https://100.123.26.252/api/v2/devices/58:C1:7A:E9:C8:AD/performance?offset=0&start_time=202110211800&stop_time=202110211859\n"
     ]
    },
    {
     "name": "stderr",
     "output_type": "stream",
     "text": [
      "/opt/anaconda3/lib/python3.8/site-packages/urllib3/connectionpool.py:981: InsecureRequestWarning: Unverified HTTPS request is being made to host '100.123.26.252'. Adding certificate verification is strongly advised. See: https://urllib3.readthedocs.io/en/latest/advanced-usage.html#ssl-warnings\n",
      "  warnings.warn(\n",
      "/opt/anaconda3/lib/python3.8/site-packages/urllib3/connectionpool.py:981: InsecureRequestWarning: Unverified HTTPS request is being made to host '100.123.26.252'. Adding certificate verification is strongly advised. See: https://urllib3.readthedocs.io/en/latest/advanced-usage.html#ssl-warnings\n",
      "  warnings.warn(\n",
      "/opt/anaconda3/lib/python3.8/site-packages/urllib3/connectionpool.py:981: InsecureRequestWarning: Unverified HTTPS request is being made to host '100.123.26.252'. Adding certificate verification is strongly advised. See: https://urllib3.readthedocs.io/en/latest/advanced-usage.html#ssl-warnings\n",
      "  warnings.warn(\n",
      "/opt/anaconda3/lib/python3.8/site-packages/urllib3/connectionpool.py:981: InsecureRequestWarning: Unverified HTTPS request is being made to host '100.123.26.252'. Adding certificate verification is strongly advised. See: https://urllib3.readthedocs.io/en/latest/advanced-usage.html#ssl-warnings\n",
      "  warnings.warn(\n",
      "/opt/anaconda3/lib/python3.8/site-packages/urllib3/connectionpool.py:981: InsecureRequestWarning: Unverified HTTPS request is being made to host '100.123.26.224'. Adding certificate verification is strongly advised. See: https://urllib3.readthedocs.io/en/latest/advanced-usage.html#ssl-warnings\n",
      "  warnings.warn(\n"
     ]
    },
    {
     "name": "stdout",
     "output_type": "stream",
     "text": [
      "1.-Fecha: 2021-10-21 19:07:08.893157 - Error bucle externo:  404  no trajo datos:  https://100.123.26.224/api/v2/devices/58:C1:7A:E9:C8:AD/performance?start_time=202110211800&stop_time=202110211859\n",
      " dato_param['total']  13 1\n",
      "https://100.123.26.252/api/v2/devices/58:C1:7A:E9:C8:BA/performance?offset=0&start_time=202110211800&stop_time=202110211859\n",
      "1.-Fecha: 2021-10-21 19:07:08.893157 - Error bucle externo:  404  no trajo datos:  https://100.123.26.224/api/v2/devices/58:C1:7A:E9:C8:BA/performance?start_time=202110211800&stop_time=202110211859\n",
      " dato_param['total']  13 1\n",
      "https://100.123.26.252/api/v2/devices/58:C1:7A:E9:C8:CF/performance?offset=0&start_time=202110211800&stop_time=202110211859\n"
     ]
    },
    {
     "name": "stderr",
     "output_type": "stream",
     "text": [
      "/opt/anaconda3/lib/python3.8/site-packages/urllib3/connectionpool.py:981: InsecureRequestWarning: Unverified HTTPS request is being made to host '100.123.26.252'. Adding certificate verification is strongly advised. See: https://urllib3.readthedocs.io/en/latest/advanced-usage.html#ssl-warnings\n",
      "  warnings.warn(\n",
      "/opt/anaconda3/lib/python3.8/site-packages/urllib3/connectionpool.py:981: InsecureRequestWarning: Unverified HTTPS request is being made to host '100.123.26.252'. Adding certificate verification is strongly advised. See: https://urllib3.readthedocs.io/en/latest/advanced-usage.html#ssl-warnings\n",
      "  warnings.warn(\n",
      "/opt/anaconda3/lib/python3.8/site-packages/urllib3/connectionpool.py:981: InsecureRequestWarning: Unverified HTTPS request is being made to host '100.123.26.224'. Adding certificate verification is strongly advised. See: https://urllib3.readthedocs.io/en/latest/advanced-usage.html#ssl-warnings\n",
      "  warnings.warn(\n",
      "/opt/anaconda3/lib/python3.8/site-packages/urllib3/connectionpool.py:981: InsecureRequestWarning: Unverified HTTPS request is being made to host '100.123.26.252'. Adding certificate verification is strongly advised. See: https://urllib3.readthedocs.io/en/latest/advanced-usage.html#ssl-warnings\n",
      "  warnings.warn(\n",
      "/opt/anaconda3/lib/python3.8/site-packages/urllib3/connectionpool.py:981: InsecureRequestWarning: Unverified HTTPS request is being made to host '100.123.26.252'. Adding certificate verification is strongly advised. See: https://urllib3.readthedocs.io/en/latest/advanced-usage.html#ssl-warnings\n",
      "  warnings.warn(\n",
      "/opt/anaconda3/lib/python3.8/site-packages/urllib3/connectionpool.py:981: InsecureRequestWarning: Unverified HTTPS request is being made to host '100.123.26.224'. Adding certificate verification is strongly advised. See: https://urllib3.readthedocs.io/en/latest/advanced-usage.html#ssl-warnings\n",
      "  warnings.warn(\n",
      "/opt/anaconda3/lib/python3.8/site-packages/urllib3/connectionpool.py:981: InsecureRequestWarning: Unverified HTTPS request is being made to host '100.123.26.252'. Adding certificate verification is strongly advised. See: https://urllib3.readthedocs.io/en/latest/advanced-usage.html#ssl-warnings\n",
      "  warnings.warn(\n",
      "/opt/anaconda3/lib/python3.8/site-packages/urllib3/connectionpool.py:981: InsecureRequestWarning: Unverified HTTPS request is being made to host '100.123.26.252'. Adding certificate verification is strongly advised. See: https://urllib3.readthedocs.io/en/latest/advanced-usage.html#ssl-warnings\n",
      "  warnings.warn(\n",
      "/opt/anaconda3/lib/python3.8/site-packages/urllib3/connectionpool.py:981: InsecureRequestWarning: Unverified HTTPS request is being made to host '100.123.26.252'. Adding certificate verification is strongly advised. See: https://urllib3.readthedocs.io/en/latest/advanced-usage.html#ssl-warnings\n",
      "  warnings.warn(\n"
     ]
    },
    {
     "name": "stdout",
     "output_type": "stream",
     "text": [
      "1.-Fecha: 2021-10-21 19:07:08.893157 - Error bucle externo:  422  no trajo datos:  https://100.123.26.224/api/v2/devices/58:C1:7A:E9:C8:CF/performance?start_time=202110211800&stop_time=202110211859\n",
      "1.-Fecha: 2021-10-21 19:07:08.893157 - Error bucle externo:  404  no trajo datos:  https://100.123.26.252/api/v2/devices/58:C1:7A:E9:C8:DA/performance?start_time=202110211800&stop_time=202110211859\n",
      "1.-Fecha: 2021-10-21 19:07:08.893157 - Error bucle externo:  404  no trajo datos:  https://100.123.26.252/api/v2/devices/58:C1:7A:E9:C8:E0/performance?start_time=202110211800&stop_time=202110211859\n",
      "1.-Fecha: 2021-10-21 19:07:08.893157 - Error bucle externo:  404  no trajo datos:  https://100.123.26.252/api/v2/devices/58:C1:7A:E9:C8:FF/performance?start_time=202110211800&stop_time=202110211859\n"
     ]
    },
    {
     "name": "stderr",
     "output_type": "stream",
     "text": [
      "/opt/anaconda3/lib/python3.8/site-packages/urllib3/connectionpool.py:981: InsecureRequestWarning: Unverified HTTPS request is being made to host '100.123.26.252'. Adding certificate verification is strongly advised. See: https://urllib3.readthedocs.io/en/latest/advanced-usage.html#ssl-warnings\n",
      "  warnings.warn(\n",
      "/opt/anaconda3/lib/python3.8/site-packages/urllib3/connectionpool.py:981: InsecureRequestWarning: Unverified HTTPS request is being made to host '100.123.26.252'. Adding certificate verification is strongly advised. See: https://urllib3.readthedocs.io/en/latest/advanced-usage.html#ssl-warnings\n",
      "  warnings.warn(\n",
      "/opt/anaconda3/lib/python3.8/site-packages/urllib3/connectionpool.py:981: InsecureRequestWarning: Unverified HTTPS request is being made to host '100.123.26.224'. Adding certificate verification is strongly advised. See: https://urllib3.readthedocs.io/en/latest/advanced-usage.html#ssl-warnings\n",
      "  warnings.warn(\n",
      "/opt/anaconda3/lib/python3.8/site-packages/urllib3/connectionpool.py:981: InsecureRequestWarning: Unverified HTTPS request is being made to host '100.123.26.252'. Adding certificate verification is strongly advised. See: https://urllib3.readthedocs.io/en/latest/advanced-usage.html#ssl-warnings\n",
      "  warnings.warn(\n",
      "/opt/anaconda3/lib/python3.8/site-packages/urllib3/connectionpool.py:981: InsecureRequestWarning: Unverified HTTPS request is being made to host '100.123.26.252'. Adding certificate verification is strongly advised. See: https://urllib3.readthedocs.io/en/latest/advanced-usage.html#ssl-warnings\n",
      "  warnings.warn(\n",
      "/opt/anaconda3/lib/python3.8/site-packages/urllib3/connectionpool.py:981: InsecureRequestWarning: Unverified HTTPS request is being made to host '100.123.26.252'. Adding certificate verification is strongly advised. See: https://urllib3.readthedocs.io/en/latest/advanced-usage.html#ssl-warnings\n",
      "  warnings.warn(\n"
     ]
    },
    {
     "name": "stdout",
     "output_type": "stream",
     "text": [
      " dato_param['total']  1 1\n",
      "https://100.123.26.252/api/v2/devices/58:C1:7A:E9:C9:0A/performance?offset=0&start_time=202110211800&stop_time=202110211859\n",
      "1.-Fecha: 2021-10-21 19:07:08.893157 - Error bucle externo:  404  no trajo datos:  https://100.123.26.224/api/v2/devices/58:C1:7A:E9:C9:0A/performance?start_time=202110211800&stop_time=202110211859\n",
      "1.-Fecha: 2021-10-21 19:07:08.893157 - Error bucle externo:  404  no trajo datos:  https://100.123.26.252/api/v2/devices/58:C1:7A:E9:C9:20/performance?start_time=202110211800&stop_time=202110211859\n",
      " dato_param['total']  1 1\n",
      "https://100.123.26.252/api/v2/devices/58:C1:7A:E9:C9:21/performance?offset=0&start_time=202110211800&stop_time=202110211859\n"
     ]
    },
    {
     "name": "stderr",
     "output_type": "stream",
     "text": [
      "/opt/anaconda3/lib/python3.8/site-packages/urllib3/connectionpool.py:981: InsecureRequestWarning: Unverified HTTPS request is being made to host '100.123.26.224'. Adding certificate verification is strongly advised. See: https://urllib3.readthedocs.io/en/latest/advanced-usage.html#ssl-warnings\n",
      "  warnings.warn(\n",
      "/opt/anaconda3/lib/python3.8/site-packages/urllib3/connectionpool.py:981: InsecureRequestWarning: Unverified HTTPS request is being made to host '100.123.26.252'. Adding certificate verification is strongly advised. See: https://urllib3.readthedocs.io/en/latest/advanced-usage.html#ssl-warnings\n",
      "  warnings.warn(\n",
      "/opt/anaconda3/lib/python3.8/site-packages/urllib3/connectionpool.py:981: InsecureRequestWarning: Unverified HTTPS request is being made to host '100.123.26.252'. Adding certificate verification is strongly advised. See: https://urllib3.readthedocs.io/en/latest/advanced-usage.html#ssl-warnings\n",
      "  warnings.warn(\n",
      "/opt/anaconda3/lib/python3.8/site-packages/urllib3/connectionpool.py:981: InsecureRequestWarning: Unverified HTTPS request is being made to host '100.123.26.252'. Adding certificate verification is strongly advised. See: https://urllib3.readthedocs.io/en/latest/advanced-usage.html#ssl-warnings\n",
      "  warnings.warn(\n"
     ]
    },
    {
     "name": "stdout",
     "output_type": "stream",
     "text": [
      "1.-Fecha: 2021-10-21 19:07:08.893157 - Error bucle externo:  404  no trajo datos:  https://100.123.26.224/api/v2/devices/58:C1:7A:E9:C9:21/performance?start_time=202110211800&stop_time=202110211859\n",
      "1.-Fecha: 2021-10-21 19:07:08.893157 - Error bucle externo:  404  no trajo datos:  https://100.123.26.252/api/v2/devices/58:C1:7A:E9:C9:2C/performance?start_time=202110211800&stop_time=202110211859\n",
      "1.-Fecha: 2021-10-21 19:07:08.893157 - Error bucle externo:  404  no trajo datos:  https://100.123.26.252/api/v2/devices/58:C1:7A:E9:C9:2D/performance?start_time=202110211800&stop_time=202110211859\n",
      "1.-Fecha: 2021-10-21 19:07:08.893157 - Error bucle externo:  404  no trajo datos:  https://100.123.26.252/api/v2/devices/58:C1:7A:E9:C9:2E/performance?start_time=202110211800&stop_time=202110211859\n"
     ]
    },
    {
     "name": "stderr",
     "output_type": "stream",
     "text": [
      "/opt/anaconda3/lib/python3.8/site-packages/urllib3/connectionpool.py:981: InsecureRequestWarning: Unverified HTTPS request is being made to host '100.123.26.252'. Adding certificate verification is strongly advised. See: https://urllib3.readthedocs.io/en/latest/advanced-usage.html#ssl-warnings\n",
      "  warnings.warn(\n",
      "/opt/anaconda3/lib/python3.8/site-packages/urllib3/connectionpool.py:981: InsecureRequestWarning: Unverified HTTPS request is being made to host '100.123.26.252'. Adding certificate verification is strongly advised. See: https://urllib3.readthedocs.io/en/latest/advanced-usage.html#ssl-warnings\n",
      "  warnings.warn(\n",
      "/opt/anaconda3/lib/python3.8/site-packages/urllib3/connectionpool.py:981: InsecureRequestWarning: Unverified HTTPS request is being made to host '100.123.26.224'. Adding certificate verification is strongly advised. See: https://urllib3.readthedocs.io/en/latest/advanced-usage.html#ssl-warnings\n",
      "  warnings.warn(\n",
      "/opt/anaconda3/lib/python3.8/site-packages/urllib3/connectionpool.py:981: InsecureRequestWarning: Unverified HTTPS request is being made to host '100.123.26.252'. Adding certificate verification is strongly advised. See: https://urllib3.readthedocs.io/en/latest/advanced-usage.html#ssl-warnings\n",
      "  warnings.warn(\n",
      "/opt/anaconda3/lib/python3.8/site-packages/urllib3/connectionpool.py:981: InsecureRequestWarning: Unverified HTTPS request is being made to host '100.123.26.252'. Adding certificate verification is strongly advised. See: https://urllib3.readthedocs.io/en/latest/advanced-usage.html#ssl-warnings\n",
      "  warnings.warn(\n"
     ]
    },
    {
     "name": "stdout",
     "output_type": "stream",
     "text": [
      " dato_param['total']  12 1\n",
      "https://100.123.26.252/api/v2/devices/58:C1:7A:E9:C9:2F/performance?offset=0&start_time=202110211800&stop_time=202110211859\n",
      "1.-Fecha: 2021-10-21 19:07:08.893157 - Error bucle externo:  404  no trajo datos:  https://100.123.26.224/api/v2/devices/58:C1:7A:E9:C9:2F/performance?start_time=202110211800&stop_time=202110211859\n",
      "1.-Fecha: 2021-10-21 19:07:08.893157 - Error bucle externo:  404  no trajo datos:  https://100.123.26.252/api/v2/devices/58:C1:7A:E9:C9:31/performance?start_time=202110211800&stop_time=202110211859\n",
      "1.-Fecha: 2021-10-21 19:07:08.893157 - Error bucle externo:  404  no trajo datos:  https://100.123.26.252/api/v2/devices/58:C1:7A:E9:C9:39/performance?start_time=202110211800&stop_time=202110211859\n"
     ]
    },
    {
     "name": "stderr",
     "output_type": "stream",
     "text": [
      "/opt/anaconda3/lib/python3.8/site-packages/urllib3/connectionpool.py:981: InsecureRequestWarning: Unverified HTTPS request is being made to host '100.123.26.252'. Adding certificate verification is strongly advised. See: https://urllib3.readthedocs.io/en/latest/advanced-usage.html#ssl-warnings\n",
      "  warnings.warn(\n",
      "/opt/anaconda3/lib/python3.8/site-packages/urllib3/connectionpool.py:981: InsecureRequestWarning: Unverified HTTPS request is being made to host '100.123.26.252'. Adding certificate verification is strongly advised. See: https://urllib3.readthedocs.io/en/latest/advanced-usage.html#ssl-warnings\n",
      "  warnings.warn(\n",
      "/opt/anaconda3/lib/python3.8/site-packages/urllib3/connectionpool.py:981: InsecureRequestWarning: Unverified HTTPS request is being made to host '100.123.26.224'. Adding certificate verification is strongly advised. See: https://urllib3.readthedocs.io/en/latest/advanced-usage.html#ssl-warnings\n",
      "  warnings.warn(\n"
     ]
    },
    {
     "name": "stdout",
     "output_type": "stream",
     "text": [
      " dato_param['total']  13 1\n",
      "https://100.123.26.252/api/v2/devices/58:C1:7A:E9:C9:3D/performance?offset=0&start_time=202110211800&stop_time=202110211859\n",
      "1.-Fecha: 2021-10-21 19:07:08.893157 - Error bucle externo:  404  no trajo datos:  https://100.123.26.224/api/v2/devices/58:C1:7A:E9:C9:3D/performance?start_time=202110211800&stop_time=202110211859\n",
      " dato_param['total']  13 1\n",
      "https://100.123.26.252/api/v2/devices/58:C1:7A:E9:C9:45/performance?offset=0&start_time=202110211800&stop_time=202110211859\n"
     ]
    },
    {
     "name": "stderr",
     "output_type": "stream",
     "text": [
      "/opt/anaconda3/lib/python3.8/site-packages/urllib3/connectionpool.py:981: InsecureRequestWarning: Unverified HTTPS request is being made to host '100.123.26.252'. Adding certificate verification is strongly advised. See: https://urllib3.readthedocs.io/en/latest/advanced-usage.html#ssl-warnings\n",
      "  warnings.warn(\n",
      "/opt/anaconda3/lib/python3.8/site-packages/urllib3/connectionpool.py:981: InsecureRequestWarning: Unverified HTTPS request is being made to host '100.123.26.252'. Adding certificate verification is strongly advised. See: https://urllib3.readthedocs.io/en/latest/advanced-usage.html#ssl-warnings\n",
      "  warnings.warn(\n",
      "/opt/anaconda3/lib/python3.8/site-packages/urllib3/connectionpool.py:981: InsecureRequestWarning: Unverified HTTPS request is being made to host '100.123.26.224'. Adding certificate verification is strongly advised. See: https://urllib3.readthedocs.io/en/latest/advanced-usage.html#ssl-warnings\n",
      "  warnings.warn(\n",
      "/opt/anaconda3/lib/python3.8/site-packages/urllib3/connectionpool.py:981: InsecureRequestWarning: Unverified HTTPS request is being made to host '100.123.26.252'. Adding certificate verification is strongly advised. See: https://urllib3.readthedocs.io/en/latest/advanced-usage.html#ssl-warnings\n",
      "  warnings.warn(\n",
      "/opt/anaconda3/lib/python3.8/site-packages/urllib3/connectionpool.py:981: InsecureRequestWarning: Unverified HTTPS request is being made to host '100.123.26.252'. Adding certificate verification is strongly advised. See: https://urllib3.readthedocs.io/en/latest/advanced-usage.html#ssl-warnings\n",
      "  warnings.warn(\n"
     ]
    },
    {
     "name": "stdout",
     "output_type": "stream",
     "text": [
      "1.-Fecha: 2021-10-21 19:07:08.893157 - Error bucle externo:  404  no trajo datos:  https://100.123.26.224/api/v2/devices/58:C1:7A:E9:C9:45/performance?start_time=202110211800&stop_time=202110211859\n",
      "1.-Fecha: 2021-10-21 19:07:08.893157 - Error bucle externo:  404  no trajo datos:  https://100.123.26.252/api/v2/devices/58:C1:7A:E9:C9:4D/performance?start_time=202110211800&stop_time=202110211859\n",
      "1.-Fecha: 2021-10-21 19:07:08.893157 - Error bucle externo:  404  no trajo datos:  https://100.123.26.252/api/v2/devices/58:C1:7A:E9:C9:4F/performance?start_time=202110211800&stop_time=202110211859\n"
     ]
    },
    {
     "name": "stderr",
     "output_type": "stream",
     "text": [
      "/opt/anaconda3/lib/python3.8/site-packages/urllib3/connectionpool.py:981: InsecureRequestWarning: Unverified HTTPS request is being made to host '100.123.26.252'. Adding certificate verification is strongly advised. See: https://urllib3.readthedocs.io/en/latest/advanced-usage.html#ssl-warnings\n",
      "  warnings.warn(\n",
      "/opt/anaconda3/lib/python3.8/site-packages/urllib3/connectionpool.py:981: InsecureRequestWarning: Unverified HTTPS request is being made to host '100.123.26.252'. Adding certificate verification is strongly advised. See: https://urllib3.readthedocs.io/en/latest/advanced-usage.html#ssl-warnings\n",
      "  warnings.warn(\n",
      "/opt/anaconda3/lib/python3.8/site-packages/urllib3/connectionpool.py:981: InsecureRequestWarning: Unverified HTTPS request is being made to host '100.123.26.224'. Adding certificate verification is strongly advised. See: https://urllib3.readthedocs.io/en/latest/advanced-usage.html#ssl-warnings\n",
      "  warnings.warn(\n",
      "/opt/anaconda3/lib/python3.8/site-packages/urllib3/connectionpool.py:981: InsecureRequestWarning: Unverified HTTPS request is being made to host '100.123.26.252'. Adding certificate verification is strongly advised. See: https://urllib3.readthedocs.io/en/latest/advanced-usage.html#ssl-warnings\n",
      "  warnings.warn(\n"
     ]
    },
    {
     "name": "stdout",
     "output_type": "stream",
     "text": [
      " dato_param['total']  12 1\n",
      "https://100.123.26.252/api/v2/devices/58:C1:7A:E9:C9:52/performance?offset=0&start_time=202110211800&stop_time=202110211859\n",
      "1.-Fecha: 2021-10-21 19:07:08.893157 - Error bucle externo:  404  no trajo datos:  https://100.123.26.224/api/v2/devices/58:C1:7A:E9:C9:52/performance?start_time=202110211800&stop_time=202110211859\n",
      "1.-Fecha: 2021-10-21 19:07:08.893157 - Error bucle externo:  404  no trajo datos:  https://100.123.26.252/api/v2/devices/58:C1:7A:E9:C9:53/performance?start_time=202110211800&stop_time=202110211859\n"
     ]
    },
    {
     "name": "stderr",
     "output_type": "stream",
     "text": [
      "/opt/anaconda3/lib/python3.8/site-packages/urllib3/connectionpool.py:981: InsecureRequestWarning: Unverified HTTPS request is being made to host '100.123.26.252'. Adding certificate verification is strongly advised. See: https://urllib3.readthedocs.io/en/latest/advanced-usage.html#ssl-warnings\n",
      "  warnings.warn(\n",
      "/opt/anaconda3/lib/python3.8/site-packages/urllib3/connectionpool.py:981: InsecureRequestWarning: Unverified HTTPS request is being made to host '100.123.26.252'. Adding certificate verification is strongly advised. See: https://urllib3.readthedocs.io/en/latest/advanced-usage.html#ssl-warnings\n",
      "  warnings.warn(\n",
      "/opt/anaconda3/lib/python3.8/site-packages/urllib3/connectionpool.py:981: InsecureRequestWarning: Unverified HTTPS request is being made to host '100.123.26.224'. Adding certificate verification is strongly advised. See: https://urllib3.readthedocs.io/en/latest/advanced-usage.html#ssl-warnings\n",
      "  warnings.warn(\n",
      "/opt/anaconda3/lib/python3.8/site-packages/urllib3/connectionpool.py:981: InsecureRequestWarning: Unverified HTTPS request is being made to host '100.123.26.252'. Adding certificate verification is strongly advised. See: https://urllib3.readthedocs.io/en/latest/advanced-usage.html#ssl-warnings\n",
      "  warnings.warn(\n"
     ]
    },
    {
     "name": "stdout",
     "output_type": "stream",
     "text": [
      " dato_param['total']  13 1\n",
      "https://100.123.26.252/api/v2/devices/58:C1:7A:E9:C9:60/performance?offset=0&start_time=202110211800&stop_time=202110211859\n",
      "1.-Fecha: 2021-10-21 19:07:08.893157 - Error bucle externo:  404  no trajo datos:  https://100.123.26.224/api/v2/devices/58:C1:7A:E9:C9:60/performance?start_time=202110211800&stop_time=202110211859\n",
      " dato_param['total']  13 1\n",
      "https://100.123.26.252/api/v2/devices/58:C1:7A:E9:C9:6F/performance?offset=0&start_time=202110211800&stop_time=202110211859\n"
     ]
    },
    {
     "name": "stderr",
     "output_type": "stream",
     "text": [
      "/opt/anaconda3/lib/python3.8/site-packages/urllib3/connectionpool.py:981: InsecureRequestWarning: Unverified HTTPS request is being made to host '100.123.26.252'. Adding certificate verification is strongly advised. See: https://urllib3.readthedocs.io/en/latest/advanced-usage.html#ssl-warnings\n",
      "  warnings.warn(\n",
      "/opt/anaconda3/lib/python3.8/site-packages/urllib3/connectionpool.py:981: InsecureRequestWarning: Unverified HTTPS request is being made to host '100.123.26.224'. Adding certificate verification is strongly advised. See: https://urllib3.readthedocs.io/en/latest/advanced-usage.html#ssl-warnings\n",
      "  warnings.warn(\n",
      "/opt/anaconda3/lib/python3.8/site-packages/urllib3/connectionpool.py:981: InsecureRequestWarning: Unverified HTTPS request is being made to host '100.123.26.252'. Adding certificate verification is strongly advised. See: https://urllib3.readthedocs.io/en/latest/advanced-usage.html#ssl-warnings\n",
      "  warnings.warn(\n",
      "/opt/anaconda3/lib/python3.8/site-packages/urllib3/connectionpool.py:981: InsecureRequestWarning: Unverified HTTPS request is being made to host '100.123.26.252'. Adding certificate verification is strongly advised. See: https://urllib3.readthedocs.io/en/latest/advanced-usage.html#ssl-warnings\n",
      "  warnings.warn(\n"
     ]
    },
    {
     "name": "stdout",
     "output_type": "stream",
     "text": [
      "1.-Fecha: 2021-10-21 19:07:08.893157 - Error bucle externo:  422  no trajo datos:  https://100.123.26.224/api/v2/devices/58:C1:7A:E9:C9:6F/performance?start_time=202110211800&stop_time=202110211859\n",
      "1.-Fecha: 2021-10-21 19:07:08.893157 - Error bucle externo:  404  no trajo datos:  https://100.123.26.252/api/v2/devices/58:C1:7A:EA:08:34/performance?start_time=202110211800&stop_time=202110211859\n",
      " dato_param['total']  12 1\n",
      "https://100.123.26.252/api/v2/devices/58:C1:7A:EA:08:3A/performance?offset=0&start_time=202110211800&stop_time=202110211859\n"
     ]
    },
    {
     "name": "stderr",
     "output_type": "stream",
     "text": [
      "/opt/anaconda3/lib/python3.8/site-packages/urllib3/connectionpool.py:981: InsecureRequestWarning: Unverified HTTPS request is being made to host '100.123.26.252'. Adding certificate verification is strongly advised. See: https://urllib3.readthedocs.io/en/latest/advanced-usage.html#ssl-warnings\n",
      "  warnings.warn(\n",
      "/opt/anaconda3/lib/python3.8/site-packages/urllib3/connectionpool.py:981: InsecureRequestWarning: Unverified HTTPS request is being made to host '100.123.26.224'. Adding certificate verification is strongly advised. See: https://urllib3.readthedocs.io/en/latest/advanced-usage.html#ssl-warnings\n",
      "  warnings.warn(\n",
      "/opt/anaconda3/lib/python3.8/site-packages/urllib3/connectionpool.py:981: InsecureRequestWarning: Unverified HTTPS request is being made to host '100.123.26.252'. Adding certificate verification is strongly advised. See: https://urllib3.readthedocs.io/en/latest/advanced-usage.html#ssl-warnings\n",
      "  warnings.warn(\n",
      "/opt/anaconda3/lib/python3.8/site-packages/urllib3/connectionpool.py:981: InsecureRequestWarning: Unverified HTTPS request is being made to host '100.123.26.252'. Adding certificate verification is strongly advised. See: https://urllib3.readthedocs.io/en/latest/advanced-usage.html#ssl-warnings\n",
      "  warnings.warn(\n"
     ]
    },
    {
     "name": "stdout",
     "output_type": "stream",
     "text": [
      "1.-Fecha: 2021-10-21 19:07:08.893157 - Error bucle externo:  404  no trajo datos:  https://100.123.26.224/api/v2/devices/58:C1:7A:EA:08:3A/performance?start_time=202110211800&stop_time=202110211859\n",
      " dato_param['total']  9 1\n",
      "https://100.123.26.252/api/v2/devices/58:C1:7A:EA:08:72/performance?offset=0&start_time=202110211800&stop_time=202110211859\n",
      "1.-Fecha: 2021-10-21 19:07:08.893157 - Error bucle externo:  404  no trajo datos:  https://100.123.26.224/api/v2/devices/58:C1:7A:EA:08:72/performance?start_time=202110211800&stop_time=202110211859\n",
      "1.-Fecha: 2021-10-21 19:07:08.893157 - Error bucle externo:  404  no trajo datos:  https://100.123.26.252/api/v2/devices/58:C1:7A:EA:08:74/performance?start_time=202110211800&stop_time=202110211859\n"
     ]
    },
    {
     "name": "stderr",
     "output_type": "stream",
     "text": [
      "/opt/anaconda3/lib/python3.8/site-packages/urllib3/connectionpool.py:981: InsecureRequestWarning: Unverified HTTPS request is being made to host '100.123.26.224'. Adding certificate verification is strongly advised. See: https://urllib3.readthedocs.io/en/latest/advanced-usage.html#ssl-warnings\n",
      "  warnings.warn(\n",
      "/opt/anaconda3/lib/python3.8/site-packages/urllib3/connectionpool.py:981: InsecureRequestWarning: Unverified HTTPS request is being made to host '100.123.26.252'. Adding certificate verification is strongly advised. See: https://urllib3.readthedocs.io/en/latest/advanced-usage.html#ssl-warnings\n",
      "  warnings.warn(\n",
      "/opt/anaconda3/lib/python3.8/site-packages/urllib3/connectionpool.py:981: InsecureRequestWarning: Unverified HTTPS request is being made to host '100.123.26.252'. Adding certificate verification is strongly advised. See: https://urllib3.readthedocs.io/en/latest/advanced-usage.html#ssl-warnings\n",
      "  warnings.warn(\n",
      "/opt/anaconda3/lib/python3.8/site-packages/urllib3/connectionpool.py:981: InsecureRequestWarning: Unverified HTTPS request is being made to host '100.123.26.252'. Adding certificate verification is strongly advised. See: https://urllib3.readthedocs.io/en/latest/advanced-usage.html#ssl-warnings\n",
      "  warnings.warn(\n",
      "/opt/anaconda3/lib/python3.8/site-packages/urllib3/connectionpool.py:981: InsecureRequestWarning: Unverified HTTPS request is being made to host '100.123.26.252'. Adding certificate verification is strongly advised. See: https://urllib3.readthedocs.io/en/latest/advanced-usage.html#ssl-warnings\n",
      "  warnings.warn(\n"
     ]
    },
    {
     "name": "stdout",
     "output_type": "stream",
     "text": [
      "1.-Fecha: 2021-10-21 19:07:08.893157 - Error bucle externo:  404  no trajo datos:  https://100.123.26.252/api/v2/devices/58:C1:7A:EA:08:75/performance?start_time=202110211800&stop_time=202110211859\n",
      "1.-Fecha: 2021-10-21 19:07:08.893157 - Error bucle externo:  404  no trajo datos:  https://100.123.26.252/api/v2/devices/58:C1:7A:EA:08:76/performance?start_time=202110211800&stop_time=202110211859\n",
      "1.-Fecha: 2021-10-21 19:07:08.893157 - Error bucle externo:  404  no trajo datos:  https://100.123.26.252/api/v2/devices/58:C1:7A:EA:08:78/performance?start_time=202110211800&stop_time=202110211859\n",
      "1.-Fecha: 2021-10-21 19:07:08.893157 - Error bucle externo:  404  no trajo datos:  https://100.123.26.252/api/v2/devices/58:C1:7A:EA:08:94/performance?start_time=202110211800&stop_time=202110211859\n"
     ]
    },
    {
     "name": "stderr",
     "output_type": "stream",
     "text": [
      "/opt/anaconda3/lib/python3.8/site-packages/urllib3/connectionpool.py:981: InsecureRequestWarning: Unverified HTTPS request is being made to host '100.123.26.252'. Adding certificate verification is strongly advised. See: https://urllib3.readthedocs.io/en/latest/advanced-usage.html#ssl-warnings\n",
      "  warnings.warn(\n",
      "/opt/anaconda3/lib/python3.8/site-packages/urllib3/connectionpool.py:981: InsecureRequestWarning: Unverified HTTPS request is being made to host '100.123.26.252'. Adding certificate verification is strongly advised. See: https://urllib3.readthedocs.io/en/latest/advanced-usage.html#ssl-warnings\n",
      "  warnings.warn(\n",
      "/opt/anaconda3/lib/python3.8/site-packages/urllib3/connectionpool.py:981: InsecureRequestWarning: Unverified HTTPS request is being made to host '100.123.26.252'. Adding certificate verification is strongly advised. See: https://urllib3.readthedocs.io/en/latest/advanced-usage.html#ssl-warnings\n",
      "  warnings.warn(\n",
      "/opt/anaconda3/lib/python3.8/site-packages/urllib3/connectionpool.py:981: InsecureRequestWarning: Unverified HTTPS request is being made to host '100.123.26.252'. Adding certificate verification is strongly advised. See: https://urllib3.readthedocs.io/en/latest/advanced-usage.html#ssl-warnings\n",
      "  warnings.warn(\n"
     ]
    },
    {
     "name": "stdout",
     "output_type": "stream",
     "text": [
      "1.-Fecha: 2021-10-21 19:07:08.893157 - Error bucle externo:  404  no trajo datos:  https://100.123.26.252/api/v2/devices/58:C1:7A:EA:08:9C/performance?start_time=202110211800&stop_time=202110211859\n",
      " dato_param['total']  13 1\n",
      "https://100.123.26.252/api/v2/devices/58:C1:7A:EA:08:D1/performance?offset=0&start_time=202110211800&stop_time=202110211859\n",
      "1.-Fecha: 2021-10-21 19:07:08.893157 - Error bucle externo:  404  no trajo datos:  https://100.123.26.224/api/v2/devices/58:C1:7A:EA:08:D1/performance?start_time=202110211800&stop_time=202110211859\n"
     ]
    },
    {
     "name": "stderr",
     "output_type": "stream",
     "text": [
      "/opt/anaconda3/lib/python3.8/site-packages/urllib3/connectionpool.py:981: InsecureRequestWarning: Unverified HTTPS request is being made to host '100.123.26.224'. Adding certificate verification is strongly advised. See: https://urllib3.readthedocs.io/en/latest/advanced-usage.html#ssl-warnings\n",
      "  warnings.warn(\n",
      "/opt/anaconda3/lib/python3.8/site-packages/urllib3/connectionpool.py:981: InsecureRequestWarning: Unverified HTTPS request is being made to host '100.123.26.252'. Adding certificate verification is strongly advised. See: https://urllib3.readthedocs.io/en/latest/advanced-usage.html#ssl-warnings\n",
      "  warnings.warn(\n",
      "/opt/anaconda3/lib/python3.8/site-packages/urllib3/connectionpool.py:981: InsecureRequestWarning: Unverified HTTPS request is being made to host '100.123.26.252'. Adding certificate verification is strongly advised. See: https://urllib3.readthedocs.io/en/latest/advanced-usage.html#ssl-warnings\n",
      "  warnings.warn(\n"
     ]
    },
    {
     "name": "stdout",
     "output_type": "stream",
     "text": [
      "1.-Fecha: 2021-10-21 19:07:08.893157 - Error bucle externo:  404  no trajo datos:  https://100.123.26.252/api/v2/devices/58:C1:7A:EA:08:EA/performance?start_time=202110211800&stop_time=202110211859\n",
      "1.-Fecha: 2021-10-21 19:07:08.893157 - Error bucle externo:  404  no trajo datos:  https://100.123.26.252/api/v2/devices/58:C1:7A:EA:08:FF/performance?start_time=202110211800&stop_time=202110211859\n",
      "1.-Fecha: 2021-10-21 19:07:08.893157 - Error bucle externo:  404  no trajo datos:  https://100.123.26.252/api/v2/devices/58:C1:7A:EA:09:19/performance?start_time=202110211800&stop_time=202110211859\n",
      " dato_param['total']  13 1\n",
      "https://100.123.26.252/api/v2/devices/58:C1:7A:EA:09:20/performance?offset=0&start_time=202110211800&stop_time=202110211859\n"
     ]
    },
    {
     "name": "stderr",
     "output_type": "stream",
     "text": [
      "/opt/anaconda3/lib/python3.8/site-packages/urllib3/connectionpool.py:981: InsecureRequestWarning: Unverified HTTPS request is being made to host '100.123.26.252'. Adding certificate verification is strongly advised. See: https://urllib3.readthedocs.io/en/latest/advanced-usage.html#ssl-warnings\n",
      "  warnings.warn(\n",
      "/opt/anaconda3/lib/python3.8/site-packages/urllib3/connectionpool.py:981: InsecureRequestWarning: Unverified HTTPS request is being made to host '100.123.26.252'. Adding certificate verification is strongly advised. See: https://urllib3.readthedocs.io/en/latest/advanced-usage.html#ssl-warnings\n",
      "  warnings.warn(\n",
      "/opt/anaconda3/lib/python3.8/site-packages/urllib3/connectionpool.py:981: InsecureRequestWarning: Unverified HTTPS request is being made to host '100.123.26.252'. Adding certificate verification is strongly advised. See: https://urllib3.readthedocs.io/en/latest/advanced-usage.html#ssl-warnings\n",
      "  warnings.warn(\n",
      "/opt/anaconda3/lib/python3.8/site-packages/urllib3/connectionpool.py:981: InsecureRequestWarning: Unverified HTTPS request is being made to host '100.123.26.224'. Adding certificate verification is strongly advised. See: https://urllib3.readthedocs.io/en/latest/advanced-usage.html#ssl-warnings\n",
      "  warnings.warn(\n"
     ]
    },
    {
     "name": "stdout",
     "output_type": "stream",
     "text": [
      "1.-Fecha: 2021-10-21 19:07:08.893157 - Error bucle externo:  404  no trajo datos:  https://100.123.26.224/api/v2/devices/58:C1:7A:EA:09:20/performance?start_time=202110211800&stop_time=202110211859\n",
      " dato_param['total']  9 1\n",
      "https://100.123.26.252/api/v2/devices/58:C1:7A:EA:09:23/performance?offset=0&start_time=202110211800&stop_time=202110211859\n",
      "1.-Fecha: 2021-10-21 19:07:08.893157 - Error bucle externo:  404  no trajo datos:  https://100.123.26.224/api/v2/devices/58:C1:7A:EA:09:23/performance?start_time=202110211800&stop_time=202110211859\n"
     ]
    },
    {
     "name": "stderr",
     "output_type": "stream",
     "text": [
      "/opt/anaconda3/lib/python3.8/site-packages/urllib3/connectionpool.py:981: InsecureRequestWarning: Unverified HTTPS request is being made to host '100.123.26.252'. Adding certificate verification is strongly advised. See: https://urllib3.readthedocs.io/en/latest/advanced-usage.html#ssl-warnings\n",
      "  warnings.warn(\n",
      "/opt/anaconda3/lib/python3.8/site-packages/urllib3/connectionpool.py:981: InsecureRequestWarning: Unverified HTTPS request is being made to host '100.123.26.252'. Adding certificate verification is strongly advised. See: https://urllib3.readthedocs.io/en/latest/advanced-usage.html#ssl-warnings\n",
      "  warnings.warn(\n",
      "/opt/anaconda3/lib/python3.8/site-packages/urllib3/connectionpool.py:981: InsecureRequestWarning: Unverified HTTPS request is being made to host '100.123.26.224'. Adding certificate verification is strongly advised. See: https://urllib3.readthedocs.io/en/latest/advanced-usage.html#ssl-warnings\n",
      "  warnings.warn(\n",
      "/opt/anaconda3/lib/python3.8/site-packages/urllib3/connectionpool.py:981: InsecureRequestWarning: Unverified HTTPS request is being made to host '100.123.26.252'. Adding certificate verification is strongly advised. See: https://urllib3.readthedocs.io/en/latest/advanced-usage.html#ssl-warnings\n",
      "  warnings.warn(\n"
     ]
    },
    {
     "name": "stdout",
     "output_type": "stream",
     "text": [
      "1.-Fecha: 2021-10-21 19:07:08.893157 - Error bucle externo:  404  no trajo datos:  https://100.123.26.252/api/v2/devices/58:C1:7A:EA:09:28/performance?start_time=202110211800&stop_time=202110211859\n",
      "1.-Fecha: 2021-10-21 19:07:08.893157 - Error bucle externo:  404  no trajo datos:  https://100.123.26.252/api/v2/devices/58:C1:7A:EA:09:3E/performance?start_time=202110211800&stop_time=202110211859\n",
      " dato_param['total']  13 1\n",
      "https://100.123.26.252/api/v2/devices/58:C1:7A:EA:09:3F/performance?offset=0&start_time=202110211800&stop_time=202110211859\n",
      "1.-Fecha: 2021-10-21 19:07:08.893157 - Error bucle externo:  404  no trajo datos:  https://100.123.26.224/api/v2/devices/58:C1:7A:EA:09:3F/performance?start_time=202110211800&stop_time=202110211859\n"
     ]
    },
    {
     "name": "stderr",
     "output_type": "stream",
     "text": [
      "/opt/anaconda3/lib/python3.8/site-packages/urllib3/connectionpool.py:981: InsecureRequestWarning: Unverified HTTPS request is being made to host '100.123.26.252'. Adding certificate verification is strongly advised. See: https://urllib3.readthedocs.io/en/latest/advanced-usage.html#ssl-warnings\n",
      "  warnings.warn(\n",
      "/opt/anaconda3/lib/python3.8/site-packages/urllib3/connectionpool.py:981: InsecureRequestWarning: Unverified HTTPS request is being made to host '100.123.26.252'. Adding certificate verification is strongly advised. See: https://urllib3.readthedocs.io/en/latest/advanced-usage.html#ssl-warnings\n",
      "  warnings.warn(\n",
      "/opt/anaconda3/lib/python3.8/site-packages/urllib3/connectionpool.py:981: InsecureRequestWarning: Unverified HTTPS request is being made to host '100.123.26.252'. Adding certificate verification is strongly advised. See: https://urllib3.readthedocs.io/en/latest/advanced-usage.html#ssl-warnings\n",
      "  warnings.warn(\n",
      "/opt/anaconda3/lib/python3.8/site-packages/urllib3/connectionpool.py:981: InsecureRequestWarning: Unverified HTTPS request is being made to host '100.123.26.224'. Adding certificate verification is strongly advised. See: https://urllib3.readthedocs.io/en/latest/advanced-usage.html#ssl-warnings\n",
      "  warnings.warn(\n",
      "/opt/anaconda3/lib/python3.8/site-packages/urllib3/connectionpool.py:981: InsecureRequestWarning: Unverified HTTPS request is being made to host '100.123.26.252'. Adding certificate verification is strongly advised. See: https://urllib3.readthedocs.io/en/latest/advanced-usage.html#ssl-warnings\n",
      "  warnings.warn(\n"
     ]
    },
    {
     "name": "stdout",
     "output_type": "stream",
     "text": [
      " dato_param['total']  12 1\n",
      "https://100.123.26.252/api/v2/devices/58:C1:7A:EA:09:41/performance?offset=0&start_time=202110211800&stop_time=202110211859\n",
      "1.-Fecha: 2021-10-21 19:07:08.893157 - Error bucle externo:  404  no trajo datos:  https://100.123.26.224/api/v2/devices/58:C1:7A:EA:09:41/performance?start_time=202110211800&stop_time=202110211859\n",
      "1.-Fecha: 2021-10-21 19:07:08.893157 - Error bucle externo:  404  no trajo datos:  https://100.123.26.252/api/v2/devices/58:C1:7A:EA:09:44/performance?start_time=202110211800&stop_time=202110211859\n",
      " dato_param['total']  13 1\n",
      "https://100.123.26.252/api/v2/devices/58:C1:7A:EA:09:54/performance?offset=0&start_time=202110211800&stop_time=202110211859\n"
     ]
    },
    {
     "name": "stderr",
     "output_type": "stream",
     "text": [
      "/opt/anaconda3/lib/python3.8/site-packages/urllib3/connectionpool.py:981: InsecureRequestWarning: Unverified HTTPS request is being made to host '100.123.26.252'. Adding certificate verification is strongly advised. See: https://urllib3.readthedocs.io/en/latest/advanced-usage.html#ssl-warnings\n",
      "  warnings.warn(\n",
      "/opt/anaconda3/lib/python3.8/site-packages/urllib3/connectionpool.py:981: InsecureRequestWarning: Unverified HTTPS request is being made to host '100.123.26.224'. Adding certificate verification is strongly advised. See: https://urllib3.readthedocs.io/en/latest/advanced-usage.html#ssl-warnings\n",
      "  warnings.warn(\n",
      "/opt/anaconda3/lib/python3.8/site-packages/urllib3/connectionpool.py:981: InsecureRequestWarning: Unverified HTTPS request is being made to host '100.123.26.252'. Adding certificate verification is strongly advised. See: https://urllib3.readthedocs.io/en/latest/advanced-usage.html#ssl-warnings\n",
      "  warnings.warn(\n",
      "/opt/anaconda3/lib/python3.8/site-packages/urllib3/connectionpool.py:981: InsecureRequestWarning: Unverified HTTPS request is being made to host '100.123.26.252'. Adding certificate verification is strongly advised. See: https://urllib3.readthedocs.io/en/latest/advanced-usage.html#ssl-warnings\n",
      "  warnings.warn(\n",
      "/opt/anaconda3/lib/python3.8/site-packages/urllib3/connectionpool.py:981: InsecureRequestWarning: Unverified HTTPS request is being made to host '100.123.26.252'. Adding certificate verification is strongly advised. See: https://urllib3.readthedocs.io/en/latest/advanced-usage.html#ssl-warnings\n",
      "  warnings.warn(\n",
      "/opt/anaconda3/lib/python3.8/site-packages/urllib3/connectionpool.py:981: InsecureRequestWarning: Unverified HTTPS request is being made to host '100.123.26.224'. Adding certificate verification is strongly advised. See: https://urllib3.readthedocs.io/en/latest/advanced-usage.html#ssl-warnings\n",
      "  warnings.warn(\n",
      "/opt/anaconda3/lib/python3.8/site-packages/urllib3/connectionpool.py:981: InsecureRequestWarning: Unverified HTTPS request is being made to host '100.123.26.252'. Adding certificate verification is strongly advised. See: https://urllib3.readthedocs.io/en/latest/advanced-usage.html#ssl-warnings\n",
      "  warnings.warn(\n",
      "/opt/anaconda3/lib/python3.8/site-packages/urllib3/connectionpool.py:981: InsecureRequestWarning: Unverified HTTPS request is being made to host '100.123.26.252'. Adding certificate verification is strongly advised. See: https://urllib3.readthedocs.io/en/latest/advanced-usage.html#ssl-warnings\n",
      "  warnings.warn(\n",
      "/opt/anaconda3/lib/python3.8/site-packages/urllib3/connectionpool.py:981: InsecureRequestWarning: Unverified HTTPS request is being made to host '100.123.26.224'. Adding certificate verification is strongly advised. See: https://urllib3.readthedocs.io/en/latest/advanced-usage.html#ssl-warnings\n",
      "  warnings.warn(\n"
     ]
    },
    {
     "name": "stdout",
     "output_type": "stream",
     "text": [
      "1.-Fecha: 2021-10-21 19:07:08.893157 - Error bucle externo:  404  no trajo datos:  https://100.123.26.224/api/v2/devices/58:C1:7A:EA:09:54/performance?start_time=202110211800&stop_time=202110211859\n",
      " dato_param['total']  13 1\n",
      "https://100.123.26.252/api/v2/devices/58:C1:7A:EA:09:5B/performance?offset=0&start_time=202110211800&stop_time=202110211859\n",
      "1.-Fecha: 2021-10-21 19:07:08.893157 - Error bucle externo:  404  no trajo datos:  https://100.123.26.224/api/v2/devices/58:C1:7A:EA:09:5B/performance?start_time=202110211800&stop_time=202110211859\n",
      "1.-Fecha: 2021-10-21 19:07:08.893157 - Error bucle externo:  404  no trajo datos:  https://100.123.26.252/api/v2/devices/58:C1:7A:EA:09:86/performance?start_time=202110211800&stop_time=202110211859\n",
      "1.-Fecha: 2021-10-21 19:07:08.893157 - Error bucle externo:  404  no trajo datos:  https://100.123.26.252/api/v2/devices/58:C1:7A:EA:09:A2/performance?start_time=202110211800&stop_time=202110211859\n",
      "1.-Fecha: 2021-10-21 19:07:08.893157 - Error bucle externo:  404  no trajo datos:  https://100.123.26.252/api/v2/devices/58:C1:7A:EA:09:C0/performance?start_time=202110211800&stop_time=202110211859\n",
      " dato_param['total']  13 1\n",
      "https://100.123.26.252/api/v2/devices/58:C1:7A:EA:09:D4/performance?offset=0&start_time=202110211800&stop_time=202110211859\n"
     ]
    },
    {
     "name": "stderr",
     "output_type": "stream",
     "text": [
      "/opt/anaconda3/lib/python3.8/site-packages/urllib3/connectionpool.py:981: InsecureRequestWarning: Unverified HTTPS request is being made to host '100.123.26.252'. Adding certificate verification is strongly advised. See: https://urllib3.readthedocs.io/en/latest/advanced-usage.html#ssl-warnings\n",
      "  warnings.warn(\n",
      "/opt/anaconda3/lib/python3.8/site-packages/urllib3/connectionpool.py:981: InsecureRequestWarning: Unverified HTTPS request is being made to host '100.123.26.252'. Adding certificate verification is strongly advised. See: https://urllib3.readthedocs.io/en/latest/advanced-usage.html#ssl-warnings\n",
      "  warnings.warn(\n",
      "/opt/anaconda3/lib/python3.8/site-packages/urllib3/connectionpool.py:981: InsecureRequestWarning: Unverified HTTPS request is being made to host '100.123.26.252'. Adding certificate verification is strongly advised. See: https://urllib3.readthedocs.io/en/latest/advanced-usage.html#ssl-warnings\n",
      "  warnings.warn(\n",
      "/opt/anaconda3/lib/python3.8/site-packages/urllib3/connectionpool.py:981: InsecureRequestWarning: Unverified HTTPS request is being made to host '100.123.26.252'. Adding certificate verification is strongly advised. See: https://urllib3.readthedocs.io/en/latest/advanced-usage.html#ssl-warnings\n",
      "  warnings.warn(\n",
      "/opt/anaconda3/lib/python3.8/site-packages/urllib3/connectionpool.py:981: InsecureRequestWarning: Unverified HTTPS request is being made to host '100.123.26.252'. Adding certificate verification is strongly advised. See: https://urllib3.readthedocs.io/en/latest/advanced-usage.html#ssl-warnings\n",
      "  warnings.warn(\n",
      "/opt/anaconda3/lib/python3.8/site-packages/urllib3/connectionpool.py:981: InsecureRequestWarning: Unverified HTTPS request is being made to host '100.123.26.224'. Adding certificate verification is strongly advised. See: https://urllib3.readthedocs.io/en/latest/advanced-usage.html#ssl-warnings\n",
      "  warnings.warn(\n",
      "/opt/anaconda3/lib/python3.8/site-packages/urllib3/connectionpool.py:981: InsecureRequestWarning: Unverified HTTPS request is being made to host '100.123.26.252'. Adding certificate verification is strongly advised. See: https://urllib3.readthedocs.io/en/latest/advanced-usage.html#ssl-warnings\n",
      "  warnings.warn(\n",
      "/opt/anaconda3/lib/python3.8/site-packages/urllib3/connectionpool.py:981: InsecureRequestWarning: Unverified HTTPS request is being made to host '100.123.26.252'. Adding certificate verification is strongly advised. See: https://urllib3.readthedocs.io/en/latest/advanced-usage.html#ssl-warnings\n",
      "  warnings.warn(\n"
     ]
    },
    {
     "name": "stdout",
     "output_type": "stream",
     "text": [
      "1.-Fecha: 2021-10-21 19:07:08.893157 - Error bucle externo:  404  no trajo datos:  https://100.123.26.224/api/v2/devices/58:C1:7A:EA:09:D4/performance?start_time=202110211800&stop_time=202110211859\n",
      " dato_param['total']  1 1\n",
      "https://100.123.26.252/api/v2/devices/58:C1:7A:EA:09:F3/performance?offset=0&start_time=202110211800&stop_time=202110211859\n"
     ]
    },
    {
     "name": "stderr",
     "output_type": "stream",
     "text": [
      "/opt/anaconda3/lib/python3.8/site-packages/urllib3/connectionpool.py:981: InsecureRequestWarning: Unverified HTTPS request is being made to host '100.123.26.224'. Adding certificate verification is strongly advised. See: https://urllib3.readthedocs.io/en/latest/advanced-usage.html#ssl-warnings\n",
      "  warnings.warn(\n",
      "/opt/anaconda3/lib/python3.8/site-packages/urllib3/connectionpool.py:981: InsecureRequestWarning: Unverified HTTPS request is being made to host '100.123.26.252'. Adding certificate verification is strongly advised. See: https://urllib3.readthedocs.io/en/latest/advanced-usage.html#ssl-warnings\n",
      "  warnings.warn(\n",
      "/opt/anaconda3/lib/python3.8/site-packages/urllib3/connectionpool.py:981: InsecureRequestWarning: Unverified HTTPS request is being made to host '100.123.26.252'. Adding certificate verification is strongly advised. See: https://urllib3.readthedocs.io/en/latest/advanced-usage.html#ssl-warnings\n",
      "  warnings.warn(\n",
      "/opt/anaconda3/lib/python3.8/site-packages/urllib3/connectionpool.py:981: InsecureRequestWarning: Unverified HTTPS request is being made to host '100.123.26.252'. Adding certificate verification is strongly advised. See: https://urllib3.readthedocs.io/en/latest/advanced-usage.html#ssl-warnings\n",
      "  warnings.warn(\n",
      "/opt/anaconda3/lib/python3.8/site-packages/urllib3/connectionpool.py:981: InsecureRequestWarning: Unverified HTTPS request is being made to host '100.123.26.252'. Adding certificate verification is strongly advised. See: https://urllib3.readthedocs.io/en/latest/advanced-usage.html#ssl-warnings\n",
      "  warnings.warn(\n"
     ]
    },
    {
     "name": "stdout",
     "output_type": "stream",
     "text": [
      "1.-Fecha: 2021-10-21 19:07:08.893157 - Error bucle externo:  404  no trajo datos:  https://100.123.26.224/api/v2/devices/58:C1:7A:EA:09:F3/performance?start_time=202110211800&stop_time=202110211859\n",
      "1.-Fecha: 2021-10-21 19:07:08.893157 - Error bucle externo:  404  no trajo datos:  https://100.123.26.252/api/v2/devices/58:C1:7A:EA:48:F8/performance?start_time=202110211800&stop_time=202110211859\n",
      "1.-Fecha: 2021-10-21 19:07:08.893157 - Error bucle externo:  404  no trajo datos:  https://100.123.26.252/api/v2/devices/58:C1:7A:EA:49:06/performance?start_time=202110211800&stop_time=202110211859\n",
      " dato_param['total']  13 1\n",
      "https://100.123.26.252/api/v2/devices/58:C1:7A:EA:49:19/performance?offset=0&start_time=202110211800&stop_time=202110211859\n"
     ]
    },
    {
     "name": "stderr",
     "output_type": "stream",
     "text": [
      "/opt/anaconda3/lib/python3.8/site-packages/urllib3/connectionpool.py:981: InsecureRequestWarning: Unverified HTTPS request is being made to host '100.123.26.224'. Adding certificate verification is strongly advised. See: https://urllib3.readthedocs.io/en/latest/advanced-usage.html#ssl-warnings\n",
      "  warnings.warn(\n",
      "/opt/anaconda3/lib/python3.8/site-packages/urllib3/connectionpool.py:981: InsecureRequestWarning: Unverified HTTPS request is being made to host '100.123.26.252'. Adding certificate verification is strongly advised. See: https://urllib3.readthedocs.io/en/latest/advanced-usage.html#ssl-warnings\n",
      "  warnings.warn(\n",
      "/opt/anaconda3/lib/python3.8/site-packages/urllib3/connectionpool.py:981: InsecureRequestWarning: Unverified HTTPS request is being made to host '100.123.26.252'. Adding certificate verification is strongly advised. See: https://urllib3.readthedocs.io/en/latest/advanced-usage.html#ssl-warnings\n",
      "  warnings.warn(\n",
      "/opt/anaconda3/lib/python3.8/site-packages/urllib3/connectionpool.py:981: InsecureRequestWarning: Unverified HTTPS request is being made to host '100.123.26.252'. Adding certificate verification is strongly advised. See: https://urllib3.readthedocs.io/en/latest/advanced-usage.html#ssl-warnings\n",
      "  warnings.warn(\n",
      "/opt/anaconda3/lib/python3.8/site-packages/urllib3/connectionpool.py:981: InsecureRequestWarning: Unverified HTTPS request is being made to host '100.123.26.224'. Adding certificate verification is strongly advised. See: https://urllib3.readthedocs.io/en/latest/advanced-usage.html#ssl-warnings\n",
      "  warnings.warn(\n"
     ]
    },
    {
     "name": "stdout",
     "output_type": "stream",
     "text": [
      "1.-Fecha: 2021-10-21 19:07:08.893157 - Error bucle externo:  404  no trajo datos:  https://100.123.26.224/api/v2/devices/58:C1:7A:EA:49:19/performance?start_time=202110211800&stop_time=202110211859\n",
      "1.-Fecha: 2021-10-21 19:07:08.893157 - Error bucle externo:  404  no trajo datos:  https://100.123.26.252/api/v2/devices/58:C1:7A:EA:49:B2/performance?start_time=202110211800&stop_time=202110211859\n",
      " dato_param['total']  1 1\n",
      "https://100.123.26.252/api/v2/devices/BC:A9:93:00:30:61/performance?offset=0&start_time=202110211800&stop_time=202110211859\n",
      "1.-Fecha: 2021-10-21 19:07:08.893157 - Error bucle externo:  404  no trajo datos:  https://100.123.26.224/api/v2/devices/BC:A9:93:00:30:61/performance?start_time=202110211800&stop_time=202110211859\n"
     ]
    },
    {
     "name": "stderr",
     "output_type": "stream",
     "text": [
      "/opt/anaconda3/lib/python3.8/site-packages/urllib3/connectionpool.py:981: InsecureRequestWarning: Unverified HTTPS request is being made to host '100.123.26.252'. Adding certificate verification is strongly advised. See: https://urllib3.readthedocs.io/en/latest/advanced-usage.html#ssl-warnings\n",
      "  warnings.warn(\n",
      "/opt/anaconda3/lib/python3.8/site-packages/urllib3/connectionpool.py:981: InsecureRequestWarning: Unverified HTTPS request is being made to host '100.123.26.252'. Adding certificate verification is strongly advised. See: https://urllib3.readthedocs.io/en/latest/advanced-usage.html#ssl-warnings\n",
      "  warnings.warn(\n",
      "/opt/anaconda3/lib/python3.8/site-packages/urllib3/connectionpool.py:981: InsecureRequestWarning: Unverified HTTPS request is being made to host '100.123.26.224'. Adding certificate verification is strongly advised. See: https://urllib3.readthedocs.io/en/latest/advanced-usage.html#ssl-warnings\n",
      "  warnings.warn(\n"
     ]
    },
    {
     "name": "stdout",
     "output_type": "stream",
     "text": [
      " dato_param['total']  13 1\n",
      "https://100.123.26.252/api/v2/devices/BC:A9:93:00:30:63/performance?offset=0&start_time=202110211800&stop_time=202110211859\n",
      "1.-Fecha: 2021-10-21 19:07:08.893157 - Error bucle externo:  404  no trajo datos:  https://100.123.26.224/api/v2/devices/BC:A9:93:00:30:63/performance?start_time=202110211800&stop_time=202110211859\n",
      "1.-Fecha: 2021-10-21 19:07:08.893157 - Error bucle externo:  404  no trajo datos:  https://100.123.26.252/api/v2/devices/BC:A9:93:00:30:65/performance?start_time=202110211800&stop_time=202110211859\n",
      " dato_param['total']  4 1\n",
      "https://100.123.26.252/api/v2/devices/BC:A9:93:00:30:71/performance?offset=0&start_time=202110211800&stop_time=202110211859\n"
     ]
    },
    {
     "name": "stderr",
     "output_type": "stream",
     "text": [
      "/opt/anaconda3/lib/python3.8/site-packages/urllib3/connectionpool.py:981: InsecureRequestWarning: Unverified HTTPS request is being made to host '100.123.26.252'. Adding certificate verification is strongly advised. See: https://urllib3.readthedocs.io/en/latest/advanced-usage.html#ssl-warnings\n",
      "  warnings.warn(\n",
      "/opt/anaconda3/lib/python3.8/site-packages/urllib3/connectionpool.py:981: InsecureRequestWarning: Unverified HTTPS request is being made to host '100.123.26.252'. Adding certificate verification is strongly advised. See: https://urllib3.readthedocs.io/en/latest/advanced-usage.html#ssl-warnings\n",
      "  warnings.warn(\n",
      "/opt/anaconda3/lib/python3.8/site-packages/urllib3/connectionpool.py:981: InsecureRequestWarning: Unverified HTTPS request is being made to host '100.123.26.252'. Adding certificate verification is strongly advised. See: https://urllib3.readthedocs.io/en/latest/advanced-usage.html#ssl-warnings\n",
      "  warnings.warn(\n",
      "/opt/anaconda3/lib/python3.8/site-packages/urllib3/connectionpool.py:981: InsecureRequestWarning: Unverified HTTPS request is being made to host '100.123.26.224'. Adding certificate verification is strongly advised. See: https://urllib3.readthedocs.io/en/latest/advanced-usage.html#ssl-warnings\n",
      "  warnings.warn(\n",
      "/opt/anaconda3/lib/python3.8/site-packages/urllib3/connectionpool.py:981: InsecureRequestWarning: Unverified HTTPS request is being made to host '100.123.26.252'. Adding certificate verification is strongly advised. See: https://urllib3.readthedocs.io/en/latest/advanced-usage.html#ssl-warnings\n",
      "  warnings.warn(\n"
     ]
    },
    {
     "name": "stdout",
     "output_type": "stream",
     "text": [
      "1.-Fecha: 2021-10-21 19:07:08.893157 - Error bucle externo:  404  no trajo datos:  https://100.123.26.224/api/v2/devices/BC:A9:93:00:30:71/performance?start_time=202110211800&stop_time=202110211859\n",
      " dato_param['total']  12 1\n",
      "https://100.123.26.252/api/v2/devices/BC:A9:93:00:30:72/performance?offset=0&start_time=202110211800&stop_time=202110211859\n"
     ]
    },
    {
     "name": "stderr",
     "output_type": "stream",
     "text": [
      "/opt/anaconda3/lib/python3.8/site-packages/urllib3/connectionpool.py:981: InsecureRequestWarning: Unverified HTTPS request is being made to host '100.123.26.252'. Adding certificate verification is strongly advised. See: https://urllib3.readthedocs.io/en/latest/advanced-usage.html#ssl-warnings\n",
      "  warnings.warn(\n",
      "/opt/anaconda3/lib/python3.8/site-packages/urllib3/connectionpool.py:981: InsecureRequestWarning: Unverified HTTPS request is being made to host '100.123.26.224'. Adding certificate verification is strongly advised. See: https://urllib3.readthedocs.io/en/latest/advanced-usage.html#ssl-warnings\n",
      "  warnings.warn(\n",
      "/opt/anaconda3/lib/python3.8/site-packages/urllib3/connectionpool.py:981: InsecureRequestWarning: Unverified HTTPS request is being made to host '100.123.26.252'. Adding certificate verification is strongly advised. See: https://urllib3.readthedocs.io/en/latest/advanced-usage.html#ssl-warnings\n",
      "  warnings.warn(\n"
     ]
    },
    {
     "name": "stdout",
     "output_type": "stream",
     "text": [
      "1.-Fecha: 2021-10-21 19:07:08.893157 - Error bucle externo:  404  no trajo datos:  https://100.123.26.224/api/v2/devices/BC:A9:93:00:30:72/performance?start_time=202110211800&stop_time=202110211859\n",
      " dato_param['total']  1 1\n",
      "https://100.123.26.252/api/v2/devices/BC:A9:93:00:30:77/performance?offset=0&start_time=202110211800&stop_time=202110211859\n",
      "1.-Fecha: 2021-10-21 19:07:08.893157 - Error bucle externo:  404  no trajo datos:  https://100.123.26.224/api/v2/devices/BC:A9:93:00:30:77/performance?start_time=202110211800&stop_time=202110211859\n",
      "1.-Fecha: 2021-10-21 19:07:08.893157 - Error bucle externo:  404  no trajo datos:  https://100.123.26.252/api/v2/devices/BC:A9:93:00:30:78/performance?start_time=202110211800&stop_time=202110211859\n"
     ]
    },
    {
     "name": "stderr",
     "output_type": "stream",
     "text": [
      "/opt/anaconda3/lib/python3.8/site-packages/urllib3/connectionpool.py:981: InsecureRequestWarning: Unverified HTTPS request is being made to host '100.123.26.252'. Adding certificate verification is strongly advised. See: https://urllib3.readthedocs.io/en/latest/advanced-usage.html#ssl-warnings\n",
      "  warnings.warn(\n",
      "/opt/anaconda3/lib/python3.8/site-packages/urllib3/connectionpool.py:981: InsecureRequestWarning: Unverified HTTPS request is being made to host '100.123.26.224'. Adding certificate verification is strongly advised. See: https://urllib3.readthedocs.io/en/latest/advanced-usage.html#ssl-warnings\n",
      "  warnings.warn(\n",
      "/opt/anaconda3/lib/python3.8/site-packages/urllib3/connectionpool.py:981: InsecureRequestWarning: Unverified HTTPS request is being made to host '100.123.26.252'. Adding certificate verification is strongly advised. See: https://urllib3.readthedocs.io/en/latest/advanced-usage.html#ssl-warnings\n",
      "  warnings.warn(\n",
      "/opt/anaconda3/lib/python3.8/site-packages/urllib3/connectionpool.py:981: InsecureRequestWarning: Unverified HTTPS request is being made to host '100.123.26.252'. Adding certificate verification is strongly advised. See: https://urllib3.readthedocs.io/en/latest/advanced-usage.html#ssl-warnings\n",
      "  warnings.warn(\n",
      "/opt/anaconda3/lib/python3.8/site-packages/urllib3/connectionpool.py:981: InsecureRequestWarning: Unverified HTTPS request is being made to host '100.123.26.252'. Adding certificate verification is strongly advised. See: https://urllib3.readthedocs.io/en/latest/advanced-usage.html#ssl-warnings\n",
      "  warnings.warn(\n"
     ]
    },
    {
     "name": "stdout",
     "output_type": "stream",
     "text": [
      "1.-Fecha: 2021-10-21 19:07:08.893157 - Error bucle externo:  404  no trajo datos:  https://100.123.26.252/api/v2/devices/BC:A9:93:00:30:7B/performance?start_time=202110211800&stop_time=202110211859\n",
      "1.-Fecha: 2021-10-21 19:07:08.893157 - Error bucle externo:  404  no trajo datos:  https://100.123.26.252/api/v2/devices/BC:A9:93:00:30:7C/performance?start_time=202110211800&stop_time=202110211859\n",
      " dato_param['total']  1 1\n",
      "https://100.123.26.252/api/v2/devices/BC:A9:93:00:30:7E/performance?offset=0&start_time=202110211800&stop_time=202110211859\n"
     ]
    },
    {
     "name": "stderr",
     "output_type": "stream",
     "text": [
      "/opt/anaconda3/lib/python3.8/site-packages/urllib3/connectionpool.py:981: InsecureRequestWarning: Unverified HTTPS request is being made to host '100.123.26.252'. Adding certificate verification is strongly advised. See: https://urllib3.readthedocs.io/en/latest/advanced-usage.html#ssl-warnings\n",
      "  warnings.warn(\n",
      "/opt/anaconda3/lib/python3.8/site-packages/urllib3/connectionpool.py:981: InsecureRequestWarning: Unverified HTTPS request is being made to host '100.123.26.252'. Adding certificate verification is strongly advised. See: https://urllib3.readthedocs.io/en/latest/advanced-usage.html#ssl-warnings\n",
      "  warnings.warn(\n",
      "/opt/anaconda3/lib/python3.8/site-packages/urllib3/connectionpool.py:981: InsecureRequestWarning: Unverified HTTPS request is being made to host '100.123.26.224'. Adding certificate verification is strongly advised. See: https://urllib3.readthedocs.io/en/latest/advanced-usage.html#ssl-warnings\n",
      "  warnings.warn(\n",
      "/opt/anaconda3/lib/python3.8/site-packages/urllib3/connectionpool.py:981: InsecureRequestWarning: Unverified HTTPS request is being made to host '100.123.26.252'. Adding certificate verification is strongly advised. See: https://urllib3.readthedocs.io/en/latest/advanced-usage.html#ssl-warnings\n",
      "  warnings.warn(\n"
     ]
    },
    {
     "name": "stdout",
     "output_type": "stream",
     "text": [
      "1.-Fecha: 2021-10-21 19:07:08.893157 - Error bucle externo:  404  no trajo datos:  https://100.123.26.224/api/v2/devices/BC:A9:93:00:30:7E/performance?start_time=202110211800&stop_time=202110211859\n",
      "1.-Fecha: 2021-10-21 19:07:08.893157 - Error bucle externo:  404  no trajo datos:  https://100.123.26.252/api/v2/devices/BC:A9:93:00:30:80/performance?start_time=202110211800&stop_time=202110211859\n",
      " dato_param['total']  13 1\n",
      "https://100.123.26.252/api/v2/devices/BC:A9:93:00:30:81/performance?offset=0&start_time=202110211800&stop_time=202110211859\n",
      "1.-Fecha: 2021-10-21 19:07:08.893157 - Error bucle externo:  404  no trajo datos:  https://100.123.26.224/api/v2/devices/BC:A9:93:00:30:81/performance?start_time=202110211800&stop_time=202110211859\n"
     ]
    },
    {
     "name": "stderr",
     "output_type": "stream",
     "text": [
      "/opt/anaconda3/lib/python3.8/site-packages/urllib3/connectionpool.py:981: InsecureRequestWarning: Unverified HTTPS request is being made to host '100.123.26.252'. Adding certificate verification is strongly advised. See: https://urllib3.readthedocs.io/en/latest/advanced-usage.html#ssl-warnings\n",
      "  warnings.warn(\n",
      "/opt/anaconda3/lib/python3.8/site-packages/urllib3/connectionpool.py:981: InsecureRequestWarning: Unverified HTTPS request is being made to host '100.123.26.252'. Adding certificate verification is strongly advised. See: https://urllib3.readthedocs.io/en/latest/advanced-usage.html#ssl-warnings\n",
      "  warnings.warn(\n",
      "/opt/anaconda3/lib/python3.8/site-packages/urllib3/connectionpool.py:981: InsecureRequestWarning: Unverified HTTPS request is being made to host '100.123.26.224'. Adding certificate verification is strongly advised. See: https://urllib3.readthedocs.io/en/latest/advanced-usage.html#ssl-warnings\n",
      "  warnings.warn(\n",
      "/opt/anaconda3/lib/python3.8/site-packages/urllib3/connectionpool.py:981: InsecureRequestWarning: Unverified HTTPS request is being made to host '100.123.26.252'. Adding certificate verification is strongly advised. See: https://urllib3.readthedocs.io/en/latest/advanced-usage.html#ssl-warnings\n",
      "  warnings.warn(\n",
      "/opt/anaconda3/lib/python3.8/site-packages/urllib3/connectionpool.py:981: InsecureRequestWarning: Unverified HTTPS request is being made to host '100.123.26.252'. Adding certificate verification is strongly advised. See: https://urllib3.readthedocs.io/en/latest/advanced-usage.html#ssl-warnings\n",
      "  warnings.warn(\n"
     ]
    },
    {
     "name": "stdout",
     "output_type": "stream",
     "text": [
      " dato_param['total']  13 1\n",
      "https://100.123.26.252/api/v2/devices/BC:A9:93:00:30:82/performance?offset=0&start_time=202110211800&stop_time=202110211859\n",
      "1.-Fecha: 2021-10-21 19:07:08.893157 - Error bucle externo:  404  no trajo datos:  https://100.123.26.224/api/v2/devices/BC:A9:93:00:30:82/performance?start_time=202110211800&stop_time=202110211859\n",
      "1.-Fecha: 2021-10-21 19:07:08.893157 - Error bucle externo:  404  no trajo datos:  https://100.123.26.252/api/v2/devices/BC:A9:93:00:30:86/performance?start_time=202110211800&stop_time=202110211859\n"
     ]
    },
    {
     "name": "stderr",
     "output_type": "stream",
     "text": [
      "/opt/anaconda3/lib/python3.8/site-packages/urllib3/connectionpool.py:981: InsecureRequestWarning: Unverified HTTPS request is being made to host '100.123.26.224'. Adding certificate verification is strongly advised. See: https://urllib3.readthedocs.io/en/latest/advanced-usage.html#ssl-warnings\n",
      "  warnings.warn(\n",
      "/opt/anaconda3/lib/python3.8/site-packages/urllib3/connectionpool.py:981: InsecureRequestWarning: Unverified HTTPS request is being made to host '100.123.26.252'. Adding certificate verification is strongly advised. See: https://urllib3.readthedocs.io/en/latest/advanced-usage.html#ssl-warnings\n",
      "  warnings.warn(\n",
      "/opt/anaconda3/lib/python3.8/site-packages/urllib3/connectionpool.py:981: InsecureRequestWarning: Unverified HTTPS request is being made to host '100.123.26.252'. Adding certificate verification is strongly advised. See: https://urllib3.readthedocs.io/en/latest/advanced-usage.html#ssl-warnings\n",
      "  warnings.warn(\n",
      "/opt/anaconda3/lib/python3.8/site-packages/urllib3/connectionpool.py:981: InsecureRequestWarning: Unverified HTTPS request is being made to host '100.123.26.252'. Adding certificate verification is strongly advised. See: https://urllib3.readthedocs.io/en/latest/advanced-usage.html#ssl-warnings\n",
      "  warnings.warn(\n",
      "/opt/anaconda3/lib/python3.8/site-packages/urllib3/connectionpool.py:981: InsecureRequestWarning: Unverified HTTPS request is being made to host '100.123.26.224'. Adding certificate verification is strongly advised. See: https://urllib3.readthedocs.io/en/latest/advanced-usage.html#ssl-warnings\n",
      "  warnings.warn(\n"
     ]
    },
    {
     "name": "stdout",
     "output_type": "stream",
     "text": [
      " dato_param['total']  13 1\n",
      "https://100.123.26.252/api/v2/devices/BC:A9:93:00:30:8A/performance?offset=0&start_time=202110211800&stop_time=202110211859\n",
      "1.-Fecha: 2021-10-21 19:07:08.893157 - Error bucle externo:  404  no trajo datos:  https://100.123.26.224/api/v2/devices/BC:A9:93:00:30:8A/performance?start_time=202110211800&stop_time=202110211859\n",
      " dato_param['total']  13 1\n",
      "https://100.123.26.252/api/v2/devices/BC:A9:93:00:30:8C/performance?offset=0&start_time=202110211800&stop_time=202110211859\n"
     ]
    },
    {
     "name": "stderr",
     "output_type": "stream",
     "text": [
      "/opt/anaconda3/lib/python3.8/site-packages/urllib3/connectionpool.py:981: InsecureRequestWarning: Unverified HTTPS request is being made to host '100.123.26.252'. Adding certificate verification is strongly advised. See: https://urllib3.readthedocs.io/en/latest/advanced-usage.html#ssl-warnings\n",
      "  warnings.warn(\n",
      "/opt/anaconda3/lib/python3.8/site-packages/urllib3/connectionpool.py:981: InsecureRequestWarning: Unverified HTTPS request is being made to host '100.123.26.252'. Adding certificate verification is strongly advised. See: https://urllib3.readthedocs.io/en/latest/advanced-usage.html#ssl-warnings\n",
      "  warnings.warn(\n",
      "/opt/anaconda3/lib/python3.8/site-packages/urllib3/connectionpool.py:981: InsecureRequestWarning: Unverified HTTPS request is being made to host '100.123.26.224'. Adding certificate verification is strongly advised. See: https://urllib3.readthedocs.io/en/latest/advanced-usage.html#ssl-warnings\n",
      "  warnings.warn(\n"
     ]
    },
    {
     "name": "stdout",
     "output_type": "stream",
     "text": [
      "1.-Fecha: 2021-10-21 19:07:08.893157 - Error bucle externo:  404  no trajo datos:  https://100.123.26.224/api/v2/devices/BC:A9:93:00:30:8C/performance?start_time=202110211800&stop_time=202110211859\n",
      " dato_param['total']  13 1\n",
      "https://100.123.26.252/api/v2/devices/BC:A9:93:00:30:8D/performance?offset=0&start_time=202110211800&stop_time=202110211859\n",
      "1.-Fecha: 2021-10-21 19:07:08.893157 - Error bucle externo:  404  no trajo datos:  https://100.123.26.224/api/v2/devices/BC:A9:93:00:30:8D/performance?start_time=202110211800&stop_time=202110211859\n",
      "1.-Fecha: 2021-10-21 19:07:08.893157 - Error bucle externo:  404  no trajo datos:  https://100.123.26.252/api/v2/devices/BC:A9:93:00:30:8F/performance?start_time=202110211800&stop_time=202110211859\n"
     ]
    },
    {
     "name": "stderr",
     "output_type": "stream",
     "text": [
      "/opt/anaconda3/lib/python3.8/site-packages/urllib3/connectionpool.py:981: InsecureRequestWarning: Unverified HTTPS request is being made to host '100.123.26.252'. Adding certificate verification is strongly advised. See: https://urllib3.readthedocs.io/en/latest/advanced-usage.html#ssl-warnings\n",
      "  warnings.warn(\n",
      "/opt/anaconda3/lib/python3.8/site-packages/urllib3/connectionpool.py:981: InsecureRequestWarning: Unverified HTTPS request is being made to host '100.123.26.252'. Adding certificate verification is strongly advised. See: https://urllib3.readthedocs.io/en/latest/advanced-usage.html#ssl-warnings\n",
      "  warnings.warn(\n",
      "/opt/anaconda3/lib/python3.8/site-packages/urllib3/connectionpool.py:981: InsecureRequestWarning: Unverified HTTPS request is being made to host '100.123.26.224'. Adding certificate verification is strongly advised. See: https://urllib3.readthedocs.io/en/latest/advanced-usage.html#ssl-warnings\n",
      "  warnings.warn(\n",
      "/opt/anaconda3/lib/python3.8/site-packages/urllib3/connectionpool.py:981: InsecureRequestWarning: Unverified HTTPS request is being made to host '100.123.26.252'. Adding certificate verification is strongly advised. See: https://urllib3.readthedocs.io/en/latest/advanced-usage.html#ssl-warnings\n",
      "  warnings.warn(\n",
      "/opt/anaconda3/lib/python3.8/site-packages/urllib3/connectionpool.py:981: InsecureRequestWarning: Unverified HTTPS request is being made to host '100.123.26.252'. Adding certificate verification is strongly advised. See: https://urllib3.readthedocs.io/en/latest/advanced-usage.html#ssl-warnings\n",
      "  warnings.warn(\n"
     ]
    },
    {
     "name": "stdout",
     "output_type": "stream",
     "text": [
      "1.-Fecha: 2021-10-21 19:07:08.893157 - Error bucle externo:  404  no trajo datos:  https://100.123.26.252/api/v2/devices/BC:A9:93:00:30:90/performance?start_time=202110211800&stop_time=202110211859\n",
      "1.-Fecha: 2021-10-21 19:07:08.893157 - Error bucle externo:  404  no trajo datos:  https://100.123.26.252/api/v2/devices/BC:A9:93:00:30:93/performance?start_time=202110211800&stop_time=202110211859\n",
      "1.-Fecha: 2021-10-21 19:07:08.893157 - Error bucle externo:  404  no trajo datos:  https://100.123.26.252/api/v2/devices/BC:A9:93:00:30:94/performance?start_time=202110211800&stop_time=202110211859\n",
      "1.-Fecha: 2021-10-21 19:07:08.893157 - Error bucle externo:  404  no trajo datos:  https://100.123.26.252/api/v2/devices/BC:A9:93:00:30:9C/performance?start_time=202110211800&stop_time=202110211859\n",
      "1.-Fecha: 2021-10-21 19:07:08.893157 - Error bucle externo:  404  no trajo datos:  https://100.123.26.252/api/v2/devices/BC:A9:93:00:30:9E/performance?start_time=202110211800&stop_time=202110211859\n"
     ]
    },
    {
     "name": "stderr",
     "output_type": "stream",
     "text": [
      "/opt/anaconda3/lib/python3.8/site-packages/urllib3/connectionpool.py:981: InsecureRequestWarning: Unverified HTTPS request is being made to host '100.123.26.252'. Adding certificate verification is strongly advised. See: https://urllib3.readthedocs.io/en/latest/advanced-usage.html#ssl-warnings\n",
      "  warnings.warn(\n",
      "/opt/anaconda3/lib/python3.8/site-packages/urllib3/connectionpool.py:981: InsecureRequestWarning: Unverified HTTPS request is being made to host '100.123.26.252'. Adding certificate verification is strongly advised. See: https://urllib3.readthedocs.io/en/latest/advanced-usage.html#ssl-warnings\n",
      "  warnings.warn(\n",
      "/opt/anaconda3/lib/python3.8/site-packages/urllib3/connectionpool.py:981: InsecureRequestWarning: Unverified HTTPS request is being made to host '100.123.26.252'. Adding certificate verification is strongly advised. See: https://urllib3.readthedocs.io/en/latest/advanced-usage.html#ssl-warnings\n",
      "  warnings.warn(\n",
      "/opt/anaconda3/lib/python3.8/site-packages/urllib3/connectionpool.py:981: InsecureRequestWarning: Unverified HTTPS request is being made to host '100.123.26.252'. Adding certificate verification is strongly advised. See: https://urllib3.readthedocs.io/en/latest/advanced-usage.html#ssl-warnings\n",
      "  warnings.warn(\n",
      "/opt/anaconda3/lib/python3.8/site-packages/urllib3/connectionpool.py:981: InsecureRequestWarning: Unverified HTTPS request is being made to host '100.123.26.252'. Adding certificate verification is strongly advised. See: https://urllib3.readthedocs.io/en/latest/advanced-usage.html#ssl-warnings\n",
      "  warnings.warn(\n"
     ]
    },
    {
     "name": "stdout",
     "output_type": "stream",
     "text": [
      "1.-Fecha: 2021-10-21 19:07:08.893157 - Error bucle externo:  404  no trajo datos:  https://100.123.26.252/api/v2/devices/BC:A9:93:00:30:A4/performance?start_time=202110211800&stop_time=202110211859\n",
      " dato_param['total']  1 1\n",
      "https://100.123.26.252/api/v2/devices/BC:A9:93:00:30:A5/performance?offset=0&start_time=202110211800&stop_time=202110211859\n",
      "1.-Fecha: 2021-10-21 19:07:08.893157 - Error bucle externo:  422  no trajo datos:  https://100.123.26.224/api/v2/devices/BC:A9:93:00:30:A5/performance?start_time=202110211800&stop_time=202110211859\n"
     ]
    },
    {
     "name": "stderr",
     "output_type": "stream",
     "text": [
      "/opt/anaconda3/lib/python3.8/site-packages/urllib3/connectionpool.py:981: InsecureRequestWarning: Unverified HTTPS request is being made to host '100.123.26.252'. Adding certificate verification is strongly advised. See: https://urllib3.readthedocs.io/en/latest/advanced-usage.html#ssl-warnings\n",
      "  warnings.warn(\n",
      "/opt/anaconda3/lib/python3.8/site-packages/urllib3/connectionpool.py:981: InsecureRequestWarning: Unverified HTTPS request is being made to host '100.123.26.252'. Adding certificate verification is strongly advised. See: https://urllib3.readthedocs.io/en/latest/advanced-usage.html#ssl-warnings\n",
      "  warnings.warn(\n",
      "/opt/anaconda3/lib/python3.8/site-packages/urllib3/connectionpool.py:981: InsecureRequestWarning: Unverified HTTPS request is being made to host '100.123.26.224'. Adding certificate verification is strongly advised. See: https://urllib3.readthedocs.io/en/latest/advanced-usage.html#ssl-warnings\n",
      "  warnings.warn(\n",
      "/opt/anaconda3/lib/python3.8/site-packages/urllib3/connectionpool.py:981: InsecureRequestWarning: Unverified HTTPS request is being made to host '100.123.26.252'. Adding certificate verification is strongly advised. See: https://urllib3.readthedocs.io/en/latest/advanced-usage.html#ssl-warnings\n",
      "  warnings.warn(\n"
     ]
    },
    {
     "name": "stdout",
     "output_type": "stream",
     "text": [
      "1.-Fecha: 2021-10-21 19:07:08.893157 - Error bucle externo:  404  no trajo datos:  https://100.123.26.252/api/v2/devices/BC:A9:93:00:30:A6/performance?start_time=202110211800&stop_time=202110211859\n",
      "1.-Fecha: 2021-10-21 19:07:08.893157 - Error bucle externo:  404  no trajo datos:  https://100.123.26.252/api/v2/devices/BC:A9:93:00:30:AA/performance?start_time=202110211800&stop_time=202110211859\n",
      " dato_param['total']  13 1\n",
      "https://100.123.26.252/api/v2/devices/BC:A9:93:00:30:AD/performance?offset=0&start_time=202110211800&stop_time=202110211859\n",
      "1.-Fecha: 2021-10-21 19:07:08.893157 - Error bucle externo:  404  no trajo datos:  https://100.123.26.224/api/v2/devices/BC:A9:93:00:30:AD/performance?start_time=202110211800&stop_time=202110211859\n"
     ]
    },
    {
     "name": "stderr",
     "output_type": "stream",
     "text": [
      "/opt/anaconda3/lib/python3.8/site-packages/urllib3/connectionpool.py:981: InsecureRequestWarning: Unverified HTTPS request is being made to host '100.123.26.252'. Adding certificate verification is strongly advised. See: https://urllib3.readthedocs.io/en/latest/advanced-usage.html#ssl-warnings\n",
      "  warnings.warn(\n",
      "/opt/anaconda3/lib/python3.8/site-packages/urllib3/connectionpool.py:981: InsecureRequestWarning: Unverified HTTPS request is being made to host '100.123.26.252'. Adding certificate verification is strongly advised. See: https://urllib3.readthedocs.io/en/latest/advanced-usage.html#ssl-warnings\n",
      "  warnings.warn(\n",
      "/opt/anaconda3/lib/python3.8/site-packages/urllib3/connectionpool.py:981: InsecureRequestWarning: Unverified HTTPS request is being made to host '100.123.26.252'. Adding certificate verification is strongly advised. See: https://urllib3.readthedocs.io/en/latest/advanced-usage.html#ssl-warnings\n",
      "  warnings.warn(\n",
      "/opt/anaconda3/lib/python3.8/site-packages/urllib3/connectionpool.py:981: InsecureRequestWarning: Unverified HTTPS request is being made to host '100.123.26.224'. Adding certificate verification is strongly advised. See: https://urllib3.readthedocs.io/en/latest/advanced-usage.html#ssl-warnings\n",
      "  warnings.warn(\n",
      "/opt/anaconda3/lib/python3.8/site-packages/urllib3/connectionpool.py:981: InsecureRequestWarning: Unverified HTTPS request is being made to host '100.123.26.252'. Adding certificate verification is strongly advised. See: https://urllib3.readthedocs.io/en/latest/advanced-usage.html#ssl-warnings\n",
      "  warnings.warn(\n"
     ]
    },
    {
     "name": "stdout",
     "output_type": "stream",
     "text": [
      "1.-Fecha: 2021-10-21 19:07:08.893157 - Error bucle externo:  422  no trajo datos:  https://100.123.26.252/api/v2/devices/BC:A9:93:00:30:AE/performance?start_time=202110211800&stop_time=202110211859\n",
      " dato_param['total']  13 1\n",
      "https://100.123.26.252/api/v2/devices/BC:A9:93:00:30:AF/performance?offset=0&start_time=202110211800&stop_time=202110211859\n",
      "1.-Fecha: 2021-10-21 19:07:08.893157 - Error bucle externo:  404  no trajo datos:  https://100.123.26.224/api/v2/devices/BC:A9:93:00:30:AF/performance?start_time=202110211800&stop_time=202110211859\n"
     ]
    },
    {
     "name": "stderr",
     "output_type": "stream",
     "text": [
      "/opt/anaconda3/lib/python3.8/site-packages/urllib3/connectionpool.py:981: InsecureRequestWarning: Unverified HTTPS request is being made to host '100.123.26.252'. Adding certificate verification is strongly advised. See: https://urllib3.readthedocs.io/en/latest/advanced-usage.html#ssl-warnings\n",
      "  warnings.warn(\n",
      "/opt/anaconda3/lib/python3.8/site-packages/urllib3/connectionpool.py:981: InsecureRequestWarning: Unverified HTTPS request is being made to host '100.123.26.252'. Adding certificate verification is strongly advised. See: https://urllib3.readthedocs.io/en/latest/advanced-usage.html#ssl-warnings\n",
      "  warnings.warn(\n",
      "/opt/anaconda3/lib/python3.8/site-packages/urllib3/connectionpool.py:981: InsecureRequestWarning: Unverified HTTPS request is being made to host '100.123.26.224'. Adding certificate verification is strongly advised. See: https://urllib3.readthedocs.io/en/latest/advanced-usage.html#ssl-warnings\n",
      "  warnings.warn(\n",
      "/opt/anaconda3/lib/python3.8/site-packages/urllib3/connectionpool.py:981: InsecureRequestWarning: Unverified HTTPS request is being made to host '100.123.26.252'. Adding certificate verification is strongly advised. See: https://urllib3.readthedocs.io/en/latest/advanced-usage.html#ssl-warnings\n",
      "  warnings.warn(\n"
     ]
    },
    {
     "name": "stdout",
     "output_type": "stream",
     "text": [
      " dato_param['total']  13 1\n",
      "https://100.123.26.252/api/v2/devices/BC:A9:93:00:30:B6/performance?offset=0&start_time=202110211800&stop_time=202110211859\n",
      "1.-Fecha: 2021-10-21 19:07:08.893157 - Error bucle externo:  404  no trajo datos:  https://100.123.26.224/api/v2/devices/BC:A9:93:00:30:B6/performance?start_time=202110211800&stop_time=202110211859\n",
      " dato_param['total']  12 1\n",
      "https://100.123.26.252/api/v2/devices/BC:A9:93:00:30:B8/performance?offset=0&start_time=202110211800&stop_time=202110211859\n"
     ]
    },
    {
     "name": "stderr",
     "output_type": "stream",
     "text": [
      "/opt/anaconda3/lib/python3.8/site-packages/urllib3/connectionpool.py:981: InsecureRequestWarning: Unverified HTTPS request is being made to host '100.123.26.252'. Adding certificate verification is strongly advised. See: https://urllib3.readthedocs.io/en/latest/advanced-usage.html#ssl-warnings\n",
      "  warnings.warn(\n",
      "/opt/anaconda3/lib/python3.8/site-packages/urllib3/connectionpool.py:981: InsecureRequestWarning: Unverified HTTPS request is being made to host '100.123.26.224'. Adding certificate verification is strongly advised. See: https://urllib3.readthedocs.io/en/latest/advanced-usage.html#ssl-warnings\n",
      "  warnings.warn(\n",
      "/opt/anaconda3/lib/python3.8/site-packages/urllib3/connectionpool.py:981: InsecureRequestWarning: Unverified HTTPS request is being made to host '100.123.26.252'. Adding certificate verification is strongly advised. See: https://urllib3.readthedocs.io/en/latest/advanced-usage.html#ssl-warnings\n",
      "  warnings.warn(\n",
      "/opt/anaconda3/lib/python3.8/site-packages/urllib3/connectionpool.py:981: InsecureRequestWarning: Unverified HTTPS request is being made to host '100.123.26.252'. Adding certificate verification is strongly advised. See: https://urllib3.readthedocs.io/en/latest/advanced-usage.html#ssl-warnings\n",
      "  warnings.warn(\n",
      "/opt/anaconda3/lib/python3.8/site-packages/urllib3/connectionpool.py:981: InsecureRequestWarning: Unverified HTTPS request is being made to host '100.123.26.224'. Adding certificate verification is strongly advised. See: https://urllib3.readthedocs.io/en/latest/advanced-usage.html#ssl-warnings\n",
      "  warnings.warn(\n",
      "/opt/anaconda3/lib/python3.8/site-packages/urllib3/connectionpool.py:981: InsecureRequestWarning: Unverified HTTPS request is being made to host '100.123.26.252'. Adding certificate verification is strongly advised. See: https://urllib3.readthedocs.io/en/latest/advanced-usage.html#ssl-warnings\n",
      "  warnings.warn(\n",
      "/opt/anaconda3/lib/python3.8/site-packages/urllib3/connectionpool.py:981: InsecureRequestWarning: Unverified HTTPS request is being made to host '100.123.26.252'. Adding certificate verification is strongly advised. See: https://urllib3.readthedocs.io/en/latest/advanced-usage.html#ssl-warnings\n",
      "  warnings.warn(\n"
     ]
    },
    {
     "name": "stdout",
     "output_type": "stream",
     "text": [
      "1.-Fecha: 2021-10-21 19:07:08.893157 - Error bucle externo:  404  no trajo datos:  https://100.123.26.224/api/v2/devices/BC:A9:93:00:30:B8/performance?start_time=202110211800&stop_time=202110211859\n",
      "1.-Fecha: 2021-10-21 19:07:08.893157 - Error bucle externo:  404  no trajo datos:  https://100.123.26.252/api/v2/devices/BC:A9:93:00:30:BA/performance?start_time=202110211800&stop_time=202110211859\n",
      " dato_param['total']  13 1\n",
      "https://100.123.26.252/api/v2/devices/BC:A9:93:00:30:BC/performance?offset=0&start_time=202110211800&stop_time=202110211859\n"
     ]
    },
    {
     "name": "stderr",
     "output_type": "stream",
     "text": [
      "/opt/anaconda3/lib/python3.8/site-packages/urllib3/connectionpool.py:981: InsecureRequestWarning: Unverified HTTPS request is being made to host '100.123.26.252'. Adding certificate verification is strongly advised. See: https://urllib3.readthedocs.io/en/latest/advanced-usage.html#ssl-warnings\n",
      "  warnings.warn(\n",
      "/opt/anaconda3/lib/python3.8/site-packages/urllib3/connectionpool.py:981: InsecureRequestWarning: Unverified HTTPS request is being made to host '100.123.26.224'. Adding certificate verification is strongly advised. See: https://urllib3.readthedocs.io/en/latest/advanced-usage.html#ssl-warnings\n",
      "  warnings.warn(\n",
      "/opt/anaconda3/lib/python3.8/site-packages/urllib3/connectionpool.py:981: InsecureRequestWarning: Unverified HTTPS request is being made to host '100.123.26.252'. Adding certificate verification is strongly advised. See: https://urllib3.readthedocs.io/en/latest/advanced-usage.html#ssl-warnings\n",
      "  warnings.warn(\n",
      "/opt/anaconda3/lib/python3.8/site-packages/urllib3/connectionpool.py:981: InsecureRequestWarning: Unverified HTTPS request is being made to host '100.123.26.252'. Adding certificate verification is strongly advised. See: https://urllib3.readthedocs.io/en/latest/advanced-usage.html#ssl-warnings\n",
      "  warnings.warn(\n",
      "/opt/anaconda3/lib/python3.8/site-packages/urllib3/connectionpool.py:981: InsecureRequestWarning: Unverified HTTPS request is being made to host '100.123.26.252'. Adding certificate verification is strongly advised. See: https://urllib3.readthedocs.io/en/latest/advanced-usage.html#ssl-warnings\n",
      "  warnings.warn(\n"
     ]
    },
    {
     "name": "stdout",
     "output_type": "stream",
     "text": [
      "1.-Fecha: 2021-10-21 19:07:08.893157 - Error bucle externo:  404  no trajo datos:  https://100.123.26.224/api/v2/devices/BC:A9:93:00:30:BC/performance?start_time=202110211800&stop_time=202110211859\n",
      "1.-Fecha: 2021-10-21 19:07:08.893157 - Error bucle externo:  404  no trajo datos:  https://100.123.26.252/api/v2/devices/BC:A9:93:00:30:BD/performance?start_time=202110211800&stop_time=202110211859\n",
      "1.-Fecha: 2021-10-21 19:07:08.893157 - Error bucle externo:  404  no trajo datos:  https://100.123.26.252/api/v2/devices/BC:A9:93:00:30:C0/performance?start_time=202110211800&stop_time=202110211859\n",
      "1.-Fecha: 2021-10-21 19:07:08.893157 - Error bucle externo:  404  no trajo datos:  https://100.123.26.252/api/v2/devices/BC:A9:93:00:30:C6/performance?start_time=202110211800&stop_time=202110211859\n"
     ]
    },
    {
     "name": "stderr",
     "output_type": "stream",
     "text": [
      "/opt/anaconda3/lib/python3.8/site-packages/urllib3/connectionpool.py:981: InsecureRequestWarning: Unverified HTTPS request is being made to host '100.123.26.252'. Adding certificate verification is strongly advised. See: https://urllib3.readthedocs.io/en/latest/advanced-usage.html#ssl-warnings\n",
      "  warnings.warn(\n",
      "/opt/anaconda3/lib/python3.8/site-packages/urllib3/connectionpool.py:981: InsecureRequestWarning: Unverified HTTPS request is being made to host '100.123.26.252'. Adding certificate verification is strongly advised. See: https://urllib3.readthedocs.io/en/latest/advanced-usage.html#ssl-warnings\n",
      "  warnings.warn(\n",
      "/opt/anaconda3/lib/python3.8/site-packages/urllib3/connectionpool.py:981: InsecureRequestWarning: Unverified HTTPS request is being made to host '100.123.26.224'. Adding certificate verification is strongly advised. See: https://urllib3.readthedocs.io/en/latest/advanced-usage.html#ssl-warnings\n",
      "  warnings.warn(\n",
      "/opt/anaconda3/lib/python3.8/site-packages/urllib3/connectionpool.py:981: InsecureRequestWarning: Unverified HTTPS request is being made to host '100.123.26.252'. Adding certificate verification is strongly advised. See: https://urllib3.readthedocs.io/en/latest/advanced-usage.html#ssl-warnings\n",
      "  warnings.warn(\n",
      "/opt/anaconda3/lib/python3.8/site-packages/urllib3/connectionpool.py:981: InsecureRequestWarning: Unverified HTTPS request is being made to host '100.123.26.252'. Adding certificate verification is strongly advised. See: https://urllib3.readthedocs.io/en/latest/advanced-usage.html#ssl-warnings\n",
      "  warnings.warn(\n"
     ]
    },
    {
     "name": "stdout",
     "output_type": "stream",
     "text": [
      " dato_param['total']  13 1\n",
      "https://100.123.26.252/api/v2/devices/BC:A9:93:00:30:CA/performance?offset=0&start_time=202110211800&stop_time=202110211859\n",
      "1.-Fecha: 2021-10-21 19:07:08.893157 - Error bucle externo:  404  no trajo datos:  https://100.123.26.224/api/v2/devices/BC:A9:93:00:30:CA/performance?start_time=202110211800&stop_time=202110211859\n",
      "1.-Fecha: 2021-10-21 19:07:08.893157 - Error bucle externo:  404  no trajo datos:  https://100.123.26.252/api/v2/devices/BC:A9:93:00:30:CB/performance?start_time=202110211800&stop_time=202110211859\n",
      " dato_param['total']  12 1\n",
      "https://100.123.26.252/api/v2/devices/BC:A9:93:00:30:D1/performance?offset=0&start_time=202110211800&stop_time=202110211859\n"
     ]
    },
    {
     "name": "stderr",
     "output_type": "stream",
     "text": [
      "/opt/anaconda3/lib/python3.8/site-packages/urllib3/connectionpool.py:981: InsecureRequestWarning: Unverified HTTPS request is being made to host '100.123.26.252'. Adding certificate verification is strongly advised. See: https://urllib3.readthedocs.io/en/latest/advanced-usage.html#ssl-warnings\n",
      "  warnings.warn(\n",
      "/opt/anaconda3/lib/python3.8/site-packages/urllib3/connectionpool.py:981: InsecureRequestWarning: Unverified HTTPS request is being made to host '100.123.26.224'. Adding certificate verification is strongly advised. See: https://urllib3.readthedocs.io/en/latest/advanced-usage.html#ssl-warnings\n",
      "  warnings.warn(\n",
      "/opt/anaconda3/lib/python3.8/site-packages/urllib3/connectionpool.py:981: InsecureRequestWarning: Unverified HTTPS request is being made to host '100.123.26.252'. Adding certificate verification is strongly advised. See: https://urllib3.readthedocs.io/en/latest/advanced-usage.html#ssl-warnings\n",
      "  warnings.warn(\n",
      "/opt/anaconda3/lib/python3.8/site-packages/urllib3/connectionpool.py:981: InsecureRequestWarning: Unverified HTTPS request is being made to host '100.123.26.252'. Adding certificate verification is strongly advised. See: https://urllib3.readthedocs.io/en/latest/advanced-usage.html#ssl-warnings\n",
      "  warnings.warn(\n",
      "/opt/anaconda3/lib/python3.8/site-packages/urllib3/connectionpool.py:981: InsecureRequestWarning: Unverified HTTPS request is being made to host '100.123.26.252'. Adding certificate verification is strongly advised. See: https://urllib3.readthedocs.io/en/latest/advanced-usage.html#ssl-warnings\n",
      "  warnings.warn(\n"
     ]
    },
    {
     "name": "stdout",
     "output_type": "stream",
     "text": [
      "1.-Fecha: 2021-10-21 19:07:08.893157 - Error bucle externo:  404  no trajo datos:  https://100.123.26.224/api/v2/devices/BC:A9:93:00:30:D1/performance?start_time=202110211800&stop_time=202110211859\n",
      "1.-Fecha: 2021-10-21 19:07:08.893157 - Error bucle externo:  404  no trajo datos:  https://100.123.26.252/api/v2/devices/BC:A9:93:00:30:D3/performance?start_time=202110211800&stop_time=202110211859\n",
      " dato_param['total']  1 1\n",
      "https://100.123.26.252/api/v2/devices/BC:A9:93:00:30:D6/performance?offset=0&start_time=202110211800&stop_time=202110211859\n"
     ]
    },
    {
     "name": "stderr",
     "output_type": "stream",
     "text": [
      "/opt/anaconda3/lib/python3.8/site-packages/urllib3/connectionpool.py:981: InsecureRequestWarning: Unverified HTTPS request is being made to host '100.123.26.224'. Adding certificate verification is strongly advised. See: https://urllib3.readthedocs.io/en/latest/advanced-usage.html#ssl-warnings\n",
      "  warnings.warn(\n",
      "/opt/anaconda3/lib/python3.8/site-packages/urllib3/connectionpool.py:981: InsecureRequestWarning: Unverified HTTPS request is being made to host '100.123.26.252'. Adding certificate verification is strongly advised. See: https://urllib3.readthedocs.io/en/latest/advanced-usage.html#ssl-warnings\n",
      "  warnings.warn(\n",
      "/opt/anaconda3/lib/python3.8/site-packages/urllib3/connectionpool.py:981: InsecureRequestWarning: Unverified HTTPS request is being made to host '100.123.26.252'. Adding certificate verification is strongly advised. See: https://urllib3.readthedocs.io/en/latest/advanced-usage.html#ssl-warnings\n",
      "  warnings.warn(\n",
      "/opt/anaconda3/lib/python3.8/site-packages/urllib3/connectionpool.py:981: InsecureRequestWarning: Unverified HTTPS request is being made to host '100.123.26.224'. Adding certificate verification is strongly advised. See: https://urllib3.readthedocs.io/en/latest/advanced-usage.html#ssl-warnings\n",
      "  warnings.warn(\n",
      "/opt/anaconda3/lib/python3.8/site-packages/urllib3/connectionpool.py:981: InsecureRequestWarning: Unverified HTTPS request is being made to host '100.123.26.252'. Adding certificate verification is strongly advised. See: https://urllib3.readthedocs.io/en/latest/advanced-usage.html#ssl-warnings\n",
      "  warnings.warn(\n"
     ]
    },
    {
     "name": "stdout",
     "output_type": "stream",
     "text": [
      "1.-Fecha: 2021-10-21 19:07:08.893157 - Error bucle externo:  404  no trajo datos:  https://100.123.26.224/api/v2/devices/BC:A9:93:00:30:D6/performance?start_time=202110211800&stop_time=202110211859\n",
      " dato_param['total']  13 1\n",
      "https://100.123.26.252/api/v2/devices/BC:A9:93:00:30:D7/performance?offset=0&start_time=202110211800&stop_time=202110211859\n",
      "1.-Fecha: 2021-10-21 19:07:08.893157 - Error bucle externo:  404  no trajo datos:  https://100.123.26.224/api/v2/devices/BC:A9:93:00:30:D7/performance?start_time=202110211800&stop_time=202110211859\n",
      "1.-Fecha: 2021-10-21 19:07:08.893157 - Error bucle externo:  404  no trajo datos:  https://100.123.26.252/api/v2/devices/BC:A9:93:00:30:D8/performance?start_time=202110211800&stop_time=202110211859\n"
     ]
    },
    {
     "name": "stderr",
     "output_type": "stream",
     "text": [
      "/opt/anaconda3/lib/python3.8/site-packages/urllib3/connectionpool.py:981: InsecureRequestWarning: Unverified HTTPS request is being made to host '100.123.26.252'. Adding certificate verification is strongly advised. See: https://urllib3.readthedocs.io/en/latest/advanced-usage.html#ssl-warnings\n",
      "  warnings.warn(\n",
      "/opt/anaconda3/lib/python3.8/site-packages/urllib3/connectionpool.py:981: InsecureRequestWarning: Unverified HTTPS request is being made to host '100.123.26.252'. Adding certificate verification is strongly advised. See: https://urllib3.readthedocs.io/en/latest/advanced-usage.html#ssl-warnings\n",
      "  warnings.warn(\n",
      "/opt/anaconda3/lib/python3.8/site-packages/urllib3/connectionpool.py:981: InsecureRequestWarning: Unverified HTTPS request is being made to host '100.123.26.252'. Adding certificate verification is strongly advised. See: https://urllib3.readthedocs.io/en/latest/advanced-usage.html#ssl-warnings\n",
      "  warnings.warn(\n",
      "/opt/anaconda3/lib/python3.8/site-packages/urllib3/connectionpool.py:981: InsecureRequestWarning: Unverified HTTPS request is being made to host '100.123.26.252'. Adding certificate verification is strongly advised. See: https://urllib3.readthedocs.io/en/latest/advanced-usage.html#ssl-warnings\n",
      "  warnings.warn(\n"
     ]
    },
    {
     "name": "stdout",
     "output_type": "stream",
     "text": [
      "1.-Fecha: 2021-10-21 19:07:08.893157 - Error bucle externo:  404  no trajo datos:  https://100.123.26.252/api/v2/devices/BC:A9:93:00:30:D9/performance?start_time=202110211800&stop_time=202110211859\n",
      "1.-Fecha: 2021-10-21 19:07:08.893157 - Error bucle externo:  404  no trajo datos:  https://100.123.26.252/api/v2/devices/BC:A9:93:00:30:E6/performance?start_time=202110211800&stop_time=202110211859\n",
      " dato_param['total']  13 1\n",
      "https://100.123.26.252/api/v2/devices/BC:A9:93:00:30:E7/performance?offset=0&start_time=202110211800&stop_time=202110211859\n"
     ]
    },
    {
     "name": "stderr",
     "output_type": "stream",
     "text": [
      "/opt/anaconda3/lib/python3.8/site-packages/urllib3/connectionpool.py:981: InsecureRequestWarning: Unverified HTTPS request is being made to host '100.123.26.224'. Adding certificate verification is strongly advised. See: https://urllib3.readthedocs.io/en/latest/advanced-usage.html#ssl-warnings\n",
      "  warnings.warn(\n",
      "/opt/anaconda3/lib/python3.8/site-packages/urllib3/connectionpool.py:981: InsecureRequestWarning: Unverified HTTPS request is being made to host '100.123.26.252'. Adding certificate verification is strongly advised. See: https://urllib3.readthedocs.io/en/latest/advanced-usage.html#ssl-warnings\n",
      "  warnings.warn(\n",
      "/opt/anaconda3/lib/python3.8/site-packages/urllib3/connectionpool.py:981: InsecureRequestWarning: Unverified HTTPS request is being made to host '100.123.26.252'. Adding certificate verification is strongly advised. See: https://urllib3.readthedocs.io/en/latest/advanced-usage.html#ssl-warnings\n",
      "  warnings.warn(\n",
      "/opt/anaconda3/lib/python3.8/site-packages/urllib3/connectionpool.py:981: InsecureRequestWarning: Unverified HTTPS request is being made to host '100.123.26.224'. Adding certificate verification is strongly advised. See: https://urllib3.readthedocs.io/en/latest/advanced-usage.html#ssl-warnings\n",
      "  warnings.warn(\n",
      "/opt/anaconda3/lib/python3.8/site-packages/urllib3/connectionpool.py:981: InsecureRequestWarning: Unverified HTTPS request is being made to host '100.123.26.252'. Adding certificate verification is strongly advised. See: https://urllib3.readthedocs.io/en/latest/advanced-usage.html#ssl-warnings\n",
      "  warnings.warn(\n"
     ]
    },
    {
     "name": "stdout",
     "output_type": "stream",
     "text": [
      "1.-Fecha: 2021-10-21 19:07:08.893157 - Error bucle externo:  404  no trajo datos:  https://100.123.26.224/api/v2/devices/BC:A9:93:00:30:E7/performance?start_time=202110211800&stop_time=202110211859\n",
      " dato_param['total']  1 1\n",
      "https://100.123.26.252/api/v2/devices/BC:A9:93:00:30:E8/performance?offset=0&start_time=202110211800&stop_time=202110211859\n",
      "1.-Fecha: 2021-10-21 19:07:08.893157 - Error bucle externo:  422  no trajo datos:  https://100.123.26.224/api/v2/devices/BC:A9:93:00:30:E8/performance?start_time=202110211800&stop_time=202110211859\n",
      "1.-Fecha: 2021-10-21 19:07:08.893157 - Error bucle externo:  404  no trajo datos:  https://100.123.26.252/api/v2/devices/BC:A9:93:00:30:E9/performance?start_time=202110211800&stop_time=202110211859\n"
     ]
    },
    {
     "name": "stderr",
     "output_type": "stream",
     "text": [
      "/opt/anaconda3/lib/python3.8/site-packages/urllib3/connectionpool.py:981: InsecureRequestWarning: Unverified HTTPS request is being made to host '100.123.26.252'. Adding certificate verification is strongly advised. See: https://urllib3.readthedocs.io/en/latest/advanced-usage.html#ssl-warnings\n",
      "  warnings.warn(\n",
      "/opt/anaconda3/lib/python3.8/site-packages/urllib3/connectionpool.py:981: InsecureRequestWarning: Unverified HTTPS request is being made to host '100.123.26.252'. Adding certificate verification is strongly advised. See: https://urllib3.readthedocs.io/en/latest/advanced-usage.html#ssl-warnings\n",
      "  warnings.warn(\n",
      "/opt/anaconda3/lib/python3.8/site-packages/urllib3/connectionpool.py:981: InsecureRequestWarning: Unverified HTTPS request is being made to host '100.123.26.224'. Adding certificate verification is strongly advised. See: https://urllib3.readthedocs.io/en/latest/advanced-usage.html#ssl-warnings\n",
      "  warnings.warn(\n",
      "/opt/anaconda3/lib/python3.8/site-packages/urllib3/connectionpool.py:981: InsecureRequestWarning: Unverified HTTPS request is being made to host '100.123.26.252'. Adding certificate verification is strongly advised. See: https://urllib3.readthedocs.io/en/latest/advanced-usage.html#ssl-warnings\n",
      "  warnings.warn(\n"
     ]
    },
    {
     "name": "stdout",
     "output_type": "stream",
     "text": [
      " dato_param['total']  13 1\n",
      "https://100.123.26.252/api/v2/devices/BC:A9:93:00:30:EB/performance?offset=0&start_time=202110211800&stop_time=202110211859\n",
      "1.-Fecha: 2021-10-21 19:07:08.893157 - Error bucle externo:  404  no trajo datos:  https://100.123.26.224/api/v2/devices/BC:A9:93:00:30:EB/performance?start_time=202110211800&stop_time=202110211859\n",
      " dato_param['total']  12 1\n",
      "https://100.123.26.252/api/v2/devices/BC:A9:93:00:30:EC/performance?offset=0&start_time=202110211800&stop_time=202110211859\n",
      "1.-Fecha: 2021-10-21 19:07:08.893157 - Error bucle externo:  404  no trajo datos:  https://100.123.26.224/api/v2/devices/BC:A9:93:00:30:EC/performance?start_time=202110211800&stop_time=202110211859\n",
      "1.-Fecha: 2021-10-21 19:07:08.893157 - Error bucle externo:  404  no trajo datos:  https://100.123.26.252/api/v2/devices/BC:A9:93:00:30:ED/performance?start_time=202110211800&stop_time=202110211859\n",
      "1.-Fecha: 2021-10-21 19:07:08.893157 - Error bucle externo:  404  no trajo datos:  https://100.123.26.252/api/v2/devices/BC:A9:93:00:30:EE/performance?start_time=202110211800&stop_time=202110211859\n"
     ]
    },
    {
     "name": "stderr",
     "output_type": "stream",
     "text": [
      "/opt/anaconda3/lib/python3.8/site-packages/urllib3/connectionpool.py:981: InsecureRequestWarning: Unverified HTTPS request is being made to host '100.123.26.252'. Adding certificate verification is strongly advised. See: https://urllib3.readthedocs.io/en/latest/advanced-usage.html#ssl-warnings\n",
      "  warnings.warn(\n",
      "/opt/anaconda3/lib/python3.8/site-packages/urllib3/connectionpool.py:981: InsecureRequestWarning: Unverified HTTPS request is being made to host '100.123.26.224'. Adding certificate verification is strongly advised. See: https://urllib3.readthedocs.io/en/latest/advanced-usage.html#ssl-warnings\n",
      "  warnings.warn(\n",
      "/opt/anaconda3/lib/python3.8/site-packages/urllib3/connectionpool.py:981: InsecureRequestWarning: Unverified HTTPS request is being made to host '100.123.26.252'. Adding certificate verification is strongly advised. See: https://urllib3.readthedocs.io/en/latest/advanced-usage.html#ssl-warnings\n",
      "  warnings.warn(\n",
      "/opt/anaconda3/lib/python3.8/site-packages/urllib3/connectionpool.py:981: InsecureRequestWarning: Unverified HTTPS request is being made to host '100.123.26.252'. Adding certificate verification is strongly advised. See: https://urllib3.readthedocs.io/en/latest/advanced-usage.html#ssl-warnings\n",
      "  warnings.warn(\n",
      "/opt/anaconda3/lib/python3.8/site-packages/urllib3/connectionpool.py:981: InsecureRequestWarning: Unverified HTTPS request is being made to host '100.123.26.252'. Adding certificate verification is strongly advised. See: https://urllib3.readthedocs.io/en/latest/advanced-usage.html#ssl-warnings\n",
      "  warnings.warn(\n"
     ]
    },
    {
     "name": "stdout",
     "output_type": "stream",
     "text": [
      "1.-Fecha: 2021-10-21 19:07:08.893157 - Error bucle externo:  404  no trajo datos:  https://100.123.26.252/api/v2/devices/BC:A9:93:00:30:EF/performance?start_time=202110211800&stop_time=202110211859\n",
      " dato_param['total']  12 1\n",
      "https://100.123.26.252/api/v2/devices/BC:A9:93:00:30:F5/performance?offset=0&start_time=202110211800&stop_time=202110211859\n",
      "1.-Fecha: 2021-10-21 19:07:08.893157 - Error bucle externo:  404  no trajo datos:  https://100.123.26.224/api/v2/devices/BC:A9:93:00:30:F5/performance?start_time=202110211800&stop_time=202110211859\n",
      "1.-Fecha: 2021-10-21 19:07:08.893157 - Error bucle externo:  422  no trajo datos:  https://100.123.26.252/api/v2/devices/BC:A9:93:00:30:FA/performance?start_time=202110211800&stop_time=202110211859\n"
     ]
    },
    {
     "name": "stderr",
     "output_type": "stream",
     "text": [
      "/opt/anaconda3/lib/python3.8/site-packages/urllib3/connectionpool.py:981: InsecureRequestWarning: Unverified HTTPS request is being made to host '100.123.26.252'. Adding certificate verification is strongly advised. See: https://urllib3.readthedocs.io/en/latest/advanced-usage.html#ssl-warnings\n",
      "  warnings.warn(\n",
      "/opt/anaconda3/lib/python3.8/site-packages/urllib3/connectionpool.py:981: InsecureRequestWarning: Unverified HTTPS request is being made to host '100.123.26.252'. Adding certificate verification is strongly advised. See: https://urllib3.readthedocs.io/en/latest/advanced-usage.html#ssl-warnings\n",
      "  warnings.warn(\n",
      "/opt/anaconda3/lib/python3.8/site-packages/urllib3/connectionpool.py:981: InsecureRequestWarning: Unverified HTTPS request is being made to host '100.123.26.224'. Adding certificate verification is strongly advised. See: https://urllib3.readthedocs.io/en/latest/advanced-usage.html#ssl-warnings\n",
      "  warnings.warn(\n",
      "/opt/anaconda3/lib/python3.8/site-packages/urllib3/connectionpool.py:981: InsecureRequestWarning: Unverified HTTPS request is being made to host '100.123.26.252'. Adding certificate verification is strongly advised. See: https://urllib3.readthedocs.io/en/latest/advanced-usage.html#ssl-warnings\n",
      "  warnings.warn(\n",
      "/opt/anaconda3/lib/python3.8/site-packages/urllib3/connectionpool.py:981: InsecureRequestWarning: Unverified HTTPS request is being made to host '100.123.26.252'. Adding certificate verification is strongly advised. See: https://urllib3.readthedocs.io/en/latest/advanced-usage.html#ssl-warnings\n",
      "  warnings.warn(\n"
     ]
    },
    {
     "name": "stdout",
     "output_type": "stream",
     "text": [
      " dato_param['total']  12 1\n",
      "https://100.123.26.252/api/v2/devices/BC:A9:93:00:30:FB/performance?offset=0&start_time=202110211800&stop_time=202110211859\n",
      "1.-Fecha: 2021-10-21 19:07:08.893157 - Error bucle externo:  404  no trajo datos:  https://100.123.26.224/api/v2/devices/BC:A9:93:00:30:FB/performance?start_time=202110211800&stop_time=202110211859\n",
      " dato_param['total']  13 1\n",
      "https://100.123.26.252/api/v2/devices/BC:A9:93:00:31:05/performance?offset=0&start_time=202110211800&stop_time=202110211859\n"
     ]
    },
    {
     "name": "stderr",
     "output_type": "stream",
     "text": [
      "/opt/anaconda3/lib/python3.8/site-packages/urllib3/connectionpool.py:981: InsecureRequestWarning: Unverified HTTPS request is being made to host '100.123.26.252'. Adding certificate verification is strongly advised. See: https://urllib3.readthedocs.io/en/latest/advanced-usage.html#ssl-warnings\n",
      "  warnings.warn(\n",
      "/opt/anaconda3/lib/python3.8/site-packages/urllib3/connectionpool.py:981: InsecureRequestWarning: Unverified HTTPS request is being made to host '100.123.26.224'. Adding certificate verification is strongly advised. See: https://urllib3.readthedocs.io/en/latest/advanced-usage.html#ssl-warnings\n",
      "  warnings.warn(\n",
      "/opt/anaconda3/lib/python3.8/site-packages/urllib3/connectionpool.py:981: InsecureRequestWarning: Unverified HTTPS request is being made to host '100.123.26.252'. Adding certificate verification is strongly advised. See: https://urllib3.readthedocs.io/en/latest/advanced-usage.html#ssl-warnings\n",
      "  warnings.warn(\n",
      "/opt/anaconda3/lib/python3.8/site-packages/urllib3/connectionpool.py:981: InsecureRequestWarning: Unverified HTTPS request is being made to host '100.123.26.252'. Adding certificate verification is strongly advised. See: https://urllib3.readthedocs.io/en/latest/advanced-usage.html#ssl-warnings\n",
      "  warnings.warn(\n",
      "/opt/anaconda3/lib/python3.8/site-packages/urllib3/connectionpool.py:981: InsecureRequestWarning: Unverified HTTPS request is being made to host '100.123.26.224'. Adding certificate verification is strongly advised. See: https://urllib3.readthedocs.io/en/latest/advanced-usage.html#ssl-warnings\n",
      "  warnings.warn(\n",
      "/opt/anaconda3/lib/python3.8/site-packages/urllib3/connectionpool.py:981: InsecureRequestWarning: Unverified HTTPS request is being made to host '100.123.26.252'. Adding certificate verification is strongly advised. See: https://urllib3.readthedocs.io/en/latest/advanced-usage.html#ssl-warnings\n",
      "  warnings.warn(\n",
      "/opt/anaconda3/lib/python3.8/site-packages/urllib3/connectionpool.py:981: InsecureRequestWarning: Unverified HTTPS request is being made to host '100.123.26.252'. Adding certificate verification is strongly advised. See: https://urllib3.readthedocs.io/en/latest/advanced-usage.html#ssl-warnings\n",
      "  warnings.warn(\n"
     ]
    },
    {
     "name": "stdout",
     "output_type": "stream",
     "text": [
      "1.-Fecha: 2021-10-21 19:07:08.893157 - Error bucle externo:  404  no trajo datos:  https://100.123.26.224/api/v2/devices/BC:A9:93:00:31:05/performance?start_time=202110211800&stop_time=202110211859\n",
      " dato_param['total']  13 1\n",
      "https://100.123.26.252/api/v2/devices/BC:A9:93:00:31:06/performance?offset=0&start_time=202110211800&stop_time=202110211859\n",
      "1.-Fecha: 2021-10-21 19:07:08.893157 - Error bucle externo:  404  no trajo datos:  https://100.123.26.224/api/v2/devices/BC:A9:93:00:31:06/performance?start_time=202110211800&stop_time=202110211859\n"
     ]
    },
    {
     "name": "stderr",
     "output_type": "stream",
     "text": [
      "/opt/anaconda3/lib/python3.8/site-packages/urllib3/connectionpool.py:981: InsecureRequestWarning: Unverified HTTPS request is being made to host '100.123.26.224'. Adding certificate verification is strongly advised. See: https://urllib3.readthedocs.io/en/latest/advanced-usage.html#ssl-warnings\n",
      "  warnings.warn(\n",
      "/opt/anaconda3/lib/python3.8/site-packages/urllib3/connectionpool.py:981: InsecureRequestWarning: Unverified HTTPS request is being made to host '100.123.26.252'. Adding certificate verification is strongly advised. See: https://urllib3.readthedocs.io/en/latest/advanced-usage.html#ssl-warnings\n",
      "  warnings.warn(\n",
      "/opt/anaconda3/lib/python3.8/site-packages/urllib3/connectionpool.py:981: InsecureRequestWarning: Unverified HTTPS request is being made to host '100.123.26.252'. Adding certificate verification is strongly advised. See: https://urllib3.readthedocs.io/en/latest/advanced-usage.html#ssl-warnings\n",
      "  warnings.warn(\n",
      "/opt/anaconda3/lib/python3.8/site-packages/urllib3/connectionpool.py:981: InsecureRequestWarning: Unverified HTTPS request is being made to host '100.123.26.224'. Adding certificate verification is strongly advised. See: https://urllib3.readthedocs.io/en/latest/advanced-usage.html#ssl-warnings\n",
      "  warnings.warn(\n"
     ]
    },
    {
     "name": "stdout",
     "output_type": "stream",
     "text": [
      " dato_param['total']  13 1\n",
      "https://100.123.26.252/api/v2/devices/BC:A9:93:00:31:08/performance?offset=0&start_time=202110211800&stop_time=202110211859\n",
      "1.-Fecha: 2021-10-21 19:07:08.893157 - Error bucle externo:  404  no trajo datos:  https://100.123.26.224/api/v2/devices/BC:A9:93:00:31:08/performance?start_time=202110211800&stop_time=202110211859\n",
      "1.-Fecha: 2021-10-21 19:07:08.893157 - Error bucle externo:  404  no trajo datos:  https://100.123.26.252/api/v2/devices/BC:A9:93:00:31:0A/performance?start_time=202110211800&stop_time=202110211859\n",
      " dato_param['total']  12 1\n",
      "https://100.123.26.252/api/v2/devices/BC:A9:93:00:31:0D/performance?offset=0&start_time=202110211800&stop_time=202110211859\n"
     ]
    },
    {
     "name": "stderr",
     "output_type": "stream",
     "text": [
      "/opt/anaconda3/lib/python3.8/site-packages/urllib3/connectionpool.py:981: InsecureRequestWarning: Unverified HTTPS request is being made to host '100.123.26.252'. Adding certificate verification is strongly advised. See: https://urllib3.readthedocs.io/en/latest/advanced-usage.html#ssl-warnings\n",
      "  warnings.warn(\n",
      "/opt/anaconda3/lib/python3.8/site-packages/urllib3/connectionpool.py:981: InsecureRequestWarning: Unverified HTTPS request is being made to host '100.123.26.252'. Adding certificate verification is strongly advised. See: https://urllib3.readthedocs.io/en/latest/advanced-usage.html#ssl-warnings\n",
      "  warnings.warn(\n",
      "/opt/anaconda3/lib/python3.8/site-packages/urllib3/connectionpool.py:981: InsecureRequestWarning: Unverified HTTPS request is being made to host '100.123.26.252'. Adding certificate verification is strongly advised. See: https://urllib3.readthedocs.io/en/latest/advanced-usage.html#ssl-warnings\n",
      "  warnings.warn(\n",
      "/opt/anaconda3/lib/python3.8/site-packages/urllib3/connectionpool.py:981: InsecureRequestWarning: Unverified HTTPS request is being made to host '100.123.26.224'. Adding certificate verification is strongly advised. See: https://urllib3.readthedocs.io/en/latest/advanced-usage.html#ssl-warnings\n",
      "  warnings.warn(\n",
      "/opt/anaconda3/lib/python3.8/site-packages/urllib3/connectionpool.py:981: InsecureRequestWarning: Unverified HTTPS request is being made to host '100.123.26.252'. Adding certificate verification is strongly advised. See: https://urllib3.readthedocs.io/en/latest/advanced-usage.html#ssl-warnings\n",
      "  warnings.warn(\n"
     ]
    },
    {
     "name": "stdout",
     "output_type": "stream",
     "text": [
      "1.-Fecha: 2021-10-21 19:07:08.893157 - Error bucle externo:  404  no trajo datos:  https://100.123.26.224/api/v2/devices/BC:A9:93:00:31:0D/performance?start_time=202110211800&stop_time=202110211859\n",
      " dato_param['total']  12 1\n",
      "https://100.123.26.252/api/v2/devices/BC:A9:93:00:31:0E/performance?offset=0&start_time=202110211800&stop_time=202110211859\n",
      "1.-Fecha: 2021-10-21 19:07:08.893157 - Error bucle externo:  404  no trajo datos:  https://100.123.26.224/api/v2/devices/BC:A9:93:00:31:0E/performance?start_time=202110211800&stop_time=202110211859\n"
     ]
    },
    {
     "name": "stderr",
     "output_type": "stream",
     "text": [
      "/opt/anaconda3/lib/python3.8/site-packages/urllib3/connectionpool.py:981: InsecureRequestWarning: Unverified HTTPS request is being made to host '100.123.26.252'. Adding certificate verification is strongly advised. See: https://urllib3.readthedocs.io/en/latest/advanced-usage.html#ssl-warnings\n",
      "  warnings.warn(\n",
      "/opt/anaconda3/lib/python3.8/site-packages/urllib3/connectionpool.py:981: InsecureRequestWarning: Unverified HTTPS request is being made to host '100.123.26.224'. Adding certificate verification is strongly advised. See: https://urllib3.readthedocs.io/en/latest/advanced-usage.html#ssl-warnings\n",
      "  warnings.warn(\n",
      "/opt/anaconda3/lib/python3.8/site-packages/urllib3/connectionpool.py:981: InsecureRequestWarning: Unverified HTTPS request is being made to host '100.123.26.252'. Adding certificate verification is strongly advised. See: https://urllib3.readthedocs.io/en/latest/advanced-usage.html#ssl-warnings\n",
      "  warnings.warn(\n"
     ]
    },
    {
     "name": "stdout",
     "output_type": "stream",
     "text": [
      "1.-Fecha: 2021-10-21 19:07:08.893157 - Error bucle externo:  404  no trajo datos:  https://100.123.26.252/api/v2/devices/BC:A9:93:00:31:12/performance?start_time=202110211800&stop_time=202110211859\n",
      " dato_param['total']  13 1\n",
      "https://100.123.26.252/api/v2/devices/BC:A9:93:00:31:15/performance?offset=0&start_time=202110211800&stop_time=202110211859\n"
     ]
    },
    {
     "name": "stderr",
     "output_type": "stream",
     "text": [
      "/opt/anaconda3/lib/python3.8/site-packages/urllib3/connectionpool.py:981: InsecureRequestWarning: Unverified HTTPS request is being made to host '100.123.26.252'. Adding certificate verification is strongly advised. See: https://urllib3.readthedocs.io/en/latest/advanced-usage.html#ssl-warnings\n",
      "  warnings.warn(\n",
      "/opt/anaconda3/lib/python3.8/site-packages/urllib3/connectionpool.py:981: InsecureRequestWarning: Unverified HTTPS request is being made to host '100.123.26.252'. Adding certificate verification is strongly advised. See: https://urllib3.readthedocs.io/en/latest/advanced-usage.html#ssl-warnings\n",
      "  warnings.warn(\n",
      "/opt/anaconda3/lib/python3.8/site-packages/urllib3/connectionpool.py:981: InsecureRequestWarning: Unverified HTTPS request is being made to host '100.123.26.224'. Adding certificate verification is strongly advised. See: https://urllib3.readthedocs.io/en/latest/advanced-usage.html#ssl-warnings\n",
      "  warnings.warn(\n"
     ]
    },
    {
     "name": "stdout",
     "output_type": "stream",
     "text": [
      "1.-Fecha: 2021-10-21 19:07:08.893157 - Error bucle externo:  404  no trajo datos:  https://100.123.26.224/api/v2/devices/BC:A9:93:00:31:15/performance?start_time=202110211800&stop_time=202110211859\n",
      "1.-Fecha: 2021-10-21 19:07:08.893157 - Error bucle externo:  404  no trajo datos:  https://100.123.26.252/api/v2/devices/BC:A9:93:00:31:17/performance?start_time=202110211800&stop_time=202110211859\n",
      "1.-Fecha: 2021-10-21 19:07:08.893157 - Error bucle externo:  404  no trajo datos:  https://100.123.26.252/api/v2/devices/BC:A9:93:00:31:19/performance?start_time=202110211800&stop_time=202110211859\n",
      " dato_param['total']  1 1\n",
      "https://100.123.26.252/api/v2/devices/BC:A9:93:00:31:1A/performance?offset=0&start_time=202110211800&stop_time=202110211859\n"
     ]
    },
    {
     "name": "stderr",
     "output_type": "stream",
     "text": [
      "/opt/anaconda3/lib/python3.8/site-packages/urllib3/connectionpool.py:981: InsecureRequestWarning: Unverified HTTPS request is being made to host '100.123.26.252'. Adding certificate verification is strongly advised. See: https://urllib3.readthedocs.io/en/latest/advanced-usage.html#ssl-warnings\n",
      "  warnings.warn(\n",
      "/opt/anaconda3/lib/python3.8/site-packages/urllib3/connectionpool.py:981: InsecureRequestWarning: Unverified HTTPS request is being made to host '100.123.26.252'. Adding certificate verification is strongly advised. See: https://urllib3.readthedocs.io/en/latest/advanced-usage.html#ssl-warnings\n",
      "  warnings.warn(\n",
      "/opt/anaconda3/lib/python3.8/site-packages/urllib3/connectionpool.py:981: InsecureRequestWarning: Unverified HTTPS request is being made to host '100.123.26.252'. Adding certificate verification is strongly advised. See: https://urllib3.readthedocs.io/en/latest/advanced-usage.html#ssl-warnings\n",
      "  warnings.warn(\n",
      "/opt/anaconda3/lib/python3.8/site-packages/urllib3/connectionpool.py:981: InsecureRequestWarning: Unverified HTTPS request is being made to host '100.123.26.252'. Adding certificate verification is strongly advised. See: https://urllib3.readthedocs.io/en/latest/advanced-usage.html#ssl-warnings\n",
      "  warnings.warn(\n",
      "/opt/anaconda3/lib/python3.8/site-packages/urllib3/connectionpool.py:981: InsecureRequestWarning: Unverified HTTPS request is being made to host '100.123.26.224'. Adding certificate verification is strongly advised. See: https://urllib3.readthedocs.io/en/latest/advanced-usage.html#ssl-warnings\n",
      "  warnings.warn(\n"
     ]
    },
    {
     "name": "stdout",
     "output_type": "stream",
     "text": [
      "1.-Fecha: 2021-10-21 19:07:08.893157 - Error bucle externo:  404  no trajo datos:  https://100.123.26.224/api/v2/devices/BC:A9:93:00:31:1A/performance?start_time=202110211800&stop_time=202110211859\n",
      "1.-Fecha: 2021-10-21 19:07:08.893157 - Error bucle externo:  404  no trajo datos:  https://100.123.26.252/api/v2/devices/BC:A9:93:00:31:1C/performance?start_time=202110211800&stop_time=202110211859\n",
      "1.-Fecha: 2021-10-21 19:07:08.893157 - Error bucle externo:  404  no trajo datos:  https://100.123.26.252/api/v2/devices/BC:A9:93:00:31:1D/performance?start_time=202110211800&stop_time=202110211859\n",
      "1.-Fecha: 2021-10-21 19:07:08.893157 - Error bucle externo:  404  no trajo datos:  https://100.123.26.252/api/v2/devices/BC:A9:93:00:31:1E/performance?start_time=202110211800&stop_time=202110211859\n"
     ]
    },
    {
     "name": "stderr",
     "output_type": "stream",
     "text": [
      "/opt/anaconda3/lib/python3.8/site-packages/urllib3/connectionpool.py:981: InsecureRequestWarning: Unverified HTTPS request is being made to host '100.123.26.252'. Adding certificate verification is strongly advised. See: https://urllib3.readthedocs.io/en/latest/advanced-usage.html#ssl-warnings\n",
      "  warnings.warn(\n",
      "/opt/anaconda3/lib/python3.8/site-packages/urllib3/connectionpool.py:981: InsecureRequestWarning: Unverified HTTPS request is being made to host '100.123.26.252'. Adding certificate verification is strongly advised. See: https://urllib3.readthedocs.io/en/latest/advanced-usage.html#ssl-warnings\n",
      "  warnings.warn(\n",
      "/opt/anaconda3/lib/python3.8/site-packages/urllib3/connectionpool.py:981: InsecureRequestWarning: Unverified HTTPS request is being made to host '100.123.26.252'. Adding certificate verification is strongly advised. See: https://urllib3.readthedocs.io/en/latest/advanced-usage.html#ssl-warnings\n",
      "  warnings.warn(\n",
      "/opt/anaconda3/lib/python3.8/site-packages/urllib3/connectionpool.py:981: InsecureRequestWarning: Unverified HTTPS request is being made to host '100.123.26.252'. Adding certificate verification is strongly advised. See: https://urllib3.readthedocs.io/en/latest/advanced-usage.html#ssl-warnings\n",
      "  warnings.warn(\n"
     ]
    },
    {
     "name": "stdout",
     "output_type": "stream",
     "text": [
      "1.-Fecha: 2021-10-21 19:07:08.893157 - Error bucle externo:  404  no trajo datos:  https://100.123.26.252/api/v2/devices/BC:A9:93:00:31:2E/performance?start_time=202110211800&stop_time=202110211859\n",
      "1.-Fecha: 2021-10-21 19:07:08.893157 - Error bucle externo:  404  no trajo datos:  https://100.123.26.252/api/v2/devices/BC:A9:93:00:31:2F/performance?start_time=202110211800&stop_time=202110211859\n",
      "1.-Fecha: 2021-10-21 19:07:08.893157 - Error bucle externo:  404  no trajo datos:  https://100.123.26.252/api/v2/devices/BC:A9:93:00:31:30/performance?start_time=202110211800&stop_time=202110211859\n",
      " dato_param['total']  13 1\n",
      "https://100.123.26.252/api/v2/devices/BC:A9:93:00:31:31/performance?offset=0&start_time=202110211800&stop_time=202110211859\n"
     ]
    },
    {
     "name": "stderr",
     "output_type": "stream",
     "text": [
      "/opt/anaconda3/lib/python3.8/site-packages/urllib3/connectionpool.py:981: InsecureRequestWarning: Unverified HTTPS request is being made to host '100.123.26.252'. Adding certificate verification is strongly advised. See: https://urllib3.readthedocs.io/en/latest/advanced-usage.html#ssl-warnings\n",
      "  warnings.warn(\n",
      "/opt/anaconda3/lib/python3.8/site-packages/urllib3/connectionpool.py:981: InsecureRequestWarning: Unverified HTTPS request is being made to host '100.123.26.252'. Adding certificate verification is strongly advised. See: https://urllib3.readthedocs.io/en/latest/advanced-usage.html#ssl-warnings\n",
      "  warnings.warn(\n",
      "/opt/anaconda3/lib/python3.8/site-packages/urllib3/connectionpool.py:981: InsecureRequestWarning: Unverified HTTPS request is being made to host '100.123.26.252'. Adding certificate verification is strongly advised. See: https://urllib3.readthedocs.io/en/latest/advanced-usage.html#ssl-warnings\n",
      "  warnings.warn(\n",
      "/opt/anaconda3/lib/python3.8/site-packages/urllib3/connectionpool.py:981: InsecureRequestWarning: Unverified HTTPS request is being made to host '100.123.26.252'. Adding certificate verification is strongly advised. See: https://urllib3.readthedocs.io/en/latest/advanced-usage.html#ssl-warnings\n",
      "  warnings.warn(\n",
      "/opt/anaconda3/lib/python3.8/site-packages/urllib3/connectionpool.py:981: InsecureRequestWarning: Unverified HTTPS request is being made to host '100.123.26.224'. Adding certificate verification is strongly advised. See: https://urllib3.readthedocs.io/en/latest/advanced-usage.html#ssl-warnings\n",
      "  warnings.warn(\n",
      "/opt/anaconda3/lib/python3.8/site-packages/urllib3/connectionpool.py:981: InsecureRequestWarning: Unverified HTTPS request is being made to host '100.123.26.252'. Adding certificate verification is strongly advised. See: https://urllib3.readthedocs.io/en/latest/advanced-usage.html#ssl-warnings\n",
      "  warnings.warn(\n",
      "/opt/anaconda3/lib/python3.8/site-packages/urllib3/connectionpool.py:981: InsecureRequestWarning: Unverified HTTPS request is being made to host '100.123.26.252'. Adding certificate verification is strongly advised. See: https://urllib3.readthedocs.io/en/latest/advanced-usage.html#ssl-warnings\n",
      "  warnings.warn(\n",
      "/opt/anaconda3/lib/python3.8/site-packages/urllib3/connectionpool.py:981: InsecureRequestWarning: Unverified HTTPS request is being made to host '100.123.26.252'. Adding certificate verification is strongly advised. See: https://urllib3.readthedocs.io/en/latest/advanced-usage.html#ssl-warnings\n",
      "  warnings.warn(\n",
      "/opt/anaconda3/lib/python3.8/site-packages/urllib3/connectionpool.py:981: InsecureRequestWarning: Unverified HTTPS request is being made to host '100.123.26.224'. Adding certificate verification is strongly advised. See: https://urllib3.readthedocs.io/en/latest/advanced-usage.html#ssl-warnings\n",
      "  warnings.warn(\n"
     ]
    },
    {
     "name": "stdout",
     "output_type": "stream",
     "text": [
      "1.-Fecha: 2021-10-21 19:07:08.893157 - Error bucle externo:  404  no trajo datos:  https://100.123.26.224/api/v2/devices/BC:A9:93:00:31:31/performance?start_time=202110211800&stop_time=202110211859\n",
      "1.-Fecha: 2021-10-21 19:07:08.893157 - Error bucle externo:  404  no trajo datos:  https://100.123.26.252/api/v2/devices/BC:A9:93:00:31:40/performance?start_time=202110211800&stop_time=202110211859\n",
      " dato_param['total']  1 1\n",
      "https://100.123.26.252/api/v2/devices/BC:A9:93:00:31:43/performance?offset=0&start_time=202110211800&stop_time=202110211859\n",
      "1.-Fecha: 2021-10-21 19:07:08.893157 - Error bucle externo:  404  no trajo datos:  https://100.123.26.224/api/v2/devices/BC:A9:93:00:31:43/performance?start_time=202110211800&stop_time=202110211859\n",
      "1.-Fecha: 2021-10-21 19:07:08.893157 - Error bucle externo:  404  no trajo datos:  https://100.123.26.252/api/v2/devices/BC:A9:93:00:31:45/performance?start_time=202110211800&stop_time=202110211859\n",
      " dato_param['total']  12 1\n",
      "https://100.123.26.252/api/v2/devices/BC:A9:93:00:31:46/performance?offset=0&start_time=202110211800&stop_time=202110211859\n"
     ]
    },
    {
     "name": "stderr",
     "output_type": "stream",
     "text": [
      "/opt/anaconda3/lib/python3.8/site-packages/urllib3/connectionpool.py:981: InsecureRequestWarning: Unverified HTTPS request is being made to host '100.123.26.252'. Adding certificate verification is strongly advised. See: https://urllib3.readthedocs.io/en/latest/advanced-usage.html#ssl-warnings\n",
      "  warnings.warn(\n",
      "/opt/anaconda3/lib/python3.8/site-packages/urllib3/connectionpool.py:981: InsecureRequestWarning: Unverified HTTPS request is being made to host '100.123.26.252'. Adding certificate verification is strongly advised. See: https://urllib3.readthedocs.io/en/latest/advanced-usage.html#ssl-warnings\n",
      "  warnings.warn(\n",
      "/opt/anaconda3/lib/python3.8/site-packages/urllib3/connectionpool.py:981: InsecureRequestWarning: Unverified HTTPS request is being made to host '100.123.26.252'. Adding certificate verification is strongly advised. See: https://urllib3.readthedocs.io/en/latest/advanced-usage.html#ssl-warnings\n",
      "  warnings.warn(\n",
      "/opt/anaconda3/lib/python3.8/site-packages/urllib3/connectionpool.py:981: InsecureRequestWarning: Unverified HTTPS request is being made to host '100.123.26.224'. Adding certificate verification is strongly advised. See: https://urllib3.readthedocs.io/en/latest/advanced-usage.html#ssl-warnings\n",
      "  warnings.warn(\n",
      "/opt/anaconda3/lib/python3.8/site-packages/urllib3/connectionpool.py:981: InsecureRequestWarning: Unverified HTTPS request is being made to host '100.123.26.252'. Adding certificate verification is strongly advised. See: https://urllib3.readthedocs.io/en/latest/advanced-usage.html#ssl-warnings\n",
      "  warnings.warn(\n",
      "/opt/anaconda3/lib/python3.8/site-packages/urllib3/connectionpool.py:981: InsecureRequestWarning: Unverified HTTPS request is being made to host '100.123.26.252'. Adding certificate verification is strongly advised. See: https://urllib3.readthedocs.io/en/latest/advanced-usage.html#ssl-warnings\n",
      "  warnings.warn(\n",
      "/opt/anaconda3/lib/python3.8/site-packages/urllib3/connectionpool.py:981: InsecureRequestWarning: Unverified HTTPS request is being made to host '100.123.26.252'. Adding certificate verification is strongly advised. See: https://urllib3.readthedocs.io/en/latest/advanced-usage.html#ssl-warnings\n",
      "  warnings.warn(\n",
      "/opt/anaconda3/lib/python3.8/site-packages/urllib3/connectionpool.py:981: InsecureRequestWarning: Unverified HTTPS request is being made to host '100.123.26.252'. Adding certificate verification is strongly advised. See: https://urllib3.readthedocs.io/en/latest/advanced-usage.html#ssl-warnings\n",
      "  warnings.warn(\n"
     ]
    },
    {
     "name": "stdout",
     "output_type": "stream",
     "text": [
      "1.-Fecha: 2021-10-21 19:07:08.893157 - Error bucle externo:  404  no trajo datos:  https://100.123.26.224/api/v2/devices/BC:A9:93:00:31:46/performance?start_time=202110211800&stop_time=202110211859\n",
      "1.-Fecha: 2021-10-21 19:07:08.893157 - Error bucle externo:  404  no trajo datos:  https://100.123.26.252/api/v2/devices/BC:A9:93:00:31:47/performance?start_time=202110211800&stop_time=202110211859\n",
      "1.-Fecha: 2021-10-21 19:07:08.893157 - Error bucle externo:  404  no trajo datos:  https://100.123.26.252/api/v2/devices/BC:A9:93:00:31:4C/performance?start_time=202110211800&stop_time=202110211859\n",
      " dato_param['total']  1 1\n",
      "https://100.123.26.252/api/v2/devices/BC:A9:93:00:31:4D/performance?offset=0&start_time=202110211800&stop_time=202110211859\n"
     ]
    },
    {
     "name": "stderr",
     "output_type": "stream",
     "text": [
      "/opt/anaconda3/lib/python3.8/site-packages/urllib3/connectionpool.py:981: InsecureRequestWarning: Unverified HTTPS request is being made to host '100.123.26.224'. Adding certificate verification is strongly advised. See: https://urllib3.readthedocs.io/en/latest/advanced-usage.html#ssl-warnings\n",
      "  warnings.warn(\n",
      "/opt/anaconda3/lib/python3.8/site-packages/urllib3/connectionpool.py:981: InsecureRequestWarning: Unverified HTTPS request is being made to host '100.123.26.252'. Adding certificate verification is strongly advised. See: https://urllib3.readthedocs.io/en/latest/advanced-usage.html#ssl-warnings\n",
      "  warnings.warn(\n",
      "/opt/anaconda3/lib/python3.8/site-packages/urllib3/connectionpool.py:981: InsecureRequestWarning: Unverified HTTPS request is being made to host '100.123.26.252'. Adding certificate verification is strongly advised. See: https://urllib3.readthedocs.io/en/latest/advanced-usage.html#ssl-warnings\n",
      "  warnings.warn(\n",
      "/opt/anaconda3/lib/python3.8/site-packages/urllib3/connectionpool.py:981: InsecureRequestWarning: Unverified HTTPS request is being made to host '100.123.26.252'. Adding certificate verification is strongly advised. See: https://urllib3.readthedocs.io/en/latest/advanced-usage.html#ssl-warnings\n",
      "  warnings.warn(\n"
     ]
    },
    {
     "name": "stdout",
     "output_type": "stream",
     "text": [
      "1.-Fecha: 2021-10-21 19:07:08.893157 - Error bucle externo:  404  no trajo datos:  https://100.123.26.224/api/v2/devices/BC:A9:93:00:31:4D/performance?start_time=202110211800&stop_time=202110211859\n",
      "1.-Fecha: 2021-10-21 19:07:08.893157 - Error bucle externo:  404  no trajo datos:  https://100.123.26.252/api/v2/devices/BC:A9:93:00:31:50/performance?start_time=202110211800&stop_time=202110211859\n",
      "1.-Fecha: 2021-10-21 19:07:08.893157 - Error bucle externo:  404  no trajo datos:  https://100.123.26.252/api/v2/devices/BC:A9:93:00:31:51/performance?start_time=202110211800&stop_time=202110211859\n",
      "1.-Fecha: 2021-10-21 19:07:08.893157 - Error bucle externo:  404  no trajo datos:  https://100.123.26.252/api/v2/devices/BC:A9:93:00:31:53/performance?start_time=202110211800&stop_time=202110211859\n"
     ]
    },
    {
     "name": "stderr",
     "output_type": "stream",
     "text": [
      "/opt/anaconda3/lib/python3.8/site-packages/urllib3/connectionpool.py:981: InsecureRequestWarning: Unverified HTTPS request is being made to host '100.123.26.252'. Adding certificate verification is strongly advised. See: https://urllib3.readthedocs.io/en/latest/advanced-usage.html#ssl-warnings\n",
      "  warnings.warn(\n",
      "/opt/anaconda3/lib/python3.8/site-packages/urllib3/connectionpool.py:981: InsecureRequestWarning: Unverified HTTPS request is being made to host '100.123.26.252'. Adding certificate verification is strongly advised. See: https://urllib3.readthedocs.io/en/latest/advanced-usage.html#ssl-warnings\n",
      "  warnings.warn(\n",
      "/opt/anaconda3/lib/python3.8/site-packages/urllib3/connectionpool.py:981: InsecureRequestWarning: Unverified HTTPS request is being made to host '100.123.26.252'. Adding certificate verification is strongly advised. See: https://urllib3.readthedocs.io/en/latest/advanced-usage.html#ssl-warnings\n",
      "  warnings.warn(\n",
      "/opt/anaconda3/lib/python3.8/site-packages/urllib3/connectionpool.py:981: InsecureRequestWarning: Unverified HTTPS request is being made to host '100.123.26.252'. Adding certificate verification is strongly advised. See: https://urllib3.readthedocs.io/en/latest/advanced-usage.html#ssl-warnings\n",
      "  warnings.warn(\n",
      "/opt/anaconda3/lib/python3.8/site-packages/urllib3/connectionpool.py:981: InsecureRequestWarning: Unverified HTTPS request is being made to host '100.123.26.252'. Adding certificate verification is strongly advised. See: https://urllib3.readthedocs.io/en/latest/advanced-usage.html#ssl-warnings\n",
      "  warnings.warn(\n"
     ]
    },
    {
     "name": "stdout",
     "output_type": "stream",
     "text": [
      "1.-Fecha: 2021-10-21 19:07:08.893157 - Error bucle externo:  404  no trajo datos:  https://100.123.26.252/api/v2/devices/BC:A9:93:00:31:54/performance?start_time=202110211800&stop_time=202110211859\n",
      "1.-Fecha: 2021-10-21 19:07:08.893157 - Error bucle externo:  422  no trajo datos:  https://100.123.26.252/api/v2/devices/BC:A9:93:00:31:55/performance?start_time=202110211800&stop_time=202110211859\n",
      "1.-Fecha: 2021-10-21 19:07:08.893157 - Error bucle externo:  404  no trajo datos:  https://100.123.26.252/api/v2/devices/BC:A9:93:00:31:60/performance?start_time=202110211800&stop_time=202110211859\n",
      " dato_param['total']  1 1\n",
      "https://100.123.26.252/api/v2/devices/BC:A9:93:00:31:6F/performance?offset=0&start_time=202110211800&stop_time=202110211859\n"
     ]
    },
    {
     "name": "stderr",
     "output_type": "stream",
     "text": [
      "/opt/anaconda3/lib/python3.8/site-packages/urllib3/connectionpool.py:981: InsecureRequestWarning: Unverified HTTPS request is being made to host '100.123.26.224'. Adding certificate verification is strongly advised. See: https://urllib3.readthedocs.io/en/latest/advanced-usage.html#ssl-warnings\n",
      "  warnings.warn(\n",
      "/opt/anaconda3/lib/python3.8/site-packages/urllib3/connectionpool.py:981: InsecureRequestWarning: Unverified HTTPS request is being made to host '100.123.26.252'. Adding certificate verification is strongly advised. See: https://urllib3.readthedocs.io/en/latest/advanced-usage.html#ssl-warnings\n",
      "  warnings.warn(\n",
      "/opt/anaconda3/lib/python3.8/site-packages/urllib3/connectionpool.py:981: InsecureRequestWarning: Unverified HTTPS request is being made to host '100.123.26.252'. Adding certificate verification is strongly advised. See: https://urllib3.readthedocs.io/en/latest/advanced-usage.html#ssl-warnings\n",
      "  warnings.warn(\n"
     ]
    },
    {
     "name": "stdout",
     "output_type": "stream",
     "text": [
      "1.-Fecha: 2021-10-21 19:07:08.893157 - Error bucle externo:  404  no trajo datos:  https://100.123.26.224/api/v2/devices/BC:A9:93:00:31:6F/performance?start_time=202110211800&stop_time=202110211859\n",
      " dato_param['total']  12 1\n",
      "https://100.123.26.252/api/v2/devices/BC:A9:93:00:31:70/performance?offset=0&start_time=202110211800&stop_time=202110211859\n"
     ]
    },
    {
     "name": "stderr",
     "output_type": "stream",
     "text": [
      "/opt/anaconda3/lib/python3.8/site-packages/urllib3/connectionpool.py:981: InsecureRequestWarning: Unverified HTTPS request is being made to host '100.123.26.224'. Adding certificate verification is strongly advised. See: https://urllib3.readthedocs.io/en/latest/advanced-usage.html#ssl-warnings\n",
      "  warnings.warn(\n",
      "/opt/anaconda3/lib/python3.8/site-packages/urllib3/connectionpool.py:981: InsecureRequestWarning: Unverified HTTPS request is being made to host '100.123.26.252'. Adding certificate verification is strongly advised. See: https://urllib3.readthedocs.io/en/latest/advanced-usage.html#ssl-warnings\n",
      "  warnings.warn(\n",
      "/opt/anaconda3/lib/python3.8/site-packages/urllib3/connectionpool.py:981: InsecureRequestWarning: Unverified HTTPS request is being made to host '100.123.26.252'. Adding certificate verification is strongly advised. See: https://urllib3.readthedocs.io/en/latest/advanced-usage.html#ssl-warnings\n",
      "  warnings.warn(\n",
      "/opt/anaconda3/lib/python3.8/site-packages/urllib3/connectionpool.py:981: InsecureRequestWarning: Unverified HTTPS request is being made to host '100.123.26.224'. Adding certificate verification is strongly advised. See: https://urllib3.readthedocs.io/en/latest/advanced-usage.html#ssl-warnings\n",
      "  warnings.warn(\n",
      "/opt/anaconda3/lib/python3.8/site-packages/urllib3/connectionpool.py:981: InsecureRequestWarning: Unverified HTTPS request is being made to host '100.123.26.252'. Adding certificate verification is strongly advised. See: https://urllib3.readthedocs.io/en/latest/advanced-usage.html#ssl-warnings\n",
      "  warnings.warn(\n",
      "/opt/anaconda3/lib/python3.8/site-packages/urllib3/connectionpool.py:981: InsecureRequestWarning: Unverified HTTPS request is being made to host '100.123.26.252'. Adding certificate verification is strongly advised. See: https://urllib3.readthedocs.io/en/latest/advanced-usage.html#ssl-warnings\n",
      "  warnings.warn(\n"
     ]
    },
    {
     "name": "stdout",
     "output_type": "stream",
     "text": [
      "1.-Fecha: 2021-10-21 19:07:08.893157 - Error bucle externo:  404  no trajo datos:  https://100.123.26.224/api/v2/devices/BC:A9:93:00:31:70/performance?start_time=202110211800&stop_time=202110211859\n",
      " dato_param['total']  13 1\n",
      "https://100.123.26.252/api/v2/devices/BC:A9:93:00:31:72/performance?offset=0&start_time=202110211800&stop_time=202110211859\n",
      "1.-Fecha: 2021-10-21 19:07:08.893157 - Error bucle externo:  404  no trajo datos:  https://100.123.26.224/api/v2/devices/BC:A9:93:00:31:72/performance?start_time=202110211800&stop_time=202110211859\n",
      "1.-Fecha: 2021-10-21 19:07:08.893157 - Error bucle externo:  404  no trajo datos:  https://100.123.26.252/api/v2/devices/BC:A9:93:00:31:73/performance?start_time=202110211800&stop_time=202110211859\n",
      "1.-Fecha: 2021-10-21 19:07:08.893157 - Error bucle externo:  404  no trajo datos:  https://100.123.26.252/api/v2/devices/BC:A9:93:00:31:74/performance?start_time=202110211800&stop_time=202110211859\n"
     ]
    },
    {
     "name": "stderr",
     "output_type": "stream",
     "text": [
      "/opt/anaconda3/lib/python3.8/site-packages/urllib3/connectionpool.py:981: InsecureRequestWarning: Unverified HTTPS request is being made to host '100.123.26.252'. Adding certificate verification is strongly advised. See: https://urllib3.readthedocs.io/en/latest/advanced-usage.html#ssl-warnings\n",
      "  warnings.warn(\n",
      "/opt/anaconda3/lib/python3.8/site-packages/urllib3/connectionpool.py:981: InsecureRequestWarning: Unverified HTTPS request is being made to host '100.123.26.252'. Adding certificate verification is strongly advised. See: https://urllib3.readthedocs.io/en/latest/advanced-usage.html#ssl-warnings\n",
      "  warnings.warn(\n",
      "/opt/anaconda3/lib/python3.8/site-packages/urllib3/connectionpool.py:981: InsecureRequestWarning: Unverified HTTPS request is being made to host '100.123.26.252'. Adding certificate verification is strongly advised. See: https://urllib3.readthedocs.io/en/latest/advanced-usage.html#ssl-warnings\n",
      "  warnings.warn(\n"
     ]
    },
    {
     "name": "stdout",
     "output_type": "stream",
     "text": [
      "1.-Fecha: 2021-10-21 19:07:08.893157 - Error bucle externo:  404  no trajo datos:  https://100.123.26.252/api/v2/devices/BC:A9:93:00:31:76/performance?start_time=202110211800&stop_time=202110211859\n",
      " dato_param['total']  18 1\n",
      "https://100.123.26.252/api/v2/devices/BC:A9:93:00:31:77/performance?offset=0&start_time=202110211800&stop_time=202110211859\n"
     ]
    },
    {
     "name": "stderr",
     "output_type": "stream",
     "text": [
      "/opt/anaconda3/lib/python3.8/site-packages/urllib3/connectionpool.py:981: InsecureRequestWarning: Unverified HTTPS request is being made to host '100.123.26.224'. Adding certificate verification is strongly advised. See: https://urllib3.readthedocs.io/en/latest/advanced-usage.html#ssl-warnings\n",
      "  warnings.warn(\n",
      "/opt/anaconda3/lib/python3.8/site-packages/urllib3/connectionpool.py:981: InsecureRequestWarning: Unverified HTTPS request is being made to host '100.123.26.252'. Adding certificate verification is strongly advised. See: https://urllib3.readthedocs.io/en/latest/advanced-usage.html#ssl-warnings\n",
      "  warnings.warn(\n",
      "/opt/anaconda3/lib/python3.8/site-packages/urllib3/connectionpool.py:981: InsecureRequestWarning: Unverified HTTPS request is being made to host '100.123.26.252'. Adding certificate verification is strongly advised. See: https://urllib3.readthedocs.io/en/latest/advanced-usage.html#ssl-warnings\n",
      "  warnings.warn(\n",
      "/opt/anaconda3/lib/python3.8/site-packages/urllib3/connectionpool.py:981: InsecureRequestWarning: Unverified HTTPS request is being made to host '100.123.26.252'. Adding certificate verification is strongly advised. See: https://urllib3.readthedocs.io/en/latest/advanced-usage.html#ssl-warnings\n",
      "  warnings.warn(\n",
      "/opt/anaconda3/lib/python3.8/site-packages/urllib3/connectionpool.py:981: InsecureRequestWarning: Unverified HTTPS request is being made to host '100.123.26.224'. Adding certificate verification is strongly advised. See: https://urllib3.readthedocs.io/en/latest/advanced-usage.html#ssl-warnings\n",
      "  warnings.warn(\n"
     ]
    },
    {
     "name": "stdout",
     "output_type": "stream",
     "text": [
      "1.-Fecha: 2021-10-21 19:07:08.893157 - Error bucle externo:  404  no trajo datos:  https://100.123.26.224/api/v2/devices/BC:A9:93:00:31:77/performance?start_time=202110211800&stop_time=202110211859\n",
      "1.-Fecha: 2021-10-21 19:07:08.893157 - Error bucle externo:  404  no trajo datos:  https://100.123.26.252/api/v2/devices/BC:A9:93:00:31:7D/performance?start_time=202110211800&stop_time=202110211859\n",
      " dato_param['total']  13 1\n",
      "https://100.123.26.252/api/v2/devices/BC:A9:93:00:31:7F/performance?offset=0&start_time=202110211800&stop_time=202110211859\n",
      "1.-Fecha: 2021-10-21 19:07:08.893157 - Error bucle externo:  404  no trajo datos:  https://100.123.26.224/api/v2/devices/BC:A9:93:00:31:7F/performance?start_time=202110211800&stop_time=202110211859\n",
      "1.-Fecha: 2021-10-21 19:07:08.893157 - Error bucle externo:  404  no trajo datos:  https://100.123.26.252/api/v2/devices/BC:A9:93:00:31:80/performance?start_time=202110211800&stop_time=202110211859\n"
     ]
    },
    {
     "name": "stderr",
     "output_type": "stream",
     "text": [
      "/opt/anaconda3/lib/python3.8/site-packages/urllib3/connectionpool.py:981: InsecureRequestWarning: Unverified HTTPS request is being made to host '100.123.26.252'. Adding certificate verification is strongly advised. See: https://urllib3.readthedocs.io/en/latest/advanced-usage.html#ssl-warnings\n",
      "  warnings.warn(\n",
      "/opt/anaconda3/lib/python3.8/site-packages/urllib3/connectionpool.py:981: InsecureRequestWarning: Unverified HTTPS request is being made to host '100.123.26.252'. Adding certificate verification is strongly advised. See: https://urllib3.readthedocs.io/en/latest/advanced-usage.html#ssl-warnings\n",
      "  warnings.warn(\n",
      "/opt/anaconda3/lib/python3.8/site-packages/urllib3/connectionpool.py:981: InsecureRequestWarning: Unverified HTTPS request is being made to host '100.123.26.252'. Adding certificate verification is strongly advised. See: https://urllib3.readthedocs.io/en/latest/advanced-usage.html#ssl-warnings\n",
      "  warnings.warn(\n"
     ]
    },
    {
     "name": "stdout",
     "output_type": "stream",
     "text": [
      "1.-Fecha: 2021-10-21 19:07:08.893157 - Error bucle externo:  404  no trajo datos:  https://100.123.26.252/api/v2/devices/BC:A9:93:00:31:82/performance?start_time=202110211800&stop_time=202110211859\n",
      "1.-Fecha: 2021-10-21 19:07:08.893157 - Error bucle externo:  422  no trajo datos:  https://100.123.26.252/api/v2/devices/BC:A9:93:00:31:88/performance?start_time=202110211800&stop_time=202110211859\n",
      " dato_param['total']  13 1\n",
      "https://100.123.26.252/api/v2/devices/BC:A9:93:00:31:8A/performance?offset=0&start_time=202110211800&stop_time=202110211859\n"
     ]
    },
    {
     "name": "stderr",
     "output_type": "stream",
     "text": [
      "/opt/anaconda3/lib/python3.8/site-packages/urllib3/connectionpool.py:981: InsecureRequestWarning: Unverified HTTPS request is being made to host '100.123.26.252'. Adding certificate verification is strongly advised. See: https://urllib3.readthedocs.io/en/latest/advanced-usage.html#ssl-warnings\n",
      "  warnings.warn(\n",
      "/opt/anaconda3/lib/python3.8/site-packages/urllib3/connectionpool.py:981: InsecureRequestWarning: Unverified HTTPS request is being made to host '100.123.26.252'. Adding certificate verification is strongly advised. See: https://urllib3.readthedocs.io/en/latest/advanced-usage.html#ssl-warnings\n",
      "  warnings.warn(\n",
      "/opt/anaconda3/lib/python3.8/site-packages/urllib3/connectionpool.py:981: InsecureRequestWarning: Unverified HTTPS request is being made to host '100.123.26.224'. Adding certificate verification is strongly advised. See: https://urllib3.readthedocs.io/en/latest/advanced-usage.html#ssl-warnings\n",
      "  warnings.warn(\n",
      "/opt/anaconda3/lib/python3.8/site-packages/urllib3/connectionpool.py:981: InsecureRequestWarning: Unverified HTTPS request is being made to host '100.123.26.252'. Adding certificate verification is strongly advised. See: https://urllib3.readthedocs.io/en/latest/advanced-usage.html#ssl-warnings\n",
      "  warnings.warn(\n",
      "/opt/anaconda3/lib/python3.8/site-packages/urllib3/connectionpool.py:981: InsecureRequestWarning: Unverified HTTPS request is being made to host '100.123.26.252'. Adding certificate verification is strongly advised. See: https://urllib3.readthedocs.io/en/latest/advanced-usage.html#ssl-warnings\n",
      "  warnings.warn(\n"
     ]
    },
    {
     "name": "stdout",
     "output_type": "stream",
     "text": [
      "1.-Fecha: 2021-10-21 19:07:08.893157 - Error bucle externo:  404  no trajo datos:  https://100.123.26.224/api/v2/devices/BC:A9:93:00:31:8A/performance?start_time=202110211800&stop_time=202110211859\n",
      " dato_param['total']  1 1\n",
      "https://100.123.26.252/api/v2/devices/BC:A9:93:00:31:8C/performance?offset=0&start_time=202110211800&stop_time=202110211859\n",
      "1.-Fecha: 2021-10-21 19:07:08.893157 - Error bucle externo:  404  no trajo datos:  https://100.123.26.224/api/v2/devices/BC:A9:93:00:31:8C/performance?start_time=202110211800&stop_time=202110211859\n"
     ]
    },
    {
     "name": "stderr",
     "output_type": "stream",
     "text": [
      "/opt/anaconda3/lib/python3.8/site-packages/urllib3/connectionpool.py:981: InsecureRequestWarning: Unverified HTTPS request is being made to host '100.123.26.224'. Adding certificate verification is strongly advised. See: https://urllib3.readthedocs.io/en/latest/advanced-usage.html#ssl-warnings\n",
      "  warnings.warn(\n",
      "/opt/anaconda3/lib/python3.8/site-packages/urllib3/connectionpool.py:981: InsecureRequestWarning: Unverified HTTPS request is being made to host '100.123.26.252'. Adding certificate verification is strongly advised. See: https://urllib3.readthedocs.io/en/latest/advanced-usage.html#ssl-warnings\n",
      "  warnings.warn(\n",
      "/opt/anaconda3/lib/python3.8/site-packages/urllib3/connectionpool.py:981: InsecureRequestWarning: Unverified HTTPS request is being made to host '100.123.26.252'. Adding certificate verification is strongly advised. See: https://urllib3.readthedocs.io/en/latest/advanced-usage.html#ssl-warnings\n",
      "  warnings.warn(\n"
     ]
    },
    {
     "name": "stdout",
     "output_type": "stream",
     "text": [
      " dato_param['total']  13 1\n",
      "https://100.123.26.252/api/v2/devices/BC:A9:93:00:31:8D/performance?offset=0&start_time=202110211800&stop_time=202110211859\n",
      "1.-Fecha: 2021-10-21 19:07:08.893157 - Error bucle externo:  404  no trajo datos:  https://100.123.26.224/api/v2/devices/BC:A9:93:00:31:8D/performance?start_time=202110211800&stop_time=202110211859\n",
      " dato_param['total']  13 1\n",
      "https://100.123.26.252/api/v2/devices/BC:A9:93:00:31:90/performance?offset=0&start_time=202110211800&stop_time=202110211859\n"
     ]
    },
    {
     "name": "stderr",
     "output_type": "stream",
     "text": [
      "/opt/anaconda3/lib/python3.8/site-packages/urllib3/connectionpool.py:981: InsecureRequestWarning: Unverified HTTPS request is being made to host '100.123.26.224'. Adding certificate verification is strongly advised. See: https://urllib3.readthedocs.io/en/latest/advanced-usage.html#ssl-warnings\n",
      "  warnings.warn(\n",
      "/opt/anaconda3/lib/python3.8/site-packages/urllib3/connectionpool.py:981: InsecureRequestWarning: Unverified HTTPS request is being made to host '100.123.26.252'. Adding certificate verification is strongly advised. See: https://urllib3.readthedocs.io/en/latest/advanced-usage.html#ssl-warnings\n",
      "  warnings.warn(\n",
      "/opt/anaconda3/lib/python3.8/site-packages/urllib3/connectionpool.py:981: InsecureRequestWarning: Unverified HTTPS request is being made to host '100.123.26.252'. Adding certificate verification is strongly advised. See: https://urllib3.readthedocs.io/en/latest/advanced-usage.html#ssl-warnings\n",
      "  warnings.warn(\n",
      "/opt/anaconda3/lib/python3.8/site-packages/urllib3/connectionpool.py:981: InsecureRequestWarning: Unverified HTTPS request is being made to host '100.123.26.224'. Adding certificate verification is strongly advised. See: https://urllib3.readthedocs.io/en/latest/advanced-usage.html#ssl-warnings\n",
      "  warnings.warn(\n",
      "/opt/anaconda3/lib/python3.8/site-packages/urllib3/connectionpool.py:981: InsecureRequestWarning: Unverified HTTPS request is being made to host '100.123.26.252'. Adding certificate verification is strongly advised. See: https://urllib3.readthedocs.io/en/latest/advanced-usage.html#ssl-warnings\n",
      "  warnings.warn(\n"
     ]
    },
    {
     "name": "stdout",
     "output_type": "stream",
     "text": [
      "1.-Fecha: 2021-10-21 19:07:08.893157 - Error bucle externo:  404  no trajo datos:  https://100.123.26.224/api/v2/devices/BC:A9:93:00:31:90/performance?start_time=202110211800&stop_time=202110211859\n",
      " dato_param['total']  4 1\n",
      "https://100.123.26.252/api/v2/devices/BC:A9:93:00:31:91/performance?offset=0&start_time=202110211800&stop_time=202110211859\n"
     ]
    },
    {
     "name": "stderr",
     "output_type": "stream",
     "text": [
      "/opt/anaconda3/lib/python3.8/site-packages/urllib3/connectionpool.py:981: InsecureRequestWarning: Unverified HTTPS request is being made to host '100.123.26.252'. Adding certificate verification is strongly advised. See: https://urllib3.readthedocs.io/en/latest/advanced-usage.html#ssl-warnings\n",
      "  warnings.warn(\n",
      "/opt/anaconda3/lib/python3.8/site-packages/urllib3/connectionpool.py:981: InsecureRequestWarning: Unverified HTTPS request is being made to host '100.123.26.224'. Adding certificate verification is strongly advised. See: https://urllib3.readthedocs.io/en/latest/advanced-usage.html#ssl-warnings\n",
      "  warnings.warn(\n",
      "/opt/anaconda3/lib/python3.8/site-packages/urllib3/connectionpool.py:981: InsecureRequestWarning: Unverified HTTPS request is being made to host '100.123.26.252'. Adding certificate verification is strongly advised. See: https://urllib3.readthedocs.io/en/latest/advanced-usage.html#ssl-warnings\n",
      "  warnings.warn(\n"
     ]
    },
    {
     "name": "stdout",
     "output_type": "stream",
     "text": [
      "1.-Fecha: 2021-10-21 19:07:08.893157 - Error bucle externo:  404  no trajo datos:  https://100.123.26.224/api/v2/devices/BC:A9:93:00:31:91/performance?start_time=202110211800&stop_time=202110211859\n",
      "1.-Fecha: 2021-10-21 19:07:08.893157 - Error bucle externo:  404  no trajo datos:  https://100.123.26.252/api/v2/devices/BC:A9:93:00:31:93/performance?start_time=202110211800&stop_time=202110211859\n",
      " dato_param['total']  12 1\n",
      "https://100.123.26.252/api/v2/devices/BC:A9:93:00:31:94/performance?offset=0&start_time=202110211800&stop_time=202110211859\n"
     ]
    },
    {
     "name": "stderr",
     "output_type": "stream",
     "text": [
      "/opt/anaconda3/lib/python3.8/site-packages/urllib3/connectionpool.py:981: InsecureRequestWarning: Unverified HTTPS request is being made to host '100.123.26.252'. Adding certificate verification is strongly advised. See: https://urllib3.readthedocs.io/en/latest/advanced-usage.html#ssl-warnings\n",
      "  warnings.warn(\n",
      "/opt/anaconda3/lib/python3.8/site-packages/urllib3/connectionpool.py:981: InsecureRequestWarning: Unverified HTTPS request is being made to host '100.123.26.252'. Adding certificate verification is strongly advised. See: https://urllib3.readthedocs.io/en/latest/advanced-usage.html#ssl-warnings\n",
      "  warnings.warn(\n",
      "/opt/anaconda3/lib/python3.8/site-packages/urllib3/connectionpool.py:981: InsecureRequestWarning: Unverified HTTPS request is being made to host '100.123.26.224'. Adding certificate verification is strongly advised. See: https://urllib3.readthedocs.io/en/latest/advanced-usage.html#ssl-warnings\n",
      "  warnings.warn(\n",
      "/opt/anaconda3/lib/python3.8/site-packages/urllib3/connectionpool.py:981: InsecureRequestWarning: Unverified HTTPS request is being made to host '100.123.26.252'. Adding certificate verification is strongly advised. See: https://urllib3.readthedocs.io/en/latest/advanced-usage.html#ssl-warnings\n",
      "  warnings.warn(\n"
     ]
    },
    {
     "name": "stdout",
     "output_type": "stream",
     "text": [
      "1.-Fecha: 2021-10-21 19:07:08.893157 - Error bucle externo:  404  no trajo datos:  https://100.123.26.224/api/v2/devices/BC:A9:93:00:31:94/performance?start_time=202110211800&stop_time=202110211859\n",
      " dato_param['total']  12 1\n",
      "https://100.123.26.252/api/v2/devices/BC:A9:93:00:31:96/performance?offset=0&start_time=202110211800&stop_time=202110211859\n",
      "1.-Fecha: 2021-10-21 19:07:08.893157 - Error bucle externo:  404  no trajo datos:  https://100.123.26.224/api/v2/devices/BC:A9:93:00:31:96/performance?start_time=202110211800&stop_time=202110211859\n",
      "1.-Fecha: 2021-10-21 19:07:08.893157 - Error bucle externo:  404  no trajo datos:  https://100.123.26.252/api/v2/devices/BC:A9:93:00:31:99/performance?start_time=202110211800&stop_time=202110211859\n"
     ]
    },
    {
     "name": "stderr",
     "output_type": "stream",
     "text": [
      "/opt/anaconda3/lib/python3.8/site-packages/urllib3/connectionpool.py:981: InsecureRequestWarning: Unverified HTTPS request is being made to host '100.123.26.252'. Adding certificate verification is strongly advised. See: https://urllib3.readthedocs.io/en/latest/advanced-usage.html#ssl-warnings\n",
      "  warnings.warn(\n",
      "/opt/anaconda3/lib/python3.8/site-packages/urllib3/connectionpool.py:981: InsecureRequestWarning: Unverified HTTPS request is being made to host '100.123.26.224'. Adding certificate verification is strongly advised. See: https://urllib3.readthedocs.io/en/latest/advanced-usage.html#ssl-warnings\n",
      "  warnings.warn(\n",
      "/opt/anaconda3/lib/python3.8/site-packages/urllib3/connectionpool.py:981: InsecureRequestWarning: Unverified HTTPS request is being made to host '100.123.26.252'. Adding certificate verification is strongly advised. See: https://urllib3.readthedocs.io/en/latest/advanced-usage.html#ssl-warnings\n",
      "  warnings.warn(\n",
      "/opt/anaconda3/lib/python3.8/site-packages/urllib3/connectionpool.py:981: InsecureRequestWarning: Unverified HTTPS request is being made to host '100.123.26.252'. Adding certificate verification is strongly advised. See: https://urllib3.readthedocs.io/en/latest/advanced-usage.html#ssl-warnings\n",
      "  warnings.warn(\n",
      "/opt/anaconda3/lib/python3.8/site-packages/urllib3/connectionpool.py:981: InsecureRequestWarning: Unverified HTTPS request is being made to host '100.123.26.252'. Adding certificate verification is strongly advised. See: https://urllib3.readthedocs.io/en/latest/advanced-usage.html#ssl-warnings\n",
      "  warnings.warn(\n"
     ]
    },
    {
     "name": "stdout",
     "output_type": "stream",
     "text": [
      " dato_param['total']  13 1\n",
      "https://100.123.26.252/api/v2/devices/BC:A9:93:00:31:9D/performance?offset=0&start_time=202110211800&stop_time=202110211859\n",
      "1.-Fecha: 2021-10-21 19:07:08.893157 - Error bucle externo:  404  no trajo datos:  https://100.123.26.224/api/v2/devices/BC:A9:93:00:31:9D/performance?start_time=202110211800&stop_time=202110211859\n"
     ]
    },
    {
     "name": "stderr",
     "output_type": "stream",
     "text": [
      "/opt/anaconda3/lib/python3.8/site-packages/urllib3/connectionpool.py:981: InsecureRequestWarning: Unverified HTTPS request is being made to host '100.123.26.224'. Adding certificate verification is strongly advised. See: https://urllib3.readthedocs.io/en/latest/advanced-usage.html#ssl-warnings\n",
      "  warnings.warn(\n",
      "/opt/anaconda3/lib/python3.8/site-packages/urllib3/connectionpool.py:981: InsecureRequestWarning: Unverified HTTPS request is being made to host '100.123.26.252'. Adding certificate verification is strongly advised. See: https://urllib3.readthedocs.io/en/latest/advanced-usage.html#ssl-warnings\n",
      "  warnings.warn(\n",
      "/opt/anaconda3/lib/python3.8/site-packages/urllib3/connectionpool.py:981: InsecureRequestWarning: Unverified HTTPS request is being made to host '100.123.26.252'. Adding certificate verification is strongly advised. See: https://urllib3.readthedocs.io/en/latest/advanced-usage.html#ssl-warnings\n",
      "  warnings.warn(\n"
     ]
    },
    {
     "name": "stdout",
     "output_type": "stream",
     "text": [
      " dato_param['total']  13 1\n",
      "https://100.123.26.252/api/v2/devices/BC:A9:93:00:31:A0/performance?offset=0&start_time=202110211800&stop_time=202110211859\n",
      "1.-Fecha: 2021-10-21 19:07:08.893157 - Error bucle externo:  404  no trajo datos:  https://100.123.26.224/api/v2/devices/BC:A9:93:00:31:A0/performance?start_time=202110211800&stop_time=202110211859\n",
      " dato_param['total']  12 1\n",
      "https://100.123.26.252/api/v2/devices/BC:A9:93:00:31:A1/performance?offset=0&start_time=202110211800&stop_time=202110211859\n"
     ]
    },
    {
     "name": "stderr",
     "output_type": "stream",
     "text": [
      "/opt/anaconda3/lib/python3.8/site-packages/urllib3/connectionpool.py:981: InsecureRequestWarning: Unverified HTTPS request is being made to host '100.123.26.224'. Adding certificate verification is strongly advised. See: https://urllib3.readthedocs.io/en/latest/advanced-usage.html#ssl-warnings\n",
      "  warnings.warn(\n",
      "/opt/anaconda3/lib/python3.8/site-packages/urllib3/connectionpool.py:981: InsecureRequestWarning: Unverified HTTPS request is being made to host '100.123.26.252'. Adding certificate verification is strongly advised. See: https://urllib3.readthedocs.io/en/latest/advanced-usage.html#ssl-warnings\n",
      "  warnings.warn(\n",
      "/opt/anaconda3/lib/python3.8/site-packages/urllib3/connectionpool.py:981: InsecureRequestWarning: Unverified HTTPS request is being made to host '100.123.26.252'. Adding certificate verification is strongly advised. See: https://urllib3.readthedocs.io/en/latest/advanced-usage.html#ssl-warnings\n",
      "  warnings.warn(\n",
      "/opt/anaconda3/lib/python3.8/site-packages/urllib3/connectionpool.py:981: InsecureRequestWarning: Unverified HTTPS request is being made to host '100.123.26.224'. Adding certificate verification is strongly advised. See: https://urllib3.readthedocs.io/en/latest/advanced-usage.html#ssl-warnings\n",
      "  warnings.warn(\n",
      "/opt/anaconda3/lib/python3.8/site-packages/urllib3/connectionpool.py:981: InsecureRequestWarning: Unverified HTTPS request is being made to host '100.123.26.252'. Adding certificate verification is strongly advised. See: https://urllib3.readthedocs.io/en/latest/advanced-usage.html#ssl-warnings\n",
      "  warnings.warn(\n",
      "/opt/anaconda3/lib/python3.8/site-packages/urllib3/connectionpool.py:981: InsecureRequestWarning: Unverified HTTPS request is being made to host '100.123.26.252'. Adding certificate verification is strongly advised. See: https://urllib3.readthedocs.io/en/latest/advanced-usage.html#ssl-warnings\n",
      "  warnings.warn(\n"
     ]
    },
    {
     "name": "stdout",
     "output_type": "stream",
     "text": [
      "1.-Fecha: 2021-10-21 19:07:08.893157 - Error bucle externo:  404  no trajo datos:  https://100.123.26.224/api/v2/devices/BC:A9:93:00:31:A1/performance?start_time=202110211800&stop_time=202110211859\n",
      " dato_param['total']  13 1\n",
      "https://100.123.26.252/api/v2/devices/BC:A9:93:00:31:C1/performance?offset=0&start_time=202110211800&stop_time=202110211859\n"
     ]
    },
    {
     "name": "stderr",
     "output_type": "stream",
     "text": [
      "/opt/anaconda3/lib/python3.8/site-packages/urllib3/connectionpool.py:981: InsecureRequestWarning: Unverified HTTPS request is being made to host '100.123.26.224'. Adding certificate verification is strongly advised. See: https://urllib3.readthedocs.io/en/latest/advanced-usage.html#ssl-warnings\n",
      "  warnings.warn(\n",
      "/opt/anaconda3/lib/python3.8/site-packages/urllib3/connectionpool.py:981: InsecureRequestWarning: Unverified HTTPS request is being made to host '100.123.26.252'. Adding certificate verification is strongly advised. See: https://urllib3.readthedocs.io/en/latest/advanced-usage.html#ssl-warnings\n",
      "  warnings.warn(\n",
      "/opt/anaconda3/lib/python3.8/site-packages/urllib3/connectionpool.py:981: InsecureRequestWarning: Unverified HTTPS request is being made to host '100.123.26.252'. Adding certificate verification is strongly advised. See: https://urllib3.readthedocs.io/en/latest/advanced-usage.html#ssl-warnings\n",
      "  warnings.warn(\n"
     ]
    },
    {
     "name": "stdout",
     "output_type": "stream",
     "text": [
      "1.-Fecha: 2021-10-21 19:07:08.893157 - Error bucle externo:  404  no trajo datos:  https://100.123.26.224/api/v2/devices/BC:A9:93:00:31:C1/performance?start_time=202110211800&stop_time=202110211859\n",
      " dato_param['total']  13 1\n",
      "https://100.123.26.252/api/v2/devices/BC:A9:93:00:31:C4/performance?offset=0&start_time=202110211800&stop_time=202110211859\n"
     ]
    },
    {
     "name": "stderr",
     "output_type": "stream",
     "text": [
      "/opt/anaconda3/lib/python3.8/site-packages/urllib3/connectionpool.py:981: InsecureRequestWarning: Unverified HTTPS request is being made to host '100.123.26.224'. Adding certificate verification is strongly advised. See: https://urllib3.readthedocs.io/en/latest/advanced-usage.html#ssl-warnings\n",
      "  warnings.warn(\n",
      "/opt/anaconda3/lib/python3.8/site-packages/urllib3/connectionpool.py:981: InsecureRequestWarning: Unverified HTTPS request is being made to host '100.123.26.252'. Adding certificate verification is strongly advised. See: https://urllib3.readthedocs.io/en/latest/advanced-usage.html#ssl-warnings\n",
      "  warnings.warn(\n",
      "/opt/anaconda3/lib/python3.8/site-packages/urllib3/connectionpool.py:981: InsecureRequestWarning: Unverified HTTPS request is being made to host '100.123.26.252'. Adding certificate verification is strongly advised. See: https://urllib3.readthedocs.io/en/latest/advanced-usage.html#ssl-warnings\n",
      "  warnings.warn(\n",
      "/opt/anaconda3/lib/python3.8/site-packages/urllib3/connectionpool.py:981: InsecureRequestWarning: Unverified HTTPS request is being made to host '100.123.26.224'. Adding certificate verification is strongly advised. See: https://urllib3.readthedocs.io/en/latest/advanced-usage.html#ssl-warnings\n",
      "  warnings.warn(\n",
      "/opt/anaconda3/lib/python3.8/site-packages/urllib3/connectionpool.py:981: InsecureRequestWarning: Unverified HTTPS request is being made to host '100.123.26.252'. Adding certificate verification is strongly advised. See: https://urllib3.readthedocs.io/en/latest/advanced-usage.html#ssl-warnings\n",
      "  warnings.warn(\n",
      "/opt/anaconda3/lib/python3.8/site-packages/urllib3/connectionpool.py:981: InsecureRequestWarning: Unverified HTTPS request is being made to host '100.123.26.252'. Adding certificate verification is strongly advised. See: https://urllib3.readthedocs.io/en/latest/advanced-usage.html#ssl-warnings\n",
      "  warnings.warn(\n"
     ]
    },
    {
     "name": "stdout",
     "output_type": "stream",
     "text": [
      "1.-Fecha: 2021-10-21 19:07:08.893157 - Error bucle externo:  404  no trajo datos:  https://100.123.26.224/api/v2/devices/BC:A9:93:00:31:C4/performance?start_time=202110211800&stop_time=202110211859\n",
      " dato_param['total']  13 1\n",
      "https://100.123.26.252/api/v2/devices/BC:A9:93:00:31:C5/performance?offset=0&start_time=202110211800&stop_time=202110211859\n",
      "1.-Fecha: 2021-10-21 19:07:08.893157 - Error bucle externo:  404  no trajo datos:  https://100.123.26.224/api/v2/devices/BC:A9:93:00:31:C5/performance?start_time=202110211800&stop_time=202110211859\n",
      "1.-Fecha: 2021-10-21 19:07:08.893157 - Error bucle externo:  404  no trajo datos:  https://100.123.26.252/api/v2/devices/BC:A9:93:00:31:C7/performance?start_time=202110211800&stop_time=202110211859\n",
      "1.-Fecha: 2021-10-21 19:07:08.893157 - Error bucle externo:  404  no trajo datos:  https://100.123.26.252/api/v2/devices/BC:A9:93:00:31:C8/performance?start_time=202110211800&stop_time=202110211859\n"
     ]
    },
    {
     "name": "stderr",
     "output_type": "stream",
     "text": [
      "/opt/anaconda3/lib/python3.8/site-packages/urllib3/connectionpool.py:981: InsecureRequestWarning: Unverified HTTPS request is being made to host '100.123.26.252'. Adding certificate verification is strongly advised. See: https://urllib3.readthedocs.io/en/latest/advanced-usage.html#ssl-warnings\n",
      "  warnings.warn(\n",
      "/opt/anaconda3/lib/python3.8/site-packages/urllib3/connectionpool.py:981: InsecureRequestWarning: Unverified HTTPS request is being made to host '100.123.26.252'. Adding certificate verification is strongly advised. See: https://urllib3.readthedocs.io/en/latest/advanced-usage.html#ssl-warnings\n",
      "  warnings.warn(\n",
      "/opt/anaconda3/lib/python3.8/site-packages/urllib3/connectionpool.py:981: InsecureRequestWarning: Unverified HTTPS request is being made to host '100.123.26.252'. Adding certificate verification is strongly advised. See: https://urllib3.readthedocs.io/en/latest/advanced-usage.html#ssl-warnings\n",
      "  warnings.warn(\n"
     ]
    },
    {
     "name": "stdout",
     "output_type": "stream",
     "text": [
      "1.-Fecha: 2021-10-21 19:07:08.893157 - Error bucle externo:  404  no trajo datos:  https://100.123.26.252/api/v2/devices/BC:A9:93:00:31:CB/performance?start_time=202110211800&stop_time=202110211859\n",
      " dato_param['total']  13 1\n",
      "https://100.123.26.252/api/v2/devices/BC:A9:93:00:31:CD/performance?offset=0&start_time=202110211800&stop_time=202110211859\n"
     ]
    },
    {
     "name": "stderr",
     "output_type": "stream",
     "text": [
      "/opt/anaconda3/lib/python3.8/site-packages/urllib3/connectionpool.py:981: InsecureRequestWarning: Unverified HTTPS request is being made to host '100.123.26.224'. Adding certificate verification is strongly advised. See: https://urllib3.readthedocs.io/en/latest/advanced-usage.html#ssl-warnings\n",
      "  warnings.warn(\n",
      "/opt/anaconda3/lib/python3.8/site-packages/urllib3/connectionpool.py:981: InsecureRequestWarning: Unverified HTTPS request is being made to host '100.123.26.252'. Adding certificate verification is strongly advised. See: https://urllib3.readthedocs.io/en/latest/advanced-usage.html#ssl-warnings\n",
      "  warnings.warn(\n",
      "/opt/anaconda3/lib/python3.8/site-packages/urllib3/connectionpool.py:981: InsecureRequestWarning: Unverified HTTPS request is being made to host '100.123.26.252'. Adding certificate verification is strongly advised. See: https://urllib3.readthedocs.io/en/latest/advanced-usage.html#ssl-warnings\n",
      "  warnings.warn(\n",
      "/opt/anaconda3/lib/python3.8/site-packages/urllib3/connectionpool.py:981: InsecureRequestWarning: Unverified HTTPS request is being made to host '100.123.26.252'. Adding certificate verification is strongly advised. See: https://urllib3.readthedocs.io/en/latest/advanced-usage.html#ssl-warnings\n",
      "  warnings.warn(\n",
      "/opt/anaconda3/lib/python3.8/site-packages/urllib3/connectionpool.py:981: InsecureRequestWarning: Unverified HTTPS request is being made to host '100.123.26.224'. Adding certificate verification is strongly advised. See: https://urllib3.readthedocs.io/en/latest/advanced-usage.html#ssl-warnings\n",
      "  warnings.warn(\n"
     ]
    },
    {
     "name": "stdout",
     "output_type": "stream",
     "text": [
      "1.-Fecha: 2021-10-21 19:07:08.893157 - Error bucle externo:  404  no trajo datos:  https://100.123.26.224/api/v2/devices/BC:A9:93:00:31:CD/performance?start_time=202110211800&stop_time=202110211859\n",
      "1.-Fecha: 2021-10-21 19:07:08.893157 - Error bucle externo:  404  no trajo datos:  https://100.123.26.252/api/v2/devices/BC:A9:93:00:31:CE/performance?start_time=202110211800&stop_time=202110211859\n",
      " dato_param['total']  13 1\n",
      "https://100.123.26.252/api/v2/devices/BC:A9:93:00:31:CF/performance?offset=0&start_time=202110211800&stop_time=202110211859\n",
      "1.-Fecha: 2021-10-21 19:07:08.893157 - Error bucle externo:  404  no trajo datos:  https://100.123.26.224/api/v2/devices/BC:A9:93:00:31:CF/performance?start_time=202110211800&stop_time=202110211859\n",
      "1.-Fecha: 2021-10-21 19:07:08.893157 - Error bucle externo:  404  no trajo datos:  https://100.123.26.252/api/v2/devices/BC:A9:93:00:31:D0/performance?start_time=202110211800&stop_time=202110211859\n"
     ]
    },
    {
     "name": "stderr",
     "output_type": "stream",
     "text": [
      "/opt/anaconda3/lib/python3.8/site-packages/urllib3/connectionpool.py:981: InsecureRequestWarning: Unverified HTTPS request is being made to host '100.123.26.252'. Adding certificate verification is strongly advised. See: https://urllib3.readthedocs.io/en/latest/advanced-usage.html#ssl-warnings\n",
      "  warnings.warn(\n",
      "/opt/anaconda3/lib/python3.8/site-packages/urllib3/connectionpool.py:981: InsecureRequestWarning: Unverified HTTPS request is being made to host '100.123.26.252'. Adding certificate verification is strongly advised. See: https://urllib3.readthedocs.io/en/latest/advanced-usage.html#ssl-warnings\n",
      "  warnings.warn(\n",
      "/opt/anaconda3/lib/python3.8/site-packages/urllib3/connectionpool.py:981: InsecureRequestWarning: Unverified HTTPS request is being made to host '100.123.26.252'. Adding certificate verification is strongly advised. See: https://urllib3.readthedocs.io/en/latest/advanced-usage.html#ssl-warnings\n",
      "  warnings.warn(\n",
      "/opt/anaconda3/lib/python3.8/site-packages/urllib3/connectionpool.py:981: InsecureRequestWarning: Unverified HTTPS request is being made to host '100.123.26.252'. Adding certificate verification is strongly advised. See: https://urllib3.readthedocs.io/en/latest/advanced-usage.html#ssl-warnings\n",
      "  warnings.warn(\n"
     ]
    },
    {
     "name": "stdout",
     "output_type": "stream",
     "text": [
      "1.-Fecha: 2021-10-21 19:07:08.893157 - Error bucle externo:  404  no trajo datos:  https://100.123.26.252/api/v2/devices/BC:A9:93:00:31:D2/performance?start_time=202110211800&stop_time=202110211859\n",
      " dato_param['total']  13 1\n",
      "https://100.123.26.252/api/v2/devices/BC:A9:93:00:31:D7/performance?offset=0&start_time=202110211800&stop_time=202110211859\n"
     ]
    },
    {
     "name": "stderr",
     "output_type": "stream",
     "text": [
      "/opt/anaconda3/lib/python3.8/site-packages/urllib3/connectionpool.py:981: InsecureRequestWarning: Unverified HTTPS request is being made to host '100.123.26.224'. Adding certificate verification is strongly advised. See: https://urllib3.readthedocs.io/en/latest/advanced-usage.html#ssl-warnings\n",
      "  warnings.warn(\n",
      "/opt/anaconda3/lib/python3.8/site-packages/urllib3/connectionpool.py:981: InsecureRequestWarning: Unverified HTTPS request is being made to host '100.123.26.252'. Adding certificate verification is strongly advised. See: https://urllib3.readthedocs.io/en/latest/advanced-usage.html#ssl-warnings\n",
      "  warnings.warn(\n",
      "/opt/anaconda3/lib/python3.8/site-packages/urllib3/connectionpool.py:981: InsecureRequestWarning: Unverified HTTPS request is being made to host '100.123.26.252'. Adding certificate verification is strongly advised. See: https://urllib3.readthedocs.io/en/latest/advanced-usage.html#ssl-warnings\n",
      "  warnings.warn(\n",
      "/opt/anaconda3/lib/python3.8/site-packages/urllib3/connectionpool.py:981: InsecureRequestWarning: Unverified HTTPS request is being made to host '100.123.26.252'. Adding certificate verification is strongly advised. See: https://urllib3.readthedocs.io/en/latest/advanced-usage.html#ssl-warnings\n",
      "  warnings.warn(\n",
      "/opt/anaconda3/lib/python3.8/site-packages/urllib3/connectionpool.py:981: InsecureRequestWarning: Unverified HTTPS request is being made to host '100.123.26.252'. Adding certificate verification is strongly advised. See: https://urllib3.readthedocs.io/en/latest/advanced-usage.html#ssl-warnings\n",
      "  warnings.warn(\n"
     ]
    },
    {
     "name": "stdout",
     "output_type": "stream",
     "text": [
      "1.-Fecha: 2021-10-21 19:07:08.893157 - Error bucle externo:  404  no trajo datos:  https://100.123.26.224/api/v2/devices/BC:A9:93:00:31:D7/performance?start_time=202110211800&stop_time=202110211859\n",
      "1.-Fecha: 2021-10-21 19:07:08.893157 - Error bucle externo:  404  no trajo datos:  https://100.123.26.252/api/v2/devices/BC:A9:93:00:31:D9/performance?start_time=202110211800&stop_time=202110211859\n",
      "1.-Fecha: 2021-10-21 19:07:08.893157 - Error bucle externo:  404  no trajo datos:  https://100.123.26.252/api/v2/devices/BC:A9:93:00:31:DB/performance?start_time=202110211800&stop_time=202110211859\n",
      "1.-Fecha: 2021-10-21 19:07:08.893157 - Error bucle externo:  422  no trajo datos:  https://100.123.26.252/api/v2/devices/BC:A9:93:00:31:DE/performance?start_time=202110211800&stop_time=202110211859\n",
      " dato_param['total']  13 1\n",
      "https://100.123.26.252/api/v2/devices/BC:A9:93:00:31:E2/performance?offset=0&start_time=202110211800&stop_time=202110211859\n"
     ]
    },
    {
     "name": "stderr",
     "output_type": "stream",
     "text": [
      "/opt/anaconda3/lib/python3.8/site-packages/urllib3/connectionpool.py:981: InsecureRequestWarning: Unverified HTTPS request is being made to host '100.123.26.252'. Adding certificate verification is strongly advised. See: https://urllib3.readthedocs.io/en/latest/advanced-usage.html#ssl-warnings\n",
      "  warnings.warn(\n",
      "/opt/anaconda3/lib/python3.8/site-packages/urllib3/connectionpool.py:981: InsecureRequestWarning: Unverified HTTPS request is being made to host '100.123.26.224'. Adding certificate verification is strongly advised. See: https://urllib3.readthedocs.io/en/latest/advanced-usage.html#ssl-warnings\n",
      "  warnings.warn(\n",
      "/opt/anaconda3/lib/python3.8/site-packages/urllib3/connectionpool.py:981: InsecureRequestWarning: Unverified HTTPS request is being made to host '100.123.26.252'. Adding certificate verification is strongly advised. See: https://urllib3.readthedocs.io/en/latest/advanced-usage.html#ssl-warnings\n",
      "  warnings.warn(\n"
     ]
    },
    {
     "name": "stdout",
     "output_type": "stream",
     "text": [
      "1.-Fecha: 2021-10-21 19:07:08.893157 - Error bucle externo:  404  no trajo datos:  https://100.123.26.224/api/v2/devices/BC:A9:93:00:31:E2/performance?start_time=202110211800&stop_time=202110211859\n",
      " dato_param['total']  13 1\n",
      "https://100.123.26.252/api/v2/devices/BC:A9:93:00:31:E3/performance?offset=0&start_time=202110211800&stop_time=202110211859\n"
     ]
    },
    {
     "name": "stderr",
     "output_type": "stream",
     "text": [
      "/opt/anaconda3/lib/python3.8/site-packages/urllib3/connectionpool.py:981: InsecureRequestWarning: Unverified HTTPS request is being made to host '100.123.26.252'. Adding certificate verification is strongly advised. See: https://urllib3.readthedocs.io/en/latest/advanced-usage.html#ssl-warnings\n",
      "  warnings.warn(\n",
      "/opt/anaconda3/lib/python3.8/site-packages/urllib3/connectionpool.py:981: InsecureRequestWarning: Unverified HTTPS request is being made to host '100.123.26.224'. Adding certificate verification is strongly advised. See: https://urllib3.readthedocs.io/en/latest/advanced-usage.html#ssl-warnings\n",
      "  warnings.warn(\n",
      "/opt/anaconda3/lib/python3.8/site-packages/urllib3/connectionpool.py:981: InsecureRequestWarning: Unverified HTTPS request is being made to host '100.123.26.252'. Adding certificate verification is strongly advised. See: https://urllib3.readthedocs.io/en/latest/advanced-usage.html#ssl-warnings\n",
      "  warnings.warn(\n",
      "/opt/anaconda3/lib/python3.8/site-packages/urllib3/connectionpool.py:981: InsecureRequestWarning: Unverified HTTPS request is being made to host '100.123.26.252'. Adding certificate verification is strongly advised. See: https://urllib3.readthedocs.io/en/latest/advanced-usage.html#ssl-warnings\n",
      "  warnings.warn(\n"
     ]
    },
    {
     "name": "stdout",
     "output_type": "stream",
     "text": [
      "1.-Fecha: 2021-10-21 19:07:08.893157 - Error bucle externo:  404  no trajo datos:  https://100.123.26.224/api/v2/devices/BC:A9:93:00:31:E3/performance?start_time=202110211800&stop_time=202110211859\n",
      " dato_param['total']  13 1\n",
      "https://100.123.26.252/api/v2/devices/BC:A9:93:00:31:E7/performance?offset=0&start_time=202110211800&stop_time=202110211859\n",
      "1.-Fecha: 2021-10-21 19:07:08.893157 - Error bucle externo:  404  no trajo datos:  https://100.123.26.224/api/v2/devices/BC:A9:93:00:31:E7/performance?start_time=202110211800&stop_time=202110211859\n"
     ]
    },
    {
     "name": "stderr",
     "output_type": "stream",
     "text": [
      "/opt/anaconda3/lib/python3.8/site-packages/urllib3/connectionpool.py:981: InsecureRequestWarning: Unverified HTTPS request is being made to host '100.123.26.224'. Adding certificate verification is strongly advised. See: https://urllib3.readthedocs.io/en/latest/advanced-usage.html#ssl-warnings\n",
      "  warnings.warn(\n",
      "/opt/anaconda3/lib/python3.8/site-packages/urllib3/connectionpool.py:981: InsecureRequestWarning: Unverified HTTPS request is being made to host '100.123.26.252'. Adding certificate verification is strongly advised. See: https://urllib3.readthedocs.io/en/latest/advanced-usage.html#ssl-warnings\n",
      "  warnings.warn(\n",
      "/opt/anaconda3/lib/python3.8/site-packages/urllib3/connectionpool.py:981: InsecureRequestWarning: Unverified HTTPS request is being made to host '100.123.26.252'. Adding certificate verification is strongly advised. See: https://urllib3.readthedocs.io/en/latest/advanced-usage.html#ssl-warnings\n",
      "  warnings.warn(\n",
      "/opt/anaconda3/lib/python3.8/site-packages/urllib3/connectionpool.py:981: InsecureRequestWarning: Unverified HTTPS request is being made to host '100.123.26.224'. Adding certificate verification is strongly advised. See: https://urllib3.readthedocs.io/en/latest/advanced-usage.html#ssl-warnings\n",
      "  warnings.warn(\n"
     ]
    },
    {
     "name": "stdout",
     "output_type": "stream",
     "text": [
      " dato_param['total']  12 1\n",
      "https://100.123.26.252/api/v2/devices/BC:A9:93:00:31:EB/performance?offset=0&start_time=202110211800&stop_time=202110211859\n",
      "1.-Fecha: 2021-10-21 19:07:08.893157 - Error bucle externo:  404  no trajo datos:  https://100.123.26.224/api/v2/devices/BC:A9:93:00:31:EB/performance?start_time=202110211800&stop_time=202110211859\n"
     ]
    },
    {
     "name": "stderr",
     "output_type": "stream",
     "text": [
      "/opt/anaconda3/lib/python3.8/site-packages/urllib3/connectionpool.py:981: InsecureRequestWarning: Unverified HTTPS request is being made to host '100.123.26.252'. Adding certificate verification is strongly advised. See: https://urllib3.readthedocs.io/en/latest/advanced-usage.html#ssl-warnings\n",
      "  warnings.warn(\n",
      "/opt/anaconda3/lib/python3.8/site-packages/urllib3/connectionpool.py:981: InsecureRequestWarning: Unverified HTTPS request is being made to host '100.123.26.252'. Adding certificate verification is strongly advised. See: https://urllib3.readthedocs.io/en/latest/advanced-usage.html#ssl-warnings\n",
      "  warnings.warn(\n",
      "/opt/anaconda3/lib/python3.8/site-packages/urllib3/connectionpool.py:981: InsecureRequestWarning: Unverified HTTPS request is being made to host '100.123.26.252'. Adding certificate verification is strongly advised. See: https://urllib3.readthedocs.io/en/latest/advanced-usage.html#ssl-warnings\n",
      "  warnings.warn(\n"
     ]
    },
    {
     "name": "stdout",
     "output_type": "stream",
     "text": [
      "1.-Fecha: 2021-10-21 19:07:08.893157 - Error bucle externo:  404  no trajo datos:  https://100.123.26.252/api/v2/devices/BC:A9:93:00:31:ED/performance?start_time=202110211800&stop_time=202110211859\n",
      " dato_param['total']  13 1\n",
      "https://100.123.26.252/api/v2/devices/BC:A9:93:00:31:EE/performance?offset=0&start_time=202110211800&stop_time=202110211859\n",
      "1.-Fecha: 2021-10-21 19:07:08.893157 - Error bucle externo:  404  no trajo datos:  https://100.123.26.224/api/v2/devices/BC:A9:93:00:31:EE/performance?start_time=202110211800&stop_time=202110211859\n"
     ]
    },
    {
     "name": "stderr",
     "output_type": "stream",
     "text": [
      "/opt/anaconda3/lib/python3.8/site-packages/urllib3/connectionpool.py:981: InsecureRequestWarning: Unverified HTTPS request is being made to host '100.123.26.224'. Adding certificate verification is strongly advised. See: https://urllib3.readthedocs.io/en/latest/advanced-usage.html#ssl-warnings\n",
      "  warnings.warn(\n",
      "/opt/anaconda3/lib/python3.8/site-packages/urllib3/connectionpool.py:981: InsecureRequestWarning: Unverified HTTPS request is being made to host '100.123.26.252'. Adding certificate verification is strongly advised. See: https://urllib3.readthedocs.io/en/latest/advanced-usage.html#ssl-warnings\n",
      "  warnings.warn(\n",
      "/opt/anaconda3/lib/python3.8/site-packages/urllib3/connectionpool.py:981: InsecureRequestWarning: Unverified HTTPS request is being made to host '100.123.26.252'. Adding certificate verification is strongly advised. See: https://urllib3.readthedocs.io/en/latest/advanced-usage.html#ssl-warnings\n",
      "  warnings.warn(\n",
      "/opt/anaconda3/lib/python3.8/site-packages/urllib3/connectionpool.py:981: InsecureRequestWarning: Unverified HTTPS request is being made to host '100.123.26.252'. Adding certificate verification is strongly advised. See: https://urllib3.readthedocs.io/en/latest/advanced-usage.html#ssl-warnings\n",
      "  warnings.warn(\n",
      "/opt/anaconda3/lib/python3.8/site-packages/urllib3/connectionpool.py:981: InsecureRequestWarning: Unverified HTTPS request is being made to host '100.123.26.252'. Adding certificate verification is strongly advised. See: https://urllib3.readthedocs.io/en/latest/advanced-usage.html#ssl-warnings\n",
      "  warnings.warn(\n"
     ]
    },
    {
     "name": "stdout",
     "output_type": "stream",
     "text": [
      "1.-Fecha: 2021-10-21 19:07:08.893157 - Error bucle externo:  404  no trajo datos:  https://100.123.26.252/api/v2/devices/BC:A9:93:00:31:EF/performance?start_time=202110211800&stop_time=202110211859\n",
      "1.-Fecha: 2021-10-21 19:07:08.893157 - Error bucle externo:  404  no trajo datos:  https://100.123.26.252/api/v2/devices/BC:A9:93:00:64:1D/performance?start_time=202110211800&stop_time=202110211859\n",
      " dato_param['total']  13 1\n",
      "https://100.123.26.252/api/v2/devices/BC:A9:93:00:64:29/performance?offset=0&start_time=202110211800&stop_time=202110211859\n",
      "1.-Fecha: 2021-10-21 19:07:08.893157 - Error bucle externo:  404  no trajo datos:  https://100.123.26.224/api/v2/devices/BC:A9:93:00:64:29/performance?start_time=202110211800&stop_time=202110211859\n"
     ]
    },
    {
     "name": "stderr",
     "output_type": "stream",
     "text": [
      "/opt/anaconda3/lib/python3.8/site-packages/urllib3/connectionpool.py:981: InsecureRequestWarning: Unverified HTTPS request is being made to host '100.123.26.224'. Adding certificate verification is strongly advised. See: https://urllib3.readthedocs.io/en/latest/advanced-usage.html#ssl-warnings\n",
      "  warnings.warn(\n",
      "/opt/anaconda3/lib/python3.8/site-packages/urllib3/connectionpool.py:981: InsecureRequestWarning: Unverified HTTPS request is being made to host '100.123.26.252'. Adding certificate verification is strongly advised. See: https://urllib3.readthedocs.io/en/latest/advanced-usage.html#ssl-warnings\n",
      "  warnings.warn(\n",
      "/opt/anaconda3/lib/python3.8/site-packages/urllib3/connectionpool.py:981: InsecureRequestWarning: Unverified HTTPS request is being made to host '100.123.26.252'. Adding certificate verification is strongly advised. See: https://urllib3.readthedocs.io/en/latest/advanced-usage.html#ssl-warnings\n",
      "  warnings.warn(\n",
      "/opt/anaconda3/lib/python3.8/site-packages/urllib3/connectionpool.py:981: InsecureRequestWarning: Unverified HTTPS request is being made to host '100.123.26.224'. Adding certificate verification is strongly advised. See: https://urllib3.readthedocs.io/en/latest/advanced-usage.html#ssl-warnings\n",
      "  warnings.warn(\n"
     ]
    },
    {
     "name": "stdout",
     "output_type": "stream",
     "text": [
      " dato_param['total']  1 1\n",
      "https://100.123.26.252/api/v2/devices/BC:A9:93:00:64:3A/performance?offset=0&start_time=202110211800&stop_time=202110211859\n",
      " dato_param['total']  1 1\n",
      "https://100.123.26.224/api/v2/devices/BC:A9:93:00:64:3A/performance?offset=0&start_time=202110211800&stop_time=202110211859\n"
     ]
    },
    {
     "name": "stderr",
     "output_type": "stream",
     "text": [
      "/opt/anaconda3/lib/python3.8/site-packages/urllib3/connectionpool.py:981: InsecureRequestWarning: Unverified HTTPS request is being made to host '100.123.26.224'. Adding certificate verification is strongly advised. See: https://urllib3.readthedocs.io/en/latest/advanced-usage.html#ssl-warnings\n",
      "  warnings.warn(\n",
      "/opt/anaconda3/lib/python3.8/site-packages/urllib3/connectionpool.py:981: InsecureRequestWarning: Unverified HTTPS request is being made to host '100.123.26.252'. Adding certificate verification is strongly advised. See: https://urllib3.readthedocs.io/en/latest/advanced-usage.html#ssl-warnings\n",
      "  warnings.warn(\n",
      "/opt/anaconda3/lib/python3.8/site-packages/urllib3/connectionpool.py:981: InsecureRequestWarning: Unverified HTTPS request is being made to host '100.123.26.252'. Adding certificate verification is strongly advised. See: https://urllib3.readthedocs.io/en/latest/advanced-usage.html#ssl-warnings\n",
      "  warnings.warn(\n"
     ]
    },
    {
     "name": "stdout",
     "output_type": "stream",
     "text": [
      "1.-Fecha: 2021-10-21 19:07:08.893157 - Error bucle externo:  404  no trajo datos:  https://100.123.26.252/api/v2/devices/BC:A9:93:00:64:44/performance?start_time=202110211800&stop_time=202110211859\n",
      " dato_param['total']  13 1\n",
      "https://100.123.26.252/api/v2/devices/BC:A9:93:00:64:6B/performance?offset=0&start_time=202110211800&stop_time=202110211859\n",
      "1.-Fecha: 2021-10-21 19:07:08.893157 - Error bucle externo:  404  no trajo datos:  https://100.123.26.224/api/v2/devices/BC:A9:93:00:64:6B/performance?start_time=202110211800&stop_time=202110211859\n",
      "1.-Fecha: 2021-10-21 19:07:08.893157 - Error bucle externo:  404  no trajo datos:  https://100.123.26.252/api/v2/devices/BC:A9:93:00:64:70/performance?start_time=202110211800&stop_time=202110211859\n"
     ]
    },
    {
     "name": "stderr",
     "output_type": "stream",
     "text": [
      "/opt/anaconda3/lib/python3.8/site-packages/urllib3/connectionpool.py:981: InsecureRequestWarning: Unverified HTTPS request is being made to host '100.123.26.252'. Adding certificate verification is strongly advised. See: https://urllib3.readthedocs.io/en/latest/advanced-usage.html#ssl-warnings\n",
      "  warnings.warn(\n",
      "/opt/anaconda3/lib/python3.8/site-packages/urllib3/connectionpool.py:981: InsecureRequestWarning: Unverified HTTPS request is being made to host '100.123.26.224'. Adding certificate verification is strongly advised. See: https://urllib3.readthedocs.io/en/latest/advanced-usage.html#ssl-warnings\n",
      "  warnings.warn(\n",
      "/opt/anaconda3/lib/python3.8/site-packages/urllib3/connectionpool.py:981: InsecureRequestWarning: Unverified HTTPS request is being made to host '100.123.26.252'. Adding certificate verification is strongly advised. See: https://urllib3.readthedocs.io/en/latest/advanced-usage.html#ssl-warnings\n",
      "  warnings.warn(\n",
      "/opt/anaconda3/lib/python3.8/site-packages/urllib3/connectionpool.py:981: InsecureRequestWarning: Unverified HTTPS request is being made to host '100.123.26.252'. Adding certificate verification is strongly advised. See: https://urllib3.readthedocs.io/en/latest/advanced-usage.html#ssl-warnings\n",
      "  warnings.warn(\n"
     ]
    },
    {
     "name": "stdout",
     "output_type": "stream",
     "text": [
      " dato_param['total']  13 1\n",
      "https://100.123.26.252/api/v2/devices/BC:A9:93:00:64:71/performance?offset=0&start_time=202110211800&stop_time=202110211859\n",
      "1.-Fecha: 2021-10-21 19:07:08.893157 - Error bucle externo:  404  no trajo datos:  https://100.123.26.224/api/v2/devices/BC:A9:93:00:64:71/performance?start_time=202110211800&stop_time=202110211859\n",
      " dato_param['total']  13 1\n",
      "https://100.123.26.252/api/v2/devices/BC:A9:93:00:64:7A/performance?offset=0&start_time=202110211800&stop_time=202110211859\n"
     ]
    },
    {
     "name": "stderr",
     "output_type": "stream",
     "text": [
      "/opt/anaconda3/lib/python3.8/site-packages/urllib3/connectionpool.py:981: InsecureRequestWarning: Unverified HTTPS request is being made to host '100.123.26.252'. Adding certificate verification is strongly advised. See: https://urllib3.readthedocs.io/en/latest/advanced-usage.html#ssl-warnings\n",
      "  warnings.warn(\n",
      "/opt/anaconda3/lib/python3.8/site-packages/urllib3/connectionpool.py:981: InsecureRequestWarning: Unverified HTTPS request is being made to host '100.123.26.224'. Adding certificate verification is strongly advised. See: https://urllib3.readthedocs.io/en/latest/advanced-usage.html#ssl-warnings\n",
      "  warnings.warn(\n",
      "/opt/anaconda3/lib/python3.8/site-packages/urllib3/connectionpool.py:981: InsecureRequestWarning: Unverified HTTPS request is being made to host '100.123.26.252'. Adding certificate verification is strongly advised. See: https://urllib3.readthedocs.io/en/latest/advanced-usage.html#ssl-warnings\n",
      "  warnings.warn(\n",
      "/opt/anaconda3/lib/python3.8/site-packages/urllib3/connectionpool.py:981: InsecureRequestWarning: Unverified HTTPS request is being made to host '100.123.26.252'. Adding certificate verification is strongly advised. See: https://urllib3.readthedocs.io/en/latest/advanced-usage.html#ssl-warnings\n",
      "  warnings.warn(\n",
      "/opt/anaconda3/lib/python3.8/site-packages/urllib3/connectionpool.py:981: InsecureRequestWarning: Unverified HTTPS request is being made to host '100.123.26.224'. Adding certificate verification is strongly advised. See: https://urllib3.readthedocs.io/en/latest/advanced-usage.html#ssl-warnings\n",
      "  warnings.warn(\n",
      "/opt/anaconda3/lib/python3.8/site-packages/urllib3/connectionpool.py:981: InsecureRequestWarning: Unverified HTTPS request is being made to host '100.123.26.252'. Adding certificate verification is strongly advised. See: https://urllib3.readthedocs.io/en/latest/advanced-usage.html#ssl-warnings\n",
      "  warnings.warn(\n",
      "/opt/anaconda3/lib/python3.8/site-packages/urllib3/connectionpool.py:981: InsecureRequestWarning: Unverified HTTPS request is being made to host '100.123.26.252'. Adding certificate verification is strongly advised. See: https://urllib3.readthedocs.io/en/latest/advanced-usage.html#ssl-warnings\n",
      "  warnings.warn(\n",
      "/opt/anaconda3/lib/python3.8/site-packages/urllib3/connectionpool.py:981: InsecureRequestWarning: Unverified HTTPS request is being made to host '100.123.26.224'. Adding certificate verification is strongly advised. See: https://urllib3.readthedocs.io/en/latest/advanced-usage.html#ssl-warnings\n",
      "  warnings.warn(\n",
      "/opt/anaconda3/lib/python3.8/site-packages/urllib3/connectionpool.py:981: InsecureRequestWarning: Unverified HTTPS request is being made to host '100.123.26.252'. Adding certificate verification is strongly advised. See: https://urllib3.readthedocs.io/en/latest/advanced-usage.html#ssl-warnings\n",
      "  warnings.warn(\n"
     ]
    },
    {
     "name": "stdout",
     "output_type": "stream",
     "text": [
      "1.-Fecha: 2021-10-21 19:07:08.893157 - Error bucle externo:  404  no trajo datos:  https://100.123.26.224/api/v2/devices/BC:A9:93:00:64:7A/performance?start_time=202110211800&stop_time=202110211859\n",
      " dato_param['total']  1 1\n",
      "https://100.123.26.252/api/v2/devices/BC:A9:93:00:64:A8/performance?offset=0&start_time=202110211800&stop_time=202110211859\n",
      "1.-Fecha: 2021-10-21 19:07:08.893157 - Error bucle externo:  404  no trajo datos:  https://100.123.26.224/api/v2/devices/BC:A9:93:00:64:A8/performance?start_time=202110211800&stop_time=202110211859\n",
      "1.-Fecha: 2021-10-21 19:07:08.893157 - Error bucle externo:  404  no trajo datos:  https://100.123.26.252/api/v2/devices/BC:A9:93:00:64:F5/performance?start_time=202110211800&stop_time=202110211859\n"
     ]
    },
    {
     "name": "stderr",
     "output_type": "stream",
     "text": [
      "/opt/anaconda3/lib/python3.8/site-packages/urllib3/connectionpool.py:981: InsecureRequestWarning: Unverified HTTPS request is being made to host '100.123.26.252'. Adding certificate verification is strongly advised. See: https://urllib3.readthedocs.io/en/latest/advanced-usage.html#ssl-warnings\n",
      "  warnings.warn(\n",
      "/opt/anaconda3/lib/python3.8/site-packages/urllib3/connectionpool.py:981: InsecureRequestWarning: Unverified HTTPS request is being made to host '100.123.26.252'. Adding certificate verification is strongly advised. See: https://urllib3.readthedocs.io/en/latest/advanced-usage.html#ssl-warnings\n",
      "  warnings.warn(\n",
      "/opt/anaconda3/lib/python3.8/site-packages/urllib3/connectionpool.py:981: InsecureRequestWarning: Unverified HTTPS request is being made to host '100.123.26.224'. Adding certificate verification is strongly advised. See: https://urllib3.readthedocs.io/en/latest/advanced-usage.html#ssl-warnings\n",
      "  warnings.warn(\n",
      "/opt/anaconda3/lib/python3.8/site-packages/urllib3/connectionpool.py:981: InsecureRequestWarning: Unverified HTTPS request is being made to host '100.123.26.252'. Adding certificate verification is strongly advised. See: https://urllib3.readthedocs.io/en/latest/advanced-usage.html#ssl-warnings\n",
      "  warnings.warn(\n"
     ]
    },
    {
     "name": "stdout",
     "output_type": "stream",
     "text": [
      " dato_param['total']  12 1\n",
      "https://100.123.26.252/api/v2/devices/BC:A9:93:00:97:81/performance?offset=0&start_time=202110211800&stop_time=202110211859\n",
      "1.-Fecha: 2021-10-21 19:07:08.893157 - Error bucle externo:  404  no trajo datos:  https://100.123.26.224/api/v2/devices/BC:A9:93:00:97:81/performance?start_time=202110211800&stop_time=202110211859\n",
      "1.-Fecha: 2021-10-21 19:07:08.893157 - Error bucle externo:  404  no trajo datos:  https://100.123.26.252/api/v2/devices/BC:A9:93:00:97:8C/performance?start_time=202110211800&stop_time=202110211859\n"
     ]
    },
    {
     "name": "stderr",
     "output_type": "stream",
     "text": [
      "/opt/anaconda3/lib/python3.8/site-packages/urllib3/connectionpool.py:981: InsecureRequestWarning: Unverified HTTPS request is being made to host '100.123.26.252'. Adding certificate verification is strongly advised. See: https://urllib3.readthedocs.io/en/latest/advanced-usage.html#ssl-warnings\n",
      "  warnings.warn(\n",
      "/opt/anaconda3/lib/python3.8/site-packages/urllib3/connectionpool.py:981: InsecureRequestWarning: Unverified HTTPS request is being made to host '100.123.26.252'. Adding certificate verification is strongly advised. See: https://urllib3.readthedocs.io/en/latest/advanced-usage.html#ssl-warnings\n",
      "  warnings.warn(\n",
      "/opt/anaconda3/lib/python3.8/site-packages/urllib3/connectionpool.py:981: InsecureRequestWarning: Unverified HTTPS request is being made to host '100.123.26.224'. Adding certificate verification is strongly advised. See: https://urllib3.readthedocs.io/en/latest/advanced-usage.html#ssl-warnings\n",
      "  warnings.warn(\n"
     ]
    },
    {
     "name": "stdout",
     "output_type": "stream",
     "text": [
      " dato_param['total']  13 1\n",
      "https://100.123.26.252/api/v2/devices/BC:A9:93:00:97:96/performance?offset=0&start_time=202110211800&stop_time=202110211859\n",
      "1.-Fecha: 2021-10-21 19:07:08.893157 - Error bucle externo:  404  no trajo datos:  https://100.123.26.224/api/v2/devices/BC:A9:93:00:97:96/performance?start_time=202110211800&stop_time=202110211859\n",
      " dato_param['total']  13 1\n",
      "https://100.123.26.252/api/v2/devices/BC:A9:93:00:97:9C/performance?offset=0&start_time=202110211800&stop_time=202110211859\n"
     ]
    },
    {
     "name": "stderr",
     "output_type": "stream",
     "text": [
      "/opt/anaconda3/lib/python3.8/site-packages/urllib3/connectionpool.py:981: InsecureRequestWarning: Unverified HTTPS request is being made to host '100.123.26.252'. Adding certificate verification is strongly advised. See: https://urllib3.readthedocs.io/en/latest/advanced-usage.html#ssl-warnings\n",
      "  warnings.warn(\n",
      "/opt/anaconda3/lib/python3.8/site-packages/urllib3/connectionpool.py:981: InsecureRequestWarning: Unverified HTTPS request is being made to host '100.123.26.252'. Adding certificate verification is strongly advised. See: https://urllib3.readthedocs.io/en/latest/advanced-usage.html#ssl-warnings\n",
      "  warnings.warn(\n",
      "/opt/anaconda3/lib/python3.8/site-packages/urllib3/connectionpool.py:981: InsecureRequestWarning: Unverified HTTPS request is being made to host '100.123.26.224'. Adding certificate verification is strongly advised. See: https://urllib3.readthedocs.io/en/latest/advanced-usage.html#ssl-warnings\n",
      "  warnings.warn(\n",
      "/opt/anaconda3/lib/python3.8/site-packages/urllib3/connectionpool.py:981: InsecureRequestWarning: Unverified HTTPS request is being made to host '100.123.26.252'. Adding certificate verification is strongly advised. See: https://urllib3.readthedocs.io/en/latest/advanced-usage.html#ssl-warnings\n",
      "  warnings.warn(\n",
      "/opt/anaconda3/lib/python3.8/site-packages/urllib3/connectionpool.py:981: InsecureRequestWarning: Unverified HTTPS request is being made to host '100.123.26.252'. Adding certificate verification is strongly advised. See: https://urllib3.readthedocs.io/en/latest/advanced-usage.html#ssl-warnings\n",
      "  warnings.warn(\n"
     ]
    },
    {
     "name": "stdout",
     "output_type": "stream",
     "text": [
      "1.-Fecha: 2021-10-21 19:07:08.893157 - Error bucle externo:  404  no trajo datos:  https://100.123.26.224/api/v2/devices/BC:A9:93:00:97:9C/performance?start_time=202110211800&stop_time=202110211859\n",
      "1.-Fecha: 2021-10-21 19:07:08.893157 - Error bucle externo:  404  no trajo datos:  https://100.123.26.252/api/v2/devices/BC:A9:93:00:97:9D/performance?start_time=202110211800&stop_time=202110211859\n",
      " dato_param['total']  13 1\n",
      "https://100.123.26.252/api/v2/devices/BC:A9:93:00:97:9E/performance?offset=0&start_time=202110211800&stop_time=202110211859\n"
     ]
    },
    {
     "name": "stderr",
     "output_type": "stream",
     "text": [
      "/opt/anaconda3/lib/python3.8/site-packages/urllib3/connectionpool.py:981: InsecureRequestWarning: Unverified HTTPS request is being made to host '100.123.26.252'. Adding certificate verification is strongly advised. See: https://urllib3.readthedocs.io/en/latest/advanced-usage.html#ssl-warnings\n",
      "  warnings.warn(\n",
      "/opt/anaconda3/lib/python3.8/site-packages/urllib3/connectionpool.py:981: InsecureRequestWarning: Unverified HTTPS request is being made to host '100.123.26.224'. Adding certificate verification is strongly advised. See: https://urllib3.readthedocs.io/en/latest/advanced-usage.html#ssl-warnings\n",
      "  warnings.warn(\n",
      "/opt/anaconda3/lib/python3.8/site-packages/urllib3/connectionpool.py:981: InsecureRequestWarning: Unverified HTTPS request is being made to host '100.123.26.252'. Adding certificate verification is strongly advised. See: https://urllib3.readthedocs.io/en/latest/advanced-usage.html#ssl-warnings\n",
      "  warnings.warn(\n"
     ]
    },
    {
     "name": "stdout",
     "output_type": "stream",
     "text": [
      "1.-Fecha: 2021-10-21 19:07:08.893157 - Error bucle externo:  404  no trajo datos:  https://100.123.26.224/api/v2/devices/BC:A9:93:00:97:9E/performance?start_time=202110211800&stop_time=202110211859\n",
      " dato_param['total']  13 1\n",
      "https://100.123.26.252/api/v2/devices/BC:A9:93:00:97:9F/performance?offset=0&start_time=202110211800&stop_time=202110211859\n",
      "1.-Fecha: 2021-10-21 19:07:08.893157 - Error bucle externo:  404  no trajo datos:  https://100.123.26.224/api/v2/devices/BC:A9:93:00:97:9F/performance?start_time=202110211800&stop_time=202110211859\n",
      "1.-Fecha: 2021-10-21 19:07:08.893157 - Error bucle externo:  404  no trajo datos:  https://100.123.26.252/api/v2/devices/BC:A9:93:00:97:A4/performance?start_time=202110211800&stop_time=202110211859\n"
     ]
    },
    {
     "name": "stderr",
     "output_type": "stream",
     "text": [
      "/opt/anaconda3/lib/python3.8/site-packages/urllib3/connectionpool.py:981: InsecureRequestWarning: Unverified HTTPS request is being made to host '100.123.26.252'. Adding certificate verification is strongly advised. See: https://urllib3.readthedocs.io/en/latest/advanced-usage.html#ssl-warnings\n",
      "  warnings.warn(\n",
      "/opt/anaconda3/lib/python3.8/site-packages/urllib3/connectionpool.py:981: InsecureRequestWarning: Unverified HTTPS request is being made to host '100.123.26.224'. Adding certificate verification is strongly advised. See: https://urllib3.readthedocs.io/en/latest/advanced-usage.html#ssl-warnings\n",
      "  warnings.warn(\n",
      "/opt/anaconda3/lib/python3.8/site-packages/urllib3/connectionpool.py:981: InsecureRequestWarning: Unverified HTTPS request is being made to host '100.123.26.252'. Adding certificate verification is strongly advised. See: https://urllib3.readthedocs.io/en/latest/advanced-usage.html#ssl-warnings\n",
      "  warnings.warn(\n",
      "/opt/anaconda3/lib/python3.8/site-packages/urllib3/connectionpool.py:981: InsecureRequestWarning: Unverified HTTPS request is being made to host '100.123.26.252'. Adding certificate verification is strongly advised. See: https://urllib3.readthedocs.io/en/latest/advanced-usage.html#ssl-warnings\n",
      "  warnings.warn(\n",
      "/opt/anaconda3/lib/python3.8/site-packages/urllib3/connectionpool.py:981: InsecureRequestWarning: Unverified HTTPS request is being made to host '100.123.26.252'. Adding certificate verification is strongly advised. See: https://urllib3.readthedocs.io/en/latest/advanced-usage.html#ssl-warnings\n",
      "  warnings.warn(\n"
     ]
    },
    {
     "name": "stdout",
     "output_type": "stream",
     "text": [
      "1.-Fecha: 2021-10-21 19:07:08.893157 - Error bucle externo:  404  no trajo datos:  https://100.123.26.252/api/v2/devices/BC:A9:93:00:97:A6/performance?start_time=202110211800&stop_time=202110211859\n",
      "1.-Fecha: 2021-10-21 19:07:08.893157 - Error bucle externo:  404  no trajo datos:  https://100.123.26.252/api/v2/devices/BC:A9:93:00:97:A7/performance?start_time=202110211800&stop_time=202110211859\n",
      "1.-Fecha: 2021-10-21 19:07:08.893157 - Error bucle externo:  404  no trajo datos:  https://100.123.26.252/api/v2/devices/BC:A9:93:00:97:AE/performance?start_time=202110211800&stop_time=202110211859\n",
      " dato_param['total']  13 1\n",
      "https://100.123.26.252/api/v2/devices/BC:A9:93:00:97:B2/performance?offset=0&start_time=202110211800&stop_time=202110211859\n"
     ]
    },
    {
     "name": "stderr",
     "output_type": "stream",
     "text": [
      "/opt/anaconda3/lib/python3.8/site-packages/urllib3/connectionpool.py:981: InsecureRequestWarning: Unverified HTTPS request is being made to host '100.123.26.252'. Adding certificate verification is strongly advised. See: https://urllib3.readthedocs.io/en/latest/advanced-usage.html#ssl-warnings\n",
      "  warnings.warn(\n",
      "/opt/anaconda3/lib/python3.8/site-packages/urllib3/connectionpool.py:981: InsecureRequestWarning: Unverified HTTPS request is being made to host '100.123.26.252'. Adding certificate verification is strongly advised. See: https://urllib3.readthedocs.io/en/latest/advanced-usage.html#ssl-warnings\n",
      "  warnings.warn(\n",
      "/opt/anaconda3/lib/python3.8/site-packages/urllib3/connectionpool.py:981: InsecureRequestWarning: Unverified HTTPS request is being made to host '100.123.26.252'. Adding certificate verification is strongly advised. See: https://urllib3.readthedocs.io/en/latest/advanced-usage.html#ssl-warnings\n",
      "  warnings.warn(\n",
      "/opt/anaconda3/lib/python3.8/site-packages/urllib3/connectionpool.py:981: InsecureRequestWarning: Unverified HTTPS request is being made to host '100.123.26.224'. Adding certificate verification is strongly advised. See: https://urllib3.readthedocs.io/en/latest/advanced-usage.html#ssl-warnings\n",
      "  warnings.warn(\n"
     ]
    },
    {
     "name": "stdout",
     "output_type": "stream",
     "text": [
      "1.-Fecha: 2021-10-21 19:07:08.893157 - Error bucle externo:  404  no trajo datos:  https://100.123.26.224/api/v2/devices/BC:A9:93:00:97:B2/performance?start_time=202110211800&stop_time=202110211859\n",
      " dato_param['total']  4 1\n",
      "https://100.123.26.252/api/v2/devices/BC:A9:93:00:97:B4/performance?offset=0&start_time=202110211800&stop_time=202110211859\n",
      "1.-Fecha: 2021-10-21 19:07:08.893157 - Error bucle externo:  404  no trajo datos:  https://100.123.26.224/api/v2/devices/BC:A9:93:00:97:B4/performance?start_time=202110211800&stop_time=202110211859\n"
     ]
    },
    {
     "name": "stderr",
     "output_type": "stream",
     "text": [
      "/opt/anaconda3/lib/python3.8/site-packages/urllib3/connectionpool.py:981: InsecureRequestWarning: Unverified HTTPS request is being made to host '100.123.26.252'. Adding certificate verification is strongly advised. See: https://urllib3.readthedocs.io/en/latest/advanced-usage.html#ssl-warnings\n",
      "  warnings.warn(\n",
      "/opt/anaconda3/lib/python3.8/site-packages/urllib3/connectionpool.py:981: InsecureRequestWarning: Unverified HTTPS request is being made to host '100.123.26.252'. Adding certificate verification is strongly advised. See: https://urllib3.readthedocs.io/en/latest/advanced-usage.html#ssl-warnings\n",
      "  warnings.warn(\n",
      "/opt/anaconda3/lib/python3.8/site-packages/urllib3/connectionpool.py:981: InsecureRequestWarning: Unverified HTTPS request is being made to host '100.123.26.224'. Adding certificate verification is strongly advised. See: https://urllib3.readthedocs.io/en/latest/advanced-usage.html#ssl-warnings\n",
      "  warnings.warn(\n",
      "/opt/anaconda3/lib/python3.8/site-packages/urllib3/connectionpool.py:981: InsecureRequestWarning: Unverified HTTPS request is being made to host '100.123.26.252'. Adding certificate verification is strongly advised. See: https://urllib3.readthedocs.io/en/latest/advanced-usage.html#ssl-warnings\n",
      "  warnings.warn(\n"
     ]
    },
    {
     "name": "stdout",
     "output_type": "stream",
     "text": [
      " dato_param['total']  13 1\n",
      "https://100.123.26.252/api/v2/devices/BC:A9:93:00:97:B5/performance?offset=0&start_time=202110211800&stop_time=202110211859\n",
      "1.-Fecha: 2021-10-21 19:07:08.893157 - Error bucle externo:  404  no trajo datos:  https://100.123.26.224/api/v2/devices/BC:A9:93:00:97:B5/performance?start_time=202110211800&stop_time=202110211859\n",
      "1.-Fecha: 2021-10-21 19:07:08.893157 - Error bucle externo:  404  no trajo datos:  https://100.123.26.252/api/v2/devices/BC:A9:93:00:97:B6/performance?start_time=202110211800&stop_time=202110211859\n",
      "1.-Fecha: 2021-10-21 19:07:08.893157 - Error bucle externo:  404  no trajo datos:  https://100.123.26.252/api/v2/devices/BC:A9:93:00:97:B7/performance?start_time=202110211800&stop_time=202110211859\n"
     ]
    },
    {
     "name": "stderr",
     "output_type": "stream",
     "text": [
      "/opt/anaconda3/lib/python3.8/site-packages/urllib3/connectionpool.py:981: InsecureRequestWarning: Unverified HTTPS request is being made to host '100.123.26.252'. Adding certificate verification is strongly advised. See: https://urllib3.readthedocs.io/en/latest/advanced-usage.html#ssl-warnings\n",
      "  warnings.warn(\n",
      "/opt/anaconda3/lib/python3.8/site-packages/urllib3/connectionpool.py:981: InsecureRequestWarning: Unverified HTTPS request is being made to host '100.123.26.224'. Adding certificate verification is strongly advised. See: https://urllib3.readthedocs.io/en/latest/advanced-usage.html#ssl-warnings\n",
      "  warnings.warn(\n",
      "/opt/anaconda3/lib/python3.8/site-packages/urllib3/connectionpool.py:981: InsecureRequestWarning: Unverified HTTPS request is being made to host '100.123.26.252'. Adding certificate verification is strongly advised. See: https://urllib3.readthedocs.io/en/latest/advanced-usage.html#ssl-warnings\n",
      "  warnings.warn(\n",
      "/opt/anaconda3/lib/python3.8/site-packages/urllib3/connectionpool.py:981: InsecureRequestWarning: Unverified HTTPS request is being made to host '100.123.26.252'. Adding certificate verification is strongly advised. See: https://urllib3.readthedocs.io/en/latest/advanced-usage.html#ssl-warnings\n",
      "  warnings.warn(\n",
      "/opt/anaconda3/lib/python3.8/site-packages/urllib3/connectionpool.py:981: InsecureRequestWarning: Unverified HTTPS request is being made to host '100.123.26.252'. Adding certificate verification is strongly advised. See: https://urllib3.readthedocs.io/en/latest/advanced-usage.html#ssl-warnings\n",
      "  warnings.warn(\n"
     ]
    },
    {
     "name": "stdout",
     "output_type": "stream",
     "text": [
      "1.-Fecha: 2021-10-21 19:07:08.893157 - Error bucle externo:  404  no trajo datos:  https://100.123.26.252/api/v2/devices/BC:A9:93:00:97:B8/performance?start_time=202110211800&stop_time=202110211859\n",
      "1.-Fecha: 2021-10-21 19:07:08.893157 - Error bucle externo:  404  no trajo datos:  https://100.123.26.252/api/v2/devices/BC:A9:93:00:97:B9/performance?start_time=202110211800&stop_time=202110211859\n",
      " dato_param['total']  14 1\n",
      "https://100.123.26.252/api/v2/devices/BC:A9:93:00:97:BA/performance?offset=0&start_time=202110211800&stop_time=202110211859\n"
     ]
    },
    {
     "name": "stderr",
     "output_type": "stream",
     "text": [
      "/opt/anaconda3/lib/python3.8/site-packages/urllib3/connectionpool.py:981: InsecureRequestWarning: Unverified HTTPS request is being made to host '100.123.26.252'. Adding certificate verification is strongly advised. See: https://urllib3.readthedocs.io/en/latest/advanced-usage.html#ssl-warnings\n",
      "  warnings.warn(\n",
      "/opt/anaconda3/lib/python3.8/site-packages/urllib3/connectionpool.py:981: InsecureRequestWarning: Unverified HTTPS request is being made to host '100.123.26.252'. Adding certificate verification is strongly advised. See: https://urllib3.readthedocs.io/en/latest/advanced-usage.html#ssl-warnings\n",
      "  warnings.warn(\n",
      "/opt/anaconda3/lib/python3.8/site-packages/urllib3/connectionpool.py:981: InsecureRequestWarning: Unverified HTTPS request is being made to host '100.123.26.252'. Adding certificate verification is strongly advised. See: https://urllib3.readthedocs.io/en/latest/advanced-usage.html#ssl-warnings\n",
      "  warnings.warn(\n",
      "/opt/anaconda3/lib/python3.8/site-packages/urllib3/connectionpool.py:981: InsecureRequestWarning: Unverified HTTPS request is being made to host '100.123.26.224'. Adding certificate verification is strongly advised. See: https://urllib3.readthedocs.io/en/latest/advanced-usage.html#ssl-warnings\n",
      "  warnings.warn(\n",
      "/opt/anaconda3/lib/python3.8/site-packages/urllib3/connectionpool.py:981: InsecureRequestWarning: Unverified HTTPS request is being made to host '100.123.26.252'. Adding certificate verification is strongly advised. See: https://urllib3.readthedocs.io/en/latest/advanced-usage.html#ssl-warnings\n",
      "  warnings.warn(\n",
      "/opt/anaconda3/lib/python3.8/site-packages/urllib3/connectionpool.py:981: InsecureRequestWarning: Unverified HTTPS request is being made to host '100.123.26.252'. Adding certificate verification is strongly advised. See: https://urllib3.readthedocs.io/en/latest/advanced-usage.html#ssl-warnings\n",
      "  warnings.warn(\n",
      "/opt/anaconda3/lib/python3.8/site-packages/urllib3/connectionpool.py:981: InsecureRequestWarning: Unverified HTTPS request is being made to host '100.123.26.252'. Adding certificate verification is strongly advised. See: https://urllib3.readthedocs.io/en/latest/advanced-usage.html#ssl-warnings\n",
      "  warnings.warn(\n",
      "/opt/anaconda3/lib/python3.8/site-packages/urllib3/connectionpool.py:981: InsecureRequestWarning: Unverified HTTPS request is being made to host '100.123.26.252'. Adding certificate verification is strongly advised. See: https://urllib3.readthedocs.io/en/latest/advanced-usage.html#ssl-warnings\n",
      "  warnings.warn(\n"
     ]
    },
    {
     "name": "stdout",
     "output_type": "stream",
     "text": [
      "1.-Fecha: 2021-10-21 19:07:08.893157 - Error bucle externo:  404  no trajo datos:  https://100.123.26.224/api/v2/devices/BC:A9:93:00:97:BA/performance?start_time=202110211800&stop_time=202110211859\n",
      "1.-Fecha: 2021-10-21 19:07:08.893157 - Error bucle externo:  422  no trajo datos:  https://100.123.26.252/api/v2/devices/BC:A9:93:00:97:BB/performance?start_time=202110211800&stop_time=202110211859\n",
      "1.-Fecha: 2021-10-21 19:07:08.893157 - Error bucle externo:  404  no trajo datos:  https://100.123.26.252/api/v2/devices/BC:A9:93:00:97:BE/performance?start_time=202110211800&stop_time=202110211859\n",
      "1.-Fecha: 2021-10-21 19:07:08.893157 - Error bucle externo:  404  no trajo datos:  https://100.123.26.252/api/v2/devices/BC:A9:93:00:97:BF/performance?start_time=202110211800&stop_time=202110211859\n",
      "1.-Fecha: 2021-10-21 19:07:08.893157 - Error bucle externo:  404  no trajo datos:  https://100.123.26.252/api/v2/devices/BC:A9:93:00:97:C2/performance?start_time=202110211800&stop_time=202110211859\n",
      "1.-Fecha: 2021-10-21 19:07:08.893157 - Error bucle externo:  404  no trajo datos:  https://100.123.26.252/api/v2/devices/BC:A9:93:00:97:C6/performance?start_time=202110211800&stop_time=202110211859\n",
      "1.-Fecha: 2021-10-21 19:07:08.893157 - Error bucle externo:  404  no trajo datos:  https://100.123.26.252/api/v2/devices/BC:A9:93:00:97:CA/performance?start_time=202110211800&stop_time=202110211859\n",
      "1.-Fecha: 2021-10-21 19:07:08.893157 - Error bucle externo:  404  no trajo datos:  https://100.123.26.252/api/v2/devices/BC:A9:93:00:97:D0/performance?start_time=202110211800&stop_time=202110211859\n"
     ]
    },
    {
     "name": "stderr",
     "output_type": "stream",
     "text": [
      "/opt/anaconda3/lib/python3.8/site-packages/urllib3/connectionpool.py:981: InsecureRequestWarning: Unverified HTTPS request is being made to host '100.123.26.252'. Adding certificate verification is strongly advised. See: https://urllib3.readthedocs.io/en/latest/advanced-usage.html#ssl-warnings\n",
      "  warnings.warn(\n",
      "/opt/anaconda3/lib/python3.8/site-packages/urllib3/connectionpool.py:981: InsecureRequestWarning: Unverified HTTPS request is being made to host '100.123.26.252'. Adding certificate verification is strongly advised. See: https://urllib3.readthedocs.io/en/latest/advanced-usage.html#ssl-warnings\n",
      "  warnings.warn(\n",
      "/opt/anaconda3/lib/python3.8/site-packages/urllib3/connectionpool.py:981: InsecureRequestWarning: Unverified HTTPS request is being made to host '100.123.26.252'. Adding certificate verification is strongly advised. See: https://urllib3.readthedocs.io/en/latest/advanced-usage.html#ssl-warnings\n",
      "  warnings.warn(\n",
      "/opt/anaconda3/lib/python3.8/site-packages/urllib3/connectionpool.py:981: InsecureRequestWarning: Unverified HTTPS request is being made to host '100.123.26.252'. Adding certificate verification is strongly advised. See: https://urllib3.readthedocs.io/en/latest/advanced-usage.html#ssl-warnings\n",
      "  warnings.warn(\n"
     ]
    },
    {
     "name": "stdout",
     "output_type": "stream",
     "text": [
      "1.-Fecha: 2021-10-21 19:07:08.893157 - Error bucle externo:  404  no trajo datos:  https://100.123.26.252/api/v2/devices/BC:A9:93:00:97:D3/performance?start_time=202110211800&stop_time=202110211859\n",
      "1.-Fecha: 2021-10-21 19:07:08.893157 - Error bucle externo:  404  no trajo datos:  https://100.123.26.252/api/v2/devices/BC:A9:93:00:97:D6/performance?start_time=202110211800&stop_time=202110211859\n",
      "1.-Fecha: 2021-10-21 19:07:08.893157 - Error bucle externo:  422  no trajo datos:  https://100.123.26.252/api/v2/devices/BC:A9:93:00:97:D8/performance?start_time=202110211800&stop_time=202110211859\n",
      " dato_param['total']  13 1\n",
      "https://100.123.26.252/api/v2/devices/BC:A9:93:00:97:E0/performance?offset=0&start_time=202110211800&stop_time=202110211859\n"
     ]
    },
    {
     "name": "stderr",
     "output_type": "stream",
     "text": [
      "/opt/anaconda3/lib/python3.8/site-packages/urllib3/connectionpool.py:981: InsecureRequestWarning: Unverified HTTPS request is being made to host '100.123.26.252'. Adding certificate verification is strongly advised. See: https://urllib3.readthedocs.io/en/latest/advanced-usage.html#ssl-warnings\n",
      "  warnings.warn(\n",
      "/opt/anaconda3/lib/python3.8/site-packages/urllib3/connectionpool.py:981: InsecureRequestWarning: Unverified HTTPS request is being made to host '100.123.26.252'. Adding certificate verification is strongly advised. See: https://urllib3.readthedocs.io/en/latest/advanced-usage.html#ssl-warnings\n",
      "  warnings.warn(\n",
      "/opt/anaconda3/lib/python3.8/site-packages/urllib3/connectionpool.py:981: InsecureRequestWarning: Unverified HTTPS request is being made to host '100.123.26.252'. Adding certificate verification is strongly advised. See: https://urllib3.readthedocs.io/en/latest/advanced-usage.html#ssl-warnings\n",
      "  warnings.warn(\n",
      "/opt/anaconda3/lib/python3.8/site-packages/urllib3/connectionpool.py:981: InsecureRequestWarning: Unverified HTTPS request is being made to host '100.123.26.252'. Adding certificate verification is strongly advised. See: https://urllib3.readthedocs.io/en/latest/advanced-usage.html#ssl-warnings\n",
      "  warnings.warn(\n",
      "/opt/anaconda3/lib/python3.8/site-packages/urllib3/connectionpool.py:981: InsecureRequestWarning: Unverified HTTPS request is being made to host '100.123.26.224'. Adding certificate verification is strongly advised. See: https://urllib3.readthedocs.io/en/latest/advanced-usage.html#ssl-warnings\n",
      "  warnings.warn(\n",
      "/opt/anaconda3/lib/python3.8/site-packages/urllib3/connectionpool.py:981: InsecureRequestWarning: Unverified HTTPS request is being made to host '100.123.26.252'. Adding certificate verification is strongly advised. See: https://urllib3.readthedocs.io/en/latest/advanced-usage.html#ssl-warnings\n",
      "  warnings.warn(\n",
      "/opt/anaconda3/lib/python3.8/site-packages/urllib3/connectionpool.py:981: InsecureRequestWarning: Unverified HTTPS request is being made to host '100.123.26.252'. Adding certificate verification is strongly advised. See: https://urllib3.readthedocs.io/en/latest/advanced-usage.html#ssl-warnings\n",
      "  warnings.warn(\n",
      "/opt/anaconda3/lib/python3.8/site-packages/urllib3/connectionpool.py:981: InsecureRequestWarning: Unverified HTTPS request is being made to host '100.123.26.252'. Adding certificate verification is strongly advised. See: https://urllib3.readthedocs.io/en/latest/advanced-usage.html#ssl-warnings\n",
      "  warnings.warn(\n"
     ]
    },
    {
     "name": "stdout",
     "output_type": "stream",
     "text": [
      "1.-Fecha: 2021-10-21 19:07:08.893157 - Error bucle externo:  404  no trajo datos:  https://100.123.26.224/api/v2/devices/BC:A9:93:00:97:E0/performance?start_time=202110211800&stop_time=202110211859\n",
      "1.-Fecha: 2021-10-21 19:07:08.893157 - Error bucle externo:  404  no trajo datos:  https://100.123.26.252/api/v2/devices/BC:A9:93:00:97:E1/performance?start_time=202110211800&stop_time=202110211859\n",
      " dato_param['total']  13 1\n",
      "https://100.123.26.252/api/v2/devices/BC:A9:93:00:97:E5/performance?offset=0&start_time=202110211800&stop_time=202110211859\n",
      "1.-Fecha: 2021-10-21 19:07:08.893157 - Error bucle externo:  404  no trajo datos:  https://100.123.26.224/api/v2/devices/BC:A9:93:00:97:E5/performance?start_time=202110211800&stop_time=202110211859\n"
     ]
    },
    {
     "name": "stderr",
     "output_type": "stream",
     "text": [
      "/opt/anaconda3/lib/python3.8/site-packages/urllib3/connectionpool.py:981: InsecureRequestWarning: Unverified HTTPS request is being made to host '100.123.26.224'. Adding certificate verification is strongly advised. See: https://urllib3.readthedocs.io/en/latest/advanced-usage.html#ssl-warnings\n",
      "  warnings.warn(\n",
      "/opt/anaconda3/lib/python3.8/site-packages/urllib3/connectionpool.py:981: InsecureRequestWarning: Unverified HTTPS request is being made to host '100.123.26.252'. Adding certificate verification is strongly advised. See: https://urllib3.readthedocs.io/en/latest/advanced-usage.html#ssl-warnings\n",
      "  warnings.warn(\n",
      "/opt/anaconda3/lib/python3.8/site-packages/urllib3/connectionpool.py:981: InsecureRequestWarning: Unverified HTTPS request is being made to host '100.123.26.252'. Adding certificate verification is strongly advised. See: https://urllib3.readthedocs.io/en/latest/advanced-usage.html#ssl-warnings\n",
      "  warnings.warn(\n",
      "/opt/anaconda3/lib/python3.8/site-packages/urllib3/connectionpool.py:981: InsecureRequestWarning: Unverified HTTPS request is being made to host '100.123.26.252'. Adding certificate verification is strongly advised. See: https://urllib3.readthedocs.io/en/latest/advanced-usage.html#ssl-warnings\n",
      "  warnings.warn(\n",
      "/opt/anaconda3/lib/python3.8/site-packages/urllib3/connectionpool.py:981: InsecureRequestWarning: Unverified HTTPS request is being made to host '100.123.26.224'. Adding certificate verification is strongly advised. See: https://urllib3.readthedocs.io/en/latest/advanced-usage.html#ssl-warnings\n",
      "  warnings.warn(\n"
     ]
    },
    {
     "name": "stdout",
     "output_type": "stream",
     "text": [
      "1.-Fecha: 2021-10-21 19:07:08.893157 - Error bucle externo:  404  no trajo datos:  https://100.123.26.252/api/v2/devices/BC:A9:93:00:97:E8/performance?start_time=202110211800&stop_time=202110211859\n",
      " dato_param['total']  1 1\n",
      "https://100.123.26.252/api/v2/devices/BC:A9:93:00:97:EA/performance?offset=0&start_time=202110211800&stop_time=202110211859\n",
      "1.-Fecha: 2021-10-21 19:07:08.893157 - Error bucle externo:  404  no trajo datos:  https://100.123.26.224/api/v2/devices/BC:A9:93:00:97:EA/performance?start_time=202110211800&stop_time=202110211859\n",
      "1.-Fecha: 2021-10-21 19:07:08.893157 - Error bucle externo:  404  no trajo datos:  https://100.123.26.252/api/v2/devices/BC:A9:93:00:97:EC/performance?start_time=202110211800&stop_time=202110211859\n"
     ]
    },
    {
     "name": "stderr",
     "output_type": "stream",
     "text": [
      "/opt/anaconda3/lib/python3.8/site-packages/urllib3/connectionpool.py:981: InsecureRequestWarning: Unverified HTTPS request is being made to host '100.123.26.252'. Adding certificate verification is strongly advised. See: https://urllib3.readthedocs.io/en/latest/advanced-usage.html#ssl-warnings\n",
      "  warnings.warn(\n",
      "/opt/anaconda3/lib/python3.8/site-packages/urllib3/connectionpool.py:981: InsecureRequestWarning: Unverified HTTPS request is being made to host '100.123.26.252'. Adding certificate verification is strongly advised. See: https://urllib3.readthedocs.io/en/latest/advanced-usage.html#ssl-warnings\n",
      "  warnings.warn(\n",
      "/opt/anaconda3/lib/python3.8/site-packages/urllib3/connectionpool.py:981: InsecureRequestWarning: Unverified HTTPS request is being made to host '100.123.26.252'. Adding certificate verification is strongly advised. See: https://urllib3.readthedocs.io/en/latest/advanced-usage.html#ssl-warnings\n",
      "  warnings.warn(\n",
      "/opt/anaconda3/lib/python3.8/site-packages/urllib3/connectionpool.py:981: InsecureRequestWarning: Unverified HTTPS request is being made to host '100.123.26.224'. Adding certificate verification is strongly advised. See: https://urllib3.readthedocs.io/en/latest/advanced-usage.html#ssl-warnings\n",
      "  warnings.warn(\n"
     ]
    },
    {
     "name": "stdout",
     "output_type": "stream",
     "text": [
      " dato_param['total']  13 1\n",
      "https://100.123.26.252/api/v2/devices/BC:A9:93:00:97:ED/performance?offset=0&start_time=202110211800&stop_time=202110211859\n",
      "1.-Fecha: 2021-10-21 19:07:08.893157 - Error bucle externo:  404  no trajo datos:  https://100.123.26.224/api/v2/devices/BC:A9:93:00:97:ED/performance?start_time=202110211800&stop_time=202110211859\n"
     ]
    },
    {
     "name": "stderr",
     "output_type": "stream",
     "text": [
      "/opt/anaconda3/lib/python3.8/site-packages/urllib3/connectionpool.py:981: InsecureRequestWarning: Unverified HTTPS request is being made to host '100.123.26.252'. Adding certificate verification is strongly advised. See: https://urllib3.readthedocs.io/en/latest/advanced-usage.html#ssl-warnings\n",
      "  warnings.warn(\n",
      "/opt/anaconda3/lib/python3.8/site-packages/urllib3/connectionpool.py:981: InsecureRequestWarning: Unverified HTTPS request is being made to host '100.123.26.252'. Adding certificate verification is strongly advised. See: https://urllib3.readthedocs.io/en/latest/advanced-usage.html#ssl-warnings\n",
      "  warnings.warn(\n",
      "/opt/anaconda3/lib/python3.8/site-packages/urllib3/connectionpool.py:981: InsecureRequestWarning: Unverified HTTPS request is being made to host '100.123.26.224'. Adding certificate verification is strongly advised. See: https://urllib3.readthedocs.io/en/latest/advanced-usage.html#ssl-warnings\n",
      "  warnings.warn(\n",
      "/opt/anaconda3/lib/python3.8/site-packages/urllib3/connectionpool.py:981: InsecureRequestWarning: Unverified HTTPS request is being made to host '100.123.26.252'. Adding certificate verification is strongly advised. See: https://urllib3.readthedocs.io/en/latest/advanced-usage.html#ssl-warnings\n",
      "  warnings.warn(\n",
      "/opt/anaconda3/lib/python3.8/site-packages/urllib3/connectionpool.py:981: InsecureRequestWarning: Unverified HTTPS request is being made to host '100.123.26.252'. Adding certificate verification is strongly advised. See: https://urllib3.readthedocs.io/en/latest/advanced-usage.html#ssl-warnings\n",
      "  warnings.warn(\n",
      "/opt/anaconda3/lib/python3.8/site-packages/urllib3/connectionpool.py:981: InsecureRequestWarning: Unverified HTTPS request is being made to host '100.123.26.252'. Adding certificate verification is strongly advised. See: https://urllib3.readthedocs.io/en/latest/advanced-usage.html#ssl-warnings\n",
      "  warnings.warn(\n"
     ]
    },
    {
     "name": "stdout",
     "output_type": "stream",
     "text": [
      " dato_param['total']  13 1\n",
      "https://100.123.26.252/api/v2/devices/BC:A9:93:00:97:EE/performance?offset=0&start_time=202110211800&stop_time=202110211859\n",
      "1.-Fecha: 2021-10-21 19:07:08.893157 - Error bucle externo:  404  no trajo datos:  https://100.123.26.224/api/v2/devices/BC:A9:93:00:97:EE/performance?start_time=202110211800&stop_time=202110211859\n",
      "1.-Fecha: 2021-10-21 19:07:08.893157 - Error bucle externo:  404  no trajo datos:  https://100.123.26.252/api/v2/devices/BC:A9:93:00:97:F6/performance?start_time=202110211800&stop_time=202110211859\n",
      " dato_param['total']  20 1\n",
      "https://100.123.26.252/api/v2/devices/BC:A9:93:00:97:F8/performance?offset=0&start_time=202110211800&stop_time=202110211859\n"
     ]
    },
    {
     "name": "stderr",
     "output_type": "stream",
     "text": [
      "/opt/anaconda3/lib/python3.8/site-packages/urllib3/connectionpool.py:981: InsecureRequestWarning: Unverified HTTPS request is being made to host '100.123.26.224'. Adding certificate verification is strongly advised. See: https://urllib3.readthedocs.io/en/latest/advanced-usage.html#ssl-warnings\n",
      "  warnings.warn(\n",
      "/opt/anaconda3/lib/python3.8/site-packages/urllib3/connectionpool.py:981: InsecureRequestWarning: Unverified HTTPS request is being made to host '100.123.26.252'. Adding certificate verification is strongly advised. See: https://urllib3.readthedocs.io/en/latest/advanced-usage.html#ssl-warnings\n",
      "  warnings.warn(\n",
      "/opt/anaconda3/lib/python3.8/site-packages/urllib3/connectionpool.py:981: InsecureRequestWarning: Unverified HTTPS request is being made to host '100.123.26.252'. Adding certificate verification is strongly advised. See: https://urllib3.readthedocs.io/en/latest/advanced-usage.html#ssl-warnings\n",
      "  warnings.warn(\n",
      "/opt/anaconda3/lib/python3.8/site-packages/urllib3/connectionpool.py:981: InsecureRequestWarning: Unverified HTTPS request is being made to host '100.123.26.252'. Adding certificate verification is strongly advised. See: https://urllib3.readthedocs.io/en/latest/advanced-usage.html#ssl-warnings\n",
      "  warnings.warn(\n"
     ]
    },
    {
     "name": "stdout",
     "output_type": "stream",
     "text": [
      "1.-Fecha: 2021-10-21 19:07:08.893157 - Error bucle externo:  404  no trajo datos:  https://100.123.26.224/api/v2/devices/BC:A9:93:00:97:F8/performance?start_time=202110211800&stop_time=202110211859\n",
      "1.-Fecha: 2021-10-21 19:07:08.893157 - Error bucle externo:  404  no trajo datos:  https://100.123.26.252/api/v2/devices/BC:A9:93:00:97:FB/performance?start_time=202110211800&stop_time=202110211859\n",
      "1.-Fecha: 2021-10-21 19:07:08.893157 - Error bucle externo:  404  no trajo datos:  https://100.123.26.252/api/v2/devices/BC:A9:93:00:97:FC/performance?start_time=202110211800&stop_time=202110211859\n",
      "1.-Fecha: 2021-10-21 19:07:08.893157 - Error bucle externo:  404  no trajo datos:  https://100.123.26.252/api/v2/devices/BC:A9:93:00:97:FD/performance?start_time=202110211800&stop_time=202110211859\n"
     ]
    },
    {
     "name": "stderr",
     "output_type": "stream",
     "text": [
      "/opt/anaconda3/lib/python3.8/site-packages/urllib3/connectionpool.py:981: InsecureRequestWarning: Unverified HTTPS request is being made to host '100.123.26.252'. Adding certificate verification is strongly advised. See: https://urllib3.readthedocs.io/en/latest/advanced-usage.html#ssl-warnings\n",
      "  warnings.warn(\n",
      "/opt/anaconda3/lib/python3.8/site-packages/urllib3/connectionpool.py:981: InsecureRequestWarning: Unverified HTTPS request is being made to host '100.123.26.252'. Adding certificate verification is strongly advised. See: https://urllib3.readthedocs.io/en/latest/advanced-usage.html#ssl-warnings\n",
      "  warnings.warn(\n",
      "/opt/anaconda3/lib/python3.8/site-packages/urllib3/connectionpool.py:981: InsecureRequestWarning: Unverified HTTPS request is being made to host '100.123.26.252'. Adding certificate verification is strongly advised. See: https://urllib3.readthedocs.io/en/latest/advanced-usage.html#ssl-warnings\n",
      "  warnings.warn(\n",
      "/opt/anaconda3/lib/python3.8/site-packages/urllib3/connectionpool.py:981: InsecureRequestWarning: Unverified HTTPS request is being made to host '100.123.26.224'. Adding certificate verification is strongly advised. See: https://urllib3.readthedocs.io/en/latest/advanced-usage.html#ssl-warnings\n",
      "  warnings.warn(\n"
     ]
    },
    {
     "name": "stdout",
     "output_type": "stream",
     "text": [
      "1.-Fecha: 2021-10-21 19:07:08.893157 - Error bucle externo:  404  no trajo datos:  https://100.123.26.252/api/v2/devices/BC:A9:93:00:98:01/performance?start_time=202110211800&stop_time=202110211859\n",
      " dato_param['total']  12 1\n",
      "https://100.123.26.252/api/v2/devices/BC:A9:93:00:98:06/performance?offset=0&start_time=202110211800&stop_time=202110211859\n",
      "1.-Fecha: 2021-10-21 19:07:08.893157 - Error bucle externo:  404  no trajo datos:  https://100.123.26.224/api/v2/devices/BC:A9:93:00:98:06/performance?start_time=202110211800&stop_time=202110211859\n",
      " dato_param['total']  1 1\n",
      "https://100.123.26.252/api/v2/devices/BC:A9:93:00:98:07/performance?offset=0&start_time=202110211800&stop_time=202110211859\n",
      "1.-Fecha: 2021-10-21 19:07:08.893157 - Error bucle externo:  404  no trajo datos:  https://100.123.26.224/api/v2/devices/BC:A9:93:00:98:07/performance?start_time=202110211800&stop_time=202110211859\n"
     ]
    },
    {
     "name": "stderr",
     "output_type": "stream",
     "text": [
      "/opt/anaconda3/lib/python3.8/site-packages/urllib3/connectionpool.py:981: InsecureRequestWarning: Unverified HTTPS request is being made to host '100.123.26.252'. Adding certificate verification is strongly advised. See: https://urllib3.readthedocs.io/en/latest/advanced-usage.html#ssl-warnings\n",
      "  warnings.warn(\n",
      "/opt/anaconda3/lib/python3.8/site-packages/urllib3/connectionpool.py:981: InsecureRequestWarning: Unverified HTTPS request is being made to host '100.123.26.252'. Adding certificate verification is strongly advised. See: https://urllib3.readthedocs.io/en/latest/advanced-usage.html#ssl-warnings\n",
      "  warnings.warn(\n",
      "/opt/anaconda3/lib/python3.8/site-packages/urllib3/connectionpool.py:981: InsecureRequestWarning: Unverified HTTPS request is being made to host '100.123.26.224'. Adding certificate verification is strongly advised. See: https://urllib3.readthedocs.io/en/latest/advanced-usage.html#ssl-warnings\n",
      "  warnings.warn(\n",
      "/opt/anaconda3/lib/python3.8/site-packages/urllib3/connectionpool.py:981: InsecureRequestWarning: Unverified HTTPS request is being made to host '100.123.26.252'. Adding certificate verification is strongly advised. See: https://urllib3.readthedocs.io/en/latest/advanced-usage.html#ssl-warnings\n",
      "  warnings.warn(\n",
      "/opt/anaconda3/lib/python3.8/site-packages/urllib3/connectionpool.py:981: InsecureRequestWarning: Unverified HTTPS request is being made to host '100.123.26.252'. Adding certificate verification is strongly advised. See: https://urllib3.readthedocs.io/en/latest/advanced-usage.html#ssl-warnings\n",
      "  warnings.warn(\n"
     ]
    },
    {
     "name": "stdout",
     "output_type": "stream",
     "text": [
      " dato_param['total']  1 1\n",
      "https://100.123.26.252/api/v2/devices/BC:A9:93:00:98:08/performance?offset=0&start_time=202110211800&stop_time=202110211859\n",
      "1.-Fecha: 2021-10-21 19:07:08.893157 - Error bucle externo:  404  no trajo datos:  https://100.123.26.224/api/v2/devices/BC:A9:93:00:98:08/performance?start_time=202110211800&stop_time=202110211859\n",
      " dato_param['total']  12 1\n",
      "https://100.123.26.252/api/v2/devices/BC:A9:93:00:98:09/performance?offset=0&start_time=202110211800&stop_time=202110211859\n"
     ]
    },
    {
     "name": "stderr",
     "output_type": "stream",
     "text": [
      "/opt/anaconda3/lib/python3.8/site-packages/urllib3/connectionpool.py:981: InsecureRequestWarning: Unverified HTTPS request is being made to host '100.123.26.224'. Adding certificate verification is strongly advised. See: https://urllib3.readthedocs.io/en/latest/advanced-usage.html#ssl-warnings\n",
      "  warnings.warn(\n",
      "/opt/anaconda3/lib/python3.8/site-packages/urllib3/connectionpool.py:981: InsecureRequestWarning: Unverified HTTPS request is being made to host '100.123.26.252'. Adding certificate verification is strongly advised. See: https://urllib3.readthedocs.io/en/latest/advanced-usage.html#ssl-warnings\n",
      "  warnings.warn(\n",
      "/opt/anaconda3/lib/python3.8/site-packages/urllib3/connectionpool.py:981: InsecureRequestWarning: Unverified HTTPS request is being made to host '100.123.26.252'. Adding certificate verification is strongly advised. See: https://urllib3.readthedocs.io/en/latest/advanced-usage.html#ssl-warnings\n",
      "  warnings.warn(\n",
      "/opt/anaconda3/lib/python3.8/site-packages/urllib3/connectionpool.py:981: InsecureRequestWarning: Unverified HTTPS request is being made to host '100.123.26.224'. Adding certificate verification is strongly advised. See: https://urllib3.readthedocs.io/en/latest/advanced-usage.html#ssl-warnings\n",
      "  warnings.warn(\n"
     ]
    },
    {
     "name": "stdout",
     "output_type": "stream",
     "text": [
      "1.-Fecha: 2021-10-21 19:07:08.893157 - Error bucle externo:  404  no trajo datos:  https://100.123.26.224/api/v2/devices/BC:A9:93:00:98:09/performance?start_time=202110211800&stop_time=202110211859\n",
      " dato_param['total']  13 1\n",
      "https://100.123.26.252/api/v2/devices/BC:A9:93:00:98:0A/performance?offset=0&start_time=202110211800&stop_time=202110211859\n",
      "1.-Fecha: 2021-10-21 19:07:08.893157 - Error bucle externo:  404  no trajo datos:  https://100.123.26.224/api/v2/devices/BC:A9:93:00:98:0A/performance?start_time=202110211800&stop_time=202110211859\n"
     ]
    },
    {
     "name": "stderr",
     "output_type": "stream",
     "text": [
      "/opt/anaconda3/lib/python3.8/site-packages/urllib3/connectionpool.py:981: InsecureRequestWarning: Unverified HTTPS request is being made to host '100.123.26.252'. Adding certificate verification is strongly advised. See: https://urllib3.readthedocs.io/en/latest/advanced-usage.html#ssl-warnings\n",
      "  warnings.warn(\n",
      "/opt/anaconda3/lib/python3.8/site-packages/urllib3/connectionpool.py:981: InsecureRequestWarning: Unverified HTTPS request is being made to host '100.123.26.252'. Adding certificate verification is strongly advised. See: https://urllib3.readthedocs.io/en/latest/advanced-usage.html#ssl-warnings\n",
      "  warnings.warn(\n",
      "/opt/anaconda3/lib/python3.8/site-packages/urllib3/connectionpool.py:981: InsecureRequestWarning: Unverified HTTPS request is being made to host '100.123.26.224'. Adding certificate verification is strongly advised. See: https://urllib3.readthedocs.io/en/latest/advanced-usage.html#ssl-warnings\n",
      "  warnings.warn(\n",
      "/opt/anaconda3/lib/python3.8/site-packages/urllib3/connectionpool.py:981: InsecureRequestWarning: Unverified HTTPS request is being made to host '100.123.26.252'. Adding certificate verification is strongly advised. See: https://urllib3.readthedocs.io/en/latest/advanced-usage.html#ssl-warnings\n",
      "  warnings.warn(\n"
     ]
    },
    {
     "name": "stdout",
     "output_type": "stream",
     "text": [
      " dato_param['total']  13 1\n",
      "https://100.123.26.252/api/v2/devices/BC:A9:93:00:98:0C/performance?offset=0&start_time=202110211800&stop_time=202110211859\n",
      "1.-Fecha: 2021-10-21 19:07:08.893157 - Error bucle externo:  404  no trajo datos:  https://100.123.26.224/api/v2/devices/BC:A9:93:00:98:0C/performance?start_time=202110211800&stop_time=202110211859\n",
      "1.-Fecha: 2021-10-21 19:07:08.893157 - Error bucle externo:  404  no trajo datos:  https://100.123.26.252/api/v2/devices/BC:A9:93:00:98:0D/performance?start_time=202110211800&stop_time=202110211859\n"
     ]
    },
    {
     "name": "stderr",
     "output_type": "stream",
     "text": [
      "/opt/anaconda3/lib/python3.8/site-packages/urllib3/connectionpool.py:981: InsecureRequestWarning: Unverified HTTPS request is being made to host '100.123.26.252'. Adding certificate verification is strongly advised. See: https://urllib3.readthedocs.io/en/latest/advanced-usage.html#ssl-warnings\n",
      "  warnings.warn(\n",
      "/opt/anaconda3/lib/python3.8/site-packages/urllib3/connectionpool.py:981: InsecureRequestWarning: Unverified HTTPS request is being made to host '100.123.26.224'. Adding certificate verification is strongly advised. See: https://urllib3.readthedocs.io/en/latest/advanced-usage.html#ssl-warnings\n",
      "  warnings.warn(\n",
      "/opt/anaconda3/lib/python3.8/site-packages/urllib3/connectionpool.py:981: InsecureRequestWarning: Unverified HTTPS request is being made to host '100.123.26.252'. Adding certificate verification is strongly advised. See: https://urllib3.readthedocs.io/en/latest/advanced-usage.html#ssl-warnings\n",
      "  warnings.warn(\n",
      "/opt/anaconda3/lib/python3.8/site-packages/urllib3/connectionpool.py:981: InsecureRequestWarning: Unverified HTTPS request is being made to host '100.123.26.252'. Adding certificate verification is strongly advised. See: https://urllib3.readthedocs.io/en/latest/advanced-usage.html#ssl-warnings\n",
      "  warnings.warn(\n"
     ]
    },
    {
     "name": "stdout",
     "output_type": "stream",
     "text": [
      " dato_param['total']  13 1\n",
      "https://100.123.26.252/api/v2/devices/BC:A9:93:00:98:12/performance?offset=0&start_time=202110211800&stop_time=202110211859\n",
      "1.-Fecha: 2021-10-21 19:07:08.893157 - Error bucle externo:  404  no trajo datos:  https://100.123.26.224/api/v2/devices/BC:A9:93:00:98:12/performance?start_time=202110211800&stop_time=202110211859\n",
      " dato_param['total']  13 1\n",
      "https://100.123.26.252/api/v2/devices/BC:A9:93:00:98:13/performance?offset=0&start_time=202110211800&stop_time=202110211859\n"
     ]
    },
    {
     "name": "stderr",
     "output_type": "stream",
     "text": [
      "/opt/anaconda3/lib/python3.8/site-packages/urllib3/connectionpool.py:981: InsecureRequestWarning: Unverified HTTPS request is being made to host '100.123.26.252'. Adding certificate verification is strongly advised. See: https://urllib3.readthedocs.io/en/latest/advanced-usage.html#ssl-warnings\n",
      "  warnings.warn(\n",
      "/opt/anaconda3/lib/python3.8/site-packages/urllib3/connectionpool.py:981: InsecureRequestWarning: Unverified HTTPS request is being made to host '100.123.26.224'. Adding certificate verification is strongly advised. See: https://urllib3.readthedocs.io/en/latest/advanced-usage.html#ssl-warnings\n",
      "  warnings.warn(\n",
      "/opt/anaconda3/lib/python3.8/site-packages/urllib3/connectionpool.py:981: InsecureRequestWarning: Unverified HTTPS request is being made to host '100.123.26.252'. Adding certificate verification is strongly advised. See: https://urllib3.readthedocs.io/en/latest/advanced-usage.html#ssl-warnings\n",
      "  warnings.warn(\n",
      "/opt/anaconda3/lib/python3.8/site-packages/urllib3/connectionpool.py:981: InsecureRequestWarning: Unverified HTTPS request is being made to host '100.123.26.252'. Adding certificate verification is strongly advised. See: https://urllib3.readthedocs.io/en/latest/advanced-usage.html#ssl-warnings\n",
      "  warnings.warn(\n",
      "/opt/anaconda3/lib/python3.8/site-packages/urllib3/connectionpool.py:981: InsecureRequestWarning: Unverified HTTPS request is being made to host '100.123.26.224'. Adding certificate verification is strongly advised. See: https://urllib3.readthedocs.io/en/latest/advanced-usage.html#ssl-warnings\n",
      "  warnings.warn(\n",
      "/opt/anaconda3/lib/python3.8/site-packages/urllib3/connectionpool.py:981: InsecureRequestWarning: Unverified HTTPS request is being made to host '100.123.26.252'. Adding certificate verification is strongly advised. See: https://urllib3.readthedocs.io/en/latest/advanced-usage.html#ssl-warnings\n",
      "  warnings.warn(\n",
      "/opt/anaconda3/lib/python3.8/site-packages/urllib3/connectionpool.py:981: InsecureRequestWarning: Unverified HTTPS request is being made to host '100.123.26.252'. Adding certificate verification is strongly advised. See: https://urllib3.readthedocs.io/en/latest/advanced-usage.html#ssl-warnings\n",
      "  warnings.warn(\n"
     ]
    },
    {
     "name": "stdout",
     "output_type": "stream",
     "text": [
      "1.-Fecha: 2021-10-21 19:07:08.893157 - Error bucle externo:  404  no trajo datos:  https://100.123.26.224/api/v2/devices/BC:A9:93:00:98:13/performance?start_time=202110211800&stop_time=202110211859\n",
      " dato_param['total']  13 1\n",
      "https://100.123.26.252/api/v2/devices/BC:A9:93:00:98:18/performance?offset=0&start_time=202110211800&stop_time=202110211859\n"
     ]
    },
    {
     "name": "stderr",
     "output_type": "stream",
     "text": [
      "/opt/anaconda3/lib/python3.8/site-packages/urllib3/connectionpool.py:981: InsecureRequestWarning: Unverified HTTPS request is being made to host '100.123.26.224'. Adding certificate verification is strongly advised. See: https://urllib3.readthedocs.io/en/latest/advanced-usage.html#ssl-warnings\n",
      "  warnings.warn(\n",
      "/opt/anaconda3/lib/python3.8/site-packages/urllib3/connectionpool.py:981: InsecureRequestWarning: Unverified HTTPS request is being made to host '100.123.26.252'. Adding certificate verification is strongly advised. See: https://urllib3.readthedocs.io/en/latest/advanced-usage.html#ssl-warnings\n",
      "  warnings.warn(\n",
      "/opt/anaconda3/lib/python3.8/site-packages/urllib3/connectionpool.py:981: InsecureRequestWarning: Unverified HTTPS request is being made to host '100.123.26.252'. Adding certificate verification is strongly advised. See: https://urllib3.readthedocs.io/en/latest/advanced-usage.html#ssl-warnings\n",
      "  warnings.warn(\n",
      "/opt/anaconda3/lib/python3.8/site-packages/urllib3/connectionpool.py:981: InsecureRequestWarning: Unverified HTTPS request is being made to host '100.123.26.224'. Adding certificate verification is strongly advised. See: https://urllib3.readthedocs.io/en/latest/advanced-usage.html#ssl-warnings\n",
      "  warnings.warn(\n"
     ]
    },
    {
     "name": "stdout",
     "output_type": "stream",
     "text": [
      "1.-Fecha: 2021-10-21 19:07:08.893157 - Error bucle externo:  404  no trajo datos:  https://100.123.26.224/api/v2/devices/BC:A9:93:00:98:18/performance?start_time=202110211800&stop_time=202110211859\n",
      " dato_param['total']  12 1\n",
      "https://100.123.26.252/api/v2/devices/BC:A9:93:00:98:19/performance?offset=0&start_time=202110211800&stop_time=202110211859\n",
      "1.-Fecha: 2021-10-21 19:07:08.893157 - Error bucle externo:  404  no trajo datos:  https://100.123.26.224/api/v2/devices/BC:A9:93:00:98:19/performance?start_time=202110211800&stop_time=202110211859\n"
     ]
    },
    {
     "name": "stderr",
     "output_type": "stream",
     "text": [
      "/opt/anaconda3/lib/python3.8/site-packages/urllib3/connectionpool.py:981: InsecureRequestWarning: Unverified HTTPS request is being made to host '100.123.26.252'. Adding certificate verification is strongly advised. See: https://urllib3.readthedocs.io/en/latest/advanced-usage.html#ssl-warnings\n",
      "  warnings.warn(\n",
      "/opt/anaconda3/lib/python3.8/site-packages/urllib3/connectionpool.py:981: InsecureRequestWarning: Unverified HTTPS request is being made to host '100.123.26.252'. Adding certificate verification is strongly advised. See: https://urllib3.readthedocs.io/en/latest/advanced-usage.html#ssl-warnings\n",
      "  warnings.warn(\n",
      "/opt/anaconda3/lib/python3.8/site-packages/urllib3/connectionpool.py:981: InsecureRequestWarning: Unverified HTTPS request is being made to host '100.123.26.224'. Adding certificate verification is strongly advised. See: https://urllib3.readthedocs.io/en/latest/advanced-usage.html#ssl-warnings\n",
      "  warnings.warn(\n",
      "/opt/anaconda3/lib/python3.8/site-packages/urllib3/connectionpool.py:981: InsecureRequestWarning: Unverified HTTPS request is being made to host '100.123.26.252'. Adding certificate verification is strongly advised. See: https://urllib3.readthedocs.io/en/latest/advanced-usage.html#ssl-warnings\n",
      "  warnings.warn(\n"
     ]
    },
    {
     "name": "stdout",
     "output_type": "stream",
     "text": [
      " dato_param['total']  1 1\n",
      "https://100.123.26.252/api/v2/devices/BC:A9:93:00:98:1D/performance?offset=0&start_time=202110211800&stop_time=202110211859\n",
      "1.-Fecha: 2021-10-21 19:07:08.893157 - Error bucle externo:  404  no trajo datos:  https://100.123.26.224/api/v2/devices/BC:A9:93:00:98:1D/performance?start_time=202110211800&stop_time=202110211859\n",
      " dato_param['total']  1 1\n",
      "https://100.123.26.252/api/v2/devices/BC:A9:93:00:98:1E/performance?offset=0&start_time=202110211800&stop_time=202110211859\n"
     ]
    },
    {
     "name": "stderr",
     "output_type": "stream",
     "text": [
      "/opt/anaconda3/lib/python3.8/site-packages/urllib3/connectionpool.py:981: InsecureRequestWarning: Unverified HTTPS request is being made to host '100.123.26.252'. Adding certificate verification is strongly advised. See: https://urllib3.readthedocs.io/en/latest/advanced-usage.html#ssl-warnings\n",
      "  warnings.warn(\n",
      "/opt/anaconda3/lib/python3.8/site-packages/urllib3/connectionpool.py:981: InsecureRequestWarning: Unverified HTTPS request is being made to host '100.123.26.224'. Adding certificate verification is strongly advised. See: https://urllib3.readthedocs.io/en/latest/advanced-usage.html#ssl-warnings\n",
      "  warnings.warn(\n",
      "/opt/anaconda3/lib/python3.8/site-packages/urllib3/connectionpool.py:981: InsecureRequestWarning: Unverified HTTPS request is being made to host '100.123.26.252'. Adding certificate verification is strongly advised. See: https://urllib3.readthedocs.io/en/latest/advanced-usage.html#ssl-warnings\n",
      "  warnings.warn(\n",
      "/opt/anaconda3/lib/python3.8/site-packages/urllib3/connectionpool.py:981: InsecureRequestWarning: Unverified HTTPS request is being made to host '100.123.26.252'. Adding certificate verification is strongly advised. See: https://urllib3.readthedocs.io/en/latest/advanced-usage.html#ssl-warnings\n",
      "  warnings.warn(\n",
      "/opt/anaconda3/lib/python3.8/site-packages/urllib3/connectionpool.py:981: InsecureRequestWarning: Unverified HTTPS request is being made to host '100.123.26.252'. Adding certificate verification is strongly advised. See: https://urllib3.readthedocs.io/en/latest/advanced-usage.html#ssl-warnings\n",
      "  warnings.warn(\n"
     ]
    },
    {
     "name": "stdout",
     "output_type": "stream",
     "text": [
      "1.-Fecha: 2021-10-21 19:07:08.893157 - Error bucle externo:  422  no trajo datos:  https://100.123.26.224/api/v2/devices/BC:A9:93:00:98:1E/performance?start_time=202110211800&stop_time=202110211859\n",
      "1.-Fecha: 2021-10-21 19:07:08.893157 - Error bucle externo:  404  no trajo datos:  https://100.123.26.252/api/v2/devices/BC:A9:93:00:98:1F/performance?start_time=202110211800&stop_time=202110211859\n",
      " dato_param['total']  12 1\n",
      "https://100.123.26.252/api/v2/devices/BC:A9:93:00:98:21/performance?offset=0&start_time=202110211800&stop_time=202110211859\n"
     ]
    },
    {
     "name": "stderr",
     "output_type": "stream",
     "text": [
      "/opt/anaconda3/lib/python3.8/site-packages/urllib3/connectionpool.py:981: InsecureRequestWarning: Unverified HTTPS request is being made to host '100.123.26.224'. Adding certificate verification is strongly advised. See: https://urllib3.readthedocs.io/en/latest/advanced-usage.html#ssl-warnings\n",
      "  warnings.warn(\n",
      "/opt/anaconda3/lib/python3.8/site-packages/urllib3/connectionpool.py:981: InsecureRequestWarning: Unverified HTTPS request is being made to host '100.123.26.252'. Adding certificate verification is strongly advised. See: https://urllib3.readthedocs.io/en/latest/advanced-usage.html#ssl-warnings\n",
      "  warnings.warn(\n",
      "/opt/anaconda3/lib/python3.8/site-packages/urllib3/connectionpool.py:981: InsecureRequestWarning: Unverified HTTPS request is being made to host '100.123.26.252'. Adding certificate verification is strongly advised. See: https://urllib3.readthedocs.io/en/latest/advanced-usage.html#ssl-warnings\n",
      "  warnings.warn(\n",
      "/opt/anaconda3/lib/python3.8/site-packages/urllib3/connectionpool.py:981: InsecureRequestWarning: Unverified HTTPS request is being made to host '100.123.26.224'. Adding certificate verification is strongly advised. See: https://urllib3.readthedocs.io/en/latest/advanced-usage.html#ssl-warnings\n",
      "  warnings.warn(\n"
     ]
    },
    {
     "name": "stdout",
     "output_type": "stream",
     "text": [
      "1.-Fecha: 2021-10-21 19:07:08.893157 - Error bucle externo:  404  no trajo datos:  https://100.123.26.224/api/v2/devices/BC:A9:93:00:98:21/performance?start_time=202110211800&stop_time=202110211859\n",
      " dato_param['total']  1 1\n",
      "https://100.123.26.252/api/v2/devices/BC:A9:93:00:98:24/performance?offset=0&start_time=202110211800&stop_time=202110211859\n",
      "1.-Fecha: 2021-10-21 19:07:08.893157 - Error bucle externo:  404  no trajo datos:  https://100.123.26.224/api/v2/devices/BC:A9:93:00:98:24/performance?start_time=202110211800&stop_time=202110211859\n",
      " dato_param['total']  12 1\n",
      "https://100.123.26.252/api/v2/devices/BC:A9:93:00:98:25/performance?offset=0&start_time=202110211800&stop_time=202110211859\n"
     ]
    },
    {
     "name": "stderr",
     "output_type": "stream",
     "text": [
      "/opt/anaconda3/lib/python3.8/site-packages/urllib3/connectionpool.py:981: InsecureRequestWarning: Unverified HTTPS request is being made to host '100.123.26.252'. Adding certificate verification is strongly advised. See: https://urllib3.readthedocs.io/en/latest/advanced-usage.html#ssl-warnings\n",
      "  warnings.warn(\n",
      "/opt/anaconda3/lib/python3.8/site-packages/urllib3/connectionpool.py:981: InsecureRequestWarning: Unverified HTTPS request is being made to host '100.123.26.252'. Adding certificate verification is strongly advised. See: https://urllib3.readthedocs.io/en/latest/advanced-usage.html#ssl-warnings\n",
      "  warnings.warn(\n",
      "/opt/anaconda3/lib/python3.8/site-packages/urllib3/connectionpool.py:981: InsecureRequestWarning: Unverified HTTPS request is being made to host '100.123.26.224'. Adding certificate verification is strongly advised. See: https://urllib3.readthedocs.io/en/latest/advanced-usage.html#ssl-warnings\n",
      "  warnings.warn(\n",
      "/opt/anaconda3/lib/python3.8/site-packages/urllib3/connectionpool.py:981: InsecureRequestWarning: Unverified HTTPS request is being made to host '100.123.26.252'. Adding certificate verification is strongly advised. See: https://urllib3.readthedocs.io/en/latest/advanced-usage.html#ssl-warnings\n",
      "  warnings.warn(\n"
     ]
    },
    {
     "name": "stdout",
     "output_type": "stream",
     "text": [
      "1.-Fecha: 2021-10-21 19:07:08.893157 - Error bucle externo:  404  no trajo datos:  https://100.123.26.224/api/v2/devices/BC:A9:93:00:98:25/performance?start_time=202110211800&stop_time=202110211859\n",
      " dato_param['total']  12 1\n",
      "https://100.123.26.252/api/v2/devices/BC:A9:93:00:98:2A/performance?offset=0&start_time=202110211800&stop_time=202110211859\n"
     ]
    },
    {
     "name": "stderr",
     "output_type": "stream",
     "text": [
      "/opt/anaconda3/lib/python3.8/site-packages/urllib3/connectionpool.py:981: InsecureRequestWarning: Unverified HTTPS request is being made to host '100.123.26.252'. Adding certificate verification is strongly advised. See: https://urllib3.readthedocs.io/en/latest/advanced-usage.html#ssl-warnings\n",
      "  warnings.warn(\n",
      "/opt/anaconda3/lib/python3.8/site-packages/urllib3/connectionpool.py:981: InsecureRequestWarning: Unverified HTTPS request is being made to host '100.123.26.224'. Adding certificate verification is strongly advised. See: https://urllib3.readthedocs.io/en/latest/advanced-usage.html#ssl-warnings\n",
      "  warnings.warn(\n",
      "/opt/anaconda3/lib/python3.8/site-packages/urllib3/connectionpool.py:981: InsecureRequestWarning: Unverified HTTPS request is being made to host '100.123.26.252'. Adding certificate verification is strongly advised. See: https://urllib3.readthedocs.io/en/latest/advanced-usage.html#ssl-warnings\n",
      "  warnings.warn(\n",
      "/opt/anaconda3/lib/python3.8/site-packages/urllib3/connectionpool.py:981: InsecureRequestWarning: Unverified HTTPS request is being made to host '100.123.26.252'. Adding certificate verification is strongly advised. See: https://urllib3.readthedocs.io/en/latest/advanced-usage.html#ssl-warnings\n",
      "  warnings.warn(\n",
      "/opt/anaconda3/lib/python3.8/site-packages/urllib3/connectionpool.py:981: InsecureRequestWarning: Unverified HTTPS request is being made to host '100.123.26.252'. Adding certificate verification is strongly advised. See: https://urllib3.readthedocs.io/en/latest/advanced-usage.html#ssl-warnings\n",
      "  warnings.warn(\n"
     ]
    },
    {
     "name": "stdout",
     "output_type": "stream",
     "text": [
      "1.-Fecha: 2021-10-21 19:07:08.893157 - Error bucle externo:  404  no trajo datos:  https://100.123.26.224/api/v2/devices/BC:A9:93:00:98:2A/performance?start_time=202110211800&stop_time=202110211859\n",
      "1.-Fecha: 2021-10-21 19:07:08.893157 - Error bucle externo:  404  no trajo datos:  https://100.123.26.252/api/v2/devices/BC:A9:93:00:98:2D/performance?start_time=202110211800&stop_time=202110211859\n",
      "1.-Fecha: 2021-10-21 19:07:08.893157 - Error bucle externo:  404  no trajo datos:  https://100.123.26.252/api/v2/devices/BC:A9:93:00:98:2F/performance?start_time=202110211800&stop_time=202110211859\n",
      "1.-Fecha: 2021-10-21 19:07:08.893157 - Error bucle externo:  404  no trajo datos:  https://100.123.26.252/api/v2/devices/BC:A9:93:00:98:30/performance?start_time=202110211800&stop_time=202110211859\n"
     ]
    },
    {
     "name": "stderr",
     "output_type": "stream",
     "text": [
      "/opt/anaconda3/lib/python3.8/site-packages/urllib3/connectionpool.py:981: InsecureRequestWarning: Unverified HTTPS request is being made to host '100.123.26.252'. Adding certificate verification is strongly advised. See: https://urllib3.readthedocs.io/en/latest/advanced-usage.html#ssl-warnings\n",
      "  warnings.warn(\n",
      "/opt/anaconda3/lib/python3.8/site-packages/urllib3/connectionpool.py:981: InsecureRequestWarning: Unverified HTTPS request is being made to host '100.123.26.252'. Adding certificate verification is strongly advised. See: https://urllib3.readthedocs.io/en/latest/advanced-usage.html#ssl-warnings\n",
      "  warnings.warn(\n",
      "/opt/anaconda3/lib/python3.8/site-packages/urllib3/connectionpool.py:981: InsecureRequestWarning: Unverified HTTPS request is being made to host '100.123.26.224'. Adding certificate verification is strongly advised. See: https://urllib3.readthedocs.io/en/latest/advanced-usage.html#ssl-warnings\n",
      "  warnings.warn(\n",
      "/opt/anaconda3/lib/python3.8/site-packages/urllib3/connectionpool.py:981: InsecureRequestWarning: Unverified HTTPS request is being made to host '100.123.26.252'. Adding certificate verification is strongly advised. See: https://urllib3.readthedocs.io/en/latest/advanced-usage.html#ssl-warnings\n",
      "  warnings.warn(\n",
      "/opt/anaconda3/lib/python3.8/site-packages/urllib3/connectionpool.py:981: InsecureRequestWarning: Unverified HTTPS request is being made to host '100.123.26.252'. Adding certificate verification is strongly advised. See: https://urllib3.readthedocs.io/en/latest/advanced-usage.html#ssl-warnings\n",
      "  warnings.warn(\n"
     ]
    },
    {
     "name": "stdout",
     "output_type": "stream",
     "text": [
      " dato_param['total']  1 1\n",
      "https://100.123.26.252/api/v2/devices/BC:A9:93:00:98:31/performance?offset=0&start_time=202110211800&stop_time=202110211859\n",
      "1.-Fecha: 2021-10-21 19:07:08.893157 - Error bucle externo:  404  no trajo datos:  https://100.123.26.224/api/v2/devices/BC:A9:93:00:98:31/performance?start_time=202110211800&stop_time=202110211859\n",
      "1.-Fecha: 2021-10-21 19:07:08.893157 - Error bucle externo:  404  no trajo datos:  https://100.123.26.252/api/v2/devices/BC:A9:93:00:98:32/performance?start_time=202110211800&stop_time=202110211859\n",
      " dato_param['total']  13 1\n",
      "https://100.123.26.252/api/v2/devices/BC:A9:93:00:98:33/performance?offset=0&start_time=202110211800&stop_time=202110211859\n"
     ]
    },
    {
     "name": "stderr",
     "output_type": "stream",
     "text": [
      "/opt/anaconda3/lib/python3.8/site-packages/urllib3/connectionpool.py:981: InsecureRequestWarning: Unverified HTTPS request is being made to host '100.123.26.252'. Adding certificate verification is strongly advised. See: https://urllib3.readthedocs.io/en/latest/advanced-usage.html#ssl-warnings\n",
      "  warnings.warn(\n",
      "/opt/anaconda3/lib/python3.8/site-packages/urllib3/connectionpool.py:981: InsecureRequestWarning: Unverified HTTPS request is being made to host '100.123.26.224'. Adding certificate verification is strongly advised. See: https://urllib3.readthedocs.io/en/latest/advanced-usage.html#ssl-warnings\n",
      "  warnings.warn(\n",
      "/opt/anaconda3/lib/python3.8/site-packages/urllib3/connectionpool.py:981: InsecureRequestWarning: Unverified HTTPS request is being made to host '100.123.26.252'. Adding certificate verification is strongly advised. See: https://urllib3.readthedocs.io/en/latest/advanced-usage.html#ssl-warnings\n",
      "  warnings.warn(\n",
      "/opt/anaconda3/lib/python3.8/site-packages/urllib3/connectionpool.py:981: InsecureRequestWarning: Unverified HTTPS request is being made to host '100.123.26.252'. Adding certificate verification is strongly advised. See: https://urllib3.readthedocs.io/en/latest/advanced-usage.html#ssl-warnings\n",
      "  warnings.warn(\n",
      "/opt/anaconda3/lib/python3.8/site-packages/urllib3/connectionpool.py:981: InsecureRequestWarning: Unverified HTTPS request is being made to host '100.123.26.252'. Adding certificate verification is strongly advised. See: https://urllib3.readthedocs.io/en/latest/advanced-usage.html#ssl-warnings\n",
      "  warnings.warn(\n"
     ]
    },
    {
     "name": "stdout",
     "output_type": "stream",
     "text": [
      "1.-Fecha: 2021-10-21 19:07:08.893157 - Error bucle externo:  404  no trajo datos:  https://100.123.26.224/api/v2/devices/BC:A9:93:00:98:33/performance?start_time=202110211800&stop_time=202110211859\n",
      "1.-Fecha: 2021-10-21 19:07:08.893157 - Error bucle externo:  404  no trajo datos:  https://100.123.26.252/api/v2/devices/BC:A9:93:00:98:38/performance?start_time=202110211800&stop_time=202110211859\n",
      " dato_param['total']  13 1\n",
      "https://100.123.26.252/api/v2/devices/BC:A9:93:00:98:3A/performance?offset=0&start_time=202110211800&stop_time=202110211859\n"
     ]
    },
    {
     "name": "stderr",
     "output_type": "stream",
     "text": [
      "/opt/anaconda3/lib/python3.8/site-packages/urllib3/connectionpool.py:981: InsecureRequestWarning: Unverified HTTPS request is being made to host '100.123.26.224'. Adding certificate verification is strongly advised. See: https://urllib3.readthedocs.io/en/latest/advanced-usage.html#ssl-warnings\n",
      "  warnings.warn(\n",
      "/opt/anaconda3/lib/python3.8/site-packages/urllib3/connectionpool.py:981: InsecureRequestWarning: Unverified HTTPS request is being made to host '100.123.26.252'. Adding certificate verification is strongly advised. See: https://urllib3.readthedocs.io/en/latest/advanced-usage.html#ssl-warnings\n",
      "  warnings.warn(\n",
      "/opt/anaconda3/lib/python3.8/site-packages/urllib3/connectionpool.py:981: InsecureRequestWarning: Unverified HTTPS request is being made to host '100.123.26.252'. Adding certificate verification is strongly advised. See: https://urllib3.readthedocs.io/en/latest/advanced-usage.html#ssl-warnings\n",
      "  warnings.warn(\n",
      "/opt/anaconda3/lib/python3.8/site-packages/urllib3/connectionpool.py:981: InsecureRequestWarning: Unverified HTTPS request is being made to host '100.123.26.252'. Adding certificate verification is strongly advised. See: https://urllib3.readthedocs.io/en/latest/advanced-usage.html#ssl-warnings\n",
      "  warnings.warn(\n"
     ]
    },
    {
     "name": "stdout",
     "output_type": "stream",
     "text": [
      "1.-Fecha: 2021-10-21 19:07:08.893157 - Error bucle externo:  404  no trajo datos:  https://100.123.26.224/api/v2/devices/BC:A9:93:00:98:3A/performance?start_time=202110211800&stop_time=202110211859\n",
      "1.-Fecha: 2021-10-21 19:07:08.893157 - Error bucle externo:  404  no trajo datos:  https://100.123.26.252/api/v2/devices/BC:A9:93:00:98:3D/performance?start_time=202110211800&stop_time=202110211859\n",
      " dato_param['total']  13 1\n",
      "https://100.123.26.252/api/v2/devices/BC:A9:93:00:98:3E/performance?offset=0&start_time=202110211800&stop_time=202110211859\n",
      "1.-Fecha: 2021-10-21 19:07:08.893157 - Error bucle externo:  422  no trajo datos:  https://100.123.26.224/api/v2/devices/BC:A9:93:00:98:3E/performance?start_time=202110211800&stop_time=202110211859\n"
     ]
    },
    {
     "name": "stderr",
     "output_type": "stream",
     "text": [
      "/opt/anaconda3/lib/python3.8/site-packages/urllib3/connectionpool.py:981: InsecureRequestWarning: Unverified HTTPS request is being made to host '100.123.26.224'. Adding certificate verification is strongly advised. See: https://urllib3.readthedocs.io/en/latest/advanced-usage.html#ssl-warnings\n",
      "  warnings.warn(\n",
      "/opt/anaconda3/lib/python3.8/site-packages/urllib3/connectionpool.py:981: InsecureRequestWarning: Unverified HTTPS request is being made to host '100.123.26.252'. Adding certificate verification is strongly advised. See: https://urllib3.readthedocs.io/en/latest/advanced-usage.html#ssl-warnings\n",
      "  warnings.warn(\n",
      "/opt/anaconda3/lib/python3.8/site-packages/urllib3/connectionpool.py:981: InsecureRequestWarning: Unverified HTTPS request is being made to host '100.123.26.252'. Adding certificate verification is strongly advised. See: https://urllib3.readthedocs.io/en/latest/advanced-usage.html#ssl-warnings\n",
      "  warnings.warn(\n"
     ]
    },
    {
     "name": "stdout",
     "output_type": "stream",
     "text": [
      " dato_param['total']  13 1\n",
      "https://100.123.26.252/api/v2/devices/BC:A9:93:00:98:3F/performance?offset=0&start_time=202110211800&stop_time=202110211859\n",
      "1.-Fecha: 2021-10-21 19:07:08.893157 - Error bucle externo:  404  no trajo datos:  https://100.123.26.224/api/v2/devices/BC:A9:93:00:98:3F/performance?start_time=202110211800&stop_time=202110211859\n",
      " dato_param['total']  1 1\n",
      "https://100.123.26.252/api/v2/devices/BC:A9:93:00:98:40/performance?offset=0&start_time=202110211800&stop_time=202110211859\n"
     ]
    },
    {
     "name": "stderr",
     "output_type": "stream",
     "text": [
      "/opt/anaconda3/lib/python3.8/site-packages/urllib3/connectionpool.py:981: InsecureRequestWarning: Unverified HTTPS request is being made to host '100.123.26.224'. Adding certificate verification is strongly advised. See: https://urllib3.readthedocs.io/en/latest/advanced-usage.html#ssl-warnings\n",
      "  warnings.warn(\n",
      "/opt/anaconda3/lib/python3.8/site-packages/urllib3/connectionpool.py:981: InsecureRequestWarning: Unverified HTTPS request is being made to host '100.123.26.252'. Adding certificate verification is strongly advised. See: https://urllib3.readthedocs.io/en/latest/advanced-usage.html#ssl-warnings\n",
      "  warnings.warn(\n",
      "/opt/anaconda3/lib/python3.8/site-packages/urllib3/connectionpool.py:981: InsecureRequestWarning: Unverified HTTPS request is being made to host '100.123.26.252'. Adding certificate verification is strongly advised. See: https://urllib3.readthedocs.io/en/latest/advanced-usage.html#ssl-warnings\n",
      "  warnings.warn(\n",
      "/opt/anaconda3/lib/python3.8/site-packages/urllib3/connectionpool.py:981: InsecureRequestWarning: Unverified HTTPS request is being made to host '100.123.26.224'. Adding certificate verification is strongly advised. See: https://urllib3.readthedocs.io/en/latest/advanced-usage.html#ssl-warnings\n",
      "  warnings.warn(\n"
     ]
    },
    {
     "name": "stdout",
     "output_type": "stream",
     "text": [
      "1.-Fecha: 2021-10-21 19:07:08.893157 - Error bucle externo:  404  no trajo datos:  https://100.123.26.224/api/v2/devices/BC:A9:93:00:98:40/performance?start_time=202110211800&stop_time=202110211859\n",
      " dato_param['total']  1 1\n",
      "https://100.123.26.252/api/v2/devices/BC:A9:93:00:98:41/performance?offset=0&start_time=202110211800&stop_time=202110211859\n",
      "1.-Fecha: 2021-10-21 19:07:08.893157 - Error bucle externo:  404  no trajo datos:  https://100.123.26.224/api/v2/devices/BC:A9:93:00:98:41/performance?start_time=202110211800&stop_time=202110211859\n"
     ]
    },
    {
     "name": "stderr",
     "output_type": "stream",
     "text": [
      "/opt/anaconda3/lib/python3.8/site-packages/urllib3/connectionpool.py:981: InsecureRequestWarning: Unverified HTTPS request is being made to host '100.123.26.252'. Adding certificate verification is strongly advised. See: https://urllib3.readthedocs.io/en/latest/advanced-usage.html#ssl-warnings\n",
      "  warnings.warn(\n",
      "/opt/anaconda3/lib/python3.8/site-packages/urllib3/connectionpool.py:981: InsecureRequestWarning: Unverified HTTPS request is being made to host '100.123.26.252'. Adding certificate verification is strongly advised. See: https://urllib3.readthedocs.io/en/latest/advanced-usage.html#ssl-warnings\n",
      "  warnings.warn(\n",
      "/opt/anaconda3/lib/python3.8/site-packages/urllib3/connectionpool.py:981: InsecureRequestWarning: Unverified HTTPS request is being made to host '100.123.26.224'. Adding certificate verification is strongly advised. See: https://urllib3.readthedocs.io/en/latest/advanced-usage.html#ssl-warnings\n",
      "  warnings.warn(\n",
      "/opt/anaconda3/lib/python3.8/site-packages/urllib3/connectionpool.py:981: InsecureRequestWarning: Unverified HTTPS request is being made to host '100.123.26.252'. Adding certificate verification is strongly advised. See: https://urllib3.readthedocs.io/en/latest/advanced-usage.html#ssl-warnings\n",
      "  warnings.warn(\n"
     ]
    },
    {
     "name": "stdout",
     "output_type": "stream",
     "text": [
      " dato_param['total']  12 1\n",
      "https://100.123.26.252/api/v2/devices/BC:A9:93:00:98:43/performance?offset=0&start_time=202110211800&stop_time=202110211859\n",
      "1.-Fecha: 2021-10-21 19:07:08.893157 - Error bucle externo:  404  no trajo datos:  https://100.123.26.224/api/v2/devices/BC:A9:93:00:98:43/performance?start_time=202110211800&stop_time=202110211859\n",
      " dato_param['total']  13 1\n",
      "https://100.123.26.252/api/v2/devices/BC:A9:93:00:98:45/performance?offset=0&start_time=202110211800&stop_time=202110211859\n"
     ]
    },
    {
     "name": "stderr",
     "output_type": "stream",
     "text": [
      "/opt/anaconda3/lib/python3.8/site-packages/urllib3/connectionpool.py:981: InsecureRequestWarning: Unverified HTTPS request is being made to host '100.123.26.252'. Adding certificate verification is strongly advised. See: https://urllib3.readthedocs.io/en/latest/advanced-usage.html#ssl-warnings\n",
      "  warnings.warn(\n",
      "/opt/anaconda3/lib/python3.8/site-packages/urllib3/connectionpool.py:981: InsecureRequestWarning: Unverified HTTPS request is being made to host '100.123.26.224'. Adding certificate verification is strongly advised. See: https://urllib3.readthedocs.io/en/latest/advanced-usage.html#ssl-warnings\n",
      "  warnings.warn(\n",
      "/opt/anaconda3/lib/python3.8/site-packages/urllib3/connectionpool.py:981: InsecureRequestWarning: Unverified HTTPS request is being made to host '100.123.26.252'. Adding certificate verification is strongly advised. See: https://urllib3.readthedocs.io/en/latest/advanced-usage.html#ssl-warnings\n",
      "  warnings.warn(\n",
      "/opt/anaconda3/lib/python3.8/site-packages/urllib3/connectionpool.py:981: InsecureRequestWarning: Unverified HTTPS request is being made to host '100.123.26.252'. Adding certificate verification is strongly advised. See: https://urllib3.readthedocs.io/en/latest/advanced-usage.html#ssl-warnings\n",
      "  warnings.warn(\n",
      "/opt/anaconda3/lib/python3.8/site-packages/urllib3/connectionpool.py:981: InsecureRequestWarning: Unverified HTTPS request is being made to host '100.123.26.224'. Adding certificate verification is strongly advised. See: https://urllib3.readthedocs.io/en/latest/advanced-usage.html#ssl-warnings\n",
      "  warnings.warn(\n",
      "/opt/anaconda3/lib/python3.8/site-packages/urllib3/connectionpool.py:981: InsecureRequestWarning: Unverified HTTPS request is being made to host '100.123.26.252'. Adding certificate verification is strongly advised. See: https://urllib3.readthedocs.io/en/latest/advanced-usage.html#ssl-warnings\n",
      "  warnings.warn(\n",
      "/opt/anaconda3/lib/python3.8/site-packages/urllib3/connectionpool.py:981: InsecureRequestWarning: Unverified HTTPS request is being made to host '100.123.26.252'. Adding certificate verification is strongly advised. See: https://urllib3.readthedocs.io/en/latest/advanced-usage.html#ssl-warnings\n",
      "  warnings.warn(\n",
      "/opt/anaconda3/lib/python3.8/site-packages/urllib3/connectionpool.py:981: InsecureRequestWarning: Unverified HTTPS request is being made to host '100.123.26.252'. Adding certificate verification is strongly advised. See: https://urllib3.readthedocs.io/en/latest/advanced-usage.html#ssl-warnings\n",
      "  warnings.warn(\n"
     ]
    },
    {
     "name": "stdout",
     "output_type": "stream",
     "text": [
      "1.-Fecha: 2021-10-21 19:07:08.893157 - Error bucle externo:  404  no trajo datos:  https://100.123.26.224/api/v2/devices/BC:A9:93:00:98:45/performance?start_time=202110211800&stop_time=202110211859\n",
      "1.-Fecha: 2021-10-21 19:07:08.893157 - Error bucle externo:  404  no trajo datos:  https://100.123.26.252/api/v2/devices/BC:A9:93:00:98:47/performance?start_time=202110211800&stop_time=202110211859\n",
      "1.-Fecha: 2021-10-21 19:07:08.893157 - Error bucle externo:  404  no trajo datos:  https://100.123.26.252/api/v2/devices/BC:A9:93:00:98:49/performance?start_time=202110211800&stop_time=202110211859\n",
      " dato_param['total']  13 1\n",
      "https://100.123.26.252/api/v2/devices/BC:A9:93:00:98:4C/performance?offset=0&start_time=202110211800&stop_time=202110211859\n"
     ]
    },
    {
     "name": "stderr",
     "output_type": "stream",
     "text": [
      "/opt/anaconda3/lib/python3.8/site-packages/urllib3/connectionpool.py:981: InsecureRequestWarning: Unverified HTTPS request is being made to host '100.123.26.252'. Adding certificate verification is strongly advised. See: https://urllib3.readthedocs.io/en/latest/advanced-usage.html#ssl-warnings\n",
      "  warnings.warn(\n",
      "/opt/anaconda3/lib/python3.8/site-packages/urllib3/connectionpool.py:981: InsecureRequestWarning: Unverified HTTPS request is being made to host '100.123.26.224'. Adding certificate verification is strongly advised. See: https://urllib3.readthedocs.io/en/latest/advanced-usage.html#ssl-warnings\n",
      "  warnings.warn(\n",
      "/opt/anaconda3/lib/python3.8/site-packages/urllib3/connectionpool.py:981: InsecureRequestWarning: Unverified HTTPS request is being made to host '100.123.26.252'. Adding certificate verification is strongly advised. See: https://urllib3.readthedocs.io/en/latest/advanced-usage.html#ssl-warnings\n",
      "  warnings.warn(\n",
      "/opt/anaconda3/lib/python3.8/site-packages/urllib3/connectionpool.py:981: InsecureRequestWarning: Unverified HTTPS request is being made to host '100.123.26.252'. Adding certificate verification is strongly advised. See: https://urllib3.readthedocs.io/en/latest/advanced-usage.html#ssl-warnings\n",
      "  warnings.warn(\n",
      "/opt/anaconda3/lib/python3.8/site-packages/urllib3/connectionpool.py:981: InsecureRequestWarning: Unverified HTTPS request is being made to host '100.123.26.224'. Adding certificate verification is strongly advised. See: https://urllib3.readthedocs.io/en/latest/advanced-usage.html#ssl-warnings\n",
      "  warnings.warn(\n"
     ]
    },
    {
     "name": "stdout",
     "output_type": "stream",
     "text": [
      "1.-Fecha: 2021-10-21 19:07:08.893157 - Error bucle externo:  422  no trajo datos:  https://100.123.26.224/api/v2/devices/BC:A9:93:00:98:4C/performance?start_time=202110211800&stop_time=202110211859\n",
      " dato_param['total']  13 1\n",
      "https://100.123.26.252/api/v2/devices/BC:A9:93:00:98:52/performance?offset=0&start_time=202110211800&stop_time=202110211859\n",
      "1.-Fecha: 2021-10-21 19:07:08.893157 - Error bucle externo:  404  no trajo datos:  https://100.123.26.224/api/v2/devices/BC:A9:93:00:98:52/performance?start_time=202110211800&stop_time=202110211859\n",
      " dato_param['total']  19 1\n",
      "https://100.123.26.252/api/v2/devices/BC:A9:93:00:98:53/performance?offset=0&start_time=202110211800&stop_time=202110211859\n"
     ]
    },
    {
     "name": "stderr",
     "output_type": "stream",
     "text": [
      "/opt/anaconda3/lib/python3.8/site-packages/urllib3/connectionpool.py:981: InsecureRequestWarning: Unverified HTTPS request is being made to host '100.123.26.252'. Adding certificate verification is strongly advised. See: https://urllib3.readthedocs.io/en/latest/advanced-usage.html#ssl-warnings\n",
      "  warnings.warn(\n",
      "/opt/anaconda3/lib/python3.8/site-packages/urllib3/connectionpool.py:981: InsecureRequestWarning: Unverified HTTPS request is being made to host '100.123.26.252'. Adding certificate verification is strongly advised. See: https://urllib3.readthedocs.io/en/latest/advanced-usage.html#ssl-warnings\n",
      "  warnings.warn(\n",
      "/opt/anaconda3/lib/python3.8/site-packages/urllib3/connectionpool.py:981: InsecureRequestWarning: Unverified HTTPS request is being made to host '100.123.26.224'. Adding certificate verification is strongly advised. See: https://urllib3.readthedocs.io/en/latest/advanced-usage.html#ssl-warnings\n",
      "  warnings.warn(\n",
      "/opt/anaconda3/lib/python3.8/site-packages/urllib3/connectionpool.py:981: InsecureRequestWarning: Unverified HTTPS request is being made to host '100.123.26.252'. Adding certificate verification is strongly advised. See: https://urllib3.readthedocs.io/en/latest/advanced-usage.html#ssl-warnings\n",
      "  warnings.warn(\n"
     ]
    },
    {
     "name": "stdout",
     "output_type": "stream",
     "text": [
      "1.-Fecha: 2021-10-21 19:07:08.893157 - Error bucle externo:  404  no trajo datos:  https://100.123.26.224/api/v2/devices/BC:A9:93:00:98:53/performance?start_time=202110211800&stop_time=202110211859\n",
      "1.-Fecha: 2021-10-21 19:07:08.893157 - Error bucle externo:  404  no trajo datos:  https://100.123.26.252/api/v2/devices/BC:A9:93:00:98:6C/performance?start_time=202110211800&stop_time=202110211859\n",
      "1.-Fecha: 2021-10-21 19:07:08.893157 - Error bucle externo:  404  no trajo datos:  https://100.123.26.252/api/v2/devices/BC:A9:93:00:98:6D/performance?start_time=202110211800&stop_time=202110211859\n",
      "1.-Fecha: 2021-10-21 19:07:08.893157 - Error bucle externo:  404  no trajo datos:  https://100.123.26.252/api/v2/devices/BC:A9:93:00:98:6E/performance?start_time=202110211800&stop_time=202110211859\n"
     ]
    },
    {
     "name": "stderr",
     "output_type": "stream",
     "text": [
      "/opt/anaconda3/lib/python3.8/site-packages/urllib3/connectionpool.py:981: InsecureRequestWarning: Unverified HTTPS request is being made to host '100.123.26.252'. Adding certificate verification is strongly advised. See: https://urllib3.readthedocs.io/en/latest/advanced-usage.html#ssl-warnings\n",
      "  warnings.warn(\n",
      "/opt/anaconda3/lib/python3.8/site-packages/urllib3/connectionpool.py:981: InsecureRequestWarning: Unverified HTTPS request is being made to host '100.123.26.252'. Adding certificate verification is strongly advised. See: https://urllib3.readthedocs.io/en/latest/advanced-usage.html#ssl-warnings\n",
      "  warnings.warn(\n",
      "/opt/anaconda3/lib/python3.8/site-packages/urllib3/connectionpool.py:981: InsecureRequestWarning: Unverified HTTPS request is being made to host '100.123.26.252'. Adding certificate verification is strongly advised. See: https://urllib3.readthedocs.io/en/latest/advanced-usage.html#ssl-warnings\n",
      "  warnings.warn(\n",
      "/opt/anaconda3/lib/python3.8/site-packages/urllib3/connectionpool.py:981: InsecureRequestWarning: Unverified HTTPS request is being made to host '100.123.26.252'. Adding certificate verification is strongly advised. See: https://urllib3.readthedocs.io/en/latest/advanced-usage.html#ssl-warnings\n",
      "  warnings.warn(\n"
     ]
    },
    {
     "name": "stdout",
     "output_type": "stream",
     "text": [
      " dato_param['total']  13 1\n",
      "https://100.123.26.252/api/v2/devices/BC:A9:93:00:98:6F/performance?offset=0&start_time=202110211800&stop_time=202110211859\n",
      "1.-Fecha: 2021-10-21 19:07:08.893157 - Error bucle externo:  404  no trajo datos:  https://100.123.26.224/api/v2/devices/BC:A9:93:00:98:6F/performance?start_time=202110211800&stop_time=202110211859\n",
      " dato_param['total']  1 1\n",
      "https://100.123.26.252/api/v2/devices/BC:A9:93:00:98:71/performance?offset=0&start_time=202110211800&stop_time=202110211859\n"
     ]
    },
    {
     "name": "stderr",
     "output_type": "stream",
     "text": [
      "/opt/anaconda3/lib/python3.8/site-packages/urllib3/connectionpool.py:981: InsecureRequestWarning: Unverified HTTPS request is being made to host '100.123.26.224'. Adding certificate verification is strongly advised. See: https://urllib3.readthedocs.io/en/latest/advanced-usage.html#ssl-warnings\n",
      "  warnings.warn(\n",
      "/opt/anaconda3/lib/python3.8/site-packages/urllib3/connectionpool.py:981: InsecureRequestWarning: Unverified HTTPS request is being made to host '100.123.26.252'. Adding certificate verification is strongly advised. See: https://urllib3.readthedocs.io/en/latest/advanced-usage.html#ssl-warnings\n",
      "  warnings.warn(\n",
      "/opt/anaconda3/lib/python3.8/site-packages/urllib3/connectionpool.py:981: InsecureRequestWarning: Unverified HTTPS request is being made to host '100.123.26.252'. Adding certificate verification is strongly advised. See: https://urllib3.readthedocs.io/en/latest/advanced-usage.html#ssl-warnings\n",
      "  warnings.warn(\n",
      "/opt/anaconda3/lib/python3.8/site-packages/urllib3/connectionpool.py:981: InsecureRequestWarning: Unverified HTTPS request is being made to host '100.123.26.224'. Adding certificate verification is strongly advised. See: https://urllib3.readthedocs.io/en/latest/advanced-usage.html#ssl-warnings\n",
      "  warnings.warn(\n",
      "/opt/anaconda3/lib/python3.8/site-packages/urllib3/connectionpool.py:981: InsecureRequestWarning: Unverified HTTPS request is being made to host '100.123.26.252'. Adding certificate verification is strongly advised. See: https://urllib3.readthedocs.io/en/latest/advanced-usage.html#ssl-warnings\n",
      "  warnings.warn(\n"
     ]
    },
    {
     "name": "stdout",
     "output_type": "stream",
     "text": [
      "1.-Fecha: 2021-10-21 19:07:08.893157 - Error bucle externo:  404  no trajo datos:  https://100.123.26.224/api/v2/devices/BC:A9:93:00:98:71/performance?start_time=202110211800&stop_time=202110211859\n",
      "1.-Fecha: 2021-10-21 19:07:08.893157 - Error bucle externo:  404  no trajo datos:  https://100.123.26.252/api/v2/devices/BC:A9:93:00:98:76/performance?start_time=202110211800&stop_time=202110211859\n",
      "1.-Fecha: 2021-10-21 19:07:08.893157 - Error bucle externo:  404  no trajo datos:  https://100.123.26.252/api/v2/devices/BC:A9:93:00:98:77/performance?start_time=202110211800&stop_time=202110211859\n",
      "1.-Fecha: 2021-10-21 19:07:08.893157 - Error bucle externo:  404  no trajo datos:  https://100.123.26.252/api/v2/devices/BC:A9:93:00:98:78/performance?start_time=202110211800&stop_time=202110211859\n"
     ]
    },
    {
     "name": "stderr",
     "output_type": "stream",
     "text": [
      "/opt/anaconda3/lib/python3.8/site-packages/urllib3/connectionpool.py:981: InsecureRequestWarning: Unverified HTTPS request is being made to host '100.123.26.252'. Adding certificate verification is strongly advised. See: https://urllib3.readthedocs.io/en/latest/advanced-usage.html#ssl-warnings\n",
      "  warnings.warn(\n",
      "/opt/anaconda3/lib/python3.8/site-packages/urllib3/connectionpool.py:981: InsecureRequestWarning: Unverified HTTPS request is being made to host '100.123.26.252'. Adding certificate verification is strongly advised. See: https://urllib3.readthedocs.io/en/latest/advanced-usage.html#ssl-warnings\n",
      "  warnings.warn(\n",
      "/opt/anaconda3/lib/python3.8/site-packages/urllib3/connectionpool.py:981: InsecureRequestWarning: Unverified HTTPS request is being made to host '100.123.26.252'. Adding certificate verification is strongly advised. See: https://urllib3.readthedocs.io/en/latest/advanced-usage.html#ssl-warnings\n",
      "  warnings.warn(\n",
      "/opt/anaconda3/lib/python3.8/site-packages/urllib3/connectionpool.py:981: InsecureRequestWarning: Unverified HTTPS request is being made to host '100.123.26.252'. Adding certificate verification is strongly advised. See: https://urllib3.readthedocs.io/en/latest/advanced-usage.html#ssl-warnings\n",
      "  warnings.warn(\n"
     ]
    },
    {
     "name": "stdout",
     "output_type": "stream",
     "text": [
      "1.-Fecha: 2021-10-21 19:07:08.893157 - Error bucle externo:  404  no trajo datos:  https://100.123.26.252/api/v2/devices/BC:A9:93:00:98:79/performance?start_time=202110211800&stop_time=202110211859\n",
      " dato_param['total']  13 1\n",
      "https://100.123.26.252/api/v2/devices/BC:A9:93:00:98:7A/performance?offset=0&start_time=202110211800&stop_time=202110211859\n",
      "1.-Fecha: 2021-10-21 19:07:08.893157 - Error bucle externo:  404  no trajo datos:  https://100.123.26.224/api/v2/devices/BC:A9:93:00:98:7A/performance?start_time=202110211800&stop_time=202110211859\n"
     ]
    },
    {
     "name": "stderr",
     "output_type": "stream",
     "text": [
      "/opt/anaconda3/lib/python3.8/site-packages/urllib3/connectionpool.py:981: InsecureRequestWarning: Unverified HTTPS request is being made to host '100.123.26.252'. Adding certificate verification is strongly advised. See: https://urllib3.readthedocs.io/en/latest/advanced-usage.html#ssl-warnings\n",
      "  warnings.warn(\n",
      "/opt/anaconda3/lib/python3.8/site-packages/urllib3/connectionpool.py:981: InsecureRequestWarning: Unverified HTTPS request is being made to host '100.123.26.224'. Adding certificate verification is strongly advised. See: https://urllib3.readthedocs.io/en/latest/advanced-usage.html#ssl-warnings\n",
      "  warnings.warn(\n",
      "/opt/anaconda3/lib/python3.8/site-packages/urllib3/connectionpool.py:981: InsecureRequestWarning: Unverified HTTPS request is being made to host '100.123.26.252'. Adding certificate verification is strongly advised. See: https://urllib3.readthedocs.io/en/latest/advanced-usage.html#ssl-warnings\n",
      "  warnings.warn(\n"
     ]
    },
    {
     "name": "stdout",
     "output_type": "stream",
     "text": [
      " dato_param['total']  12 1\n",
      "https://100.123.26.252/api/v2/devices/BC:A9:93:00:98:7C/performance?offset=0&start_time=202110211800&stop_time=202110211859\n",
      "1.-Fecha: 2021-10-21 19:07:08.893157 - Error bucle externo:  404  no trajo datos:  https://100.123.26.224/api/v2/devices/BC:A9:93:00:98:7C/performance?start_time=202110211800&stop_time=202110211859\n",
      "1.-Fecha: 2021-10-21 19:07:08.893157 - Error bucle externo:  404  no trajo datos:  https://100.123.26.252/api/v2/devices/BC:A9:93:00:98:80/performance?start_time=202110211800&stop_time=202110211859\n",
      "1.-Fecha: 2021-10-21 19:07:08.893157 - Error bucle externo:  404  no trajo datos:  https://100.123.26.252/api/v2/devices/BC:A9:93:00:98:81/performance?start_time=202110211800&stop_time=202110211859\n"
     ]
    },
    {
     "name": "stderr",
     "output_type": "stream",
     "text": [
      "/opt/anaconda3/lib/python3.8/site-packages/urllib3/connectionpool.py:981: InsecureRequestWarning: Unverified HTTPS request is being made to host '100.123.26.252'. Adding certificate verification is strongly advised. See: https://urllib3.readthedocs.io/en/latest/advanced-usage.html#ssl-warnings\n",
      "  warnings.warn(\n",
      "/opt/anaconda3/lib/python3.8/site-packages/urllib3/connectionpool.py:981: InsecureRequestWarning: Unverified HTTPS request is being made to host '100.123.26.224'. Adding certificate verification is strongly advised. See: https://urllib3.readthedocs.io/en/latest/advanced-usage.html#ssl-warnings\n",
      "  warnings.warn(\n",
      "/opt/anaconda3/lib/python3.8/site-packages/urllib3/connectionpool.py:981: InsecureRequestWarning: Unverified HTTPS request is being made to host '100.123.26.252'. Adding certificate verification is strongly advised. See: https://urllib3.readthedocs.io/en/latest/advanced-usage.html#ssl-warnings\n",
      "  warnings.warn(\n",
      "/opt/anaconda3/lib/python3.8/site-packages/urllib3/connectionpool.py:981: InsecureRequestWarning: Unverified HTTPS request is being made to host '100.123.26.252'. Adding certificate verification is strongly advised. See: https://urllib3.readthedocs.io/en/latest/advanced-usage.html#ssl-warnings\n",
      "  warnings.warn(\n",
      "/opt/anaconda3/lib/python3.8/site-packages/urllib3/connectionpool.py:981: InsecureRequestWarning: Unverified HTTPS request is being made to host '100.123.26.252'. Adding certificate verification is strongly advised. See: https://urllib3.readthedocs.io/en/latest/advanced-usage.html#ssl-warnings\n",
      "  warnings.warn(\n"
     ]
    },
    {
     "name": "stdout",
     "output_type": "stream",
     "text": [
      "1.-Fecha: 2021-10-21 19:07:08.893157 - Error bucle externo:  404  no trajo datos:  https://100.123.26.252/api/v2/devices/BC:A9:93:00:98:86/performance?start_time=202110211800&stop_time=202110211859\n",
      " dato_param['total']  13 1\n",
      "https://100.123.26.252/api/v2/devices/BC:A9:93:00:98:89/performance?offset=0&start_time=202110211800&stop_time=202110211859\n"
     ]
    },
    {
     "name": "stderr",
     "output_type": "stream",
     "text": [
      "/opt/anaconda3/lib/python3.8/site-packages/urllib3/connectionpool.py:981: InsecureRequestWarning: Unverified HTTPS request is being made to host '100.123.26.252'. Adding certificate verification is strongly advised. See: https://urllib3.readthedocs.io/en/latest/advanced-usage.html#ssl-warnings\n",
      "  warnings.warn(\n",
      "/opt/anaconda3/lib/python3.8/site-packages/urllib3/connectionpool.py:981: InsecureRequestWarning: Unverified HTTPS request is being made to host '100.123.26.252'. Adding certificate verification is strongly advised. See: https://urllib3.readthedocs.io/en/latest/advanced-usage.html#ssl-warnings\n",
      "  warnings.warn(\n",
      "/opt/anaconda3/lib/python3.8/site-packages/urllib3/connectionpool.py:981: InsecureRequestWarning: Unverified HTTPS request is being made to host '100.123.26.224'. Adding certificate verification is strongly advised. See: https://urllib3.readthedocs.io/en/latest/advanced-usage.html#ssl-warnings\n",
      "  warnings.warn(\n"
     ]
    },
    {
     "name": "stdout",
     "output_type": "stream",
     "text": [
      "1.-Fecha: 2021-10-21 19:07:08.893157 - Error bucle externo:  404  no trajo datos:  https://100.123.26.224/api/v2/devices/BC:A9:93:00:98:89/performance?start_time=202110211800&stop_time=202110211859\n",
      " dato_param['total']  13 1\n",
      "https://100.123.26.252/api/v2/devices/BC:A9:93:00:98:8A/performance?offset=0&start_time=202110211800&stop_time=202110211859\n"
     ]
    },
    {
     "name": "stderr",
     "output_type": "stream",
     "text": [
      "/opt/anaconda3/lib/python3.8/site-packages/urllib3/connectionpool.py:981: InsecureRequestWarning: Unverified HTTPS request is being made to host '100.123.26.252'. Adding certificate verification is strongly advised. See: https://urllib3.readthedocs.io/en/latest/advanced-usage.html#ssl-warnings\n",
      "  warnings.warn(\n",
      "/opt/anaconda3/lib/python3.8/site-packages/urllib3/connectionpool.py:981: InsecureRequestWarning: Unverified HTTPS request is being made to host '100.123.26.252'. Adding certificate verification is strongly advised. See: https://urllib3.readthedocs.io/en/latest/advanced-usage.html#ssl-warnings\n",
      "  warnings.warn(\n",
      "/opt/anaconda3/lib/python3.8/site-packages/urllib3/connectionpool.py:981: InsecureRequestWarning: Unverified HTTPS request is being made to host '100.123.26.224'. Adding certificate verification is strongly advised. See: https://urllib3.readthedocs.io/en/latest/advanced-usage.html#ssl-warnings\n",
      "  warnings.warn(\n"
     ]
    },
    {
     "name": "stdout",
     "output_type": "stream",
     "text": [
      "1.-Fecha: 2021-10-21 19:07:08.893157 - Error bucle externo:  404  no trajo datos:  https://100.123.26.224/api/v2/devices/BC:A9:93:00:98:8A/performance?start_time=202110211800&stop_time=202110211859\n",
      " dato_param['total']  1 1\n",
      "https://100.123.26.252/api/v2/devices/BC:A9:93:00:98:8B/performance?offset=0&start_time=202110211800&stop_time=202110211859\n",
      "1.-Fecha: 2021-10-21 19:07:08.893157 - Error bucle externo:  404  no trajo datos:  https://100.123.26.224/api/v2/devices/BC:A9:93:00:98:8B/performance?start_time=202110211800&stop_time=202110211859\n"
     ]
    },
    {
     "name": "stderr",
     "output_type": "stream",
     "text": [
      "/opt/anaconda3/lib/python3.8/site-packages/urllib3/connectionpool.py:981: InsecureRequestWarning: Unverified HTTPS request is being made to host '100.123.26.252'. Adding certificate verification is strongly advised. See: https://urllib3.readthedocs.io/en/latest/advanced-usage.html#ssl-warnings\n",
      "  warnings.warn(\n",
      "/opt/anaconda3/lib/python3.8/site-packages/urllib3/connectionpool.py:981: InsecureRequestWarning: Unverified HTTPS request is being made to host '100.123.26.252'. Adding certificate verification is strongly advised. See: https://urllib3.readthedocs.io/en/latest/advanced-usage.html#ssl-warnings\n",
      "  warnings.warn(\n",
      "/opt/anaconda3/lib/python3.8/site-packages/urllib3/connectionpool.py:981: InsecureRequestWarning: Unverified HTTPS request is being made to host '100.123.26.224'. Adding certificate verification is strongly advised. See: https://urllib3.readthedocs.io/en/latest/advanced-usage.html#ssl-warnings\n",
      "  warnings.warn(\n",
      "/opt/anaconda3/lib/python3.8/site-packages/urllib3/connectionpool.py:981: InsecureRequestWarning: Unverified HTTPS request is being made to host '100.123.26.252'. Adding certificate verification is strongly advised. See: https://urllib3.readthedocs.io/en/latest/advanced-usage.html#ssl-warnings\n",
      "  warnings.warn(\n"
     ]
    },
    {
     "name": "stdout",
     "output_type": "stream",
     "text": [
      "1.-Fecha: 2021-10-21 19:07:08.893157 - Error bucle externo:  404  no trajo datos:  https://100.123.26.252/api/v2/devices/BC:A9:93:00:98:8F/performance?start_time=202110211800&stop_time=202110211859\n",
      "1.-Fecha: 2021-10-21 19:07:08.893157 - Error bucle externo:  404  no trajo datos:  https://100.123.26.252/api/v2/devices/BC:A9:93:00:98:94/performance?start_time=202110211800&stop_time=202110211859\n",
      "1.-Fecha: 2021-10-21 19:07:08.893157 - Error bucle externo:  404  no trajo datos:  https://100.123.26.252/api/v2/devices/BC:A9:93:00:98:97/performance?start_time=202110211800&stop_time=202110211859\n",
      " dato_param['total']  1 1\n",
      "https://100.123.26.252/api/v2/devices/BC:A9:93:00:98:98/performance?offset=0&start_time=202110211800&stop_time=202110211859\n"
     ]
    },
    {
     "name": "stderr",
     "output_type": "stream",
     "text": [
      "/opt/anaconda3/lib/python3.8/site-packages/urllib3/connectionpool.py:981: InsecureRequestWarning: Unverified HTTPS request is being made to host '100.123.26.252'. Adding certificate verification is strongly advised. See: https://urllib3.readthedocs.io/en/latest/advanced-usage.html#ssl-warnings\n",
      "  warnings.warn(\n",
      "/opt/anaconda3/lib/python3.8/site-packages/urllib3/connectionpool.py:981: InsecureRequestWarning: Unverified HTTPS request is being made to host '100.123.26.252'. Adding certificate verification is strongly advised. See: https://urllib3.readthedocs.io/en/latest/advanced-usage.html#ssl-warnings\n",
      "  warnings.warn(\n",
      "/opt/anaconda3/lib/python3.8/site-packages/urllib3/connectionpool.py:981: InsecureRequestWarning: Unverified HTTPS request is being made to host '100.123.26.252'. Adding certificate verification is strongly advised. See: https://urllib3.readthedocs.io/en/latest/advanced-usage.html#ssl-warnings\n",
      "  warnings.warn(\n",
      "/opt/anaconda3/lib/python3.8/site-packages/urllib3/connectionpool.py:981: InsecureRequestWarning: Unverified HTTPS request is being made to host '100.123.26.252'. Adding certificate verification is strongly advised. See: https://urllib3.readthedocs.io/en/latest/advanced-usage.html#ssl-warnings\n",
      "  warnings.warn(\n",
      "/opt/anaconda3/lib/python3.8/site-packages/urllib3/connectionpool.py:981: InsecureRequestWarning: Unverified HTTPS request is being made to host '100.123.26.224'. Adding certificate verification is strongly advised. See: https://urllib3.readthedocs.io/en/latest/advanced-usage.html#ssl-warnings\n",
      "  warnings.warn(\n",
      "/opt/anaconda3/lib/python3.8/site-packages/urllib3/connectionpool.py:981: InsecureRequestWarning: Unverified HTTPS request is being made to host '100.123.26.252'. Adding certificate verification is strongly advised. See: https://urllib3.readthedocs.io/en/latest/advanced-usage.html#ssl-warnings\n",
      "  warnings.warn(\n",
      "/opt/anaconda3/lib/python3.8/site-packages/urllib3/connectionpool.py:981: InsecureRequestWarning: Unverified HTTPS request is being made to host '100.123.26.252'. Adding certificate verification is strongly advised. See: https://urllib3.readthedocs.io/en/latest/advanced-usage.html#ssl-warnings\n",
      "  warnings.warn(\n",
      "/opt/anaconda3/lib/python3.8/site-packages/urllib3/connectionpool.py:981: InsecureRequestWarning: Unverified HTTPS request is being made to host '100.123.26.224'. Adding certificate verification is strongly advised. See: https://urllib3.readthedocs.io/en/latest/advanced-usage.html#ssl-warnings\n",
      "  warnings.warn(\n"
     ]
    },
    {
     "name": "stdout",
     "output_type": "stream",
     "text": [
      "1.-Fecha: 2021-10-21 19:07:08.893157 - Error bucle externo:  404  no trajo datos:  https://100.123.26.224/api/v2/devices/BC:A9:93:00:98:98/performance?start_time=202110211800&stop_time=202110211859\n",
      " dato_param['total']  1 1\n",
      "https://100.123.26.252/api/v2/devices/BC:A9:93:00:98:99/performance?offset=0&start_time=202110211800&stop_time=202110211859\n",
      "1.-Fecha: 2021-10-21 19:07:08.893157 - Error bucle externo:  404  no trajo datos:  https://100.123.26.224/api/v2/devices/BC:A9:93:00:98:99/performance?start_time=202110211800&stop_time=202110211859\n",
      " dato_param['total']  1 1\n",
      "https://100.123.26.252/api/v2/devices/BC:A9:93:00:98:9B/performance?offset=0&start_time=202110211800&stop_time=202110211859\n",
      "1.-Fecha: 2021-10-21 19:07:08.893157 - Error bucle externo:  404  no trajo datos:  https://100.123.26.224/api/v2/devices/BC:A9:93:00:98:9B/performance?start_time=202110211800&stop_time=202110211859\n"
     ]
    },
    {
     "name": "stderr",
     "output_type": "stream",
     "text": [
      "/opt/anaconda3/lib/python3.8/site-packages/urllib3/connectionpool.py:981: InsecureRequestWarning: Unverified HTTPS request is being made to host '100.123.26.252'. Adding certificate verification is strongly advised. See: https://urllib3.readthedocs.io/en/latest/advanced-usage.html#ssl-warnings\n",
      "  warnings.warn(\n",
      "/opt/anaconda3/lib/python3.8/site-packages/urllib3/connectionpool.py:981: InsecureRequestWarning: Unverified HTTPS request is being made to host '100.123.26.252'. Adding certificate verification is strongly advised. See: https://urllib3.readthedocs.io/en/latest/advanced-usage.html#ssl-warnings\n",
      "  warnings.warn(\n",
      "/opt/anaconda3/lib/python3.8/site-packages/urllib3/connectionpool.py:981: InsecureRequestWarning: Unverified HTTPS request is being made to host '100.123.26.224'. Adding certificate verification is strongly advised. See: https://urllib3.readthedocs.io/en/latest/advanced-usage.html#ssl-warnings\n",
      "  warnings.warn(\n",
      "/opt/anaconda3/lib/python3.8/site-packages/urllib3/connectionpool.py:981: InsecureRequestWarning: Unverified HTTPS request is being made to host '100.123.26.252'. Adding certificate verification is strongly advised. See: https://urllib3.readthedocs.io/en/latest/advanced-usage.html#ssl-warnings\n",
      "  warnings.warn(\n",
      "/opt/anaconda3/lib/python3.8/site-packages/urllib3/connectionpool.py:981: InsecureRequestWarning: Unverified HTTPS request is being made to host '100.123.26.252'. Adding certificate verification is strongly advised. See: https://urllib3.readthedocs.io/en/latest/advanced-usage.html#ssl-warnings\n",
      "  warnings.warn(\n"
     ]
    },
    {
     "name": "stdout",
     "output_type": "stream",
     "text": [
      " dato_param['total']  12 1\n",
      "https://100.123.26.252/api/v2/devices/BC:A9:93:00:98:9E/performance?offset=0&start_time=202110211800&stop_time=202110211859\n",
      "1.-Fecha: 2021-10-21 19:07:08.893157 - Error bucle externo:  404  no trajo datos:  https://100.123.26.224/api/v2/devices/BC:A9:93:00:98:9E/performance?start_time=202110211800&stop_time=202110211859\n",
      "1.-Fecha: 2021-10-21 19:07:08.893157 - Error bucle externo:  404  no trajo datos:  https://100.123.26.252/api/v2/devices/BC:A9:93:00:98:A0/performance?start_time=202110211800&stop_time=202110211859\n",
      " dato_param['total']  1 1\n",
      "https://100.123.26.252/api/v2/devices/BC:A9:93:00:98:A1/performance?offset=0&start_time=202110211800&stop_time=202110211859\n"
     ]
    },
    {
     "name": "stderr",
     "output_type": "stream",
     "text": [
      "/opt/anaconda3/lib/python3.8/site-packages/urllib3/connectionpool.py:981: InsecureRequestWarning: Unverified HTTPS request is being made to host '100.123.26.224'. Adding certificate verification is strongly advised. See: https://urllib3.readthedocs.io/en/latest/advanced-usage.html#ssl-warnings\n",
      "  warnings.warn(\n",
      "/opt/anaconda3/lib/python3.8/site-packages/urllib3/connectionpool.py:981: InsecureRequestWarning: Unverified HTTPS request is being made to host '100.123.26.252'. Adding certificate verification is strongly advised. See: https://urllib3.readthedocs.io/en/latest/advanced-usage.html#ssl-warnings\n",
      "  warnings.warn(\n",
      "/opt/anaconda3/lib/python3.8/site-packages/urllib3/connectionpool.py:981: InsecureRequestWarning: Unverified HTTPS request is being made to host '100.123.26.252'. Adding certificate verification is strongly advised. See: https://urllib3.readthedocs.io/en/latest/advanced-usage.html#ssl-warnings\n",
      "  warnings.warn(\n",
      "/opt/anaconda3/lib/python3.8/site-packages/urllib3/connectionpool.py:981: InsecureRequestWarning: Unverified HTTPS request is being made to host '100.123.26.252'. Adding certificate verification is strongly advised. See: https://urllib3.readthedocs.io/en/latest/advanced-usage.html#ssl-warnings\n",
      "  warnings.warn(\n",
      "/opt/anaconda3/lib/python3.8/site-packages/urllib3/connectionpool.py:981: InsecureRequestWarning: Unverified HTTPS request is being made to host '100.123.26.224'. Adding certificate verification is strongly advised. See: https://urllib3.readthedocs.io/en/latest/advanced-usage.html#ssl-warnings\n",
      "  warnings.warn(\n",
      "/opt/anaconda3/lib/python3.8/site-packages/urllib3/connectionpool.py:981: InsecureRequestWarning: Unverified HTTPS request is being made to host '100.123.26.252'. Adding certificate verification is strongly advised. See: https://urllib3.readthedocs.io/en/latest/advanced-usage.html#ssl-warnings\n",
      "  warnings.warn(\n",
      "/opt/anaconda3/lib/python3.8/site-packages/urllib3/connectionpool.py:981: InsecureRequestWarning: Unverified HTTPS request is being made to host '100.123.26.252'. Adding certificate verification is strongly advised. See: https://urllib3.readthedocs.io/en/latest/advanced-usage.html#ssl-warnings\n",
      "  warnings.warn(\n"
     ]
    },
    {
     "name": "stdout",
     "output_type": "stream",
     "text": [
      "1.-Fecha: 2021-10-21 19:07:08.893157 - Error bucle externo:  404  no trajo datos:  https://100.123.26.224/api/v2/devices/BC:A9:93:00:98:A1/performance?start_time=202110211800&stop_time=202110211859\n",
      " dato_param['total']  13 1\n",
      "https://100.123.26.252/api/v2/devices/BC:A9:93:00:98:A4/performance?offset=0&start_time=202110211800&stop_time=202110211859\n",
      "1.-Fecha: 2021-10-21 19:07:08.893157 - Error bucle externo:  404  no trajo datos:  https://100.123.26.224/api/v2/devices/BC:A9:93:00:98:A4/performance?start_time=202110211800&stop_time=202110211859\n"
     ]
    },
    {
     "name": "stderr",
     "output_type": "stream",
     "text": [
      "/opt/anaconda3/lib/python3.8/site-packages/urllib3/connectionpool.py:981: InsecureRequestWarning: Unverified HTTPS request is being made to host '100.123.26.224'. Adding certificate verification is strongly advised. See: https://urllib3.readthedocs.io/en/latest/advanced-usage.html#ssl-warnings\n",
      "  warnings.warn(\n",
      "/opt/anaconda3/lib/python3.8/site-packages/urllib3/connectionpool.py:981: InsecureRequestWarning: Unverified HTTPS request is being made to host '100.123.26.252'. Adding certificate verification is strongly advised. See: https://urllib3.readthedocs.io/en/latest/advanced-usage.html#ssl-warnings\n",
      "  warnings.warn(\n",
      "/opt/anaconda3/lib/python3.8/site-packages/urllib3/connectionpool.py:981: InsecureRequestWarning: Unverified HTTPS request is being made to host '100.123.26.252'. Adding certificate verification is strongly advised. See: https://urllib3.readthedocs.io/en/latest/advanced-usage.html#ssl-warnings\n",
      "  warnings.warn(\n",
      "/opt/anaconda3/lib/python3.8/site-packages/urllib3/connectionpool.py:981: InsecureRequestWarning: Unverified HTTPS request is being made to host '100.123.26.224'. Adding certificate verification is strongly advised. See: https://urllib3.readthedocs.io/en/latest/advanced-usage.html#ssl-warnings\n",
      "  warnings.warn(\n",
      "/opt/anaconda3/lib/python3.8/site-packages/urllib3/connectionpool.py:981: InsecureRequestWarning: Unverified HTTPS request is being made to host '100.123.26.252'. Adding certificate verification is strongly advised. See: https://urllib3.readthedocs.io/en/latest/advanced-usage.html#ssl-warnings\n",
      "  warnings.warn(\n",
      "/opt/anaconda3/lib/python3.8/site-packages/urllib3/connectionpool.py:981: InsecureRequestWarning: Unverified HTTPS request is being made to host '100.123.26.252'. Adding certificate verification is strongly advised. See: https://urllib3.readthedocs.io/en/latest/advanced-usage.html#ssl-warnings\n",
      "  warnings.warn(\n"
     ]
    },
    {
     "name": "stdout",
     "output_type": "stream",
     "text": [
      " dato_param['total']  12 1\n",
      "https://100.123.26.252/api/v2/devices/BC:A9:93:00:98:A5/performance?offset=0&start_time=202110211800&stop_time=202110211859\n",
      "1.-Fecha: 2021-10-21 19:07:08.893157 - Error bucle externo:  404  no trajo datos:  https://100.123.26.224/api/v2/devices/BC:A9:93:00:98:A5/performance?start_time=202110211800&stop_time=202110211859\n",
      " dato_param['total']  13 1\n",
      "https://100.123.26.252/api/v2/devices/BC:A9:93:00:98:A6/performance?offset=0&start_time=202110211800&stop_time=202110211859\n"
     ]
    },
    {
     "name": "stderr",
     "output_type": "stream",
     "text": [
      "/opt/anaconda3/lib/python3.8/site-packages/urllib3/connectionpool.py:981: InsecureRequestWarning: Unverified HTTPS request is being made to host '100.123.26.224'. Adding certificate verification is strongly advised. See: https://urllib3.readthedocs.io/en/latest/advanced-usage.html#ssl-warnings\n",
      "  warnings.warn(\n",
      "/opt/anaconda3/lib/python3.8/site-packages/urllib3/connectionpool.py:981: InsecureRequestWarning: Unverified HTTPS request is being made to host '100.123.26.252'. Adding certificate verification is strongly advised. See: https://urllib3.readthedocs.io/en/latest/advanced-usage.html#ssl-warnings\n",
      "  warnings.warn(\n",
      "/opt/anaconda3/lib/python3.8/site-packages/urllib3/connectionpool.py:981: InsecureRequestWarning: Unverified HTTPS request is being made to host '100.123.26.252'. Adding certificate verification is strongly advised. See: https://urllib3.readthedocs.io/en/latest/advanced-usage.html#ssl-warnings\n",
      "  warnings.warn(\n"
     ]
    },
    {
     "name": "stdout",
     "output_type": "stream",
     "text": [
      "1.-Fecha: 2021-10-21 19:07:08.893157 - Error bucle externo:  404  no trajo datos:  https://100.123.26.224/api/v2/devices/BC:A9:93:00:98:A6/performance?start_time=202110211800&stop_time=202110211859\n",
      " dato_param['total']  12 1\n",
      "https://100.123.26.252/api/v2/devices/BC:A9:93:00:98:A7/performance?offset=0&start_time=202110211800&stop_time=202110211859\n"
     ]
    },
    {
     "name": "stderr",
     "output_type": "stream",
     "text": [
      "/opt/anaconda3/lib/python3.8/site-packages/urllib3/connectionpool.py:981: InsecureRequestWarning: Unverified HTTPS request is being made to host '100.123.26.224'. Adding certificate verification is strongly advised. See: https://urllib3.readthedocs.io/en/latest/advanced-usage.html#ssl-warnings\n",
      "  warnings.warn(\n",
      "/opt/anaconda3/lib/python3.8/site-packages/urllib3/connectionpool.py:981: InsecureRequestWarning: Unverified HTTPS request is being made to host '100.123.26.252'. Adding certificate verification is strongly advised. See: https://urllib3.readthedocs.io/en/latest/advanced-usage.html#ssl-warnings\n",
      "  warnings.warn(\n",
      "/opt/anaconda3/lib/python3.8/site-packages/urllib3/connectionpool.py:981: InsecureRequestWarning: Unverified HTTPS request is being made to host '100.123.26.252'. Adding certificate verification is strongly advised. See: https://urllib3.readthedocs.io/en/latest/advanced-usage.html#ssl-warnings\n",
      "  warnings.warn(\n",
      "/opt/anaconda3/lib/python3.8/site-packages/urllib3/connectionpool.py:981: InsecureRequestWarning: Unverified HTTPS request is being made to host '100.123.26.224'. Adding certificate verification is strongly advised. See: https://urllib3.readthedocs.io/en/latest/advanced-usage.html#ssl-warnings\n",
      "  warnings.warn(\n",
      "/opt/anaconda3/lib/python3.8/site-packages/urllib3/connectionpool.py:981: InsecureRequestWarning: Unverified HTTPS request is being made to host '100.123.26.252'. Adding certificate verification is strongly advised. See: https://urllib3.readthedocs.io/en/latest/advanced-usage.html#ssl-warnings\n",
      "  warnings.warn(\n",
      "/opt/anaconda3/lib/python3.8/site-packages/urllib3/connectionpool.py:981: InsecureRequestWarning: Unverified HTTPS request is being made to host '100.123.26.252'. Adding certificate verification is strongly advised. See: https://urllib3.readthedocs.io/en/latest/advanced-usage.html#ssl-warnings\n",
      "  warnings.warn(\n"
     ]
    },
    {
     "name": "stdout",
     "output_type": "stream",
     "text": [
      "1.-Fecha: 2021-10-21 19:07:08.893157 - Error bucle externo:  404  no trajo datos:  https://100.123.26.224/api/v2/devices/BC:A9:93:00:98:A7/performance?start_time=202110211800&stop_time=202110211859\n",
      " dato_param['total']  13 1\n",
      "https://100.123.26.252/api/v2/devices/BC:A9:93:00:98:C1/performance?offset=0&start_time=202110211800&stop_time=202110211859\n",
      "1.-Fecha: 2021-10-21 19:07:08.893157 - Error bucle externo:  404  no trajo datos:  https://100.123.26.224/api/v2/devices/BC:A9:93:00:98:C1/performance?start_time=202110211800&stop_time=202110211859\n",
      "1.-Fecha: 2021-10-21 19:07:08.893157 - Error bucle externo:  404  no trajo datos:  https://100.123.26.252/api/v2/devices/BC:A9:93:00:98:D1/performance?start_time=202110211800&stop_time=202110211859\n",
      "1.-Fecha: 2021-10-21 19:07:08.893157 - Error bucle externo:  404  no trajo datos:  https://100.123.26.252/api/v2/devices/BC:A9:93:00:98:D5/performance?start_time=202110211800&stop_time=202110211859\n"
     ]
    },
    {
     "name": "stderr",
     "output_type": "stream",
     "text": [
      "/opt/anaconda3/lib/python3.8/site-packages/urllib3/connectionpool.py:981: InsecureRequestWarning: Unverified HTTPS request is being made to host '100.123.26.252'. Adding certificate verification is strongly advised. See: https://urllib3.readthedocs.io/en/latest/advanced-usage.html#ssl-warnings\n",
      "  warnings.warn(\n",
      "/opt/anaconda3/lib/python3.8/site-packages/urllib3/connectionpool.py:981: InsecureRequestWarning: Unverified HTTPS request is being made to host '100.123.26.252'. Adding certificate verification is strongly advised. See: https://urllib3.readthedocs.io/en/latest/advanced-usage.html#ssl-warnings\n",
      "  warnings.warn(\n",
      "/opt/anaconda3/lib/python3.8/site-packages/urllib3/connectionpool.py:981: InsecureRequestWarning: Unverified HTTPS request is being made to host '100.123.26.224'. Adding certificate verification is strongly advised. See: https://urllib3.readthedocs.io/en/latest/advanced-usage.html#ssl-warnings\n",
      "  warnings.warn(\n"
     ]
    },
    {
     "name": "stdout",
     "output_type": "stream",
     "text": [
      " dato_param['total']  1 1\n",
      "https://100.123.26.252/api/v2/devices/BC:A9:93:00:98:D7/performance?offset=0&start_time=202110211800&stop_time=202110211859\n",
      "1.-Fecha: 2021-10-21 19:07:08.893157 - Error bucle externo:  404  no trajo datos:  https://100.123.26.224/api/v2/devices/BC:A9:93:00:98:D7/performance?start_time=202110211800&stop_time=202110211859\n",
      "1.-Fecha: 2021-10-21 19:07:08.893157 - Error bucle externo:  404  no trajo datos:  https://100.123.26.252/api/v2/devices/BC:A9:93:00:98:DD/performance?start_time=202110211800&stop_time=202110211859\n"
     ]
    },
    {
     "name": "stderr",
     "output_type": "stream",
     "text": [
      "/opt/anaconda3/lib/python3.8/site-packages/urllib3/connectionpool.py:981: InsecureRequestWarning: Unverified HTTPS request is being made to host '100.123.26.252'. Adding certificate verification is strongly advised. See: https://urllib3.readthedocs.io/en/latest/advanced-usage.html#ssl-warnings\n",
      "  warnings.warn(\n",
      "/opt/anaconda3/lib/python3.8/site-packages/urllib3/connectionpool.py:981: InsecureRequestWarning: Unverified HTTPS request is being made to host '100.123.26.252'. Adding certificate verification is strongly advised. See: https://urllib3.readthedocs.io/en/latest/advanced-usage.html#ssl-warnings\n",
      "  warnings.warn(\n",
      "/opt/anaconda3/lib/python3.8/site-packages/urllib3/connectionpool.py:981: InsecureRequestWarning: Unverified HTTPS request is being made to host '100.123.26.252'. Adding certificate verification is strongly advised. See: https://urllib3.readthedocs.io/en/latest/advanced-usage.html#ssl-warnings\n",
      "  warnings.warn(\n",
      "/opt/anaconda3/lib/python3.8/site-packages/urllib3/connectionpool.py:981: InsecureRequestWarning: Unverified HTTPS request is being made to host '100.123.26.224'. Adding certificate verification is strongly advised. See: https://urllib3.readthedocs.io/en/latest/advanced-usage.html#ssl-warnings\n",
      "  warnings.warn(\n",
      "/opt/anaconda3/lib/python3.8/site-packages/urllib3/connectionpool.py:981: InsecureRequestWarning: Unverified HTTPS request is being made to host '100.123.26.252'. Adding certificate verification is strongly advised. See: https://urllib3.readthedocs.io/en/latest/advanced-usage.html#ssl-warnings\n",
      "  warnings.warn(\n"
     ]
    },
    {
     "name": "stdout",
     "output_type": "stream",
     "text": [
      " dato_param['total']  13 1\n",
      "https://100.123.26.252/api/v2/devices/BC:A9:93:00:98:DE/performance?offset=0&start_time=202110211800&stop_time=202110211859\n",
      "1.-Fecha: 2021-10-21 19:07:08.893157 - Error bucle externo:  404  no trajo datos:  https://100.123.26.224/api/v2/devices/BC:A9:93:00:98:DE/performance?start_time=202110211800&stop_time=202110211859\n",
      " dato_param['total']  4 1\n",
      "https://100.123.26.252/api/v2/devices/BC:A9:93:00:98:DF/performance?offset=0&start_time=202110211800&stop_time=202110211859\n"
     ]
    },
    {
     "name": "stderr",
     "output_type": "stream",
     "text": [
      "/opt/anaconda3/lib/python3.8/site-packages/urllib3/connectionpool.py:981: InsecureRequestWarning: Unverified HTTPS request is being made to host '100.123.26.252'. Adding certificate verification is strongly advised. See: https://urllib3.readthedocs.io/en/latest/advanced-usage.html#ssl-warnings\n",
      "  warnings.warn(\n",
      "/opt/anaconda3/lib/python3.8/site-packages/urllib3/connectionpool.py:981: InsecureRequestWarning: Unverified HTTPS request is being made to host '100.123.26.224'. Adding certificate verification is strongly advised. See: https://urllib3.readthedocs.io/en/latest/advanced-usage.html#ssl-warnings\n",
      "  warnings.warn(\n",
      "/opt/anaconda3/lib/python3.8/site-packages/urllib3/connectionpool.py:981: InsecureRequestWarning: Unverified HTTPS request is being made to host '100.123.26.252'. Adding certificate verification is strongly advised. See: https://urllib3.readthedocs.io/en/latest/advanced-usage.html#ssl-warnings\n",
      "  warnings.warn(\n",
      "/opt/anaconda3/lib/python3.8/site-packages/urllib3/connectionpool.py:981: InsecureRequestWarning: Unverified HTTPS request is being made to host '100.123.26.252'. Adding certificate verification is strongly advised. See: https://urllib3.readthedocs.io/en/latest/advanced-usage.html#ssl-warnings\n",
      "  warnings.warn(\n",
      "/opt/anaconda3/lib/python3.8/site-packages/urllib3/connectionpool.py:981: InsecureRequestWarning: Unverified HTTPS request is being made to host '100.123.26.224'. Adding certificate verification is strongly advised. See: https://urllib3.readthedocs.io/en/latest/advanced-usage.html#ssl-warnings\n",
      "  warnings.warn(\n"
     ]
    },
    {
     "name": "stdout",
     "output_type": "stream",
     "text": [
      "1.-Fecha: 2021-10-21 19:07:08.893157 - Error bucle externo:  404  no trajo datos:  https://100.123.26.224/api/v2/devices/BC:A9:93:00:98:DF/performance?start_time=202110211800&stop_time=202110211859\n",
      " dato_param['total']  1 1\n",
      "https://100.123.26.252/api/v2/devices/BC:A9:93:00:98:E7/performance?offset=0&start_time=202110211800&stop_time=202110211859\n",
      "1.-Fecha: 2021-10-21 19:07:08.893157 - Error bucle externo:  404  no trajo datos:  https://100.123.26.224/api/v2/devices/BC:A9:93:00:98:E7/performance?start_time=202110211800&stop_time=202110211859\n"
     ]
    },
    {
     "name": "stderr",
     "output_type": "stream",
     "text": [
      "/opt/anaconda3/lib/python3.8/site-packages/urllib3/connectionpool.py:981: InsecureRequestWarning: Unverified HTTPS request is being made to host '100.123.26.252'. Adding certificate verification is strongly advised. See: https://urllib3.readthedocs.io/en/latest/advanced-usage.html#ssl-warnings\n",
      "  warnings.warn(\n",
      "/opt/anaconda3/lib/python3.8/site-packages/urllib3/connectionpool.py:981: InsecureRequestWarning: Unverified HTTPS request is being made to host '100.123.26.252'. Adding certificate verification is strongly advised. See: https://urllib3.readthedocs.io/en/latest/advanced-usage.html#ssl-warnings\n",
      "  warnings.warn(\n",
      "/opt/anaconda3/lib/python3.8/site-packages/urllib3/connectionpool.py:981: InsecureRequestWarning: Unverified HTTPS request is being made to host '100.123.26.252'. Adding certificate verification is strongly advised. See: https://urllib3.readthedocs.io/en/latest/advanced-usage.html#ssl-warnings\n",
      "  warnings.warn(\n"
     ]
    },
    {
     "name": "stdout",
     "output_type": "stream",
     "text": [
      "1.-Fecha: 2021-10-21 19:07:08.893157 - Error bucle externo:  404  no trajo datos:  https://100.123.26.252/api/v2/devices/BC:A9:93:00:98:E8/performance?start_time=202110211800&stop_time=202110211859\n",
      " dato_param['total']  12 1\n",
      "https://100.123.26.252/api/v2/devices/BC:A9:93:00:98:E9/performance?offset=0&start_time=202110211800&stop_time=202110211859\n",
      "1.-Fecha: 2021-10-21 19:07:08.893157 - Error bucle externo:  404  no trajo datos:  https://100.123.26.224/api/v2/devices/BC:A9:93:00:98:E9/performance?start_time=202110211800&stop_time=202110211859\n",
      "1.-Fecha: 2021-10-21 19:07:08.893157 - Error bucle externo:  404  no trajo datos:  https://100.123.26.252/api/v2/devices/BC:A9:93:00:98:EA/performance?start_time=202110211800&stop_time=202110211859\n"
     ]
    },
    {
     "name": "stderr",
     "output_type": "stream",
     "text": [
      "/opt/anaconda3/lib/python3.8/site-packages/urllib3/connectionpool.py:981: InsecureRequestWarning: Unverified HTTPS request is being made to host '100.123.26.224'. Adding certificate verification is strongly advised. See: https://urllib3.readthedocs.io/en/latest/advanced-usage.html#ssl-warnings\n",
      "  warnings.warn(\n",
      "/opt/anaconda3/lib/python3.8/site-packages/urllib3/connectionpool.py:981: InsecureRequestWarning: Unverified HTTPS request is being made to host '100.123.26.252'. Adding certificate verification is strongly advised. See: https://urllib3.readthedocs.io/en/latest/advanced-usage.html#ssl-warnings\n",
      "  warnings.warn(\n",
      "/opt/anaconda3/lib/python3.8/site-packages/urllib3/connectionpool.py:981: InsecureRequestWarning: Unverified HTTPS request is being made to host '100.123.26.252'. Adding certificate verification is strongly advised. See: https://urllib3.readthedocs.io/en/latest/advanced-usage.html#ssl-warnings\n",
      "  warnings.warn(\n",
      "/opt/anaconda3/lib/python3.8/site-packages/urllib3/connectionpool.py:981: InsecureRequestWarning: Unverified HTTPS request is being made to host '100.123.26.252'. Adding certificate verification is strongly advised. See: https://urllib3.readthedocs.io/en/latest/advanced-usage.html#ssl-warnings\n",
      "  warnings.warn(\n",
      "/opt/anaconda3/lib/python3.8/site-packages/urllib3/connectionpool.py:981: InsecureRequestWarning: Unverified HTTPS request is being made to host '100.123.26.252'. Adding certificate verification is strongly advised. See: https://urllib3.readthedocs.io/en/latest/advanced-usage.html#ssl-warnings\n",
      "  warnings.warn(\n"
     ]
    },
    {
     "name": "stdout",
     "output_type": "stream",
     "text": [
      "1.-Fecha: 2021-10-21 19:07:08.893157 - Error bucle externo:  404  no trajo datos:  https://100.123.26.252/api/v2/devices/BC:A9:93:00:98:EB/performance?start_time=202110211800&stop_time=202110211859\n",
      " dato_param['total']  1 1\n",
      "https://100.123.26.252/api/v2/devices/BC:A9:93:01:65:CA/performance?offset=0&start_time=202110211800&stop_time=202110211859\n",
      "1.-Fecha: 2021-10-21 19:07:08.893157 - Error bucle externo:  404  no trajo datos:  https://100.123.26.224/api/v2/devices/BC:A9:93:01:65:CA/performance?start_time=202110211800&stop_time=202110211859\n"
     ]
    },
    {
     "name": "stderr",
     "output_type": "stream",
     "text": [
      "/opt/anaconda3/lib/python3.8/site-packages/urllib3/connectionpool.py:981: InsecureRequestWarning: Unverified HTTPS request is being made to host '100.123.26.224'. Adding certificate verification is strongly advised. See: https://urllib3.readthedocs.io/en/latest/advanced-usage.html#ssl-warnings\n",
      "  warnings.warn(\n",
      "/opt/anaconda3/lib/python3.8/site-packages/urllib3/connectionpool.py:981: InsecureRequestWarning: Unverified HTTPS request is being made to host '100.123.26.252'. Adding certificate verification is strongly advised. See: https://urllib3.readthedocs.io/en/latest/advanced-usage.html#ssl-warnings\n",
      "  warnings.warn(\n",
      "/opt/anaconda3/lib/python3.8/site-packages/urllib3/connectionpool.py:981: InsecureRequestWarning: Unverified HTTPS request is being made to host '100.123.26.252'. Adding certificate verification is strongly advised. See: https://urllib3.readthedocs.io/en/latest/advanced-usage.html#ssl-warnings\n",
      "  warnings.warn(\n",
      "/opt/anaconda3/lib/python3.8/site-packages/urllib3/connectionpool.py:981: InsecureRequestWarning: Unverified HTTPS request is being made to host '100.123.26.252'. Adding certificate verification is strongly advised. See: https://urllib3.readthedocs.io/en/latest/advanced-usage.html#ssl-warnings\n",
      "  warnings.warn(\n",
      "/opt/anaconda3/lib/python3.8/site-packages/urllib3/connectionpool.py:981: InsecureRequestWarning: Unverified HTTPS request is being made to host '100.123.26.224'. Adding certificate verification is strongly advised. See: https://urllib3.readthedocs.io/en/latest/advanced-usage.html#ssl-warnings\n",
      "  warnings.warn(\n"
     ]
    },
    {
     "name": "stdout",
     "output_type": "stream",
     "text": [
      "1.-Fecha: 2021-10-21 19:07:08.893157 - Error bucle externo:  404  no trajo datos:  https://100.123.26.252/api/v2/devices/BC:A9:93:01:65:D1/performance?start_time=202110211800&stop_time=202110211859\n",
      " dato_param['total']  13 1\n",
      "https://100.123.26.252/api/v2/devices/BC:A9:93:01:65:D3/performance?offset=0&start_time=202110211800&stop_time=202110211859\n",
      "1.-Fecha: 2021-10-21 19:07:08.893157 - Error bucle externo:  404  no trajo datos:  https://100.123.26.224/api/v2/devices/BC:A9:93:01:65:D3/performance?start_time=202110211800&stop_time=202110211859\n",
      " dato_param['total']  1 1\n",
      "https://100.123.26.252/api/v2/devices/BC:A9:93:01:65:D5/performance?offset=0&start_time=202110211800&stop_time=202110211859\n",
      "1.-Fecha: 2021-10-21 19:07:08.893157 - Error bucle externo:  404  no trajo datos:  https://100.123.26.224/api/v2/devices/BC:A9:93:01:65:D5/performance?start_time=202110211800&stop_time=202110211859\n",
      " dato_param['total']  1 1\n",
      "https://100.123.26.252/api/v2/devices/BC:A9:93:01:65:DA/performance?offset=0&start_time=202110211800&stop_time=202110211859\n"
     ]
    },
    {
     "name": "stderr",
     "output_type": "stream",
     "text": [
      "/opt/anaconda3/lib/python3.8/site-packages/urllib3/connectionpool.py:981: InsecureRequestWarning: Unverified HTTPS request is being made to host '100.123.26.252'. Adding certificate verification is strongly advised. See: https://urllib3.readthedocs.io/en/latest/advanced-usage.html#ssl-warnings\n",
      "  warnings.warn(\n",
      "/opt/anaconda3/lib/python3.8/site-packages/urllib3/connectionpool.py:981: InsecureRequestWarning: Unverified HTTPS request is being made to host '100.123.26.252'. Adding certificate verification is strongly advised. See: https://urllib3.readthedocs.io/en/latest/advanced-usage.html#ssl-warnings\n",
      "  warnings.warn(\n",
      "/opt/anaconda3/lib/python3.8/site-packages/urllib3/connectionpool.py:981: InsecureRequestWarning: Unverified HTTPS request is being made to host '100.123.26.224'. Adding certificate verification is strongly advised. See: https://urllib3.readthedocs.io/en/latest/advanced-usage.html#ssl-warnings\n",
      "  warnings.warn(\n",
      "/opt/anaconda3/lib/python3.8/site-packages/urllib3/connectionpool.py:981: InsecureRequestWarning: Unverified HTTPS request is being made to host '100.123.26.252'. Adding certificate verification is strongly advised. See: https://urllib3.readthedocs.io/en/latest/advanced-usage.html#ssl-warnings\n",
      "  warnings.warn(\n",
      "/opt/anaconda3/lib/python3.8/site-packages/urllib3/connectionpool.py:981: InsecureRequestWarning: Unverified HTTPS request is being made to host '100.123.26.252'. Adding certificate verification is strongly advised. See: https://urllib3.readthedocs.io/en/latest/advanced-usage.html#ssl-warnings\n",
      "  warnings.warn(\n",
      "/opt/anaconda3/lib/python3.8/site-packages/urllib3/connectionpool.py:981: InsecureRequestWarning: Unverified HTTPS request is being made to host '100.123.26.224'. Adding certificate verification is strongly advised. See: https://urllib3.readthedocs.io/en/latest/advanced-usage.html#ssl-warnings\n",
      "  warnings.warn(\n",
      "/opt/anaconda3/lib/python3.8/site-packages/urllib3/connectionpool.py:981: InsecureRequestWarning: Unverified HTTPS request is being made to host '100.123.26.252'. Adding certificate verification is strongly advised. See: https://urllib3.readthedocs.io/en/latest/advanced-usage.html#ssl-warnings\n",
      "  warnings.warn(\n",
      "/opt/anaconda3/lib/python3.8/site-packages/urllib3/connectionpool.py:981: InsecureRequestWarning: Unverified HTTPS request is being made to host '100.123.26.252'. Adding certificate verification is strongly advised. See: https://urllib3.readthedocs.io/en/latest/advanced-usage.html#ssl-warnings\n",
      "  warnings.warn(\n",
      "/opt/anaconda3/lib/python3.8/site-packages/urllib3/connectionpool.py:981: InsecureRequestWarning: Unverified HTTPS request is being made to host '100.123.26.224'. Adding certificate verification is strongly advised. See: https://urllib3.readthedocs.io/en/latest/advanced-usage.html#ssl-warnings\n",
      "  warnings.warn(\n"
     ]
    },
    {
     "name": "stdout",
     "output_type": "stream",
     "text": [
      "1.-Fecha: 2021-10-21 19:07:08.893157 - Error bucle externo:  404  no trajo datos:  https://100.123.26.224/api/v2/devices/BC:A9:93:01:65:DA/performance?start_time=202110211800&stop_time=202110211859\n",
      " dato_param['total']  12 1\n",
      "https://100.123.26.252/api/v2/devices/BC:A9:93:01:65:DC/performance?offset=0&start_time=202110211800&stop_time=202110211859\n",
      "1.-Fecha: 2021-10-21 19:07:08.893157 - Error bucle externo:  404  no trajo datos:  https://100.123.26.224/api/v2/devices/BC:A9:93:01:65:DC/performance?start_time=202110211800&stop_time=202110211859\n",
      " dato_param['total']  1 1\n",
      "https://100.123.26.252/api/v2/devices/BC:A9:93:01:65:DE/performance?offset=0&start_time=202110211800&stop_time=202110211859\n",
      "1.-Fecha: 2021-10-21 19:07:08.893157 - Error bucle externo:  404  no trajo datos:  https://100.123.26.224/api/v2/devices/BC:A9:93:01:65:DE/performance?start_time=202110211800&stop_time=202110211859\n",
      "1.-Fecha: 2021-10-21 19:07:08.893157 - Error bucle externo:  404  no trajo datos:  https://100.123.26.252/api/v2/devices/BC:A9:93:01:65:E2/performance?start_time=202110211800&stop_time=202110211859\n"
     ]
    },
    {
     "name": "stderr",
     "output_type": "stream",
     "text": [
      "/opt/anaconda3/lib/python3.8/site-packages/urllib3/connectionpool.py:981: InsecureRequestWarning: Unverified HTTPS request is being made to host '100.123.26.252'. Adding certificate verification is strongly advised. See: https://urllib3.readthedocs.io/en/latest/advanced-usage.html#ssl-warnings\n",
      "  warnings.warn(\n",
      "/opt/anaconda3/lib/python3.8/site-packages/urllib3/connectionpool.py:981: InsecureRequestWarning: Unverified HTTPS request is being made to host '100.123.26.252'. Adding certificate verification is strongly advised. See: https://urllib3.readthedocs.io/en/latest/advanced-usage.html#ssl-warnings\n",
      "  warnings.warn(\n",
      "/opt/anaconda3/lib/python3.8/site-packages/urllib3/connectionpool.py:981: InsecureRequestWarning: Unverified HTTPS request is being made to host '100.123.26.224'. Adding certificate verification is strongly advised. See: https://urllib3.readthedocs.io/en/latest/advanced-usage.html#ssl-warnings\n",
      "  warnings.warn(\n",
      "/opt/anaconda3/lib/python3.8/site-packages/urllib3/connectionpool.py:981: InsecureRequestWarning: Unverified HTTPS request is being made to host '100.123.26.252'. Adding certificate verification is strongly advised. See: https://urllib3.readthedocs.io/en/latest/advanced-usage.html#ssl-warnings\n",
      "  warnings.warn(\n",
      "/opt/anaconda3/lib/python3.8/site-packages/urllib3/connectionpool.py:981: InsecureRequestWarning: Unverified HTTPS request is being made to host '100.123.26.252'. Adding certificate verification is strongly advised. See: https://urllib3.readthedocs.io/en/latest/advanced-usage.html#ssl-warnings\n",
      "  warnings.warn(\n"
     ]
    },
    {
     "name": "stdout",
     "output_type": "stream",
     "text": [
      "1.-Fecha: 2021-10-21 19:07:08.893157 - Error bucle externo:  404  no trajo datos:  https://100.123.26.252/api/v2/devices/BC:A9:93:01:65:E6/performance?start_time=202110211800&stop_time=202110211859\n",
      " dato_param['total']  13 1\n",
      "https://100.123.26.252/api/v2/devices/BC:A9:93:01:65:E7/performance?offset=0&start_time=202110211800&stop_time=202110211859\n",
      "1.-Fecha: 2021-10-21 19:07:08.893157 - Error bucle externo:  404  no trajo datos:  https://100.123.26.224/api/v2/devices/BC:A9:93:01:65:E7/performance?start_time=202110211800&stop_time=202110211859\n",
      "1.-Fecha: 2021-10-21 19:07:08.893157 - Error bucle externo:  404  no trajo datos:  https://100.123.26.252/api/v2/devices/BC:A9:93:01:65:E8/performance?start_time=202110211800&stop_time=202110211859\n"
     ]
    },
    {
     "name": "stderr",
     "output_type": "stream",
     "text": [
      "/opt/anaconda3/lib/python3.8/site-packages/urllib3/connectionpool.py:981: InsecureRequestWarning: Unverified HTTPS request is being made to host '100.123.26.252'. Adding certificate verification is strongly advised. See: https://urllib3.readthedocs.io/en/latest/advanced-usage.html#ssl-warnings\n",
      "  warnings.warn(\n",
      "/opt/anaconda3/lib/python3.8/site-packages/urllib3/connectionpool.py:981: InsecureRequestWarning: Unverified HTTPS request is being made to host '100.123.26.252'. Adding certificate verification is strongly advised. See: https://urllib3.readthedocs.io/en/latest/advanced-usage.html#ssl-warnings\n",
      "  warnings.warn(\n",
      "/opt/anaconda3/lib/python3.8/site-packages/urllib3/connectionpool.py:981: InsecureRequestWarning: Unverified HTTPS request is being made to host '100.123.26.224'. Adding certificate verification is strongly advised. See: https://urllib3.readthedocs.io/en/latest/advanced-usage.html#ssl-warnings\n",
      "  warnings.warn(\n",
      "/opt/anaconda3/lib/python3.8/site-packages/urllib3/connectionpool.py:981: InsecureRequestWarning: Unverified HTTPS request is being made to host '100.123.26.252'. Adding certificate verification is strongly advised. See: https://urllib3.readthedocs.io/en/latest/advanced-usage.html#ssl-warnings\n",
      "  warnings.warn(\n",
      "/opt/anaconda3/lib/python3.8/site-packages/urllib3/connectionpool.py:981: InsecureRequestWarning: Unverified HTTPS request is being made to host '100.123.26.252'. Adding certificate verification is strongly advised. See: https://urllib3.readthedocs.io/en/latest/advanced-usage.html#ssl-warnings\n",
      "  warnings.warn(\n"
     ]
    },
    {
     "name": "stdout",
     "output_type": "stream",
     "text": [
      "1.-Fecha: 2021-10-21 19:07:08.893157 - Error bucle externo:  404  no trajo datos:  https://100.123.26.252/api/v2/devices/BC:A9:93:01:65:EA/performance?start_time=202110211800&stop_time=202110211859\n",
      " dato_param['total']  13 1\n",
      "https://100.123.26.252/api/v2/devices/BC:A9:93:01:6A:F2/performance?offset=0&start_time=202110211800&stop_time=202110211859\n",
      "1.-Fecha: 2021-10-21 19:07:08.893157 - Error bucle externo:  404  no trajo datos:  https://100.123.26.224/api/v2/devices/BC:A9:93:01:6A:F2/performance?start_time=202110211800&stop_time=202110211859\n"
     ]
    },
    {
     "name": "stderr",
     "output_type": "stream",
     "text": [
      "/opt/anaconda3/lib/python3.8/site-packages/urllib3/connectionpool.py:981: InsecureRequestWarning: Unverified HTTPS request is being made to host '100.123.26.252'. Adding certificate verification is strongly advised. See: https://urllib3.readthedocs.io/en/latest/advanced-usage.html#ssl-warnings\n",
      "  warnings.warn(\n",
      "/opt/anaconda3/lib/python3.8/site-packages/urllib3/connectionpool.py:981: InsecureRequestWarning: Unverified HTTPS request is being made to host '100.123.26.252'. Adding certificate verification is strongly advised. See: https://urllib3.readthedocs.io/en/latest/advanced-usage.html#ssl-warnings\n",
      "  warnings.warn(\n",
      "/opt/anaconda3/lib/python3.8/site-packages/urllib3/connectionpool.py:981: InsecureRequestWarning: Unverified HTTPS request is being made to host '100.123.26.224'. Adding certificate verification is strongly advised. See: https://urllib3.readthedocs.io/en/latest/advanced-usage.html#ssl-warnings\n",
      "  warnings.warn(\n",
      "/opt/anaconda3/lib/python3.8/site-packages/urllib3/connectionpool.py:981: InsecureRequestWarning: Unverified HTTPS request is being made to host '100.123.26.252'. Adding certificate verification is strongly advised. See: https://urllib3.readthedocs.io/en/latest/advanced-usage.html#ssl-warnings\n",
      "  warnings.warn(\n"
     ]
    },
    {
     "name": "stdout",
     "output_type": "stream",
     "text": [
      "1.-Fecha: 2021-10-21 19:07:08.893157 - Error bucle externo:  404  no trajo datos:  https://100.123.26.252/api/v2/devices/BC:A9:93:01:6A:F4/performance?start_time=202110211800&stop_time=202110211859\n",
      "1.-Fecha: 2021-10-21 19:07:08.893157 - Error bucle externo:  404  no trajo datos:  https://100.123.26.252/api/v2/devices/BC:A9:93:01:6A:F9/performance?start_time=202110211800&stop_time=202110211859\n",
      "1.-Fecha: 2021-10-21 19:07:08.893157 - Error bucle externo:  404  no trajo datos:  https://100.123.26.252/api/v2/devices/BC:A9:93:01:6A:FA/performance?start_time=202110211800&stop_time=202110211859\n",
      " dato_param['total']  1 1\n",
      "https://100.123.26.252/api/v2/devices/BC:A9:93:01:6A:FB/performance?offset=0&start_time=202110211800&stop_time=202110211859\n"
     ]
    },
    {
     "name": "stderr",
     "output_type": "stream",
     "text": [
      "/opt/anaconda3/lib/python3.8/site-packages/urllib3/connectionpool.py:981: InsecureRequestWarning: Unverified HTTPS request is being made to host '100.123.26.252'. Adding certificate verification is strongly advised. See: https://urllib3.readthedocs.io/en/latest/advanced-usage.html#ssl-warnings\n",
      "  warnings.warn(\n",
      "/opt/anaconda3/lib/python3.8/site-packages/urllib3/connectionpool.py:981: InsecureRequestWarning: Unverified HTTPS request is being made to host '100.123.26.252'. Adding certificate verification is strongly advised. See: https://urllib3.readthedocs.io/en/latest/advanced-usage.html#ssl-warnings\n",
      "  warnings.warn(\n",
      "/opt/anaconda3/lib/python3.8/site-packages/urllib3/connectionpool.py:981: InsecureRequestWarning: Unverified HTTPS request is being made to host '100.123.26.252'. Adding certificate verification is strongly advised. See: https://urllib3.readthedocs.io/en/latest/advanced-usage.html#ssl-warnings\n",
      "  warnings.warn(\n",
      "/opt/anaconda3/lib/python3.8/site-packages/urllib3/connectionpool.py:981: InsecureRequestWarning: Unverified HTTPS request is being made to host '100.123.26.252'. Adding certificate verification is strongly advised. See: https://urllib3.readthedocs.io/en/latest/advanced-usage.html#ssl-warnings\n",
      "  warnings.warn(\n",
      "/opt/anaconda3/lib/python3.8/site-packages/urllib3/connectionpool.py:981: InsecureRequestWarning: Unverified HTTPS request is being made to host '100.123.26.224'. Adding certificate verification is strongly advised. See: https://urllib3.readthedocs.io/en/latest/advanced-usage.html#ssl-warnings\n",
      "  warnings.warn(\n",
      "/opt/anaconda3/lib/python3.8/site-packages/urllib3/connectionpool.py:981: InsecureRequestWarning: Unverified HTTPS request is being made to host '100.123.26.252'. Adding certificate verification is strongly advised. See: https://urllib3.readthedocs.io/en/latest/advanced-usage.html#ssl-warnings\n",
      "  warnings.warn(\n",
      "/opt/anaconda3/lib/python3.8/site-packages/urllib3/connectionpool.py:981: InsecureRequestWarning: Unverified HTTPS request is being made to host '100.123.26.252'. Adding certificate verification is strongly advised. See: https://urllib3.readthedocs.io/en/latest/advanced-usage.html#ssl-warnings\n",
      "  warnings.warn(\n",
      "/opt/anaconda3/lib/python3.8/site-packages/urllib3/connectionpool.py:981: InsecureRequestWarning: Unverified HTTPS request is being made to host '100.123.26.252'. Adding certificate verification is strongly advised. See: https://urllib3.readthedocs.io/en/latest/advanced-usage.html#ssl-warnings\n",
      "  warnings.warn(\n"
     ]
    },
    {
     "name": "stdout",
     "output_type": "stream",
     "text": [
      "1.-Fecha: 2021-10-21 19:07:08.893157 - Error bucle externo:  404  no trajo datos:  https://100.123.26.224/api/v2/devices/BC:A9:93:01:6A:FB/performance?start_time=202110211800&stop_time=202110211859\n",
      "1.-Fecha: 2021-10-21 19:07:08.893157 - Error bucle externo:  404  no trajo datos:  https://100.123.26.252/api/v2/devices/BC:A9:93:01:6A:FC/performance?start_time=202110211800&stop_time=202110211859\n",
      "1.-Fecha: 2021-10-21 19:07:08.893157 - Error bucle externo:  404  no trajo datos:  https://100.123.26.252/api/v2/devices/BC:A9:93:01:6A:FD/performance?start_time=202110211800&stop_time=202110211859\n",
      "1.-Fecha: 2021-10-21 19:07:08.893157 - Error bucle externo:  404  no trajo datos:  https://100.123.26.252/api/v2/devices/BC:A9:93:01:6A:FE/performance?start_time=202110211800&stop_time=202110211859\n"
     ]
    },
    {
     "name": "stderr",
     "output_type": "stream",
     "text": [
      "/opt/anaconda3/lib/python3.8/site-packages/urllib3/connectionpool.py:981: InsecureRequestWarning: Unverified HTTPS request is being made to host '100.123.26.252'. Adding certificate verification is strongly advised. See: https://urllib3.readthedocs.io/en/latest/advanced-usage.html#ssl-warnings\n",
      "  warnings.warn(\n",
      "/opt/anaconda3/lib/python3.8/site-packages/urllib3/connectionpool.py:981: InsecureRequestWarning: Unverified HTTPS request is being made to host '100.123.26.252'. Adding certificate verification is strongly advised. See: https://urllib3.readthedocs.io/en/latest/advanced-usage.html#ssl-warnings\n",
      "  warnings.warn(\n",
      "/opt/anaconda3/lib/python3.8/site-packages/urllib3/connectionpool.py:981: InsecureRequestWarning: Unverified HTTPS request is being made to host '100.123.26.224'. Adding certificate verification is strongly advised. See: https://urllib3.readthedocs.io/en/latest/advanced-usage.html#ssl-warnings\n",
      "  warnings.warn(\n",
      "/opt/anaconda3/lib/python3.8/site-packages/urllib3/connectionpool.py:981: InsecureRequestWarning: Unverified HTTPS request is being made to host '100.123.26.252'. Adding certificate verification is strongly advised. See: https://urllib3.readthedocs.io/en/latest/advanced-usage.html#ssl-warnings\n",
      "  warnings.warn(\n",
      "/opt/anaconda3/lib/python3.8/site-packages/urllib3/connectionpool.py:981: InsecureRequestWarning: Unverified HTTPS request is being made to host '100.123.26.252'. Adding certificate verification is strongly advised. See: https://urllib3.readthedocs.io/en/latest/advanced-usage.html#ssl-warnings\n",
      "  warnings.warn(\n"
     ]
    },
    {
     "name": "stdout",
     "output_type": "stream",
     "text": [
      " dato_param['total']  1 1\n",
      "https://100.123.26.252/api/v2/devices/BC:A9:93:01:6A:FF/performance?offset=0&start_time=202110211800&stop_time=202110211859\n",
      "1.-Fecha: 2021-10-21 19:07:08.893157 - Error bucle externo:  404  no trajo datos:  https://100.123.26.224/api/v2/devices/BC:A9:93:01:6A:FF/performance?start_time=202110211800&stop_time=202110211859\n",
      "1.-Fecha: 2021-10-21 19:07:08.893157 - Error bucle externo:  404  no trajo datos:  https://100.123.26.252/api/v2/devices/BC:A9:93:01:6B:01/performance?start_time=202110211800&stop_time=202110211859\n",
      "1.-Fecha: 2021-10-21 19:07:08.893157 - Error bucle externo:  404  no trajo datos:  https://100.123.26.252/api/v2/devices/BC:A9:93:01:6B:05/performance?start_time=202110211800&stop_time=202110211859\n",
      " dato_param['total']  12 1\n",
      "https://100.123.26.252/api/v2/devices/BC:A9:93:01:6B:07/performance?offset=0&start_time=202110211800&stop_time=202110211859\n",
      "1.-Fecha: 2021-10-21 19:07:08.893157 - Error bucle externo:  404  no trajo datos:  https://100.123.26.224/api/v2/devices/BC:A9:93:01:6B:07/performance?start_time=202110211800&stop_time=202110211859\n",
      " dato_param['total']  12 1\n",
      "https://100.123.26.252/api/v2/devices/BC:A9:93:01:6B:08/performance?offset=0&start_time=202110211800&stop_time=202110211859\n"
     ]
    },
    {
     "name": "stderr",
     "output_type": "stream",
     "text": [
      "/opt/anaconda3/lib/python3.8/site-packages/urllib3/connectionpool.py:981: InsecureRequestWarning: Unverified HTTPS request is being made to host '100.123.26.252'. Adding certificate verification is strongly advised. See: https://urllib3.readthedocs.io/en/latest/advanced-usage.html#ssl-warnings\n",
      "  warnings.warn(\n",
      "/opt/anaconda3/lib/python3.8/site-packages/urllib3/connectionpool.py:981: InsecureRequestWarning: Unverified HTTPS request is being made to host '100.123.26.252'. Adding certificate verification is strongly advised. See: https://urllib3.readthedocs.io/en/latest/advanced-usage.html#ssl-warnings\n",
      "  warnings.warn(\n",
      "/opt/anaconda3/lib/python3.8/site-packages/urllib3/connectionpool.py:981: InsecureRequestWarning: Unverified HTTPS request is being made to host '100.123.26.224'. Adding certificate verification is strongly advised. See: https://urllib3.readthedocs.io/en/latest/advanced-usage.html#ssl-warnings\n",
      "  warnings.warn(\n",
      "/opt/anaconda3/lib/python3.8/site-packages/urllib3/connectionpool.py:981: InsecureRequestWarning: Unverified HTTPS request is being made to host '100.123.26.252'. Adding certificate verification is strongly advised. See: https://urllib3.readthedocs.io/en/latest/advanced-usage.html#ssl-warnings\n",
      "  warnings.warn(\n",
      "/opt/anaconda3/lib/python3.8/site-packages/urllib3/connectionpool.py:981: InsecureRequestWarning: Unverified HTTPS request is being made to host '100.123.26.252'. Adding certificate verification is strongly advised. See: https://urllib3.readthedocs.io/en/latest/advanced-usage.html#ssl-warnings\n",
      "  warnings.warn(\n",
      "/opt/anaconda3/lib/python3.8/site-packages/urllib3/connectionpool.py:981: InsecureRequestWarning: Unverified HTTPS request is being made to host '100.123.26.224'. Adding certificate verification is strongly advised. See: https://urllib3.readthedocs.io/en/latest/advanced-usage.html#ssl-warnings\n",
      "  warnings.warn(\n",
      "/opt/anaconda3/lib/python3.8/site-packages/urllib3/connectionpool.py:981: InsecureRequestWarning: Unverified HTTPS request is being made to host '100.123.26.252'. Adding certificate verification is strongly advised. See: https://urllib3.readthedocs.io/en/latest/advanced-usage.html#ssl-warnings\n",
      "  warnings.warn(\n",
      "/opt/anaconda3/lib/python3.8/site-packages/urllib3/connectionpool.py:981: InsecureRequestWarning: Unverified HTTPS request is being made to host '100.123.26.252'. Adding certificate verification is strongly advised. See: https://urllib3.readthedocs.io/en/latest/advanced-usage.html#ssl-warnings\n",
      "  warnings.warn(\n"
     ]
    },
    {
     "name": "stdout",
     "output_type": "stream",
     "text": [
      "1.-Fecha: 2021-10-21 19:07:08.893157 - Error bucle externo:  404  no trajo datos:  https://100.123.26.224/api/v2/devices/BC:A9:93:01:6B:08/performance?start_time=202110211800&stop_time=202110211859\n",
      " dato_param['total']  12 1\n",
      "https://100.123.26.252/api/v2/devices/BC:A9:93:01:6B:09/performance?offset=0&start_time=202110211800&stop_time=202110211859\n"
     ]
    },
    {
     "name": "stderr",
     "output_type": "stream",
     "text": [
      "/opt/anaconda3/lib/python3.8/site-packages/urllib3/connectionpool.py:981: InsecureRequestWarning: Unverified HTTPS request is being made to host '100.123.26.224'. Adding certificate verification is strongly advised. See: https://urllib3.readthedocs.io/en/latest/advanced-usage.html#ssl-warnings\n",
      "  warnings.warn(\n",
      "/opt/anaconda3/lib/python3.8/site-packages/urllib3/connectionpool.py:981: InsecureRequestWarning: Unverified HTTPS request is being made to host '100.123.26.252'. Adding certificate verification is strongly advised. See: https://urllib3.readthedocs.io/en/latest/advanced-usage.html#ssl-warnings\n",
      "  warnings.warn(\n",
      "/opt/anaconda3/lib/python3.8/site-packages/urllib3/connectionpool.py:981: InsecureRequestWarning: Unverified HTTPS request is being made to host '100.123.26.252'. Adding certificate verification is strongly advised. See: https://urllib3.readthedocs.io/en/latest/advanced-usage.html#ssl-warnings\n",
      "  warnings.warn(\n",
      "/opt/anaconda3/lib/python3.8/site-packages/urllib3/connectionpool.py:981: InsecureRequestWarning: Unverified HTTPS request is being made to host '100.123.26.224'. Adding certificate verification is strongly advised. See: https://urllib3.readthedocs.io/en/latest/advanced-usage.html#ssl-warnings\n",
      "  warnings.warn(\n",
      "/opt/anaconda3/lib/python3.8/site-packages/urllib3/connectionpool.py:981: InsecureRequestWarning: Unverified HTTPS request is being made to host '100.123.26.252'. Adding certificate verification is strongly advised. See: https://urllib3.readthedocs.io/en/latest/advanced-usage.html#ssl-warnings\n",
      "  warnings.warn(\n"
     ]
    },
    {
     "name": "stdout",
     "output_type": "stream",
     "text": [
      "1.-Fecha: 2021-10-21 19:07:08.893157 - Error bucle externo:  404  no trajo datos:  https://100.123.26.224/api/v2/devices/BC:A9:93:01:6B:09/performance?start_time=202110211800&stop_time=202110211859\n",
      " dato_param['total']  1 1\n",
      "https://100.123.26.252/api/v2/devices/BC:A9:93:01:6B:10/performance?offset=0&start_time=202110211800&stop_time=202110211859\n",
      "1.-Fecha: 2021-10-21 19:07:08.893157 - Error bucle externo:  404  no trajo datos:  https://100.123.26.224/api/v2/devices/BC:A9:93:01:6B:10/performance?start_time=202110211800&stop_time=202110211859\n",
      " dato_param['total']  13 1\n",
      "https://100.123.26.252/api/v2/devices/BC:A9:93:01:6B:12/performance?offset=0&start_time=202110211800&stop_time=202110211859\n"
     ]
    },
    {
     "name": "stderr",
     "output_type": "stream",
     "text": [
      "/opt/anaconda3/lib/python3.8/site-packages/urllib3/connectionpool.py:981: InsecureRequestWarning: Unverified HTTPS request is being made to host '100.123.26.252'. Adding certificate verification is strongly advised. See: https://urllib3.readthedocs.io/en/latest/advanced-usage.html#ssl-warnings\n",
      "  warnings.warn(\n",
      "/opt/anaconda3/lib/python3.8/site-packages/urllib3/connectionpool.py:981: InsecureRequestWarning: Unverified HTTPS request is being made to host '100.123.26.224'. Adding certificate verification is strongly advised. See: https://urllib3.readthedocs.io/en/latest/advanced-usage.html#ssl-warnings\n",
      "  warnings.warn(\n",
      "/opt/anaconda3/lib/python3.8/site-packages/urllib3/connectionpool.py:981: InsecureRequestWarning: Unverified HTTPS request is being made to host '100.123.26.252'. Adding certificate verification is strongly advised. See: https://urllib3.readthedocs.io/en/latest/advanced-usage.html#ssl-warnings\n",
      "  warnings.warn(\n",
      "/opt/anaconda3/lib/python3.8/site-packages/urllib3/connectionpool.py:981: InsecureRequestWarning: Unverified HTTPS request is being made to host '100.123.26.252'. Adding certificate verification is strongly advised. See: https://urllib3.readthedocs.io/en/latest/advanced-usage.html#ssl-warnings\n",
      "  warnings.warn(\n"
     ]
    },
    {
     "name": "stdout",
     "output_type": "stream",
     "text": [
      "1.-Fecha: 2021-10-21 19:07:08.893157 - Error bucle externo:  422  no trajo datos:  https://100.123.26.224/api/v2/devices/BC:A9:93:01:6B:12/performance?start_time=202110211800&stop_time=202110211859\n",
      " dato_param['total']  1 1\n",
      "https://100.123.26.252/api/v2/devices/BC:A9:93:01:6B:13/performance?offset=0&start_time=202110211800&stop_time=202110211859\n",
      "1.-Fecha: 2021-10-21 19:07:08.893157 - Error bucle externo:  404  no trajo datos:  https://100.123.26.224/api/v2/devices/BC:A9:93:01:6B:13/performance?start_time=202110211800&stop_time=202110211859\n"
     ]
    },
    {
     "name": "stderr",
     "output_type": "stream",
     "text": [
      "/opt/anaconda3/lib/python3.8/site-packages/urllib3/connectionpool.py:981: InsecureRequestWarning: Unverified HTTPS request is being made to host '100.123.26.224'. Adding certificate verification is strongly advised. See: https://urllib3.readthedocs.io/en/latest/advanced-usage.html#ssl-warnings\n",
      "  warnings.warn(\n",
      "/opt/anaconda3/lib/python3.8/site-packages/urllib3/connectionpool.py:981: InsecureRequestWarning: Unverified HTTPS request is being made to host '100.123.26.252'. Adding certificate verification is strongly advised. See: https://urllib3.readthedocs.io/en/latest/advanced-usage.html#ssl-warnings\n",
      "  warnings.warn(\n",
      "/opt/anaconda3/lib/python3.8/site-packages/urllib3/connectionpool.py:981: InsecureRequestWarning: Unverified HTTPS request is being made to host '100.123.26.252'. Adding certificate verification is strongly advised. See: https://urllib3.readthedocs.io/en/latest/advanced-usage.html#ssl-warnings\n",
      "  warnings.warn(\n",
      "/opt/anaconda3/lib/python3.8/site-packages/urllib3/connectionpool.py:981: InsecureRequestWarning: Unverified HTTPS request is being made to host '100.123.26.252'. Adding certificate verification is strongly advised. See: https://urllib3.readthedocs.io/en/latest/advanced-usage.html#ssl-warnings\n",
      "  warnings.warn(\n",
      "/opt/anaconda3/lib/python3.8/site-packages/urllib3/connectionpool.py:981: InsecureRequestWarning: Unverified HTTPS request is being made to host '100.123.26.252'. Adding certificate verification is strongly advised. See: https://urllib3.readthedocs.io/en/latest/advanced-usage.html#ssl-warnings\n",
      "  warnings.warn(\n"
     ]
    },
    {
     "name": "stdout",
     "output_type": "stream",
     "text": [
      "1.-Fecha: 2021-10-21 19:07:08.893157 - Error bucle externo:  404  no trajo datos:  https://100.123.26.252/api/v2/devices/BC:A9:93:01:6B:14/performance?start_time=202110211800&stop_time=202110211859\n",
      "1.-Fecha: 2021-10-21 19:07:08.893157 - Error bucle externo:  404  no trajo datos:  https://100.123.26.252/api/v2/devices/BC:A9:93:01:6B:16/performance?start_time=202110211800&stop_time=202110211859\n",
      "1.-Fecha: 2021-10-21 19:07:08.893157 - Error bucle externo:  422  no trajo datos:  https://100.123.26.252/api/v2/devices/BC:A9:93:01:6B:17/performance?start_time=202110211800&stop_time=202110211859\n",
      " dato_param['total']  1 1\n",
      "https://100.123.26.252/api/v2/devices/BC:A9:93:01:6B:19/performance?offset=0&start_time=202110211800&stop_time=202110211859\n"
     ]
    },
    {
     "name": "stderr",
     "output_type": "stream",
     "text": [
      "/opt/anaconda3/lib/python3.8/site-packages/urllib3/connectionpool.py:981: InsecureRequestWarning: Unverified HTTPS request is being made to host '100.123.26.252'. Adding certificate verification is strongly advised. See: https://urllib3.readthedocs.io/en/latest/advanced-usage.html#ssl-warnings\n",
      "  warnings.warn(\n",
      "/opt/anaconda3/lib/python3.8/site-packages/urllib3/connectionpool.py:981: InsecureRequestWarning: Unverified HTTPS request is being made to host '100.123.26.224'. Adding certificate verification is strongly advised. See: https://urllib3.readthedocs.io/en/latest/advanced-usage.html#ssl-warnings\n",
      "  warnings.warn(\n",
      "/opt/anaconda3/lib/python3.8/site-packages/urllib3/connectionpool.py:981: InsecureRequestWarning: Unverified HTTPS request is being made to host '100.123.26.252'. Adding certificate verification is strongly advised. See: https://urllib3.readthedocs.io/en/latest/advanced-usage.html#ssl-warnings\n",
      "  warnings.warn(\n"
     ]
    },
    {
     "name": "stdout",
     "output_type": "stream",
     "text": [
      "1.-Fecha: 2021-10-21 19:07:08.893157 - Error bucle externo:  404  no trajo datos:  https://100.123.26.224/api/v2/devices/BC:A9:93:01:6B:19/performance?start_time=202110211800&stop_time=202110211859\n",
      " dato_param['total']  13 1\n",
      "https://100.123.26.252/api/v2/devices/BC:A9:93:01:6B:23/performance?offset=0&start_time=202110211800&stop_time=202110211859\n"
     ]
    },
    {
     "name": "stderr",
     "output_type": "stream",
     "text": [
      "/opt/anaconda3/lib/python3.8/site-packages/urllib3/connectionpool.py:981: InsecureRequestWarning: Unverified HTTPS request is being made to host '100.123.26.252'. Adding certificate verification is strongly advised. See: https://urllib3.readthedocs.io/en/latest/advanced-usage.html#ssl-warnings\n",
      "  warnings.warn(\n",
      "/opt/anaconda3/lib/python3.8/site-packages/urllib3/connectionpool.py:981: InsecureRequestWarning: Unverified HTTPS request is being made to host '100.123.26.224'. Adding certificate verification is strongly advised. See: https://urllib3.readthedocs.io/en/latest/advanced-usage.html#ssl-warnings\n",
      "  warnings.warn(\n",
      "/opt/anaconda3/lib/python3.8/site-packages/urllib3/connectionpool.py:981: InsecureRequestWarning: Unverified HTTPS request is being made to host '100.123.26.252'. Adding certificate verification is strongly advised. See: https://urllib3.readthedocs.io/en/latest/advanced-usage.html#ssl-warnings\n",
      "  warnings.warn(\n",
      "/opt/anaconda3/lib/python3.8/site-packages/urllib3/connectionpool.py:981: InsecureRequestWarning: Unverified HTTPS request is being made to host '100.123.26.252'. Adding certificate verification is strongly advised. See: https://urllib3.readthedocs.io/en/latest/advanced-usage.html#ssl-warnings\n",
      "  warnings.warn(\n"
     ]
    },
    {
     "name": "stdout",
     "output_type": "stream",
     "text": [
      "1.-Fecha: 2021-10-21 19:07:08.893157 - Error bucle externo:  404  no trajo datos:  https://100.123.26.224/api/v2/devices/BC:A9:93:01:6B:23/performance?start_time=202110211800&stop_time=202110211859\n",
      " dato_param['total']  13 1\n",
      "https://100.123.26.252/api/v2/devices/BC:A9:93:01:6B:26/performance?offset=0&start_time=202110211800&stop_time=202110211859\n",
      "1.-Fecha: 2021-10-21 19:07:08.893157 - Error bucle externo:  404  no trajo datos:  https://100.123.26.224/api/v2/devices/BC:A9:93:01:6B:26/performance?start_time=202110211800&stop_time=202110211859\n",
      "1.-Fecha: 2021-10-21 19:07:08.893157 - Error bucle externo:  404  no trajo datos:  https://100.123.26.252/api/v2/devices/BC:A9:93:01:6B:2C/performance?start_time=202110211800&stop_time=202110211859\n"
     ]
    },
    {
     "name": "stderr",
     "output_type": "stream",
     "text": [
      "/opt/anaconda3/lib/python3.8/site-packages/urllib3/connectionpool.py:981: InsecureRequestWarning: Unverified HTTPS request is being made to host '100.123.26.224'. Adding certificate verification is strongly advised. See: https://urllib3.readthedocs.io/en/latest/advanced-usage.html#ssl-warnings\n",
      "  warnings.warn(\n",
      "/opt/anaconda3/lib/python3.8/site-packages/urllib3/connectionpool.py:981: InsecureRequestWarning: Unverified HTTPS request is being made to host '100.123.26.252'. Adding certificate verification is strongly advised. See: https://urllib3.readthedocs.io/en/latest/advanced-usage.html#ssl-warnings\n",
      "  warnings.warn(\n",
      "/opt/anaconda3/lib/python3.8/site-packages/urllib3/connectionpool.py:981: InsecureRequestWarning: Unverified HTTPS request is being made to host '100.123.26.252'. Adding certificate verification is strongly advised. See: https://urllib3.readthedocs.io/en/latest/advanced-usage.html#ssl-warnings\n",
      "  warnings.warn(\n",
      "/opt/anaconda3/lib/python3.8/site-packages/urllib3/connectionpool.py:981: InsecureRequestWarning: Unverified HTTPS request is being made to host '100.123.26.252'. Adding certificate verification is strongly advised. See: https://urllib3.readthedocs.io/en/latest/advanced-usage.html#ssl-warnings\n",
      "  warnings.warn(\n"
     ]
    },
    {
     "name": "stdout",
     "output_type": "stream",
     "text": [
      "1.-Fecha: 2021-10-21 19:07:08.893157 - Error bucle externo:  404  no trajo datos:  https://100.123.26.252/api/v2/devices/BC:A9:93:01:6B:2E/performance?start_time=202110211800&stop_time=202110211859\n",
      " dato_param['total']  1 1\n",
      "https://100.123.26.252/api/v2/devices/BC:A9:93:01:6B:2F/performance?offset=0&start_time=202110211800&stop_time=202110211859\n",
      "1.-Fecha: 2021-10-21 19:07:08.893157 - Error bucle externo:  404  no trajo datos:  https://100.123.26.224/api/v2/devices/BC:A9:93:01:6B:2F/performance?start_time=202110211800&stop_time=202110211859\n"
     ]
    },
    {
     "name": "stderr",
     "output_type": "stream",
     "text": [
      "/opt/anaconda3/lib/python3.8/site-packages/urllib3/connectionpool.py:981: InsecureRequestWarning: Unverified HTTPS request is being made to host '100.123.26.252'. Adding certificate verification is strongly advised. See: https://urllib3.readthedocs.io/en/latest/advanced-usage.html#ssl-warnings\n",
      "  warnings.warn(\n",
      "/opt/anaconda3/lib/python3.8/site-packages/urllib3/connectionpool.py:981: InsecureRequestWarning: Unverified HTTPS request is being made to host '100.123.26.224'. Adding certificate verification is strongly advised. See: https://urllib3.readthedocs.io/en/latest/advanced-usage.html#ssl-warnings\n",
      "  warnings.warn(\n",
      "/opt/anaconda3/lib/python3.8/site-packages/urllib3/connectionpool.py:981: InsecureRequestWarning: Unverified HTTPS request is being made to host '100.123.26.252'. Adding certificate verification is strongly advised. See: https://urllib3.readthedocs.io/en/latest/advanced-usage.html#ssl-warnings\n",
      "  warnings.warn(\n",
      "/opt/anaconda3/lib/python3.8/site-packages/urllib3/connectionpool.py:981: InsecureRequestWarning: Unverified HTTPS request is being made to host '100.123.26.252'. Adding certificate verification is strongly advised. See: https://urllib3.readthedocs.io/en/latest/advanced-usage.html#ssl-warnings\n",
      "  warnings.warn(\n"
     ]
    },
    {
     "name": "stdout",
     "output_type": "stream",
     "text": [
      "1.-Fecha: 2021-10-21 19:07:08.893157 - Error bucle externo:  404  no trajo datos:  https://100.123.26.252/api/v2/devices/BC:A9:93:01:6B:30/performance?start_time=202110211800&stop_time=202110211859\n",
      "1.-Fecha: 2021-10-21 19:07:08.893157 - Error bucle externo:  404  no trajo datos:  https://100.123.26.252/api/v2/devices/BC:A9:93:01:6B:31/performance?start_time=202110211800&stop_time=202110211859\n",
      "1.-Fecha: 2021-10-21 19:07:08.893157 - Error bucle externo:  404  no trajo datos:  https://100.123.26.252/api/v2/devices/BC:A9:93:01:6B:32/performance?start_time=202110211800&stop_time=202110211859\n",
      " dato_param['total']  13 1\n",
      "https://100.123.26.252/api/v2/devices/BC:A9:93:01:6B:33/performance?offset=0&start_time=202110211800&stop_time=202110211859\n"
     ]
    },
    {
     "name": "stderr",
     "output_type": "stream",
     "text": [
      "/opt/anaconda3/lib/python3.8/site-packages/urllib3/connectionpool.py:981: InsecureRequestWarning: Unverified HTTPS request is being made to host '100.123.26.252'. Adding certificate verification is strongly advised. See: https://urllib3.readthedocs.io/en/latest/advanced-usage.html#ssl-warnings\n",
      "  warnings.warn(\n",
      "/opt/anaconda3/lib/python3.8/site-packages/urllib3/connectionpool.py:981: InsecureRequestWarning: Unverified HTTPS request is being made to host '100.123.26.252'. Adding certificate verification is strongly advised. See: https://urllib3.readthedocs.io/en/latest/advanced-usage.html#ssl-warnings\n",
      "  warnings.warn(\n",
      "/opt/anaconda3/lib/python3.8/site-packages/urllib3/connectionpool.py:981: InsecureRequestWarning: Unverified HTTPS request is being made to host '100.123.26.252'. Adding certificate verification is strongly advised. See: https://urllib3.readthedocs.io/en/latest/advanced-usage.html#ssl-warnings\n",
      "  warnings.warn(\n",
      "/opt/anaconda3/lib/python3.8/site-packages/urllib3/connectionpool.py:981: InsecureRequestWarning: Unverified HTTPS request is being made to host '100.123.26.224'. Adding certificate verification is strongly advised. See: https://urllib3.readthedocs.io/en/latest/advanced-usage.html#ssl-warnings\n",
      "  warnings.warn(\n",
      "/opt/anaconda3/lib/python3.8/site-packages/urllib3/connectionpool.py:981: InsecureRequestWarning: Unverified HTTPS request is being made to host '100.123.26.252'. Adding certificate verification is strongly advised. See: https://urllib3.readthedocs.io/en/latest/advanced-usage.html#ssl-warnings\n",
      "  warnings.warn(\n"
     ]
    },
    {
     "name": "stdout",
     "output_type": "stream",
     "text": [
      "1.-Fecha: 2021-10-21 19:07:08.893157 - Error bucle externo:  404  no trajo datos:  https://100.123.26.224/api/v2/devices/BC:A9:93:01:6B:33/performance?start_time=202110211800&stop_time=202110211859\n",
      " dato_param['total']  1 1\n",
      "https://100.123.26.252/api/v2/devices/BC:A9:93:01:6B:36/performance?offset=0&start_time=202110211800&stop_time=202110211859\n",
      "1.-Fecha: 2021-10-21 19:07:08.893157 - Error bucle externo:  404  no trajo datos:  https://100.123.26.224/api/v2/devices/BC:A9:93:01:6B:36/performance?start_time=202110211800&stop_time=202110211859\n"
     ]
    },
    {
     "name": "stderr",
     "output_type": "stream",
     "text": [
      "/opt/anaconda3/lib/python3.8/site-packages/urllib3/connectionpool.py:981: InsecureRequestWarning: Unverified HTTPS request is being made to host '100.123.26.252'. Adding certificate verification is strongly advised. See: https://urllib3.readthedocs.io/en/latest/advanced-usage.html#ssl-warnings\n",
      "  warnings.warn(\n",
      "/opt/anaconda3/lib/python3.8/site-packages/urllib3/connectionpool.py:981: InsecureRequestWarning: Unverified HTTPS request is being made to host '100.123.26.224'. Adding certificate verification is strongly advised. See: https://urllib3.readthedocs.io/en/latest/advanced-usage.html#ssl-warnings\n",
      "  warnings.warn(\n",
      "/opt/anaconda3/lib/python3.8/site-packages/urllib3/connectionpool.py:981: InsecureRequestWarning: Unverified HTTPS request is being made to host '100.123.26.252'. Adding certificate verification is strongly advised. See: https://urllib3.readthedocs.io/en/latest/advanced-usage.html#ssl-warnings\n",
      "  warnings.warn(\n",
      "/opt/anaconda3/lib/python3.8/site-packages/urllib3/connectionpool.py:981: InsecureRequestWarning: Unverified HTTPS request is being made to host '100.123.26.252'. Adding certificate verification is strongly advised. See: https://urllib3.readthedocs.io/en/latest/advanced-usage.html#ssl-warnings\n",
      "  warnings.warn(\n",
      "/opt/anaconda3/lib/python3.8/site-packages/urllib3/connectionpool.py:981: InsecureRequestWarning: Unverified HTTPS request is being made to host '100.123.26.252'. Adding certificate verification is strongly advised. See: https://urllib3.readthedocs.io/en/latest/advanced-usage.html#ssl-warnings\n",
      "  warnings.warn(\n"
     ]
    },
    {
     "name": "stdout",
     "output_type": "stream",
     "text": [
      "1.-Fecha: 2021-10-21 19:07:08.893157 - Error bucle externo:  404  no trajo datos:  https://100.123.26.252/api/v2/devices/BC:A9:93:01:6B:38/performance?start_time=202110211800&stop_time=202110211859\n",
      "1.-Fecha: 2021-10-21 19:07:08.893157 - Error bucle externo:  404  no trajo datos:  https://100.123.26.252/api/v2/devices/BC:A9:93:01:6B:47/performance?start_time=202110211800&stop_time=202110211859\n",
      " dato_param['total']  12 1\n",
      "https://100.123.26.252/api/v2/devices/BC:A9:93:01:6B:48/performance?offset=0&start_time=202110211800&stop_time=202110211859\n"
     ]
    },
    {
     "name": "stderr",
     "output_type": "stream",
     "text": [
      "/opt/anaconda3/lib/python3.8/site-packages/urllib3/connectionpool.py:981: InsecureRequestWarning: Unverified HTTPS request is being made to host '100.123.26.252'. Adding certificate verification is strongly advised. See: https://urllib3.readthedocs.io/en/latest/advanced-usage.html#ssl-warnings\n",
      "  warnings.warn(\n",
      "/opt/anaconda3/lib/python3.8/site-packages/urllib3/connectionpool.py:981: InsecureRequestWarning: Unverified HTTPS request is being made to host '100.123.26.224'. Adding certificate verification is strongly advised. See: https://urllib3.readthedocs.io/en/latest/advanced-usage.html#ssl-warnings\n",
      "  warnings.warn(\n",
      "/opt/anaconda3/lib/python3.8/site-packages/urllib3/connectionpool.py:981: InsecureRequestWarning: Unverified HTTPS request is being made to host '100.123.26.252'. Adding certificate verification is strongly advised. See: https://urllib3.readthedocs.io/en/latest/advanced-usage.html#ssl-warnings\n",
      "  warnings.warn(\n"
     ]
    },
    {
     "name": "stdout",
     "output_type": "stream",
     "text": [
      "1.-Fecha: 2021-10-21 19:07:08.893157 - Error bucle externo:  422  no trajo datos:  https://100.123.26.224/api/v2/devices/BC:A9:93:01:6B:48/performance?start_time=202110211800&stop_time=202110211859\n",
      " dato_param['total']  1 1\n",
      "https://100.123.26.252/api/v2/devices/BC:A9:93:01:6B:50/performance?offset=0&start_time=202110211800&stop_time=202110211859\n",
      "1.-Fecha: 2021-10-21 19:07:08.893157 - Error bucle externo:  404  no trajo datos:  https://100.123.26.224/api/v2/devices/BC:A9:93:01:6B:50/performance?start_time=202110211800&stop_time=202110211859\n",
      "1.-Fecha: 2021-10-21 19:07:08.893157 - Error bucle externo:  422  no trajo datos:  https://100.123.26.252/api/v2/devices/BC:A9:93:01:6B:51/performance?start_time=202110211800&stop_time=202110211859\n"
     ]
    },
    {
     "name": "stderr",
     "output_type": "stream",
     "text": [
      "/opt/anaconda3/lib/python3.8/site-packages/urllib3/connectionpool.py:981: InsecureRequestWarning: Unverified HTTPS request is being made to host '100.123.26.252'. Adding certificate verification is strongly advised. See: https://urllib3.readthedocs.io/en/latest/advanced-usage.html#ssl-warnings\n",
      "  warnings.warn(\n",
      "/opt/anaconda3/lib/python3.8/site-packages/urllib3/connectionpool.py:981: InsecureRequestWarning: Unverified HTTPS request is being made to host '100.123.26.224'. Adding certificate verification is strongly advised. See: https://urllib3.readthedocs.io/en/latest/advanced-usage.html#ssl-warnings\n",
      "  warnings.warn(\n",
      "/opt/anaconda3/lib/python3.8/site-packages/urllib3/connectionpool.py:981: InsecureRequestWarning: Unverified HTTPS request is being made to host '100.123.26.252'. Adding certificate verification is strongly advised. See: https://urllib3.readthedocs.io/en/latest/advanced-usage.html#ssl-warnings\n",
      "  warnings.warn(\n",
      "/opt/anaconda3/lib/python3.8/site-packages/urllib3/connectionpool.py:981: InsecureRequestWarning: Unverified HTTPS request is being made to host '100.123.26.252'. Adding certificate verification is strongly advised. See: https://urllib3.readthedocs.io/en/latest/advanced-usage.html#ssl-warnings\n",
      "  warnings.warn(\n",
      "/opt/anaconda3/lib/python3.8/site-packages/urllib3/connectionpool.py:981: InsecureRequestWarning: Unverified HTTPS request is being made to host '100.123.26.252'. Adding certificate verification is strongly advised. See: https://urllib3.readthedocs.io/en/latest/advanced-usage.html#ssl-warnings\n",
      "  warnings.warn(\n"
     ]
    },
    {
     "name": "stdout",
     "output_type": "stream",
     "text": [
      " dato_param['total']  12 1\n",
      "https://100.123.26.252/api/v2/devices/BC:A9:93:01:6B:52/performance?offset=0&start_time=202110211800&stop_time=202110211859\n",
      "1.-Fecha: 2021-10-21 19:07:08.893157 - Error bucle externo:  404  no trajo datos:  https://100.123.26.224/api/v2/devices/BC:A9:93:01:6B:52/performance?start_time=202110211800&stop_time=202110211859\n",
      "1.-Fecha: 2021-10-21 19:07:08.893157 - Error bucle externo:  404  no trajo datos:  https://100.123.26.252/api/v2/devices/BC:A9:93:01:6B:53/performance?start_time=202110211800&stop_time=202110211859\n",
      " dato_param['total']  13 1\n",
      "https://100.123.26.252/api/v2/devices/BC:A9:93:01:6B:55/performance?offset=0&start_time=202110211800&stop_time=202110211859\n"
     ]
    },
    {
     "name": "stderr",
     "output_type": "stream",
     "text": [
      "/opt/anaconda3/lib/python3.8/site-packages/urllib3/connectionpool.py:981: InsecureRequestWarning: Unverified HTTPS request is being made to host '100.123.26.224'. Adding certificate verification is strongly advised. See: https://urllib3.readthedocs.io/en/latest/advanced-usage.html#ssl-warnings\n",
      "  warnings.warn(\n",
      "/opt/anaconda3/lib/python3.8/site-packages/urllib3/connectionpool.py:981: InsecureRequestWarning: Unverified HTTPS request is being made to host '100.123.26.252'. Adding certificate verification is strongly advised. See: https://urllib3.readthedocs.io/en/latest/advanced-usage.html#ssl-warnings\n",
      "  warnings.warn(\n",
      "/opt/anaconda3/lib/python3.8/site-packages/urllib3/connectionpool.py:981: InsecureRequestWarning: Unverified HTTPS request is being made to host '100.123.26.252'. Adding certificate verification is strongly advised. See: https://urllib3.readthedocs.io/en/latest/advanced-usage.html#ssl-warnings\n",
      "  warnings.warn(\n",
      "/opt/anaconda3/lib/python3.8/site-packages/urllib3/connectionpool.py:981: InsecureRequestWarning: Unverified HTTPS request is being made to host '100.123.26.252'. Adding certificate verification is strongly advised. See: https://urllib3.readthedocs.io/en/latest/advanced-usage.html#ssl-warnings\n",
      "  warnings.warn(\n",
      "/opt/anaconda3/lib/python3.8/site-packages/urllib3/connectionpool.py:981: InsecureRequestWarning: Unverified HTTPS request is being made to host '100.123.26.224'. Adding certificate verification is strongly advised. See: https://urllib3.readthedocs.io/en/latest/advanced-usage.html#ssl-warnings\n",
      "  warnings.warn(\n",
      "/opt/anaconda3/lib/python3.8/site-packages/urllib3/connectionpool.py:981: InsecureRequestWarning: Unverified HTTPS request is being made to host '100.123.26.252'. Adding certificate verification is strongly advised. See: https://urllib3.readthedocs.io/en/latest/advanced-usage.html#ssl-warnings\n",
      "  warnings.warn(\n",
      "/opt/anaconda3/lib/python3.8/site-packages/urllib3/connectionpool.py:981: InsecureRequestWarning: Unverified HTTPS request is being made to host '100.123.26.252'. Adding certificate verification is strongly advised. See: https://urllib3.readthedocs.io/en/latest/advanced-usage.html#ssl-warnings\n",
      "  warnings.warn(\n",
      "/opt/anaconda3/lib/python3.8/site-packages/urllib3/connectionpool.py:981: InsecureRequestWarning: Unverified HTTPS request is being made to host '100.123.26.224'. Adding certificate verification is strongly advised. See: https://urllib3.readthedocs.io/en/latest/advanced-usage.html#ssl-warnings\n",
      "  warnings.warn(\n",
      "/opt/anaconda3/lib/python3.8/site-packages/urllib3/connectionpool.py:981: InsecureRequestWarning: Unverified HTTPS request is being made to host '100.123.26.252'. Adding certificate verification is strongly advised. See: https://urllib3.readthedocs.io/en/latest/advanced-usage.html#ssl-warnings\n",
      "  warnings.warn(\n"
     ]
    },
    {
     "name": "stdout",
     "output_type": "stream",
     "text": [
      "1.-Fecha: 2021-10-21 19:07:08.893157 - Error bucle externo:  404  no trajo datos:  https://100.123.26.224/api/v2/devices/BC:A9:93:01:6B:55/performance?start_time=202110211800&stop_time=202110211859\n",
      " dato_param['total']  13 1\n",
      "https://100.123.26.252/api/v2/devices/BC:A9:93:01:6B:5A/performance?offset=0&start_time=202110211800&stop_time=202110211859\n",
      "1.-Fecha: 2021-10-21 19:07:08.893157 - Error bucle externo:  404  no trajo datos:  https://100.123.26.224/api/v2/devices/BC:A9:93:01:6B:5A/performance?start_time=202110211800&stop_time=202110211859\n",
      " dato_param['total']  13 1\n",
      "https://100.123.26.252/api/v2/devices/BC:A9:93:01:6B:5C/performance?offset=0&start_time=202110211800&stop_time=202110211859\n"
     ]
    },
    {
     "name": "stderr",
     "output_type": "stream",
     "text": [
      "/opt/anaconda3/lib/python3.8/site-packages/urllib3/connectionpool.py:981: InsecureRequestWarning: Unverified HTTPS request is being made to host '100.123.26.252'. Adding certificate verification is strongly advised. See: https://urllib3.readthedocs.io/en/latest/advanced-usage.html#ssl-warnings\n",
      "  warnings.warn(\n",
      "/opt/anaconda3/lib/python3.8/site-packages/urllib3/connectionpool.py:981: InsecureRequestWarning: Unverified HTTPS request is being made to host '100.123.26.224'. Adding certificate verification is strongly advised. See: https://urllib3.readthedocs.io/en/latest/advanced-usage.html#ssl-warnings\n",
      "  warnings.warn(\n",
      "/opt/anaconda3/lib/python3.8/site-packages/urllib3/connectionpool.py:981: InsecureRequestWarning: Unverified HTTPS request is being made to host '100.123.26.252'. Adding certificate verification is strongly advised. See: https://urllib3.readthedocs.io/en/latest/advanced-usage.html#ssl-warnings\n",
      "  warnings.warn(\n",
      "/opt/anaconda3/lib/python3.8/site-packages/urllib3/connectionpool.py:981: InsecureRequestWarning: Unverified HTTPS request is being made to host '100.123.26.252'. Adding certificate verification is strongly advised. See: https://urllib3.readthedocs.io/en/latest/advanced-usage.html#ssl-warnings\n",
      "  warnings.warn(\n"
     ]
    },
    {
     "name": "stdout",
     "output_type": "stream",
     "text": [
      "1.-Fecha: 2021-10-21 19:07:08.893157 - Error bucle externo:  404  no trajo datos:  https://100.123.26.224/api/v2/devices/BC:A9:93:01:6B:5C/performance?start_time=202110211800&stop_time=202110211859\n",
      "1.-Fecha: 2021-10-21 19:07:08.893157 - Error bucle externo:  404  no trajo datos:  https://100.123.26.252/api/v2/devices/BC:A9:93:01:6B:60/performance?start_time=202110211800&stop_time=202110211859\n",
      "1.-Fecha: 2021-10-21 19:07:08.893157 - Error bucle externo:  404  no trajo datos:  https://100.123.26.252/api/v2/devices/BC:A9:93:01:6B:61/performance?start_time=202110211800&stop_time=202110211859\n",
      " dato_param['total']  1 1\n",
      "https://100.123.26.252/api/v2/devices/BC:A9:93:01:6B:62/performance?offset=0&start_time=202110211800&stop_time=202110211859\n"
     ]
    },
    {
     "name": "stderr",
     "output_type": "stream",
     "text": [
      "/opt/anaconda3/lib/python3.8/site-packages/urllib3/connectionpool.py:981: InsecureRequestWarning: Unverified HTTPS request is being made to host '100.123.26.252'. Adding certificate verification is strongly advised. See: https://urllib3.readthedocs.io/en/latest/advanced-usage.html#ssl-warnings\n",
      "  warnings.warn(\n",
      "/opt/anaconda3/lib/python3.8/site-packages/urllib3/connectionpool.py:981: InsecureRequestWarning: Unverified HTTPS request is being made to host '100.123.26.252'. Adding certificate verification is strongly advised. See: https://urllib3.readthedocs.io/en/latest/advanced-usage.html#ssl-warnings\n",
      "  warnings.warn(\n",
      "/opt/anaconda3/lib/python3.8/site-packages/urllib3/connectionpool.py:981: InsecureRequestWarning: Unverified HTTPS request is being made to host '100.123.26.224'. Adding certificate verification is strongly advised. See: https://urllib3.readthedocs.io/en/latest/advanced-usage.html#ssl-warnings\n",
      "  warnings.warn(\n",
      "/opt/anaconda3/lib/python3.8/site-packages/urllib3/connectionpool.py:981: InsecureRequestWarning: Unverified HTTPS request is being made to host '100.123.26.252'. Adding certificate verification is strongly advised. See: https://urllib3.readthedocs.io/en/latest/advanced-usage.html#ssl-warnings\n",
      "  warnings.warn(\n"
     ]
    },
    {
     "name": "stdout",
     "output_type": "stream",
     "text": [
      "1.-Fecha: 2021-10-21 19:07:08.893157 - Error bucle externo:  404  no trajo datos:  https://100.123.26.224/api/v2/devices/BC:A9:93:01:6B:62/performance?start_time=202110211800&stop_time=202110211859\n",
      " dato_param['total']  13 1\n",
      "https://100.123.26.252/api/v2/devices/BC:A9:93:01:6B:67/performance?offset=0&start_time=202110211800&stop_time=202110211859\n",
      "1.-Fecha: 2021-10-21 19:07:08.893157 - Error bucle externo:  404  no trajo datos:  https://100.123.26.224/api/v2/devices/BC:A9:93:01:6B:67/performance?start_time=202110211800&stop_time=202110211859\n"
     ]
    },
    {
     "name": "stderr",
     "output_type": "stream",
     "text": [
      "/opt/anaconda3/lib/python3.8/site-packages/urllib3/connectionpool.py:981: InsecureRequestWarning: Unverified HTTPS request is being made to host '100.123.26.252'. Adding certificate verification is strongly advised. See: https://urllib3.readthedocs.io/en/latest/advanced-usage.html#ssl-warnings\n",
      "  warnings.warn(\n",
      "/opt/anaconda3/lib/python3.8/site-packages/urllib3/connectionpool.py:981: InsecureRequestWarning: Unverified HTTPS request is being made to host '100.123.26.224'. Adding certificate verification is strongly advised. See: https://urllib3.readthedocs.io/en/latest/advanced-usage.html#ssl-warnings\n",
      "  warnings.warn(\n",
      "/opt/anaconda3/lib/python3.8/site-packages/urllib3/connectionpool.py:981: InsecureRequestWarning: Unverified HTTPS request is being made to host '100.123.26.252'. Adding certificate verification is strongly advised. See: https://urllib3.readthedocs.io/en/latest/advanced-usage.html#ssl-warnings\n",
      "  warnings.warn(\n",
      "/opt/anaconda3/lib/python3.8/site-packages/urllib3/connectionpool.py:981: InsecureRequestWarning: Unverified HTTPS request is being made to host '100.123.26.252'. Adding certificate verification is strongly advised. See: https://urllib3.readthedocs.io/en/latest/advanced-usage.html#ssl-warnings\n",
      "  warnings.warn(\n"
     ]
    },
    {
     "name": "stdout",
     "output_type": "stream",
     "text": [
      " dato_param['total']  1 1\n",
      "https://100.123.26.252/api/v2/devices/BC:A9:93:01:6B:6D/performance?offset=0&start_time=202110211800&stop_time=202110211859\n",
      "1.-Fecha: 2021-10-21 19:07:08.893157 - Error bucle externo:  404  no trajo datos:  https://100.123.26.224/api/v2/devices/BC:A9:93:01:6B:6D/performance?start_time=202110211800&stop_time=202110211859\n",
      " dato_param['total']  13 1\n",
      "https://100.123.26.252/api/v2/devices/BC:A9:93:01:6B:6E/performance?offset=0&start_time=202110211800&stop_time=202110211859\n"
     ]
    },
    {
     "name": "stderr",
     "output_type": "stream",
     "text": [
      "/opt/anaconda3/lib/python3.8/site-packages/urllib3/connectionpool.py:981: InsecureRequestWarning: Unverified HTTPS request is being made to host '100.123.26.224'. Adding certificate verification is strongly advised. See: https://urllib3.readthedocs.io/en/latest/advanced-usage.html#ssl-warnings\n",
      "  warnings.warn(\n",
      "/opt/anaconda3/lib/python3.8/site-packages/urllib3/connectionpool.py:981: InsecureRequestWarning: Unverified HTTPS request is being made to host '100.123.26.252'. Adding certificate verification is strongly advised. See: https://urllib3.readthedocs.io/en/latest/advanced-usage.html#ssl-warnings\n",
      "  warnings.warn(\n",
      "/opt/anaconda3/lib/python3.8/site-packages/urllib3/connectionpool.py:981: InsecureRequestWarning: Unverified HTTPS request is being made to host '100.123.26.252'. Adding certificate verification is strongly advised. See: https://urllib3.readthedocs.io/en/latest/advanced-usage.html#ssl-warnings\n",
      "  warnings.warn(\n",
      "/opt/anaconda3/lib/python3.8/site-packages/urllib3/connectionpool.py:981: InsecureRequestWarning: Unverified HTTPS request is being made to host '100.123.26.224'. Adding certificate verification is strongly advised. See: https://urllib3.readthedocs.io/en/latest/advanced-usage.html#ssl-warnings\n",
      "  warnings.warn(\n",
      "/opt/anaconda3/lib/python3.8/site-packages/urllib3/connectionpool.py:981: InsecureRequestWarning: Unverified HTTPS request is being made to host '100.123.26.252'. Adding certificate verification is strongly advised. See: https://urllib3.readthedocs.io/en/latest/advanced-usage.html#ssl-warnings\n",
      "  warnings.warn(\n",
      "/opt/anaconda3/lib/python3.8/site-packages/urllib3/connectionpool.py:981: InsecureRequestWarning: Unverified HTTPS request is being made to host '100.123.26.252'. Adding certificate verification is strongly advised. See: https://urllib3.readthedocs.io/en/latest/advanced-usage.html#ssl-warnings\n",
      "  warnings.warn(\n",
      "/opt/anaconda3/lib/python3.8/site-packages/urllib3/connectionpool.py:981: InsecureRequestWarning: Unverified HTTPS request is being made to host '100.123.26.224'. Adding certificate verification is strongly advised. See: https://urllib3.readthedocs.io/en/latest/advanced-usage.html#ssl-warnings\n",
      "  warnings.warn(\n",
      "/opt/anaconda3/lib/python3.8/site-packages/urllib3/connectionpool.py:981: InsecureRequestWarning: Unverified HTTPS request is being made to host '100.123.26.252'. Adding certificate verification is strongly advised. See: https://urllib3.readthedocs.io/en/latest/advanced-usage.html#ssl-warnings\n",
      "  warnings.warn(\n"
     ]
    },
    {
     "name": "stdout",
     "output_type": "stream",
     "text": [
      "1.-Fecha: 2021-10-21 19:07:08.893157 - Error bucle externo:  404  no trajo datos:  https://100.123.26.224/api/v2/devices/BC:A9:93:01:6B:6E/performance?start_time=202110211800&stop_time=202110211859\n",
      " dato_param['total']  12 1\n",
      "https://100.123.26.252/api/v2/devices/BC:A9:93:01:6B:71/performance?offset=0&start_time=202110211800&stop_time=202110211859\n",
      "1.-Fecha: 2021-10-21 19:07:08.893157 - Error bucle externo:  404  no trajo datos:  https://100.123.26.224/api/v2/devices/BC:A9:93:01:6B:71/performance?start_time=202110211800&stop_time=202110211859\n",
      " dato_param['total']  13 1\n",
      "https://100.123.26.252/api/v2/devices/BC:A9:93:01:6B:75/performance?offset=0&start_time=202110211800&stop_time=202110211859\n"
     ]
    },
    {
     "name": "stderr",
     "output_type": "stream",
     "text": [
      "/opt/anaconda3/lib/python3.8/site-packages/urllib3/connectionpool.py:981: InsecureRequestWarning: Unverified HTTPS request is being made to host '100.123.26.252'. Adding certificate verification is strongly advised. See: https://urllib3.readthedocs.io/en/latest/advanced-usage.html#ssl-warnings\n",
      "  warnings.warn(\n",
      "/opt/anaconda3/lib/python3.8/site-packages/urllib3/connectionpool.py:981: InsecureRequestWarning: Unverified HTTPS request is being made to host '100.123.26.224'. Adding certificate verification is strongly advised. See: https://urllib3.readthedocs.io/en/latest/advanced-usage.html#ssl-warnings\n",
      "  warnings.warn(\n",
      "/opt/anaconda3/lib/python3.8/site-packages/urllib3/connectionpool.py:981: InsecureRequestWarning: Unverified HTTPS request is being made to host '100.123.26.252'. Adding certificate verification is strongly advised. See: https://urllib3.readthedocs.io/en/latest/advanced-usage.html#ssl-warnings\n",
      "  warnings.warn(\n",
      "/opt/anaconda3/lib/python3.8/site-packages/urllib3/connectionpool.py:981: InsecureRequestWarning: Unverified HTTPS request is being made to host '100.123.26.252'. Adding certificate verification is strongly advised. See: https://urllib3.readthedocs.io/en/latest/advanced-usage.html#ssl-warnings\n",
      "  warnings.warn(\n"
     ]
    },
    {
     "name": "stdout",
     "output_type": "stream",
     "text": [
      "1.-Fecha: 2021-10-21 19:07:08.893157 - Error bucle externo:  404  no trajo datos:  https://100.123.26.224/api/v2/devices/BC:A9:93:01:6B:75/performance?start_time=202110211800&stop_time=202110211859\n",
      " dato_param['total']  13 1\n",
      "https://100.123.26.252/api/v2/devices/BC:A9:93:01:6B:76/performance?offset=0&start_time=202110211800&stop_time=202110211859\n"
     ]
    },
    {
     "name": "stderr",
     "output_type": "stream",
     "text": [
      "/opt/anaconda3/lib/python3.8/site-packages/urllib3/connectionpool.py:981: InsecureRequestWarning: Unverified HTTPS request is being made to host '100.123.26.224'. Adding certificate verification is strongly advised. See: https://urllib3.readthedocs.io/en/latest/advanced-usage.html#ssl-warnings\n",
      "  warnings.warn(\n",
      "/opt/anaconda3/lib/python3.8/site-packages/urllib3/connectionpool.py:981: InsecureRequestWarning: Unverified HTTPS request is being made to host '100.123.26.252'. Adding certificate verification is strongly advised. See: https://urllib3.readthedocs.io/en/latest/advanced-usage.html#ssl-warnings\n",
      "  warnings.warn(\n",
      "/opt/anaconda3/lib/python3.8/site-packages/urllib3/connectionpool.py:981: InsecureRequestWarning: Unverified HTTPS request is being made to host '100.123.26.252'. Adding certificate verification is strongly advised. See: https://urllib3.readthedocs.io/en/latest/advanced-usage.html#ssl-warnings\n",
      "  warnings.warn(\n",
      "/opt/anaconda3/lib/python3.8/site-packages/urllib3/connectionpool.py:981: InsecureRequestWarning: Unverified HTTPS request is being made to host '100.123.26.224'. Adding certificate verification is strongly advised. See: https://urllib3.readthedocs.io/en/latest/advanced-usage.html#ssl-warnings\n",
      "  warnings.warn(\n",
      "/opt/anaconda3/lib/python3.8/site-packages/urllib3/connectionpool.py:981: InsecureRequestWarning: Unverified HTTPS request is being made to host '100.123.26.252'. Adding certificate verification is strongly advised. See: https://urllib3.readthedocs.io/en/latest/advanced-usage.html#ssl-warnings\n",
      "  warnings.warn(\n"
     ]
    },
    {
     "name": "stdout",
     "output_type": "stream",
     "text": [
      "1.-Fecha: 2021-10-21 19:07:08.893157 - Error bucle externo:  404  no trajo datos:  https://100.123.26.224/api/v2/devices/BC:A9:93:01:6B:76/performance?start_time=202110211800&stop_time=202110211859\n",
      " dato_param['total']  13 1\n",
      "https://100.123.26.252/api/v2/devices/BC:A9:93:01:6B:7A/performance?offset=0&start_time=202110211800&stop_time=202110211859\n",
      "1.-Fecha: 2021-10-21 19:07:08.893157 - Error bucle externo:  404  no trajo datos:  https://100.123.26.224/api/v2/devices/BC:A9:93:01:6B:7A/performance?start_time=202110211800&stop_time=202110211859\n",
      " dato_param['total']  13 1\n",
      "https://100.123.26.252/api/v2/devices/BC:A9:93:01:6B:7B/performance?offset=0&start_time=202110211800&stop_time=202110211859\n"
     ]
    },
    {
     "name": "stderr",
     "output_type": "stream",
     "text": [
      "/opt/anaconda3/lib/python3.8/site-packages/urllib3/connectionpool.py:981: InsecureRequestWarning: Unverified HTTPS request is being made to host '100.123.26.252'. Adding certificate verification is strongly advised. See: https://urllib3.readthedocs.io/en/latest/advanced-usage.html#ssl-warnings\n",
      "  warnings.warn(\n",
      "/opt/anaconda3/lib/python3.8/site-packages/urllib3/connectionpool.py:981: InsecureRequestWarning: Unverified HTTPS request is being made to host '100.123.26.224'. Adding certificate verification is strongly advised. See: https://urllib3.readthedocs.io/en/latest/advanced-usage.html#ssl-warnings\n",
      "  warnings.warn(\n",
      "/opt/anaconda3/lib/python3.8/site-packages/urllib3/connectionpool.py:981: InsecureRequestWarning: Unverified HTTPS request is being made to host '100.123.26.252'. Adding certificate verification is strongly advised. See: https://urllib3.readthedocs.io/en/latest/advanced-usage.html#ssl-warnings\n",
      "  warnings.warn(\n",
      "/opt/anaconda3/lib/python3.8/site-packages/urllib3/connectionpool.py:981: InsecureRequestWarning: Unverified HTTPS request is being made to host '100.123.26.252'. Adding certificate verification is strongly advised. See: https://urllib3.readthedocs.io/en/latest/advanced-usage.html#ssl-warnings\n",
      "  warnings.warn(\n"
     ]
    },
    {
     "name": "stdout",
     "output_type": "stream",
     "text": [
      "1.-Fecha: 2021-10-21 19:07:08.893157 - Error bucle externo:  404  no trajo datos:  https://100.123.26.224/api/v2/devices/BC:A9:93:01:6B:7B/performance?start_time=202110211800&stop_time=202110211859\n",
      "1.-Fecha: 2021-10-21 19:07:08.893157 - Error bucle externo:  404  no trajo datos:  https://100.123.26.252/api/v2/devices/BC:A9:93:01:6B:7E/performance?start_time=202110211800&stop_time=202110211859\n",
      " dato_param['total']  12 1\n",
      "https://100.123.26.252/api/v2/devices/BC:A9:93:01:6B:7F/performance?offset=0&start_time=202110211800&stop_time=202110211859\n"
     ]
    },
    {
     "name": "stderr",
     "output_type": "stream",
     "text": [
      "/opt/anaconda3/lib/python3.8/site-packages/urllib3/connectionpool.py:981: InsecureRequestWarning: Unverified HTTPS request is being made to host '100.123.26.252'. Adding certificate verification is strongly advised. See: https://urllib3.readthedocs.io/en/latest/advanced-usage.html#ssl-warnings\n",
      "  warnings.warn(\n",
      "/opt/anaconda3/lib/python3.8/site-packages/urllib3/connectionpool.py:981: InsecureRequestWarning: Unverified HTTPS request is being made to host '100.123.26.224'. Adding certificate verification is strongly advised. See: https://urllib3.readthedocs.io/en/latest/advanced-usage.html#ssl-warnings\n",
      "  warnings.warn(\n",
      "/opt/anaconda3/lib/python3.8/site-packages/urllib3/connectionpool.py:981: InsecureRequestWarning: Unverified HTTPS request is being made to host '100.123.26.252'. Adding certificate verification is strongly advised. See: https://urllib3.readthedocs.io/en/latest/advanced-usage.html#ssl-warnings\n",
      "  warnings.warn(\n",
      "/opt/anaconda3/lib/python3.8/site-packages/urllib3/connectionpool.py:981: InsecureRequestWarning: Unverified HTTPS request is being made to host '100.123.26.252'. Adding certificate verification is strongly advised. See: https://urllib3.readthedocs.io/en/latest/advanced-usage.html#ssl-warnings\n",
      "  warnings.warn(\n"
     ]
    },
    {
     "name": "stdout",
     "output_type": "stream",
     "text": [
      "1.-Fecha: 2021-10-21 19:07:08.893157 - Error bucle externo:  404  no trajo datos:  https://100.123.26.224/api/v2/devices/BC:A9:93:01:6B:7F/performance?start_time=202110211800&stop_time=202110211859\n",
      " dato_param['total']  1 1\n",
      "https://100.123.26.252/api/v2/devices/BC:A9:93:01:6B:84/performance?offset=0&start_time=202110211800&stop_time=202110211859\n",
      "1.-Fecha: 2021-10-21 19:07:08.893157 - Error bucle externo:  404  no trajo datos:  https://100.123.26.224/api/v2/devices/BC:A9:93:01:6B:84/performance?start_time=202110211800&stop_time=202110211859\n",
      " dato_param['total']  1 1\n",
      "https://100.123.26.252/api/v2/devices/BC:A9:93:01:6B:86/performance?offset=0&start_time=202110211800&stop_time=202110211859\n"
     ]
    },
    {
     "name": "stderr",
     "output_type": "stream",
     "text": [
      "/opt/anaconda3/lib/python3.8/site-packages/urllib3/connectionpool.py:981: InsecureRequestWarning: Unverified HTTPS request is being made to host '100.123.26.224'. Adding certificate verification is strongly advised. See: https://urllib3.readthedocs.io/en/latest/advanced-usage.html#ssl-warnings\n",
      "  warnings.warn(\n",
      "/opt/anaconda3/lib/python3.8/site-packages/urllib3/connectionpool.py:981: InsecureRequestWarning: Unverified HTTPS request is being made to host '100.123.26.252'. Adding certificate verification is strongly advised. See: https://urllib3.readthedocs.io/en/latest/advanced-usage.html#ssl-warnings\n",
      "  warnings.warn(\n",
      "/opt/anaconda3/lib/python3.8/site-packages/urllib3/connectionpool.py:981: InsecureRequestWarning: Unverified HTTPS request is being made to host '100.123.26.252'. Adding certificate verification is strongly advised. See: https://urllib3.readthedocs.io/en/latest/advanced-usage.html#ssl-warnings\n",
      "  warnings.warn(\n",
      "/opt/anaconda3/lib/python3.8/site-packages/urllib3/connectionpool.py:981: InsecureRequestWarning: Unverified HTTPS request is being made to host '100.123.26.224'. Adding certificate verification is strongly advised. See: https://urllib3.readthedocs.io/en/latest/advanced-usage.html#ssl-warnings\n",
      "  warnings.warn(\n"
     ]
    },
    {
     "name": "stdout",
     "output_type": "stream",
     "text": [
      "1.-Fecha: 2021-10-21 19:07:08.893157 - Error bucle externo:  404  no trajo datos:  https://100.123.26.224/api/v2/devices/BC:A9:93:01:6B:86/performance?start_time=202110211800&stop_time=202110211859\n",
      " dato_param['total']  12 1\n",
      "https://100.123.26.252/api/v2/devices/BC:A9:93:01:6B:87/performance?offset=0&start_time=202110211800&stop_time=202110211859\n",
      "1.-Fecha: 2021-10-21 19:07:08.893157 - Error bucle externo:  404  no trajo datos:  https://100.123.26.224/api/v2/devices/BC:A9:93:01:6B:87/performance?start_time=202110211800&stop_time=202110211859\n"
     ]
    },
    {
     "name": "stderr",
     "output_type": "stream",
     "text": [
      "/opt/anaconda3/lib/python3.8/site-packages/urllib3/connectionpool.py:981: InsecureRequestWarning: Unverified HTTPS request is being made to host '100.123.26.252'. Adding certificate verification is strongly advised. See: https://urllib3.readthedocs.io/en/latest/advanced-usage.html#ssl-warnings\n",
      "  warnings.warn(\n",
      "/opt/anaconda3/lib/python3.8/site-packages/urllib3/connectionpool.py:981: InsecureRequestWarning: Unverified HTTPS request is being made to host '100.123.26.252'. Adding certificate verification is strongly advised. See: https://urllib3.readthedocs.io/en/latest/advanced-usage.html#ssl-warnings\n",
      "  warnings.warn(\n",
      "/opt/anaconda3/lib/python3.8/site-packages/urllib3/connectionpool.py:981: InsecureRequestWarning: Unverified HTTPS request is being made to host '100.123.26.224'. Adding certificate verification is strongly advised. See: https://urllib3.readthedocs.io/en/latest/advanced-usage.html#ssl-warnings\n",
      "  warnings.warn(\n",
      "/opt/anaconda3/lib/python3.8/site-packages/urllib3/connectionpool.py:981: InsecureRequestWarning: Unverified HTTPS request is being made to host '100.123.26.252'. Adding certificate verification is strongly advised. See: https://urllib3.readthedocs.io/en/latest/advanced-usage.html#ssl-warnings\n",
      "  warnings.warn(\n"
     ]
    },
    {
     "name": "stdout",
     "output_type": "stream",
     "text": [
      "1.-Fecha: 2021-10-21 19:07:08.893157 - Error bucle externo:  404  no trajo datos:  https://100.123.26.252/api/v2/devices/BC:A9:93:01:6B:89/performance?start_time=202110211800&stop_time=202110211859\n",
      " dato_param['total']  1 1\n",
      "https://100.123.26.252/api/v2/devices/BC:A9:93:01:6B:8A/performance?offset=0&start_time=202110211800&stop_time=202110211859\n",
      "1.-Fecha: 2021-10-21 19:07:08.893157 - Error bucle externo:  404  no trajo datos:  https://100.123.26.224/api/v2/devices/BC:A9:93:01:6B:8A/performance?start_time=202110211800&stop_time=202110211859\n"
     ]
    },
    {
     "name": "stderr",
     "output_type": "stream",
     "text": [
      "/opt/anaconda3/lib/python3.8/site-packages/urllib3/connectionpool.py:981: InsecureRequestWarning: Unverified HTTPS request is being made to host '100.123.26.252'. Adding certificate verification is strongly advised. See: https://urllib3.readthedocs.io/en/latest/advanced-usage.html#ssl-warnings\n",
      "  warnings.warn(\n",
      "/opt/anaconda3/lib/python3.8/site-packages/urllib3/connectionpool.py:981: InsecureRequestWarning: Unverified HTTPS request is being made to host '100.123.26.252'. Adding certificate verification is strongly advised. See: https://urllib3.readthedocs.io/en/latest/advanced-usage.html#ssl-warnings\n",
      "  warnings.warn(\n",
      "/opt/anaconda3/lib/python3.8/site-packages/urllib3/connectionpool.py:981: InsecureRequestWarning: Unverified HTTPS request is being made to host '100.123.26.224'. Adding certificate verification is strongly advised. See: https://urllib3.readthedocs.io/en/latest/advanced-usage.html#ssl-warnings\n",
      "  warnings.warn(\n",
      "/opt/anaconda3/lib/python3.8/site-packages/urllib3/connectionpool.py:981: InsecureRequestWarning: Unverified HTTPS request is being made to host '100.123.26.252'. Adding certificate verification is strongly advised. See: https://urllib3.readthedocs.io/en/latest/advanced-usage.html#ssl-warnings\n",
      "  warnings.warn(\n"
     ]
    },
    {
     "name": "stdout",
     "output_type": "stream",
     "text": [
      "1.-Fecha: 2021-10-21 19:07:08.893157 - Error bucle externo:  404  no trajo datos:  https://100.123.26.252/api/v2/devices/BC:A9:93:01:6B:8B/performance?start_time=202110211800&stop_time=202110211859\n",
      " dato_param['total']  13 1\n",
      "https://100.123.26.252/api/v2/devices/BC:A9:93:01:6B:8E/performance?offset=0&start_time=202110211800&stop_time=202110211859\n",
      "1.-Fecha: 2021-10-21 19:07:08.893157 - Error bucle externo:  404  no trajo datos:  https://100.123.26.224/api/v2/devices/BC:A9:93:01:6B:8E/performance?start_time=202110211800&stop_time=202110211859\n"
     ]
    },
    {
     "name": "stderr",
     "output_type": "stream",
     "text": [
      "/opt/anaconda3/lib/python3.8/site-packages/urllib3/connectionpool.py:981: InsecureRequestWarning: Unverified HTTPS request is being made to host '100.123.26.252'. Adding certificate verification is strongly advised. See: https://urllib3.readthedocs.io/en/latest/advanced-usage.html#ssl-warnings\n",
      "  warnings.warn(\n",
      "/opt/anaconda3/lib/python3.8/site-packages/urllib3/connectionpool.py:981: InsecureRequestWarning: Unverified HTTPS request is being made to host '100.123.26.252'. Adding certificate verification is strongly advised. See: https://urllib3.readthedocs.io/en/latest/advanced-usage.html#ssl-warnings\n",
      "  warnings.warn(\n",
      "/opt/anaconda3/lib/python3.8/site-packages/urllib3/connectionpool.py:981: InsecureRequestWarning: Unverified HTTPS request is being made to host '100.123.26.224'. Adding certificate verification is strongly advised. See: https://urllib3.readthedocs.io/en/latest/advanced-usage.html#ssl-warnings\n",
      "  warnings.warn(\n",
      "/opt/anaconda3/lib/python3.8/site-packages/urllib3/connectionpool.py:981: InsecureRequestWarning: Unverified HTTPS request is being made to host '100.123.26.252'. Adding certificate verification is strongly advised. See: https://urllib3.readthedocs.io/en/latest/advanced-usage.html#ssl-warnings\n",
      "  warnings.warn(\n",
      "/opt/anaconda3/lib/python3.8/site-packages/urllib3/connectionpool.py:981: InsecureRequestWarning: Unverified HTTPS request is being made to host '100.123.26.252'. Adding certificate verification is strongly advised. See: https://urllib3.readthedocs.io/en/latest/advanced-usage.html#ssl-warnings\n",
      "  warnings.warn(\n",
      "/opt/anaconda3/lib/python3.8/site-packages/urllib3/connectionpool.py:981: InsecureRequestWarning: Unverified HTTPS request is being made to host '100.123.26.252'. Adding certificate verification is strongly advised. See: https://urllib3.readthedocs.io/en/latest/advanced-usage.html#ssl-warnings\n",
      "  warnings.warn(\n",
      "/opt/anaconda3/lib/python3.8/site-packages/urllib3/connectionpool.py:981: InsecureRequestWarning: Unverified HTTPS request is being made to host '100.123.26.224'. Adding certificate verification is strongly advised. See: https://urllib3.readthedocs.io/en/latest/advanced-usage.html#ssl-warnings\n",
      "  warnings.warn(\n"
     ]
    },
    {
     "name": "stdout",
     "output_type": "stream",
     "text": [
      "1.-Fecha: 2021-10-21 19:07:08.893157 - Error bucle externo:  404  no trajo datos:  https://100.123.26.252/api/v2/devices/BC:A9:93:01:6B:90/performance?start_time=202110211800&stop_time=202110211859\n",
      " dato_param['total']  1 1\n",
      "https://100.123.26.252/api/v2/devices/BC:A9:93:01:6B:94/performance?offset=0&start_time=202110211800&stop_time=202110211859\n",
      "1.-Fecha: 2021-10-21 19:07:08.893157 - Error bucle externo:  404  no trajo datos:  https://100.123.26.224/api/v2/devices/BC:A9:93:01:6B:94/performance?start_time=202110211800&stop_time=202110211859\n"
     ]
    },
    {
     "name": "stderr",
     "output_type": "stream",
     "text": [
      "/opt/anaconda3/lib/python3.8/site-packages/urllib3/connectionpool.py:981: InsecureRequestWarning: Unverified HTTPS request is being made to host '100.123.26.252'. Adding certificate verification is strongly advised. See: https://urllib3.readthedocs.io/en/latest/advanced-usage.html#ssl-warnings\n",
      "  warnings.warn(\n",
      "/opt/anaconda3/lib/python3.8/site-packages/urllib3/connectionpool.py:981: InsecureRequestWarning: Unverified HTTPS request is being made to host '100.123.26.252'. Adding certificate verification is strongly advised. See: https://urllib3.readthedocs.io/en/latest/advanced-usage.html#ssl-warnings\n",
      "  warnings.warn(\n",
      "/opt/anaconda3/lib/python3.8/site-packages/urllib3/connectionpool.py:981: InsecureRequestWarning: Unverified HTTPS request is being made to host '100.123.26.224'. Adding certificate verification is strongly advised. See: https://urllib3.readthedocs.io/en/latest/advanced-usage.html#ssl-warnings\n",
      "  warnings.warn(\n",
      "/opt/anaconda3/lib/python3.8/site-packages/urllib3/connectionpool.py:981: InsecureRequestWarning: Unverified HTTPS request is being made to host '100.123.26.252'. Adding certificate verification is strongly advised. See: https://urllib3.readthedocs.io/en/latest/advanced-usage.html#ssl-warnings\n",
      "  warnings.warn(\n",
      "/opt/anaconda3/lib/python3.8/site-packages/urllib3/connectionpool.py:981: InsecureRequestWarning: Unverified HTTPS request is being made to host '100.123.26.252'. Adding certificate verification is strongly advised. See: https://urllib3.readthedocs.io/en/latest/advanced-usage.html#ssl-warnings\n",
      "  warnings.warn(\n",
      "/opt/anaconda3/lib/python3.8/site-packages/urllib3/connectionpool.py:981: InsecureRequestWarning: Unverified HTTPS request is being made to host '100.123.26.252'. Adding certificate verification is strongly advised. See: https://urllib3.readthedocs.io/en/latest/advanced-usage.html#ssl-warnings\n",
      "  warnings.warn(\n"
     ]
    },
    {
     "name": "stdout",
     "output_type": "stream",
     "text": [
      " dato_param['total']  1 1\n",
      "https://100.123.26.252/api/v2/devices/BC:A9:93:01:6B:9E/performance?offset=0&start_time=202110211800&stop_time=202110211859\n",
      "1.-Fecha: 2021-10-21 19:07:08.893157 - Error bucle externo:  404  no trajo datos:  https://100.123.26.224/api/v2/devices/BC:A9:93:01:6B:9E/performance?start_time=202110211800&stop_time=202110211859\n",
      "1.-Fecha: 2021-10-21 19:07:08.893157 - Error bucle externo:  404  no trajo datos:  https://100.123.26.252/api/v2/devices/BC:A9:93:01:6B:A0/performance?start_time=202110211800&stop_time=202110211859\n",
      "1.-Fecha: 2021-10-21 19:07:08.893157 - Error bucle externo:  404  no trajo datos:  https://100.123.26.252/api/v2/devices/BC:A9:93:01:6B:A4/performance?start_time=202110211800&stop_time=202110211859\n",
      "1.-Fecha: 2021-10-21 19:07:08.893157 - Error bucle externo:  404  no trajo datos:  https://100.123.26.252/api/v2/devices/BC:A9:93:01:6B:A5/performance?start_time=202110211800&stop_time=202110211859\n",
      "1.-Fecha: 2021-10-21 19:07:08.893157 - Error bucle externo:  404  no trajo datos:  https://100.123.26.252/api/v2/devices/BC:A9:93:01:6B:A7/performance?start_time=202110211800&stop_time=202110211859\n",
      "1.-Fecha: 2021-10-21 19:07:08.893157 - Error bucle externo:  404  no trajo datos:  https://100.123.26.252/api/v2/devices/BC:A9:93:01:6B:A9/performance?start_time=202110211800&stop_time=202110211859\n",
      " dato_param['total']  13 1\n",
      "https://100.123.26.252/api/v2/devices/BC:A9:93:01:6B:AA/performance?offset=0&start_time=202110211800&stop_time=202110211859\n"
     ]
    },
    {
     "name": "stderr",
     "output_type": "stream",
     "text": [
      "/opt/anaconda3/lib/python3.8/site-packages/urllib3/connectionpool.py:981: InsecureRequestWarning: Unverified HTTPS request is being made to host '100.123.26.252'. Adding certificate verification is strongly advised. See: https://urllib3.readthedocs.io/en/latest/advanced-usage.html#ssl-warnings\n",
      "  warnings.warn(\n",
      "/opt/anaconda3/lib/python3.8/site-packages/urllib3/connectionpool.py:981: InsecureRequestWarning: Unverified HTTPS request is being made to host '100.123.26.252'. Adding certificate verification is strongly advised. See: https://urllib3.readthedocs.io/en/latest/advanced-usage.html#ssl-warnings\n",
      "  warnings.warn(\n",
      "/opt/anaconda3/lib/python3.8/site-packages/urllib3/connectionpool.py:981: InsecureRequestWarning: Unverified HTTPS request is being made to host '100.123.26.252'. Adding certificate verification is strongly advised. See: https://urllib3.readthedocs.io/en/latest/advanced-usage.html#ssl-warnings\n",
      "  warnings.warn(\n",
      "/opt/anaconda3/lib/python3.8/site-packages/urllib3/connectionpool.py:981: InsecureRequestWarning: Unverified HTTPS request is being made to host '100.123.26.252'. Adding certificate verification is strongly advised. See: https://urllib3.readthedocs.io/en/latest/advanced-usage.html#ssl-warnings\n",
      "  warnings.warn(\n",
      "/opt/anaconda3/lib/python3.8/site-packages/urllib3/connectionpool.py:981: InsecureRequestWarning: Unverified HTTPS request is being made to host '100.123.26.224'. Adding certificate verification is strongly advised. See: https://urllib3.readthedocs.io/en/latest/advanced-usage.html#ssl-warnings\n",
      "  warnings.warn(\n",
      "/opt/anaconda3/lib/python3.8/site-packages/urllib3/connectionpool.py:981: InsecureRequestWarning: Unverified HTTPS request is being made to host '100.123.26.252'. Adding certificate verification is strongly advised. See: https://urllib3.readthedocs.io/en/latest/advanced-usage.html#ssl-warnings\n",
      "  warnings.warn(\n",
      "/opt/anaconda3/lib/python3.8/site-packages/urllib3/connectionpool.py:981: InsecureRequestWarning: Unverified HTTPS request is being made to host '100.123.26.252'. Adding certificate verification is strongly advised. See: https://urllib3.readthedocs.io/en/latest/advanced-usage.html#ssl-warnings\n",
      "  warnings.warn(\n",
      "/opt/anaconda3/lib/python3.8/site-packages/urllib3/connectionpool.py:981: InsecureRequestWarning: Unverified HTTPS request is being made to host '100.123.26.252'. Adding certificate verification is strongly advised. See: https://urllib3.readthedocs.io/en/latest/advanced-usage.html#ssl-warnings\n",
      "  warnings.warn(\n",
      "/opt/anaconda3/lib/python3.8/site-packages/urllib3/connectionpool.py:981: InsecureRequestWarning: Unverified HTTPS request is being made to host '100.123.26.224'. Adding certificate verification is strongly advised. See: https://urllib3.readthedocs.io/en/latest/advanced-usage.html#ssl-warnings\n",
      "  warnings.warn(\n"
     ]
    },
    {
     "name": "stdout",
     "output_type": "stream",
     "text": [
      "1.-Fecha: 2021-10-21 19:07:08.893157 - Error bucle externo:  404  no trajo datos:  https://100.123.26.224/api/v2/devices/BC:A9:93:01:6B:AA/performance?start_time=202110211800&stop_time=202110211859\n",
      "1.-Fecha: 2021-10-21 19:07:08.893157 - Error bucle externo:  404  no trajo datos:  https://100.123.26.252/api/v2/devices/BC:A9:93:01:6B:B0/performance?start_time=202110211800&stop_time=202110211859\n",
      " dato_param['total']  1 1\n",
      "https://100.123.26.252/api/v2/devices/BC:A9:93:01:6B:B9/performance?offset=0&start_time=202110211800&stop_time=202110211859\n",
      "1.-Fecha: 2021-10-21 19:07:08.893157 - Error bucle externo:  404  no trajo datos:  https://100.123.26.224/api/v2/devices/BC:A9:93:01:6B:B9/performance?start_time=202110211800&stop_time=202110211859\n",
      " dato_param['total']  1 1\n",
      "https://100.123.26.252/api/v2/devices/BC:A9:93:01:6B:BD/performance?offset=0&start_time=202110211800&stop_time=202110211859\n",
      "1.-Fecha: 2021-10-21 19:07:08.893157 - Error bucle externo:  404  no trajo datos:  https://100.123.26.224/api/v2/devices/BC:A9:93:01:6B:BD/performance?start_time=202110211800&stop_time=202110211859\n",
      " dato_param['total']  13 1\n",
      "https://100.123.26.252/api/v2/devices/BC:A9:93:01:6B:BF/performance?offset=0&start_time=202110211800&stop_time=202110211859\n"
     ]
    },
    {
     "name": "stderr",
     "output_type": "stream",
     "text": [
      "/opt/anaconda3/lib/python3.8/site-packages/urllib3/connectionpool.py:981: InsecureRequestWarning: Unverified HTTPS request is being made to host '100.123.26.252'. Adding certificate verification is strongly advised. See: https://urllib3.readthedocs.io/en/latest/advanced-usage.html#ssl-warnings\n",
      "  warnings.warn(\n",
      "/opt/anaconda3/lib/python3.8/site-packages/urllib3/connectionpool.py:981: InsecureRequestWarning: Unverified HTTPS request is being made to host '100.123.26.252'. Adding certificate verification is strongly advised. See: https://urllib3.readthedocs.io/en/latest/advanced-usage.html#ssl-warnings\n",
      "  warnings.warn(\n",
      "/opt/anaconda3/lib/python3.8/site-packages/urllib3/connectionpool.py:981: InsecureRequestWarning: Unverified HTTPS request is being made to host '100.123.26.224'. Adding certificate verification is strongly advised. See: https://urllib3.readthedocs.io/en/latest/advanced-usage.html#ssl-warnings\n",
      "  warnings.warn(\n",
      "/opt/anaconda3/lib/python3.8/site-packages/urllib3/connectionpool.py:981: InsecureRequestWarning: Unverified HTTPS request is being made to host '100.123.26.252'. Adding certificate verification is strongly advised. See: https://urllib3.readthedocs.io/en/latest/advanced-usage.html#ssl-warnings\n",
      "  warnings.warn(\n",
      "/opt/anaconda3/lib/python3.8/site-packages/urllib3/connectionpool.py:981: InsecureRequestWarning: Unverified HTTPS request is being made to host '100.123.26.252'. Adding certificate verification is strongly advised. See: https://urllib3.readthedocs.io/en/latest/advanced-usage.html#ssl-warnings\n",
      "  warnings.warn(\n",
      "/opt/anaconda3/lib/python3.8/site-packages/urllib3/connectionpool.py:981: InsecureRequestWarning: Unverified HTTPS request is being made to host '100.123.26.224'. Adding certificate verification is strongly advised. See: https://urllib3.readthedocs.io/en/latest/advanced-usage.html#ssl-warnings\n",
      "  warnings.warn(\n",
      "/opt/anaconda3/lib/python3.8/site-packages/urllib3/connectionpool.py:981: InsecureRequestWarning: Unverified HTTPS request is being made to host '100.123.26.252'. Adding certificate verification is strongly advised. See: https://urllib3.readthedocs.io/en/latest/advanced-usage.html#ssl-warnings\n",
      "  warnings.warn(\n",
      "/opt/anaconda3/lib/python3.8/site-packages/urllib3/connectionpool.py:981: InsecureRequestWarning: Unverified HTTPS request is being made to host '100.123.26.252'. Adding certificate verification is strongly advised. See: https://urllib3.readthedocs.io/en/latest/advanced-usage.html#ssl-warnings\n",
      "  warnings.warn(\n",
      "/opt/anaconda3/lib/python3.8/site-packages/urllib3/connectionpool.py:981: InsecureRequestWarning: Unverified HTTPS request is being made to host '100.123.26.252'. Adding certificate verification is strongly advised. See: https://urllib3.readthedocs.io/en/latest/advanced-usage.html#ssl-warnings\n",
      "  warnings.warn(\n"
     ]
    },
    {
     "name": "stdout",
     "output_type": "stream",
     "text": [
      "1.-Fecha: 2021-10-21 19:07:08.893157 - Error bucle externo:  422  no trajo datos:  https://100.123.26.224/api/v2/devices/BC:A9:93:01:6B:BF/performance?start_time=202110211800&stop_time=202110211859\n",
      "1.-Fecha: 2021-10-21 19:07:08.893157 - Error bucle externo:  404  no trajo datos:  https://100.123.26.252/api/v2/devices/BC:A9:93:01:6B:C1/performance?start_time=202110211800&stop_time=202110211859\n",
      " dato_param['total']  1 1\n",
      "https://100.123.26.252/api/v2/devices/BC:A9:93:01:6B:C3/performance?offset=0&start_time=202110211800&stop_time=202110211859\n"
     ]
    },
    {
     "name": "stderr",
     "output_type": "stream",
     "text": [
      "/opt/anaconda3/lib/python3.8/site-packages/urllib3/connectionpool.py:981: InsecureRequestWarning: Unverified HTTPS request is being made to host '100.123.26.224'. Adding certificate verification is strongly advised. See: https://urllib3.readthedocs.io/en/latest/advanced-usage.html#ssl-warnings\n",
      "  warnings.warn(\n",
      "/opt/anaconda3/lib/python3.8/site-packages/urllib3/connectionpool.py:981: InsecureRequestWarning: Unverified HTTPS request is being made to host '100.123.26.252'. Adding certificate verification is strongly advised. See: https://urllib3.readthedocs.io/en/latest/advanced-usage.html#ssl-warnings\n",
      "  warnings.warn(\n",
      "/opt/anaconda3/lib/python3.8/site-packages/urllib3/connectionpool.py:981: InsecureRequestWarning: Unverified HTTPS request is being made to host '100.123.26.252'. Adding certificate verification is strongly advised. See: https://urllib3.readthedocs.io/en/latest/advanced-usage.html#ssl-warnings\n",
      "  warnings.warn(\n"
     ]
    },
    {
     "name": "stdout",
     "output_type": "stream",
     "text": [
      "1.-Fecha: 2021-10-21 19:07:08.893157 - Error bucle externo:  404  no trajo datos:  https://100.123.26.224/api/v2/devices/BC:A9:93:01:6B:C3/performance?start_time=202110211800&stop_time=202110211859\n",
      " dato_param['total']  13 1\n",
      "https://100.123.26.252/api/v2/devices/BC:A9:93:01:6B:C4/performance?offset=0&start_time=202110211800&stop_time=202110211859\n",
      "1.-Fecha: 2021-10-21 19:07:08.893157 - Error bucle externo:  404  no trajo datos:  https://100.123.26.224/api/v2/devices/BC:A9:93:01:6B:C4/performance?start_time=202110211800&stop_time=202110211859\n"
     ]
    },
    {
     "name": "stderr",
     "output_type": "stream",
     "text": [
      "/opt/anaconda3/lib/python3.8/site-packages/urllib3/connectionpool.py:981: InsecureRequestWarning: Unverified HTTPS request is being made to host '100.123.26.224'. Adding certificate verification is strongly advised. See: https://urllib3.readthedocs.io/en/latest/advanced-usage.html#ssl-warnings\n",
      "  warnings.warn(\n",
      "/opt/anaconda3/lib/python3.8/site-packages/urllib3/connectionpool.py:981: InsecureRequestWarning: Unverified HTTPS request is being made to host '100.123.26.252'. Adding certificate verification is strongly advised. See: https://urllib3.readthedocs.io/en/latest/advanced-usage.html#ssl-warnings\n",
      "  warnings.warn(\n",
      "/opt/anaconda3/lib/python3.8/site-packages/urllib3/connectionpool.py:981: InsecureRequestWarning: Unverified HTTPS request is being made to host '100.123.26.252'. Adding certificate verification is strongly advised. See: https://urllib3.readthedocs.io/en/latest/advanced-usage.html#ssl-warnings\n",
      "  warnings.warn(\n",
      "/opt/anaconda3/lib/python3.8/site-packages/urllib3/connectionpool.py:981: InsecureRequestWarning: Unverified HTTPS request is being made to host '100.123.26.224'. Adding certificate verification is strongly advised. See: https://urllib3.readthedocs.io/en/latest/advanced-usage.html#ssl-warnings\n",
      "  warnings.warn(\n"
     ]
    },
    {
     "name": "stdout",
     "output_type": "stream",
     "text": [
      " dato_param['total']  13 1\n",
      "https://100.123.26.252/api/v2/devices/BC:A9:93:01:6B:CC/performance?offset=0&start_time=202110211800&stop_time=202110211859\n",
      "1.-Fecha: 2021-10-21 19:07:08.893157 - Error bucle externo:  404  no trajo datos:  https://100.123.26.224/api/v2/devices/BC:A9:93:01:6B:CC/performance?start_time=202110211800&stop_time=202110211859\n",
      " dato_param['total']  13 1\n",
      "https://100.123.26.252/api/v2/devices/BC:A9:93:01:6B:DA/performance?offset=0&start_time=202110211800&stop_time=202110211859\n"
     ]
    },
    {
     "name": "stderr",
     "output_type": "stream",
     "text": [
      "/opt/anaconda3/lib/python3.8/site-packages/urllib3/connectionpool.py:981: InsecureRequestWarning: Unverified HTTPS request is being made to host '100.123.26.252'. Adding certificate verification is strongly advised. See: https://urllib3.readthedocs.io/en/latest/advanced-usage.html#ssl-warnings\n",
      "  warnings.warn(\n",
      "/opt/anaconda3/lib/python3.8/site-packages/urllib3/connectionpool.py:981: InsecureRequestWarning: Unverified HTTPS request is being made to host '100.123.26.252'. Adding certificate verification is strongly advised. See: https://urllib3.readthedocs.io/en/latest/advanced-usage.html#ssl-warnings\n",
      "  warnings.warn(\n",
      "/opt/anaconda3/lib/python3.8/site-packages/urllib3/connectionpool.py:981: InsecureRequestWarning: Unverified HTTPS request is being made to host '100.123.26.224'. Adding certificate verification is strongly advised. See: https://urllib3.readthedocs.io/en/latest/advanced-usage.html#ssl-warnings\n",
      "  warnings.warn(\n"
     ]
    },
    {
     "name": "stdout",
     "output_type": "stream",
     "text": [
      "1.-Fecha: 2021-10-21 19:07:08.893157 - Error bucle externo:  404  no trajo datos:  https://100.123.26.224/api/v2/devices/BC:A9:93:01:6B:DA/performance?start_time=202110211800&stop_time=202110211859\n",
      "1.-Fecha: 2021-10-21 19:07:08.893157 - Error bucle externo:  404  no trajo datos:  https://100.123.26.252/api/v2/devices/BC:A9:93:01:6B:DD/performance?start_time=202110211800&stop_time=202110211859\n",
      " dato_param['total']  12 1\n",
      "https://100.123.26.252/api/v2/devices/BC:A9:93:01:6B:DE/performance?offset=0&start_time=202110211800&stop_time=202110211859\n"
     ]
    },
    {
     "name": "stderr",
     "output_type": "stream",
     "text": [
      "/opt/anaconda3/lib/python3.8/site-packages/urllib3/connectionpool.py:981: InsecureRequestWarning: Unverified HTTPS request is being made to host '100.123.26.252'. Adding certificate verification is strongly advised. See: https://urllib3.readthedocs.io/en/latest/advanced-usage.html#ssl-warnings\n",
      "  warnings.warn(\n",
      "/opt/anaconda3/lib/python3.8/site-packages/urllib3/connectionpool.py:981: InsecureRequestWarning: Unverified HTTPS request is being made to host '100.123.26.252'. Adding certificate verification is strongly advised. See: https://urllib3.readthedocs.io/en/latest/advanced-usage.html#ssl-warnings\n",
      "  warnings.warn(\n",
      "/opt/anaconda3/lib/python3.8/site-packages/urllib3/connectionpool.py:981: InsecureRequestWarning: Unverified HTTPS request is being made to host '100.123.26.252'. Adding certificate verification is strongly advised. See: https://urllib3.readthedocs.io/en/latest/advanced-usage.html#ssl-warnings\n",
      "  warnings.warn(\n",
      "/opt/anaconda3/lib/python3.8/site-packages/urllib3/connectionpool.py:981: InsecureRequestWarning: Unverified HTTPS request is being made to host '100.123.26.224'. Adding certificate verification is strongly advised. See: https://urllib3.readthedocs.io/en/latest/advanced-usage.html#ssl-warnings\n",
      "  warnings.warn(\n"
     ]
    },
    {
     "name": "stdout",
     "output_type": "stream",
     "text": [
      "1.-Fecha: 2021-10-21 19:07:08.893157 - Error bucle externo:  404  no trajo datos:  https://100.123.26.224/api/v2/devices/BC:A9:93:01:6B:DE/performance?start_time=202110211800&stop_time=202110211859\n",
      " dato_param['total']  12 1\n",
      "https://100.123.26.252/api/v2/devices/BC:A9:93:01:6B:E1/performance?offset=0&start_time=202110211800&stop_time=202110211859\n",
      "1.-Fecha: 2021-10-21 19:07:08.893157 - Error bucle externo:  404  no trajo datos:  https://100.123.26.224/api/v2/devices/BC:A9:93:01:6B:E1/performance?start_time=202110211800&stop_time=202110211859\n"
     ]
    },
    {
     "name": "stderr",
     "output_type": "stream",
     "text": [
      "/opt/anaconda3/lib/python3.8/site-packages/urllib3/connectionpool.py:981: InsecureRequestWarning: Unverified HTTPS request is being made to host '100.123.26.252'. Adding certificate verification is strongly advised. See: https://urllib3.readthedocs.io/en/latest/advanced-usage.html#ssl-warnings\n",
      "  warnings.warn(\n",
      "/opt/anaconda3/lib/python3.8/site-packages/urllib3/connectionpool.py:981: InsecureRequestWarning: Unverified HTTPS request is being made to host '100.123.26.252'. Adding certificate verification is strongly advised. See: https://urllib3.readthedocs.io/en/latest/advanced-usage.html#ssl-warnings\n",
      "  warnings.warn(\n",
      "/opt/anaconda3/lib/python3.8/site-packages/urllib3/connectionpool.py:981: InsecureRequestWarning: Unverified HTTPS request is being made to host '100.123.26.224'. Adding certificate verification is strongly advised. See: https://urllib3.readthedocs.io/en/latest/advanced-usage.html#ssl-warnings\n",
      "  warnings.warn(\n",
      "/opt/anaconda3/lib/python3.8/site-packages/urllib3/connectionpool.py:981: InsecureRequestWarning: Unverified HTTPS request is being made to host '100.123.26.252'. Adding certificate verification is strongly advised. See: https://urllib3.readthedocs.io/en/latest/advanced-usage.html#ssl-warnings\n",
      "  warnings.warn(\n"
     ]
    },
    {
     "name": "stdout",
     "output_type": "stream",
     "text": [
      " dato_param['total']  13 1\n",
      "https://100.123.26.252/api/v2/devices/BC:A9:93:01:6B:E2/performance?offset=0&start_time=202110211800&stop_time=202110211859\n",
      "1.-Fecha: 2021-10-21 19:07:08.893157 - Error bucle externo:  404  no trajo datos:  https://100.123.26.224/api/v2/devices/BC:A9:93:01:6B:E2/performance?start_time=202110211800&stop_time=202110211859\n",
      " dato_param['total']  1 1\n",
      "https://100.123.26.252/api/v2/devices/BC:A9:93:01:6B:E4/performance?offset=0&start_time=202110211800&stop_time=202110211859\n"
     ]
    },
    {
     "name": "stderr",
     "output_type": "stream",
     "text": [
      "/opt/anaconda3/lib/python3.8/site-packages/urllib3/connectionpool.py:981: InsecureRequestWarning: Unverified HTTPS request is being made to host '100.123.26.252'. Adding certificate verification is strongly advised. See: https://urllib3.readthedocs.io/en/latest/advanced-usage.html#ssl-warnings\n",
      "  warnings.warn(\n",
      "/opt/anaconda3/lib/python3.8/site-packages/urllib3/connectionpool.py:981: InsecureRequestWarning: Unverified HTTPS request is being made to host '100.123.26.224'. Adding certificate verification is strongly advised. See: https://urllib3.readthedocs.io/en/latest/advanced-usage.html#ssl-warnings\n",
      "  warnings.warn(\n",
      "/opt/anaconda3/lib/python3.8/site-packages/urllib3/connectionpool.py:981: InsecureRequestWarning: Unverified HTTPS request is being made to host '100.123.26.252'. Adding certificate verification is strongly advised. See: https://urllib3.readthedocs.io/en/latest/advanced-usage.html#ssl-warnings\n",
      "  warnings.warn(\n",
      "/opt/anaconda3/lib/python3.8/site-packages/urllib3/connectionpool.py:981: InsecureRequestWarning: Unverified HTTPS request is being made to host '100.123.26.252'. Adding certificate verification is strongly advised. See: https://urllib3.readthedocs.io/en/latest/advanced-usage.html#ssl-warnings\n",
      "  warnings.warn(\n",
      "/opt/anaconda3/lib/python3.8/site-packages/urllib3/connectionpool.py:981: InsecureRequestWarning: Unverified HTTPS request is being made to host '100.123.26.224'. Adding certificate verification is strongly advised. See: https://urllib3.readthedocs.io/en/latest/advanced-usage.html#ssl-warnings\n",
      "  warnings.warn(\n",
      "/opt/anaconda3/lib/python3.8/site-packages/urllib3/connectionpool.py:981: InsecureRequestWarning: Unverified HTTPS request is being made to host '100.123.26.252'. Adding certificate verification is strongly advised. See: https://urllib3.readthedocs.io/en/latest/advanced-usage.html#ssl-warnings\n",
      "  warnings.warn(\n",
      "/opt/anaconda3/lib/python3.8/site-packages/urllib3/connectionpool.py:981: InsecureRequestWarning: Unverified HTTPS request is being made to host '100.123.26.252'. Adding certificate verification is strongly advised. See: https://urllib3.readthedocs.io/en/latest/advanced-usage.html#ssl-warnings\n",
      "  warnings.warn(\n",
      "/opt/anaconda3/lib/python3.8/site-packages/urllib3/connectionpool.py:981: InsecureRequestWarning: Unverified HTTPS request is being made to host '100.123.26.224'. Adding certificate verification is strongly advised. See: https://urllib3.readthedocs.io/en/latest/advanced-usage.html#ssl-warnings\n",
      "  warnings.warn(\n"
     ]
    },
    {
     "name": "stdout",
     "output_type": "stream",
     "text": [
      "1.-Fecha: 2021-10-21 19:07:08.893157 - Error bucle externo:  404  no trajo datos:  https://100.123.26.224/api/v2/devices/BC:A9:93:01:6B:E4/performance?start_time=202110211800&stop_time=202110211859\n",
      " dato_param['total']  12 1\n",
      "https://100.123.26.252/api/v2/devices/BC:A9:93:01:6B:E7/performance?offset=0&start_time=202110211800&stop_time=202110211859\n",
      "1.-Fecha: 2021-10-21 19:07:08.893157 - Error bucle externo:  404  no trajo datos:  https://100.123.26.224/api/v2/devices/BC:A9:93:01:6B:E7/performance?start_time=202110211800&stop_time=202110211859\n"
     ]
    },
    {
     "name": "stderr",
     "output_type": "stream",
     "text": [
      "/opt/anaconda3/lib/python3.8/site-packages/urllib3/connectionpool.py:981: InsecureRequestWarning: Unverified HTTPS request is being made to host '100.123.26.252'. Adding certificate verification is strongly advised. See: https://urllib3.readthedocs.io/en/latest/advanced-usage.html#ssl-warnings\n",
      "  warnings.warn(\n",
      "/opt/anaconda3/lib/python3.8/site-packages/urllib3/connectionpool.py:981: InsecureRequestWarning: Unverified HTTPS request is being made to host '100.123.26.252'. Adding certificate verification is strongly advised. See: https://urllib3.readthedocs.io/en/latest/advanced-usage.html#ssl-warnings\n",
      "  warnings.warn(\n",
      "/opt/anaconda3/lib/python3.8/site-packages/urllib3/connectionpool.py:981: InsecureRequestWarning: Unverified HTTPS request is being made to host '100.123.26.224'. Adding certificate verification is strongly advised. See: https://urllib3.readthedocs.io/en/latest/advanced-usage.html#ssl-warnings\n",
      "  warnings.warn(\n"
     ]
    },
    {
     "name": "stdout",
     "output_type": "stream",
     "text": [
      " dato_param['total']  13 1\n",
      "https://100.123.26.252/api/v2/devices/BC:A9:93:01:6B:E9/performance?offset=0&start_time=202110211800&stop_time=202110211859\n",
      "1.-Fecha: 2021-10-21 19:07:08.893157 - Error bucle externo:  404  no trajo datos:  https://100.123.26.224/api/v2/devices/BC:A9:93:01:6B:E9/performance?start_time=202110211800&stop_time=202110211859\n"
     ]
    },
    {
     "name": "stderr",
     "output_type": "stream",
     "text": [
      "/opt/anaconda3/lib/python3.8/site-packages/urllib3/connectionpool.py:981: InsecureRequestWarning: Unverified HTTPS request is being made to host '100.123.26.252'. Adding certificate verification is strongly advised. See: https://urllib3.readthedocs.io/en/latest/advanced-usage.html#ssl-warnings\n",
      "  warnings.warn(\n",
      "/opt/anaconda3/lib/python3.8/site-packages/urllib3/connectionpool.py:981: InsecureRequestWarning: Unverified HTTPS request is being made to host '100.123.26.252'. Adding certificate verification is strongly advised. See: https://urllib3.readthedocs.io/en/latest/advanced-usage.html#ssl-warnings\n",
      "  warnings.warn(\n",
      "/opt/anaconda3/lib/python3.8/site-packages/urllib3/connectionpool.py:981: InsecureRequestWarning: Unverified HTTPS request is being made to host '100.123.26.224'. Adding certificate verification is strongly advised. See: https://urllib3.readthedocs.io/en/latest/advanced-usage.html#ssl-warnings\n",
      "  warnings.warn(\n",
      "/opt/anaconda3/lib/python3.8/site-packages/urllib3/connectionpool.py:981: InsecureRequestWarning: Unverified HTTPS request is being made to host '100.123.26.252'. Adding certificate verification is strongly advised. See: https://urllib3.readthedocs.io/en/latest/advanced-usage.html#ssl-warnings\n",
      "  warnings.warn(\n",
      "/opt/anaconda3/lib/python3.8/site-packages/urllib3/connectionpool.py:981: InsecureRequestWarning: Unverified HTTPS request is being made to host '100.123.26.252'. Adding certificate verification is strongly advised. See: https://urllib3.readthedocs.io/en/latest/advanced-usage.html#ssl-warnings\n",
      "  warnings.warn(\n"
     ]
    },
    {
     "name": "stdout",
     "output_type": "stream",
     "text": [
      " dato_param['total']  13 1\n",
      "https://100.123.26.252/api/v2/devices/BC:A9:93:01:6B:F0/performance?offset=0&start_time=202110211800&stop_time=202110211859\n",
      "1.-Fecha: 2021-10-21 19:07:08.893157 - Error bucle externo:  404  no trajo datos:  https://100.123.26.224/api/v2/devices/BC:A9:93:01:6B:F0/performance?start_time=202110211800&stop_time=202110211859\n",
      "1.-Fecha: 2021-10-21 19:07:08.893157 - Error bucle externo:  404  no trajo datos:  https://100.123.26.252/api/v2/devices/BC:A9:93:01:6B:FC/performance?start_time=202110211800&stop_time=202110211859\n",
      " dato_param['total']  1 1\n",
      "https://100.123.26.252/api/v2/devices/BC:A9:93:01:6B:FD/performance?offset=0&start_time=202110211800&stop_time=202110211859\n"
     ]
    },
    {
     "name": "stderr",
     "output_type": "stream",
     "text": [
      "/opt/anaconda3/lib/python3.8/site-packages/urllib3/connectionpool.py:981: InsecureRequestWarning: Unverified HTTPS request is being made to host '100.123.26.252'. Adding certificate verification is strongly advised. See: https://urllib3.readthedocs.io/en/latest/advanced-usage.html#ssl-warnings\n",
      "  warnings.warn(\n",
      "/opt/anaconda3/lib/python3.8/site-packages/urllib3/connectionpool.py:981: InsecureRequestWarning: Unverified HTTPS request is being made to host '100.123.26.224'. Adding certificate verification is strongly advised. See: https://urllib3.readthedocs.io/en/latest/advanced-usage.html#ssl-warnings\n",
      "  warnings.warn(\n",
      "/opt/anaconda3/lib/python3.8/site-packages/urllib3/connectionpool.py:981: InsecureRequestWarning: Unverified HTTPS request is being made to host '100.123.26.252'. Adding certificate verification is strongly advised. See: https://urllib3.readthedocs.io/en/latest/advanced-usage.html#ssl-warnings\n",
      "  warnings.warn(\n"
     ]
    },
    {
     "name": "stdout",
     "output_type": "stream",
     "text": [
      "1.-Fecha: 2021-10-21 19:07:08.893157 - Error bucle externo:  404  no trajo datos:  https://100.123.26.224/api/v2/devices/BC:A9:93:01:6B:FD/performance?start_time=202110211800&stop_time=202110211859\n",
      " dato_param['total']  13 1\n",
      "https://100.123.26.252/api/v2/devices/BC:A9:93:01:6C:03/performance?offset=0&start_time=202110211800&stop_time=202110211859\n"
     ]
    },
    {
     "name": "stderr",
     "output_type": "stream",
     "text": [
      "/opt/anaconda3/lib/python3.8/site-packages/urllib3/connectionpool.py:981: InsecureRequestWarning: Unverified HTTPS request is being made to host '100.123.26.252'. Adding certificate verification is strongly advised. See: https://urllib3.readthedocs.io/en/latest/advanced-usage.html#ssl-warnings\n",
      "  warnings.warn(\n",
      "/opt/anaconda3/lib/python3.8/site-packages/urllib3/connectionpool.py:981: InsecureRequestWarning: Unverified HTTPS request is being made to host '100.123.26.224'. Adding certificate verification is strongly advised. See: https://urllib3.readthedocs.io/en/latest/advanced-usage.html#ssl-warnings\n",
      "  warnings.warn(\n",
      "/opt/anaconda3/lib/python3.8/site-packages/urllib3/connectionpool.py:981: InsecureRequestWarning: Unverified HTTPS request is being made to host '100.123.26.252'. Adding certificate verification is strongly advised. See: https://urllib3.readthedocs.io/en/latest/advanced-usage.html#ssl-warnings\n",
      "  warnings.warn(\n"
     ]
    },
    {
     "name": "stdout",
     "output_type": "stream",
     "text": [
      "1.-Fecha: 2021-10-21 19:07:08.893157 - Error bucle externo:  404  no trajo datos:  https://100.123.26.224/api/v2/devices/BC:A9:93:01:6C:03/performance?start_time=202110211800&stop_time=202110211859\n",
      "1.-Fecha: 2021-10-21 19:07:08.893157 - Error bucle externo:  404  no trajo datos:  https://100.123.26.252/api/v2/devices/BC:A9:93:01:6C:05/performance?start_time=202110211800&stop_time=202110211859\n",
      " dato_param['total']  1 1\n",
      "https://100.123.26.252/api/v2/devices/BC:A9:93:01:6C:18/performance?offset=0&start_time=202110211800&stop_time=202110211859\n",
      "1.-Fecha: 2021-10-21 19:07:08.893157 - Error bucle externo:  404  no trajo datos:  https://100.123.26.224/api/v2/devices/BC:A9:93:01:6C:18/performance?start_time=202110211800&stop_time=202110211859\n",
      "1.-Fecha: 2021-10-21 19:07:08.893157 - Error bucle externo:  404  no trajo datos:  https://100.123.26.252/api/v2/devices/BC:A9:93:01:6C:19/performance?start_time=202110211800&stop_time=202110211859\n"
     ]
    },
    {
     "name": "stderr",
     "output_type": "stream",
     "text": [
      "/opt/anaconda3/lib/python3.8/site-packages/urllib3/connectionpool.py:981: InsecureRequestWarning: Unverified HTTPS request is being made to host '100.123.26.252'. Adding certificate verification is strongly advised. See: https://urllib3.readthedocs.io/en/latest/advanced-usage.html#ssl-warnings\n",
      "  warnings.warn(\n",
      "/opt/anaconda3/lib/python3.8/site-packages/urllib3/connectionpool.py:981: InsecureRequestWarning: Unverified HTTPS request is being made to host '100.123.26.252'. Adding certificate verification is strongly advised. See: https://urllib3.readthedocs.io/en/latest/advanced-usage.html#ssl-warnings\n",
      "  warnings.warn(\n",
      "/opt/anaconda3/lib/python3.8/site-packages/urllib3/connectionpool.py:981: InsecureRequestWarning: Unverified HTTPS request is being made to host '100.123.26.224'. Adding certificate verification is strongly advised. See: https://urllib3.readthedocs.io/en/latest/advanced-usage.html#ssl-warnings\n",
      "  warnings.warn(\n",
      "/opt/anaconda3/lib/python3.8/site-packages/urllib3/connectionpool.py:981: InsecureRequestWarning: Unverified HTTPS request is being made to host '100.123.26.252'. Adding certificate verification is strongly advised. See: https://urllib3.readthedocs.io/en/latest/advanced-usage.html#ssl-warnings\n",
      "  warnings.warn(\n",
      "/opt/anaconda3/lib/python3.8/site-packages/urllib3/connectionpool.py:981: InsecureRequestWarning: Unverified HTTPS request is being made to host '100.123.26.252'. Adding certificate verification is strongly advised. See: https://urllib3.readthedocs.io/en/latest/advanced-usage.html#ssl-warnings\n",
      "  warnings.warn(\n"
     ]
    },
    {
     "name": "stdout",
     "output_type": "stream",
     "text": [
      "1.-Fecha: 2021-10-21 19:07:08.893157 - Error bucle externo:  404  no trajo datos:  https://100.123.26.252/api/v2/devices/BC:A9:93:01:6C:1F/performance?start_time=202110211800&stop_time=202110211859\n",
      " dato_param['total']  13 1\n",
      "https://100.123.26.252/api/v2/devices/BC:A9:93:01:6C:20/performance?offset=0&start_time=202110211800&stop_time=202110211859\n"
     ]
    },
    {
     "name": "stderr",
     "output_type": "stream",
     "text": [
      "/opt/anaconda3/lib/python3.8/site-packages/urllib3/connectionpool.py:981: InsecureRequestWarning: Unverified HTTPS request is being made to host '100.123.26.252'. Adding certificate verification is strongly advised. See: https://urllib3.readthedocs.io/en/latest/advanced-usage.html#ssl-warnings\n",
      "  warnings.warn(\n",
      "/opt/anaconda3/lib/python3.8/site-packages/urllib3/connectionpool.py:981: InsecureRequestWarning: Unverified HTTPS request is being made to host '100.123.26.252'. Adding certificate verification is strongly advised. See: https://urllib3.readthedocs.io/en/latest/advanced-usage.html#ssl-warnings\n",
      "  warnings.warn(\n",
      "/opt/anaconda3/lib/python3.8/site-packages/urllib3/connectionpool.py:981: InsecureRequestWarning: Unverified HTTPS request is being made to host '100.123.26.224'. Adding certificate verification is strongly advised. See: https://urllib3.readthedocs.io/en/latest/advanced-usage.html#ssl-warnings\n",
      "  warnings.warn(\n"
     ]
    },
    {
     "name": "stdout",
     "output_type": "stream",
     "text": [
      "1.-Fecha: 2021-10-21 19:07:08.893157 - Error bucle externo:  404  no trajo datos:  https://100.123.26.224/api/v2/devices/BC:A9:93:01:6C:20/performance?start_time=202110211800&stop_time=202110211859\n",
      "1.-Fecha: 2021-10-21 19:07:08.893157 - Error bucle externo:  404  no trajo datos:  https://100.123.26.252/api/v2/devices/BC:A9:93:01:6C:24/performance?start_time=202110211800&stop_time=202110211859\n",
      " dato_param['total']  13 1\n",
      "https://100.123.26.252/api/v2/devices/BC:A9:93:01:6C:25/performance?offset=0&start_time=202110211800&stop_time=202110211859\n"
     ]
    },
    {
     "name": "stderr",
     "output_type": "stream",
     "text": [
      "/opt/anaconda3/lib/python3.8/site-packages/urllib3/connectionpool.py:981: InsecureRequestWarning: Unverified HTTPS request is being made to host '100.123.26.252'. Adding certificate verification is strongly advised. See: https://urllib3.readthedocs.io/en/latest/advanced-usage.html#ssl-warnings\n",
      "  warnings.warn(\n",
      "/opt/anaconda3/lib/python3.8/site-packages/urllib3/connectionpool.py:981: InsecureRequestWarning: Unverified HTTPS request is being made to host '100.123.26.252'. Adding certificate verification is strongly advised. See: https://urllib3.readthedocs.io/en/latest/advanced-usage.html#ssl-warnings\n",
      "  warnings.warn(\n",
      "/opt/anaconda3/lib/python3.8/site-packages/urllib3/connectionpool.py:981: InsecureRequestWarning: Unverified HTTPS request is being made to host '100.123.26.252'. Adding certificate verification is strongly advised. See: https://urllib3.readthedocs.io/en/latest/advanced-usage.html#ssl-warnings\n",
      "  warnings.warn(\n",
      "/opt/anaconda3/lib/python3.8/site-packages/urllib3/connectionpool.py:981: InsecureRequestWarning: Unverified HTTPS request is being made to host '100.123.26.224'. Adding certificate verification is strongly advised. See: https://urllib3.readthedocs.io/en/latest/advanced-usage.html#ssl-warnings\n",
      "  warnings.warn(\n"
     ]
    },
    {
     "name": "stdout",
     "output_type": "stream",
     "text": [
      "1.-Fecha: 2021-10-21 19:07:08.893157 - Error bucle externo:  404  no trajo datos:  https://100.123.26.224/api/v2/devices/BC:A9:93:01:6C:25/performance?start_time=202110211800&stop_time=202110211859\n",
      " dato_param['total']  13 1\n",
      "https://100.123.26.252/api/v2/devices/BC:A9:93:01:6C:28/performance?offset=0&start_time=202110211800&stop_time=202110211859\n",
      "1.-Fecha: 2021-10-21 19:07:08.893157 - Error bucle externo:  404  no trajo datos:  https://100.123.26.224/api/v2/devices/BC:A9:93:01:6C:28/performance?start_time=202110211800&stop_time=202110211859\n"
     ]
    },
    {
     "name": "stderr",
     "output_type": "stream",
     "text": [
      "/opt/anaconda3/lib/python3.8/site-packages/urllib3/connectionpool.py:981: InsecureRequestWarning: Unverified HTTPS request is being made to host '100.123.26.252'. Adding certificate verification is strongly advised. See: https://urllib3.readthedocs.io/en/latest/advanced-usage.html#ssl-warnings\n",
      "  warnings.warn(\n",
      "/opt/anaconda3/lib/python3.8/site-packages/urllib3/connectionpool.py:981: InsecureRequestWarning: Unverified HTTPS request is being made to host '100.123.26.252'. Adding certificate verification is strongly advised. See: https://urllib3.readthedocs.io/en/latest/advanced-usage.html#ssl-warnings\n",
      "  warnings.warn(\n",
      "/opt/anaconda3/lib/python3.8/site-packages/urllib3/connectionpool.py:981: InsecureRequestWarning: Unverified HTTPS request is being made to host '100.123.26.224'. Adding certificate verification is strongly advised. See: https://urllib3.readthedocs.io/en/latest/advanced-usage.html#ssl-warnings\n",
      "  warnings.warn(\n",
      "/opt/anaconda3/lib/python3.8/site-packages/urllib3/connectionpool.py:981: InsecureRequestWarning: Unverified HTTPS request is being made to host '100.123.26.252'. Adding certificate verification is strongly advised. See: https://urllib3.readthedocs.io/en/latest/advanced-usage.html#ssl-warnings\n",
      "  warnings.warn(\n"
     ]
    },
    {
     "name": "stdout",
     "output_type": "stream",
     "text": [
      " dato_param['total']  1 1\n",
      "https://100.123.26.252/api/v2/devices/BC:A9:93:01:6C:29/performance?offset=0&start_time=202110211800&stop_time=202110211859\n",
      "1.-Fecha: 2021-10-21 19:07:08.893157 - Error bucle externo:  404  no trajo datos:  https://100.123.26.224/api/v2/devices/BC:A9:93:01:6C:29/performance?start_time=202110211800&stop_time=202110211859\n",
      " dato_param['total']  13 1\n",
      "https://100.123.26.252/api/v2/devices/BC:A9:93:01:6C:2B/performance?offset=0&start_time=202110211800&stop_time=202110211859\n"
     ]
    },
    {
     "name": "stderr",
     "output_type": "stream",
     "text": [
      "/opt/anaconda3/lib/python3.8/site-packages/urllib3/connectionpool.py:981: InsecureRequestWarning: Unverified HTTPS request is being made to host '100.123.26.252'. Adding certificate verification is strongly advised. See: https://urllib3.readthedocs.io/en/latest/advanced-usage.html#ssl-warnings\n",
      "  warnings.warn(\n",
      "/opt/anaconda3/lib/python3.8/site-packages/urllib3/connectionpool.py:981: InsecureRequestWarning: Unverified HTTPS request is being made to host '100.123.26.224'. Adding certificate verification is strongly advised. See: https://urllib3.readthedocs.io/en/latest/advanced-usage.html#ssl-warnings\n",
      "  warnings.warn(\n",
      "/opt/anaconda3/lib/python3.8/site-packages/urllib3/connectionpool.py:981: InsecureRequestWarning: Unverified HTTPS request is being made to host '100.123.26.252'. Adding certificate verification is strongly advised. See: https://urllib3.readthedocs.io/en/latest/advanced-usage.html#ssl-warnings\n",
      "  warnings.warn(\n",
      "/opt/anaconda3/lib/python3.8/site-packages/urllib3/connectionpool.py:981: InsecureRequestWarning: Unverified HTTPS request is being made to host '100.123.26.252'. Adding certificate verification is strongly advised. See: https://urllib3.readthedocs.io/en/latest/advanced-usage.html#ssl-warnings\n",
      "  warnings.warn(\n",
      "/opt/anaconda3/lib/python3.8/site-packages/urllib3/connectionpool.py:981: InsecureRequestWarning: Unverified HTTPS request is being made to host '100.123.26.224'. Adding certificate verification is strongly advised. See: https://urllib3.readthedocs.io/en/latest/advanced-usage.html#ssl-warnings\n",
      "  warnings.warn(\n",
      "/opt/anaconda3/lib/python3.8/site-packages/urllib3/connectionpool.py:981: InsecureRequestWarning: Unverified HTTPS request is being made to host '100.123.26.252'. Adding certificate verification is strongly advised. See: https://urllib3.readthedocs.io/en/latest/advanced-usage.html#ssl-warnings\n",
      "  warnings.warn(\n",
      "/opt/anaconda3/lib/python3.8/site-packages/urllib3/connectionpool.py:981: InsecureRequestWarning: Unverified HTTPS request is being made to host '100.123.26.252'. Adding certificate verification is strongly advised. See: https://urllib3.readthedocs.io/en/latest/advanced-usage.html#ssl-warnings\n",
      "  warnings.warn(\n",
      "/opt/anaconda3/lib/python3.8/site-packages/urllib3/connectionpool.py:981: InsecureRequestWarning: Unverified HTTPS request is being made to host '100.123.26.252'. Adding certificate verification is strongly advised. See: https://urllib3.readthedocs.io/en/latest/advanced-usage.html#ssl-warnings\n",
      "  warnings.warn(\n"
     ]
    },
    {
     "name": "stdout",
     "output_type": "stream",
     "text": [
      "1.-Fecha: 2021-10-21 19:07:08.893157 - Error bucle externo:  404  no trajo datos:  https://100.123.26.224/api/v2/devices/BC:A9:93:01:6C:2B/performance?start_time=202110211800&stop_time=202110211859\n",
      "1.-Fecha: 2021-10-21 19:07:08.893157 - Error bucle externo:  404  no trajo datos:  https://100.123.26.252/api/v2/devices/BC:A9:93:01:6C:2C/performance?start_time=202110211800&stop_time=202110211859\n",
      " dato_param['total']  13 1\n",
      "https://100.123.26.252/api/v2/devices/BC:A9:93:01:6C:2E/performance?offset=0&start_time=202110211800&stop_time=202110211859\n"
     ]
    },
    {
     "name": "stderr",
     "output_type": "stream",
     "text": [
      "/opt/anaconda3/lib/python3.8/site-packages/urllib3/connectionpool.py:981: InsecureRequestWarning: Unverified HTTPS request is being made to host '100.123.26.224'. Adding certificate verification is strongly advised. See: https://urllib3.readthedocs.io/en/latest/advanced-usage.html#ssl-warnings\n",
      "  warnings.warn(\n",
      "/opt/anaconda3/lib/python3.8/site-packages/urllib3/connectionpool.py:981: InsecureRequestWarning: Unverified HTTPS request is being made to host '100.123.26.252'. Adding certificate verification is strongly advised. See: https://urllib3.readthedocs.io/en/latest/advanced-usage.html#ssl-warnings\n",
      "  warnings.warn(\n",
      "/opt/anaconda3/lib/python3.8/site-packages/urllib3/connectionpool.py:981: InsecureRequestWarning: Unverified HTTPS request is being made to host '100.123.26.252'. Adding certificate verification is strongly advised. See: https://urllib3.readthedocs.io/en/latest/advanced-usage.html#ssl-warnings\n",
      "  warnings.warn(\n",
      "/opt/anaconda3/lib/python3.8/site-packages/urllib3/connectionpool.py:981: InsecureRequestWarning: Unverified HTTPS request is being made to host '100.123.26.252'. Adding certificate verification is strongly advised. See: https://urllib3.readthedocs.io/en/latest/advanced-usage.html#ssl-warnings\n",
      "  warnings.warn(\n"
     ]
    },
    {
     "name": "stdout",
     "output_type": "stream",
     "text": [
      "1.-Fecha: 2021-10-21 19:07:08.893157 - Error bucle externo:  404  no trajo datos:  https://100.123.26.224/api/v2/devices/BC:A9:93:01:6C:2E/performance?start_time=202110211800&stop_time=202110211859\n",
      "1.-Fecha: 2021-10-21 19:07:08.893157 - Error bucle externo:  404  no trajo datos:  https://100.123.26.252/api/v2/devices/BC:A9:93:01:6C:31/performance?start_time=202110211800&stop_time=202110211859\n",
      " dato_param['total']  1 1\n",
      "https://100.123.26.252/api/v2/devices/BC:A9:93:01:6C:32/performance?offset=0&start_time=202110211800&stop_time=202110211859\n"
     ]
    },
    {
     "name": "stderr",
     "output_type": "stream",
     "text": [
      "/opt/anaconda3/lib/python3.8/site-packages/urllib3/connectionpool.py:981: InsecureRequestWarning: Unverified HTTPS request is being made to host '100.123.26.224'. Adding certificate verification is strongly advised. See: https://urllib3.readthedocs.io/en/latest/advanced-usage.html#ssl-warnings\n",
      "  warnings.warn(\n",
      "/opt/anaconda3/lib/python3.8/site-packages/urllib3/connectionpool.py:981: InsecureRequestWarning: Unverified HTTPS request is being made to host '100.123.26.252'. Adding certificate verification is strongly advised. See: https://urllib3.readthedocs.io/en/latest/advanced-usage.html#ssl-warnings\n",
      "  warnings.warn(\n",
      "/opt/anaconda3/lib/python3.8/site-packages/urllib3/connectionpool.py:981: InsecureRequestWarning: Unverified HTTPS request is being made to host '100.123.26.252'. Adding certificate verification is strongly advised. See: https://urllib3.readthedocs.io/en/latest/advanced-usage.html#ssl-warnings\n",
      "  warnings.warn(\n",
      "/opt/anaconda3/lib/python3.8/site-packages/urllib3/connectionpool.py:981: InsecureRequestWarning: Unverified HTTPS request is being made to host '100.123.26.224'. Adding certificate verification is strongly advised. See: https://urllib3.readthedocs.io/en/latest/advanced-usage.html#ssl-warnings\n",
      "  warnings.warn(\n"
     ]
    },
    {
     "name": "stdout",
     "output_type": "stream",
     "text": [
      "1.-Fecha: 2021-10-21 19:07:08.893157 - Error bucle externo:  404  no trajo datos:  https://100.123.26.224/api/v2/devices/BC:A9:93:01:6C:32/performance?start_time=202110211800&stop_time=202110211859\n",
      " dato_param['total']  12 1\n",
      "https://100.123.26.252/api/v2/devices/BC:A9:93:01:6C:36/performance?offset=0&start_time=202110211800&stop_time=202110211859\n",
      "1.-Fecha: 2021-10-21 19:07:08.893157 - Error bucle externo:  404  no trajo datos:  https://100.123.26.224/api/v2/devices/BC:A9:93:01:6C:36/performance?start_time=202110211800&stop_time=202110211859\n"
     ]
    },
    {
     "name": "stderr",
     "output_type": "stream",
     "text": [
      "/opt/anaconda3/lib/python3.8/site-packages/urllib3/connectionpool.py:981: InsecureRequestWarning: Unverified HTTPS request is being made to host '100.123.26.252'. Adding certificate verification is strongly advised. See: https://urllib3.readthedocs.io/en/latest/advanced-usage.html#ssl-warnings\n",
      "  warnings.warn(\n",
      "/opt/anaconda3/lib/python3.8/site-packages/urllib3/connectionpool.py:981: InsecureRequestWarning: Unverified HTTPS request is being made to host '100.123.26.252'. Adding certificate verification is strongly advised. See: https://urllib3.readthedocs.io/en/latest/advanced-usage.html#ssl-warnings\n",
      "  warnings.warn(\n",
      "/opt/anaconda3/lib/python3.8/site-packages/urllib3/connectionpool.py:981: InsecureRequestWarning: Unverified HTTPS request is being made to host '100.123.26.224'. Adding certificate verification is strongly advised. See: https://urllib3.readthedocs.io/en/latest/advanced-usage.html#ssl-warnings\n",
      "  warnings.warn(\n",
      "/opt/anaconda3/lib/python3.8/site-packages/urllib3/connectionpool.py:981: InsecureRequestWarning: Unverified HTTPS request is being made to host '100.123.26.252'. Adding certificate verification is strongly advised. See: https://urllib3.readthedocs.io/en/latest/advanced-usage.html#ssl-warnings\n",
      "  warnings.warn(\n"
     ]
    },
    {
     "name": "stdout",
     "output_type": "stream",
     "text": [
      " dato_param['total']  13 1\n",
      "https://100.123.26.252/api/v2/devices/BC:A9:93:01:6C:38/performance?offset=0&start_time=202110211800&stop_time=202110211859\n",
      "1.-Fecha: 2021-10-21 19:07:08.893157 - Error bucle externo:  404  no trajo datos:  https://100.123.26.224/api/v2/devices/BC:A9:93:01:6C:38/performance?start_time=202110211800&stop_time=202110211859\n",
      " dato_param['total']  12 1\n",
      "https://100.123.26.252/api/v2/devices/BC:A9:93:01:6C:39/performance?offset=0&start_time=202110211800&stop_time=202110211859\n",
      "1.-Fecha: 2021-10-21 19:07:08.893157 - Error bucle externo:  404  no trajo datos:  https://100.123.26.224/api/v2/devices/BC:A9:93:01:6C:39/performance?start_time=202110211800&stop_time=202110211859\n",
      " dato_param['total']  12 1\n",
      "https://100.123.26.252/api/v2/devices/BC:A9:93:01:6C:3D/performance?offset=0&start_time=202110211800&stop_time=202110211859\n"
     ]
    },
    {
     "name": "stderr",
     "output_type": "stream",
     "text": [
      "/opt/anaconda3/lib/python3.8/site-packages/urllib3/connectionpool.py:981: InsecureRequestWarning: Unverified HTTPS request is being made to host '100.123.26.252'. Adding certificate verification is strongly advised. See: https://urllib3.readthedocs.io/en/latest/advanced-usage.html#ssl-warnings\n",
      "  warnings.warn(\n",
      "/opt/anaconda3/lib/python3.8/site-packages/urllib3/connectionpool.py:981: InsecureRequestWarning: Unverified HTTPS request is being made to host '100.123.26.224'. Adding certificate verification is strongly advised. See: https://urllib3.readthedocs.io/en/latest/advanced-usage.html#ssl-warnings\n",
      "  warnings.warn(\n",
      "/opt/anaconda3/lib/python3.8/site-packages/urllib3/connectionpool.py:981: InsecureRequestWarning: Unverified HTTPS request is being made to host '100.123.26.252'. Adding certificate verification is strongly advised. See: https://urllib3.readthedocs.io/en/latest/advanced-usage.html#ssl-warnings\n",
      "  warnings.warn(\n",
      "/opt/anaconda3/lib/python3.8/site-packages/urllib3/connectionpool.py:981: InsecureRequestWarning: Unverified HTTPS request is being made to host '100.123.26.252'. Adding certificate verification is strongly advised. See: https://urllib3.readthedocs.io/en/latest/advanced-usage.html#ssl-warnings\n",
      "  warnings.warn(\n",
      "/opt/anaconda3/lib/python3.8/site-packages/urllib3/connectionpool.py:981: InsecureRequestWarning: Unverified HTTPS request is being made to host '100.123.26.224'. Adding certificate verification is strongly advised. See: https://urllib3.readthedocs.io/en/latest/advanced-usage.html#ssl-warnings\n",
      "  warnings.warn(\n",
      "/opt/anaconda3/lib/python3.8/site-packages/urllib3/connectionpool.py:981: InsecureRequestWarning: Unverified HTTPS request is being made to host '100.123.26.252'. Adding certificate verification is strongly advised. See: https://urllib3.readthedocs.io/en/latest/advanced-usage.html#ssl-warnings\n",
      "  warnings.warn(\n",
      "/opt/anaconda3/lib/python3.8/site-packages/urllib3/connectionpool.py:981: InsecureRequestWarning: Unverified HTTPS request is being made to host '100.123.26.252'. Adding certificate verification is strongly advised. See: https://urllib3.readthedocs.io/en/latest/advanced-usage.html#ssl-warnings\n",
      "  warnings.warn(\n",
      "/opt/anaconda3/lib/python3.8/site-packages/urllib3/connectionpool.py:981: InsecureRequestWarning: Unverified HTTPS request is being made to host '100.123.26.224'. Adding certificate verification is strongly advised. See: https://urllib3.readthedocs.io/en/latest/advanced-usage.html#ssl-warnings\n",
      "  warnings.warn(\n"
     ]
    },
    {
     "name": "stdout",
     "output_type": "stream",
     "text": [
      "1.-Fecha: 2021-10-21 19:07:08.893157 - Error bucle externo:  404  no trajo datos:  https://100.123.26.224/api/v2/devices/BC:A9:93:01:6C:3D/performance?start_time=202110211800&stop_time=202110211859\n",
      " dato_param['total']  13 1\n",
      "https://100.123.26.252/api/v2/devices/BC:A9:93:01:6C:45/performance?offset=0&start_time=202110211800&stop_time=202110211859\n",
      "1.-Fecha: 2021-10-21 19:07:08.893157 - Error bucle externo:  404  no trajo datos:  https://100.123.26.224/api/v2/devices/BC:A9:93:01:6C:45/performance?start_time=202110211800&stop_time=202110211859\n"
     ]
    },
    {
     "name": "stderr",
     "output_type": "stream",
     "text": [
      "/opt/anaconda3/lib/python3.8/site-packages/urllib3/connectionpool.py:981: InsecureRequestWarning: Unverified HTTPS request is being made to host '100.123.26.252'. Adding certificate verification is strongly advised. See: https://urllib3.readthedocs.io/en/latest/advanced-usage.html#ssl-warnings\n",
      "  warnings.warn(\n",
      "/opt/anaconda3/lib/python3.8/site-packages/urllib3/connectionpool.py:981: InsecureRequestWarning: Unverified HTTPS request is being made to host '100.123.26.252'. Adding certificate verification is strongly advised. See: https://urllib3.readthedocs.io/en/latest/advanced-usage.html#ssl-warnings\n",
      "  warnings.warn(\n",
      "/opt/anaconda3/lib/python3.8/site-packages/urllib3/connectionpool.py:981: InsecureRequestWarning: Unverified HTTPS request is being made to host '100.123.26.224'. Adding certificate verification is strongly advised. See: https://urllib3.readthedocs.io/en/latest/advanced-usage.html#ssl-warnings\n",
      "  warnings.warn(\n"
     ]
    },
    {
     "name": "stdout",
     "output_type": "stream",
     "text": [
      " dato_param['total']  13 1\n",
      "https://100.123.26.252/api/v2/devices/BC:A9:93:01:6C:4B/performance?offset=0&start_time=202110211800&stop_time=202110211859\n",
      "1.-Fecha: 2021-10-21 19:07:08.893157 - Error bucle externo:  404  no trajo datos:  https://100.123.26.224/api/v2/devices/BC:A9:93:01:6C:4B/performance?start_time=202110211800&stop_time=202110211859\n",
      " dato_param['total']  12 1\n",
      "https://100.123.26.252/api/v2/devices/BC:A9:93:0B:92:E1/performance?offset=0&start_time=202110211800&stop_time=202110211859\n"
     ]
    },
    {
     "name": "stderr",
     "output_type": "stream",
     "text": [
      "/opt/anaconda3/lib/python3.8/site-packages/urllib3/connectionpool.py:981: InsecureRequestWarning: Unverified HTTPS request is being made to host '100.123.26.252'. Adding certificate verification is strongly advised. See: https://urllib3.readthedocs.io/en/latest/advanced-usage.html#ssl-warnings\n",
      "  warnings.warn(\n",
      "/opt/anaconda3/lib/python3.8/site-packages/urllib3/connectionpool.py:981: InsecureRequestWarning: Unverified HTTPS request is being made to host '100.123.26.252'. Adding certificate verification is strongly advised. See: https://urllib3.readthedocs.io/en/latest/advanced-usage.html#ssl-warnings\n",
      "  warnings.warn(\n",
      "/opt/anaconda3/lib/python3.8/site-packages/urllib3/connectionpool.py:981: InsecureRequestWarning: Unverified HTTPS request is being made to host '100.123.26.224'. Adding certificate verification is strongly advised. See: https://urllib3.readthedocs.io/en/latest/advanced-usage.html#ssl-warnings\n",
      "  warnings.warn(\n"
     ]
    },
    {
     "name": "stdout",
     "output_type": "stream",
     "text": [
      "1.-Fecha: 2021-10-21 19:07:08.893157 - Error bucle externo:  404  no trajo datos:  https://100.123.26.224/api/v2/devices/BC:A9:93:0B:92:E1/performance?start_time=202110211800&stop_time=202110211859\n",
      " dato_param['total']  13 1\n",
      "https://100.123.26.252/api/v2/devices/BC:A9:93:0C:06:88/performance?offset=0&start_time=202110211800&stop_time=202110211859\n",
      "1.-Fecha: 2021-10-21 19:07:08.893157 - Error bucle externo:  422  no trajo datos:  https://100.123.26.224/api/v2/devices/BC:A9:93:0C:06:88/performance?start_time=202110211800&stop_time=202110211859\n"
     ]
    },
    {
     "name": "stderr",
     "output_type": "stream",
     "text": [
      "/opt/anaconda3/lib/python3.8/site-packages/urllib3/connectionpool.py:981: InsecureRequestWarning: Unverified HTTPS request is being made to host '100.123.26.252'. Adding certificate verification is strongly advised. See: https://urllib3.readthedocs.io/en/latest/advanced-usage.html#ssl-warnings\n",
      "  warnings.warn(\n",
      "/opt/anaconda3/lib/python3.8/site-packages/urllib3/connectionpool.py:981: InsecureRequestWarning: Unverified HTTPS request is being made to host '100.123.26.252'. Adding certificate verification is strongly advised. See: https://urllib3.readthedocs.io/en/latest/advanced-usage.html#ssl-warnings\n",
      "  warnings.warn(\n",
      "/opt/anaconda3/lib/python3.8/site-packages/urllib3/connectionpool.py:981: InsecureRequestWarning: Unverified HTTPS request is being made to host '100.123.26.224'. Adding certificate verification is strongly advised. See: https://urllib3.readthedocs.io/en/latest/advanced-usage.html#ssl-warnings\n",
      "  warnings.warn(\n",
      "/opt/anaconda3/lib/python3.8/site-packages/urllib3/connectionpool.py:981: InsecureRequestWarning: Unverified HTTPS request is being made to host '100.123.26.252'. Adding certificate verification is strongly advised. See: https://urllib3.readthedocs.io/en/latest/advanced-usage.html#ssl-warnings\n",
      "  warnings.warn(\n"
     ]
    },
    {
     "name": "stdout",
     "output_type": "stream",
     "text": [
      " dato_param['total']  13 1\n",
      "https://100.123.26.252/api/v2/devices/BC:A9:93:0C:06:89/performance?offset=0&start_time=202110211800&stop_time=202110211859\n",
      "1.-Fecha: 2021-10-21 19:07:08.893157 - Error bucle externo:  422  no trajo datos:  https://100.123.26.224/api/v2/devices/BC:A9:93:0C:06:89/performance?start_time=202110211800&stop_time=202110211859\n",
      " dato_param['total']  1 1\n",
      "https://100.123.26.252/api/v2/devices/BC:A9:93:0C:06:8B/performance?offset=0&start_time=202110211800&stop_time=202110211859\n"
     ]
    },
    {
     "name": "stderr",
     "output_type": "stream",
     "text": [
      "/opt/anaconda3/lib/python3.8/site-packages/urllib3/connectionpool.py:981: InsecureRequestWarning: Unverified HTTPS request is being made to host '100.123.26.252'. Adding certificate verification is strongly advised. See: https://urllib3.readthedocs.io/en/latest/advanced-usage.html#ssl-warnings\n",
      "  warnings.warn(\n",
      "/opt/anaconda3/lib/python3.8/site-packages/urllib3/connectionpool.py:981: InsecureRequestWarning: Unverified HTTPS request is being made to host '100.123.26.224'. Adding certificate verification is strongly advised. See: https://urllib3.readthedocs.io/en/latest/advanced-usage.html#ssl-warnings\n",
      "  warnings.warn(\n",
      "/opt/anaconda3/lib/python3.8/site-packages/urllib3/connectionpool.py:981: InsecureRequestWarning: Unverified HTTPS request is being made to host '100.123.26.252'. Adding certificate verification is strongly advised. See: https://urllib3.readthedocs.io/en/latest/advanced-usage.html#ssl-warnings\n",
      "  warnings.warn(\n",
      "/opt/anaconda3/lib/python3.8/site-packages/urllib3/connectionpool.py:981: InsecureRequestWarning: Unverified HTTPS request is being made to host '100.123.26.252'. Adding certificate verification is strongly advised. See: https://urllib3.readthedocs.io/en/latest/advanced-usage.html#ssl-warnings\n",
      "  warnings.warn(\n",
      "/opt/anaconda3/lib/python3.8/site-packages/urllib3/connectionpool.py:981: InsecureRequestWarning: Unverified HTTPS request is being made to host '100.123.26.224'. Adding certificate verification is strongly advised. See: https://urllib3.readthedocs.io/en/latest/advanced-usage.html#ssl-warnings\n",
      "  warnings.warn(\n",
      "/opt/anaconda3/lib/python3.8/site-packages/urllib3/connectionpool.py:981: InsecureRequestWarning: Unverified HTTPS request is being made to host '100.123.26.252'. Adding certificate verification is strongly advised. See: https://urllib3.readthedocs.io/en/latest/advanced-usage.html#ssl-warnings\n",
      "  warnings.warn(\n",
      "/opt/anaconda3/lib/python3.8/site-packages/urllib3/connectionpool.py:981: InsecureRequestWarning: Unverified HTTPS request is being made to host '100.123.26.252'. Adding certificate verification is strongly advised. See: https://urllib3.readthedocs.io/en/latest/advanced-usage.html#ssl-warnings\n",
      "  warnings.warn(\n"
     ]
    },
    {
     "name": "stdout",
     "output_type": "stream",
     "text": [
      "1.-Fecha: 2021-10-21 19:07:08.893157 - Error bucle externo:  404  no trajo datos:  https://100.123.26.224/api/v2/devices/BC:A9:93:0C:06:8B/performance?start_time=202110211800&stop_time=202110211859\n",
      " dato_param['total']  13 1\n",
      "https://100.123.26.252/api/v2/devices/BC:A9:93:0C:06:8D/performance?offset=0&start_time=202110211800&stop_time=202110211859\n",
      "1.-Fecha: 2021-10-21 19:07:08.893157 - Error bucle externo:  404  no trajo datos:  https://100.123.26.224/api/v2/devices/BC:A9:93:0C:06:8D/performance?start_time=202110211800&stop_time=202110211859\n"
     ]
    },
    {
     "name": "stderr",
     "output_type": "stream",
     "text": [
      "/opt/anaconda3/lib/python3.8/site-packages/urllib3/connectionpool.py:981: InsecureRequestWarning: Unverified HTTPS request is being made to host '100.123.26.224'. Adding certificate verification is strongly advised. See: https://urllib3.readthedocs.io/en/latest/advanced-usage.html#ssl-warnings\n",
      "  warnings.warn(\n",
      "/opt/anaconda3/lib/python3.8/site-packages/urllib3/connectionpool.py:981: InsecureRequestWarning: Unverified HTTPS request is being made to host '100.123.26.252'. Adding certificate verification is strongly advised. See: https://urllib3.readthedocs.io/en/latest/advanced-usage.html#ssl-warnings\n",
      "  warnings.warn(\n",
      "/opt/anaconda3/lib/python3.8/site-packages/urllib3/connectionpool.py:981: InsecureRequestWarning: Unverified HTTPS request is being made to host '100.123.26.252'. Adding certificate verification is strongly advised. See: https://urllib3.readthedocs.io/en/latest/advanced-usage.html#ssl-warnings\n",
      "  warnings.warn(\n",
      "/opt/anaconda3/lib/python3.8/site-packages/urllib3/connectionpool.py:981: InsecureRequestWarning: Unverified HTTPS request is being made to host '100.123.26.224'. Adding certificate verification is strongly advised. See: https://urllib3.readthedocs.io/en/latest/advanced-usage.html#ssl-warnings\n",
      "  warnings.warn(\n",
      "/opt/anaconda3/lib/python3.8/site-packages/urllib3/connectionpool.py:981: InsecureRequestWarning: Unverified HTTPS request is being made to host '100.123.26.252'. Adding certificate verification is strongly advised. See: https://urllib3.readthedocs.io/en/latest/advanced-usage.html#ssl-warnings\n",
      "  warnings.warn(\n"
     ]
    },
    {
     "name": "stdout",
     "output_type": "stream",
     "text": [
      " dato_param['total']  1 1\n",
      "https://100.123.26.252/api/v2/devices/BC:A9:93:0C:06:92/performance?offset=0&start_time=202110211800&stop_time=202110211859\n",
      "1.-Fecha: 2021-10-21 19:07:08.893157 - Error bucle externo:  404  no trajo datos:  https://100.123.26.224/api/v2/devices/BC:A9:93:0C:06:92/performance?start_time=202110211800&stop_time=202110211859\n",
      " dato_param['total']  1 1\n",
      "https://100.123.26.252/api/v2/devices/BC:A9:93:0C:06:99/performance?offset=0&start_time=202110211800&stop_time=202110211859\n"
     ]
    },
    {
     "name": "stderr",
     "output_type": "stream",
     "text": [
      "/opt/anaconda3/lib/python3.8/site-packages/urllib3/connectionpool.py:981: InsecureRequestWarning: Unverified HTTPS request is being made to host '100.123.26.252'. Adding certificate verification is strongly advised. See: https://urllib3.readthedocs.io/en/latest/advanced-usage.html#ssl-warnings\n",
      "  warnings.warn(\n",
      "/opt/anaconda3/lib/python3.8/site-packages/urllib3/connectionpool.py:981: InsecureRequestWarning: Unverified HTTPS request is being made to host '100.123.26.224'. Adding certificate verification is strongly advised. See: https://urllib3.readthedocs.io/en/latest/advanced-usage.html#ssl-warnings\n",
      "  warnings.warn(\n",
      "/opt/anaconda3/lib/python3.8/site-packages/urllib3/connectionpool.py:981: InsecureRequestWarning: Unverified HTTPS request is being made to host '100.123.26.252'. Adding certificate verification is strongly advised. See: https://urllib3.readthedocs.io/en/latest/advanced-usage.html#ssl-warnings\n",
      "  warnings.warn(\n",
      "/opt/anaconda3/lib/python3.8/site-packages/urllib3/connectionpool.py:981: InsecureRequestWarning: Unverified HTTPS request is being made to host '100.123.26.252'. Adding certificate verification is strongly advised. See: https://urllib3.readthedocs.io/en/latest/advanced-usage.html#ssl-warnings\n",
      "  warnings.warn(\n"
     ]
    },
    {
     "name": "stdout",
     "output_type": "stream",
     "text": [
      "1.-Fecha: 2021-10-21 19:07:08.893157 - Error bucle externo:  404  no trajo datos:  https://100.123.26.224/api/v2/devices/BC:A9:93:0C:06:99/performance?start_time=202110211800&stop_time=202110211859\n",
      "1.-Fecha: 2021-10-21 19:07:08.893157 - Error bucle externo:  404  no trajo datos:  https://100.123.26.252/api/v2/devices/BC:A9:93:0C:06:9A/performance?start_time=202110211800&stop_time=202110211859\n",
      " dato_param['total']  1 1\n",
      "https://100.123.26.252/api/v2/devices/BC:A9:93:0C:06:9D/performance?offset=0&start_time=202110211800&stop_time=202110211859\n"
     ]
    },
    {
     "name": "stderr",
     "output_type": "stream",
     "text": [
      "/opt/anaconda3/lib/python3.8/site-packages/urllib3/connectionpool.py:981: InsecureRequestWarning: Unverified HTTPS request is being made to host '100.123.26.252'. Adding certificate verification is strongly advised. See: https://urllib3.readthedocs.io/en/latest/advanced-usage.html#ssl-warnings\n",
      "  warnings.warn(\n",
      "/opt/anaconda3/lib/python3.8/site-packages/urllib3/connectionpool.py:981: InsecureRequestWarning: Unverified HTTPS request is being made to host '100.123.26.224'. Adding certificate verification is strongly advised. See: https://urllib3.readthedocs.io/en/latest/advanced-usage.html#ssl-warnings\n",
      "  warnings.warn(\n",
      "/opt/anaconda3/lib/python3.8/site-packages/urllib3/connectionpool.py:981: InsecureRequestWarning: Unverified HTTPS request is being made to host '100.123.26.252'. Adding certificate verification is strongly advised. See: https://urllib3.readthedocs.io/en/latest/advanced-usage.html#ssl-warnings\n",
      "  warnings.warn(\n",
      "/opt/anaconda3/lib/python3.8/site-packages/urllib3/connectionpool.py:981: InsecureRequestWarning: Unverified HTTPS request is being made to host '100.123.26.252'. Adding certificate verification is strongly advised. See: https://urllib3.readthedocs.io/en/latest/advanced-usage.html#ssl-warnings\n",
      "  warnings.warn(\n"
     ]
    },
    {
     "name": "stdout",
     "output_type": "stream",
     "text": [
      "1.-Fecha: 2021-10-21 19:07:08.893157 - Error bucle externo:  404  no trajo datos:  https://100.123.26.224/api/v2/devices/BC:A9:93:0C:06:9D/performance?start_time=202110211800&stop_time=202110211859\n",
      "1.-Fecha: 2021-10-21 19:07:08.893157 - Error bucle externo:  404  no trajo datos:  https://100.123.26.252/api/v2/devices/BC:A9:93:0C:06:9E/performance?start_time=202110211800&stop_time=202110211859\n",
      " dato_param['total']  13 1\n",
      "https://100.123.26.252/api/v2/devices/BC:A9:93:0C:06:9F/performance?offset=0&start_time=202110211800&stop_time=202110211859\n"
     ]
    },
    {
     "name": "stderr",
     "output_type": "stream",
     "text": [
      "/opt/anaconda3/lib/python3.8/site-packages/urllib3/connectionpool.py:981: InsecureRequestWarning: Unverified HTTPS request is being made to host '100.123.26.252'. Adding certificate verification is strongly advised. See: https://urllib3.readthedocs.io/en/latest/advanced-usage.html#ssl-warnings\n",
      "  warnings.warn(\n",
      "/opt/anaconda3/lib/python3.8/site-packages/urllib3/connectionpool.py:981: InsecureRequestWarning: Unverified HTTPS request is being made to host '100.123.26.224'. Adding certificate verification is strongly advised. See: https://urllib3.readthedocs.io/en/latest/advanced-usage.html#ssl-warnings\n",
      "  warnings.warn(\n",
      "/opt/anaconda3/lib/python3.8/site-packages/urllib3/connectionpool.py:981: InsecureRequestWarning: Unverified HTTPS request is being made to host '100.123.26.252'. Adding certificate verification is strongly advised. See: https://urllib3.readthedocs.io/en/latest/advanced-usage.html#ssl-warnings\n",
      "  warnings.warn(\n",
      "/opt/anaconda3/lib/python3.8/site-packages/urllib3/connectionpool.py:981: InsecureRequestWarning: Unverified HTTPS request is being made to host '100.123.26.252'. Adding certificate verification is strongly advised. See: https://urllib3.readthedocs.io/en/latest/advanced-usage.html#ssl-warnings\n",
      "  warnings.warn(\n"
     ]
    },
    {
     "name": "stdout",
     "output_type": "stream",
     "text": [
      "1.-Fecha: 2021-10-21 19:07:08.893157 - Error bucle externo:  404  no trajo datos:  https://100.123.26.224/api/v2/devices/BC:A9:93:0C:06:9F/performance?start_time=202110211800&stop_time=202110211859\n",
      " dato_param['total']  13 1\n",
      "https://100.123.26.252/api/v2/devices/BC:A9:93:0C:06:A1/performance?offset=0&start_time=202110211800&stop_time=202110211859\n"
     ]
    },
    {
     "name": "stderr",
     "output_type": "stream",
     "text": [
      "/opt/anaconda3/lib/python3.8/site-packages/urllib3/connectionpool.py:981: InsecureRequestWarning: Unverified HTTPS request is being made to host '100.123.26.224'. Adding certificate verification is strongly advised. See: https://urllib3.readthedocs.io/en/latest/advanced-usage.html#ssl-warnings\n",
      "  warnings.warn(\n",
      "/opt/anaconda3/lib/python3.8/site-packages/urllib3/connectionpool.py:981: InsecureRequestWarning: Unverified HTTPS request is being made to host '100.123.26.252'. Adding certificate verification is strongly advised. See: https://urllib3.readthedocs.io/en/latest/advanced-usage.html#ssl-warnings\n",
      "  warnings.warn(\n",
      "/opt/anaconda3/lib/python3.8/site-packages/urllib3/connectionpool.py:981: InsecureRequestWarning: Unverified HTTPS request is being made to host '100.123.26.252'. Adding certificate verification is strongly advised. See: https://urllib3.readthedocs.io/en/latest/advanced-usage.html#ssl-warnings\n",
      "  warnings.warn(\n",
      "/opt/anaconda3/lib/python3.8/site-packages/urllib3/connectionpool.py:981: InsecureRequestWarning: Unverified HTTPS request is being made to host '100.123.26.252'. Adding certificate verification is strongly advised. See: https://urllib3.readthedocs.io/en/latest/advanced-usage.html#ssl-warnings\n",
      "  warnings.warn(\n"
     ]
    },
    {
     "name": "stdout",
     "output_type": "stream",
     "text": [
      "1.-Fecha: 2021-10-21 19:07:08.893157 - Error bucle externo:  404  no trajo datos:  https://100.123.26.224/api/v2/devices/BC:A9:93:0C:06:A1/performance?start_time=202110211800&stop_time=202110211859\n",
      "1.-Fecha: 2021-10-21 19:07:08.893157 - Error bucle externo:  404  no trajo datos:  https://100.123.26.252/api/v2/devices/BC:A9:93:0C:06:A2/performance?start_time=202110211800&stop_time=202110211859\n",
      "1.-Fecha: 2021-10-21 19:07:08.893157 - Error bucle externo:  404  no trajo datos:  https://100.123.26.252/api/v2/devices/BC:A9:93:0C:06:A3/performance?start_time=202110211800&stop_time=202110211859\n",
      "1.-Fecha: 2021-10-21 19:07:08.893157 - Error bucle externo:  404  no trajo datos:  https://100.123.26.252/api/v2/devices/BC:A9:93:0C:06:A5/performance?start_time=202110211800&stop_time=202110211859\n"
     ]
    },
    {
     "name": "stderr",
     "output_type": "stream",
     "text": [
      "/opt/anaconda3/lib/python3.8/site-packages/urllib3/connectionpool.py:981: InsecureRequestWarning: Unverified HTTPS request is being made to host '100.123.26.252'. Adding certificate verification is strongly advised. See: https://urllib3.readthedocs.io/en/latest/advanced-usage.html#ssl-warnings\n",
      "  warnings.warn(\n",
      "/opt/anaconda3/lib/python3.8/site-packages/urllib3/connectionpool.py:981: InsecureRequestWarning: Unverified HTTPS request is being made to host '100.123.26.252'. Adding certificate verification is strongly advised. See: https://urllib3.readthedocs.io/en/latest/advanced-usage.html#ssl-warnings\n",
      "  warnings.warn(\n",
      "/opt/anaconda3/lib/python3.8/site-packages/urllib3/connectionpool.py:981: InsecureRequestWarning: Unverified HTTPS request is being made to host '100.123.26.224'. Adding certificate verification is strongly advised. See: https://urllib3.readthedocs.io/en/latest/advanced-usage.html#ssl-warnings\n",
      "  warnings.warn(\n"
     ]
    },
    {
     "name": "stdout",
     "output_type": "stream",
     "text": [
      " dato_param['total']  1 1\n",
      "https://100.123.26.252/api/v2/devices/BC:A9:93:0C:06:A6/performance?offset=0&start_time=202110211800&stop_time=202110211859\n",
      "1.-Fecha: 2021-10-21 19:07:08.893157 - Error bucle externo:  404  no trajo datos:  https://100.123.26.224/api/v2/devices/BC:A9:93:0C:06:A6/performance?start_time=202110211800&stop_time=202110211859\n",
      "1.-Fecha: 2021-10-21 19:07:08.893157 - Error bucle externo:  404  no trajo datos:  https://100.123.26.252/api/v2/devices/BC:A9:93:0C:06:A7/performance?start_time=202110211800&stop_time=202110211859\n",
      "1.-Fecha: 2021-10-21 19:07:08.893157 - Error bucle externo:  404  no trajo datos:  https://100.123.26.252/api/v2/devices/BC:A9:93:0C:06:A8/performance?start_time=202110211800&stop_time=202110211859\n"
     ]
    },
    {
     "name": "stderr",
     "output_type": "stream",
     "text": [
      "/opt/anaconda3/lib/python3.8/site-packages/urllib3/connectionpool.py:981: InsecureRequestWarning: Unverified HTTPS request is being made to host '100.123.26.252'. Adding certificate verification is strongly advised. See: https://urllib3.readthedocs.io/en/latest/advanced-usage.html#ssl-warnings\n",
      "  warnings.warn(\n",
      "/opt/anaconda3/lib/python3.8/site-packages/urllib3/connectionpool.py:981: InsecureRequestWarning: Unverified HTTPS request is being made to host '100.123.26.252'. Adding certificate verification is strongly advised. See: https://urllib3.readthedocs.io/en/latest/advanced-usage.html#ssl-warnings\n",
      "  warnings.warn(\n",
      "/opt/anaconda3/lib/python3.8/site-packages/urllib3/connectionpool.py:981: InsecureRequestWarning: Unverified HTTPS request is being made to host '100.123.26.252'. Adding certificate verification is strongly advised. See: https://urllib3.readthedocs.io/en/latest/advanced-usage.html#ssl-warnings\n",
      "  warnings.warn(\n",
      "/opt/anaconda3/lib/python3.8/site-packages/urllib3/connectionpool.py:981: InsecureRequestWarning: Unverified HTTPS request is being made to host '100.123.26.252'. Adding certificate verification is strongly advised. See: https://urllib3.readthedocs.io/en/latest/advanced-usage.html#ssl-warnings\n",
      "  warnings.warn(\n",
      "/opt/anaconda3/lib/python3.8/site-packages/urllib3/connectionpool.py:981: InsecureRequestWarning: Unverified HTTPS request is being made to host '100.123.26.252'. Adding certificate verification is strongly advised. See: https://urllib3.readthedocs.io/en/latest/advanced-usage.html#ssl-warnings\n",
      "  warnings.warn(\n"
     ]
    },
    {
     "name": "stdout",
     "output_type": "stream",
     "text": [
      "1.-Fecha: 2021-10-21 19:07:08.893157 - Error bucle externo:  404  no trajo datos:  https://100.123.26.252/api/v2/devices/BC:A9:93:0C:06:A9/performance?start_time=202110211800&stop_time=202110211859\n",
      " dato_param['total']  13 1\n",
      "https://100.123.26.252/api/v2/devices/BC:A9:93:0C:06:AB/performance?offset=0&start_time=202110211800&stop_time=202110211859\n"
     ]
    },
    {
     "name": "stderr",
     "output_type": "stream",
     "text": [
      "/opt/anaconda3/lib/python3.8/site-packages/urllib3/connectionpool.py:981: InsecureRequestWarning: Unverified HTTPS request is being made to host '100.123.26.224'. Adding certificate verification is strongly advised. See: https://urllib3.readthedocs.io/en/latest/advanced-usage.html#ssl-warnings\n",
      "  warnings.warn(\n",
      "/opt/anaconda3/lib/python3.8/site-packages/urllib3/connectionpool.py:981: InsecureRequestWarning: Unverified HTTPS request is being made to host '100.123.26.252'. Adding certificate verification is strongly advised. See: https://urllib3.readthedocs.io/en/latest/advanced-usage.html#ssl-warnings\n",
      "  warnings.warn(\n",
      "/opt/anaconda3/lib/python3.8/site-packages/urllib3/connectionpool.py:981: InsecureRequestWarning: Unverified HTTPS request is being made to host '100.123.26.252'. Adding certificate verification is strongly advised. See: https://urllib3.readthedocs.io/en/latest/advanced-usage.html#ssl-warnings\n",
      "  warnings.warn(\n",
      "/opt/anaconda3/lib/python3.8/site-packages/urllib3/connectionpool.py:981: InsecureRequestWarning: Unverified HTTPS request is being made to host '100.123.26.224'. Adding certificate verification is strongly advised. See: https://urllib3.readthedocs.io/en/latest/advanced-usage.html#ssl-warnings\n",
      "  warnings.warn(\n"
     ]
    },
    {
     "name": "stdout",
     "output_type": "stream",
     "text": [
      "1.-Fecha: 2021-10-21 19:07:08.893157 - Error bucle externo:  404  no trajo datos:  https://100.123.26.224/api/v2/devices/BC:A9:93:0C:06:AB/performance?start_time=202110211800&stop_time=202110211859\n",
      " dato_param['total']  1 1\n",
      "https://100.123.26.252/api/v2/devices/BC:A9:93:0C:06:AC/performance?offset=0&start_time=202110211800&stop_time=202110211859\n",
      "1.-Fecha: 2021-10-21 19:07:08.893157 - Error bucle externo:  404  no trajo datos:  https://100.123.26.224/api/v2/devices/BC:A9:93:0C:06:AC/performance?start_time=202110211800&stop_time=202110211859\n",
      " dato_param['total']  13 1\n",
      "https://100.123.26.252/api/v2/devices/BC:A9:93:0C:06:AE/performance?offset=0&start_time=202110211800&stop_time=202110211859\n",
      "1.-Fecha: 2021-10-21 19:07:08.893157 - Error bucle externo:  404  no trajo datos:  https://100.123.26.224/api/v2/devices/BC:A9:93:0C:06:AE/performance?start_time=202110211800&stop_time=202110211859\n"
     ]
    },
    {
     "name": "stderr",
     "output_type": "stream",
     "text": [
      "/opt/anaconda3/lib/python3.8/site-packages/urllib3/connectionpool.py:981: InsecureRequestWarning: Unverified HTTPS request is being made to host '100.123.26.252'. Adding certificate verification is strongly advised. See: https://urllib3.readthedocs.io/en/latest/advanced-usage.html#ssl-warnings\n",
      "  warnings.warn(\n",
      "/opt/anaconda3/lib/python3.8/site-packages/urllib3/connectionpool.py:981: InsecureRequestWarning: Unverified HTTPS request is being made to host '100.123.26.252'. Adding certificate verification is strongly advised. See: https://urllib3.readthedocs.io/en/latest/advanced-usage.html#ssl-warnings\n",
      "  warnings.warn(\n",
      "/opt/anaconda3/lib/python3.8/site-packages/urllib3/connectionpool.py:981: InsecureRequestWarning: Unverified HTTPS request is being made to host '100.123.26.224'. Adding certificate verification is strongly advised. See: https://urllib3.readthedocs.io/en/latest/advanced-usage.html#ssl-warnings\n",
      "  warnings.warn(\n",
      "/opt/anaconda3/lib/python3.8/site-packages/urllib3/connectionpool.py:981: InsecureRequestWarning: Unverified HTTPS request is being made to host '100.123.26.252'. Adding certificate verification is strongly advised. See: https://urllib3.readthedocs.io/en/latest/advanced-usage.html#ssl-warnings\n",
      "  warnings.warn(\n"
     ]
    },
    {
     "name": "stdout",
     "output_type": "stream",
     "text": [
      " dato_param['total']  13 1\n",
      "https://100.123.26.252/api/v2/devices/BC:A9:93:0C:06:AF/performance?offset=0&start_time=202110211800&stop_time=202110211859\n",
      "1.-Fecha: 2021-10-21 19:07:08.893157 - Error bucle externo:  404  no trajo datos:  https://100.123.26.224/api/v2/devices/BC:A9:93:0C:06:AF/performance?start_time=202110211800&stop_time=202110211859\n",
      "1.-Fecha: 2021-10-21 19:07:08.893157 - Error bucle externo:  404  no trajo datos:  https://100.123.26.252/api/v2/devices/BC:A9:93:0C:06:B0/performance?start_time=202110211800&stop_time=202110211859\n",
      " dato_param['total']  1 1\n",
      "https://100.123.26.252/api/v2/devices/BC:A9:93:0C:06:B1/performance?offset=0&start_time=202110211800&stop_time=202110211859\n"
     ]
    },
    {
     "name": "stderr",
     "output_type": "stream",
     "text": [
      "/opt/anaconda3/lib/python3.8/site-packages/urllib3/connectionpool.py:981: InsecureRequestWarning: Unverified HTTPS request is being made to host '100.123.26.252'. Adding certificate verification is strongly advised. See: https://urllib3.readthedocs.io/en/latest/advanced-usage.html#ssl-warnings\n",
      "  warnings.warn(\n",
      "/opt/anaconda3/lib/python3.8/site-packages/urllib3/connectionpool.py:981: InsecureRequestWarning: Unverified HTTPS request is being made to host '100.123.26.224'. Adding certificate verification is strongly advised. See: https://urllib3.readthedocs.io/en/latest/advanced-usage.html#ssl-warnings\n",
      "  warnings.warn(\n",
      "/opt/anaconda3/lib/python3.8/site-packages/urllib3/connectionpool.py:981: InsecureRequestWarning: Unverified HTTPS request is being made to host '100.123.26.252'. Adding certificate verification is strongly advised. See: https://urllib3.readthedocs.io/en/latest/advanced-usage.html#ssl-warnings\n",
      "  warnings.warn(\n",
      "/opt/anaconda3/lib/python3.8/site-packages/urllib3/connectionpool.py:981: InsecureRequestWarning: Unverified HTTPS request is being made to host '100.123.26.252'. Adding certificate verification is strongly advised. See: https://urllib3.readthedocs.io/en/latest/advanced-usage.html#ssl-warnings\n",
      "  warnings.warn(\n",
      "/opt/anaconda3/lib/python3.8/site-packages/urllib3/connectionpool.py:981: InsecureRequestWarning: Unverified HTTPS request is being made to host '100.123.26.252'. Adding certificate verification is strongly advised. See: https://urllib3.readthedocs.io/en/latest/advanced-usage.html#ssl-warnings\n",
      "  warnings.warn(\n",
      "/opt/anaconda3/lib/python3.8/site-packages/urllib3/connectionpool.py:981: InsecureRequestWarning: Unverified HTTPS request is being made to host '100.123.26.224'. Adding certificate verification is strongly advised. See: https://urllib3.readthedocs.io/en/latest/advanced-usage.html#ssl-warnings\n",
      "  warnings.warn(\n",
      "/opt/anaconda3/lib/python3.8/site-packages/urllib3/connectionpool.py:981: InsecureRequestWarning: Unverified HTTPS request is being made to host '100.123.26.252'. Adding certificate verification is strongly advised. See: https://urllib3.readthedocs.io/en/latest/advanced-usage.html#ssl-warnings\n",
      "  warnings.warn(\n",
      "/opt/anaconda3/lib/python3.8/site-packages/urllib3/connectionpool.py:981: InsecureRequestWarning: Unverified HTTPS request is being made to host '100.123.26.252'. Adding certificate verification is strongly advised. See: https://urllib3.readthedocs.io/en/latest/advanced-usage.html#ssl-warnings\n",
      "  warnings.warn(\n"
     ]
    },
    {
     "name": "stdout",
     "output_type": "stream",
     "text": [
      "1.-Fecha: 2021-10-21 19:07:08.893157 - Error bucle externo:  404  no trajo datos:  https://100.123.26.224/api/v2/devices/BC:A9:93:0C:06:B1/performance?start_time=202110211800&stop_time=202110211859\n",
      "1.-Fecha: 2021-10-21 19:07:08.893157 - Error bucle externo:  404  no trajo datos:  https://100.123.26.252/api/v2/devices/BC:A9:93:0C:06:B2/performance?start_time=202110211800&stop_time=202110211859\n",
      " dato_param['total']  13 1\n",
      "https://100.123.26.252/api/v2/devices/BC:A9:93:0C:06:B3/performance?offset=0&start_time=202110211800&stop_time=202110211859\n",
      "1.-Fecha: 2021-10-21 19:07:08.893157 - Error bucle externo:  404  no trajo datos:  https://100.123.26.224/api/v2/devices/BC:A9:93:0C:06:B3/performance?start_time=202110211800&stop_time=202110211859\n"
     ]
    },
    {
     "name": "stderr",
     "output_type": "stream",
     "text": [
      "/opt/anaconda3/lib/python3.8/site-packages/urllib3/connectionpool.py:981: InsecureRequestWarning: Unverified HTTPS request is being made to host '100.123.26.252'. Adding certificate verification is strongly advised. See: https://urllib3.readthedocs.io/en/latest/advanced-usage.html#ssl-warnings\n",
      "  warnings.warn(\n",
      "/opt/anaconda3/lib/python3.8/site-packages/urllib3/connectionpool.py:981: InsecureRequestWarning: Unverified HTTPS request is being made to host '100.123.26.224'. Adding certificate verification is strongly advised. See: https://urllib3.readthedocs.io/en/latest/advanced-usage.html#ssl-warnings\n",
      "  warnings.warn(\n",
      "/opt/anaconda3/lib/python3.8/site-packages/urllib3/connectionpool.py:981: InsecureRequestWarning: Unverified HTTPS request is being made to host '100.123.26.252'. Adding certificate verification is strongly advised. See: https://urllib3.readthedocs.io/en/latest/advanced-usage.html#ssl-warnings\n",
      "  warnings.warn(\n",
      "/opt/anaconda3/lib/python3.8/site-packages/urllib3/connectionpool.py:981: InsecureRequestWarning: Unverified HTTPS request is being made to host '100.123.26.252'. Adding certificate verification is strongly advised. See: https://urllib3.readthedocs.io/en/latest/advanced-usage.html#ssl-warnings\n",
      "  warnings.warn(\n"
     ]
    },
    {
     "name": "stdout",
     "output_type": "stream",
     "text": [
      " dato_param['total']  13 1\n",
      "https://100.123.26.252/api/v2/devices/BC:A9:93:0C:06:B5/performance?offset=0&start_time=202110211800&stop_time=202110211859\n",
      "1.-Fecha: 2021-10-21 19:07:08.893157 - Error bucle externo:  404  no trajo datos:  https://100.123.26.224/api/v2/devices/BC:A9:93:0C:06:B5/performance?start_time=202110211800&stop_time=202110211859\n",
      " dato_param['total']  13 1\n",
      "https://100.123.26.252/api/v2/devices/BC:A9:93:0C:06:B6/performance?offset=0&start_time=202110211800&stop_time=202110211859\n"
     ]
    },
    {
     "name": "stderr",
     "output_type": "stream",
     "text": [
      "/opt/anaconda3/lib/python3.8/site-packages/urllib3/connectionpool.py:981: InsecureRequestWarning: Unverified HTTPS request is being made to host '100.123.26.224'. Adding certificate verification is strongly advised. See: https://urllib3.readthedocs.io/en/latest/advanced-usage.html#ssl-warnings\n",
      "  warnings.warn(\n",
      "/opt/anaconda3/lib/python3.8/site-packages/urllib3/connectionpool.py:981: InsecureRequestWarning: Unverified HTTPS request is being made to host '100.123.26.252'. Adding certificate verification is strongly advised. See: https://urllib3.readthedocs.io/en/latest/advanced-usage.html#ssl-warnings\n",
      "  warnings.warn(\n",
      "/opt/anaconda3/lib/python3.8/site-packages/urllib3/connectionpool.py:981: InsecureRequestWarning: Unverified HTTPS request is being made to host '100.123.26.252'. Adding certificate verification is strongly advised. See: https://urllib3.readthedocs.io/en/latest/advanced-usage.html#ssl-warnings\n",
      "  warnings.warn(\n",
      "/opt/anaconda3/lib/python3.8/site-packages/urllib3/connectionpool.py:981: InsecureRequestWarning: Unverified HTTPS request is being made to host '100.123.26.224'. Adding certificate verification is strongly advised. See: https://urllib3.readthedocs.io/en/latest/advanced-usage.html#ssl-warnings\n",
      "  warnings.warn(\n"
     ]
    },
    {
     "name": "stdout",
     "output_type": "stream",
     "text": [
      "1.-Fecha: 2021-10-21 19:07:08.893157 - Error bucle externo:  404  no trajo datos:  https://100.123.26.224/api/v2/devices/BC:A9:93:0C:06:B6/performance?start_time=202110211800&stop_time=202110211859\n",
      "1.-Fecha: 2021-10-21 19:07:08.893157 - Error bucle externo:  404  no trajo datos:  https://100.123.26.252/api/v2/devices/BC:A9:93:0C:06:B7/performance?start_time=202110211800&stop_time=202110211859\n",
      " dato_param['total']  13 1\n",
      "https://100.123.26.252/api/v2/devices/BC:A9:93:0C:06:B9/performance?offset=0&start_time=202110211800&stop_time=202110211859\n"
     ]
    },
    {
     "name": "stderr",
     "output_type": "stream",
     "text": [
      "/opt/anaconda3/lib/python3.8/site-packages/urllib3/connectionpool.py:981: InsecureRequestWarning: Unverified HTTPS request is being made to host '100.123.26.252'. Adding certificate verification is strongly advised. See: https://urllib3.readthedocs.io/en/latest/advanced-usage.html#ssl-warnings\n",
      "  warnings.warn(\n",
      "/opt/anaconda3/lib/python3.8/site-packages/urllib3/connectionpool.py:981: InsecureRequestWarning: Unverified HTTPS request is being made to host '100.123.26.252'. Adding certificate verification is strongly advised. See: https://urllib3.readthedocs.io/en/latest/advanced-usage.html#ssl-warnings\n",
      "  warnings.warn(\n",
      "/opt/anaconda3/lib/python3.8/site-packages/urllib3/connectionpool.py:981: InsecureRequestWarning: Unverified HTTPS request is being made to host '100.123.26.252'. Adding certificate verification is strongly advised. See: https://urllib3.readthedocs.io/en/latest/advanced-usage.html#ssl-warnings\n",
      "  warnings.warn(\n",
      "/opt/anaconda3/lib/python3.8/site-packages/urllib3/connectionpool.py:981: InsecureRequestWarning: Unverified HTTPS request is being made to host '100.123.26.224'. Adding certificate verification is strongly advised. See: https://urllib3.readthedocs.io/en/latest/advanced-usage.html#ssl-warnings\n",
      "  warnings.warn(\n"
     ]
    },
    {
     "name": "stdout",
     "output_type": "stream",
     "text": [
      "1.-Fecha: 2021-10-21 19:07:08.893157 - Error bucle externo:  404  no trajo datos:  https://100.123.26.224/api/v2/devices/BC:A9:93:0C:06:B9/performance?start_time=202110211800&stop_time=202110211859\n",
      " dato_param['total']  13 1\n",
      "https://100.123.26.252/api/v2/devices/BC:A9:93:0C:06:BA/performance?offset=0&start_time=202110211800&stop_time=202110211859\n",
      "1.-Fecha: 2021-10-21 19:07:08.893157 - Error bucle externo:  404  no trajo datos:  https://100.123.26.224/api/v2/devices/BC:A9:93:0C:06:BA/performance?start_time=202110211800&stop_time=202110211859\n"
     ]
    },
    {
     "name": "stderr",
     "output_type": "stream",
     "text": [
      "/opt/anaconda3/lib/python3.8/site-packages/urllib3/connectionpool.py:981: InsecureRequestWarning: Unverified HTTPS request is being made to host '100.123.26.252'. Adding certificate verification is strongly advised. See: https://urllib3.readthedocs.io/en/latest/advanced-usage.html#ssl-warnings\n",
      "  warnings.warn(\n",
      "/opt/anaconda3/lib/python3.8/site-packages/urllib3/connectionpool.py:981: InsecureRequestWarning: Unverified HTTPS request is being made to host '100.123.26.252'. Adding certificate verification is strongly advised. See: https://urllib3.readthedocs.io/en/latest/advanced-usage.html#ssl-warnings\n",
      "  warnings.warn(\n",
      "/opt/anaconda3/lib/python3.8/site-packages/urllib3/connectionpool.py:981: InsecureRequestWarning: Unverified HTTPS request is being made to host '100.123.26.224'. Adding certificate verification is strongly advised. See: https://urllib3.readthedocs.io/en/latest/advanced-usage.html#ssl-warnings\n",
      "  warnings.warn(\n",
      "/opt/anaconda3/lib/python3.8/site-packages/urllib3/connectionpool.py:981: InsecureRequestWarning: Unverified HTTPS request is being made to host '100.123.26.252'. Adding certificate verification is strongly advised. See: https://urllib3.readthedocs.io/en/latest/advanced-usage.html#ssl-warnings\n",
      "  warnings.warn(\n"
     ]
    },
    {
     "name": "stdout",
     "output_type": "stream",
     "text": [
      " dato_param['total']  13 1\n",
      "https://100.123.26.252/api/v2/devices/BC:A9:93:0C:06:BB/performance?offset=0&start_time=202110211800&stop_time=202110211859\n",
      "1.-Fecha: 2021-10-21 19:07:08.893157 - Error bucle externo:  404  no trajo datos:  https://100.123.26.224/api/v2/devices/BC:A9:93:0C:06:BB/performance?start_time=202110211800&stop_time=202110211859\n"
     ]
    },
    {
     "name": "stderr",
     "output_type": "stream",
     "text": [
      "/opt/anaconda3/lib/python3.8/site-packages/urllib3/connectionpool.py:981: InsecureRequestWarning: Unverified HTTPS request is being made to host '100.123.26.252'. Adding certificate verification is strongly advised. See: https://urllib3.readthedocs.io/en/latest/advanced-usage.html#ssl-warnings\n",
      "  warnings.warn(\n",
      "/opt/anaconda3/lib/python3.8/site-packages/urllib3/connectionpool.py:981: InsecureRequestWarning: Unverified HTTPS request is being made to host '100.123.26.224'. Adding certificate verification is strongly advised. See: https://urllib3.readthedocs.io/en/latest/advanced-usage.html#ssl-warnings\n",
      "  warnings.warn(\n",
      "/opt/anaconda3/lib/python3.8/site-packages/urllib3/connectionpool.py:981: InsecureRequestWarning: Unverified HTTPS request is being made to host '100.123.26.252'. Adding certificate verification is strongly advised. See: https://urllib3.readthedocs.io/en/latest/advanced-usage.html#ssl-warnings\n",
      "  warnings.warn(\n"
     ]
    },
    {
     "name": "stdout",
     "output_type": "stream",
     "text": [
      "1.-Fecha: 2021-10-21 19:07:08.893157 - Error bucle externo:  404  no trajo datos:  https://100.123.26.252/api/v2/devices/BC:A9:93:0C:06:BE/performance?start_time=202110211800&stop_time=202110211859\n",
      "1.-Fecha: 2021-10-21 19:07:08.893157 - Error bucle externo:  404  no trajo datos:  https://100.123.26.252/api/v2/devices/BC:A9:93:0C:06:C0/performance?start_time=202110211800&stop_time=202110211859\n",
      "1.-Fecha: 2021-10-21 19:07:08.893157 - Error bucle externo:  404  no trajo datos:  https://100.123.26.252/api/v2/devices/BC:A9:93:0C:06:C3/performance?start_time=202110211800&stop_time=202110211859\n",
      " dato_param['total']  1 1\n",
      "https://100.123.26.252/api/v2/devices/BC:A9:93:0C:06:C4/performance?offset=0&start_time=202110211800&stop_time=202110211859\n"
     ]
    },
    {
     "name": "stderr",
     "output_type": "stream",
     "text": [
      "/opt/anaconda3/lib/python3.8/site-packages/urllib3/connectionpool.py:981: InsecureRequestWarning: Unverified HTTPS request is being made to host '100.123.26.252'. Adding certificate verification is strongly advised. See: https://urllib3.readthedocs.io/en/latest/advanced-usage.html#ssl-warnings\n",
      "  warnings.warn(\n",
      "/opt/anaconda3/lib/python3.8/site-packages/urllib3/connectionpool.py:981: InsecureRequestWarning: Unverified HTTPS request is being made to host '100.123.26.252'. Adding certificate verification is strongly advised. See: https://urllib3.readthedocs.io/en/latest/advanced-usage.html#ssl-warnings\n",
      "  warnings.warn(\n",
      "/opt/anaconda3/lib/python3.8/site-packages/urllib3/connectionpool.py:981: InsecureRequestWarning: Unverified HTTPS request is being made to host '100.123.26.252'. Adding certificate verification is strongly advised. See: https://urllib3.readthedocs.io/en/latest/advanced-usage.html#ssl-warnings\n",
      "  warnings.warn(\n",
      "/opt/anaconda3/lib/python3.8/site-packages/urllib3/connectionpool.py:981: InsecureRequestWarning: Unverified HTTPS request is being made to host '100.123.26.252'. Adding certificate verification is strongly advised. See: https://urllib3.readthedocs.io/en/latest/advanced-usage.html#ssl-warnings\n",
      "  warnings.warn(\n",
      "/opt/anaconda3/lib/python3.8/site-packages/urllib3/connectionpool.py:981: InsecureRequestWarning: Unverified HTTPS request is being made to host '100.123.26.224'. Adding certificate verification is strongly advised. See: https://urllib3.readthedocs.io/en/latest/advanced-usage.html#ssl-warnings\n",
      "  warnings.warn(\n",
      "/opt/anaconda3/lib/python3.8/site-packages/urllib3/connectionpool.py:981: InsecureRequestWarning: Unverified HTTPS request is being made to host '100.123.26.252'. Adding certificate verification is strongly advised. See: https://urllib3.readthedocs.io/en/latest/advanced-usage.html#ssl-warnings\n",
      "  warnings.warn(\n",
      "/opt/anaconda3/lib/python3.8/site-packages/urllib3/connectionpool.py:981: InsecureRequestWarning: Unverified HTTPS request is being made to host '100.123.26.252'. Adding certificate verification is strongly advised. See: https://urllib3.readthedocs.io/en/latest/advanced-usage.html#ssl-warnings\n",
      "  warnings.warn(\n",
      "/opt/anaconda3/lib/python3.8/site-packages/urllib3/connectionpool.py:981: InsecureRequestWarning: Unverified HTTPS request is being made to host '100.123.26.252'. Adding certificate verification is strongly advised. See: https://urllib3.readthedocs.io/en/latest/advanced-usage.html#ssl-warnings\n",
      "  warnings.warn(\n",
      "/opt/anaconda3/lib/python3.8/site-packages/urllib3/connectionpool.py:981: InsecureRequestWarning: Unverified HTTPS request is being made to host '100.123.26.224'. Adding certificate verification is strongly advised. See: https://urllib3.readthedocs.io/en/latest/advanced-usage.html#ssl-warnings\n",
      "  warnings.warn(\n"
     ]
    },
    {
     "name": "stdout",
     "output_type": "stream",
     "text": [
      "1.-Fecha: 2021-10-21 19:07:08.893157 - Error bucle externo:  404  no trajo datos:  https://100.123.26.224/api/v2/devices/BC:A9:93:0C:06:C4/performance?start_time=202110211800&stop_time=202110211859\n",
      "1.-Fecha: 2021-10-21 19:07:08.893157 - Error bucle externo:  404  no trajo datos:  https://100.123.26.252/api/v2/devices/BC:A9:93:0C:06:C5/performance?start_time=202110211800&stop_time=202110211859\n",
      " dato_param['total']  1 1\n",
      "https://100.123.26.252/api/v2/devices/BC:A9:93:0C:06:C7/performance?offset=0&start_time=202110211800&stop_time=202110211859\n",
      "1.-Fecha: 2021-10-21 19:07:08.893157 - Error bucle externo:  404  no trajo datos:  https://100.123.26.224/api/v2/devices/BC:A9:93:0C:06:C7/performance?start_time=202110211800&stop_time=202110211859\n"
     ]
    },
    {
     "name": "stderr",
     "output_type": "stream",
     "text": [
      "/opt/anaconda3/lib/python3.8/site-packages/urllib3/connectionpool.py:981: InsecureRequestWarning: Unverified HTTPS request is being made to host '100.123.26.252'. Adding certificate verification is strongly advised. See: https://urllib3.readthedocs.io/en/latest/advanced-usage.html#ssl-warnings\n",
      "  warnings.warn(\n",
      "/opt/anaconda3/lib/python3.8/site-packages/urllib3/connectionpool.py:981: InsecureRequestWarning: Unverified HTTPS request is being made to host '100.123.26.252'. Adding certificate verification is strongly advised. See: https://urllib3.readthedocs.io/en/latest/advanced-usage.html#ssl-warnings\n",
      "  warnings.warn(\n",
      "/opt/anaconda3/lib/python3.8/site-packages/urllib3/connectionpool.py:981: InsecureRequestWarning: Unverified HTTPS request is being made to host '100.123.26.224'. Adding certificate verification is strongly advised. See: https://urllib3.readthedocs.io/en/latest/advanced-usage.html#ssl-warnings\n",
      "  warnings.warn(\n"
     ]
    },
    {
     "name": "stdout",
     "output_type": "stream",
     "text": [
      " dato_param['total']  1 1\n",
      "https://100.123.26.252/api/v2/devices/BC:A9:93:0C:06:CD/performance?offset=0&start_time=202110211800&stop_time=202110211859\n",
      "1.-Fecha: 2021-10-21 19:07:08.893157 - Error bucle externo:  404  no trajo datos:  https://100.123.26.224/api/v2/devices/BC:A9:93:0C:06:CD/performance?start_time=202110211800&stop_time=202110211859\n"
     ]
    },
    {
     "name": "stderr",
     "output_type": "stream",
     "text": [
      "/opt/anaconda3/lib/python3.8/site-packages/urllib3/connectionpool.py:981: InsecureRequestWarning: Unverified HTTPS request is being made to host '100.123.26.252'. Adding certificate verification is strongly advised. See: https://urllib3.readthedocs.io/en/latest/advanced-usage.html#ssl-warnings\n",
      "  warnings.warn(\n",
      "/opt/anaconda3/lib/python3.8/site-packages/urllib3/connectionpool.py:981: InsecureRequestWarning: Unverified HTTPS request is being made to host '100.123.26.252'. Adding certificate verification is strongly advised. See: https://urllib3.readthedocs.io/en/latest/advanced-usage.html#ssl-warnings\n",
      "  warnings.warn(\n",
      "/opt/anaconda3/lib/python3.8/site-packages/urllib3/connectionpool.py:981: InsecureRequestWarning: Unverified HTTPS request is being made to host '100.123.26.224'. Adding certificate verification is strongly advised. See: https://urllib3.readthedocs.io/en/latest/advanced-usage.html#ssl-warnings\n",
      "  warnings.warn(\n",
      "/opt/anaconda3/lib/python3.8/site-packages/urllib3/connectionpool.py:981: InsecureRequestWarning: Unverified HTTPS request is being made to host '100.123.26.252'. Adding certificate verification is strongly advised. See: https://urllib3.readthedocs.io/en/latest/advanced-usage.html#ssl-warnings\n",
      "  warnings.warn(\n"
     ]
    },
    {
     "name": "stdout",
     "output_type": "stream",
     "text": [
      " dato_param['total']  1 1\n",
      "https://100.123.26.252/api/v2/devices/BC:A9:93:0C:06:CE/performance?offset=0&start_time=202110211800&stop_time=202110211859\n",
      "1.-Fecha: 2021-10-21 19:07:08.893157 - Error bucle externo:  404  no trajo datos:  https://100.123.26.224/api/v2/devices/BC:A9:93:0C:06:CE/performance?start_time=202110211800&stop_time=202110211859\n",
      "1.-Fecha: 2021-10-21 19:07:08.893157 - Error bucle externo:  404  no trajo datos:  https://100.123.26.252/api/v2/devices/BC:A9:93:0C:06:D0/performance?start_time=202110211800&stop_time=202110211859\n"
     ]
    },
    {
     "name": "stderr",
     "output_type": "stream",
     "text": [
      "/opt/anaconda3/lib/python3.8/site-packages/urllib3/connectionpool.py:981: InsecureRequestWarning: Unverified HTTPS request is being made to host '100.123.26.252'. Adding certificate verification is strongly advised. See: https://urllib3.readthedocs.io/en/latest/advanced-usage.html#ssl-warnings\n",
      "  warnings.warn(\n",
      "/opt/anaconda3/lib/python3.8/site-packages/urllib3/connectionpool.py:981: InsecureRequestWarning: Unverified HTTPS request is being made to host '100.123.26.252'. Adding certificate verification is strongly advised. See: https://urllib3.readthedocs.io/en/latest/advanced-usage.html#ssl-warnings\n",
      "  warnings.warn(\n",
      "/opt/anaconda3/lib/python3.8/site-packages/urllib3/connectionpool.py:981: InsecureRequestWarning: Unverified HTTPS request is being made to host '100.123.26.224'. Adding certificate verification is strongly advised. See: https://urllib3.readthedocs.io/en/latest/advanced-usage.html#ssl-warnings\n",
      "  warnings.warn(\n",
      "/opt/anaconda3/lib/python3.8/site-packages/urllib3/connectionpool.py:981: InsecureRequestWarning: Unverified HTTPS request is being made to host '100.123.26.252'. Adding certificate verification is strongly advised. See: https://urllib3.readthedocs.io/en/latest/advanced-usage.html#ssl-warnings\n",
      "  warnings.warn(\n",
      "/opt/anaconda3/lib/python3.8/site-packages/urllib3/connectionpool.py:981: InsecureRequestWarning: Unverified HTTPS request is being made to host '100.123.26.252'. Adding certificate verification is strongly advised. See: https://urllib3.readthedocs.io/en/latest/advanced-usage.html#ssl-warnings\n",
      "  warnings.warn(\n"
     ]
    },
    {
     "name": "stdout",
     "output_type": "stream",
     "text": [
      " dato_param['total']  1 1\n",
      "https://100.123.26.252/api/v2/devices/BC:A9:93:0C:06:D1/performance?offset=0&start_time=202110211800&stop_time=202110211859\n",
      "1.-Fecha: 2021-10-21 19:07:08.893157 - Error bucle externo:  404  no trajo datos:  https://100.123.26.224/api/v2/devices/BC:A9:93:0C:06:D1/performance?start_time=202110211800&stop_time=202110211859\n",
      " dato_param['total']  12 1\n",
      "https://100.123.26.252/api/v2/devices/BC:A9:93:0C:06:D2/performance?offset=0&start_time=202110211800&stop_time=202110211859\n"
     ]
    },
    {
     "name": "stderr",
     "output_type": "stream",
     "text": [
      "/opt/anaconda3/lib/python3.8/site-packages/urllib3/connectionpool.py:981: InsecureRequestWarning: Unverified HTTPS request is being made to host '100.123.26.224'. Adding certificate verification is strongly advised. See: https://urllib3.readthedocs.io/en/latest/advanced-usage.html#ssl-warnings\n",
      "  warnings.warn(\n",
      "/opt/anaconda3/lib/python3.8/site-packages/urllib3/connectionpool.py:981: InsecureRequestWarning: Unverified HTTPS request is being made to host '100.123.26.252'. Adding certificate verification is strongly advised. See: https://urllib3.readthedocs.io/en/latest/advanced-usage.html#ssl-warnings\n",
      "  warnings.warn(\n",
      "/opt/anaconda3/lib/python3.8/site-packages/urllib3/connectionpool.py:981: InsecureRequestWarning: Unverified HTTPS request is being made to host '100.123.26.252'. Adding certificate verification is strongly advised. See: https://urllib3.readthedocs.io/en/latest/advanced-usage.html#ssl-warnings\n",
      "  warnings.warn(\n"
     ]
    },
    {
     "name": "stdout",
     "output_type": "stream",
     "text": [
      "1.-Fecha: 2021-10-21 19:07:08.893157 - Error bucle externo:  404  no trajo datos:  https://100.123.26.224/api/v2/devices/BC:A9:93:0C:06:D2/performance?start_time=202110211800&stop_time=202110211859\n",
      "1.-Fecha: 2021-10-21 19:07:08.893157 - Error bucle externo:  404  no trajo datos:  https://100.123.26.252/api/v2/devices/BC:A9:93:0C:06:D3/performance?start_time=202110211800&stop_time=202110211859\n",
      " dato_param['total']  1 1\n",
      "https://100.123.26.252/api/v2/devices/BC:A9:93:0C:06:D6/performance?offset=0&start_time=202110211800&stop_time=202110211859\n"
     ]
    },
    {
     "name": "stderr",
     "output_type": "stream",
     "text": [
      "/opt/anaconda3/lib/python3.8/site-packages/urllib3/connectionpool.py:981: InsecureRequestWarning: Unverified HTTPS request is being made to host '100.123.26.252'. Adding certificate verification is strongly advised. See: https://urllib3.readthedocs.io/en/latest/advanced-usage.html#ssl-warnings\n",
      "  warnings.warn(\n",
      "/opt/anaconda3/lib/python3.8/site-packages/urllib3/connectionpool.py:981: InsecureRequestWarning: Unverified HTTPS request is being made to host '100.123.26.224'. Adding certificate verification is strongly advised. See: https://urllib3.readthedocs.io/en/latest/advanced-usage.html#ssl-warnings\n",
      "  warnings.warn(\n",
      "/opt/anaconda3/lib/python3.8/site-packages/urllib3/connectionpool.py:981: InsecureRequestWarning: Unverified HTTPS request is being made to host '100.123.26.252'. Adding certificate verification is strongly advised. See: https://urllib3.readthedocs.io/en/latest/advanced-usage.html#ssl-warnings\n",
      "  warnings.warn(\n",
      "/opt/anaconda3/lib/python3.8/site-packages/urllib3/connectionpool.py:981: InsecureRequestWarning: Unverified HTTPS request is being made to host '100.123.26.252'. Adding certificate verification is strongly advised. See: https://urllib3.readthedocs.io/en/latest/advanced-usage.html#ssl-warnings\n",
      "  warnings.warn(\n"
     ]
    },
    {
     "name": "stdout",
     "output_type": "stream",
     "text": [
      "1.-Fecha: 2021-10-21 19:07:08.893157 - Error bucle externo:  404  no trajo datos:  https://100.123.26.224/api/v2/devices/BC:A9:93:0C:06:D6/performance?start_time=202110211800&stop_time=202110211859\n",
      "1.-Fecha: 2021-10-21 19:07:08.893157 - Error bucle externo:  404  no trajo datos:  https://100.123.26.252/api/v2/devices/BC:A9:93:0C:06:D7/performance?start_time=202110211800&stop_time=202110211859\n",
      "1.-Fecha: 2021-10-21 19:07:08.893157 - Error bucle externo:  404  no trajo datos:  https://100.123.26.252/api/v2/devices/BC:A9:93:0C:06:D8/performance?start_time=202110211800&stop_time=202110211859\n",
      "1.-Fecha: 2021-10-21 19:07:08.893157 - Error bucle externo:  404  no trajo datos:  https://100.123.26.252/api/v2/devices/BC:A9:93:0C:06:D9/performance?start_time=202110211800&stop_time=202110211859\n",
      " dato_param['total']  1 1\n",
      "https://100.123.26.252/api/v2/devices/BC:A9:93:0C:06:DA/performance?offset=0&start_time=202110211800&stop_time=202110211859\n"
     ]
    },
    {
     "name": "stderr",
     "output_type": "stream",
     "text": [
      "/opt/anaconda3/lib/python3.8/site-packages/urllib3/connectionpool.py:981: InsecureRequestWarning: Unverified HTTPS request is being made to host '100.123.26.252'. Adding certificate verification is strongly advised. See: https://urllib3.readthedocs.io/en/latest/advanced-usage.html#ssl-warnings\n",
      "  warnings.warn(\n",
      "/opt/anaconda3/lib/python3.8/site-packages/urllib3/connectionpool.py:981: InsecureRequestWarning: Unverified HTTPS request is being made to host '100.123.26.252'. Adding certificate verification is strongly advised. See: https://urllib3.readthedocs.io/en/latest/advanced-usage.html#ssl-warnings\n",
      "  warnings.warn(\n",
      "/opt/anaconda3/lib/python3.8/site-packages/urllib3/connectionpool.py:981: InsecureRequestWarning: Unverified HTTPS request is being made to host '100.123.26.252'. Adding certificate verification is strongly advised. See: https://urllib3.readthedocs.io/en/latest/advanced-usage.html#ssl-warnings\n",
      "  warnings.warn(\n",
      "/opt/anaconda3/lib/python3.8/site-packages/urllib3/connectionpool.py:981: InsecureRequestWarning: Unverified HTTPS request is being made to host '100.123.26.224'. Adding certificate verification is strongly advised. See: https://urllib3.readthedocs.io/en/latest/advanced-usage.html#ssl-warnings\n",
      "  warnings.warn(\n",
      "/opt/anaconda3/lib/python3.8/site-packages/urllib3/connectionpool.py:981: InsecureRequestWarning: Unverified HTTPS request is being made to host '100.123.26.252'. Adding certificate verification is strongly advised. See: https://urllib3.readthedocs.io/en/latest/advanced-usage.html#ssl-warnings\n",
      "  warnings.warn(\n",
      "/opt/anaconda3/lib/python3.8/site-packages/urllib3/connectionpool.py:981: InsecureRequestWarning: Unverified HTTPS request is being made to host '100.123.26.252'. Adding certificate verification is strongly advised. See: https://urllib3.readthedocs.io/en/latest/advanced-usage.html#ssl-warnings\n",
      "  warnings.warn(\n",
      "/opt/anaconda3/lib/python3.8/site-packages/urllib3/connectionpool.py:981: InsecureRequestWarning: Unverified HTTPS request is being made to host '100.123.26.252'. Adding certificate verification is strongly advised. See: https://urllib3.readthedocs.io/en/latest/advanced-usage.html#ssl-warnings\n",
      "  warnings.warn(\n"
     ]
    },
    {
     "name": "stdout",
     "output_type": "stream",
     "text": [
      "1.-Fecha: 2021-10-21 19:07:08.893157 - Error bucle externo:  404  no trajo datos:  https://100.123.26.224/api/v2/devices/BC:A9:93:0C:06:DA/performance?start_time=202110211800&stop_time=202110211859\n",
      "1.-Fecha: 2021-10-21 19:07:08.893157 - Error bucle externo:  404  no trajo datos:  https://100.123.26.252/api/v2/devices/BC:A9:93:0C:06:DB/performance?start_time=202110211800&stop_time=202110211859\n",
      " dato_param['total']  13 1\n",
      "https://100.123.26.252/api/v2/devices/BC:A9:93:0C:06:DC/performance?offset=0&start_time=202110211800&stop_time=202110211859\n"
     ]
    },
    {
     "name": "stderr",
     "output_type": "stream",
     "text": [
      "/opt/anaconda3/lib/python3.8/site-packages/urllib3/connectionpool.py:981: InsecureRequestWarning: Unverified HTTPS request is being made to host '100.123.26.224'. Adding certificate verification is strongly advised. See: https://urllib3.readthedocs.io/en/latest/advanced-usage.html#ssl-warnings\n",
      "  warnings.warn(\n",
      "/opt/anaconda3/lib/python3.8/site-packages/urllib3/connectionpool.py:981: InsecureRequestWarning: Unverified HTTPS request is being made to host '100.123.26.252'. Adding certificate verification is strongly advised. See: https://urllib3.readthedocs.io/en/latest/advanced-usage.html#ssl-warnings\n",
      "  warnings.warn(\n",
      "/opt/anaconda3/lib/python3.8/site-packages/urllib3/connectionpool.py:981: InsecureRequestWarning: Unverified HTTPS request is being made to host '100.123.26.252'. Adding certificate verification is strongly advised. See: https://urllib3.readthedocs.io/en/latest/advanced-usage.html#ssl-warnings\n",
      "  warnings.warn(\n",
      "/opt/anaconda3/lib/python3.8/site-packages/urllib3/connectionpool.py:981: InsecureRequestWarning: Unverified HTTPS request is being made to host '100.123.26.252'. Adding certificate verification is strongly advised. See: https://urllib3.readthedocs.io/en/latest/advanced-usage.html#ssl-warnings\n",
      "  warnings.warn(\n"
     ]
    },
    {
     "name": "stdout",
     "output_type": "stream",
     "text": [
      "1.-Fecha: 2021-10-21 19:07:08.893157 - Error bucle externo:  404  no trajo datos:  https://100.123.26.224/api/v2/devices/BC:A9:93:0C:06:DC/performance?start_time=202110211800&stop_time=202110211859\n",
      "1.-Fecha: 2021-10-21 19:07:08.893157 - Error bucle externo:  404  no trajo datos:  https://100.123.26.252/api/v2/devices/BC:A9:93:0C:06:DD/performance?start_time=202110211800&stop_time=202110211859\n",
      " dato_param['total']  13 1\n",
      "https://100.123.26.252/api/v2/devices/BC:A9:93:0C:06:DE/performance?offset=0&start_time=202110211800&stop_time=202110211859\n"
     ]
    },
    {
     "name": "stderr",
     "output_type": "stream",
     "text": [
      "/opt/anaconda3/lib/python3.8/site-packages/urllib3/connectionpool.py:981: InsecureRequestWarning: Unverified HTTPS request is being made to host '100.123.26.224'. Adding certificate verification is strongly advised. See: https://urllib3.readthedocs.io/en/latest/advanced-usage.html#ssl-warnings\n",
      "  warnings.warn(\n",
      "/opt/anaconda3/lib/python3.8/site-packages/urllib3/connectionpool.py:981: InsecureRequestWarning: Unverified HTTPS request is being made to host '100.123.26.252'. Adding certificate verification is strongly advised. See: https://urllib3.readthedocs.io/en/latest/advanced-usage.html#ssl-warnings\n",
      "  warnings.warn(\n",
      "/opt/anaconda3/lib/python3.8/site-packages/urllib3/connectionpool.py:981: InsecureRequestWarning: Unverified HTTPS request is being made to host '100.123.26.252'. Adding certificate verification is strongly advised. See: https://urllib3.readthedocs.io/en/latest/advanced-usage.html#ssl-warnings\n",
      "  warnings.warn(\n",
      "/opt/anaconda3/lib/python3.8/site-packages/urllib3/connectionpool.py:981: InsecureRequestWarning: Unverified HTTPS request is being made to host '100.123.26.224'. Adding certificate verification is strongly advised. See: https://urllib3.readthedocs.io/en/latest/advanced-usage.html#ssl-warnings\n",
      "  warnings.warn(\n"
     ]
    },
    {
     "name": "stdout",
     "output_type": "stream",
     "text": [
      "1.-Fecha: 2021-10-21 19:07:08.893157 - Error bucle externo:  404  no trajo datos:  https://100.123.26.224/api/v2/devices/BC:A9:93:0C:06:DE/performance?start_time=202110211800&stop_time=202110211859\n",
      " dato_param['total']  13 1\n",
      "https://100.123.26.252/api/v2/devices/BC:A9:93:0C:06:DF/performance?offset=0&start_time=202110211800&stop_time=202110211859\n",
      "1.-Fecha: 2021-10-21 19:07:08.893157 - Error bucle externo:  404  no trajo datos:  https://100.123.26.224/api/v2/devices/BC:A9:93:0C:06:DF/performance?start_time=202110211800&stop_time=202110211859\n"
     ]
    },
    {
     "name": "stderr",
     "output_type": "stream",
     "text": [
      "/opt/anaconda3/lib/python3.8/site-packages/urllib3/connectionpool.py:981: InsecureRequestWarning: Unverified HTTPS request is being made to host '100.123.26.252'. Adding certificate verification is strongly advised. See: https://urllib3.readthedocs.io/en/latest/advanced-usage.html#ssl-warnings\n",
      "  warnings.warn(\n",
      "/opt/anaconda3/lib/python3.8/site-packages/urllib3/connectionpool.py:981: InsecureRequestWarning: Unverified HTTPS request is being made to host '100.123.26.252'. Adding certificate verification is strongly advised. See: https://urllib3.readthedocs.io/en/latest/advanced-usage.html#ssl-warnings\n",
      "  warnings.warn(\n",
      "/opt/anaconda3/lib/python3.8/site-packages/urllib3/connectionpool.py:981: InsecureRequestWarning: Unverified HTTPS request is being made to host '100.123.26.224'. Adding certificate verification is strongly advised. See: https://urllib3.readthedocs.io/en/latest/advanced-usage.html#ssl-warnings\n",
      "  warnings.warn(\n"
     ]
    },
    {
     "name": "stdout",
     "output_type": "stream",
     "text": [
      " dato_param['total']  1 1\n",
      "https://100.123.26.252/api/v2/devices/BC:A9:93:0C:06:E0/performance?offset=0&start_time=202110211800&stop_time=202110211859\n",
      "1.-Fecha: 2021-10-21 19:07:08.893157 - Error bucle externo:  404  no trajo datos:  https://100.123.26.224/api/v2/devices/BC:A9:93:0C:06:E0/performance?start_time=202110211800&stop_time=202110211859\n",
      " dato_param['total']  1 1\n",
      "https://100.123.26.252/api/v2/devices/BC:A9:93:0C:06:E1/performance?offset=0&start_time=202110211800&stop_time=202110211859\n"
     ]
    },
    {
     "name": "stderr",
     "output_type": "stream",
     "text": [
      "/opt/anaconda3/lib/python3.8/site-packages/urllib3/connectionpool.py:981: InsecureRequestWarning: Unverified HTTPS request is being made to host '100.123.26.252'. Adding certificate verification is strongly advised. See: https://urllib3.readthedocs.io/en/latest/advanced-usage.html#ssl-warnings\n",
      "  warnings.warn(\n",
      "/opt/anaconda3/lib/python3.8/site-packages/urllib3/connectionpool.py:981: InsecureRequestWarning: Unverified HTTPS request is being made to host '100.123.26.252'. Adding certificate verification is strongly advised. See: https://urllib3.readthedocs.io/en/latest/advanced-usage.html#ssl-warnings\n",
      "  warnings.warn(\n",
      "/opt/anaconda3/lib/python3.8/site-packages/urllib3/connectionpool.py:981: InsecureRequestWarning: Unverified HTTPS request is being made to host '100.123.26.224'. Adding certificate verification is strongly advised. See: https://urllib3.readthedocs.io/en/latest/advanced-usage.html#ssl-warnings\n",
      "  warnings.warn(\n",
      "/opt/anaconda3/lib/python3.8/site-packages/urllib3/connectionpool.py:981: InsecureRequestWarning: Unverified HTTPS request is being made to host '100.123.26.252'. Adding certificate verification is strongly advised. See: https://urllib3.readthedocs.io/en/latest/advanced-usage.html#ssl-warnings\n",
      "  warnings.warn(\n",
      "/opt/anaconda3/lib/python3.8/site-packages/urllib3/connectionpool.py:981: InsecureRequestWarning: Unverified HTTPS request is being made to host '100.123.26.252'. Adding certificate verification is strongly advised. See: https://urllib3.readthedocs.io/en/latest/advanced-usage.html#ssl-warnings\n",
      "  warnings.warn(\n"
     ]
    },
    {
     "name": "stdout",
     "output_type": "stream",
     "text": [
      "1.-Fecha: 2021-10-21 19:07:08.893157 - Error bucle externo:  404  no trajo datos:  https://100.123.26.224/api/v2/devices/BC:A9:93:0C:06:E1/performance?start_time=202110211800&stop_time=202110211859\n",
      " dato_param['total']  13 1\n",
      "https://100.123.26.252/api/v2/devices/BC:A9:93:0C:06:E2/performance?offset=0&start_time=202110211800&stop_time=202110211859\n",
      "1.-Fecha: 2021-10-21 19:07:08.893157 - Error bucle externo:  404  no trajo datos:  https://100.123.26.224/api/v2/devices/BC:A9:93:0C:06:E2/performance?start_time=202110211800&stop_time=202110211859\n"
     ]
    },
    {
     "name": "stderr",
     "output_type": "stream",
     "text": [
      "/opt/anaconda3/lib/python3.8/site-packages/urllib3/connectionpool.py:981: InsecureRequestWarning: Unverified HTTPS request is being made to host '100.123.26.224'. Adding certificate verification is strongly advised. See: https://urllib3.readthedocs.io/en/latest/advanced-usage.html#ssl-warnings\n",
      "  warnings.warn(\n",
      "/opt/anaconda3/lib/python3.8/site-packages/urllib3/connectionpool.py:981: InsecureRequestWarning: Unverified HTTPS request is being made to host '100.123.26.252'. Adding certificate verification is strongly advised. See: https://urllib3.readthedocs.io/en/latest/advanced-usage.html#ssl-warnings\n",
      "  warnings.warn(\n",
      "/opt/anaconda3/lib/python3.8/site-packages/urllib3/connectionpool.py:981: InsecureRequestWarning: Unverified HTTPS request is being made to host '100.123.26.252'. Adding certificate verification is strongly advised. See: https://urllib3.readthedocs.io/en/latest/advanced-usage.html#ssl-warnings\n",
      "  warnings.warn(\n",
      "/opt/anaconda3/lib/python3.8/site-packages/urllib3/connectionpool.py:981: InsecureRequestWarning: Unverified HTTPS request is being made to host '100.123.26.252'. Adding certificate verification is strongly advised. See: https://urllib3.readthedocs.io/en/latest/advanced-usage.html#ssl-warnings\n",
      "  warnings.warn(\n"
     ]
    },
    {
     "name": "stdout",
     "output_type": "stream",
     "text": [
      "1.-Fecha: 2021-10-21 19:07:08.893157 - Error bucle externo:  404  no trajo datos:  https://100.123.26.252/api/v2/devices/BC:A9:93:0C:06:E4/performance?start_time=202110211800&stop_time=202110211859\n",
      "1.-Fecha: 2021-10-21 19:07:08.893157 - Error bucle externo:  404  no trajo datos:  https://100.123.26.252/api/v2/devices/BC:A9:93:0C:06:E9/performance?start_time=202110211800&stop_time=202110211859\n",
      " dato_param['total']  1 1\n",
      "https://100.123.26.252/api/v2/devices/BC:A9:93:0C:06:EB/performance?offset=0&start_time=202110211800&stop_time=202110211859\n"
     ]
    },
    {
     "name": "stderr",
     "output_type": "stream",
     "text": [
      "/opt/anaconda3/lib/python3.8/site-packages/urllib3/connectionpool.py:981: InsecureRequestWarning: Unverified HTTPS request is being made to host '100.123.26.252'. Adding certificate verification is strongly advised. See: https://urllib3.readthedocs.io/en/latest/advanced-usage.html#ssl-warnings\n",
      "  warnings.warn(\n",
      "/opt/anaconda3/lib/python3.8/site-packages/urllib3/connectionpool.py:981: InsecureRequestWarning: Unverified HTTPS request is being made to host '100.123.26.224'. Adding certificate verification is strongly advised. See: https://urllib3.readthedocs.io/en/latest/advanced-usage.html#ssl-warnings\n",
      "  warnings.warn(\n",
      "/opt/anaconda3/lib/python3.8/site-packages/urllib3/connectionpool.py:981: InsecureRequestWarning: Unverified HTTPS request is being made to host '100.123.26.252'. Adding certificate verification is strongly advised. See: https://urllib3.readthedocs.io/en/latest/advanced-usage.html#ssl-warnings\n",
      "  warnings.warn(\n",
      "/opt/anaconda3/lib/python3.8/site-packages/urllib3/connectionpool.py:981: InsecureRequestWarning: Unverified HTTPS request is being made to host '100.123.26.252'. Adding certificate verification is strongly advised. See: https://urllib3.readthedocs.io/en/latest/advanced-usage.html#ssl-warnings\n",
      "  warnings.warn(\n"
     ]
    },
    {
     "name": "stdout",
     "output_type": "stream",
     "text": [
      "1.-Fecha: 2021-10-21 19:07:08.893157 - Error bucle externo:  404  no trajo datos:  https://100.123.26.224/api/v2/devices/BC:A9:93:0C:06:EB/performance?start_time=202110211800&stop_time=202110211859\n",
      " dato_param['total']  13 1\n",
      "https://100.123.26.252/api/v2/devices/BC:A9:93:0C:06:EC/performance?offset=0&start_time=202110211800&stop_time=202110211859\n",
      "1.-Fecha: 2021-10-21 19:07:08.893157 - Error bucle externo:  404  no trajo datos:  https://100.123.26.224/api/v2/devices/BC:A9:93:0C:06:EC/performance?start_time=202110211800&stop_time=202110211859\n"
     ]
    },
    {
     "name": "stderr",
     "output_type": "stream",
     "text": [
      "/opt/anaconda3/lib/python3.8/site-packages/urllib3/connectionpool.py:981: InsecureRequestWarning: Unverified HTTPS request is being made to host '100.123.26.224'. Adding certificate verification is strongly advised. See: https://urllib3.readthedocs.io/en/latest/advanced-usage.html#ssl-warnings\n",
      "  warnings.warn(\n",
      "/opt/anaconda3/lib/python3.8/site-packages/urllib3/connectionpool.py:981: InsecureRequestWarning: Unverified HTTPS request is being made to host '100.123.26.252'. Adding certificate verification is strongly advised. See: https://urllib3.readthedocs.io/en/latest/advanced-usage.html#ssl-warnings\n",
      "  warnings.warn(\n",
      "/opt/anaconda3/lib/python3.8/site-packages/urllib3/connectionpool.py:981: InsecureRequestWarning: Unverified HTTPS request is being made to host '100.123.26.252'. Adding certificate verification is strongly advised. See: https://urllib3.readthedocs.io/en/latest/advanced-usage.html#ssl-warnings\n",
      "  warnings.warn(\n",
      "/opt/anaconda3/lib/python3.8/site-packages/urllib3/connectionpool.py:981: InsecureRequestWarning: Unverified HTTPS request is being made to host '100.123.26.224'. Adding certificate verification is strongly advised. See: https://urllib3.readthedocs.io/en/latest/advanced-usage.html#ssl-warnings\n",
      "  warnings.warn(\n"
     ]
    },
    {
     "name": "stdout",
     "output_type": "stream",
     "text": [
      " dato_param['total']  1 1\n",
      "https://100.123.26.252/api/v2/devices/BC:A9:93:0C:06:ED/performance?offset=0&start_time=202110211800&stop_time=202110211859\n",
      "1.-Fecha: 2021-10-21 19:07:08.893157 - Error bucle externo:  404  no trajo datos:  https://100.123.26.224/api/v2/devices/BC:A9:93:0C:06:ED/performance?start_time=202110211800&stop_time=202110211859\n",
      " dato_param['total']  12 1\n",
      "https://100.123.26.252/api/v2/devices/BC:A9:93:0C:06:EE/performance?offset=0&start_time=202110211800&stop_time=202110211859\n"
     ]
    },
    {
     "name": "stderr",
     "output_type": "stream",
     "text": [
      "/opt/anaconda3/lib/python3.8/site-packages/urllib3/connectionpool.py:981: InsecureRequestWarning: Unverified HTTPS request is being made to host '100.123.26.252'. Adding certificate verification is strongly advised. See: https://urllib3.readthedocs.io/en/latest/advanced-usage.html#ssl-warnings\n",
      "  warnings.warn(\n",
      "/opt/anaconda3/lib/python3.8/site-packages/urllib3/connectionpool.py:981: InsecureRequestWarning: Unverified HTTPS request is being made to host '100.123.26.252'. Adding certificate verification is strongly advised. See: https://urllib3.readthedocs.io/en/latest/advanced-usage.html#ssl-warnings\n",
      "  warnings.warn(\n",
      "/opt/anaconda3/lib/python3.8/site-packages/urllib3/connectionpool.py:981: InsecureRequestWarning: Unverified HTTPS request is being made to host '100.123.26.224'. Adding certificate verification is strongly advised. See: https://urllib3.readthedocs.io/en/latest/advanced-usage.html#ssl-warnings\n",
      "  warnings.warn(\n"
     ]
    },
    {
     "name": "stdout",
     "output_type": "stream",
     "text": [
      "1.-Fecha: 2021-10-21 19:07:08.893157 - Error bucle externo:  404  no trajo datos:  https://100.123.26.224/api/v2/devices/BC:A9:93:0C:06:EE/performance?start_time=202110211800&stop_time=202110211859\n",
      "1.-Fecha: 2021-10-21 19:07:08.893157 - Error bucle externo:  404  no trajo datos:  https://100.123.26.252/api/v2/devices/BC:A9:93:0C:06:F0/performance?start_time=202110211800&stop_time=202110211859\n",
      " dato_param['total']  13 1\n",
      "https://100.123.26.252/api/v2/devices/BC:A9:93:0C:06:F3/performance?offset=0&start_time=202110211800&stop_time=202110211859\n",
      "1.-Fecha: 2021-10-21 19:07:08.893157 - Error bucle externo:  404  no trajo datos:  https://100.123.26.224/api/v2/devices/BC:A9:93:0C:06:F3/performance?start_time=202110211800&stop_time=202110211859\n"
     ]
    },
    {
     "name": "stderr",
     "output_type": "stream",
     "text": [
      "/opt/anaconda3/lib/python3.8/site-packages/urllib3/connectionpool.py:981: InsecureRequestWarning: Unverified HTTPS request is being made to host '100.123.26.252'. Adding certificate verification is strongly advised. See: https://urllib3.readthedocs.io/en/latest/advanced-usage.html#ssl-warnings\n",
      "  warnings.warn(\n",
      "/opt/anaconda3/lib/python3.8/site-packages/urllib3/connectionpool.py:981: InsecureRequestWarning: Unverified HTTPS request is being made to host '100.123.26.252'. Adding certificate verification is strongly advised. See: https://urllib3.readthedocs.io/en/latest/advanced-usage.html#ssl-warnings\n",
      "  warnings.warn(\n",
      "/opt/anaconda3/lib/python3.8/site-packages/urllib3/connectionpool.py:981: InsecureRequestWarning: Unverified HTTPS request is being made to host '100.123.26.252'. Adding certificate verification is strongly advised. See: https://urllib3.readthedocs.io/en/latest/advanced-usage.html#ssl-warnings\n",
      "  warnings.warn(\n",
      "/opt/anaconda3/lib/python3.8/site-packages/urllib3/connectionpool.py:981: InsecureRequestWarning: Unverified HTTPS request is being made to host '100.123.26.224'. Adding certificate verification is strongly advised. See: https://urllib3.readthedocs.io/en/latest/advanced-usage.html#ssl-warnings\n",
      "  warnings.warn(\n",
      "/opt/anaconda3/lib/python3.8/site-packages/urllib3/connectionpool.py:981: InsecureRequestWarning: Unverified HTTPS request is being made to host '100.123.26.252'. Adding certificate verification is strongly advised. See: https://urllib3.readthedocs.io/en/latest/advanced-usage.html#ssl-warnings\n",
      "  warnings.warn(\n"
     ]
    },
    {
     "name": "stdout",
     "output_type": "stream",
     "text": [
      "1.-Fecha: 2021-10-21 19:07:08.893157 - Error bucle externo:  404  no trajo datos:  https://100.123.26.252/api/v2/devices/BC:A9:93:0C:06:F5/performance?start_time=202110211800&stop_time=202110211859\n",
      "1.-Fecha: 2021-10-21 19:07:08.893157 - Error bucle externo:  404  no trajo datos:  https://100.123.26.252/api/v2/devices/BC:A9:93:0C:06:F6/performance?start_time=202110211800&stop_time=202110211859\n",
      " dato_param['total']  1 1\n",
      "https://100.123.26.252/api/v2/devices/BC:A9:93:0C:06:F8/performance?offset=0&start_time=202110211800&stop_time=202110211859\n"
     ]
    },
    {
     "name": "stderr",
     "output_type": "stream",
     "text": [
      "/opt/anaconda3/lib/python3.8/site-packages/urllib3/connectionpool.py:981: InsecureRequestWarning: Unverified HTTPS request is being made to host '100.123.26.252'. Adding certificate verification is strongly advised. See: https://urllib3.readthedocs.io/en/latest/advanced-usage.html#ssl-warnings\n",
      "  warnings.warn(\n",
      "/opt/anaconda3/lib/python3.8/site-packages/urllib3/connectionpool.py:981: InsecureRequestWarning: Unverified HTTPS request is being made to host '100.123.26.252'. Adding certificate verification is strongly advised. See: https://urllib3.readthedocs.io/en/latest/advanced-usage.html#ssl-warnings\n",
      "  warnings.warn(\n",
      "/opt/anaconda3/lib/python3.8/site-packages/urllib3/connectionpool.py:981: InsecureRequestWarning: Unverified HTTPS request is being made to host '100.123.26.252'. Adding certificate verification is strongly advised. See: https://urllib3.readthedocs.io/en/latest/advanced-usage.html#ssl-warnings\n",
      "  warnings.warn(\n",
      "/opt/anaconda3/lib/python3.8/site-packages/urllib3/connectionpool.py:981: InsecureRequestWarning: Unverified HTTPS request is being made to host '100.123.26.224'. Adding certificate verification is strongly advised. See: https://urllib3.readthedocs.io/en/latest/advanced-usage.html#ssl-warnings\n",
      "  warnings.warn(\n",
      "/opt/anaconda3/lib/python3.8/site-packages/urllib3/connectionpool.py:981: InsecureRequestWarning: Unverified HTTPS request is being made to host '100.123.26.252'. Adding certificate verification is strongly advised. See: https://urllib3.readthedocs.io/en/latest/advanced-usage.html#ssl-warnings\n",
      "  warnings.warn(\n",
      "/opt/anaconda3/lib/python3.8/site-packages/urllib3/connectionpool.py:981: InsecureRequestWarning: Unverified HTTPS request is being made to host '100.123.26.252'. Adding certificate verification is strongly advised. See: https://urllib3.readthedocs.io/en/latest/advanced-usage.html#ssl-warnings\n",
      "  warnings.warn(\n",
      "/opt/anaconda3/lib/python3.8/site-packages/urllib3/connectionpool.py:981: InsecureRequestWarning: Unverified HTTPS request is being made to host '100.123.26.252'. Adding certificate verification is strongly advised. See: https://urllib3.readthedocs.io/en/latest/advanced-usage.html#ssl-warnings\n",
      "  warnings.warn(\n",
      "/opt/anaconda3/lib/python3.8/site-packages/urllib3/connectionpool.py:981: InsecureRequestWarning: Unverified HTTPS request is being made to host '100.123.26.252'. Adding certificate verification is strongly advised. See: https://urllib3.readthedocs.io/en/latest/advanced-usage.html#ssl-warnings\n",
      "  warnings.warn(\n"
     ]
    },
    {
     "name": "stdout",
     "output_type": "stream",
     "text": [
      "1.-Fecha: 2021-10-21 19:07:08.893157 - Error bucle externo:  404  no trajo datos:  https://100.123.26.224/api/v2/devices/BC:A9:93:0C:06:F8/performance?start_time=202110211800&stop_time=202110211859\n",
      "1.-Fecha: 2021-10-21 19:07:08.893157 - Error bucle externo:  404  no trajo datos:  https://100.123.26.252/api/v2/devices/BC:A9:93:0C:06:FB/performance?start_time=202110211800&stop_time=202110211859\n",
      "1.-Fecha: 2021-10-21 19:07:08.893157 - Error bucle externo:  404  no trajo datos:  https://100.123.26.252/api/v2/devices/BC:A9:93:0C:06:FD/performance?start_time=202110211800&stop_time=202110211859\n",
      " dato_param['total']  13 1\n",
      "https://100.123.26.252/api/v2/devices/BC:A9:93:0C:06:FE/performance?offset=0&start_time=202110211800&stop_time=202110211859\n"
     ]
    },
    {
     "name": "stderr",
     "output_type": "stream",
     "text": [
      "/opt/anaconda3/lib/python3.8/site-packages/urllib3/connectionpool.py:981: InsecureRequestWarning: Unverified HTTPS request is being made to host '100.123.26.224'. Adding certificate verification is strongly advised. See: https://urllib3.readthedocs.io/en/latest/advanced-usage.html#ssl-warnings\n",
      "  warnings.warn(\n",
      "/opt/anaconda3/lib/python3.8/site-packages/urllib3/connectionpool.py:981: InsecureRequestWarning: Unverified HTTPS request is being made to host '100.123.26.252'. Adding certificate verification is strongly advised. See: https://urllib3.readthedocs.io/en/latest/advanced-usage.html#ssl-warnings\n",
      "  warnings.warn(\n",
      "/opt/anaconda3/lib/python3.8/site-packages/urllib3/connectionpool.py:981: InsecureRequestWarning: Unverified HTTPS request is being made to host '100.123.26.252'. Adding certificate verification is strongly advised. See: https://urllib3.readthedocs.io/en/latest/advanced-usage.html#ssl-warnings\n",
      "  warnings.warn(\n",
      "/opt/anaconda3/lib/python3.8/site-packages/urllib3/connectionpool.py:981: InsecureRequestWarning: Unverified HTTPS request is being made to host '100.123.26.224'. Adding certificate verification is strongly advised. See: https://urllib3.readthedocs.io/en/latest/advanced-usage.html#ssl-warnings\n",
      "  warnings.warn(\n"
     ]
    },
    {
     "name": "stdout",
     "output_type": "stream",
     "text": [
      "1.-Fecha: 2021-10-21 19:07:08.893157 - Error bucle externo:  404  no trajo datos:  https://100.123.26.224/api/v2/devices/BC:A9:93:0C:06:FE/performance?start_time=202110211800&stop_time=202110211859\n",
      " dato_param['total']  1 1\n",
      "https://100.123.26.252/api/v2/devices/BC:A9:93:0C:07:02/performance?offset=0&start_time=202110211800&stop_time=202110211859\n",
      "1.-Fecha: 2021-10-21 19:07:08.893157 - Error bucle externo:  404  no trajo datos:  https://100.123.26.224/api/v2/devices/BC:A9:93:0C:07:02/performance?start_time=202110211800&stop_time=202110211859\n",
      "1.-Fecha: 2021-10-21 19:07:08.893157 - Error bucle externo:  404  no trajo datos:  https://100.123.26.252/api/v2/devices/BC:A9:93:0C:07:04/performance?start_time=202110211800&stop_time=202110211859\n"
     ]
    },
    {
     "name": "stderr",
     "output_type": "stream",
     "text": [
      "/opt/anaconda3/lib/python3.8/site-packages/urllib3/connectionpool.py:981: InsecureRequestWarning: Unverified HTTPS request is being made to host '100.123.26.252'. Adding certificate verification is strongly advised. See: https://urllib3.readthedocs.io/en/latest/advanced-usage.html#ssl-warnings\n",
      "  warnings.warn(\n",
      "/opt/anaconda3/lib/python3.8/site-packages/urllib3/connectionpool.py:981: InsecureRequestWarning: Unverified HTTPS request is being made to host '100.123.26.252'. Adding certificate verification is strongly advised. See: https://urllib3.readthedocs.io/en/latest/advanced-usage.html#ssl-warnings\n",
      "  warnings.warn(\n",
      "/opt/anaconda3/lib/python3.8/site-packages/urllib3/connectionpool.py:981: InsecureRequestWarning: Unverified HTTPS request is being made to host '100.123.26.252'. Adding certificate verification is strongly advised. See: https://urllib3.readthedocs.io/en/latest/advanced-usage.html#ssl-warnings\n",
      "  warnings.warn(\n",
      "/opt/anaconda3/lib/python3.8/site-packages/urllib3/connectionpool.py:981: InsecureRequestWarning: Unverified HTTPS request is being made to host '100.123.26.252'. Adding certificate verification is strongly advised. See: https://urllib3.readthedocs.io/en/latest/advanced-usage.html#ssl-warnings\n",
      "  warnings.warn(\n"
     ]
    },
    {
     "name": "stdout",
     "output_type": "stream",
     "text": [
      "1.-Fecha: 2021-10-21 19:07:08.893157 - Error bucle externo:  404  no trajo datos:  https://100.123.26.252/api/v2/devices/BC:A9:93:0C:07:05/performance?start_time=202110211800&stop_time=202110211859\n",
      " dato_param['total']  13 1\n",
      "https://100.123.26.252/api/v2/devices/BC:A9:93:0C:07:06/performance?offset=0&start_time=202110211800&stop_time=202110211859\n",
      "1.-Fecha: 2021-10-21 19:07:08.893157 - Error bucle externo:  404  no trajo datos:  https://100.123.26.224/api/v2/devices/BC:A9:93:0C:07:06/performance?start_time=202110211800&stop_time=202110211859\n"
     ]
    },
    {
     "name": "stderr",
     "output_type": "stream",
     "text": [
      "/opt/anaconda3/lib/python3.8/site-packages/urllib3/connectionpool.py:981: InsecureRequestWarning: Unverified HTTPS request is being made to host '100.123.26.224'. Adding certificate verification is strongly advised. See: https://urllib3.readthedocs.io/en/latest/advanced-usage.html#ssl-warnings\n",
      "  warnings.warn(\n",
      "/opt/anaconda3/lib/python3.8/site-packages/urllib3/connectionpool.py:981: InsecureRequestWarning: Unverified HTTPS request is being made to host '100.123.26.252'. Adding certificate verification is strongly advised. See: https://urllib3.readthedocs.io/en/latest/advanced-usage.html#ssl-warnings\n",
      "  warnings.warn(\n",
      "/opt/anaconda3/lib/python3.8/site-packages/urllib3/connectionpool.py:981: InsecureRequestWarning: Unverified HTTPS request is being made to host '100.123.26.252'. Adding certificate verification is strongly advised. See: https://urllib3.readthedocs.io/en/latest/advanced-usage.html#ssl-warnings\n",
      "  warnings.warn(\n",
      "/opt/anaconda3/lib/python3.8/site-packages/urllib3/connectionpool.py:981: InsecureRequestWarning: Unverified HTTPS request is being made to host '100.123.26.224'. Adding certificate verification is strongly advised. See: https://urllib3.readthedocs.io/en/latest/advanced-usage.html#ssl-warnings\n",
      "  warnings.warn(\n"
     ]
    },
    {
     "name": "stdout",
     "output_type": "stream",
     "text": [
      " dato_param['total']  13 1\n",
      "https://100.123.26.252/api/v2/devices/BC:A9:93:0C:07:07/performance?offset=0&start_time=202110211800&stop_time=202110211859\n",
      "1.-Fecha: 2021-10-21 19:07:08.893157 - Error bucle externo:  404  no trajo datos:  https://100.123.26.224/api/v2/devices/BC:A9:93:0C:07:07/performance?start_time=202110211800&stop_time=202110211859\n"
     ]
    },
    {
     "name": "stderr",
     "output_type": "stream",
     "text": [
      "/opt/anaconda3/lib/python3.8/site-packages/urllib3/connectionpool.py:981: InsecureRequestWarning: Unverified HTTPS request is being made to host '100.123.26.252'. Adding certificate verification is strongly advised. See: https://urllib3.readthedocs.io/en/latest/advanced-usage.html#ssl-warnings\n",
      "  warnings.warn(\n",
      "/opt/anaconda3/lib/python3.8/site-packages/urllib3/connectionpool.py:981: InsecureRequestWarning: Unverified HTTPS request is being made to host '100.123.26.252'. Adding certificate verification is strongly advised. See: https://urllib3.readthedocs.io/en/latest/advanced-usage.html#ssl-warnings\n",
      "  warnings.warn(\n",
      "/opt/anaconda3/lib/python3.8/site-packages/urllib3/connectionpool.py:981: InsecureRequestWarning: Unverified HTTPS request is being made to host '100.123.26.224'. Adding certificate verification is strongly advised. See: https://urllib3.readthedocs.io/en/latest/advanced-usage.html#ssl-warnings\n",
      "  warnings.warn(\n"
     ]
    },
    {
     "name": "stdout",
     "output_type": "stream",
     "text": [
      " dato_param['total']  12 1\n",
      "https://100.123.26.252/api/v2/devices/BC:A9:93:0C:07:0A/performance?offset=0&start_time=202110211800&stop_time=202110211859\n",
      "1.-Fecha: 2021-10-21 19:07:08.893157 - Error bucle externo:  404  no trajo datos:  https://100.123.26.224/api/v2/devices/BC:A9:93:0C:07:0A/performance?start_time=202110211800&stop_time=202110211859\n",
      " dato_param['total']  13 1\n",
      "https://100.123.26.252/api/v2/devices/BC:A9:93:0C:07:0C/performance?offset=0&start_time=202110211800&stop_time=202110211859\n"
     ]
    },
    {
     "name": "stderr",
     "output_type": "stream",
     "text": [
      "/opt/anaconda3/lib/python3.8/site-packages/urllib3/connectionpool.py:981: InsecureRequestWarning: Unverified HTTPS request is being made to host '100.123.26.252'. Adding certificate verification is strongly advised. See: https://urllib3.readthedocs.io/en/latest/advanced-usage.html#ssl-warnings\n",
      "  warnings.warn(\n",
      "/opt/anaconda3/lib/python3.8/site-packages/urllib3/connectionpool.py:981: InsecureRequestWarning: Unverified HTTPS request is being made to host '100.123.26.252'. Adding certificate verification is strongly advised. See: https://urllib3.readthedocs.io/en/latest/advanced-usage.html#ssl-warnings\n",
      "  warnings.warn(\n",
      "/opt/anaconda3/lib/python3.8/site-packages/urllib3/connectionpool.py:981: InsecureRequestWarning: Unverified HTTPS request is being made to host '100.123.26.224'. Adding certificate verification is strongly advised. See: https://urllib3.readthedocs.io/en/latest/advanced-usage.html#ssl-warnings\n",
      "  warnings.warn(\n",
      "/opt/anaconda3/lib/python3.8/site-packages/urllib3/connectionpool.py:981: InsecureRequestWarning: Unverified HTTPS request is being made to host '100.123.26.252'. Adding certificate verification is strongly advised. See: https://urllib3.readthedocs.io/en/latest/advanced-usage.html#ssl-warnings\n",
      "  warnings.warn(\n",
      "/opt/anaconda3/lib/python3.8/site-packages/urllib3/connectionpool.py:981: InsecureRequestWarning: Unverified HTTPS request is being made to host '100.123.26.252'. Adding certificate verification is strongly advised. See: https://urllib3.readthedocs.io/en/latest/advanced-usage.html#ssl-warnings\n",
      "  warnings.warn(\n"
     ]
    },
    {
     "name": "stdout",
     "output_type": "stream",
     "text": [
      "1.-Fecha: 2021-10-21 19:07:08.893157 - Error bucle externo:  404  no trajo datos:  https://100.123.26.224/api/v2/devices/BC:A9:93:0C:07:0C/performance?start_time=202110211800&stop_time=202110211859\n",
      "1.-Fecha: 2021-10-21 19:07:08.893157 - Error bucle externo:  422  no trajo datos:  https://100.123.26.252/api/v2/devices/BC:A9:93:0C:07:0F/performance?start_time=202110211800&stop_time=202110211859\n",
      " dato_param['total']  1 1\n",
      "https://100.123.26.252/api/v2/devices/BC:A9:93:0C:07:10/performance?offset=0&start_time=202110211800&stop_time=202110211859\n"
     ]
    },
    {
     "name": "stderr",
     "output_type": "stream",
     "text": [
      "/opt/anaconda3/lib/python3.8/site-packages/urllib3/connectionpool.py:981: InsecureRequestWarning: Unverified HTTPS request is being made to host '100.123.26.252'. Adding certificate verification is strongly advised. See: https://urllib3.readthedocs.io/en/latest/advanced-usage.html#ssl-warnings\n",
      "  warnings.warn(\n",
      "/opt/anaconda3/lib/python3.8/site-packages/urllib3/connectionpool.py:981: InsecureRequestWarning: Unverified HTTPS request is being made to host '100.123.26.224'. Adding certificate verification is strongly advised. See: https://urllib3.readthedocs.io/en/latest/advanced-usage.html#ssl-warnings\n",
      "  warnings.warn(\n",
      "/opt/anaconda3/lib/python3.8/site-packages/urllib3/connectionpool.py:981: InsecureRequestWarning: Unverified HTTPS request is being made to host '100.123.26.252'. Adding certificate verification is strongly advised. See: https://urllib3.readthedocs.io/en/latest/advanced-usage.html#ssl-warnings\n",
      "  warnings.warn(\n",
      "/opt/anaconda3/lib/python3.8/site-packages/urllib3/connectionpool.py:981: InsecureRequestWarning: Unverified HTTPS request is being made to host '100.123.26.252'. Adding certificate verification is strongly advised. See: https://urllib3.readthedocs.io/en/latest/advanced-usage.html#ssl-warnings\n",
      "  warnings.warn(\n"
     ]
    },
    {
     "name": "stdout",
     "output_type": "stream",
     "text": [
      "1.-Fecha: 2021-10-21 19:07:08.893157 - Error bucle externo:  404  no trajo datos:  https://100.123.26.224/api/v2/devices/BC:A9:93:0C:07:10/performance?start_time=202110211800&stop_time=202110211859\n",
      " dato_param['total']  1 1\n",
      "https://100.123.26.252/api/v2/devices/BC:A9:93:0C:07:12/performance?offset=0&start_time=202110211800&stop_time=202110211859\n",
      "1.-Fecha: 2021-10-21 19:07:08.893157 - Error bucle externo:  404  no trajo datos:  https://100.123.26.224/api/v2/devices/BC:A9:93:0C:07:12/performance?start_time=202110211800&stop_time=202110211859\n",
      " dato_param['total']  1 1\n",
      "https://100.123.26.252/api/v2/devices/BC:A9:93:0C:07:13/performance?offset=0&start_time=202110211800&stop_time=202110211859\n"
     ]
    },
    {
     "name": "stderr",
     "output_type": "stream",
     "text": [
      "/opt/anaconda3/lib/python3.8/site-packages/urllib3/connectionpool.py:981: InsecureRequestWarning: Unverified HTTPS request is being made to host '100.123.26.224'. Adding certificate verification is strongly advised. See: https://urllib3.readthedocs.io/en/latest/advanced-usage.html#ssl-warnings\n",
      "  warnings.warn(\n",
      "/opt/anaconda3/lib/python3.8/site-packages/urllib3/connectionpool.py:981: InsecureRequestWarning: Unverified HTTPS request is being made to host '100.123.26.252'. Adding certificate verification is strongly advised. See: https://urllib3.readthedocs.io/en/latest/advanced-usage.html#ssl-warnings\n",
      "  warnings.warn(\n",
      "/opt/anaconda3/lib/python3.8/site-packages/urllib3/connectionpool.py:981: InsecureRequestWarning: Unverified HTTPS request is being made to host '100.123.26.252'. Adding certificate verification is strongly advised. See: https://urllib3.readthedocs.io/en/latest/advanced-usage.html#ssl-warnings\n",
      "  warnings.warn(\n",
      "/opt/anaconda3/lib/python3.8/site-packages/urllib3/connectionpool.py:981: InsecureRequestWarning: Unverified HTTPS request is being made to host '100.123.26.224'. Adding certificate verification is strongly advised. See: https://urllib3.readthedocs.io/en/latest/advanced-usage.html#ssl-warnings\n",
      "  warnings.warn(\n"
     ]
    },
    {
     "name": "stdout",
     "output_type": "stream",
     "text": [
      "1.-Fecha: 2021-10-21 19:07:08.893157 - Error bucle externo:  404  no trajo datos:  https://100.123.26.224/api/v2/devices/BC:A9:93:0C:07:13/performance?start_time=202110211800&stop_time=202110211859\n",
      "1.-Fecha: 2021-10-21 19:07:08.893157 - Error bucle externo:  404  no trajo datos:  https://100.123.26.252/api/v2/devices/BC:A9:93:0C:07:15/performance?start_time=202110211800&stop_time=202110211859\n",
      " dato_param['total']  1 1\n",
      "https://100.123.26.252/api/v2/devices/BC:A9:93:0C:07:17/performance?offset=0&start_time=202110211800&stop_time=202110211859\n",
      "1.-Fecha: 2021-10-21 19:07:08.893157 - Error bucle externo:  404  no trajo datos:  https://100.123.26.224/api/v2/devices/BC:A9:93:0C:07:17/performance?start_time=202110211800&stop_time=202110211859\n"
     ]
    },
    {
     "name": "stderr",
     "output_type": "stream",
     "text": [
      "/opt/anaconda3/lib/python3.8/site-packages/urllib3/connectionpool.py:981: InsecureRequestWarning: Unverified HTTPS request is being made to host '100.123.26.252'. Adding certificate verification is strongly advised. See: https://urllib3.readthedocs.io/en/latest/advanced-usage.html#ssl-warnings\n",
      "  warnings.warn(\n",
      "/opt/anaconda3/lib/python3.8/site-packages/urllib3/connectionpool.py:981: InsecureRequestWarning: Unverified HTTPS request is being made to host '100.123.26.252'. Adding certificate verification is strongly advised. See: https://urllib3.readthedocs.io/en/latest/advanced-usage.html#ssl-warnings\n",
      "  warnings.warn(\n",
      "/opt/anaconda3/lib/python3.8/site-packages/urllib3/connectionpool.py:981: InsecureRequestWarning: Unverified HTTPS request is being made to host '100.123.26.252'. Adding certificate verification is strongly advised. See: https://urllib3.readthedocs.io/en/latest/advanced-usage.html#ssl-warnings\n",
      "  warnings.warn(\n",
      "/opt/anaconda3/lib/python3.8/site-packages/urllib3/connectionpool.py:981: InsecureRequestWarning: Unverified HTTPS request is being made to host '100.123.26.224'. Adding certificate verification is strongly advised. See: https://urllib3.readthedocs.io/en/latest/advanced-usage.html#ssl-warnings\n",
      "  warnings.warn(\n",
      "/opt/anaconda3/lib/python3.8/site-packages/urllib3/connectionpool.py:981: InsecureRequestWarning: Unverified HTTPS request is being made to host '100.123.26.252'. Adding certificate verification is strongly advised. See: https://urllib3.readthedocs.io/en/latest/advanced-usage.html#ssl-warnings\n",
      "  warnings.warn(\n"
     ]
    },
    {
     "name": "stdout",
     "output_type": "stream",
     "text": [
      " dato_param['total']  13 1\n",
      "https://100.123.26.252/api/v2/devices/BC:A9:93:0C:07:18/performance?offset=0&start_time=202110211800&stop_time=202110211859\n",
      "1.-Fecha: 2021-10-21 19:07:08.893157 - Error bucle externo:  404  no trajo datos:  https://100.123.26.224/api/v2/devices/BC:A9:93:0C:07:18/performance?start_time=202110211800&stop_time=202110211859\n",
      " dato_param['total']  12 1\n",
      "https://100.123.26.252/api/v2/devices/BC:A9:93:0C:07:19/performance?offset=0&start_time=202110211800&stop_time=202110211859\n"
     ]
    },
    {
     "name": "stderr",
     "output_type": "stream",
     "text": [
      "/opt/anaconda3/lib/python3.8/site-packages/urllib3/connectionpool.py:981: InsecureRequestWarning: Unverified HTTPS request is being made to host '100.123.26.252'. Adding certificate verification is strongly advised. See: https://urllib3.readthedocs.io/en/latest/advanced-usage.html#ssl-warnings\n",
      "  warnings.warn(\n",
      "/opt/anaconda3/lib/python3.8/site-packages/urllib3/connectionpool.py:981: InsecureRequestWarning: Unverified HTTPS request is being made to host '100.123.26.224'. Adding certificate verification is strongly advised. See: https://urllib3.readthedocs.io/en/latest/advanced-usage.html#ssl-warnings\n",
      "  warnings.warn(\n",
      "/opt/anaconda3/lib/python3.8/site-packages/urllib3/connectionpool.py:981: InsecureRequestWarning: Unverified HTTPS request is being made to host '100.123.26.252'. Adding certificate verification is strongly advised. See: https://urllib3.readthedocs.io/en/latest/advanced-usage.html#ssl-warnings\n",
      "  warnings.warn(\n",
      "/opt/anaconda3/lib/python3.8/site-packages/urllib3/connectionpool.py:981: InsecureRequestWarning: Unverified HTTPS request is being made to host '100.123.26.252'. Adding certificate verification is strongly advised. See: https://urllib3.readthedocs.io/en/latest/advanced-usage.html#ssl-warnings\n",
      "  warnings.warn(\n",
      "/opt/anaconda3/lib/python3.8/site-packages/urllib3/connectionpool.py:981: InsecureRequestWarning: Unverified HTTPS request is being made to host '100.123.26.224'. Adding certificate verification is strongly advised. See: https://urllib3.readthedocs.io/en/latest/advanced-usage.html#ssl-warnings\n",
      "  warnings.warn(\n",
      "/opt/anaconda3/lib/python3.8/site-packages/urllib3/connectionpool.py:981: InsecureRequestWarning: Unverified HTTPS request is being made to host '100.123.26.252'. Adding certificate verification is strongly advised. See: https://urllib3.readthedocs.io/en/latest/advanced-usage.html#ssl-warnings\n",
      "  warnings.warn(\n",
      "/opt/anaconda3/lib/python3.8/site-packages/urllib3/connectionpool.py:981: InsecureRequestWarning: Unverified HTTPS request is being made to host '100.123.26.252'. Adding certificate verification is strongly advised. See: https://urllib3.readthedocs.io/en/latest/advanced-usage.html#ssl-warnings\n",
      "  warnings.warn(\n",
      "/opt/anaconda3/lib/python3.8/site-packages/urllib3/connectionpool.py:981: InsecureRequestWarning: Unverified HTTPS request is being made to host '100.123.26.252'. Adding certificate verification is strongly advised. See: https://urllib3.readthedocs.io/en/latest/advanced-usage.html#ssl-warnings\n",
      "  warnings.warn(\n",
      "/opt/anaconda3/lib/python3.8/site-packages/urllib3/connectionpool.py:981: InsecureRequestWarning: Unverified HTTPS request is being made to host '100.123.26.224'. Adding certificate verification is strongly advised. See: https://urllib3.readthedocs.io/en/latest/advanced-usage.html#ssl-warnings\n",
      "  warnings.warn(\n"
     ]
    },
    {
     "name": "stdout",
     "output_type": "stream",
     "text": [
      "1.-Fecha: 2021-10-21 19:07:08.893157 - Error bucle externo:  404  no trajo datos:  https://100.123.26.224/api/v2/devices/BC:A9:93:0C:07:19/performance?start_time=202110211800&stop_time=202110211859\n",
      "1.-Fecha: 2021-10-21 19:07:08.893157 - Error bucle externo:  404  no trajo datos:  https://100.123.26.252/api/v2/devices/BC:A9:93:0C:07:1A/performance?start_time=202110211800&stop_time=202110211859\n",
      " dato_param['total']  1 1\n",
      "https://100.123.26.252/api/v2/devices/BC:A9:93:0C:07:1B/performance?offset=0&start_time=202110211800&stop_time=202110211859\n",
      "1.-Fecha: 2021-10-21 19:07:08.893157 - Error bucle externo:  404  no trajo datos:  https://100.123.26.224/api/v2/devices/BC:A9:93:0C:07:1B/performance?start_time=202110211800&stop_time=202110211859\n",
      " dato_param['total']  12 1\n",
      "https://100.123.26.252/api/v2/devices/BC:A9:93:0C:07:1C/performance?offset=0&start_time=202110211800&stop_time=202110211859\n",
      "1.-Fecha: 2021-10-21 19:07:08.893157 - Error bucle externo:  422  no trajo datos:  https://100.123.26.224/api/v2/devices/BC:A9:93:0C:07:1C/performance?start_time=202110211800&stop_time=202110211859\n"
     ]
    },
    {
     "name": "stderr",
     "output_type": "stream",
     "text": [
      "/opt/anaconda3/lib/python3.8/site-packages/urllib3/connectionpool.py:981: InsecureRequestWarning: Unverified HTTPS request is being made to host '100.123.26.252'. Adding certificate verification is strongly advised. See: https://urllib3.readthedocs.io/en/latest/advanced-usage.html#ssl-warnings\n",
      "  warnings.warn(\n",
      "/opt/anaconda3/lib/python3.8/site-packages/urllib3/connectionpool.py:981: InsecureRequestWarning: Unverified HTTPS request is being made to host '100.123.26.252'. Adding certificate verification is strongly advised. See: https://urllib3.readthedocs.io/en/latest/advanced-usage.html#ssl-warnings\n",
      "  warnings.warn(\n",
      "/opt/anaconda3/lib/python3.8/site-packages/urllib3/connectionpool.py:981: InsecureRequestWarning: Unverified HTTPS request is being made to host '100.123.26.224'. Adding certificate verification is strongly advised. See: https://urllib3.readthedocs.io/en/latest/advanced-usage.html#ssl-warnings\n",
      "  warnings.warn(\n",
      "/opt/anaconda3/lib/python3.8/site-packages/urllib3/connectionpool.py:981: InsecureRequestWarning: Unverified HTTPS request is being made to host '100.123.26.252'. Adding certificate verification is strongly advised. See: https://urllib3.readthedocs.io/en/latest/advanced-usage.html#ssl-warnings\n",
      "  warnings.warn(\n"
     ]
    },
    {
     "name": "stdout",
     "output_type": "stream",
     "text": [
      " dato_param['total']  1 1\n",
      "https://100.123.26.252/api/v2/devices/BC:A9:93:0C:07:1E/performance?offset=0&start_time=202110211800&stop_time=202110211859\n",
      "1.-Fecha: 2021-10-21 19:07:08.893157 - Error bucle externo:  422  no trajo datos:  https://100.123.26.224/api/v2/devices/BC:A9:93:0C:07:1E/performance?start_time=202110211800&stop_time=202110211859\n",
      " dato_param['total']  13 1\n",
      "https://100.123.26.252/api/v2/devices/BC:A9:93:0C:07:1F/performance?offset=0&start_time=202110211800&stop_time=202110211859\n"
     ]
    },
    {
     "name": "stderr",
     "output_type": "stream",
     "text": [
      "/opt/anaconda3/lib/python3.8/site-packages/urllib3/connectionpool.py:981: InsecureRequestWarning: Unverified HTTPS request is being made to host '100.123.26.252'. Adding certificate verification is strongly advised. See: https://urllib3.readthedocs.io/en/latest/advanced-usage.html#ssl-warnings\n",
      "  warnings.warn(\n",
      "/opt/anaconda3/lib/python3.8/site-packages/urllib3/connectionpool.py:981: InsecureRequestWarning: Unverified HTTPS request is being made to host '100.123.26.224'. Adding certificate verification is strongly advised. See: https://urllib3.readthedocs.io/en/latest/advanced-usage.html#ssl-warnings\n",
      "  warnings.warn(\n",
      "/opt/anaconda3/lib/python3.8/site-packages/urllib3/connectionpool.py:981: InsecureRequestWarning: Unverified HTTPS request is being made to host '100.123.26.252'. Adding certificate verification is strongly advised. See: https://urllib3.readthedocs.io/en/latest/advanced-usage.html#ssl-warnings\n",
      "  warnings.warn(\n",
      "/opt/anaconda3/lib/python3.8/site-packages/urllib3/connectionpool.py:981: InsecureRequestWarning: Unverified HTTPS request is being made to host '100.123.26.252'. Adding certificate verification is strongly advised. See: https://urllib3.readthedocs.io/en/latest/advanced-usage.html#ssl-warnings\n",
      "  warnings.warn(\n",
      "/opt/anaconda3/lib/python3.8/site-packages/urllib3/connectionpool.py:981: InsecureRequestWarning: Unverified HTTPS request is being made to host '100.123.26.224'. Adding certificate verification is strongly advised. See: https://urllib3.readthedocs.io/en/latest/advanced-usage.html#ssl-warnings\n",
      "  warnings.warn(\n",
      "/opt/anaconda3/lib/python3.8/site-packages/urllib3/connectionpool.py:981: InsecureRequestWarning: Unverified HTTPS request is being made to host '100.123.26.252'. Adding certificate verification is strongly advised. See: https://urllib3.readthedocs.io/en/latest/advanced-usage.html#ssl-warnings\n",
      "  warnings.warn(\n",
      "/opt/anaconda3/lib/python3.8/site-packages/urllib3/connectionpool.py:981: InsecureRequestWarning: Unverified HTTPS request is being made to host '100.123.26.252'. Adding certificate verification is strongly advised. See: https://urllib3.readthedocs.io/en/latest/advanced-usage.html#ssl-warnings\n",
      "  warnings.warn(\n"
     ]
    },
    {
     "name": "stdout",
     "output_type": "stream",
     "text": [
      "1.-Fecha: 2021-10-21 19:07:08.893157 - Error bucle externo:  404  no trajo datos:  https://100.123.26.224/api/v2/devices/BC:A9:93:0C:07:1F/performance?start_time=202110211800&stop_time=202110211859\n",
      " dato_param['total']  13 1\n",
      "https://100.123.26.252/api/v2/devices/BC:A9:93:0C:07:20/performance?offset=0&start_time=202110211800&stop_time=202110211859\n",
      "1.-Fecha: 2021-10-21 19:07:08.893157 - Error bucle externo:  404  no trajo datos:  https://100.123.26.224/api/v2/devices/BC:A9:93:0C:07:20/performance?start_time=202110211800&stop_time=202110211859\n"
     ]
    },
    {
     "name": "stderr",
     "output_type": "stream",
     "text": [
      "/opt/anaconda3/lib/python3.8/site-packages/urllib3/connectionpool.py:981: InsecureRequestWarning: Unverified HTTPS request is being made to host '100.123.26.224'. Adding certificate verification is strongly advised. See: https://urllib3.readthedocs.io/en/latest/advanced-usage.html#ssl-warnings\n",
      "  warnings.warn(\n",
      "/opt/anaconda3/lib/python3.8/site-packages/urllib3/connectionpool.py:981: InsecureRequestWarning: Unverified HTTPS request is being made to host '100.123.26.252'. Adding certificate verification is strongly advised. See: https://urllib3.readthedocs.io/en/latest/advanced-usage.html#ssl-warnings\n",
      "  warnings.warn(\n",
      "/opt/anaconda3/lib/python3.8/site-packages/urllib3/connectionpool.py:981: InsecureRequestWarning: Unverified HTTPS request is being made to host '100.123.26.252'. Adding certificate verification is strongly advised. See: https://urllib3.readthedocs.io/en/latest/advanced-usage.html#ssl-warnings\n",
      "  warnings.warn(\n",
      "/opt/anaconda3/lib/python3.8/site-packages/urllib3/connectionpool.py:981: InsecureRequestWarning: Unverified HTTPS request is being made to host '100.123.26.224'. Adding certificate verification is strongly advised. See: https://urllib3.readthedocs.io/en/latest/advanced-usage.html#ssl-warnings\n",
      "  warnings.warn(\n",
      "/opt/anaconda3/lib/python3.8/site-packages/urllib3/connectionpool.py:981: InsecureRequestWarning: Unverified HTTPS request is being made to host '100.123.26.252'. Adding certificate verification is strongly advised. See: https://urllib3.readthedocs.io/en/latest/advanced-usage.html#ssl-warnings\n",
      "  warnings.warn(\n"
     ]
    },
    {
     "name": "stdout",
     "output_type": "stream",
     "text": [
      " dato_param['total']  1 1\n",
      "https://100.123.26.252/api/v2/devices/BC:A9:93:0C:07:21/performance?offset=0&start_time=202110211800&stop_time=202110211859\n",
      "1.-Fecha: 2021-10-21 19:07:08.893157 - Error bucle externo:  404  no trajo datos:  https://100.123.26.224/api/v2/devices/BC:A9:93:0C:07:21/performance?start_time=202110211800&stop_time=202110211859\n",
      " dato_param['total']  13 1\n",
      "https://100.123.26.252/api/v2/devices/BC:A9:93:0C:07:22/performance?offset=0&start_time=202110211800&stop_time=202110211859\n"
     ]
    },
    {
     "name": "stderr",
     "output_type": "stream",
     "text": [
      "/opt/anaconda3/lib/python3.8/site-packages/urllib3/connectionpool.py:981: InsecureRequestWarning: Unverified HTTPS request is being made to host '100.123.26.252'. Adding certificate verification is strongly advised. See: https://urllib3.readthedocs.io/en/latest/advanced-usage.html#ssl-warnings\n",
      "  warnings.warn(\n",
      "/opt/anaconda3/lib/python3.8/site-packages/urllib3/connectionpool.py:981: InsecureRequestWarning: Unverified HTTPS request is being made to host '100.123.26.224'. Adding certificate verification is strongly advised. See: https://urllib3.readthedocs.io/en/latest/advanced-usage.html#ssl-warnings\n",
      "  warnings.warn(\n",
      "/opt/anaconda3/lib/python3.8/site-packages/urllib3/connectionpool.py:981: InsecureRequestWarning: Unverified HTTPS request is being made to host '100.123.26.252'. Adding certificate verification is strongly advised. See: https://urllib3.readthedocs.io/en/latest/advanced-usage.html#ssl-warnings\n",
      "  warnings.warn(\n"
     ]
    },
    {
     "name": "stdout",
     "output_type": "stream",
     "text": [
      "1.-Fecha: 2021-10-21 19:07:08.893157 - Error bucle externo:  404  no trajo datos:  https://100.123.26.224/api/v2/devices/BC:A9:93:0C:07:22/performance?start_time=202110211800&stop_time=202110211859\n",
      "1.-Fecha: 2021-10-21 19:07:08.893157 - Error bucle externo:  404  no trajo datos:  https://100.123.26.252/api/v2/devices/BC:A9:93:0C:07:23/performance?start_time=202110211800&stop_time=202110211859\n",
      " dato_param['total']  1 1\n",
      "https://100.123.26.252/api/v2/devices/BC:A9:93:0C:07:25/performance?offset=0&start_time=202110211800&stop_time=202110211859\n",
      "1.-Fecha: 2021-10-21 19:07:08.893157 - Error bucle externo:  404  no trajo datos:  https://100.123.26.224/api/v2/devices/BC:A9:93:0C:07:25/performance?start_time=202110211800&stop_time=202110211859\n"
     ]
    },
    {
     "name": "stderr",
     "output_type": "stream",
     "text": [
      "/opt/anaconda3/lib/python3.8/site-packages/urllib3/connectionpool.py:981: InsecureRequestWarning: Unverified HTTPS request is being made to host '100.123.26.252'. Adding certificate verification is strongly advised. See: https://urllib3.readthedocs.io/en/latest/advanced-usage.html#ssl-warnings\n",
      "  warnings.warn(\n",
      "/opt/anaconda3/lib/python3.8/site-packages/urllib3/connectionpool.py:981: InsecureRequestWarning: Unverified HTTPS request is being made to host '100.123.26.252'. Adding certificate verification is strongly advised. See: https://urllib3.readthedocs.io/en/latest/advanced-usage.html#ssl-warnings\n",
      "  warnings.warn(\n",
      "/opt/anaconda3/lib/python3.8/site-packages/urllib3/connectionpool.py:981: InsecureRequestWarning: Unverified HTTPS request is being made to host '100.123.26.224'. Adding certificate verification is strongly advised. See: https://urllib3.readthedocs.io/en/latest/advanced-usage.html#ssl-warnings\n",
      "  warnings.warn(\n",
      "/opt/anaconda3/lib/python3.8/site-packages/urllib3/connectionpool.py:981: InsecureRequestWarning: Unverified HTTPS request is being made to host '100.123.26.252'. Adding certificate verification is strongly advised. See: https://urllib3.readthedocs.io/en/latest/advanced-usage.html#ssl-warnings\n",
      "  warnings.warn(\n"
     ]
    },
    {
     "name": "stdout",
     "output_type": "stream",
     "text": [
      " dato_param['total']  13 1\n",
      "https://100.123.26.252/api/v2/devices/BC:A9:93:0C:07:26/performance?offset=0&start_time=202110211800&stop_time=202110211859\n",
      "1.-Fecha: 2021-10-21 19:07:08.893157 - Error bucle externo:  404  no trajo datos:  https://100.123.26.224/api/v2/devices/BC:A9:93:0C:07:26/performance?start_time=202110211800&stop_time=202110211859\n",
      " dato_param['total']  19 1\n",
      "https://100.123.26.252/api/v2/devices/BC:A9:93:0C:07:28/performance?offset=0&start_time=202110211800&stop_time=202110211859\n"
     ]
    },
    {
     "name": "stderr",
     "output_type": "stream",
     "text": [
      "/opt/anaconda3/lib/python3.8/site-packages/urllib3/connectionpool.py:981: InsecureRequestWarning: Unverified HTTPS request is being made to host '100.123.26.252'. Adding certificate verification is strongly advised. See: https://urllib3.readthedocs.io/en/latest/advanced-usage.html#ssl-warnings\n",
      "  warnings.warn(\n",
      "/opt/anaconda3/lib/python3.8/site-packages/urllib3/connectionpool.py:981: InsecureRequestWarning: Unverified HTTPS request is being made to host '100.123.26.224'. Adding certificate verification is strongly advised. See: https://urllib3.readthedocs.io/en/latest/advanced-usage.html#ssl-warnings\n",
      "  warnings.warn(\n",
      "/opt/anaconda3/lib/python3.8/site-packages/urllib3/connectionpool.py:981: InsecureRequestWarning: Unverified HTTPS request is being made to host '100.123.26.252'. Adding certificate verification is strongly advised. See: https://urllib3.readthedocs.io/en/latest/advanced-usage.html#ssl-warnings\n",
      "  warnings.warn(\n",
      "/opt/anaconda3/lib/python3.8/site-packages/urllib3/connectionpool.py:981: InsecureRequestWarning: Unverified HTTPS request is being made to host '100.123.26.252'. Adding certificate verification is strongly advised. See: https://urllib3.readthedocs.io/en/latest/advanced-usage.html#ssl-warnings\n",
      "  warnings.warn(\n",
      "/opt/anaconda3/lib/python3.8/site-packages/urllib3/connectionpool.py:981: InsecureRequestWarning: Unverified HTTPS request is being made to host '100.123.26.224'. Adding certificate verification is strongly advised. See: https://urllib3.readthedocs.io/en/latest/advanced-usage.html#ssl-warnings\n",
      "  warnings.warn(\n",
      "/opt/anaconda3/lib/python3.8/site-packages/urllib3/connectionpool.py:981: InsecureRequestWarning: Unverified HTTPS request is being made to host '100.123.26.252'. Adding certificate verification is strongly advised. See: https://urllib3.readthedocs.io/en/latest/advanced-usage.html#ssl-warnings\n",
      "  warnings.warn(\n",
      "/opt/anaconda3/lib/python3.8/site-packages/urllib3/connectionpool.py:981: InsecureRequestWarning: Unverified HTTPS request is being made to host '100.123.26.252'. Adding certificate verification is strongly advised. See: https://urllib3.readthedocs.io/en/latest/advanced-usage.html#ssl-warnings\n",
      "  warnings.warn(\n",
      "/opt/anaconda3/lib/python3.8/site-packages/urllib3/connectionpool.py:981: InsecureRequestWarning: Unverified HTTPS request is being made to host '100.123.26.224'. Adding certificate verification is strongly advised. See: https://urllib3.readthedocs.io/en/latest/advanced-usage.html#ssl-warnings\n",
      "  warnings.warn(\n"
     ]
    },
    {
     "name": "stdout",
     "output_type": "stream",
     "text": [
      "1.-Fecha: 2021-10-21 19:07:08.893157 - Error bucle externo:  404  no trajo datos:  https://100.123.26.224/api/v2/devices/BC:A9:93:0C:07:28/performance?start_time=202110211800&stop_time=202110211859\n",
      " dato_param['total']  1 1\n",
      "https://100.123.26.252/api/v2/devices/BC:A9:93:0C:07:2A/performance?offset=0&start_time=202110211800&stop_time=202110211859\n",
      "1.-Fecha: 2021-10-21 19:07:08.893157 - Error bucle externo:  404  no trajo datos:  https://100.123.26.224/api/v2/devices/BC:A9:93:0C:07:2A/performance?start_time=202110211800&stop_time=202110211859\n"
     ]
    },
    {
     "name": "stderr",
     "output_type": "stream",
     "text": [
      "/opt/anaconda3/lib/python3.8/site-packages/urllib3/connectionpool.py:981: InsecureRequestWarning: Unverified HTTPS request is being made to host '100.123.26.252'. Adding certificate verification is strongly advised. See: https://urllib3.readthedocs.io/en/latest/advanced-usage.html#ssl-warnings\n",
      "  warnings.warn(\n",
      "/opt/anaconda3/lib/python3.8/site-packages/urllib3/connectionpool.py:981: InsecureRequestWarning: Unverified HTTPS request is being made to host '100.123.26.252'. Adding certificate verification is strongly advised. See: https://urllib3.readthedocs.io/en/latest/advanced-usage.html#ssl-warnings\n",
      "  warnings.warn(\n",
      "/opt/anaconda3/lib/python3.8/site-packages/urllib3/connectionpool.py:981: InsecureRequestWarning: Unverified HTTPS request is being made to host '100.123.26.224'. Adding certificate verification is strongly advised. See: https://urllib3.readthedocs.io/en/latest/advanced-usage.html#ssl-warnings\n",
      "  warnings.warn(\n"
     ]
    },
    {
     "name": "stdout",
     "output_type": "stream",
     "text": [
      " dato_param['total']  13 1\n",
      "https://100.123.26.252/api/v2/devices/BC:A9:93:0C:07:30/performance?offset=0&start_time=202110211800&stop_time=202110211859\n",
      "1.-Fecha: 2021-10-21 19:07:08.893157 - Error bucle externo:  404  no trajo datos:  https://100.123.26.224/api/v2/devices/BC:A9:93:0C:07:30/performance?start_time=202110211800&stop_time=202110211859\n",
      "1.-Fecha: 2021-10-21 19:07:08.893157 - Error bucle externo:  404  no trajo datos:  https://100.123.26.252/api/v2/devices/BC:A9:93:0C:07:31/performance?start_time=202110211800&stop_time=202110211859\n",
      "1.-Fecha: 2021-10-21 19:07:08.893157 - Error bucle externo:  404  no trajo datos:  https://100.123.26.252/api/v2/devices/BC:A9:93:0C:07:32/performance?start_time=202110211800&stop_time=202110211859\n"
     ]
    },
    {
     "name": "stderr",
     "output_type": "stream",
     "text": [
      "/opt/anaconda3/lib/python3.8/site-packages/urllib3/connectionpool.py:981: InsecureRequestWarning: Unverified HTTPS request is being made to host '100.123.26.252'. Adding certificate verification is strongly advised. See: https://urllib3.readthedocs.io/en/latest/advanced-usage.html#ssl-warnings\n",
      "  warnings.warn(\n",
      "/opt/anaconda3/lib/python3.8/site-packages/urllib3/connectionpool.py:981: InsecureRequestWarning: Unverified HTTPS request is being made to host '100.123.26.252'. Adding certificate verification is strongly advised. See: https://urllib3.readthedocs.io/en/latest/advanced-usage.html#ssl-warnings\n",
      "  warnings.warn(\n",
      "/opt/anaconda3/lib/python3.8/site-packages/urllib3/connectionpool.py:981: InsecureRequestWarning: Unverified HTTPS request is being made to host '100.123.26.252'. Adding certificate verification is strongly advised. See: https://urllib3.readthedocs.io/en/latest/advanced-usage.html#ssl-warnings\n",
      "  warnings.warn(\n",
      "/opt/anaconda3/lib/python3.8/site-packages/urllib3/connectionpool.py:981: InsecureRequestWarning: Unverified HTTPS request is being made to host '100.123.26.252'. Adding certificate verification is strongly advised. See: https://urllib3.readthedocs.io/en/latest/advanced-usage.html#ssl-warnings\n",
      "  warnings.warn(\n",
      "/opt/anaconda3/lib/python3.8/site-packages/urllib3/connectionpool.py:981: InsecureRequestWarning: Unverified HTTPS request is being made to host '100.123.26.224'. Adding certificate verification is strongly advised. See: https://urllib3.readthedocs.io/en/latest/advanced-usage.html#ssl-warnings\n",
      "  warnings.warn(\n"
     ]
    },
    {
     "name": "stdout",
     "output_type": "stream",
     "text": [
      " dato_param['total']  1 1\n",
      "https://100.123.26.252/api/v2/devices/BC:A9:93:0C:07:36/performance?offset=0&start_time=202110211800&stop_time=202110211859\n",
      "1.-Fecha: 2021-10-21 19:07:08.893157 - Error bucle externo:  404  no trajo datos:  https://100.123.26.224/api/v2/devices/BC:A9:93:0C:07:36/performance?start_time=202110211800&stop_time=202110211859\n",
      "1.-Fecha: 2021-10-21 19:07:08.893157 - Error bucle externo:  404  no trajo datos:  https://100.123.26.252/api/v2/devices/BC:A9:93:0C:07:37/performance?start_time=202110211800&stop_time=202110211859\n"
     ]
    },
    {
     "name": "stderr",
     "output_type": "stream",
     "text": [
      "/opt/anaconda3/lib/python3.8/site-packages/urllib3/connectionpool.py:981: InsecureRequestWarning: Unverified HTTPS request is being made to host '100.123.26.252'. Adding certificate verification is strongly advised. See: https://urllib3.readthedocs.io/en/latest/advanced-usage.html#ssl-warnings\n",
      "  warnings.warn(\n",
      "/opt/anaconda3/lib/python3.8/site-packages/urllib3/connectionpool.py:981: InsecureRequestWarning: Unverified HTTPS request is being made to host '100.123.26.252'. Adding certificate verification is strongly advised. See: https://urllib3.readthedocs.io/en/latest/advanced-usage.html#ssl-warnings\n",
      "  warnings.warn(\n",
      "/opt/anaconda3/lib/python3.8/site-packages/urllib3/connectionpool.py:981: InsecureRequestWarning: Unverified HTTPS request is being made to host '100.123.26.252'. Adding certificate verification is strongly advised. See: https://urllib3.readthedocs.io/en/latest/advanced-usage.html#ssl-warnings\n",
      "  warnings.warn(\n"
     ]
    },
    {
     "name": "stdout",
     "output_type": "stream",
     "text": [
      " dato_param['total']  13 1\n",
      "https://100.123.26.252/api/v2/devices/BC:A9:93:0C:07:38/performance?offset=0&start_time=202110211800&stop_time=202110211859\n",
      "1.-Fecha: 2021-10-21 19:07:08.893157 - Error bucle externo:  404  no trajo datos:  https://100.123.26.224/api/v2/devices/BC:A9:93:0C:07:38/performance?start_time=202110211800&stop_time=202110211859\n",
      "1.-Fecha: 2021-10-21 19:07:08.893157 - Error bucle externo:  404  no trajo datos:  https://100.123.26.252/api/v2/devices/BC:A9:93:0C:07:3B/performance?start_time=202110211800&stop_time=202110211859\n",
      " dato_param['total']  1 1\n",
      "https://100.123.26.252/api/v2/devices/BC:A9:93:0C:07:3C/performance?offset=0&start_time=202110211800&stop_time=202110211859\n"
     ]
    },
    {
     "name": "stderr",
     "output_type": "stream",
     "text": [
      "/opt/anaconda3/lib/python3.8/site-packages/urllib3/connectionpool.py:981: InsecureRequestWarning: Unverified HTTPS request is being made to host '100.123.26.224'. Adding certificate verification is strongly advised. See: https://urllib3.readthedocs.io/en/latest/advanced-usage.html#ssl-warnings\n",
      "  warnings.warn(\n",
      "/opt/anaconda3/lib/python3.8/site-packages/urllib3/connectionpool.py:981: InsecureRequestWarning: Unverified HTTPS request is being made to host '100.123.26.252'. Adding certificate verification is strongly advised. See: https://urllib3.readthedocs.io/en/latest/advanced-usage.html#ssl-warnings\n",
      "  warnings.warn(\n",
      "/opt/anaconda3/lib/python3.8/site-packages/urllib3/connectionpool.py:981: InsecureRequestWarning: Unverified HTTPS request is being made to host '100.123.26.252'. Adding certificate verification is strongly advised. See: https://urllib3.readthedocs.io/en/latest/advanced-usage.html#ssl-warnings\n",
      "  warnings.warn(\n",
      "/opt/anaconda3/lib/python3.8/site-packages/urllib3/connectionpool.py:981: InsecureRequestWarning: Unverified HTTPS request is being made to host '100.123.26.252'. Adding certificate verification is strongly advised. See: https://urllib3.readthedocs.io/en/latest/advanced-usage.html#ssl-warnings\n",
      "  warnings.warn(\n",
      "/opt/anaconda3/lib/python3.8/site-packages/urllib3/connectionpool.py:981: InsecureRequestWarning: Unverified HTTPS request is being made to host '100.123.26.224'. Adding certificate verification is strongly advised. See: https://urllib3.readthedocs.io/en/latest/advanced-usage.html#ssl-warnings\n",
      "  warnings.warn(\n",
      "/opt/anaconda3/lib/python3.8/site-packages/urllib3/connectionpool.py:981: InsecureRequestWarning: Unverified HTTPS request is being made to host '100.123.26.252'. Adding certificate verification is strongly advised. See: https://urllib3.readthedocs.io/en/latest/advanced-usage.html#ssl-warnings\n",
      "  warnings.warn(\n",
      "/opt/anaconda3/lib/python3.8/site-packages/urllib3/connectionpool.py:981: InsecureRequestWarning: Unverified HTTPS request is being made to host '100.123.26.252'. Adding certificate verification is strongly advised. See: https://urllib3.readthedocs.io/en/latest/advanced-usage.html#ssl-warnings\n",
      "  warnings.warn(\n",
      "/opt/anaconda3/lib/python3.8/site-packages/urllib3/connectionpool.py:981: InsecureRequestWarning: Unverified HTTPS request is being made to host '100.123.26.224'. Adding certificate verification is strongly advised. See: https://urllib3.readthedocs.io/en/latest/advanced-usage.html#ssl-warnings\n",
      "  warnings.warn(\n",
      "/opt/anaconda3/lib/python3.8/site-packages/urllib3/connectionpool.py:981: InsecureRequestWarning: Unverified HTTPS request is being made to host '100.123.26.252'. Adding certificate verification is strongly advised. See: https://urllib3.readthedocs.io/en/latest/advanced-usage.html#ssl-warnings\n",
      "  warnings.warn(\n"
     ]
    },
    {
     "name": "stdout",
     "output_type": "stream",
     "text": [
      "1.-Fecha: 2021-10-21 19:07:08.893157 - Error bucle externo:  404  no trajo datos:  https://100.123.26.224/api/v2/devices/BC:A9:93:0C:07:3C/performance?start_time=202110211800&stop_time=202110211859\n",
      " dato_param['total']  12 1\n",
      "https://100.123.26.252/api/v2/devices/BC:A9:93:0C:07:42/performance?offset=0&start_time=202110211800&stop_time=202110211859\n",
      "1.-Fecha: 2021-10-21 19:07:08.893157 - Error bucle externo:  404  no trajo datos:  https://100.123.26.224/api/v2/devices/BC:A9:93:0C:07:42/performance?start_time=202110211800&stop_time=202110211859\n",
      "1.-Fecha: 2021-10-21 19:07:08.893157 - Error bucle externo:  404  no trajo datos:  https://100.123.26.252/api/v2/devices/BC:A9:93:0C:07:43/performance?start_time=202110211800&stop_time=202110211859\n",
      "1.-Fecha: 2021-10-21 19:07:08.893157 - Error bucle externo:  404  no trajo datos:  https://100.123.26.252/api/v2/devices/BC:A9:93:0C:07:44/performance?start_time=202110211800&stop_time=202110211859\n",
      " dato_param['total']  13 1\n",
      "https://100.123.26.252/api/v2/devices/BC:A9:93:0C:07:45/performance?offset=0&start_time=202110211800&stop_time=202110211859\n"
     ]
    },
    {
     "name": "stderr",
     "output_type": "stream",
     "text": [
      "/opt/anaconda3/lib/python3.8/site-packages/urllib3/connectionpool.py:981: InsecureRequestWarning: Unverified HTTPS request is being made to host '100.123.26.252'. Adding certificate verification is strongly advised. See: https://urllib3.readthedocs.io/en/latest/advanced-usage.html#ssl-warnings\n",
      "  warnings.warn(\n",
      "/opt/anaconda3/lib/python3.8/site-packages/urllib3/connectionpool.py:981: InsecureRequestWarning: Unverified HTTPS request is being made to host '100.123.26.252'. Adding certificate verification is strongly advised. See: https://urllib3.readthedocs.io/en/latest/advanced-usage.html#ssl-warnings\n",
      "  warnings.warn(\n",
      "/opt/anaconda3/lib/python3.8/site-packages/urllib3/connectionpool.py:981: InsecureRequestWarning: Unverified HTTPS request is being made to host '100.123.26.252'. Adding certificate verification is strongly advised. See: https://urllib3.readthedocs.io/en/latest/advanced-usage.html#ssl-warnings\n",
      "  warnings.warn(\n",
      "/opt/anaconda3/lib/python3.8/site-packages/urllib3/connectionpool.py:981: InsecureRequestWarning: Unverified HTTPS request is being made to host '100.123.26.224'. Adding certificate verification is strongly advised. See: https://urllib3.readthedocs.io/en/latest/advanced-usage.html#ssl-warnings\n",
      "  warnings.warn(\n",
      "/opt/anaconda3/lib/python3.8/site-packages/urllib3/connectionpool.py:981: InsecureRequestWarning: Unverified HTTPS request is being made to host '100.123.26.252'. Adding certificate verification is strongly advised. See: https://urllib3.readthedocs.io/en/latest/advanced-usage.html#ssl-warnings\n",
      "  warnings.warn(\n",
      "/opt/anaconda3/lib/python3.8/site-packages/urllib3/connectionpool.py:981: InsecureRequestWarning: Unverified HTTPS request is being made to host '100.123.26.252'. Adding certificate verification is strongly advised. See: https://urllib3.readthedocs.io/en/latest/advanced-usage.html#ssl-warnings\n",
      "  warnings.warn(\n",
      "/opt/anaconda3/lib/python3.8/site-packages/urllib3/connectionpool.py:981: InsecureRequestWarning: Unverified HTTPS request is being made to host '100.123.26.224'. Adding certificate verification is strongly advised. See: https://urllib3.readthedocs.io/en/latest/advanced-usage.html#ssl-warnings\n",
      "  warnings.warn(\n",
      "/opt/anaconda3/lib/python3.8/site-packages/urllib3/connectionpool.py:981: InsecureRequestWarning: Unverified HTTPS request is being made to host '100.123.26.252'. Adding certificate verification is strongly advised. See: https://urllib3.readthedocs.io/en/latest/advanced-usage.html#ssl-warnings\n",
      "  warnings.warn(\n"
     ]
    },
    {
     "name": "stdout",
     "output_type": "stream",
     "text": [
      "1.-Fecha: 2021-10-21 19:07:08.893157 - Error bucle externo:  404  no trajo datos:  https://100.123.26.224/api/v2/devices/BC:A9:93:0C:07:45/performance?start_time=202110211800&stop_time=202110211859\n",
      " dato_param['total']  1 1\n",
      "https://100.123.26.252/api/v2/devices/BC:A9:93:0C:07:46/performance?offset=0&start_time=202110211800&stop_time=202110211859\n",
      "1.-Fecha: 2021-10-21 19:07:08.893157 - Error bucle externo:  404  no trajo datos:  https://100.123.26.224/api/v2/devices/BC:A9:93:0C:07:46/performance?start_time=202110211800&stop_time=202110211859\n",
      " dato_param['total']  1 1\n",
      "https://100.123.26.252/api/v2/devices/BC:A9:93:0C:07:48/performance?offset=0&start_time=202110211800&stop_time=202110211859\n"
     ]
    },
    {
     "name": "stderr",
     "output_type": "stream",
     "text": [
      "/opt/anaconda3/lib/python3.8/site-packages/urllib3/connectionpool.py:981: InsecureRequestWarning: Unverified HTTPS request is being made to host '100.123.26.252'. Adding certificate verification is strongly advised. See: https://urllib3.readthedocs.io/en/latest/advanced-usage.html#ssl-warnings\n",
      "  warnings.warn(\n",
      "/opt/anaconda3/lib/python3.8/site-packages/urllib3/connectionpool.py:981: InsecureRequestWarning: Unverified HTTPS request is being made to host '100.123.26.224'. Adding certificate verification is strongly advised. See: https://urllib3.readthedocs.io/en/latest/advanced-usage.html#ssl-warnings\n",
      "  warnings.warn(\n",
      "/opt/anaconda3/lib/python3.8/site-packages/urllib3/connectionpool.py:981: InsecureRequestWarning: Unverified HTTPS request is being made to host '100.123.26.252'. Adding certificate verification is strongly advised. See: https://urllib3.readthedocs.io/en/latest/advanced-usage.html#ssl-warnings\n",
      "  warnings.warn(\n"
     ]
    },
    {
     "name": "stdout",
     "output_type": "stream",
     "text": [
      "1.-Fecha: 2021-10-21 19:07:08.893157 - Error bucle externo:  404  no trajo datos:  https://100.123.26.224/api/v2/devices/BC:A9:93:0C:07:48/performance?start_time=202110211800&stop_time=202110211859\n",
      " dato_param['total']  13 1\n",
      "https://100.123.26.252/api/v2/devices/BC:A9:93:0C:07:4A/performance?offset=0&start_time=202110211800&stop_time=202110211859\n"
     ]
    },
    {
     "name": "stderr",
     "output_type": "stream",
     "text": [
      "/opt/anaconda3/lib/python3.8/site-packages/urllib3/connectionpool.py:981: InsecureRequestWarning: Unverified HTTPS request is being made to host '100.123.26.252'. Adding certificate verification is strongly advised. See: https://urllib3.readthedocs.io/en/latest/advanced-usage.html#ssl-warnings\n",
      "  warnings.warn(\n",
      "/opt/anaconda3/lib/python3.8/site-packages/urllib3/connectionpool.py:981: InsecureRequestWarning: Unverified HTTPS request is being made to host '100.123.26.224'. Adding certificate verification is strongly advised. See: https://urllib3.readthedocs.io/en/latest/advanced-usage.html#ssl-warnings\n",
      "  warnings.warn(\n",
      "/opt/anaconda3/lib/python3.8/site-packages/urllib3/connectionpool.py:981: InsecureRequestWarning: Unverified HTTPS request is being made to host '100.123.26.252'. Adding certificate verification is strongly advised. See: https://urllib3.readthedocs.io/en/latest/advanced-usage.html#ssl-warnings\n",
      "  warnings.warn(\n",
      "/opt/anaconda3/lib/python3.8/site-packages/urllib3/connectionpool.py:981: InsecureRequestWarning: Unverified HTTPS request is being made to host '100.123.26.252'. Adding certificate verification is strongly advised. See: https://urllib3.readthedocs.io/en/latest/advanced-usage.html#ssl-warnings\n",
      "  warnings.warn(\n"
     ]
    },
    {
     "name": "stdout",
     "output_type": "stream",
     "text": [
      "1.-Fecha: 2021-10-21 19:07:08.893157 - Error bucle externo:  404  no trajo datos:  https://100.123.26.224/api/v2/devices/BC:A9:93:0C:07:4A/performance?start_time=202110211800&stop_time=202110211859\n",
      " dato_param['total']  13 1\n",
      "https://100.123.26.252/api/v2/devices/BC:A9:93:0C:07:4B/performance?offset=0&start_time=202110211800&stop_time=202110211859\n",
      "1.-Fecha: 2021-10-21 19:07:08.893157 - Error bucle externo:  404  no trajo datos:  https://100.123.26.224/api/v2/devices/BC:A9:93:0C:07:4B/performance?start_time=202110211800&stop_time=202110211859\n",
      " dato_param['total']  13 1\n",
      "https://100.123.26.252/api/v2/devices/BC:A9:93:0C:07:4C/performance?offset=0&start_time=202110211800&stop_time=202110211859\n"
     ]
    },
    {
     "name": "stderr",
     "output_type": "stream",
     "text": [
      "/opt/anaconda3/lib/python3.8/site-packages/urllib3/connectionpool.py:981: InsecureRequestWarning: Unverified HTTPS request is being made to host '100.123.26.224'. Adding certificate verification is strongly advised. See: https://urllib3.readthedocs.io/en/latest/advanced-usage.html#ssl-warnings\n",
      "  warnings.warn(\n",
      "/opt/anaconda3/lib/python3.8/site-packages/urllib3/connectionpool.py:981: InsecureRequestWarning: Unverified HTTPS request is being made to host '100.123.26.252'. Adding certificate verification is strongly advised. See: https://urllib3.readthedocs.io/en/latest/advanced-usage.html#ssl-warnings\n",
      "  warnings.warn(\n",
      "/opt/anaconda3/lib/python3.8/site-packages/urllib3/connectionpool.py:981: InsecureRequestWarning: Unverified HTTPS request is being made to host '100.123.26.252'. Adding certificate verification is strongly advised. See: https://urllib3.readthedocs.io/en/latest/advanced-usage.html#ssl-warnings\n",
      "  warnings.warn(\n",
      "/opt/anaconda3/lib/python3.8/site-packages/urllib3/connectionpool.py:981: InsecureRequestWarning: Unverified HTTPS request is being made to host '100.123.26.224'. Adding certificate verification is strongly advised. See: https://urllib3.readthedocs.io/en/latest/advanced-usage.html#ssl-warnings\n",
      "  warnings.warn(\n"
     ]
    },
    {
     "name": "stdout",
     "output_type": "stream",
     "text": [
      "1.-Fecha: 2021-10-21 19:07:08.893157 - Error bucle externo:  404  no trajo datos:  https://100.123.26.224/api/v2/devices/BC:A9:93:0C:07:4C/performance?start_time=202110211800&stop_time=202110211859\n",
      " dato_param['total']  1 1\n",
      "https://100.123.26.252/api/v2/devices/BC:A9:93:0C:07:4D/performance?offset=0&start_time=202110211800&stop_time=202110211859\n",
      "1.-Fecha: 2021-10-21 19:07:08.893157 - Error bucle externo:  422  no trajo datos:  https://100.123.26.224/api/v2/devices/BC:A9:93:0C:07:4D/performance?start_time=202110211800&stop_time=202110211859\n",
      "1.-Fecha: 2021-10-21 19:07:08.893157 - Error bucle externo:  404  no trajo datos:  https://100.123.26.252/api/v2/devices/BC:A9:93:0C:07:4E/performance?start_time=202110211800&stop_time=202110211859\n"
     ]
    },
    {
     "name": "stderr",
     "output_type": "stream",
     "text": [
      "/opt/anaconda3/lib/python3.8/site-packages/urllib3/connectionpool.py:981: InsecureRequestWarning: Unverified HTTPS request is being made to host '100.123.26.252'. Adding certificate verification is strongly advised. See: https://urllib3.readthedocs.io/en/latest/advanced-usage.html#ssl-warnings\n",
      "  warnings.warn(\n",
      "/opt/anaconda3/lib/python3.8/site-packages/urllib3/connectionpool.py:981: InsecureRequestWarning: Unverified HTTPS request is being made to host '100.123.26.252'. Adding certificate verification is strongly advised. See: https://urllib3.readthedocs.io/en/latest/advanced-usage.html#ssl-warnings\n",
      "  warnings.warn(\n",
      "/opt/anaconda3/lib/python3.8/site-packages/urllib3/connectionpool.py:981: InsecureRequestWarning: Unverified HTTPS request is being made to host '100.123.26.224'. Adding certificate verification is strongly advised. See: https://urllib3.readthedocs.io/en/latest/advanced-usage.html#ssl-warnings\n",
      "  warnings.warn(\n",
      "/opt/anaconda3/lib/python3.8/site-packages/urllib3/connectionpool.py:981: InsecureRequestWarning: Unverified HTTPS request is being made to host '100.123.26.252'. Adding certificate verification is strongly advised. See: https://urllib3.readthedocs.io/en/latest/advanced-usage.html#ssl-warnings\n",
      "  warnings.warn(\n",
      "/opt/anaconda3/lib/python3.8/site-packages/urllib3/connectionpool.py:981: InsecureRequestWarning: Unverified HTTPS request is being made to host '100.123.26.252'. Adding certificate verification is strongly advised. See: https://urllib3.readthedocs.io/en/latest/advanced-usage.html#ssl-warnings\n",
      "  warnings.warn(\n"
     ]
    },
    {
     "name": "stdout",
     "output_type": "stream",
     "text": [
      "1.-Fecha: 2021-10-21 19:07:08.893157 - Error bucle externo:  404  no trajo datos:  https://100.123.26.252/api/v2/devices/BC:A9:93:0C:07:4F/performance?start_time=202110211800&stop_time=202110211859\n",
      " dato_param['total']  13 1\n",
      "https://100.123.26.252/api/v2/devices/BC:A9:93:0C:07:50/performance?offset=0&start_time=202110211800&stop_time=202110211859\n",
      "1.-Fecha: 2021-10-21 19:07:08.893157 - Error bucle externo:  404  no trajo datos:  https://100.123.26.224/api/v2/devices/BC:A9:93:0C:07:50/performance?start_time=202110211800&stop_time=202110211859\n"
     ]
    },
    {
     "name": "stderr",
     "output_type": "stream",
     "text": [
      "/opt/anaconda3/lib/python3.8/site-packages/urllib3/connectionpool.py:981: InsecureRequestWarning: Unverified HTTPS request is being made to host '100.123.26.252'. Adding certificate verification is strongly advised. See: https://urllib3.readthedocs.io/en/latest/advanced-usage.html#ssl-warnings\n",
      "  warnings.warn(\n",
      "/opt/anaconda3/lib/python3.8/site-packages/urllib3/connectionpool.py:981: InsecureRequestWarning: Unverified HTTPS request is being made to host '100.123.26.252'. Adding certificate verification is strongly advised. See: https://urllib3.readthedocs.io/en/latest/advanced-usage.html#ssl-warnings\n",
      "  warnings.warn(\n",
      "/opt/anaconda3/lib/python3.8/site-packages/urllib3/connectionpool.py:981: InsecureRequestWarning: Unverified HTTPS request is being made to host '100.123.26.224'. Adding certificate verification is strongly advised. See: https://urllib3.readthedocs.io/en/latest/advanced-usage.html#ssl-warnings\n",
      "  warnings.warn(\n",
      "/opt/anaconda3/lib/python3.8/site-packages/urllib3/connectionpool.py:981: InsecureRequestWarning: Unverified HTTPS request is being made to host '100.123.26.252'. Adding certificate verification is strongly advised. See: https://urllib3.readthedocs.io/en/latest/advanced-usage.html#ssl-warnings\n",
      "  warnings.warn(\n"
     ]
    },
    {
     "name": "stdout",
     "output_type": "stream",
     "text": [
      " dato_param['total']  13 1\n",
      "https://100.123.26.252/api/v2/devices/BC:A9:93:0C:07:51/performance?offset=0&start_time=202110211800&stop_time=202110211859\n",
      "1.-Fecha: 2021-10-21 19:07:08.893157 - Error bucle externo:  404  no trajo datos:  https://100.123.26.224/api/v2/devices/BC:A9:93:0C:07:51/performance?start_time=202110211800&stop_time=202110211859\n"
     ]
    },
    {
     "name": "stderr",
     "output_type": "stream",
     "text": [
      "/opt/anaconda3/lib/python3.8/site-packages/urllib3/connectionpool.py:981: InsecureRequestWarning: Unverified HTTPS request is being made to host '100.123.26.252'. Adding certificate verification is strongly advised. See: https://urllib3.readthedocs.io/en/latest/advanced-usage.html#ssl-warnings\n",
      "  warnings.warn(\n",
      "/opt/anaconda3/lib/python3.8/site-packages/urllib3/connectionpool.py:981: InsecureRequestWarning: Unverified HTTPS request is being made to host '100.123.26.224'. Adding certificate verification is strongly advised. See: https://urllib3.readthedocs.io/en/latest/advanced-usage.html#ssl-warnings\n",
      "  warnings.warn(\n",
      "/opt/anaconda3/lib/python3.8/site-packages/urllib3/connectionpool.py:981: InsecureRequestWarning: Unverified HTTPS request is being made to host '100.123.26.252'. Adding certificate verification is strongly advised. See: https://urllib3.readthedocs.io/en/latest/advanced-usage.html#ssl-warnings\n",
      "  warnings.warn(\n"
     ]
    },
    {
     "name": "stdout",
     "output_type": "stream",
     "text": [
      " dato_param['total']  13 1\n",
      "https://100.123.26.252/api/v2/devices/BC:A9:93:0C:07:52/performance?offset=0&start_time=202110211800&stop_time=202110211859\n",
      "1.-Fecha: 2021-10-21 19:07:08.893157 - Error bucle externo:  404  no trajo datos:  https://100.123.26.224/api/v2/devices/BC:A9:93:0C:07:52/performance?start_time=202110211800&stop_time=202110211859\n",
      " dato_param['total']  13 1\n",
      "https://100.123.26.252/api/v2/devices/BC:A9:93:0C:07:53/performance?offset=0&start_time=202110211800&stop_time=202110211859\n"
     ]
    },
    {
     "name": "stderr",
     "output_type": "stream",
     "text": [
      "/opt/anaconda3/lib/python3.8/site-packages/urllib3/connectionpool.py:981: InsecureRequestWarning: Unverified HTTPS request is being made to host '100.123.26.252'. Adding certificate verification is strongly advised. See: https://urllib3.readthedocs.io/en/latest/advanced-usage.html#ssl-warnings\n",
      "  warnings.warn(\n",
      "/opt/anaconda3/lib/python3.8/site-packages/urllib3/connectionpool.py:981: InsecureRequestWarning: Unverified HTTPS request is being made to host '100.123.26.224'. Adding certificate verification is strongly advised. See: https://urllib3.readthedocs.io/en/latest/advanced-usage.html#ssl-warnings\n",
      "  warnings.warn(\n",
      "/opt/anaconda3/lib/python3.8/site-packages/urllib3/connectionpool.py:981: InsecureRequestWarning: Unverified HTTPS request is being made to host '100.123.26.252'. Adding certificate verification is strongly advised. See: https://urllib3.readthedocs.io/en/latest/advanced-usage.html#ssl-warnings\n",
      "  warnings.warn(\n",
      "/opt/anaconda3/lib/python3.8/site-packages/urllib3/connectionpool.py:981: InsecureRequestWarning: Unverified HTTPS request is being made to host '100.123.26.252'. Adding certificate verification is strongly advised. See: https://urllib3.readthedocs.io/en/latest/advanced-usage.html#ssl-warnings\n",
      "  warnings.warn(\n",
      "/opt/anaconda3/lib/python3.8/site-packages/urllib3/connectionpool.py:981: InsecureRequestWarning: Unverified HTTPS request is being made to host '100.123.26.224'. Adding certificate verification is strongly advised. See: https://urllib3.readthedocs.io/en/latest/advanced-usage.html#ssl-warnings\n",
      "  warnings.warn(\n",
      "/opt/anaconda3/lib/python3.8/site-packages/urllib3/connectionpool.py:981: InsecureRequestWarning: Unverified HTTPS request is being made to host '100.123.26.252'. Adding certificate verification is strongly advised. See: https://urllib3.readthedocs.io/en/latest/advanced-usage.html#ssl-warnings\n",
      "  warnings.warn(\n",
      "/opt/anaconda3/lib/python3.8/site-packages/urllib3/connectionpool.py:981: InsecureRequestWarning: Unverified HTTPS request is being made to host '100.123.26.252'. Adding certificate verification is strongly advised. See: https://urllib3.readthedocs.io/en/latest/advanced-usage.html#ssl-warnings\n",
      "  warnings.warn(\n",
      "/opt/anaconda3/lib/python3.8/site-packages/urllib3/connectionpool.py:981: InsecureRequestWarning: Unverified HTTPS request is being made to host '100.123.26.252'. Adding certificate verification is strongly advised. See: https://urllib3.readthedocs.io/en/latest/advanced-usage.html#ssl-warnings\n",
      "  warnings.warn(\n"
     ]
    },
    {
     "name": "stdout",
     "output_type": "stream",
     "text": [
      "1.-Fecha: 2021-10-21 19:07:08.893157 - Error bucle externo:  404  no trajo datos:  https://100.123.26.224/api/v2/devices/BC:A9:93:0C:07:53/performance?start_time=202110211800&stop_time=202110211859\n",
      "1.-Fecha: 2021-10-21 19:07:08.893157 - Error bucle externo:  404  no trajo datos:  https://100.123.26.252/api/v2/devices/BC:A9:93:0C:07:57/performance?start_time=202110211800&stop_time=202110211859\n",
      "1.-Fecha: 2021-10-21 19:07:08.893157 - Error bucle externo:  404  no trajo datos:  https://100.123.26.252/api/v2/devices/BC:A9:93:0C:07:58/performance?start_time=202110211800&stop_time=202110211859\n",
      "1.-Fecha: 2021-10-21 19:07:08.893157 - Error bucle externo:  404  no trajo datos:  https://100.123.26.252/api/v2/devices/BC:A9:93:0C:07:59/performance?start_time=202110211800&stop_time=202110211859\n"
     ]
    },
    {
     "name": "stderr",
     "output_type": "stream",
     "text": [
      "/opt/anaconda3/lib/python3.8/site-packages/urllib3/connectionpool.py:981: InsecureRequestWarning: Unverified HTTPS request is being made to host '100.123.26.252'. Adding certificate verification is strongly advised. See: https://urllib3.readthedocs.io/en/latest/advanced-usage.html#ssl-warnings\n",
      "  warnings.warn(\n",
      "/opt/anaconda3/lib/python3.8/site-packages/urllib3/connectionpool.py:981: InsecureRequestWarning: Unverified HTTPS request is being made to host '100.123.26.252'. Adding certificate verification is strongly advised. See: https://urllib3.readthedocs.io/en/latest/advanced-usage.html#ssl-warnings\n",
      "  warnings.warn(\n",
      "/opt/anaconda3/lib/python3.8/site-packages/urllib3/connectionpool.py:981: InsecureRequestWarning: Unverified HTTPS request is being made to host '100.123.26.252'. Adding certificate verification is strongly advised. See: https://urllib3.readthedocs.io/en/latest/advanced-usage.html#ssl-warnings\n",
      "  warnings.warn(\n",
      "/opt/anaconda3/lib/python3.8/site-packages/urllib3/connectionpool.py:981: InsecureRequestWarning: Unverified HTTPS request is being made to host '100.123.26.252'. Adding certificate verification is strongly advised. See: https://urllib3.readthedocs.io/en/latest/advanced-usage.html#ssl-warnings\n",
      "  warnings.warn(\n"
     ]
    },
    {
     "name": "stdout",
     "output_type": "stream",
     "text": [
      "1.-Fecha: 2021-10-21 19:07:08.893157 - Error bucle externo:  404  no trajo datos:  https://100.123.26.252/api/v2/devices/BC:A9:93:0C:07:5A/performance?start_time=202110211800&stop_time=202110211859\n",
      "1.-Fecha: 2021-10-21 19:07:08.893157 - Error bucle externo:  404  no trajo datos:  https://100.123.26.252/api/v2/devices/BC:A9:93:0C:07:5B/performance?start_time=202110211800&stop_time=202110211859\n",
      "1.-Fecha: 2021-10-21 19:07:08.893157 - Error bucle externo:  404  no trajo datos:  https://100.123.26.252/api/v2/devices/BC:A9:93:0C:07:5C/performance?start_time=202110211800&stop_time=202110211859\n",
      "1.-Fecha: 2021-10-21 19:07:08.893157 - Error bucle externo:  404  no trajo datos:  https://100.123.26.252/api/v2/devices/BC:A9:93:0C:07:60/performance?start_time=202110211800&stop_time=202110211859\n",
      " dato_param['total']  1 1\n",
      "https://100.123.26.252/api/v2/devices/BC:A9:93:0C:07:65/performance?offset=0&start_time=202110211800&stop_time=202110211859\n"
     ]
    },
    {
     "name": "stderr",
     "output_type": "stream",
     "text": [
      "/opt/anaconda3/lib/python3.8/site-packages/urllib3/connectionpool.py:981: InsecureRequestWarning: Unverified HTTPS request is being made to host '100.123.26.252'. Adding certificate verification is strongly advised. See: https://urllib3.readthedocs.io/en/latest/advanced-usage.html#ssl-warnings\n",
      "  warnings.warn(\n",
      "/opt/anaconda3/lib/python3.8/site-packages/urllib3/connectionpool.py:981: InsecureRequestWarning: Unverified HTTPS request is being made to host '100.123.26.252'. Adding certificate verification is strongly advised. See: https://urllib3.readthedocs.io/en/latest/advanced-usage.html#ssl-warnings\n",
      "  warnings.warn(\n",
      "/opt/anaconda3/lib/python3.8/site-packages/urllib3/connectionpool.py:981: InsecureRequestWarning: Unverified HTTPS request is being made to host '100.123.26.224'. Adding certificate verification is strongly advised. See: https://urllib3.readthedocs.io/en/latest/advanced-usage.html#ssl-warnings\n",
      "  warnings.warn(\n",
      "/opt/anaconda3/lib/python3.8/site-packages/urllib3/connectionpool.py:981: InsecureRequestWarning: Unverified HTTPS request is being made to host '100.123.26.252'. Adding certificate verification is strongly advised. See: https://urllib3.readthedocs.io/en/latest/advanced-usage.html#ssl-warnings\n",
      "  warnings.warn(\n"
     ]
    },
    {
     "name": "stdout",
     "output_type": "stream",
     "text": [
      "1.-Fecha: 2021-10-21 19:07:08.893157 - Error bucle externo:  404  no trajo datos:  https://100.123.26.224/api/v2/devices/BC:A9:93:0C:07:65/performance?start_time=202110211800&stop_time=202110211859\n",
      "1.-Fecha: 2021-10-21 19:07:08.893157 - Error bucle externo:  404  no trajo datos:  https://100.123.26.252/api/v2/devices/BC:A9:93:0C:07:68/performance?start_time=202110211800&stop_time=202110211859\n",
      "1.-Fecha: 2021-10-21 19:07:08.893157 - Error bucle externo:  404  no trajo datos:  https://100.123.26.252/api/v2/devices/BC:A9:93:0C:07:6A/performance?start_time=202110211800&stop_time=202110211859\n"
     ]
    },
    {
     "name": "stderr",
     "output_type": "stream",
     "text": [
      "/opt/anaconda3/lib/python3.8/site-packages/urllib3/connectionpool.py:981: InsecureRequestWarning: Unverified HTTPS request is being made to host '100.123.26.252'. Adding certificate verification is strongly advised. See: https://urllib3.readthedocs.io/en/latest/advanced-usage.html#ssl-warnings\n",
      "  warnings.warn(\n",
      "/opt/anaconda3/lib/python3.8/site-packages/urllib3/connectionpool.py:981: InsecureRequestWarning: Unverified HTTPS request is being made to host '100.123.26.252'. Adding certificate verification is strongly advised. See: https://urllib3.readthedocs.io/en/latest/advanced-usage.html#ssl-warnings\n",
      "  warnings.warn(\n",
      "/opt/anaconda3/lib/python3.8/site-packages/urllib3/connectionpool.py:981: InsecureRequestWarning: Unverified HTTPS request is being made to host '100.123.26.252'. Adding certificate verification is strongly advised. See: https://urllib3.readthedocs.io/en/latest/advanced-usage.html#ssl-warnings\n",
      "  warnings.warn(\n",
      "/opt/anaconda3/lib/python3.8/site-packages/urllib3/connectionpool.py:981: InsecureRequestWarning: Unverified HTTPS request is being made to host '100.123.26.224'. Adding certificate verification is strongly advised. See: https://urllib3.readthedocs.io/en/latest/advanced-usage.html#ssl-warnings\n",
      "  warnings.warn(\n"
     ]
    },
    {
     "name": "stdout",
     "output_type": "stream",
     "text": [
      " dato_param['total']  1 1\n",
      "https://100.123.26.252/api/v2/devices/BC:A9:93:0C:07:6B/performance?offset=0&start_time=202110211800&stop_time=202110211859\n",
      "1.-Fecha: 2021-10-21 19:07:08.893157 - Error bucle externo:  404  no trajo datos:  https://100.123.26.224/api/v2/devices/BC:A9:93:0C:07:6B/performance?start_time=202110211800&stop_time=202110211859\n",
      " dato_param['total']  1 1\n",
      "https://100.123.26.252/api/v2/devices/BC:A9:93:0C:07:6C/performance?offset=0&start_time=202110211800&stop_time=202110211859\n",
      "1.-Fecha: 2021-10-21 19:07:08.893157 - Error bucle externo:  404  no trajo datos:  https://100.123.26.224/api/v2/devices/BC:A9:93:0C:07:6C/performance?start_time=202110211800&stop_time=202110211859\n"
     ]
    },
    {
     "name": "stderr",
     "output_type": "stream",
     "text": [
      "/opt/anaconda3/lib/python3.8/site-packages/urllib3/connectionpool.py:981: InsecureRequestWarning: Unverified HTTPS request is being made to host '100.123.26.252'. Adding certificate verification is strongly advised. See: https://urllib3.readthedocs.io/en/latest/advanced-usage.html#ssl-warnings\n",
      "  warnings.warn(\n",
      "/opt/anaconda3/lib/python3.8/site-packages/urllib3/connectionpool.py:981: InsecureRequestWarning: Unverified HTTPS request is being made to host '100.123.26.252'. Adding certificate verification is strongly advised. See: https://urllib3.readthedocs.io/en/latest/advanced-usage.html#ssl-warnings\n",
      "  warnings.warn(\n",
      "/opt/anaconda3/lib/python3.8/site-packages/urllib3/connectionpool.py:981: InsecureRequestWarning: Unverified HTTPS request is being made to host '100.123.26.224'. Adding certificate verification is strongly advised. See: https://urllib3.readthedocs.io/en/latest/advanced-usage.html#ssl-warnings\n",
      "  warnings.warn(\n",
      "/opt/anaconda3/lib/python3.8/site-packages/urllib3/connectionpool.py:981: InsecureRequestWarning: Unverified HTTPS request is being made to host '100.123.26.252'. Adding certificate verification is strongly advised. See: https://urllib3.readthedocs.io/en/latest/advanced-usage.html#ssl-warnings\n",
      "  warnings.warn(\n",
      "/opt/anaconda3/lib/python3.8/site-packages/urllib3/connectionpool.py:981: InsecureRequestWarning: Unverified HTTPS request is being made to host '100.123.26.252'. Adding certificate verification is strongly advised. See: https://urllib3.readthedocs.io/en/latest/advanced-usage.html#ssl-warnings\n",
      "  warnings.warn(\n"
     ]
    },
    {
     "name": "stdout",
     "output_type": "stream",
     "text": [
      "1.-Fecha: 2021-10-21 19:07:08.893157 - Error bucle externo:  404  no trajo datos:  https://100.123.26.252/api/v2/devices/BC:A9:93:0C:07:6D/performance?start_time=202110211800&stop_time=202110211859\n",
      "1.-Fecha: 2021-10-21 19:07:08.893157 - Error bucle externo:  404  no trajo datos:  https://100.123.26.252/api/v2/devices/BC:A9:93:0C:07:70/performance?start_time=202110211800&stop_time=202110211859\n",
      " dato_param['total']  13 1\n",
      "https://100.123.26.252/api/v2/devices/BC:A9:93:0C:07:73/performance?offset=0&start_time=202110211800&stop_time=202110211859\n"
     ]
    },
    {
     "name": "stderr",
     "output_type": "stream",
     "text": [
      "/opt/anaconda3/lib/python3.8/site-packages/urllib3/connectionpool.py:981: InsecureRequestWarning: Unverified HTTPS request is being made to host '100.123.26.252'. Adding certificate verification is strongly advised. See: https://urllib3.readthedocs.io/en/latest/advanced-usage.html#ssl-warnings\n",
      "  warnings.warn(\n",
      "/opt/anaconda3/lib/python3.8/site-packages/urllib3/connectionpool.py:981: InsecureRequestWarning: Unverified HTTPS request is being made to host '100.123.26.252'. Adding certificate verification is strongly advised. See: https://urllib3.readthedocs.io/en/latest/advanced-usage.html#ssl-warnings\n",
      "  warnings.warn(\n",
      "/opt/anaconda3/lib/python3.8/site-packages/urllib3/connectionpool.py:981: InsecureRequestWarning: Unverified HTTPS request is being made to host '100.123.26.224'. Adding certificate verification is strongly advised. See: https://urllib3.readthedocs.io/en/latest/advanced-usage.html#ssl-warnings\n",
      "  warnings.warn(\n"
     ]
    },
    {
     "name": "stdout",
     "output_type": "stream",
     "text": [
      "1.-Fecha: 2021-10-21 19:07:08.893157 - Error bucle externo:  404  no trajo datos:  https://100.123.26.224/api/v2/devices/BC:A9:93:0C:07:73/performance?start_time=202110211800&stop_time=202110211859\n",
      " dato_param['total']  20 1\n",
      "https://100.123.26.252/api/v2/devices/BC:A9:93:0C:07:74/performance?offset=0&start_time=202110211800&stop_time=202110211859\n",
      "1.-Fecha: 2021-10-21 19:07:08.893157 - Error bucle externo:  404  no trajo datos:  https://100.123.26.224/api/v2/devices/BC:A9:93:0C:07:74/performance?start_time=202110211800&stop_time=202110211859\n",
      "1.-Fecha: 2021-10-21 19:07:08.893157 - Error bucle externo:  404  no trajo datos:  https://100.123.26.252/api/v2/devices/BC:A9:93:0C:07:77/performance?start_time=202110211800&stop_time=202110211859\n",
      "1.-Fecha: 2021-10-21 19:07:08.893157 - Error bucle externo:  404  no trajo datos:  https://100.123.26.252/api/v2/devices/BC:A9:93:0C:07:7B/performance?start_time=202110211800&stop_time=202110211859\n"
     ]
    },
    {
     "name": "stderr",
     "output_type": "stream",
     "text": [
      "/opt/anaconda3/lib/python3.8/site-packages/urllib3/connectionpool.py:981: InsecureRequestWarning: Unverified HTTPS request is being made to host '100.123.26.252'. Adding certificate verification is strongly advised. See: https://urllib3.readthedocs.io/en/latest/advanced-usage.html#ssl-warnings\n",
      "  warnings.warn(\n",
      "/opt/anaconda3/lib/python3.8/site-packages/urllib3/connectionpool.py:981: InsecureRequestWarning: Unverified HTTPS request is being made to host '100.123.26.252'. Adding certificate verification is strongly advised. See: https://urllib3.readthedocs.io/en/latest/advanced-usage.html#ssl-warnings\n",
      "  warnings.warn(\n",
      "/opt/anaconda3/lib/python3.8/site-packages/urllib3/connectionpool.py:981: InsecureRequestWarning: Unverified HTTPS request is being made to host '100.123.26.224'. Adding certificate verification is strongly advised. See: https://urllib3.readthedocs.io/en/latest/advanced-usage.html#ssl-warnings\n",
      "  warnings.warn(\n",
      "/opt/anaconda3/lib/python3.8/site-packages/urllib3/connectionpool.py:981: InsecureRequestWarning: Unverified HTTPS request is being made to host '100.123.26.252'. Adding certificate verification is strongly advised. See: https://urllib3.readthedocs.io/en/latest/advanced-usage.html#ssl-warnings\n",
      "  warnings.warn(\n",
      "/opt/anaconda3/lib/python3.8/site-packages/urllib3/connectionpool.py:981: InsecureRequestWarning: Unverified HTTPS request is being made to host '100.123.26.252'. Adding certificate verification is strongly advised. See: https://urllib3.readthedocs.io/en/latest/advanced-usage.html#ssl-warnings\n",
      "  warnings.warn(\n",
      "/opt/anaconda3/lib/python3.8/site-packages/urllib3/connectionpool.py:981: InsecureRequestWarning: Unverified HTTPS request is being made to host '100.123.26.252'. Adding certificate verification is strongly advised. See: https://urllib3.readthedocs.io/en/latest/advanced-usage.html#ssl-warnings\n",
      "  warnings.warn(\n"
     ]
    },
    {
     "name": "stdout",
     "output_type": "stream",
     "text": [
      " dato_param['total']  13 1\n",
      "https://100.123.26.252/api/v2/devices/BC:A9:93:0C:07:7C/performance?offset=0&start_time=202110211800&stop_time=202110211859\n",
      "1.-Fecha: 2021-10-21 19:07:08.893157 - Error bucle externo:  404  no trajo datos:  https://100.123.26.224/api/v2/devices/BC:A9:93:0C:07:7C/performance?start_time=202110211800&stop_time=202110211859\n",
      "1.-Fecha: 2021-10-21 19:07:08.893157 - Error bucle externo:  404  no trajo datos:  https://100.123.26.252/api/v2/devices/BC:A9:93:0C:07:7E/performance?start_time=202110211800&stop_time=202110211859\n"
     ]
    },
    {
     "name": "stderr",
     "output_type": "stream",
     "text": [
      "/opt/anaconda3/lib/python3.8/site-packages/urllib3/connectionpool.py:981: InsecureRequestWarning: Unverified HTTPS request is being made to host '100.123.26.252'. Adding certificate verification is strongly advised. See: https://urllib3.readthedocs.io/en/latest/advanced-usage.html#ssl-warnings\n",
      "  warnings.warn(\n",
      "/opt/anaconda3/lib/python3.8/site-packages/urllib3/connectionpool.py:981: InsecureRequestWarning: Unverified HTTPS request is being made to host '100.123.26.224'. Adding certificate verification is strongly advised. See: https://urllib3.readthedocs.io/en/latest/advanced-usage.html#ssl-warnings\n",
      "  warnings.warn(\n",
      "/opt/anaconda3/lib/python3.8/site-packages/urllib3/connectionpool.py:981: InsecureRequestWarning: Unverified HTTPS request is being made to host '100.123.26.252'. Adding certificate verification is strongly advised. See: https://urllib3.readthedocs.io/en/latest/advanced-usage.html#ssl-warnings\n",
      "  warnings.warn(\n",
      "/opt/anaconda3/lib/python3.8/site-packages/urllib3/connectionpool.py:981: InsecureRequestWarning: Unverified HTTPS request is being made to host '100.123.26.252'. Adding certificate verification is strongly advised. See: https://urllib3.readthedocs.io/en/latest/advanced-usage.html#ssl-warnings\n",
      "  warnings.warn(\n"
     ]
    },
    {
     "name": "stdout",
     "output_type": "stream",
     "text": [
      "1.-Fecha: 2021-10-21 19:07:08.893157 - Error bucle externo:  404  no trajo datos:  https://100.123.26.252/api/v2/devices/BC:A9:93:0C:07:87/performance?start_time=202110211800&stop_time=202110211859\n",
      " dato_param['total']  1 1\n",
      "https://100.123.26.252/api/v2/devices/BC:A9:93:0C:07:96/performance?offset=0&start_time=202110211800&stop_time=202110211859\n",
      "1.-Fecha: 2021-10-21 19:07:08.893157 - Error bucle externo:  404  no trajo datos:  https://100.123.26.224/api/v2/devices/BC:A9:93:0C:07:96/performance?start_time=202110211800&stop_time=202110211859\n"
     ]
    },
    {
     "name": "stderr",
     "output_type": "stream",
     "text": [
      "/opt/anaconda3/lib/python3.8/site-packages/urllib3/connectionpool.py:981: InsecureRequestWarning: Unverified HTTPS request is being made to host '100.123.26.252'. Adding certificate verification is strongly advised. See: https://urllib3.readthedocs.io/en/latest/advanced-usage.html#ssl-warnings\n",
      "  warnings.warn(\n",
      "/opt/anaconda3/lib/python3.8/site-packages/urllib3/connectionpool.py:981: InsecureRequestWarning: Unverified HTTPS request is being made to host '100.123.26.252'. Adding certificate verification is strongly advised. See: https://urllib3.readthedocs.io/en/latest/advanced-usage.html#ssl-warnings\n",
      "  warnings.warn(\n",
      "/opt/anaconda3/lib/python3.8/site-packages/urllib3/connectionpool.py:981: InsecureRequestWarning: Unverified HTTPS request is being made to host '100.123.26.224'. Adding certificate verification is strongly advised. See: https://urllib3.readthedocs.io/en/latest/advanced-usage.html#ssl-warnings\n",
      "  warnings.warn(\n",
      "/opt/anaconda3/lib/python3.8/site-packages/urllib3/connectionpool.py:981: InsecureRequestWarning: Unverified HTTPS request is being made to host '100.123.26.252'. Adding certificate verification is strongly advised. See: https://urllib3.readthedocs.io/en/latest/advanced-usage.html#ssl-warnings\n",
      "  warnings.warn(\n"
     ]
    },
    {
     "name": "stdout",
     "output_type": "stream",
     "text": [
      "1.-Fecha: 2021-10-21 19:07:08.893157 - Error bucle externo:  404  no trajo datos:  https://100.123.26.252/api/v2/devices/BC:A9:93:0C:07:98/performance?start_time=202110211800&stop_time=202110211859\n",
      "1.-Fecha: 2021-10-21 19:07:08.893157 - Error bucle externo:  404  no trajo datos:  https://100.123.26.252/api/v2/devices/BC:A9:93:0C:07:99/performance?start_time=202110211800&stop_time=202110211859\n",
      " dato_param['total']  13 1\n",
      "https://100.123.26.252/api/v2/devices/BC:A9:93:0C:07:9B/performance?offset=0&start_time=202110211800&stop_time=202110211859\n",
      "1.-Fecha: 2021-10-21 19:07:08.893157 - Error bucle externo:  404  no trajo datos:  https://100.123.26.224/api/v2/devices/BC:A9:93:0C:07:9B/performance?start_time=202110211800&stop_time=202110211859\n"
     ]
    },
    {
     "name": "stderr",
     "output_type": "stream",
     "text": [
      "/opt/anaconda3/lib/python3.8/site-packages/urllib3/connectionpool.py:981: InsecureRequestWarning: Unverified HTTPS request is being made to host '100.123.26.252'. Adding certificate verification is strongly advised. See: https://urllib3.readthedocs.io/en/latest/advanced-usage.html#ssl-warnings\n",
      "  warnings.warn(\n",
      "/opt/anaconda3/lib/python3.8/site-packages/urllib3/connectionpool.py:981: InsecureRequestWarning: Unverified HTTPS request is being made to host '100.123.26.252'. Adding certificate verification is strongly advised. See: https://urllib3.readthedocs.io/en/latest/advanced-usage.html#ssl-warnings\n",
      "  warnings.warn(\n",
      "/opt/anaconda3/lib/python3.8/site-packages/urllib3/connectionpool.py:981: InsecureRequestWarning: Unverified HTTPS request is being made to host '100.123.26.252'. Adding certificate verification is strongly advised. See: https://urllib3.readthedocs.io/en/latest/advanced-usage.html#ssl-warnings\n",
      "  warnings.warn(\n",
      "/opt/anaconda3/lib/python3.8/site-packages/urllib3/connectionpool.py:981: InsecureRequestWarning: Unverified HTTPS request is being made to host '100.123.26.224'. Adding certificate verification is strongly advised. See: https://urllib3.readthedocs.io/en/latest/advanced-usage.html#ssl-warnings\n",
      "  warnings.warn(\n",
      "/opt/anaconda3/lib/python3.8/site-packages/urllib3/connectionpool.py:981: InsecureRequestWarning: Unverified HTTPS request is being made to host '100.123.26.252'. Adding certificate verification is strongly advised. See: https://urllib3.readthedocs.io/en/latest/advanced-usage.html#ssl-warnings\n",
      "  warnings.warn(\n"
     ]
    },
    {
     "name": "stdout",
     "output_type": "stream",
     "text": [
      " dato_param['total']  13 1\n",
      "https://100.123.26.252/api/v2/devices/BC:A9:93:0C:07:9C/performance?offset=0&start_time=202110211800&stop_time=202110211859\n",
      "1.-Fecha: 2021-10-21 19:07:08.893157 - Error bucle externo:  404  no trajo datos:  https://100.123.26.224/api/v2/devices/BC:A9:93:0C:07:9C/performance?start_time=202110211800&stop_time=202110211859\n",
      " dato_param['total']  1 1\n",
      "https://100.123.26.252/api/v2/devices/BC:A9:93:0C:07:9D/performance?offset=0&start_time=202110211800&stop_time=202110211859\n"
     ]
    },
    {
     "name": "stderr",
     "output_type": "stream",
     "text": [
      "/opt/anaconda3/lib/python3.8/site-packages/urllib3/connectionpool.py:981: InsecureRequestWarning: Unverified HTTPS request is being made to host '100.123.26.252'. Adding certificate verification is strongly advised. See: https://urllib3.readthedocs.io/en/latest/advanced-usage.html#ssl-warnings\n",
      "  warnings.warn(\n",
      "/opt/anaconda3/lib/python3.8/site-packages/urllib3/connectionpool.py:981: InsecureRequestWarning: Unverified HTTPS request is being made to host '100.123.26.224'. Adding certificate verification is strongly advised. See: https://urllib3.readthedocs.io/en/latest/advanced-usage.html#ssl-warnings\n",
      "  warnings.warn(\n",
      "/opt/anaconda3/lib/python3.8/site-packages/urllib3/connectionpool.py:981: InsecureRequestWarning: Unverified HTTPS request is being made to host '100.123.26.252'. Adding certificate verification is strongly advised. See: https://urllib3.readthedocs.io/en/latest/advanced-usage.html#ssl-warnings\n",
      "  warnings.warn(\n",
      "/opt/anaconda3/lib/python3.8/site-packages/urllib3/connectionpool.py:981: InsecureRequestWarning: Unverified HTTPS request is being made to host '100.123.26.252'. Adding certificate verification is strongly advised. See: https://urllib3.readthedocs.io/en/latest/advanced-usage.html#ssl-warnings\n",
      "  warnings.warn(\n",
      "/opt/anaconda3/lib/python3.8/site-packages/urllib3/connectionpool.py:981: InsecureRequestWarning: Unverified HTTPS request is being made to host '100.123.26.224'. Adding certificate verification is strongly advised. See: https://urllib3.readthedocs.io/en/latest/advanced-usage.html#ssl-warnings\n",
      "  warnings.warn(\n",
      "/opt/anaconda3/lib/python3.8/site-packages/urllib3/connectionpool.py:981: InsecureRequestWarning: Unverified HTTPS request is being made to host '100.123.26.252'. Adding certificate verification is strongly advised. See: https://urllib3.readthedocs.io/en/latest/advanced-usage.html#ssl-warnings\n",
      "  warnings.warn(\n",
      "/opt/anaconda3/lib/python3.8/site-packages/urllib3/connectionpool.py:981: InsecureRequestWarning: Unverified HTTPS request is being made to host '100.123.26.252'. Adding certificate verification is strongly advised. See: https://urllib3.readthedocs.io/en/latest/advanced-usage.html#ssl-warnings\n",
      "  warnings.warn(\n",
      "/opt/anaconda3/lib/python3.8/site-packages/urllib3/connectionpool.py:981: InsecureRequestWarning: Unverified HTTPS request is being made to host '100.123.26.224'. Adding certificate verification is strongly advised. See: https://urllib3.readthedocs.io/en/latest/advanced-usage.html#ssl-warnings\n",
      "  warnings.warn(\n"
     ]
    },
    {
     "name": "stdout",
     "output_type": "stream",
     "text": [
      "1.-Fecha: 2021-10-21 19:07:08.893157 - Error bucle externo:  404  no trajo datos:  https://100.123.26.224/api/v2/devices/BC:A9:93:0C:07:9D/performance?start_time=202110211800&stop_time=202110211859\n",
      " dato_param['total']  13 1\n",
      "https://100.123.26.252/api/v2/devices/BC:A9:93:0C:07:9E/performance?offset=0&start_time=202110211800&stop_time=202110211859\n",
      "1.-Fecha: 2021-10-21 19:07:08.893157 - Error bucle externo:  404  no trajo datos:  https://100.123.26.224/api/v2/devices/BC:A9:93:0C:07:9E/performance?start_time=202110211800&stop_time=202110211859\n",
      " dato_param['total']  1 1\n",
      "https://100.123.26.252/api/v2/devices/BC:A9:93:0C:07:9F/performance?offset=0&start_time=202110211800&stop_time=202110211859\n"
     ]
    },
    {
     "name": "stderr",
     "output_type": "stream",
     "text": [
      "/opt/anaconda3/lib/python3.8/site-packages/urllib3/connectionpool.py:981: InsecureRequestWarning: Unverified HTTPS request is being made to host '100.123.26.252'. Adding certificate verification is strongly advised. See: https://urllib3.readthedocs.io/en/latest/advanced-usage.html#ssl-warnings\n",
      "  warnings.warn(\n",
      "/opt/anaconda3/lib/python3.8/site-packages/urllib3/connectionpool.py:981: InsecureRequestWarning: Unverified HTTPS request is being made to host '100.123.26.252'. Adding certificate verification is strongly advised. See: https://urllib3.readthedocs.io/en/latest/advanced-usage.html#ssl-warnings\n",
      "  warnings.warn(\n",
      "/opt/anaconda3/lib/python3.8/site-packages/urllib3/connectionpool.py:981: InsecureRequestWarning: Unverified HTTPS request is being made to host '100.123.26.224'. Adding certificate verification is strongly advised. See: https://urllib3.readthedocs.io/en/latest/advanced-usage.html#ssl-warnings\n",
      "  warnings.warn(\n",
      "/opt/anaconda3/lib/python3.8/site-packages/urllib3/connectionpool.py:981: InsecureRequestWarning: Unverified HTTPS request is being made to host '100.123.26.252'. Adding certificate verification is strongly advised. See: https://urllib3.readthedocs.io/en/latest/advanced-usage.html#ssl-warnings\n",
      "  warnings.warn(\n",
      "/opt/anaconda3/lib/python3.8/site-packages/urllib3/connectionpool.py:981: InsecureRequestWarning: Unverified HTTPS request is being made to host '100.123.26.252'. Adding certificate verification is strongly advised. See: https://urllib3.readthedocs.io/en/latest/advanced-usage.html#ssl-warnings\n",
      "  warnings.warn(\n"
     ]
    },
    {
     "name": "stdout",
     "output_type": "stream",
     "text": [
      "1.-Fecha: 2021-10-21 19:07:08.893157 - Error bucle externo:  404  no trajo datos:  https://100.123.26.224/api/v2/devices/BC:A9:93:0C:07:9F/performance?start_time=202110211800&stop_time=202110211859\n",
      " dato_param['total']  1 1\n",
      "https://100.123.26.252/api/v2/devices/BC:A9:93:0C:07:A1/performance?offset=0&start_time=202110211800&stop_time=202110211859\n"
     ]
    },
    {
     "name": "stderr",
     "output_type": "stream",
     "text": [
      "/opt/anaconda3/lib/python3.8/site-packages/urllib3/connectionpool.py:981: InsecureRequestWarning: Unverified HTTPS request is being made to host '100.123.26.224'. Adding certificate verification is strongly advised. See: https://urllib3.readthedocs.io/en/latest/advanced-usage.html#ssl-warnings\n",
      "  warnings.warn(\n",
      "/opt/anaconda3/lib/python3.8/site-packages/urllib3/connectionpool.py:981: InsecureRequestWarning: Unverified HTTPS request is being made to host '100.123.26.252'. Adding certificate verification is strongly advised. See: https://urllib3.readthedocs.io/en/latest/advanced-usage.html#ssl-warnings\n",
      "  warnings.warn(\n",
      "/opt/anaconda3/lib/python3.8/site-packages/urllib3/connectionpool.py:981: InsecureRequestWarning: Unverified HTTPS request is being made to host '100.123.26.252'. Adding certificate verification is strongly advised. See: https://urllib3.readthedocs.io/en/latest/advanced-usage.html#ssl-warnings\n",
      "  warnings.warn(\n",
      "/opt/anaconda3/lib/python3.8/site-packages/urllib3/connectionpool.py:981: InsecureRequestWarning: Unverified HTTPS request is being made to host '100.123.26.252'. Adding certificate verification is strongly advised. See: https://urllib3.readthedocs.io/en/latest/advanced-usage.html#ssl-warnings\n",
      "  warnings.warn(\n"
     ]
    },
    {
     "name": "stdout",
     "output_type": "stream",
     "text": [
      "1.-Fecha: 2021-10-21 19:07:08.893157 - Error bucle externo:  404  no trajo datos:  https://100.123.26.224/api/v2/devices/BC:A9:93:0C:07:A1/performance?start_time=202110211800&stop_time=202110211859\n",
      "1.-Fecha: 2021-10-21 19:07:08.893157 - Error bucle externo:  404  no trajo datos:  https://100.123.26.252/api/v2/devices/BC:A9:93:0C:07:A4/performance?start_time=202110211800&stop_time=202110211859\n",
      "1.-Fecha: 2021-10-21 19:07:08.893157 - Error bucle externo:  404  no trajo datos:  https://100.123.26.252/api/v2/devices/BC:A9:93:0C:07:A8/performance?start_time=202110211800&stop_time=202110211859\n",
      "1.-Fecha: 2021-10-21 19:07:08.893157 - Error bucle externo:  404  no trajo datos:  https://100.123.26.252/api/v2/devices/BC:A9:93:0C:07:AB/performance?start_time=202110211800&stop_time=202110211859\n",
      "1.-Fecha: 2021-10-21 19:07:08.893157 - Error bucle externo:  404  no trajo datos:  https://100.123.26.252/api/v2/devices/BC:A9:93:0C:07:AE/performance?start_time=202110211800&stop_time=202110211859\n"
     ]
    },
    {
     "name": "stderr",
     "output_type": "stream",
     "text": [
      "/opt/anaconda3/lib/python3.8/site-packages/urllib3/connectionpool.py:981: InsecureRequestWarning: Unverified HTTPS request is being made to host '100.123.26.252'. Adding certificate verification is strongly advised. See: https://urllib3.readthedocs.io/en/latest/advanced-usage.html#ssl-warnings\n",
      "  warnings.warn(\n",
      "/opt/anaconda3/lib/python3.8/site-packages/urllib3/connectionpool.py:981: InsecureRequestWarning: Unverified HTTPS request is being made to host '100.123.26.252'. Adding certificate verification is strongly advised. See: https://urllib3.readthedocs.io/en/latest/advanced-usage.html#ssl-warnings\n",
      "  warnings.warn(\n",
      "/opt/anaconda3/lib/python3.8/site-packages/urllib3/connectionpool.py:981: InsecureRequestWarning: Unverified HTTPS request is being made to host '100.123.26.252'. Adding certificate verification is strongly advised. See: https://urllib3.readthedocs.io/en/latest/advanced-usage.html#ssl-warnings\n",
      "  warnings.warn(\n"
     ]
    },
    {
     "name": "stdout",
     "output_type": "stream",
     "text": [
      "1.-Fecha: 2021-10-21 19:07:08.893157 - Error bucle externo:  404  no trajo datos:  https://100.123.26.252/api/v2/devices/BC:A9:93:0C:07:AF/performance?start_time=202110211800&stop_time=202110211859\n",
      "1.-Fecha: 2021-10-21 19:07:08.893157 - Error bucle externo:  404  no trajo datos:  https://100.123.26.252/api/v2/devices/BC:A9:93:0C:07:B0/performance?start_time=202110211800&stop_time=202110211859\n",
      "1.-Fecha: 2021-10-21 19:07:08.893157 - Error bucle externo:  404  no trajo datos:  https://100.123.26.252/api/v2/devices/BC:A9:93:0C:07:B7/performance?start_time=202110211800&stop_time=202110211859\n",
      "1.-Fecha: 2021-10-21 19:07:08.893157 - Error bucle externo:  404  no trajo datos:  https://100.123.26.252/api/v2/devices/BC:A9:93:0C:07:C4/performance?start_time=202110211800&stop_time=202110211859\n"
     ]
    }
   ],
   "source": [
    "# Definimos la cabecera y el diccionario con los datos\n",
    "arranca = datetime.now()\n",
    "\n",
    "datos_api = pd.DataFrame(columns=[\"name\",\"network\",\"type\",\"timestamp\",\"radio\",\"tower\",\"mac\",\"mode\"\n",
    "                                                      ,\"sm_drops\",\"managed_account\",\"online_duration\",\"uptime\"])\n",
    "\n",
    "\n",
    "#url_cambium2 = [\"http://100.123.26.252/api/v2/\",\"http://100.123.26.224/api/v2/\"]\n",
    "mac =\"BC:E6:7C:5F:07:11\"\n",
    "for i in datos_mac.index: \n",
    "    mac = datos_mac[\"mac\"][i]         \n",
    "    for k in range(0,len(parametros.url_cambium)):\n",
    "        token_aux = 'Bearer ' + parametros.cambium_token_aux[k]\n",
    "        cabecera1 = { 'Content-Type': 'application/json', 'Authorization' : token_aux, 'accept' : '*/*' } \n",
    "        url = parametros.url_cambium[k] + \"devices/\"+mac+\"/performance\" + '?start_time='+ fecha_ini + '&stop_time=' + fecha_fin    \n",
    "        try:\n",
    "             r = requests.get(url, headers = cabecera1, verify=False)\n",
    "        except KeyError:\n",
    "            print (\"Error URL, \", url, \" tipo: \", KeyError)\n",
    "            r.status_code = 400\n",
    "        #print(\" url: \", url)\n",
    "        #print(\" code: \" , r.status_code)\n",
    "        #break    \n",
    "        if r.status_code == 200:\n",
    "            res = json.loads(r.text)\n",
    "            dato_param = res['paging']        \n",
    "            #se calcula los ciclos de la consulta paginada\n",
    "            ciclos = int(round(dato_param['total']/100,0))\n",
    "            #print(res['paging'])\n",
    "            if dato_param['total']>0:\n",
    "                 ciclos = ciclos + 1\n",
    "            print(\" dato_param['total'] \", dato_param['total'], ciclos)\n",
    "\n",
    "            i = 0\n",
    "            while i < ciclos:                \n",
    "                offset = str(i*100)  # aqui modifique deberia de comenzar en 1 y luego de 100 en 100 GM\n",
    "                url2 = parametros.url_cambium[k] + \"devices/\"+mac+\"/performance\" + '?offset=' + offset  + '&start_time=' + fecha_ini + '&stop_time=' + fecha_fin \n",
    "                i+=1\n",
    "                print(url2)\n",
    "\n",
    "                try:         \n",
    "                    r = requests.get(url2, headers = cabecera1, verify=False)            \n",
    "                except KeyError:\n",
    "                    print (\"Error URL, \", url, \" tipo: \", KeyError)\n",
    "                    r.status_code = 400\n",
    "                \n",
    "                if r.status_code == 200:\n",
    "                    #print(\"respuesta a200: \",r.text)\n",
    "                    res = json.loads(r.text)\n",
    "                    #print(\"respuesta a200  - res['data'] = \",res['data'])                \n",
    "                    datos_api = datos_api.append(res['data'], ignore_index=True)\n",
    "                    #print(res['paging'])\n",
    "                else:\n",
    "                    print(\"2.-Fecha:\",now,\"- Error bucle interno: \",r.status_code , \" no trajo datos: \", url2)\n",
    "                    break                \n",
    "\n",
    "        else:\n",
    "            print(\"1.-Fecha:\",now,\"- Error bucle externo: \",r.status_code, \" no trajo datos: \", url)\n",
    "            break\n",
    "        \n",
    "termina = datetime.now()         \n",
    "\n",
    "print(\"fin tiempos 1.-a:\",arranca,\"- termina: \",termina)\n",
    "datos_api"
   ]
  },
  {
   "cell_type": "markdown",
   "metadata": {},
   "source": [
    "### Se descompone el diccionario radio"
   ]
  },
  {
   "cell_type": "code",
   "execution_count": null,
   "metadata": {},
   "outputs": [],
   "source": [
    "try:\n",
    "    datos_api['radio.dl_kbits'] = datos_api.loc[:, 'radio'].apply(lambda x: x['dl_kbits'])\n",
    "except:\n",
    "    datos_api['radio.dl_kbits'] = ''\n",
    "try:\n",
    "    datos_api['radio.dl_mcs'] = datos_api.loc[:, 'radio'].apply(lambda x: x['dl_mcs'])\n",
    "except:\n",
    "    datos_api['radio.dl_mcs'] = ''\n",
    "try:\n",
    "    datos_api['radio.dl_pkts'] = datos_api.loc[:, 'radio'].apply(lambda x: x['dl_pkts'])\n",
    "except:\n",
    "    datos_api['radio.dl_pkts'] = ''\n",
    "try:\n",
    "    datos_api['radio.dl_rssi'] = datos_api.loc[:, 'radio'].apply(lambda x: x['dl_rssi'])\n",
    "except:\n",
    "    datos_api['radio.dl_rssi'] = ''\n",
    "try:\n",
    "    datos_api['radio.dl_snr'] = datos_api.loc[:, 'radio'].apply(lambda x: x['dl_snr'])\n",
    "except:\n",
    "    datos_api['radio.dl_snr'] = ''\n",
    "try:\n",
    "    datos_api['radio.dl_throughput'] = datos_api.loc[:, 'radio'].apply(lambda x: x['dl_throughput'])\n",
    "except:\n",
    "    datos_api['radio.dl_throughput'] = ''\n",
    "try:\n",
    "    datos_api['radio.ul_kbits'] = datos_api.loc[:, 'radio'].apply(lambda x: x['ul_kbits'])\n",
    "except:\n",
    "    datos_api['radio.ul_kbits'] = ''\n",
    "try:\n",
    "    datos_api['radio.ul_mcs'] = datos_api.loc[:, 'radio'].apply(lambda x: x['ul_mcs'])\n",
    "except:\n",
    "    datos_api['radio.ul_mcs'] = ''\n",
    "try:\n",
    "    datos_api['radio.ul_pkts'] = datos_api.loc[:, 'radio'].apply(lambda x: x['ul_pkts'])\n",
    "except:\n",
    "    datos_api['radio.ul_pkts'] = ''\n",
    "try:\n",
    "    datos_api['radio.ul_retransmits_pct'] = datos_api.loc[:, 'radio'].apply(lambda x: x['ul_retransmits_pct'])\n",
    "except:\n",
    "    datos_api['radio.ul_retransmits_pct'] = ''\n",
    "try:\n",
    "    datos_api['radio.ul_throughput'] = datos_api.loc[:, 'radio'].apply(lambda x: x['ul_throughput'])\n",
    "except:\n",
    "    datos_api['radio.ul_throughput'] = ''"
   ]
  },
  {
   "cell_type": "code",
   "execution_count": null,
   "metadata": {},
   "outputs": [],
   "source": [
    "d = pd.DataFrame(columns=[\"radio.5ghz.rx_bps\",\"radio.5ghz.tx_bps\"\n",
    "                         ,\"radio.24ghz.rx_bps\",\"radio.24ghz.tx_bps\"])\n",
    "for index,datos in datos_api.iterrows():\n",
    "    try:\n",
    "        d.loc[index] = [datos['radio']['5ghz']['rx_bps'],datos['radio']['5ghz']['tx_bps']\n",
    "                        ,datos['radio']['24ghz']['rx_bps'],datos['radio']['24ghz']['tx_bps']]\n",
    "        #datos_api.iloc[index]['radio.5ghz.rx_bps'] = datos['radio']['5ghz']['rx_bps']\n",
    "        #print(index,datos_api.iloc[index]['radio']['5ghz']['rx_bps'])#['5ghz']['rx_bps'],datos['5ghz']['tx_bps'])\n",
    "    except:\n",
    "        pass"
   ]
  },
  {
   "cell_type": "code",
   "execution_count": null,
   "metadata": {},
   "outputs": [],
   "source": [
    "#datos_api.columns[(datos_api['radio.5ghz']!='')]\n",
    "#d[~(d['radio.5ghz.rx_bps'].isnull())]\n",
    "datos_api = datos_api.merge(d, how='left', left_index=True, right_index=True)"
   ]
  },
  {
   "cell_type": "code",
   "execution_count": null,
   "metadata": {},
   "outputs": [],
   "source": [
    "datos_api.drop(columns=['radio'],inplace=True)"
   ]
  },
  {
   "cell_type": "code",
   "execution_count": null,
   "metadata": {},
   "outputs": [],
   "source": [
    "# datos_api\n",
    "# esto fue agregado de prueba para ver los datos"
   ]
  },
  {
   "cell_type": "code",
   "execution_count": null,
   "metadata": {},
   "outputs": [],
   "source": [
    "#datos_api.drop_duplicates(inplace=True)\n",
    "# Esta linea la quite porque para eliminar registro hay que tener un campo unique-primarykey, por lo cual da error"
   ]
  },
  {
   "cell_type": "markdown",
   "metadata": {},
   "source": [
    "### Descartando datos de la API que ya están en el indice"
   ]
  },
  {
   "cell_type": "code",
   "execution_count": null,
   "metadata": {},
   "outputs": [],
   "source": [
    "try:\n",
    "    datos_api['timestamp'] = (datos_api[\"timestamp\"].str.split(\"T\", n = 2, expand = True)[0])+' '+(datos_api[\"timestamp\"].str.split(\"T\", n = 2, expand = True)[1]).str.split(\"-\", n = 1, expand = True)[0]\n",
    "except:\n",
    "    pass\n"
   ]
  },
  {
   "cell_type": "code",
   "execution_count": null,
   "metadata": {},
   "outputs": [],
   "source": [
    "datos_api = datos_api.drop(datos_api[(datos_api['timestamp']<= fecha_max)].index)"
   ]
  },
  {
   "cell_type": "code",
   "execution_count": null,
   "metadata": {},
   "outputs": [],
   "source": [
    "datos_api.fillna('', inplace=True)"
   ]
  },
  {
   "cell_type": "markdown",
   "metadata": {},
   "source": [
    "### Definiendo indice con fecha e insertando en ES"
   ]
  },
  {
   "cell_type": "code",
   "execution_count": null,
   "metadata": {},
   "outputs": [],
   "source": [
    "indice = parametros.cambium_d_p_index +'-'+ fecha_hoy"
   ]
  },
  {
   "cell_type": "code",
   "execution_count": null,
   "metadata": {},
   "outputs": [],
   "source": [
    "use_these_keys = ['name', 'network', 'type', 'tower', 'mac', 'mode', 'sm_drops',\n",
    "                   'managed_account', 'online_duration', 'uptime', 'site',\n",
    "                   'radio.dl_kbits', 'radio.dl_mcs', 'radio.dl_pkts', 'radio.dl_rssi',\n",
    "                   'radio.dl_snr', 'radio.dl_throughput', 'radio.ul_kbits', 'radio.ul_mcs',\n",
    "                   'radio.ul_pkts', 'radio.ul_retransmits_pct', 'radio.ul_throughput',\n",
    "                   'radio.5ghz.rx_bps', 'radio.5ghz.tx_bps', 'radio.24ghz.rx_bps',\n",
    "                   'radio.24ghz.tx_bps','timestamp','@timestamp']\n",
    "def filterKeys(document):\n",
    "    return {key: document[key] for key in use_these_keys }\n",
    "\n",
    "timestamp = datetime.now()\n",
    "datos_api['@timestamp'] = timestamp.isoformat()\n",
    "def doc_generator(df):\n",
    "    df_iter = df.iterrows()\n",
    "    for index, document in df_iter:\n",
    "        yield {\n",
    "                \"_index\": indice, \n",
    "                \"_source\": filterKeys(document),\n",
    "            }\n",
    "salida = helpers.bulk(es, doc_generator(datos_api))\n",
    "print(\"Fecha\",now,\"- Total documentos insertados:\",salida[0])"
   ]
  },
  {
   "cell_type": "code",
   "execution_count": 3,
   "metadata": {},
   "outputs": [
    {
     "data": {
      "text/plain": [
       "datetime.datetime(2021, 6, 29, 22, 45, 40, 602672)"
      ]
     },
     "execution_count": 3,
     "metadata": {},
     "output_type": "execute_result"
    }
   ],
   "source": [
    "datetime.now()"
   ]
  },
  {
   "cell_type": "code",
   "execution_count": null,
   "metadata": {},
   "outputs": [],
   "source": []
  }
 ],
 "metadata": {
  "kernelspec": {
   "display_name": "Python 3",
   "language": "python",
   "name": "python3"
  },
  "language_info": {
   "codemirror_mode": {
    "name": "ipython",
    "version": 3
   },
   "file_extension": ".py",
   "mimetype": "text/x-python",
   "name": "python",
   "nbconvert_exporter": "python",
   "pygments_lexer": "ipython3",
   "version": "3.8.5"
  }
 },
 "nbformat": 4,
 "nbformat_minor": 4
}
