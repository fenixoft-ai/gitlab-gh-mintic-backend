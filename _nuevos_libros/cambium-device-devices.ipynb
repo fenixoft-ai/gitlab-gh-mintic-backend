{
 "cells": [
  {
   "cell_type": "code",
   "execution_count": 126,
   "metadata": {},
   "outputs": [],
   "source": [
    "from elasticsearch import Elasticsearch\n",
    "from elasticsearch import helpers\n",
    "import pandas as pd\n",
    "import numpy as np\n",
    "import json\n",
    "from ssl import create_default_context\n",
    "from datetime import datetime\n",
    "from datetime import timedelta\n",
    "import requests\n",
    "#from getpass import getpass\n",
    "import parametros\n",
    "import time"
   ]
  },
  {
   "cell_type": "markdown",
   "metadata": {},
   "source": [
    "## Conectando a ElasticSearch"
   ]
  },
  {
   "cell_type": "code",
   "execution_count": 127,
   "metadata": {},
   "outputs": [],
   "source": [
    "context = create_default_context(cafile=parametros.cafile)\n",
    "es = Elasticsearch(\n",
    "    parametros.servidor,\n",
    "    http_auth=(parametros.usuario_EC, parametros.password_EC),\n",
    "    scheme=\"https\",\n",
    "    port=parametros.puerto,\n",
    "    ssl_context=context,\n",
    ")"
   ]
  },
  {
   "cell_type": "markdown",
   "metadata": {},
   "source": [
    "### tomando fecha mas reciente del indice"
   ]
  },
  {
   "cell_type": "code",
   "execution_count": 128,
   "metadata": {},
   "outputs": [
    {
     "data": {
      "text/plain": [
       "'total_docs = 0\\ntry:\\n    response = es.search(\\n        index= parametros.cambium_d_d_index,\\n        body={\"aggs\" : {\\n                   \"max_date\": {\"max\": {\"field\": \"registration_date\", \"format\": \"yyyy-MM-dd HH:mm:ss\"}}\\n                }\\n             },\\n        size=total_docs\\n    )\\n    #print(es.info())\\n    elastic_docs = response[\"aggregations\"]\\n    fecha_max=response[\"aggregations\"][\"max_date\"][\\'value_as_string\\']\\nexcept:\\n    fecha_max = \\'2010-01-01 00:00:01\\'\\nprint(\"ultima fecha en indice: \",fecha_max)'"
      ]
     },
     "execution_count": 128,
     "metadata": {},
     "output_type": "execute_result"
    }
   ],
   "source": [
    "'''total_docs = 0\n",
    "try:\n",
    "    response = es.search(\n",
    "        index= parametros.cambium_d_d_index,\n",
    "        body={\"aggs\" : {\n",
    "                   \"max_date\": {\"max\": {\"field\": \"registration_date\", \"format\": \"yyyy-MM-dd HH:mm:ss\"}}\n",
    "                }\n",
    "             },\n",
    "        size=total_docs\n",
    "    )\n",
    "    #print(es.info())\n",
    "    elastic_docs = response[\"aggregations\"]\n",
    "    fecha_max=response[\"aggregations\"][\"max_date\"]['value_as_string']\n",
    "except:\n",
    "    fecha_max = '2010-01-01 00:00:01'\n",
    "print(\"ultima fecha en indice: \",fecha_max)'''"
   ]
  },
  {
   "cell_type": "code",
   "execution_count": 129,
   "metadata": {},
   "outputs": [],
   "source": [
    "now = datetime.now()\n",
    "new_date = now - timedelta(days=6)\n",
    "format = \"%Y%m%d\"\n",
    "format_ES = \"%Y.%m.%d\"\n",
    "fecha_url = str(new_date.strftime(format))\n",
    "fecha_hoy = str(now.strftime(format_ES))"
   ]
  },
  {
   "cell_type": "markdown",
   "metadata": {},
   "source": [
    "## Leyendo la APi cambium-devices"
   ]
  },
  {
   "cell_type": "code",
   "execution_count": 130,
   "metadata": {
    "scrolled": false
   },
   "outputs": [
    {
     "name": "stdout",
     "output_type": "stream",
     "text": [
      "servidor: 1\n",
      "https://100.123.26.252/api/v2/devices?status=online\n"
     ]
    },
    {
     "name": "stderr",
     "output_type": "stream",
     "text": [
      "/opt/anaconda3/lib/python3.8/site-packages/urllib3/connectionpool.py:981: InsecureRequestWarning: Unverified HTTPS request is being made to host '100.123.26.252'. Adding certificate verification is strongly advised. See: https://urllib3.readthedocs.io/en/latest/advanced-usage.html#ssl-warnings\n",
      "  warnings.warn(\n",
      "/opt/anaconda3/lib/python3.8/site-packages/urllib3/connectionpool.py:981: InsecureRequestWarning: Unverified HTTPS request is being made to host '100.123.26.252'. Adding certificate verification is strongly advised. See: https://urllib3.readthedocs.io/en/latest/advanced-usage.html#ssl-warnings\n",
      "  warnings.warn(\n"
     ]
    },
    {
     "name": "stdout",
     "output_type": "stream",
     "text": [
      "https://100.123.26.252/api/v2/devices?status=online&offset=0\n",
      "bucle: 1\n"
     ]
    },
    {
     "name": "stderr",
     "output_type": "stream",
     "text": [
      "/opt/anaconda3/lib/python3.8/site-packages/urllib3/connectionpool.py:981: InsecureRequestWarning: Unverified HTTPS request is being made to host '100.123.26.252'. Adding certificate verification is strongly advised. See: https://urllib3.readthedocs.io/en/latest/advanced-usage.html#ssl-warnings\n",
      "  warnings.warn(\n"
     ]
    },
    {
     "name": "stdout",
     "output_type": "stream",
     "text": [
      "https://100.123.26.252/api/v2/devices?status=online&offset=100\n",
      "bucle: 2\n"
     ]
    },
    {
     "name": "stderr",
     "output_type": "stream",
     "text": [
      "/opt/anaconda3/lib/python3.8/site-packages/urllib3/connectionpool.py:981: InsecureRequestWarning: Unverified HTTPS request is being made to host '100.123.26.252'. Adding certificate verification is strongly advised. See: https://urllib3.readthedocs.io/en/latest/advanced-usage.html#ssl-warnings\n",
      "  warnings.warn(\n"
     ]
    },
    {
     "name": "stdout",
     "output_type": "stream",
     "text": [
      "https://100.123.26.252/api/v2/devices?status=online&offset=200\n",
      "bucle: 3\n"
     ]
    },
    {
     "name": "stderr",
     "output_type": "stream",
     "text": [
      "/opt/anaconda3/lib/python3.8/site-packages/urllib3/connectionpool.py:981: InsecureRequestWarning: Unverified HTTPS request is being made to host '100.123.26.252'. Adding certificate verification is strongly advised. See: https://urllib3.readthedocs.io/en/latest/advanced-usage.html#ssl-warnings\n",
      "  warnings.warn(\n"
     ]
    },
    {
     "name": "stdout",
     "output_type": "stream",
     "text": [
      "https://100.123.26.252/api/v2/devices?status=online&offset=300\n",
      "bucle: 4\n"
     ]
    },
    {
     "name": "stderr",
     "output_type": "stream",
     "text": [
      "/opt/anaconda3/lib/python3.8/site-packages/urllib3/connectionpool.py:981: InsecureRequestWarning: Unverified HTTPS request is being made to host '100.123.26.252'. Adding certificate verification is strongly advised. See: https://urllib3.readthedocs.io/en/latest/advanced-usage.html#ssl-warnings\n",
      "  warnings.warn(\n"
     ]
    },
    {
     "name": "stdout",
     "output_type": "stream",
     "text": [
      "https://100.123.26.252/api/v2/devices?status=online&offset=400\n",
      "bucle: 5\n"
     ]
    },
    {
     "name": "stderr",
     "output_type": "stream",
     "text": [
      "/opt/anaconda3/lib/python3.8/site-packages/urllib3/connectionpool.py:981: InsecureRequestWarning: Unverified HTTPS request is being made to host '100.123.26.252'. Adding certificate verification is strongly advised. See: https://urllib3.readthedocs.io/en/latest/advanced-usage.html#ssl-warnings\n",
      "  warnings.warn(\n"
     ]
    },
    {
     "name": "stdout",
     "output_type": "stream",
     "text": [
      "https://100.123.26.252/api/v2/devices?status=online&offset=500\n",
      "bucle: 6\n"
     ]
    },
    {
     "name": "stderr",
     "output_type": "stream",
     "text": [
      "/opt/anaconda3/lib/python3.8/site-packages/urllib3/connectionpool.py:981: InsecureRequestWarning: Unverified HTTPS request is being made to host '100.123.26.252'. Adding certificate verification is strongly advised. See: https://urllib3.readthedocs.io/en/latest/advanced-usage.html#ssl-warnings\n",
      "  warnings.warn(\n"
     ]
    },
    {
     "name": "stdout",
     "output_type": "stream",
     "text": [
      "https://100.123.26.252/api/v2/devices?status=online&offset=600\n",
      "bucle: 7\n"
     ]
    },
    {
     "name": "stderr",
     "output_type": "stream",
     "text": [
      "/opt/anaconda3/lib/python3.8/site-packages/urllib3/connectionpool.py:981: InsecureRequestWarning: Unverified HTTPS request is being made to host '100.123.26.252'. Adding certificate verification is strongly advised. See: https://urllib3.readthedocs.io/en/latest/advanced-usage.html#ssl-warnings\n",
      "  warnings.warn(\n"
     ]
    },
    {
     "name": "stdout",
     "output_type": "stream",
     "text": [
      "https://100.123.26.252/api/v2/devices?status=online&offset=700\n",
      "bucle: 8\n"
     ]
    },
    {
     "name": "stderr",
     "output_type": "stream",
     "text": [
      "/opt/anaconda3/lib/python3.8/site-packages/urllib3/connectionpool.py:981: InsecureRequestWarning: Unverified HTTPS request is being made to host '100.123.26.252'. Adding certificate verification is strongly advised. See: https://urllib3.readthedocs.io/en/latest/advanced-usage.html#ssl-warnings\n",
      "  warnings.warn(\n"
     ]
    },
    {
     "name": "stdout",
     "output_type": "stream",
     "text": [
      "https://100.123.26.252/api/v2/devices?status=online&offset=800\n",
      "bucle: 9\n"
     ]
    },
    {
     "name": "stderr",
     "output_type": "stream",
     "text": [
      "/opt/anaconda3/lib/python3.8/site-packages/urllib3/connectionpool.py:981: InsecureRequestWarning: Unverified HTTPS request is being made to host '100.123.26.252'. Adding certificate verification is strongly advised. See: https://urllib3.readthedocs.io/en/latest/advanced-usage.html#ssl-warnings\n",
      "  warnings.warn(\n"
     ]
    },
    {
     "name": "stdout",
     "output_type": "stream",
     "text": [
      "https://100.123.26.252/api/v2/devices?status=online&offset=900\n",
      "bucle: 10\n"
     ]
    },
    {
     "name": "stderr",
     "output_type": "stream",
     "text": [
      "/opt/anaconda3/lib/python3.8/site-packages/urllib3/connectionpool.py:981: InsecureRequestWarning: Unverified HTTPS request is being made to host '100.123.26.252'. Adding certificate verification is strongly advised. See: https://urllib3.readthedocs.io/en/latest/advanced-usage.html#ssl-warnings\n",
      "  warnings.warn(\n"
     ]
    },
    {
     "name": "stdout",
     "output_type": "stream",
     "text": [
      "https://100.123.26.252/api/v2/devices?status=online&offset=1000\n",
      "bucle: 11\n"
     ]
    },
    {
     "name": "stderr",
     "output_type": "stream",
     "text": [
      "/opt/anaconda3/lib/python3.8/site-packages/urllib3/connectionpool.py:981: InsecureRequestWarning: Unverified HTTPS request is being made to host '100.123.26.252'. Adding certificate verification is strongly advised. See: https://urllib3.readthedocs.io/en/latest/advanced-usage.html#ssl-warnings\n",
      "  warnings.warn(\n"
     ]
    },
    {
     "name": "stdout",
     "output_type": "stream",
     "text": [
      "https://100.123.26.252/api/v2/devices?status=online&offset=1100\n",
      "bucle: 12\n"
     ]
    },
    {
     "name": "stderr",
     "output_type": "stream",
     "text": [
      "/opt/anaconda3/lib/python3.8/site-packages/urllib3/connectionpool.py:981: InsecureRequestWarning: Unverified HTTPS request is being made to host '100.123.26.252'. Adding certificate verification is strongly advised. See: https://urllib3.readthedocs.io/en/latest/advanced-usage.html#ssl-warnings\n",
      "  warnings.warn(\n"
     ]
    },
    {
     "name": "stdout",
     "output_type": "stream",
     "text": [
      "https://100.123.26.252/api/v2/devices?status=online&offset=1200\n",
      "bucle: 13\n"
     ]
    },
    {
     "name": "stderr",
     "output_type": "stream",
     "text": [
      "/opt/anaconda3/lib/python3.8/site-packages/urllib3/connectionpool.py:981: InsecureRequestWarning: Unverified HTTPS request is being made to host '100.123.26.252'. Adding certificate verification is strongly advised. See: https://urllib3.readthedocs.io/en/latest/advanced-usage.html#ssl-warnings\n",
      "  warnings.warn(\n"
     ]
    },
    {
     "name": "stdout",
     "output_type": "stream",
     "text": [
      "https://100.123.26.252/api/v2/devices?status=online&offset=1300\n",
      "bucle: 14\n"
     ]
    },
    {
     "name": "stderr",
     "output_type": "stream",
     "text": [
      "/opt/anaconda3/lib/python3.8/site-packages/urllib3/connectionpool.py:981: InsecureRequestWarning: Unverified HTTPS request is being made to host '100.123.26.252'. Adding certificate verification is strongly advised. See: https://urllib3.readthedocs.io/en/latest/advanced-usage.html#ssl-warnings\n",
      "  warnings.warn(\n"
     ]
    },
    {
     "name": "stdout",
     "output_type": "stream",
     "text": [
      "https://100.123.26.252/api/v2/devices?status=online&offset=1400\n",
      "bucle: 15\n"
     ]
    },
    {
     "name": "stderr",
     "output_type": "stream",
     "text": [
      "/opt/anaconda3/lib/python3.8/site-packages/urllib3/connectionpool.py:981: InsecureRequestWarning: Unverified HTTPS request is being made to host '100.123.26.252'. Adding certificate verification is strongly advised. See: https://urllib3.readthedocs.io/en/latest/advanced-usage.html#ssl-warnings\n",
      "  warnings.warn(\n"
     ]
    },
    {
     "name": "stdout",
     "output_type": "stream",
     "text": [
      "https://100.123.26.252/api/v2/devices?status=online&offset=1500\n",
      "bucle: 16\n"
     ]
    },
    {
     "name": "stderr",
     "output_type": "stream",
     "text": [
      "/opt/anaconda3/lib/python3.8/site-packages/urllib3/connectionpool.py:981: InsecureRequestWarning: Unverified HTTPS request is being made to host '100.123.26.252'. Adding certificate verification is strongly advised. See: https://urllib3.readthedocs.io/en/latest/advanced-usage.html#ssl-warnings\n",
      "  warnings.warn(\n"
     ]
    },
    {
     "name": "stdout",
     "output_type": "stream",
     "text": [
      "https://100.123.26.252/api/v2/devices?status=online&offset=1600\n",
      "bucle: 17\n"
     ]
    },
    {
     "name": "stderr",
     "output_type": "stream",
     "text": [
      "/opt/anaconda3/lib/python3.8/site-packages/urllib3/connectionpool.py:981: InsecureRequestWarning: Unverified HTTPS request is being made to host '100.123.26.252'. Adding certificate verification is strongly advised. See: https://urllib3.readthedocs.io/en/latest/advanced-usage.html#ssl-warnings\n",
      "  warnings.warn(\n"
     ]
    },
    {
     "name": "stdout",
     "output_type": "stream",
     "text": [
      "https://100.123.26.252/api/v2/devices?status=online&offset=1700\n",
      "bucle: 18\n"
     ]
    },
    {
     "name": "stderr",
     "output_type": "stream",
     "text": [
      "/opt/anaconda3/lib/python3.8/site-packages/urllib3/connectionpool.py:981: InsecureRequestWarning: Unverified HTTPS request is being made to host '100.123.26.252'. Adding certificate verification is strongly advised. See: https://urllib3.readthedocs.io/en/latest/advanced-usage.html#ssl-warnings\n",
      "  warnings.warn(\n"
     ]
    },
    {
     "name": "stdout",
     "output_type": "stream",
     "text": [
      "https://100.123.26.252/api/v2/devices?status=online&offset=1800\n",
      "bucle: 19\n"
     ]
    },
    {
     "name": "stderr",
     "output_type": "stream",
     "text": [
      "/opt/anaconda3/lib/python3.8/site-packages/urllib3/connectionpool.py:981: InsecureRequestWarning: Unverified HTTPS request is being made to host '100.123.26.252'. Adding certificate verification is strongly advised. See: https://urllib3.readthedocs.io/en/latest/advanced-usage.html#ssl-warnings\n",
      "  warnings.warn(\n"
     ]
    },
    {
     "name": "stdout",
     "output_type": "stream",
     "text": [
      "https://100.123.26.252/api/v2/devices?status=online&offset=1900\n",
      "bucle: 20\n"
     ]
    },
    {
     "name": "stderr",
     "output_type": "stream",
     "text": [
      "/opt/anaconda3/lib/python3.8/site-packages/urllib3/connectionpool.py:981: InsecureRequestWarning: Unverified HTTPS request is being made to host '100.123.26.252'. Adding certificate verification is strongly advised. See: https://urllib3.readthedocs.io/en/latest/advanced-usage.html#ssl-warnings\n",
      "  warnings.warn(\n"
     ]
    },
    {
     "name": "stdout",
     "output_type": "stream",
     "text": [
      "https://100.123.26.252/api/v2/devices?status=online&offset=2000\n",
      "bucle: 21\n"
     ]
    },
    {
     "name": "stderr",
     "output_type": "stream",
     "text": [
      "/opt/anaconda3/lib/python3.8/site-packages/urllib3/connectionpool.py:981: InsecureRequestWarning: Unverified HTTPS request is being made to host '100.123.26.252'. Adding certificate verification is strongly advised. See: https://urllib3.readthedocs.io/en/latest/advanced-usage.html#ssl-warnings\n",
      "  warnings.warn(\n"
     ]
    },
    {
     "name": "stdout",
     "output_type": "stream",
     "text": [
      "https://100.123.26.252/api/v2/devices?status=online&offset=2100\n",
      "bucle: 22\n"
     ]
    },
    {
     "name": "stderr",
     "output_type": "stream",
     "text": [
      "/opt/anaconda3/lib/python3.8/site-packages/urllib3/connectionpool.py:981: InsecureRequestWarning: Unverified HTTPS request is being made to host '100.123.26.252'. Adding certificate verification is strongly advised. See: https://urllib3.readthedocs.io/en/latest/advanced-usage.html#ssl-warnings\n",
      "  warnings.warn(\n"
     ]
    },
    {
     "name": "stdout",
     "output_type": "stream",
     "text": [
      "https://100.123.26.252/api/v2/devices?status=online&offset=2200\n",
      "bucle: 23\n"
     ]
    },
    {
     "name": "stderr",
     "output_type": "stream",
     "text": [
      "/opt/anaconda3/lib/python3.8/site-packages/urllib3/connectionpool.py:981: InsecureRequestWarning: Unverified HTTPS request is being made to host '100.123.26.252'. Adding certificate verification is strongly advised. See: https://urllib3.readthedocs.io/en/latest/advanced-usage.html#ssl-warnings\n",
      "  warnings.warn(\n"
     ]
    },
    {
     "name": "stdout",
     "output_type": "stream",
     "text": [
      "https://100.123.26.252/api/v2/devices?status=online&offset=2300\n",
      "bucle: 24\n"
     ]
    },
    {
     "name": "stderr",
     "output_type": "stream",
     "text": [
      "/opt/anaconda3/lib/python3.8/site-packages/urllib3/connectionpool.py:981: InsecureRequestWarning: Unverified HTTPS request is being made to host '100.123.26.252'. Adding certificate verification is strongly advised. See: https://urllib3.readthedocs.io/en/latest/advanced-usage.html#ssl-warnings\n",
      "  warnings.warn(\n"
     ]
    },
    {
     "name": "stdout",
     "output_type": "stream",
     "text": [
      "https://100.123.26.252/api/v2/devices?status=online&offset=2400\n",
      "bucle: 25\n"
     ]
    },
    {
     "name": "stderr",
     "output_type": "stream",
     "text": [
      "/opt/anaconda3/lib/python3.8/site-packages/urllib3/connectionpool.py:981: InsecureRequestWarning: Unverified HTTPS request is being made to host '100.123.26.252'. Adding certificate verification is strongly advised. See: https://urllib3.readthedocs.io/en/latest/advanced-usage.html#ssl-warnings\n",
      "  warnings.warn(\n"
     ]
    },
    {
     "name": "stdout",
     "output_type": "stream",
     "text": [
      "https://100.123.26.252/api/v2/devices?status=online&offset=2500\n",
      "bucle: 26\n"
     ]
    },
    {
     "name": "stderr",
     "output_type": "stream",
     "text": [
      "/opt/anaconda3/lib/python3.8/site-packages/urllib3/connectionpool.py:981: InsecureRequestWarning: Unverified HTTPS request is being made to host '100.123.26.252'. Adding certificate verification is strongly advised. See: https://urllib3.readthedocs.io/en/latest/advanced-usage.html#ssl-warnings\n",
      "  warnings.warn(\n"
     ]
    },
    {
     "name": "stdout",
     "output_type": "stream",
     "text": [
      "https://100.123.26.252/api/v2/devices?status=online&offset=2600\n",
      "bucle: 27\n"
     ]
    },
    {
     "name": "stderr",
     "output_type": "stream",
     "text": [
      "/opt/anaconda3/lib/python3.8/site-packages/urllib3/connectionpool.py:981: InsecureRequestWarning: Unverified HTTPS request is being made to host '100.123.26.252'. Adding certificate verification is strongly advised. See: https://urllib3.readthedocs.io/en/latest/advanced-usage.html#ssl-warnings\n",
      "  warnings.warn(\n"
     ]
    },
    {
     "name": "stdout",
     "output_type": "stream",
     "text": [
      "https://100.123.26.252/api/v2/devices?status=online&offset=2700\n",
      "bucle: 28\n"
     ]
    },
    {
     "name": "stderr",
     "output_type": "stream",
     "text": [
      "/opt/anaconda3/lib/python3.8/site-packages/urllib3/connectionpool.py:981: InsecureRequestWarning: Unverified HTTPS request is being made to host '100.123.26.252'. Adding certificate verification is strongly advised. See: https://urllib3.readthedocs.io/en/latest/advanced-usage.html#ssl-warnings\n",
      "  warnings.warn(\n"
     ]
    },
    {
     "name": "stdout",
     "output_type": "stream",
     "text": [
      "https://100.123.26.252/api/v2/devices?status=online&offset=2800\n",
      "bucle: 29\n"
     ]
    },
    {
     "name": "stderr",
     "output_type": "stream",
     "text": [
      "/opt/anaconda3/lib/python3.8/site-packages/urllib3/connectionpool.py:981: InsecureRequestWarning: Unverified HTTPS request is being made to host '100.123.26.252'. Adding certificate verification is strongly advised. See: https://urllib3.readthedocs.io/en/latest/advanced-usage.html#ssl-warnings\n",
      "  warnings.warn(\n"
     ]
    },
    {
     "name": "stdout",
     "output_type": "stream",
     "text": [
      "https://100.123.26.252/api/v2/devices?status=online&offset=2900\n",
      "bucle: 30\n"
     ]
    },
    {
     "name": "stderr",
     "output_type": "stream",
     "text": [
      "/opt/anaconda3/lib/python3.8/site-packages/urllib3/connectionpool.py:981: InsecureRequestWarning: Unverified HTTPS request is being made to host '100.123.26.252'. Adding certificate verification is strongly advised. See: https://urllib3.readthedocs.io/en/latest/advanced-usage.html#ssl-warnings\n",
      "  warnings.warn(\n"
     ]
    },
    {
     "name": "stdout",
     "output_type": "stream",
     "text": [
      "https://100.123.26.252/api/v2/devices?status=online&offset=3000\n",
      "bucle: 31\n"
     ]
    },
    {
     "name": "stderr",
     "output_type": "stream",
     "text": [
      "/opt/anaconda3/lib/python3.8/site-packages/urllib3/connectionpool.py:981: InsecureRequestWarning: Unverified HTTPS request is being made to host '100.123.26.252'. Adding certificate verification is strongly advised. See: https://urllib3.readthedocs.io/en/latest/advanced-usage.html#ssl-warnings\n",
      "  warnings.warn(\n"
     ]
    },
    {
     "name": "stdout",
     "output_type": "stream",
     "text": [
      "https://100.123.26.252/api/v2/devices?status=online&offset=3100\n",
      "bucle: 32\n"
     ]
    },
    {
     "name": "stderr",
     "output_type": "stream",
     "text": [
      "/opt/anaconda3/lib/python3.8/site-packages/urllib3/connectionpool.py:981: InsecureRequestWarning: Unverified HTTPS request is being made to host '100.123.26.252'. Adding certificate verification is strongly advised. See: https://urllib3.readthedocs.io/en/latest/advanced-usage.html#ssl-warnings\n",
      "  warnings.warn(\n"
     ]
    },
    {
     "name": "stdout",
     "output_type": "stream",
     "text": [
      "https://100.123.26.252/api/v2/devices?status=online&offset=3200\n",
      "bucle: 33\n"
     ]
    },
    {
     "name": "stderr",
     "output_type": "stream",
     "text": [
      "/opt/anaconda3/lib/python3.8/site-packages/urllib3/connectionpool.py:981: InsecureRequestWarning: Unverified HTTPS request is being made to host '100.123.26.252'. Adding certificate verification is strongly advised. See: https://urllib3.readthedocs.io/en/latest/advanced-usage.html#ssl-warnings\n",
      "  warnings.warn(\n"
     ]
    },
    {
     "name": "stdout",
     "output_type": "stream",
     "text": [
      "https://100.123.26.252/api/v2/devices?status=online&offset=3300\n",
      "bucle: 34\n",
      "https://100.123.26.252/api/v2/devices?status=offline\n"
     ]
    },
    {
     "name": "stderr",
     "output_type": "stream",
     "text": [
      "/opt/anaconda3/lib/python3.8/site-packages/urllib3/connectionpool.py:981: InsecureRequestWarning: Unverified HTTPS request is being made to host '100.123.26.252'. Adding certificate verification is strongly advised. See: https://urllib3.readthedocs.io/en/latest/advanced-usage.html#ssl-warnings\n",
      "  warnings.warn(\n",
      "/opt/anaconda3/lib/python3.8/site-packages/urllib3/connectionpool.py:981: InsecureRequestWarning: Unverified HTTPS request is being made to host '100.123.26.252'. Adding certificate verification is strongly advised. See: https://urllib3.readthedocs.io/en/latest/advanced-usage.html#ssl-warnings\n",
      "  warnings.warn(\n"
     ]
    },
    {
     "name": "stdout",
     "output_type": "stream",
     "text": [
      "https://100.123.26.252/api/v2/devices?status=offline&offset=0\n",
      "bucle: 1\n"
     ]
    },
    {
     "name": "stderr",
     "output_type": "stream",
     "text": [
      "/opt/anaconda3/lib/python3.8/site-packages/urllib3/connectionpool.py:981: InsecureRequestWarning: Unverified HTTPS request is being made to host '100.123.26.252'. Adding certificate verification is strongly advised. See: https://urllib3.readthedocs.io/en/latest/advanced-usage.html#ssl-warnings\n",
      "  warnings.warn(\n"
     ]
    },
    {
     "name": "stdout",
     "output_type": "stream",
     "text": [
      "https://100.123.26.252/api/v2/devices?status=offline&offset=100\n",
      "bucle: 2\n"
     ]
    },
    {
     "name": "stderr",
     "output_type": "stream",
     "text": [
      "/opt/anaconda3/lib/python3.8/site-packages/urllib3/connectionpool.py:981: InsecureRequestWarning: Unverified HTTPS request is being made to host '100.123.26.252'. Adding certificate verification is strongly advised. See: https://urllib3.readthedocs.io/en/latest/advanced-usage.html#ssl-warnings\n",
      "  warnings.warn(\n"
     ]
    },
    {
     "name": "stdout",
     "output_type": "stream",
     "text": [
      "https://100.123.26.252/api/v2/devices?status=offline&offset=200\n",
      "bucle: 3\n"
     ]
    },
    {
     "name": "stderr",
     "output_type": "stream",
     "text": [
      "/opt/anaconda3/lib/python3.8/site-packages/urllib3/connectionpool.py:981: InsecureRequestWarning: Unverified HTTPS request is being made to host '100.123.26.252'. Adding certificate verification is strongly advised. See: https://urllib3.readthedocs.io/en/latest/advanced-usage.html#ssl-warnings\n",
      "  warnings.warn(\n"
     ]
    },
    {
     "name": "stdout",
     "output_type": "stream",
     "text": [
      "https://100.123.26.252/api/v2/devices?status=offline&offset=300\n",
      "bucle: 4\n"
     ]
    },
    {
     "name": "stderr",
     "output_type": "stream",
     "text": [
      "/opt/anaconda3/lib/python3.8/site-packages/urllib3/connectionpool.py:981: InsecureRequestWarning: Unverified HTTPS request is being made to host '100.123.26.252'. Adding certificate verification is strongly advised. See: https://urllib3.readthedocs.io/en/latest/advanced-usage.html#ssl-warnings\n",
      "  warnings.warn(\n"
     ]
    },
    {
     "name": "stdout",
     "output_type": "stream",
     "text": [
      "https://100.123.26.252/api/v2/devices?status=offline&offset=400\n",
      "bucle: 5\n"
     ]
    },
    {
     "name": "stderr",
     "output_type": "stream",
     "text": [
      "/opt/anaconda3/lib/python3.8/site-packages/urllib3/connectionpool.py:981: InsecureRequestWarning: Unverified HTTPS request is being made to host '100.123.26.252'. Adding certificate verification is strongly advised. See: https://urllib3.readthedocs.io/en/latest/advanced-usage.html#ssl-warnings\n",
      "  warnings.warn(\n"
     ]
    },
    {
     "name": "stdout",
     "output_type": "stream",
     "text": [
      "https://100.123.26.252/api/v2/devices?status=offline&offset=500\n",
      "bucle: 6\n"
     ]
    },
    {
     "name": "stderr",
     "output_type": "stream",
     "text": [
      "/opt/anaconda3/lib/python3.8/site-packages/urllib3/connectionpool.py:981: InsecureRequestWarning: Unverified HTTPS request is being made to host '100.123.26.252'. Adding certificate verification is strongly advised. See: https://urllib3.readthedocs.io/en/latest/advanced-usage.html#ssl-warnings\n",
      "  warnings.warn(\n"
     ]
    },
    {
     "name": "stdout",
     "output_type": "stream",
     "text": [
      "https://100.123.26.252/api/v2/devices?status=offline&offset=600\n",
      "bucle: 7\n"
     ]
    },
    {
     "name": "stderr",
     "output_type": "stream",
     "text": [
      "/opt/anaconda3/lib/python3.8/site-packages/urllib3/connectionpool.py:981: InsecureRequestWarning: Unverified HTTPS request is being made to host '100.123.26.252'. Adding certificate verification is strongly advised. See: https://urllib3.readthedocs.io/en/latest/advanced-usage.html#ssl-warnings\n",
      "  warnings.warn(\n"
     ]
    },
    {
     "name": "stdout",
     "output_type": "stream",
     "text": [
      "https://100.123.26.252/api/v2/devices?status=offline&offset=700\n",
      "bucle: 8\n"
     ]
    },
    {
     "name": "stderr",
     "output_type": "stream",
     "text": [
      "/opt/anaconda3/lib/python3.8/site-packages/urllib3/connectionpool.py:981: InsecureRequestWarning: Unverified HTTPS request is being made to host '100.123.26.252'. Adding certificate verification is strongly advised. See: https://urllib3.readthedocs.io/en/latest/advanced-usage.html#ssl-warnings\n",
      "  warnings.warn(\n"
     ]
    },
    {
     "name": "stdout",
     "output_type": "stream",
     "text": [
      "https://100.123.26.252/api/v2/devices?status=offline&offset=800\n",
      "bucle: 9\n"
     ]
    },
    {
     "name": "stderr",
     "output_type": "stream",
     "text": [
      "/opt/anaconda3/lib/python3.8/site-packages/urllib3/connectionpool.py:981: InsecureRequestWarning: Unverified HTTPS request is being made to host '100.123.26.252'. Adding certificate verification is strongly advised. See: https://urllib3.readthedocs.io/en/latest/advanced-usage.html#ssl-warnings\n",
      "  warnings.warn(\n"
     ]
    },
    {
     "name": "stdout",
     "output_type": "stream",
     "text": [
      "https://100.123.26.252/api/v2/devices?status=offline&offset=900\n",
      "bucle: 10\n"
     ]
    },
    {
     "name": "stderr",
     "output_type": "stream",
     "text": [
      "/opt/anaconda3/lib/python3.8/site-packages/urllib3/connectionpool.py:981: InsecureRequestWarning: Unverified HTTPS request is being made to host '100.123.26.252'. Adding certificate verification is strongly advised. See: https://urllib3.readthedocs.io/en/latest/advanced-usage.html#ssl-warnings\n",
      "  warnings.warn(\n"
     ]
    },
    {
     "name": "stdout",
     "output_type": "stream",
     "text": [
      "https://100.123.26.252/api/v2/devices?status=offline&offset=1000\n",
      "bucle: 11\n"
     ]
    },
    {
     "name": "stderr",
     "output_type": "stream",
     "text": [
      "/opt/anaconda3/lib/python3.8/site-packages/urllib3/connectionpool.py:981: InsecureRequestWarning: Unverified HTTPS request is being made to host '100.123.26.252'. Adding certificate verification is strongly advised. See: https://urllib3.readthedocs.io/en/latest/advanced-usage.html#ssl-warnings\n",
      "  warnings.warn(\n"
     ]
    },
    {
     "name": "stdout",
     "output_type": "stream",
     "text": [
      "https://100.123.26.252/api/v2/devices?status=offline&offset=1100\n",
      "bucle: 12\n"
     ]
    },
    {
     "name": "stderr",
     "output_type": "stream",
     "text": [
      "/opt/anaconda3/lib/python3.8/site-packages/urllib3/connectionpool.py:981: InsecureRequestWarning: Unverified HTTPS request is being made to host '100.123.26.252'. Adding certificate verification is strongly advised. See: https://urllib3.readthedocs.io/en/latest/advanced-usage.html#ssl-warnings\n",
      "  warnings.warn(\n"
     ]
    },
    {
     "name": "stdout",
     "output_type": "stream",
     "text": [
      "https://100.123.26.252/api/v2/devices?status=offline&offset=1200\n",
      "bucle: 13\n",
      "https://100.123.26.252/api/v2/devices?status=onboarding\n"
     ]
    },
    {
     "name": "stderr",
     "output_type": "stream",
     "text": [
      "/opt/anaconda3/lib/python3.8/site-packages/urllib3/connectionpool.py:981: InsecureRequestWarning: Unverified HTTPS request is being made to host '100.123.26.252'. Adding certificate verification is strongly advised. See: https://urllib3.readthedocs.io/en/latest/advanced-usage.html#ssl-warnings\n",
      "  warnings.warn(\n",
      "/opt/anaconda3/lib/python3.8/site-packages/urllib3/connectionpool.py:981: InsecureRequestWarning: Unverified HTTPS request is being made to host '100.123.26.252'. Adding certificate verification is strongly advised. See: https://urllib3.readthedocs.io/en/latest/advanced-usage.html#ssl-warnings\n",
      "  warnings.warn(\n"
     ]
    },
    {
     "name": "stdout",
     "output_type": "stream",
     "text": [
      "https://100.123.26.252/api/v2/devices?status=onboarding&offset=0\n",
      "bucle: 1\n"
     ]
    },
    {
     "name": "stderr",
     "output_type": "stream",
     "text": [
      "/opt/anaconda3/lib/python3.8/site-packages/urllib3/connectionpool.py:981: InsecureRequestWarning: Unverified HTTPS request is being made to host '100.123.26.252'. Adding certificate verification is strongly advised. See: https://urllib3.readthedocs.io/en/latest/advanced-usage.html#ssl-warnings\n",
      "  warnings.warn(\n"
     ]
    },
    {
     "name": "stdout",
     "output_type": "stream",
     "text": [
      "https://100.123.26.252/api/v2/devices?status=onboarding&offset=100\n",
      "bucle: 2\n"
     ]
    },
    {
     "name": "stderr",
     "output_type": "stream",
     "text": [
      "/opt/anaconda3/lib/python3.8/site-packages/urllib3/connectionpool.py:981: InsecureRequestWarning: Unverified HTTPS request is being made to host '100.123.26.252'. Adding certificate verification is strongly advised. See: https://urllib3.readthedocs.io/en/latest/advanced-usage.html#ssl-warnings\n",
      "  warnings.warn(\n"
     ]
    },
    {
     "name": "stdout",
     "output_type": "stream",
     "text": [
      "https://100.123.26.252/api/v2/devices?status=onboarding&offset=200\n",
      "bucle: 3\n"
     ]
    },
    {
     "name": "stderr",
     "output_type": "stream",
     "text": [
      "/opt/anaconda3/lib/python3.8/site-packages/urllib3/connectionpool.py:981: InsecureRequestWarning: Unverified HTTPS request is being made to host '100.123.26.252'. Adding certificate verification is strongly advised. See: https://urllib3.readthedocs.io/en/latest/advanced-usage.html#ssl-warnings\n",
      "  warnings.warn(\n"
     ]
    },
    {
     "name": "stdout",
     "output_type": "stream",
     "text": [
      "https://100.123.26.252/api/v2/devices?status=onboarding&offset=300\n",
      "bucle: 4\n",
      "servidor: 2\n",
      "https://100.123.26.224/api/v2/devices?status=online\n"
     ]
    },
    {
     "name": "stderr",
     "output_type": "stream",
     "text": [
      "/opt/anaconda3/lib/python3.8/site-packages/urllib3/connectionpool.py:981: InsecureRequestWarning: Unverified HTTPS request is being made to host '100.123.26.224'. Adding certificate verification is strongly advised. See: https://urllib3.readthedocs.io/en/latest/advanced-usage.html#ssl-warnings\n",
      "  warnings.warn(\n",
      "/opt/anaconda3/lib/python3.8/site-packages/urllib3/connectionpool.py:981: InsecureRequestWarning: Unverified HTTPS request is being made to host '100.123.26.224'. Adding certificate verification is strongly advised. See: https://urllib3.readthedocs.io/en/latest/advanced-usage.html#ssl-warnings\n",
      "  warnings.warn(\n"
     ]
    },
    {
     "name": "stdout",
     "output_type": "stream",
     "text": [
      "https://100.123.26.224/api/v2/devices?status=online&offset=0\n",
      "bucle: 1\n"
     ]
    },
    {
     "name": "stderr",
     "output_type": "stream",
     "text": [
      "/opt/anaconda3/lib/python3.8/site-packages/urllib3/connectionpool.py:981: InsecureRequestWarning: Unverified HTTPS request is being made to host '100.123.26.224'. Adding certificate verification is strongly advised. See: https://urllib3.readthedocs.io/en/latest/advanced-usage.html#ssl-warnings\n",
      "  warnings.warn(\n"
     ]
    },
    {
     "name": "stdout",
     "output_type": "stream",
     "text": [
      "https://100.123.26.224/api/v2/devices?status=online&offset=100\n",
      "bucle: 2\n"
     ]
    },
    {
     "name": "stderr",
     "output_type": "stream",
     "text": [
      "/opt/anaconda3/lib/python3.8/site-packages/urllib3/connectionpool.py:981: InsecureRequestWarning: Unverified HTTPS request is being made to host '100.123.26.224'. Adding certificate verification is strongly advised. See: https://urllib3.readthedocs.io/en/latest/advanced-usage.html#ssl-warnings\n",
      "  warnings.warn(\n"
     ]
    },
    {
     "name": "stdout",
     "output_type": "stream",
     "text": [
      "https://100.123.26.224/api/v2/devices?status=online&offset=200\n",
      "bucle: 3\n"
     ]
    },
    {
     "name": "stderr",
     "output_type": "stream",
     "text": [
      "/opt/anaconda3/lib/python3.8/site-packages/urllib3/connectionpool.py:981: InsecureRequestWarning: Unverified HTTPS request is being made to host '100.123.26.224'. Adding certificate verification is strongly advised. See: https://urllib3.readthedocs.io/en/latest/advanced-usage.html#ssl-warnings\n",
      "  warnings.warn(\n"
     ]
    },
    {
     "name": "stdout",
     "output_type": "stream",
     "text": [
      "https://100.123.26.224/api/v2/devices?status=online&offset=300\n",
      "bucle: 4\n"
     ]
    },
    {
     "name": "stderr",
     "output_type": "stream",
     "text": [
      "/opt/anaconda3/lib/python3.8/site-packages/urllib3/connectionpool.py:981: InsecureRequestWarning: Unverified HTTPS request is being made to host '100.123.26.224'. Adding certificate verification is strongly advised. See: https://urllib3.readthedocs.io/en/latest/advanced-usage.html#ssl-warnings\n",
      "  warnings.warn(\n"
     ]
    },
    {
     "name": "stdout",
     "output_type": "stream",
     "text": [
      "https://100.123.26.224/api/v2/devices?status=online&offset=400\n",
      "bucle: 5\n"
     ]
    },
    {
     "name": "stderr",
     "output_type": "stream",
     "text": [
      "/opt/anaconda3/lib/python3.8/site-packages/urllib3/connectionpool.py:981: InsecureRequestWarning: Unverified HTTPS request is being made to host '100.123.26.224'. Adding certificate verification is strongly advised. See: https://urllib3.readthedocs.io/en/latest/advanced-usage.html#ssl-warnings\n",
      "  warnings.warn(\n"
     ]
    },
    {
     "name": "stdout",
     "output_type": "stream",
     "text": [
      "https://100.123.26.224/api/v2/devices?status=online&offset=500\n",
      "bucle: 6\n"
     ]
    },
    {
     "name": "stderr",
     "output_type": "stream",
     "text": [
      "/opt/anaconda3/lib/python3.8/site-packages/urllib3/connectionpool.py:981: InsecureRequestWarning: Unverified HTTPS request is being made to host '100.123.26.224'. Adding certificate verification is strongly advised. See: https://urllib3.readthedocs.io/en/latest/advanced-usage.html#ssl-warnings\n",
      "  warnings.warn(\n"
     ]
    },
    {
     "name": "stdout",
     "output_type": "stream",
     "text": [
      "https://100.123.26.224/api/v2/devices?status=online&offset=600\n",
      "bucle: 7\n"
     ]
    },
    {
     "name": "stderr",
     "output_type": "stream",
     "text": [
      "/opt/anaconda3/lib/python3.8/site-packages/urllib3/connectionpool.py:981: InsecureRequestWarning: Unverified HTTPS request is being made to host '100.123.26.224'. Adding certificate verification is strongly advised. See: https://urllib3.readthedocs.io/en/latest/advanced-usage.html#ssl-warnings\n",
      "  warnings.warn(\n"
     ]
    },
    {
     "name": "stdout",
     "output_type": "stream",
     "text": [
      "https://100.123.26.224/api/v2/devices?status=online&offset=700\n",
      "bucle: 8\n"
     ]
    },
    {
     "name": "stderr",
     "output_type": "stream",
     "text": [
      "/opt/anaconda3/lib/python3.8/site-packages/urllib3/connectionpool.py:981: InsecureRequestWarning: Unverified HTTPS request is being made to host '100.123.26.224'. Adding certificate verification is strongly advised. See: https://urllib3.readthedocs.io/en/latest/advanced-usage.html#ssl-warnings\n",
      "  warnings.warn(\n"
     ]
    },
    {
     "name": "stdout",
     "output_type": "stream",
     "text": [
      "https://100.123.26.224/api/v2/devices?status=online&offset=800\n",
      "bucle: 9\n"
     ]
    },
    {
     "name": "stderr",
     "output_type": "stream",
     "text": [
      "/opt/anaconda3/lib/python3.8/site-packages/urllib3/connectionpool.py:981: InsecureRequestWarning: Unverified HTTPS request is being made to host '100.123.26.224'. Adding certificate verification is strongly advised. See: https://urllib3.readthedocs.io/en/latest/advanced-usage.html#ssl-warnings\n",
      "  warnings.warn(\n"
     ]
    },
    {
     "name": "stdout",
     "output_type": "stream",
     "text": [
      "https://100.123.26.224/api/v2/devices?status=online&offset=900\n",
      "bucle: 10\n"
     ]
    },
    {
     "name": "stderr",
     "output_type": "stream",
     "text": [
      "/opt/anaconda3/lib/python3.8/site-packages/urllib3/connectionpool.py:981: InsecureRequestWarning: Unverified HTTPS request is being made to host '100.123.26.224'. Adding certificate verification is strongly advised. See: https://urllib3.readthedocs.io/en/latest/advanced-usage.html#ssl-warnings\n",
      "  warnings.warn(\n"
     ]
    },
    {
     "name": "stdout",
     "output_type": "stream",
     "text": [
      "https://100.123.26.224/api/v2/devices?status=online&offset=1000\n",
      "bucle: 11\n"
     ]
    },
    {
     "name": "stderr",
     "output_type": "stream",
     "text": [
      "/opt/anaconda3/lib/python3.8/site-packages/urllib3/connectionpool.py:981: InsecureRequestWarning: Unverified HTTPS request is being made to host '100.123.26.224'. Adding certificate verification is strongly advised. See: https://urllib3.readthedocs.io/en/latest/advanced-usage.html#ssl-warnings\n",
      "  warnings.warn(\n"
     ]
    },
    {
     "name": "stdout",
     "output_type": "stream",
     "text": [
      "https://100.123.26.224/api/v2/devices?status=online&offset=1100\n",
      "bucle: 12\n"
     ]
    },
    {
     "name": "stderr",
     "output_type": "stream",
     "text": [
      "/opt/anaconda3/lib/python3.8/site-packages/urllib3/connectionpool.py:981: InsecureRequestWarning: Unverified HTTPS request is being made to host '100.123.26.224'. Adding certificate verification is strongly advised. See: https://urllib3.readthedocs.io/en/latest/advanced-usage.html#ssl-warnings\n",
      "  warnings.warn(\n"
     ]
    },
    {
     "name": "stdout",
     "output_type": "stream",
     "text": [
      "https://100.123.26.224/api/v2/devices?status=online&offset=1200\n",
      "bucle: 13\n"
     ]
    },
    {
     "name": "stderr",
     "output_type": "stream",
     "text": [
      "/opt/anaconda3/lib/python3.8/site-packages/urllib3/connectionpool.py:981: InsecureRequestWarning: Unverified HTTPS request is being made to host '100.123.26.224'. Adding certificate verification is strongly advised. See: https://urllib3.readthedocs.io/en/latest/advanced-usage.html#ssl-warnings\n",
      "  warnings.warn(\n"
     ]
    },
    {
     "name": "stdout",
     "output_type": "stream",
     "text": [
      "https://100.123.26.224/api/v2/devices?status=online&offset=1300\n",
      "bucle: 14\n"
     ]
    },
    {
     "name": "stderr",
     "output_type": "stream",
     "text": [
      "/opt/anaconda3/lib/python3.8/site-packages/urllib3/connectionpool.py:981: InsecureRequestWarning: Unverified HTTPS request is being made to host '100.123.26.224'. Adding certificate verification is strongly advised. See: https://urllib3.readthedocs.io/en/latest/advanced-usage.html#ssl-warnings\n",
      "  warnings.warn(\n"
     ]
    },
    {
     "name": "stdout",
     "output_type": "stream",
     "text": [
      "https://100.123.26.224/api/v2/devices?status=online&offset=1400\n",
      "bucle: 15\n"
     ]
    },
    {
     "name": "stderr",
     "output_type": "stream",
     "text": [
      "/opt/anaconda3/lib/python3.8/site-packages/urllib3/connectionpool.py:981: InsecureRequestWarning: Unverified HTTPS request is being made to host '100.123.26.224'. Adding certificate verification is strongly advised. See: https://urllib3.readthedocs.io/en/latest/advanced-usage.html#ssl-warnings\n",
      "  warnings.warn(\n"
     ]
    },
    {
     "name": "stdout",
     "output_type": "stream",
     "text": [
      "https://100.123.26.224/api/v2/devices?status=online&offset=1500\n",
      "bucle: 16\n"
     ]
    },
    {
     "name": "stderr",
     "output_type": "stream",
     "text": [
      "/opt/anaconda3/lib/python3.8/site-packages/urllib3/connectionpool.py:981: InsecureRequestWarning: Unverified HTTPS request is being made to host '100.123.26.224'. Adding certificate verification is strongly advised. See: https://urllib3.readthedocs.io/en/latest/advanced-usage.html#ssl-warnings\n",
      "  warnings.warn(\n"
     ]
    },
    {
     "name": "stdout",
     "output_type": "stream",
     "text": [
      "https://100.123.26.224/api/v2/devices?status=online&offset=1600\n",
      "bucle: 17\n"
     ]
    },
    {
     "name": "stderr",
     "output_type": "stream",
     "text": [
      "/opt/anaconda3/lib/python3.8/site-packages/urllib3/connectionpool.py:981: InsecureRequestWarning: Unverified HTTPS request is being made to host '100.123.26.224'. Adding certificate verification is strongly advised. See: https://urllib3.readthedocs.io/en/latest/advanced-usage.html#ssl-warnings\n",
      "  warnings.warn(\n"
     ]
    },
    {
     "name": "stdout",
     "output_type": "stream",
     "text": [
      "https://100.123.26.224/api/v2/devices?status=online&offset=1700\n",
      "bucle: 18\n"
     ]
    },
    {
     "name": "stderr",
     "output_type": "stream",
     "text": [
      "/opt/anaconda3/lib/python3.8/site-packages/urllib3/connectionpool.py:981: InsecureRequestWarning: Unverified HTTPS request is being made to host '100.123.26.224'. Adding certificate verification is strongly advised. See: https://urllib3.readthedocs.io/en/latest/advanced-usage.html#ssl-warnings\n",
      "  warnings.warn(\n"
     ]
    },
    {
     "name": "stdout",
     "output_type": "stream",
     "text": [
      "https://100.123.26.224/api/v2/devices?status=online&offset=1800\n",
      "bucle: 19\n"
     ]
    },
    {
     "name": "stderr",
     "output_type": "stream",
     "text": [
      "/opt/anaconda3/lib/python3.8/site-packages/urllib3/connectionpool.py:981: InsecureRequestWarning: Unverified HTTPS request is being made to host '100.123.26.224'. Adding certificate verification is strongly advised. See: https://urllib3.readthedocs.io/en/latest/advanced-usage.html#ssl-warnings\n",
      "  warnings.warn(\n"
     ]
    },
    {
     "name": "stdout",
     "output_type": "stream",
     "text": [
      "https://100.123.26.224/api/v2/devices?status=online&offset=1900\n",
      "bucle: 20\n"
     ]
    },
    {
     "name": "stderr",
     "output_type": "stream",
     "text": [
      "/opt/anaconda3/lib/python3.8/site-packages/urllib3/connectionpool.py:981: InsecureRequestWarning: Unverified HTTPS request is being made to host '100.123.26.224'. Adding certificate verification is strongly advised. See: https://urllib3.readthedocs.io/en/latest/advanced-usage.html#ssl-warnings\n",
      "  warnings.warn(\n"
     ]
    },
    {
     "name": "stdout",
     "output_type": "stream",
     "text": [
      "https://100.123.26.224/api/v2/devices?status=online&offset=2000\n",
      "bucle: 21\n"
     ]
    },
    {
     "name": "stderr",
     "output_type": "stream",
     "text": [
      "/opt/anaconda3/lib/python3.8/site-packages/urllib3/connectionpool.py:981: InsecureRequestWarning: Unverified HTTPS request is being made to host '100.123.26.224'. Adding certificate verification is strongly advised. See: https://urllib3.readthedocs.io/en/latest/advanced-usage.html#ssl-warnings\n",
      "  warnings.warn(\n"
     ]
    },
    {
     "name": "stdout",
     "output_type": "stream",
     "text": [
      "https://100.123.26.224/api/v2/devices?status=online&offset=2100\n",
      "bucle: 22\n"
     ]
    },
    {
     "name": "stderr",
     "output_type": "stream",
     "text": [
      "/opt/anaconda3/lib/python3.8/site-packages/urllib3/connectionpool.py:981: InsecureRequestWarning: Unverified HTTPS request is being made to host '100.123.26.224'. Adding certificate verification is strongly advised. See: https://urllib3.readthedocs.io/en/latest/advanced-usage.html#ssl-warnings\n",
      "  warnings.warn(\n"
     ]
    },
    {
     "name": "stdout",
     "output_type": "stream",
     "text": [
      "https://100.123.26.224/api/v2/devices?status=online&offset=2200\n",
      "bucle: 23\n"
     ]
    },
    {
     "name": "stderr",
     "output_type": "stream",
     "text": [
      "/opt/anaconda3/lib/python3.8/site-packages/urllib3/connectionpool.py:981: InsecureRequestWarning: Unverified HTTPS request is being made to host '100.123.26.224'. Adding certificate verification is strongly advised. See: https://urllib3.readthedocs.io/en/latest/advanced-usage.html#ssl-warnings\n",
      "  warnings.warn(\n"
     ]
    },
    {
     "name": "stdout",
     "output_type": "stream",
     "text": [
      "https://100.123.26.224/api/v2/devices?status=online&offset=2300\n",
      "bucle: 24\n"
     ]
    },
    {
     "name": "stderr",
     "output_type": "stream",
     "text": [
      "/opt/anaconda3/lib/python3.8/site-packages/urllib3/connectionpool.py:981: InsecureRequestWarning: Unverified HTTPS request is being made to host '100.123.26.224'. Adding certificate verification is strongly advised. See: https://urllib3.readthedocs.io/en/latest/advanced-usage.html#ssl-warnings\n",
      "  warnings.warn(\n"
     ]
    },
    {
     "name": "stdout",
     "output_type": "stream",
     "text": [
      "https://100.123.26.224/api/v2/devices?status=online&offset=2400\n",
      "bucle: 25\n"
     ]
    },
    {
     "name": "stderr",
     "output_type": "stream",
     "text": [
      "/opt/anaconda3/lib/python3.8/site-packages/urllib3/connectionpool.py:981: InsecureRequestWarning: Unverified HTTPS request is being made to host '100.123.26.224'. Adding certificate verification is strongly advised. See: https://urllib3.readthedocs.io/en/latest/advanced-usage.html#ssl-warnings\n",
      "  warnings.warn(\n"
     ]
    },
    {
     "name": "stdout",
     "output_type": "stream",
     "text": [
      "https://100.123.26.224/api/v2/devices?status=online&offset=2500\n",
      "bucle: 26\n"
     ]
    },
    {
     "name": "stderr",
     "output_type": "stream",
     "text": [
      "/opt/anaconda3/lib/python3.8/site-packages/urllib3/connectionpool.py:981: InsecureRequestWarning: Unverified HTTPS request is being made to host '100.123.26.224'. Adding certificate verification is strongly advised. See: https://urllib3.readthedocs.io/en/latest/advanced-usage.html#ssl-warnings\n",
      "  warnings.warn(\n"
     ]
    },
    {
     "name": "stdout",
     "output_type": "stream",
     "text": [
      "https://100.123.26.224/api/v2/devices?status=online&offset=2600\n",
      "bucle: 27\n"
     ]
    },
    {
     "name": "stderr",
     "output_type": "stream",
     "text": [
      "/opt/anaconda3/lib/python3.8/site-packages/urllib3/connectionpool.py:981: InsecureRequestWarning: Unverified HTTPS request is being made to host '100.123.26.224'. Adding certificate verification is strongly advised. See: https://urllib3.readthedocs.io/en/latest/advanced-usage.html#ssl-warnings\n",
      "  warnings.warn(\n"
     ]
    },
    {
     "name": "stdout",
     "output_type": "stream",
     "text": [
      "https://100.123.26.224/api/v2/devices?status=online&offset=2700\n",
      "bucle: 28\n"
     ]
    },
    {
     "name": "stderr",
     "output_type": "stream",
     "text": [
      "/opt/anaconda3/lib/python3.8/site-packages/urllib3/connectionpool.py:981: InsecureRequestWarning: Unverified HTTPS request is being made to host '100.123.26.224'. Adding certificate verification is strongly advised. See: https://urllib3.readthedocs.io/en/latest/advanced-usage.html#ssl-warnings\n",
      "  warnings.warn(\n"
     ]
    },
    {
     "name": "stdout",
     "output_type": "stream",
     "text": [
      "https://100.123.26.224/api/v2/devices?status=online&offset=2800\n",
      "bucle: 29\n"
     ]
    },
    {
     "name": "stderr",
     "output_type": "stream",
     "text": [
      "/opt/anaconda3/lib/python3.8/site-packages/urllib3/connectionpool.py:981: InsecureRequestWarning: Unverified HTTPS request is being made to host '100.123.26.224'. Adding certificate verification is strongly advised. See: https://urllib3.readthedocs.io/en/latest/advanced-usage.html#ssl-warnings\n",
      "  warnings.warn(\n"
     ]
    },
    {
     "name": "stdout",
     "output_type": "stream",
     "text": [
      "https://100.123.26.224/api/v2/devices?status=online&offset=2900\n",
      "bucle: 30\n"
     ]
    },
    {
     "name": "stderr",
     "output_type": "stream",
     "text": [
      "/opt/anaconda3/lib/python3.8/site-packages/urllib3/connectionpool.py:981: InsecureRequestWarning: Unverified HTTPS request is being made to host '100.123.26.224'. Adding certificate verification is strongly advised. See: https://urllib3.readthedocs.io/en/latest/advanced-usage.html#ssl-warnings\n",
      "  warnings.warn(\n"
     ]
    },
    {
     "name": "stdout",
     "output_type": "stream",
     "text": [
      "https://100.123.26.224/api/v2/devices?status=online&offset=3000\n",
      "bucle: 31\n"
     ]
    },
    {
     "name": "stderr",
     "output_type": "stream",
     "text": [
      "/opt/anaconda3/lib/python3.8/site-packages/urllib3/connectionpool.py:981: InsecureRequestWarning: Unverified HTTPS request is being made to host '100.123.26.224'. Adding certificate verification is strongly advised. See: https://urllib3.readthedocs.io/en/latest/advanced-usage.html#ssl-warnings\n",
      "  warnings.warn(\n"
     ]
    },
    {
     "name": "stdout",
     "output_type": "stream",
     "text": [
      "https://100.123.26.224/api/v2/devices?status=online&offset=3100\n",
      "bucle: 32\n"
     ]
    },
    {
     "name": "stderr",
     "output_type": "stream",
     "text": [
      "/opt/anaconda3/lib/python3.8/site-packages/urllib3/connectionpool.py:981: InsecureRequestWarning: Unverified HTTPS request is being made to host '100.123.26.224'. Adding certificate verification is strongly advised. See: https://urllib3.readthedocs.io/en/latest/advanced-usage.html#ssl-warnings\n",
      "  warnings.warn(\n"
     ]
    },
    {
     "name": "stdout",
     "output_type": "stream",
     "text": [
      "https://100.123.26.224/api/v2/devices?status=online&offset=3200\n",
      "bucle: 33\n"
     ]
    },
    {
     "name": "stderr",
     "output_type": "stream",
     "text": [
      "/opt/anaconda3/lib/python3.8/site-packages/urllib3/connectionpool.py:981: InsecureRequestWarning: Unverified HTTPS request is being made to host '100.123.26.224'. Adding certificate verification is strongly advised. See: https://urllib3.readthedocs.io/en/latest/advanced-usage.html#ssl-warnings\n",
      "  warnings.warn(\n"
     ]
    },
    {
     "name": "stdout",
     "output_type": "stream",
     "text": [
      "https://100.123.26.224/api/v2/devices?status=online&offset=3300\n",
      "bucle: 34\n"
     ]
    },
    {
     "name": "stderr",
     "output_type": "stream",
     "text": [
      "/opt/anaconda3/lib/python3.8/site-packages/urllib3/connectionpool.py:981: InsecureRequestWarning: Unverified HTTPS request is being made to host '100.123.26.224'. Adding certificate verification is strongly advised. See: https://urllib3.readthedocs.io/en/latest/advanced-usage.html#ssl-warnings\n",
      "  warnings.warn(\n"
     ]
    },
    {
     "name": "stdout",
     "output_type": "stream",
     "text": [
      "https://100.123.26.224/api/v2/devices?status=online&offset=3400\n",
      "bucle: 35\n",
      "https://100.123.26.224/api/v2/devices?status=offline\n"
     ]
    },
    {
     "name": "stderr",
     "output_type": "stream",
     "text": [
      "/opt/anaconda3/lib/python3.8/site-packages/urllib3/connectionpool.py:981: InsecureRequestWarning: Unverified HTTPS request is being made to host '100.123.26.224'. Adding certificate verification is strongly advised. See: https://urllib3.readthedocs.io/en/latest/advanced-usage.html#ssl-warnings\n",
      "  warnings.warn(\n",
      "/opt/anaconda3/lib/python3.8/site-packages/urllib3/connectionpool.py:981: InsecureRequestWarning: Unverified HTTPS request is being made to host '100.123.26.224'. Adding certificate verification is strongly advised. See: https://urllib3.readthedocs.io/en/latest/advanced-usage.html#ssl-warnings\n",
      "  warnings.warn(\n"
     ]
    },
    {
     "name": "stdout",
     "output_type": "stream",
     "text": [
      "https://100.123.26.224/api/v2/devices?status=offline&offset=0\n",
      "bucle: 1\n"
     ]
    },
    {
     "name": "stderr",
     "output_type": "stream",
     "text": [
      "/opt/anaconda3/lib/python3.8/site-packages/urllib3/connectionpool.py:981: InsecureRequestWarning: Unverified HTTPS request is being made to host '100.123.26.224'. Adding certificate verification is strongly advised. See: https://urllib3.readthedocs.io/en/latest/advanced-usage.html#ssl-warnings\n",
      "  warnings.warn(\n"
     ]
    },
    {
     "name": "stdout",
     "output_type": "stream",
     "text": [
      "https://100.123.26.224/api/v2/devices?status=offline&offset=100\n",
      "bucle: 2\n"
     ]
    },
    {
     "name": "stderr",
     "output_type": "stream",
     "text": [
      "/opt/anaconda3/lib/python3.8/site-packages/urllib3/connectionpool.py:981: InsecureRequestWarning: Unverified HTTPS request is being made to host '100.123.26.224'. Adding certificate verification is strongly advised. See: https://urllib3.readthedocs.io/en/latest/advanced-usage.html#ssl-warnings\n",
      "  warnings.warn(\n"
     ]
    },
    {
     "name": "stdout",
     "output_type": "stream",
     "text": [
      "https://100.123.26.224/api/v2/devices?status=offline&offset=200\n",
      "bucle: 3\n"
     ]
    },
    {
     "name": "stderr",
     "output_type": "stream",
     "text": [
      "/opt/anaconda3/lib/python3.8/site-packages/urllib3/connectionpool.py:981: InsecureRequestWarning: Unverified HTTPS request is being made to host '100.123.26.224'. Adding certificate verification is strongly advised. See: https://urllib3.readthedocs.io/en/latest/advanced-usage.html#ssl-warnings\n",
      "  warnings.warn(\n"
     ]
    },
    {
     "name": "stdout",
     "output_type": "stream",
     "text": [
      "https://100.123.26.224/api/v2/devices?status=offline&offset=300\n",
      "bucle: 4\n"
     ]
    },
    {
     "name": "stderr",
     "output_type": "stream",
     "text": [
      "/opt/anaconda3/lib/python3.8/site-packages/urllib3/connectionpool.py:981: InsecureRequestWarning: Unverified HTTPS request is being made to host '100.123.26.224'. Adding certificate verification is strongly advised. See: https://urllib3.readthedocs.io/en/latest/advanced-usage.html#ssl-warnings\n",
      "  warnings.warn(\n"
     ]
    },
    {
     "name": "stdout",
     "output_type": "stream",
     "text": [
      "https://100.123.26.224/api/v2/devices?status=offline&offset=400\n",
      "bucle: 5\n"
     ]
    },
    {
     "name": "stderr",
     "output_type": "stream",
     "text": [
      "/opt/anaconda3/lib/python3.8/site-packages/urllib3/connectionpool.py:981: InsecureRequestWarning: Unverified HTTPS request is being made to host '100.123.26.224'. Adding certificate verification is strongly advised. See: https://urllib3.readthedocs.io/en/latest/advanced-usage.html#ssl-warnings\n",
      "  warnings.warn(\n"
     ]
    },
    {
     "name": "stdout",
     "output_type": "stream",
     "text": [
      "https://100.123.26.224/api/v2/devices?status=offline&offset=500\n",
      "bucle: 6\n"
     ]
    },
    {
     "name": "stderr",
     "output_type": "stream",
     "text": [
      "/opt/anaconda3/lib/python3.8/site-packages/urllib3/connectionpool.py:981: InsecureRequestWarning: Unverified HTTPS request is being made to host '100.123.26.224'. Adding certificate verification is strongly advised. See: https://urllib3.readthedocs.io/en/latest/advanced-usage.html#ssl-warnings\n",
      "  warnings.warn(\n"
     ]
    },
    {
     "name": "stdout",
     "output_type": "stream",
     "text": [
      "https://100.123.26.224/api/v2/devices?status=offline&offset=600\n",
      "bucle: 7\n"
     ]
    },
    {
     "name": "stderr",
     "output_type": "stream",
     "text": [
      "/opt/anaconda3/lib/python3.8/site-packages/urllib3/connectionpool.py:981: InsecureRequestWarning: Unverified HTTPS request is being made to host '100.123.26.224'. Adding certificate verification is strongly advised. See: https://urllib3.readthedocs.io/en/latest/advanced-usage.html#ssl-warnings\n",
      "  warnings.warn(\n"
     ]
    },
    {
     "name": "stdout",
     "output_type": "stream",
     "text": [
      "https://100.123.26.224/api/v2/devices?status=offline&offset=700\n",
      "bucle: 8\n",
      "https://100.123.26.224/api/v2/devices?status=onboarding\n"
     ]
    },
    {
     "name": "stderr",
     "output_type": "stream",
     "text": [
      "/opt/anaconda3/lib/python3.8/site-packages/urllib3/connectionpool.py:981: InsecureRequestWarning: Unverified HTTPS request is being made to host '100.123.26.224'. Adding certificate verification is strongly advised. See: https://urllib3.readthedocs.io/en/latest/advanced-usage.html#ssl-warnings\n",
      "  warnings.warn(\n",
      "/opt/anaconda3/lib/python3.8/site-packages/urllib3/connectionpool.py:981: InsecureRequestWarning: Unverified HTTPS request is being made to host '100.123.26.224'. Adding certificate verification is strongly advised. See: https://urllib3.readthedocs.io/en/latest/advanced-usage.html#ssl-warnings\n",
      "  warnings.warn(\n"
     ]
    },
    {
     "name": "stdout",
     "output_type": "stream",
     "text": [
      "https://100.123.26.224/api/v2/devices?status=onboarding&offset=0\n",
      "bucle: 1\n"
     ]
    },
    {
     "name": "stderr",
     "output_type": "stream",
     "text": [
      "/opt/anaconda3/lib/python3.8/site-packages/urllib3/connectionpool.py:981: InsecureRequestWarning: Unverified HTTPS request is being made to host '100.123.26.224'. Adding certificate verification is strongly advised. See: https://urllib3.readthedocs.io/en/latest/advanced-usage.html#ssl-warnings\n",
      "  warnings.warn(\n"
     ]
    },
    {
     "name": "stdout",
     "output_type": "stream",
     "text": [
      "https://100.123.26.224/api/v2/devices?status=onboarding&offset=100\n",
      "bucle: 2\n"
     ]
    },
    {
     "name": "stderr",
     "output_type": "stream",
     "text": [
      "/opt/anaconda3/lib/python3.8/site-packages/urllib3/connectionpool.py:981: InsecureRequestWarning: Unverified HTTPS request is being made to host '100.123.26.224'. Adding certificate verification is strongly advised. See: https://urllib3.readthedocs.io/en/latest/advanced-usage.html#ssl-warnings\n",
      "  warnings.warn(\n"
     ]
    },
    {
     "name": "stdout",
     "output_type": "stream",
     "text": [
      "https://100.123.26.224/api/v2/devices?status=onboarding&offset=200\n",
      "bucle: 3\n"
     ]
    },
    {
     "name": "stderr",
     "output_type": "stream",
     "text": [
      "/opt/anaconda3/lib/python3.8/site-packages/urllib3/connectionpool.py:981: InsecureRequestWarning: Unverified HTTPS request is being made to host '100.123.26.224'. Adding certificate verification is strongly advised. See: https://urllib3.readthedocs.io/en/latest/advanced-usage.html#ssl-warnings\n",
      "  warnings.warn(\n"
     ]
    },
    {
     "name": "stdout",
     "output_type": "stream",
     "text": [
      "https://100.123.26.224/api/v2/devices?status=onboarding&offset=300\n",
      "bucle: 4\n"
     ]
    }
   ],
   "source": [
    "# Definimos la cabecera y el diccionario con los datos\n",
    "datos_api = pd.DataFrame(columns=[\"country\",\"description\",\"name\",\"ip\",\"network\",\"product\",\"msn\"\n",
    "                                  #,\"software_version\"\n",
    "                                  #,\"inactive_software_version\",\"last_reboot_reason\",\"hardware_version\"\n",
    "                                  ,\"registration_date\",\"status\",\"type\",\"tower\",\"site\",\"site_id\"\n",
    "                                          ,\"location.type\",\"location.coordinates\",\"mac\",\"managed_account\",\"status_time\"\n",
    "                                          ,\"config.version\",\"config.variables.DEFAULT_GW\",\"config.variables.DEFAULT_GW6\"\n",
    "                                          ,\"config.variables.DNS_SERVER6_1\",\"config.variables.DNS_SERVER6_2\"\n",
    "                                          ,\"config.variables.DNS_SERVER_1\",\"config.variables.DNS_SERVER_2\"\n",
    "                                          ,\"config.variables.VLAN_1_IP\",\"config.variables.VLAN_1_IP6\"\n",
    "                                          ,\"config.variables.VLAN_1_MASK\",\"config.variables.VLAN_1_MODE\"\n",
    "                                          ,\"config.variables.VLAN_1_MODE6\",\"config.variables.VLAN_1_PREFIX6\"\n",
    "                                          ,\"config.variables.LOCATION\",\"config.variables.SHUTDOWN_24\"\n",
    "                                          ,\"config.variables.CHANNEL_24\",\"config.variables.SHUTDOWN_5\"\n",
    "                                          ,\"config.variables.CHANNEL_5\",\"config.variables.POWER_24\"\n",
    "                                          ,\"config.variables.POWER_5\",\"config.variables.DISPLAY_NAME\",\"ap_group\"]\n",
    "                                 )\n",
    "j=0\n",
    "estados = ['online','offline','onboarding']\n",
    "for k in range(0,len(parametros.url_cambium)):\n",
    "    print(\"servidor:\",k+1)\n",
    "    token_aux = 'Bearer ' + parametros.cambium_token_aux[k]\n",
    "    cabecera1 = { 'Content-Type': 'application/json', 'Authorization' : token_aux, 'accept' : '*/*' } \n",
    "    for m in range(0,len(estados)):\n",
    "        url = parametros.url_cambium[k] + \"devices\" + \"?status=\" + estados[m] #'?status=online'\n",
    "        print(url)\n",
    "        r = requests.get(url, headers = cabecera1, verify=False)\n",
    "        if r.status_code == 200:\n",
    "            res = json.loads(r.text)\n",
    "            time.sleep(4)\n",
    "            dato_param = res['paging']\n",
    "            #se calcula los ciclos de la consulta paginada\n",
    "            ciclos = int(round(dato_param['total']/100,0))\n",
    "            #ciclos = 0 #int(round(dato_param['total']/100,0))\n",
    "            #print(dato_param['total'])\n",
    "            i = 0\n",
    "            while i <= ciclos:\n",
    "                offset = str(i*100)\n",
    "                #url2 = parametros.cambium_devices_url + '?offset=' + offset\n",
    "                url2 = url + '&offset=' + offset \n",
    "                i+=1\n",
    "                #print(url2)\n",
    "                r = requests.get(url2, headers = cabecera1, verify=False)\n",
    "                if r.status_code == 200:\n",
    "                    #print(\"respuesta 200: \",r.text)\n",
    "                    res = json.loads(r.text)\n",
    "                    for x in range(0,len(res['data'])):\n",
    "                        #print(res['data'][x]['names'])\n",
    "                        try:\n",
    "                            country = res['data'][x]['country']\n",
    "                        except:\n",
    "                            country = ''\n",
    "                        try:\n",
    "                            description = res['data'][x]['description']\n",
    "                        except:\n",
    "                            description = ''\n",
    "                        try:\n",
    "                            tower = res['data'][x]['tower']\n",
    "                        except:\n",
    "                            tower = ''\n",
    "                        try:\n",
    "                            site = res['data'][x]['site']\n",
    "                        except:\n",
    "                            site = ''\n",
    "                        try:\n",
    "                            site_id = res['data'][x]['site_id']\n",
    "                        except:\n",
    "                            site_id = ''\n",
    "                        try:\n",
    "                            status_time = res['data'][x]['status_time']\n",
    "                        except:\n",
    "                            status_time = ''\n",
    "                        try:\n",
    "                            ap_group = res['data'][x]['ap_group']\n",
    "                        except:\n",
    "                            ap_group = ''\n",
    "                        try:\n",
    "                            config = res['data'][x]['config']\n",
    "                        #try:\n",
    "                        #    software_version = res['data'][x]['software_version']\n",
    "                        #except:\n",
    "                             #software_version = ''\n",
    "                            if config['version']== '1':\n",
    "                                version = '1'\n",
    "                                DEFAULT_GW=''\n",
    "                                DEFAULT_GW6=''\n",
    "                                DNS_SERVER6_1=''\n",
    "                                DNS_SERVER6_2=''\n",
    "                                DNS_SERVER_1=''\n",
    "                                DNS_SERVER_2=''\n",
    "                                VLAN_1_IP=''\n",
    "                                VLAN_1_IP6=''\n",
    "                                VLAN_1_MASK=''\n",
    "                                VLAN_1_MODE=''\n",
    "                                VLAN_1_MODE6=''\n",
    "                                VLAN_1_PREFIX6=''\n",
    "                                LOCATION=''\n",
    "                                SHUTDOWN_24=''\n",
    "                                CHANNEL_24=''\n",
    "                                SHUTDOWN_5=''\n",
    "                                CHANNEL_5=''\n",
    "                                POWER_24=''\n",
    "                                POWER_5=''\n",
    "                                DISPLAY_NAME=''\n",
    "                            else:\n",
    "                                version = config['variables']\n",
    "                                DEFAULT_GW= config['variables']['DEFAULT_GW']\n",
    "                                DEFAULT_GW6= config['variables']['DEFAULT_GW6']\n",
    "                                DNS_SERVER6_1= config['variables']['DNS_SERVER6_1']\n",
    "                                DNS_SERVER6_2= config['variables']['DNS_SERVER6_2']\n",
    "                                DNS_SERVER_1= config['variables']['DNS_SERVER_1']\n",
    "                                DNS_SERVER_2= config['variables']['DNS_SERVER_2']\n",
    "                                VLAN_1_IP= config['variables']['VLAN_1_IP']\n",
    "                                VLAN_1_IP6= config['variables']['VLAN_1_IP6']\n",
    "                                VLAN_1_MASK= config['variables']['VLAN_1_MASK']\n",
    "                                VLAN_1_MODE= config['variables']['VLAN_1_MODE']\n",
    "                                VLAN_1_MODE6= config['variables']['VLAN_1_MODE6']\n",
    "                                VLAN_1_PREFIX6= config['variables']['VLAN_1_PREFIX6']\n",
    "                                LOCATION= config['variables']['LOCATION']\n",
    "                                SHUTDOWN_24= config['variables']['SHUTDOWN_24']\n",
    "                                CHANNEL_24= config['variables']['CHANNEL_24']\n",
    "                                SHUTDOWN_5= config['variables']['SHUTDOWN_5']\n",
    "                                CHANNEL_5= config['variables']['CHANNEL_5']\n",
    "                                POWER_24= config['variables']['POWER_24']\n",
    "                                POWER_5= config['variables']['POWER_5']\n",
    "                                DISPLAY_NAME= config['variables']['DISPLAY_NAME']\n",
    "                        except:\n",
    "                            version = ''\n",
    "                            DEFAULT_GW=''\n",
    "                            DEFAULT_GW6=''\n",
    "                            DNS_SERVER6_1=''\n",
    "                            DNS_SERVER6_2=''\n",
    "                            DNS_SERVER_1=''\n",
    "                            DNS_SERVER_2=''\n",
    "                            VLAN_1_IP=''\n",
    "                            VLAN_1_IP6=''\n",
    "                            VLAN_1_MASK=''\n",
    "                            VLAN_1_MODE=''\n",
    "                            VLAN_1_MODE6=''\n",
    "                            VLAN_1_PREFIX6=''\n",
    "                            LOCATION=''\n",
    "                            SHUTDOWN_24=''\n",
    "                            CHANNEL_24=''\n",
    "                            SHUTDOWN_5=''\n",
    "                            CHANNEL_5=''\n",
    "                            POWER_24=''\n",
    "                            POWER_5=''\n",
    "                            DISPLAY_NAME=''\n",
    "                        datos_api.loc[j] = [country\n",
    "                                            ,description\n",
    "                                            ,res['data'][x]['name']\n",
    "                                            ,res['data'][x]['ip']\n",
    "                                            ,res['data'][x]['network']\n",
    "                                            ,res['data'][x]['product']\n",
    "                                            ,res['data'][x]['msn']\n",
    "                                            #, software_version #,res['data'][x]['software_version']\n",
    "                                            #,res['data'][x]['inactive_software_version']\n",
    "                                            #,res['data'][x]['last_reboot_reason']\n",
    "                                            #,res['data'][x]['hardware_version']\n",
    "                                            ,res['data'][x]['registration_date']\n",
    "                                            ,res['data'][x]['status']\n",
    "                                            ,res['data'][x]['type']\n",
    "                                            ,tower\n",
    "                                            ,site\n",
    "                                            ,site_id\n",
    "                                            ,res['data'][x]['location']['type']\n",
    "                                            ,res['data'][x]['location']['coordinates']\n",
    "                                            ,res['data'][x]['mac']\n",
    "                                            ,res['data'][x]['managed_account']\n",
    "                                            ,status_time\n",
    "                                            ,version\n",
    "                                            ,DEFAULT_GW\n",
    "                                            ,DEFAULT_GW6\n",
    "                                            ,DNS_SERVER6_1\n",
    "                                            ,DNS_SERVER6_2\n",
    "                                            ,DNS_SERVER_1\n",
    "                                            ,DNS_SERVER_2\n",
    "                                            ,VLAN_1_IP\n",
    "                                            ,VLAN_1_IP6\n",
    "                                            ,VLAN_1_MASK\n",
    "                                            ,VLAN_1_MODE\n",
    "                                            ,VLAN_1_MODE6\n",
    "                                            ,VLAN_1_PREFIX6\n",
    "                                            ,LOCATION\n",
    "                                            ,SHUTDOWN_24\n",
    "                                            ,CHANNEL_24\n",
    "                                            ,SHUTDOWN_5\n",
    "                                            ,CHANNEL_5\n",
    "                                            ,POWER_24\n",
    "                                            ,POWER_5\n",
    "                                            ,DISPLAY_NAME\n",
    "                                            ,ap_group]\n",
    "                        j+=1 # es el indice  \n",
    "                        \n",
    "                else:\n",
    "                    print(\"error bucle interno:\",r.status_code)\n",
    "                    #break\n",
    "                print (url2)    \n",
    "                print(\"bucle:\",i)    \n",
    "                time.sleep(5)    \n",
    "        else:\n",
    "            print(\"error bucle externo:\",r.status_code)\n",
    "            #break"
   ]
  },
  {
   "cell_type": "markdown",
   "metadata": {},
   "source": [
    "### Borrado de filas con todos los valorar NaN"
   ]
  },
  {
   "cell_type": "code",
   "execution_count": 131,
   "metadata": {},
   "outputs": [
    {
     "data": {
      "text/html": [
       "<div>\n",
       "<style scoped>\n",
       "    .dataframe tbody tr th:only-of-type {\n",
       "        vertical-align: middle;\n",
       "    }\n",
       "\n",
       "    .dataframe tbody tr th {\n",
       "        vertical-align: top;\n",
       "    }\n",
       "\n",
       "    .dataframe thead th {\n",
       "        text-align: right;\n",
       "    }\n",
       "</style>\n",
       "<table border=\"1\" class=\"dataframe\">\n",
       "  <thead>\n",
       "    <tr style=\"text-align: right;\">\n",
       "      <th></th>\n",
       "      <th>country</th>\n",
       "      <th>description</th>\n",
       "      <th>name</th>\n",
       "      <th>ip</th>\n",
       "      <th>network</th>\n",
       "      <th>product</th>\n",
       "      <th>msn</th>\n",
       "      <th>registration_date</th>\n",
       "      <th>status</th>\n",
       "      <th>type</th>\n",
       "      <th>...</th>\n",
       "      <th>config.variables.VLAN_1_PREFIX6</th>\n",
       "      <th>config.variables.LOCATION</th>\n",
       "      <th>config.variables.SHUTDOWN_24</th>\n",
       "      <th>config.variables.CHANNEL_24</th>\n",
       "      <th>config.variables.SHUTDOWN_5</th>\n",
       "      <th>config.variables.CHANNEL_5</th>\n",
       "      <th>config.variables.POWER_24</th>\n",
       "      <th>config.variables.POWER_5</th>\n",
       "      <th>config.variables.DISPLAY_NAME</th>\n",
       "      <th>ap_group</th>\n",
       "    </tr>\n",
       "  </thead>\n",
       "  <tbody>\n",
       "    <tr>\n",
       "      <th>0</th>\n",
       "      <td>CO</td>\n",
       "      <td>None</td>\n",
       "      <td>44745-ZGYO227-AP-INT</td>\n",
       "      <td>172.28.118.179</td>\n",
       "      <td>SANTANDER</td>\n",
       "      <td>cnPilot e410</td>\n",
       "      <td>W8WJ037WHH74</td>\n",
       "      <td>2021-04-07T19:13:54-05:00</td>\n",
       "      <td>online</td>\n",
       "      <td>wifi-enterprise</td>\n",
       "      <td>...</td>\n",
       "      <td></td>\n",
       "      <td></td>\n",
       "      <td></td>\n",
       "      <td></td>\n",
       "      <td></td>\n",
       "      <td></td>\n",
       "      <td></td>\n",
       "      <td></td>\n",
       "      <td></td>\n",
       "      <td>INDOOR-44745-ZGYO227</td>\n",
       "    </tr>\n",
       "    <tr>\n",
       "      <th>1</th>\n",
       "      <td>CO</td>\n",
       "      <td>None</td>\n",
       "      <td>44745-ZGYO227-AP-EXT2</td>\n",
       "      <td>172.28.118.180</td>\n",
       "      <td>SANTANDER</td>\n",
       "      <td>cnPilot e510</td>\n",
       "      <td>W8VJ067FJH0D</td>\n",
       "      <td>2021-04-07T19:38:50-05:00</td>\n",
       "      <td>online</td>\n",
       "      <td>wifi-enterprise</td>\n",
       "      <td>...</td>\n",
       "      <td></td>\n",
       "      <td></td>\n",
       "      <td></td>\n",
       "      <td></td>\n",
       "      <td></td>\n",
       "      <td></td>\n",
       "      <td></td>\n",
       "      <td></td>\n",
       "      <td></td>\n",
       "      <td>OUTDOOR</td>\n",
       "    </tr>\n",
       "    <tr>\n",
       "      <th>2</th>\n",
       "      <td>CO</td>\n",
       "      <td>None</td>\n",
       "      <td>44745-ZGYO227-AP-EXT1</td>\n",
       "      <td>172.28.118.181</td>\n",
       "      <td>SANTANDER</td>\n",
       "      <td>cnPilot e510</td>\n",
       "      <td>W8VJ05X88C78</td>\n",
       "      <td>2021-04-08T10:50:15-05:00</td>\n",
       "      <td>online</td>\n",
       "      <td>wifi-enterprise</td>\n",
       "      <td>...</td>\n",
       "      <td></td>\n",
       "      <td></td>\n",
       "      <td></td>\n",
       "      <td></td>\n",
       "      <td></td>\n",
       "      <td></td>\n",
       "      <td></td>\n",
       "      <td></td>\n",
       "      <td></td>\n",
       "      <td>OUTDOOR</td>\n",
       "    </tr>\n",
       "    <tr>\n",
       "      <th>3</th>\n",
       "      <td>CO</td>\n",
       "      <td>44747-ZGYO413-AP-INT</td>\n",
       "      <td>44747-ZGYO413-AP-INT</td>\n",
       "      <td>172.28.118.171</td>\n",
       "      <td>SANTANDER</td>\n",
       "      <td>cnPilot e410</td>\n",
       "      <td>W8WK06VL2ZGJ</td>\n",
       "      <td>2021-04-19T10:46:35-05:00</td>\n",
       "      <td>online</td>\n",
       "      <td>wifi-enterprise</td>\n",
       "      <td>...</td>\n",
       "      <td></td>\n",
       "      <td></td>\n",
       "      <td></td>\n",
       "      <td></td>\n",
       "      <td></td>\n",
       "      <td></td>\n",
       "      <td></td>\n",
       "      <td></td>\n",
       "      <td></td>\n",
       "      <td>INDOOR_44747-ZGYO413</td>\n",
       "    </tr>\n",
       "    <tr>\n",
       "      <th>4</th>\n",
       "      <td>CO</td>\n",
       "      <td>44747-ZGYO413-AP-EXT-1</td>\n",
       "      <td>44747-ZGYO413-AP-EXT-1</td>\n",
       "      <td>172.28.118.172</td>\n",
       "      <td>SANTANDER</td>\n",
       "      <td>cnPilot e510</td>\n",
       "      <td>W8WF00HRR3VK</td>\n",
       "      <td>2021-04-19T10:46:34-05:00</td>\n",
       "      <td>online</td>\n",
       "      <td>wifi-enterprise</td>\n",
       "      <td>...</td>\n",
       "      <td></td>\n",
       "      <td></td>\n",
       "      <td></td>\n",
       "      <td></td>\n",
       "      <td></td>\n",
       "      <td></td>\n",
       "      <td></td>\n",
       "      <td></td>\n",
       "      <td></td>\n",
       "      <td>OUTDOOR</td>\n",
       "    </tr>\n",
       "    <tr>\n",
       "      <th>...</th>\n",
       "      <td>...</td>\n",
       "      <td>...</td>\n",
       "      <td>...</td>\n",
       "      <td>...</td>\n",
       "      <td>...</td>\n",
       "      <td>...</td>\n",
       "      <td>...</td>\n",
       "      <td>...</td>\n",
       "      <td>...</td>\n",
       "      <td>...</td>\n",
       "      <td>...</td>\n",
       "      <td>...</td>\n",
       "      <td>...</td>\n",
       "      <td>...</td>\n",
       "      <td>...</td>\n",
       "      <td>...</td>\n",
       "      <td>...</td>\n",
       "      <td>...</td>\n",
       "      <td>...</td>\n",
       "      <td>...</td>\n",
       "      <td>...</td>\n",
       "    </tr>\n",
       "    <tr>\n",
       "      <th>9130</th>\n",
       "      <td>None</td>\n",
       "      <td>None</td>\n",
       "      <td>E410-EA029D</td>\n",
       "      <td>172.25.173.195</td>\n",
       "      <td>default</td>\n",
       "      <td>cnPilot e410</td>\n",
       "      <td>W8WJ0HZK42GW</td>\n",
       "      <td>2021-11-05T12:03:10-05:00</td>\n",
       "      <td>onboarding</td>\n",
       "      <td>wifi-enterprise</td>\n",
       "      <td>...</td>\n",
       "      <td></td>\n",
       "      <td></td>\n",
       "      <td></td>\n",
       "      <td></td>\n",
       "      <td></td>\n",
       "      <td></td>\n",
       "      <td></td>\n",
       "      <td></td>\n",
       "      <td></td>\n",
       "      <td></td>\n",
       "    </tr>\n",
       "    <tr>\n",
       "      <th>9131</th>\n",
       "      <td>None</td>\n",
       "      <td>None</td>\n",
       "      <td>APOutdoor2SanPablo</td>\n",
       "      <td>172.25.215.149</td>\n",
       "      <td>default</td>\n",
       "      <td>cnPilot e510</td>\n",
       "      <td>W8XD00Q0ZX2V</td>\n",
       "      <td>2021-11-06T20:40:16-05:00</td>\n",
       "      <td>onboarding</td>\n",
       "      <td>wifi-enterprise</td>\n",
       "      <td>...</td>\n",
       "      <td></td>\n",
       "      <td></td>\n",
       "      <td></td>\n",
       "      <td></td>\n",
       "      <td></td>\n",
       "      <td></td>\n",
       "      <td></td>\n",
       "      <td></td>\n",
       "      <td></td>\n",
       "      <td></td>\n",
       "    </tr>\n",
       "    <tr>\n",
       "      <th>9132</th>\n",
       "      <td>None</td>\n",
       "      <td>None</td>\n",
       "      <td>APIndoorSanPablo</td>\n",
       "      <td>172.25.215.147</td>\n",
       "      <td>default</td>\n",
       "      <td>cnPilot e410</td>\n",
       "      <td>W8XA05C4XDJH</td>\n",
       "      <td>2021-11-06T20:32:19-05:00</td>\n",
       "      <td>onboarding</td>\n",
       "      <td>wifi-enterprise</td>\n",
       "      <td>...</td>\n",
       "      <td></td>\n",
       "      <td></td>\n",
       "      <td></td>\n",
       "      <td></td>\n",
       "      <td></td>\n",
       "      <td></td>\n",
       "      <td></td>\n",
       "      <td></td>\n",
       "      <td></td>\n",
       "      <td></td>\n",
       "    </tr>\n",
       "    <tr>\n",
       "      <th>9133</th>\n",
       "      <td>None</td>\n",
       "      <td>None</td>\n",
       "      <td>APOutdoorSanPablo</td>\n",
       "      <td>172.25.215.148</td>\n",
       "      <td>default</td>\n",
       "      <td>cnPilot e510</td>\n",
       "      <td>W8XD0HNP47KC</td>\n",
       "      <td>2021-11-06T20:38:43-05:00</td>\n",
       "      <td>onboarding</td>\n",
       "      <td>wifi-enterprise</td>\n",
       "      <td>...</td>\n",
       "      <td></td>\n",
       "      <td></td>\n",
       "      <td></td>\n",
       "      <td></td>\n",
       "      <td></td>\n",
       "      <td></td>\n",
       "      <td></td>\n",
       "      <td></td>\n",
       "      <td></td>\n",
       "      <td></td>\n",
       "    </tr>\n",
       "    <tr>\n",
       "      <th>9134</th>\n",
       "      <td>None</td>\n",
       "      <td>None</td>\n",
       "      <td>F300-19R_464e00</td>\n",
       "      <td>10.70.44.66</td>\n",
       "      <td>default</td>\n",
       "      <td>ePMP Force 300-19R</td>\n",
       "      <td>E6XA0CC04D7F</td>\n",
       "      <td>2021-11-06T13:07:53-05:00</td>\n",
       "      <td>onboarding</td>\n",
       "      <td>epmp</td>\n",
       "      <td>...</td>\n",
       "      <td></td>\n",
       "      <td></td>\n",
       "      <td></td>\n",
       "      <td></td>\n",
       "      <td></td>\n",
       "      <td></td>\n",
       "      <td></td>\n",
       "      <td></td>\n",
       "      <td></td>\n",
       "      <td></td>\n",
       "    </tr>\n",
       "  </tbody>\n",
       "</table>\n",
       "<p>9135 rows × 40 columns</p>\n",
       "</div>"
      ],
      "text/plain": [
       "     country             description                    name              ip  \\\n",
       "0         CO                    None    44745-ZGYO227-AP-INT  172.28.118.179   \n",
       "1         CO                    None   44745-ZGYO227-AP-EXT2  172.28.118.180   \n",
       "2         CO                    None   44745-ZGYO227-AP-EXT1  172.28.118.181   \n",
       "3         CO    44747-ZGYO413-AP-INT    44747-ZGYO413-AP-INT  172.28.118.171   \n",
       "4         CO  44747-ZGYO413-AP-EXT-1  44747-ZGYO413-AP-EXT-1  172.28.118.172   \n",
       "...      ...                     ...                     ...             ...   \n",
       "9130    None                    None             E410-EA029D  172.25.173.195   \n",
       "9131    None                    None      APOutdoor2SanPablo  172.25.215.149   \n",
       "9132    None                    None        APIndoorSanPablo  172.25.215.147   \n",
       "9133    None                    None       APOutdoorSanPablo  172.25.215.148   \n",
       "9134    None                    None         F300-19R_464e00     10.70.44.66   \n",
       "\n",
       "        network             product           msn          registration_date  \\\n",
       "0     SANTANDER        cnPilot e410  W8WJ037WHH74  2021-04-07T19:13:54-05:00   \n",
       "1     SANTANDER        cnPilot e510  W8VJ067FJH0D  2021-04-07T19:38:50-05:00   \n",
       "2     SANTANDER        cnPilot e510  W8VJ05X88C78  2021-04-08T10:50:15-05:00   \n",
       "3     SANTANDER        cnPilot e410  W8WK06VL2ZGJ  2021-04-19T10:46:35-05:00   \n",
       "4     SANTANDER        cnPilot e510  W8WF00HRR3VK  2021-04-19T10:46:34-05:00   \n",
       "...         ...                 ...           ...                        ...   \n",
       "9130    default        cnPilot e410  W8WJ0HZK42GW  2021-11-05T12:03:10-05:00   \n",
       "9131    default        cnPilot e510  W8XD00Q0ZX2V  2021-11-06T20:40:16-05:00   \n",
       "9132    default        cnPilot e410  W8XA05C4XDJH  2021-11-06T20:32:19-05:00   \n",
       "9133    default        cnPilot e510  W8XD0HNP47KC  2021-11-06T20:38:43-05:00   \n",
       "9134    default  ePMP Force 300-19R  E6XA0CC04D7F  2021-11-06T13:07:53-05:00   \n",
       "\n",
       "          status             type  ... config.variables.VLAN_1_PREFIX6  \\\n",
       "0         online  wifi-enterprise  ...                                   \n",
       "1         online  wifi-enterprise  ...                                   \n",
       "2         online  wifi-enterprise  ...                                   \n",
       "3         online  wifi-enterprise  ...                                   \n",
       "4         online  wifi-enterprise  ...                                   \n",
       "...          ...              ...  ...                             ...   \n",
       "9130  onboarding  wifi-enterprise  ...                                   \n",
       "9131  onboarding  wifi-enterprise  ...                                   \n",
       "9132  onboarding  wifi-enterprise  ...                                   \n",
       "9133  onboarding  wifi-enterprise  ...                                   \n",
       "9134  onboarding             epmp  ...                                   \n",
       "\n",
       "     config.variables.LOCATION config.variables.SHUTDOWN_24  \\\n",
       "0                                                             \n",
       "1                                                             \n",
       "2                                                             \n",
       "3                                                             \n",
       "4                                                             \n",
       "...                        ...                          ...   \n",
       "9130                                                          \n",
       "9131                                                          \n",
       "9132                                                          \n",
       "9133                                                          \n",
       "9134                                                          \n",
       "\n",
       "     config.variables.CHANNEL_24 config.variables.SHUTDOWN_5  \\\n",
       "0                                                              \n",
       "1                                                              \n",
       "2                                                              \n",
       "3                                                              \n",
       "4                                                              \n",
       "...                          ...                         ...   \n",
       "9130                                                           \n",
       "9131                                                           \n",
       "9132                                                           \n",
       "9133                                                           \n",
       "9134                                                           \n",
       "\n",
       "     config.variables.CHANNEL_5 config.variables.POWER_24  \\\n",
       "0                                                           \n",
       "1                                                           \n",
       "2                                                           \n",
       "3                                                           \n",
       "4                                                           \n",
       "...                         ...                       ...   \n",
       "9130                                                        \n",
       "9131                                                        \n",
       "9132                                                        \n",
       "9133                                                        \n",
       "9134                                                        \n",
       "\n",
       "     config.variables.POWER_5 config.variables.DISPLAY_NAME  \\\n",
       "0                                                             \n",
       "1                                                             \n",
       "2                                                             \n",
       "3                                                             \n",
       "4                                                             \n",
       "...                       ...                           ...   \n",
       "9130                                                          \n",
       "9131                                                          \n",
       "9132                                                          \n",
       "9133                                                          \n",
       "9134                                                          \n",
       "\n",
       "                  ap_group  \n",
       "0     INDOOR-44745-ZGYO227  \n",
       "1                  OUTDOOR  \n",
       "2                  OUTDOOR  \n",
       "3     INDOOR_44747-ZGYO413  \n",
       "4                  OUTDOOR  \n",
       "...                    ...  \n",
       "9130                        \n",
       "9131                        \n",
       "9132                        \n",
       "9133                        \n",
       "9134                        \n",
       "\n",
       "[9135 rows x 40 columns]"
      ]
     },
     "execution_count": 131,
     "metadata": {},
     "output_type": "execute_result"
    }
   ],
   "source": [
    "datos_api"
   ]
  },
  {
   "cell_type": "code",
   "execution_count": 132,
   "metadata": {},
   "outputs": [],
   "source": [
    "#datos_api.dropna(axis=0, how='all', inplace=True)\n",
    "datos_api.dropna(subset=['site_id'], inplace=True)\n",
    "datos_api.fillna('', inplace=True)"
   ]
  },
  {
   "cell_type": "code",
   "execution_count": 133,
   "metadata": {},
   "outputs": [
    {
     "data": {
      "text/html": [
       "<div>\n",
       "<style scoped>\n",
       "    .dataframe tbody tr th:only-of-type {\n",
       "        vertical-align: middle;\n",
       "    }\n",
       "\n",
       "    .dataframe tbody tr th {\n",
       "        vertical-align: top;\n",
       "    }\n",
       "\n",
       "    .dataframe thead th {\n",
       "        text-align: right;\n",
       "    }\n",
       "</style>\n",
       "<table border=\"1\" class=\"dataframe\">\n",
       "  <thead>\n",
       "    <tr style=\"text-align: right;\">\n",
       "      <th></th>\n",
       "      <th>country</th>\n",
       "      <th>description</th>\n",
       "      <th>name</th>\n",
       "      <th>ip</th>\n",
       "      <th>network</th>\n",
       "      <th>product</th>\n",
       "      <th>msn</th>\n",
       "      <th>registration_date</th>\n",
       "      <th>status</th>\n",
       "      <th>type</th>\n",
       "      <th>...</th>\n",
       "      <th>config.variables.VLAN_1_PREFIX6</th>\n",
       "      <th>config.variables.LOCATION</th>\n",
       "      <th>config.variables.SHUTDOWN_24</th>\n",
       "      <th>config.variables.CHANNEL_24</th>\n",
       "      <th>config.variables.SHUTDOWN_5</th>\n",
       "      <th>config.variables.CHANNEL_5</th>\n",
       "      <th>config.variables.POWER_24</th>\n",
       "      <th>config.variables.POWER_5</th>\n",
       "      <th>config.variables.DISPLAY_NAME</th>\n",
       "      <th>ap_group</th>\n",
       "    </tr>\n",
       "  </thead>\n",
       "  <tbody>\n",
       "    <tr>\n",
       "      <th>0</th>\n",
       "      <td>CO</td>\n",
       "      <td></td>\n",
       "      <td>44745-ZGYO227-AP-INT</td>\n",
       "      <td>172.28.118.179</td>\n",
       "      <td>SANTANDER</td>\n",
       "      <td>cnPilot e410</td>\n",
       "      <td>W8WJ037WHH74</td>\n",
       "      <td>2021-04-07T19:13:54-05:00</td>\n",
       "      <td>online</td>\n",
       "      <td>wifi-enterprise</td>\n",
       "      <td>...</td>\n",
       "      <td></td>\n",
       "      <td></td>\n",
       "      <td></td>\n",
       "      <td></td>\n",
       "      <td></td>\n",
       "      <td></td>\n",
       "      <td></td>\n",
       "      <td></td>\n",
       "      <td></td>\n",
       "      <td>INDOOR-44745-ZGYO227</td>\n",
       "    </tr>\n",
       "    <tr>\n",
       "      <th>1</th>\n",
       "      <td>CO</td>\n",
       "      <td></td>\n",
       "      <td>44745-ZGYO227-AP-EXT2</td>\n",
       "      <td>172.28.118.180</td>\n",
       "      <td>SANTANDER</td>\n",
       "      <td>cnPilot e510</td>\n",
       "      <td>W8VJ067FJH0D</td>\n",
       "      <td>2021-04-07T19:38:50-05:00</td>\n",
       "      <td>online</td>\n",
       "      <td>wifi-enterprise</td>\n",
       "      <td>...</td>\n",
       "      <td></td>\n",
       "      <td></td>\n",
       "      <td></td>\n",
       "      <td></td>\n",
       "      <td></td>\n",
       "      <td></td>\n",
       "      <td></td>\n",
       "      <td></td>\n",
       "      <td></td>\n",
       "      <td>OUTDOOR</td>\n",
       "    </tr>\n",
       "    <tr>\n",
       "      <th>2</th>\n",
       "      <td>CO</td>\n",
       "      <td></td>\n",
       "      <td>44745-ZGYO227-AP-EXT1</td>\n",
       "      <td>172.28.118.181</td>\n",
       "      <td>SANTANDER</td>\n",
       "      <td>cnPilot e510</td>\n",
       "      <td>W8VJ05X88C78</td>\n",
       "      <td>2021-04-08T10:50:15-05:00</td>\n",
       "      <td>online</td>\n",
       "      <td>wifi-enterprise</td>\n",
       "      <td>...</td>\n",
       "      <td></td>\n",
       "      <td></td>\n",
       "      <td></td>\n",
       "      <td></td>\n",
       "      <td></td>\n",
       "      <td></td>\n",
       "      <td></td>\n",
       "      <td></td>\n",
       "      <td></td>\n",
       "      <td>OUTDOOR</td>\n",
       "    </tr>\n",
       "    <tr>\n",
       "      <th>3</th>\n",
       "      <td>CO</td>\n",
       "      <td>44747-ZGYO413-AP-INT</td>\n",
       "      <td>44747-ZGYO413-AP-INT</td>\n",
       "      <td>172.28.118.171</td>\n",
       "      <td>SANTANDER</td>\n",
       "      <td>cnPilot e410</td>\n",
       "      <td>W8WK06VL2ZGJ</td>\n",
       "      <td>2021-04-19T10:46:35-05:00</td>\n",
       "      <td>online</td>\n",
       "      <td>wifi-enterprise</td>\n",
       "      <td>...</td>\n",
       "      <td></td>\n",
       "      <td></td>\n",
       "      <td></td>\n",
       "      <td></td>\n",
       "      <td></td>\n",
       "      <td></td>\n",
       "      <td></td>\n",
       "      <td></td>\n",
       "      <td></td>\n",
       "      <td>INDOOR_44747-ZGYO413</td>\n",
       "    </tr>\n",
       "    <tr>\n",
       "      <th>4</th>\n",
       "      <td>CO</td>\n",
       "      <td>44747-ZGYO413-AP-EXT-1</td>\n",
       "      <td>44747-ZGYO413-AP-EXT-1</td>\n",
       "      <td>172.28.118.172</td>\n",
       "      <td>SANTANDER</td>\n",
       "      <td>cnPilot e510</td>\n",
       "      <td>W8WF00HRR3VK</td>\n",
       "      <td>2021-04-19T10:46:34-05:00</td>\n",
       "      <td>online</td>\n",
       "      <td>wifi-enterprise</td>\n",
       "      <td>...</td>\n",
       "      <td></td>\n",
       "      <td></td>\n",
       "      <td></td>\n",
       "      <td></td>\n",
       "      <td></td>\n",
       "      <td></td>\n",
       "      <td></td>\n",
       "      <td></td>\n",
       "      <td></td>\n",
       "      <td>OUTDOOR</td>\n",
       "    </tr>\n",
       "    <tr>\n",
       "      <th>...</th>\n",
       "      <td>...</td>\n",
       "      <td>...</td>\n",
       "      <td>...</td>\n",
       "      <td>...</td>\n",
       "      <td>...</td>\n",
       "      <td>...</td>\n",
       "      <td>...</td>\n",
       "      <td>...</td>\n",
       "      <td>...</td>\n",
       "      <td>...</td>\n",
       "      <td>...</td>\n",
       "      <td>...</td>\n",
       "      <td>...</td>\n",
       "      <td>...</td>\n",
       "      <td>...</td>\n",
       "      <td>...</td>\n",
       "      <td>...</td>\n",
       "      <td>...</td>\n",
       "      <td>...</td>\n",
       "      <td>...</td>\n",
       "      <td>...</td>\n",
       "    </tr>\n",
       "    <tr>\n",
       "      <th>9130</th>\n",
       "      <td></td>\n",
       "      <td></td>\n",
       "      <td>E410-EA029D</td>\n",
       "      <td>172.25.173.195</td>\n",
       "      <td>default</td>\n",
       "      <td>cnPilot e410</td>\n",
       "      <td>W8WJ0HZK42GW</td>\n",
       "      <td>2021-11-05T12:03:10-05:00</td>\n",
       "      <td>onboarding</td>\n",
       "      <td>wifi-enterprise</td>\n",
       "      <td>...</td>\n",
       "      <td></td>\n",
       "      <td></td>\n",
       "      <td></td>\n",
       "      <td></td>\n",
       "      <td></td>\n",
       "      <td></td>\n",
       "      <td></td>\n",
       "      <td></td>\n",
       "      <td></td>\n",
       "      <td></td>\n",
       "    </tr>\n",
       "    <tr>\n",
       "      <th>9131</th>\n",
       "      <td></td>\n",
       "      <td></td>\n",
       "      <td>APOutdoor2SanPablo</td>\n",
       "      <td>172.25.215.149</td>\n",
       "      <td>default</td>\n",
       "      <td>cnPilot e510</td>\n",
       "      <td>W8XD00Q0ZX2V</td>\n",
       "      <td>2021-11-06T20:40:16-05:00</td>\n",
       "      <td>onboarding</td>\n",
       "      <td>wifi-enterprise</td>\n",
       "      <td>...</td>\n",
       "      <td></td>\n",
       "      <td></td>\n",
       "      <td></td>\n",
       "      <td></td>\n",
       "      <td></td>\n",
       "      <td></td>\n",
       "      <td></td>\n",
       "      <td></td>\n",
       "      <td></td>\n",
       "      <td></td>\n",
       "    </tr>\n",
       "    <tr>\n",
       "      <th>9132</th>\n",
       "      <td></td>\n",
       "      <td></td>\n",
       "      <td>APIndoorSanPablo</td>\n",
       "      <td>172.25.215.147</td>\n",
       "      <td>default</td>\n",
       "      <td>cnPilot e410</td>\n",
       "      <td>W8XA05C4XDJH</td>\n",
       "      <td>2021-11-06T20:32:19-05:00</td>\n",
       "      <td>onboarding</td>\n",
       "      <td>wifi-enterprise</td>\n",
       "      <td>...</td>\n",
       "      <td></td>\n",
       "      <td></td>\n",
       "      <td></td>\n",
       "      <td></td>\n",
       "      <td></td>\n",
       "      <td></td>\n",
       "      <td></td>\n",
       "      <td></td>\n",
       "      <td></td>\n",
       "      <td></td>\n",
       "    </tr>\n",
       "    <tr>\n",
       "      <th>9133</th>\n",
       "      <td></td>\n",
       "      <td></td>\n",
       "      <td>APOutdoorSanPablo</td>\n",
       "      <td>172.25.215.148</td>\n",
       "      <td>default</td>\n",
       "      <td>cnPilot e510</td>\n",
       "      <td>W8XD0HNP47KC</td>\n",
       "      <td>2021-11-06T20:38:43-05:00</td>\n",
       "      <td>onboarding</td>\n",
       "      <td>wifi-enterprise</td>\n",
       "      <td>...</td>\n",
       "      <td></td>\n",
       "      <td></td>\n",
       "      <td></td>\n",
       "      <td></td>\n",
       "      <td></td>\n",
       "      <td></td>\n",
       "      <td></td>\n",
       "      <td></td>\n",
       "      <td></td>\n",
       "      <td></td>\n",
       "    </tr>\n",
       "    <tr>\n",
       "      <th>9134</th>\n",
       "      <td></td>\n",
       "      <td></td>\n",
       "      <td>F300-19R_464e00</td>\n",
       "      <td>10.70.44.66</td>\n",
       "      <td>default</td>\n",
       "      <td>ePMP Force 300-19R</td>\n",
       "      <td>E6XA0CC04D7F</td>\n",
       "      <td>2021-11-06T13:07:53-05:00</td>\n",
       "      <td>onboarding</td>\n",
       "      <td>epmp</td>\n",
       "      <td>...</td>\n",
       "      <td></td>\n",
       "      <td></td>\n",
       "      <td></td>\n",
       "      <td></td>\n",
       "      <td></td>\n",
       "      <td></td>\n",
       "      <td></td>\n",
       "      <td></td>\n",
       "      <td></td>\n",
       "      <td></td>\n",
       "    </tr>\n",
       "  </tbody>\n",
       "</table>\n",
       "<p>9135 rows × 40 columns</p>\n",
       "</div>"
      ],
      "text/plain": [
       "     country             description                    name              ip  \\\n",
       "0         CO                            44745-ZGYO227-AP-INT  172.28.118.179   \n",
       "1         CO                           44745-ZGYO227-AP-EXT2  172.28.118.180   \n",
       "2         CO                           44745-ZGYO227-AP-EXT1  172.28.118.181   \n",
       "3         CO    44747-ZGYO413-AP-INT    44747-ZGYO413-AP-INT  172.28.118.171   \n",
       "4         CO  44747-ZGYO413-AP-EXT-1  44747-ZGYO413-AP-EXT-1  172.28.118.172   \n",
       "...      ...                     ...                     ...             ...   \n",
       "9130                                             E410-EA029D  172.25.173.195   \n",
       "9131                                      APOutdoor2SanPablo  172.25.215.149   \n",
       "9132                                        APIndoorSanPablo  172.25.215.147   \n",
       "9133                                       APOutdoorSanPablo  172.25.215.148   \n",
       "9134                                         F300-19R_464e00     10.70.44.66   \n",
       "\n",
       "        network             product           msn          registration_date  \\\n",
       "0     SANTANDER        cnPilot e410  W8WJ037WHH74  2021-04-07T19:13:54-05:00   \n",
       "1     SANTANDER        cnPilot e510  W8VJ067FJH0D  2021-04-07T19:38:50-05:00   \n",
       "2     SANTANDER        cnPilot e510  W8VJ05X88C78  2021-04-08T10:50:15-05:00   \n",
       "3     SANTANDER        cnPilot e410  W8WK06VL2ZGJ  2021-04-19T10:46:35-05:00   \n",
       "4     SANTANDER        cnPilot e510  W8WF00HRR3VK  2021-04-19T10:46:34-05:00   \n",
       "...         ...                 ...           ...                        ...   \n",
       "9130    default        cnPilot e410  W8WJ0HZK42GW  2021-11-05T12:03:10-05:00   \n",
       "9131    default        cnPilot e510  W8XD00Q0ZX2V  2021-11-06T20:40:16-05:00   \n",
       "9132    default        cnPilot e410  W8XA05C4XDJH  2021-11-06T20:32:19-05:00   \n",
       "9133    default        cnPilot e510  W8XD0HNP47KC  2021-11-06T20:38:43-05:00   \n",
       "9134    default  ePMP Force 300-19R  E6XA0CC04D7F  2021-11-06T13:07:53-05:00   \n",
       "\n",
       "          status             type  ... config.variables.VLAN_1_PREFIX6  \\\n",
       "0         online  wifi-enterprise  ...                                   \n",
       "1         online  wifi-enterprise  ...                                   \n",
       "2         online  wifi-enterprise  ...                                   \n",
       "3         online  wifi-enterprise  ...                                   \n",
       "4         online  wifi-enterprise  ...                                   \n",
       "...          ...              ...  ...                             ...   \n",
       "9130  onboarding  wifi-enterprise  ...                                   \n",
       "9131  onboarding  wifi-enterprise  ...                                   \n",
       "9132  onboarding  wifi-enterprise  ...                                   \n",
       "9133  onboarding  wifi-enterprise  ...                                   \n",
       "9134  onboarding             epmp  ...                                   \n",
       "\n",
       "     config.variables.LOCATION config.variables.SHUTDOWN_24  \\\n",
       "0                                                             \n",
       "1                                                             \n",
       "2                                                             \n",
       "3                                                             \n",
       "4                                                             \n",
       "...                        ...                          ...   \n",
       "9130                                                          \n",
       "9131                                                          \n",
       "9132                                                          \n",
       "9133                                                          \n",
       "9134                                                          \n",
       "\n",
       "     config.variables.CHANNEL_24 config.variables.SHUTDOWN_5  \\\n",
       "0                                                              \n",
       "1                                                              \n",
       "2                                                              \n",
       "3                                                              \n",
       "4                                                              \n",
       "...                          ...                         ...   \n",
       "9130                                                           \n",
       "9131                                                           \n",
       "9132                                                           \n",
       "9133                                                           \n",
       "9134                                                           \n",
       "\n",
       "     config.variables.CHANNEL_5 config.variables.POWER_24  \\\n",
       "0                                                           \n",
       "1                                                           \n",
       "2                                                           \n",
       "3                                                           \n",
       "4                                                           \n",
       "...                         ...                       ...   \n",
       "9130                                                        \n",
       "9131                                                        \n",
       "9132                                                        \n",
       "9133                                                        \n",
       "9134                                                        \n",
       "\n",
       "     config.variables.POWER_5 config.variables.DISPLAY_NAME  \\\n",
       "0                                                             \n",
       "1                                                             \n",
       "2                                                             \n",
       "3                                                             \n",
       "4                                                             \n",
       "...                       ...                           ...   \n",
       "9130                                                          \n",
       "9131                                                          \n",
       "9132                                                          \n",
       "9133                                                          \n",
       "9134                                                          \n",
       "\n",
       "                  ap_group  \n",
       "0     INDOOR-44745-ZGYO227  \n",
       "1                  OUTDOOR  \n",
       "2                  OUTDOOR  \n",
       "3     INDOOR_44747-ZGYO413  \n",
       "4                  OUTDOOR  \n",
       "...                    ...  \n",
       "9130                        \n",
       "9131                        \n",
       "9132                        \n",
       "9133                        \n",
       "9134                        \n",
       "\n",
       "[9135 rows x 40 columns]"
      ]
     },
     "execution_count": 133,
     "metadata": {},
     "output_type": "execute_result"
    }
   ],
   "source": [
    "datos_api"
   ]
  },
  {
   "cell_type": "code",
   "execution_count": 134,
   "metadata": {},
   "outputs": [],
   "source": [
    "datos_api.drop_duplicates(subset=['site_id','mac'],inplace=True)"
   ]
  },
  {
   "cell_type": "code",
   "execution_count": 135,
   "metadata": {},
   "outputs": [
    {
     "data": {
      "text/html": [
       "<div>\n",
       "<style scoped>\n",
       "    .dataframe tbody tr th:only-of-type {\n",
       "        vertical-align: middle;\n",
       "    }\n",
       "\n",
       "    .dataframe tbody tr th {\n",
       "        vertical-align: top;\n",
       "    }\n",
       "\n",
       "    .dataframe thead th {\n",
       "        text-align: right;\n",
       "    }\n",
       "</style>\n",
       "<table border=\"1\" class=\"dataframe\">\n",
       "  <thead>\n",
       "    <tr style=\"text-align: right;\">\n",
       "      <th></th>\n",
       "      <th>country</th>\n",
       "      <th>description</th>\n",
       "      <th>name</th>\n",
       "      <th>ip</th>\n",
       "      <th>network</th>\n",
       "      <th>product</th>\n",
       "      <th>msn</th>\n",
       "      <th>registration_date</th>\n",
       "      <th>status</th>\n",
       "      <th>type</th>\n",
       "      <th>...</th>\n",
       "      <th>config.variables.VLAN_1_PREFIX6</th>\n",
       "      <th>config.variables.LOCATION</th>\n",
       "      <th>config.variables.SHUTDOWN_24</th>\n",
       "      <th>config.variables.CHANNEL_24</th>\n",
       "      <th>config.variables.SHUTDOWN_5</th>\n",
       "      <th>config.variables.CHANNEL_5</th>\n",
       "      <th>config.variables.POWER_24</th>\n",
       "      <th>config.variables.POWER_5</th>\n",
       "      <th>config.variables.DISPLAY_NAME</th>\n",
       "      <th>ap_group</th>\n",
       "    </tr>\n",
       "  </thead>\n",
       "  <tbody>\n",
       "    <tr>\n",
       "      <th>0</th>\n",
       "      <td>CO</td>\n",
       "      <td></td>\n",
       "      <td>44745-ZGYO227-AP-INT</td>\n",
       "      <td>172.28.118.179</td>\n",
       "      <td>SANTANDER</td>\n",
       "      <td>cnPilot e410</td>\n",
       "      <td>W8WJ037WHH74</td>\n",
       "      <td>2021-04-07T19:13:54-05:00</td>\n",
       "      <td>online</td>\n",
       "      <td>wifi-enterprise</td>\n",
       "      <td>...</td>\n",
       "      <td></td>\n",
       "      <td></td>\n",
       "      <td></td>\n",
       "      <td></td>\n",
       "      <td></td>\n",
       "      <td></td>\n",
       "      <td></td>\n",
       "      <td></td>\n",
       "      <td></td>\n",
       "      <td>INDOOR-44745-ZGYO227</td>\n",
       "    </tr>\n",
       "    <tr>\n",
       "      <th>1</th>\n",
       "      <td>CO</td>\n",
       "      <td></td>\n",
       "      <td>44745-ZGYO227-AP-EXT2</td>\n",
       "      <td>172.28.118.180</td>\n",
       "      <td>SANTANDER</td>\n",
       "      <td>cnPilot e510</td>\n",
       "      <td>W8VJ067FJH0D</td>\n",
       "      <td>2021-04-07T19:38:50-05:00</td>\n",
       "      <td>online</td>\n",
       "      <td>wifi-enterprise</td>\n",
       "      <td>...</td>\n",
       "      <td></td>\n",
       "      <td></td>\n",
       "      <td></td>\n",
       "      <td></td>\n",
       "      <td></td>\n",
       "      <td></td>\n",
       "      <td></td>\n",
       "      <td></td>\n",
       "      <td></td>\n",
       "      <td>OUTDOOR</td>\n",
       "    </tr>\n",
       "    <tr>\n",
       "      <th>2</th>\n",
       "      <td>CO</td>\n",
       "      <td></td>\n",
       "      <td>44745-ZGYO227-AP-EXT1</td>\n",
       "      <td>172.28.118.181</td>\n",
       "      <td>SANTANDER</td>\n",
       "      <td>cnPilot e510</td>\n",
       "      <td>W8VJ05X88C78</td>\n",
       "      <td>2021-04-08T10:50:15-05:00</td>\n",
       "      <td>online</td>\n",
       "      <td>wifi-enterprise</td>\n",
       "      <td>...</td>\n",
       "      <td></td>\n",
       "      <td></td>\n",
       "      <td></td>\n",
       "      <td></td>\n",
       "      <td></td>\n",
       "      <td></td>\n",
       "      <td></td>\n",
       "      <td></td>\n",
       "      <td></td>\n",
       "      <td>OUTDOOR</td>\n",
       "    </tr>\n",
       "    <tr>\n",
       "      <th>3</th>\n",
       "      <td>CO</td>\n",
       "      <td>44747-ZGYO413-AP-INT</td>\n",
       "      <td>44747-ZGYO413-AP-INT</td>\n",
       "      <td>172.28.118.171</td>\n",
       "      <td>SANTANDER</td>\n",
       "      <td>cnPilot e410</td>\n",
       "      <td>W8WK06VL2ZGJ</td>\n",
       "      <td>2021-04-19T10:46:35-05:00</td>\n",
       "      <td>online</td>\n",
       "      <td>wifi-enterprise</td>\n",
       "      <td>...</td>\n",
       "      <td></td>\n",
       "      <td></td>\n",
       "      <td></td>\n",
       "      <td></td>\n",
       "      <td></td>\n",
       "      <td></td>\n",
       "      <td></td>\n",
       "      <td></td>\n",
       "      <td></td>\n",
       "      <td>INDOOR_44747-ZGYO413</td>\n",
       "    </tr>\n",
       "    <tr>\n",
       "      <th>4</th>\n",
       "      <td>CO</td>\n",
       "      <td>44747-ZGYO413-AP-EXT-1</td>\n",
       "      <td>44747-ZGYO413-AP-EXT-1</td>\n",
       "      <td>172.28.118.172</td>\n",
       "      <td>SANTANDER</td>\n",
       "      <td>cnPilot e510</td>\n",
       "      <td>W8WF00HRR3VK</td>\n",
       "      <td>2021-04-19T10:46:34-05:00</td>\n",
       "      <td>online</td>\n",
       "      <td>wifi-enterprise</td>\n",
       "      <td>...</td>\n",
       "      <td></td>\n",
       "      <td></td>\n",
       "      <td></td>\n",
       "      <td></td>\n",
       "      <td></td>\n",
       "      <td></td>\n",
       "      <td></td>\n",
       "      <td></td>\n",
       "      <td></td>\n",
       "      <td>OUTDOOR</td>\n",
       "    </tr>\n",
       "    <tr>\n",
       "      <th>...</th>\n",
       "      <td>...</td>\n",
       "      <td>...</td>\n",
       "      <td>...</td>\n",
       "      <td>...</td>\n",
       "      <td>...</td>\n",
       "      <td>...</td>\n",
       "      <td>...</td>\n",
       "      <td>...</td>\n",
       "      <td>...</td>\n",
       "      <td>...</td>\n",
       "      <td>...</td>\n",
       "      <td>...</td>\n",
       "      <td>...</td>\n",
       "      <td>...</td>\n",
       "      <td>...</td>\n",
       "      <td>...</td>\n",
       "      <td>...</td>\n",
       "      <td>...</td>\n",
       "      <td>...</td>\n",
       "      <td>...</td>\n",
       "      <td>...</td>\n",
       "    </tr>\n",
       "    <tr>\n",
       "      <th>9130</th>\n",
       "      <td></td>\n",
       "      <td></td>\n",
       "      <td>E410-EA029D</td>\n",
       "      <td>172.25.173.195</td>\n",
       "      <td>default</td>\n",
       "      <td>cnPilot e410</td>\n",
       "      <td>W8WJ0HZK42GW</td>\n",
       "      <td>2021-11-05T12:03:10-05:00</td>\n",
       "      <td>onboarding</td>\n",
       "      <td>wifi-enterprise</td>\n",
       "      <td>...</td>\n",
       "      <td></td>\n",
       "      <td></td>\n",
       "      <td></td>\n",
       "      <td></td>\n",
       "      <td></td>\n",
       "      <td></td>\n",
       "      <td></td>\n",
       "      <td></td>\n",
       "      <td></td>\n",
       "      <td></td>\n",
       "    </tr>\n",
       "    <tr>\n",
       "      <th>9131</th>\n",
       "      <td></td>\n",
       "      <td></td>\n",
       "      <td>APOutdoor2SanPablo</td>\n",
       "      <td>172.25.215.149</td>\n",
       "      <td>default</td>\n",
       "      <td>cnPilot e510</td>\n",
       "      <td>W8XD00Q0ZX2V</td>\n",
       "      <td>2021-11-06T20:40:16-05:00</td>\n",
       "      <td>onboarding</td>\n",
       "      <td>wifi-enterprise</td>\n",
       "      <td>...</td>\n",
       "      <td></td>\n",
       "      <td></td>\n",
       "      <td></td>\n",
       "      <td></td>\n",
       "      <td></td>\n",
       "      <td></td>\n",
       "      <td></td>\n",
       "      <td></td>\n",
       "      <td></td>\n",
       "      <td></td>\n",
       "    </tr>\n",
       "    <tr>\n",
       "      <th>9132</th>\n",
       "      <td></td>\n",
       "      <td></td>\n",
       "      <td>APIndoorSanPablo</td>\n",
       "      <td>172.25.215.147</td>\n",
       "      <td>default</td>\n",
       "      <td>cnPilot e410</td>\n",
       "      <td>W8XA05C4XDJH</td>\n",
       "      <td>2021-11-06T20:32:19-05:00</td>\n",
       "      <td>onboarding</td>\n",
       "      <td>wifi-enterprise</td>\n",
       "      <td>...</td>\n",
       "      <td></td>\n",
       "      <td></td>\n",
       "      <td></td>\n",
       "      <td></td>\n",
       "      <td></td>\n",
       "      <td></td>\n",
       "      <td></td>\n",
       "      <td></td>\n",
       "      <td></td>\n",
       "      <td></td>\n",
       "    </tr>\n",
       "    <tr>\n",
       "      <th>9133</th>\n",
       "      <td></td>\n",
       "      <td></td>\n",
       "      <td>APOutdoorSanPablo</td>\n",
       "      <td>172.25.215.148</td>\n",
       "      <td>default</td>\n",
       "      <td>cnPilot e510</td>\n",
       "      <td>W8XD0HNP47KC</td>\n",
       "      <td>2021-11-06T20:38:43-05:00</td>\n",
       "      <td>onboarding</td>\n",
       "      <td>wifi-enterprise</td>\n",
       "      <td>...</td>\n",
       "      <td></td>\n",
       "      <td></td>\n",
       "      <td></td>\n",
       "      <td></td>\n",
       "      <td></td>\n",
       "      <td></td>\n",
       "      <td></td>\n",
       "      <td></td>\n",
       "      <td></td>\n",
       "      <td></td>\n",
       "    </tr>\n",
       "    <tr>\n",
       "      <th>9134</th>\n",
       "      <td></td>\n",
       "      <td></td>\n",
       "      <td>F300-19R_464e00</td>\n",
       "      <td>10.70.44.66</td>\n",
       "      <td>default</td>\n",
       "      <td>ePMP Force 300-19R</td>\n",
       "      <td>E6XA0CC04D7F</td>\n",
       "      <td>2021-11-06T13:07:53-05:00</td>\n",
       "      <td>onboarding</td>\n",
       "      <td>epmp</td>\n",
       "      <td>...</td>\n",
       "      <td></td>\n",
       "      <td></td>\n",
       "      <td></td>\n",
       "      <td></td>\n",
       "      <td></td>\n",
       "      <td></td>\n",
       "      <td></td>\n",
       "      <td></td>\n",
       "      <td></td>\n",
       "      <td></td>\n",
       "    </tr>\n",
       "  </tbody>\n",
       "</table>\n",
       "<p>9114 rows × 40 columns</p>\n",
       "</div>"
      ],
      "text/plain": [
       "     country             description                    name              ip  \\\n",
       "0         CO                            44745-ZGYO227-AP-INT  172.28.118.179   \n",
       "1         CO                           44745-ZGYO227-AP-EXT2  172.28.118.180   \n",
       "2         CO                           44745-ZGYO227-AP-EXT1  172.28.118.181   \n",
       "3         CO    44747-ZGYO413-AP-INT    44747-ZGYO413-AP-INT  172.28.118.171   \n",
       "4         CO  44747-ZGYO413-AP-EXT-1  44747-ZGYO413-AP-EXT-1  172.28.118.172   \n",
       "...      ...                     ...                     ...             ...   \n",
       "9130                                             E410-EA029D  172.25.173.195   \n",
       "9131                                      APOutdoor2SanPablo  172.25.215.149   \n",
       "9132                                        APIndoorSanPablo  172.25.215.147   \n",
       "9133                                       APOutdoorSanPablo  172.25.215.148   \n",
       "9134                                         F300-19R_464e00     10.70.44.66   \n",
       "\n",
       "        network             product           msn          registration_date  \\\n",
       "0     SANTANDER        cnPilot e410  W8WJ037WHH74  2021-04-07T19:13:54-05:00   \n",
       "1     SANTANDER        cnPilot e510  W8VJ067FJH0D  2021-04-07T19:38:50-05:00   \n",
       "2     SANTANDER        cnPilot e510  W8VJ05X88C78  2021-04-08T10:50:15-05:00   \n",
       "3     SANTANDER        cnPilot e410  W8WK06VL2ZGJ  2021-04-19T10:46:35-05:00   \n",
       "4     SANTANDER        cnPilot e510  W8WF00HRR3VK  2021-04-19T10:46:34-05:00   \n",
       "...         ...                 ...           ...                        ...   \n",
       "9130    default        cnPilot e410  W8WJ0HZK42GW  2021-11-05T12:03:10-05:00   \n",
       "9131    default        cnPilot e510  W8XD00Q0ZX2V  2021-11-06T20:40:16-05:00   \n",
       "9132    default        cnPilot e410  W8XA05C4XDJH  2021-11-06T20:32:19-05:00   \n",
       "9133    default        cnPilot e510  W8XD0HNP47KC  2021-11-06T20:38:43-05:00   \n",
       "9134    default  ePMP Force 300-19R  E6XA0CC04D7F  2021-11-06T13:07:53-05:00   \n",
       "\n",
       "          status             type  ... config.variables.VLAN_1_PREFIX6  \\\n",
       "0         online  wifi-enterprise  ...                                   \n",
       "1         online  wifi-enterprise  ...                                   \n",
       "2         online  wifi-enterprise  ...                                   \n",
       "3         online  wifi-enterprise  ...                                   \n",
       "4         online  wifi-enterprise  ...                                   \n",
       "...          ...              ...  ...                             ...   \n",
       "9130  onboarding  wifi-enterprise  ...                                   \n",
       "9131  onboarding  wifi-enterprise  ...                                   \n",
       "9132  onboarding  wifi-enterprise  ...                                   \n",
       "9133  onboarding  wifi-enterprise  ...                                   \n",
       "9134  onboarding             epmp  ...                                   \n",
       "\n",
       "     config.variables.LOCATION config.variables.SHUTDOWN_24  \\\n",
       "0                                                             \n",
       "1                                                             \n",
       "2                                                             \n",
       "3                                                             \n",
       "4                                                             \n",
       "...                        ...                          ...   \n",
       "9130                                                          \n",
       "9131                                                          \n",
       "9132                                                          \n",
       "9133                                                          \n",
       "9134                                                          \n",
       "\n",
       "     config.variables.CHANNEL_24 config.variables.SHUTDOWN_5  \\\n",
       "0                                                              \n",
       "1                                                              \n",
       "2                                                              \n",
       "3                                                              \n",
       "4                                                              \n",
       "...                          ...                         ...   \n",
       "9130                                                           \n",
       "9131                                                           \n",
       "9132                                                           \n",
       "9133                                                           \n",
       "9134                                                           \n",
       "\n",
       "     config.variables.CHANNEL_5 config.variables.POWER_24  \\\n",
       "0                                                           \n",
       "1                                                           \n",
       "2                                                           \n",
       "3                                                           \n",
       "4                                                           \n",
       "...                         ...                       ...   \n",
       "9130                                                        \n",
       "9131                                                        \n",
       "9132                                                        \n",
       "9133                                                        \n",
       "9134                                                        \n",
       "\n",
       "     config.variables.POWER_5 config.variables.DISPLAY_NAME  \\\n",
       "0                                                             \n",
       "1                                                             \n",
       "2                                                             \n",
       "3                                                             \n",
       "4                                                             \n",
       "...                       ...                           ...   \n",
       "9130                                                          \n",
       "9131                                                          \n",
       "9132                                                          \n",
       "9133                                                          \n",
       "9134                                                          \n",
       "\n",
       "                  ap_group  \n",
       "0     INDOOR-44745-ZGYO227  \n",
       "1                  OUTDOOR  \n",
       "2                  OUTDOOR  \n",
       "3     INDOOR_44747-ZGYO413  \n",
       "4                  OUTDOOR  \n",
       "...                    ...  \n",
       "9130                        \n",
       "9131                        \n",
       "9132                        \n",
       "9133                        \n",
       "9134                        \n",
       "\n",
       "[9114 rows x 40 columns]"
      ]
     },
     "execution_count": 135,
     "metadata": {},
     "output_type": "execute_result"
    }
   ],
   "source": [
    "datos_api"
   ]
  },
  {
   "cell_type": "markdown",
   "metadata": {},
   "source": [
    "### Formateando registration_date_new"
   ]
  },
  {
   "cell_type": "code",
   "execution_count": 136,
   "metadata": {},
   "outputs": [],
   "source": [
    "try:\n",
    "    datos_api['registration_date_new'] = (datos_api[\"registration_date\"].str.split(\"T\", n = 2, expand = True)[0])+' '+(datos_api[\"registration_date\"].str.split(\"T\", n = 2, expand = True)[1]).str.split(\"-\", n = 1, expand = True)[0]\n",
    "    datos_api.drop(columns=['registration_date'], inplace=True)\n",
    "    datos_api.rename(columns={'registration_date_new': 'registration_date'}, inplace=True)\n",
    "except:\n",
    "    pass"
   ]
  },
  {
   "cell_type": "code",
   "execution_count": 137,
   "metadata": {},
   "outputs": [],
   "source": [
    "#datos_api = datos_api.drop(datos_api[(datos_api['registration_date']<= fecha_max)].index)\n",
    "datos_api.dropna(subset=['site_id'], inplace=True)\n",
    "datos_api = datos_api.drop(datos_api[(datos_api['site_id']=='')].index)\n",
    "datos_api = datos_api.drop(datos_api[(datos_api['network'].isin(['default','']))].index)"
   ]
  },
  {
   "cell_type": "markdown",
   "metadata": {},
   "source": [
    "### Definiendo indice cambium-device-devices con fecha e insertando en ES\n",
    "* se le quito la fecha_hoy (Solicitado por Napoleon 15/6/21 [GM] )\n"
   ]
  },
  {
   "cell_type": "code",
   "execution_count": 138,
   "metadata": {},
   "outputs": [
    {
     "data": {
      "text/plain": [
       "array(['SANTANDER', 'META', 'TOLIMA', 'HUILA', 'SUCRE',\n",
       "       'NORTE DE SANTANDER', 'GUAJIRA', 'SUBA', 'RISARALDA', 'ATLANTICO',\n",
       "       'CESAR', 'ANTIOQUIA', 'CORDOBA', 'CALDAS', 'CAQUETA', 'GUAVIARE',\n",
       "       'ARCHIPIELAGO'], dtype=object)"
      ]
     },
     "execution_count": 138,
     "metadata": {},
     "output_type": "execute_result"
    }
   ],
   "source": [
    "datos_api['network'].unique()"
   ]
  },
  {
   "cell_type": "code",
   "execution_count": 139,
   "metadata": {},
   "outputs": [],
   "source": [
    "indice = 'cambium_devicedevice_pruinge1' #+ '-' + fecha_hoy"
   ]
  },
  {
   "cell_type": "code",
   "execution_count": 140,
   "metadata": {},
   "outputs": [
    {
     "name": "stdout",
     "output_type": "stream",
     "text": [
      "Fecha: 2021-11-07 09:05:03.456799 - * Total Devices insertados/actualizados:  8515\n"
     ]
    }
   ],
   "source": [
    "use_these_keys = ['country', 'description', 'name', 'ip', 'network', 'product', 'msn',\n",
    "                   #'software_version', 'inactive_software_version', 'last_reboot_reason','hardware_version',\n",
    "                   'registration_date', 'status', 'type', 'tower',\n",
    "                   'site', 'site_id', 'location.type','location.coordinates', 'mac', 'managed_account',\n",
    "                   'status_time','config.version', 'config.variables.DEFAULT_GW',\n",
    "                   'config.variables.DEFAULT_GW6', 'config.variables.DNS_SERVER6_1',\n",
    "                   'config.variables.DNS_SERVER6_2', 'config.variables.DNS_SERVER_1',\n",
    "                   'config.variables.DNS_SERVER_2', 'config.variables.VLAN_1_IP',\n",
    "                   'config.variables.VLAN_1_IP6', 'config.variables.VLAN_1_MASK',\n",
    "                   'config.variables.VLAN_1_MODE', 'config.variables.VLAN_1_MODE6',\n",
    "                   'config.variables.VLAN_1_PREFIX6', 'config.variables.LOCATION',\n",
    "                   'config.variables.SHUTDOWN_24', 'config.variables.CHANNEL_24',\n",
    "                   'config.variables.SHUTDOWN_5', 'config.variables.CHANNEL_5',\n",
    "                   'config.variables.POWER_24', 'config.variables.POWER_5',\n",
    "                   'config.variables.DISPLAY_NAME', 'ap_group','@timestamp']\n",
    "def filterKeys(document):\n",
    "    return {key: document[key] for key in use_these_keys }\n",
    "\n",
    "timestamp = datetime.now()\n",
    "datos_api['@timestamp'] = timestamp.isoformat()\n",
    "def doc_generator(df):\n",
    "    df_iter = df.iterrows()\n",
    "    for index, document in df_iter:\n",
    "        yield {\n",
    "                \"_index\": indice, \n",
    "                \"_id\": f\"{document['mac']}\",\n",
    "                \"_source\": filterKeys(document),\n",
    "            }\n",
    "salida = helpers.bulk(es, doc_generator(datos_api))\n",
    "print(\"Fecha:\",now,\"- * Total Devices insertados/actualizados: \",salida[0])"
   ]
  },
  {
   "cell_type": "markdown",
   "metadata": {},
   "source": [
    "## De los mismos datos se alimenta el indice cambium_d_mac_index"
   ]
  },
  {
   "cell_type": "code",
   "execution_count": 141,
   "metadata": {},
   "outputs": [],
   "source": [
    "indice_mac = 'cambium_mac_pruinge' # + '-' + fecha_hoy"
   ]
  },
  {
   "cell_type": "markdown",
   "metadata": {},
   "source": [
    "### se toman de datos_api solo aquellos con site_id diferente a vacio"
   ]
  },
  {
   "cell_type": "code",
   "execution_count": 124,
   "metadata": {},
   "outputs": [],
   "source": [
    "datos_mac = datos_api[(datos_api['site_id']!='')][[\"country\",\"description\",\"name\",\"ip\",\"network\",\"product\",\"msn\"\n",
    "                          #,\"software_version\",\"inactive_software_version\",\"last_reboot_reason\",\"hardware_version\"\n",
    "                          ,\"registration_date\",\"status\",\"type\",\"site\"\n",
    "                          ,\"location.type\",\"location.coordinates\",\"mac\",\"site_id\",\"managed_account\"\n",
    "                          ,\"status_time\"]]"
   ]
  },
  {
   "cell_type": "code",
   "execution_count": 125,
   "metadata": {},
   "outputs": [
    {
     "name": "stdout",
     "output_type": "stream",
     "text": [
      "Fecha: 2021-11-04 11:43:58.217761 - Total documentos insertados en indice_MAC:  8257\n"
     ]
    }
   ],
   "source": [
    "use_these_keys = ['country','description','name','ip','network','product','msn'\n",
    "                  #,'software_version','inactive_software_version','last_reboot_reason','hardware_version'\n",
    "                  ,'registration_date','status','type','site'\n",
    "                  ,'location.type','location.coordinates','mac','site_id','managed_account'\n",
    "                  ,'status_time','@timestamp']\n",
    "def filterKeys(document):\n",
    "    return {key: document[key] for key in use_these_keys }\n",
    "\n",
    "timestamp = datetime.now()\n",
    "datos_mac['@timestamp'] = timestamp.isoformat()\n",
    "def doc_generator(df):\n",
    "    df_iter = df.iterrows()\n",
    "    for index, document in df_iter:\n",
    "        yield {\n",
    "                \"_index\": indice_mac, \n",
    "                \"_id\": f\"{document['mac']}\",\n",
    "                \"_source\": filterKeys(document),\n",
    "            }\n",
    "salida = helpers.bulk(es, doc_generator(datos_mac))\n",
    "print(\"Fecha:\",now,\"- Total documentos insertados en indice_MAC: \",salida[0])"
   ]
  },
  {
   "cell_type": "code",
   "execution_count": null,
   "metadata": {},
   "outputs": [],
   "source": []
  }
 ],
 "metadata": {
  "kernelspec": {
   "display_name": "Python 3",
   "language": "python",
   "name": "python3"
  },
  "language_info": {
   "codemirror_mode": {
    "name": "ipython",
    "version": 3
   },
   "file_extension": ".py",
   "mimetype": "text/x-python",
   "name": "python",
   "nbconvert_exporter": "python",
   "pygments_lexer": "ipython3",
   "version": "3.8.5"
  }
 },
 "nbformat": 4,
 "nbformat_minor": 4
}
