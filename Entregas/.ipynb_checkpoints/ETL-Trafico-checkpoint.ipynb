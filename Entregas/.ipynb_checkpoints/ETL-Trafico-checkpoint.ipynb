{
 "cells": [
  {
   "cell_type": "markdown",
   "metadata": {},
   "source": [
    "¿Qué hace este script?<br>\n",
    "* Calcula para cada dispositivo de red: trafico.totales.traficoIN, trafico.totales.traficoOUT, trafico.totales.consumoGB.<br>\n",
    "* Calcula para cada site_id: trafico.totales.sitio.traficoIN, trafico.totales.sitio.traficoOUT, trafico.totales.sitio.consumoGB"
   ]
  },
  {
   "cell_type": "code",
   "execution_count": 1,
   "metadata": {},
   "outputs": [],
   "source": [
    "from elasticsearch import Elasticsearch, helpers\n",
    "from ssl import create_default_context\n",
    "import pandas as pd\n",
    "import numpy as np\n",
    "from datetime import datetime, timedelta\n",
    "import parametros\n",
    "import random\n",
    "import re"
   ]
  },
  {
   "cell_type": "markdown",
   "metadata": {},
   "source": [
    "## Conectando a ElasticSearch"
   ]
  },
  {
   "cell_type": "markdown",
   "metadata": {},
   "source": [
    "La última línea se utiliza para garantizar la ejecución de la consulta<br>\n",
    "* timeout es el tiempo para cada ejecución<br>\n",
    "* max_retries el número de intentos si la conexión falla<br>\n",
    "* retry_on_timeout para activar los reintentos"
   ]
  },
  {
   "cell_type": "code",
   "execution_count": 4,
   "metadata": {},
   "outputs": [],
   "source": [
    "context = create_default_context(cafile=parametros.cafile)\n",
    "es = Elasticsearch(\n",
    "    parametros.servidor,\n",
    "    http_auth=(parametros.usuario_EC, parametros.password_EC),\n",
    "    scheme=\"https\",\n",
    "    port=parametros.puerto,\n",
    "    ssl_context=context,\n",
    "    timeout=133, max_retries=3, retry_on_timeout=True\n",
    ")"
   ]
  },
  {
   "cell_type": "markdown",
   "metadata": {},
   "source": [
    "Función para realizar consultas cuando la cantidad de registros es mayor a 10.000"
   ]
  },
  {
   "cell_type": "code",
   "execution_count": 5,
   "metadata": {},
   "outputs": [],
   "source": [
    "def custom_scan(query, index, total_docs, client):\n",
    "    \n",
    "    results = helpers.scan(client, index=index, query=query)\n",
    "    \n",
    "    data = []\n",
    "    for item in results:\n",
    "        data.append(item['_source'])\n",
    "        if len(data) >= total_docs:\n",
    "            break\n",
    "            \n",
    "    return pd.DataFrame(data)"
   ]
  },
  {
   "cell_type": "markdown",
   "metadata": {},
   "source": [
    "### Calculando fechas para la ejecución"
   ]
  },
  {
   "cell_type": "markdown",
   "metadata": {},
   "source": [
    "* Se calculan las fechas para asociar al nombre del índice<br>\n",
    "* fecha_hoy es usada para concatenar al nombre del indice principal previa inserción"
   ]
  },
  {
   "cell_type": "code",
   "execution_count": 6,
   "metadata": {},
   "outputs": [],
   "source": [
    "now = datetime.now()\n",
    "fecha_hoy = str(now.strftime(\"%Y.%m.%d\"))"
   ]
  },
  {
   "cell_type": "markdown",
   "metadata": {},
   "source": [
    "### Definiendo índice principal con fecha de hoy"
   ]
  },
  {
   "cell_type": "markdown",
   "metadata": {},
   "source": [
    "Estos valores se deben ajustar según ambiente. No es automático ya que no hay separación de ambientes"
   ]
  },
  {
   "cell_type": "code",
   "execution_count": 7,
   "metadata": {},
   "outputs": [],
   "source": [
    "indice = parametros.trafico_tableros_trafico_index\n",
    "indice_control = parametros.tableros_mintic_control"
   ]
  },
  {
   "cell_type": "markdown",
   "metadata": {},
   "source": [
    "### Función para generar JSON compatible con ES"
   ]
  },
  {
   "cell_type": "code",
   "execution_count": 8,
   "metadata": {},
   "outputs": [],
   "source": [
    "def filterKeys(document):\n",
    "    return {key: document[key] for key in use_these_keys }"
   ]
  },
  {
   "cell_type": "markdown",
   "metadata": {},
   "source": [
    "### Leyendo índice semilla-inventario"
   ]
  },
  {
   "cell_type": "markdown",
   "metadata": {},
   "source": [
    "En el script que ingesta semilla, trae la información de los centros de conexión administrados. Para el índice principal se requiere:<br>\n",
    "<br>\n",
    "* site_id como llave del centro de conexión.<br>\n",
    "* Datos geográficos (Departamento, municipio, centro poblado, sede, energía, latitud, longitud, COD_ISO, entre otros)."
   ]
  },
  {
   "cell_type": "code",
   "execution_count": 9,
   "metadata": {},
   "outputs": [],
   "source": [
    "total_docs = 10000\n",
    "try:\n",
    "    response = es.search(\n",
    "        index= parametros.semilla_inventario_index,\n",
    "        body={\n",
    "               \"_source\": ['site_id','nombre_municipio', 'nombre_departamento', 'nombre_centro_pob', 'nombreSede' \n",
    "                           , 'energiadesc', 'latitud', 'longitud','COD_ISO','id_Beneficiario']\n",
    "        },\n",
    "        size=total_docs\n",
    "    )\n",
    "    elastic_docs = response[\"hits\"][\"hits\"]\n",
    "    datos_semilla = pd.DataFrame([x['_source']  for x in elastic_docs])\n",
    "except:\n",
    "    print(\"fecha:\",now,\"- Error en lectura de datos semilla\")\n",
    "    "
   ]
  },
  {
   "cell_type": "code",
   "execution_count": 10,
   "metadata": {},
   "outputs": [],
   "source": [
    "datos_semilla['site_id'] = datos_semilla['site_id'].str.strip()"
   ]
  },
  {
   "cell_type": "markdown",
   "metadata": {},
   "source": [
    "Se valida latitud y longitud, se genera campo location y se renombran los campos de semilla"
   ]
  },
  {
   "cell_type": "code",
   "execution_count": 11,
   "metadata": {},
   "outputs": [],
   "source": [
    "def get_location(x,y='lat'):\n",
    "    patron = re.compile('^(\\-?\\d+(\\.\\d+)?),\\s*(\\-?\\d+(\\.\\d+)?)$') #patrón que debe cumplir\n",
    "    if (not patron.match(x) is None) and (str(x)!=''):\n",
    "        return x.replace(',','.')\n",
    "    else:\n",
    "        #Código a ejecutar si las coordenadas no son válidas\n",
    "        return '4.596389' if y=='lat' else '-74.074639'\n",
    "    \n",
    "datos_semilla['latitud'] = datos_semilla['latitud'].apply(lambda x:get_location(x,'lat'))\n",
    "datos_semilla['longitud'] = datos_semilla['longitud'].apply(lambda x:get_location(x,'lon'))\n",
    "\n",
    "datos_semilla['trafico.location'] = datos_semilla['latitud'] + ',' + datos_semilla['longitud']\n",
    "datos_semilla['trafico.location']=datos_semilla['trafico.location'].str.replace('a,a','')\n",
    "datos_semilla.drop(columns=['latitud','longitud'],inplace=True)\n",
    "\n",
    "datos_semilla = datos_semilla.rename(columns={'nombre_municipio': 'trafico.nombreMunicipio'\n",
    "                                              , 'nombre_departamento' : 'trafico.nombreDepartamento'\n",
    "                                              , 'nombre_centro_pob': 'trafico.localidad'\n",
    "                                              , 'nombreSede' : 'trafico.nomCentroDigital'\n",
    "                                              , 'energiadesc' : 'trafico.sistemaEnergia'\n",
    "                                              , 'COD_ISO' : 'trafico.codISO'\n",
    "                                              , 'id_Beneficiario' : 'trafico.idBeneficiario'})\n",
    "datos_semilla.fillna('', inplace=True)"
   ]
  },
  {
   "cell_type": "code",
   "execution_count": 12,
   "metadata": {},
   "outputs": [],
   "source": [
    "datos_semilla = datos_semilla.drop(datos_semilla[(datos_semilla[\"trafico.location\"]=='')].index)"
   ]
  },
  {
   "cell_type": "markdown",
   "metadata": {},
   "source": [
    "### Leyendo índice cambium-devicedevices"
   ]
  },
  {
   "cell_type": "markdown",
   "metadata": {},
   "source": [
    "Se lee la información de los dispositivos de red monitoreados por Cambium. En esta lectura no hay referencia de fechas ya que solo hay una ocurrencia por MAC de dispositivo de red.<br>\n",
    "<br>\n",
    "* site_id es la llave para cruzar con cada centro de conexión.<br>\n",
    "* mac, IP y name son datos básicos del dispositivo.<br>\n",
    "* ap_group identifica los dispositivos como INDOOR u OUTDOOR"
   ]
  },
  {
   "cell_type": "code",
   "execution_count": 13,
   "metadata": {},
   "outputs": [
    {
     "name": "stdout",
     "output_type": "stream",
     "text": [
      "                   ap_group              ip                   name  \\\n",
      "0      INDOOR-44745-ZGYO227  172.28.118.179   44745-ZGYO227-AP-INT   \n",
      "1      INDOOR-44745-ZGYO227  172.28.118.179   44745-ZGYO227-AP-INT   \n",
      "2                   OUTDOOR  172.28.118.180  44745-ZGYO227-AP-EXT2   \n",
      "3                   OUTDOOR  172.28.118.180  44745-ZGYO227-AP-EXT2   \n",
      "4                   OUTDOOR  172.28.118.181  44745-ZGYO227-AP-EXT1   \n",
      "...                     ...             ...                    ...   \n",
      "21115                INDOOR    172.25.52.27   14486-ZZZY297-AP-INT   \n",
      "21116               OUTDOOR  172.25.212.180       Piloto_Suba_EXT1   \n",
      "21117               OUTDOOR  172.25.212.181       Piloto_Suba_EXT2   \n",
      "21118  INDOOR_30484-ZGYO118   172.28.106.99   30484-ZGYO118-AP-INT   \n",
      "21119  INDOOR_32280-ZZZY737   172.25.84.195   32280-ZZZY737-AP-INT   \n",
      "\n",
      "             site_id                mac  \n",
      "0      44745-ZGYO227  BC:E6:7C:5E:66:88  \n",
      "1      44745-ZGYO227  BC:E6:7C:5E:66:88  \n",
      "2      44745-ZGYO227  58:C1:7A:E9:C9:6F  \n",
      "3      44745-ZGYO227  58:C1:7A:E9:C9:6F  \n",
      "4      44745-ZGYO227  58:C1:7A:E9:C8:5C  \n",
      "...              ...                ...  \n",
      "21115  14486-ZZZY297  BC:E6:7C:ED:8B:5B  \n",
      "21116     777-PILOTO  BC:E6:7C:5B:B0:0A  \n",
      "21117     777-PILOTO  58:C1:7A:C8:44:28  \n",
      "21118  30484-ZGYO118  BC:E6:7C:EE:2D:DF  \n",
      "21119  32280-ZZZY737  BC:E6:7C:ED:BE:7B  \n",
      "\n",
      "[21120 rows x 5 columns]\n",
      "Duration 0.6963801346719265 seconds.\n"
     ]
    }
   ],
   "source": [
    "try:\n",
    "    \n",
    "    query = {\n",
    "        \"_source\": [\"site_id\", \"mac\", \"ip\", \"ap_group\", \"name\"], \n",
    "        \"query\": {\n",
    "            \"match_all\": {}\n",
    "        }\n",
    "    }\n",
    "    \n",
    "    datos_dev = custom_scan(\n",
    "        query, \n",
    "        parametros.cambium_d_d_index,\n",
    "        total_docs=30000, \n",
    "        client=es\n",
    "    )\n",
    "    \n",
    "except:\n",
    "    exit()"
   ]
  },
  {
   "cell_type": "code",
   "execution_count": 14,
   "metadata": {},
   "outputs": [],
   "source": [
    "datos_dev['site_id'] = datos_dev['site_id'].str.strip()"
   ]
  },
  {
   "cell_type": "markdown",
   "metadata": {},
   "source": [
    "Se descartan registros con site_id vacíos y se limpian los NaN del dataframe"
   ]
  },
  {
   "cell_type": "code",
   "execution_count": 15,
   "metadata": {},
   "outputs": [],
   "source": [
    "datos_dev.dropna(subset=['site_id'])\n",
    "datos_dev.fillna('', inplace=True)\n",
    "datos_dev = datos_dev.drop(datos_dev[(datos_dev['site_id']=='')].index)\n",
    "datos_dev.sort_values(['site_id','ap_group'], inplace=True)"
   ]
  },
  {
   "cell_type": "markdown",
   "metadata": {},
   "source": [
    "Se limpian datos mal formados de ap_group"
   ]
  },
  {
   "cell_type": "code",
   "execution_count": 16,
   "metadata": {},
   "outputs": [],
   "source": [
    "datos_dev['ap_group'] = datos_dev['ap_group'].str.split(\"-\", n = 1, expand = True)[0]\n",
    "datos_dev['ap_group'] = datos_dev['ap_group'].str.split(\"_\", n = 1, expand = True)[0]\n",
    "datos_dev['ap_group'] = datos_dev['ap_group'].str.split(\".\", n = 1, expand = True)[0]\n",
    "datos_dev = datos_dev.drop(datos_dev[(datos_dev['ap_group']=='')].index)"
   ]
  },
  {
   "cell_type": "code",
   "execution_count": 17,
   "metadata": {},
   "outputs": [],
   "source": [
    "datos_dev = datos_dev.drop_duplicates('mac')"
   ]
  },
  {
   "cell_type": "markdown",
   "metadata": {},
   "source": [
    "Se renombran campos según formato del índice final"
   ]
  },
  {
   "cell_type": "code",
   "execution_count": 18,
   "metadata": {},
   "outputs": [],
   "source": [
    "datos_dev = datos_dev.rename(columns={'ap_group': 'trafico.apGroup'\n",
    "                                        , 'ip': 'trafico.IP'\n",
    "                                        , 'mac' : 'trafico.macRed'\n",
    "                                        , 'name' : 'trafico.deviceName'})"
   ]
  },
  {
   "cell_type": "markdown",
   "metadata": {},
   "source": [
    "### Trae la última fecha para control de ejecución"
   ]
  },
  {
   "cell_type": "markdown",
   "metadata": {},
   "source": [
    "Cuando en el rango de tiempo de la ejecución, no se insertan nuevos valores, la fecha máxima en índice mintic no aumenta, por tanto se usa esta fecha de control para garantizar que incremente el bucle de ejecución"
   ]
  },
  {
   "cell_type": "code",
   "execution_count": 19,
   "metadata": {},
   "outputs": [
    {
     "name": "stdout",
     "output_type": "stream",
     "text": [
      "ultima fecha para control de ejecucion: 2021-06-01 20:00:00\n"
     ]
    }
   ],
   "source": [
    "total_docs = 1\n",
    "try:\n",
    "    response = es.search(\n",
    "        index= indice_control,\n",
    "        body={\n",
    "               \"_source\": [\"trafico.fechaControl\"],\n",
    "              \"query\": {\n",
    "                \"bool\": {\n",
    "                  \"filter\": [\n",
    "                  {\n",
    "                    \"exists\": {\n",
    "                      \"field\":\"jerarquia_tablero_trafico\"\n",
    "                    }\n",
    "                  }\n",
    "                  ]\n",
    "                }\n",
    "              }\n",
    "        },\n",
    "        size=total_docs\n",
    "    )\n",
    "    elastic_docs = response[\"hits\"][\"hits\"]\n",
    "    fields = {}\n",
    "    for num, doc in enumerate(elastic_docs):\n",
    "        fecha_ejecucion = doc[\"_source\"]['trafico.fechaControl']\n",
    "except:\n",
    "    fecha_ejecucion = '2021-05-01 00:00:00'\n",
    "if response[\"hits\"][\"hits\"] == []:\n",
    "    fecha_ejecucion = '2021-05-01 00:00:00'\n",
    "print(\"ultima fecha para control de ejecucion:\",fecha_ejecucion)"
   ]
  },
  {
   "cell_type": "markdown",
   "metadata": {},
   "source": [
    "## Se lee la información de cambium device performance"
   ]
  },
  {
   "cell_type": "markdown",
   "metadata": {},
   "source": [
    " Se toma los valores de dispositivos de red y su desempeño.<br>\n",
    " * mac del dispositivo de red<br>\n",
    " * timestamp es la fecha y hora de la medición<br>\n",
    " * radio.* volumen de datos descargados(t) y cargados(r)"
   ]
  },
  {
   "cell_type": "code",
   "execution_count": 20,
   "metadata": {},
   "outputs": [],
   "source": [
    "def traePerformance(fecha_max, fecha_tope, client):\n",
    "    \n",
    "    query = {\n",
    "        \"_source\": [\n",
    "            \"mac\", \"timestamp\", \"radio.5ghz.rx_bps\", \"radio.5ghz.tx_bps\", \n",
    "            \"radio.24ghz.rx_bps\", \"radio.24ghz.tx_bps\"\n",
    "        ],\n",
    "        \"query\": {\n",
    "            \"range\": {\n",
    "                \"timestamp\": {\n",
    "                    \"gte\": fecha_max,\n",
    "                    \"lt\": fecha_tope\n",
    "                }\n",
    "            }\n",
    "        }\n",
    "    }\n",
    "\n",
    "    return custom_scan(\n",
    "        query, \n",
    "        parametros.cambium_d_p_index,\n",
    "        total_docs=5000000, \n",
    "        client=client\n",
    "    )"
   ]
  },
  {
   "cell_type": "markdown",
   "metadata": {},
   "source": [
    "### Lanzando  ejecución de consulta"
   ]
  },
  {
   "cell_type": "markdown",
   "metadata": {},
   "source": [
    "* Se calcula rango en base a la fecha de control. Para este caso es de 10 minutos.<br>\n",
    "* Se ejecuta la función de consulta con el rango de fechas.<br>\n",
    "* Si no retorna datos se incrementa el rango y se ejecuta nuevamente. Este proceso se repite hasta conseguir datos o hasta que el rango de ejecución alcance la fecha y hora actual."
   ]
  },
  {
   "cell_type": "code",
   "execution_count": 21,
   "metadata": {},
   "outputs": [
    {
     "name": "stdout",
     "output_type": "stream",
     "text": [
      "      radio.5ghz.rx_bps radio.24ghz.rx_bps radio.5ghz.tx_bps  \\\n",
      "0                     0                  0                 0   \n",
      "1                     0                  0                 0   \n",
      "2                     0                  0                 0   \n",
      "3                     0                  0                 0   \n",
      "4                     0                  0                 0   \n",
      "...                 ...                ...               ...   \n",
      "25180                 0                  0                 0   \n",
      "25181                 0                 80                 0   \n",
      "25182                 0                  0                 0   \n",
      "25183                 0                  0                 0   \n",
      "25184                 0               1750                 0   \n",
      "\n",
      "                     mac radio.24ghz.tx_bps            timestamp  \n",
      "0      58:C1:7A:0D:C8:63                  0  2021-06-01 20:06:18  \n",
      "1      58:C1:7A:0D:C8:63                  0  2021-06-01 20:11:18  \n",
      "2      58:C1:7A:0D:C8:63                  0  2021-06-01 20:16:18  \n",
      "3      58:C1:7A:0D:C8:63                  0  2021-06-01 20:21:19  \n",
      "4      58:C1:7A:0D:C8:63                  0  2021-06-01 20:26:19  \n",
      "...                  ...                ...                  ...  \n",
      "25180  BC:E6:7C:EF:FE:4F                  0  2021-06-01 21:34:21  \n",
      "25181  BC:E6:7C:EF:FE:4F                170  2021-06-01 21:39:21  \n",
      "25182  BC:E6:7C:EF:FE:4F                  0  2021-06-01 21:44:21  \n",
      "25183  BC:E6:7C:EF:FE:4F                  0  2021-06-01 21:49:21  \n",
      "25184  BC:E6:7C:EF:FE:4F                810  2021-06-01 21:54:21  \n",
      "\n",
      "[25185 rows x 6 columns]\n",
      "Duration 1.0503032375127077 seconds.\n"
     ]
    }
   ],
   "source": [
    "fecha_max_mintic = fecha_ejecucion\n",
    "fecha_tope_mintic = datetime.strptime(fecha_max_mintic, '%Y-%m-%d %H:%M:%S') \n",
    "fecha_tope_mintic += timedelta(minutes=120) \n",
    "fecha_tope_mintic -= timedelta(seconds=1)\n",
    "fecha_tope_mintic = fecha_tope_mintic.strftime(\"%Y-%m-%d %H:%M:%S\")\n",
    "\n",
    "datos_performance = traePerformance(fecha_max_mintic, fecha_tope_mintic, es)\n",
    "\n",
    "if datos_performance is None or datos_performance.empty:\n",
    "    while (datos_performance is None or datos_performance.empty) and ((datetime.strptime(fecha_max_mintic[0:10], '%Y-%m-%d').strftime(\"%Y-%m-%d %H:%M:%S\")) < str(now.strftime(\"%Y-%m-%d %H:%M:%S\"))):\n",
    "        \n",
    "        fecha_max_mintic = datetime.strptime(fecha_max_mintic, '%Y-%m-%d %H:%M:%S') \n",
    "        fecha_tope_mintic += timedelta(minutes=120)\n",
    "        fecha_tope_mintic = fecha_tope_mintic.strftime(\"%Y-%m-%d %H:%M:%S\")\n",
    "        \n",
    "        fecha_tope_mintic = datetime.strptime(fecha_tope_mintic, '%Y-%m-%d %H:%M:%S')\n",
    "        fecha_tope_mintic += timedelta(minutes=120)\n",
    "        fecha_tope_mintic = fecha_tope_mintic.strftime(\"%Y-%m-%d %H:%M:%S\")\n",
    "        datos_performance = traePerformance(fecha_max_mintic, fecha_tope_mintic, es)\n",
    "else:\n",
    "    pass"
   ]
  },
  {
   "cell_type": "code",
   "execution_count": 22,
   "metadata": {},
   "outputs": [
    {
     "data": {
      "text/html": [
       "<div>\n",
       "<style scoped>\n",
       "    .dataframe tbody tr th:only-of-type {\n",
       "        vertical-align: middle;\n",
       "    }\n",
       "\n",
       "    .dataframe tbody tr th {\n",
       "        vertical-align: top;\n",
       "    }\n",
       "\n",
       "    .dataframe thead th {\n",
       "        text-align: right;\n",
       "    }\n",
       "</style>\n",
       "<table border=\"1\" class=\"dataframe\">\n",
       "  <thead>\n",
       "    <tr style=\"text-align: right;\">\n",
       "      <th></th>\n",
       "      <th>radio.5ghz.rx_bps</th>\n",
       "      <th>radio.24ghz.rx_bps</th>\n",
       "      <th>radio.5ghz.tx_bps</th>\n",
       "      <th>mac</th>\n",
       "      <th>radio.24ghz.tx_bps</th>\n",
       "      <th>timestamp</th>\n",
       "    </tr>\n",
       "  </thead>\n",
       "  <tbody>\n",
       "    <tr>\n",
       "      <th>0</th>\n",
       "      <td>0</td>\n",
       "      <td>0</td>\n",
       "      <td>0</td>\n",
       "      <td>58:C1:7A:0D:C8:63</td>\n",
       "      <td>0</td>\n",
       "      <td>2021-06-01 20:06:18</td>\n",
       "    </tr>\n",
       "    <tr>\n",
       "      <th>1</th>\n",
       "      <td>0</td>\n",
       "      <td>0</td>\n",
       "      <td>0</td>\n",
       "      <td>58:C1:7A:0D:C8:63</td>\n",
       "      <td>0</td>\n",
       "      <td>2021-06-01 20:11:18</td>\n",
       "    </tr>\n",
       "    <tr>\n",
       "      <th>2</th>\n",
       "      <td>0</td>\n",
       "      <td>0</td>\n",
       "      <td>0</td>\n",
       "      <td>58:C1:7A:0D:C8:63</td>\n",
       "      <td>0</td>\n",
       "      <td>2021-06-01 20:16:18</td>\n",
       "    </tr>\n",
       "    <tr>\n",
       "      <th>3</th>\n",
       "      <td>0</td>\n",
       "      <td>0</td>\n",
       "      <td>0</td>\n",
       "      <td>58:C1:7A:0D:C8:63</td>\n",
       "      <td>0</td>\n",
       "      <td>2021-06-01 20:21:19</td>\n",
       "    </tr>\n",
       "    <tr>\n",
       "      <th>4</th>\n",
       "      <td>0</td>\n",
       "      <td>0</td>\n",
       "      <td>0</td>\n",
       "      <td>58:C1:7A:0D:C8:63</td>\n",
       "      <td>0</td>\n",
       "      <td>2021-06-01 20:26:19</td>\n",
       "    </tr>\n",
       "    <tr>\n",
       "      <th>...</th>\n",
       "      <td>...</td>\n",
       "      <td>...</td>\n",
       "      <td>...</td>\n",
       "      <td>...</td>\n",
       "      <td>...</td>\n",
       "      <td>...</td>\n",
       "    </tr>\n",
       "    <tr>\n",
       "      <th>25180</th>\n",
       "      <td>0</td>\n",
       "      <td>0</td>\n",
       "      <td>0</td>\n",
       "      <td>BC:E6:7C:EF:FE:4F</td>\n",
       "      <td>0</td>\n",
       "      <td>2021-06-01 21:34:21</td>\n",
       "    </tr>\n",
       "    <tr>\n",
       "      <th>25181</th>\n",
       "      <td>0</td>\n",
       "      <td>80</td>\n",
       "      <td>0</td>\n",
       "      <td>BC:E6:7C:EF:FE:4F</td>\n",
       "      <td>170</td>\n",
       "      <td>2021-06-01 21:39:21</td>\n",
       "    </tr>\n",
       "    <tr>\n",
       "      <th>25182</th>\n",
       "      <td>0</td>\n",
       "      <td>0</td>\n",
       "      <td>0</td>\n",
       "      <td>BC:E6:7C:EF:FE:4F</td>\n",
       "      <td>0</td>\n",
       "      <td>2021-06-01 21:44:21</td>\n",
       "    </tr>\n",
       "    <tr>\n",
       "      <th>25183</th>\n",
       "      <td>0</td>\n",
       "      <td>0</td>\n",
       "      <td>0</td>\n",
       "      <td>BC:E6:7C:EF:FE:4F</td>\n",
       "      <td>0</td>\n",
       "      <td>2021-06-01 21:49:21</td>\n",
       "    </tr>\n",
       "    <tr>\n",
       "      <th>25184</th>\n",
       "      <td>0</td>\n",
       "      <td>1750</td>\n",
       "      <td>0</td>\n",
       "      <td>BC:E6:7C:EF:FE:4F</td>\n",
       "      <td>810</td>\n",
       "      <td>2021-06-01 21:54:21</td>\n",
       "    </tr>\n",
       "  </tbody>\n",
       "</table>\n",
       "<p>25185 rows × 6 columns</p>\n",
       "</div>"
      ],
      "text/plain": [
       "      radio.5ghz.rx_bps radio.24ghz.rx_bps radio.5ghz.tx_bps  \\\n",
       "0                     0                  0                 0   \n",
       "1                     0                  0                 0   \n",
       "2                     0                  0                 0   \n",
       "3                     0                  0                 0   \n",
       "4                     0                  0                 0   \n",
       "...                 ...                ...               ...   \n",
       "25180                 0                  0                 0   \n",
       "25181                 0                 80                 0   \n",
       "25182                 0                  0                 0   \n",
       "25183                 0                  0                 0   \n",
       "25184                 0               1750                 0   \n",
       "\n",
       "                     mac radio.24ghz.tx_bps            timestamp  \n",
       "0      58:C1:7A:0D:C8:63                  0  2021-06-01 20:06:18  \n",
       "1      58:C1:7A:0D:C8:63                  0  2021-06-01 20:11:18  \n",
       "2      58:C1:7A:0D:C8:63                  0  2021-06-01 20:16:18  \n",
       "3      58:C1:7A:0D:C8:63                  0  2021-06-01 20:21:19  \n",
       "4      58:C1:7A:0D:C8:63                  0  2021-06-01 20:26:19  \n",
       "...                  ...                ...                  ...  \n",
       "25180  BC:E6:7C:EF:FE:4F                  0  2021-06-01 21:34:21  \n",
       "25181  BC:E6:7C:EF:FE:4F                170  2021-06-01 21:39:21  \n",
       "25182  BC:E6:7C:EF:FE:4F                  0  2021-06-01 21:44:21  \n",
       "25183  BC:E6:7C:EF:FE:4F                  0  2021-06-01 21:49:21  \n",
       "25184  BC:E6:7C:EF:FE:4F                810  2021-06-01 21:54:21  \n",
       "\n",
       "[25185 rows x 6 columns]"
      ]
     },
     "execution_count": 22,
     "metadata": {},
     "output_type": "execute_result"
    }
   ],
   "source": [
    "datos_performance"
   ]
  },
  {
   "cell_type": "markdown",
   "metadata": {},
   "source": [
    "Función para insertar en índice: "
   ]
  },
  {
   "cell_type": "code",
   "execution_count": 23,
   "metadata": {},
   "outputs": [],
   "source": [
    "use_these_keys = ['trafico.nomCentroDigital',\n",
    "                  'trafico.codISO',\n",
    "                  'trafico.localidad',\n",
    "                  'trafico.siteID',\n",
    "                  'trafico.nombreDepartamento',\n",
    "                  'trafico.sistemaEnergia',\n",
    "                  'trafico.nombreMunicipio',\n",
    "                  'trafico.idBeneficiario',\n",
    "                  'trafico.location',\n",
    "                  'trafico.apGroup',\n",
    "                  'trafico.IP',\n",
    "                  'trafico.deviceName',\n",
    "                  'trafico.macRed',\n",
    "                  'trafico.totales.fechaControl',\n",
    "                  'trafico.totales.traficoIN',\n",
    "                  'trafico.totales.traficoOUT',\n",
    "                  'trafico.totales.consumoGB',\n",
    "                  'trafico.totales.promedioIN',\n",
    "                  'trafico.totales.promedioOUT',\n",
    "                  'trafico.totales.promedioConsumo',\n",
    "                  'trafico.totales.fecha',\n",
    "                  'trafico.totales.anyo',\n",
    "                  'trafico.totales.mes',\n",
    "                  'trafico.totales.dia',\n",
    "                  'trafico.totales.hora',\n",
    "                  'trafico.totales.minuto',\n",
    "                  'nombreDepartamento',\n",
    "                    'nombreMunicipio',\n",
    "                    'idBeneficiario',\n",
    "                    'fecha',\n",
    "                    'anyo',\n",
    "                    'mes',\n",
    "                    'dia',\n",
    "                  '@timestamp']\n",
    "def doc_generator(df):\n",
    "    df_iter = df.iterrows()\n",
    "    for index, document in df_iter:\n",
    "        yield {\n",
    "                \"_index\": indice, \n",
    "                \"_id\": f\"{'consumo-' + document['trafico.siteID'] + '-' + document['trafico.macRed'] + '-' +document['trafico.totales.fechaControl']+'-'+str(random.randrange(10000))}\",\n",
    "                \"_source\": filterKeys(document),\n",
    "            }"
   ]
  },
  {
   "cell_type": "markdown",
   "metadata": {},
   "source": [
    "# Insertando consumo a índice "
   ]
  },
  {
   "cell_type": "markdown",
   "metadata": {},
   "source": [
    "* Cálculo de indicadores de consumos para cada AP. <br>\n",
    "* Se toman los valores de rx y tx como carga y descarga<br>\n",
    "* De datos_dev se toma el site_id y el ap_group"
   ]
  },
  {
   "cell_type": "code",
   "execution_count": 24,
   "metadata": {},
   "outputs": [
    {
     "name": "stdout",
     "output_type": "stream",
     "text": [
      "Fecha:  2022-01-07 14:57:11.225321 - Datos Trafico Consumos en indice principal: 17053\n"
     ]
    }
   ],
   "source": [
    "try:\n",
    "    datos_performance.drop_duplicates(inplace=True)\n",
    "    datos_performance['fecha_control'] = datos_performance[\"timestamp\"].str[0:-4] + '0:00'\n",
    "    datos_performance.rename(columns={'mac': 'trafico.macRed'}, inplace=True)\n",
    "    datos_performance.replace('','0',inplace=True)\n",
    "    datos_performance.fillna({'radio.5ghz.rx_bps':0, 'radio.5ghz.tx_bps':0,\n",
    "                      'radio.24ghz.rx_bps':0, 'radio.24ghz.tx_bps':0 },inplace=True)\n",
    "    datos_performance[['radio.5ghz.rx_bps','radio.5ghz.tx_bps','radio.24ghz.rx_bps','radio.24ghz.tx_bps']] = datos_performance[['radio.5ghz.rx_bps','radio.5ghz.tx_bps','radio.24ghz.rx_bps','radio.24ghz.tx_bps']].astype(int)\n",
    "    aux_performance=datos_performance[['trafico.macRed','fecha_control'\n",
    "                                       ,'radio.5ghz.rx_bps'\n",
    "                                       ,'radio.5ghz.tx_bps'\n",
    "                                       ,'radio.24ghz.rx_bps'\n",
    "                                       ,'radio.24ghz.tx_bps']].groupby(['trafico.macRed','fecha_control']).agg(['sum']).reset_index()\n",
    "    aux_performance.columns = aux_performance.columns.droplevel(1)\n",
    "    aux_performance['trafico.totales.traficoIN_aux'] = aux_performance['radio.5ghz.rx_bps'] + aux_performance['radio.24ghz.rx_bps']\n",
    "    aux_performance['trafico.totales.traficoOUT_aux'] = aux_performance['radio.5ghz.tx_bps'] + aux_performance['radio.24ghz.tx_bps']\n",
    "    \n",
    "    aux_performance = pd.merge(aux_performance, datos_dev, on='trafico.macRed',how='inner')\n",
    "    mintic_02 = pd.merge(datos_semilla,  aux_performance, on='site_id',how='inner')\n",
    "    \n",
    "        ## Cálculo del promedio \n",
    "    aux_performance['trafico.totales.promedioIN'] = round((aux_performance['trafico.totales.traficoIN_aux']/float(1<<30)),6)\n",
    "    aux_performance['trafico.totales.promedioOUT'] = round((aux_performance['trafico.totales.traficoOUT_aux']/float(1<<30)),6)\n",
    "    aux_performance['trafico.totales.promedioConsumo'] = aux_performance['trafico.totales.promedioIN'] + aux_performance['trafico.totales.promedioOUT']\n",
    "    #Se totaliza para la sede completa\n",
    "    aux_performance['trafico.totales.promedioConsumo'] = round(aux_performance['trafico.totales.promedioConsumo'],6)\n",
    "    \n",
    "    #La información de tráfico se convierte a GigaBytes y se toman 6 decimales\n",
    "    mintic_02['trafico.totales.traficoIN'] = round((mintic_02['trafico.totales.traficoIN_aux']/float(1<<30)),6)\n",
    "    mintic_02['trafico.totales.traficoOUT'] = round((mintic_02['trafico.totales.traficoOUT_aux']/float(1<<30)),6)\n",
    "    mintic_02['trafico.totales.consumoGB'] = mintic_02['trafico.totales.traficoIN'] + mintic_02['trafico.totales.traficoOUT']\n",
    "    #Se totaliza entrante y saliente\n",
    "    mintic_02['trafico.totales.consumoGB'] = round(mintic_02['trafico.totales.consumoGB'],6)\n",
    "\n",
    "    ### Generando columnas con fecha, anyo, mes, día, hora y minuto por separado\n",
    "    mintic_02[\"trafico.totales.fecha\"] = mintic_02[\"fecha_control\"].str.split(\" \", n = 1, expand = True)[0]\n",
    "    mintic_02[\"trafico.totales.hora\"] = mintic_02[\"fecha_control\"].str.split(\" \", n = 1, expand = True)[1].str.split(\":\", n = 2, expand = True)[0]\n",
    "    mintic_02[\"trafico.totales.minuto\"] = mintic_02[\"fecha_control\"].str.split(\" \", n = 1, expand = True)[1].str.split(\":\", n = 2, expand = True)[1]\n",
    "    mintic_02[\"trafico.totales.anyo\"] = mintic_02[\"trafico.totales.fecha\"].str[0:4]\n",
    "    mintic_02[\"trafico.totales.mes\"] = mintic_02[\"trafico.totales.fecha\"].str[5:7]\n",
    "    mintic_02[\"trafico.totales.dia\"] = mintic_02[\"trafico.totales.fecha\"].str[8:10]\n",
    "    ### Renombrado de campos\n",
    "    mintic_02.rename(columns={'site_id': 'trafico.siteID'\n",
    "                             ,'fecha_control' : 'trafico.totales.fechaControl'}, inplace=True)\n",
    "    \n",
    "    aux_performance=aux_performance.rename(columns={'site_id' : 'trafico.siteID', \\\n",
    "                                                'fecha_control':'trafico.totales.fechaControl'})\n",
    "    \n",
    "    \n",
    "    ##nulos a cero\n",
    "    mintic_02.fillna({'trafico.totales.consumoGB':0,\n",
    "                      'trafico.totales.traficoIN':0,\n",
    "                      'trafico.totales.traficoOUT':0\n",
    "                      },inplace=True)\n",
    "    #cambia valores a tipo float\n",
    "    mintic_02[['trafico.totales.consumoGB','trafico.totales.traficoIN','trafico.totales.traficoOUT']] = mintic_02[['trafico.totales.consumoGB','trafico.totales.traficoIN','trafico.totales.traficoOUT']].astype(float)\n",
    "    \n",
    "    mintic_02['nombreDepartamento'] = mintic_02['trafico.nombreDepartamento']\n",
    "    mintic_02['nombreMunicipio'] = mintic_02['trafico.nombreMunicipio']\n",
    "    mintic_02['idBeneficiario'] = mintic_02['trafico.idBeneficiario']\n",
    "    mintic_02['fecha'] = mintic_02['trafico.totales.fecha']\n",
    "    mintic_02['anyo'] = mintic_02['trafico.totales.anyo']\n",
    "    mintic_02['mes'] = mintic_02['trafico.totales.mes']\n",
    "    mintic_02['dia'] = mintic_02['trafico.totales.dia']\n",
    "    mintic_02['@timestamp'] = now.isoformat()\n",
    "    \n",
    "    aux_performance = aux_performance[['trafico.siteID'\n",
    "                              ,'trafico.macRed'\n",
    "                              ,'trafico.totales.fechaControl'\n",
    "                              ,'trafico.totales.promedioIN'\n",
    "                              ,'trafico.totales.promedioOUT'\n",
    "                              ,'trafico.totales.promedioConsumo']]\n",
    "    \n",
    "    mintic_02 = pd.merge(mintic_02,aux_performance, \n",
    "                        on=['trafico.siteID',\n",
    "                            'trafico.macRed',\n",
    "                            'trafico.totales.fechaControl'],how='left')\n",
    "    salida = helpers.bulk(es, doc_generator(mintic_02))\n",
    "    print(\"Fecha: \", now,\"- Datos Trafico Consumos en indice principal:\",salida[0])\n",
    "except Exception as e:\n",
    "    print(e)\n",
    "    print(\"Fecha: \", now,\"- No se insertaron datos de consumos en indice principal\")    "
   ]
  },
  {
   "cell_type": "code",
   "execution_count": 25,
   "metadata": {},
   "outputs": [
    {
     "data": {
      "text/html": [
       "<div>\n",
       "<style scoped>\n",
       "    .dataframe tbody tr th:only-of-type {\n",
       "        vertical-align: middle;\n",
       "    }\n",
       "\n",
       "    .dataframe tbody tr th {\n",
       "        vertical-align: top;\n",
       "    }\n",
       "\n",
       "    .dataframe thead th {\n",
       "        text-align: right;\n",
       "    }\n",
       "</style>\n",
       "<table border=\"1\" class=\"dataframe\">\n",
       "  <thead>\n",
       "    <tr style=\"text-align: right;\">\n",
       "      <th></th>\n",
       "      <th>trafico.nomCentroDigital</th>\n",
       "      <th>trafico.codISO</th>\n",
       "      <th>trafico.localidad</th>\n",
       "      <th>trafico.siteID</th>\n",
       "      <th>trafico.nombreDepartamento</th>\n",
       "      <th>trafico.sistemaEnergia</th>\n",
       "      <th>trafico.nombreMunicipio</th>\n",
       "      <th>trafico.idBeneficiario</th>\n",
       "      <th>trafico.location</th>\n",
       "      <th>trafico.macRed</th>\n",
       "      <th>...</th>\n",
       "      <th>nombreMunicipio</th>\n",
       "      <th>idBeneficiario</th>\n",
       "      <th>fecha</th>\n",
       "      <th>anyo</th>\n",
       "      <th>mes</th>\n",
       "      <th>dia</th>\n",
       "      <th>@timestamp</th>\n",
       "      <th>trafico.totales.promedioIN</th>\n",
       "      <th>trafico.totales.promedioOUT</th>\n",
       "      <th>trafico.totales.promedioConsumo</th>\n",
       "    </tr>\n",
       "  </thead>\n",
       "  <tbody>\n",
       "    <tr>\n",
       "      <th>0</th>\n",
       "      <td>ESCUELA SIETE DE AGOSTO</td>\n",
       "      <td>CO-ANT</td>\n",
       "      <td>CLL 115 No 06 60</td>\n",
       "      <td>10835-ZGYO372</td>\n",
       "      <td>ANTIOQUIA</td>\n",
       "      <td>RED INTERCONECTADA</td>\n",
       "      <td>TURBO</td>\n",
       "      <td>10835</td>\n",
       "      <td>10.88307108,-75.07773285</td>\n",
       "      <td>BC:E6:7C:4E:3E:8F</td>\n",
       "      <td>...</td>\n",
       "      <td>TURBO</td>\n",
       "      <td>10835</td>\n",
       "      <td>2021-06-01</td>\n",
       "      <td>2021</td>\n",
       "      <td>06</td>\n",
       "      <td>01</td>\n",
       "      <td>2022-01-07T14:57:11.225321</td>\n",
       "      <td>0.000068</td>\n",
       "      <td>0.000151</td>\n",
       "      <td>0.000219</td>\n",
       "    </tr>\n",
       "    <tr>\n",
       "      <th>1</th>\n",
       "      <td>ESCUELA SIETE DE AGOSTO</td>\n",
       "      <td>CO-ANT</td>\n",
       "      <td>CLL 115 No 06 60</td>\n",
       "      <td>10835-ZGYO372</td>\n",
       "      <td>ANTIOQUIA</td>\n",
       "      <td>RED INTERCONECTADA</td>\n",
       "      <td>TURBO</td>\n",
       "      <td>10835</td>\n",
       "      <td>10.88307108,-75.07773285</td>\n",
       "      <td>BC:E6:7C:4E:3E:8F</td>\n",
       "      <td>...</td>\n",
       "      <td>TURBO</td>\n",
       "      <td>10835</td>\n",
       "      <td>2021-06-01</td>\n",
       "      <td>2021</td>\n",
       "      <td>06</td>\n",
       "      <td>01</td>\n",
       "      <td>2022-01-07T14:57:11.225321</td>\n",
       "      <td>0.000050</td>\n",
       "      <td>0.000461</td>\n",
       "      <td>0.000511</td>\n",
       "    </tr>\n",
       "    <tr>\n",
       "      <th>2</th>\n",
       "      <td>ESCUELA SIETE DE AGOSTO</td>\n",
       "      <td>CO-ANT</td>\n",
       "      <td>CLL 115 No 06 60</td>\n",
       "      <td>10835-ZGYO372</td>\n",
       "      <td>ANTIOQUIA</td>\n",
       "      <td>RED INTERCONECTADA</td>\n",
       "      <td>TURBO</td>\n",
       "      <td>10835</td>\n",
       "      <td>10.88307108,-75.07773285</td>\n",
       "      <td>BC:E6:7C:4E:3E:8F</td>\n",
       "      <td>...</td>\n",
       "      <td>TURBO</td>\n",
       "      <td>10835</td>\n",
       "      <td>2021-06-01</td>\n",
       "      <td>2021</td>\n",
       "      <td>06</td>\n",
       "      <td>01</td>\n",
       "      <td>2022-01-07T14:57:11.225321</td>\n",
       "      <td>0.000224</td>\n",
       "      <td>0.003663</td>\n",
       "      <td>0.003887</td>\n",
       "    </tr>\n",
       "    <tr>\n",
       "      <th>3</th>\n",
       "      <td>ESCUELA SIETE DE AGOSTO</td>\n",
       "      <td>CO-ANT</td>\n",
       "      <td>CLL 115 No 06 60</td>\n",
       "      <td>10835-ZGYO372</td>\n",
       "      <td>ANTIOQUIA</td>\n",
       "      <td>RED INTERCONECTADA</td>\n",
       "      <td>TURBO</td>\n",
       "      <td>10835</td>\n",
       "      <td>10.88307108,-75.07773285</td>\n",
       "      <td>BC:E6:7C:4E:3E:8F</td>\n",
       "      <td>...</td>\n",
       "      <td>TURBO</td>\n",
       "      <td>10835</td>\n",
       "      <td>2021-06-01</td>\n",
       "      <td>2021</td>\n",
       "      <td>06</td>\n",
       "      <td>01</td>\n",
       "      <td>2022-01-07T14:57:11.225321</td>\n",
       "      <td>0.000112</td>\n",
       "      <td>0.002164</td>\n",
       "      <td>0.002276</td>\n",
       "    </tr>\n",
       "    <tr>\n",
       "      <th>4</th>\n",
       "      <td>ESCUELA SIETE DE AGOSTO</td>\n",
       "      <td>CO-ANT</td>\n",
       "      <td>CLL 115 No 06 60</td>\n",
       "      <td>10835-ZGYO372</td>\n",
       "      <td>ANTIOQUIA</td>\n",
       "      <td>RED INTERCONECTADA</td>\n",
       "      <td>TURBO</td>\n",
       "      <td>10835</td>\n",
       "      <td>10.88307108,-75.07773285</td>\n",
       "      <td>BC:E6:7C:4E:3E:8F</td>\n",
       "      <td>...</td>\n",
       "      <td>TURBO</td>\n",
       "      <td>10835</td>\n",
       "      <td>2021-06-01</td>\n",
       "      <td>2021</td>\n",
       "      <td>06</td>\n",
       "      <td>01</td>\n",
       "      <td>2022-01-07T14:57:11.225321</td>\n",
       "      <td>0.000261</td>\n",
       "      <td>0.004130</td>\n",
       "      <td>0.004391</td>\n",
       "    </tr>\n",
       "    <tr>\n",
       "      <th>...</th>\n",
       "      <td>...</td>\n",
       "      <td>...</td>\n",
       "      <td>...</td>\n",
       "      <td>...</td>\n",
       "      <td>...</td>\n",
       "      <td>...</td>\n",
       "      <td>...</td>\n",
       "      <td>...</td>\n",
       "      <td>...</td>\n",
       "      <td>...</td>\n",
       "      <td>...</td>\n",
       "      <td>...</td>\n",
       "      <td>...</td>\n",
       "      <td>...</td>\n",
       "      <td>...</td>\n",
       "      <td>...</td>\n",
       "      <td>...</td>\n",
       "      <td>...</td>\n",
       "      <td>...</td>\n",
       "      <td>...</td>\n",
       "      <td>...</td>\n",
       "    </tr>\n",
       "    <tr>\n",
       "      <th>17048</th>\n",
       "      <td>CE RURAL EL DESCANSO</td>\n",
       "      <td>CO-ANT</td>\n",
       "      <td>EL TIGRE</td>\n",
       "      <td>74382-ZGYO172</td>\n",
       "      <td>ANTIOQUIA</td>\n",
       "      <td>RED INTERCONECTADA</td>\n",
       "      <td>NECOCLI</td>\n",
       "      <td>74382</td>\n",
       "      <td>9.28825,-73.602305</td>\n",
       "      <td>BC:E6:7C:4E:3D:E5</td>\n",
       "      <td>...</td>\n",
       "      <td>NECOCLI</td>\n",
       "      <td>74382</td>\n",
       "      <td>2021-06-01</td>\n",
       "      <td>2021</td>\n",
       "      <td>06</td>\n",
       "      <td>01</td>\n",
       "      <td>2022-01-07T14:57:11.225321</td>\n",
       "      <td>0.000000</td>\n",
       "      <td>0.000000</td>\n",
       "      <td>0.000000</td>\n",
       "    </tr>\n",
       "    <tr>\n",
       "      <th>17049</th>\n",
       "      <td>CE RURAL EL DESCANSO</td>\n",
       "      <td>CO-ANT</td>\n",
       "      <td>EL TIGRE</td>\n",
       "      <td>74382-ZGYO172</td>\n",
       "      <td>ANTIOQUIA</td>\n",
       "      <td>RED INTERCONECTADA</td>\n",
       "      <td>NECOCLI</td>\n",
       "      <td>74382</td>\n",
       "      <td>9.28825,-73.602305</td>\n",
       "      <td>BC:E6:7C:4E:7E:F1</td>\n",
       "      <td>...</td>\n",
       "      <td>NECOCLI</td>\n",
       "      <td>74382</td>\n",
       "      <td>2021-06-01</td>\n",
       "      <td>2021</td>\n",
       "      <td>06</td>\n",
       "      <td>01</td>\n",
       "      <td>2022-01-07T14:57:11.225321</td>\n",
       "      <td>0.000000</td>\n",
       "      <td>0.000000</td>\n",
       "      <td>0.000000</td>\n",
       "    </tr>\n",
       "    <tr>\n",
       "      <th>17050</th>\n",
       "      <td>CE RURAL EL DESCANSO</td>\n",
       "      <td>CO-ANT</td>\n",
       "      <td>EL TIGRE</td>\n",
       "      <td>74382-ZGYO172</td>\n",
       "      <td>ANTIOQUIA</td>\n",
       "      <td>RED INTERCONECTADA</td>\n",
       "      <td>NECOCLI</td>\n",
       "      <td>74382</td>\n",
       "      <td>9.28825,-73.602305</td>\n",
       "      <td>BC:E6:7C:4E:7E:F1</td>\n",
       "      <td>...</td>\n",
       "      <td>NECOCLI</td>\n",
       "      <td>74382</td>\n",
       "      <td>2021-06-01</td>\n",
       "      <td>2021</td>\n",
       "      <td>06</td>\n",
       "      <td>01</td>\n",
       "      <td>2022-01-07T14:57:11.225321</td>\n",
       "      <td>0.000000</td>\n",
       "      <td>0.000000</td>\n",
       "      <td>0.000000</td>\n",
       "    </tr>\n",
       "    <tr>\n",
       "      <th>17051</th>\n",
       "      <td>CE RURAL EL DESCANSO</td>\n",
       "      <td>CO-ANT</td>\n",
       "      <td>EL TIGRE</td>\n",
       "      <td>74382-ZGYO172</td>\n",
       "      <td>ANTIOQUIA</td>\n",
       "      <td>RED INTERCONECTADA</td>\n",
       "      <td>NECOCLI</td>\n",
       "      <td>74382</td>\n",
       "      <td>9.28825,-73.602305</td>\n",
       "      <td>BC:E6:7C:EC:DD:A1</td>\n",
       "      <td>...</td>\n",
       "      <td>NECOCLI</td>\n",
       "      <td>74382</td>\n",
       "      <td>2021-06-01</td>\n",
       "      <td>2021</td>\n",
       "      <td>06</td>\n",
       "      <td>01</td>\n",
       "      <td>2022-01-07T14:57:11.225321</td>\n",
       "      <td>0.000000</td>\n",
       "      <td>0.000000</td>\n",
       "      <td>0.000000</td>\n",
       "    </tr>\n",
       "    <tr>\n",
       "      <th>17052</th>\n",
       "      <td>CE RURAL EL DESCANSO</td>\n",
       "      <td>CO-ANT</td>\n",
       "      <td>EL TIGRE</td>\n",
       "      <td>74382-ZGYO172</td>\n",
       "      <td>ANTIOQUIA</td>\n",
       "      <td>RED INTERCONECTADA</td>\n",
       "      <td>NECOCLI</td>\n",
       "      <td>74382</td>\n",
       "      <td>9.28825,-73.602305</td>\n",
       "      <td>BC:E6:7C:EC:DD:A1</td>\n",
       "      <td>...</td>\n",
       "      <td>NECOCLI</td>\n",
       "      <td>74382</td>\n",
       "      <td>2021-06-01</td>\n",
       "      <td>2021</td>\n",
       "      <td>06</td>\n",
       "      <td>01</td>\n",
       "      <td>2022-01-07T14:57:11.225321</td>\n",
       "      <td>0.000000</td>\n",
       "      <td>0.000000</td>\n",
       "      <td>0.000000</td>\n",
       "    </tr>\n",
       "  </tbody>\n",
       "</table>\n",
       "<p>17053 rows × 40 columns</p>\n",
       "</div>"
      ],
      "text/plain": [
       "      trafico.nomCentroDigital trafico.codISO trafico.localidad  \\\n",
       "0      ESCUELA SIETE DE AGOSTO         CO-ANT  CLL 115 No 06 60   \n",
       "1      ESCUELA SIETE DE AGOSTO         CO-ANT  CLL 115 No 06 60   \n",
       "2      ESCUELA SIETE DE AGOSTO         CO-ANT  CLL 115 No 06 60   \n",
       "3      ESCUELA SIETE DE AGOSTO         CO-ANT  CLL 115 No 06 60   \n",
       "4      ESCUELA SIETE DE AGOSTO         CO-ANT  CLL 115 No 06 60   \n",
       "...                        ...            ...               ...   \n",
       "17048     CE RURAL EL DESCANSO         CO-ANT          EL TIGRE   \n",
       "17049     CE RURAL EL DESCANSO         CO-ANT          EL TIGRE   \n",
       "17050     CE RURAL EL DESCANSO         CO-ANT          EL TIGRE   \n",
       "17051     CE RURAL EL DESCANSO         CO-ANT          EL TIGRE   \n",
       "17052     CE RURAL EL DESCANSO         CO-ANT          EL TIGRE   \n",
       "\n",
       "      trafico.siteID trafico.nombreDepartamento trafico.sistemaEnergia  \\\n",
       "0      10835-ZGYO372                  ANTIOQUIA     RED INTERCONECTADA   \n",
       "1      10835-ZGYO372                  ANTIOQUIA     RED INTERCONECTADA   \n",
       "2      10835-ZGYO372                  ANTIOQUIA     RED INTERCONECTADA   \n",
       "3      10835-ZGYO372                  ANTIOQUIA     RED INTERCONECTADA   \n",
       "4      10835-ZGYO372                  ANTIOQUIA     RED INTERCONECTADA   \n",
       "...              ...                        ...                    ...   \n",
       "17048  74382-ZGYO172                  ANTIOQUIA     RED INTERCONECTADA   \n",
       "17049  74382-ZGYO172                  ANTIOQUIA     RED INTERCONECTADA   \n",
       "17050  74382-ZGYO172                  ANTIOQUIA     RED INTERCONECTADA   \n",
       "17051  74382-ZGYO172                  ANTIOQUIA     RED INTERCONECTADA   \n",
       "17052  74382-ZGYO172                  ANTIOQUIA     RED INTERCONECTADA   \n",
       "\n",
       "      trafico.nombreMunicipio  trafico.idBeneficiario  \\\n",
       "0                       TURBO                   10835   \n",
       "1                       TURBO                   10835   \n",
       "2                       TURBO                   10835   \n",
       "3                       TURBO                   10835   \n",
       "4                       TURBO                   10835   \n",
       "...                       ...                     ...   \n",
       "17048                 NECOCLI                   74382   \n",
       "17049                 NECOCLI                   74382   \n",
       "17050                 NECOCLI                   74382   \n",
       "17051                 NECOCLI                   74382   \n",
       "17052                 NECOCLI                   74382   \n",
       "\n",
       "               trafico.location     trafico.macRed  ... nombreMunicipio  \\\n",
       "0      10.88307108,-75.07773285  BC:E6:7C:4E:3E:8F  ...           TURBO   \n",
       "1      10.88307108,-75.07773285  BC:E6:7C:4E:3E:8F  ...           TURBO   \n",
       "2      10.88307108,-75.07773285  BC:E6:7C:4E:3E:8F  ...           TURBO   \n",
       "3      10.88307108,-75.07773285  BC:E6:7C:4E:3E:8F  ...           TURBO   \n",
       "4      10.88307108,-75.07773285  BC:E6:7C:4E:3E:8F  ...           TURBO   \n",
       "...                         ...                ...  ...             ...   \n",
       "17048        9.28825,-73.602305  BC:E6:7C:4E:3D:E5  ...         NECOCLI   \n",
       "17049        9.28825,-73.602305  BC:E6:7C:4E:7E:F1  ...         NECOCLI   \n",
       "17050        9.28825,-73.602305  BC:E6:7C:4E:7E:F1  ...         NECOCLI   \n",
       "17051        9.28825,-73.602305  BC:E6:7C:EC:DD:A1  ...         NECOCLI   \n",
       "17052        9.28825,-73.602305  BC:E6:7C:EC:DD:A1  ...         NECOCLI   \n",
       "\n",
       "       idBeneficiario       fecha  anyo  mes  dia                  @timestamp  \\\n",
       "0               10835  2021-06-01  2021   06   01  2022-01-07T14:57:11.225321   \n",
       "1               10835  2021-06-01  2021   06   01  2022-01-07T14:57:11.225321   \n",
       "2               10835  2021-06-01  2021   06   01  2022-01-07T14:57:11.225321   \n",
       "3               10835  2021-06-01  2021   06   01  2022-01-07T14:57:11.225321   \n",
       "4               10835  2021-06-01  2021   06   01  2022-01-07T14:57:11.225321   \n",
       "...               ...         ...   ...  ...  ...                         ...   \n",
       "17048           74382  2021-06-01  2021   06   01  2022-01-07T14:57:11.225321   \n",
       "17049           74382  2021-06-01  2021   06   01  2022-01-07T14:57:11.225321   \n",
       "17050           74382  2021-06-01  2021   06   01  2022-01-07T14:57:11.225321   \n",
       "17051           74382  2021-06-01  2021   06   01  2022-01-07T14:57:11.225321   \n",
       "17052           74382  2021-06-01  2021   06   01  2022-01-07T14:57:11.225321   \n",
       "\n",
       "      trafico.totales.promedioIN trafico.totales.promedioOUT  \\\n",
       "0                       0.000068                    0.000151   \n",
       "1                       0.000050                    0.000461   \n",
       "2                       0.000224                    0.003663   \n",
       "3                       0.000112                    0.002164   \n",
       "4                       0.000261                    0.004130   \n",
       "...                          ...                         ...   \n",
       "17048                   0.000000                    0.000000   \n",
       "17049                   0.000000                    0.000000   \n",
       "17050                   0.000000                    0.000000   \n",
       "17051                   0.000000                    0.000000   \n",
       "17052                   0.000000                    0.000000   \n",
       "\n",
       "      trafico.totales.promedioConsumo  \n",
       "0                            0.000219  \n",
       "1                            0.000511  \n",
       "2                            0.003887  \n",
       "3                            0.002276  \n",
       "4                            0.004391  \n",
       "...                               ...  \n",
       "17048                        0.000000  \n",
       "17049                        0.000000  \n",
       "17050                        0.000000  \n",
       "17051                        0.000000  \n",
       "17052                        0.000000  \n",
       "\n",
       "[17053 rows x 40 columns]"
      ]
     },
     "execution_count": 25,
     "metadata": {},
     "output_type": "execute_result"
    }
   ],
   "source": [
    "mintic_02"
   ]
  },
  {
   "cell_type": "markdown",
   "metadata": {},
   "source": [
    "## En otra  jerarquía se escriben los dispositivos conectados"
   ]
  },
  {
   "cell_type": "markdown",
   "metadata": {},
   "source": [
    "Se toma el dataframe del proceso anterior para realizar el siguiente proceso:<br>\n",
    "* Se cuentan la cantidad de dispositivos WAN/LAN (OUTDOOR/INDOOR), agrupando por fecha y sitio<br>\n",
    "* Cantidad dispositivos WAN/LAN conectados se calcula validando cuando son OUTDOOR/INDOOR y tienen trafico(traficoOUT)<br>\n",
    "* Cantidad de dispositivos desconectados, restando los dos anteriores<br>\n",
    "<br>\n",
    "Datos generados<br>\n",
    "* trafico.totales.cantDevWAN<br>\n",
    "* trafico.totales.cantDevLAN<br>\n",
    "* trafico.totales.cantDevConectadosWAN<br>\n",
    "* trafico.totales.cantDevDesconectadosWAN<br>\n",
    "* trafico.totales.cantDevConectadosLAN<br>\n",
    "* trafico.totales.cantDevDesconectadosLAN<br>\n",
    "* trafico.totales.cantDev"
   ]
  },
  {
   "cell_type": "code",
   "execution_count": 26,
   "metadata": {},
   "outputs": [],
   "source": [
    "try:\n",
    "    mintic_03 = mintic_02[['trafico.nomCentroDigital',\n",
    "                      'trafico.codISO',\n",
    "                      'trafico.localidad',\n",
    "                      'trafico.siteID',\n",
    "                      'trafico.nombreDepartamento',\n",
    "                      'trafico.sistemaEnergia',\n",
    "                      'trafico.nombreMunicipio',\n",
    "                      'trafico.idBeneficiario',\n",
    "                      'trafico.location',\n",
    "                      'trafico.apGroup',\n",
    "                      'trafico.macRed',\n",
    "                      'trafico.totales.fechaControl',\n",
    "                      'trafico.totales.fecha',\n",
    "                      'trafico.totales.anyo',\n",
    "                      'trafico.totales.mes',\n",
    "                      'trafico.totales.dia',\n",
    "                      'trafico.totales.hora',\n",
    "                      'trafico.totales.minuto',\n",
    "                      'trafico.totales.traficoIN',\n",
    "                      'trafico.totales.traficoOUT',\n",
    "                      'trafico.totales.consumoGB',\n",
    "                      'trafico.totales.promedioIN',\n",
    "                      'trafico.totales.promedioOUT',\n",
    "                      'trafico.totales.promedioConsumo']].groupby(['trafico.nomCentroDigital',\n",
    "                                                              'trafico.codISO',\n",
    "                                                              'trafico.localidad',\n",
    "                                                              'trafico.siteID',\n",
    "                                                              'trafico.nombreDepartamento',\n",
    "                                                              'trafico.sistemaEnergia',\n",
    "                                                              'trafico.nombreMunicipio',\n",
    "                                                              'trafico.idBeneficiario',\n",
    "                                                              'trafico.location',\n",
    "                                                              'trafico.apGroup',\n",
    "                                                              'trafico.macRed',\n",
    "                                                              'trafico.totales.fechaControl',\n",
    "                                                              'trafico.totales.fecha',\n",
    "                                                              'trafico.totales.anyo',\n",
    "                                                              'trafico.totales.mes',\n",
    "                                                              'trafico.totales.dia',\n",
    "                                                              'trafico.totales.hora',\n",
    "                                                              'trafico.totales.promedioIN',\n",
    "                                                              'trafico.totales.promedioOUT',\n",
    "                                                              'trafico.totales.promedioConsumo',\n",
    "                                                              'trafico.totales.minuto']).agg(['sum']).reset_index()\n",
    "    mintic_03.columns = mintic_03.columns.droplevel(1)\n",
    "    mintic_03.rename(columns={'trafico.totales.traficoIN' : 'trafico.totales.sitio.traficoIN'\n",
    "                          ,'trafico.totales.traficoOUT' : 'trafico.totales.sitio.traficoOUT'\n",
    "                          ,'trafico.totales.consumoGB' : 'trafico.totales.sitio.consumoGB'\n",
    "                         }, inplace=True)\n",
    "except:\n",
    "    pass"
   ]
  },
  {
   "cell_type": "markdown",
   "metadata": {},
   "source": [
    "Función para insertar en índice la cantidad de dispositivos conectados <br>\n",
    "* la lista use_these_keys se usa para referenciar cuales campos del dataframe irán al índice final. Si los datos no se declaran en este, no se insertarán<br>\n"
   ]
  },
  {
   "cell_type": "code",
   "execution_count": 27,
   "metadata": {},
   "outputs": [],
   "source": [
    "use_these_keys = ['trafico.nomCentroDigital',\n",
    "                  'trafico.codISO',\n",
    "                  'trafico.localidad',\n",
    "                  'trafico.siteID',\n",
    "                  'trafico.nombreDepartamento',\n",
    "                  'trafico.sistemaEnergia',\n",
    "                  'trafico.nombreMunicipio',\n",
    "                  'trafico.idBeneficiario',\n",
    "                  'trafico.location',\n",
    "                  'trafico.apGroup',\n",
    "                  'trafico.totales.fechaControl',\n",
    "                  'trafico.totales.cantDevWAN',\n",
    "                  'trafico.totales.cantDevConectadosWAN',\n",
    "                  'trafico.totales.cantDevDesconectadosWAN',\n",
    "                  'trafico.totales.cantDevLAN',\n",
    "                  'trafico.totales.cantDevConectadosLAN',\n",
    "                  'trafico.totales.cantDevDesconectadosLAN',\n",
    "                  'trafico.totales.cantDev',\n",
    "                  'trafico.totales.cantDevConectados',\n",
    "                  'trafico.totales.cantDevDesconectados',\n",
    "                  'trafico.totales.fecha',\n",
    "                  'trafico.totales.anyo',\n",
    "                  'trafico.totales.mes',\n",
    "                  'trafico.totales.dia',\n",
    "                  'trafico.totales.hora',\n",
    "                  'trafico.totales.minuto',\n",
    "                  'trafico.totales.sitio.traficoIN',\n",
    "                  'trafico.totales.sitio.traficoOUT',\n",
    "                  'trafico.totales.sitio.consumoGB',\n",
    "                  'trafico.totales.promedioIN',\n",
    "                  'trafico.totales.promedioOUT',\n",
    "                  'trafico.totales.promedioConsumo',\n",
    "                  '@timestamp']\n",
    "\n",
    "def doc_generator_dis(df):\n",
    "    df_iter = df.iterrows()\n",
    "    for index, document in df_iter:\n",
    "        yield {\n",
    "                \"_index\": indice, \n",
    "                \"_id\": f\"{'Conectados-' + document['trafico.siteID'] + '-' +document['trafico.totales.fechaControl']+'-'+str(random.randrange(10000))}\",\n",
    "                \"_source\": filterKeys(document),\n",
    "            }"
   ]
  },
  {
   "cell_type": "markdown",
   "metadata": {},
   "source": [
    "# Insertando cantidad de dispositivos conectados"
   ]
  },
  {
   "cell_type": "code",
   "execution_count": 28,
   "metadata": {},
   "outputs": [
    {
     "name": "stdout",
     "output_type": "stream",
     "text": [
      "Fecha:  2022-01-07 14:57:11.225321 - Datos Dispositivos Conectados en indice principal: 15537\n"
     ]
    }
   ],
   "source": [
    "try:\n",
    "    cantDevWAN = mintic_02[(mintic_02['trafico.apGroup']=='OUTDOOR')][['trafico.totales.fechaControl','trafico.macRed','trafico.siteID']].groupby(['trafico.siteID','trafico.totales.fechaControl'])['trafico.macRed'].nunique().reset_index()    \n",
    "    cantDevWAN.rename(columns={'trafico.macRed': 'trafico.totales.cantDevWAN'}, inplace=True)\n",
    "    mintic_03 = pd.merge(mintic_03,  cantDevWAN, on=['trafico.siteID','trafico.totales.fechaControl'],how='left')\n",
    "    cantDevConectadosWAN = mintic_02[(mintic_02['trafico.totales.traficoOUT']>0) & (mintic_02['trafico.apGroup']=='OUTDOOR')][['trafico.totales.fechaControl','trafico.macRed','trafico.siteID']].groupby(['trafico.siteID','trafico.totales.fechaControl'])['trafico.macRed'].nunique().reset_index()\n",
    "    cantDevConectadosWAN.rename(columns={'trafico.macRed': 'trafico.totales.cantDevConectadosWAN'}, inplace=True)\n",
    "    mintic_03 = pd.merge(mintic_03, cantDevConectadosWAN, on=['trafico.siteID','trafico.totales.fechaControl'],how='left')\n",
    "    mintic_03.fillna({'trafico.totales.cantDevWAN':0,\n",
    "                      'trafico.totales.cantDevConectadosWAN':0\n",
    "                      },inplace=True)\n",
    "    mintic_03['trafico.totales.cantDevDesconectadosWAN'] = mintic_03['trafico.totales.cantDevWAN'] - mintic_03['trafico.totales.cantDevConectadosWAN']\n",
    "\n",
    "    #La misma lógica se aplica para calcular las cantidades para dispositivos LAN, pero filtrando los INDOOR\n",
    "    cantDevLAN = mintic_02[(mintic_02['trafico.apGroup']=='INDOOR')][['trafico.totales.fechaControl','trafico.macRed','trafico.siteID']].groupby(['trafico.siteID','trafico.totales.fechaControl'])['trafico.macRed'].nunique().reset_index()\n",
    "    cantDevLAN.rename(columns={'trafico.macRed': 'trafico.totales.cantDevLAN'}, inplace=True)\n",
    "    mintic_03 = pd.merge(mintic_03,  cantDevLAN, on=['trafico.siteID','trafico.totales.fechaControl'],how='left')\n",
    "    cantDevConectadosLAN = mintic_02[~(mintic_02['trafico.totales.traficoIN']>0) & (mintic_02['trafico.apGroup']=='INDOOR')][['trafico.totales.fechaControl','trafico.macRed','trafico.siteID']].groupby(['trafico.siteID','trafico.totales.fechaControl'])['trafico.macRed'].nunique().reset_index()\n",
    "    cantDevConectadosLAN.rename(columns={'trafico.macRed': 'trafico.totales.cantDevConectadosLAN'}, inplace=True)\n",
    "    mintic_03 = pd.merge(mintic_03, cantDevConectadosLAN, on=['trafico.siteID','trafico.totales.fechaControl'],how='left')\n",
    "    mintic_03.fillna({'trafico.totales.cantDevLAN':0,\n",
    "                      'trafico.totales.cantDevConectadosLAN':0\n",
    "                      },inplace=True)\n",
    "    mintic_03['trafico.totales.cantDevDesconectadosLAN'] = mintic_03['trafico.totales.cantDevLAN'] - mintic_03['trafico.totales.cantDevConectadosLAN']\n",
    "    mintic_03.fillna({'trafico.totales.cantDevConectadosWAN':0,\n",
    "                      'trafico.totales.cantDevDesconectadosWAN':0,\n",
    "                      'trafico.totales.cantDevConectadosLAN':0,\n",
    "                      'trafico.totales.cantDevDesconectadosLAN':0,\n",
    "                      'trafico.totales.sitio.traficoIN':0,\n",
    "                      'trafico.totales.sitio.traficoOUT':0,\n",
    "                      'trafico.totales.sitio.consumoGB':0\n",
    "                      },inplace=True)\n",
    "    #cambia valores a tipo float \n",
    "    mintic_03[['trafico.totales.sitio.consumoGB','trafico.totales.sitio.traficoIN','trafico.totales.sitio.traficoOUT']] = mintic_03[['trafico.totales.sitio.consumoGB','trafico.totales.sitio.traficoIN','trafico.totales.sitio.traficoOUT']].astype(float)\n",
    "    \n",
    "    mintic_03['trafico.totales.cantDev'] = mintic_03['trafico.totales.cantDevLAN'] + mintic_03['trafico.totales.cantDevWAN']\n",
    "    mintic_03[['trafico.totales.cantDev','trafico.totales.cantDevConectadosWAN','trafico.totales.cantDevDesconectadosWAN','trafico.totales.cantDevConectadosLAN','trafico.totales.cantDevDesconectadosLAN']] = mintic_03[['trafico.totales.cantDev','trafico.totales.cantDevConectadosWAN','trafico.totales.cantDevDesconectadosWAN','trafico.totales.cantDevConectadosLAN','trafico.totales.cantDevDesconectadosLAN']].astype(int)\n",
    "    mintic_03['trafico.totales.cantDevConectados'] = mintic_03['trafico.totales.cantDevConectadosWAN'] + mintic_03['trafico.totales.cantDevConectadosLAN']\n",
    "    mintic_03['trafico.totales.cantDevDesconectados'] = mintic_03['trafico.totales.cantDevDesconectadosLAN'] + mintic_03['trafico.totales.cantDevDesconectadosWAN']\n",
    "    mintic_03[['trafico.totales.cantDevConectados'\n",
    "              ,'trafico.totales.cantDevDesconectados'\n",
    "              ,'trafico.totales.cantDevWAN'\n",
    "              ,'trafico.totales.cantDevLAN']] = mintic_03[['trafico.totales.cantDevConectados'\n",
    "                                                          ,'trafico.totales.cantDevDesconectados'\n",
    "                                                          ,'trafico.totales.cantDevWAN'\n",
    "                                                          ,'trafico.totales.cantDevLAN']].astype(int)    \n",
    "    mintic_03['@timestamp'] = now.isoformat()\n",
    "    \n",
    "    if ('mintic_03' in locals() or 'mintic_03' in globals()) and (not mintic_03.empty):\n",
    "        pass\n",
    "    salida = helpers.bulk(es, doc_generator_dis(mintic_03))\n",
    "    \n",
    "    print(\"Fecha: \", now,\"- Datos Dispositivos Conectados en indice principal:\",salida[0])\n",
    "except Exception as e:\n",
    "    print(e)\n",
    "    print(\"Fecha: \", now,\"- No se insertaron datos de dispositivos conectados en indice principal\")"
   ]
  },
  {
   "cell_type": "code",
   "execution_count": 29,
   "metadata": {},
   "outputs": [],
   "source": [
    "use_these_keys = ['trafico.nomCentroDigital',\n",
    "                  'trafico.codISO',\n",
    "                  'trafico.localidad',\n",
    "                  'trafico.siteID',\n",
    "                  'trafico.nombreDepartamento',\n",
    "                  'trafico.sistemaEnergia',\n",
    "                  'trafico.nombreMunicipio',\n",
    "                  'trafico.idBeneficiario',\n",
    "                  'trafico.location',\n",
    "                  'trafico.apGroup',\n",
    "                  'trafico.totales.fechaControl',\n",
    "                  'trafico.totales.fecha',\n",
    "                  'trafico.totales.anyo',\n",
    "                  'trafico.totales.mes',\n",
    "                  'trafico.totales.dia',\n",
    "                  'trafico.totales.hora',\n",
    "                  'trafico.totales.minuto',\n",
    "                  'trafico.totales.totalConexiones',\n",
    "                  '@timestamp']\n",
    "\n",
    "\n",
    "def doc_generator_dis(df):\n",
    "    df_iter = df.iterrows()\n",
    "    for index, document in df_iter:\n",
    "        yield {\n",
    "                \"_index\": indice, \n",
    "                \"_id\": f\"{'Conectados-' + document['trafico.siteID'] + '-' +document['trafico.totales.fechaControl']+'-'+str(random.randrange(10000))}\",\n",
    "                \"_source\": filterKeys(document),\n",
    "            }"
   ]
  },
  {
   "cell_type": "markdown",
   "metadata": {},
   "source": [
    "### Traer datos de ohmyfi-detalleconexiones"
   ]
  },
  {
   "cell_type": "markdown",
   "metadata": {},
   "source": [
    "El rango de fechas será definido tomando de referencia la última fechahora del índice mintic-concat.<br>\n",
    "<br>\n",
    "Campos extaídos:<br>\n",
    "* fechahora de la conexión<br>\n",
    "* fecha_control es un campo calculado a partir de fechahora. Es lo mismo pero con el valor de minuto redondeado a 0.<br>\n",
    "* lugar_cod clave para asociar con semilla<br>\n",
    "* mac_usuario asociado al dispositivo que realizó la conexión"
   ]
  },
  {
   "cell_type": "code",
   "execution_count": 30,
   "metadata": {},
   "outputs": [],
   "source": [
    "def trae_conexiones(fecha_ini, fecha_fin, client):\n",
    "    \n",
    "    query = {\n",
    "        \"_source\": [\n",
    "            \"fechahora\", \"fecha_control\", \"lugar\", \"lugar_cod\", \n",
    "            \"mac_usuario\", \"dispositivo\", \"sistema_operativo\", \n",
    "            'tipodoc', 'documento'\n",
    "        ], \n",
    "        \"query\": {\n",
    "            \"range\": {\n",
    "                \"fechahora\": {\n",
    "                    \"gte\": fecha_ini,\n",
    "                    \"lt\": fecha_fin\n",
    "                }\n",
    "            }\n",
    "        }\n",
    "    }\n",
    "\n",
    "    return custom_scan(\n",
    "        query, \n",
    "        parametros.ohmyfi_d_c_index,\n",
    "        total_docs=5000000, \n",
    "        client=client\n",
    "    )"
   ]
  },
  {
   "cell_type": "markdown",
   "metadata": {},
   "source": [
    "### Se acotan los rangos de fecha por eficiencia"
   ]
  },
  {
   "cell_type": "markdown",
   "metadata": {},
   "source": [
    "* Se calcula rango en base a la fecha de control. Para este caso es de 10 minutos.<br>\n",
    "* Se ejecuta la función de consulta con el rango de fechas.<br>\n",
    "* Si no retorna datos se incrementa el rango y se ejecuta nuevamente. Este proceso se repite hasta conseguir datos o hasta que el rango de ejecución alcance la fecha y hora actual."
   ]
  },
  {
   "cell_type": "code",
   "execution_count": 31,
   "metadata": {},
   "outputs": [
    {
     "name": "stdout",
     "output_type": "stream",
     "text": [
      "                fechahora        mac_usuario dispositivo  \\\n",
      "0     2021-06-01 20:30:00  2A:8A:CD:D6:A1:96  Smartphone   \n",
      "1     2021-06-01 20:30:03  B4:1C:30:F4:24:E3  Smartphone   \n",
      "2     2021-06-01 20:30:04  1C:87:E3:B4:9C:F6  Smartphone   \n",
      "3     2021-06-01 20:30:05  BC:FF:EB:C6:42:54  Smartphone   \n",
      "4     2021-06-01 20:30:05  50:8E:49:29:6E:5E  Smartphone   \n",
      "...                   ...                ...         ...   \n",
      "1107  2021-06-01 21:37:50  7C:23:02:23:9A:B8  Smartphone   \n",
      "1108  2021-06-01 21:37:56  24:68:B0:75:3D:2C  Smartphone   \n",
      "1109  2021-06-01 21:37:59  8C:25:05:72:05:23  Smartphone   \n",
      "1110  2021-06-01 21:38:00  6E:B4:7D:92:6A:40  Smartphone   \n",
      "1111  2021-06-01 21:38:02  9A:46:E7:C3:C8:89  Smartphone   \n",
      "\n",
      "                                  lugar   documento tipodoc      lugar_cod  \\\n",
      "0     CORREGIMIENTO EL ALFEREZ, CAIMITO  1005572341      CC  47080-ZGYO288   \n",
      "1             VDA MESAS DE INCA_COYAIMA  1106395796      CC  48304-ZZZY313   \n",
      "2                EL CAMPANO, SAN CARLOS  1003591543      CC  32438-ZGYO461   \n",
      "3             CALLE 6A  13 - 95_BARANOA  1001869490      CC  22483-ZGYO057   \n",
      "4              VDA NUEVA COLMBIA_ASTREA  1003428720      CC  30365-ZGYO140   \n",
      "...                                 ...         ...     ...            ...   \n",
      "1107                      VD SAN ISIDRO  1073808759      CC  32468-ZGYO995   \n",
      "1108                   SABANETA,SAHAGUN  3124663883      TI  74111-ZZZY319   \n",
      "1109                             ARACHE  1003058738      CC  31430-ZGYO437   \n",
      "1110                  BROQUELES MOÑITOS  1095268951      TI  31839-ZGYO456   \n",
      "1111            PIEDRAS BLANCAS_SAMPUES   123456789      CC  47431-ZZZY243   \n",
      "\n",
      "            fecha_control sistema_operativo  \n",
      "0     2021-06-01 20:30:00           Android  \n",
      "1     2021-06-01 20:30:00           Android  \n",
      "2     2021-06-01 20:30:00           Android  \n",
      "3     2021-06-01 20:30:00           Android  \n",
      "4     2021-06-01 20:30:00           Android  \n",
      "...                   ...               ...  \n",
      "1107  2021-06-01 21:30:00           Android  \n",
      "1108  2021-06-01 21:30:00           Android  \n",
      "1109  2021-06-01 21:30:00           Android  \n",
      "1110  2021-06-01 21:30:00           Android  \n",
      "1111  2021-06-01 21:30:00           Android  \n",
      "\n",
      "[1112 rows x 9 columns]\n",
      "Duration 0.2274615028873086 seconds.\n"
     ]
    }
   ],
   "source": [
    "fecha_max_mintic = fecha_ejecucion\n",
    "fecha_tope_mintic = datetime.strptime(fecha_max_mintic, '%Y-%m-%d %H:%M:%S') \n",
    "fecha_tope_mintic += timedelta(minutes=120) \n",
    "fecha_tope_mintic -= timedelta(seconds=1)\n",
    "fecha_tope_mintic = fecha_tope_mintic.strftime(\"%Y-%m-%d %H:%M:%S\")\n",
    "\n",
    "datos_det_conex_completo = trae_conexiones(fecha_max_mintic, fecha_tope_mintic, es)\n",
    "\n",
    "if datos_det_conex_completo is None or datos_det_conex_completo.empty:\n",
    "    while (datos_det_conex_completo is None or datos_det_conex_completo.empty) and ((datetime.strptime(fecha_max_mintic[0:10], '%Y-%m-%d').strftime(\"%Y-%m-%d %H:%M:%S\")) < str(now.strftime(\"%Y-%m-%d %H:%M:%S\"))):\n",
    "        \n",
    "        fecha_max_mintic = datetime.strptime(fecha_max_mintic, '%Y-%m-%d %H:%M:%S') \n",
    "        fecha_max_mintic += timedelta(minutes=120)\n",
    "        fecha_max_mintic = fecha_max_mintic.strftime(\"%Y-%m-%d %H:%M:%S\")\n",
    "        \n",
    "        fecha_tope_mintic = datetime.strptime(fecha_tope_mintic, '%Y-%m-%d %H:%M:%S')\n",
    "        fecha_tope_mintic += timedelta(minutes=120)\n",
    "        fecha_tope_mintic = fecha_tope_mintic.strftime(\"%Y-%m-%d %H:%M:%S\")\n",
    "        \n",
    "        datos_det_conex_completo = trae_conexiones(fecha_max_mintic, fecha_tope_mintic, es)\n",
    "else:\n",
    "    pass"
   ]
  },
  {
   "cell_type": "code",
   "execution_count": 32,
   "metadata": {},
   "outputs": [],
   "source": [
    "datos_det_conex_completo['lugar_cod'] = datos_det_conex_completo['lugar_cod'].str.strip()"
   ]
  },
  {
   "cell_type": "code",
   "execution_count": 33,
   "metadata": {},
   "outputs": [],
   "source": [
    "datos_det_conex_completo.drop_duplicates(subset=[\"fecha_control\",\"lugar\",\"lugar_cod\",\"mac_usuario\", \"dispositivo\",\"sistema_operativo\",'tipodoc','documento'],inplace=True)"
   ]
  },
  {
   "cell_type": "markdown",
   "metadata": {},
   "source": [
    "### Contando conexiones por lugar y fecha"
   ]
  },
  {
   "cell_type": "markdown",
   "metadata": {},
   "source": [
    "Para cada centro y fecha control, se cuenta la cantidad de conexiones. Una vez combinado con semilla, se disponibiliza el filtrado por departamento, municipio y centro de conexión. El campo generado es:<br>\n",
    "* trafico.totales.totalConexiones"
   ]
  },
  {
   "cell_type": "code",
   "execution_count": 34,
   "metadata": {},
   "outputs": [],
   "source": [
    "datos_det_conex=datos_det_conex_completo[[\"fechahora\",\"fecha_control\",\"lugar_cod\"]].groupby(['lugar_cod','fecha_control']).agg(['count']).reset_index()\n",
    "datos_det_conex.columns = datos_det_conex.columns.droplevel(1)"
   ]
  },
  {
   "cell_type": "markdown",
   "metadata": {},
   "source": [
    "### Renombrado de columnas en detalle conexiones"
   ]
  },
  {
   "cell_type": "code",
   "execution_count": 35,
   "metadata": {},
   "outputs": [],
   "source": [
    "datos_det_conex = datos_det_conex.rename(columns={'fechahora' : 'trafico.totales.totalConexiones','lugar_cod':'site_id'})"
   ]
  },
  {
   "cell_type": "markdown",
   "metadata": {},
   "source": [
    "### Combinando detalle de conexiones con dispositivos usuario y red"
   ]
  },
  {
   "cell_type": "code",
   "execution_count": 36,
   "metadata": {},
   "outputs": [
    {
     "name": "stdout",
     "output_type": "stream",
     "text": [
      "                   ap_mac                mac radio.band  radio.rx_bytes  \\\n",
      "0       BC:E6:7C:EC:DD:FC  0E:9C:F2:E0:B3:1F     2.4GHz            1140   \n",
      "1       BC:E6:7C:5D:20:AE  F8:F1:E6:A3:0D:45     2.4GHz       147191582   \n",
      "2       BC:A9:93:00:98:33  00:08:22:46:78:82     2.4GHz           32598   \n",
      "3       BC:E6:7C:EC:AA:DC  A0:27:B6:62:78:47     2.4GHz        32466165   \n",
      "4       BC:E6:7C:ED:8B:98  4C:ED:DE:87:23:33     2.4GHz        22688535   \n",
      "...                   ...                ...        ...             ...   \n",
      "941116  BC:A9:93:64:6F:0D  50:8E:49:76:3D:E4     2.4GHz        20551755   \n",
      "941117  BC:E6:7C:E8:9A:22  8C:E5:C0:33:5A:37     2.4GHz        12354519   \n",
      "941118  BC:E6:7C:E8:9A:22  20:32:6C:BA:55:64     2.4GHz         8983608   \n",
      "941119  BC:E6:7C:E8:9A:22  2C:D0:66:43:04:F2     2.4GHz           26560   \n",
      "941120  BC:A9:93:64:6F:AD  AE:70:16:36:F1:AE     2.4GHz         2285860   \n",
      "\n",
      "        radio.tx_bytes             manufacturer  \n",
      "0                    0              [Local MAC]  \n",
      "1            160639234  Samsung Electronics Ltd  \n",
      "2                14222               InPro Comm  \n",
      "3            688148716                 A0-27-B6  \n",
      "4            594499822      Askey Computer Corp  \n",
      "...                ...                      ...  \n",
      "941116       179174780                 50-8E-49  \n",
      "941117       204813863  Samsung Electronics Ltd  \n",
      "941118       131961872  Samsung Electronics Ltd  \n",
      "941119           37524                 2C-D0-66  \n",
      "941120        34071555              [Local MAC]  \n",
      "\n",
      "[941121 rows x 6 columns]\n",
      "Duration 199.28312141541392 seconds.\n"
     ]
    }
   ],
   "source": [
    "query = {\n",
    "    \"_source\": [\n",
    "        \"mac\", \"ap_mac\", 'manufacturer', \"radio.band\", 'radio.rx_bytes', \n",
    "        'radio.tx_bytes'\n",
    "    ],\n",
    "    \"query\": {\n",
    "        \"bool\": {\n",
    "            \"filter\": [{\n",
    "                \"exists\": {\n",
    "                    \"field\":\"mac\"\n",
    "                }\n",
    "            }]\n",
    "        }\n",
    "    }\n",
    "}\n",
    "\n",
    "datos_dev_clients= custom_scan(\n",
    "    query, \n",
    "    parametros.cambium_d_c_index,\n",
    "    total_docs=30000000, \n",
    "    client=es\n",
    ")\n",
    "\n",
    "datos_dev_clients.drop_duplicates(inplace=True)"
   ]
  },
  {
   "cell_type": "markdown",
   "metadata": {},
   "source": [
    "* Se renombran campos de clientes<br>\n",
    "* se incorpora informaciones de clientes a detalle conexiones"
   ]
  },
  {
   "cell_type": "code",
   "execution_count": 37,
   "metadata": {},
   "outputs": [],
   "source": [
    "datos_dev_clients = datos_dev_clients.rename(columns={'ap_mac' : 'trafico.macRed','mac' : 'mac_usuario'})\n",
    "datos_det_conex_completo = pd.merge(datos_det_conex_completo,  datos_dev_clients, on='mac_usuario',how='left')\n",
    "datos_det_conex_completo = pd.merge(datos_det_conex_completo,datos_dev[['trafico.macRed','trafico.apGroup','trafico.IP','trafico.deviceName']],on='trafico.macRed', how='left')"
   ]
  },
  {
   "cell_type": "markdown",
   "metadata": {},
   "source": [
    "## Calculando total de conexiones"
   ]
  },
  {
   "cell_type": "markdown",
   "metadata": {},
   "source": [
    "Tiene la información de semilla, total de conexiones, alarmas, performance de AP y recurrencia de usuarios. Para obtener un registro único para cada site_id, ap_group y fecha_control, se usa el dataframe con fechas únicas (fechas_semilla)"
   ]
  },
  {
   "cell_type": "code",
   "execution_count": 38,
   "metadata": {},
   "outputs": [
    {
     "name": "stdout",
     "output_type": "stream",
     "text": [
      "Fecha:  2022-01-07 14:57:11.225321 - Datos Trafico en indice principal: 576\n"
     ]
    }
   ],
   "source": [
    "try:\n",
    "    total_conexiones =  datos_det_conex_completo[[\"fechahora\",\"fecha_control\",\"lugar_cod\"\n",
    "                                                  ,\"trafico.macRed\",'trafico.apGroup'\n",
    "                                                  ,'trafico.IP', 'trafico.deviceName'\n",
    "                                                 ]].groupby(['lugar_cod','fecha_control'\n",
    "                                                        ,\"trafico.macRed\",'trafico.apGroup'\n",
    "                                                        ,'trafico.IP', 'trafico.deviceName']).agg(['count']).reset_index()\n",
    "    total_conexiones.columns = total_conexiones.columns.droplevel(1)\n",
    "    total_conexiones.rename(columns={'fechahora': 'trafico.totales.totalConexiones'\n",
    "                                    , 'lugar_cod' : 'site_id'}, inplace=True)\n",
    "    mintic_01 = pd.merge(datos_semilla,  total_conexiones, on='site_id',how='inner')\n",
    "    mintic_01.fillna({'trafico.totales.totalConexiones': 0}, inplace=True)\n",
    "    mintic_01['trafico.totales.totalConexiones'] = mintic_01['trafico.totales.totalConexiones'].astype(int)\n",
    "    mintic_01.rename(columns={'site_id': 'trafico.siteID'\n",
    "                             ,'fecha_control' : 'trafico.totales.fechaControl'}, inplace=True)\n",
    "    try:\n",
    "        mintic_01[\"trafico.totales.fecha\"] = mintic_01[\"trafico.totales.fechaControl\"].str.split(\" \", n = 1, expand = True)[0]\n",
    "    except:\n",
    "        mintic_01[\"trafico.totales.fecha\"] = \"\"\n",
    "    try:\n",
    "        mintic_01[\"trafico.totales.hora\"] = mintic_01[\"trafico.totales.fechaControl\"].str.split(\" \", n = 1, expand = True)[1].str.split(\":\", n = 2, expand = True)[0]\n",
    "    except:\n",
    "        mintic_01[\"trafico.totales.hora\"] = \"\"\n",
    "    try:\n",
    "        mintic_01[\"trafico.totales.minuto\"] = mintic_01[\"trafico.totales.fechaControl\"].str.split(\" \", n = 1, expand = True)[1].str.split(\":\", n = 2, expand = True)[1]\n",
    "    except:\n",
    "        mintic_01[\"trafico.totales.minuto\"] = \"\"\n",
    "    try:\n",
    "        mintic_01[\"trafico.totales.anyo\"] = mintic_01[\"trafico.totales.fecha\"].str[0:4]\n",
    "    except:\n",
    "        mintic_01[\"trafico.totales.anyo\"] = \"\"\n",
    "    try:\n",
    "        mintic_01[\"trafico.totales.mes\"] = mintic_01[\"trafico.totales.fecha\"].str[5:7]\n",
    "    except:\n",
    "        mintic_01[\"trafico.totales.mes\"] = \"\"\n",
    "    try:\n",
    "        mintic_01[\"trafico.totales.dia\"] = mintic_01[\"trafico.totales.fecha\"].str[8:10]\n",
    "    except:\n",
    "        mintic_01[\"trafico.totales.dia\"] = \"\"\n",
    "    mintic_01['nombreDepartamento'] = mintic_01['trafico.nombreDepartamento']\n",
    "    mintic_01['nombreMunicipio'] = mintic_01['trafico.nombreMunicipio']\n",
    "    mintic_01['idBeneficiario'] = mintic_01['trafico.idBeneficiario']\n",
    "    mintic_01['fecha'] = mintic_01['trafico.totales.fecha']\n",
    "    mintic_01['anyo'] = mintic_01['trafico.totales.anyo']\n",
    "    mintic_01['mes'] = mintic_01['trafico.totales.mes']\n",
    "    mintic_01['dia'] = mintic_01['trafico.totales.dia']\n",
    "    mintic_01['@timestamp'] = now.isoformat()       \n",
    "\n",
    "    total_conexiones.rename(columns={'site_id': 'trafico.siteID'\n",
    "                             ,'fecha_control' : 'trafico.totales.fechaControl'}, inplace=True)\n",
    "\n",
    "    salida = helpers.bulk(es, doc_generator_dis(mintic_01))\n",
    "    print(\"Fecha: \", now,\"- Datos Trafico en indice principal:\",salida[0])\n",
    "except Exception as e:\n",
    "    print(e)\n",
    "    print(\"Fecha: \", now,\"- Nada de Trafico para insertar en indice principal:\")"
   ]
  },
  {
   "cell_type": "markdown",
   "metadata": {},
   "source": [
    "## Se lee información para usuarios recurrencia"
   ]
  },
  {
   "cell_type": "markdown",
   "metadata": {},
   "source": [
    "Se calcula y agrega al índice principal:<br>\n",
    "* trafico.concurrenciaConexiones<br>\n",
    "<br>\n",
    "Se lee el índice recurrencia de conexiones y se compara con el flujo detalle conexiones para el rango dado. Si cruzan, se suma a la cuenta de recurrentes."
   ]
  },
  {
   "cell_type": "code",
   "execution_count": 39,
   "metadata": {},
   "outputs": [
    {
     "name": "stdout",
     "output_type": "stream",
     "text": [
      "            ultima_conexion         id_usuario      lugar_cod\n",
      "0       2021-06-06 11:05:10  00-03-AC-1B-C6-48  32313-ZGYO438\n",
      "1       2021-06-07 23:58:37  50-98-39-D7-4F-1A  54974-ZGYO478\n",
      "2       2021-06-09 09:11:00  00-08-22-00-7C-04  22481-ZGYO060\n",
      "3       2021-06-11 16:42:56  B6-94-8D-38-84-7C  41909-ZGYO219\n",
      "4       2021-06-12 23:55:11  28-02-D8-98-C3-B6  19729-ZZZY075\n",
      "...                     ...                ...            ...\n",
      "519868  2021-10-28 08:32:21  FE-6B-D6-EA-15-0B  42967-VZVF332\n",
      "519869  2021-10-28 14:15:07  FE-95-98-5B-6C-2D  21572-ZGYO944\n",
      "519870  2021-10-28 20:26:31  FE-C9-A9-07-A6-F2  31895-ZGYO272\n",
      "519871  2021-10-28 06:37:08  FE-D0-26-04-88-88  26112-KPWM373\n",
      "519872  2021-10-28 13:34:42  FE-E7-1A-90-4C-C0  42244-KPWM878\n",
      "\n",
      "[519873 rows x 3 columns]\n",
      "Duration 19.02623811364174 seconds.\n"
     ]
    }
   ],
   "source": [
    "query = {\n",
    "    \"_source\": [\"ultima_conexion\", \"lugar_cod\", \"id_usuario\"]\n",
    "}\n",
    "\n",
    "datos_recurrencia = custom_scan(\n",
    "    query, \n",
    "    parametros.ohmyfi_r_u_index,\n",
    "    total_docs=5000000, \n",
    "    client=es\n",
    ")"
   ]
  },
  {
   "cell_type": "code",
   "execution_count": 40,
   "metadata": {},
   "outputs": [],
   "source": [
    "datos_recurrencia['lugar_cod'] = datos_recurrencia['lugar_cod'].str.strip()"
   ]
  },
  {
   "cell_type": "markdown",
   "metadata": {},
   "source": [
    "Se cuenta la cantidad de usuarios con más de una conexión"
   ]
  },
  {
   "cell_type": "markdown",
   "metadata": {},
   "source": [
    "# Concurrencia usuario a índice"
   ]
  },
  {
   "cell_type": "markdown",
   "metadata": {},
   "source": [
    "In[777]:"
   ]
  },
  {
   "cell_type": "code",
   "execution_count": 41,
   "metadata": {},
   "outputs": [],
   "source": [
    "try:\n",
    "    datos_det_conex_completo.rename(columns={'mac_usuario':'id_usuario'}, inplace=True)\n",
    "    aux_recurrencia=datos_det_conex_completo[['lugar_cod','id_usuario']].groupby(['id_usuario']).agg(['count']).reset_index()\n",
    "    aux_recurrencia.columns = aux_recurrencia.columns.droplevel(1)\n",
    "    aux_recurrencia.rename(columns={'lugar_cod': 'contador'}, inplace=True)\n",
    "    aux_recurrencia = aux_recurrencia.drop(aux_recurrencia[(aux_recurrencia['contador'] < 2)].index)\n",
    "    datos_recurrencia = pd.merge(datos_det_conex_completo,  aux_recurrencia, on='id_usuario', how='inner')\n",
    "    datos_recurrencia = datos_recurrencia[['lugar_cod','fecha_control','id_usuario']].groupby(['lugar_cod','fecha_control']).agg(['count']).reset_index()\n",
    "    datos_recurrencia.columns = datos_recurrencia.columns.droplevel(1)\n",
    "    datos_recurrencia.rename(columns={'lugar_cod':'site_id'}, inplace=True)\n",
    "    datos_recurrencia = pd.merge(datos_semilla,  datos_recurrencia, on='site_id', how='inner')\n",
    "    datos_recurrencia.rename(columns={'site_id':'trafico.siteID'\n",
    "                                     ,'id_usuario': 'trafico.concurrenciaConexiones'\n",
    "                                     ,'fecha_control' : 'trafico.totales.fechaControl'}, inplace=True)\n",
    "    datos_recurrencia.fillna({'trafico.concurrenciaConexiones':0},inplace=True)\n",
    "    datos_recurrencia.fillna('', inplace=True)\n",
    "\n",
    "    try:\n",
    "        datos_recurrencia[\"trafico.totales.fecha\"] = datos_recurrencia[\"trafico.totales.fechaControl\"].str.split(\" \", n = 1, expand = True)[0]\n",
    "    except Exception as e:\n",
    "        datos_recurrencia[\"trafico.totales.fecha\"] = \"\"\n",
    "        \n",
    "    datos_recurrencia[\"trafico.totales.anyo\"] = datos_recurrencia[\"trafico.totales.fecha\"].str[0:4]\n",
    "    try:\n",
    "        datos_recurrencia[\"trafico.totales.mes\"] = datos_recurrencia[\"trafico.totales.fecha\"].str[5:7]\n",
    "    except Exception as e:\n",
    "        datos_recurrencia[\"trafico.totales.mes\"] = \"\"\n",
    "    \n",
    "    try:\n",
    "        datos_recurrencia[\"trafico.totales.dia\"] = datos_recurrencia[\"trafico.totales.fecha\"].str[8:10]\n",
    "    except:\n",
    "        datos_recurrencia[\"trafico.totales.dia\"] = \"\"\n",
    "    \n",
    "    try:\n",
    "        datos_recurrencia[\"trafico.totales.hora\"] = datos_recurrencia[\"trafico.totales.fechaControl\"].str.split(\" \", n = 1, expand = True)[1].str.split(\":\", n = 2, expand = True)[0]\n",
    "    except:\n",
    "        datos_recurrencia[\"trafico.totales.hora\"] = \"\"\n",
    "    \n",
    "    try:\n",
    "        datos_recurrencia[\"trafico.totales.minuto\"] = datos_recurrencia[\"trafico.totales.fechaControl\"].str.split(\" \", n = 1, expand = True)[1].str.split(\":\", n = 2, expand = True)[1]\n",
    "    except:\n",
    "        datos_recurrencia[\"trafico.totales.minuto\"] = ''\n",
    "    \n",
    "    datos_recurrencia['nombreDepartamento'] = datos_recurrencia['trafico.nombreDepartamento']\n",
    "    datos_recurrencia['nombreMunicipio'] = datos_recurrencia['trafico.nombreMunicipio']\n",
    "    datos_recurrencia['idBeneficiario'] = datos_recurrencia['trafico.idBeneficiario']\n",
    "    datos_recurrencia['fecha'] = datos_recurrencia['trafico.totales.fecha']\n",
    "    datos_recurrencia['anyo'] = datos_recurrencia['trafico.totales.anyo']\n",
    "    datos_recurrencia['mes'] = datos_recurrencia['trafico.totales.mes']\n",
    "    datos_recurrencia['dia'] = datos_recurrencia['trafico.totales.dia']\n",
    "\n",
    "    datos_recurrencia['@timestamp'] = now.isoformat() \n",
    "\n",
    "    datos_recurrencia=pd.merge(mintic_01,datos_recurrencia,on=['trafico.siteID','trafico.totales.fechaControl'],how='left')\n",
    "\n",
    "    datos_recurrencia.fillna({'trafico.concurrenciaConexiones':0,\n",
    "                    },inplace=True)\n",
    "    datos_recurrencia[['trafico.concurrenciaConexiones']] = datos_recurrencia[['trafico.concurrenciaConexiones']].astype(int)\n",
    "    \n",
    "except Exception as e:\n",
    "    pass"
   ]
  },
  {
   "cell_type": "code",
   "execution_count": 42,
   "metadata": {},
   "outputs": [],
   "source": [
    "datos_recurrencia.rename(columns={'trafico.nomCentroDigital_x':'trafico.nomCentroDigital',\n",
    "                                  'trafico.idBeneficiario_x':'trafico.idBeneficiario',\n",
    "                                  'trafico.location_x':'trafico.location',\n",
    "                                  'trafico.totales.fecha_x':'trafico.totales.fecha',\n",
    "                                  'trafico.totales.hora_x':'trafico.totales.hora',\n",
    "                                  'trafico.totales.minuto_x':'trafico.totales.minuto',\n",
    "                                  'trafico.totales.anyo_x': 'trafico.totales.anyo',\n",
    "                                  'trafico.totales.mes_x' :'trafico.totales.mes',\n",
    "                                  'trafico.totales.dia_x' : 'trafico.totales.dia',\n",
    "                                  'fecha_x' : 'fecha',\n",
    "                                  'anyo_x' : 'anyo',\n",
    "                                  'mes_x' : 'mes',\n",
    "                                  'dia_x': 'dia'}, inplace=True)"
   ]
  },
  {
   "cell_type": "code",
   "execution_count": 43,
   "metadata": {},
   "outputs": [],
   "source": [
    "datos_recurrencia=datos_recurrencia[['trafico.siteID',\n",
    "                                     'trafico.nomCentroDigital',\n",
    "                                     'trafico.idBeneficiario',\n",
    "                                     'trafico.location',\n",
    "                                     'trafico.totales.fechaControl',\n",
    "                                     'trafico.totales.fecha',\n",
    "                                     'trafico.totales.hora',\n",
    "                                     'trafico.totales.minuto',\n",
    "                                     'trafico.totales.anyo',\n",
    "                                     'trafico.totales.mes',\n",
    "                                     'trafico.totales.dia',\n",
    "                                     'fecha',\n",
    "                                     'anyo',\n",
    "                                     'mes',\n",
    "                                     'dia',\n",
    "                                     'trafico.concurrenciaConexiones'\n",
    "                                    ]]"
   ]
  },
  {
   "cell_type": "markdown",
   "metadata": {},
   "source": [
    "# Insertando recurrencia de usuario en índice principal"
   ]
  },
  {
   "cell_type": "markdown",
   "metadata": {},
   "source": [
    "La lista use_these_keys se usa para referenciar cuales campos del dataframe irán al índice final. Si los datos no se declaran en este, no se insertarán"
   ]
  },
  {
   "cell_type": "markdown",
   "metadata": {},
   "source": [
    "In[780]:"
   ]
  },
  {
   "cell_type": "code",
   "execution_count": 44,
   "metadata": {},
   "outputs": [
    {
     "name": "stdout",
     "output_type": "stream",
     "text": [
      "Fecha:  2022-01-07 14:57:11.225321 - recurrencia de usuario a indice: 648\n"
     ]
    }
   ],
   "source": [
    "try:\n",
    "    use_these_keys = ['trafico.siteID',\n",
    "                                     'trafico.nomCentroDigital',\n",
    "                                     'trafico.idBeneficiario',\n",
    "                                     'trafico.location',\n",
    "                                     'trafico.totales.fechaControl',\n",
    "                                     'trafico.totales.fecha',\n",
    "                                     'trafico.totales.hora',\n",
    "                                     'trafico.totales.minuto',\n",
    "                                     'trafico.totales.anyo',\n",
    "                                     'trafico.totales.mes',\n",
    "                                     'trafico.totales.dia',\n",
    "                                     'fecha',\n",
    "                                     'anyo',\n",
    "                                     'mes',\n",
    "                                     'dia',\n",
    "                                     'trafico.concurrenciaConexiones',\n",
    "                                     '@timestamp']\n",
    "    datos_recurrencia['@timestamp'] = now.isoformat()\n",
    "    def doc_generator(df):\n",
    "        df_iter = df.iterrows()\n",
    "        for index, document in df_iter:\n",
    "            yield {\n",
    "                    \"_index\": indice, \n",
    "                    \"_id\": f\"{ 'Recurrencia-' + str(document['trafico.siteID']) + '-' + str(document['trafico.totales.fechaControl'])+ str(random.randrange(1000))}\",\n",
    "                    \"_source\": filterKeys(document),\n",
    "                }\n",
    "    salida = helpers.bulk(es, doc_generator(datos_recurrencia))\n",
    "    print(\"Fecha: \", now,\"- recurrencia de usuario a indice:\",salida[0])\n",
    "except Exception as e:\n",
    "    print(e)\n",
    "    print(\"Fecha: \", now,\"- Ninguna recurrencia de usuario para insertar en indice principal\")"
   ]
  },
  {
   "cell_type": "markdown",
   "metadata": {},
   "source": [
    "### Asociando datos de Speed test"
   ]
  },
  {
   "cell_type": "markdown",
   "metadata": {},
   "source": [
    "Se tiene una lectura diara de velocidad para cada centro. Por tanto se debe cruzar con el flujo principal, haciendo uso solo del año, mes, día, sin incluir la hora."
   ]
  },
  {
   "cell_type": "markdown",
   "metadata": {},
   "source": [
    "### Función para generar JSON compatible con ES"
   ]
  },
  {
   "cell_type": "code",
   "execution_count": 45,
   "metadata": {},
   "outputs": [],
   "source": [
    "def traeVelocidad(fecha_max_mintic,fecha_tope_mintic):\n",
    "    total_docs = 10000\n",
    "    print(fecha_max_mintic)\n",
    "    print(fecha_tope_mintic)\n",
    "    response = es.search(\n",
    "        index= parametros.speed_index+'*',\n",
    "        body={\n",
    "                \"_source\": [\"beneficiary_code\",\"locationid\", \"result_start_date\"\n",
    "                            , \"result_download_mbps\", \"result_upload_mbps\"],\n",
    "                \"query\": {\n",
    "                    \"range\": {\n",
    "                        \"result_start_date\": {\n",
    "                            \"gte\": fecha_max_mintic.split(' ')[0]+'T00:00:00',\n",
    "                            \"lt\": fecha_tope_mintic.split(' ')[0]+'T23:59:59'\n",
    "                        }\n",
    "                    }\n",
    "                }\n",
    "        },\n",
    "        size=total_docs\n",
    "    )\n",
    "\n",
    "    elastic_docs = response[\"hits\"][\"hits\"]\n",
    "\n",
    "    return pd.DataFrame([x[\"_source\"] for x in elastic_docs])"
   ]
  },
  {
   "cell_type": "markdown",
   "metadata": {},
   "source": [
    "* Se genera fecha en yyyy-mm-dd, y cada campo por separado<br>\n",
    "* La hora y minuto se toma aparte<br>\n",
    "<br>\n",
    "Valores que se convierten a cero si son nulos<br>\n",
    "* trafico.anchoBandaDescarga<br>\n",
    "* trafico.anchoBandaCarga"
   ]
  },
  {
   "cell_type": "code",
   "execution_count": 46,
   "metadata": {},
   "outputs": [
    {
     "name": "stdout",
     "output_type": "stream",
     "text": [
      "2021-06-01 20:00:00\n",
      "2021-06-01 21:59:59\n"
     ]
    }
   ],
   "source": [
    "fecha_max_mintic = fecha_ejecucion\n",
    "fecha_tope_mintic = (datetime.strptime(fecha_max_mintic, '%Y-%m-%d %H:%M:%S')+timedelta(minutes=120)-timedelta(seconds=1)).strftime(\"%Y-%m-%d %H:%M:%S\")\n",
    "datos_speed = traeVelocidad(fecha_max_mintic,fecha_tope_mintic)\n",
    "\n",
    "if datos_speed is None or datos_speed.empty:\n",
    "    while (datos_speed is None or datos_speed.empty) and ((datetime.strptime(fecha_max_mintic[0:10], '%Y-%m-%d').strftime(\"%Y-%m-%d %H:%M:%S\")) < str(now.strftime(\"%Y-%m-%d %H:%M:%S\"))):\n",
    "        fecha_max_mintic = (datetime.strptime(fecha_max_mintic, '%Y-%m-%d %H:%M:%S')+timedelta(minutes=120)).strftime(\"%Y-%m-%d %H:%M:%S\")\n",
    "        fecha_tope_mintic = (datetime.strptime(fecha_tope_mintic, '%Y-%m-%d %H:%M:%S')+timedelta(minutes=120)).strftime(\"%Y-%m-%d %H:%M:%S\")\n",
    "        datos_speed = traeVelocidad(fecha_max_mintic,fecha_tope_mintic)\n",
    "else:\n",
    "    pass"
   ]
  },
  {
   "cell_type": "code",
   "execution_count": 47,
   "metadata": {},
   "outputs": [],
   "source": [
    "datos_speed['beneficiary_code'] = datos_speed['beneficiary_code'].str.strip()"
   ]
  },
  {
   "cell_type": "markdown",
   "metadata": {},
   "source": [
    "# 7. Speed test a índice"
   ]
  },
  {
   "cell_type": "code",
   "execution_count": 48,
   "metadata": {},
   "outputs": [],
   "source": [
    "try:\n",
    "    datos_speed = datos_speed.drop(datos_speed[(datos_speed[\"result_download_mbps\"]<0) | (datos_speed[\"result_upload_mbps\"]<0)].index)\n",
    "    datos_speed['trafico.totales.fecha'] = datos_speed['result_start_date'].str.split(\"T\", n = 1, expand = True)[0]\n",
    "    datos_speed['result_download_mbps'] = datos_speed['result_download_mbps'] * 1000\n",
    "    datos_speed['result_upload_mbps'] = datos_speed['result_upload_mbps'] * 1000\n",
    "    datos_speed = datos_speed[['beneficiary_code','trafico.totales.fecha','result_download_mbps','result_upload_mbps']].groupby(['beneficiary_code','trafico.totales.fecha']).agg(['max']).reset_index()\n",
    "    datos_speed.columns = datos_speed.columns.droplevel(1)\n",
    "    datos_speed.rename(columns={'result_download_mbps': 'trafico.anchoBandaDescarga'\n",
    "                             ,'result_upload_mbps' :  'trafico.anchoBandaCarga'\n",
    "                             , 'beneficiary_code' : 'site_id'\n",
    "                             }, inplace=True)\n",
    "    datos_speed[\"trafico.totales.anyo\"] = datos_speed[\"trafico.totales.fecha\"].str[0:4]\n",
    "    datos_speed[\"trafico.totales.mes\"] = datos_speed[\"trafico.totales.fecha\"].str[5:7]\n",
    "    datos_speed[\"trafico.totales.dia\"] = datos_speed[\"trafico.totales.fecha\"].str[8:10]\n",
    "    datos_speed = pd.merge(datos_speed,  datos_semilla, on='site_id', how='inner')\n",
    "    datos_speed = datos_speed.rename(columns={'site_id' : 'trafico.siteID'})\n",
    "    datos_speed.dropna(subset=['trafico.anchoBandaDescarga','trafico.anchoBandaCarga'])\n",
    "    datos_speed.fillna({'trafico.anchoBandaDescarga':0\n",
    "                      , 'trafico.anchoBandaCarga':0\n",
    "                       },inplace=True)\n",
    "    datos_speed.fillna('', inplace=True)\n",
    "    datos_speed['nombreDepartamento'] = datos_speed['trafico.nombreDepartamento']\n",
    "    datos_speed['nombreMunicipio'] = datos_speed['trafico.nombreMunicipio']\n",
    "    datos_speed['idBeneficiario'] = datos_speed['trafico.idBeneficiario']\n",
    "    datos_speed['fecha'] = datos_speed['trafico.totales.fecha']\n",
    "    datos_speed['anyo'] = datos_speed['trafico.totales.anyo']\n",
    "    datos_speed['mes'] = datos_speed['trafico.totales.mes']\n",
    "    datos_speed['dia'] = datos_speed['trafico.totales.dia']\n",
    "    datos_speed['@timestamp'] = now.isoformat()\n",
    "        \n",
    "except Exception as e:\n",
    "    print(e)"
   ]
  },
  {
   "cell_type": "code",
   "execution_count": 49,
   "metadata": {},
   "outputs": [
    {
     "name": "stdout",
     "output_type": "stream",
     "text": [
      "Fecha:  2022-01-07 14:57:11.225321 - Datos Velocidad carga y descarga (Trafico) en indice principal: 356\n"
     ]
    }
   ],
   "source": [
    "try:\n",
    "    use_these_keys = ['trafico.nomCentroDigital', \n",
    "                  'trafico.localidad',\n",
    "                  'trafico.siteID',\n",
    "                  'trafico.nombreDepartamento', \n",
    "                  'trafico.codISO', \n",
    "                  'trafico.sistemaEnergia',\n",
    "                  'trafico.nombreMunicipio', \n",
    "                  'trafico.idBeneficiario',\n",
    "                  'trafico.location', \n",
    "                  'trafico.anchoBandaDescarga',\n",
    "                  'trafico.anchoBandaCarga',\n",
    "                  'trafico.totales.fecha',\n",
    "                  'trafico.totales.anyo',\n",
    "                  'trafico.totales.mes',\n",
    "                  'trafico.totales.dia',\n",
    "                  'nombreDepartamento',\n",
    "                    'nombreMunicipio',\n",
    "                    'idBeneficiario',\n",
    "                    'fecha',\n",
    "                    'anyo',\n",
    "                    'mes',\n",
    "                    'dia',\n",
    "                  '@timestamp']\n",
    "    datos_speed['@timestamp'] = now.isoformat()\n",
    "    def doc_generator(df):\n",
    "        df_iter = df.iterrows()\n",
    "        for index, document in df_iter:\n",
    "            yield {\n",
    "                    \"_index\": indice, \n",
    "                    \"_id\": f\"{ 'Velocidad-' + document['trafico.siteID'] + '-' + document['trafico.totales.fecha']+ '-'+str(random.randrange(1000))}\",\n",
    "                    \"_source\": filterKeys(document),\n",
    "                }\n",
    "    salida = helpers.bulk(es, doc_generator(datos_speed))\n",
    "    print(\"Fecha: \", now,\"- Datos Velocidad carga y descarga (Trafico) en indice principal:\",salida[0])\n",
    "except Exception as e:\n",
    "    print(e)\n",
    "    print(\"Fecha: \", now,\"- Ningun dato velocidad para insertar en indice principal\")"
   ]
  },
  {
   "cell_type": "markdown",
   "metadata": {},
   "source": [
    "### Guardando fecha para control de ejecución"
   ]
  },
  {
   "cell_type": "markdown",
   "metadata": {},
   "source": [
    "* Se actualiza la fecha de control. Si el cálculo supera la fecha hora actual, se asocia esta última."
   ]
  },
  {
   "cell_type": "code",
   "execution_count": 50,
   "metadata": {},
   "outputs": [
    {
     "name": "stdout",
     "output_type": "stream",
     "text": [
      "actualizada fecha control de ejecucion: 2021-06-01 22:00:00\n"
     ]
    }
   ],
   "source": [
    "fecha_ejecucion = (datetime.strptime(fecha_max_mintic, '%Y-%m-%d %H:%M:%S')+timedelta(minutes=120)).strftime(\"%Y-%m-%d %H:%M:%S\")[0:15] + '0:00'\n",
    "\n",
    "if fecha_ejecucion > str(now.strftime('%Y-%m-%d %H:%M:%S'))[0:15] + '0:00':\n",
    "    fecha_ejecucion = str(now.strftime('%Y-%m-%d %H:%M:%S'))[0:15] + '0:00'\n",
    "response = es.index(\n",
    "        index = indice_control,\n",
    "        id = 'jerarquia_tablero_trafico',\n",
    "        body = { 'jerarquia_tablero_trafico': 'jerarquia_tablero_trafico','trafico.fechaControl' : fecha_ejecucion}\n",
    ")\n",
    "print(\"actualizada fecha control de ejecucion:\",fecha_ejecucion)"
   ]
  }
 ],
 "metadata": {
  "kernelspec": {
   "display_name": "Python 3",
   "language": "python",
   "name": "python3"
  },
  "language_info": {
   "codemirror_mode": {
    "name": "ipython",
    "version": 3
   },
   "file_extension": ".py",
   "mimetype": "text/x-python",
   "name": "python",
   "nbconvert_exporter": "python",
   "pygments_lexer": "ipython3",
   "version": "3.8.5"
  }
 },
 "nbformat": 4,
 "nbformat_minor": 2
}
