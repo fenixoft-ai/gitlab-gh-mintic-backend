{
 "cells": [
  {
   "cell_type": "markdown",
   "metadata": {},
   "source": [
    "### ¿Qué hace este script?\n",
    "Para cada sitio y fecha calcula:\n",
    "\n",
    "* usuarios.nivelesSatisfaccionUsuarios: Clasificación de la respuesta (bueno, regular, malo)\n",
    "* usuarios.nivelesSatisfaccionUsuariosRespuesta: Total de respuestas para cada opción\n",
    "* usuarios.nivelesSatisfaccionUsuariosRespuestaPorCien (porcentaje asociado al total para ese grupo de respuetas)\n",
    "* usuarios.cantidadCalificaciones: total de calificaciones (incluye todas las opciones)"
   ]
  },
  {
   "cell_type": "code",
   "execution_count": 1,
   "metadata": {},
   "outputs": [],
   "source": [
    "from elasticsearch import Elasticsearch, helpers\n",
    "import pandas as pd\n",
    "import numpy as np\n",
    "from ssl import create_default_context\n",
    "from datetime import datetime, timedelta\n",
    "import time\n",
    "import parametros #parametros propios del desarrollo\n",
    "import random"
   ]
  },
  {
   "cell_type": "markdown",
   "metadata": {},
   "source": [
    "### Conexión a Elastic Search"
   ]
  },
  {
   "cell_type": "code",
   "execution_count": 4,
   "metadata": {},
   "outputs": [],
   "source": [
    "context = create_default_context(cafile=parametros.cafile)\n",
    "es = Elasticsearch(\n",
    "    parametros.servidor,\n",
    "    http_auth=(parametros.usuario_EC, parametros.password_EC),\n",
    "    scheme=\"https\",\n",
    "    port=parametros.puerto,\n",
    "    ssl_context=context,\n",
    "    timeout=60, max_retries=3, retry_on_timeout=True\n",
    ")"
   ]
  },
  {
   "cell_type": "markdown",
   "metadata": {},
   "source": [
    "Función para realizar consultas cuando la cantidad de registros es mayor a 10.000"
   ]
  },
  {
   "cell_type": "code",
   "execution_count": 5,
   "metadata": {},
   "outputs": [],
   "source": [
    "def custom_scan(query, index, total_docs, client):\n",
    "    \n",
    "    results = helpers.scan(client, index=index, query=query)\n",
    "    \n",
    "    data = []\n",
    "    for item in results:\n",
    "        data.append(item['_source'])\n",
    "        if len(data) >= total_docs:\n",
    "            break\n",
    "            \n",
    "    return pd.DataFrame(data)"
   ]
  },
  {
   "cell_type": "markdown",
   "metadata": {},
   "source": [
    "### Calculando fechas para la ejecución"
   ]
  },
  {
   "cell_type": "code",
   "execution_count": 6,
   "metadata": {},
   "outputs": [],
   "source": [
    "now = datetime.now()\n",
    "fecha_hoy = str(now.strftime(\"%Y.%m.%d\"))"
   ]
  },
  {
   "cell_type": "markdown",
   "metadata": {},
   "source": [
    "### Nombre de índice donde se insertará"
   ]
  },
  {
   "cell_type": "markdown",
   "metadata": {},
   "source": [
    "Se define tanto el índice principal como el que controla la ejecución"
   ]
  },
  {
   "cell_type": "code",
   "execution_count": 7,
   "metadata": {},
   "outputs": [],
   "source": [
    "indice = parametros.usuarios_tableros_usuarios_index\n",
    "indice_control = parametros.tableros_mintic_control"
   ]
  },
  {
   "cell_type": "markdown",
   "metadata": {},
   "source": [
    "### Funcion que genera JSON compatible con ElasticSearch"
   ]
  },
  {
   "cell_type": "code",
   "execution_count": 8,
   "metadata": {},
   "outputs": [],
   "source": [
    "def filterKeys(document):\n",
    "    return {key: document[key] for key in use_these_keys }"
   ]
  },
  {
   "cell_type": "markdown",
   "metadata": {},
   "source": [
    "### Trae la última fecha para control de ejecución"
   ]
  },
  {
   "cell_type": "markdown",
   "metadata": {},
   "source": [
    "Cuando en el rango de tiempo de la ejecución, no se insertan nuevos valores, las fecha máxima en índice mintic no aumenta, por tanto se usa esta fecha de control para garantizar que incremente el bucle de ejecución"
   ]
  },
  {
   "cell_type": "code",
   "execution_count": 9,
   "metadata": {},
   "outputs": [
    {
     "name": "stdout",
     "output_type": "stream",
     "text": [
      "ultima fecha para control de ejecucion: 2021-09-12 20:30:00\n"
     ]
    }
   ],
   "source": [
    "total_docs = 1\n",
    "try:\n",
    "    response = es.search(\n",
    "        index= indice_control,\n",
    "        body={\n",
    "               \"_source\": [\"tablero13.fechaControl\"],\n",
    "              \"query\": {\n",
    "                \"bool\": {\n",
    "                  \"filter\": [\n",
    "                  {\n",
    "                    \"exists\": {\n",
    "                      \"field\":\"jerarquia-tablero13\"\n",
    "                    }\n",
    "                  }\n",
    "                  ]\n",
    "                }\n",
    "              }\n",
    "        },\n",
    "        size=total_docs\n",
    "    )\n",
    "    #print(es.info())\n",
    "    elastic_docs = response[\"hits\"][\"hits\"]\n",
    "    fields = {}\n",
    "    for num, doc in enumerate(elastic_docs):\n",
    "        fecha_ejecucion = doc[\"_source\"]['tablero13.fechaControl']\n",
    "except:\n",
    "    fecha_ejecucion = '2021-06-01 00:00:00'\n",
    "if response[\"hits\"][\"hits\"] == []:\n",
    "    fecha_ejecucion = '2021-06-01 00:00:00'\n",
    "print(\"ultima fecha para control de ejecucion:\",fecha_ejecucion)"
   ]
  },
  {
   "cell_type": "markdown",
   "metadata": {},
   "source": [
    "fecha_ejecucion = '2021-06-16 00:00:00'"
   ]
  },
  {
   "cell_type": "markdown",
   "metadata": {},
   "source": [
    "### Leyendo índice semilla-inventario"
   ]
  },
  {
   "cell_type": "markdown",
   "metadata": {},
   "source": [
    "En el script que ingesta semilla, trae la información de los centros de conexión administrados. Para el índice principal se requiere:<br>\n",
    "* site_id como llave del centro de conexión.<br>\n",
    "* Datos geográficos (Departamento, municipio, centro poblado, sede, energía, latitud, longitud,  COD_ISO , id_Beneficiario)."
   ]
  },
  {
   "cell_type": "code",
   "execution_count": 10,
   "metadata": {},
   "outputs": [
    {
     "name": "stdout",
     "output_type": "stream",
     "text": [
      "Duration 0.3978867353871465 seconds.\n"
     ]
    }
   ],
   "source": [
    "total_docs = 10000\n",
    "try:\n",
    "    response = es.search(\n",
    "        index= parametros.semilla_inventario_index,\n",
    "        body={\n",
    "               \"_source\": ['site_id','nombre_municipio', 'nombre_departamento', 'nombre_centro_pob', 'nombreSede' \n",
    "                           , 'energiadesc', 'latitud', 'longitud', 'COD_ISO','id_Beneficiario']\n",
    "        },\n",
    "        size=total_docs\n",
    "    )\n",
    "    \n",
    "    elastic_docs = response[\"hits\"][\"hits\"]\n",
    "    datos_semilla = pd.DataFrame([x[\"_source\"] for x in elastic_docs])\n",
    "    \n",
    "except:\n",
    "    print (\"Error\")"
   ]
  },
  {
   "cell_type": "markdown",
   "metadata": {},
   "source": [
    "### Cambiando nombre de campos y generando location"
   ]
  },
  {
   "cell_type": "markdown",
   "metadata": {},
   "source": [
    "* Se valida latitud y longitud. Luego se calcula campo location<br>\n",
    "* Se renombran los campos de semilla"
   ]
  },
  {
   "cell_type": "code",
   "execution_count": 11,
   "metadata": {},
   "outputs": [],
   "source": [
    "import re\n",
    "def get_location(x):\n",
    "    patron = re.compile('^(\\-?\\d+(\\.\\d+)?),\\s*(\\-?\\d+(\\.\\d+)?)$') #patrÃ³n que debe cumplir\n",
    "    if (not patron.match(x) is None):\n",
    "        return x.replace(',','.')\n",
    "    else:\n",
    "        #CÃ³digo a ejecutar si las coordenadas no son vÃ¡lidas\n",
    "        return 'a'\n",
    "datos_semilla['latitud'] = datos_semilla['latitud'].apply(get_location)\n",
    "datos_semilla['longitud'] = datos_semilla['longitud'].apply(get_location)\n",
    "datos_semilla = datos_semilla.drop(datos_semilla[(datos_semilla[\"longitud\"]=='a') | (datos_semilla[\"latitud\"]=='a')].index)\n",
    "datos_semilla['usuarios.tablero13.location'] = datos_semilla['latitud'] + ',' + datos_semilla['longitud']\n",
    "datos_semilla['usuarios.tablero13.location']=datos_semilla['usuarios.tablero13.location'].str.replace('a,a','')\n",
    "datos_semilla.drop(columns=['latitud','longitud'],inplace=True)"
   ]
  },
  {
   "cell_type": "code",
   "execution_count": 12,
   "metadata": {},
   "outputs": [],
   "source": [
    "datos_semilla = datos_semilla.rename(columns={'lugar_cod' : 'usuarios.tablero13.centroDigitalUsuarios'\n",
    "                                            , 'nombre_municipio': 'usuarios.tablero13.nombreMunicipio'\n",
    "                                            , 'nombre_departamento' : 'usuarios.tablero13.nombreDepartamento'\n",
    "                                            , 'nombre_centro_pob': 'usuarios.tablero13.localidad'\n",
    "                                            , 'nombreSede' : 'usuarios.tablero13.nomCentroDigital'\n",
    "                                            , 'energiadesc' : 'usuarios.tablero13.sistemaEnergia'\n",
    "                                            , 'COD_ISO' : 'usuarios.tablero13.codISO'\n",
    "                                            , 'id_Beneficiario' : 'idBeneficiario'})"
   ]
  },
  {
   "cell_type": "markdown",
   "metadata": {},
   "source": [
    "Se descartan los registros que tengan la latitud y longitud vacía o no valida"
   ]
  },
  {
   "cell_type": "code",
   "execution_count": 13,
   "metadata": {},
   "outputs": [],
   "source": [
    "datos_semilla = datos_semilla.drop(datos_semilla[(datos_semilla[\"usuarios.tablero13.location\"]=='')].index)"
   ]
  },
  {
   "cell_type": "markdown",
   "metadata": {},
   "source": [
    "## Leyendo índice ohmyfi valoraciones"
   ]
  },
  {
   "cell_type": "markdown",
   "metadata": {},
   "source": [
    "Se toman en cuenta todas las valoraciones realizadas dentro del rango de fecha fecha. Campos leídos:<br>\n",
    "<br>\n",
    "* lugar_cod que es la llave para cruzar con site_id.<br>\n",
    "* datos asociados a la valoración: pregunta, respuesta, fechahora (cuando se registrá la valoración)"
   ]
  },
  {
   "cell_type": "code",
   "execution_count": 14,
   "metadata": {},
   "outputs": [],
   "source": [
    "def trae_valoraciones(fecha_ini, fecha_fin, client):\n",
    "    \n",
    "    query = {\n",
    "        \"_source\": [\"lugar_cod\", \"respuesta\",\"fechahora\",\"@timestamp\"], \n",
    "        \"query\": {\n",
    "            \"range\": {\n",
    "                \"fechahora\": {\n",
    "                    \"gte\": fecha_ini,\n",
    "                    \"lt\":  fecha_fin\n",
    "                }\n",
    "            }\n",
    "        }\n",
    "    }\n",
    "\n",
    "    return custom_scan(\n",
    "        query, \n",
    "        parametros.ohmyfi_val_index,\n",
    "        total_docs=1000000, \n",
    "        client=client\n",
    "    )"
   ]
  },
  {
   "cell_type": "markdown",
   "metadata": {},
   "source": [
    "### Se realiza la consulta de datos"
   ]
  },
  {
   "cell_type": "markdown",
   "metadata": {},
   "source": [
    "* Se calcula rango en base a la fecha de control. Para este caso es de un día.<br>\n",
    "* Se ejecuta la función de consulta con el rango de fechas.<br>\n",
    "* Si no retorna datos se incrementa el rango y se ejecuta nuevamente. Este proceso se repite hasta conseguir datos o hasta que el rango de ejecución alcance la fecha y hora actual."
   ]
  },
  {
   "cell_type": "code",
   "execution_count": 15,
   "metadata": {},
   "outputs": [
    {
     "name": "stdout",
     "output_type": "stream",
     "text": [
      "                fechahora                  @timestamp       lugar_cod  \\\n",
      "0     2021-09-12 21:19:58  2021-09-12T21:30:02.517883   30204-ZGYO088   \n",
      "1     2021-09-12 21:19:58  2021-09-12T21:30:02.517883   43446-VZVF988   \n",
      "2     2021-09-12 21:19:58  2021-09-12T21:30:02.517883   39110-VZVF402   \n",
      "3     2021-09-12 21:19:58  2021-09-12T21:30:02.517883   19211-ZZZY539   \n",
      "4     2021-09-12 21:19:58  2021-09-12T21:30:02.517883  21731-VZVF272    \n",
      "...                   ...                         ...             ...   \n",
      "4787  2021-09-12 20:30:02  2021-09-12T21:00:02.389723   48989-ZGYO688   \n",
      "4788  2021-09-12 20:30:01  2021-09-12T21:00:02.389723   30644-ZGYO668   \n",
      "4789  2021-09-12 20:30:01  2021-09-12T21:00:02.389723   22543-ZZZY131   \n",
      "4790  2021-09-12 20:30:00  2021-09-12T21:00:02.389723   18950-VZVF256   \n",
      "4791  2021-09-12 20:30:00  2021-09-12T21:00:02.389723   47129-VZVF300   \n",
      "\n",
      "      respuesta  \n",
      "0            Si  \n",
      "1            Si  \n",
      "2     Excelente  \n",
      "3            Si  \n",
      "4            Si  \n",
      "...         ...  \n",
      "4787      Buena  \n",
      "4788  Excelente  \n",
      "4789    Regular  \n",
      "4790         Si  \n",
      "4791         No  \n",
      "\n",
      "[4792 rows x 4 columns]\n",
      "Duration 0.36425785534083843 seconds.\n"
     ]
    }
   ],
   "source": [
    "fecha_max_mintic = fecha_ejecucion\n",
    "fecha_tope_mintic = datetime.strptime(fecha_max_mintic, '%Y-%m-%d %H:%M:%S')\n",
    "fecha_tope_mintic += timedelta(minutes=50)\n",
    "fecha_tope_mintic -= timedelta(seconds=1)\n",
    "fecha_tope_mintic = fecha_tope_mintic.strftime(\"%Y-%m-%d %H:%M:%S\")\n",
    "\n",
    "datos_valoraciones =  trae_valoraciones(fecha_max_mintic, fecha_tope_mintic, es)\n",
    "\n",
    "if datos_valoraciones is None or datos_valoraciones.empty:\n",
    "    while (datos_valoraciones is None or datos_valoraciones.empty) and ((datetime.strptime(fecha_max_mintic, '%Y-%m-%d %H:%M:%S').strftime(\"%Y-%m-%d %H:%M:%S\")) < str(now.strftime(\"%Y-%m-%d %H:%M:%S\"))):\n",
    "        \n",
    "        fecha_max_mintic = datetime.strptime(fecha_max_mintic, '%Y-%m-%d %H:%M:%S')\n",
    "        fecha_max_mintic += timedelta(minutes=50)\n",
    "        fecha_max_mintic = fecha_max_mintic.strftime(\"%Y-%m-%d %H:%M:%S\")\n",
    "        \n",
    "        fecha_tope_mintic = datetime.strptime(fecha_tope_mintic, '%Y-%m-%d %H:%M:%S') \n",
    "        fecha_tope_mintic += timedelta(minutes=50)\n",
    "        fecha_tope_mintic = fecha_tope_mintic.strftime(\"%Y-%m-%d %H:%M:%S\")\n",
    "        \n",
    "        datos_valoraciones = trae_valoraciones(fecha_max_mintic, fecha_tope_mintic, es)\n",
    "        \n",
    "else:\n",
    "    pass"
   ]
  },
  {
   "cell_type": "markdown",
   "metadata": {},
   "source": [
    "1. Se descartan las respuestas Si y No de las valoraciones, las cuales corresponden a la pregunta: \"Te gustaría calificar tu última conexión en\". De esta forma solo se dejan las respuestas asociadas a la percepción de calidad por parte del usuario.<br>\n",
    "2. Se estandariza lugar_cod a site_id<br>\n",
    "3. Se estadariza fecha para agrupar (solo se toma yyyy-mm-dd)<br>\n",
    "4. Se Calcula nivel de valoración por pregunta y total de valoraciones<br>\n",
    "<br>\n",
    "* Para cada centro de conexión, pregunta, se contabilizan las valoraciones. El calculo es diario"
   ]
  },
  {
   "cell_type": "code",
   "execution_count": 16,
   "metadata": {},
   "outputs": [],
   "source": [
    "try:\n",
    "    datos_valoraciones = datos_valoraciones.drop(datos_valoraciones[(datos_valoraciones[\"respuesta\"].isin(['Si','No']))].index)\n",
    "    #datos_valoraciones['mac_usuario'] = datos_valoraciones['mac_usuario'].str.replace('-',':')\n",
    "    datos_valoraciones = datos_valoraciones.rename(columns={'lugar_cod': 'site_id'})\n",
    "    datos_valoraciones['fecha'] = datos_valoraciones[\"fechahora\"].str.split(\" \", n = 1, expand = True)[0]\n",
    "    nivel_valoraciones=datos_valoraciones[['fechahora', 'site_id'\n",
    "                                         , 'respuesta'\n",
    "                                         , 'fecha']].groupby(['site_id','respuesta','fecha']).agg(['count']).reset_index()\n",
    "    nivel_valoraciones.columns = nivel_valoraciones.columns.droplevel(1)\n",
    "    nivel_valoraciones = nivel_valoraciones.rename(columns={'fechahora' :'usuarios.tablero13.nivelesSatisfaccionUsuarios'\n",
    "                                                           ,'respuesta' :'usuarios.tablero13.nivelesSatisfaccionUsuariosRespuesta'\n",
    "                                                           ,'fecha' : 'usuarios.tablero13.fechaCalificacion'})\n",
    "    \n",
    "    total_valoraciones = datos_valoraciones[['site_id','fechahora','fecha']].groupby(['site_id','fecha']).agg(['count']).reset_index()\n",
    "    total_valoraciones.columns = total_valoraciones.columns.droplevel(1)\n",
    "    total_valoraciones = total_valoraciones.rename(columns={'fechahora' :'usuarios.tablero13.cantidadCalificaciones'\n",
    "                                                           ,'fecha' : 'usuarios.tablero13.fechaCalificacion'})\n",
    "\n",
    "    #Con ambos se calcula el porcentaje de cada respuesta\n",
    "    nivel_valoraciones =  pd.merge(nivel_valoraciones,total_valoraciones, on=['site_id','usuarios.tablero13.fechaCalificacion'],how='inner')\n",
    "    nivel_valoraciones['usuarios.tablero13.nivelesSatisfaccionUsuariosRespuestaPorCien'] = ((nivel_valoraciones['usuarios.tablero13.nivelesSatisfaccionUsuarios']) / nivel_valoraciones['usuarios.tablero13.cantidadCalificaciones']).round(4)\n",
    "except:\n",
    "    total_valoraciones = pd.DataFrame(columns=['site_id','usuarios.tablero13.fechaCalificacion'\n",
    "                                              ,'usuarios.tablero13.cantidadCalificaciones'])\n",
    "    nivel_valoraciones = pd.DataFrame(columns=['site_id','usuarios.tablero13.fechaCalificacion'\n",
    "                                              ,'usuarios.tablero13.nivelesSatisfaccionUsuarios'\n",
    "                                              ,'usuarios.tablero13.nivelesSatisfaccionUsuariosRespuesta'\n",
    "                                              ,'usuarios.tablero13.nivelesSatisfaccionUsuariosRespuestaPorCien'])\n",
    "    "
   ]
  },
  {
   "cell_type": "markdown",
   "metadata": {},
   "source": [
    "### Cruzando con semilla las agregaciones de valoraciones"
   ]
  },
  {
   "cell_type": "code",
   "execution_count": 17,
   "metadata": {},
   "outputs": [],
   "source": [
    "mintic_valoraciones = pd.merge(datos_semilla, nivel_valoraciones, on='site_id',how='inner')"
   ]
  },
  {
   "cell_type": "code",
   "execution_count": 18,
   "metadata": {},
   "outputs": [
    {
     "data": {
      "text/plain": [
       "2691"
      ]
     },
     "execution_count": 18,
     "metadata": {},
     "output_type": "execute_result"
    }
   ],
   "source": [
    "mintic_valoraciones[\"usuarios.tablero13.nivelesSatisfaccionUsuarios\"].sum(axis=0)"
   ]
  },
  {
   "cell_type": "markdown",
   "metadata": {},
   "source": [
    "# Escribiendo en indice la información de Valoraciones"
   ]
  },
  {
   "cell_type": "markdown",
   "metadata": {},
   "source": [
    "Se convierten los nulos a ceros a nivelesSatisfaccionUsuarios y cantidadCalificaciones"
   ]
  },
  {
   "cell_type": "code",
   "execution_count": 19,
   "metadata": {},
   "outputs": [],
   "source": [
    "try:\n",
    "    mintic_valoraciones.fillna({'usuarios.tablero13.nivelesSatisfaccionUsuarios':0\n",
    "                               ,'usuarios.tablero13.nivelesSatisfaccionUsuariosRespuestaPorCien':0},inplace=True)\n",
    "    mintic_valoraciones[['usuarios.tablero13.nivelesSatisfaccionUsuarios']] = mintic_valoraciones[['usuarios.tablero13.nivelesSatisfaccionUsuarios']].astype(int)\n",
    "    mintic_valoraciones = mintic_valoraciones.rename(columns={'site_id' : 'usuarios.tablero13.siteID'})\n",
    "    mintic_valoraciones.dropna(subset=['usuarios.tablero13.nivelesSatisfaccionUsuariosRespuesta'], inplace=True)\n",
    "    mintic_valoraciones[\"usuarios.tablero13.anyo\"] = mintic_valoraciones[\"usuarios.tablero13.fechaCalificacion\"].str[0:4]\n",
    "    mintic_valoraciones[\"usuarios.tablero13.mes\"] = mintic_valoraciones[\"usuarios.tablero13.fechaCalificacion\"].str[5:7]\n",
    "    mintic_valoraciones[\"usuarios.tablero13.dia\"] = mintic_valoraciones[\"usuarios.tablero13.fechaCalificacion\"].str[8:10]\n",
    "    mintic_valoraciones['nombreDepartamento'] = mintic_valoraciones['usuarios.tablero13.nombreDepartamento']\n",
    "    mintic_valoraciones['nombreMunicipio'] = mintic_valoraciones['usuarios.tablero13.nombreMunicipio']\n",
    "    mintic_valoraciones['idBeneficiario'] = mintic_valoraciones['idBeneficiario']\n",
    "    mintic_valoraciones['fecha'] = mintic_valoraciones['usuarios.tablero13.fechaCalificacion']\n",
    "    mintic_valoraciones['anyo'] = mintic_valoraciones['usuarios.tablero13.anyo']\n",
    "    mintic_valoraciones['mes'] = mintic_valoraciones['usuarios.tablero13.mes']\n",
    "    mintic_valoraciones['dia'] = mintic_valoraciones['usuarios.tablero13.dia']\n",
    "except:\n",
    "    \n",
    "    print('Null')\n",
    "    \n",
    "    pass"
   ]
  },
  {
   "cell_type": "code",
   "execution_count": 20,
   "metadata": {},
   "outputs": [
    {
     "name": "stdout",
     "output_type": "stream",
     "text": [
      "Fecha:  2022-01-07 13:29:15.467687 - Valoraciones insertadas en indice principal: 1536\n"
     ]
    }
   ],
   "source": [
    "use_these_keys = ['usuarios.tablero13.nomCentroDigital'\n",
    "                  , 'usuarios.tablero13.codISO'\n",
    "                  , 'usuarios.tablero13.localidad'\n",
    "                  , 'usuarios.tablero13.siteID'\n",
    "                  , 'usuarios.tablero13.nombreDepartamento'\n",
    "                  , 'usuarios.tablero13.sistemaEnergia'\n",
    "                  , 'usuarios.tablero13.nombreMunicipio'\n",
    "                  , 'idBeneficiario'\n",
    "                  , 'usuarios.tablero13.location'\n",
    "                  , 'usuarios.tablero13.nivelesSatisfaccionUsuariosRespuesta'\n",
    "                  , 'usuarios.tablero13.fechaCalificacion'\n",
    "                  , 'usuarios.tablero13.nivelesSatisfaccionUsuarios'\n",
    "                  , 'usuarios.tablero13.nivelesSatisfaccionUsuariosRespuestaPorCien'               \n",
    "                  , 'usuarios.tablero13.anyo'\n",
    "                  , 'usuarios.tablero13.mes'\n",
    "                  , 'usuarios.tablero13.dia'\n",
    "                    , 'nombreDepartamento'\n",
    "                    , 'nombreMunicipio'\n",
    "                    , 'idBeneficiario'\n",
    "                    , 'fecha'\n",
    "                    , 'anyo'\n",
    "                    , 'mes'\n",
    "                    , 'dia'\n",
    "                  , '@timestamp']\n",
    "try:\n",
    "    mintic_valoraciones['@timestamp'] = now.isoformat()\n",
    "    def doc_generator(df):\n",
    "        df_iter = df.iterrows()\n",
    "        for index, document in df_iter:\n",
    "            yield {\n",
    "                    \"_index\": indice, \n",
    "                    \"_id\": f\"{'Valoracion-' + str(document['usuarios.tablero13.siteID']) + '-' + str(document['usuarios.tablero13.fechaCalificacion']) + '-' + str(document['usuarios.tablero13.nivelesSatisfaccionUsuariosRespuesta']) + '-' +str(random.randrange(10000))}\",\n",
    "                    \"_source\": filterKeys(document),\n",
    "                }\n",
    "    salida = helpers.bulk(es, doc_generator(mintic_valoraciones))\n",
    "    print(\"Fecha: \", now,\"- Valoraciones insertadas en indice principal:\",salida[0])\n",
    "except:\n",
    "    print(\"Fecha: \", now,\"- No se insertaron valoraciones en indice principal\")"
   ]
  },
  {
   "cell_type": "markdown",
   "metadata": {},
   "source": [
    "## Insertando total de calificaciones"
   ]
  },
  {
   "cell_type": "code",
   "execution_count": 21,
   "metadata": {},
   "outputs": [],
   "source": [
    "mintic_calificaciones = pd.merge(datos_semilla,  total_valoraciones, on='site_id', how='inner')"
   ]
  },
  {
   "cell_type": "code",
   "execution_count": 22,
   "metadata": {},
   "outputs": [],
   "source": [
    "try:\n",
    "    mintic_calificaciones.fillna({'usuarios.tablero13.cantidadCalificaciones':0},inplace=True)\n",
    "    mintic_calificaciones[['usuarios.tablero13.cantidadCalificaciones']] = mintic_calificaciones[['usuarios.tablero13.cantidadCalificaciones']].astype(int)\n",
    "    mintic_calificaciones = mintic_calificaciones.rename(columns={'site_id' : 'usuarios.siteID'})\n",
    "    mintic_calificaciones.dropna(subset=['usuarios.tablero13.cantidadCalificaciones'], inplace=True)\n",
    "    mintic_calificaciones[\"usuarios.tablero13.anyo\"] = mintic_calificaciones[\"usuarios.tablero13.fechaCalificacion\"].str[0:4]\n",
    "    mintic_calificaciones[\"usuarios.tablero13.mes\"] = mintic_calificaciones[\"usuarios.tablero13.fechaCalificacion\"].str[5:7]\n",
    "    mintic_calificaciones[\"usuarios.tablero13.dia\"] = mintic_calificaciones[\"usuarios.tablero13.fechaCalificacion\"].str[8:10]\n",
    "    mintic_calificaciones[\"usuarios.tablero13.fecha\"] = mintic_calificaciones[\"usuarios.tablero13.fechaCalificacion\"]\n",
    "    mintic_calificaciones['nombreDepartamento'] = mintic_calificaciones['usuarios.tablero13.nombreDepartamento']\n",
    "    mintic_calificaciones['nombreMunicipio'] = mintic_calificaciones['usuarios.tablero13.nombreMunicipio']\n",
    "    mintic_calificaciones['idBeneficiario'] = mintic_calificaciones['usuarios.idBeneficiario']\n",
    "    mintic_calificaciones['fecha'] = mintic_calificaciones['usuarios.tablero13.fechaCalificacion']\n",
    "    mintic_calificaciones['anyo'] = mintic_calificaciones['usuarios.tablero13.anyo']\n",
    "    mintic_calificaciones['mes'] = mintic_calificaciones['usuarios.tablero13.mes']\n",
    "    mintic_calificaciones['dia'] = mintic_calificaciones['usuarios.tablero13.dia']\n",
    "except:\n",
    "    pass"
   ]
  },
  {
   "cell_type": "code",
   "execution_count": 23,
   "metadata": {},
   "outputs": [
    {
     "name": "stdout",
     "output_type": "stream",
     "text": [
      "Fecha:  2022-01-07 13:29:15.467687 - Total calificaciones insertadas en indice principal: 887\n"
     ]
    }
   ],
   "source": [
    "use_these_keys = ['usuarios.tablero13.nomCentroDigital'\n",
    "                  , 'usuarios.tablero13.codISO'\n",
    "                  , 'idBeneficiario'\n",
    "                  , 'usuarios.tablero13.localidad'\n",
    "                  , 'usuarios.siteID'\n",
    "                  , 'usuarios.tablero13.nombreDepartamento'\n",
    "                  , 'usuarios.tablero13.sistemaEnergia'\n",
    "                  , 'usuarios.tablero13.nombreMunicipio'\n",
    "                  , 'usuarios.tablero13.location'\n",
    "                  , 'usuarios.tablero13.cantidadCalificaciones'\n",
    "                  , 'usuarios.tablero13.fechaCalificacion'\n",
    "                  , 'usuarios.tablero13.fecha'\n",
    "                  , 'usuarios.tablero13.anyo'\n",
    "                  , 'usuarios.tablero13.mes'\n",
    "                  , 'usuarios.tablero13.dia'\n",
    "                    , 'nombreDepartamento'\n",
    "                    , 'nombreMunicipio'\n",
    "                    , '@timestamp']\n",
    "try:\n",
    "    mintic_calificaciones['@timestamp'] = now.isoformat()\n",
    "    def doc_generator(df):\n",
    "        df_iter = df.iterrows()\n",
    "        for index, document in df_iter:\n",
    "            yield {\n",
    "                    \"_index\": indice, \n",
    "                    \"_id\": f\"{ 'Calificacion-' + str(document['usuarios.siteID']) + '-' + str(document['usuarios.tablero13.fechaCalificacion']) + '-' +str(random.randrange(10000))}\",\n",
    "                    \"_source\": filterKeys(document),\n",
    "                }\n",
    "    salida = helpers.bulk(es, doc_generator(mintic_calificaciones))\n",
    "    print(\"Fecha: \", now,\"- Total calificaciones insertadas en indice principal:\",salida[0])\n",
    "except:\n",
    "    print(\"Fecha: \", now,\"- No se insertaron totales de calificaciones en indice principal\")"
   ]
  },
  {
   "cell_type": "markdown",
   "metadata": {},
   "source": [
    "### Guardando fecha para control de ejecución"
   ]
  },
  {
   "cell_type": "markdown",
   "metadata": {},
   "source": [
    "* Se actualiza la fecha de control. Si el calculo supera la fecha hora actual, se asocia esta ultima."
   ]
  },
  {
   "cell_type": "code",
   "execution_count": 24,
   "metadata": {},
   "outputs": [
    {
     "name": "stdout",
     "output_type": "stream",
     "text": [
      "actualizada fecha control de ejecucion: 2021-09-12 21:20:00\n"
     ]
    }
   ],
   "source": [
    "fecha_ejecucion = (datetime.strptime(fecha_max_mintic, '%Y-%m-%d %H:%M:%S')+timedelta(minutes=50)).strftime(\"%Y-%m-%d %H:%M:%S\")\n",
    "if fecha_ejecucion > str(now.strftime('%Y-%m-%d %H:%M:%S'))[0:15] + '0:00':\n",
    "    fecha_ejecucion = str(now.strftime('%Y-%m-%d %H:%M:%S'))[0:15] + '0:00'\n",
    "response = es.index(\n",
    "        index = indice_control,\n",
    "        id = 'jerarquia-tablero13',\n",
    "        body = { 'jerarquia-tablero13': 'jerarquia-tablero13','tablero13.fechaControl' : fecha_ejecucion}\n",
    ")\n",
    "print(\"actualizada fecha control de ejecucion:\",fecha_ejecucion)"
   ]
  }
 ],
 "metadata": {
  "kernelspec": {
   "display_name": "Python 3",
   "language": "python",
   "name": "python3"
  },
  "language_info": {
   "codemirror_mode": {
    "name": "ipython",
    "version": 3
   },
   "file_extension": ".py",
   "mimetype": "text/x-python",
   "name": "python",
   "nbconvert_exporter": "python",
   "pygments_lexer": "ipython3",
   "version": "3.8.5"
  }
 },
 "nbformat": 4,
 "nbformat_minor": 2
}
