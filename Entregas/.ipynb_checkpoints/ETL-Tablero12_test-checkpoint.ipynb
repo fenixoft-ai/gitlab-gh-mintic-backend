{
 "cells": [
  {
   "cell_type": "markdown",
   "metadata": {},
   "source": [
    "### ¿Qué hace este script?\n",
    "\n",
    "#### Para cada AP:\n",
    "* usuarios.usuariosConectados(corresponde al total de conexiones), usuarios.sesiones_Usuarios (Corresponde al total de usuarios)\n",
    "* Información detallada de los dispositivos conectados en el rango de fecha procesado: usuarios.dispositivo.mac, usuarios.dispositivo.tipo, usuarios.dispositivo.marca, usuarios.dispositivo.tecnologia, usuarios.dispositivo.sisOperativo.\n",
    "\n",
    "#### Para cada sitio: \n",
    "* Totales por características de dispositivos: usuarios.sistemaOperativoUsuarios, usuarios.tipoDispositivoUsuarios, usuarios.marcaTerminal, usuarios.tecnologiaTerminal, usuarios.totales.dispositivos (Este ultimo guarda el total)\n",
    "* usuarios.usoServicioInternetSitio es la suma en Gb consumido discriminado por usuarios.detallesTecnologiasTerminales (Bandas 2.4 o 5 GHz)\n",
    "* usuarios.conteoDispositivos el cual indica el total de dispositivos conectados (Es lo mismo que total de conexiones)\n",
    "* usuarios.usuariosNuevos (Esta tenía antes Nuevos y Recurrentes, pero ahora solo tiene Nuevos por solicitud de BI)\n",
    "* usuarios.totales.usuariosNuevos, tiene el total de usuarios nuevos (el script por el momento solo totaliza nuevos siempre y cuando no se corra historicos)"
   ]
  },
  {
   "cell_type": "code",
   "execution_count": 37,
   "metadata": {},
   "outputs": [],
   "source": [
    "from elasticsearch import Elasticsearch, helpers\n",
    "from ssl import create_default_context\n",
    "import pandas as pd\n",
    "import numpy as np\n",
    "from datetime import datetime, timedelta\n",
    "import parametros\n",
    "import re\n",
    "import random\n",
    "import time"
   ]
  },
  {
   "cell_type": "markdown",
   "metadata": {},
   "source": [
    "## Conectando a ElasticSearch"
   ]
  },
  {
   "cell_type": "markdown",
   "metadata": {},
   "source": [
    "La ultima línea se utiliza para garantizar la ejecución de la consulta\n",
    "* timeout es el tiempo para cada ejecución\n",
    "* max_retries el número de intentos si la conexión falla\n",
    "* retry_on_timeout para activar los reitentos"
   ]
  },
  {
   "cell_type": "code",
   "execution_count": 38,
   "metadata": {},
   "outputs": [],
   "source": [
    "context = create_default_context(cafile=parametros.cafile)\n",
    "es = Elasticsearch(\n",
    "    parametros.servidor,\n",
    "    http_auth=(parametros.usuario_EC, parametros.password_EC),\n",
    "    scheme=\"https\",\n",
    "    port=parametros.puerto,\n",
    "    ssl_context=context,\n",
    "    timeout=60, max_retries=3, retry_on_timeout=True\n",
    ")"
   ]
  },
  {
   "cell_type": "markdown",
   "metadata": {},
   "source": [
    "### Calculando fechas para la ejecución"
   ]
  },
  {
   "cell_type": "markdown",
   "metadata": {},
   "source": [
    "* Se calculan las fechas para asociar al nombre del indice\n",
    "* fecha_hoy es usada para concatenar al nombre del indice principal previa inserción"
   ]
  },
  {
   "cell_type": "code",
   "execution_count": 39,
   "metadata": {},
   "outputs": [],
   "source": [
    "now = datetime.now()\n",
    "fecha_hoy = str(now.strftime(\"%Y.%m.%d\"))"
   ]
  },
  {
   "cell_type": "markdown",
   "metadata": {},
   "source": [
    "### nombre de indice donde se insertará"
   ]
  },
  {
   "cell_type": "code",
   "execution_count": 40,
   "metadata": {},
   "outputs": [],
   "source": [
    "indice = parametros.usuarios_tablero12_index\n",
    "indice_control = parametros.tableros_mintic_control"
   ]
  },
  {
   "cell_type": "markdown",
   "metadata": {},
   "source": [
    "### Funcion para construir JSON compatible con ElasticSearch"
   ]
  },
  {
   "cell_type": "code",
   "execution_count": 41,
   "metadata": {},
   "outputs": [],
   "source": [
    "def filterKeys(document):\n",
    "    return {key: document[key] for key in use_these_keys }"
   ]
  },
  {
   "cell_type": "markdown",
   "metadata": {},
   "source": [
    "### Trae la ultima fecha para control de ejecución"
   ]
  },
  {
   "cell_type": "markdown",
   "metadata": {},
   "source": [
    "Cuando en el rango de tiempo de la ejecución, no se insertan nuevos valores, las fecha maxima en indice mintic no aumenta, por tanto se usa esta fecha de control para garantizar que incremente el bucle de ejecución"
   ]
  },
  {
   "cell_type": "code",
   "execution_count": 42,
   "metadata": {},
   "outputs": [
    {
     "name": "stdout",
     "output_type": "stream",
     "text": [
      "ultima fecha para control de ejecucion: 2021-06-03 00:00:00\n"
     ]
    }
   ],
   "source": [
    "total_docs = 1\n",
    "try:\n",
    "    response = es.search(\n",
    "        index= indice_control,\n",
    "        body={\n",
    "               \"_source\": ['usuarios.fechaControl'],\n",
    "              \"query\": {\n",
    "                \"bool\": {\n",
    "                  \"filter\": [\n",
    "                  {\n",
    "                    \"exists\": {\n",
    "                      \"field\":\"jerarquia-tablero12\"\n",
    "                    }\n",
    "                  }\n",
    "                  ]\n",
    "                }\n",
    "              }\n",
    "        },\n",
    "        size=total_docs\n",
    "    )\n",
    "    #print(es.info())\n",
    "    elastic_docs = response[\"hits\"][\"hits\"]\n",
    "    fields = {}\n",
    "    for num, doc in enumerate(elastic_docs):\n",
    "        fecha_ejecucion = doc[\"_source\"]['usuarios.fechaControl']\n",
    "except:\n",
    "    fecha_ejecucion = '2021-05-01 00:00:00'\n",
    "if response[\"hits\"][\"hits\"] == []:\n",
    "    fecha_ejecucion = '2021-05-01 00:00:00'\n",
    "print(\"ultima fecha para control de ejecucion:\",fecha_ejecucion)"
   ]
  },
  {
   "cell_type": "markdown",
   "metadata": {},
   "source": [
    "### leyendo indice semilla-inventario"
   ]
  },
  {
   "cell_type": "markdown",
   "metadata": {},
   "source": [
    "En el script que ingesta semilla, trae la información de los centros de conexión administrados. Para el indice principal se requiere:\n",
    "* site_id como llave del centro de conexión.\n",
    "* Datos geográficos (Departamento, municipio, centro poblado, sede, energía, latitud, longitud,COD_ISO, id_Beneficiario)."
   ]
  },
  {
   "cell_type": "code",
   "execution_count": 43,
   "metadata": {},
   "outputs": [],
   "source": [
    "t1=time.time()\n",
    "total_docs = 10000\n",
    "try:\n",
    "    response = es.search(\n",
    "        index= parametros.semilla_inventario_index,\n",
    "        body={\n",
    "               \"_source\": ['site_id','nombre_municipio', 'nombre_departamento', 'nombre_centro_pob', 'nombreSede' \n",
    "                           , 'energiadesc', 'latitud', 'longitud', 'COD_ISO','id_Beneficiario']\n",
    "        },\n",
    "        size=total_docs\n",
    "    )\n",
    "    #print(es.info())\n",
    "    elastic_docs = response[\"hits\"][\"hits\"]\n",
    "    \n",
    "    datos_semilla = pd.DataFrame([x[\"_source\"] for x in elastic_docs])\n",
    "    datos_semilla['site_id'] = datos_semilla['site_id'].str.strip()\n",
    "except:\n",
    "    exit()\n",
    "    \n",
    "t2=time.time()"
   ]
  },
  {
   "cell_type": "markdown",
   "metadata": {},
   "source": [
    "### Cambiando nombre de campos y generando location"
   ]
  },
  {
   "cell_type": "markdown",
   "metadata": {},
   "source": [
    "* Se valida latitud y longitud. Luego se calcula campo location<br>\n",
    "* Se renombran los campos de semilla"
   ]
  },
  {
   "cell_type": "code",
   "execution_count": 44,
   "metadata": {},
   "outputs": [],
   "source": [
    "def get_location(x,y='lat'):\n",
    "    patron = re.compile('^(\\-?\\d+(\\.\\d+)?),\\s*(\\-?\\d+(\\.\\d+)?)$') #patrÃ³n que debe cumplir\n",
    "    if (not patron.match(x) is None) and (str(x)!=''):\n",
    "        return x.replace(',','.')\n",
    "    else:\n",
    "        #CÃ³digo a ejecutar si las coordenadas no son vÃ¡lidas\n",
    "        return '4.596389' if y=='lat' else '-74.074639'\n",
    "    \n",
    "datos_semilla['latitud'] = datos_semilla['latitud'].apply(lambda x:get_location(x,'lat'))\n",
    "datos_semilla['longitud'] = datos_semilla['longitud'].apply(lambda x:get_location(x,'lon'))\n",
    "datos_semilla['latitud'] = datos_semilla['latitud'].apply(get_location)\n",
    "datos_semilla['longitud'] = datos_semilla['longitud'].apply(get_location)\n",
    "datos_semilla = datos_semilla.drop(datos_semilla[(datos_semilla[\"longitud\"]=='a') | (datos_semilla[\"latitud\"]=='a')].index)\n",
    "datos_semilla['usuarios.location'] = datos_semilla['latitud'] + ',' + datos_semilla['longitud']\n",
    "datos_semilla['usuarios.location']=datos_semilla['usuarios.location'].str.replace('a,a','')\n",
    "datos_semilla.drop(columns=['latitud','longitud'],inplace=True)"
   ]
  },
  {
   "cell_type": "code",
   "execution_count": 45,
   "metadata": {},
   "outputs": [],
   "source": [
    "datos_semilla = datos_semilla.rename(columns={'lugar_cod' : 'usuarios.centroDigitalUsuarios'\n",
    "                                            , 'nombre_municipio': 'usuarios.nombreMunicipio'\n",
    "                                            , 'nombre_departamento' : 'usuarios.nombreDepartamento'\n",
    "                                            , 'nombre_centro_pob': 'usuarios.localidad'\n",
    "                                            , 'nombreSede' : 'usuarios.nomCentroDigital'\n",
    "                                            , 'energiadesc' : 'usuarios.sistemaEnergia'\n",
    "                                            , 'COD_ISO' : 'usuarios.codISO'\n",
    "                                            , 'id_Beneficiario' : 'usuarios.idBeneficiario'})"
   ]
  },
  {
   "cell_type": "markdown",
   "metadata": {},
   "source": [
    "Se descartan los registros que tengan la latitud y longitud vacía o no valida"
   ]
  },
  {
   "cell_type": "code",
   "execution_count": 46,
   "metadata": {},
   "outputs": [],
   "source": [
    "datos_semilla = datos_semilla.drop(datos_semilla[(datos_semilla[\"usuarios.location\"]=='')].index)"
   ]
  },
  {
   "cell_type": "markdown",
   "metadata": {},
   "source": [
    "### leyendo indice cambium-devicedevices"
   ]
  },
  {
   "cell_type": "markdown",
   "metadata": {},
   "source": [
    "De esta formas se asocia las MAC de dispositivos de red INDOOR y OUTDOOR\n",
    "* site_id para cruzar con las misma llave de semilla.\n",
    "* datos del dispositivo: mac, status, ip.\n",
    "* ap_group para identificar si la conexión es indoor/outdoor"
   ]
  },
  {
   "cell_type": "code",
   "execution_count": 47,
   "metadata": {},
   "outputs": [],
   "source": [
    "t1=time.time()\n",
    "total_docs = 30000\n",
    "try:\n",
    "    response = es.search(\n",
    "        index= parametros.cambium_d_d_index,\n",
    "        body={\n",
    "                    \"_source\": [\"site_id\",\"mac\",\"status\",\"ip\",\"ap_group\"]\n",
    "                  , \"query\": {\n",
    "                    \"match_all\": {}\n",
    "                  }\n",
    "        },\n",
    "        size=total_docs\n",
    "    )\n",
    "    #print(es.info())\n",
    "    elastic_docs = response[\"hits\"][\"hits\"]\n",
    "\n",
    "    datos_dev = pd.DataFrame([x[\"_source\"] for x in elastic_docs])\n",
    "    datos_dev['site_id'] = datos_dev['site_id'].str.strip()\n",
    "    \n",
    "except:\n",
    "    exit()\n",
    "    \n",
    "t2=time.time()"
   ]
  },
  {
   "cell_type": "markdown",
   "metadata": {},
   "source": [
    "Se descartan registros con site_id vacios ya que no cruzarán en el merge y se limpian los NaN del dataframe."
   ]
  },
  {
   "cell_type": "code",
   "execution_count": 48,
   "metadata": {},
   "outputs": [],
   "source": [
    "datos_dev.dropna(subset=['site_id'], inplace=True)\n",
    "datos_dev.fillna('', inplace=True)\n",
    "datos_dev = datos_dev.drop(datos_dev[(datos_dev['site_id']=='')].index)"
   ]
  },
  {
   "cell_type": "code",
   "execution_count": 49,
   "metadata": {},
   "outputs": [],
   "source": [
    "datos_dev['ap_group'] = datos_dev['ap_group'].str.split(\"-\", n = 1, expand = True)[0]\n",
    "datos_dev['ap_group'] = datos_dev['ap_group'].str.split(\"_\", n = 1, expand = True)[0]\n",
    "datos_dev['ap_group'] = datos_dev['ap_group'].str.split(\".\", n = 1, expand = True)[0]\n",
    "datos_dev = datos_dev.drop(datos_dev[(datos_dev['ap_group']=='')].index)"
   ]
  },
  {
   "cell_type": "markdown",
   "metadata": {},
   "source": [
    "Se toman solo los datos unicos con mac."
   ]
  },
  {
   "cell_type": "code",
   "execution_count": 50,
   "metadata": {},
   "outputs": [],
   "source": [
    "datos_dev = datos_dev.drop_duplicates('mac')"
   ]
  },
  {
   "cell_type": "markdown",
   "metadata": {},
   "source": [
    "Se cambia el nombre a la mac del dispositivo de red para no confundir con la de dispositivos de usuario "
   ]
  },
  {
   "cell_type": "code",
   "execution_count": 51,
   "metadata": {},
   "outputs": [],
   "source": [
    "datos_dev= datos_dev.rename(columns={'mac' : 'usuarios.macRed','ap_group' : 'usuarios.apGroup'})"
   ]
  },
  {
   "cell_type": "markdown",
   "metadata": {},
   "source": [
    "### Lectura de datos ohmyfi-detalleconexiones"
   ]
  },
  {
   "cell_type": "markdown",
   "metadata": {},
   "source": [
    "Los datos que se toman son:\n",
    "* fechahora (de cada conexión). fecha_control es lo mismo pero con el intervalo de 10 minutos\n",
    "* Información del centro: lugar, lugar_cod.\n",
    "* Información del dispositivo de usuario: mac_usuario, dispositivo, sistema_operativo.\n",
    "* Información de usuario: tipodoc y documento"
   ]
  },
  {
   "cell_type": "code",
   "execution_count": 52,
   "metadata": {},
   "outputs": [],
   "source": [
    "def trae_conexiones(fecha_ini,fecha_fin):\n",
    "    total_docs = 5000000\n",
    "    response = es.search(\n",
    "        index= parametros.ohmyfi_d_c_index,\n",
    "        body={\n",
    "                \"_source\": [\"fechahora\",\"fecha_control\",\"lugar\",\"lugar_cod\",\"mac_usuario\", \"dispositivo\"\n",
    "                            ,\"sistema_operativo\",'tipodoc','documento']\n",
    "                , \"query\": {\n",
    "                  \"range\": {\n",
    "                    \"fechahora\": {\n",
    "                      \"gte\": fecha_ini,\n",
    "                      \"lt\": fecha_fin\n",
    "                    }\n",
    "                  }\n",
    "              }\n",
    "        },\n",
    "        size=total_docs\n",
    "    )\n",
    "    elastic_docs = response[\"hits\"][\"hits\"]\n",
    "\n",
    "    return pd.DataFrame([x[\"_source\"] for x in elastic_docs])"
   ]
  },
  {
   "cell_type": "markdown",
   "metadata": {},
   "source": [
    "### Lanzando ejecución de consulta"
   ]
  },
  {
   "cell_type": "markdown",
   "metadata": {},
   "source": [
    "* Se calcula rango en base a la fecha de control. Para este caso es de 1 dia\n",
    "* Se ejecuta la función de consulta con el rango de fechas.\n",
    "* Si no retorna datos se incrementa el rango y se ejecuta nuevamente. Este proceso se repite hasta conseguir datos o hasta que el rango de ejecución alcance la fecha y hora actual.\n"
   ]
  },
  {
   "cell_type": "code",
   "execution_count": 53,
   "metadata": {},
   "outputs": [],
   "source": [
    "fecha_max_mintic = fecha_ejecucion\n",
    "fecha_tope_mintic = (datetime.strptime(fecha_max_mintic, '%Y-%m-%d %H:%M:%S')+timedelta(days=1)-timedelta(seconds=1)).strftime(\"%Y-%m-%d %H:%M:%S\")\n",
    "datos_det_conex = trae_conexiones(fecha_max_mintic,fecha_tope_mintic)\n",
    "\n",
    "if datos_det_conex is None or datos_det_conex.empty:\n",
    "       while (datos_det_conex is None or datos_det_conex.empty) and ((datetime.strptime(fecha_max_mintic[0:10], '%Y-%m-%d').strftime(\"%Y-%m-%d %H:%M:%S\")) < str(now.strftime(\"%Y-%m-%d %H:%M:%S\"))):\n",
    "            fecha_max_mintic = (datetime.strptime(fecha_max_mintic, '%Y-%m-%d %H:%M:%S')+timedelta(days=1)).strftime(\"%Y-%m-%d %H:%M:%S\")\n",
    "            fecha_tope_mintic = (datetime.strptime(fecha_tope_mintic, '%Y-%m-%d %H:%M:%S')+timedelta(days=1)).strftime(\"%Y-%m-%d %H:%M:%S\")\n",
    "            datos_det_conex = trae_conexiones(fecha_max_mintic,fecha_tope_mintic)\n",
    "else:\n",
    "    pass"
   ]
  },
  {
   "cell_type": "code",
   "execution_count": 54,
   "metadata": {},
   "outputs": [],
   "source": [
    "datos_det_conex['lugar_cod'] = datos_det_conex['lugar_cod'].str.strip()"
   ]
  },
  {
   "cell_type": "code",
   "execution_count": 55,
   "metadata": {},
   "outputs": [],
   "source": [
    "datos_det_conex['fecha'] = datos_det_conex['fecha_control'].str.split(\" \", n = 1, expand = True)[0]\n",
    "datos_det_conex.drop_duplicates(subset=[\"fecha_control\",\"lugar\",\"lugar_cod\",\"mac_usuario\", \"dispositivo\",\"sistema_operativo\",'tipodoc','documento'],inplace=True)"
   ]
  },
  {
   "cell_type": "code",
   "execution_count": 56,
   "metadata": {},
   "outputs": [],
   "source": [
    "datos_det_conex = datos_det_conex.rename(columns={'lugar_cod' : 'site_id'\n",
    "                                                             ,'fechahora':'usuarios.fechaConexionUsuarios'\n",
    "                                                             ,'dispositivo': 'usuarios.tipoDispositivoUsuarios'\n",
    "                                                             , 'sistema_operativo': 'usuarios.sistemaOperativoUsuarios'})"
   ]
  },
  {
   "cell_type": "markdown",
   "metadata": {},
   "source": [
    "Se corrigen valores errados de site_id en detalle conexiones"
   ]
  },
  {
   "cell_type": "code",
   "execution_count": 57,
   "metadata": {},
   "outputs": [],
   "source": [
    "datos_det_conex['site_id'] = datos_det_conex['site_id'].str.replace(\"_\",\"-\")"
   ]
  },
  {
   "cell_type": "markdown",
   "metadata": {},
   "source": [
    "### Se lee el indice all-cambium-device-client"
   ]
  },
  {
   "cell_type": "markdown",
   "metadata": {},
   "source": [
    "* En este indice se guarda el detalle de los radio por fecha<br>\n",
    "* Detalle conexiones cruza con device clients. Con estos se calculan los totales por marca"
   ]
  },
  {
   "cell_type": "code",
   "execution_count": 58,
   "metadata": {},
   "outputs": [],
   "source": [
    "def traeRadio(fecha_max2,fecha_tope2):\n",
    "    total_docs = 100000\n",
    "    response = es.search(\n",
    "        index= 'all-'+parametros.cambium_d_c_index,\n",
    "        body={\n",
    "            \"_source\": ['mac', 'ap_mac', 'radio.band', 'radio.rx_bytes', 'radio.tx_bytes','fecha_control']\n",
    "              , \"query\": {\n",
    "                  \"range\": {\n",
    "                    \"fecha_control\": {\n",
    "                      \"gte\": fecha_max_mintic2,\n",
    "                      \"lt\": fecha_tope_mintic2\n",
    "                      #\"gte\": \"2021-05-26 15:00:00\",\n",
    "                      #\"lt\": \"2021-05-26 15:10:00\"  \n",
    "                    }\n",
    "                  }\n",
    "              }\n",
    "        },\n",
    "        size=total_docs\n",
    "    )\n",
    "    elastic_docs = response[\"hits\"][\"hits\"]\n",
    "\n",
    "    return pd.DataFrame([x[\"_source\"] for x in elastic_docs])\n",
    "    "
   ]
  },
  {
   "cell_type": "code",
   "execution_count": 59,
   "metadata": {},
   "outputs": [],
   "source": [
    "fecha_max_mintic2 = fecha_ejecucion\n",
    "\n",
    "fecha_tope_mintic2 = (datetime.strptime(fecha_max_mintic2, '%Y-%m-%d %H:%M:%S')+timedelta(days=1)-timedelta(seconds=1)).strftime(\"%Y-%m-%d %H:%M:%S\")\n",
    "datos_performance = traeRadio(fecha_max_mintic2,fecha_tope_mintic2)\n",
    "\n",
    "\n",
    "if datos_performance is None or datos_performance.empty:\n",
    "    while (datos_performance is None or datos_performance.empty) and ((datetime.strptime(fecha_max_mintic[0:10], '%Y-%m-%d').strftime(\"%Y-%m-%d %H:%M:%S\")) < str(now.strftime(\"%Y-%m-%d %H:%M:%S\"))):\n",
    "        fecha_max_mintic2 = (datetime.strptime(fecha_max_mintic2, '%Y-%m-%d %H:%M:%S')+timedelta(days=1)).strftime(\"%Y-%m-%d %H:%M:%S\")\n",
    "        fecha_tope_mintic2 = (datetime.strptime(fecha_tope_mintic2, '%Y-%m-%d %H:%M:%S')+timedelta(days=1)).strftime(\"%Y-%m-%d %H:%M:%S\")\n",
    "        datos_performance = traeRadio(fecha_max_mintic2,fecha_tope_mintic2)\n",
    "else:\n",
    "    pass"
   ]
  },
  {
   "cell_type": "markdown",
   "metadata": {},
   "source": [
    "Se cruza all-cambium-device-clients con cambium-devicedevices para obtener el site_id"
   ]
  },
  {
   "cell_type": "code",
   "execution_count": 60,
   "metadata": {},
   "outputs": [],
   "source": [
    "datos_performance = datos_performance.rename(columns={'ap_mac':'usuarios.macRed', 'mac':'mac_usuario'})"
   ]
  },
  {
   "cell_type": "code",
   "execution_count": 61,
   "metadata": {},
   "outputs": [],
   "source": [
    "usuarios_conectados_cambium = pd.merge(datos_performance,datos_dev, on ='usuarios.macRed', how='inner')"
   ]
  },
  {
   "cell_type": "markdown",
   "metadata": {},
   "source": [
    "### Se lee la información de cambium device client"
   ]
  },
  {
   "cell_type": "markdown",
   "metadata": {},
   "source": [
    "Esta lectura se usa para identificar: \n",
    "* Lecturas de consumo por dispositivo (radios rx y tx)\n",
    "* Fabricante del dispositivo\n",
    "* la mac del ap que luego se usa para identificar el ap group(Indoor/Outdoor)"
   ]
  },
  {
   "cell_type": "code",
   "execution_count": 62,
   "metadata": {},
   "outputs": [],
   "source": [
    "t1=time.time()\n",
    "\n",
    "total_docs = 30000000\n",
    "response = es.search(\n",
    "    index= parametros.cambium_d_c_index,\n",
    "    body={\n",
    "            \"_source\": [\"mac\",\"ap_mac\", 'manufacturer','name',\"radio.band\",'radio.rx_bytes','radio.tx_bytes'],\n",
    "              \"query\": {\n",
    "                \"bool\": {\n",
    "                  \"filter\": [\n",
    "                  {\n",
    "                    \"exists\": {\n",
    "                      \"field\":\"mac\"\n",
    "                    }\n",
    "                  }\n",
    "                  ]\n",
    "                }\n",
    "              }\n",
    "    },\n",
    "    size=total_docs\n",
    ")\n",
    "elastic_docs = response[\"hits\"][\"hits\"]\n",
    "\n",
    "datos_dev_clients = pd.DataFrame([x[\"_source\"] for x in elastic_docs])\n",
    "\n",
    "t2=time.time()"
   ]
  },
  {
   "cell_type": "code",
   "execution_count": 63,
   "metadata": {},
   "outputs": [
    {
     "data": {
      "text/plain": [
       "1.0731735110282898"
      ]
     },
     "execution_count": 63,
     "metadata": {},
     "output_type": "execute_result"
    }
   ],
   "source": [
    "(t2-t1)/60"
   ]
  },
  {
   "cell_type": "code",
   "execution_count": 64,
   "metadata": {},
   "outputs": [],
   "source": [
    "df1=datos_dev_clients"
   ]
  },
  {
   "cell_type": "code",
   "execution_count": 65,
   "metadata": {},
   "outputs": [
    {
     "data": {
      "text/plain": [
       "1.0731735110282898"
      ]
     },
     "execution_count": 65,
     "metadata": {},
     "output_type": "execute_result"
    }
   ],
   "source": [
    "(t2-t1)/60"
   ]
  },
  {
   "cell_type": "code",
   "execution_count": 66,
   "metadata": {},
   "outputs": [],
   "source": [
    "df2=datos_dev_clients"
   ]
  },
  {
   "cell_type": "code",
   "execution_count": 67,
   "metadata": {},
   "outputs": [
    {
     "data": {
      "text/plain": [
       "True"
      ]
     },
     "execution_count": 67,
     "metadata": {},
     "output_type": "execute_result"
    }
   ],
   "source": [
    "df1.equals(df2)"
   ]
  },
  {
   "cell_type": "code",
   "execution_count": 68,
   "metadata": {},
   "outputs": [
    {
     "data": {
      "text/plain": [
       "(394341, 7)"
      ]
     },
     "execution_count": 68,
     "metadata": {},
     "output_type": "execute_result"
    }
   ],
   "source": [
    "df1.shape"
   ]
  },
  {
   "cell_type": "code",
   "execution_count": 69,
   "metadata": {},
   "outputs": [
    {
     "data": {
      "text/plain": [
       "(394341, 7)"
      ]
     },
     "execution_count": 69,
     "metadata": {},
     "output_type": "execute_result"
    }
   ],
   "source": [
    "df2.shape"
   ]
  },
  {
   "cell_type": "markdown",
   "metadata": {},
   "source": [
    "### Asociando datos de usuarios"
   ]
  },
  {
   "cell_type": "markdown",
   "metadata": {},
   "source": [
    "Se realiza lectura por día procesado\n",
    "lugar_cod se usa para cruzar con semilla por site_id\n",
    "creado es la fecha de creación del usuario\n",
    "tipodoc y documento corresponden a datos del usuario. Se usa para calcular totales"
   ]
  },
  {
   "cell_type": "code",
   "execution_count": 70,
   "metadata": {},
   "outputs": [],
   "source": [
    "def traeRegistros(fecha_max,fecha_tope):\n",
    "    total_docs = 10000\n",
    "    response = es.search(\n",
    "        index= parametros.ohmyfi_d_u_index,\n",
    "        body={\n",
    "                \"_source\": ['lugar_cod','tipodoc', 'documento', 'creado']\n",
    "                  , \"query\": {\n",
    "                  \"range\": {\n",
    "                    \"creado\": {\n",
    "                      \"gte\": fecha_max.split(' ')[0]+' 00:00:00',\n",
    "                      \"lt\": fecha_tope.split(' ')[0]+' 23:59:59'\n",
    "                      #\"gte\": \"2021-06-01 00:00:00\",\n",
    "                      #\"lt\": \"2021-06-01 23:59:59\"  \n",
    "                    }\n",
    "                  }\n",
    "              }\n",
    "        },\n",
    "        size=total_docs\n",
    "    )\n",
    "    #print(es.info())\n",
    "    elastic_docs = response[\"hits\"][\"hits\"]\n",
    "    fields = {}\n",
    "    for num, doc in enumerate(elastic_docs):\n",
    "        source_data = doc[\"_source\"]\n",
    "        for key, val in source_data.items():\n",
    "            try:\n",
    "                fields[key] = np.append(fields[key], val)\n",
    "            except KeyError:\n",
    "                fields[key] = np.array([val])\n",
    "    return pd.DataFrame(dict([ (k,pd.Series(v)) for k,v in fields.items() ]))"
   ]
  },
  {
   "cell_type": "markdown",
   "metadata": {},
   "source": [
    "### Se realiza consulta de datos"
   ]
  },
  {
   "cell_type": "markdown",
   "metadata": {},
   "source": [
    "* Se calcula rango en base a la fecha de control. Para este caso es de un día.\n",
    "* Se ejecuta la función de consulta con el rango de fechas.\n",
    "* Si no retorna datos se incrementa el rango y se ejecuta nuevamente. Este proceso se repite hasta conseguir datos o hasta que el rango de ejecución alcance la fecha actual."
   ]
  },
  {
   "cell_type": "code",
   "execution_count": 71,
   "metadata": {},
   "outputs": [],
   "source": [
    "fecha_max_mintic = fecha_ejecucion\n",
    "fecha_tope_mintic = (datetime.strptime(fecha_max_mintic, '%Y-%m-%d %H:%M:%S')+timedelta(days=1)-timedelta(seconds=1)).strftime(\"%Y-%m-%d %H:%M:%S\")\n",
    "datos_registro = traeRegistros(fecha_max_mintic,fecha_tope_mintic)\n",
    "\n",
    "if datos_registro is None or datos_registro.empty:\n",
    "    while (datos_registro is None or datos_registro.empty) and ((datetime.strptime(fecha_max_mintic[0:10], '%Y-%m-%d').strftime(\"%Y-%m-%d %H:%M:%S\")) < str(now.strftime(\"%Y-%m-%d %H:%M:%S\"))):\n",
    "        fecha_max_mintic = (datetime.strptime(fecha_max_mintic, '%Y-%m-%d %H:%M:%S')+timedelta(days=1)).strftime(\"%Y-%m-%d %H:%M:%S\")\n",
    "        fecha_tope_mintic = (datetime.strptime(fecha_tope_mintic, '%Y-%m-%d %H:%M:%S')+timedelta(days=1)).strftime(\"%Y-%m-%d %H:%M:%S\")\n",
    "        datos_speed = traeRegistros(fecha_max_mintic,fecha_tope_mintic)\n",
    "else:\n",
    "    pass"
   ]
  },
  {
   "cell_type": "markdown",
   "metadata": {},
   "source": [
    "## Calculando total de registros"
   ]
  },
  {
   "cell_type": "markdown",
   "metadata": {},
   "source": [
    "la lista use_these_keys se usa para referenciar cuales campos del dataframe irán al indice final. si los datos no se declaran en este, no se insertarán"
   ]
  },
  {
   "cell_type": "markdown",
   "metadata": {},
   "source": [
    "Para cada sitio y fecha, se cuentan los documentos de usuario. Esto resulta en el total de usuarios registrados para esa fecha"
   ]
  },
  {
   "cell_type": "code",
   "execution_count": 72,
   "metadata": {},
   "outputs": [],
   "source": [
    "use_these_keys = ['usuarios.fecha'\n",
    "                  , 'usuarios.siteID'\n",
    "                  , 'usuarios.usuariosRegistrados'\n",
    "                  , 'usuarios.anyo'\n",
    "                  , 'usuarios.mes'\n",
    "                  , 'usuarios.dia'\n",
    "                  , 'usuarios.nomCentroDigital'\n",
    "                  , 'usuarios.codISO'\n",
    "                  , 'usuarios.localidad'\n",
    "                  , 'usuarios.nombreDepartamento'\n",
    "                  , 'usuarios.sistemaEnergia'\n",
    "                  , 'usuarios.nombreMunicipio'\n",
    "                  , 'usuarios.idBeneficiario'\n",
    "                  , 'usuarios.location'\n",
    "                  , 'nombreDepartamento'\n",
    "                    , 'nombreMunicipio'\n",
    "                    , 'idBeneficiario'\n",
    "                    , 'fecha'\n",
    "                    , 'anyo'\n",
    "                    , 'mes'\n",
    "                    , 'dia'\n",
    "                  , '@timestamp']\n",
    "\n",
    "def doc_generator(df):\n",
    "    df_iter = df.iterrows()\n",
    "    for index, document in df_iter:\n",
    "        yield {\n",
    "                \"_index\": indice, \n",
    "                \"_id\": f\"{'UsuRegistro-'+ str(document['usuarios.siteID']) + '-' + str(document['usuarios.fecha'])+ str(random.randrange(1000))}\",\n",
    "                \"_source\": filterKeys(document)\n",
    "            }"
   ]
  },
  {
   "cell_type": "code",
   "execution_count": 73,
   "metadata": {},
   "outputs": [],
   "source": [
    "def invalid_values(df, values=['']):\n",
    "    return df.loc[df['usuarios.location'].isin(values)]"
   ]
  },
  {
   "cell_type": "code",
   "execution_count": 74,
   "metadata": {},
   "outputs": [
    {
     "name": "stdout",
     "output_type": "stream",
     "text": [
      "Fecha:  2021-09-27 00:26:40.747547 - Datos Registro usuarios en indice principal: 366\n"
     ]
    }
   ],
   "source": [
    "try:\n",
    "    \n",
    "    datos_registro['creado'] = datos_registro['creado'].str[0:10]\n",
    "    datos_registro['tipo_mas_doc'] = datos_registro['tipodoc'] + datos_registro['documento']\n",
    "    datos_registro= datos_registro.rename(columns={'creado' : 'usuarios.fecha'\n",
    "                                                  ,'lugar_cod':'site_id'})\n",
    "    datos_registro = datos_registro[[\"usuarios.fecha\",\"site_id\",\"tipo_mas_doc\"]].groupby([\"usuarios.fecha\",\"site_id\"]).agg(['count']).reset_index()\n",
    "    datos_registro.columns = datos_registro.columns.droplevel(1)\n",
    "    datos_registro= datos_registro.rename(columns={'tipo_mas_doc' : 'usuarios.usuariosRegistrados'})\n",
    "    datos_registro[\"usuarios.anyo\"] = datos_registro[\"usuarios.fecha\"].str[0:4]\n",
    "    datos_registro[\"usuarios.mes\"] = datos_registro[\"usuarios.fecha\"].str[5:7]\n",
    "    datos_registro[\"usuarios.dia\"] = datos_registro[\"usuarios.fecha\"].str[8:10]\n",
    "    datos_registro = pd.merge(datos_registro,  datos_semilla, on='site_id', how='inner')\n",
    "    datos_registro.rename(columns={'site_id': 'usuarios.siteID'\n",
    "                               }, inplace=True)\n",
    "    \n",
    "    datos_registro['nombreDepartamento'] = datos_registro['usuarios.nombreDepartamento']\n",
    "    datos_registro['nombreMunicipio'] = datos_registro['usuarios.nombreMunicipio']\n",
    "    datos_registro['idBeneficiario'] = datos_registro['usuarios.idBeneficiario']\n",
    "    datos_registro['fecha'] = datos_registro['usuarios.fecha']\n",
    "    datos_registro['anyo'] = datos_registro['usuarios.anyo']\n",
    "    datos_registro['mes'] = datos_registro['usuarios.mes']\n",
    "    datos_registro['dia'] = datos_registro['usuarios.dia']\n",
    "    \n",
    "    datos_registro['@timestamp'] = now.isoformat()\n",
    "    \n",
    "    salida = helpers.bulk(es, doc_generator(datos_registro))\n",
    "    print(\"Fecha: \", now,\"- Datos Registro usuarios en indice principal:\",salida[0])\n",
    "except Exception as e:\n",
    "    print(\"Fecha: \", now,\"- Nada que insertar en indice principal\",e)"
   ]
  },
  {
   "cell_type": "markdown",
   "metadata": {},
   "source": [
    "* se cruza por mac_usuario\n",
    "* Los merge usan left para evitar perdida de datos en cruce con cambium-devicedevices. Aquellos datos que no cruzan se les marca como no identificados. En condiciones ideales, no debería presentarse ausencia de información\n",
    "* Solo se toma lo que cruza con INNER\n",
    "* se cambia el fabricante [Local MAC]\n",
    "* se cambian lo nulos"
   ]
  },
  {
   "cell_type": "code",
   "execution_count": 75,
   "metadata": {},
   "outputs": [],
   "source": [
    "try:\n",
    "    datos_dev_clients.drop_duplicates(inplace=True)\n",
    "    datos_dev_clients = datos_dev_clients.rename(columns={'ap_mac' : 'usuarios.macRed','mac' : 'mac_usuario'})\n",
    "    datos_dev_clients['manufacturer'] = datos_dev_clients['manufacturer'].replace(\"[Local MAC]\", \"No identificado\")\n",
    "    datos_dev_clients.fillna({'manufacturer':'No identificado'},inplace=True)\n",
    "    datos_det_conex = pd.merge(datos_det_conex,  datos_dev_clients, on='mac_usuario',how='left')\n",
    "    datos_det_conex = pd.merge(datos_det_conex,datos_dev[['usuarios.macRed','usuarios.apGroup']],on='usuarios.macRed', how='left')\n",
    "    datos_det_conex.fillna({'usuarios.tipoDispositivoUsuarios':'No identificado'\n",
    "                       ,'usuarios.sistemaOperativoUsuarios':'No identificado'\n",
    "                       ,'manufacturer':'No identificado'\n",
    "                       ,'radio.band':'No identificado'\n",
    "                       },inplace=True)\n",
    "except:\n",
    "    pass"
   ]
  },
  {
   "cell_type": "markdown",
   "metadata": {},
   "source": [
    "## Calculando totales por dispositivos"
   ]
  },
  {
   "cell_type": "markdown",
   "metadata": {},
   "source": [
    "la lista use_these_keys se usa para referenciar cuales campos del dataframe irán al indice final. si los datos no se declaran en este, no se insertarán"
   ]
  },
  {
   "cell_type": "code",
   "execution_count": 42,
   "metadata": {},
   "outputs": [],
   "source": [
    "use_these_keys = ['usuarios.siteID'\n",
    "                  , 'usuarios.nomCentroDigital'\n",
    "                  , 'usuarios.codISO'\n",
    "                  , 'usuarios.localidad'\n",
    "                  , 'usuarios.nombreDepartamento'\n",
    "                  , 'usuarios.sistemaEnergia'\n",
    "                  , 'usuarios.nombreMunicipio'\n",
    "                  , 'usuarios.idBeneficiario'\n",
    "                  , 'usuarios.location'\n",
    "                  , 'usuarios.sistemaOperativoUsuarios'\n",
    "                  , 'usuarios.tipoDispositivoUsuarios'\n",
    "                  , 'usuarios.marcaTerminal'\n",
    "                  , 'usuarios.tecnologiaTerminal'\n",
    "                  , 'usuarios.totales.dispositivos'\n",
    "                  , 'usuarios.fechaControl'\n",
    "                  , 'usuarios.fecha'\n",
    "                  , 'usuarios.anyo'\n",
    "                  , 'usuarios.mes'\n",
    "                  , 'usuarios.dia'\n",
    "                  , 'usuarios.hora'\n",
    "                  , 'usuarios.minuto'\n",
    "                  , 'nombreDepartamento'\n",
    "                  , 'nombreMunicipio'\n",
    "                  , 'idBeneficiario'\n",
    "                  , 'fecha'\n",
    "                  , 'anyo'\n",
    "                  , 'mes'\n",
    "                  , 'dia'\n",
    "                  , '@timestamp']\n",
    "\n",
    "def doc_generator(df):\n",
    "    df_iter = df.iterrows()\n",
    "    for index, document in df_iter:\n",
    "        yield {\n",
    "                \"_index\": indice, \n",
    "                \"_id\": f\"{ 'totalesDispositivos-' + str(document['usuarios.siteID']) + '-' + str(document['usuarios.fechaControl'])+ str(random.randrange(1000))}\",\n",
    "                \"_source\": filterKeys(document),\n",
    "            }"
   ]
  },
  {
   "cell_type": "markdown",
   "metadata": {},
   "source": [
    "Se agrupa por:\n",
    "* Sistema operativo\n",
    "* Tipo dispositivo\n",
    "* Marca del terminal\n",
    "* Tecnología terminal\n",
    "\n",
    "Se cuentan las mac de usuario para cada site id y fecha control"
   ]
  },
  {
   "cell_type": "code",
   "execution_count": 76,
   "metadata": {},
   "outputs": [
    {
     "name": "stdout",
     "output_type": "stream",
     "text": [
      "Fecha:  2021-09-27 00:26:40.747547 - No se insertaron totales por dispositivos en indice principal\n"
     ]
    }
   ],
   "source": [
    "try:\n",
    "    totalesDispositivos = datos_det_conex[[\"fecha_control\",\"site_id\"\n",
    "                                 ,\"usuarios.sistemaOperativoUsuarios\"\n",
    "                                 ,'usuarios.tipoDispositivoUsuarios'\n",
    "                                 ,'manufacturer'\n",
    "                                 ,'radio.band'\n",
    "                                 ,\"mac_usuario\"]].groupby([\"fecha_control\",\"site_id\"\n",
    "                                                     ,\"usuarios.sistemaOperativoUsuarios\"\n",
    "                                                     ,'usuarios.tipoDispositivoUsuarios'\n",
    "                                                     ,'manufacturer'\n",
    "                                                     ,'radio.band']).agg(['count']).reset_index()\n",
    "    ##si se quiere contar ocurrencias unicas se debe usar en lugar del agg: ['mac_usuario'].nunique().reset_index()\n",
    "    totalesDispositivos.columns = totalesDispositivos.columns.droplevel(1)\n",
    "    totalesDispositivos= totalesDispositivos.rename(columns={'mac_usuario' : 'usuarios.totales.dispositivos'\n",
    "                                                            ,'fecha_control' : 'usuarios.fechaControl'\n",
    "                                                            ,'manufacturer' : 'usuarios.marcaTerminal'\n",
    "                                                            ,'radio.band' : 'usuarios.tecnologiaTerminal'\n",
    "                                                            })\n",
    "    totalesDispositivos = pd.merge(totalesDispositivos, datos_semilla, on='site_id',how='inner')\n",
    "    totalesDispositivos[\"usuarios.fecha\"] = totalesDispositivos[\"usuarios.fechaControl\"].str.split(\" \", n = 1, expand = True)[0]\n",
    "    totalesDispositivos[\"usuarios.anyo\"] = totalesDispositivos[\"usuarios.fecha\"].str[0:4]\n",
    "    totalesDispositivos[\"usuarios.mes\"] = totalesDispositivos[\"usuarios.fecha\"].str[5:7]\n",
    "    totalesDispositivos[\"usuarios.dia\"] = totalesDispositivos[\"usuarios.fecha\"].str[8:10]\n",
    "    totalesDispositivos[\"usuarios.hora\"] = totalesDispositivos[\"usuarios.fechaControl\"].str.split(\" \", n = 1, expand = True)[1].str.split(\":\", n = 2, expand = True)[0]\n",
    "    totalesDispositivos[\"usuarios.minuto\"] = totalesDispositivos[\"usuarios.fechaControl\"].str.split(\" \", n = 1, expand = True)[1].str.split(\":\", n = 2, expand = True)[1]\n",
    "    totalesDispositivos= totalesDispositivos.rename(columns={'site_id' : 'usuarios.siteID'})\n",
    "    totalesDispositivos['nombreDepartamento'] = totalesDispositivos['usuarios.nombreDepartamento']\n",
    "    totalesDispositivos['nombreMunicipio'] = totalesDispositivos['usuarios.nombreMunicipio']\n",
    "    totalesDispositivos['idBeneficiario'] = totalesDispositivos['usuarios.idBeneficiario']\n",
    "    totalesDispositivos['fecha'] = totalesDispositivos['usuarios.fecha']\n",
    "    totalesDispositivos['anyo'] = totalesDispositivos['usuarios.anyo']\n",
    "    totalesDispositivos['mes'] = totalesDispositivos['usuarios.mes']\n",
    "    totalesDispositivos['dia'] = totalesDispositivos['usuarios.dia']\n",
    "    totalesDispositivos['@timestamp'] = now.isoformat()\n",
    "    salida = helpers.bulk(es, doc_generator(totalesDispositivos))\n",
    "    print(\"Fecha: \", now,\"- Totales por Dispositivos insertados en indice principal:\",salida[0])\n",
    "except:\n",
    "    print(\"Fecha: \", now,\"- No se insertaron totales por dispositivos en indice principal\")"
   ]
  },
  {
   "cell_type": "markdown",
   "metadata": {},
   "source": [
    "# Insertando usuarios conectados al indice principal"
   ]
  },
  {
   "cell_type": "markdown",
   "metadata": {},
   "source": [
    "* Se calcula cantidad de sesiones por sitio con detalle conexiones, pero contando la ocurrencia unica de documento\n",
    "* Se calcula la cantidad de conexiones. Se agrupa por el campo usuarios.macRed(el cual corresponde al AP) y fecha_control. Se cuenta las ocurrencias de mac_usuario. Luego al cruzar con flujo principal, si el dato es nulo para ese momento, se debe colocar en 0."
   ]
  },
  {
   "cell_type": "code",
   "execution_count": 77,
   "metadata": {},
   "outputs": [],
   "source": [
    "datos_logins = datos_det_conex[['fecha_control', 'site_id', 'documento','usuarios.macRed']].groupby([\"fecha_control\",\"site_id\",\"usuarios.macRed\"])['documento'].nunique().reset_index()\n",
    "datos_logins= datos_logins.rename(columns={'documento' : 'usuarios.sesiones_Usuarios'})"
   ]
  },
  {
   "cell_type": "code",
   "execution_count": 80,
   "metadata": {},
   "outputs": [],
   "source": [
    " try:\n",
    "    datos_logins = datos_det_conex[['fecha_control', 'site_id', 'documento']].groupby([\"fecha_control\",\"site_id\"])['documento'].nunique().reset_index()\n",
    "    datos_logins= datos_logins.rename(columns={'documento' : 'usuarios.sesiones_Usuarios'})\n",
    "\n",
    "    ###################################################################################################\n",
    "\n",
    "\n",
    "    #Se trae usuarios conectados desde cambium devices clients \n",
    "    usuariosConectados = usuarios_conectados_cambium[[\"fecha_control\",\"site_id\",\"mac_usuario\"]].groupby([\"fecha_control\",\"site_id\"]).agg(['count']).reset_index()\n",
    "    usuariosConectados.columns = usuariosConectados.columns.droplevel(1)\n",
    "    usuariosConectados= usuariosConectados.rename(columns={'mac_usuario' : 'usuarios.usuariosConectados'})\n",
    "\n",
    "\n",
    "    ###################################################################################################\n",
    "\n",
    "    usuariosConectados = pd.merge(usuariosConectados,datos_logins,  how='outer')\n",
    "    usuariosConectados.fillna({'usuarios.usuariosConectados': 0\n",
    "                               ,'usuarios.sesiones_Usuarios' : 0 },inplace=True)\n",
    "    usuariosConectados['usuarios.usuariosConectados'] = usuariosConectados['usuarios.usuariosConectados'].astype(int)\n",
    "    usuariosConectados['usuarios.sesiones_Usuarios'] = usuariosConectados['usuarios.sesiones_Usuarios'].astype(int)\n",
    "    usuariosConectados = pd.merge(datos_semilla,  usuariosConectados, on=['site_id'], how='inner')\n",
    "    usuariosConectados = usuariosConectados.rename(columns={'fecha_control':'usuarios.fechaControl'\n",
    "                                                           ,'site_id' : 'usuarios.siteID'})\n",
    "\n",
    "\n",
    "    try:\n",
    "        usuariosConectados[\"usuarios.fecha\"] = usuariosConectados[\"usuarios.fechaControl\"].str[0:10]\n",
    "    except:\n",
    "        usuariosConectados[\"usuarios.fecha\"] = \"\"\n",
    "\n",
    "    try:\n",
    "        usuariosConectados[\"usuarios.anyo\"] = usuariosConectados[\"usuarios.fecha\"].str[0:4]\n",
    "    except:\n",
    "        usuariosConectados[\"usuarios.anyo\"] = \"\"\n",
    "\n",
    "    try:\n",
    "        usuariosConectados[\"usuarios.mes\"] = usuariosConectados[\"usuarios.fecha\"].str[5:7]\n",
    "    except:\n",
    "        usuariosConectados[\"usuarios.mes\"] = \"\"\n",
    "\n",
    "    try:\n",
    "        usuariosConectados[\"usuarios.dia\"] = usuariosConectados[\"usuarios.fecha\"].str[8:10]\n",
    "    except:\n",
    "        usuariosConectados[\"usuarios.dia\"] = \"\"\n",
    "\n",
    "\n",
    "\n",
    "    usuariosConectados['nombreDepartamento'] = usuariosConectados['usuarios.nombreDepartamento']\n",
    "    usuariosConectados['nombreMunicipio'] = usuariosConectados['usuarios.nombreMunicipio']\n",
    "    usuariosConectados['idBeneficiario'] = usuariosConectados['usuarios.idBeneficiario']\n",
    "    usuariosConectados['fecha'] = usuariosConectados['usuarios.fecha']\n",
    "    usuariosConectados['anyo'] = usuariosConectados['usuarios.anyo']\n",
    "    usuariosConectados['mes'] = usuariosConectados['usuarios.mes']\n",
    "    usuariosConectados['dia'] = usuariosConectados['usuarios.dia']\n",
    "    usuariosConectados['@timestamp'] = now.isoformat()\n",
    "\n",
    "except:\n",
    "    print(\"Fecha: \", now,\"- Ningun usuario conectado para insertar en indice principal:\")"
   ]
  },
  {
   "cell_type": "markdown",
   "metadata": {},
   "source": [
    "la lista use_these_keys se usa para referenciar cuales campos del dataframe irán al indice final. si los datos no se declaran en este, no se insertarán"
   ]
  },
  {
   "cell_type": "code",
   "execution_count": 81,
   "metadata": {},
   "outputs": [
    {
     "name": "stdout",
     "output_type": "stream",
     "text": [
      "Fecha:  2021-09-27 00:26:40.747547 - Usuarios conectados insertados en indice principal: 26455\n"
     ]
    }
   ],
   "source": [
    "try:\n",
    "    use_these_keys = ['usuarios.nomCentroDigital'\n",
    "                  , 'usuarios.codISO'\n",
    "                  , 'usuarios.idBeneficiario'    \n",
    "                  , 'usuarios.localidad'\n",
    "                  , 'usuarios.siteID'\n",
    "                  , 'usuarios.nombreDepartamento'\n",
    "                  , 'usuarios.sistemaEnergia'\n",
    "                  , 'usuarios.nombreMunicipio'\n",
    "                  , 'usuarios.location'\n",
    "                  , 'usuarios.fechaControl'\n",
    "                  #, 'usuarios.macRed'\n",
    "                  #, 'usuarios.apGroup'    \n",
    "                  , 'usuarios.usuariosConectados'\n",
    "                  , 'usuarios.sesiones_Usuarios'\n",
    "                  , 'usuarios.fecha'\n",
    "                  , 'usuarios.anyo'\n",
    "                  , 'usuarios.mes'\n",
    "                  , 'usuarios.dia'\n",
    "                  #, 'usuarios.hora'\n",
    "                  #, 'usuarios.minuto'\n",
    "                  , 'nombreDepartamento'\n",
    "                  , 'nombreMunicipio'\n",
    "                  , 'idBeneficiario'\n",
    "                  , 'fecha'\n",
    "                  , 'anyo'\n",
    "                  , 'mes'\n",
    "                  , 'dia'\n",
    "                  , '@timestamp']\n",
    "    usuariosConectados['@timestamp'] = now.isoformat()\n",
    "    def doc_generator(df):\n",
    "        df_iter = df.iterrows()\n",
    "        for index, document in df_iter:\n",
    "            yield {\n",
    "                    \"_index\": indice, \n",
    "                    \"_id\": f\"{ str(document['usuarios.siteID']) + '-' + str(document['usuarios.fechaControl']) + '-' +str(random.randrange(10000000))}\",\n",
    "                    \"_source\": filterKeys(document),\n",
    "                }\n",
    "    salida = helpers.bulk(es, doc_generator(usuariosConectados))\n",
    "    print(\"Fecha: \", now,\"- Usuarios conectados insertados en indice principal:\",salida[0])\n",
    "except:\n",
    "    print(\"Fecha: \", now,\"- Ningun usuario conectado para insertar en indice principal:\")"
   ]
  },
  {
   "cell_type": "markdown",
   "metadata": {},
   "source": [
    "### Se lee el indice all-cambium-device-client"
   ]
  },
  {
   "cell_type": "markdown",
   "metadata": {},
   "source": [
    "* En este indice se guarda el detalle de los radio por fecha<br>\n",
    "* Detalle conexiones cruza con device clients. Con estos se calculan los totales por marca"
   ]
  },
  {
   "cell_type": "code",
   "execution_count": 82,
   "metadata": {},
   "outputs": [],
   "source": [
    "total_docs = 100000\n",
    "response = es.search(\n",
    "    index= 'all-'+parametros.cambium_d_c_index,\n",
    "    body={\n",
    "        \"_source\": ['mac', 'ap_mac', 'radio.band', 'radio.rx_bytes', 'radio.tx_bytes','fecha_control']\n",
    "          , \"query\": {\n",
    "              \"range\": {\n",
    "                \"fecha_control\": {\n",
    "                  \"gte\": fecha_max_mintic,\n",
    "                  \"lt\": fecha_tope_mintic\n",
    "                  #\"gte\": \"2021-05-26 15:00:00\",\n",
    "                  #\"lt\": \"2021-05-26 15:10:00\"  \n",
    "                }\n",
    "              }\n",
    "          }\n",
    "    },\n",
    "    size=total_docs\n",
    ")\n",
    "elastic_docs = response[\"hits\"][\"hits\"]\n",
    "\n",
    "datos_radio = pd.DataFrame([x[\"_source\"] for x in elastic_docs])"
   ]
  },
  {
   "cell_type": "markdown",
   "metadata": {},
   "source": [
    "# Uso servicio de internet insertados en indice principal"
   ]
  },
  {
   "cell_type": "markdown",
   "metadata": {},
   "source": [
    "la lista use_these_keys se usa para referenciar cuales campos del dataframe irán al indice final. si los datos no se declaran en este, no se insertarán"
   ]
  },
  {
   "cell_type": "code",
   "execution_count": 83,
   "metadata": {},
   "outputs": [],
   "source": [
    "use_these_keys = ['usuarios.macRed'\n",
    "                  , 'usuarios.usoServicioInternetSitio'\n",
    "                  , 'usuarios.detallesTecnologiasTerminales'\n",
    "                  , 'usuarios.nomCentroDigital'\n",
    "                  , 'usuarios.codISO'\n",
    "                  , 'usuarios.idBeneficiario'\n",
    "                  , 'usuarios.localidad'\n",
    "                  , 'usuarios.siteID'\n",
    "                  , 'usuarios.nombreDepartamento'\n",
    "                  , 'usuarios.sistemaEnergia'\n",
    "                  , 'usuarios.nombreMunicipio'\n",
    "                  , 'usuarios.location'\n",
    "                  , 'usuarios.fechaControl'\n",
    "                  , 'usuarios.fecha'\n",
    "                  , 'usuarios.anyo'\n",
    "                  , 'usuarios.mes'\n",
    "                  , 'usuarios.dia'\n",
    "                  , 'usuarios.hora'\n",
    "                  , 'usuarios.minuto'\n",
    "                  , 'usuarios.apGroup'\n",
    "                  , 'nombreDepartamento'\n",
    "                    , 'nombreMunicipio'\n",
    "                    , 'idBeneficiario'\n",
    "                    , 'fecha'\n",
    "                    , 'anyo'\n",
    "                    , 'mes'\n",
    "                    , 'dia'\n",
    "                  , '@timestamp']\n",
    "\n",
    "def doc_generator(df):\n",
    "    df_iter = df.iterrows()\n",
    "    for index, document in df_iter:\n",
    "        yield {\n",
    "                \"_index\": indice, \n",
    "                \"_id\": f\"{ 'UsoServicio-' + str(document['usuarios.macRed']) + '-' + str(document['usuarios.detallesTecnologiasTerminales']) + '-' + str(document['usuarios.fechaControl'])+ str(random.randrange(1000))}\",\n",
    "                \"_source\": filterKeys(document),\n",
    "            }"
   ]
  },
  {
   "cell_type": "markdown",
   "metadata": {},
   "source": [
    "* se toma el maximo radio para cada mac de dispositivo final<br>\n",
    "* se suma agrupando por ap_mac, banda y fecha<br>\n",
    "* El resultado es un total para cada banda, fecha y ap_mac"
   ]
  },
  {
   "cell_type": "code",
   "execution_count": 84,
   "metadata": {},
   "outputs": [
    {
     "name": "stdout",
     "output_type": "stream",
     "text": [
      "Fecha:  2021-09-27 00:26:40.747547 - Uso servicio y tecnologÃ­a terminal insertados en indice principal: 10395\n"
     ]
    }
   ],
   "source": [
    "try:    \n",
    "    datos_radio['fecha_control'] = datos_radio['fecha_control'].str[0:15]+'0:00'\n",
    "    datos_radio = datos_radio.groupby(['ap_mac', 'fecha_control', 'mac', 'radio.band']).agg(['max']).reset_index()\n",
    "    datos_radio.columns = datos_radio.columns.droplevel(1)\n",
    "    datos_radio = datos_radio[['ap_mac', 'fecha_control', 'radio.band', 'radio.rx_bytes',\n",
    "           'radio.tx_bytes']].groupby(['ap_mac', 'fecha_control', 'radio.band']).agg(['sum']).reset_index()\n",
    "    datos_radio.columns = datos_radio.columns.droplevel(1)\n",
    "    datos_radio = datos_radio.rename(columns={'ap_mac' : 'usuarios.macRed'})\n",
    "    usoServicioInternetSitio = pd.merge(datos_radio,datos_dev[['usuarios.apGroup', 'site_id', 'usuarios.macRed']], on ='usuarios.macRed', how='inner')\n",
    "    usoServicioInternetSitio.fillna({'radio.rx_bytes':0,'radio.tx_bytes':0},inplace=True)\n",
    "    usoServicioInternetSitio.fillna({'usuarios.macRed':'','radio.band':'No identificado','usuarios.apGroup':'No identificado'},inplace=True)\n",
    "    usoServicioInternetSitio['usuarios.usoServicioInternetSitio'] = usoServicioInternetSitio['radio.rx_bytes'].astype(float) + usoServicioInternetSitio['radio.tx_bytes'].astype(float)\n",
    "    usoServicioInternetSitio = pd.merge(usoServicioInternetSitio,datos_semilla, on ='site_id', how='inner')\n",
    "    usoServicioInternetSitio= usoServicioInternetSitio.rename(columns={'site_id' : 'usuarios.siteID'\n",
    "                                                                    ,'radio.band' : 'usuarios.detallesTecnologiasTerminales'\n",
    "                                                                    , 'fecha_control' : 'usuarios.fechaControl'})\n",
    "    usoServicioInternetSitio['usuarios.usoServicioInternetSitio'] = round((usoServicioInternetSitio['usuarios.usoServicioInternetSitio']/float(1<<30)),6) \n",
    "    usoServicioInternetSitio[\"usuarios.fecha\"] = usoServicioInternetSitio[\"usuarios.fechaControl\"].str.split(\" \", n = 1, expand = True)[0]\n",
    "    usoServicioInternetSitio[\"usuarios.anyo\"] = usoServicioInternetSitio[\"usuarios.fecha\"].str[0:4]\n",
    "    usoServicioInternetSitio[\"usuarios.mes\"] = usoServicioInternetSitio[\"usuarios.fecha\"].str[5:7]\n",
    "    usoServicioInternetSitio[\"usuarios.dia\"] = usoServicioInternetSitio[\"usuarios.fecha\"].str[8:10]\n",
    "    usoServicioInternetSitio[\"usuarios.hora\"] = usoServicioInternetSitio[\"usuarios.fechaControl\"].str.split(\" \", n = 1, expand = True)[1].str.split(\":\", n = 2, expand = True)[0]\n",
    "    usoServicioInternetSitio[\"usuarios.minuto\"] = usoServicioInternetSitio[\"usuarios.fechaControl\"].str.split(\" \", n = 1, expand = True)[1].str.split(\":\", n = 2, expand = True)[1]\n",
    "    \n",
    "    usoServicioInternetSitio['nombreDepartamento'] = usoServicioInternetSitio['usuarios.nombreDepartamento']\n",
    "    usoServicioInternetSitio['nombreMunicipio'] = usoServicioInternetSitio['usuarios.nombreMunicipio']\n",
    "    usoServicioInternetSitio['idBeneficiario'] = usoServicioInternetSitio['usuarios.idBeneficiario']\n",
    "    usoServicioInternetSitio['fecha'] = usoServicioInternetSitio['usuarios.fecha']\n",
    "    usoServicioInternetSitio['anyo'] = usoServicioInternetSitio['usuarios.anyo']\n",
    "    usoServicioInternetSitio['mes'] = usoServicioInternetSitio['usuarios.mes']\n",
    "    usoServicioInternetSitio['dia'] = usoServicioInternetSitio['usuarios.dia']\n",
    "    \n",
    "    usoServicioInternetSitio['@timestamp'] = now.isoformat()\n",
    "    salida = helpers.bulk(es, doc_generator(usoServicioInternetSitio))\n",
    "    print(\"Fecha: \", now,\"- Uso servicio y tecnologÃ­a terminal insertados en indice principal:\",salida[0])\n",
    "except:\n",
    "    print(\"Fecha: \", now,\"- Ningun uservicio/tecnologÃ­a terminal conectado para insertar en indice principal\")"
   ]
  },
  {
   "cell_type": "markdown",
   "metadata": {},
   "source": [
    "## Totalizar la cantidad de dispositivos por usuario"
   ]
  },
  {
   "cell_type": "markdown",
   "metadata": {},
   "source": [
    "* Para contabilizar los dispositivos por usuario, se debe contar la cantidad de ocurrencias de mac_usuario dentro de detalle de conexiones, agrupando por tipo documento y documento. \n",
    "* Aún cuando la mayoria de las fuentes referencia a mac_usuario, no se debe confundir a la hora de agrupar con los datos reales de usuario que en este caso serían el documento de identidad como campo de identificación"
   ]
  },
  {
   "cell_type": "code",
   "execution_count": 85,
   "metadata": {},
   "outputs": [],
   "source": [
    "try:\n",
    "    conteoDispositivos = datos_det_conex[['fecha_control','site_id', 'documento', 'tipodoc','fecha']].groupby(['fecha_control','site_id', 'documento', 'tipodoc']).agg(['count']).reset_index()\n",
    "    conteoDispositivos.columns = conteoDispositivos.columns.droplevel(1)\n",
    "    conteoDispositivos= conteoDispositivos.rename(columns={'fecha' : 'conteo'})\n",
    "    conteoDispositivos = conteoDispositivos[['fecha_control','site_id','conteo']].groupby(['fecha_control','site_id']).agg(['sum']).reset_index()\n",
    "    conteoDispositivos.columns = conteoDispositivos.columns.droplevel(1)\n",
    "    conteoDispositivos= conteoDispositivos.rename(columns={'conteo' : 'usuarios.conteoDispositivos'})\n",
    "    conteoDispositivos = pd.merge(conteoDispositivos, datos_semilla, on='site_id', how='inner')\n",
    "    conteoDispositivos = conteoDispositivos.rename(columns={'fecha_control' : 'usuarios.fechaControl'})\n",
    "    conteoDispositivos[\"usuarios.fecha\"] = conteoDispositivos[\"usuarios.fechaControl\"].str.split(\" \", n = 1, expand = True)[0]\n",
    "    conteoDispositivos[\"usuarios.anyo\"] = conteoDispositivos[\"usuarios.fecha\"].str[0:4]\n",
    "    conteoDispositivos[\"usuarios.mes\"] = conteoDispositivos[\"usuarios.fecha\"].str[5:7]\n",
    "    conteoDispositivos[\"usuarios.dia\"] = conteoDispositivos[\"usuarios.fecha\"].str[8:10]\n",
    "    conteoDispositivos[\"usuarios.hora\"] = conteoDispositivos[\"usuarios.fechaControl\"].str.split(\" \", n = 1, expand = True)[1].str.split(\":\", n = 2, expand = True)[0]\n",
    "    conteoDispositivos[\"usuarios.minuto\"] = conteoDispositivos[\"usuarios.fechaControl\"].str.split(\" \", n = 1, expand = True)[1].str.split(\":\", n = 2, expand = True)[1]\n",
    "    conteoDispositivos= conteoDispositivos.rename(columns={'site_id' : 'usuarios.siteID'})\n",
    "    \n",
    "    conteoDispositivos['nombreDepartamento'] = conteoDispositivos['usuarios.nombreDepartamento']\n",
    "    conteoDispositivos['nombreMunicipio'] = conteoDispositivos['usuarios.nombreMunicipio']\n",
    "    conteoDispositivos['idBeneficiario'] = conteoDispositivos['usuarios.idBeneficiario']\n",
    "    conteoDispositivos['fecha'] = conteoDispositivos['usuarios.fecha']\n",
    "    conteoDispositivos['anyo'] = conteoDispositivos['usuarios.anyo']\n",
    "    conteoDispositivos['mes'] = conteoDispositivos['usuarios.mes']\n",
    "    conteoDispositivos['dia'] = conteoDispositivos['usuarios.dia']\n",
    "except:\n",
    "    pass"
   ]
  },
  {
   "cell_type": "markdown",
   "metadata": {},
   "source": [
    "# 4. Insertando promedio dispositivos en indice principal"
   ]
  },
  {
   "cell_type": "markdown",
   "metadata": {},
   "source": [
    "la lista use_these_keys se usa para referenciar cuales campos del dataframe irán al indice final. si los datos no se declaran en este, no se insertarán"
   ]
  },
  {
   "cell_type": "code",
   "execution_count": 86,
   "metadata": {},
   "outputs": [
    {
     "name": "stdout",
     "output_type": "stream",
     "text": [
      "Fecha:  2021-09-27 00:26:40.747547 - Promedios dispositivos Usuarios: 3073\n"
     ]
    }
   ],
   "source": [
    "try:\n",
    "    use_these_keys = ['usuarios.nomCentroDigital'\n",
    "                  , 'usuarios.codISO'\n",
    "                  , 'usuarios.idBeneficiario'    \n",
    "                  , 'usuarios.localidad'\n",
    "                  , 'usuarios.siteID'\n",
    "                  , 'usuarios.nombreDepartamento'\n",
    "                  , 'usuarios.sistemaEnergia'\n",
    "                  , 'usuarios.nombreMunicipio'\n",
    "                  , 'usuarios.location'\n",
    "                  , 'usuarios.conteoDispositivos'\n",
    "                  , 'usuarios.fechaControl'\n",
    "                  , 'usuarios.fecha'\n",
    "                  , 'usuarios.anyo'\n",
    "                  , 'usuarios.mes'\n",
    "                  , 'usuarios.dia'\n",
    "                  , 'usuarios.hora'\n",
    "                  , 'usuarios.minuto'\n",
    "                    , 'nombreDepartamento'\n",
    "                    , 'nombreMunicipio'\n",
    "                    , 'idBeneficiario'\n",
    "                    , 'fecha'\n",
    "                    , 'anyo'\n",
    "                    , 'mes'\n",
    "                    , 'dia'\n",
    "                  , '@timestamp']\n",
    "    conteoDispositivos['@timestamp'] = now.isoformat()\n",
    "    def doc_generator(df):\n",
    "        df_iter = df.iterrows()\n",
    "        for index, document in df_iter:\n",
    "            yield {\n",
    "                    \"_index\": indice, \n",
    "                    \"_id\": f\"{ 'PromedioDispositivos-' + str(document['usuarios.siteID']) + '-' + str(document['usuarios.fechaControl'])+str(random.randrange(1000))}\",\n",
    "                    \"_source\": filterKeys(document),\n",
    "                }\n",
    "    salida = helpers.bulk(es, doc_generator(conteoDispositivos))\n",
    "    print(\"Fecha: \", now,\"- Promedios dispositivos Usuarios:\",salida[0])\n",
    "except:\n",
    "    print(\"Fecha: \", now,\"- Ningun Promedios dispositivos Usuarios para insertar en indice principal\")"
   ]
  },
  {
   "cell_type": "markdown",
   "metadata": {},
   "source": [
    "# Marcando si usuario es nuevo o recurrente"
   ]
  },
  {
   "cell_type": "markdown",
   "metadata": {},
   "source": [
    "* Se toma del dataframe datos_det_conex y se cuenta las veces que cada mac_usuario aparece\n",
    "* Luego se suma con el historico de conexiones por usuario (indice intermedio ohmyfi-total-conexiones-historico)\n",
    "* marca como Nuevo(1 conexión). \n",
    "\n",
    "De este proceso se obtiene el campo:\n",
    "* usuarios.usuariosNuevos\n",
    "* usuarios.totales.usuariosNuevos"
   ]
  },
  {
   "cell_type": "code",
   "execution_count": 87,
   "metadata": {},
   "outputs": [],
   "source": [
    "try:\n",
    "    datos_recurrencia = datos_det_conex[[\"fecha\",\"tipodoc\",\"documento\"]].groupby([\"tipodoc\",\"documento\"]).agg(['count']).reset_index()\n",
    "    datos_recurrencia.columns = datos_recurrencia.columns.droplevel(1)\n",
    "    datos_recurrencia= datos_recurrencia.rename(columns={'fecha' : 'usuarios_recurrencia_aux'})\n",
    "    datos_recurrencia['tipodoc'] = datos_recurrencia['tipodoc'].replace('','No especificado')\n",
    "    datos_recurrencia['documento'] = datos_recurrencia['documento'].replace('','No especificado')\n",
    "except:\n",
    "    pass"
   ]
  },
  {
   "cell_type": "markdown",
   "metadata": {},
   "source": [
    "### Se lee historico"
   ]
  },
  {
   "cell_type": "markdown",
   "metadata": {},
   "source": [
    "Se lee ohmyfi-total-conexiones-historico, el cual es un indice creado a partir de los datos crudos. Este guarda la cantidad de conexiones realizadas por ese usuario. Para que la consulta funcione correctamente se debe colocar el filtro que usuarios_recurrencia exista."
   ]
  },
  {
   "cell_type": "code",
   "execution_count": 88,
   "metadata": {},
   "outputs": [],
   "source": [
    "try:\n",
    "    total_docs = 30000000\n",
    "    response = es.search(\n",
    "        index= parametros.ohmyfi_total_c_index,\n",
    "        body={\n",
    "              \"_source\": ['tipodoc', 'documento', 'usuarios_recurrencia'],\n",
    "              \"query\": {\n",
    "                \"bool\": {\n",
    "                  \"filter\": [\n",
    "                  {\n",
    "                    \"exists\": {\n",
    "                      \"field\":\"usuarios_recurrencia\"\n",
    "                    }\n",
    "                  }\n",
    "                  ]\n",
    "                }\n",
    "              }\n",
    "        },\n",
    "        size=total_docs\n",
    "    )\n",
    "    elastic_docs = response[\"hits\"][\"hits\"]\n",
    "    \n",
    "    ya_en_indice = pd.DataFrame([x[\"_source\"] for x in elastic_docs])\n",
    "    \n",
    "except:\n",
    "    ya_en_indice = pd.DataFrame(columns=['tipodoc', 'documento', 'usuarios_recurrencia'])"
   ]
  },
  {
   "cell_type": "code",
   "execution_count": 89,
   "metadata": {},
   "outputs": [],
   "source": [
    "if ya_en_indice is None or ya_en_indice.empty:\n",
    "    datos_recurrencia= datos_recurrencia.rename(columns={'usuarios_recurrencia_aux' : 'usuarios_recurrencia'})\n",
    "else:\n",
    "    datos_recurrencia = pd.merge(datos_recurrencia, ya_en_indice, on=['tipodoc', 'documento'],how='left')\n",
    "    datos_recurrencia.fillna({'usuarios_recurrencia':0},inplace=True)\n",
    "    datos_recurrencia['usuarios_recurrencia'] = datos_recurrencia['usuarios_recurrencia'] + datos_recurrencia['usuarios_recurrencia_aux']\n",
    "    datos_recurrencia['usuarios_recurrencia'] = [int(x) for x in datos_recurrencia['usuarios_recurrencia']]"
   ]
  },
  {
   "cell_type": "code",
   "execution_count": 90,
   "metadata": {},
   "outputs": [],
   "source": [
    "try:\n",
    "    aux_recurrencia = pd.merge(datos_recurrencia,datos_det_conex, on=['tipodoc','documento'],how='inner' )\n",
    "    aux_recurrencia = aux_recurrencia[(aux_recurrencia['usuarios_recurrencia']==1)]\n",
    "    aux_recurrencia.loc[aux_recurrencia['usuarios_recurrencia']==1,'usuarios.usuariosNuevos']='Nuevo'\n",
    "    #aux_recurrencia.loc[aux_recurrencia['usuarios_recurrencia']!=1,'usuarios.usuariosNuevos']='Recurrente'\n",
    "    aux_recurrencia = aux_recurrencia.rename(columns={'usuarios_recurrencia' :'usuarios.sesiones_Usuarios'})\n",
    "    aux_recurrencia = aux_recurrencia[[\"fecha_control\",\"site_id\",\"usuarios.usuariosNuevos\",'documento']].groupby([\"fecha_control\",\"site_id\",\"usuarios.usuariosNuevos\"])['documento'].nunique().reset_index()\n",
    "    aux_recurrencia= aux_recurrencia.rename(columns={'documento' : 'usuarios.totales.usuariosNuevos'})\n",
    "except:\n",
    "    pass"
   ]
  },
  {
   "cell_type": "code",
   "execution_count": 91,
   "metadata": {},
   "outputs": [],
   "source": [
    "try:\n",
    "    datos_recurrencia = pd.merge(datos_semilla,  aux_recurrencia, on='site_id', how='inner')\n",
    "    datos_recurrencia = datos_recurrencia.rename(columns={'fecha_control' : 'usuarios.fechaControl'})\n",
    "    datos_recurrencia[\"usuarios.fecha\"] = datos_recurrencia[\"usuarios.fechaControl\"].str.split(\" \", n = 1, expand = True)[0]\n",
    "    datos_recurrencia[\"usuarios.anyo\"] = datos_recurrencia[\"usuarios.fecha\"].str[0:4]\n",
    "    datos_recurrencia[\"usuarios.mes\"] = datos_recurrencia[\"usuarios.fecha\"].str[5:7]\n",
    "    datos_recurrencia[\"usuarios.dia\"] = datos_recurrencia[\"usuarios.fecha\"].str[8:10]\n",
    "    datos_recurrencia[\"usuarios.hora\"] = datos_recurrencia[\"usuarios.fechaControl\"].str.split(\" \", n = 1, expand = True)[1].str.split(\":\", n = 2, expand = True)[0]\n",
    "    datos_recurrencia[\"usuarios.minuto\"] = datos_recurrencia[\"usuarios.fechaControl\"].str.split(\" \", n = 1, expand = True)[1].str.split(\":\", n = 2, expand = True)[1]\n",
    "    datos_recurrencia= datos_recurrencia.rename(columns={'site_id' : 'usuarios.siteID'})\n",
    "    \n",
    "    datos_recurrencia['nombreDepartamento'] = datos_recurrencia['usuarios.nombreDepartamento']\n",
    "    datos_recurrencia['nombreMunicipio'] = datos_recurrencia['usuarios.nombreMunicipio']\n",
    "    datos_recurrencia['idBeneficiario'] = datos_recurrencia['usuarios.idBeneficiario']\n",
    "    datos_recurrencia['fecha'] = datos_recurrencia['usuarios.fecha']\n",
    "    datos_recurrencia['anyo'] = datos_recurrencia['usuarios.anyo']\n",
    "    datos_recurrencia['mes'] = datos_recurrencia['usuarios.mes']\n",
    "    datos_recurrencia['dia'] = datos_recurrencia['usuarios.dia']\n",
    "except:\n",
    "    pass"
   ]
  },
  {
   "cell_type": "markdown",
   "metadata": {},
   "source": [
    "# Insertando recurrencia de usuario en indice principal"
   ]
  },
  {
   "cell_type": "markdown",
   "metadata": {},
   "source": [
    "la lista use_these_keys se usa para referenciar cuales campos del dataframe irán al indice final. si los datos no se declaran en este, no se insertarán"
   ]
  },
  {
   "cell_type": "code",
   "execution_count": 92,
   "metadata": {},
   "outputs": [
    {
     "name": "stdout",
     "output_type": "stream",
     "text": [
      "Fecha:  2021-09-27 00:26:40.747547 - recurrencia de usuario a indice: 270\n"
     ]
    }
   ],
   "source": [
    "try:\n",
    "    use_these_keys = ['usuarios.nomCentroDigital'\n",
    "                      , 'usuarios.codISO'\n",
    "                      , 'usuarios.idBeneficiario'\n",
    "                      , 'usuarios.localidad'\n",
    "                      , 'usuarios.siteID'\n",
    "                      , 'usuarios.nombreDepartamento'\n",
    "                      , 'usuarios.sistemaEnergia'\n",
    "                      , 'usuarios.nombreMunicipio'\n",
    "                      , 'usuarios.location'\n",
    "                      , 'usuarios.usuariosNuevos'\n",
    "                      , 'usuarios.totales.usuariosNuevos'\n",
    "                      , 'usuarios.fechaControl'\n",
    "                      , 'usuarios.fecha'\n",
    "                      , 'usuarios.anyo'\n",
    "                      , 'usuarios.mes'\n",
    "                      , 'usuarios.dia'\n",
    "                      , 'usuarios.hora'\n",
    "                      , 'usuarios.minuto'\n",
    "                        , 'nombreDepartamento'\n",
    "                        , 'nombreMunicipio'\n",
    "                        , 'idBeneficiario'\n",
    "                        , 'fecha'\n",
    "                        , 'anyo'\n",
    "                        , 'mes'\n",
    "                        , 'dia'\n",
    "                      , '@timestamp']\n",
    "    datos_recurrencia['@timestamp'] = now.isoformat()\n",
    "    def doc_generator(df):\n",
    "        df_iter = df.iterrows()\n",
    "        for index, document in df_iter:\n",
    "            yield {\n",
    "                    \"_index\": indice, \n",
    "                    \"_id\": f\"{ 'Recurrencia-' + str(document['usuarios.siteID']) + '-' + str(document['usuarios.fechaControl'])+ str(random.randrange(1000))}\",\n",
    "                    \"_source\": filterKeys(document),\n",
    "                }\n",
    "    salida = helpers.bulk(es, doc_generator(datos_recurrencia))\n",
    "    print(\"Fecha: \", now,\"- recurrencia de usuario a indice:\",salida[0])\n",
    "except:\n",
    "    print(\"Fecha: \", now,\"- Ninguna recurrencia de usuario para insertar en indice principal\")"
   ]
  },
  {
   "cell_type": "markdown",
   "metadata": {},
   "source": [
    "## Insertando detalle MACs"
   ]
  },
  {
   "cell_type": "code",
   "execution_count": 93,
   "metadata": {},
   "outputs": [],
   "source": [
    "use_these_keys = ['usuarios.siteID'\n",
    "                  , 'usuarios.nomCentroDigital'\n",
    "                  , 'usuarios.codISO'\n",
    "                  , 'usuarios.localidad'\n",
    "                  , 'usuarios.nombreDepartamento'\n",
    "                  , 'usuarios.sistemaEnergia'\n",
    "                  , 'usuarios.nombreMunicipio'\n",
    "                  , 'usuarios.idBeneficiario'\n",
    "                  , 'usuarios.location'\n",
    "                  , 'usuarios.macRed'\n",
    "                  , 'usuarios.apGroup'\n",
    "                  , 'usuarios.dispositivo.mac'\n",
    "                  , 'usuarios.dispositivo.tipo'\n",
    "                  , 'usuarios.dispositivo.nombre'\n",
    "                  , 'usuarios.dispositivo.marca'\n",
    "                  , 'usuarios.dispositivo.tecnologia'\n",
    "                  , 'usuarios.dispositivo.sisOperativo'\n",
    "                  , 'usuarios.fechaControl'\n",
    "                  , 'usuarios.fecha'\n",
    "                  , 'usuarios.anyo'\n",
    "                  , 'usuarios.mes'\n",
    "                  , 'usuarios.dia'\n",
    "                  , 'usuarios.hora'\n",
    "                  , 'usuarios.minuto'\n",
    "                  , '@timestamp']\n",
    "def doc_generator_mac(df):\n",
    "    df_iter = df.iterrows()\n",
    "    for index, document in df_iter:\n",
    "        yield {\n",
    "                \"_index\": indice, \n",
    "                \"_id\": f\"{ 'detalleMAC-' + str(document['usuarios.siteID']) + '-' + str(document['usuarios.fechaControl']) + '-' + str(document['usuarios.dispositivo.mac']) + str(random.randrange(1000))  }\",\n",
    "                \"_source\": filterKeys(document),\n",
    "            }"
   ]
  },
  {
   "cell_type": "code",
   "execution_count": 94,
   "metadata": {},
   "outputs": [
    {
     "name": "stdout",
     "output_type": "stream",
     "text": [
      "Fecha:  2021-09-27 00:26:40.747547 - Detalle MACs a indice: 3378\n"
     ]
    }
   ],
   "source": [
    "try:\n",
    "    dispositivoUsuarios = datos_det_conex[['site_id','usuarios.macRed','usuarios.apGroup'\n",
    "                                ,'mac_usuario','fecha_control'\n",
    "                                ,'usuarios.tipoDispositivoUsuarios'\n",
    "                                ,'name','manufacturer','radio.band'\n",
    "                                ,'usuarios.sistemaOperativoUsuarios']].drop_duplicates(subset=['mac_usuario'])\n",
    "    dispositivoUsuarios.fillna({'usuarios.tipoDispositivoUsuarios':'No identificado'\n",
    "                               ,'name':'No identificado'\n",
    "                               ,'manufacturer':'No identificado'\n",
    "                               ,'radio.band':'No identificado'\n",
    "                               ,'usuarios.sistemaOperativoUsuarios':'No identificado'\n",
    "                               ,'usuarios.macRed':'No identificado'\n",
    "                               ,'usuarios.apGroup':'No identificado'\n",
    "                               },inplace=True)\n",
    "    dispositivoUsuarios = pd.merge(dispositivoUsuarios, datos_semilla, on='site_id',how='inner')\n",
    "    dispositivoUsuarios= dispositivoUsuarios.rename(columns={\n",
    "                                                     'site_id' : 'usuarios.siteID'\n",
    "                                                    ,'mac_usuario' : 'usuarios.dispositivo.mac'\n",
    "                                                    ,'usuarios.tipoDispositivoUsuarios' : 'usuarios.dispositivo.tipo'\n",
    "                                                    ,'name' : 'usuarios.dispositivo.nombre'\n",
    "                                                    ,'manufacturer' : 'usuarios.dispositivo.marca'\n",
    "                                                    ,'radio.band' : 'usuarios.dispositivo.tecnologia'\n",
    "                                                    ,'usuarios.sistemaOperativoUsuarios' : 'usuarios.dispositivo.sisOperativo'\n",
    "                                                    ,'fecha_control':'usuarios.fechaControl'\n",
    "                                                    })\n",
    "    dispositivoUsuarios[\"usuarios.fecha\"] = dispositivoUsuarios[\"usuarios.fechaControl\"].str.split(\" \", n = 1, expand = True)[0]\n",
    "    dispositivoUsuarios[\"usuarios.anyo\"] = dispositivoUsuarios[\"usuarios.fecha\"].str[0:4]\n",
    "    dispositivoUsuarios[\"usuarios.mes\"] = dispositivoUsuarios[\"usuarios.fecha\"].str[5:7]\n",
    "    dispositivoUsuarios[\"usuarios.dia\"] = dispositivoUsuarios[\"usuarios.fecha\"].str[8:10]\n",
    "    dispositivoUsuarios[\"usuarios.hora\"] = dispositivoUsuarios[\"usuarios.fechaControl\"].str.split(\" \", n = 1, expand = True)[1].str.split(\":\", n = 2, expand = True)[0]\n",
    "    dispositivoUsuarios[\"usuarios.minuto\"] = dispositivoUsuarios[\"usuarios.fechaControl\"].str.split(\" \", n = 1, expand = True)[1].str.split(\":\", n = 2, expand = True)[1]\n",
    "    dispositivoUsuarios['@timestamp'] = now.isoformat()\n",
    "    salida = helpers.bulk(es, doc_generator_mac(dispositivoUsuarios))\n",
    "    print(\"Fecha: \", now,\"- Detalle MACs a indice:\",salida[0])\n",
    "except:\n",
    "    print(\"Fecha: \", now,\"- NingÃºn Detalle MACs para insertar en indice principal\")"
   ]
  },
  {
   "cell_type": "markdown",
   "metadata": {},
   "source": [
    "### Guardando fecha para control de ejecución"
   ]
  },
  {
   "cell_type": "markdown",
   "metadata": {},
   "source": [
    "* Se actualiza la fecha de control. Si el calculo supera la fecha hora actual, se asocia esta ultima."
   ]
  },
  {
   "cell_type": "code",
   "execution_count": 95,
   "metadata": {},
   "outputs": [
    {
     "name": "stdout",
     "output_type": "stream",
     "text": [
      "actualizada fecha control de ejecucion: 2021-06-04 00:00:00\n"
     ]
    }
   ],
   "source": [
    "fecha_ejecucion= (datetime.strptime(fecha_max_mintic, '%Y-%m-%d %H:%M:%S')+timedelta(days=1)).strftime(\"%Y-%m-%d %H:%M:%S\")[0:15] + '0:00'    \n",
    "\n",
    "if fecha_ejecucion > str(now.strftime('%Y-%m-%d %H:%M:%S'))[0:15] + '0:00':\n",
    "    fecha_ejecucion = str(now.strftime('%Y-%m-%d %H:%M:%S'))[0:15] + '0:00'\n",
    "response = es.index(\n",
    "        index = indice_control,\n",
    "        id = 'jerarquia-tablero12',\n",
    "        body = { 'jerarquia-tablero12': 'jerarquia-tablero12','usuarios.fechaControl' : fecha_ejecucion}\n",
    ")\n",
    "print(\"actualizada fecha control de ejecucion:\",fecha_ejecucion)"
   ]
  },
  {
   "cell_type": "code",
   "execution_count": null,
   "metadata": {},
   "outputs": [],
   "source": []
  }
 ],
 "metadata": {
  "kernelspec": {
   "display_name": "Python 3",
   "language": "python",
   "name": "python3"
  },
  "language_info": {
   "codemirror_mode": {
    "name": "ipython",
    "version": 3
   },
   "file_extension": ".py",
   "mimetype": "text/x-python",
   "name": "python",
   "nbconvert_exporter": "python",
   "pygments_lexer": "ipython3",
   "version": "3.8.5"
  }
 },
 "nbformat": 4,
 "nbformat_minor": 2
}
