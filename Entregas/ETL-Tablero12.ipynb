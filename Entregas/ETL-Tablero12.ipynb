{
 "cells": [
  {
   "cell_type": "markdown",
   "metadata": {},
   "source": [
    "### ¿Qué hace este script?\n",
    "\n",
    "* Para cada sitio y fecha, se cuentan los documentos de usuario. Esto resulta en el total de usuarios registrados para esa fecha\n",
    "* Se calcula cantidad de sesiones por sitio con detalle conexiones, pero contando la ocurrencia unica de documento\n",
    "* Se calcula la cantidad de conexiones. Se agrupa por el campo usuarios.macRed(el cual corresponde al AP) y fecha_control. Se cuenta las ocurrencias de mac_usuario. Luego al cruzar con flujo principal, si el dato es nulo para ese momento, se debe colocar en 0.\n",
    "* Se toma del indice ohmyfi-detalleconexiones y se cuenta las veces que cada mac_usuario aparece\n",
    "* Luego se suma con el historico de conexiones por usuario (indice intermedio ohmyfi-total-conexiones-historico) marca como Nuevo(1 conexión).\n",
    "* De este proceso se obtiene el campo:\n",
    "* usuarios.usuariosNuevos\n",
    "* usuarios.totales.usuariosNuevos\n",
    "\n"
   ]
  },
  {
   "cell_type": "code",
   "execution_count": 1,
   "metadata": {},
   "outputs": [],
   "source": [
    "from elasticsearch import Elasticsearch, helpers\n",
    "from ssl import create_default_context\n",
    "import pandas as pd\n",
    "import numpy as np\n",
    "from datetime import datetime, timedelta\n",
    "import parametros\n",
    "import re\n",
    "import random\n",
    "import time"
   ]
  },
  {
   "cell_type": "markdown",
   "metadata": {},
   "source": [
    "## Conectando a ElasticSearch"
   ]
  },
  {
   "cell_type": "markdown",
   "metadata": {},
   "source": [
    "La ultima línea se utiliza para garantizar la ejecución de la consulta\n",
    "* timeout es el tiempo para cada ejecución\n",
    "* max_retries el número de intentos si la conexión falla\n",
    "* retry_on_timeout para activar los reitentos"
   ]
  },
  {
   "cell_type": "code",
   "execution_count": 2,
   "metadata": {},
   "outputs": [],
   "source": [
    "context = create_default_context(cafile=parametros.cafile)\n",
    "es = Elasticsearch(\n",
    "    parametros.servidor,\n",
    "    http_auth=(parametros.usuario_EC, parametros.password_EC),\n",
    "    scheme=\"https\",\n",
    "    port=parametros.puerto,\n",
    "    ssl_context=context,\n",
    "    timeout=120, max_retries=3, retry_on_timeout=True\n",
    ")"
   ]
  },
  {
   "cell_type": "markdown",
   "metadata": {},
   "source": [
    "Función para realizar consultas cuando la cantidad de registros es mayor a 10.000"
   ]
  },
  {
   "cell_type": "code",
   "execution_count": 3,
   "metadata": {},
   "outputs": [],
   "source": [
    "def custom_scan(query, index, total_docs, client):\n",
    "    \n",
    "    results = helpers.scan(client, index=index, query=query)\n",
    "    \n",
    "    data = []\n",
    "    for item in results:\n",
    "        data.append(item['_source'])\n",
    "        if len(data) >= total_docs:\n",
    "            break\n",
    "            \n",
    "    return pd.DataFrame(data)"
   ]
  },
  {
   "cell_type": "markdown",
   "metadata": {},
   "source": [
    "### Calculando fechas para la ejecución"
   ]
  },
  {
   "cell_type": "markdown",
   "metadata": {},
   "source": [
    "* Se calculan las fechas para asociar al nombre del indice\n",
    "* fecha_hoy es usada para concatenar al nombre del indice principal previa inserción"
   ]
  },
  {
   "cell_type": "code",
   "execution_count": 4,
   "metadata": {},
   "outputs": [],
   "source": [
    "now = datetime.now()\n",
    "fecha_hoy = str(now.strftime(\"%Y.%m.%d\"))"
   ]
  },
  {
   "cell_type": "markdown",
   "metadata": {},
   "source": [
    "### nombre de indice donde se insertará"
   ]
  },
  {
   "cell_type": "code",
   "execution_count": 5,
   "metadata": {},
   "outputs": [],
   "source": [
    "indice = parametros.usuarios_tablero12_index\n",
    "indice_control = parametros.tableros_mintic_control"
   ]
  },
  {
   "cell_type": "markdown",
   "metadata": {},
   "source": [
    "### Funcion para construir JSON compatible con ElasticSearch"
   ]
  },
  {
   "cell_type": "code",
   "execution_count": 6,
   "metadata": {},
   "outputs": [],
   "source": [
    "def filterKeys(document):\n",
    "    return {key: document[key] for key in use_these_keys }"
   ]
  },
  {
   "cell_type": "markdown",
   "metadata": {},
   "source": [
    "### Trae la ultima fecha para control de ejecución"
   ]
  },
  {
   "cell_type": "markdown",
   "metadata": {},
   "source": [
    "Cuando en el rango de tiempo de la ejecución, no se insertan nuevos valores, las fecha maxima en indice mintic no aumenta, por tanto se usa esta fecha de control para garantizar que incremente el bucle de ejecución"
   ]
  },
  {
   "cell_type": "code",
   "execution_count": 7,
   "metadata": {},
   "outputs": [
    {
     "name": "stdout",
     "output_type": "stream",
     "text": [
      "ultima fecha para control de ejecucion: 2021-06-17 00:00:00\n"
     ]
    }
   ],
   "source": [
    "total_docs = 1\n",
    "try:\n",
    "    response = es.search(\n",
    "        index= indice_control,\n",
    "        body={\n",
    "               \"_source\": ['usuarios.fechaControl'],\n",
    "              \"query\": {\n",
    "                \"bool\": {\n",
    "                  \"filter\": [\n",
    "                  {\n",
    "                    \"exists\": {\n",
    "                      \"field\":\"jerarquia-tablero12\"\n",
    "                    }\n",
    "                  }\n",
    "                  ]\n",
    "                }\n",
    "              }\n",
    "        },\n",
    "        size=total_docs\n",
    "    )\n",
    "    #print(es.info())\n",
    "    elastic_docs = response[\"hits\"][\"hits\"]\n",
    "    fields = {}\n",
    "    for num, doc in enumerate(elastic_docs):\n",
    "        fecha_ejecucion = doc[\"_source\"]['usuarios.fechaControl']\n",
    "except:\n",
    "    fecha_ejecucion = '2021-05-01 00:00:00'\n",
    "if response[\"hits\"][\"hits\"] == []:\n",
    "    fecha_ejecucion = '2021-05-01 00:00:00'\n",
    "print(\"ultima fecha para control de ejecucion:\",fecha_ejecucion)"
   ]
  },
  {
   "cell_type": "markdown",
   "metadata": {},
   "source": [
    "### leyendo indice semilla-inventario"
   ]
  },
  {
   "cell_type": "markdown",
   "metadata": {},
   "source": [
    "En el script que ingesta semilla, trae la información de los centros de conexión administrados. Para el indice principal se requiere:\n",
    "* site_id como llave del centro de conexión.\n",
    "* Datos geográficos (Departamento, municipio, centro poblado, sede, energía, latitud, longitud,COD_ISO, id_Beneficiario)."
   ]
  },
  {
   "cell_type": "code",
   "execution_count": 8,
   "metadata": {},
   "outputs": [],
   "source": [
    "total_docs = 10000\n",
    "\n",
    "try:\n",
    "    response = es.search(\n",
    "        index= parametros.semilla_inventario_index,\n",
    "        body={\n",
    "               \"_source\": ['site_id','nombre_municipio', 'nombre_departamento', 'nombre_centro_pob', 'nombreSede' \n",
    "                           , 'energiadesc', 'latitud', 'longitud', 'COD_ISO','id_Beneficiario']\n",
    "        },\n",
    "        size=total_docs\n",
    "    )\n",
    "    #print(es.info())\n",
    "    elastic_docs = response[\"hits\"][\"hits\"]\n",
    "    \n",
    "    datos_semilla = pd.DataFrame([x[\"_source\"] for x in elastic_docs])\n",
    "    datos_semilla['site_id'] = datos_semilla['site_id'].str.strip()\n",
    "except:\n",
    "    exit()"
   ]
  },
  {
   "cell_type": "markdown",
   "metadata": {},
   "source": [
    "### Cambiando nombre de campos y generando location"
   ]
  },
  {
   "cell_type": "markdown",
   "metadata": {},
   "source": [
    "* Se valida latitud y longitud. Luego se calcula campo location<br>\n",
    "* Se renombran los campos de semilla"
   ]
  },
  {
   "cell_type": "code",
   "execution_count": 9,
   "metadata": {},
   "outputs": [],
   "source": [
    "def get_location(x,y='lat'):\n",
    "    patron = re.compile('^(\\-?\\d+(\\.\\d+)?),\\s*(\\-?\\d+(\\.\\d+)?)$') #patrÃ³n que debe cumplir\n",
    "    if (not patron.match(x) is None) and (str(x)!=''):\n",
    "        return x.replace(',','.')\n",
    "    else:\n",
    "        #CÃ³digo a ejecutar si las coordenadas no son vÃ¡lidas\n",
    "        return '4.596389' if y=='lat' else '-74.074639'\n",
    "    \n",
    "datos_semilla['latitud'] = datos_semilla['latitud'].apply(lambda x:get_location(x,'lat'))\n",
    "datos_semilla['longitud'] = datos_semilla['longitud'].apply(lambda x:get_location(x,'lon'))\n",
    "datos_semilla['latitud'] = datos_semilla['latitud'].apply(get_location)\n",
    "datos_semilla['longitud'] = datos_semilla['longitud'].apply(get_location)\n",
    "datos_semilla = datos_semilla.drop(datos_semilla[(datos_semilla[\"longitud\"]=='a') | (datos_semilla[\"latitud\"]=='a')].index)\n",
    "datos_semilla['usuarios.location'] = datos_semilla['latitud'] + ',' + datos_semilla['longitud']\n",
    "datos_semilla['usuarios.location']=datos_semilla['usuarios.location'].str.replace('a,a','')\n",
    "datos_semilla.drop(columns=['latitud','longitud'],inplace=True)"
   ]
  },
  {
   "cell_type": "code",
   "execution_count": 10,
   "metadata": {},
   "outputs": [],
   "source": [
    "datos_semilla = datos_semilla.rename(columns={'lugar_cod' : 'usuarios.centroDigitalUsuarios'\n",
    "                                            , 'nombre_municipio': 'usuarios.nombreMunicipio'\n",
    "                                            , 'nombre_departamento' : 'usuarios.nombreDepartamento'\n",
    "                                            , 'nombre_centro_pob': 'usuarios.localidad'\n",
    "                                            , 'nombreSede' : 'usuarios.nomCentroDigital'\n",
    "                                            , 'energiadesc' : 'usuarios.sistemaEnergia'\n",
    "                                            , 'COD_ISO' : 'usuarios.codISO'\n",
    "                                            , 'id_Beneficiario' : 'usuarios.idBeneficiario'})"
   ]
  },
  {
   "cell_type": "markdown",
   "metadata": {},
   "source": [
    "Se descartan los registros que tengan la latitud y longitud vacía o no valida"
   ]
  },
  {
   "cell_type": "code",
   "execution_count": 11,
   "metadata": {},
   "outputs": [],
   "source": [
    "datos_semilla = datos_semilla.drop(datos_semilla[(datos_semilla[\"usuarios.location\"]=='')].index)"
   ]
  },
  {
   "cell_type": "markdown",
   "metadata": {},
   "source": [
    "### leyendo indice cambium-devicedevices"
   ]
  },
  {
   "cell_type": "markdown",
   "metadata": {},
   "source": [
    "De esta formas se asocia las MAC de dispositivos de red INDOOR y OUTDOOR\n",
    "* site_id para cruzar con las misma llave de semilla.\n",
    "* datos del dispositivo: mac, status, ip.\n",
    "* ap_group para identificar si la conexión es indoor/outdoor"
   ]
  },
  {
   "cell_type": "code",
   "execution_count": 12,
   "metadata": {},
   "outputs": [],
   "source": [
    "try:\n",
    "\n",
    "    query = {\n",
    "        \"_source\": [\"site_id\", \"mac\", \"status\", \"ip\", \"ap_group\"], \n",
    "        \"query\": {\n",
    "            \"match_all\": {}\n",
    "        }\n",
    "    }\n",
    "    \n",
    "    datos_dev = custom_scan(\n",
    "        query, \n",
    "        parametros.cambium_d_d_index,\n",
    "        total_docs=30000, \n",
    "        client=es\n",
    "    )\n",
    "    \n",
    "    datos_dev['site_id'] = datos_dev['site_id'].str.strip()\n",
    "    \n",
    "except:\n",
    "    exit()"
   ]
  },
  {
   "cell_type": "markdown",
   "metadata": {},
   "source": [
    "Se descartan registros con site_id vacios ya que no cruzarán en el merge y se limpian los NaN del dataframe."
   ]
  },
  {
   "cell_type": "code",
   "execution_count": 13,
   "metadata": {},
   "outputs": [],
   "source": [
    "datos_dev.dropna(subset=['site_id'], inplace=True)\n",
    "datos_dev.fillna('', inplace=True)\n",
    "datos_dev = datos_dev.drop(datos_dev[(datos_dev['site_id']=='')].index)"
   ]
  },
  {
   "cell_type": "code",
   "execution_count": 14,
   "metadata": {},
   "outputs": [],
   "source": [
    "datos_dev['ap_group'] = datos_dev['ap_group'].str.split(\"-\", n = 1, expand = True)[0]\n",
    "datos_dev['ap_group'] = datos_dev['ap_group'].str.split(\"_\", n = 1, expand = True)[0]\n",
    "datos_dev['ap_group'] = datos_dev['ap_group'].str.split(\".\", n = 1, expand = True)[0]\n",
    "datos_dev = datos_dev.drop(datos_dev[(datos_dev['ap_group']=='')].index)"
   ]
  },
  {
   "cell_type": "markdown",
   "metadata": {},
   "source": [
    "Se toman solo los datos unicos con mac."
   ]
  },
  {
   "cell_type": "code",
   "execution_count": 15,
   "metadata": {},
   "outputs": [],
   "source": [
    "datos_dev = datos_dev.drop_duplicates('mac')"
   ]
  },
  {
   "cell_type": "markdown",
   "metadata": {},
   "source": [
    "Se cambia el nombre a la mac del dispositivo de red para no confundir con la de dispositivos de usuario "
   ]
  },
  {
   "cell_type": "code",
   "execution_count": 16,
   "metadata": {},
   "outputs": [],
   "source": [
    "datos_dev= datos_dev.rename(columns={'mac' : 'usuarios.macRed','ap_group' : 'usuarios.apGroup'})"
   ]
  },
  {
   "cell_type": "markdown",
   "metadata": {},
   "source": [
    "### Lectura de datos ohmyfi-detalleconexiones"
   ]
  },
  {
   "cell_type": "markdown",
   "metadata": {},
   "source": [
    "Los datos que se toman son:\n",
    "* fechahora (de cada conexión). fecha_control es lo mismo pero con el intervalo de 10 minutos\n",
    "* Información del centro: lugar, lugar_cod.\n",
    "* Información del dispositivo de usuario: mac_usuario, dispositivo, sistema_operativo.\n",
    "* Información de usuario: tipodoc y documento"
   ]
  },
  {
   "cell_type": "code",
   "execution_count": 17,
   "metadata": {},
   "outputs": [],
   "source": [
    "def trae_conexiones(fecha_ini, fecha_fin, client):\n",
    "    \n",
    "    query = {\n",
    "        \"_source\": [\n",
    "            \"fechahora\", \"fecha_control\", \"lugar\", \"lugar_cod\", \n",
    "            \"mac_usuario\", \"dispositivo\", \"sistema_operativo\", \n",
    "            'tipodoc', 'documento'\n",
    "        ],\n",
    "        \"query\": {\n",
    "            \"range\": {\n",
    "                \"fechahora\": {\n",
    "                    \"gte\": fecha_ini,\n",
    "                    \"lt\": fecha_fin\n",
    "                }\n",
    "            }\n",
    "        }\n",
    "    }\n",
    "\n",
    "    return custom_scan(\n",
    "        query, \n",
    "        parametros.ohmyfi_d_c_index,\n",
    "        total_docs=5000000, \n",
    "        client=client\n",
    "    )"
   ]
  },
  {
   "cell_type": "markdown",
   "metadata": {},
   "source": [
    "### Lanzando ejecución de consulta"
   ]
  },
  {
   "cell_type": "markdown",
   "metadata": {},
   "source": [
    "* Se calcula rango en base a la fecha de control. Para este caso es de 1 dia\n",
    "* Se ejecuta la función de consulta con el rango de fechas.\n",
    "* Si no retorna datos se incrementa el rango y se ejecuta nuevamente. Este proceso se repite hasta conseguir datos o hasta que el rango de ejecución alcance la fecha y hora actual.\n"
   ]
  },
  {
   "cell_type": "code",
   "execution_count": 18,
   "metadata": {},
   "outputs": [],
   "source": [
    "fecha_max_mintic = fecha_ejecucion\n",
    "fecha_tope_mintic = datetime.strptime(fecha_max_mintic, '%Y-%m-%d %H:%M:%S') \n",
    "fecha_tope_mintic += timedelta(days=1) \n",
    "fecha_tope_mintic -= timedelta(seconds=1)\n",
    "fecha_tope_mintic = fecha_tope_mintic.strftime(\"%Y-%m-%d %H:%M:%S\")\n",
    "\n",
    "datos_det_conex = trae_conexiones(fecha_max_mintic, fecha_tope_mintic, es)\n",
    "\n",
    "if datos_det_conex is None or datos_det_conex.empty:\n",
    "       while (datos_det_conex is None or datos_det_conex.empty) and ((datetime.strptime(fecha_max_mintic[0:10], '%Y-%m-%d').strftime(\"%Y-%m-%d %H:%M:%S\")) < str(now.strftime(\"%Y-%m-%d %H:%M:%S\"))):\n",
    "            \n",
    "            fecha_max_mintic = datetime.strptime(fecha_max_mintic, '%Y-%m-%d %H:%M:%S')\n",
    "            fecha_max_mintic += timedelta(days=1)\n",
    "            fecha_max_mintic = fecha_max_mintic.strftime(\"%Y-%m-%d %H:%M:%S\")\n",
    "            \n",
    "            fecha_tope_mintic = datetime.strptime(fecha_tope_mintic, '%Y-%m-%d %H:%M:%S') \n",
    "            fecha_tope_mintic += timedelta(days=1)\n",
    "            fecha_tope_mintic = fecha_tope_mintic.strftime(\"%Y-%m-%d %H:%M:%S\")\n",
    "            \n",
    "            datos_det_conex = trae_conexiones(fecha_max_mintic, fecha_tope_mintic, es)\n",
    "            \n",
    "else:\n",
    "    pass"
   ]
  },
  {
   "cell_type": "code",
   "execution_count": 19,
   "metadata": {},
   "outputs": [],
   "source": [
    "datos_det_conex['lugar_cod'] = datos_det_conex['lugar_cod'].str.strip()"
   ]
  },
  {
   "cell_type": "code",
   "execution_count": 20,
   "metadata": {},
   "outputs": [],
   "source": [
    "datos_det_conex['fecha'] = datos_det_conex['fecha_control'].str.split(\" \", n = 1, expand = True)[0]\n",
    "datos_det_conex.drop_duplicates(subset=[\"fecha_control\",\"lugar\",\"lugar_cod\",\"mac_usuario\", \"dispositivo\",\"sistema_operativo\",'tipodoc','documento'],inplace=True)"
   ]
  },
  {
   "cell_type": "code",
   "execution_count": 21,
   "metadata": {},
   "outputs": [],
   "source": [
    "datos_det_conex = datos_det_conex.rename(columns={'lugar_cod' : 'site_id'\n",
    "                                                             ,'fechahora':'usuarios.fechaConexionUsuarios'\n",
    "                                                             ,'dispositivo': 'usuarios.tipoDispositivoUsuarios'\n",
    "                                                             , 'sistema_operativo': 'usuarios.sistemaOperativoUsuarios'})"
   ]
  },
  {
   "cell_type": "markdown",
   "metadata": {},
   "source": [
    "Se corrigen valores errados de site_id en detalle conexiones"
   ]
  },
  {
   "cell_type": "code",
   "execution_count": 22,
   "metadata": {},
   "outputs": [],
   "source": [
    "datos_det_conex['site_id'] = datos_det_conex['site_id'].str.replace(\"_\",\"-\")"
   ]
  },
  {
   "cell_type": "markdown",
   "metadata": {},
   "source": [
    "### Se lee el indice all-cambium-device-client"
   ]
  },
  {
   "cell_type": "markdown",
   "metadata": {},
   "source": [
    "* En este indice se guarda el detalle de los radio por fecha<br>\n",
    "* Detalle conexiones cruza con device clients. Con estos se calculan los totales por marca"
   ]
  },
  {
   "cell_type": "code",
   "execution_count": 23,
   "metadata": {},
   "outputs": [],
   "source": [
    "def traeRadio(fecha_max2, fecha_tope2, client):\n",
    "    \n",
    "    query = {\n",
    "        \"_source\": [\n",
    "            'mac', 'ap_mac', 'radio.band', 'radio.rx_bytes', \n",
    "            'radio.tx_bytes','fecha_control'\n",
    "        ],\n",
    "        \"query\": {\n",
    "            \"range\": {\n",
    "                \"fecha_control\": {\n",
    "                    \"gte\": fecha_max_mintic2,\n",
    "                    \"lt\": fecha_tope_mintic2\n",
    "                }\n",
    "            }\n",
    "        }\n",
    "    }\n",
    "\n",
    "    return custom_scan(\n",
    "        query, \n",
    "        'all-'+parametros.cambium_d_c_index,\n",
    "        total_docs=100000, \n",
    "        client=client\n",
    "    )\n",
    "    "
   ]
  },
  {
   "cell_type": "code",
   "execution_count": 24,
   "metadata": {},
   "outputs": [],
   "source": [
    "fecha_max_mintic2 = fecha_ejecucion\n",
    "\n",
    "fecha_tope_mintic2 = datetime.strptime(fecha_max_mintic2, '%Y-%m-%d %H:%M:%S') \n",
    "fecha_tope_mintic2 += timedelta(days=1)\n",
    "fecha_tope_mintic2 -= timedelta(seconds=1)\n",
    "fecha_tope_mintic2 = fecha_tope_mintic2.strftime(\"%Y-%m-%d %H:%M:%S\")\n",
    "\n",
    "datos_performance = traeRadio(fecha_max_mintic2, fecha_tope_mintic2, es)\n",
    "\n",
    "\n",
    "if datos_performance is None or datos_performance.empty:\n",
    "    while (datos_performance is None or datos_performance.empty) and ((datetime.strptime(fecha_max_mintic[0:10], '%Y-%m-%d').strftime(\"%Y-%m-%d %H:%M:%S\")) < str(now.strftime(\"%Y-%m-%d %H:%M:%S\"))):\n",
    "        \n",
    "        fecha_max_mintic2 = datetime.strptime(fecha_max_mintic2, '%Y-%m-%d %H:%M:%S')\n",
    "        fecha_max_mintic2 += timedelta(days=1)\n",
    "        fecha_max_mintic2 = fecha_max_mintic2.strftime(\"%Y-%m-%d %H:%M:%S\")\n",
    "        \n",
    "        fecha_tope_mintic2 = datetime.strptime(fecha_tope_mintic2, '%Y-%m-%d %H:%M:%S') \n",
    "        fecha_tope_mintic2 += timedelta(days=1)\n",
    "        fecha_tope_mintic2 = fecha_tope_mintic2.strftime(\"%Y-%m-%d %H:%M:%S\")\n",
    "        \n",
    "        datos_performance = traeRadio(fecha_max_mintic2, fecha_tope_mintic2, es)\n",
    "        \n",
    "else:\n",
    "    pass"
   ]
  },
  {
   "cell_type": "markdown",
   "metadata": {},
   "source": [
    "Se cruza all-cambium-device-clients con cambium-devicedevices para obtener el site_id"
   ]
  },
  {
   "cell_type": "code",
   "execution_count": 25,
   "metadata": {},
   "outputs": [],
   "source": [
    "datos_performance = datos_performance.rename(columns={'ap_mac':'usuarios.macRed', 'mac':'mac_usuario'})"
   ]
  },
  {
   "cell_type": "code",
   "execution_count": 26,
   "metadata": {},
   "outputs": [],
   "source": [
    "usuarios_conectados_cambium = pd.merge(datos_performance,datos_dev, on ='usuarios.macRed', how='inner')"
   ]
  },
  {
   "cell_type": "markdown",
   "metadata": {},
   "source": [
    "### Se lee la información de cambium device client"
   ]
  },
  {
   "cell_type": "markdown",
   "metadata": {},
   "source": [
    "Esta lectura se usa para identificar: \n",
    "* Lecturas de consumo por dispositivo (radios rx y tx)\n",
    "* Fabricante del dispositivo\n",
    "* la mac del ap que luego se usa para identificar el ap group(Indoor/Outdoor)"
   ]
  },
  {
   "cell_type": "code",
   "execution_count": 27,
   "metadata": {},
   "outputs": [],
   "source": [
    "query = {\n",
    "    \"_source\": [\n",
    "        \"mac\", \"ap_mac\", 'manufacturer', 'name', \"radio.band\", \n",
    "        'radio.rx_bytes', 'radio.tx_bytes'\n",
    "    ],\n",
    "    \"query\": {\n",
    "        \"bool\": {\n",
    "            \"filter\": [{\n",
    "                \"exists\": {\n",
    "                    \"field\":\"mac\"\n",
    "                }\n",
    "            }]\n",
    "        }\n",
    "    }\n",
    "}\n",
    "\n",
    "datos_dev_clients = custom_scan(\n",
    "    query, \n",
    "    parametros.cambium_d_c_index,\n",
    "    total_docs=30000000, \n",
    "    client=es\n",
    ")"
   ]
  },
  {
   "cell_type": "markdown",
   "metadata": {},
   "source": [
    "### Asociando datos de usuarios"
   ]
  },
  {
   "cell_type": "markdown",
   "metadata": {},
   "source": [
    "Se realiza lectura por día procesado\n",
    "lugar_cod se usa para cruzar con semilla por site_id\n",
    "creado es la fecha de creación del usuario\n",
    "tipodoc y documento corresponden a datos del usuario. Se usa para calcular totales"
   ]
  },
  {
   "cell_type": "code",
   "execution_count": 28,
   "metadata": {},
   "outputs": [],
   "source": [
    "def traeRegistros(fecha_max,fecha_tope):\n",
    "    total_docs = 10000\n",
    "    response = es.search(\n",
    "        index= parametros.ohmyfi_d_u_index,\n",
    "        body={\n",
    "                \"_source\": ['lugar_cod','tipodoc', 'documento', 'creado']\n",
    "                  , \"query\": {\n",
    "                  \"range\": {\n",
    "                    \"creado\": {\n",
    "                      \"gte\": fecha_max.split(' ')[0]+' 00:00:00',\n",
    "                      \"lt\": fecha_tope.split(' ')[0]+' 23:59:59'\n",
    "                      #\"gte\": \"2021-06-01 00:00:00\",\n",
    "                      #\"lt\": \"2021-06-01 23:59:59\"  \n",
    "                    }\n",
    "                  }\n",
    "              }\n",
    "        },\n",
    "        size=total_docs\n",
    "    )\n",
    "    #print(es.info())\n",
    "    elastic_docs = response[\"hits\"][\"hits\"]\n",
    "    fields = {}\n",
    "    for num, doc in enumerate(elastic_docs):\n",
    "        source_data = doc[\"_source\"]\n",
    "        for key, val in source_data.items():\n",
    "            try:\n",
    "                fields[key] = np.append(fields[key], val)\n",
    "            except KeyError:\n",
    "                fields[key] = np.array([val])\n",
    "    return pd.DataFrame(dict([ (k,pd.Series(v)) for k,v in fields.items() ]))"
   ]
  },
  {
   "cell_type": "markdown",
   "metadata": {},
   "source": [
    "### Se realiza consulta de datos"
   ]
  },
  {
   "cell_type": "markdown",
   "metadata": {},
   "source": [
    "* Se calcula rango en base a la fecha de control. Para este caso es de un día.\n",
    "* Se ejecuta la función de consulta con el rango de fechas.\n",
    "* Si no retorna datos se incrementa el rango y se ejecuta nuevamente. Este proceso se repite hasta conseguir datos o hasta que el rango de ejecución alcance la fecha actual."
   ]
  },
  {
   "cell_type": "code",
   "execution_count": 29,
   "metadata": {},
   "outputs": [],
   "source": [
    "fecha_max_mintic = fecha_ejecucion\n",
    "fecha_tope_mintic = (datetime.strptime(fecha_max_mintic, '%Y-%m-%d %H:%M:%S')+timedelta(days=1)-timedelta(seconds=1)).strftime(\"%Y-%m-%d %H:%M:%S\")\n",
    "datos_registro = traeRegistros(fecha_max_mintic,fecha_tope_mintic)\n",
    "\n",
    "if datos_registro is None or datos_registro.empty:\n",
    "    while (datos_registro is None or datos_registro.empty) and ((datetime.strptime(fecha_max_mintic[0:10], '%Y-%m-%d').strftime(\"%Y-%m-%d %H:%M:%S\")) < str(now.strftime(\"%Y-%m-%d %H:%M:%S\"))):\n",
    "        fecha_max_mintic = (datetime.strptime(fecha_max_mintic, '%Y-%m-%d %H:%M:%S')+timedelta(days=1)).strftime(\"%Y-%m-%d %H:%M:%S\")\n",
    "        fecha_tope_mintic = (datetime.strptime(fecha_tope_mintic, '%Y-%m-%d %H:%M:%S')+timedelta(days=1)).strftime(\"%Y-%m-%d %H:%M:%S\")\n",
    "        datos_speed = traeRegistros(fecha_max_mintic,fecha_tope_mintic)\n",
    "else:\n",
    "    pass"
   ]
  },
  {
   "cell_type": "markdown",
   "metadata": {},
   "source": [
    "## Calculando total de registros"
   ]
  },
  {
   "cell_type": "markdown",
   "metadata": {},
   "source": [
    "la lista use_these_keys se usa para referenciar cuales campos del dataframe irán al indice final. si los datos no se declaran en este, no se insertarán"
   ]
  },
  {
   "cell_type": "markdown",
   "metadata": {},
   "source": [
    "Para cada sitio y fecha, se cuentan los documentos de usuario. Esto resulta en el total de usuarios registrados para esa fecha"
   ]
  },
  {
   "cell_type": "code",
   "execution_count": 30,
   "metadata": {},
   "outputs": [],
   "source": [
    "use_these_keys = ['usuarios.fecha'\n",
    "                  , 'usuarios.siteID'\n",
    "                  , 'usuarios.usuariosRegistrados'\n",
    "                  , 'usuarios.anyo'\n",
    "                  , 'usuarios.mes'\n",
    "                  , 'usuarios.dia'\n",
    "                  , 'usuarios.nomCentroDigital'\n",
    "                  , 'usuarios.codISO'\n",
    "                  , 'usuarios.localidad'\n",
    "                  , 'usuarios.nombreDepartamento'\n",
    "                  , 'usuarios.sistemaEnergia'\n",
    "                  , 'usuarios.nombreMunicipio'\n",
    "                  , 'usuarios.idBeneficiario'\n",
    "                  , 'usuarios.location'\n",
    "                  , 'nombreDepartamento'\n",
    "                    , 'nombreMunicipio'\n",
    "                    , 'idBeneficiario'\n",
    "                    , 'fecha'\n",
    "                    , 'anyo'\n",
    "                    , 'mes'\n",
    "                    , 'dia'\n",
    "                  , '@timestamp']\n",
    "\n",
    "def doc_generator(df):\n",
    "    df_iter = df.iterrows()\n",
    "    for index, document in df_iter:\n",
    "        yield {\n",
    "                \"_index\": indice, \n",
    "                \"_id\": f\"{'UsuRegistro-'+ str(document['usuarios.siteID']) + '-' + str(document['usuarios.fecha'])+ str(random.randrange(1000))}\",\n",
    "                \"_source\": filterKeys(document)\n",
    "            }"
   ]
  },
  {
   "cell_type": "code",
   "execution_count": 31,
   "metadata": {},
   "outputs": [],
   "source": [
    "def invalid_values(df, values=['']):\n",
    "    return df.loc[df['usuarios.location'].isin(values)]"
   ]
  },
  {
   "cell_type": "code",
   "execution_count": 32,
   "metadata": {},
   "outputs": [
    {
     "name": "stdout",
     "output_type": "stream",
     "text": [
      "Fecha:  2022-01-07 15:57:58.831841 - Datos Registro usuarios en indice principal: 550\n"
     ]
    }
   ],
   "source": [
    "try:\n",
    "    \n",
    "    datos_registro['creado'] = datos_registro['creado'].str[0:10]\n",
    "    datos_registro['tipo_mas_doc'] = datos_registro['tipodoc'] + datos_registro['documento']\n",
    "    datos_registro= datos_registro.rename(columns={'creado' : 'usuarios.fecha'\n",
    "                                                  ,'lugar_cod':'site_id'})\n",
    "    datos_registro = datos_registro[[\"usuarios.fecha\",\"site_id\",\"tipo_mas_doc\"]].groupby([\"usuarios.fecha\",\"site_id\"]).agg(['count']).reset_index()\n",
    "    datos_registro.columns = datos_registro.columns.droplevel(1)\n",
    "    datos_registro= datos_registro.rename(columns={'tipo_mas_doc' : 'usuarios.usuariosRegistrados'})\n",
    "    datos_registro[\"usuarios.anyo\"] = datos_registro[\"usuarios.fecha\"].str[0:4]\n",
    "    datos_registro[\"usuarios.mes\"] = datos_registro[\"usuarios.fecha\"].str[5:7]\n",
    "    datos_registro[\"usuarios.dia\"] = datos_registro[\"usuarios.fecha\"].str[8:10]\n",
    "    datos_registro = pd.merge(datos_registro,  datos_semilla, on='site_id', how='inner')\n",
    "    datos_registro.rename(columns={'site_id': 'usuarios.siteID'\n",
    "                               }, inplace=True)\n",
    "    \n",
    "    datos_registro['nombreDepartamento'] = datos_registro['usuarios.nombreDepartamento']\n",
    "    datos_registro['nombreMunicipio'] = datos_registro['usuarios.nombreMunicipio']\n",
    "    datos_registro['idBeneficiario'] = datos_registro['usuarios.idBeneficiario']\n",
    "    datos_registro['fecha'] = datos_registro['usuarios.fecha']\n",
    "    datos_registro['anyo'] = datos_registro['usuarios.anyo']\n",
    "    datos_registro['mes'] = datos_registro['usuarios.mes']\n",
    "    datos_registro['dia'] = datos_registro['usuarios.dia']\n",
    "    \n",
    "    datos_registro['@timestamp'] = now.isoformat()\n",
    "    \n",
    "    salida = helpers.bulk(es, doc_generator(datos_registro))\n",
    "    print(\"Fecha: \", now,\"- Datos Registro usuarios en indice principal:\",salida[0])\n",
    "except Exception as e:\n",
    "    print(\"Fecha: \", now,\"- Nada que insertar en indice principal\",e)"
   ]
  },
  {
   "cell_type": "markdown",
   "metadata": {},
   "source": [
    "* se cruza por mac_usuario\n",
    "* Los merge usan left para evitar perdida de datos en cruce con cambium-devicedevices. Aquellos datos que no cruzan se les marca como no identificados. En condiciones ideales, no debería presentarse ausencia de información\n",
    "* Solo se toma lo que cruza con INNER\n",
    "* se cambia el fabricante [Local MAC]\n",
    "* se cambian lo nulos"
   ]
  },
  {
   "cell_type": "code",
   "execution_count": 33,
   "metadata": {},
   "outputs": [],
   "source": [
    "try:\n",
    "    datos_dev_clients.drop_duplicates(inplace=True)\n",
    "    datos_dev_clients = datos_dev_clients.rename(columns={'ap_mac' : 'usuarios.macRed','mac' : 'mac_usuario'})\n",
    "    datos_dev_clients['manufacturer'] = datos_dev_clients['manufacturer'].replace(\"[Local MAC]\", \"No identificado\")\n",
    "    datos_dev_clients.fillna({'manufacturer':'No identificado'},inplace=True)\n",
    "    datos_det_conex = pd.merge(datos_det_conex,  datos_dev_clients, on='mac_usuario',how='left')\n",
    "    datos_det_conex = pd.merge(datos_det_conex,datos_dev[['usuarios.macRed','usuarios.apGroup']],on='usuarios.macRed', how='left')\n",
    "    datos_det_conex.fillna({'usuarios.tipoDispositivoUsuarios':'No identificado'\n",
    "                       ,'usuarios.sistemaOperativoUsuarios':'No identificado'\n",
    "                       ,'manufacturer':'No identificado'\n",
    "                       ,'radio.band':'No identificado'\n",
    "                       },inplace=True)\n",
    "except:\n",
    "    pass"
   ]
  },
  {
   "cell_type": "markdown",
   "metadata": {},
   "source": [
    "# Insertando usuarios conectados al indice principal"
   ]
  },
  {
   "cell_type": "markdown",
   "metadata": {},
   "source": [
    "* Se calcula cantidad de sesiones por sitio con detalle conexiones, pero contando la ocurrencia unica de documento\n",
    "* Se calcula la cantidad de conexiones. Se agrupa por el campo usuarios.macRed(el cual corresponde al AP) y fecha_control. Se cuenta las ocurrencias de mac_usuario. Luego al cruzar con flujo principal, si el dato es nulo para ese momento, se debe colocar en 0."
   ]
  },
  {
   "cell_type": "code",
   "execution_count": 34,
   "metadata": {},
   "outputs": [],
   "source": [
    "datos_logins = datos_det_conex[['fecha_control', 'site_id', 'documento','usuarios.macRed']].groupby([\"fecha_control\",\"site_id\",\"usuarios.macRed\"])['documento'].nunique().reset_index()\n",
    "datos_logins= datos_logins.rename(columns={'documento' : 'usuarios.sesiones_Usuarios'})"
   ]
  },
  {
   "cell_type": "code",
   "execution_count": 35,
   "metadata": {},
   "outputs": [],
   "source": [
    " try:\n",
    "    datos_logins = datos_det_conex[['fecha_control', 'site_id', 'documento']].groupby([\"fecha_control\",\"site_id\"])['documento'].nunique().reset_index()\n",
    "    datos_logins= datos_logins.rename(columns={'documento' : 'usuarios.sesiones_Usuarios'})\n",
    "\n",
    "    ###################################################################################################\n",
    "\n",
    "\n",
    "    #Se trae usuarios conectados desde cambium devices clients \n",
    "    usuariosConectados = usuarios_conectados_cambium[[\"fecha_control\",\"site_id\",\"mac_usuario\"]].groupby([\"fecha_control\",\"site_id\"]).agg(['count']).reset_index()\n",
    "    usuariosConectados.columns = usuariosConectados.columns.droplevel(1)\n",
    "    usuariosConectados= usuariosConectados.rename(columns={'mac_usuario' : 'usuarios.usuariosConectados'})\n",
    "\n",
    "\n",
    "    ###################################################################################################\n",
    "\n",
    "    usuariosConectados = pd.merge(usuariosConectados,datos_logins,  how='outer')\n",
    "    usuariosConectados.fillna({'usuarios.usuariosConectados': 0\n",
    "                               ,'usuarios.sesiones_Usuarios' : 0 },inplace=True)\n",
    "    usuariosConectados['usuarios.usuariosConectados'] = usuariosConectados['usuarios.usuariosConectados'].astype(int)\n",
    "    usuariosConectados['usuarios.sesiones_Usuarios'] = usuariosConectados['usuarios.sesiones_Usuarios'].astype(int)\n",
    "    usuariosConectados = pd.merge(datos_semilla,  usuariosConectados, on=['site_id'], how='inner')\n",
    "    usuariosConectados = usuariosConectados.rename(columns={'fecha_control':'usuarios.fechaControl'\n",
    "                                                           ,'site_id' : 'usuarios.siteID'})\n",
    "\n",
    "\n",
    "    try:\n",
    "        usuariosConectados[\"usuarios.fecha\"] = usuariosConectados[\"usuarios.fechaControl\"].str[0:10]\n",
    "    except:\n",
    "        usuariosConectados[\"usuarios.fecha\"] = \"\"\n",
    "\n",
    "    try:\n",
    "        usuariosConectados[\"usuarios.anyo\"] = usuariosConectados[\"usuarios.fecha\"].str[0:4]\n",
    "    except:\n",
    "        usuariosConectados[\"usuarios.anyo\"] = \"\"\n",
    "\n",
    "    try:\n",
    "        usuariosConectados[\"usuarios.mes\"] = usuariosConectados[\"usuarios.fecha\"].str[5:7]\n",
    "    except:\n",
    "        usuariosConectados[\"usuarios.mes\"] = \"\"\n",
    "\n",
    "    try:\n",
    "        usuariosConectados[\"usuarios.dia\"] = usuariosConectados[\"usuarios.fecha\"].str[8:10]\n",
    "    except:\n",
    "        usuariosConectados[\"usuarios.dia\"] = \"\"\n",
    "\n",
    "\n",
    "\n",
    "    usuariosConectados['nombreDepartamento'] = usuariosConectados['usuarios.nombreDepartamento']\n",
    "    usuariosConectados['nombreMunicipio'] = usuariosConectados['usuarios.nombreMunicipio']\n",
    "    usuariosConectados['idBeneficiario'] = usuariosConectados['usuarios.idBeneficiario']\n",
    "    usuariosConectados['fecha'] = usuariosConectados['usuarios.fecha']\n",
    "    usuariosConectados['anyo'] = usuariosConectados['usuarios.anyo']\n",
    "    usuariosConectados['mes'] = usuariosConectados['usuarios.mes']\n",
    "    usuariosConectados['dia'] = usuariosConectados['usuarios.dia']\n",
    "    usuariosConectados['@timestamp'] = now.isoformat()\n",
    "\n",
    "except:\n",
    "    print(\"Fecha: \", now,\"- Ningun usuario conectado para insertar en indice principal:\")"
   ]
  },
  {
   "cell_type": "markdown",
   "metadata": {},
   "source": [
    "la lista use_these_keys se usa para referenciar cuales campos del dataframe irán al indice final. si los datos no se declaran en este, no se insertarán"
   ]
  },
  {
   "cell_type": "code",
   "execution_count": 36,
   "metadata": {},
   "outputs": [
    {
     "name": "stdout",
     "output_type": "stream",
     "text": [
      "Fecha:  2022-01-07 15:57:58.831841 - Usuarios conectados insertados en indice principal: 44620\n"
     ]
    }
   ],
   "source": [
    "try:\n",
    "    use_these_keys = ['usuarios.nomCentroDigital'\n",
    "                  , 'usuarios.codISO'\n",
    "                  , 'usuarios.idBeneficiario'    \n",
    "                  , 'usuarios.localidad'\n",
    "                  , 'usuarios.siteID'\n",
    "                  , 'usuarios.nombreDepartamento'\n",
    "                  , 'usuarios.sistemaEnergia'\n",
    "                  , 'usuarios.nombreMunicipio'\n",
    "                  , 'usuarios.location'\n",
    "                  , 'usuarios.fechaControl'\n",
    "                  #, 'usuarios.macRed'\n",
    "                  #, 'usuarios.apGroup'    \n",
    "                  , 'usuarios.usuariosConectados'\n",
    "                  , 'usuarios.sesiones_Usuarios'\n",
    "                  , 'usuarios.fecha'\n",
    "                  , 'usuarios.anyo'\n",
    "                  , 'usuarios.mes'\n",
    "                  , 'usuarios.dia'\n",
    "                  #, 'usuarios.hora'\n",
    "                  #, 'usuarios.minuto'\n",
    "                  , 'nombreDepartamento'\n",
    "                  , 'nombreMunicipio'\n",
    "                  , 'idBeneficiario'\n",
    "                  , 'fecha'\n",
    "                  , 'anyo'\n",
    "                  , 'mes'\n",
    "                  , 'dia'\n",
    "                  , '@timestamp']\n",
    "    usuariosConectados['@timestamp'] = now.isoformat()\n",
    "    def doc_generator(df):\n",
    "        df_iter = df.iterrows()\n",
    "        for index, document in df_iter:\n",
    "            yield {\n",
    "                    \"_index\": indice, \n",
    "                    \"_id\": f\"{ str(document['usuarios.siteID']) + '-' + str(document['usuarios.fechaControl']) + '-' +str(random.randrange(10000000))}\",\n",
    "                    \"_source\": filterKeys(document),\n",
    "                }\n",
    "    salida = helpers.bulk(es, doc_generator(usuariosConectados))\n",
    "    print(\"Fecha: \", now,\"- Usuarios conectados insertados en indice principal:\",salida[0])\n",
    "except:\n",
    "    print(\"Fecha: \", now,\"- Ningun usuario conectado para insertar en indice principal:\")"
   ]
  },
  {
   "cell_type": "markdown",
   "metadata": {},
   "source": [
    "# Marcando si usuario es nuevo o recurrente"
   ]
  },
  {
   "cell_type": "markdown",
   "metadata": {},
   "source": [
    "* Se toma del dataframe datos_det_conex y se cuenta las veces que cada mac_usuario aparece\n",
    "* Luego se suma con el historico de conexiones por usuario (indice intermedio ohmyfi-total-conexiones-historico)\n",
    "* marca como Nuevo(1 conexión). \n",
    "\n",
    "De este proceso se obtiene el campo:\n",
    "* usuarios.usuariosNuevos\n",
    "* usuarios.totales.usuariosNuevos"
   ]
  },
  {
   "cell_type": "code",
   "execution_count": 37,
   "metadata": {},
   "outputs": [],
   "source": [
    "try:\n",
    "    datos_recurrencia = datos_det_conex[[\"fecha\",\"tipodoc\",\"documento\"]].groupby([\"tipodoc\",\"documento\"]).agg(['count']).reset_index()\n",
    "    datos_recurrencia.columns = datos_recurrencia.columns.droplevel(1)\n",
    "    datos_recurrencia= datos_recurrencia.rename(columns={'fecha' : 'usuarios_recurrencia_aux'})\n",
    "    datos_recurrencia['tipodoc'] = datos_recurrencia['tipodoc'].replace('','No especificado')\n",
    "    datos_recurrencia['documento'] = datos_recurrencia['documento'].replace('','No especificado')\n",
    "except:\n",
    "    pass"
   ]
  },
  {
   "cell_type": "markdown",
   "metadata": {},
   "source": [
    "### Se lee historico"
   ]
  },
  {
   "cell_type": "markdown",
   "metadata": {},
   "source": [
    "Se lee ohmyfi-total-conexiones-historico, el cual es un indice creado a partir de los datos crudos. Este guarda la cantidad de conexiones realizadas por ese usuario. Para que la consulta funcione correctamente se debe colocar el filtro que usuarios_recurrencia exista."
   ]
  },
  {
   "cell_type": "code",
   "execution_count": 38,
   "metadata": {},
   "outputs": [],
   "source": [
    "try:\n",
    "    \n",
    "    query = {\n",
    "        \"_source\": ['tipodoc', 'documento', 'usuarios_recurrencia'],\n",
    "        \"query\": {\n",
    "            \"bool\": {\n",
    "                \"filter\": [{\n",
    "                    \"exists\": {\n",
    "                        \"field\":\"usuarios_recurrencia\"\n",
    "                    }\n",
    "                }]\n",
    "            }\n",
    "        }\n",
    "    }\n",
    "    \n",
    "    ya_en_indice = custom_scan(\n",
    "        query, \n",
    "        parametros.ohmyfi_total_c_index,\n",
    "        total_docs=30000000, \n",
    "        client=es\n",
    "    )\n",
    "    \n",
    "except:\n",
    "    ya_en_indice = pd.DataFrame(columns=['tipodoc', 'documento', 'usuarios_recurrencia'])"
   ]
  },
  {
   "cell_type": "code",
   "execution_count": 39,
   "metadata": {},
   "outputs": [],
   "source": [
    "if ya_en_indice is None or ya_en_indice.empty:\n",
    "    datos_recurrencia= datos_recurrencia.rename(columns={'usuarios_recurrencia_aux' : 'usuarios_recurrencia'})\n",
    "else:\n",
    "    datos_recurrencia = pd.merge(datos_recurrencia, ya_en_indice, on=['tipodoc', 'documento'],how='left')\n",
    "    datos_recurrencia.fillna({'usuarios_recurrencia':0},inplace=True)\n",
    "    datos_recurrencia['usuarios_recurrencia'] = datos_recurrencia['usuarios_recurrencia'] + datos_recurrencia['usuarios_recurrencia_aux']\n",
    "    datos_recurrencia['usuarios_recurrencia'] = [int(x) for x in datos_recurrencia['usuarios_recurrencia']]"
   ]
  },
  {
   "cell_type": "code",
   "execution_count": 40,
   "metadata": {},
   "outputs": [],
   "source": [
    "try:\n",
    "    aux_recurrencia = pd.merge(datos_recurrencia,datos_det_conex, on=['tipodoc','documento'],how='inner' )\n",
    "    aux_recurrencia = aux_recurrencia[(aux_recurrencia['usuarios_recurrencia']==1)]\n",
    "    aux_recurrencia.loc[aux_recurrencia['usuarios_recurrencia']==1,'usuarios.usuariosNuevos']='Nuevo'\n",
    "    #aux_recurrencia.loc[aux_recurrencia['usuarios_recurrencia']!=1,'usuarios.usuariosNuevos']='Recurrente'\n",
    "    aux_recurrencia = aux_recurrencia.rename(columns={'usuarios_recurrencia' :'usuarios.sesiones_Usuarios'})\n",
    "    aux_recurrencia = aux_recurrencia[[\"fecha_control\",\"site_id\",\"usuarios.usuariosNuevos\",'documento']].groupby([\"fecha_control\",\"site_id\",\"usuarios.usuariosNuevos\"])['documento'].nunique().reset_index()\n",
    "    aux_recurrencia= aux_recurrencia.rename(columns={'documento' : 'usuarios.totales.usuariosNuevos'})\n",
    "except:\n",
    "    pass"
   ]
  },
  {
   "cell_type": "code",
   "execution_count": 41,
   "metadata": {},
   "outputs": [],
   "source": [
    "try:\n",
    "    datos_recurrencia = pd.merge(datos_semilla,  aux_recurrencia, on='site_id', how='inner')\n",
    "    datos_recurrencia = datos_recurrencia.rename(columns={'fecha_control' : 'usuarios.fechaControl'})\n",
    "    datos_recurrencia[\"usuarios.fecha\"] = datos_recurrencia[\"usuarios.fechaControl\"].str.split(\" \", n = 1, expand = True)[0]\n",
    "    datos_recurrencia[\"usuarios.anyo\"] = datos_recurrencia[\"usuarios.fecha\"].str[0:4]\n",
    "    datos_recurrencia[\"usuarios.mes\"] = datos_recurrencia[\"usuarios.fecha\"].str[5:7]\n",
    "    datos_recurrencia[\"usuarios.dia\"] = datos_recurrencia[\"usuarios.fecha\"].str[8:10]\n",
    "    datos_recurrencia[\"usuarios.hora\"] = datos_recurrencia[\"usuarios.fechaControl\"].str.split(\" \", n = 1, expand = True)[1].str.split(\":\", n = 2, expand = True)[0]\n",
    "    datos_recurrencia[\"usuarios.minuto\"] = datos_recurrencia[\"usuarios.fechaControl\"].str.split(\" \", n = 1, expand = True)[1].str.split(\":\", n = 2, expand = True)[1]\n",
    "    datos_recurrencia= datos_recurrencia.rename(columns={'site_id' : 'usuarios.siteID'})\n",
    "    \n",
    "    datos_recurrencia['nombreDepartamento'] = datos_recurrencia['usuarios.nombreDepartamento']\n",
    "    datos_recurrencia['nombreMunicipio'] = datos_recurrencia['usuarios.nombreMunicipio']\n",
    "    datos_recurrencia['idBeneficiario'] = datos_recurrencia['usuarios.idBeneficiario']\n",
    "    datos_recurrencia['fecha'] = datos_recurrencia['usuarios.fecha']\n",
    "    datos_recurrencia['anyo'] = datos_recurrencia['usuarios.anyo']\n",
    "    datos_recurrencia['mes'] = datos_recurrencia['usuarios.mes']\n",
    "    datos_recurrencia['dia'] = datos_recurrencia['usuarios.dia']\n",
    "except:\n",
    "    pass"
   ]
  },
  {
   "cell_type": "markdown",
   "metadata": {},
   "source": [
    "# Insertando recurrencia de usuario en indice principal"
   ]
  },
  {
   "cell_type": "markdown",
   "metadata": {},
   "source": [
    "la lista use_these_keys se usa para referenciar cuales campos del dataframe irán al indice final. si los datos no se declaran en este, no se insertarán"
   ]
  },
  {
   "cell_type": "code",
   "execution_count": 42,
   "metadata": {},
   "outputs": [
    {
     "name": "stdout",
     "output_type": "stream",
     "text": [
      "Fecha:  2022-01-07 15:57:58.831841 - recurrencia de usuario a indice: 872\n"
     ]
    }
   ],
   "source": [
    "try:\n",
    "    use_these_keys = ['usuarios.nomCentroDigital'\n",
    "                      , 'usuarios.codISO'\n",
    "                      , 'usuarios.idBeneficiario'\n",
    "                      , 'usuarios.localidad'\n",
    "                      , 'usuarios.siteID'\n",
    "                      , 'usuarios.nombreDepartamento'\n",
    "                      , 'usuarios.sistemaEnergia'\n",
    "                      , 'usuarios.nombreMunicipio'\n",
    "                      , 'usuarios.location'\n",
    "                      , 'usuarios.usuariosNuevos'\n",
    "                      , 'usuarios.totales.usuariosNuevos'\n",
    "                      , 'usuarios.fechaControl'\n",
    "                      , 'usuarios.fecha'\n",
    "                      , 'usuarios.anyo'\n",
    "                      , 'usuarios.mes'\n",
    "                      , 'usuarios.dia'\n",
    "                      , 'usuarios.hora'\n",
    "                      , 'usuarios.minuto'\n",
    "                        , 'nombreDepartamento'\n",
    "                        , 'nombreMunicipio'\n",
    "                        , 'idBeneficiario'\n",
    "                        , 'fecha'\n",
    "                        , 'anyo'\n",
    "                        , 'mes'\n",
    "                        , 'dia'\n",
    "                      , '@timestamp']\n",
    "    datos_recurrencia['@timestamp'] = now.isoformat()\n",
    "    def doc_generator(df):\n",
    "        df_iter = df.iterrows()\n",
    "        for index, document in df_iter:\n",
    "            yield {\n",
    "                    \"_index\": indice, \n",
    "                    \"_id\": f\"{ 'Recurrencia-' + str(document['usuarios.siteID']) + '-' + str(document['usuarios.fechaControl'])+ str(random.randrange(1000))}\",\n",
    "                    \"_source\": filterKeys(document),\n",
    "                }\n",
    "    salida = helpers.bulk(es, doc_generator(datos_recurrencia))\n",
    "    print(\"Fecha: \", now,\"- recurrencia de usuario a indice:\",salida[0])\n",
    "except:\n",
    "    print(\"Fecha: \", now,\"- Ninguna recurrencia de usuario para insertar en indice principal\")"
   ]
  },
  {
   "cell_type": "markdown",
   "metadata": {},
   "source": [
    "### Guardando fecha para control de ejecución"
   ]
  },
  {
   "cell_type": "markdown",
   "metadata": {},
   "source": [
    "* Se actualiza la fecha de control. Si el calculo supera la fecha hora actual, se asocia esta ultima."
   ]
  },
  {
   "cell_type": "code",
   "execution_count": 43,
   "metadata": {},
   "outputs": [
    {
     "name": "stdout",
     "output_type": "stream",
     "text": [
      "actualizada fecha control de ejecucion: 2021-06-18 00:00:00\n"
     ]
    }
   ],
   "source": [
    "fecha_ejecucion= (datetime.strptime(fecha_max_mintic, '%Y-%m-%d %H:%M:%S')+timedelta(days=1)).strftime(\"%Y-%m-%d %H:%M:%S\")[0:15] + '0:00'    \n",
    "\n",
    "if fecha_ejecucion > str(now.strftime('%Y-%m-%d %H:%M:%S'))[0:15] + '0:00':\n",
    "    fecha_ejecucion = str(now.strftime('%Y-%m-%d %H:%M:%S'))[0:15] + '0:00'\n",
    "response = es.index(\n",
    "        index = indice_control,\n",
    "        id = 'jerarquia-tablero12',\n",
    "        body = { 'jerarquia-tablero12': 'jerarquia-tablero12','usuarios.fechaControl' : fecha_ejecucion}\n",
    ")\n",
    "print(\"actualizada fecha control de ejecucion:\",fecha_ejecucion)"
   ]
  }
 ],
 "metadata": {
  "kernelspec": {
   "display_name": "Python 3",
   "language": "python",
   "name": "python3"
  },
  "language_info": {
   "codemirror_mode": {
    "name": "ipython",
    "version": 3
   },
   "file_extension": ".py",
   "mimetype": "text/x-python",
   "name": "python",
   "nbconvert_exporter": "python",
   "pygments_lexer": "ipython3",
   "version": "3.8.5"
  }
 },
 "nbformat": 4,
 "nbformat_minor": 2
}
