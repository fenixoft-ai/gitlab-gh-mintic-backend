{
 "cells": [
  {
   "cell_type": "markdown",
   "metadata": {},
   "source": [
    "### ¿Qué hace este script?\n",
    "\n",
    "#### Para cada AP:\n",
    "* usuariosConectados(corresponde al total de conexiones), usuarios.sesiones_Usuarios (Corresponde al total de usuarios)\n",
    "* Información detallada de los dispositivos conectados en el rango de fecha procesado: usuarios.dispositivo.mac, usuarios.dispositivo.tipo, usuarios.dispositivo.marca, usuarios.dispositivo.tecnologia, usuarios.dispositivo.sisOperativo.\n",
    "\n",
    "#### Para cada sitio: \n",
    "* Totales por características de dispositivos: usuarios.sistemaOperativoUsuarios, usuarios.tipoDispositivoUsuarios, usuarios.marcaTerminal, usuarios.tecnologiaTerminal, usuarios.totales.dispositivos (Este ultimo guarda el total)\n",
    "* usuarios.usoServicioInternetSitio es la suma en Gb consumido discriminado por usuarios.detallesTecnologiasTerminales (Bandas 2.4 o 5 GHz)\n",
    "* usuarios.conteoDispositivos el cual indica el total de dispositivos conectados (Es lo mismo que total de conexiones)\n",
    "* usuarios.usuariosNuevos (Esta tenía antes Nuevos y Recurrentes, pero ahora solo tiene Nuevos por solicitud de BI)\n",
    "* usuarios.totales.usuariosNuevos, tiene el total de usuarios nuevos (el script por el momento solo totaliza nuevos siempre y cuando no se corra historicos)"
   ]
  },
  {
   "cell_type": "code",
   "execution_count": 1,
   "metadata": {},
   "outputs": [],
   "source": [
    "\n",
    "from elasticsearch import Elasticsearch, helpers\n",
    "from ssl import create_default_context\n",
    "import pandas as pd\n",
    "import numpy as np\n",
    "from datetime import datetime, timedelta\n",
    "import parametros\n",
    "import random\n",
    "import re\n",
    "import time"
   ]
  },
  {
   "cell_type": "markdown",
   "metadata": {},
   "source": [
    "## Conectando a ElasticSearch"
   ]
  },
  {
   "cell_type": "markdown",
   "metadata": {},
   "source": [
    "La ultima línea se utiliza para garantizar la ejecución de la consulta\n",
    "* timeout es el tiempo para cada ejecución\n",
    "* max_retries el número de intentos si la conexión falla\n",
    "* retry_on_timeout para activar los reitentos"
   ]
  },
  {
   "cell_type": "code",
   "execution_count": 2,
   "metadata": {},
   "outputs": [],
   "source": [
    "context = create_default_context(cafile=parametros.cafile)\n",
    "es = Elasticsearch(\n",
    "    parametros.servidor,\n",
    "    http_auth=(parametros.usuario_EC, parametros.password_EC),\n",
    "    scheme=\"https\",\n",
    "    port=parametros.puerto,\n",
    "    ssl_context=context,\n",
    "    timeout=133, max_retries=3, retry_on_timeout=True\n",
    ")"
   ]
  },
  {
   "cell_type": "markdown",
   "metadata": {},
   "source": [
    "Función para realizar consultas cuando la cantidad de registros es mayor a 10.000"
   ]
  },
  {
   "cell_type": "code",
   "execution_count": 3,
   "metadata": {},
   "outputs": [],
   "source": [
    "def custom_scan(query, index, total_docs, client):\n",
    "    \n",
    "    results = helpers.scan(client, index=index, query=query)\n",
    "    \n",
    "    data = []\n",
    "    for item in results:\n",
    "        data.append(item['_source'])\n",
    "        if len(data) >= total_docs:\n",
    "            break\n",
    "            \n",
    "    return pd.DataFrame(data)"
   ]
  },
  {
   "cell_type": "markdown",
   "metadata": {},
   "source": [
    "### Calculando fechas para la ejecución"
   ]
  },
  {
   "cell_type": "markdown",
   "metadata": {},
   "source": [
    "* Se calculan las fechas para asociar al nombre del indice\n",
    "* fecha_hoy es usada para concatenar al nombre del indice principal previa inserción"
   ]
  },
  {
   "cell_type": "code",
   "execution_count": 4,
   "metadata": {},
   "outputs": [],
   "source": [
    "now = datetime.now()\n",
    "fecha_hoy = str(now.strftime(\"%Y.%m.%d\"))"
   ]
  },
  {
   "cell_type": "markdown",
   "metadata": {},
   "source": [
    "### nombre de indice donde se insertará"
   ]
  },
  {
   "cell_type": "code",
   "execution_count": 5,
   "metadata": {},
   "outputs": [],
   "source": [
    "indice = parametros.usuarios_tablero09_index \n",
    "indice_control = parametros.tableros_mintic_control"
   ]
  },
  {
   "cell_type": "markdown",
   "metadata": {},
   "source": [
    "### Funcion para construir JSON compatible con ElasticSearch"
   ]
  },
  {
   "cell_type": "code",
   "execution_count": 6,
   "metadata": {},
   "outputs": [],
   "source": [
    "def filterKeys(document, use_these_keys):\n",
    "    return {key: document.get(key) for key in use_these_keys }"
   ]
  },
  {
   "cell_type": "markdown",
   "metadata": {},
   "source": [
    "### Trae la ultima fecha para control de ejecución"
   ]
  },
  {
   "cell_type": "markdown",
   "metadata": {},
   "source": [
    "Cuando en el rango de tiempo de la ejecución, no se insertan nuevos valores, las fecha maxima en indice mintic no aumenta, por tanto se usa esta fecha de control para garantizar que incremente el bucle de ejecución"
   ]
  },
  {
   "cell_type": "code",
   "execution_count": 7,
   "metadata": {},
   "outputs": [
    {
     "name": "stdout",
     "output_type": "stream",
     "text": [
      "ultima fecha para control de ejecucion: 2021-06-04 17:10:00\n"
     ]
    }
   ],
   "source": [
    "total_docs = 1\n",
    "try:\n",
    "    response = es.search(\n",
    "        index= indice_control,\n",
    "        body={\n",
    "           \"_source\": [\"tablero09.fechaControl\"],\n",
    "              \"query\": {\n",
    "                \"bool\": {\n",
    "                  \"filter\": [\n",
    "                  {\n",
    "                    \"exists\": {\n",
    "                      \"field\":\"jerarquia-tablero09\"\n",
    "                    }\n",
    "                  }\n",
    "              ]\n",
    "            }\n",
    "          }\n",
    "        },\n",
    "        size=total_docs\n",
    "    )\n",
    "    #print(es.info())\n",
    "    elastic_docs = response[\"hits\"][\"hits\"]\n",
    "    fields = {}\n",
    "    for num, doc in enumerate(elastic_docs):\n",
    "        fecha_ejecucion = doc[\"_source\"]['tablero09.fechaControl']\n",
    "except Exception as e:\n",
    "    print(e)\n",
    "    response[\"hits\"][\"hits\"] = []\n",
    "if response[\"hits\"][\"hits\"] == []:\n",
    "    fecha_ejecucion = '2021-05-14 00:00:00'\n",
    "print(\"ultima fecha para control de ejecucion:\",fecha_ejecucion)"
   ]
  },
  {
   "cell_type": "markdown",
   "metadata": {},
   "source": [
    "### leyendo indice semilla-inventario"
   ]
  },
  {
   "cell_type": "markdown",
   "metadata": {},
   "source": [
    "En el script que ingesta semilla, trae la información de los centros de conexión administrados. Para el indice principal se requiere:\n",
    "* site_id como llave del centro de conexión.\n",
    "* Datos geográficos (Departamento, municipio, centro poblado, sede, energía, latitud, longitud,COD_ISO, id_Beneficiario)."
   ]
  },
  {
   "cell_type": "code",
   "execution_count": 8,
   "metadata": {},
   "outputs": [],
   "source": [
    "\n",
    "total_docs = 10000\n",
    "try:\n",
    "    response = es.search(\n",
    "        index= parametros.semilla_inventario_index,\n",
    "        body={\n",
    "               \"_source\": ['site_id','nombre_municipio', 'nombre_departamento', 'nombre_centro_pob', 'nombreSede' \n",
    "                           , 'energiadesc', 'latitud', 'longitud', 'COD_ISO','id_Beneficiario']\n",
    "        },\n",
    "        size=total_docs\n",
    "    )\n",
    "    elastic_docs = response[\"hits\"][\"hits\"]  \n",
    "    datos_semilla = pd.DataFrame([x[\"_source\"] for x in elastic_docs])  \n",
    "except:\n",
    "    exit()\n"
   ]
  },
  {
   "cell_type": "markdown",
   "metadata": {},
   "source": [
    "Se eliminan espacios en blanco"
   ]
  },
  {
   "cell_type": "code",
   "execution_count": 9,
   "metadata": {},
   "outputs": [],
   "source": [
    "datos_semilla['site_id'] = datos_semilla['site_id'].str.strip()"
   ]
  },
  {
   "cell_type": "markdown",
   "metadata": {},
   "source": [
    "### Cambiando nombre de campos y generando location"
   ]
  },
  {
   "cell_type": "markdown",
   "metadata": {},
   "source": [
    "* Se valida latitud y longitud. Luego se calcula campo location<br>\n",
    "* Se renombran los campos de semilla"
   ]
  },
  {
   "cell_type": "code",
   "execution_count": 10,
   "metadata": {},
   "outputs": [],
   "source": [
    "def get_location(x,y='lat'):\n",
    "    patron = re.compile('^(\\-?\\d+(\\.\\d+)?),\\s*(\\-?\\d+(\\.\\d+)?)$') #patrÃ³n que debe cumplir\n",
    "    if (not patron.match(x) is None) and (str(x)!=''):\n",
    "        return x.replace(',','.')\n",
    "    else:\n",
    "        return '4.596389' if y=='lat' else '-74.074639'\n",
    "    \n",
    "datos_semilla['latitud'] = datos_semilla['latitud'].apply(lambda x:get_location(x,'lat'))\n",
    "datos_semilla['longitud'] = datos_semilla['longitud'].apply(lambda x:get_location(x,'lon'))\n",
    "datos_semilla = datos_semilla.drop(datos_semilla[(datos_semilla[\"longitud\"]=='a') | (datos_semilla[\"latitud\"]=='a')].index)\n",
    "datos_semilla['usuarios.location'] = datos_semilla['latitud'] + ',' + datos_semilla['longitud']\n",
    "datos_semilla['usuarios.location']=datos_semilla['usuarios.location'].str.replace('a,a','')\n",
    "datos_semilla.drop(columns=['latitud','longitud'],inplace=True)"
   ]
  },
  {
   "cell_type": "code",
   "execution_count": 11,
   "metadata": {},
   "outputs": [],
   "source": [
    "datos_semilla = datos_semilla.rename(columns={'lugar_cod' : 'usuarios.centroDigitalUsuarios'\n",
    "                                            , 'nombre_municipio': 'usuarios.nombreMunicipio'\n",
    "                                            , 'nombre_departamento' : 'usuarios.nombreDepartamento'\n",
    "                                            , 'nombre_centro_pob': 'usuarios.localidad'\n",
    "                                            , 'nombreSede' : 'usuarios.nomCentroDigital'\n",
    "                                            , 'energiadesc' : 'usuarios.sistemaEnergia'\n",
    "                                            , 'COD_ISO' : 'usuarios.codISO'\n",
    "                                            , 'id_Beneficiario' : 'usuarios.idBeneficiario'})"
   ]
  },
  {
   "cell_type": "markdown",
   "metadata": {},
   "source": [
    "Se descartan los registros que tengan la latitud y longitud vacía o no valida"
   ]
  },
  {
   "cell_type": "code",
   "execution_count": 12,
   "metadata": {},
   "outputs": [],
   "source": [
    "datos_semilla = datos_semilla.drop(datos_semilla[(datos_semilla[\"usuarios.location\"]=='')].index)"
   ]
  },
  {
   "cell_type": "markdown",
   "metadata": {},
   "source": [
    "### leyendo indice cambium-devicedevices"
   ]
  },
  {
   "cell_type": "markdown",
   "metadata": {},
   "source": [
    "Se lee la información de los dispositivos de red monitoreados por Cambium. En esta lectura no hay referencia de fechas ya que solo hay una ocurrencia por MAC de dispositivo de red.\n",
    "\n",
    "* site_id es la llave para cruzar con cada centro de conexión.\n",
    "* mac, status, ip son datos básicos del dispositivo.\n",
    "* ap_group para identificar si la conexión es indoor/outdoor"
   ]
  },
  {
   "cell_type": "code",
   "execution_count": 13,
   "metadata": {},
   "outputs": [],
   "source": [
    "try:\n",
    "    \n",
    "    query = {\n",
    "        \"_source\": [\"site_id\",\"mac\",\"status\",\"ip\",\"ap_group\"], \n",
    "        \"query\": {\n",
    "            \"match_all\": {}\n",
    "        }\n",
    "    }\n",
    "    \n",
    "    datos_dev = custom_scan(\n",
    "        query, \n",
    "        parametros.cambium_d_d_index,\n",
    "        total_docs=30000, \n",
    "        client=es\n",
    "    )\n",
    "    \n",
    "    datos_dev['site_id'] = datos_dev['site_id'].str.strip()\n",
    "except:\n",
    "    exit()"
   ]
  },
  {
   "cell_type": "markdown",
   "metadata": {},
   "source": [
    "Se descartan registros con site_id vacios ya que no cruzarán en el merge y se limpian los NaN del dataframe."
   ]
  },
  {
   "cell_type": "code",
   "execution_count": 14,
   "metadata": {},
   "outputs": [],
   "source": [
    "datos_dev.dropna(subset=['site_id'], inplace=True)\n",
    "datos_dev.fillna('', inplace=True)\n",
    "datos_dev = datos_dev.drop(datos_dev[(datos_dev['site_id']=='')].index)"
   ]
  },
  {
   "cell_type": "code",
   "execution_count": 15,
   "metadata": {},
   "outputs": [],
   "source": [
    "datos_dev['ap_group'] = datos_dev['ap_group'].str.split(\"-\", n = 1, expand = True)[0]\n",
    "datos_dev['ap_group'] = datos_dev['ap_group'].str.split(\"_\", n = 1, expand = True)[0]\n",
    "datos_dev['ap_group'] = datos_dev['ap_group'].str.split(\".\", n = 1, expand = True)[0]\n",
    "datos_dev = datos_dev.drop(datos_dev[(datos_dev['ap_group']=='')].index)"
   ]
  },
  {
   "cell_type": "markdown",
   "metadata": {},
   "source": [
    "Se toman solo los datos unicos con mac."
   ]
  },
  {
   "cell_type": "code",
   "execution_count": 16,
   "metadata": {},
   "outputs": [],
   "source": [
    "datos_dev = datos_dev.drop_duplicates('mac')"
   ]
  },
  {
   "cell_type": "markdown",
   "metadata": {},
   "source": [
    "Se cambia el nombre a la mac del dispositivo de red para no confundir con la de dispositivos de usuario "
   ]
  },
  {
   "cell_type": "code",
   "execution_count": 17,
   "metadata": {},
   "outputs": [],
   "source": [
    "datos_dev= datos_dev.rename(columns={'mac' : 'usuarios.macRed','ap_group' : 'usuarios.apGroup'})"
   ]
  },
  {
   "cell_type": "markdown",
   "metadata": {},
   "source": [
    "## Lectura de datos ohmyfi-detalleconexiones"
   ]
  },
  {
   "cell_type": "markdown",
   "metadata": {},
   "source": [
    "Los datos que se toman son:\n",
    "* fechahora (de cada conexión). fecha_control es lo mismo pero con el intervalo de 10 minutos\n",
    "* Información del centro: lugar, lugar_cod.\n",
    "* Información del dispositivo de usuario: mac_usuario, dispositivo, sistema_operativo.\n",
    "* Información de usuario: tipodoc y documento"
   ]
  },
  {
   "cell_type": "code",
   "execution_count": 18,
   "metadata": {},
   "outputs": [],
   "source": [
    "def trae_conexiones(fecha_ini, fecha_fin, client):\n",
    "    total_docs=5000000\n",
    "    query = {\n",
    "        \"_source\": [\n",
    "            \"fechahora\", \"fecha_control\", \"lugar\", \"lugar_cod\", \n",
    "            \"mac_usuario\", \"dispositivo\", \"sistema_operativo\",'tipodoc', \n",
    "            'documento'\n",
    "        ], \n",
    "        \"query\": {\n",
    "            \"range\": {\n",
    "                \"fechahora\": {\n",
    "                    \"gte\": fecha_ini,\n",
    "                    \"lt\": fecha_fin, \n",
    "                }\n",
    "            }\n",
    "        }\n",
    "    }\n",
    "\n",
    "    return custom_scan(\n",
    "        query, \n",
    "        parametros.ohmyfi_d_c_index,\n",
    "        total_docs=5000000, \n",
    "        client=client\n",
    "    )"
   ]
  },
  {
   "cell_type": "markdown",
   "metadata": {},
   "source": [
    "### Lanzando ejecución de consulta"
   ]
  },
  {
   "cell_type": "markdown",
   "metadata": {},
   "source": [
    "* Se calcula rango en base a la fecha de control. Para este caso es de 10 minutos.\n",
    "* Se ejecuta la función de consulta con el rango de fechas.\n",
    "* Si no retorna datos se incrementa el rango y se ejecuta nuevamente. Este proceso se repite hasta conseguir datos o hasta que el rango de ejecución alcance la fecha y hora actual.\n"
   ]
  },
  {
   "cell_type": "code",
   "execution_count": 19,
   "metadata": {},
   "outputs": [],
   "source": [
    "fecha_max_mintic = fecha_ejecucion\n",
    "fecha_tope_mintic = datetime.strptime(fecha_max_mintic, \"%Y-%m-%d %H:%M:%S\")\n",
    "fecha_tope_mintic += timedelta(minutes=50)\n",
    "fecha_tope_mintic -= timedelta(seconds=1)\n",
    "fecha_tope_mintic = fecha_tope_mintic.strftime(\"%Y-%m-%d %H:%M:%S\")\n",
    "\n",
    "datos_det_conex = trae_conexiones(fecha_max_mintic, fecha_tope_mintic, es)\n",
    "\n",
    "if datos_det_conex is None or datos_det_conex.empty:\n",
    "    \n",
    "    while (datos_det_conex is None or datos_det_conex.empty) and ((datetime.strptime(fecha_max_mintic[0:10], '%Y-%m-%d').strftime(\"%Y-%m-%d %H:%M:%S\")) < str(now.strftime(\"%Y-%m-%d %H:%M:%S\"))):\n",
    "        \n",
    "        fecha_max_mintic = datetime.strptime(fecha_max_mintic, \"%Y-%m-%d %H:%M:%S\") \n",
    "        fecha_max_mintic += timedelta(minutes=50)\n",
    "        fecha_max_mintic = fecha_max_mintic.strftime(\"%Y-%m-%d %H:%M:%S\")\n",
    "        \n",
    "        fecha_tope_mintic = datetime.strptime(fecha_tope_mintic, \"%Y-%m-%d %H:%M:%S\") \n",
    "        fecha_tope_mintic += timedelta(minutes=50)\n",
    "        fecha_tope_mintic = fecha_tope_mintic.strftime(\"%Y-%m-%d %H:%M:%S\")\n",
    "        \n",
    "        datos_det_conex = trae_conexiones(fecha_max_mintic, fecha_tope_mintic, es)\n",
    "else:\n",
    "    pass"
   ]
  },
  {
   "cell_type": "code",
   "execution_count": 20,
   "metadata": {},
   "outputs": [],
   "source": [
    "datos_det_conex['fecha'] = datos_det_conex['fecha_control'].str.split(\" \", n = 1, expand = True)[0]\n",
    "datos_det_conex.drop_duplicates(subset=[\"fecha_control\",\"lugar\",\"lugar_cod\",\"mac_usuario\", \"dispositivo\",\"sistema_operativo\",'tipodoc','documento'],inplace=True)"
   ]
  },
  {
   "cell_type": "code",
   "execution_count": 21,
   "metadata": {},
   "outputs": [],
   "source": [
    "datos_det_conex = datos_det_conex.rename(columns={'lugar_cod' : 'site_id'\n",
    "                                                   ,'fechahora':'usuarios.fechaConexionUsuarios'\n",
    "                                                   ,'dispositivo': 'usuarios.tipoDispositivoUsuarios'\n",
    "                                                   , 'sistema_operativo': 'usuarios.sistemaOperativoUsuarios'})"
   ]
  },
  {
   "cell_type": "code",
   "execution_count": 22,
   "metadata": {},
   "outputs": [],
   "source": [
    "datos_det_conex['site_id'] = datos_det_conex['site_id'].str.strip()"
   ]
  },
  {
   "cell_type": "markdown",
   "metadata": {},
   "source": [
    "### Se lee información de Ohmyfi consumos"
   ]
  },
  {
   "cell_type": "markdown",
   "metadata": {},
   "source": [
    "Apartir de esta lectura se toma el valor del tiempo promedio de sesión en minutos. Se toma de referencia los campos:\n",
    "* fecha_inicio a partir de la cual se calcula fecha control\n",
    "* tiempo_sesion_minutos\n",
    "* mac_ap\n",
    "* mac_usuario \n",
    "* lugar_cod"
   ]
  },
  {
   "cell_type": "code",
   "execution_count": 23,
   "metadata": {},
   "outputs": [],
   "source": [
    "def traeSesiones(fecha_max, fecha_tope, client):\n",
    "    query = {\n",
    "        \"_source\": [\"lugar_cod\", \"tiempo_sesion_minutos\", \"mac_ap\", \"mac_usuario\",\"fecha_inicio\"],\n",
    "        \"query\": {\n",
    "            \"range\": {\n",
    "                \"fecha_inicio\": {\n",
    "                    \"gte\": fecha_max,\n",
    "                    \"lt\": fecha_tope\n",
    "                }\n",
    "            }\n",
    "        }\n",
    "    }\n",
    "\n",
    "    return custom_scan(\n",
    "        query, \n",
    "        parametros.ohmyfi_consumos_index,\n",
    "        total_docs=500000, \n",
    "        client=client\n",
    "    )"
   ]
  },
  {
   "cell_type": "markdown",
   "metadata": {},
   "source": [
    "### Se lee la información de cambium device client"
   ]
  },
  {
   "cell_type": "markdown",
   "metadata": {},
   "source": [
    "Esta lectura se usa para identificar: <br>\n",
    "* Lecturas de consumo por dispositivo (radios rx y tx)<br>\n",
    "* Fabricante del dispositivo<br>\n",
    "* la mac del ap que luego se usa para identificar el ap group(Indoor/Outdoor)"
   ]
  },
  {
   "cell_type": "code",
   "execution_count": 24,
   "metadata": {},
   "outputs": [],
   "source": [
    "query = {\n",
    "    \"_source\": [\n",
    "        \"mac\", \"ap_mac\", 'manufacturer', 'name', \n",
    "        \"radio.band\", 'radio.rx_bytes','radio.tx_bytes'\n",
    "    ],\n",
    "    \"query\": {\n",
    "        \"bool\": {\n",
    "            \"filter\": [{\n",
    "                \"exists\": {\n",
    "                    \"field\":\"mac\"\n",
    "                }\n",
    "            }]\n",
    "        }\n",
    "    }\n",
    "}\n",
    "\n",
    "datos_dev_clients = custom_scan(\n",
    "    query, \n",
    "    parametros.cambium_d_c_index,\n",
    "    total_docs=30000000, \n",
    "    client=es\n",
    ")"
   ]
  },
  {
   "cell_type": "markdown",
   "metadata": {},
   "source": [
    "* se cruza por mac_usuario\n",
    "* Los merge usan left para evitar perdida de datos en cruce con cambium-devicedevices. Aquellos datos que no cruzan se les marca como no identificados. En condiciones ideales, no debería presentarse ausencia de información\n",
    "* Solo se toma lo que cruza con INNER\n",
    "* se cambia el fabricante [Local MAC]\n",
    "* se cambian lo nulos"
   ]
  },
  {
   "cell_type": "code",
   "execution_count": 25,
   "metadata": {},
   "outputs": [],
   "source": [
    "try:\n",
    "    datos_dev_clients.drop_duplicates(inplace=True)\n",
    "    datos_dev_clients = datos_dev_clients.rename(columns={'ap_mac' : 'usuarios.macRed','mac' : 'mac_usuario'})\n",
    "    datos_dev_clients['manufacturer'] = datos_dev_clients['manufacturer'].replace(\"[Local MAC]\", \"No identificado\")\n",
    "    datos_dev_clients.fillna({'manufacturer':'No identificado'},inplace=True)\n",
    "    \n",
    "    datos_det_conex = pd.merge(datos_det_conex,  datos_dev_clients, on='mac_usuario',how='left')\n",
    "    datos_det_conex = pd.merge(datos_det_conex,datos_dev[['usuarios.macRed','usuarios.apGroup']],on='usuarios.macRed', how='left')\n",
    "    \n",
    "    datos_det_conex.fillna({'usuarios.tipoDispositivoUsuarios':'No identificado'\n",
    "                       ,'usuarios.sistemaOperativoUsuarios':'No identificado'\n",
    "                       ,'manufacturer':'No identificado'\n",
    "                       ,'radio.band':'No identificado'\n",
    "                       },inplace=True)\n",
    "except:\n",
    "    pass"
   ]
  },
  {
   "cell_type": "markdown",
   "metadata": {},
   "source": [
    "## Calculando totales por dispositivos"
   ]
  },
  {
   "cell_type": "markdown",
   "metadata": {},
   "source": [
    "Se agrupa por:<br>\n",
    "* Sistema operativo<br>\n",
    "* Tipo dispositivo<br>\n",
    "* Marca del terminal<br>\n",
    "* Tecnologia terminal<br>\n",
    "<br>\n",
    "Se cuentan las mac de usuario para cada site id y fecha control"
   ]
  },
  {
   "cell_type": "code",
   "execution_count": 26,
   "metadata": {},
   "outputs": [],
   "source": [
    "try:\n",
    "    totalesDispositivos = datos_det_conex[[\"fecha_control\",\"site_id\"\n",
    "                                         ,\"usuarios.sistemaOperativoUsuarios\"\n",
    "                                         ,'usuarios.tipoDispositivoUsuarios'\n",
    "                                         ,'manufacturer'\n",
    "                                         ,'radio.band'\n",
    "                                         ,\"mac_usuario\"]].groupby([\"fecha_control\",\"site_id\"\n",
    "                                                             ,\"usuarios.sistemaOperativoUsuarios\"\n",
    "                                                             ,'usuarios.tipoDispositivoUsuarios'\n",
    "                                                             ,'manufacturer'\n",
    "                                                             ,'radio.band']).agg(['count']).reset_index()\n",
    "    totalesDispositivos.columns = totalesDispositivos.columns.droplevel(1)\n",
    "    totalesDispositivos= totalesDispositivos.rename(columns={'mac_usuario' : 'usuarios.totales.dispositivos'\n",
    "                                                            ,'fecha_control' : 'usuarios.fechaControl'\n",
    "                                                            ,'manufacturer' : 'usuarios.marcaTerminal'\n",
    "                                                            ,'radio.band' : 'usuarios.tecnologiaTerminal'\n",
    "                                                            })\n",
    "    totalesDispositivos = pd.merge(totalesDispositivos, datos_semilla, on='site_id',how='inner')\n",
    "    totalesDispositivos[\"usuarios.fecha\"] = totalesDispositivos[\"usuarios.fechaControl\"].str.split(\" \", n = 1, expand = True)[0]\n",
    "    totalesDispositivos[\"usuarios.anyo\"] = totalesDispositivos[\"usuarios.fecha\"].str[0:4]\n",
    "    totalesDispositivos[\"usuarios.mes\"] = totalesDispositivos[\"usuarios.fecha\"].str[5:7]\n",
    "    totalesDispositivos[\"usuarios.dia\"] = totalesDispositivos[\"usuarios.fecha\"].str[8:10]\n",
    "    totalesDispositivos[\"usuarios.hora\"] = totalesDispositivos[\"usuarios.fechaControl\"].str.split(\" \", n = 1, expand = True)[1].str.split(\":\", n = 2, expand = True)[0]\n",
    "    totalesDispositivos[\"usuarios.minuto\"] = totalesDispositivos[\"usuarios.fechaControl\"].str.split(\" \", n = 1, expand = True)[1].str.split(\":\", n = 2, expand = True)[1]\n",
    "    totalesDispositivos= totalesDispositivos.rename(columns={'site_id' : 'usuarios.siteID'})\n",
    "    totalesDispositivos['nombreDepartamento'] = totalesDispositivos['usuarios.nombreDepartamento']\n",
    "    totalesDispositivos['nombreMunicipio'] = totalesDispositivos['usuarios.nombreMunicipio']\n",
    "    totalesDispositivos['idBeneficiario'] = totalesDispositivos['usuarios.idBeneficiario']\n",
    "    totalesDispositivos['fecha'] = totalesDispositivos['usuarios.fecha']\n",
    "    totalesDispositivos['anyo'] = totalesDispositivos['usuarios.anyo']\n",
    "    totalesDispositivos['mes'] = totalesDispositivos['usuarios.mes']\n",
    "    totalesDispositivos['dia'] = totalesDispositivos['usuarios.dia']\n",
    "    totalesDispositivos['@timestamp'] = now.isoformat()\n",
    "        \n",
    "    totalesDispositivos = cambioVariable(totalesDispositivos)\n",
    "\n",
    "except:\n",
    "    pass\n",
    "   "
   ]
  },
  {
   "cell_type": "markdown",
   "metadata": {},
   "source": [
    "# Calculando usuarios conectados"
   ]
  },
  {
   "cell_type": "markdown",
   "metadata": {},
   "source": [
    "* Se calcula cantidad de sesiones por sitio con detalle conexiones, pero contando la ocurrencia unica de documento<br>\n",
    "* Se calcula la cantidad de conexiones. Se agrupa por el campo usuarios.macRed(el cual corresponde al AP) y fecha_control. Se cuenta las ocurrencias de mac_usuario. Luego al cruzar con flujo principal, si el dato es nulo para ese momento, se debe colocar en 0."
   ]
  },
  {
   "cell_type": "code",
   "execution_count": 27,
   "metadata": {},
   "outputs": [],
   "source": [
    "fecha_max_mintic = fecha_ejecucion\n",
    "fecha_tope_mintic = datetime.strptime(fecha_max_mintic, '%Y-%m-%d %H:%M:%S') \n",
    "fecha_tope_mintic += timedelta(minutes=50) \n",
    "fecha_tope_mintic -= timedelta(seconds=1)\n",
    "fecha_tope_mintic = fecha_tope_mintic.strftime(\"%Y-%m-%d %H:%M:%S\")\n",
    "\n",
    "datos_consumos = traeSesiones(fecha_max_mintic, fecha_tope_mintic, es)\n",
    "\n",
    "try:\n",
    "\n",
    "    if datos_consumos is None or datos_consumos.empty:\n",
    "        \n",
    "        while (datos_consumos is None or datos_consumos.empty) and ((datetime.strptime(fecha_max_mintic[0:50], '%Y-%m-%d %H:%M:%S\"').strftime(\"%Y-%m-%d %H:%M:%S\")) < str(now.strftime(\"%Y-%m-%d %H:%M:%S\"))):\n",
    "            \n",
    "            fecha_max_mintic = datetime.strptime(fecha_max_mintic, '%Y-%m-%d %H:%M:%S') \n",
    "            fecha_max_mintic += timedelta(minutes=50)\n",
    "            fecha_max_mintic = fecha_max_mintic.strftime(\"%Y-%m-%d %H:%M:%S\")\n",
    "            \n",
    "            fecha_tope_mintic = datetime.strptime(fecha_tope_mintic, '%Y-%m-%d %H:%M:%S') \n",
    "            fecha_tope_mintic += timedelta(minutes=50)\n",
    "            fecha_tope_mintic = fecha_tope_mintic.strftime(\"%Y-%m-%d %H:%M:%S\")\n",
    "            \n",
    "            datos_consumos = traeSesiones(fecha_max_mintic, fecha_tope_mintic, es)\n",
    "    else:\n",
    "        pass\n",
    "except:\n",
    "    pass"
   ]
  },
  {
   "cell_type": "markdown",
   "metadata": {},
   "source": [
    "### Se lee el indice all-cambium-device-client"
   ]
  },
  {
   "cell_type": "markdown",
   "metadata": {},
   "source": [
    "* En este indice se guarda el detalle de los radio por fecha<br>\n",
    "* Detalle conexiones cruza con device clients. Con estos se calculan los totales por marca"
   ]
  },
  {
   "cell_type": "code",
   "execution_count": 28,
   "metadata": {},
   "outputs": [],
   "source": [
    "def traeRadio(fecha_max, fecha_tope, client):\n",
    "    \n",
    "    query = {\n",
    "        \"_source\": [\n",
    "            'mac', 'ap_mac', 'radio.band', 'radio.rx_bytes', \n",
    "            'radio.tx_bytes','fecha_control'\n",
    "        ], \n",
    "        \"query\": {\n",
    "            \"range\": {\n",
    "                \"fecha_control\": {\n",
    "                    \"gte\": fecha_max_mintic,\n",
    "                    \"lt\": fecha_tope_mintic\n",
    "                }\n",
    "            }\n",
    "        }\n",
    "    }\n",
    "\n",
    "    return custom_scan(\n",
    "        query, \n",
    "        'all-'+parametros.cambium_d_c_index,\n",
    "        total_docs=100000, \n",
    "        client=client\n",
    "    )\n",
    "\n",
    "query = {\n",
    "    \"_source\": [\n",
    "        'mac', 'ap_mac', 'radio.band', 'radio.rx_bytes', \n",
    "        'radio.tx_bytes','fecha_control'\n",
    "    ], \n",
    "    \"query\": {\n",
    "          \"range\": {\n",
    "              \"fecha_control\": {\n",
    "                  \"gte\": fecha_max_mintic,\n",
    "                  \"lt\": fecha_tope_mintic\n",
    "              }\n",
    "          }\n",
    "    }\n",
    "}\n",
    "\n",
    "datos_radio = custom_scan(\n",
    "    query, \n",
    "    'all-'+parametros.cambium_d_c_index,\n",
    "    total_docs=100000, \n",
    "    client=es\n",
    ")\n",
    "\n",
    "datos_performance = datos_radio"
   ]
  },
  {
   "cell_type": "code",
   "execution_count": 29,
   "metadata": {},
   "outputs": [],
   "source": [
    "if datos_performance is None or datos_performance.empty:\n",
    "    while (datos_performance is None or datos_performance.empty) and ((datetime.strptime(fecha_max_mintic[0:10], '%Y-%m-%d').strftime(\"%Y-%m-%d %H:%M:%S\")) < str(now.strftime(\"%Y-%m-%d %H:%M:%S\"))):\n",
    "        fecha_max_mintic = (datetime.strptime(fecha_max_mintic, '%Y-%m-%d %H:%M:%S')+timedelta(minutes=50)).strftime(\"%Y-%m-%d %H:%M:%S\")\n",
    "        fecha_tope_mintic = (datetime.strptime(fecha_tope_mintic, '%Y-%m-%d %H:%M:%S')+timedelta(minutes=50)).strftime(\"%Y-%m-%d %H:%M:%S\")\n",
    "        datos_performance = traeRadio(fecha_max_mintic, fecha_tope_mintic, es)\n",
    "else:\n",
    "    pass"
   ]
  },
  {
   "cell_type": "code",
   "execution_count": 30,
   "metadata": {},
   "outputs": [],
   "source": [
    "try:\n",
    "    datos_logins = datos_det_conex[['fecha_control', 'site_id', 'documento','usuarios.macRed']].groupby([\"fecha_control\",\"site_id\",\"usuarios.macRed\"])['documento'].nunique().reset_index()\n",
    "    datos_logins= datos_logins.rename(columns={'documento' : 'usuarios.sesiones_Usuarios'})\n",
    "    \n",
    "    ################# datos_performance #####################\n",
    "    datos_performance['fecha_control'] = datos_performance[\"fecha_control\"].str[0:-4] + '0:00'\n",
    "    datos_performance.replace('','0',inplace=True)\n",
    "    datos_performance.fillna({'radio.rx_bytes':0,'radio.tx_bytes':0},inplace=True)\n",
    "    datos_performance['radio.rx_bytes'] = datos_performance['radio.rx_bytes'].astype(float)\n",
    "    datos_performance['radio.tx_bytes'] = datos_performance['radio.tx_bytes'].astype(float)\n",
    "    \n",
    "    datos_performance = datos_performance.groupby(['ap_mac', 'fecha_control', 'mac', 'radio.band']).agg(['max']).reset_index()\n",
    "    datos_performance.columns = datos_performance.columns.droplevel(1)\n",
    "    datos_performance = datos_performance[['ap_mac'\n",
    "                                         , 'fecha_control'\n",
    "                                         , 'radio.rx_bytes'\n",
    "                                         , 'radio.tx_bytes']].groupby(['ap_mac'\n",
    "                                                                     , 'fecha_control']).agg(['sum']).reset_index()\n",
    "    datos_performance.columns = datos_performance.columns.droplevel(1)\n",
    "    datos_performance = datos_performance.rename(columns={'radio.rx_bytes': 'usuarios.consumoUsuariosDescarga_aux'\n",
    "                                                     , 'radio.tx_bytes':'usuarios.consumoUsuariosCarga_aux'})\n",
    "    \n",
    "    datos_performance['usuarios.consumoUsuariosDescarga'] = round((datos_performance['usuarios.consumoUsuariosDescarga_aux']/float(1<<30)),6)\n",
    "    datos_performance['usuarios.consumoUsuariosCarga'] = round((datos_performance['usuarios.consumoUsuariosCarga_aux']/float(1<<30)),6)\n",
    "    datos_performance['usuarios.consumoUsuarios'] = datos_performance['usuarios.consumoUsuariosDescarga'] + datos_performance['usuarios.consumoUsuariosCarga']\n",
    "    datos_performance['usuarios.consumoUsuarios'] = round(datos_performance['usuarios.consumoUsuarios'],6)\n",
    "    datos_performance = datos_performance.rename(columns={'ap_mac':'usuarios.macRed'})\n",
    "    \n",
    "    \n",
    "    datos_performance = pd.merge(datos_performance,datos_dev[['site_id','usuarios.macRed','usuarios.apGroup']],on='usuarios.macRed', how='left')\n",
    "    \n",
    "    aux_performance = pd.merge(datos_performance,  datos_semilla, on='site_id',how='inner')\n",
    "    aux_performance.fillna({'usuarios.consumoUsuariosDescarga':0,\n",
    "                              'usuarios.consumoUsuariosCarga':0,\n",
    "                              'usuarios.consumoUsuarios':0,\n",
    "                              'usuarios.apGroup':'No identificado'},inplace=True)\n",
    "    aux_performance = aux_performance.rename(columns={'fecha_control':'usuarios.fechaControl'\n",
    "                                                           ,'site_id' : 'usuarios.siteID'})\n",
    "    \n",
    "    aux_performance[\"usuarios.fecha\"] = aux_performance[\"usuarios.fechaControl\"].str.split(\" \", n = 1, expand = True)[0]\n",
    "    aux_performance[\"usuarios.anyo\"] = aux_performance[\"usuarios.fecha\"].str[0:4]\n",
    "    aux_performance[\"usuarios.mes\"] = aux_performance[\"usuarios.fecha\"].str[5:7]\n",
    "    aux_performance[\"usuarios.dia\"] = aux_performance[\"usuarios.fecha\"].str[8:10]\n",
    "    aux_performance[\"usuarios.hora\"] = aux_performance[\"usuarios.fechaControl\"].str.split(\" \", n = 1, expand = True)[1].str.split(\":\", n = 2, expand = True)[0]\n",
    "    aux_performance[\"usuarios.minuto\"] = aux_performance[\"usuarios.fechaControl\"].str.split(\" \", n = 1, expand = True)[1].str.split(\":\", n = 2, expand = True)[1]\n",
    "    \n",
    "    aux_performance['nombreDepartamento'] = aux_performance['usuarios.nombreDepartamento']\n",
    "    aux_performance['nombreMunicipio'] = aux_performance['usuarios.nombreMunicipio']\n",
    "    aux_performance['idBeneficiario'] = aux_performance['usuarios.idBeneficiario']\n",
    "    aux_performance['fecha'] = aux_performance['usuarios.fecha']\n",
    "    aux_performance['anyo'] = aux_performance['usuarios.anyo']\n",
    "    aux_performance['mes'] = aux_performance['usuarios.mes']\n",
    "    aux_performance['dia'] = aux_performance['usuarios.dia']\n",
    "    \n",
    "    \n",
    "    ##################\n",
    "    usuariosConectados = datos_det_conex[[\"fecha_control\",\"site_id\",\"usuarios.macRed\",\"mac_usuario\"]].groupby([\"fecha_control\",\"site_id\",\"usuarios.macRed\"]).agg(['count']).reset_index()\n",
    "    usuariosConectados.columns = usuariosConectados.columns.droplevel(1)\n",
    "    usuariosConectados= usuariosConectados.rename(columns={'mac_usuario' : 'usuarios.tablero11usuariosConectados'})\n",
    "    \n",
    "    ###################\n",
    "    usuariosConectados = pd.merge(usuariosConectados,datos_logins, on=[\"fecha_control\",\"site_id\",\"usuarios.macRed\"], how='inner')\n",
    "    \n",
    "    usuariosConectados= usuariosConectados.rename(columns={'usuarios.sesiones_Usuarios' : 'usuarios.tablero11sesiones_Usuarios'})\n",
    "    \n",
    "    ###################\n",
    "    usuariosConectados = pd.merge(datos_semilla,  usuariosConectados, on=['site_id'], how='inner')\n",
    "    \n",
    "   \n",
    "    #Al parecer no esta viniendo consumoUsuario....\n",
    "    \n",
    "    usuariosConectados.fillna({'usuarios.consumoUsuarios' : 0\n",
    "                              ,'usuarios.consumoUsuariosDescarga':0\n",
    "                              ,'usuarios.consumoUsuariosCarga':0},inplace=True)\n",
    "    \n",
    "    ####################\n",
    "    usuariosConectados = pd.merge(usuariosConectados,datos_dev[['usuarios.apGroup','usuarios.macRed']], on ='usuarios.macRed', how='left')\n",
    "    \n",
    "    usuariosConectados.fillna({'usuarios.apGroup':'No identificado'},inplace=True)\n",
    "    usuariosConectados['usuarios.tablero11usuariosConectados'] = usuariosConectados['usuarios.tablero11usuariosConectados'].astype(int)\n",
    "    usuariosConectados = usuariosConectados.rename(columns={'fecha_control':'usuarios.fechaControl'\n",
    "                                                           ,'site_id' : 'usuarios.siteID'})\n",
    "    \n",
    "    usuariosConectados[\"usuarios.fecha\"] = usuariosConectados[\"usuarios.fechaControl\"].str.split(\" \", n = 1, expand = True)[0]\n",
    "    usuariosConectados[\"usuarios.anyo\"] = usuariosConectados[\"usuarios.fecha\"].str[0:4]\n",
    "    usuariosConectados[\"usuarios.mes\"] = usuariosConectados[\"usuarios.fecha\"].str[5:7]\n",
    "    usuariosConectados[\"usuarios.dia\"] = usuariosConectados[\"usuarios.fecha\"].str[8:10]\n",
    "    usuariosConectados[\"usuarios.hora\"] = usuariosConectados[\"usuarios.fechaControl\"].str.split(\" \", n = 1, expand = True)[1].str.split(\":\", n = 2, expand = True)[0]\n",
    "    usuariosConectados[\"usuarios.minuto\"] = usuariosConectados[\"usuarios.fechaControl\"].str.split(\" \", n = 1, expand = True)[1].str.split(\":\", n = 2, expand = True)[1]\n",
    "    \n",
    "    usuariosConectados['nombreDepartamento'] = usuariosConectados['usuarios.nombreDepartamento']\n",
    "    usuariosConectados['nombreMunicipio'] = usuariosConectados['usuarios.nombreMunicipio']\n",
    "    usuariosConectados['idBeneficiario'] = usuariosConectados['usuarios.idBeneficiario']\n",
    "    usuariosConectados['fecha'] = usuariosConectados['usuarios.fecha']\n",
    "    usuariosConectados['anyo'] = usuariosConectados['usuarios.anyo']\n",
    "    usuariosConectados['mes'] = usuariosConectados['usuarios.mes']\n",
    "    usuariosConectados['dia'] = usuariosConectados['usuarios.dia']\n",
    "    \n",
    "    #####################\n",
    "    columnas_aux_performance=['usuarios.macRed', 'usuarios.fechaControl',                               'usuarios.consumoUsuariosDescarga_aux',\n",
    "                               'usuarios.consumoUsuariosCarga_aux', 'usuarios.consumoUsuariosDescarga',\\\n",
    "                               'usuarios.consumoUsuariosCarga', 'usuarios.consumoUsuarios',\\\n",
    "                               'usuarios.siteID', 'usuarios.apGroup']\n",
    "    columnas_merge = ['usuarios.fechaControl','usuarios.siteID','usuarios.apGroup','usuarios.macRed']\n",
    "    \n",
    "    usuariosConectados=pd.merge(usuariosConectados,aux_performance[columnas_aux_performance],on=columnas_merge, how='left')\n",
    "    \n",
    "    usuariosConectados = usuariosConectados.rename(columns=\n",
    "                                                   {'usuarios.consumoUsuariosCarga_aux':'usuarios.tablero11consumoUsuariosCarga_aux'\n",
    "                                                    ,'usuarios.consumoUsuariosDescarga_aux':'usuarios.tablero11consumoUsuariosDescarga_aux'\n",
    "                                                    ,'usuarios.consumoUsuariosCarga' : 'usuarios.tablero11consumoUsuariosCarga'\n",
    "                                                    ,'usuarios.consumoUsuariosDescarga':'usuarios.tablero11consumoUsuariosDescarga'\n",
    "                                                    ,'usuarios.consumoUsuarios':'usuarios.tablero11consumoUsuarios'\n",
    "                                                   })\n",
    "    \n",
    "except:\n",
    "    pass"
   ]
  },
  {
   "cell_type": "code",
   "execution_count": 31,
   "metadata": {},
   "outputs": [],
   "source": [
    "try:\n",
    "    datos_consumos = datos_consumos.rename(columns={'lugar_cod' :'site_id'})\n",
    "    datos_consumos['mac_ap'] = datos_consumos['mac_ap'].str.replace('-',':')\n",
    "    datos_consumos['fecha_control'] = datos_consumos[\"fecha_inicio\"].str[0:-4] + '0:00'\n",
    "    \n",
    "    tiempoPromedioSesionSitio=datos_consumos[['site_id','mac_ap','fecha_control','tiempo_sesion_minutos']].groupby(['site_id','mac_ap','fecha_control']).agg(['mean']).reset_index()\n",
    "    tiempoPromedioSesionSitio.columns = tiempoPromedioSesionSitio.columns.droplevel(1)\n",
    "    tiempoPromedioSesionSitio = tiempoPromedioSesionSitio.rename(columns={'tiempo_sesion_minutos' : 'usuarios.tiempoPromedioSesionSitio'})\n",
    "    tiempoPromedioSesionSitio['usuarios.tiempoPromedioSesionSitio'] = round(tiempoPromedioSesionSitio['usuarios.tiempoPromedioSesionSitio'],6)\n",
    "    tiempoPromedioSesionSitio = tiempoPromedioSesionSitio.rename(columns={'mac_ap' : 'usuarios.macRed'\n",
    "                                                                     , 'fecha_control' : 'usuarios.fechaControl'})\n",
    "    \n",
    "    \n",
    "    datos_dev.rename(columns={'usuarios.siteID':'site_id'},inplace=True)\n",
    "    \n",
    "    tiempoPromedioSesionSitio = pd.merge(tiempoPromedioSesionSitio,datos_semilla, on ='site_id', how='inner')\n",
    "    tiempoPromedioSesionSitio = pd.merge(tiempoPromedioSesionSitio, datos_dev, on=['site_id','usuarios.macRed'], how='left')\n",
    "    tiempoPromedioSesionSitio.fillna({'usuarios.apGroup':'No identificado'},inplace=True)\n",
    "    tiempoPromedioSesionSitio = tiempoPromedioSesionSitio.rename(columns={'site_id' : 'usuarios.siteID'})\n",
    "    tiempoPromedioSesionSitio[\"usuarios.fecha\"] = tiempoPromedioSesionSitio[\"usuarios.fechaControl\"].str[0:10]\n",
    "    tiempoPromedioSesionSitio[\"usuarios.anyo\"] = tiempoPromedioSesionSitio[\"usuarios.fecha\"].str[0:4]\n",
    "    tiempoPromedioSesionSitio[\"usuarios.mes\"] = tiempoPromedioSesionSitio[\"usuarios.fecha\"].str[5:7]\n",
    "    tiempoPromedioSesionSitio['nombreDepartamento'] = tiempoPromedioSesionSitio['usuarios.nombreDepartamento']\n",
    "    tiempoPromedioSesionSitio['nombreMunicipio'] = tiempoPromedioSesionSitio['usuarios.nombreMunicipio']\n",
    "    tiempoPromedioSesionSitio['idBeneficiario'] = tiempoPromedioSesionSitio['usuarios.idBeneficiario']\n",
    "    tiempoPromedioSesionSitio['fecha'] = tiempoPromedioSesionSitio['usuarios.fecha']    \n",
    "    tiempoPromedioSesionSitio['@timestamp'] = now.isoformat()\n",
    "except:\n",
    "    pass"
   ]
  },
  {
   "cell_type": "markdown",
   "metadata": {},
   "source": [
    "# Calculando uso servicio de internet"
   ]
  },
  {
   "cell_type": "markdown",
   "metadata": {},
   "source": [
    "### Asociando datos de Speed test"
   ]
  },
  {
   "cell_type": "markdown",
   "metadata": {},
   "source": [
    "Se tiene una lectura diara de velocidad para cada centro. Por tanto se debe cruzar con el fjulo principal, haciendo uso solo del año, mes día, sin incluir la hora."
   ]
  },
  {
   "cell_type": "code",
   "execution_count": 32,
   "metadata": {},
   "outputs": [],
   "source": [
    "def traeVelocidad(fecha_max_mintic,fecha_tope_mintic):\n",
    "    total_docs = 10000\n",
    "    response = es.search(\n",
    "        index= parametros.speed_index+'*',\n",
    "        body={\n",
    "                \"_source\": [\"beneficiary_code\",\"locationid\", \"result_start_date\"\n",
    "                            , \"result_download_mbps\", \"result_upload_mbps\"],\n",
    "                \"query\": {\n",
    "                    \"range\": {\n",
    "                        \"result_start_date\": {\n",
    "                            \"gte\": fecha_max_mintic.split(' ')[0]+'T00:00:00',\n",
    "                            \"lt\": fecha_tope_mintic.split(' ')[0]+'T23:59:59'\n",
    "                        }\n",
    "                    }\n",
    "                }\n",
    "        },\n",
    "        size=total_docs\n",
    "    )\n",
    "    elastic_docs = response[\"hits\"][\"hits\"]\n",
    "    fields = {}\n",
    "    for num, doc in enumerate(elastic_docs):\n",
    "        source_data = doc[\"_source\"]\n",
    "        for key, val in source_data.items():\n",
    "            try:\n",
    "                fields[key] = np.append(fields[key], val)\n",
    "            except KeyError:\n",
    "                fields[key] = np.array([val])\n",
    "    return pd.DataFrame(dict([ (k,pd.Series(v)) for k,v in fields.items() ]))"
   ]
  },
  {
   "cell_type": "markdown",
   "metadata": {},
   "source": [
    "* Se genera fecha en yyyy-mm-dd, y cada campo por separado<br>\n",
    "* La hora y minuto se toma aparte<br>\n",
    "<br>\n",
    "Valores que se convierten a cero si son nulos<br>\n",
    "* trafico.anchoBandaDescarga<br>\n",
    "* trafico.anchoBandaCarga"
   ]
  },
  {
   "cell_type": "code",
   "execution_count": 33,
   "metadata": {},
   "outputs": [],
   "source": [
    "fecha_max_mintic = fecha_ejecucion\n",
    "fecha_tope_mintic = (datetime.strptime(fecha_max_mintic, '%Y-%m-%d %H:%M:%S')+timedelta(minutes=50)-timedelta(seconds=1)).strftime(\"%Y-%m-%d %H:%M:%S\")\n",
    "datos_speed = traeVelocidad(fecha_max_mintic,fecha_tope_mintic)\n",
    "\n",
    "if datos_speed is None or datos_speed.empty:\n",
    "    while (datos_speed is None or datos_speed.empty) and ((datetime.strptime(fecha_max_mintic[0:10], '%Y-%m-%d').strftime(\"%Y-%m-%d %H:%M:%S\")) < str(now.strftime(\"%Y-%m-%d %H:%M:%S\"))):\n",
    "        fecha_max_mintic = (datetime.strptime(fecha_max_mintic, '%Y-%m-%d %H:%M:%S')+timedelta(minutes=50)).strftime(\"%Y-%m-%d %H:%M:%S\")\n",
    "        fecha_tope_mintic = (datetime.strptime(fecha_tope_mintic, '%Y-%m-%d %H:%M:%S')+timedelta(minutes=50)).strftime(\"%Y-%m-%d %H:%M:%S\")\n",
    "        datos_speed = traeVelocidad(fecha_max_mintic,fecha_tope_mintic)\n",
    "else:\n",
    "    pass"
   ]
  },
  {
   "cell_type": "code",
   "execution_count": 34,
   "metadata": {},
   "outputs": [],
   "source": [
    "try:\n",
    "    datos_speed = datos_speed.drop(datos_speed[(datos_speed[\"result_download_mbps\"]<0) | (datos_speed[\"result_upload_mbps\"]<0)].index)\n",
    "    datos_speed['trafico.totales.fecha'] = datos_speed['result_start_date'].str.split(\"T\", n = 1, expand = True)[0]\n",
    "    datos_speed['result_download_mbps'] = datos_speed['result_download_mbps'] * 1000\n",
    "    datos_speed['result_upload_mbps'] = datos_speed['result_upload_mbps'] * 1000\n",
    "    datos_speed = datos_speed[['beneficiary_code','trafico.totales.fecha','result_download_mbps','result_upload_mbps']].groupby(['beneficiary_code','trafico.totales.fecha']).agg(['max']).reset_index()\n",
    "    datos_speed.columns = datos_speed.columns.droplevel(1)\n",
    "    datos_speed.rename(columns={'result_download_mbps': 'trafico.anchoBandaDescarga'\n",
    "                             ,'result_upload_mbps' :  'trafico.anchoBandaCarga'\n",
    "                             , 'beneficiary_code' : 'site_id'\n",
    "                             }, inplace=True)\n",
    "\n",
    "    datos_speed[\"trafico.totales.anyo\"] = datos_speed[\"trafico.totales.fecha\"].str[0:4]\n",
    "    datos_speed[\"trafico.totales.mes\"] = datos_speed[\"trafico.totales.fecha\"].str[5:7]\n",
    "    datos_speed[\"trafico.totales.dia\"] = datos_speed[\"trafico.totales.fecha\"].str[8:10]\n",
    "    datos_speed = pd.merge(datos_speed,  datos_semilla, on='site_id', how='inner')\n",
    "    datos_speed = datos_speed.rename(columns={'site_id' : 'trafico.siteID'})\n",
    "    datos_speed.dropna(subset=['trafico.anchoBandaDescarga','trafico.anchoBandaCarga'])\n",
    "    datos_speed.fillna({'trafico.anchoBandaDescarga':0\n",
    "                      , 'trafico.anchoBandaCarga':0\n",
    "                       },inplace=True)\n",
    "    datos_speed.fillna('', inplace=True)\n",
    "    datos_speed['nombreDepartamento'] = datos_speed['trafico.nombreDepartamento']\n",
    "    datos_speed['nombreMunicipio'] = datos_speed['trafico.nombreMunicipio']\n",
    "    datos_speed['idBeneficiario'] = datos_speed['trafico.idBeneficiario']\n",
    "    datos_speed['fecha'] = datos_speed['trafico.totales.fecha']\n",
    "    datos_speed['anyo'] = datos_speed['trafico.totales.anyo']\n",
    "    datos_speed['mes'] = datos_speed['trafico.totales.mes']\n",
    "    datos_speed['dia'] = datos_speed['trafico.totales.dia']\n",
    "    datos_speed['@timestamp'] = now.isoformat()\n",
    "\n",
    "    datos_speed.rename(columns={\n",
    "       'trafico.siteID':'usuarios.siteID',\n",
    "       'trafico.nombreDepartamento':'usuarios.nombreDepartamento',\n",
    "       'trafico.codISO':'usuarios.codISO',\n",
    "       'trafico.sistemaEnergia':'usuarios.sistemaEnergia',\n",
    "       'trafico.nombreMunicipio':'usuarios.nombreMunicipio',\n",
    "       'trafico.localidad' : 'usuarios.localidad',\n",
    "       'trafico.nomCentroDigital' : 'usuarios.nomCentroDigital',\n",
    "       'trafico.idBeneficiario':'usuarios.idBeneficiario',\n",
    "       'trafico.location':'usuarios.location',\n",
    "       'trafico.anchoBandaDescarga':'usuarios.anchoBandaDescarga',\n",
    "       'trafico.anchoBandaCarga':'usuarios.anchoBandaCarga',\n",
    "       'trafico.totales.fecha':'usuarios.fecha',\n",
    "       'trafico.totales.anyo':'usuarios.anyo',\n",
    "       'trafico.totales.mes':'usuarios.mes',\n",
    "       'trafico.totales.dia':'usuarios.dia' }, inplace=True)\n",
    "except:\n",
    "    pass"
   ]
  },
  {
   "cell_type": "code",
   "execution_count": 35,
   "metadata": {},
   "outputs": [],
   "source": [
    "try:    \n",
    "    datos_radio['fecha_control'] = datos_radio['fecha_control'].str[0:15]+'0:00'\n",
    "    datos_radio = datos_radio.groupby(['ap_mac', 'fecha_control', 'mac', 'radio.band']).agg(['max']).reset_index()\n",
    "    datos_radio.columns = datos_radio.columns.droplevel(1)\n",
    "    datos_radio = datos_radio[['ap_mac', 'fecha_control', 'radio.band', 'radio.rx_bytes',\n",
    "           'radio.tx_bytes']].groupby(['ap_mac', 'fecha_control', 'radio.band']).agg(['sum']).reset_index()\n",
    "    datos_radio.columns = datos_radio.columns.droplevel(1)\n",
    "    datos_radio = datos_radio.rename(columns={'ap_mac' : 'usuarios.macRed'})\n",
    "    \n",
    "    usoServicioInternetSitio = pd.merge(datos_radio,datos_dev[['usuarios.apGroup', 'site_id', 'usuarios.macRed']], on ='usuarios.macRed', how='inner')\n",
    "    usoServicioInternetSitio.fillna({'radio.rx_bytes':0,'radio.tx_bytes':0},inplace=True)\n",
    "    usoServicioInternetSitio.fillna({'usuarios.macRed':'','radio.band':'No identificado','usuarios.apGroup':'No identificado'},inplace=True)\n",
    "    usoServicioInternetSitio['usuarios.usoServicioInternetSitio'] = usoServicioInternetSitio['radio.rx_bytes'].astype(float) + usoServicioInternetSitio['radio.tx_bytes'].astype(float)\n",
    "    usoServicioInternetSitio = pd.merge(usoServicioInternetSitio,datos_semilla, on ='site_id', how='inner')\n",
    "    usoServicioInternetSitio= usoServicioInternetSitio.rename(columns={'site_id' : 'usuarios.siteID'\n",
    "                                                                    ,'radio.band' : 'usuarios.detallesTecnologiasTerminales'\n",
    "                                                                    , 'fecha_control' : 'usuarios.fechaControl'})\n",
    "    usoServicioInternetSitio['usuarios.usoServicioInternetSitio'] = round((usoServicioInternetSitio['usuarios.usoServicioInternetSitio']/float(1<<30)),6) \n",
    "    usoServicioInternetSitio[\"usuarios.fecha\"] = usoServicioInternetSitio[\"usuarios.fechaControl\"].str.split(\" \", n = 1, expand = True)[0]\n",
    "    usoServicioInternetSitio[\"usuarios.anyo\"] = usoServicioInternetSitio[\"usuarios.fecha\"].str[0:4]\n",
    "    usoServicioInternetSitio[\"usuarios.mes\"] = usoServicioInternetSitio[\"usuarios.fecha\"].str[5:7]\n",
    "    usoServicioInternetSitio[\"usuarios.dia\"] = usoServicioInternetSitio[\"usuarios.fecha\"].str[8:10]\n",
    "    usoServicioInternetSitio[\"usuarios.hora\"] = usoServicioInternetSitio[\"usuarios.fechaControl\"].str.split(\" \", n = 1, expand = True)[1].str.split(\":\", n = 2, expand = True)[0]\n",
    "    usoServicioInternetSitio[\"usuarios.minuto\"] = usoServicioInternetSitio[\"usuarios.fechaControl\"].str.split(\" \", n = 1, expand = True)[1].str.split(\":\", n = 2, expand = True)[1]\n",
    "    \n",
    "    usoServicioInternetSitio['nombreDepartamento'] = usoServicioInternetSitio['usuarios.nombreDepartamento']\n",
    "    usoServicioInternetSitio['nombreMunicipio'] = usoServicioInternetSitio['usuarios.nombreMunicipio']\n",
    "    usoServicioInternetSitio['idBeneficiario'] = usoServicioInternetSitio['usuarios.idBeneficiario']\n",
    "    usoServicioInternetSitio['fecha'] = usoServicioInternetSitio['usuarios.fecha']\n",
    "    usoServicioInternetSitio['anyo'] = usoServicioInternetSitio['usuarios.anyo']\n",
    "    usoServicioInternetSitio['mes'] = usoServicioInternetSitio['usuarios.mes']\n",
    "    usoServicioInternetSitio['dia'] = usoServicioInternetSitio['usuarios.dia']\n",
    "    usoServicioInternetSitio['@timestamp'] = now.isoformat()\n",
    "\n",
    "except:\n",
    "    pass"
   ]
  },
  {
   "cell_type": "markdown",
   "metadata": {},
   "source": [
    "* se toma el maximo radio para cada mac de dispositivo final<br>\n",
    "* se suma agrupando por ap_mac, banda y fecha<br>\n",
    "* El resultado es un total para cada banda, fecha y ap_mac"
   ]
  },
  {
   "cell_type": "markdown",
   "metadata": {},
   "source": [
    "Se renombra fecha_control para cruzar"
   ]
  },
  {
   "cell_type": "code",
   "execution_count": 36,
   "metadata": {},
   "outputs": [
    {
     "name": "stdout",
     "output_type": "stream",
     "text": [
      "Fecha:  2022-01-04 09:51:07.378265 - Usuarios conectados insertados en indice principal: 1457\n"
     ]
    }
   ],
   "source": [
    "try:\n",
    "    use_these_keys = [ 'usuarios.tablero09.tiempoPromedioSesionSitio'\n",
    "                      , 'usuarios.tablero09.siteID'\n",
    "                      ,'usuarios.tablero09.nomCentroDigital'\n",
    "                      , 'usuarios.tablero09.localidad'\n",
    "                      , 'usuarios.tablero09.nombreDepartamento'\n",
    "                      , 'usuarios.tablero09.nombreMunicipio'\n",
    "                      , 'usuarios.tablero09.idBeneficiario'\n",
    "                      , 'usuarios.tablero09.location'\n",
    "                      , 'usuarios.tablero09.sesiones_Usuarios'\n",
    "                      , 'usuarios.tablero09.usuariosConectados'\n",
    "                      , 'usuarios.tablero09.consumoUsuarios'\n",
    "                      , 'usuarios.tablero09.consumoUsuariosDescarga'\n",
    "                      , 'usuarios.tablero09.consumoUsuariosCarga'\n",
    "                      , 'usuarios.tablero09.apGroup'\n",
    "                      , 'usuarios.tablero09.fechaControl'\n",
    "                      , 'usuarios.tablero09.fecha'\n",
    "                      , 'usuarios.tablero09.anyo'\n",
    "                      , 'usuarios.tablero09.mes'\n",
    "                      , 'usuarios.tablero09.macRed'\n",
    "                      , 'usuarios.tablero09.usoServicioInternetSitio'\n",
    "                      , 'usuarios.tablero09.anchoBandaDescarga'\n",
    "                      , 'usuarios.tablero09.anchoBandaCarga'\n",
    "                      , '@timestamp']\n",
    "\n",
    "\n",
    "    usuariosConectados['@timestamp'] = now.isoformat()\n",
    "\n",
    "    \n",
    "    usuariosConectados = usuariosConectados[[  'usuarios.nomCentroDigital',  \n",
    "                                               'usuarios.localidad',\n",
    "                                               'usuarios.siteID', \n",
    "                                               'usuarios.nombreDepartamento',\n",
    "                                               'usuarios.nombreMunicipio',\n",
    "                                               'usuarios.idBeneficiario', \n",
    "                                               'usuarios.location', \n",
    "                                               'usuarios.fechaControl',\n",
    "                                               'usuarios.macRed', \n",
    "                                               'usuarios.tablero11usuariosConectados',\n",
    "                                               'usuarios.tablero11sesiones_Usuarios', \n",
    "                                               'usuarios.apGroup',\n",
    "                                               'usuarios.fecha', \n",
    "                                               'usuarios.anyo', \n",
    "                                               'usuarios.mes',\n",
    "                                               'usuarios.tablero11consumoUsuariosDescarga',\n",
    "                                               'usuarios.tablero11consumoUsuariosCarga',\n",
    "                                               'usuarios.tablero11consumoUsuarios',\n",
    "                                               '@timestamp']]\n",
    "    \n",
    "    usuariosConectados = pd.merge(usuariosConectados,\n",
    "                                 usoServicioInternetSitio[['usuarios.siteID',\n",
    "                                                           'usuarios.macRed',\n",
    "                                                           'usuarios.fechaControl',\n",
    "                                                           'usuarios.usoServicioInternetSitio']]\n",
    "                                 ,on=['usuarios.siteID','usuarios.macRed','usuarios.fechaControl'],\n",
    "                                  how='left')\n",
    "    \n",
    "\n",
    "    datos_speed = datos_speed[['trafico.siteID', \n",
    "                               'trafico.totales.fecha', \n",
    "                               'trafico.anchoBandaDescarga',\n",
    "                               'trafico.anchoBandaCarga']]\n",
    "    \n",
    "    datos_speed.columns = ['usuarios.siteID', \n",
    "                           'usuarios.fecha', \n",
    "                           'usuarios.anchoBandaDescarga',\n",
    "                           'usuarios.anchoBandaCarga']\n",
    "    \n",
    "    usuariosConectados =  pd.merge(usuariosConectados,datos_speed,on=['usuarios.siteID','usuarios.fecha'],how='left')\n",
    "    \n",
    "    usuariosConectados =  pd.merge(usuariosConectados,\n",
    "                          tiempoPromedioSesionSitio[['usuarios.siteID','usuarios.fecha','usuarios.tiempoPromedioSesionSitio']],\n",
    "                          on=['usuarios.siteID','usuarios.fecha'],how='left')\n",
    "    \n",
    "    usuariosConectados = usuariosConectados.rename(columns={\n",
    "                                                 'usuarios.nomCentroDigital':'usuarios.tablero09.nomCentroDigital',\n",
    "                                                 'usuarios.localidad':'usuarios.tablero09.localidad', \n",
    "                                                 'usuarios.siteID':'usuarios.tablero09.siteID',\n",
    "                                                 'usuarios.nombreDepartamento':'usuarios.tablero09.nombreDepartamento',\n",
    "                                                 'usuarios.nombreMunicipio':'usuarios.tablero09.nombreMunicipio',\n",
    "                                                 'usuarios.idBeneficiario':'usuarios.tablero09.idBeneficiario',\n",
    "                                                 'usuarios.location':'usuarios.tablero09.location',\n",
    "                                                 'usuarios.fechaControl':'usuarios.tablero09.fechaControl',\n",
    "                                                 'usuarios.macRed':'usuarios.tablero09.macRed',\n",
    "                                                 'usuarios.tablero11usuariosConectados':'usuarios.tablero09.usuariosConectados',\n",
    "                                                 'usuarios.tablero11sesiones_Usuarios':'usuarios.tablero09.sesiones_Usuarios',\n",
    "                                                 'usuarios.apGroup':'usuarios.tablero09.apGroup',\n",
    "                                                 'usuarios.fecha':'usuarios.tablero09.fecha', \n",
    "                                                 'usuarios.anyo':'usuarios.tablero09.anyo', \n",
    "                                                 'usuarios.mes':'usuarios.tablero09.mes',\n",
    "                                                 'usuarios.tablero11consumoUsuariosDescarga':'usuarios.tablero09.consumoUsuariosDescarga',\n",
    "                                                 'usuarios.tablero11consumoUsuariosCarga':'usuarios.tablero09.consumoUsuariosCarga',\n",
    "                                                 'usuarios.tablero11consumoUsuarios':'usuarios.tablero09.consumoUsuarios',\n",
    "                                                 'usuarios.usoServicioInternetSitio':'usuarios.tablero09.usoServicioInternetSitio',\n",
    "                                                 'usuarios.anchoBandaDescarga':'usuarios.tablero09.anchoBandaDescarga',\n",
    "                                                 'usuarios.anchoBandaCarga':'usuarios.tablero09.anchoBandaCarga',\n",
    "                                                 'usuarios.tiempoPromedioSesionSitio':'usuarios.tablero09.tiempoPromedioSesionSitio'})\n",
    "    \n",
    "    \n",
    "    def doc_generator_consumo(df,use_these_keys):\n",
    "        df_iter = df.iterrows()\n",
    "        for index, document in df_iter:\n",
    "            yield {\n",
    "                    \"_index\": indice, \n",
    "                    \"_id\": f\"{ 'usuariosConectados-'+ str(document['usuarios.tablero09.siteID']) + str(document['usuarios.tablero09.macRed']) + '-' + str(document['usuarios.tablero09.fechaControl'])+'-'+str(random.randrange(10000))}\",\n",
    "                    \"_source\": filterKeys(document,use_these_keys),\n",
    "                }\n",
    "\n",
    "    usuariosConectados.fillna({'usuarios.tablero09.anchoBandaDescarga':0\n",
    "                              ,'usuarios.tablero09.anchoBandaCarga':0\n",
    "                              ,'usuarios.tablero09.usoServicioInternetSitio':0\n",
    "                              ,'usuarios.tablero09.consumoUsuarios':0\n",
    "                              ,'usuarios.tablero09.consumoUsuariosCarga':0\n",
    "                              ,'usuarios.tablero09.consumoUsuariosDescarga':0\n",
    "                              ,\"usuarios.tablero09.tiempoPromedioSesionSitio\":0\n",
    "                              },inplace=True)\n",
    "    \n",
    "    usuariosConectados.fillna(\"\",inplace=True)\n",
    "    \n",
    "    salida = helpers.bulk(es, doc_generator_consumo(usuariosConectados,use_these_keys))\n",
    "    \n",
    "    print(\"Fecha: \", now,\"- Usuarios conectados insertados en indice principal:\",salida[0])\n",
    "    \n",
    "except Exception as e:  \n",
    "    \n",
    "    print(\"Fecha: \", now,\"- Ningun usuario conectado para insertar en indice principal:\")"
   ]
  },
  {
   "cell_type": "markdown",
   "metadata": {},
   "source": [
    "### Guardando fecha para control de ejecución"
   ]
  },
  {
   "cell_type": "markdown",
   "metadata": {},
   "source": [
    "* Se actualiza la fecha de control. Si el calculo supera la fecha hora actual, se asocia esta ultima."
   ]
  },
  {
   "cell_type": "code",
   "execution_count": 37,
   "metadata": {},
   "outputs": [
    {
     "name": "stdout",
     "output_type": "stream",
     "text": [
      "actualizada fecha control de ejecucion: 2021-06-04 18:00:00\n"
     ]
    }
   ],
   "source": [
    "fecha_ejecucion = (datetime.strptime(fecha_max_mintic, '%Y-%m-%d %H:%M:%S')+timedelta(minutes=50)).strftime(\"%Y-%m-%d %H:%M:%S\")[0:15] + '0:00'    \n",
    "\n",
    "if fecha_ejecucion > str(now.strftime('%Y-%m-%d %H:%M:%S'))[0:15] + '0:00':\n",
    "    fecha_ejecucion = str(now.strftime('%Y-%m-%d %H:%M:%S'))[0:15] + '0:00'\n",
    "response = es.index(\n",
    "        index = indice_control,\n",
    "        id = 'jerarquia-tablero09',\n",
    "        body = { 'jerarquia-tablero09': 'jerarquia-tablero09','tablero09.fechaControl' : fecha_ejecucion}\n",
    ")\n",
    "print(\"actualizada fecha control de ejecucion:\",fecha_ejecucion)"
   ]
  }
 ],
 "metadata": {
  "kernelspec": {
   "display_name": "Python 3",
   "language": "python",
   "name": "python3"
  },
  "language_info": {
   "codemirror_mode": {
    "name": "ipython",
    "version": 3
   },
   "file_extension": ".py",
   "mimetype": "text/x-python",
   "name": "python",
   "nbconvert_exporter": "python",
   "pygments_lexer": "ipython3",
   "version": "3.8.5"
  }
 },
 "nbformat": 4,
 "nbformat_minor": 2
}
