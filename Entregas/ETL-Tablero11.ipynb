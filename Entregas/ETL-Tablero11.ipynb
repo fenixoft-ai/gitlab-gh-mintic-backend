{
 "cells": [
  {
   "cell_type": "markdown",
   "metadata": {},
   "source": [
    "## ¿Qué hace este script?\n",
    "\n",
    "#### Para cada AP:\n",
    "* usuarios.usuariosConectados(corresponde al total de conexiones), usuarios.sesiones_Usuarios (Corresponde al total de usuarios)\n",
    "* Información detallada de los dispositivos conectados en el rango de fecha procesado: usuarios.dispositivo.mac, usuarios.dispositivo.tipo, usuarios.dispositivo.marca, usuarios.dispositivo.tecnologia, usuarios.dispositivo.sisOperativo.\n",
    "\n",
    "#### Para cada sitio: \n",
    "* Totales por características de dispositivos: usuarios.sistemaOperativoUsuarios, usuarios.tipoDispositivoUsuarios, usuarios.marcaTerminal, usuarios.tecnologiaTerminal, usuarios.totales.dispositivos (Este ultimo guarda el total)\n",
    "* usuarios.usoServicioInternetSitio es la suma en Gb consumido discriminado por usuarios.detallesTecnologiasTerminales (Bandas 2.4 o 5 GHz)\n",
    "* usuarios.conteoDispositivos el cual indica el total de dispositivos conectados (Es lo mismo que total de conexiones)\n",
    "* usuarios.usuariosNuevos (Esta tenía antes Nuevos y Recurrentes, pero ahora solo tiene Nuevos por solicitud de BI)"
   ]
  },
  {
   "cell_type": "code",
   "execution_count": 1,
   "metadata": {},
   "outputs": [],
   "source": [
    "from elasticsearch import Elasticsearch, helpers\n",
    "from ssl import create_default_context\n",
    "import pandas as pd\n",
    "import numpy as np\n",
    "from datetime import datetime, timedelta\n",
    "import parametros\n",
    "import random\n",
    "import re\n",
    "import time"
   ]
  },
  {
   "cell_type": "markdown",
   "metadata": {},
   "source": [
    "## Conectando a ElasticSearch"
   ]
  },
  {
   "cell_type": "markdown",
   "metadata": {},
   "source": [
    "La ultima línea se utiliza para garantizar la ejecución de la consulta\n",
    "* timeout es el tiempo para cada ejecución\n",
    "* max_retries el número de intentos si la conexión falla\n",
    "* retry_on_timeout para activar los reitentos"
   ]
  },
  {
   "cell_type": "code",
   "execution_count": 2,
   "metadata": {},
   "outputs": [],
   "source": [
    "context = create_default_context(cafile=parametros.cafile)\n",
    "es = Elasticsearch(\n",
    "    parametros.servidor,\n",
    "    http_auth=(parametros.usuario_EC, parametros.password_EC),\n",
    "    scheme=\"https\",\n",
    "    port=parametros.puerto,\n",
    "    ssl_context=context,\n",
    "    timeout=133, max_retries=3, retry_on_timeout=True\n",
    ")"
   ]
  },
  {
   "cell_type": "markdown",
   "metadata": {},
   "source": [
    "Función para realizar consultas cuando la cantidad de registros es mayor a 10.000"
   ]
  },
  {
   "cell_type": "code",
   "execution_count": 3,
   "metadata": {},
   "outputs": [],
   "source": [
    "def custom_scan(query, index, total_docs, client):\n",
    "    \n",
    "    results = helpers.scan(client, index=index, query=query)\n",
    "    \n",
    "    data = []\n",
    "    for item in results:\n",
    "        data.append(item['_source'])\n",
    "        if len(data) >= total_docs:\n",
    "            break\n",
    "            \n",
    "    data = pd.DataFrame(data)\n",
    "    print(data.shape)\n",
    "    print(data)\n",
    "    return data\n",
    "    # return pd.DataFrame(data)"
   ]
  },
  {
   "cell_type": "markdown",
   "metadata": {},
   "source": [
    "### Calculando fechas para la ejecución"
   ]
  },
  {
   "cell_type": "markdown",
   "metadata": {},
   "source": [
    "* Se calculan las fechas para asociar al nombre del indice\n",
    "* fecha_hoy es usada para concatenar al nombre del indice principal previa inserción"
   ]
  },
  {
   "cell_type": "code",
   "execution_count": 4,
   "metadata": {},
   "outputs": [],
   "source": [
    "now = datetime.now()\n",
    "fecha_hoy = str(now.strftime(\"%Y.%m.%d\"))"
   ]
  },
  {
   "cell_type": "markdown",
   "metadata": {},
   "source": [
    "### nombre de indice donde se insertará"
   ]
  },
  {
   "cell_type": "code",
   "execution_count": 5,
   "metadata": {},
   "outputs": [],
   "source": [
    "indice = parametros.usuarios_tablero11_index \n",
    "indice_control = parametros.tableros_mintic_control"
   ]
  },
  {
   "cell_type": "markdown",
   "metadata": {},
   "source": [
    "### Funcion para construir JSON compatible con ElasticSearch"
   ]
  },
  {
   "cell_type": "code",
   "execution_count": 6,
   "metadata": {},
   "outputs": [],
   "source": [
    "def filterKeys(document, use_these_keys):\n",
    "    return {key: document.get(key) for key in use_these_keys }"
   ]
  },
  {
   "cell_type": "markdown",
   "metadata": {},
   "source": [
    "### Trae la ultima fecha para control de ejecución"
   ]
  },
  {
   "cell_type": "markdown",
   "metadata": {},
   "source": [
    "Cuando en el rango de tiempo de la ejecución, no se insertan nuevos valores, las fecha maxima en indice mintic no aumenta, por tanto se usa esta fecha de control para garantizar que incremente el bucle de ejecución"
   ]
  },
  {
   "cell_type": "code",
   "execution_count": 7,
   "metadata": {},
   "outputs": [
    {
     "name": "stdout",
     "output_type": "stream",
     "text": [
      "ultima fecha para control de ejecucion: 2021-06-06 00:00:00\n"
     ]
    }
   ],
   "source": [
    "total_docs = 1\n",
    "try:\n",
    "    response = es.search(\n",
    "        index= indice_control,\n",
    "        body={\n",
    "           \"_source\": [\"tablero11.fechaControl\"],\n",
    "              \"query\": {\n",
    "                \"bool\": {\n",
    "                  \"filter\": [\n",
    "                  {\n",
    "                    \"exists\": {\n",
    "                      \"field\":\"jerarquia-tablero11\"\n",
    "                    }\n",
    "                  }\n",
    "              ]\n",
    "            }\n",
    "          }\n",
    "        },\n",
    "        size=total_docs\n",
    "    )\n",
    "    elastic_docs = response[\"hits\"][\"hits\"]\n",
    "    fields = {}\n",
    "    for num, doc in enumerate(elastic_docs):\n",
    "        fecha_ejecucion = doc[\"_source\"]['tablero11.fechaControl']\n",
    "except Exception as e:\n",
    "    print(e)\n",
    "    response[\"hits\"][\"hits\"] = []\n",
    "if response[\"hits\"][\"hits\"] == []:\n",
    "    fecha_ejecucion = '2021-05-14T00:00:00'\n",
    "print(\"ultima fecha para control de ejecucion:\",fecha_ejecucion)"
   ]
  },
  {
   "cell_type": "markdown",
   "metadata": {},
   "source": [
    "### leyendo indice semilla-inventario"
   ]
  },
  {
   "cell_type": "markdown",
   "metadata": {},
   "source": [
    "En el script que ingesta semilla, trae la información de los centros de conexión administrados. Para el indice principal se requiere:\n",
    "* site_id como llave del centro de conexión.\n",
    "* Datos geográficos (Departamento, municipio, centro poblado, sede, energía, latitud, longitud,COD_ISO, id_Beneficiario)."
   ]
  },
  {
   "cell_type": "code",
   "execution_count": 8,
   "metadata": {},
   "outputs": [],
   "source": [
    "total_docs = 10000\n",
    "try:\n",
    "    response = es.search(\n",
    "        index= parametros.semilla_inventario_index,\n",
    "        body={\n",
    "               \"_source\": ['site_id','nombre_municipio', 'nombre_departamento', 'nombre_centro_pob', 'nombreSede' \n",
    "                           , 'energiadesc', 'latitud', 'longitud', 'COD_ISO','id_Beneficiario']\n",
    "        },\n",
    "        size=total_docs\n",
    "    )\n",
    "    elastic_docs = response[\"hits\"][\"hits\"]\n",
    "    \n",
    "    datos_semilla = pd.DataFrame([x[\"_source\"] for x in elastic_docs])\n",
    "    datos_semilla['site_id'] = datos_semilla['site_id'].str.strip()\n",
    "except:\n",
    "    exit()"
   ]
  },
  {
   "cell_type": "markdown",
   "metadata": {},
   "source": [
    "### Cambiando nombre de campos y generando location"
   ]
  },
  {
   "cell_type": "markdown",
   "metadata": {},
   "source": [
    "* Se valida latitud y longitud. Luego se calcula campo location<br>\n",
    "* Se renombran los campos de semilla"
   ]
  },
  {
   "cell_type": "code",
   "execution_count": 9,
   "metadata": {},
   "outputs": [],
   "source": [
    "def get_location(x,y='lat'):\n",
    "    patron = re.compile('^(\\-?\\d+(\\.\\d+)?),\\s*(\\-?\\d+(\\.\\d+)?)$') #patrÃ³n que debe cumplir\n",
    "    if (not patron.match(x) is None) and (str(x)!=''):\n",
    "        return x.replace(',','.')\n",
    "    else:\n",
    "        return '4.596389' if y=='lat' else '-74.074639'\n",
    "    \n",
    "datos_semilla['latitud'] = datos_semilla['latitud'].apply(lambda x:get_location(x,'lat'))\n",
    "datos_semilla['longitud'] = datos_semilla['longitud'].apply(lambda x:get_location(x,'lon'))\n",
    "datos_semilla['latitud'] = datos_semilla['latitud'].apply(get_location)\n",
    "datos_semilla['longitud'] = datos_semilla['longitud'].apply(get_location)\n",
    "datos_semilla = datos_semilla.drop(datos_semilla[(datos_semilla[\"longitud\"]=='a') | (datos_semilla[\"latitud\"]=='a')].index)\n",
    "datos_semilla['usuarios.location'] = datos_semilla['latitud'] + ',' + datos_semilla['longitud']\n",
    "datos_semilla['usuarios.location']=datos_semilla['usuarios.location'].str.replace('a,a','')\n",
    "datos_semilla.drop(columns=['latitud','longitud'],inplace=True)"
   ]
  },
  {
   "cell_type": "code",
   "execution_count": 10,
   "metadata": {},
   "outputs": [],
   "source": [
    "datos_semilla = datos_semilla.rename(columns={'lugar_cod' : 'usuarios.centroDigitalUsuarios'\n",
    "                                            , 'nombre_municipio': 'usuarios.nombreMunicipio'\n",
    "                                            , 'nombre_departamento' : 'usuarios.nombreDepartamento'\n",
    "                                            , 'nombre_centro_pob': 'usuarios.localidad'\n",
    "                                            , 'nombreSede' : 'usuarios.nomCentroDigital'\n",
    "                                            , 'energiadesc' : 'usuarios.sistemaEnergia'\n",
    "                                            , 'COD_ISO' : 'usuarios.codISO'\n",
    "                                            , 'id_Beneficiario' : 'usuarios.idBeneficiario'})"
   ]
  },
  {
   "cell_type": "markdown",
   "metadata": {},
   "source": [
    "Se descartan los registros que tengan la latitud y longitud vacía o no valida"
   ]
  },
  {
   "cell_type": "code",
   "execution_count": 11,
   "metadata": {},
   "outputs": [],
   "source": [
    "datos_semilla = datos_semilla.drop(datos_semilla[(datos_semilla[\"usuarios.location\"]=='')].index)"
   ]
  },
  {
   "cell_type": "markdown",
   "metadata": {},
   "source": [
    "### leyendo indice cambium-devicedevices"
   ]
  },
  {
   "cell_type": "markdown",
   "metadata": {},
   "source": [
    "De esta formas se asocia las MAC de dispositivos de red INDOOR y OUTDOOR\n",
    "* site_id para cruzar con las misma llave de semilla.\n",
    "* datos del dispositivo: mac, status, ip.\n",
    "* ap_group para identificar si la conexión es indoor/outdoor"
   ]
  },
  {
   "cell_type": "code",
   "execution_count": 12,
   "metadata": {},
   "outputs": [
    {
     "name": "stdout",
     "output_type": "stream",
     "text": [
      "(21076, 5)\n",
      "                   ap_group              ip        site_id                mac  \\\n",
      "0      INDOOR-44745-ZGYO227  172.28.118.179  44745-ZGYO227  BC:E6:7C:5E:66:88   \n",
      "1                   OUTDOOR  172.28.118.180  44745-ZGYO227  58:C1:7A:E9:C9:6F   \n",
      "2                   OUTDOOR  172.28.118.181  44745-ZGYO227  58:C1:7A:E9:C8:5C   \n",
      "3      INDOOR_44747-ZGYO413  172.28.118.171  44747-ZGYO413  BC:E6:7C:ED:F2:4F   \n",
      "4                   OUTDOOR  172.28.118.172  44747-ZGYO413  BC:E6:7C:4F:07:88   \n",
      "...                     ...             ...            ...                ...   \n",
      "21071               OUTDOOR  172.25.227.228  52005-ZCKE815  BC:A9:93:69:B0:A8   \n",
      "21072               OUTDOOR  172.25.227.229  52005-ZCKE815  BC:A9:93:6A:2C:B8   \n",
      "21073  INDOOR_52005-ZCKE815  172.25.227.227  52005-ZCKE815  BC:E6:7C:5D:88:57   \n",
      "21074               OUTDOOR  172.25.229.197  19327-ZCKE884  BC:A9:93:67:75:B0   \n",
      "21075                                        21836-ZGYO922  58:C1:7A:18:B3:20   \n",
      "\n",
      "           status  \n",
      "0          online  \n",
      "1          online  \n",
      "2          online  \n",
      "3          online  \n",
      "4          online  \n",
      "...           ...  \n",
      "21071     offline  \n",
      "21072     offline  \n",
      "21073     offline  \n",
      "21074     offline  \n",
      "21075  onboarding  \n",
      "\n",
      "[21076 rows x 5 columns]\n"
     ]
    }
   ],
   "source": [
    "try:\n",
    "    query = {\n",
    "        \"_source\": [\"site_id\",\"mac\",\"status\",\"ip\",\"ap_group\"], \n",
    "        \"query\": {\n",
    "            \"match_all\": {}\n",
    "        }\n",
    "    }\n",
    "    \n",
    "    datos_dev = custom_scan(\n",
    "        query, \n",
    "        parametros.cambium_d_d_index,\n",
    "        total_docs=30000, \n",
    "        client=es\n",
    "    )\n",
    "    datos_dev['site_id'] = datos_dev['site_id'].str.strip()\n",
    "    \n",
    "except:\n",
    "    exit()"
   ]
  },
  {
   "cell_type": "markdown",
   "metadata": {},
   "source": [
    "Se descartan registros con site_id vacios ya que no cruzarán en el merge y se limpian los NaN del dataframe."
   ]
  },
  {
   "cell_type": "code",
   "execution_count": 13,
   "metadata": {},
   "outputs": [],
   "source": [
    "datos_dev.dropna(subset=['site_id'], inplace=True)\n",
    "datos_dev.fillna('', inplace=True)\n",
    "datos_dev = datos_dev.drop(datos_dev[(datos_dev['site_id']=='')].index)"
   ]
  },
  {
   "cell_type": "code",
   "execution_count": 14,
   "metadata": {},
   "outputs": [],
   "source": [
    "datos_dev['ap_group'] = datos_dev['ap_group'].str.split(\"-\", n = 1, expand = True)[0]\n",
    "datos_dev['ap_group'] = datos_dev['ap_group'].str.split(\"_\", n = 1, expand = True)[0]\n",
    "datos_dev['ap_group'] = datos_dev['ap_group'].str.split(\".\", n = 1, expand = True)[0]\n",
    "datos_dev = datos_dev.drop(datos_dev[(datos_dev['ap_group']=='')].index)"
   ]
  },
  {
   "cell_type": "markdown",
   "metadata": {},
   "source": [
    "Se toman solo los datos unicos con mac."
   ]
  },
  {
   "cell_type": "code",
   "execution_count": 15,
   "metadata": {},
   "outputs": [],
   "source": [
    "datos_dev = datos_dev.drop_duplicates('mac')"
   ]
  },
  {
   "cell_type": "markdown",
   "metadata": {},
   "source": [
    "Se cambia el nombre a la mac del dispositivo de red para no confundir con la de dispositivos de usuario "
   ]
  },
  {
   "cell_type": "code",
   "execution_count": 16,
   "metadata": {},
   "outputs": [],
   "source": [
    "datos_dev= datos_dev.rename(columns={'mac' : 'usuarios.macRed','ap_group' : 'usuarios.apGroup'})"
   ]
  },
  {
   "cell_type": "markdown",
   "metadata": {},
   "source": [
    "## Lectura de datos ohmyfi-detalleconexiones"
   ]
  },
  {
   "cell_type": "markdown",
   "metadata": {},
   "source": [
    "Los datos que se toman son:\n",
    "* fechahora (de cada conexión). fecha_control es lo mismo pero con el intervalo de 10 minutos\n",
    "* Información del centro: lugar, lugar_cod.\n",
    "* Información del dispositivo de usuario: mac_usuario, dispositivo, sistema_operativo.\n",
    "* Información de usuario: tipodoc y documento"
   ]
  },
  {
   "cell_type": "code",
   "execution_count": 17,
   "metadata": {},
   "outputs": [],
   "source": [
    "def trae_conexiones(fecha_ini, fecha_fin, client):\n",
    "    query = {\n",
    "        \"_source\": [\n",
    "            \"fechahora\", \"fecha_control\", \"lugar\", \"lugar_cod\", \n",
    "            \"mac_usuario\", \"dispositivo\", \"sistema_operativo\", \n",
    "            'tipodoc', 'documento'\n",
    "        ],\n",
    "        \"query\": {\n",
    "            \"range\": {\n",
    "                \"fechahora\": {\n",
    "                    \"gte\": fecha_ini,\n",
    "                    \"lt\": fecha_fin\n",
    "                }\n",
    "            }\n",
    "        }\n",
    "    }\n",
    "    return custom_scan(\n",
    "        query, \n",
    "        parametros.ohmyfi_d_c_index,\n",
    "        total_docs=5000000, \n",
    "        client=client\n",
    "    )"
   ]
  },
  {
   "cell_type": "markdown",
   "metadata": {},
   "source": [
    "### Lanzando ejecución de consulta"
   ]
  },
  {
   "cell_type": "markdown",
   "metadata": {},
   "source": [
    "* Se calcula rango en base a la fecha de control. Para este caso es de 1 dia\n",
    "* Se ejecuta la función de consulta con el rango de fechas.\n",
    "* Si no retorna datos se incrementa el rango y se ejecuta nuevamente. Este proceso se repite hasta conseguir datos o hasta que el rango de ejecución alcance la fecha y hora actual.\n"
   ]
  },
  {
   "cell_type": "code",
   "execution_count": 18,
   "metadata": {},
   "outputs": [
    {
     "name": "stdout",
     "output_type": "stream",
     "text": [
      "(82165, 9)\n",
      "                 fechahora        mac_usuario dispositivo  \\\n",
      "0      2021-06-06 10:30:00  10:89:FB:B6:9E:66  Smartphone   \n",
      "1      2021-06-06 10:30:01  14:5F:94:FF:12:34  Smartphone   \n",
      "2      2021-06-06 10:30:01  10:89:FB:B6:9E:66  Smartphone   \n",
      "3      2021-06-06 10:30:02  C8:14:51:96:33:05  Smartphone   \n",
      "4      2021-06-06 10:30:00  10:89:FB:B6:9E:66  Smartphone   \n",
      "...                    ...                ...         ...   \n",
      "82160  2021-06-06 23:07:24  5C:77:76:5B:CB:4D  Smartphone   \n",
      "82161  2021-06-06 23:07:25  30:4B:07:FB:8D:35  Smartphone   \n",
      "82162  2021-06-06 23:07:25  68:A0:3E:90:79:E9  Smartphone   \n",
      "82163  2021-06-06 23:07:27  26:DF:87:33:E2:99  Smartphone   \n",
      "82164  2021-06-06 23:07:34  26:DF:87:33:E2:99  Smartphone   \n",
      "\n",
      "                                          lugar   documento tipodoc  \\\n",
      "0                           EL JABO, VALLEDUPAR  1065602326      TI   \n",
      "1                                  VDA DELICIAS    51972989      CC   \n",
      "2                           EL JABO, VALLEDUPAR  1065602326      TI   \n",
      "3                                         JUNIN                       \n",
      "4                           EL JABO, VALLEDUPAR  1065602326      TI   \n",
      "...                                         ...         ...     ...   \n",
      "82160             VEREDA EL PROGRESO,SAN ANTERO  1072527544      CC   \n",
      "82161                    PUNTA DE PIEDRA, TURBO    71351342      CC   \n",
      "82162                   VEREDA MIRABEL, LEBRIJA                       \n",
      "82163  BARRIO EL PANTEON CALLE MANGA_SAN ANTERO  1033376953      CC   \n",
      "82164  BARRIO EL PANTEON CALLE MANGA_SAN ANTERO  1033376953      CC   \n",
      "\n",
      "           lugar_cod        fecha_control sistema_operativo  \n",
      "0      13253-ZGYO527  2021-06-06 10:30:00           Android  \n",
      "1      48721-ZGYO357  2021-06-06 10:30:00           Android  \n",
      "2      13253-ZGYO527  2021-06-06 10:30:00           Android  \n",
      "3      32370-ZZZY210  2021-06-06 10:30:00           Android  \n",
      "4      13253-ZGYO527  2021-06-06 10:30:00           Android  \n",
      "...              ...                  ...               ...  \n",
      "82160  32339-ZGYO524  2021-06-06 23:00:00           Android  \n",
      "82161  21967-ZGYO192  2021-06-06 23:00:00           Android  \n",
      "82162  45856-ZGYO223  2021-06-06 23:00:00           Android  \n",
      "82163  13695-ZGYO347  2021-06-06 23:00:00               iOS  \n",
      "82164  13695-ZGYO347  2021-06-06 23:00:00               iOS  \n",
      "\n",
      "[82165 rows x 9 columns]\n"
     ]
    }
   ],
   "source": [
    "fecha_max_mintic = fecha_ejecucion\n",
    "fecha_tope_mintic = (datetime.strptime(fecha_max_mintic, '%Y-%m-%d %H:%M:%S')+timedelta(days=1)-timedelta(seconds=1)).strftime(\"%Y-%m-%d %H:%M:%S\")\n",
    "datos_det_conex = trae_conexiones(fecha_max_mintic, fecha_tope_mintic, es)\n",
    "\n",
    "if datos_det_conex is None or datos_det_conex.empty:\n",
    "    while (datos_det_conex is None or datos_det_conex.empty) and ((datetime.strptime(fecha_max_mintic[0:10], '%Y-%m-%d').strftime(\"%Y-%m-%d %H:%M:%S\")) < str(now.strftime(\"%Y-%m-%d %H:%M:%S\"))):\n",
    "        fecha_max_mintic = (datetime.strptime(fecha_max_mintic, '%Y-%m-%d %H:%M:%S')+timedelta(days=1)).strftime(\"%Y-%m-%d %H:%M:%S\")\n",
    "        fecha_tope_mintic = (datetime.strptime(fecha_tope_mintic, '%Y-%m-%d %H:%M:%S')+timedelta(days=1)).strftime(\"%Y-%m-%d %H:%M:%S\")\n",
    "        datos_det_conex = trae_conexiones(fecha_max_mintic, fecha_tope_mintic, es)\n",
    "else:\n",
    "    pass"
   ]
  },
  {
   "cell_type": "code",
   "execution_count": 19,
   "metadata": {},
   "outputs": [],
   "source": [
    "datos_det_conex['lugar_cod'] = datos_det_conex['lugar_cod'].str.strip()"
   ]
  },
  {
   "cell_type": "code",
   "execution_count": 20,
   "metadata": {},
   "outputs": [],
   "source": [
    "datos_det_conex['fecha'] = datos_det_conex['fecha_control'].str.split(\" \", n = 1, expand = True)[0]\n",
    "datos_det_conex.drop_duplicates(subset=[\"fecha_control\",\"lugar\",\"lugar_cod\",\"mac_usuario\", \"dispositivo\",\"sistema_operativo\",'tipodoc','documento'],inplace=True)"
   ]
  },
  {
   "cell_type": "code",
   "execution_count": 21,
   "metadata": {},
   "outputs": [],
   "source": [
    "datos_det_conex = datos_det_conex.rename(columns={'lugar_cod' : 'site_id'\n",
    "                                                   ,'fechahora':'usuarios.fechaConexionUsuarios'\n",
    "                                                   ,'dispositivo': 'usuarios.tipoDispositivoUsuarios'\n",
    "                                                   , 'sistema_operativo': 'usuarios.sistemaOperativoUsuarios'})"
   ]
  },
  {
   "cell_type": "markdown",
   "metadata": {},
   "source": [
    "Se corrigen valores errados de site_id en detalle conexiones"
   ]
  },
  {
   "cell_type": "markdown",
   "metadata": {},
   "source": [
    "## Lectura de datos ohmyfi-consumo"
   ]
  },
  {
   "cell_type": "code",
   "execution_count": 22,
   "metadata": {},
   "outputs": [],
   "source": [
    "def traeSesiones(fecha_max, fecha_tope, client):\n",
    "    \n",
    "    query = {\n",
    "        \"_source\": [\n",
    "            \"lugar_cod\", \"tiempo_sesion_minutos\", \n",
    "            \"mac_ap\", \"fecha_inicio\"\n",
    "        ], \n",
    "        \"query\": {\n",
    "            \"range\": {\n",
    "                \"fecha_inicio\": {\n",
    "                    \"gte\": fecha_max,\n",
    "                    \"lt\": fecha_tope\n",
    "                }\n",
    "            }\n",
    "        }\n",
    "    }\n",
    "\n",
    "    return custom_scan(\n",
    "        query, \n",
    "        parametros.ohmyfi_consumos_index,\n",
    "        total_docs=500000, \n",
    "        client=client\n",
    "    )"
   ]
  },
  {
   "cell_type": "markdown",
   "metadata": {},
   "source": [
    "## Lectura de datos all cambium device client"
   ]
  },
  {
   "cell_type": "markdown",
   "metadata": {},
   "source": [
    "### Se lee la información de cambium device client"
   ]
  },
  {
   "cell_type": "code",
   "execution_count": 23,
   "metadata": {},
   "outputs": [],
   "source": [
    "def traeRadio(fecha_max, fecha_tope, client):\n",
    "        \n",
    "    query = {\n",
    "        \"_source\": [\n",
    "            'mac', 'ap_mac', 'radio.band', 'radio.rx_bytes', \n",
    "            'radio.tx_bytes', 'fecha_control'\n",
    "        ], \n",
    "        \"query\": {\n",
    "            \"range\": {\n",
    "                \"fecha_control\": {\n",
    "                    \"gte\": fecha_max,\n",
    "                    \"lt\": fecha_tope \n",
    "                }\n",
    "            }\n",
    "        }\n",
    "    }\n",
    "        \n",
    "    return custom_scan(\n",
    "        query, \n",
    "        'all-' + parametros.cambium_d_c_index,\n",
    "        total_docs=100000, \n",
    "        client=client\n",
    "    )"
   ]
  },
  {
   "cell_type": "markdown",
   "metadata": {},
   "source": [
    "Esta lectura se usa para identificar: <br>\n",
    "* Lecturas de consumo por dispositivo (radios rx y tx)<br>\n",
    "* Fabricante del dispositivo<br>\n",
    "* la mac del ap que luego se usa para identificar el ap group(Indoor/Outdoor)"
   ]
  },
  {
   "cell_type": "code",
   "execution_count": 24,
   "metadata": {},
   "outputs": [
    {
     "name": "stdout",
     "output_type": "stream",
     "text": [
      "(932042, 7)\n",
      "                   ap_mac                      name                mac  \\\n",
      "0       BC:E6:7C:EC:DD:FC           HUAWEI_Y7a-3b52  0E:9C:F2:E0:B3:1F   \n",
      "1       BC:E6:7C:5D:20:AE                 SM-J260MU  F8:F1:E6:A3:0D:45   \n",
      "2       BC:A9:93:00:98:33           android-e7938e7  00:08:22:46:78:82   \n",
      "3       BC:E6:7C:EC:AA:DC                Galaxy-A01  A0:27:B6:62:78:47   \n",
      "4       BC:E6:7C:ED:8B:98            carlosl74-miPC  4C:ED:DE:87:23:33   \n",
      "...                   ...                       ...                ...   \n",
      "932037  BC:E6:7C:E7:FC:D3  android-d182e728db4c75df  18:D6:1C:A4:86:02   \n",
      "932038  BC:A9:93:10:86:55  android-1ad84b38ff5ac6cc  DC:CF:96:1D:89:19   \n",
      "932039  BC:E6:7C:E7:FC:6D  android-1b0f3c487aae1436  54:F2:01:8E:BF:65   \n",
      "932040  BC:E6:7C:E7:FC:D3                        NA  60:1D:91:66:52:19   \n",
      "932041  BC:E6:7C:4E:3D:C6                        NA  72:4F:2D:61:F3:6A   \n",
      "\n",
      "       radio.band  radio.rx_bytes  radio.tx_bytes  \\\n",
      "0          2.4GHz            1140               0   \n",
      "1          2.4GHz       147191582       160639234   \n",
      "2          2.4GHz           32598           14222   \n",
      "3          2.4GHz        32466165       688148716   \n",
      "4          2.4GHz        22688535       594499822   \n",
      "...           ...             ...             ...   \n",
      "932037     2.4GHz          167165          713846   \n",
      "932038     2.4GHz         2564106        28514566   \n",
      "932039     2.4GHz         6750064        81669451   \n",
      "932040     2.4GHz            5084            6405   \n",
      "932041     2.4GHz         4649771         4923402   \n",
      "\n",
      "                                   manufacturer  \n",
      "0                                   [Local MAC]  \n",
      "1                       Samsung Electronics Ltd  \n",
      "2                                    InPro Comm  \n",
      "3                                      A0-27-B6  \n",
      "4                           Askey Computer Corp  \n",
      "...                                         ...  \n",
      "932037                                 18-D6-1C  \n",
      "932038                  Samsung Electronics Ltd  \n",
      "932039                  Samsung Electronics Ltd  \n",
      "932040  Motorola Mobility LLC, a Lenovo Company  \n",
      "932041                              [Local MAC]  \n",
      "\n",
      "[932042 rows x 7 columns]\n"
     ]
    }
   ],
   "source": [
    "query = {\n",
    "    \"_source\": [\n",
    "        \"mac\", \"ap_mac\", 'manufacturer', 'name', \n",
    "        \"radio.band\", 'radio.rx_bytes', 'radio.tx_bytes'\n",
    "    ],\n",
    "    \"query\": {\n",
    "        \"bool\": {\n",
    "            \"filter\": [{\n",
    "                \"exists\": {\n",
    "                    \"field\":\"mac\"\n",
    "                }\n",
    "            }]\n",
    "        }\n",
    "    }\n",
    "}\n",
    "\n",
    "datos_dev_clients = custom_scan(\n",
    "    query, \n",
    "    parametros.cambium_d_c_index,\n",
    "    total_docs=30000000, \n",
    "    client=es\n",
    ")"
   ]
  },
  {
   "cell_type": "markdown",
   "metadata": {},
   "source": [
    "* se cruza por mac_usuario<br>\n",
    "* Los merge usan left para evitar perdida de datos en cruce con cambium-devicedevices. Aquellos datos que no cruzan se les marca como no identificados. En condiciones ideales, no deberÃ­a presentarse ausencia de informaciÃ³n<br>\n",
    "* Solo se toma lo que cruza con INNER<br>\n",
    "* se cambia el fabricante [Local MAC]<br>\n",
    "* se cambian lo nulos"
   ]
  },
  {
   "cell_type": "code",
   "execution_count": 25,
   "metadata": {},
   "outputs": [],
   "source": [
    "datos_dev_clients.drop_duplicates(inplace=True)"
   ]
  },
  {
   "cell_type": "code",
   "execution_count": 26,
   "metadata": {},
   "outputs": [],
   "source": [
    "try:\n",
    "    datos_dev_clients.drop_duplicates(inplace=True)\n",
    "    datos_dev_clients = datos_dev_clients.rename(columns={'ap_mac' : 'usuarios.macRed','mac' : 'mac_usuario'})\n",
    "    datos_dev_clients['manufacturer'] = datos_dev_clients['manufacturer'].replace(\"[Local MAC]\", \"No identificado\")\n",
    "    datos_dev_clients.fillna({'manufacturer':'No identificado'},inplace=True)\n",
    "    datos_det_conex = pd.merge(datos_det_conex,  datos_dev_clients, on='mac_usuario',how='left')\n",
    "    datos_det_conex = pd.merge(datos_det_conex,datos_dev[['usuarios.macRed','usuarios.apGroup']],on='usuarios.macRed', how='left')\n",
    "    datos_det_conex.fillna({'usuarios.tipoDispositivoUsuarios':'No identificado'\n",
    "                       ,'usuarios.sistemaOperativoUsuarios':'No identificado'\n",
    "                       ,'manufacturer':'No identificado'\n",
    "                       ,'radio.band':'No identificado'\n",
    "                       },inplace=True)\n",
    "except:\n",
    "    pass"
   ]
  },
  {
   "cell_type": "markdown",
   "metadata": {},
   "source": [
    "## Calculando totales por dispositivos"
   ]
  },
  {
   "cell_type": "markdown",
   "metadata": {},
   "source": [
    "La lista use_these_keys se usa para referenciar cuales campos del dataframe irán al indice final. si los datos no se declaran en este, no se insertarán"
   ]
  },
  {
   "cell_type": "code",
   "execution_count": 27,
   "metadata": {},
   "outputs": [],
   "source": [
    "use_these_keys = [ 'usuarios.tablero11.siteID'\n",
    "                  , 'usuarios.tablero11.nomCentroDigital'\n",
    "                  , 'usuarios.tablero11.nombreDepartamento'\n",
    "                  , 'usuarios.tablero11.nombreMunicipio'\n",
    "                  , 'usuarios.tablero11.idBeneficiario'\n",
    "                  , 'usuarios.tablero11.location'\n",
    "                  , 'usuarios.tablero11.fechaControl'\n",
    "                  , 'usuarios.tablero11.fecha'\n",
    "                  , 'usuarios.tablero11.anyo'\n",
    "                  , 'usuarios.tablero11.mes'\n",
    "                  , '@timestamp']\n",
    "\n",
    "def doc_generator(df,use_these_keys):\n",
    "    df_iter = df.iterrows()\n",
    "    for index, document in df_iter:\n",
    "        yield {\n",
    "                \"_index\": indice, \n",
    "                \"_id\": f\"{ 'totalesDispositivos-' + str(document['usuarios.tablero11siteID']) + '-' + str(document['usuarios.fechaControl'])+ '-' + str(document['usuarios.tablero11.fechaControl'])+'-'+str(random.randrange(10000))}\",\n",
    "                \"_source\": filterKeys(document,use_these_keys),\n",
    "            }"
   ]
  },
  {
   "cell_type": "markdown",
   "metadata": {},
   "source": [
    "Se agrupa por:\n",
    "* Sistema operativo\n",
    "* Tipo dispositivo\n",
    "* Marca del terminal\n",
    "* Tecnología terminal\n",
    "\n",
    "Se cuentan las mac de usuario para cada site id y fecha control"
   ]
  },
  {
   "cell_type": "code",
   "execution_count": 28,
   "metadata": {},
   "outputs": [],
   "source": [
    "def cambioVariable(df):\n",
    "    df = df.rename(columns={'siteID':'usuarios.tablero11.siteID'\n",
    "                        ,'usuarios.siteID': 'usuarios.tablero11.siteID'\n",
    "                        ,'usuarios.tablero11siteID':'usuarios.tablero11.siteID'\n",
    "                        ,'fechaControl':'usuarios.tablero11.fechaControl'\n",
    "                        ,'usuarios.fechaControl':'usuarios.tablero11.fechaControl'\n",
    "                        ,'usuarios.tablero11fechaControl': 'usuarios.tablero11.fechaControl'\n",
    "                        ,'nomCentroDigital':'usuarios.tablero11.nomCentroDigital'\n",
    "                        ,'usuarios.nomCentroDigital':'usuarios.tablero11.nomCentroDigital'\n",
    "                        ,'usuarios.tablero11nomCentroDigital':'usuarios.tablero11.nomCentroDigital'\n",
    "                        ,'localidad':'usuarios.tablero11.localidad'\n",
    "                        ,'usuarios.localidad':'usuarios.tablero11.localidad'\n",
    "                        ,'usuarios.tablero11localidad':'usuarios.tablero11.localidad'\n",
    "                        ,'nombreDepartamento':'usuarios.tablero11.nombreDepartamento'\n",
    "                        ,'usuarios.nombreDepartamento':'usuarios.tablero11.nombreDepartamento'\n",
    "                        ,'usuarios.tablero11nombreDepartamento':'usuarios.tablero11.nombreDepartamento'\n",
    "                        ,'nombreMunicipio':'usuarios.tablero11.nombreMunicipio'\n",
    "                        ,'usuarios.nombreMunicipio':'usuarios.tablero11.nombreMunicipio'\n",
    "                        ,'usuarios.tablero11nombreMunicipio':'usuarios.tablero11.nombreMunicipio'\n",
    "                        ,'idBeneficiario':'usuarios.tablero11.idBeneficiario'\n",
    "                        ,'usuarios.idBeneficiario':'usuarios.tablero11.idBeneficiario'\n",
    "                        ,'usuarios.tablero11idBeneficiario':'usuarios.tablero11.idBeneficiario'\n",
    "                        ,'apGroup':'usuarios.tablero11.apGroup'\n",
    "                        ,'usuarios.apGroup':'usuarios.tablero11.apGroup'\n",
    "                        ,'usuarios.tablero11apGroup':'usuarios.tablero11.apGroup'\n",
    "                        ,'location':'usuarios.tablero11.location'\n",
    "                        ,'usuarios.location':'usuarios.tablero11.location'\n",
    "                        ,'usuarios.tablero11location':'usuarios.tablero11.location'\n",
    "                        ,'fecha':'usuarios.tablero11.fecha'\n",
    "                        ,'usuarios.fecha':'usuarios.tablero11.fecha'\n",
    "                        ,'usuarios.tablero11fecha':'usuarios.tablero11.fecha'\n",
    "                        ,'anyo':'usuarios.tablero11.anyo'\n",
    "                        ,'usuarios.anyo':'usuarios.tablero11.anyo'\n",
    "                        ,'usuarios.tablero11anyo':'usuarios.tablero11.anyo'\n",
    "                        ,'mes':'usuarios.tablero11.mes'\n",
    "                        ,'usuarios.mes':'usuarios.tablero11.mes'\n",
    "                        ,'usuarios.tablero11mes':'usuarios.tablero11.mes'\n",
    "                        ,'macRed':'usuarios.tablero11.macRed'\n",
    "                        ,'usuarios.macRed':'usuarios.tablero11.macRed'\n",
    "                        ,'usuarios.tablero11macRed':'usuarios.tablero11.macRed'\n",
    "                        ,'usuariosConectados':'usuarios.tablero11.usuariosConectados'\n",
    "                        ,'usuarios.usuariosConectados':'usuarios.tablero11.usuariosConectados'\n",
    "                        ,'usuarios.tablero11usuariosConectados':'usuarios.tablero11.usuariosConectados'\n",
    "                        ,'sesiones_Usuarios':'usuarios.tablero11.sesiones_Usuarios'\n",
    "                        ,'usuarios.sesiones_Usuarios':'usuarios.tablero11.sesiones_Usuarios'\n",
    "                        ,'usuarios.tablero11sesiones_Usuarios':'usuarios.tablero11.sesiones_Usuarios'\n",
    "                        ,'consumoUsuarios':'usuarios.tablero11.consumoUsuarios'\n",
    "                        ,'usuarios.consumoUsuarios':'usuarios.tablero11.consumoUsuarios'\n",
    "                        ,'usuarios.tablero11consumoUsuarios':'usuarios.tablero11.consumoUsuarios'\n",
    "                        ,'consumoUsuariosDescarga_aux':'usuarios.tablero11.consumoUsuariosDescarga_aux'\n",
    "                        ,'usuarios.consumoUsuariosDescarga_aux':'usuarios.tablero11.consumoUsuariosDescarga_aux'\n",
    "                        ,'usuarios.tablero11consumoUsuariosDescarga_aux':'usuarios.tablero11.consumoUsuariosDescarga_aux'\n",
    "                        ,'consumoUsuariosCarga_aux':'usuarios.tablero11.consumoUsuariosCarga_aux'\n",
    "                        ,'usuarios.consumoUsuariosCarga_aux':'usuarios.tablero11.consumoUsuariosCarga_aux'\n",
    "                        ,'usuarios.tablero11consumoUsuariosCarga_aux':'usuarios.tablero11.consumoUsuariosCarga_aux'\n",
    "                        ,'consumoUsuariosDescarga':'usuarios.tablero11.consumoUsuariosDescarga'\n",
    "                        ,'usuarios.consumoUsuariosDescarga':'usuarios.tablero11.consumoUsuariosDescarga'\n",
    "                        ,'usuarios.tablero11consumoUsuariosDescarga':'usuarios.tablero11.consumoUsuariosDescarga'\n",
    "                        ,'consumoUsuariosCarga': 'usuarios.tablero11.consumoUsuariosCarga'\n",
    "                        ,'usuarios.tablero11consumoUsuariosCarga': 'usuarios.tablero11.consumoUsuariosCarga'\n",
    "                       }\n",
    "              )\n",
    "    \n",
    "    df_vacio = pd.DataFrame(index=df.index)\n",
    "    \n",
    "    col_select= ['usuarios.tablero11.siteID'\n",
    "                 ,'usuarios.tablero11.nomCentroDigital'\n",
    "                 , 'usuarios.tablero11.localidad'\n",
    "                 , 'usuarios.tablero11.nombreDepartamento'\n",
    "                 , 'usuarios.tablero11.nombreMunicipio'\n",
    "                 , 'usuarios.tablero11.idBeneficiario'\n",
    "                 , 'usuarios.tablero11.location'\n",
    "                 , 'usuarios.tablero11.sesiones_Usuarios'\n",
    "                 , 'usuarios.tablero11.usuariosConectados'\n",
    "                 , 'usuarios.tablero11.consumoUsuarios'\n",
    "                 , 'usuarios.tablero11.consumoUsuariosDescarga_aux'\n",
    "                 , 'usuarios.tablero11.consumoUsuariosCarga_aux'\n",
    "                 , 'usuarios.tablero11.consumoUsuariosDescarga'\n",
    "                 , 'usuarios.tablero11.consumoUsuariosCarga'\n",
    "                 , 'usuarios.tablero11.apGroup'\n",
    "                 , 'usuarios.tablero11.fechaControl'\n",
    "                 , 'usuarios.tablero11.fecha'\n",
    "                 , 'usuarios.tablero11.anyo'\n",
    "                 , 'usuarios.tablero11.mes'\n",
    "                 , 'usuarios.tablero11.macRed'\n",
    "                 , '@timestamp']\n",
    "    \n",
    "    for c in col_select:\n",
    "        try:\n",
    "            df_vacio=pd.concat([df_vacio,df[c]],axis=1)\n",
    "        except:\n",
    "            pass\n",
    "    \n",
    "    df_vacio=df_vacio.iloc[:,~df_vacio.columns.duplicated()]\n",
    "    return df_vacio\n"
   ]
  },
  {
   "cell_type": "code",
   "execution_count": 29,
   "metadata": {},
   "outputs": [],
   "source": [
    "try:\n",
    "    totalesDispositivos = datos_det_conex[[\"fecha_control\",\"site_id\"\n",
    "                                 ,\"usuarios.sistemaOperativoUsuarios\"\n",
    "                                 ,'usuarios.tipoDispositivoUsuarios'\n",
    "                                 ,'manufacturer'\n",
    "                                 ,'radio.band'\n",
    "                                 ,\"mac_usuario\"]].groupby([\"fecha_control\",\"site_id\"\n",
    "                                                     ,\"usuarios.sistemaOperativoUsuarios\"\n",
    "                                                     ,'usuarios.tipoDispositivoUsuarios'\n",
    "                                                     ,'manufacturer'\n",
    "                                                     ,'radio.band']).agg(['count']).reset_index()\n",
    "    totalesDispositivos.columns = totalesDispositivos.columns.droplevel(1)\n",
    "    totalesDispositivos= totalesDispositivos.rename(columns={'mac_usuario' : 'usuarios.totales.dispositivos'\n",
    "                                                            ,'fecha_control' : 'usuarios.fechaControl'\n",
    "                                                            ,'manufacturer' : 'usuarios.marcaTerminal'\n",
    "                                                            ,'radio.band' : 'usuarios.tecnologiaTerminal'\n",
    "                                                            })\n",
    "    totalesDispositivos = pd.merge(totalesDispositivos, datos_semilla, on='site_id',how='inner')\n",
    "    totalesDispositivos[\"usuarios.fecha\"] = totalesDispositivos[\"usuarios.fechaControl\"].str.split(\" \", n = 1, expand = True)[0]\n",
    "    totalesDispositivos[\"usuarios.anyo\"] = totalesDispositivos[\"usuarios.fecha\"].str[0:4]\n",
    "    totalesDispositivos[\"usuarios.mes\"] = totalesDispositivos[\"usuarios.fecha\"].str[5:7]\n",
    "    totalesDispositivos[\"usuarios.dia\"] = totalesDispositivos[\"usuarios.fecha\"].str[8:10]\n",
    "    totalesDispositivos[\"usuarios.hora\"] = totalesDispositivos[\"usuarios.fechaControl\"].str.split(\" \", n = 1, expand = True)[1].str.split(\":\", n = 2, expand = True)[0]\n",
    "    totalesDispositivos[\"usuarios.minuto\"] = totalesDispositivos[\"usuarios.fechaControl\"].str.split(\" \", n = 1, expand = True)[1].str.split(\":\", n = 2, expand = True)[1]\n",
    "    totalesDispositivos= totalesDispositivos.rename(columns={'site_id' : 'usuarios.siteID'})\n",
    "    totalesDispositivos['nombreDepartamento'] = totalesDispositivos['usuarios.nombreDepartamento']\n",
    "    totalesDispositivos['nombreMunicipio'] = totalesDispositivos['usuarios.nombreMunicipio']\n",
    "    totalesDispositivos['idBeneficiario'] = totalesDispositivos['usuarios.idBeneficiario']\n",
    "    totalesDispositivos['fecha'] = totalesDispositivos['usuarios.fecha']\n",
    "    totalesDispositivos['anyo'] = totalesDispositivos['usuarios.anyo']\n",
    "    totalesDispositivos['mes'] = totalesDispositivos['usuarios.mes']\n",
    "    totalesDispositivos['dia'] = totalesDispositivos['usuarios.dia']\n",
    "    totalesDispositivos['@timestamp'] = now.isoformat()\n",
    "    \n",
    "    totalesDispositivos = cambioVariable(totalesDispositivos)\n",
    "\n",
    "except:\n",
    "    pass"
   ]
  },
  {
   "cell_type": "markdown",
   "metadata": {},
   "source": [
    "# Insertando usuarios conectados al indice principal"
   ]
  },
  {
   "cell_type": "markdown",
   "metadata": {},
   "source": [
    "* Se calcula cantidad de sesiones por sitio con detalle conexiones, pero contando la ocurrencia unica de documento<br>\n",
    "* Se calcula la cantidad de conexiones. Se agrupa por el campo usuarios.macRed(el cual corresponde al AP) y fecha_control. Se cuenta las ocurrencias de mac_usuario. Luego al cruzar con flujo principal, si el dato es nulo para ese momento, se debe colocar en 0."
   ]
  },
  {
   "cell_type": "code",
   "execution_count": 30,
   "metadata": {},
   "outputs": [
    {
     "name": "stdout",
     "output_type": "stream",
     "text": [
      "(154651, 4)\n",
      "               fecha_inicio  tiempo_sesion_minutos             mac_ap  \\\n",
      "0       2021-06-06 00:01:37                 120.00  58:C1:7A:E8:77:EA   \n",
      "1       2021-06-06 00:30:27                   3.18  58:C1:7A:E8:77:EA   \n",
      "2       2021-06-06 00:33:39                   2.25  58:C1:7A:E8:76:8B   \n",
      "3       2021-06-06 00:35:53                   2.43  58:C1:7A:E8:77:EA   \n",
      "4       2021-06-06 00:38:20                  14.15  58:C1:7A:E8:76:8B   \n",
      "...                     ...                    ...                ...   \n",
      "154646  2021-06-06 23:30:11                   1.83  58:C1:7A:E8:C4:44   \n",
      "154647  2021-06-06 23:32:02                   0.15  58:C1:7A:E8:C4:6F   \n",
      "154648  2021-06-06 23:32:11                   0.17  58:C1:7A:E8:C4:44   \n",
      "154649  2021-06-06 23:32:21                  24.85  58:C1:7A:E8:C4:6F   \n",
      "154650  2021-06-06 23:00:10                   0.05  BC:E6:7C:4E:3E:32   \n",
      "\n",
      "            lugar_cod  \n",
      "0       22483-ZGYO057  \n",
      "1       22483-ZGYO057  \n",
      "2       22483-ZGYO057  \n",
      "3       22483-ZGYO057  \n",
      "4       22483-ZGYO057  \n",
      "...               ...  \n",
      "154646  30628-ZGYO111  \n",
      "154647  30628-ZGYO111  \n",
      "154648  30628-ZGYO111  \n",
      "154649  30628-ZGYO111  \n",
      "154650  13253-ZGYO527  \n",
      "\n",
      "[154651 rows x 4 columns]\n"
     ]
    }
   ],
   "source": [
    "fecha_max_mintic = fecha_ejecucion\n",
    "\n",
    "fecha_tope_mintic = (datetime.strptime(fecha_max_mintic, '%Y-%m-%d %H:%M:%S')+timedelta(days=1)-timedelta(seconds=1)).strftime(\"%Y-%m-%d %H:%M:%S\")\n",
    "datos_consumos = traeSesiones(fecha_max_mintic, fecha_tope_mintic, es)\n",
    "\n",
    "try:\n",
    "\n",
    "    if datos_consumos is None or datos_consumos.empty:\n",
    "        while (datos_consumos is None or datos_consumos.empty) and ((datetime.strptime(fecha_max_mintic[0:50], '%Y-%m-%d %H:%M:%S\"').strftime(\"%Y-%m-%d %H:%M:%S\")) < str(now.strftime(\"%Y-%m-%d %H:%M:%S\"))):\n",
    "            fecha_max_mintic = (datetime.strptime(fecha_max_mintic, '%Y-%m-%d %H:%M:%S')+timedelta(days=1)).strftime(\"%Y-%m-%d %H:%M:%S\")\n",
    "            fecha_tope_mintic = (datetime.strptime(fecha_tope_mintic, '%Y-%m-%d %H:%M:%S')+timedelta(days=1)).strftime(\"%Y-%m-%d %H:%M:%S\")\n",
    "            datos_consumos = traeSesiones(fecha_max_mintic, fecha_tope_mintic, es)\n",
    "    else:\n",
    "        pass\n",
    "except:\n",
    "    pass"
   ]
  },
  {
   "cell_type": "markdown",
   "metadata": {},
   "source": [
    "### Se lee el indice all-cambium-device-client"
   ]
  },
  {
   "cell_type": "markdown",
   "metadata": {},
   "source": [
    "* En este indice se guarda el detalle de los radio por fecha<br>\n",
    "* Detalle conexiones cruza con device clients. Con estos se calculan los totales por marca"
   ]
  },
  {
   "cell_type": "code",
   "execution_count": 31,
   "metadata": {},
   "outputs": [
    {
     "name": "stdout",
     "output_type": "stream",
     "text": [
      "(100000, 6)\n",
      "                  ap_mac        fecha_control                mac radio.band  \\\n",
      "0      BC:E6:7C:E7:FD:12  2021-06-06 00:02:00  24:46:C8:85:38:BA     2.4GHz   \n",
      "1      BC:E6:7C:E8:CE:D9  2021-06-06 00:02:00  C0:D3:C0:B0:69:8B     2.4GHz   \n",
      "2      BC:E6:7C:EF:FD:F1  2021-06-06 00:02:00  A0:4C:5B:59:FF:AD     2.4GHz   \n",
      "3      BC:E6:7C:4E:3D:5D  2021-06-06 00:02:00  F8:F1:E6:F4:CA:01     2.4GHz   \n",
      "4      BC:E6:7C:58:E6:CA  2021-06-06 00:02:00  90:97:F3:5E:BD:CC     2.4GHz   \n",
      "...                  ...                  ...                ...        ...   \n",
      "99995  BC:E6:7C:5B:7B:D7  2021-06-06 15:38:00  FC:DE:90:9C:1E:63     2.4GHz   \n",
      "99996  BC:E6:7C:EE:2D:6F  2021-06-06 15:38:00  40:78:6A:C9:B3:6C     2.4GHz   \n",
      "99997  BC:E6:7C:5B:7D:04  2021-06-06 15:38:00  88:46:04:DF:8B:38     2.4GHz   \n",
      "99998  BC:E6:7C:5B:AF:F5  2021-06-06 15:38:00  3C:05:18:3C:26:19     2.4GHz   \n",
      "99999  BC:E6:7C:5E:33:3E  2021-06-06 15:38:00  82:3B:21:F3:67:4D     2.4GHz   \n",
      "\n",
      "       radio.rx_bytes  radio.tx_bytes  \n",
      "0              445870          113989  \n",
      "1            81567280        26559826  \n",
      "2              803646          264979  \n",
      "3              172429          114418  \n",
      "4              415003          530414  \n",
      "...               ...             ...  \n",
      "99995           30943           56080  \n",
      "99996         9577142       108066055  \n",
      "99997         4326798        63529085  \n",
      "99998          135822          216412  \n",
      "99999            1204             766  \n",
      "\n",
      "[100000 rows x 6 columns]\n"
     ]
    }
   ],
   "source": [
    "query = {\n",
    "    \"_source\": [\n",
    "        'mac', 'ap_mac', 'radio.band', 'radio.rx_bytes', \n",
    "        'radio.tx_bytes','fecha_control'\n",
    "    ], \n",
    "    \"query\": {\n",
    "        \"range\": {\n",
    "            \"fecha_control\": {\n",
    "                \"gte\": fecha_max_mintic,\n",
    "                \"lt\": fecha_tope_mintic \n",
    "            }\n",
    "        }\n",
    "    }\n",
    "}\n",
    "\n",
    "datos_radio = custom_scan(\n",
    "    query, \n",
    "    'all-' + parametros.cambium_d_c_index,\n",
    "    total_docs=100000, \n",
    "    client=es\n",
    ")\n",
    "\n",
    "datos_performance = datos_radio"
   ]
  },
  {
   "cell_type": "code",
   "execution_count": 32,
   "metadata": {},
   "outputs": [],
   "source": [
    "if datos_performance is None or datos_performance.empty:\n",
    "    while (datos_performance is None or datos_performance.empty) and ((datetime.strptime(fecha_max_mintic[0:10], '%Y-%m-%d').strftime(\"%Y-%m-%d %H:%M:%S\")) < str(now.strftime(\"%Y-%m-%d %H:%M:%S\"))):\n",
    "        fecha_max_mintic = (datetime.strptime(fecha_max_mintic, '%Y-%m-%d %H:%M:%S')+timedelta(days=1)).strftime(\"%Y-%m-%d %H:%M:%S\")\n",
    "        fecha_tope_mintic = (datetime.strptime(fecha_tope_mintic, '%Y-%m-%d %H:%M:%S')+timedelta(days=1)).strftime(\"%Y-%m-%d %H:%M:%S\")\n",
    "        datos_performance = traeRadio(fecha_max_mintic, fecha_tope_mintic, es)\n",
    "else:\n",
    "    pass"
   ]
  },
  {
   "cell_type": "code",
   "execution_count": 33,
   "metadata": {},
   "outputs": [],
   "source": [
    "try:\n",
    "    datos_logins = datos_det_conex[['fecha_control', 'site_id', 'documento','usuarios.macRed']].groupby([\"fecha_control\",\"site_id\",\"usuarios.macRed\"])['documento'].nunique().reset_index()\n",
    "    datos_logins= datos_logins.rename(columns={'documento' : 'usuarios.sesiones_Usuarios'})\n",
    "    \n",
    "    ################# datos_performance #####################\n",
    "    datos_performance['fecha_control'] = datos_performance[\"fecha_control\"].str[0:-4] + '0:00'\n",
    "    datos_performance.replace('','0',inplace=True)\n",
    "    datos_performance.fillna({'radio.rx_bytes':0,'radio.tx_bytes':0},inplace=True)\n",
    "    datos_performance['radio.rx_bytes'] = datos_performance['radio.rx_bytes'].astype(float)\n",
    "    datos_performance['radio.tx_bytes'] = datos_performance['radio.tx_bytes'].astype(float)\n",
    "    \n",
    "    datos_performance = datos_performance.groupby(['ap_mac', 'fecha_control', 'mac', 'radio.band']).agg(['max']).reset_index()\n",
    "    datos_performance.columns = datos_performance.columns.droplevel(1)\n",
    "    datos_performance = datos_performance[['ap_mac'\n",
    "                                         , 'fecha_control'\n",
    "                                         , 'radio.rx_bytes'\n",
    "                                         , 'radio.tx_bytes']].groupby(['ap_mac'\n",
    "                                                                     , 'fecha_control']).agg(['sum']).reset_index()\n",
    "    datos_performance.columns = datos_performance.columns.droplevel(1)\n",
    "    datos_performance = datos_performance.rename(columns={'radio.rx_bytes': 'usuarios.consumoUsuariosDescarga_aux'\n",
    "                                                     , 'radio.tx_bytes':'usuarios.consumoUsuariosCarga_aux'})\n",
    "    \n",
    "    datos_performance['usuarios.consumoUsuariosDescarga'] = round((datos_performance['usuarios.consumoUsuariosDescarga_aux']/float(1<<30)),6)\n",
    "    datos_performance['usuarios.consumoUsuariosCarga'] = round((datos_performance['usuarios.consumoUsuariosCarga_aux']/float(1<<30)),6)\n",
    "    datos_performance['usuarios.consumoUsuarios'] = datos_performance['usuarios.consumoUsuariosDescarga'] + datos_performance['usuarios.consumoUsuariosCarga']\n",
    "    datos_performance['usuarios.consumoUsuarios'] = round(datos_performance['usuarios.consumoUsuarios'],6)\n",
    "    datos_performance = datos_performance.rename(columns={'ap_mac':'usuarios.macRed'})\n",
    "    \n",
    "    \n",
    "    datos_performance = pd.merge(datos_performance,datos_dev[['site_id','usuarios.macRed','usuarios.apGroup']],on='usuarios.macRed', how='left')\n",
    "    \n",
    "    aux_performance = pd.merge(datos_performance,  datos_semilla, on='site_id',how='inner')\n",
    "    aux_performance.fillna({'usuarios.consumoUsuariosDescarga':0,\n",
    "                              'usuarios.consumoUsuariosCarga':0,\n",
    "                              'usuarios.consumoUsuarios':0,\n",
    "                              'usuarios.apGroup':'No identificado'},inplace=True)\n",
    "    aux_performance = aux_performance.rename(columns={'fecha_control':'usuarios.fechaControl'\n",
    "                                                           ,'site_id' : 'usuarios.siteID'})\n",
    "    \n",
    "    aux_performance[\"usuarios.fecha\"] = aux_performance[\"usuarios.fechaControl\"].str.split(\" \", n = 1, expand = True)[0]\n",
    "    aux_performance[\"usuarios.anyo\"] = aux_performance[\"usuarios.fecha\"].str[0:4]\n",
    "    aux_performance[\"usuarios.mes\"] = aux_performance[\"usuarios.fecha\"].str[5:7]\n",
    "    aux_performance[\"usuarios.dia\"] = aux_performance[\"usuarios.fecha\"].str[8:10]\n",
    "    aux_performance[\"usuarios.hora\"] = aux_performance[\"usuarios.fechaControl\"].str.split(\" \", n = 1, expand = True)[1].str.split(\":\", n = 2, expand = True)[0]\n",
    "    aux_performance[\"usuarios.minuto\"] = aux_performance[\"usuarios.fechaControl\"].str.split(\" \", n = 1, expand = True)[1].str.split(\":\", n = 2, expand = True)[1]\n",
    "    \n",
    "    aux_performance['nombreDepartamento'] = aux_performance['usuarios.nombreDepartamento']\n",
    "    aux_performance['nombreMunicipio'] = aux_performance['usuarios.nombreMunicipio']\n",
    "    aux_performance['idBeneficiario'] = aux_performance['usuarios.idBeneficiario']\n",
    "    aux_performance['fecha'] = aux_performance['usuarios.fecha']\n",
    "    aux_performance['anyo'] = aux_performance['usuarios.anyo']\n",
    "    aux_performance['mes'] = aux_performance['usuarios.mes']\n",
    "    aux_performance['dia'] = aux_performance['usuarios.dia']\n",
    "    \n",
    "    \n",
    "    ##################\n",
    "    usuariosConectados = datos_det_conex[[\"fecha_control\",\"site_id\",\"usuarios.macRed\",\"mac_usuario\"]].groupby([\"fecha_control\",\"site_id\",\"usuarios.macRed\"]).agg(['count']).reset_index()\n",
    "    usuariosConectados.columns = usuariosConectados.columns.droplevel(1)\n",
    "    usuariosConectados= usuariosConectados.rename(columns={'mac_usuario' : 'usuarios.tablero11usuariosConectados'})\n",
    "    \n",
    "    ###################\n",
    "    usuariosConectados = pd.merge(usuariosConectados,datos_logins, on=[\"fecha_control\",\"site_id\",\"usuarios.macRed\"], how='inner')\n",
    "    \n",
    "    usuariosConectados= usuariosConectados.rename(columns={'usuarios.sesiones_Usuarios' : 'usuarios.tablero11sesiones_Usuarios'})\n",
    "    \n",
    "    ###################\n",
    "    usuariosConectados = pd.merge(datos_semilla,  usuariosConectados, on=['site_id'], how='inner')\n",
    "    \n",
    "   \n",
    "    #Al parecer no esta viniendo consumoUsuario....\n",
    "    \n",
    "    usuariosConectados.fillna({'usuarios.consumoUsuarios' : 0\n",
    "                              ,'usuarios.consumoUsuariosDescarga':0\n",
    "                              ,'usuarios.consumoUsuariosCarga':0},inplace=True)\n",
    "    \n",
    "    ####################\n",
    "    usuariosConectados = pd.merge(usuariosConectados,datos_dev[['usuarios.apGroup','usuarios.macRed']], on ='usuarios.macRed', how='left')\n",
    "    \n",
    "    usuariosConectados.fillna({'usuarios.apGroup':'No identificado'},inplace=True)\n",
    "    usuariosConectados['usuarios.tablero11usuariosConectados'] = usuariosConectados['usuarios.tablero11usuariosConectados'].astype(int)\n",
    "    usuariosConectados = usuariosConectados.rename(columns={'fecha_control':'usuarios.fechaControl'\n",
    "                                                           ,'site_id' : 'usuarios.siteID'})\n",
    "    \n",
    "    usuariosConectados[\"usuarios.fecha\"] = usuariosConectados[\"usuarios.fechaControl\"].str.split(\" \", n = 1, expand = True)[0]\n",
    "    usuariosConectados[\"usuarios.anyo\"] = usuariosConectados[\"usuarios.fecha\"].str[0:4]\n",
    "    usuariosConectados[\"usuarios.mes\"] = usuariosConectados[\"usuarios.fecha\"].str[5:7]\n",
    "    usuariosConectados[\"usuarios.dia\"] = usuariosConectados[\"usuarios.fecha\"].str[8:10]\n",
    "    usuariosConectados[\"usuarios.hora\"] = usuariosConectados[\"usuarios.fechaControl\"].str.split(\" \", n = 1, expand = True)[1].str.split(\":\", n = 2, expand = True)[0]\n",
    "    usuariosConectados[\"usuarios.minuto\"] = usuariosConectados[\"usuarios.fechaControl\"].str.split(\" \", n = 1, expand = True)[1].str.split(\":\", n = 2, expand = True)[1]\n",
    "    \n",
    "    usuariosConectados['nombreDepartamento'] = usuariosConectados['usuarios.nombreDepartamento']\n",
    "    usuariosConectados['nombreMunicipio'] = usuariosConectados['usuarios.nombreMunicipio']\n",
    "    usuariosConectados['idBeneficiario'] = usuariosConectados['usuarios.idBeneficiario']\n",
    "    usuariosConectados['fecha'] = usuariosConectados['usuarios.fecha']\n",
    "    usuariosConectados['anyo'] = usuariosConectados['usuarios.anyo']\n",
    "    usuariosConectados['mes'] = usuariosConectados['usuarios.mes']\n",
    "    usuariosConectados['dia'] = usuariosConectados['usuarios.dia']\n",
    "    \n",
    "    #####################\n",
    "    columnas_aux_performance=[ 'usuarios.fechaControl', 'usuarios.siteID',                               'usuarios.apGroup', 'usuarios.macRed',                               'usuarios.consumoUsuariosCarga_aux', 'usuarios.consumoUsuariosDescarga',                               'usuarios.consumoUsuariosCarga', 'usuarios.consumoUsuarios',                                 'usuarios.consumoUsuariosDescarga_aux']\n",
    "    columnas_merge = ['usuarios.fechaControl','usuarios.siteID','usuarios.apGroup','usuarios.macRed']\n",
    "    \n",
    "    usuariosConectados=pd.merge(usuariosConectados,aux_performance[columnas_aux_performance],on=columnas_merge, how='left')\n",
    "    \n",
    "    usuariosConectados = usuariosConectados.rename(columns=\n",
    "                                                   {'usuarios.consumoUsuariosCarga_aux':'usuarios.tablero11consumoUsuariosCarga_aux'\n",
    "                                                    ,'usuarios.consumoUsuariosDescarga_aux':'usuarios.tablero11consumoUsuariosDescarga_aux'\n",
    "                                                    ,'usuarios.consumoUsuariosCarga' : 'usuarios.tablero11consumoUsuariosCarga'\n",
    "                                                    ,'usuarios.consumoUsuariosDescarga':'usuarios.tablero11consumoUsuariosDescarga'\n",
    "                                                    ,'usuarios.consumoUsuarios':'usuarios.tablero11consumoUsuarios'\n",
    "                                                   })\n",
    "    \n",
    "except:\n",
    "    pass"
   ]
  },
  {
   "cell_type": "code",
   "execution_count": 34,
   "metadata": {},
   "outputs": [
    {
     "name": "stdout",
     "output_type": "stream",
     "text": [
      "Fecha:  2022-01-05 17:23:55.406389 - Usuarios conectados insertados en indice principal: 34901\n"
     ]
    }
   ],
   "source": [
    "try:\n",
    "    use_these_keys = ['usuarios.tablero11.siteID'\n",
    "                      ,'usuarios.tablero11.nomCentroDigital'\n",
    "                      , 'usuarios.tablero11.localidad'\n",
    "                      , 'usuarios.tablero11.nombreDepartamento'\n",
    "                      , 'usuarios.tablero11.nombreMunicipio'\n",
    "                      , 'usuarios.tablero11.idBeneficiario'\n",
    "                      , 'usuarios.tablero11.location'\n",
    "                      , 'usuarios.tablero11.sesiones_Usuarios'\n",
    "                      , 'usuarios.tablero11.usuariosConectados'\n",
    "                      , 'usuarios.tablero11.consumoUsuarios'\n",
    "                      , 'usuarios.tablero11.consumoUsuariosDescarga_aux'\n",
    "                      , 'usuarios.tablero11.consumoUsuariosCarga_aux'\n",
    "                      , 'usuarios.tablero11.consumoUsuariosDescarga'\n",
    "                      , 'usuarios.tablero11.consumoUsuariosCarga'\n",
    "                      , 'usuarios.tablero11.apGroup'\n",
    "                      , 'usuarios.tablero11.fechaControl'\n",
    "                      , 'usuarios.tablero11.fecha'\n",
    "                      , 'usuarios.tablero11.anyo'\n",
    "                      , 'usuarios.tablero11.mes'\n",
    "                      , 'usuarios.tablero11.macRed'\n",
    "                      , '@timestamp']\n",
    "\n",
    "\n",
    "    usuariosConectados['@timestamp'] = now.isoformat()\n",
    "    \n",
    "    #Seleccionar campos del Tablero..\n",
    "    \n",
    "    #Cambio de variables en usuariosConectados...\n",
    "    \n",
    "    usuariosConectados = cambioVariable(usuariosConectados)\n",
    "    \n",
    "    \n",
    "    def doc_generator_consumo(df,use_these_keys):\n",
    "        df_iter = df.iterrows()\n",
    "        for index, document in df_iter:\n",
    "            yield {\n",
    "                    \"_index\": indice, \n",
    "                    \"_id\": f\"{ 'usuariosConectados-'+ str(document['usuarios.tablero11.siteID']) + str(document['usuarios.tablero11.macRed']) + '-' + str(document['usuarios.tablero11.fechaControl']) +'-'+ str(random.randrange(10000))}\",\n",
    "                    \"_source\": filterKeys(document,use_these_keys),\n",
    "                }\n",
    "\n",
    "    usuariosConectados.fillna({'usuarios.tablero11.sesiones_Usuarios':0\n",
    "                              , 'usuarios.tablero11.usuariosConectados':0\n",
    "                              , 'usuarios.tablero11.consumoUsuarios':0\n",
    "                              , 'usuarios.tablero11.consumoUsuariosDescarga_aux':0\n",
    "                              , 'usuarios.tablero11.consumoUsuariosCarga_aux':0\n",
    "                              , 'usuarios.tablero11.consumoUsuariosDescarga':0\n",
    "                              , 'usuarios.tablero11.consumoUsuariosCarga':0},inplace=True)\n",
    "    \n",
    "    usuariosConectados.fillna(\"\",inplace=True)\n",
    "    \n",
    "    salida = helpers.bulk(es, doc_generator_consumo(usuariosConectados,use_these_keys))\n",
    "    \n",
    "    print(\"Fecha: \", now,\"- Usuarios conectados insertados en indice principal:\",salida[0])\n",
    "    \n",
    "except Exception as e:  \n",
    "    \n",
    "    print(\"Fecha: \", now,\"- Ningun usuario conectado para insertar en indice principal:\")"
   ]
  },
  {
   "cell_type": "markdown",
   "metadata": {},
   "source": [
    "### Guardando fecha para control de ejecución"
   ]
  },
  {
   "cell_type": "markdown",
   "metadata": {},
   "source": [
    "* Se actualiza la fecha de control. Si el calculo supera la fecha hora actual, se asocia esta ultima."
   ]
  },
  {
   "cell_type": "code",
   "execution_count": 35,
   "metadata": {},
   "outputs": [
    {
     "name": "stdout",
     "output_type": "stream",
     "text": [
      "actualizada fecha control de ejecucion: 2021-06-07 00:00:00\n"
     ]
    }
   ],
   "source": [
    "fecha_ejecucion = (datetime.strptime(fecha_max_mintic, '%Y-%m-%d %H:%M:%S')+timedelta(days=1)).strftime(\"%Y-%m-%d %H:%M:%S\")[0:15] + '0:00'    \n",
    "\n",
    "if fecha_ejecucion > str(now.strftime('%Y-%m-%d %H:%M:%S'))[0:15] + '0:00':\n",
    "    fecha_ejecucion = str(now.strftime('%Y-%m-%d %H:%M:%S'))[0:15] + '0:00'\n",
    "response = es.index(\n",
    "        index = indice_control,\n",
    "        id = 'jerarquia-tablero11',\n",
    "        body = { 'jerarquia-tablero11': 'jerarquia-tablero11','tablero11.fechaControl' : fecha_ejecucion}\n",
    ")\n",
    "print(\"actualizada fecha control de ejecucion:\",fecha_ejecucion)"
   ]
  }
 ],
 "metadata": {
  "kernelspec": {
   "display_name": "Python 3",
   "language": "python",
   "name": "python3"
  },
  "language_info": {
   "codemirror_mode": {
    "name": "ipython",
    "version": 3
   },
   "file_extension": ".py",
   "mimetype": "text/x-python",
   "name": "python",
   "nbconvert_exporter": "python",
   "pygments_lexer": "ipython3",
   "version": "3.8.5"
  }
 },
 "nbformat": 4,
 "nbformat_minor": 2
}
