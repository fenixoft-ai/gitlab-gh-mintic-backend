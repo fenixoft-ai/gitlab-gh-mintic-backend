{
 "cells": [
  {
   "cell_type": "code",
   "execution_count": 260,
   "metadata": {},
   "outputs": [
    {
     "data": {
      "text/plain": [
       "True"
      ]
     },
     "execution_count": 260,
     "metadata": {},
     "output_type": "execute_result"
    }
   ],
   "source": [
    "from elasticsearch import Elasticsearch, helpers, exceptions\n",
    "#from elasticsearch import helpers\n",
    "import pandas as pd\n",
    "import numpy as np\n",
    "import json\n",
    "from ssl import create_default_context\n",
    "from datetime import datetime, timedelta\n",
    "import time\n",
    "#para request\n",
    "#import requests\n",
    "#from getpass import getpass\n",
    "import math\n",
    "import ipaddress # convertir IP\n",
    "import parametros #parametros propios del desarrollo\n",
    "from tld import get_tld #para manipulación de URLs\n",
    "from tld.utils import update_tld_names\n",
    "update_tld_names()"
   ]
  },
  {
   "cell_type": "markdown",
   "metadata": {},
   "source": [
    "### Función para gestión de URLs"
   ]
  },
  {
   "cell_type": "code",
   "execution_count": 261,
   "metadata": {},
   "outputs": [],
   "source": [
    "def maneja_url(url):\n",
    "    try:\n",
    "        res = get_tld(url, fix_protocol=True, as_object=True)\n",
    "        # opciones de retorno: res,res.subdomain,res.domain,res.tld,res.fld\n",
    "        return res.fld\n",
    "    except:\n",
    "        return url"
   ]
  },
  {
   "cell_type": "markdown",
   "metadata": {},
   "source": [
    "Se realizan 3 lecturas al mismo indice crudo (paramtros.sonicwall_raw) con los siguientes criterios:\n",
    "1. Traer los URL de las páginas:\n",
    "* el criterio de filtrado es cuando el campo netflow.url-flow tiene datos\n",
    "* de esta lectura se obtienen los datos netflow.url-time(fecha de visita) y netflow.url-name(URL visidata), de la cual solo se tomará el dominio.\n",
    "* Este flujo cruza con el 2 y el 3.\n",
    "\n",
    "2. Traer la IP del acces point desde donde se consulta la URL:\n",
    "* netflow.url-flow-identify traiga algo (esta es la llave de cruce)\n",
    "* el criterio de filtrado es cuando el campo netflow.url-flow-ip-origen tiene datos\n",
    "* este flujo cruza con el 1 por medio del campo netflow.url-flow.\n",
    "\n",
    "3. Categorias de las URL\n",
    "* el criterio de filtrado es cuando el campo netflow.url-flow-categoria tiene datos.\n",
    "* de esta lectura se obtiene el campo netflow.url-categoria-name2, el cual es la llave para cruzar con con el archivo \"Mapeo-categorias-url.tsv\"\n",
    "* Esta lectura cruza con la lectura 1, usando el campo netflow.url-name.\n",
    "* De la URL solo se debe tomar el dominio. Las jerarquías inferiores se descartan\n",
    "* En cada lectura, si la categoría(netflow.url-categoria-name2) no se consigue en el archivo de mapeos, se agrega. Este proceso se hará inicialmente cargando el archivo al indice, después solo se usará el indice sonicwall_categorias\n",
    "* este flujop cruza con el 1"
   ]
  },
  {
   "cell_type": "markdown",
   "metadata": {},
   "source": [
    "#Definiendo fechas para rangos de consultas"
   ]
  },
  {
   "cell_type": "code",
   "execution_count": 208,
   "metadata": {},
   "outputs": [],
   "source": [
    "now = datetime.now()\n",
    "new_date = now - timedelta(days=6)\n",
    "format_ES = \"%Y.%m.%d\"\n",
    "ahora = str(now.strftime(\"%Y-%m-%dT%H:%M:%S\"))\n",
    "fecha_6 = str(new_date.strftime(\"%Y-%m-%dT%H:%M:%S\"))\n",
    "fecha_hoy = str(now.strftime(format_ES))"
   ]
  },
  {
   "cell_type": "markdown",
   "metadata": {},
   "source": [
    "* Limite inferior del rango es la maxima fecha en el indice curado de sonicwall. En caso de no existir. Se calcula del indice crudo filebeat restandole 5 minutos a la maxima fecha en este.\n",
    "* Limite superior del rango es la maxima fecha de actualización en el indice crudo filebeat. \n",
    "* Las ejecuciones se hacen sobre el indice crudo de la fecha actual. No se toman históricos."
   ]
  },
  {
   "cell_type": "markdown",
   "metadata": {},
   "source": [
    "### Conexión a Elastic Search"
   ]
  },
  {
   "cell_type": "code",
   "execution_count": 209,
   "metadata": {},
   "outputs": [],
   "source": [
    "context = create_default_context(cafile=parametros.cafile)\n",
    "es = Elasticsearch(\n",
    "    parametros.servidor,\n",
    "    http_auth=(parametros.usuario_EC, parametros.password_EC),\n",
    "    scheme=\"https\",\n",
    "    port=parametros.puerto,\n",
    "    ssl_context=context,\n",
    "    timeout=300, max_retries=1, retry_on_timeout=True\n",
    ")"
   ]
  },
  {
   "cell_type": "markdown",
   "metadata": {},
   "source": [
    "### Indice crudo filebeat"
   ]
  },
  {
   "cell_type": "code",
   "execution_count": 210,
   "metadata": {},
   "outputs": [],
   "source": [
    "index_raw = parametros.sonicwall_raw"
   ]
  },
  {
   "cell_type": "markdown",
   "metadata": {},
   "source": [
    "### Funcion para construcción de JSON ES"
   ]
  },
  {
   "cell_type": "code",
   "execution_count": 211,
   "metadata": {},
   "outputs": [],
   "source": [
    "def filterKeys(document):\n",
    "    return {key: document[key] for key in use_these_keys }"
   ]
  },
  {
   "cell_type": "markdown",
   "metadata": {},
   "source": [
    "### Fecha maxima de indice sonicwall"
   ]
  },
  {
   "cell_type": "markdown",
   "metadata": {},
   "source": [
    "Este se usa para descartar de los indices crudos los registros menores a esa fecha"
   ]
  },
  {
   "cell_type": "code",
   "execution_count": 262,
   "metadata": {},
   "outputs": [
    {
     "name": "stdout",
     "output_type": "stream",
     "text": [
      "Fecha maxima en sonic curado: 2021-11-10 15:30:01 | Fecha inicio: 2021-11-10 15:30:01\n"
     ]
    }
   ],
   "source": [
    "total_docs = 0\n",
    "try:\n",
    "    response = es.search(\n",
    "        index=parametros.sonicwall_index,\n",
    "        body={\"aggs\" : {\n",
    "                   \"max_date\": {\"max\": {\"field\": \"fecha_control\", \"format\": \"yyyy-MM-dd HH:mm:ss\"}}\n",
    "                }\n",
    "             },\n",
    "        size=total_docs\n",
    "    )\n",
    "#     elastic_docs = response[\"aggregations\"]\n",
    "    fecha_max = response[\"aggregations\"][\"max_date\"]['value_as_string']\n",
    "    h_inicio = response[\"aggregations\"][\"max_date\"]['value_as_string']\n",
    "    #h_fin = (datetime.strptime(h_inicio, '%Y-%m-%dT%H:%M:%S')+timedelta(hours=2)).strftime(\"%Y/%m/%dT%H:%M:%S\")\n",
    "except:\n",
    "    fecha_max = (new_date).strftime(\"%Y-%m-%d\") + ' 00:00:00'\n",
    "    h_inicio = fecha_max\n",
    "    \n",
    "    #h_fin = (datetime.strptime(h_inicio, '%Y-%m-%dT%H:%M:%S') + timedelta(hours=1)).strftime(\"%Y-%m-%dT%H:%M:%S\")\n",
    "print(\"Fecha maxima en sonic curado:\", fecha_max,\"| Fecha inicio:\", h_inicio)"
   ]
  },
  {
   "cell_type": "code",
   "execution_count": 213,
   "metadata": {},
   "outputs": [],
   "source": [
    "#h_inicio = \"2021-10-14 00:00:00\""
   ]
  },
  {
   "cell_type": "markdown",
   "metadata": {},
   "source": [
    "### Fecha maxima del indice crudo filebeat"
   ]
  },
  {
   "cell_type": "code",
   "execution_count": 214,
   "metadata": {},
   "outputs": [
    {
     "name": "stdout",
     "output_type": "stream",
     "text": [
      "Fecha maxima en indice crudo: 2021-11-10 16:00:27\n"
     ]
    }
   ],
   "source": [
    "total_docs = 0\n",
    "try:\n",
    "    response = es.search(\n",
    "        index= index_raw,\n",
    "        body={\n",
    "                \"aggs\" : {\n",
    "                   \"max_date\": {\"max\": {\"field\": \"@timestamp\", \"format\": \"yyyy-MM-dd HH:mm:ss\"}}\n",
    "                },\n",
    "            \"query\": {\n",
    "                \"bool\": {\n",
    "                  \"filter\": [\n",
    "                \n",
    "                  {\n",
    "                    \"exists\": {\n",
    "                      \"field\":\"netflow.url-flow\"\n",
    "                    }\n",
    "                  }\n",
    "                  ]\n",
    "                }\n",
    "              }\n",
    "             },\n",
    "        size=total_docs\n",
    "    )\n",
    "    elastic_docs = response[\"aggregations\"]\n",
    "    fecha_max_crudo = response[\"aggregations\"][\"max_date\"]['value_as_string']\n",
    "    #h_fin = (datetime.strptime(h_inicio, '%Y-%m-%dT%H:%M:%S')+timedelta(hours=2)).strftime(\"%Y/%m/%dT%H:%M:%S\")\n",
    "    print(\"Fecha maxima en indice crudo:\", fecha_max_crudo)\n",
    "except:\n",
    "    print(\"Error leyendo indice crudo filebeat\")\n",
    "    #exit()"
   ]
  },
  {
   "cell_type": "markdown",
   "metadata": {},
   "source": [
    "* h_inicio viene del indice curado\n",
    "* h_fin viene de el indice crudo\n",
    "* En caso de que la fechas inicio y fin sean de dias diferentes, se igualan al actual. Se asume un rango de 10 minutos por corrida.\n",
    "* Cuando el rango de fechas es mayor a 10 minutos se ajusta."
   ]
  },
  {
   "cell_type": "markdown",
   "metadata": {},
   "source": [
    "### 1. Traer los URL de las páginas"
   ]
  },
  {
   "cell_type": "markdown",
   "metadata": {},
   "source": [
    "Se ajusta el maximo de resultados por consulta en el indice"
   ]
  },
  {
   "cell_type": "code",
   "execution_count": 215,
   "metadata": {},
   "outputs": [
    {
     "data": {
      "text/plain": [
       "{'acknowledged': True}"
      ]
     },
     "execution_count": 215,
     "metadata": {},
     "output_type": "execute_result"
    }
   ],
   "source": [
    "es.indices.put_settings(index=index_raw,\n",
    "                        body= {\"index\" : {\n",
    "                                \"max_result_window\" : 500000\n",
    "                        }})"
   ]
  },
  {
   "cell_type": "code",
   "execution_count": 216,
   "metadata": {},
   "outputs": [],
   "source": [
    "# def cargarJSON(elastic_docs):\n",
    "#     return pd.DataFrame([x[\"_source\"]['netflow'] for x in elastic_docs])"
   ]
  },
  {
   "cell_type": "code",
   "execution_count": 217,
   "metadata": {},
   "outputs": [],
   "source": [
    "def trae_datos(desde, hasta, total_docs):\n",
    "    response = es.search(\n",
    "        index= index_raw,\n",
    "        body={\n",
    "              \"_source\": [\"netflow.url*\",\"@timestamp\"],\n",
    "              \"query\": {\n",
    "                \"bool\": {\n",
    "                  \"filter\": [\n",
    "                    {\n",
    "                      \"range\": {\n",
    "                        \"@timestamp\": {\n",
    "                            \"gte\": desde.replace(\" \",\"T\"),\n",
    "                            \"lt\": hasta.replace(\" \",\"T\")\n",
    "                        }\n",
    "                      }\n",
    "                    }\n",
    "                  ,\n",
    "                  {\n",
    "                    \"exists\": {\n",
    "                      \"field\":\"netflow.url-flow\"\n",
    "                    }\n",
    "                  }\n",
    "                  ]\n",
    "                }\n",
    "              }\n",
    "        },\n",
    "        size=total_docs\n",
    "    )\n",
    "    elastic_docs = response[\"hits\"][\"hits\"]\n",
    "    \n",
    "    datos_api = pd.DataFrame([x[\"_source\"]['netflow'] for x in elastic_docs])\n",
    "    \n",
    "    #datos_api = pd.DataFrame(elastic_docs,['url-time', 'url-name', 'url-flow', 'url-ip'])\n",
    "    return datos_api"
   ]
  },
  {
   "cell_type": "markdown",
   "metadata": {},
   "source": [
    "Se incrementa la fecha de inicio ya que esta es el limite inferior del rango anteriormente procesado"
   ]
  },
  {
   "cell_type": "code",
   "execution_count": 218,
   "metadata": {},
   "outputs": [],
   "source": [
    "#h_fin = h_fin[0:15]+'0:00'\n",
    "h_inicio = (datetime.strptime(h_inicio, '%Y-%m-%d %H:%M:%S')+timedelta(minutes=30)).strftime(\"%Y-%m-%d %H:%M:%S\")\n",
    "h_fin = (datetime.strptime(h_inicio, '%Y-%m-%d %H:%M:%S')+timedelta(minutes=30)).strftime(\"%Y-%m-%d %H:%M:%S\")\n",
    "if h_inicio.split(\" \")[0]<h_fin.split(\" \")[0]:\n",
    "    h_inicio = h_fin[0:10]+' 00:00:01'\n",
    "    h_fin = h_fin[0:10]+' 00:30:00'"
   ]
  },
  {
   "cell_type": "code",
   "execution_count": 219,
   "metadata": {},
   "outputs": [],
   "source": [
    "#h_inicio='2021-06-30 09:00:00'\n",
    "#h_fin='2021-06-30 09:10:00'\n"
   ]
  },
  {
   "cell_type": "code",
   "execution_count": 220,
   "metadata": {},
   "outputs": [],
   "source": [
    "sonic_paginas = trae_datos(h_inicio, h_fin,100000)"
   ]
  },
  {
   "cell_type": "code",
   "execution_count": 221,
   "metadata": {},
   "outputs": [],
   "source": [
    "if sonic_paginas is None or sonic_paginas.empty:\n",
    "    while (sonic_paginas is None or sonic_paginas.empty) and ((datetime.strptime(h_inicio, '%Y-%m-%d %H:%M:%S').strftime(\"%Y-%m-%d %H:%M:%S\")) < (datetime.strptime(fecha_max_crudo, '%Y-%m-%d %H:%M:%S').strftime(\"%Y-%m-%d %H:%M:%S\"))):\n",
    "        h_inicio = (datetime.strptime(h_inicio, '%Y-%m-%d %H:%M:%S')+timedelta(minutes=10)).strftime(\"%Y-%m-%d %H:%M:%S\")\n",
    "        h_fin = (datetime.strptime(h_fin, '%Y-%m-%d %H:%M:%S')+timedelta(minutes=10)).strftime(\"%Y-%m-%d %H:%M:%S\")\n",
    "        sonic_paginas = trae_datos(h_inicio, h_fin,100000)\n",
    "else:\n",
    "    pass"
   ]
  },
  {
   "cell_type": "code",
   "execution_count": 222,
   "metadata": {},
   "outputs": [
    {
     "name": "stdout",
     "output_type": "stream",
     "text": [
      "        url-time                                    url-name    url-flow  \\\n",
      "0     1636560010                 exo.nel.measure.office.net/  2178239018   \n",
      "1     1636560011                           v58.tiktokcdn.com  2178239700   \n",
      "2     1636560010              us-east1-aws.api.snapchat.com/  2178238465   \n",
      "3     1636560010               us-east1-aws.api.snapchat.com  2178238465   \n",
      "4     1636560010                        clients4.google.com/  2178239549   \n",
      "...          ...                                         ...         ...   \n",
      "2408  1636560031                     181.49.90.145/empty.php  2163877163   \n",
      "2409  1636560032                     181.49.90.145/empty.php  2163877170   \n",
      "2410  1636560032                     181.49.90.145/empty.php  2163877172   \n",
      "2411  1636560032                     181.49.90.145/empty.php  2163877174   \n",
      "2412  1636560032  connectivitycheck.gstatic.com/generate_204  2163877178   \n",
      "\n",
      "      url-ip  \n",
      "0       27.0  \n",
      "1        0.0  \n",
      "2       58.0  \n",
      "3        0.0  \n",
      "4       29.0  \n",
      "...      ...  \n",
      "2408    64.0  \n",
      "2409    64.0  \n",
      "2410    64.0  \n",
      "2411    64.0  \n",
      "2412    27.0  \n",
      "\n",
      "[2413 rows x 4 columns]\n"
     ]
    }
   ],
   "source": [
    "#h_inicio='2021-06-30 09:00:00'\n",
    "#h_fin='2021-06-30 09:10:00'\n",
    "print(sonic_paginas)"
   ]
  },
  {
   "cell_type": "code",
   "execution_count": 223,
   "metadata": {
    "scrolled": true
   },
   "outputs": [
    {
     "name": "stdout",
     "output_type": "stream",
     "text": [
      "        url-time                                    url-name    url-flow  \\\n",
      "0     1636560010                 exo.nel.measure.office.net/  2178239018   \n",
      "1     1636560011                           v58.tiktokcdn.com  2178239700   \n",
      "2     1636560010              us-east1-aws.api.snapchat.com/  2178238465   \n",
      "3     1636560010               us-east1-aws.api.snapchat.com  2178238465   \n",
      "4     1636560010                        clients4.google.com/  2178239549   \n",
      "...          ...                                         ...         ...   \n",
      "2408  1636560031                     181.49.90.145/empty.php  2163877163   \n",
      "2409  1636560032                     181.49.90.145/empty.php  2163877170   \n",
      "2410  1636560032                     181.49.90.145/empty.php  2163877172   \n",
      "2411  1636560032                     181.49.90.145/empty.php  2163877174   \n",
      "2412  1636560032  connectivitycheck.gstatic.com/generate_204  2163877178   \n",
      "\n",
      "      url-ip              url-dominio  \n",
      "0       27.0               office.net  \n",
      "1        0.0            tiktokcdn.com  \n",
      "2       58.0             snapchat.com  \n",
      "3        0.0             snapchat.com  \n",
      "4       29.0               google.com  \n",
      "...      ...                      ...  \n",
      "2408    64.0  181.49.90.145/empty.php  \n",
      "2409    64.0  181.49.90.145/empty.php  \n",
      "2410    64.0  181.49.90.145/empty.php  \n",
      "2411    64.0  181.49.90.145/empty.php  \n",
      "2412    27.0              gstatic.com  \n",
      "\n",
      "[2376 rows x 5 columns]\n"
     ]
    }
   ],
   "source": [
    "sonic_paginas.drop_duplicates(subset=['url-flow','url-ip', 'url-time', 'url-name'],inplace=True)\n",
    "sonic_paginas['url-dominio'] = sonic_paginas['url-name'].apply(maneja_url)\n",
    "print(sonic_paginas)"
   ]
  },
  {
   "cell_type": "code",
   "execution_count": 203,
   "metadata": {},
   "outputs": [],
   "source": [
    "#sonic_paginas.to_excel(\"sonic_pagina.xlsx\")"
   ]
  },
  {
   "cell_type": "markdown",
   "metadata": {},
   "source": [
    "### 2. Traer la IP del access point desde donde se consulta la URL"
   ]
  },
  {
   "cell_type": "code",
   "execution_count": 224,
   "metadata": {},
   "outputs": [],
   "source": [
    "try:\n",
    "    total_docs = 500000\n",
    "    response = es.search(\n",
    "        index= index_raw,\n",
    "        body={\n",
    "              \"_source\": [\"netflow.url*\",\"@timestamp\"],\n",
    "              \"query\": {\n",
    "                \"bool\": {\n",
    "                  \"filter\": [\n",
    "                    {\n",
    "                      \"range\": {\n",
    "                        \"@timestamp\": {\n",
    "                            \"gte\": h_inicio.replace(\" \",\"T\"),\n",
    "                            \"lt\": h_fin.replace(\" \",\"T\")\n",
    "                        }\n",
    "                      }\n",
    "                    }\n",
    "                  ,\n",
    "                  {\n",
    "                    \"exists\": {\n",
    "                      \"field\":\"netflow.url-flow-identify\"\n",
    "                    }\n",
    "                  }\n",
    "                  ]\n",
    "                }\n",
    "              }\n",
    "        },\n",
    "        size=total_docs\n",
    "    )\n",
    "    elastic_docs = response[\"hits\"][\"hits\"]\n",
    "#     fields = {}\n",
    "#     for num, doc in enumerate(elastic_docs):\n",
    "#         source_data = doc[\"_source\"][\"netflow\"]\n",
    "#         for key, val in source_data.items():\n",
    "#             try:\n",
    "#                 fields[key] = np.append(fields[key], val)\n",
    "#             except KeyError:\n",
    "#                 fields[key] = np.array([val])\n",
    "\n",
    "#     datos_ip = pd.DataFrame(dict([ (k,pd.Series(v)) for k,v in fields.items() ]))\n",
    "    \n",
    "    datos_ip = pd.DataFrame([x[\"_source\"]['netflow'] for x in elastic_docs])\n",
    "    \n",
    "except:\n",
    "    print(\"Error leyendo indice crudo URL\",response)\n",
    "    exit()"
   ]
  },
  {
   "cell_type": "code",
   "execution_count": 225,
   "metadata": {},
   "outputs": [],
   "source": [
    "datos_ip.drop_duplicates(subset=['url-ip-destino', 'url-ip-origen', 'url-flow-identify'],inplace=True)\n",
    "datos_ip = datos_ip.rename(columns={'url-flow-identify' : 'url-flow'})"
   ]
  },
  {
   "cell_type": "code",
   "execution_count": 226,
   "metadata": {},
   "outputs": [
    {
     "data": {
      "text/html": [
       "<div>\n",
       "<style scoped>\n",
       "    .dataframe tbody tr th:only-of-type {\n",
       "        vertical-align: middle;\n",
       "    }\n",
       "\n",
       "    .dataframe tbody tr th {\n",
       "        vertical-align: top;\n",
       "    }\n",
       "\n",
       "    .dataframe thead th {\n",
       "        text-align: right;\n",
       "    }\n",
       "</style>\n",
       "<table border=\"1\" class=\"dataframe\">\n",
       "  <thead>\n",
       "    <tr style=\"text-align: right;\">\n",
       "      <th></th>\n",
       "      <th>url-ip-origen</th>\n",
       "      <th>url-ip-destino</th>\n",
       "      <th>url-flow</th>\n",
       "    </tr>\n",
       "  </thead>\n",
       "  <tbody>\n",
       "    <tr>\n",
       "      <th>0</th>\n",
       "      <td>1.760743e+08</td>\n",
       "      <td>2.398794e+09</td>\n",
       "      <td>2178239591</td>\n",
       "    </tr>\n",
       "    <tr>\n",
       "      <th>2</th>\n",
       "      <td>1.760902e+08</td>\n",
       "      <td>3.357182e+09</td>\n",
       "      <td>2178221339</td>\n",
       "    </tr>\n",
       "    <tr>\n",
       "      <th>3</th>\n",
       "      <td>1.688280e+08</td>\n",
       "      <td>3.357182e+09</td>\n",
       "      <td>2178230427</td>\n",
       "    </tr>\n",
       "    <tr>\n",
       "      <th>4</th>\n",
       "      <td>1.687612e+08</td>\n",
       "      <td>3.039893e+09</td>\n",
       "      <td>2178204263</td>\n",
       "    </tr>\n",
       "    <tr>\n",
       "      <th>5</th>\n",
       "      <td>1.745385e+08</td>\n",
       "      <td>3.357182e+09</td>\n",
       "      <td>2178239844</td>\n",
       "    </tr>\n",
       "    <tr>\n",
       "      <th>...</th>\n",
       "      <td>...</td>\n",
       "      <td>...</td>\n",
       "      <td>...</td>\n",
       "    </tr>\n",
       "    <tr>\n",
       "      <th>34595</th>\n",
       "      <td>3.197126e+09</td>\n",
       "      <td>3.120665e+09</td>\n",
       "      <td>2201386518</td>\n",
       "    </tr>\n",
       "    <tr>\n",
       "      <th>34598</th>\n",
       "      <td>3.197126e+09</td>\n",
       "      <td>3.120665e+09</td>\n",
       "      <td>2201386521</td>\n",
       "    </tr>\n",
       "    <tr>\n",
       "      <th>34599</th>\n",
       "      <td>1.686257e+08</td>\n",
       "      <td>3.039911e+09</td>\n",
       "      <td>2194660069</td>\n",
       "    </tr>\n",
       "    <tr>\n",
       "      <th>34600</th>\n",
       "      <td>1.686257e+08</td>\n",
       "      <td>3.039911e+09</td>\n",
       "      <td>2194660071</td>\n",
       "    </tr>\n",
       "    <tr>\n",
       "      <th>34601</th>\n",
       "      <td>1.686257e+08</td>\n",
       "      <td>3.039911e+09</td>\n",
       "      <td>2194660349</td>\n",
       "    </tr>\n",
       "  </tbody>\n",
       "</table>\n",
       "<p>18090 rows × 3 columns</p>\n",
       "</div>"
      ],
      "text/plain": [
       "       url-ip-origen  url-ip-destino    url-flow\n",
       "0       1.760743e+08    2.398794e+09  2178239591\n",
       "2       1.760902e+08    3.357182e+09  2178221339\n",
       "3       1.688280e+08    3.357182e+09  2178230427\n",
       "4       1.687612e+08    3.039893e+09  2178204263\n",
       "5       1.745385e+08    3.357182e+09  2178239844\n",
       "...              ...             ...         ...\n",
       "34595   3.197126e+09    3.120665e+09  2201386518\n",
       "34598   3.197126e+09    3.120665e+09  2201386521\n",
       "34599   1.686257e+08    3.039911e+09  2194660069\n",
       "34600   1.686257e+08    3.039911e+09  2194660071\n",
       "34601   1.686257e+08    3.039911e+09  2194660349\n",
       "\n",
       "[18090 rows x 3 columns]"
      ]
     },
     "execution_count": 226,
     "metadata": {},
     "output_type": "execute_result"
    }
   ],
   "source": [
    "datos_ip"
   ]
  },
  {
   "cell_type": "code",
   "execution_count": 72,
   "metadata": {},
   "outputs": [],
   "source": [
    "#datos_ip.to_excel(\"datosip.xlsx\")"
   ]
  },
  {
   "cell_type": "markdown",
   "metadata": {},
   "source": [
    "### Combinando URL con Names"
   ]
  },
  {
   "cell_type": "code",
   "execution_count": 227,
   "metadata": {},
   "outputs": [
    {
     "name": "stdout",
     "output_type": "stream",
     "text": [
      "       url-ip-origen  url-ip-destino    url-flow\n",
      "0       1.760743e+08    2.398794e+09  2178239591\n",
      "2       1.760902e+08    3.357182e+09  2178221339\n",
      "3       1.688280e+08    3.357182e+09  2178230427\n",
      "4       1.687612e+08    3.039893e+09  2178204263\n",
      "5       1.745385e+08    3.357182e+09  2178239844\n",
      "...              ...             ...         ...\n",
      "34595   3.197126e+09    3.120665e+09  2201386518\n",
      "34598   3.197126e+09    3.120665e+09  2201386521\n",
      "34599   1.686257e+08    3.039911e+09  2194660069\n",
      "34600   1.686257e+08    3.039911e+09  2194660071\n",
      "34601   1.686257e+08    3.039911e+09  2194660349\n",
      "\n",
      "[18090 rows x 3 columns]\n",
      "///////\n",
      "        url-time                                    url-name    url-flow  \\\n",
      "0     1636560010                 exo.nel.measure.office.net/  2178239018   \n",
      "1     1636560011                           v58.tiktokcdn.com  2178239700   \n",
      "2     1636560010              us-east1-aws.api.snapchat.com/  2178238465   \n",
      "3     1636560010               us-east1-aws.api.snapchat.com  2178238465   \n",
      "4     1636560010                        clients4.google.com/  2178239549   \n",
      "...          ...                                         ...         ...   \n",
      "2408  1636560031                     181.49.90.145/empty.php  2163877163   \n",
      "2409  1636560032                     181.49.90.145/empty.php  2163877170   \n",
      "2410  1636560032                     181.49.90.145/empty.php  2163877172   \n",
      "2411  1636560032                     181.49.90.145/empty.php  2163877174   \n",
      "2412  1636560032  connectivitycheck.gstatic.com/generate_204  2163877178   \n",
      "\n",
      "      url-ip              url-dominio  \n",
      "0       27.0               office.net  \n",
      "1        0.0            tiktokcdn.com  \n",
      "2       58.0             snapchat.com  \n",
      "3        0.0             snapchat.com  \n",
      "4       29.0               google.com  \n",
      "...      ...                      ...  \n",
      "2408    64.0  181.49.90.145/empty.php  \n",
      "2409    64.0  181.49.90.145/empty.php  \n",
      "2410    64.0  181.49.90.145/empty.php  \n",
      "2411    64.0  181.49.90.145/empty.php  \n",
      "2412    27.0              gstatic.com  \n",
      "\n",
      "[2376 rows x 5 columns]\n"
     ]
    }
   ],
   "source": [
    "#datos_ip.to_excel(\"datos_ip.xlsx\")\n",
    "#datos_ip.to_excel(\"sonic_paginas.xlsx\")\n",
    "print(datos_ip)\n",
    "print(\"///////\")\n",
    "print(sonic_paginas)\n",
    "sonic_paginas = pd.merge(sonic_paginas,  datos_ip, on=['url-flow'], how='inner')"
   ]
  },
  {
   "cell_type": "code",
   "execution_count": 228,
   "metadata": {},
   "outputs": [
    {
     "data": {
      "text/html": [
       "<div>\n",
       "<style scoped>\n",
       "    .dataframe tbody tr th:only-of-type {\n",
       "        vertical-align: middle;\n",
       "    }\n",
       "\n",
       "    .dataframe tbody tr th {\n",
       "        vertical-align: top;\n",
       "    }\n",
       "\n",
       "    .dataframe thead th {\n",
       "        text-align: right;\n",
       "    }\n",
       "</style>\n",
       "<table border=\"1\" class=\"dataframe\">\n",
       "  <thead>\n",
       "    <tr style=\"text-align: right;\">\n",
       "      <th></th>\n",
       "      <th>url-time</th>\n",
       "      <th>url-name</th>\n",
       "      <th>url-flow</th>\n",
       "      <th>url-ip</th>\n",
       "      <th>url-dominio</th>\n",
       "      <th>url-ip-origen</th>\n",
       "      <th>url-ip-destino</th>\n",
       "    </tr>\n",
       "  </thead>\n",
       "  <tbody>\n",
       "    <tr>\n",
       "      <th>0</th>\n",
       "      <td>1636560010</td>\n",
       "      <td>exo.nel.measure.office.net/</td>\n",
       "      <td>2178239018</td>\n",
       "      <td>27.0</td>\n",
       "      <td>office.net</td>\n",
       "      <td>176218674.0</td>\n",
       "      <td>1.611129e+09</td>\n",
       "    </tr>\n",
       "    <tr>\n",
       "      <th>1</th>\n",
       "      <td>1636560010</td>\n",
       "      <td>exo.nel.measure.office.net</td>\n",
       "      <td>2178239018</td>\n",
       "      <td>0.0</td>\n",
       "      <td>office.net</td>\n",
       "      <td>176218674.0</td>\n",
       "      <td>1.611129e+09</td>\n",
       "    </tr>\n",
       "    <tr>\n",
       "      <th>2</th>\n",
       "      <td>1636560011</td>\n",
       "      <td>v58.tiktokcdn.com</td>\n",
       "      <td>2178239700</td>\n",
       "      <td>0.0</td>\n",
       "      <td>tiktokcdn.com</td>\n",
       "      <td>168599111.0</td>\n",
       "      <td>1.546031e+09</td>\n",
       "    </tr>\n",
       "    <tr>\n",
       "      <th>3</th>\n",
       "      <td>1636560010</td>\n",
       "      <td>us-east1-aws.api.snapchat.com/</td>\n",
       "      <td>2178238465</td>\n",
       "      <td>58.0</td>\n",
       "      <td>snapchat.com</td>\n",
       "      <td>175053069.0</td>\n",
       "      <td>5.626113e+07</td>\n",
       "    </tr>\n",
       "    <tr>\n",
       "      <th>4</th>\n",
       "      <td>1636560010</td>\n",
       "      <td>us-east1-aws.api.snapchat.com</td>\n",
       "      <td>2178238465</td>\n",
       "      <td>0.0</td>\n",
       "      <td>snapchat.com</td>\n",
       "      <td>175053069.0</td>\n",
       "      <td>5.626113e+07</td>\n",
       "    </tr>\n",
       "    <tr>\n",
       "      <th>...</th>\n",
       "      <td>...</td>\n",
       "      <td>...</td>\n",
       "      <td>...</td>\n",
       "      <td>...</td>\n",
       "      <td>...</td>\n",
       "      <td>...</td>\n",
       "      <td>...</td>\n",
       "    </tr>\n",
       "    <tr>\n",
       "      <th>1975</th>\n",
       "      <td>1636560031</td>\n",
       "      <td>181.49.90.144/empty.php</td>\n",
       "      <td>2158448928</td>\n",
       "      <td>64.0</td>\n",
       "      <td>181.49.90.144/empty.php</td>\n",
       "      <td>170672378.0</td>\n",
       "      <td>3.039911e+09</td>\n",
       "    </tr>\n",
       "    <tr>\n",
       "      <th>1976</th>\n",
       "      <td>1636560031</td>\n",
       "      <td>bidder.criteo.com/</td>\n",
       "      <td>2163877162</td>\n",
       "      <td>54.0</td>\n",
       "      <td>criteo.com</td>\n",
       "      <td>169623866.0</td>\n",
       "      <td>1.249343e+09</td>\n",
       "    </tr>\n",
       "    <tr>\n",
       "      <th>1977</th>\n",
       "      <td>1636560031</td>\n",
       "      <td>181.49.90.145/getIP.php</td>\n",
       "      <td>2163877163</td>\n",
       "      <td>64.0</td>\n",
       "      <td>181.49.90.145/getIP.php</td>\n",
       "      <td>169623770.0</td>\n",
       "      <td>3.039911e+09</td>\n",
       "    </tr>\n",
       "    <tr>\n",
       "      <th>1978</th>\n",
       "      <td>1636560031</td>\n",
       "      <td>181.49.90.145/empty.php</td>\n",
       "      <td>2163877163</td>\n",
       "      <td>64.0</td>\n",
       "      <td>181.49.90.145/empty.php</td>\n",
       "      <td>169623770.0</td>\n",
       "      <td>3.039911e+09</td>\n",
       "    </tr>\n",
       "    <tr>\n",
       "      <th>1979</th>\n",
       "      <td>1636560032</td>\n",
       "      <td>connectivitycheck.gstatic.com/generate_204</td>\n",
       "      <td>2163877178</td>\n",
       "      <td>27.0</td>\n",
       "      <td>gstatic.com</td>\n",
       "      <td>170918185.0</td>\n",
       "      <td>2.398804e+09</td>\n",
       "    </tr>\n",
       "  </tbody>\n",
       "</table>\n",
       "<p>1980 rows × 7 columns</p>\n",
       "</div>"
      ],
      "text/plain": [
       "        url-time                                    url-name    url-flow  \\\n",
       "0     1636560010                 exo.nel.measure.office.net/  2178239018   \n",
       "1     1636560010                  exo.nel.measure.office.net  2178239018   \n",
       "2     1636560011                           v58.tiktokcdn.com  2178239700   \n",
       "3     1636560010              us-east1-aws.api.snapchat.com/  2178238465   \n",
       "4     1636560010               us-east1-aws.api.snapchat.com  2178238465   \n",
       "...          ...                                         ...         ...   \n",
       "1975  1636560031                     181.49.90.144/empty.php  2158448928   \n",
       "1976  1636560031                          bidder.criteo.com/  2163877162   \n",
       "1977  1636560031                     181.49.90.145/getIP.php  2163877163   \n",
       "1978  1636560031                     181.49.90.145/empty.php  2163877163   \n",
       "1979  1636560032  connectivitycheck.gstatic.com/generate_204  2163877178   \n",
       "\n",
       "      url-ip              url-dominio  url-ip-origen  url-ip-destino  \n",
       "0       27.0               office.net    176218674.0    1.611129e+09  \n",
       "1        0.0               office.net    176218674.0    1.611129e+09  \n",
       "2        0.0            tiktokcdn.com    168599111.0    1.546031e+09  \n",
       "3       58.0             snapchat.com    175053069.0    5.626113e+07  \n",
       "4        0.0             snapchat.com    175053069.0    5.626113e+07  \n",
       "...      ...                      ...            ...             ...  \n",
       "1975    64.0  181.49.90.144/empty.php    170672378.0    3.039911e+09  \n",
       "1976    54.0               criteo.com    169623866.0    1.249343e+09  \n",
       "1977    64.0  181.49.90.145/getIP.php    169623770.0    3.039911e+09  \n",
       "1978    64.0  181.49.90.145/empty.php    169623770.0    3.039911e+09  \n",
       "1979    27.0              gstatic.com    170918185.0    2.398804e+09  \n",
       "\n",
       "[1980 rows x 7 columns]"
      ]
     },
     "execution_count": 228,
     "metadata": {},
     "output_type": "execute_result"
    }
   ],
   "source": [
    "sonic_paginas"
   ]
  },
  {
   "cell_type": "code",
   "execution_count": 806,
   "metadata": {},
   "outputs": [],
   "source": [
    "#sonic_paginas.to_excel(\"paginas.xlsx\")"
   ]
  },
  {
   "cell_type": "markdown",
   "metadata": {},
   "source": [
    "### 3. Leyendo indice de categorías"
   ]
  },
  {
   "cell_type": "markdown",
   "metadata": {},
   "source": [
    "* Se lee indice categorias, si no retorna nada se lee el plano separado por tabulador.\n",
    "* La información leída del archivo es agregada al indice de categorías. En lecturas sucesivas ya estaría disponible el indice."
   ]
  },
  {
   "cell_type": "code",
   "execution_count": 229,
   "metadata": {},
   "outputs": [],
   "source": [
    "total_docs = 10000\n",
    "try:\n",
    "    response = es.search(\n",
    "        index= parametros.sonicwall_categorias,\n",
    "        body={\n",
    "                \"_source\": [\"ID\",\"Categoria\"]\n",
    "        },\n",
    "        size=total_docs\n",
    "    )\n",
    "    elastic_docs = response[\"hits\"][\"hits\"]\n",
    "    fields = {}\n",
    "    for num, doc in enumerate(elastic_docs):\n",
    "        source_data = doc[\"_source\"]\n",
    "        for key, val in source_data.items():\n",
    "            try:\n",
    "                fields[key] = np.append(fields[key], val)\n",
    "            except KeyError:\n",
    "                fields[key] = np.array([val])\n",
    "\n",
    "    datos_categorias = pd.DataFrame(dict([ (k,pd.Series(v)) for k,v in fields.items() ]))\n",
    "except:\n",
    "    datos_categorias = pd.read_csv('/home/desarrollo/gh-mintic-backend/archivos/Mapeo-categorias-url.tsv', sep='\\t', encoding = 'utf-8')\n",
    "    datos_categorias.dropna(inplace=True)\n",
    "    use_these_keys = ['ID', 'Categoria','@timestamp']\n",
    "    timestamp = datetime.now()\n",
    "    datos_categorias['@timestamp'] = timestamp.isoformat()\n",
    "    def doc_generator(df):\n",
    "        df_iter = df.iterrows()\n",
    "        for index, document in df_iter:\n",
    "            yield {\n",
    "                    \"_index\": sonicwall_categorias, \n",
    "                    \"_id\": f\"{document['ID']}\",\n",
    "                    \"_source\": filterKeys(document),\n",
    "                }\n",
    "    salida = helpers.bulk(es, doc_generator(datos_categorias))\n",
    "    print(\"Fecha: \", now,\"- Datos nuevos en indice sonic-categorias:\",salida[0])\n",
    "    #datos_sonic = datos_sonic.drop(aux_recurrencia[(aux_recurrencia['contador'] < 2)].index)\n"
   ]
  },
  {
   "cell_type": "markdown",
   "metadata": {},
   "source": [
    "### Se lee del indice crudo las Categorias"
   ]
  },
  {
   "cell_type": "code",
   "execution_count": 230,
   "metadata": {},
   "outputs": [],
   "source": [
    "try:\n",
    "    total_docs = 500000\n",
    "    response = es.search(\n",
    "        index= index_raw,\n",
    "        body={\n",
    "              \"_source\": [\"netflow.url*\",\"@timestamp\"],\n",
    "              \"query\": {\n",
    "                \"bool\": {\n",
    "                  \"filter\": [\n",
    "                    {\n",
    "                      \"range\": {\n",
    "                        \"@timestamp\": {\n",
    "                            \"gte\": h_inicio.replace(\" \",\"T\"),\n",
    "                            \"lt\": h_fin.replace(\" \",\"T\")\n",
    "                        }\n",
    "                      }\n",
    "                    }\n",
    "                  ,\n",
    "                  {\n",
    "                    \"exists\": {\n",
    "                      \"field\":\"netflow.url-categoria-name2\"\n",
    "                    }\n",
    "                  }\n",
    "                  ]\n",
    "                }\n",
    "              }\n",
    "        },\n",
    "        size=total_docs\n",
    "    )\n",
    "    elastic_docs = response[\"hits\"][\"hits\"]\n",
    "#     fields = {}\n",
    "#     for num, doc in enumerate(elastic_docs):\n",
    "#         source_data = doc[\"_source\"][\"netflow\"]\n",
    "#         for key, val in source_data.items():\n",
    "#             try:\n",
    "#                 fields[key] = np.append(fields[key], val)\n",
    "#             except KeyError:\n",
    "#                 fields[key] = np.array([val])\n",
    "#     sonic_categorias = pd.DataFrame(dict([ (k,pd.Series(v)) for k,v in fields.items() ]))\n",
    "\n",
    "    sonic_categorias = pd.DataFrame([x[\"_source\"]['netflow'] for x in elastic_docs])\n",
    "    \n",
    "except:\n",
    "    print(\"Error leyendo indice crudo Categorías\")\n",
    "    #exit()"
   ]
  },
  {
   "cell_type": "code",
   "execution_count": 77,
   "metadata": {},
   "outputs": [],
   "source": [
    "#prueba = json.loads(elastic_docs)\n",
    "#prueba\n",
    "#df = pd.json_normalize(prueba['results'])"
   ]
  },
  {
   "cell_type": "markdown",
   "metadata": {},
   "source": [
    "* Se  identifica el dominio de cada URL\n",
    "* Se descartam duplicados por dominio y categoría\n",
    "* Se renombre ID para cruce"
   ]
  },
  {
   "cell_type": "code",
   "execution_count": 231,
   "metadata": {},
   "outputs": [
    {
     "name": "stdout",
     "output_type": "stream",
     "text": [
      "                                               url-name  ID  \\\n",
      "0                                           dns.google/  27   \n",
      "1                   im16-normal-c-useast1a.tiktokv.com/  58   \n",
      "2                            partners-ir.peel-prod.com/  15   \n",
      "3                                       www.google.com/  29   \n",
      "4                                www.google.com/gen_204  29   \n",
      "...                                                 ...  ..   \n",
      "2350               mon16-normal-c-useast1a.tiktokv.com/  58   \n",
      "2351                          callback.ad.snaptube.app/  56   \n",
      "2360                                   lm.facebook.com/  58   \n",
      "2366  ocsp.digicert.com/MFEwTzBNMEswSTAJBgUrDgMCGgUA...  27   \n",
      "2371            assets.nvidiagrid.net/titles/nvidiatech  15   \n",
      "\n",
      "      url-categoria-name5  url-categoria-name3  url-categoria-name4  \n",
      "0                       0                    0                    0  \n",
      "1                       0                    0                    0  \n",
      "2                       0                    0                    0  \n",
      "3                       0                    0                    0  \n",
      "4                       0                    0                    0  \n",
      "...                   ...                  ...                  ...  \n",
      "2350                    0                    0                    0  \n",
      "2351                    0                    0                    0  \n",
      "2360                    0                    0                    0  \n",
      "2366                    0                    0                    0  \n",
      "2371                    0                    0                    0  \n",
      "\n",
      "[792 rows x 5 columns]\n"
     ]
    }
   ],
   "source": [
    "sonic_categorias.drop_duplicates(subset=['url-name','url-categoria-name2'],inplace=True)\n",
    "sonic_categorias = sonic_categorias.rename(columns={'url-categoria-name2' : 'ID'})\n",
    "print(sonic_categorias)"
   ]
  },
  {
   "cell_type": "markdown",
   "metadata": {},
   "source": [
    "### Se  combina las categorias que vienen del indice con las existentes en el indice de categorías"
   ]
  },
  {
   "cell_type": "code",
   "execution_count": 232,
   "metadata": {},
   "outputs": [],
   "source": [
    "sonic_categorias = pd.merge(sonic_categorias[['url-name','ID']],  datos_categorias, on='ID', how='outer')"
   ]
  },
  {
   "cell_type": "code",
   "execution_count": 233,
   "metadata": {},
   "outputs": [
    {
     "name": "stdout",
     "output_type": "stream",
     "text": [
      "        url-time                                    url-name    url-flow  \\\n",
      "0     1636560010                 exo.nel.measure.office.net/  2178239018   \n",
      "1     1636560010                  exo.nel.measure.office.net  2178239018   \n",
      "2     1636560011                           v58.tiktokcdn.com  2178239700   \n",
      "3     1636560010              us-east1-aws.api.snapchat.com/  2178238465   \n",
      "4     1636560010               us-east1-aws.api.snapchat.com  2178238465   \n",
      "...          ...                                         ...         ...   \n",
      "1975  1636560031                     181.49.90.144/empty.php  2158448928   \n",
      "1976  1636560031                          bidder.criteo.com/  2163877162   \n",
      "1977  1636560031                     181.49.90.145/getIP.php  2163877163   \n",
      "1978  1636560031                     181.49.90.145/empty.php  2163877163   \n",
      "1979  1636560032  connectivitycheck.gstatic.com/generate_204  2163877178   \n",
      "\n",
      "      url-ip              url-dominio  url-ip-origen  url-ip-destino  \n",
      "0       27.0               office.net    176218674.0    1.611129e+09  \n",
      "1        0.0               office.net    176218674.0    1.611129e+09  \n",
      "2        0.0            tiktokcdn.com    168599111.0    1.546031e+09  \n",
      "3       58.0             snapchat.com    175053069.0    5.626113e+07  \n",
      "4        0.0             snapchat.com    175053069.0    5.626113e+07  \n",
      "...      ...                      ...            ...             ...  \n",
      "1975    64.0  181.49.90.144/empty.php    170672378.0    3.039911e+09  \n",
      "1976    54.0               criteo.com    169623866.0    1.249343e+09  \n",
      "1977    64.0  181.49.90.145/getIP.php    169623770.0    3.039911e+09  \n",
      "1978    64.0  181.49.90.145/empty.php    169623770.0    3.039911e+09  \n",
      "1979    27.0              gstatic.com    170918185.0    2.398804e+09  \n",
      "\n",
      "[1980 rows x 7 columns]\n"
     ]
    }
   ],
   "source": [
    "#sonic_categorias.to_excel(\"categorias.xlsx\")\n",
    "#sonic_paginas.to_excel(\"sonic_paginas.xlsx\")\n",
    "print(sonic_paginas)"
   ]
  },
  {
   "cell_type": "markdown",
   "metadata": {},
   "source": [
    "### Se combina categorías con indice principal"
   ]
  },
  {
   "cell_type": "code",
   "execution_count": 234,
   "metadata": {},
   "outputs": [
    {
     "name": "stdout",
     "output_type": "stream",
     "text": [
      "        url-time                        url-name    url-flow  url-ip  \\\n",
      "0     1636560010     exo.nel.measure.office.net/  2178239018    27.0   \n",
      "1     1636560010  us-east1-aws.api.snapchat.com/  2178238465    58.0   \n",
      "2     1636560010  us-east1-aws.api.snapchat.com/  2178238022    58.0   \n",
      "3     1636560010  us-east1-aws.api.snapchat.com/  2178238613    58.0   \n",
      "4     1636560010  us-east1-aws.api.snapchat.com/  2178238614    58.0   \n",
      "...          ...                             ...         ...     ...   \n",
      "1002  1636560020                     t.teads.tv/  2178257202    15.0   \n",
      "1003  1636560019            api.ad.snaptube.app/  2178255823    56.0   \n",
      "1004  1636560030         181.49.90.144/getIP.php  2158448923    64.0   \n",
      "1005  1636560029             pebed.dm-event.net/  2163877150    15.0   \n",
      "1006  1636560031         181.49.90.145/getIP.php  2163877163    64.0   \n",
      "\n",
      "                  url-dominio  url-ip-origen  url-ip-destino  ID  \\\n",
      "0                  office.net    176218674.0    1.611129e+09  27   \n",
      "1                snapchat.com    175053069.0    5.626113e+07  58   \n",
      "2                snapchat.com    175053069.0    5.626113e+07  58   \n",
      "3                snapchat.com    175053069.0    5.626113e+07  58   \n",
      "4                snapchat.com    175053069.0    5.626113e+07  58   \n",
      "...                       ...            ...             ...  ..   \n",
      "1002                 teads.tv    169270631.0    3.994555e+08  15   \n",
      "1003             snaptube.app    175143975.0    3.174209e+08  56   \n",
      "1004  181.49.90.144/getIP.php    170672378.0    3.039911e+09  64   \n",
      "1005             dm-event.net    169608662.0    3.158408e+09  15   \n",
      "1006  181.49.90.145/getIP.php    169623770.0    3.039911e+09  64   \n",
      "\n",
      "                            Categoria  \n",
      "0     Information Technology/Computer  \n",
      "1                   Social Networking  \n",
      "2                   Social Networking  \n",
      "3                   Social Networking  \n",
      "4                   Social Networking  \n",
      "...                               ...  \n",
      "1002             Business and Economy  \n",
      "1003                            Other  \n",
      "1004                        Not Rated  \n",
      "1005             Business and Economy  \n",
      "1006                        Not Rated  \n",
      "\n",
      "[1007 rows x 9 columns]\n"
     ]
    }
   ],
   "source": [
    "sonic_paginas = pd.merge(sonic_paginas,  sonic_categorias, on='url-name', how='inner')\n",
    "print(sonic_paginas)"
   ]
  },
  {
   "cell_type": "markdown",
   "metadata": {},
   "source": [
    "* Si la categoría no existe en el indice de categorías, se agrega ascociando el dominio como nombre de la categoría\n",
    "* Se genera un nuevo dataframe con los valores que no existan en indice para luego insertarlos\n",
    "* Para incorporar en flujo principal, se sustituye el valor Categorías nulas por el valor del url-dominio"
   ]
  },
  {
   "cell_type": "code",
   "execution_count": 235,
   "metadata": {},
   "outputs": [],
   "source": [
    "sonic_categorias['url-dominio'] = sonic_categorias['url-name'].apply(maneja_url)\n",
    "sonic_categorias['Categoria'].fillna(sonic_categorias['url-dominio'], inplace=True)\n",
    "categoria_update = sonic_categorias[(sonic_categorias['Categoria'].isnull())][['url-dominio','ID']]"
   ]
  },
  {
   "cell_type": "markdown",
   "metadata": {},
   "source": [
    "### Convirtiendo fechas e IPs"
   ]
  },
  {
   "cell_type": "code",
   "execution_count": 236,
   "metadata": {},
   "outputs": [],
   "source": [
    "sonic_paginas['url-time'] = [time.strftime('%Y-%m-%d %H:%M:%S', time.localtime(x)) for x in sonic_paginas['url-time']]"
   ]
  },
  {
   "cell_type": "code",
   "execution_count": 237,
   "metadata": {},
   "outputs": [],
   "source": [
    "sonic_paginas.fillna({'url-ip-destino':0, 'url-ip-origen':0},inplace=True)\n",
    "#sonic_paginas.fillna({'url-ip-origen':0},inplace=True)\n",
    "sonic_paginas = sonic_paginas.astype({\"url-ip-destino\": int, \"url-ip-origen\":int})"
   ]
  },
  {
   "cell_type": "code",
   "execution_count": 238,
   "metadata": {},
   "outputs": [],
   "source": [
    "sonic_paginas['url-ip-destino'] = [str(ipaddress.ip_address(x)) for x in sonic_paginas['url-ip-destino']]\n",
    "sonic_paginas['url-ip-origen'] = [str(ipaddress.ip_address(x)) for x in sonic_paginas['url-ip-origen']]"
   ]
  },
  {
   "cell_type": "code",
   "execution_count": 239,
   "metadata": {},
   "outputs": [],
   "source": [
    "sonic_paginas.drop_duplicates(inplace=True)"
   ]
  },
  {
   "cell_type": "markdown",
   "metadata": {},
   "source": [
    "Se extrae solo los 3 primeros octetos de la IP origen"
   ]
  },
  {
   "cell_type": "code",
   "execution_count": 240,
   "metadata": {},
   "outputs": [
    {
     "name": "stdout",
     "output_type": "stream",
     "text": [
      "0       10.128.226.50\n",
      "1        10.111.25.13\n",
      "2        10.111.25.13\n",
      "3        10.111.25.13\n",
      "4        10.111.25.13\n",
      "            ...      \n",
      "1002    10.22.221.103\n",
      "1003    10.112.124.39\n",
      "1004     10.44.64.250\n",
      "1005      10.28.5.214\n",
      "1006     10.28.64.218\n",
      "Name: url-ip-origen, Length: 1007, dtype: object\n"
     ]
    }
   ],
   "source": [
    "print(sonic_paginas['url-ip-origen'])"
   ]
  },
  {
   "cell_type": "code",
   "execution_count": 241,
   "metadata": {},
   "outputs": [],
   "source": [
    "if (len(sonic_paginas) > 0):\n",
    "    sonic_paginas['segmento'] = sonic_paginas['url-ip-origen'].str.split(\".\", n = 1, expand = True)[0] +'.'+ sonic_paginas['url-ip-origen'].str.split(\".\", n = 2, expand = True)[1] +'.'+ sonic_paginas['url-ip-origen'].str.split(\".\", n = 3, expand = True)[2]"
   ]
  },
  {
   "cell_type": "code",
   "execution_count": 243,
   "metadata": {},
   "outputs": [
    {
     "data": {
      "text/html": [
       "<div>\n",
       "<style scoped>\n",
       "    .dataframe tbody tr th:only-of-type {\n",
       "        vertical-align: middle;\n",
       "    }\n",
       "\n",
       "    .dataframe tbody tr th {\n",
       "        vertical-align: top;\n",
       "    }\n",
       "\n",
       "    .dataframe thead th {\n",
       "        text-align: right;\n",
       "    }\n",
       "</style>\n",
       "<table border=\"1\" class=\"dataframe\">\n",
       "  <thead>\n",
       "    <tr style=\"text-align: right;\">\n",
       "      <th></th>\n",
       "      <th>url-time</th>\n",
       "      <th>url-name</th>\n",
       "      <th>url-flow</th>\n",
       "      <th>url-ip</th>\n",
       "      <th>url-dominio</th>\n",
       "      <th>url-ip-origen</th>\n",
       "      <th>url-ip-destino</th>\n",
       "      <th>ID</th>\n",
       "      <th>Categoria</th>\n",
       "      <th>segmento</th>\n",
       "    </tr>\n",
       "  </thead>\n",
       "  <tbody>\n",
       "    <tr>\n",
       "      <th>0</th>\n",
       "      <td>2021-11-10 11:00:10</td>\n",
       "      <td>exo.nel.measure.office.net/</td>\n",
       "      <td>2178239018</td>\n",
       "      <td>27.0</td>\n",
       "      <td>office.net</td>\n",
       "      <td>10.128.226.50</td>\n",
       "      <td>96.7.224.27</td>\n",
       "      <td>27</td>\n",
       "      <td>Information Technology/Computer</td>\n",
       "      <td>10.128.226</td>\n",
       "    </tr>\n",
       "    <tr>\n",
       "      <th>1</th>\n",
       "      <td>2021-11-10 11:00:10</td>\n",
       "      <td>us-east1-aws.api.snapchat.com/</td>\n",
       "      <td>2178238465</td>\n",
       "      <td>58.0</td>\n",
       "      <td>snapchat.com</td>\n",
       "      <td>10.111.25.13</td>\n",
       "      <td>3.90.122.13</td>\n",
       "      <td>58</td>\n",
       "      <td>Social Networking</td>\n",
       "      <td>10.111.25</td>\n",
       "    </tr>\n",
       "    <tr>\n",
       "      <th>2</th>\n",
       "      <td>2021-11-10 11:00:10</td>\n",
       "      <td>us-east1-aws.api.snapchat.com/</td>\n",
       "      <td>2178238022</td>\n",
       "      <td>58.0</td>\n",
       "      <td>snapchat.com</td>\n",
       "      <td>10.111.25.13</td>\n",
       "      <td>3.90.122.13</td>\n",
       "      <td>58</td>\n",
       "      <td>Social Networking</td>\n",
       "      <td>10.111.25</td>\n",
       "    </tr>\n",
       "    <tr>\n",
       "      <th>3</th>\n",
       "      <td>2021-11-10 11:00:10</td>\n",
       "      <td>us-east1-aws.api.snapchat.com/</td>\n",
       "      <td>2178238613</td>\n",
       "      <td>58.0</td>\n",
       "      <td>snapchat.com</td>\n",
       "      <td>10.111.25.13</td>\n",
       "      <td>3.90.122.13</td>\n",
       "      <td>58</td>\n",
       "      <td>Social Networking</td>\n",
       "      <td>10.111.25</td>\n",
       "    </tr>\n",
       "    <tr>\n",
       "      <th>4</th>\n",
       "      <td>2021-11-10 11:00:10</td>\n",
       "      <td>us-east1-aws.api.snapchat.com/</td>\n",
       "      <td>2178238614</td>\n",
       "      <td>58.0</td>\n",
       "      <td>snapchat.com</td>\n",
       "      <td>10.111.25.13</td>\n",
       "      <td>3.90.122.13</td>\n",
       "      <td>58</td>\n",
       "      <td>Social Networking</td>\n",
       "      <td>10.111.25</td>\n",
       "    </tr>\n",
       "    <tr>\n",
       "      <th>...</th>\n",
       "      <td>...</td>\n",
       "      <td>...</td>\n",
       "      <td>...</td>\n",
       "      <td>...</td>\n",
       "      <td>...</td>\n",
       "      <td>...</td>\n",
       "      <td>...</td>\n",
       "      <td>...</td>\n",
       "      <td>...</td>\n",
       "      <td>...</td>\n",
       "    </tr>\n",
       "    <tr>\n",
       "      <th>1002</th>\n",
       "      <td>2021-11-10 11:00:20</td>\n",
       "      <td>t.teads.tv/</td>\n",
       "      <td>2178257202</td>\n",
       "      <td>15.0</td>\n",
       "      <td>teads.tv</td>\n",
       "      <td>10.22.221.103</td>\n",
       "      <td>23.207.53.46</td>\n",
       "      <td>15</td>\n",
       "      <td>Business and Economy</td>\n",
       "      <td>10.22.221</td>\n",
       "    </tr>\n",
       "    <tr>\n",
       "      <th>1003</th>\n",
       "      <td>2021-11-10 11:00:19</td>\n",
       "      <td>api.ad.snaptube.app/</td>\n",
       "      <td>2178255823</td>\n",
       "      <td>56.0</td>\n",
       "      <td>snaptube.app</td>\n",
       "      <td>10.112.124.39</td>\n",
       "      <td>18.235.117.75</td>\n",
       "      <td>56</td>\n",
       "      <td>Other</td>\n",
       "      <td>10.112.124</td>\n",
       "    </tr>\n",
       "    <tr>\n",
       "      <th>1004</th>\n",
       "      <td>2021-11-10 11:00:30</td>\n",
       "      <td>181.49.90.144/getIP.php</td>\n",
       "      <td>2158448923</td>\n",
       "      <td>64.0</td>\n",
       "      <td>181.49.90.144/getIP.php</td>\n",
       "      <td>10.44.64.250</td>\n",
       "      <td>181.49.90.144</td>\n",
       "      <td>64</td>\n",
       "      <td>Not Rated</td>\n",
       "      <td>10.44.64</td>\n",
       "    </tr>\n",
       "    <tr>\n",
       "      <th>1005</th>\n",
       "      <td>2021-11-10 11:00:29</td>\n",
       "      <td>pebed.dm-event.net/</td>\n",
       "      <td>2163877150</td>\n",
       "      <td>15.0</td>\n",
       "      <td>dm-event.net</td>\n",
       "      <td>10.28.5.214</td>\n",
       "      <td>188.65.124.59</td>\n",
       "      <td>15</td>\n",
       "      <td>Business and Economy</td>\n",
       "      <td>10.28.5</td>\n",
       "    </tr>\n",
       "    <tr>\n",
       "      <th>1006</th>\n",
       "      <td>2021-11-10 11:00:31</td>\n",
       "      <td>181.49.90.145/getIP.php</td>\n",
       "      <td>2163877163</td>\n",
       "      <td>64.0</td>\n",
       "      <td>181.49.90.145/getIP.php</td>\n",
       "      <td>10.28.64.218</td>\n",
       "      <td>181.49.90.145</td>\n",
       "      <td>64</td>\n",
       "      <td>Not Rated</td>\n",
       "      <td>10.28.64</td>\n",
       "    </tr>\n",
       "  </tbody>\n",
       "</table>\n",
       "<p>1007 rows × 10 columns</p>\n",
       "</div>"
      ],
      "text/plain": [
       "                 url-time                        url-name    url-flow  url-ip  \\\n",
       "0     2021-11-10 11:00:10     exo.nel.measure.office.net/  2178239018    27.0   \n",
       "1     2021-11-10 11:00:10  us-east1-aws.api.snapchat.com/  2178238465    58.0   \n",
       "2     2021-11-10 11:00:10  us-east1-aws.api.snapchat.com/  2178238022    58.0   \n",
       "3     2021-11-10 11:00:10  us-east1-aws.api.snapchat.com/  2178238613    58.0   \n",
       "4     2021-11-10 11:00:10  us-east1-aws.api.snapchat.com/  2178238614    58.0   \n",
       "...                   ...                             ...         ...     ...   \n",
       "1002  2021-11-10 11:00:20                     t.teads.tv/  2178257202    15.0   \n",
       "1003  2021-11-10 11:00:19            api.ad.snaptube.app/  2178255823    56.0   \n",
       "1004  2021-11-10 11:00:30         181.49.90.144/getIP.php  2158448923    64.0   \n",
       "1005  2021-11-10 11:00:29             pebed.dm-event.net/  2163877150    15.0   \n",
       "1006  2021-11-10 11:00:31         181.49.90.145/getIP.php  2163877163    64.0   \n",
       "\n",
       "                  url-dominio  url-ip-origen url-ip-destino  ID  \\\n",
       "0                  office.net  10.128.226.50    96.7.224.27  27   \n",
       "1                snapchat.com   10.111.25.13    3.90.122.13  58   \n",
       "2                snapchat.com   10.111.25.13    3.90.122.13  58   \n",
       "3                snapchat.com   10.111.25.13    3.90.122.13  58   \n",
       "4                snapchat.com   10.111.25.13    3.90.122.13  58   \n",
       "...                       ...            ...            ...  ..   \n",
       "1002                 teads.tv  10.22.221.103   23.207.53.46  15   \n",
       "1003             snaptube.app  10.112.124.39  18.235.117.75  56   \n",
       "1004  181.49.90.144/getIP.php   10.44.64.250  181.49.90.144  64   \n",
       "1005             dm-event.net    10.28.5.214  188.65.124.59  15   \n",
       "1006  181.49.90.145/getIP.php   10.28.64.218  181.49.90.145  64   \n",
       "\n",
       "                            Categoria    segmento  \n",
       "0     Information Technology/Computer  10.128.226  \n",
       "1                   Social Networking   10.111.25  \n",
       "2                   Social Networking   10.111.25  \n",
       "3                   Social Networking   10.111.25  \n",
       "4                   Social Networking   10.111.25  \n",
       "...                               ...         ...  \n",
       "1002             Business and Economy   10.22.221  \n",
       "1003                            Other  10.112.124  \n",
       "1004                        Not Rated    10.44.64  \n",
       "1005             Business and Economy     10.28.5  \n",
       "1006                        Not Rated    10.28.64  \n",
       "\n",
       "[1007 rows x 10 columns]"
      ]
     },
     "execution_count": 243,
     "metadata": {},
     "output_type": "execute_result"
    }
   ],
   "source": [
    "  sonic_paginas"
   ]
  },
  {
   "cell_type": "markdown",
   "metadata": {},
   "source": [
    "### Se lee semilla"
   ]
  },
  {
   "cell_type": "code",
   "execution_count": 244,
   "metadata": {},
   "outputs": [],
   "source": [
    "total_docs = 10000\n",
    "try:\n",
    "    response = es.search(\n",
    "        index= parametros.semilla_inventario_index,\n",
    "        body={\n",
    "               \"_source\": ['site_id','IP PROD_1','IP PROD_2']\n",
    "        },\n",
    "        size=total_docs\n",
    "    )\n",
    "    #print(es.info())\n",
    "    elastic_docs = response[\"hits\"][\"hits\"]\n",
    "#     fields = {}\n",
    "#     for num, doc in enumerate(elastic_docs):\n",
    "#         source_data = doc[\"_source\"]\n",
    "#         for key, val in source_data.items():\n",
    "#             try:\n",
    "#                 fields[key] = np.append(fields[key], val)\n",
    "#             except KeyError:\n",
    "#                 fields[key] = np.array([val])\n",
    "\n",
    "#     datos_semilla = pd.DataFrame(dict([ (k,pd.Series(v)) for k,v in fields.items() ])) #pd.DataFrame(fields)\n",
    "\n",
    "    datos_semilla = pd.DataFrame([x[\"_source\"] for x in elastic_docs])\n",
    "    \n",
    "except:\n",
    "    exit()"
   ]
  },
  {
   "cell_type": "markdown",
   "metadata": {},
   "source": [
    "Se extrae solo los 3 primeros octetos del IP OUTDOOR1 en semilla para cruzar con Sonic"
   ]
  },
  {
   "cell_type": "code",
   "execution_count": 245,
   "metadata": {},
   "outputs": [],
   "source": [
    "df1=datos_semilla\n",
    "df1['segmento'] = datos_semilla['IP PROD_1'].str.split(\".\", n = 1, expand = True)[0] +'.'+ datos_semilla['IP PROD_1'].str.split(\".\", n = 2, expand = True)[1] +'.'+ datos_semilla['IP PROD_1'].str.split(\".\", n = 3, expand = True)[2]\n",
    "#df1"
   ]
  },
  {
   "cell_type": "code",
   "execution_count": 246,
   "metadata": {},
   "outputs": [],
   "source": [
    "df2 = datos_semilla\n",
    "df2['segmento'] = datos_semilla['IP PROD_2'].str.split(\".\", n = 1, expand = True)[0] +'.'+ datos_semilla['IP PROD_2'].str.split(\".\", n = 2, expand = True)[1] +'.'+ datos_semilla['IP PROD_2'].str.split(\".\", n = 3, expand = True)[2]\n",
    "#df2"
   ]
  },
  {
   "cell_type": "code",
   "execution_count": 247,
   "metadata": {},
   "outputs": [],
   "source": [
    "# df2.index=df2.index+datos_semilla.shape[0]"
   ]
  },
  {
   "cell_type": "code",
   "execution_count": 248,
   "metadata": {},
   "outputs": [],
   "source": [
    "df3=pd.DataFrame(pd.concat([df1,df2]))"
   ]
  },
  {
   "cell_type": "code",
   "execution_count": 249,
   "metadata": {},
   "outputs": [],
   "source": [
    "if (len(sonic_paginas) > 0):\n",
    "    sonic_paginas = pd.merge(sonic_paginas, df3, on = 'segmento', how='inner')"
   ]
  },
  {
   "cell_type": "code",
   "execution_count": 250,
   "metadata": {},
   "outputs": [],
   "source": [
    "#sonic_paginas['site_id']"
   ]
  },
  {
   "cell_type": "code",
   "execution_count": 251,
   "metadata": {},
   "outputs": [],
   "source": [
    "# sonic_paginas = pd.merge(sonic_paginas, datos_semilla, on = 'segmento', how='inner')"
   ]
  },
  {
   "cell_type": "markdown",
   "metadata": {},
   "source": [
    "### Se totaliza para rango de fecha control"
   ]
  },
  {
   "cell_type": "markdown",
   "metadata": {},
   "source": [
    "* Se generan dos dataframe los cuales se insertan de forma independiente en el mismo indice\n",
    "* la agrupación de sitios mas visitados, se hacer por el dominio para dar mejor visualización al usuario"
   ]
  },
  {
   "cell_type": "code",
   "execution_count": 252,
   "metadata": {},
   "outputs": [],
   "source": [
    "#sonic_paginas['fecha_control'] = sonic_paginas['url-time'].str[0:15]+'0:00'\n",
    "if (len(sonic_paginas) > 0):\n",
    "    sonic_paginas['fecha_control'] = h_inicio"
   ]
  },
  {
   "cell_type": "code",
   "execution_count": 253,
   "metadata": {},
   "outputs": [],
   "source": [
    "total_categoria = pd.DataFrame()\n",
    "if (len(sonic_paginas) > 0):\n",
    "    total_categoria = sonic_paginas[['url-time','site_id','fecha_control','Categoria']].groupby(['site_id','fecha_control','Categoria']).agg(['count']).reset_index()\n",
    "    total_categoria.columns = total_categoria.columns.droplevel(1)\n",
    "    total_categoria.rename(columns={'url-time': 'total.categoria'}, inplace=True)"
   ]
  },
  {
   "cell_type": "code",
   "execution_count": 255,
   "metadata": {},
   "outputs": [],
   "source": [
    "total_dominio = pd.DataFrame()\n",
    "if (len(sonic_paginas) > 0):\n",
    "    total_dominio = sonic_paginas[['url-time','site_id','fecha_control','Categoria','url-dominio']].groupby(['site_id','fecha_control','Categoria','url-dominio']).agg(['count']).reset_index()\n",
    "    total_dominio.columns = total_dominio.columns.droplevel(1)\n",
    "    total_dominio.rename(columns={'url-time': 'total.dominio'}, inplace=True)"
   ]
  },
  {
   "cell_type": "markdown",
   "metadata": {},
   "source": [
    "### Se escribe la información al indice sonic curado"
   ]
  },
  {
   "cell_type": "code",
   "execution_count": 256,
   "metadata": {},
   "outputs": [
    {
     "name": "stdout",
     "output_type": "stream",
     "text": [
      "Fecha:  2021-11-10 11:00:22.737404 - Datos CATEGORIAS en sonic-curado: 495\n"
     ]
    }
   ],
   "source": [
    "use_these_keys = ['site_id', 'fecha_control', 'Categoria', 'total.categoria','@timestamp']\n",
    "\n",
    "total_categoria['@timestamp'] = now.isoformat()\n",
    "def doc_generator(df):\n",
    "    df_iter = df.iterrows()\n",
    "    for index, document in df_iter:\n",
    "        yield {\n",
    "                \"_index\": 'sonic_wall_ingtest', \n",
    "                \"_id\": f\"{str(document['site_id'])+'-'+ str(document['fecha_control'])+'-'+ str(document['Categoria'])}\",\n",
    "                \"_source\": filterKeys(document),\n",
    "            }\n",
    "salida = helpers.bulk(es, doc_generator(total_categoria))\n",
    "print(\"Fecha: \", now,\"- Datos CATEGORIAS en sonic-curado:\",salida[0])"
   ]
  },
  {
   "cell_type": "code",
   "execution_count": 257,
   "metadata": {},
   "outputs": [
    {
     "name": "stdout",
     "output_type": "stream",
     "text": [
      "Fecha:  2021-11-10 11:00:22.737404 - Datos DOMINIOS en sonic-curado: 552\n"
     ]
    }
   ],
   "source": [
    "use_these_keys = ['site_id', 'fecha_control', 'url-dominio','Categoria', 'total.dominio','@timestamp']\n",
    "\n",
    "total_dominio['@timestamp'] = now.isoformat()\n",
    "def doc_generator(df):\n",
    "    df_iter = df.iterrows()\n",
    "    for index, document in df_iter:\n",
    "        yield {\n",
    "                \"_index\": 'sonic_wall_ingtest', \n",
    "                \"_id\": f\"{str(document['site_id'])+'-'+ str(document['fecha_control'])+'-'+str(document['Categoria'])+'-'+ str(document['url-dominio'])}\",\n",
    "                \"_source\": filterKeys(document),\n",
    "            }\n",
    "salida = helpers.bulk(es, doc_generator(total_dominio))\n",
    "print(\"Fecha: \", now,\"- Datos DOMINIOS en sonic-curado:\",salida[0])"
   ]
  },
  {
   "cell_type": "markdown",
   "metadata": {},
   "source": [
    "### Se actualiza indice categorías"
   ]
  },
  {
   "cell_type": "code",
   "execution_count": 258,
   "metadata": {},
   "outputs": [],
   "source": [
    "categoria_update = categoria_update.rename(columns={'url-dominio' : 'Categoria'})"
   ]
  },
  {
   "cell_type": "code",
   "execution_count": 259,
   "metadata": {},
   "outputs": [
    {
     "name": "stdout",
     "output_type": "stream",
     "text": [
      "Fecha:  2021-11-10 11:00:22.737404 - Insertados en indice sonic-categorias: 0\n"
     ]
    }
   ],
   "source": [
    "use_these_keys = ['ID', 'Categoria','@timestamp']\n",
    "categoria_update['@timestamp'] = now.isoformat()\n",
    "def doc_generator(df):\n",
    "    df_iter = df.iterrows()\n",
    "    for index, document in df_iter:\n",
    "        yield {\n",
    "                \"_index\": 'sonic_wall_catingtest', \n",
    "                \"_id\": f\"{document['ID']}\",\n",
    "                \"_source\": filterKeys(document),\n",
    "            }\n",
    "salida = helpers.bulk(es, doc_generator(categoria_update))\n",
    "print(\"Fecha: \", now,\"- Insertados en indice sonic-categorias:\",salida[0])"
   ]
  },
  {
   "cell_type": "code",
   "execution_count": null,
   "metadata": {},
   "outputs": [],
   "source": []
  },
  {
   "cell_type": "code",
   "execution_count": null,
   "metadata": {},
   "outputs": [],
   "source": []
  },
  {
   "cell_type": "code",
   "execution_count": null,
   "metadata": {},
   "outputs": [],
   "source": []
  }
 ],
 "metadata": {
  "kernelspec": {
   "display_name": "Python 3",
   "language": "python",
   "name": "python3"
  },
  "language_info": {
   "codemirror_mode": {
    "name": "ipython",
    "version": 3
   },
   "file_extension": ".py",
   "mimetype": "text/x-python",
   "name": "python",
   "nbconvert_exporter": "python",
   "pygments_lexer": "ipython3",
   "version": "3.8.5"
  }
 },
 "nbformat": 4,
 "nbformat_minor": 4
}
