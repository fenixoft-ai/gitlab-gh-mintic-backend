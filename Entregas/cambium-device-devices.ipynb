{
 "cells": [
  {
   "cell_type": "code",
   "execution_count": 1,
   "metadata": {},
   "outputs": [],
   "source": [
    "from elasticsearch import Elasticsearch\n",
    "from elasticsearch import helpers\n",
    "import pandas as pd\n",
    "import numpy as np\n",
    "import json\n",
    "from ssl import create_default_context\n",
    "from datetime import datetime\n",
    "from datetime import timedelta\n",
    "import requests\n",
    "#from getpass import getpass\n",
    "import parametros\n",
    "import time"
   ]
  },
  {
   "cell_type": "markdown",
   "metadata": {},
   "source": [
    "## Conectando a ElasticSearch"
   ]
  },
  {
   "cell_type": "code",
   "execution_count": 2,
   "metadata": {},
   "outputs": [],
   "source": [
    "context = create_default_context(cafile=parametros.cafile)\n",
    "es = Elasticsearch(\n",
    "    parametros.servidor,\n",
    "    http_auth=(parametros.usuario_EC, parametros.password_EC),\n",
    "    scheme=\"https\",\n",
    "    port=parametros.puerto,\n",
    "    ssl_context=context,\n",
    ")"
   ]
  },
  {
   "cell_type": "markdown",
   "metadata": {},
   "source": [
    "### tomando fecha mas reciente del indice"
   ]
  },
  {
   "cell_type": "code",
   "execution_count": 3,
   "metadata": {},
   "outputs": [
    {
     "data": {
      "text/plain": [
       "'total_docs = 0\\ntry:\\n    response = es.search(\\n        index= parametros.cambium_d_d_index,\\n        body={\"aggs\" : {\\n                   \"max_date\": {\"max\": {\"field\": \"registration_date\", \"format\": \"yyyy-MM-dd HH:mm:ss\"}}\\n                }\\n             },\\n        size=total_docs\\n    )\\n    #print(es.info())\\n    elastic_docs = response[\"aggregations\"]\\n    fecha_max=response[\"aggregations\"][\"max_date\"][\\'value_as_string\\']\\nexcept:\\n    fecha_max = \\'2010-01-01 00:00:01\\'\\nprint(\"ultima fecha en indice: \",fecha_max)'"
      ]
     },
     "execution_count": 3,
     "metadata": {},
     "output_type": "execute_result"
    }
   ],
   "source": [
    "'''total_docs = 0\n",
    "try:\n",
    "    response = es.search(\n",
    "        index= parametros.cambium_d_d_index,\n",
    "        body={\"aggs\" : {\n",
    "                   \"max_date\": {\"max\": {\"field\": \"registration_date\", \"format\": \"yyyy-MM-dd HH:mm:ss\"}}\n",
    "                }\n",
    "             },\n",
    "        size=total_docs\n",
    "    )\n",
    "    #print(es.info())\n",
    "    elastic_docs = response[\"aggregations\"]\n",
    "    fecha_max=response[\"aggregations\"][\"max_date\"]['value_as_string']\n",
    "except:\n",
    "    fecha_max = '2010-01-01 00:00:01'\n",
    "print(\"ultima fecha en indice: \",fecha_max)'''"
   ]
  },
  {
   "cell_type": "code",
   "execution_count": 4,
   "metadata": {},
   "outputs": [],
   "source": [
    "now = datetime.now()\n",
    "new_date =\n",
    "now - timedelta(days=6)\n",
    "format = \"%Y%m%d\"\n",
    "format_ES = \"%Y.%m.%d\"\n",
    "fecha_url = str(new_date.strftime(format))\n",
    "fecha_hoy = str(now.strftime(format_ES))"
   ]
  },
  {
   "cell_type": "markdown",
   "metadata": {},
   "source": [
    "## Leyendo la APi cambium-devices"
   ]
  },
  {
   "cell_type": "code",
   "execution_count": 5,
   "metadata": {
    "scrolled": true
   },
   "outputs": [
    {
     "name": "stdout",
     "output_type": "stream",
     "text": [
      "servidor: 1\n"
     ]
    },
    {
     "name": "stderr",
     "output_type": "stream",
     "text": [
      "/opt/anaconda3/lib/python3.8/site-packages/urllib3/connectionpool.py:981: InsecureRequestWarning: Unverified HTTPS request is being made to host '100.123.26.252'. Adding certificate verification is strongly advised. See: https://urllib3.readthedocs.io/en/latest/advanced-usage.html#ssl-warnings\n",
      "  warnings.warn(\n",
      "/opt/anaconda3/lib/python3.8/site-packages/urllib3/connectionpool.py:981: InsecureRequestWarning: Unverified HTTPS request is being made to host '100.123.26.252'. Adding certificate verification is strongly advised. See: https://urllib3.readthedocs.io/en/latest/advanced-usage.html#ssl-warnings\n",
      "  warnings.warn(\n"
     ]
    },
    {
     "name": "stdout",
     "output_type": "stream",
     "text": [
      "bucle: 1\n"
     ]
    },
    {
     "name": "stderr",
     "output_type": "stream",
     "text": [
      "/opt/anaconda3/lib/python3.8/site-packages/urllib3/connectionpool.py:981: InsecureRequestWarning: Unverified HTTPS request is being made to host '100.123.26.252'. Adding certificate verification is strongly advised. See: https://urllib3.readthedocs.io/en/latest/advanced-usage.html#ssl-warnings\n",
      "  warnings.warn(\n"
     ]
    },
    {
     "name": "stdout",
     "output_type": "stream",
     "text": [
      "bucle: 2\n"
     ]
    },
    {
     "name": "stderr",
     "output_type": "stream",
     "text": [
      "/opt/anaconda3/lib/python3.8/site-packages/urllib3/connectionpool.py:981: InsecureRequestWarning: Unverified HTTPS request is being made to host '100.123.26.252'. Adding certificate verification is strongly advised. See: https://urllib3.readthedocs.io/en/latest/advanced-usage.html#ssl-warnings\n",
      "  warnings.warn(\n"
     ]
    },
    {
     "name": "stdout",
     "output_type": "stream",
     "text": [
      "bucle: 3\n"
     ]
    },
    {
     "name": "stderr",
     "output_type": "stream",
     "text": [
      "/opt/anaconda3/lib/python3.8/site-packages/urllib3/connectionpool.py:981: InsecureRequestWarning: Unverified HTTPS request is being made to host '100.123.26.252'. Adding certificate verification is strongly advised. See: https://urllib3.readthedocs.io/en/latest/advanced-usage.html#ssl-warnings\n",
      "  warnings.warn(\n"
     ]
    },
    {
     "name": "stdout",
     "output_type": "stream",
     "text": [
      "bucle: 4\n"
     ]
    },
    {
     "name": "stderr",
     "output_type": "stream",
     "text": [
      "/opt/anaconda3/lib/python3.8/site-packages/urllib3/connectionpool.py:981: InsecureRequestWarning: Unverified HTTPS request is being made to host '100.123.26.252'. Adding certificate verification is strongly advised. See: https://urllib3.readthedocs.io/en/latest/advanced-usage.html#ssl-warnings\n",
      "  warnings.warn(\n"
     ]
    },
    {
     "name": "stdout",
     "output_type": "stream",
     "text": [
      "bucle: 5\n"
     ]
    },
    {
     "name": "stderr",
     "output_type": "stream",
     "text": [
      "/opt/anaconda3/lib/python3.8/site-packages/urllib3/connectionpool.py:981: InsecureRequestWarning: Unverified HTTPS request is being made to host '100.123.26.252'. Adding certificate verification is strongly advised. See: https://urllib3.readthedocs.io/en/latest/advanced-usage.html#ssl-warnings\n",
      "  warnings.warn(\n"
     ]
    },
    {
     "name": "stdout",
     "output_type": "stream",
     "text": [
      "bucle: 6\n"
     ]
    },
    {
     "name": "stderr",
     "output_type": "stream",
     "text": [
      "/opt/anaconda3/lib/python3.8/site-packages/urllib3/connectionpool.py:981: InsecureRequestWarning: Unverified HTTPS request is being made to host '100.123.26.252'. Adding certificate verification is strongly advised. See: https://urllib3.readthedocs.io/en/latest/advanced-usage.html#ssl-warnings\n",
      "  warnings.warn(\n"
     ]
    },
    {
     "name": "stdout",
     "output_type": "stream",
     "text": [
      "bucle: 7\n"
     ]
    },
    {
     "name": "stderr",
     "output_type": "stream",
     "text": [
      "/opt/anaconda3/lib/python3.8/site-packages/urllib3/connectionpool.py:981: InsecureRequestWarning: Unverified HTTPS request is being made to host '100.123.26.252'. Adding certificate verification is strongly advised. See: https://urllib3.readthedocs.io/en/latest/advanced-usage.html#ssl-warnings\n",
      "  warnings.warn(\n"
     ]
    },
    {
     "name": "stdout",
     "output_type": "stream",
     "text": [
      "bucle: 8\n"
     ]
    },
    {
     "name": "stderr",
     "output_type": "stream",
     "text": [
      "/opt/anaconda3/lib/python3.8/site-packages/urllib3/connectionpool.py:981: InsecureRequestWarning: Unverified HTTPS request is being made to host '100.123.26.252'. Adding certificate verification is strongly advised. See: https://urllib3.readthedocs.io/en/latest/advanced-usage.html#ssl-warnings\n",
      "  warnings.warn(\n"
     ]
    },
    {
     "name": "stdout",
     "output_type": "stream",
     "text": [
      "bucle: 9\n"
     ]
    },
    {
     "name": "stderr",
     "output_type": "stream",
     "text": [
      "/opt/anaconda3/lib/python3.8/site-packages/urllib3/connectionpool.py:981: InsecureRequestWarning: Unverified HTTPS request is being made to host '100.123.26.252'. Adding certificate verification is strongly advised. See: https://urllib3.readthedocs.io/en/latest/advanced-usage.html#ssl-warnings\n",
      "  warnings.warn(\n",
      "/opt/anaconda3/lib/python3.8/site-packages/urllib3/connectionpool.py:981: InsecureRequestWarning: Unverified HTTPS request is being made to host '100.123.26.252'. Adding certificate verification is strongly advised. See: https://urllib3.readthedocs.io/en/latest/advanced-usage.html#ssl-warnings\n",
      "  warnings.warn(\n"
     ]
    },
    {
     "name": "stdout",
     "output_type": "stream",
     "text": [
      "bucle: 1\n"
     ]
    },
    {
     "name": "stderr",
     "output_type": "stream",
     "text": [
      "/opt/anaconda3/lib/python3.8/site-packages/urllib3/connectionpool.py:981: InsecureRequestWarning: Unverified HTTPS request is being made to host '100.123.26.252'. Adding certificate verification is strongly advised. See: https://urllib3.readthedocs.io/en/latest/advanced-usage.html#ssl-warnings\n",
      "  warnings.warn(\n"
     ]
    },
    {
     "name": "stdout",
     "output_type": "stream",
     "text": [
      "bucle: 2\n"
     ]
    },
    {
     "name": "stderr",
     "output_type": "stream",
     "text": [
      "/opt/anaconda3/lib/python3.8/site-packages/urllib3/connectionpool.py:981: InsecureRequestWarning: Unverified HTTPS request is being made to host '100.123.26.252'. Adding certificate verification is strongly advised. See: https://urllib3.readthedocs.io/en/latest/advanced-usage.html#ssl-warnings\n",
      "  warnings.warn(\n"
     ]
    },
    {
     "name": "stdout",
     "output_type": "stream",
     "text": [
      "bucle: 3\n"
     ]
    },
    {
     "name": "stderr",
     "output_type": "stream",
     "text": [
      "/opt/anaconda3/lib/python3.8/site-packages/urllib3/connectionpool.py:981: InsecureRequestWarning: Unverified HTTPS request is being made to host '100.123.26.252'. Adding certificate verification is strongly advised. See: https://urllib3.readthedocs.io/en/latest/advanced-usage.html#ssl-warnings\n",
      "  warnings.warn(\n"
     ]
    },
    {
     "name": "stdout",
     "output_type": "stream",
     "text": [
      "bucle: 4\n"
     ]
    },
    {
     "name": "stderr",
     "output_type": "stream",
     "text": [
      "/opt/anaconda3/lib/python3.8/site-packages/urllib3/connectionpool.py:981: InsecureRequestWarning: Unverified HTTPS request is being made to host '100.123.26.252'. Adding certificate verification is strongly advised. See: https://urllib3.readthedocs.io/en/latest/advanced-usage.html#ssl-warnings\n",
      "  warnings.warn(\n",
      "/opt/anaconda3/lib/python3.8/site-packages/urllib3/connectionpool.py:981: InsecureRequestWarning: Unverified HTTPS request is being made to host '100.123.26.252'. Adding certificate verification is strongly advised. See: https://urllib3.readthedocs.io/en/latest/advanced-usage.html#ssl-warnings\n",
      "  warnings.warn(\n"
     ]
    },
    {
     "name": "stdout",
     "output_type": "stream",
     "text": [
      "bucle: 1\n"
     ]
    },
    {
     "name": "stderr",
     "output_type": "stream",
     "text": [
      "/opt/anaconda3/lib/python3.8/site-packages/urllib3/connectionpool.py:981: InsecureRequestWarning: Unverified HTTPS request is being made to host '100.123.26.252'. Adding certificate verification is strongly advised. See: https://urllib3.readthedocs.io/en/latest/advanced-usage.html#ssl-warnings\n",
      "  warnings.warn(\n"
     ]
    },
    {
     "name": "stdout",
     "output_type": "stream",
     "text": [
      "bucle: 2\n",
      "servidor: 2\n"
     ]
    },
    {
     "name": "stderr",
     "output_type": "stream",
     "text": [
      "/opt/anaconda3/lib/python3.8/site-packages/urllib3/connectionpool.py:981: InsecureRequestWarning: Unverified HTTPS request is being made to host '100.123.26.224'. Adding certificate verification is strongly advised. See: https://urllib3.readthedocs.io/en/latest/advanced-usage.html#ssl-warnings\n",
      "  warnings.warn(\n",
      "/opt/anaconda3/lib/python3.8/site-packages/urllib3/connectionpool.py:981: InsecureRequestWarning: Unverified HTTPS request is being made to host '100.123.26.224'. Adding certificate verification is strongly advised. See: https://urllib3.readthedocs.io/en/latest/advanced-usage.html#ssl-warnings\n",
      "  warnings.warn(\n"
     ]
    },
    {
     "name": "stdout",
     "output_type": "stream",
     "text": [
      "bucle: 1\n"
     ]
    },
    {
     "name": "stderr",
     "output_type": "stream",
     "text": [
      "/opt/anaconda3/lib/python3.8/site-packages/urllib3/connectionpool.py:981: InsecureRequestWarning: Unverified HTTPS request is being made to host '100.123.26.224'. Adding certificate verification is strongly advised. See: https://urllib3.readthedocs.io/en/latest/advanced-usage.html#ssl-warnings\n",
      "  warnings.warn(\n"
     ]
    },
    {
     "name": "stdout",
     "output_type": "stream",
     "text": [
      "bucle: 2\n"
     ]
    },
    {
     "name": "stderr",
     "output_type": "stream",
     "text": [
      "/opt/anaconda3/lib/python3.8/site-packages/urllib3/connectionpool.py:981: InsecureRequestWarning: Unverified HTTPS request is being made to host '100.123.26.224'. Adding certificate verification is strongly advised. See: https://urllib3.readthedocs.io/en/latest/advanced-usage.html#ssl-warnings\n",
      "  warnings.warn(\n"
     ]
    },
    {
     "name": "stdout",
     "output_type": "stream",
     "text": [
      "bucle: 3\n"
     ]
    },
    {
     "name": "stderr",
     "output_type": "stream",
     "text": [
      "/opt/anaconda3/lib/python3.8/site-packages/urllib3/connectionpool.py:981: InsecureRequestWarning: Unverified HTTPS request is being made to host '100.123.26.224'. Adding certificate verification is strongly advised. See: https://urllib3.readthedocs.io/en/latest/advanced-usage.html#ssl-warnings\n",
      "  warnings.warn(\n"
     ]
    },
    {
     "name": "stdout",
     "output_type": "stream",
     "text": [
      "bucle: 4\n"
     ]
    },
    {
     "name": "stderr",
     "output_type": "stream",
     "text": [
      "/opt/anaconda3/lib/python3.8/site-packages/urllib3/connectionpool.py:981: InsecureRequestWarning: Unverified HTTPS request is being made to host '100.123.26.224'. Adding certificate verification is strongly advised. See: https://urllib3.readthedocs.io/en/latest/advanced-usage.html#ssl-warnings\n",
      "  warnings.warn(\n"
     ]
    },
    {
     "name": "stdout",
     "output_type": "stream",
     "text": [
      "bucle: 5\n"
     ]
    },
    {
     "name": "stderr",
     "output_type": "stream",
     "text": [
      "/opt/anaconda3/lib/python3.8/site-packages/urllib3/connectionpool.py:981: InsecureRequestWarning: Unverified HTTPS request is being made to host '100.123.26.224'. Adding certificate verification is strongly advised. See: https://urllib3.readthedocs.io/en/latest/advanced-usage.html#ssl-warnings\n",
      "  warnings.warn(\n"
     ]
    },
    {
     "name": "stdout",
     "output_type": "stream",
     "text": [
      "bucle: 6\n"
     ]
    },
    {
     "name": "stderr",
     "output_type": "stream",
     "text": [
      "/opt/anaconda3/lib/python3.8/site-packages/urllib3/connectionpool.py:981: InsecureRequestWarning: Unverified HTTPS request is being made to host '100.123.26.224'. Adding certificate verification is strongly advised. See: https://urllib3.readthedocs.io/en/latest/advanced-usage.html#ssl-warnings\n",
      "  warnings.warn(\n"
     ]
    },
    {
     "name": "stdout",
     "output_type": "stream",
     "text": [
      "bucle: 7\n"
     ]
    },
    {
     "name": "stderr",
     "output_type": "stream",
     "text": [
      "/opt/anaconda3/lib/python3.8/site-packages/urllib3/connectionpool.py:981: InsecureRequestWarning: Unverified HTTPS request is being made to host '100.123.26.224'. Adding certificate verification is strongly advised. See: https://urllib3.readthedocs.io/en/latest/advanced-usage.html#ssl-warnings\n",
      "  warnings.warn(\n"
     ]
    },
    {
     "name": "stdout",
     "output_type": "stream",
     "text": [
      "bucle: 8\n"
     ]
    },
    {
     "name": "stderr",
     "output_type": "stream",
     "text": [
      "/opt/anaconda3/lib/python3.8/site-packages/urllib3/connectionpool.py:981: InsecureRequestWarning: Unverified HTTPS request is being made to host '100.123.26.224'. Adding certificate verification is strongly advised. See: https://urllib3.readthedocs.io/en/latest/advanced-usage.html#ssl-warnings\n",
      "  warnings.warn(\n"
     ]
    },
    {
     "name": "stdout",
     "output_type": "stream",
     "text": [
      "bucle: 9\n"
     ]
    },
    {
     "name": "stderr",
     "output_type": "stream",
     "text": [
      "/opt/anaconda3/lib/python3.8/site-packages/urllib3/connectionpool.py:981: InsecureRequestWarning: Unverified HTTPS request is being made to host '100.123.26.224'. Adding certificate verification is strongly advised. See: https://urllib3.readthedocs.io/en/latest/advanced-usage.html#ssl-warnings\n",
      "  warnings.warn(\n",
      "/opt/anaconda3/lib/python3.8/site-packages/urllib3/connectionpool.py:981: InsecureRequestWarning: Unverified HTTPS request is being made to host '100.123.26.224'. Adding certificate verification is strongly advised. See: https://urllib3.readthedocs.io/en/latest/advanced-usage.html#ssl-warnings\n",
      "  warnings.warn(\n"
     ]
    },
    {
     "name": "stdout",
     "output_type": "stream",
     "text": [
      "bucle: 1\n"
     ]
    },
    {
     "name": "stderr",
     "output_type": "stream",
     "text": [
      "/opt/anaconda3/lib/python3.8/site-packages/urllib3/connectionpool.py:981: InsecureRequestWarning: Unverified HTTPS request is being made to host '100.123.26.224'. Adding certificate verification is strongly advised. See: https://urllib3.readthedocs.io/en/latest/advanced-usage.html#ssl-warnings\n",
      "  warnings.warn(\n"
     ]
    },
    {
     "name": "stdout",
     "output_type": "stream",
     "text": [
      "bucle: 2\n"
     ]
    },
    {
     "name": "stderr",
     "output_type": "stream",
     "text": [
      "/opt/anaconda3/lib/python3.8/site-packages/urllib3/connectionpool.py:981: InsecureRequestWarning: Unverified HTTPS request is being made to host '100.123.26.224'. Adding certificate verification is strongly advised. See: https://urllib3.readthedocs.io/en/latest/advanced-usage.html#ssl-warnings\n",
      "  warnings.warn(\n"
     ]
    },
    {
     "name": "stdout",
     "output_type": "stream",
     "text": [
      "bucle: 3\n"
     ]
    },
    {
     "name": "stderr",
     "output_type": "stream",
     "text": [
      "/opt/anaconda3/lib/python3.8/site-packages/urllib3/connectionpool.py:981: InsecureRequestWarning: Unverified HTTPS request is being made to host '100.123.26.224'. Adding certificate verification is strongly advised. See: https://urllib3.readthedocs.io/en/latest/advanced-usage.html#ssl-warnings\n",
      "  warnings.warn(\n"
     ]
    },
    {
     "name": "stdout",
     "output_type": "stream",
     "text": [
      "bucle: 4\n"
     ]
    },
    {
     "name": "stderr",
     "output_type": "stream",
     "text": [
      "/opt/anaconda3/lib/python3.8/site-packages/urllib3/connectionpool.py:981: InsecureRequestWarning: Unverified HTTPS request is being made to host '100.123.26.224'. Adding certificate verification is strongly advised. See: https://urllib3.readthedocs.io/en/latest/advanced-usage.html#ssl-warnings\n",
      "  warnings.warn(\n"
     ]
    },
    {
     "name": "stdout",
     "output_type": "stream",
     "text": [
      "bucle: 5\n"
     ]
    },
    {
     "name": "stderr",
     "output_type": "stream",
     "text": [
      "/opt/anaconda3/lib/python3.8/site-packages/urllib3/connectionpool.py:981: InsecureRequestWarning: Unverified HTTPS request is being made to host '100.123.26.224'. Adding certificate verification is strongly advised. See: https://urllib3.readthedocs.io/en/latest/advanced-usage.html#ssl-warnings\n",
      "  warnings.warn(\n"
     ]
    },
    {
     "name": "stdout",
     "output_type": "stream",
     "text": [
      "bucle: 6\n"
     ]
    },
    {
     "name": "stderr",
     "output_type": "stream",
     "text": [
      "/opt/anaconda3/lib/python3.8/site-packages/urllib3/connectionpool.py:981: InsecureRequestWarning: Unverified HTTPS request is being made to host '100.123.26.224'. Adding certificate verification is strongly advised. See: https://urllib3.readthedocs.io/en/latest/advanced-usage.html#ssl-warnings\n",
      "  warnings.warn(\n",
      "/opt/anaconda3/lib/python3.8/site-packages/urllib3/connectionpool.py:981: InsecureRequestWarning: Unverified HTTPS request is being made to host '100.123.26.224'. Adding certificate verification is strongly advised. See: https://urllib3.readthedocs.io/en/latest/advanced-usage.html#ssl-warnings\n",
      "  warnings.warn(\n"
     ]
    },
    {
     "name": "stdout",
     "output_type": "stream",
     "text": [
      "bucle: 1\n"
     ]
    },
    {
     "name": "stderr",
     "output_type": "stream",
     "text": [
      "/opt/anaconda3/lib/python3.8/site-packages/urllib3/connectionpool.py:981: InsecureRequestWarning: Unverified HTTPS request is being made to host '100.123.26.224'. Adding certificate verification is strongly advised. See: https://urllib3.readthedocs.io/en/latest/advanced-usage.html#ssl-warnings\n",
      "  warnings.warn(\n"
     ]
    },
    {
     "name": "stdout",
     "output_type": "stream",
     "text": [
      "bucle: 2\n"
     ]
    }
   ],
   "source": [
    "# Definimos la cabecera y el diccionario con los datos\n",
    "datos_api = pd.DataFrame(columns=[\"country\",\"description\",\"name\",\"ip\",\"network\",\"product\",\"msn\"\n",
    "                                  #,\"software_version\"\n",
    "                                  #,\"inactive_software_version\",\"last_reboot_reason\",\"hardware_version\"\n",
    "                                  ,\"registration_date\",\"status\",\"type\",\"tower\",\"site\",\"site_id\"\n",
    "                                          ,\"location.type\",\"location.coordinates\",\"mac\",\"managed_account\",\"status_time\"\n",
    "                                          ,\"config.version\",\"config.variables.DEFAULT_GW\",\"config.variables.DEFAULT_GW6\"\n",
    "                                          ,\"config.variables.DNS_SERVER6_1\",\"config.variables.DNS_SERVER6_2\"\n",
    "                                          ,\"config.variables.DNS_SERVER_1\",\"config.variables.DNS_SERVER_2\"\n",
    "                                          ,\"config.variables.VLAN_1_IP\",\"config.variables.VLAN_1_IP6\"\n",
    "                                          ,\"config.variables.VLAN_1_MASK\",\"config.variables.VLAN_1_MODE\"\n",
    "                                          ,\"config.variables.VLAN_1_MODE6\",\"config.variables.VLAN_1_PREFIX6\"\n",
    "                                          ,\"config.variables.LOCATION\",\"config.variables.SHUTDOWN_24\"\n",
    "                                          ,\"config.variables.CHANNEL_24\",\"config.variables.SHUTDOWN_5\"\n",
    "                                          ,\"config.variables.CHANNEL_5\",\"config.variables.POWER_24\"\n",
    "                                          ,\"config.variables.POWER_5\",\"config.variables.DISPLAY_NAME\",\"ap_group\"]\n",
    "                                 )\n",
    "j=0\n",
    "estados = ['online','offline','onboarding']\n",
    "for k in range(0,len(parametros.url_cambium)):\n",
    "    print(\"servidor:\",k+1)\n",
    "    token_aux = 'Bearer ' + parametros.cambium_token_aux[k]\n",
    "    cabecera1 = { 'Content-Type': 'application/json', 'Authorization' : token_aux, 'accept' : '*/*' } \n",
    "    for m in range(0,len(estados)):\n",
    "        url = parametros.url_cambium[k] + \"devices\" + \"?status=\" + estados[m] #'?status=online'\n",
    "        #print(url)\n",
    "        r = requests.get(url, headers = cabecera1, verify=False)\n",
    "        if r.status_code == 200:\n",
    "            res = json.loads(r.text)\n",
    "            time.sleep(4)\n",
    "            dato_param = res['paging']\n",
    "            #se calcula los ciclos de la consulta paginada\n",
    "            ciclos = int(round(dato_param['total']/100,0))\n",
    "            #print(dato_param['total'])\n",
    "            i = 0\n",
    "            while i <= ciclos:\n",
    "                offset = str(i*100)\n",
    "                #url2 = parametros.cambium_devices_url + '?offset=' + offset\n",
    "                url2 = url + '&offset=' + offset \n",
    "                i+=1\n",
    "                #print(url2)\n",
    "                r = requests.get(url2, headers = cabecera1, verify=False)\n",
    "                if r.status_code == 200:\n",
    "                    #print(\"respuesta 200: \",r.text)\n",
    "                    res = json.loads(r.text)\n",
    "                    for x in range(0,len(res['data'])):\n",
    "                        #print(res['data'][x]['names'])\n",
    "                        try:\n",
    "                            country = res['data'][x]['country']\n",
    "                        except:\n",
    "                            country = ''\n",
    "                        try:\n",
    "                            description = res['data'][x]['description']\n",
    "                        except:\n",
    "                            description = ''\n",
    "                        try:\n",
    "                            tower = res['data'][x]['tower']\n",
    "                        except:\n",
    "                            tower = ''\n",
    "                        try:\n",
    "                            site = res['data'][x]['site']\n",
    "                        except:\n",
    "                            site = ''\n",
    "                        try:\n",
    "                            site_id = res['data'][x]['site_id']\n",
    "                        except:\n",
    "                            site_id = ''\n",
    "                        try:\n",
    "                            status_time = res['data'][x]['status_time']\n",
    "                        except:\n",
    "                            status_time = ''\n",
    "                        try:\n",
    "                            ap_group = res['data'][x]['ap_group']\n",
    "                        except:\n",
    "                            ap_group = ''\n",
    "                        try:\n",
    "                            config = res['data'][x]['config']\n",
    "                        #try:\n",
    "                        #    software_version = res['data'][x]['software_version']\n",
    "                        #except:\n",
    "                             #software_version = ''\n",
    "                            if config['version']== '1':\n",
    "                                version = '1'\n",
    "                                DEFAULT_GW=''\n",
    "                                DEFAULT_GW6=''\n",
    "                                DNS_SERVER6_1=''\n",
    "                                DNS_SERVER6_2=''\n",
    "                                DNS_SERVER_1=''\n",
    "                                DNS_SERVER_2=''\n",
    "                                VLAN_1_IP=''\n",
    "                                VLAN_1_IP6=''\n",
    "                                VLAN_1_MASK=''\n",
    "                                VLAN_1_MODE=''\n",
    "                                VLAN_1_MODE6=''\n",
    "                                VLAN_1_PREFIX6=''\n",
    "                                LOCATION=''\n",
    "                                SHUTDOWN_24=''\n",
    "                                CHANNEL_24=''\n",
    "                                SHUTDOWN_5=''\n",
    "                                CHANNEL_5=''\n",
    "                                POWER_24=''\n",
    "                                POWER_5=''\n",
    "                                DISPLAY_NAME=''\n",
    "                            else:\n",
    "                                version = config['variables']\n",
    "                                DEFAULT_GW= config['variables']['DEFAULT_GW']\n",
    "                                DEFAULT_GW6= config['variables']['DEFAULT_GW6']\n",
    "                                DNS_SERVER6_1= config['variables']['DNS_SERVER6_1']\n",
    "                                DNS_SERVER6_2= config['variables']['DNS_SERVER6_2']\n",
    "                                DNS_SERVER_1= config['variables']['DNS_SERVER_1']\n",
    "                                DNS_SERVER_2= config['variables']['DNS_SERVER_2']\n",
    "                                VLAN_1_IP= config['variables']['VLAN_1_IP']\n",
    "                                VLAN_1_IP6= config['variables']['VLAN_1_IP6']\n",
    "                                VLAN_1_MASK= config['variables']['VLAN_1_MASK']\n",
    "                                VLAN_1_MODE= config['variables']['VLAN_1_MODE']\n",
    "                                VLAN_1_MODE6= config['variables']['VLAN_1_MODE6']\n",
    "                                VLAN_1_PREFIX6= config['variables']['VLAN_1_PREFIX6']\n",
    "                                LOCATION= config['variables']['LOCATION']\n",
    "                                SHUTDOWN_24= config['variables']['SHUTDOWN_24']\n",
    "                                CHANNEL_24= config['variables']['CHANNEL_24']\n",
    "                                SHUTDOWN_5= config['variables']['SHUTDOWN_5']\n",
    "                                CHANNEL_5= config['variables']['CHANNEL_5']\n",
    "                                POWER_24= config['variables']['POWER_24']\n",
    "                                POWER_5= config['variables']['POWER_5']\n",
    "                                DISPLAY_NAME= config['variables']['DISPLAY_NAME']\n",
    "                        except:\n",
    "                            version = ''\n",
    "                            DEFAULT_GW=''\n",
    "                            DEFAULT_GW6=''\n",
    "                            DNS_SERVER6_1=''\n",
    "                            DNS_SERVER6_2=''\n",
    "                            DNS_SERVER_1=''\n",
    "                            DNS_SERVER_2=''\n",
    "                            VLAN_1_IP=''\n",
    "                            VLAN_1_IP6=''\n",
    "                            VLAN_1_MASK=''\n",
    "                            VLAN_1_MODE=''\n",
    "                            VLAN_1_MODE6=''\n",
    "                            VLAN_1_PREFIX6=''\n",
    "                            LOCATION=''\n",
    "                            SHUTDOWN_24=''\n",
    "                            CHANNEL_24=''\n",
    "                            SHUTDOWN_5=''\n",
    "                            CHANNEL_5=''\n",
    "                            POWER_24=''\n",
    "                            POWER_5=''\n",
    "                            DISPLAY_NAME=''\n",
    "                        datos_api.loc[j] = [country\n",
    "                                            ,description\n",
    "                                            ,res['data'][x]['name']\n",
    "                                            ,res['data'][x]['ip']\n",
    "                                            ,res['data'][x]['network']\n",
    "                                            ,res['data'][x]['product']\n",
    "                                            ,res['data'][x]['msn']\n",
    "                                            #, software_version #,res['data'][x]['software_version']\n",
    "                                            #,res['data'][x]['inactive_software_version']\n",
    "                                            #,res['data'][x]['last_reboot_reason']\n",
    "                                            #,res['data'][x]['hardware_version']\n",
    "                                            ,res['data'][x]['registration_date']\n",
    "                                            ,res['data'][x]['status']\n",
    "                                            ,res['data'][x]['type']\n",
    "                                            ,tower\n",
    "                                            ,site\n",
    "                                            ,site_id\n",
    "                                            ,res['data'][x]['location']['type']\n",
    "                                            ,res['data'][x]['location']['coordinates']\n",
    "                                            ,res['data'][x]['mac']\n",
    "                                            ,res['data'][x]['managed_account']\n",
    "                                            ,status_time\n",
    "                                            ,version\n",
    "                                            ,DEFAULT_GW\n",
    "                                            ,DEFAULT_GW6\n",
    "                                            ,DNS_SERVER6_1\n",
    "                                            ,DNS_SERVER6_2\n",
    "                                            ,DNS_SERVER_1\n",
    "                                            ,DNS_SERVER_2\n",
    "                                            ,VLAN_1_IP\n",
    "                                            ,VLAN_1_IP6\n",
    "                                            ,VLAN_1_MASK\n",
    "                                            ,VLAN_1_MODE\n",
    "                                            ,VLAN_1_MODE6\n",
    "                                            ,VLAN_1_PREFIX6\n",
    "                                            ,LOCATION\n",
    "                                            ,SHUTDOWN_24\n",
    "                                            ,CHANNEL_24\n",
    "                                            ,SHUTDOWN_5\n",
    "                                            ,CHANNEL_5\n",
    "                                            ,POWER_24\n",
    "                                            ,POWER_5\n",
    "                                            ,DISPLAY_NAME\n",
    "                                            ,ap_group]\n",
    "                        j+=1 # es el indice       \n",
    "                else:\n",
    "                    print(\"error bucle interno:\",r.status_code)\n",
    "                    #break\n",
    "                print(\"bucle:\",i)    \n",
    "                time.sleep(5)    \n",
    "        else:\n",
    "            print(\"error bucle externo:\",r.status_code)\n",
    "            #break"
   ]
  },
  {
   "cell_type": "markdown",
   "metadata": {},
   "source": [
    "### Borrado de filas con todos los valorar NaN"
   ]
  },
  {
   "cell_type": "code",
   "execution_count": 7,
   "metadata": {},
   "outputs": [],
   "source": [
    "#datos_api.dropna(axis=0, how='all', inplace=True)\n",
    "datos_api.dropna(subset=['site_id'], inplace=True)\n",
    "datos_api.fillna('', inplace=True)"
   ]
  },
  {
   "cell_type": "code",
   "execution_count": 8,
   "metadata": {},
   "outputs": [],
   "source": [
    "datos_api.drop_duplicates(subset=['site_id','mac'],inplace=True)"
   ]
  },
  {
   "cell_type": "markdown",
   "metadata": {},
   "source": [
    "### Formateando registration_date_new"
   ]
  },
  {
   "cell_type": "code",
   "execution_count": 10,
   "metadata": {},
   "outputs": [],
   "source": [
    "try:\n",
    "    datos_api['registration_date_new'] = (datos_api[\"registration_date\"].str.split(\"T\", n = 2, expand = True)[0])+' '+(datos_api[\"registration_date\"].str.split(\"T\", n = 2, expand = True)[1]).str.split(\"-\", n = 1, expand = True)[0]\n",
    "    datos_api.drop(columns=['registration_date'], inplace=True)\n",
    "    datos_api.rename(columns={'registration_date_new': 'registration_date'}, inplace=True)\n",
    "except:\n",
    "    pass"
   ]
  },
  {
   "cell_type": "code",
   "execution_count": 11,
   "metadata": {},
   "outputs": [],
   "source": [
    "#datos_api = datos_api.drop(datos_api[(datos_api['registration_date']<= fecha_max)].index)\n",
    "datos_api.dropna(subset=['site_id'], inplace=True)\n",
    "datos_api = datos_api.drop(datos_api[(datos_api['site_id']=='')].index)\n",
    "datos_api = datos_api.drop(datos_api[(datos_api['network'].isin(['default','']))].index)"
   ]
  },
  {
   "cell_type": "markdown",
   "metadata": {},
   "source": [
    "### Definiendo indice cambium-device-devices con fecha e insertando en ES\n",
    "* se le quito la fecha_hoy (Solicitado por Napoleon 15/6/21 [GM] )\n"
   ]
  },
  {
   "cell_type": "code",
   "execution_count": 19,
   "metadata": {},
   "outputs": [],
   "source": [
    "indice = parametros.cambium_d_d_index #+ '-' + fecha_hoy"
   ]
  },
  {
   "cell_type": "code",
   "execution_count": 20,
   "metadata": {},
   "outputs": [
    {
     "name": "stdout",
     "output_type": "stream",
     "text": [
      "Fecha: 2021-06-22 17:10:20.479407 - * Total Devices insertados/actualizados:  2261\n"
     ]
    }
   ],
   "source": [
    "use_these_keys = ['country', 'description', 'name', 'ip', 'network', 'product', 'msn',\n",
    "                   #'software_version', 'inactive_software_version', 'last_reboot_reason','hardware_version',\n",
    "                   'registration_date', 'status', 'type', 'tower',\n",
    "                   'site', 'site_id', 'location.type','location.coordinates', 'mac', 'managed_account',\n",
    "                   'status_time','config.version', 'config.variables.DEFAULT_GW',\n",
    "                   'config.variables.DEFAULT_GW6', 'config.variables.DNS_SERVER6_1',\n",
    "                   'config.variables.DNS_SERVER6_2', 'config.variables.DNS_SERVER_1',\n",
    "                   'config.variables.DNS_SERVER_2', 'config.variables.VLAN_1_IP',\n",
    "                   'config.variables.VLAN_1_IP6', 'config.variables.VLAN_1_MASK',\n",
    "                   'config.variables.VLAN_1_MODE', 'config.variables.VLAN_1_MODE6',\n",
    "                   'config.variables.VLAN_1_PREFIX6', 'config.variables.LOCATION',\n",
    "                   'config.variables.SHUTDOWN_24', 'config.variables.CHANNEL_24',\n",
    "                   'config.variables.SHUTDOWN_5', 'config.variables.CHANNEL_5',\n",
    "                   'config.variables.POWER_24', 'config.variables.POWER_5',\n",
    "                   'config.variables.DISPLAY_NAME', 'ap_group','@timestamp']\n",
    "def filterKeys(document):\n",
    "    return {key: document[key] for key in use_these_keys }\n",
    "\n",
    "timestamp = datetime.now()\n",
    "datos_api['@timestamp'] = timestamp.isoformat()\n",
    "def doc_generator(df):\n",
    "    df_iter = df.iterrows()\n",
    "    for index, document in df_iter:\n",
    "        yield {\n",
    "                \"_index\": indice, \n",
    "                \"_id\": f\"{document['mac']}\",\n",
    "                \"_source\": filterKeys(document),\n",
    "            }\n",
    "salida = helpers.bulk(es, doc_generator(datos_api))\n",
    "print(\"Fecha:\",now,\"- * Total Devices insertados/actualizados: \",salida[0])"
   ]
  },
  {
   "cell_type": "markdown",
   "metadata": {},
   "source": [
    "## De los mismos datos se alimenta el indice cambium_d_mac_index"
   ]
  },
  {
   "cell_type": "code",
   "execution_count": 23,
   "metadata": {},
   "outputs": [],
   "source": [
    "indice_mac = parametros.cambium_d_mac_index + '-' + fecha_hoy"
   ]
  },
  {
   "cell_type": "markdown",
   "metadata": {},
   "source": [
    "### se toman de datos_api solo aquellos con site_id diferente a vacio"
   ]
  },
  {
   "cell_type": "code",
   "execution_count": 21,
   "metadata": {},
   "outputs": [],
   "source": [
    "datos_mac = datos_api[(datos_api['site_id']!='')][[\"country\",\"description\",\"name\",\"ip\",\"network\",\"product\",\"msn\"\n",
    "                          #,\"software_version\",\"inactive_software_version\",\"last_reboot_reason\",\"hardware_version\"\n",
    "                          ,\"registration_date\",\"status\",\"type\",\"site\"\n",
    "                          ,\"location.type\",\"location.coordinates\",\"mac\",\"site_id\",\"managed_account\"\n",
    "                          ,\"status_time\"]]"
   ]
  },
  {
   "cell_type": "code",
   "execution_count": 25,
   "metadata": {},
   "outputs": [
    {
     "name": "stdout",
     "output_type": "stream",
     "text": [
      "Fecha: 2021-06-22 17:10:20.479407 - Total documentos insertados en indice_MAC:  2261\n"
     ]
    }
   ],
   "source": [
    "use_these_keys = ['country','description','name','ip','network','product','msn'\n",
    "                  #,'software_version','inactive_software_version','last_reboot_reason','hardware_version'\n",
    "                  ,'registration_date','status','type','site'\n",
    "                  ,'location.type','location.coordinates','mac','site_id','managed_account'\n",
    "                  ,'status_time','@timestamp']\n",
    "def filterKeys(document):\n",
    "    return {key: document[key] for key in use_these_keys }\n",
    "\n",
    "timestamp = datetime.now()\n",
    "datos_mac['@timestamp'] = timestamp.isoformat()\n",
    "def doc_generator(df):\n",
    "    df_iter = df.iterrows()\n",
    "    for index, document in df_iter:\n",
    "        yield {\n",
    "                \"_index\": indice_mac, \n",
    "                \"_id\": f\"{document['mac']}\",\n",
    "                \"_source\": filterKeys(document),\n",
    "            }\n",
    "salida = helpers.bulk(es, doc_generator(datos_mac))\n",
    "print(\"Fecha:\",now,\"- Total documentos insertados en indice_MAC: \",salida[0])"
   ]
  }
 ],
 "metadata": {
  "kernelspec": {
   "display_name": "Python 3",
   "language": "python",
   "name": "python3"
  },
  "language_info": {
   "codemirror_mode": {
    "name": "ipython",
    "version": 3
   },
   "file_extension": ".py",
   "mimetype": "text/x-python",
   "name": "python",
   "nbconvert_exporter": "python",
   "pygments_lexer": "ipython3",
   "version": "3.8.5"
  }
 },
 "nbformat": 4,
 "nbformat_minor": 4
}
