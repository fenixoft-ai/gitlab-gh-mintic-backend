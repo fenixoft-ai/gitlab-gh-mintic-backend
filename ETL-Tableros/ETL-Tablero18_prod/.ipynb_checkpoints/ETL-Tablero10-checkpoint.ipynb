{
 "cells": [
  {
   "cell_type": "markdown",
   "metadata": {},
   "source": [
    "¿Que hace este script?\n",
    "\n",
    "Para cada sitio se calcula los totales de visitas web y la categoría asociada: \n",
    "* usuarios.categoriaPagina\n",
    "* usuarios.sitioWeb (Dominio)\n",
    "* usuarios.visitas.sitioWeb (Este tiene los conteos)"
   ]
  },
  {
   "cell_type": "code",
   "execution_count": 18,
   "metadata": {},
   "outputs": [],
   "source": [
    "from elasticsearch import Elasticsearch, helpers\n",
    "from ssl import create_default_context\n",
    "import pandas as pd\n",
    "import numpy as np\n",
    "from datetime import datetime, timedelta\n",
    "import parametros\n",
    "import re"
   ]
  },
  {
   "cell_type": "markdown",
   "metadata": {},
   "source": [
    "## Conectando a ElasticSearch"
   ]
  },
  {
   "cell_type": "markdown",
   "metadata": {},
   "source": [
    "La ultima línea se utiliza para garantizar la ejecución de la consulta\n",
    "* timeout es el tiempo para cada ejecución\n",
    "* max_retries el número de intentos si la conexión falla\n",
    "* retry_on_timeout para activar los reitentos"
   ]
  },
  {
   "cell_type": "code",
   "execution_count": 19,
   "metadata": {},
   "outputs": [],
   "source": [
    "context = create_default_context(cafile=parametros.cafile)\n",
    "es = Elasticsearch(\n",
    "    parametros.servidor,\n",
    "    http_auth=(parametros.usuario_EC, parametros.password_EC),\n",
    "    scheme=\"https\",\n",
    "    port=parametros.puerto,\n",
    "    ssl_context=context,\n",
    "    timeout=60, max_retries=3, retry_on_timeout=True\n",
    ")"
   ]
  },
  {
   "cell_type": "markdown",
   "metadata": {},
   "source": [
    "### Calculando fechas para la ejecución"
   ]
  },
  {
   "cell_type": "markdown",
   "metadata": {},
   "source": [
    "* Se calculan las fechas para asociar al nombre del indice\n",
    "* fecha_hoy es usada para concatenar al nombre del indice principal previa inserción"
   ]
  },
  {
   "cell_type": "code",
   "execution_count": 20,
   "metadata": {},
   "outputs": [],
   "source": [
    "now = datetime.now()\n",
    "fecha_hoy = str(now.strftime(\"%Y.%m.%d\"))"
   ]
  },
  {
   "cell_type": "markdown",
   "metadata": {},
   "source": [
    "### nombre de indice donde se insertará"
   ]
  },
  {
   "cell_type": "code",
   "execution_count": 21,
   "metadata": {},
   "outputs": [],
   "source": [
    "indice = parametros.mintic_consolidado18_index\n",
    "indice_control = parametros.tableros_mintic_control"
   ]
  },
  {
   "cell_type": "markdown",
   "metadata": {},
   "source": [
    "### Funcion para JSON ES"
   ]
  },
  {
   "cell_type": "code",
   "execution_count": 22,
   "metadata": {},
   "outputs": [],
   "source": [
    "def filterKeys(document):\n",
    "    return {key: document[key] for key in use_these_keys }"
   ]
  },
  {
   "cell_type": "markdown",
   "metadata": {},
   "source": [
    "### Trae la ultima fecha para control de ejecución"
   ]
  },
  {
   "cell_type": "markdown",
   "metadata": {},
   "source": [
    "Cuando en el rango de tiempo de la ejecución, no se insertan nuevos valores, las fecha maxima en indice mintic no aumenta, por tanto se usa esta fecha de control para garantizar que incremente el bucle de ejecución"
   ]
  },
  {
   "cell_type": "code",
   "execution_count": 23,
   "metadata": {},
   "outputs": [
    {
     "name": "stdout",
     "output_type": "stream",
     "text": [
      "ultima fecha para control de ejecucion: 2021-06-01 17:00:00\n"
     ]
    }
   ],
   "source": [
    "total_docs = 1\n",
    "try:\n",
    "    response = es.search(\n",
    "        index= indice_control,\n",
    "        body={\n",
    "               \"_source\": [\"usuarios.fechaControl\"],\n",
    "              \"query\": {\n",
    "                \"bool\": {\n",
    "                  \"filter\": [\n",
    "                  {\n",
    "                    \"exists\": {\n",
    "                      \"field\":\"jerarquia_usuarios_web\"\n",
    "                    }\n",
    "                  }\n",
    "                  ]\n",
    "                }\n",
    "              }\n",
    "        },\n",
    "        size=total_docs\n",
    "    )\n",
    "    #print(es.info())\n",
    "    elastic_docs = response[\"hits\"][\"hits\"]\n",
    "    fields = {}\n",
    "    for num, doc in enumerate(elastic_docs):\n",
    "        fecha_ejecucion = doc[\"_source\"]['usuarios.fechaControl']\n",
    "except:\n",
    "    fecha_ejecucion = '2021-05-28 17:10:00'\n",
    "if response[\"hits\"][\"hits\"] == []:\n",
    "    fecha_ejecucion = '2021-05-28 17:10:00'\n",
    "print(\"ultima fecha para control de ejecucion:\",fecha_ejecucion)"
   ]
  },
  {
   "cell_type": "markdown",
   "metadata": {},
   "source": [
    "### leyendo indice semilla-inventario"
   ]
  },
  {
   "cell_type": "markdown",
   "metadata": {},
   "source": [
    "En el script que ingesta semilla, trae la información de los centros de conexión administrados. Para el indice principal se requiere:\n",
    "* site_id como llave del centro de conexión.\n",
    "* Datos geográficos (Departamento, municipio, centro poblado, sede, energía, latitud, longitud, entre otros)."
   ]
  },
  {
   "cell_type": "code",
   "execution_count": 24,
   "metadata": {},
   "outputs": [],
   "source": [
    "total_docs = 10000\n",
    "try:\n",
    "    response = es.search(\n",
    "        index= parametros.semilla_inventario_index,\n",
    "        body={\n",
    "               \"_source\": ['site_id','nombre_municipio', 'nombre_departamento', 'nombre_centro_pob', 'nombreSede' \n",
    "                           , 'energiadesc', 'latitud', 'longitud', 'COD_ISO','id_Beneficiario']\n",
    "        },\n",
    "        size=total_docs\n",
    "    )\n",
    "    #print(es.info())\n",
    "    elastic_docs = response[\"hits\"][\"hits\"]\n",
    "    fields = {}\n",
    "    for num, doc in enumerate(elastic_docs):\n",
    "        source_data = doc[\"_source\"]\n",
    "        for key, val in source_data.items():\n",
    "            try:\n",
    "                fields[key] = np.append(fields[key], val)\n",
    "            except KeyError:\n",
    "                fields[key] = np.array([val])\n",
    "\n",
    "    datos_semilla = pd.DataFrame(dict([ (k,pd.Series(v)) for k,v in fields.items() ])) #pd.DataFrame(fields)\n",
    "except:\n",
    "    exit()"
   ]
  },
  {
   "cell_type": "markdown",
   "metadata": {},
   "source": [
    "### Cambiando nombre de campos y generando location"
   ]
  },
  {
   "cell_type": "markdown",
   "metadata": {},
   "source": [
    "* Se valida latitud y longitud. Luego se calcula campo location\n",
    "* Se renombran los campos de semilla"
   ]
  },
  {
   "cell_type": "code",
   "execution_count": 25,
   "metadata": {},
   "outputs": [],
   "source": [
    "def get_location(x):\n",
    "    patron = re.compile('^(\\-?\\d+(\\.\\d+)?),\\s*(\\-?\\d+(\\.\\d+)?)$') #patrón que debe cumplir\n",
    "    if (not patron.match(x) is None):\n",
    "        return x.replace(',','.')\n",
    "    else:\n",
    "        #Código a ejecutar si las coordenadas no son válidas\n",
    "        return 'a'\n",
    "datos_semilla['latitud'] = datos_semilla['latitud'].apply(get_location)\n",
    "datos_semilla['longitud'] = datos_semilla['longitud'].apply(get_location)\n",
    "datos_semilla = datos_semilla.drop(datos_semilla[(datos_semilla[\"longitud\"]=='a') | (datos_semilla[\"latitud\"]=='a')].index)\n",
    "datos_semilla['usuarios.location'] = datos_semilla['latitud'] + ',' + datos_semilla['longitud']\n",
    "datos_semilla['usuarios.location']=datos_semilla['usuarios.location'].str.replace('a,a','')\n",
    "datos_semilla.drop(columns=['latitud','longitud'],inplace=True)"
   ]
  },
  {
   "cell_type": "code",
   "execution_count": 26,
   "metadata": {},
   "outputs": [],
   "source": [
    "datos_semilla = datos_semilla.rename(columns={'lugar_cod' : 'usuarios.centroDigitalUsuarios'\n",
    "                                            , 'nombre_municipio': 'usuarios.nombreMunicipio'\n",
    "                                            , 'nombre_departamento' : 'usuarios.nombreDepartamento'\n",
    "                                            , 'nombre_centro_pob': 'usuarios.localidad'\n",
    "                                            , 'nombreSede' : 'usuarios.nomCentroDigital'\n",
    "                                            , 'energiadesc' : 'usuarios.sistemaEnergia'\n",
    "                                            , 'COD_ISO' : 'usuarios.codISO'\n",
    "                                            , 'id_Beneficiario' : 'usuarios.idBeneficiario'})"
   ]
  },
  {
   "cell_type": "markdown",
   "metadata": {},
   "source": [
    "* Se limpian espacios\n",
    "* Se descartan valores con site_id menores a 13 caracteres\n",
    "* Se descartan los registros que tengan la latitud y longitud vacía o no valida"
   ]
  },
  {
   "cell_type": "code",
   "execution_count": 27,
   "metadata": {},
   "outputs": [],
   "source": [
    "datos_semilla['site_id'] = datos_semilla['site_id'].apply(lambda x: x.strip())\n",
    "datos_semilla = datos_semilla[(datos_semilla['site_id'].apply(len)>12)]\n",
    "datos_semilla = datos_semilla.drop(datos_semilla[(datos_semilla[\"usuarios.location\"]=='')].index)"
   ]
  },
  {
   "cell_type": "markdown",
   "metadata": {},
   "source": [
    "## Calculando totales por Sitio Web"
   ]
  },
  {
   "cell_type": "code",
   "execution_count": 28,
   "metadata": {},
   "outputs": [],
   "source": [
    "def traeDominios(fecha_max_mintic):\n",
    "    total_docs = 100000\n",
    "#     response = es.search(\n",
    "#         index= parametros.sonicwall_index,\n",
    "#         body={ \n",
    "#             \"_source\": [\"site_id\",\"fecha_control\",\"Categoria\",\"url-dominio\",\"total.dominio\"],\n",
    "#             \"query\": {\n",
    "#               \"bool\": {\n",
    "#                 \"filter\": [\n",
    "#                   {\n",
    "#                     \"bool\": {\n",
    "#                       \"must\": [\n",
    "#                           {\"term\": {\"fecha_control\": fecha_max_mintic}}\n",
    "#                       ]\n",
    "#                     } \n",
    "#                   },\n",
    "#                   {\n",
    "#                     \"exists\": {\n",
    "#                       \"field\":\"url-dominio\"\n",
    "#                     }\n",
    "#                   }\n",
    "                    \n",
    "#                 ]\n",
    "#               }\n",
    "#             }\n",
    "#         },\n",
    "#         size=total_docs\n",
    "#     )\n",
    "    \n",
    "    # \"2021-07-02 00:00:00\"\n",
    "    #Se debe Actualizar el rango de fecha para la extraccion de elastic\n",
    "    \n",
    "    fecha_max_mintic_gte = fecha_max_mintic[0:len(fecha_max_mintic)-3]+\":00\"\n",
    "    fecha_max_mintic_lte = fecha_max_mintic[0:len(fecha_max_mintic)-6]+\":59:59\"\n",
    "    \n",
    "    response = es.search(\n",
    "        index= parametros.sonicwall_index,\n",
    "        body={ \n",
    "            \"_source\": [\"site_id\",\"fecha_control\",\"Categoria\",\"url-dominio\",\"total.dominio\"],\n",
    "            \"query\": {\n",
    "              \"bool\": {\n",
    "                \"filter\": [    \n",
    "                            {\n",
    "                              \"range\": {\n",
    "                                \"fecha_control\": {\n",
    "                                  \"gte\": fecha_max_mintic_gte,\n",
    "                                  \"lte\": fecha_max_mintic_lte\n",
    "                                }\n",
    "                              }\n",
    "                            },\n",
    "                            {\"exists\":{\n",
    "                              \"field\":\"url-dominio\"\n",
    "                            }\n",
    "                            } \n",
    "                ]\n",
    "              }\n",
    "            }\n",
    "        },\n",
    "        size=total_docs\n",
    "    )\n",
    "    \n",
    "    elastic_docs = response[\"hits\"][\"hits\"]\n",
    "#    fields = {}\n",
    "#    for num, doc in enumerate(elastic_docs):\n",
    "#        source_data = doc[\"_source\"]\n",
    "#        for key, val in source_data.items():\n",
    "#            try:\n",
    "#                fields[key] = np.append(fields[key], val)\n",
    "#            except KeyError:\n",
    "#                fields[key] = np.array([val])\n",
    "#\n",
    "#    return pd.DataFrame(dict([ (k,pd.Series(v)) for k,v in fields.items() ]))\n",
    "    return pd.DataFrame([x[\"_source\"] for x in elastic_docs])"
   ]
  },
  {
   "cell_type": "markdown",
   "metadata": {},
   "source": [
    "### Lanzando ejecución de consulta"
   ]
  },
  {
   "cell_type": "markdown",
   "metadata": {},
   "source": [
    "* Se calcula rango en base a la fecha de control. Para este caso es de 60 minutos.\n",
    "* Se ejecuta la función de consulta con el rango de fechas.\n",
    "* Si no retorna datos se incrementa el rango y se ejecuta nuevamente. Este proceso se repite hasta conseguir datos o hasta que el rango de ejecución alcance la fecha y hora actual."
   ]
  },
  {
   "cell_type": "code",
   "execution_count": 29,
   "metadata": {},
   "outputs": [],
   "source": [
    "fecha_max_mintic = fecha_ejecucion\n",
    "#total_categorias = traeCategorias(fecha_max_mintic)\n",
    "total_dominios = traeDominios(fecha_max_mintic)\n",
    "\n",
    "if total_dominios is None or total_dominios.empty:\n",
    "    while (total_dominios is None or total_dominios.empty) and ((datetime.strptime(fecha_max_mintic[0:10], '%Y-%m-%d').strftime(\"%Y-%m-%d %H:%M:%S\")) < str(now.strftime(\"%Y-%m-%d %H:%M:%S\"))):\n",
    "        fecha_max_mintic = (datetime.strptime(fecha_max_mintic, '%Y-%m-%d %H:%M:%S')+timedelta(minutes=60)).strftime(\"%Y-%m-%d %H:%M:%S\")\n",
    "        #total_categorias = traeCategorias(fecha_max_mintic)\n",
    "        total_dominios = traeDominios(fecha_max_mintic)\n",
    "else:\n",
    "    pass"
   ]
  },
  {
   "cell_type": "markdown",
   "metadata": {},
   "source": [
    "# Insertando total visitas sitios Web"
   ]
  },
  {
   "cell_type": "code",
   "execution_count": 30,
   "metadata": {},
   "outputs": [],
   "source": [
    "use_these_keys = [ 'usuarios.siteIDWeb'\n",
    "                    , 'usuarios.fechaControl'\n",
    "                    , 'usuarios.categoriaPagina'\n",
    "                    , 'usuarios.sitioWeb'\n",
    "                    , 'usuarios.visitas.sitioWeb'\n",
    "                    , 'usuarios.nomCentroDigital'\n",
    "                    , 'usuarios.codISO'\n",
    "                    , 'usuarios.idBeneficiario'\n",
    "                    , 'usuarios.localidad'\n",
    "                    , 'usuarios.nombreDepartamento'\n",
    "                    , 'usuarios.sistemaEnergia'\n",
    "                    , 'usuarios.nombreMunicipio'\n",
    "                    , 'usuarios.location'\n",
    "                    , 'usuarios.fecha'\n",
    "                    , 'usuarios.anyo'\n",
    "                    , 'usuarios.mes'\n",
    "                    , 'usuarios.dia'\n",
    "                    , 'usuarios.hora'\n",
    "                    , 'usuarios.minuto'\n",
    "                    , 'nombreDepartamento'\n",
    "                    , 'nombreMunicipio'\n",
    "                    , 'idBeneficiario'\n",
    "                    , 'fecha'\n",
    "                    , 'anyo'\n",
    "                    , 'mes'\n",
    "                    , 'dia'\n",
    "                  , '@timestamp']\n",
    "\n",
    "def doc_generator_dom(df):\n",
    "    df_iter = df.iterrows()\n",
    "    for index, document in df_iter:\n",
    "        yield {\n",
    "                \"_index\": indice, \n",
    "                \"_id\": f\"{'URL-'+str(document['usuarios.siteIDWeb']) + '-' + str(document['usuarios.fechaControl']) + '-' + str(document['usuarios.categoriaPagina']) + '-' + str(document['usuarios.sitioWeb'])}\",\n",
    "                \"_source\": filterKeys(document),\n",
    "            }"
   ]
  },
  {
   "cell_type": "code",
   "execution_count": 31,
   "metadata": {},
   "outputs": [
    {
     "name": "stdout",
     "output_type": "stream",
     "text": [
      "Fecha:  2021-08-21 21:50:41.498394 - Total Sitios Webs insertados en indice principal: 12917\n"
     ]
    }
   ],
   "source": [
    "try:\n",
    "    \n",
    "    if (total_dominios is None or total_dominios.empty):\n",
    "        raise Exception()\n",
    "        \n",
    "    total_dominios = total_dominios.drop_duplicates()\n",
    "    total_dominios.fillna({'Categoria':'Not Rated'},inplace=True)\n",
    "        \n",
    "    total_dominios = pd.merge(total_dominios, datos_semilla, on='site_id',how='inner')\n",
    "    \n",
    "    total_dominios = total_dominios.rename(columns={'fecha_control' : 'usuarios.fechaControl'})\n",
    "    total_dominios[\"usuarios.fecha\"] = total_dominios[\"usuarios.fechaControl\"].str.split(\" \", n = 1, expand = True)[0]\n",
    "    total_dominios[\"usuarios.anyo\"] = total_dominios[\"usuarios.fecha\"].str[0:4]\n",
    "    total_dominios[\"usuarios.mes\"] = total_dominios[\"usuarios.fecha\"].str[5:7]\n",
    "    total_dominios[\"usuarios.dia\"] = total_dominios[\"usuarios.fecha\"].str[8:10]\n",
    "    total_dominios[\"usuarios.hora\"] = total_dominios[\"usuarios.fechaControl\"].str.split(\" \", n = 1, expand = True)[1].str.split(\":\", n = 2, expand = True)[0]\n",
    "    total_dominios[\"usuarios.minuto\"] = total_dominios[\"usuarios.fechaControl\"].str.split(\" \", n = 1, expand = True)[1].str.split(\":\", n = 2, expand = True)[1]\n",
    "    total_dominios= total_dominios.rename(columns={'site_id' : 'usuarios.siteIDWeb'\n",
    "                                                  ,'Categoria' : 'usuarios.categoriaPagina'\n",
    "                                                  ,'url-dominio' : 'usuarios.sitioWeb'\n",
    "                                                  ,'total.dominio': 'usuarios.visitas.sitioWeb'})\n",
    "    total_dominios['nombreDepartamento'] = total_dominios['usuarios.nombreDepartamento']\n",
    "    total_dominios['nombreMunicipio'] = total_dominios['usuarios.nombreMunicipio']\n",
    "    total_dominios['idBeneficiario'] = total_dominios['usuarios.idBeneficiario']\n",
    "    total_dominios['fecha'] = total_dominios['usuarios.fecha']\n",
    "    total_dominios['anyo'] = total_dominios['usuarios.anyo']\n",
    "    total_dominios['mes'] = total_dominios['usuarios.mes']\n",
    "    total_dominios['dia'] = total_dominios['usuarios.dia']\n",
    "    total_dominios['@timestamp'] = now.isoformat()\n",
    "  \n",
    "    \n",
    "    salida = helpers.bulk(es, doc_generator_dom(total_dominios))\n",
    "    print(\"Fecha: \", now,\"- Total Sitios Webs insertados en indice principal:\",salida[0])             \n",
    "except Exception as e:\n",
    "    print(\"Fecha: \", now,\"- Nada insertado de Sitios Web en indice principal\")"
   ]
  },
  {
   "cell_type": "code",
   "execution_count": 32,
   "metadata": {},
   "outputs": [],
   "source": [
    "use_these_keys = [\n",
    "                   'ordenar.ordenamiento'\n",
    "                  ]\n",
    "def doc_ordenamiento(df):\n",
    "    df_iter = df.iterrows()\n",
    "    for index, document in df_iter:\n",
    "        yield {\n",
    "                \"_index\": indice, \n",
    "                \"_id\": 1,\n",
    "                \"_source\": filterKeys(document),\n",
    "            }"
   ]
  },
  {
   "cell_type": "code",
   "execution_count": 33,
   "metadata": {},
   "outputs": [],
   "source": [
    "d = {'ordenar.ordenamiento': [1]}\n",
    "df_ordenamiento = pd.DataFrame(data=d)\n",
    "salida = helpers.bulk(es, doc_ordenamiento(df_ordenamiento ))"
   ]
  },
  {
   "cell_type": "markdown",
   "metadata": {},
   "source": [
    "### Guardando fecha para control de ejecución"
   ]
  },
  {
   "cell_type": "markdown",
   "metadata": {},
   "source": [
    "* Se actualiza la fecha de control. Si el calculo supera la fecha hora actual, se asocia esta ultima."
   ]
  },
  {
   "cell_type": "code",
   "execution_count": 34,
   "metadata": {},
   "outputs": [
    {
     "name": "stdout",
     "output_type": "stream",
     "text": [
      "actualizada fecha control de ejecucion: 2021-06-01 18:00:00\n"
     ]
    }
   ],
   "source": [
    "fecha_ejecucion = (datetime.strptime(fecha_max_mintic, '%Y-%m-%d %H:%M:%S')+timedelta(minutes=60)).strftime(\"%Y-%m-%d %H:%M:%S\")[0:15] + '0:00'    \n",
    "\n",
    "if fecha_ejecucion > str(now.strftime('%Y-%m-%d %H:%M:%S'))[0:15] + '0:00':\n",
    "    fecha_ejecucion = str(now.strftime('%Y-%m-%d %H:%M:%S'))[0:15] + '0:00'\n",
    "response = es.index(\n",
    "        index = indice_control,\n",
    "        id = 'jerarquia_usuarios_web',\n",
    "        body = { 'jerarquia_usuarios_web': 'usuarios_web','usuarios.fechaControl' : fecha_ejecucion}\n",
    ")\n",
    "print(\"actualizada fecha control de ejecucion:\",fecha_ejecucion)"
   ]
  },
  {
   "cell_type": "code",
   "execution_count": null,
   "metadata": {},
   "outputs": [],
   "source": []
  }
 ],
 "metadata": {
  "kernelspec": {
   "display_name": "Python 3",
   "language": "python",
   "name": "python3"
  },
  "language_info": {
   "codemirror_mode": {
    "name": "ipython",
    "version": 3
   },
   "file_extension": ".py",
   "mimetype": "text/x-python",
   "name": "python",
   "nbconvert_exporter": "python",
   "pygments_lexer": "ipython3",
   "version": "3.8.5"
  }
 },
 "nbformat": 4,
 "nbformat_minor": 4
}
