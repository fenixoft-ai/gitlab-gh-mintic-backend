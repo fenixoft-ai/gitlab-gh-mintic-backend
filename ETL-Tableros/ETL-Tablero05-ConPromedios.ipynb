{
 "cells": [
  {
   "cell_type": "markdown",
   "metadata": {},
   "source": [
    "¿Que hace este script?\n",
    "* Calcula para cada dispositivo de red: trafico.totales.traficoIN, trafico.totales.traficoOUT', trafico.totales.consumoGB'.\n",
    "* Calcula para cada site_id: trafico.totales.sitio.traficoIN, trafico.totales.sitio.traficoOUT, trafico.totales.sitio.consumoGB"
   ]
  },
  {
   "cell_type": "code",
   "execution_count": 1,
   "metadata": {},
   "outputs": [],
   "source": [
    "from elasticsearch import Elasticsearch, helpers\n",
    "from ssl import create_default_context\n",
    "import pandas as pd\n",
    "import numpy as np\n",
    "from datetime import datetime, timedelta\n",
    "import parametros\n",
    "import random\n",
    "import re"
   ]
  },
  {
   "cell_type": "markdown",
   "metadata": {},
   "source": [
    "## Conectando a ElasticSearch"
   ]
  },
  {
   "cell_type": "markdown",
   "metadata": {},
   "source": [
    "La ultima línea se utiliza para garantizar la ejecución de la consulta\n",
    "* timeout es el tiempo para cada ejecución\n",
    "* max_retries el número de intentos si la conexión falla\n",
    "* retry_on_timeout para activar los reitentos"
   ]
  },
  {
   "cell_type": "code",
   "execution_count": 2,
   "metadata": {},
   "outputs": [],
   "source": [
    "context = create_default_context(cafile=parametros.cafile)\n",
    "es = Elasticsearch(\n",
    "    parametros.servidor,\n",
    "    http_auth=(parametros.usuario_EC, parametros.password_EC),\n",
    "    scheme=\"https\",\n",
    "    port=parametros.puerto,\n",
    "    ssl_context=context,\n",
    "    timeout=60, max_retries=3, retry_on_timeout=True\n",
    ") "
   ]
  },
  {
   "cell_type": "markdown",
   "metadata": {},
   "source": [
    "### Calculando fechas para la ejecución"
   ]
  },
  {
   "cell_type": "markdown",
   "metadata": {},
   "source": [
    "* Se calculan las fechas para asociar al nombre del indice\n",
    "* fecha_hoy es usada para concatenar al nombre del indice principal previa inserción"
   ]
  },
  {
   "cell_type": "code",
   "execution_count": 3,
   "metadata": {},
   "outputs": [],
   "source": [
    "now = datetime.now()\n",
    "fecha_hoy = str(now.strftime(\"%Y.%m.%d\"))"
   ]
  },
  {
   "cell_type": "markdown",
   "metadata": {},
   "source": [
    "### Definiendo indice principal con fecha de hoy"
   ]
  },
  {
   "cell_type": "markdown",
   "metadata": {},
   "source": [
    "Estos valores se deben ajustar según ambiente. No es automático ya que no hay separación de ambientes"
   ]
  },
  {
   "cell_type": "code",
   "execution_count": 4,
   "metadata": {},
   "outputs": [],
   "source": [
    "indice = parametros.trafico_tablero05_index\n",
    "indice_control = parametros.tableros_mintic_control"
   ]
  },
  {
   "cell_type": "markdown",
   "metadata": {},
   "source": [
    "### Función para generar JSON compatible con ES"
   ]
  },
  {
   "cell_type": "code",
   "execution_count": 5,
   "metadata": {},
   "outputs": [],
   "source": [
    "def filterKeys(document):\n",
    "    return {key: document[key] for key in use_these_keys }"
   ]
  },
  {
   "cell_type": "markdown",
   "metadata": {},
   "source": [
    "### leyendo indice semilla-inventario"
   ]
  },
  {
   "cell_type": "markdown",
   "metadata": {},
   "source": [
    "En el script que ingesta semilla, trae la información de los centros de conexión administrados. Para el indice principal se requiere:\n",
    "\n",
    "* site_id como llave del centro de conexión.\n",
    "* Datos geográficos (Departamento, municipio, centro poblado, sede, energía, latitud, longitud, COD_ISO, entre otros)."
   ]
  },
  {
   "cell_type": "code",
   "execution_count": 6,
   "metadata": {},
   "outputs": [],
   "source": [
    "total_docs = 10000\n",
    "try:\n",
    "    response = es.search(\n",
    "        index= parametros.semilla_inventario_index,\n",
    "        body={\n",
    "               \"_source\": ['site_id','nombre_municipio', 'nombre_departamento', 'nombre_centro_pob', 'nombreSede' \n",
    "                           , 'energiadesc', 'latitud', 'longitud','COD_ISO','id_Beneficiario']\n",
    "        },\n",
    "        size=total_docs\n",
    "    )\n",
    "    #print(es.info())\n",
    "    elastic_docs = response[\"hits\"][\"hits\"]\n",
    "    datos_semilla = pd.DataFrame([x[\"_source\"] for x in elastic_docs])\n",
    "    \n",
    "except:\n",
    "    print(\"fecha:\",now,\"- Error en lectura de datos semilla\")\n",
    "    #exit()\n",
    "    "
   ]
  },
  {
   "cell_type": "code",
   "execution_count": 7,
   "metadata": {},
   "outputs": [],
   "source": [
    "datos_semilla['site_id'] = datos_semilla['site_id'].str.strip()"
   ]
  },
  {
   "cell_type": "markdown",
   "metadata": {},
   "source": [
    "Se valida latitud y longitud, se genera campo location y se renombran los campos de semilla"
   ]
  },
  {
   "cell_type": "code",
   "execution_count": 8,
   "metadata": {},
   "outputs": [],
   "source": [
    "def get_location(x,y='lat'):\n",
    "    patron = re.compile('^(\\-?\\d+(\\.\\d+)?),\\s*(\\-?\\d+(\\.\\d+)?)$') #patrón que debe cumplir\n",
    "    if (not patron.match(x) is None) and (str(x)!=''):\n",
    "        return x.replace(',','.')\n",
    "    else:\n",
    "        #Código a ejecutar si las coordenadas no son válidas\n",
    "        return '4.596389' if y=='lat' else '-74.074639'\n",
    "    \n",
    "datos_semilla['latitud'] = datos_semilla['latitud'].apply(lambda x:get_location(x,'lat'))\n",
    "datos_semilla['longitud'] = datos_semilla['longitud'].apply(lambda x:get_location(x,'lon'))\n",
    "datos_semilla = datos_semilla.drop(datos_semilla[(datos_semilla[\"longitud\"]=='a') | (datos_semilla[\"latitud\"]=='a')].index)\n",
    "datos_semilla['trafico.tablero05.location'] = datos_semilla['latitud'] + ',' + datos_semilla['longitud']\n",
    "datos_semilla['trafico.tablero05.location']=datos_semilla['trafico.tablero05.location'].str.replace('a,a','')\n",
    "datos_semilla.drop(columns=['latitud','longitud'],inplace=True)\n",
    "\n",
    "datos_semilla = datos_semilla.rename(columns={'nombre_municipio': 'trafico.tablero05.nombreMunicipio'\n",
    "                                              , 'nombre_departamento' : 'trafico.tablero05.nombreDepartamento'\n",
    "                                              , 'nombre_centro_pob': 'trafico.tablero05.localidad'\n",
    "                                              , 'nombreSede' : 'trafico.tablero05.nomCentroDigital'\n",
    "                                              , 'energiadesc' : 'trafico.tablero05.sistemaEnergia'\n",
    "                                              , 'COD_ISO' : 'trafico.tablero05.codISO'\n",
    "                                              , 'id_Beneficiario' : 'trafico.tablero05.idBeneficiario'})\n",
    "datos_semilla.fillna('', inplace=True)"
   ]
  },
  {
   "cell_type": "code",
   "execution_count": 9,
   "metadata": {},
   "outputs": [],
   "source": [
    "datos_semilla = datos_semilla.drop(datos_semilla[(datos_semilla[\"trafico.tablero05.location\"]=='')].index)"
   ]
  },
  {
   "cell_type": "markdown",
   "metadata": {},
   "source": [
    "### leyendo indice cambium-devicedevices"
   ]
  },
  {
   "cell_type": "markdown",
   "metadata": {},
   "source": [
    "Se lee la información de los dispositivos de red monitoreados por Cambium. En esta lectura no hay referencia de fechas ya que solo hay una ocurrencia por MAC de dispositivo de red.\n",
    "\n",
    "* site_id es la llave para cruzar con cada centro de conexión.\n",
    "* mac, IP y name son datos básicos del dispositivo.\n",
    "* ap_group identifica los dispositivos como INDOOR u OUTDOOR"
   ]
  },
  {
   "cell_type": "code",
   "execution_count": 10,
   "metadata": {},
   "outputs": [],
   "source": [
    "total_docs = 30000\n",
    "try:\n",
    "    response = es.search(\n",
    "        index= parametros.cambium_d_d_index,\n",
    "        body={\n",
    "                    \"_source\": [\"site_id\",\"mac\",'name',\"ip\",\"ap_group\"]\n",
    "                  , \"query\": {\n",
    "                    \"match_all\": {}\n",
    "                  }\n",
    "        },\n",
    "        size=total_docs\n",
    "    )\n",
    "    #print(es.info())\n",
    "    elastic_docs = response[\"hits\"][\"hits\"]\n",
    "    datos_dev = pd.DataFrame([x[\"_source\"] for x in elastic_docs])\n",
    "    \n",
    "    \n",
    "except:\n",
    "    exit()"
   ]
  },
  {
   "cell_type": "code",
   "execution_count": 11,
   "metadata": {},
   "outputs": [],
   "source": [
    "datos_dev['site_id'] = datos_dev['site_id'].str.strip()"
   ]
  },
  {
   "cell_type": "markdown",
   "metadata": {},
   "source": [
    "Se descartan registros con site_id vacios y se limpian los NaN del dataframe"
   ]
  },
  {
   "cell_type": "code",
   "execution_count": 12,
   "metadata": {},
   "outputs": [],
   "source": [
    "datos_dev.dropna(subset=['site_id'])\n",
    "datos_dev.fillna('', inplace=True)\n",
    "datos_dev = datos_dev.drop(datos_dev[(datos_dev['site_id']=='')].index)\n",
    "datos_dev.sort_values(['site_id','ap_group'], inplace=True)"
   ]
  },
  {
   "cell_type": "markdown",
   "metadata": {},
   "source": [
    "Se limpian datos mal formados de ap_group"
   ]
  },
  {
   "cell_type": "code",
   "execution_count": 13,
   "metadata": {},
   "outputs": [],
   "source": [
    "datos_dev['ap_group'] = datos_dev['ap_group'].str.split(\"-\", n = 1, expand = True)[0]\n",
    "datos_dev['ap_group'] = datos_dev['ap_group'].str.split(\"_\", n = 1, expand = True)[0]\n",
    "datos_dev['ap_group'] = datos_dev['ap_group'].str.split(\".\", n = 1, expand = True)[0]\n",
    "datos_dev = datos_dev.drop(datos_dev[(datos_dev['ap_group']=='')].index)"
   ]
  },
  {
   "cell_type": "code",
   "execution_count": 14,
   "metadata": {},
   "outputs": [],
   "source": [
    "datos_dev = datos_dev.drop_duplicates('mac')"
   ]
  },
  {
   "cell_type": "markdown",
   "metadata": {},
   "source": [
    "Se renombran campos según formato del indice final"
   ]
  },
  {
   "cell_type": "code",
   "execution_count": 15,
   "metadata": {},
   "outputs": [],
   "source": [
    "datos_dev = datos_dev.rename(columns={'ap_mac' : 'trafico.tablero05.macRed'\n",
    "                                        ,'ap_group': 'trafico.tablero05.apGroup'\n",
    "                                        , 'ip': 'trafico.tablero05.IP'\n",
    "                                        , 'mac' : 'trafico.tablero05.macRed'\n",
    "                                        , 'name' : 'trafico.tablero05.deviceName'})"
   ]
  },
  {
   "cell_type": "markdown",
   "metadata": {},
   "source": [
    "### Trae la ultima fecha para control de ejecución"
   ]
  },
  {
   "cell_type": "markdown",
   "metadata": {},
   "source": [
    "Cuando en el rango de tiempo de la ejecución, no se insertan nuevos valores, las fecha maxima en indice mintic no aumenta, por tanto se usa esta fecha de control para garantizar que incremente el bucle de ejecución"
   ]
  },
  {
   "cell_type": "code",
   "execution_count": 16,
   "metadata": {},
   "outputs": [
    {
     "name": "stdout",
     "output_type": "stream",
     "text": [
      "ultima fecha para control de ejecucion: 2021-06-01 00:00:00\n"
     ]
    }
   ],
   "source": [
    "total_docs = 1\n",
    "try:\n",
    "    response = es.search(\n",
    "        index= indice_control,\n",
    "        body={\n",
    "               \"_source\": [\"tablero05.fechaControl\"],\n",
    "              \"query\": {\n",
    "                \"bool\": {\n",
    "                  \"filter\": [\n",
    "                  {\n",
    "                    \"exists\": {\n",
    "                      \"field\":\"jerarquia-tablero05\"\n",
    "                    }\n",
    "                  }\n",
    "                  ]\n",
    "                }\n",
    "              }\n",
    "        },\n",
    "        size=total_docs\n",
    "    )\n",
    "    #print(es.info())\n",
    "    elastic_docs = response[\"hits\"][\"hits\"]\n",
    "    fields = {}\n",
    "    for num, doc in enumerate(elastic_docs):\n",
    "        fecha_ejecucion = doc[\"_source\"]['tablero05.fechaControl']\n",
    "except:\n",
    "    fecha_ejecucion = '2021-05-01 00:00:00'\n",
    "if response[\"hits\"][\"hits\"] == []:\n",
    "    fecha_ejecucion = '2021-05-01 00:00:00'\n",
    "print(\"ultima fecha para control de ejecucion:\",fecha_ejecucion)"
   ]
  },
  {
   "cell_type": "markdown",
   "metadata": {},
   "source": [
    "## Se lee la información de cambium device performance"
   ]
  },
  {
   "cell_type": "markdown",
   "metadata": {},
   "source": [
    " Se toma los valores de dispositivos de red y su desempeño.\n",
    " * mac del dispositivo de red\n",
    " * timestamp es la fecha y hora de la medición\n",
    " * radio.* volumen de datos descargados(r) y cargados(t)"
   ]
  },
  {
   "cell_type": "code",
   "execution_count": 17,
   "metadata": {},
   "outputs": [],
   "source": [
    "def traePerformance(fecha_max,fecha_tope):\n",
    "    total_docs = 5000000\n",
    "    response = es.search(\n",
    "        index= parametros.cambium_d_p_index,\n",
    "        body={\n",
    "                \"_source\": [\"mac\",\"timestamp\",\"radio.5ghz.rx_bps\",\n",
    "                           \"radio.5ghz.tx_bps\",\"radio.24ghz.rx_bps\"\n",
    "                          ,\"radio.24ghz.tx_bps\"]\n",
    "              , \"query\": {\n",
    "                  \"range\": {\n",
    "                    \"timestamp\": {\n",
    "                      \"gte\": fecha_max,\n",
    "                      \"lt\": fecha_tope\n",
    "                    }\n",
    "                  }\n",
    "              }\n",
    "        },\n",
    "        size=total_docs\n",
    "    )\n",
    "    elastic_docs = response[\"hits\"][\"hits\"]\n",
    "\n",
    "    return pd.DataFrame([x[\"_source\"] for x in elastic_docs])"
   ]
  },
  {
   "cell_type": "markdown",
   "metadata": {},
   "source": [
    "### Lanzando  ejecución de consulta"
   ]
  },
  {
   "cell_type": "markdown",
   "metadata": {},
   "source": [
    "* Se calcula rango en base a la fecha de control. Para este caso es de 10 minutos.\n",
    "* Se ejecuta la función de consulta con el rango de fechas.\n",
    "* Si no retorna datos se incrementa el rango y se ejecuta nuevamente. Este proceso se repite hasta conseguir datos o hasta que el rango de ejecución alcance la fecha y hora actual."
   ]
  },
  {
   "cell_type": "code",
   "execution_count": 18,
   "metadata": {},
   "outputs": [],
   "source": [
    "fecha_max_mintic = fecha_ejecucion\n",
    "fecha_tope_mintic = (datetime.strptime(fecha_max_mintic, '%Y-%m-%d %H:%M:%S')+timedelta(minutes=50)-timedelta(seconds=1)).strftime(\"%Y-%m-%d %H:%M:%S\")\n",
    "datos_performance = traePerformance(fecha_max_mintic,fecha_tope_mintic)\n",
    "\n",
    "if datos_performance is None or datos_performance.empty:\n",
    "    while (datos_performance is None or datos_performance.empty) and ((datetime.strptime(fecha_max_mintic[0:10], '%Y-%m-%d').strftime(\"%Y-%m-%d %H:%M:%S\")) < str(now.strftime(\"%Y-%m-%d %H:%M:%S\"))):\n",
    "        fecha_max_mintic = (datetime.strptime(fecha_max_mintic, '%Y-%m-%d %H:%M:%S')+timedelta(minutes=50)).strftime(\"%Y-%m-%d %H:%M:%S\")\n",
    "        fecha_tope_mintic = (datetime.strptime(fecha_tope_mintic, '%Y-%m-%d %H:%M:%S')+timedelta(minutes=50)).strftime(\"%Y-%m-%d %H:%M:%S\")\n",
    "        datos_performance = traePerformance(fecha_max_mintic,fecha_tope_mintic)\n",
    "else:\n",
    "    pass"
   ]
  },
  {
   "cell_type": "code",
   "execution_count": 19,
   "metadata": {},
   "outputs": [],
   "source": [
    "#datos_performance = traePerformance('2021-06-10 09:00:00','2021-06-10 10:00:00')"
   ]
  },
  {
   "cell_type": "markdown",
   "metadata": {},
   "source": [
    "funcion para insertar en indice: "
   ]
  },
  {
   "cell_type": "code",
   "execution_count": 20,
   "metadata": {},
   "outputs": [],
   "source": [
    "use_these_keys = ['trafico.tablero05.nomCentroDigital',\n",
    "                  'trafico.tablero05.codISO',\n",
    "                  'trafico.tablero05.localidad',\n",
    "                  'trafico.tablero05.siteID',\n",
    "                  'trafico.tablero05.nombreDepartamento',\n",
    "                  'trafico.tablero05.sistemaEnergia',\n",
    "                  'trafico.tablero05.nombreMunicipio',\n",
    "                  'trafico.tablero05.idBeneficiario',\n",
    "                  'trafico.tablero05.apGroup',\n",
    "                  'trafico.tablero05.macRed',\n",
    "                  'trafico.tablero05.IP',\n",
    "                  'trafico.tablero05.deviceName',\n",
    "                  'trafico.tablero05.macRed',\n",
    "                  'trafico.totales.tablero05.fechaControl',\n",
    "                  'trafico.totales.tablero05.traficoIN',\n",
    "                  'trafico.totales.tablero05.traficoOUT',\n",
    "                  'trafico.totales.tablero05.consumoGB',\n",
    "                  'trafico.totales.tablero05.fecha',\n",
    "                  'trafico.totales.tablero05.anyo',\n",
    "                  'trafico.totales.tablero05.mes',\n",
    "                  'trafico.totales.tablero05.dia',\n",
    "                  'trafico.totales.tablero05.hora',\n",
    "                  'trafico.totales.tablero05.minuto',\n",
    "                  'trafico.totales.promedioIN',\n",
    "                  'trafico.totales.promedioOUT',\n",
    "                  'trafico.totales.promedioConsumo',\n",
    "                  'nombreDepartamento',\n",
    "                    'nombreMunicipio',\n",
    "                    'idBeneficiario',\n",
    "                    'fecha',\n",
    "                    'anyo',\n",
    "                    'mes',\n",
    "                    'dia',\n",
    "                  '@timestamp']\n",
    "def doc_generator(df):\n",
    "    df_iter = df.iterrows()\n",
    "    for index, document in df_iter:\n",
    "        yield {\n",
    "                \"_index\": indice, \n",
    "                \"_id\": f\"{'consumo-' + document['trafico.tablero05.siteID'] + '-' + document['trafico.tablero05.macRed'] + '-' +document['trafico.totales.tablero05.fechaControl']}\",\n",
    "                \"_source\": filterKeys(document),\n",
    "            }\n"
   ]
  },
  {
   "cell_type": "markdown",
   "metadata": {},
   "source": [
    "# Insertando consumo a indice "
   ]
  },
  {
   "cell_type": "markdown",
   "metadata": {},
   "source": [
    "* Calculo de indicadores de consumos para cada AP. \n",
    "* Se toman los valores de rx y tx como descarga y carga\n",
    "* de datos_dev se toma el site_id y el ap_group"
   ]
  },
  {
   "cell_type": "code",
   "execution_count": 21,
   "metadata": {},
   "outputs": [],
   "source": [
    "#try:\n",
    "datos_performance['fecha_control'] = datos_performance[\"timestamp\"].str[0:-4] + '0:00'\n",
    "datos_performance.rename(columns={'mac': 'trafico.tablero05.macRed'}, inplace=True)\n",
    "datos_performance.replace('','0',inplace=True)\n",
    "datos_performance.fillna({'radio.5ghz.rx_bps':0, 'radio.5ghz.tx_bps':0,\n",
    "                    'radio.24ghz.rx_bps':0, 'radio.24ghz.tx_bps':0 },inplace=True)\n",
    "datos_performance[['radio.5ghz.rx_bps','radio.5ghz.tx_bps','radio.24ghz.rx_bps','radio.24ghz.tx_bps']] = datos_performance[['radio.5ghz.rx_bps','radio.5ghz.tx_bps','radio.24ghz.rx_bps','radio.24ghz.tx_bps']].astype(int)\n",
    "    \n",
    "       \n",
    "aux_performance=datos_performance[['trafico.tablero05.macRed','fecha_control'\n",
    "                                     ,'radio.5ghz.rx_bps'\n",
    "                                     ,'radio.5ghz.tx_bps'\n",
    "                                    ,'radio.24ghz.rx_bps'\n",
    "                                     ,'radio.24ghz.tx_bps']].groupby(['trafico.tablero05.macRed','fecha_control']).agg(['sum']).reset_index()\n",
    "aux_performance.columns = aux_performance.columns.droplevel(1)\n",
    "aux_performance['trafico.totales.tablero05.traficoIN_aux'] = aux_performance['radio.5ghz.rx_bps'] + aux_performance['radio.24ghz.rx_bps']\n",
    "aux_performance['trafico.totales.tablero05.traficoOUT_aux'] = aux_performance['radio.5ghz.tx_bps'] + aux_performance['radio.24ghz.tx_bps']\n",
    "    \n",
    "aux_performance = pd.merge(aux_performance, datos_dev, on='trafico.tablero05.macRed',how='inner')\n",
    "mintic_02 = pd.merge(datos_semilla,  aux_performance, on='site_id',how='inner')\n",
    "    \n",
    "    ## Calculo del promedio \n",
    "aux_performance['trafico.totales.promedioIN'] = round((aux_performance['trafico.totales.tablero05.traficoIN_aux']/float(1<<30)),6)\n",
    "aux_performance['trafico.totales.promedioOUT'] = round((aux_performance['trafico.totales.tablero05.traficoOUT_aux']/float(1<<30)),6)\n",
    "aux_performance['trafico.totales.promedioConsumo'] = aux_performance['trafico.totales.promedioIN'] + aux_performance['trafico.totales.promedioOUT']\n",
    "    #Se totaliza para la sede completa\n",
    "aux_performance['trafico.totales.promedioConsumo'] = round(aux_performance['trafico.totales.promedioConsumo'],6)\n",
    "\n",
    "       \n",
    "    #La información de tráfico se convierte a GigaBytes y se toman 6 decimales\n",
    "mintic_02['trafico.totales.tablero05.traficoIN'] = round((mintic_02['trafico.totales.tablero05.traficoIN_aux']/float(1<<30)),6)\n",
    "mintic_02['trafico.totales.tablero05.traficoOUT'] = round((mintic_02['trafico.totales.tablero05.traficoOUT_aux']/float(1<<30)),6)\n",
    "mintic_02['trafico.totales.tablero05.consumoGB'] = mintic_02['trafico.totales.tablero05.traficoIN'] + mintic_02['trafico.totales.tablero05.traficoOUT']\n",
    "    #Se totaliza entrante y saliente\n",
    "mintic_02['trafico.totales.tablero05.consumoGB'] = round(mintic_02['trafico.totales.tablero05.consumoGB'],6)\n",
    "\n",
    "    ### Generando columnas con fecha, anyo, mes, dia, hora y minuto por separado\n",
    "mintic_02[\"trafico.totales.tablero05.fecha\"] = mintic_02[\"fecha_control\"].str.split(\" \", n = 1, expand = True)[0]\n",
    "mintic_02[\"trafico.totales.tablero05.hora\"] = mintic_02[\"fecha_control\"].str.split(\" \", n = 1, expand = True)[1].str.split(\":\", n = 2, expand = True)[0]\n",
    "mintic_02[\"trafico.totales.tablero05.minuto\"] = mintic_02[\"fecha_control\"].str.split(\" \", n = 1, expand = True)[1].str.split(\":\", n = 2, expand = True)[1]\n",
    "mintic_02[\"trafico.totales.tablero05.anyo\"] = mintic_02[\"trafico.totales.tablero05.fecha\"].str[0:4]\n",
    "mintic_02[\"trafico.totales.tablero05.mes\"] = mintic_02[\"trafico.totales.tablero05.fecha\"].str[5:7]\n",
    "mintic_02[\"trafico.totales.tablero05.dia\"] = mintic_02[\"trafico.totales.tablero05.fecha\"].str[8:10]\n",
    "    ### Renombrado de campos\n",
    "mintic_02.rename(columns={'site_id': 'trafico.tablero05.siteID'\n",
    "                            ,'fecha_control' : 'trafico.totales.tablero05.fechaControl'}, inplace=True)\n",
    "    \n",
    "aux_performance=aux_performance.rename(columns={'site_id' : 'trafico.tablero05.siteID', \\\n",
    "                                                'fecha_control':'trafico.totales.tablero05.fechaControl'})\n",
    "\n",
    "    ##nulos a cero\n",
    "mintic_02.fillna({'trafico.totales.tablero05.consumoGB':0,\n",
    "                    'trafico.totales.tablero05.traficoIN':0,\n",
    "                    'trafico.totales.tablero05.traficoOUT':0\n",
    "                    },inplace=True)\n",
    "    #cambia valores a tipo float\n",
    "mintic_02[['trafico.totales.tablero05.consumoGB','trafico.totales.tablero05.traficoIN','trafico.totales.tablero05.traficoOUT']] = mintic_02[['trafico.totales.tablero05.consumoGB','trafico.totales.tablero05.traficoIN','trafico.totales.tablero05.traficoOUT']].astype(float)\n",
    "    \n",
    "mintic_02['nombreDepartamento'] = mintic_02['trafico.tablero05.nombreDepartamento']\n",
    "mintic_02['nombreMunicipio'] = mintic_02['trafico.tablero05.nombreMunicipio']\n",
    "mintic_02['idBeneficiario'] = mintic_02['trafico.tablero05.idBeneficiario']\n",
    "mintic_02['fecha'] = mintic_02['trafico.totales.tablero05.fecha']\n",
    "mintic_02['anyo'] = mintic_02['trafico.totales.tablero05.anyo']\n",
    "mintic_02['mes'] = mintic_02['trafico.totales.tablero05.mes']\n",
    "mintic_02['dia'] = mintic_02['trafico.totales.tablero05.dia']\n",
    "mintic_02['@timestamp'] = now.isoformat()\n",
    "    \n",
    "aux_performance = aux_performance[['trafico.tablero05.siteID'\n",
    "                              ,'trafico.tablero05.macRed'\n",
    "                              ,'trafico.totales.tablero05.fechaControl'\n",
    "                              ,'trafico.totales.promedioIN'\n",
    "                              ,'trafico.totales.promedioOUT'\n",
    "                              ,'trafico.totales.promedioConsumo']]\n",
    "    \n",
    "mintic_02 = pd.merge(mintic_02,aux_performance, \n",
    "                        on=['trafico.tablero05.siteID',\n",
    "                            'trafico.tablero05.macRed',\n",
    "                            'trafico.totales.tablero05.fechaControl'],how='left')\n",
    "\n",
    "mintic_02.rename(columns={'trafico.tablero05.apGroup_x': 'trafico.tablero05.apGroup'}, inplace=True)\n",
    "    \n",
    "    #salida = helpers.bulk(es, doc_generator(mintic_02))\n",
    "        \n",
    "    #print(\"Fecha: \", now,\"- Datos Trafico Consumos en indice principal:\",salida[0])\n",
    "#except:\n",
    "    #print(\"Fecha: \", now,\"- No se insertaron datos de consumos en indice principal\")\n"
   ]
  },
  {
   "cell_type": "markdown",
   "metadata": {},
   "source": [
    "## En otra  jerarquía se escriben los dispositivos conectados"
   ]
  },
  {
   "cell_type": "markdown",
   "metadata": {},
   "source": [
    "Se toma el dataframe del proceso anterior para realizar el siguiente proceso:\n",
    "* Se cuentan la cantidad de dispositivos WAN/LAN (OUTDOOR/INDOOR), agrupando por fecha y sitio\n",
    "* Cantidad dispositivos WAN/LAN conectados se calcula validando cuando son OUTDOOR/INDOOR y tienen trafico(traficoOUT)\n",
    "* Cantidad de dispositivos desconectados, restando los dos anteriores\n",
    "\n",
    "Datos generados\n",
    "* trafico.totales.cantDevWAN\n",
    "* trafico.totales.cantDevLAN\n",
    "* trafico.totales.cantDevConectadosWAN\n",
    "* trafico.totales.cantDevDesconectadosWAN\n",
    "* trafico.totales.cantDevConectadosLAN\n",
    "* trafico.totales.cantDevDesconectadosLAN\n",
    "* trafico.totales.cantDev"
   ]
  },
  {
   "cell_type": "code",
   "execution_count": null,
   "metadata": {},
   "outputs": [],
   "source": [
    "try:\n",
    "    mintic_03 = mintic_02[['trafico.tablero05.nomCentroDigital',\n",
    "                      'trafico.tablero05.codISO',\n",
    "                      'trafico.tablero05.localidad',\n",
    "                      'trafico.tablero05.siteID',\n",
    "                      'trafico.tablero05.nombreDepartamento',\n",
    "                      'trafico.tablero05.sistemaEnergia',\n",
    "                      'trafico.tablero05.nombreMunicipio',\n",
    "                      'trafico.tablero05.idBeneficiario',\n",
    "                      'trafico.tablero05.location',\n",
    "                      'trafico.tablero05.apGroup',\n",
    "                      'trafico.tablero05.macRed',\n",
    "                      'trafico.totales.tablero05.fechaControl',\n",
    "                      'trafico.totales.tablero05.fecha',\n",
    "                      'trafico.totales.tablero05.anyo',\n",
    "                      'trafico.totales.tablero05.mes',\n",
    "                      'trafico.totales.tablero05.dia',\n",
    "                      'trafico.totales.tablero05.hora',\n",
    "                      'trafico.totales.tablero05.minuto',\n",
    "                      'trafico.totales.tablero05.traficoIN',\n",
    "                      'trafico.totales.tablero05.traficoOUT',\n",
    "                      'trafico.totales.tablero05.consumoGB',\n",
    "                      'trafico.totales.promedioIN',\n",
    "                      'trafico.totales.promedioOUT',\n",
    "                      'trafico.totales.promedioConsumo']].groupby(['trafico.tablero05.nomCentroDigital',\n",
    "                                                              'trafico.tablero05.codISO',\n",
    "                                                              'trafico.tablero05.localidad',\n",
    "                                                              'trafico.tablero05.siteID',\n",
    "                                                              'trafico.tablero05.nombreDepartamento',\n",
    "                                                              'trafico.tablero05.sistemaEnergia',\n",
    "                                                              'trafico.tablero05.nombreMunicipio',\n",
    "                                                              'trafico.tablero05.idBeneficiario',\n",
    "                                                              'trafico.tablero05.location',\n",
    "                                                              'trafico.tablero05.apGroup',\n",
    "                                                              'trafico.tablero05.macRed',\n",
    "                                                              'trafico.totales.tablero05.fechaControl',\n",
    "                                                              'trafico.totales.tablero05.fecha',\n",
    "                                                              'trafico.totales.tablero05.anyo',\n",
    "                                                              'trafico.totales.tablero05.mes',\n",
    "                                                              'trafico.totales.tablero05.dia',\n",
    "                                                              'trafico.totales.tablero05.hora',\n",
    "                                                              'trafico.totales.promedioIN',\n",
    "                                                              'trafico.totales.promedioOUT',\n",
    "                                                              'trafico.totales.promedioConsumo',\n",
    "                                                              'trafico.totales.tablero05.minuto']).agg(['sum']).reset_index()\n",
    "    mintic_03.columns = mintic_03.columns.droplevel(1)\n",
    "    mintic_03.rename(columns={'trafico.totales.tablero05.traficoIN' : 'trafico.totales.sitio.tablero05.traficoIN'\n",
    "                          ,'trafico.totales.tablero05.traficoOUT' : 'trafico.totales.sitio.tablero05.traficoOUT'\n",
    "                          ,'trafico.totales.tablero05.consumoGB' : 'trafico.totales.sitio.tablero05.consumoGB'\n",
    "                         }, inplace=True)\n",
    "except:\n",
    "    pass"
   ]
  },
  {
   "cell_type": "markdown",
   "metadata": {},
   "source": [
    "Funcion para insertar en indice la cantidad de dispositivos conectados \n",
    "* la lista use_these_keys se usa para referenciar cuales campos del dataframe irán al indice final. si los datos no se declaran en este, no se insertarán\n"
   ]
  },
  {
   "cell_type": "code",
   "execution_count": null,
   "metadata": {},
   "outputs": [],
   "source": [
    "use_these_keys = ['trafico.nomCentroDigital',\n",
    "                  'trafico.codISO',\n",
    "                  'trafico.localidad',\n",
    "                  'trafico.siteID',\n",
    "                  'trafico.nombreDepartamento',\n",
    "                  'trafico.sistemaEnergia',\n",
    "                  'trafico.nombreMunicipio',\n",
    "                  'trafico.idBeneficiario',\n",
    "                  'trafico.location',\n",
    "                  'trafico.apGroup',\n",
    "                  'trafico.totales.fechaControl',\n",
    "                  'trafico.totales.cantDevWAN',\n",
    "                  'trafico.totales.cantDevConectadosWAN',\n",
    "                  'trafico.totales.cantDevDesconectadosWAN',\n",
    "                  'trafico.totales.cantDevLAN',\n",
    "                  'trafico.totales.cantDevConectadosLAN',\n",
    "                  'trafico.totales.cantDevDesconectadosLAN',\n",
    "                  'trafico.totales.cantDev',\n",
    "                  'trafico.totales.cantDevConectados',\n",
    "                  'trafico.totales.cantDevDesconectados',\n",
    "                  'trafico.totales.fecha',\n",
    "                  'trafico.totales.anyo',\n",
    "                  'trafico.totales.mes',\n",
    "                  'trafico.totales.dia',\n",
    "                  'trafico.totales.hora',\n",
    "                  'trafico.totales.minuto',\n",
    "                  'trafico.totales.sitio.traficoIN',\n",
    "                  'trafico.totales.sitio.traficoOUT',\n",
    "                  'trafico.totales.sitio.consumoGB',\n",
    "                  'trafico.totales.promedioIN',\n",
    "                  'trafico.totales.promedioOUT',\n",
    "                  'trafico.totales.promedioConsumo',\n",
    "                  '@timestamp']\n",
    "\n",
    "def doc_generator_dis(df):\n",
    "    df_iter = df.iterrows()\n",
    "    for index, document in df_iter:\n",
    "        yield {\n",
    "                \"_index\": indice, \n",
    "                \"_id\": f\"{'Conectados-' + document['trafico.siteID'] + '-' +document['trafico.totales.fechaControl']+'-'+str(random.randrange(10000))}\",\n",
    "                \"_source\": filterKeys(document),\n",
    "            }"
   ]
  },
  {
   "cell_type": "markdown",
   "metadata": {},
   "source": [
    "# Insertando cantidad de dispositivos conectados"
   ]
  },
  {
   "cell_type": "code",
   "execution_count": null,
   "metadata": {},
   "outputs": [],
   "source": [
    "try:\n",
    "    cantDevWAN = mintic_02[(mintic_02['trafico.apGroup']=='OUTDOOR')][['trafico.totales.fechaControl','trafico.macRed','trafico.siteID']].groupby(['trafico.siteID','trafico.totales.fechaControl'])['trafico.macRed'].nunique().reset_index()    \n",
    "    cantDevWAN.rename(columns={'trafico.macRed': 'trafico.totales.cantDevWAN'}, inplace=True)\n",
    "    mintic_03 = pd.merge(mintic_03,  cantDevWAN, on=['trafico.siteID','trafico.totales.fechaControl'],how='left')\n",
    "\n",
    "    cantDevConectadosWAN = mintic_02[(mintic_02['trafico.totales.traficoOUT']>0) & (mintic_02['trafico.apGroup']=='OUTDOOR')][['trafico.totales.fechaControl','trafico.macRed','trafico.siteID']].groupby(['trafico.siteID','trafico.totales.fechaControl'])['trafico.macRed'].nunique().reset_index()\n",
    "    cantDevConectadosWAN.rename(columns={'trafico.macRed': 'trafico.totales.cantDevConectadosWAN'}, inplace=True)\n",
    "    mintic_03 = pd.merge(mintic_03, cantDevConectadosWAN, on=['trafico.siteID','trafico.totales.fechaControl'],how='left')\n",
    "    mintic_03.fillna({'trafico.totales.cantDevWAN':0,\n",
    "                      'trafico.totales.cantDevConectadosWAN':0\n",
    "                      },inplace=True)\n",
    "    mintic_03['trafico.totales.cantDevDesconectadosWAN'] = mintic_03['trafico.totales.cantDevWAN'] - mintic_03['trafico.totales.cantDevConectadosWAN']\n",
    "\n",
    "    #La misma lógica se aplica para calcular las cantidades para dispositivos LAN, pero filtrando los INDOOR\n",
    "    cantDevLAN = mintic_02[(mintic_02['trafico.apGroup']=='INDOOR')][['trafico.totales.fechaControl','trafico.macRed','trafico.siteID']].groupby(['trafico.siteID','trafico.totales.fechaControl'])['trafico.macRed'].nunique().reset_index()\n",
    "    cantDevLAN.rename(columns={'trafico.macRed': 'trafico.totales.cantDevLAN'}, inplace=True)\n",
    "    mintic_03 = pd.merge(mintic_03,  cantDevLAN, on=['trafico.siteID','trafico.totales.fechaControl'],how='left')\n",
    "\n",
    "    cantDevConectadosLAN = mintic_02[~(mintic_02['trafico.totales.traficoIN']>0) & (mintic_02['trafico.apGroup']=='INDOOR')][['trafico.totales.fechaControl','trafico.macRed','trafico.siteID']].groupby(['trafico.siteID','trafico.totales.fechaControl'])['trafico.macRed'].nunique().reset_index()\n",
    "    cantDevConectadosLAN.rename(columns={'trafico.macRed': 'trafico.totales.cantDevConectadosLAN'}, inplace=True)\n",
    "\n",
    "    mintic_03 = pd.merge(mintic_03, cantDevConectadosLAN, on=['trafico.siteID','trafico.totales.fechaControl'],how='left')\n",
    "    mintic_03.fillna({'trafico.totales.cantDevLAN':0,\n",
    "                      'trafico.totales.cantDevConectadosLAN':0\n",
    "                      },inplace=True)\n",
    "    mintic_03['trafico.totales.cantDevDesconectadosLAN'] = mintic_03['trafico.totales.cantDevLAN'] - mintic_03['trafico.totales.cantDevConectadosLAN']\n",
    "\n",
    "    mintic_03.fillna({'trafico.totales.cantDevConectadosWAN':0,\n",
    "                      'trafico.totales.cantDevDesconectadosWAN':0,\n",
    "                      'trafico.totales.cantDevConectadosLAN':0,\n",
    "                      'trafico.totales.cantDevDesconectadosLAN':0,\n",
    "                      'trafico.totales.sitio.traficoIN':0,\n",
    "                      'trafico.totales.sitio.traficoOUT':0,\n",
    "                      'trafico.totales.sitio.consumoGB':0\n",
    "                      },inplace=True)\n",
    "    mintic_03['trafico.totales.cantDev'] = mintic_03['trafico.totales.cantDevLAN'] + mintic_03['trafico.totales.cantDevWAN']\n",
    "    mintic_03[['trafico.totales.cantDev','trafico.totales.cantDevConectadosWAN','trafico.totales.cantDevDesconectadosWAN','trafico.totales.cantDevConectadosLAN','trafico.totales.cantDevDesconectadosLAN']] = mintic_03[['trafico.totales.cantDev','trafico.totales.cantDevConectadosWAN','trafico.totales.cantDevDesconectadosWAN','trafico.totales.cantDevConectadosLAN','trafico.totales.cantDevDesconectadosLAN']].astype(int)\n",
    "\n",
    "    mintic_03['trafico.totales.cantDevConectados'] = mintic_03['trafico.totales.cantDevConectadosWAN'] + mintic_03['trafico.totales.cantDevConectadosLAN']\n",
    "    mintic_03['trafico.totales.cantDevDesconectados'] = mintic_03['trafico.totales.cantDevDesconectadosLAN'] + mintic_03['trafico.totales.cantDevDesconectadosWAN']\n",
    "    mintic_03[['trafico.totales.cantDevConectados'\n",
    "              ,'trafico.totales.cantDevDesconectados'\n",
    "              ,'trafico.totales.cantDevWAN'\n",
    "              ,'trafico.totales.cantDevLAN']] = mintic_03[['trafico.totales.cantDevConectados'\n",
    "                                                          ,'trafico.totales.cantDevDesconectados'\n",
    "                                                          ,'trafico.totales.cantDevWAN'\n",
    "                                                          ,'trafico.totales.cantDevLAN']].astype(int)    \n",
    "    mintic_03['@timestamp'] = now.isoformat()\n",
    "    \n",
    "    \n",
    "    salida = helpers.bulk(es, doc_generator_dis(mintic_03))\n",
    "    \n",
    "    print(\"Fecha: \", now,\"- Datos Dispositivos Conectados en indice principal:\",salida[0])\n",
    "except:\n",
    "    print(\"Fecha: \", now,\"- No se insertaron datos de dispositivos conectados en indice principal\")"
   ]
  },
  {
   "cell_type": "code",
   "execution_count": null,
   "metadata": {},
   "outputs": [],
   "source": [
    "mintic_03.dtypes"
   ]
  },
  {
   "cell_type": "markdown",
   "metadata": {},
   "source": [
    "### Guardando fecha para control de ejecución"
   ]
  },
  {
   "cell_type": "markdown",
   "metadata": {},
   "source": [
    "* Se actualiza la fecha de control. Si el calculo supera la fecha hora actual, se asocia esta ultima."
   ]
  },
  {
   "cell_type": "code",
   "execution_count": null,
   "metadata": {},
   "outputs": [],
   "source": [
    "fecha_ejecucion = (datetime.strptime(fecha_max_mintic, '%Y-%m-%d %H:%M:%S')+timedelta(minutes=50)).strftime(\"%Y-%m-%d %H:%M:%S\")[0:15] + '0:00'    \n",
    "\n",
    "if fecha_ejecucion > str(now.strftime('%Y-%m-%d %H:%M:%S'))[0:15] + '0:00':\n",
    "    fecha_ejecucion = str(now.strftime('%Y-%m-%d %H:%M:%S'))[0:15] + '0:00'\n",
    "response = es.index(\n",
    "        index = indice_control,\n",
    "        id = 'jerarquia-tablero05',\n",
    "        body = { 'jerarquia-tablero05': 'jerarquia-tablero05','tablero05.fechaControl' : fecha_ejecucion}\n",
    ")\n",
    "print(\"actualizada fecha control de ejecucion:\",fecha_ejecucion)"
   ]
  },
  {
   "cell_type": "code",
   "execution_count": null,
   "metadata": {},
   "outputs": [],
   "source": []
  }
 ],
 "metadata": {
  "kernelspec": {
   "display_name": "Python 3",
   "language": "python",
   "name": "python3"
  },
  "language_info": {
   "codemirror_mode": {
    "name": "ipython",
    "version": 3
   },
   "file_extension": ".py",
   "mimetype": "text/x-python",
   "name": "python",
   "nbconvert_exporter": "python",
   "pygments_lexer": "ipython3",
   "version": "3.8.5"
  }
 },
 "nbformat": 4,
 "nbformat_minor": 4
}
