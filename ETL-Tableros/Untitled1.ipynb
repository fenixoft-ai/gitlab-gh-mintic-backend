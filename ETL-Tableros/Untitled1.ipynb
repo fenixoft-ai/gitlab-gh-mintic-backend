{
 "cells": [
  {
   "cell_type": "code",
   "execution_count": 2,
   "metadata": {},
   "outputs": [],
   "source": [
    "import cx_Oracle\n",
    "from elasticsearch import Elasticsearch\n",
    "from elasticsearch import helpers\n",
    "import pandas as pd\n",
    "import numpy as np\n",
    "import json\n",
    "from ssl import create_default_context\n",
    "from datetime import datetime\n",
    "from datetime import timedelta\n",
    "#para request\n",
    "import requests\n",
    "from getpass import getpass\n",
    "import parametros\n",
    "import time\n",
    "import re"
   ]
  },
  {
   "cell_type": "code",
   "execution_count": 10,
   "metadata": {},
   "outputs": [
    {
     "name": "stdout",
     "output_type": "stream",
     "text": [
      "(0,)\n",
      "(39,)\n",
      "(20,)\n",
      "(0,)\n",
      "(0,)\n"
     ]
    }
   ],
   "source": [
    "def OutputTypeHandler(cursor, name, defaultType, size, precision, scale):\n",
    "    if defaultType == cx_Oracle.CLOB:\n",
    "        return cursor.var(cx_Oracle.LONG_STRING, arraysize=cursor.arraysize)\n",
    "    if defaultType == cx_Oracle.BLOB:\n",
    "        return cursor.var(cx_Oracle.LONG_BINARY, arraysize=cursor.arraysize)\n",
    "    \n",
    "dsn_tns = cx_Oracle.makedsn('172.22.108.86', '1950', service_name='DWHPDB') # if needed, place an 'r' before any parameter in order to address special characters such as '\\'.\n",
    "conn = cx_Oracle.connect(user=r'MINTICREPO', password='M1nt1Cr3po0rt3s', dsn=dsn_tns) # if needed, place an 'r' before any parameter in order to address special characters such as '\\'. For example, if your user name contains '\\', you'll need to place 'r' before the user name: user=r'User Name'\n",
    "conn.outputtypehandler = OutputTypeHandler\n",
    "\n",
    "c = conn.cursor()\n",
    "\n",
    "fecha_max='2021-09-16 15:26:17'\n",
    "c.execute(\"select count(*) FROM USRODI.SM_INCIDENTES_MINTIC where clr_bmc_location = 'bmcintegrationsm' and sysmodtime > TO_DATE( '\"+ fecha_max +\"', 'YYYY-MM-DD HH24:MI:SS')\")\n",
    "for row in c:\n",
    "   print(row)\n",
    "\n",
    "#c.execute(\"SELECT count(*) FROM USRODI.SM_INTERACCIONES INTE INNER JOIN USRODI.SM_INCIDENTES_MINTIC INCI ON INTE.incident_id = INCI.incident_id where INTE.clr_txt_assignment = 'EYN - NOCMINTIC' and INTE.opened_by= 'smservicedeskplus' and INCI.sysmodtime > TO_DATE( '\"+ fecha_max +\"', 'YYYY-MM-DD HH24:MI:SS')\")\n",
    "c.execute(\"SELECT count(*) FROM USRODI.SM_INTERACCIONES INTE INNER JOIN USRODI.SM_INCIDENTES_MINTIC INCI ON INTE.incident_id = INCI.incident_id where INTE.clr_txt_assignment = 'EYN - NOCMINTIC' and INTE.opened_by= 'smservicedeskplus'\")\n",
    "for row in c:\n",
    "   print(row)\n",
    "\n",
    "c.execute(\"SELECT count(*) FROM USRODI.SM_INCIDENTES_MINTIC INCI where inci.assignment = 'EYN - NOCMINTIC' and (inci.contact_service IS NULL or inci.contact_service NOT LIKE  'smservicedeskplus') and inci.opened_by NOT LIKE 'bmcintegrationsm' and INCI.sysmodtime > TO_DATE( '\"+ fecha_max +\"', 'YYYY-MM-DD HH24:MI:SS')\")\n",
    "#c.execute(\"SELECT count(*) FROM USRODI.SM_INCIDENTES_MINTIC INCI where inci.assignment = 'EYN - NOCMINTIC' and inci.contact_service IS NULL or inci.contact_service NOT LIKE  'smservicedeskplus' and inci.opened_by NOT LIKE 'bmcintegrationsm'\")\n",
    "for row in c:\n",
    "   print(row)\n",
    "\n",
    "c.execute(\"SELECT count(*) FROM USRODI.SM_INTERACCIONES INTE INNER JOIN USRODI.SM_INCIDENTES_MINTIC INCI ON INTE.incident_id = INCI.incident_id where INTE.clr_txt_assignment = 'EYN - NOCMINTIC' and INTE.opened_by NOT LIKE  'smservicedeskplus%' and INCI.sysmodtime > TO_DATE( '\"+ fecha_max +\"', 'YYYY-MM-DD HH24:MI:SS')\")\n",
    "for row in c:\n",
    "   print(row)\n",
    "\n",
    "c.execute(\"SELECT count(*) FROM USRODI.SM_INTERACCIONES INTE LEFT JOIN USRODI.SM_INCIDENTES_MINTIC INCI ON INTE.incident_id = INCI.incident_id where INCI.incident_id IS NULL AND INTE.clr_txt_assignment = 'EYN - NOCMINTIC' and INTE.opened_by NOT LIKE 'smservicedeskplus%' and INTE.sysmodtime > TO_DATE( '\"+ fecha_max +\"', 'YYYY-MM-DD HH24:MI:SS')\")\n",
    "for row in c:\n",
    "   print(row)\n"
   ]
  },
  {
   "cell_type": "code",
   "execution_count": null,
   "metadata": {},
   "outputs": [],
   "source": []
  },
  {
   "cell_type": "code",
   "execution_count": null,
   "metadata": {},
   "outputs": [],
   "source": []
  }
 ],
 "metadata": {
  "kernelspec": {
   "display_name": "Python 3",
   "language": "python",
   "name": "python3"
  },
  "language_info": {
   "codemirror_mode": {
    "name": "ipython",
    "version": 3
   },
   "file_extension": ".py",
   "mimetype": "text/x-python",
   "name": "python",
   "nbconvert_exporter": "python",
   "pygments_lexer": "ipython3",
   "version": "3.8.5"
  }
 },
 "nbformat": 4,
 "nbformat_minor": 4
}
