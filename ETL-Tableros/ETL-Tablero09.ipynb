{
 "cells": [
  {
   "cell_type": "code",
   "execution_count": 1,
   "metadata": {},
   "outputs": [],
   "source": [
    "from elasticsearch import Elasticsearch, helpers\n",
    "from ssl import create_default_context\n",
    "import pandas as pd\n",
    "import numpy as np\n",
    "from datetime import datetime, timedelta\n",
    "import parametros\n",
    "import random\n",
    "import re\n",
    "import time"
   ]
  },
  {
   "cell_type": "markdown",
   "metadata": {},
   "source": [
    "### ¿Qué hace este script?\n",
    "\n",
    "#### Para cada AP:\n",
    "* usuarios.usuariosConectados(corresponde al total de conexiones), usuarios.sesiones_Usuarios (Corresponde al total de usuarios)\n",
    "* Información detallada de los dispositivos conectados en el rango de fecha procesado: usuarios.dispositivo.mac, usuarios.dispositivo.tipo, usuarios.dispositivo.marca, usuarios.dispositivo.tecnologia, usuarios.dispositivo.sisOperativo.\n",
    "\n",
    "#### Para cada sitio: \n",
    "* Totales por características de dispositivos: usuarios.sistemaOperativoUsuarios, usuarios.tipoDispositivoUsuarios, usuarios.marcaTerminal, usuarios.tecnologiaTerminal, usuarios.totales.dispositivos (Este ultimo guarda el total)\n",
    "* usuarios.usoServicioInternetSitio es la suma en Gb consumido discriminado por usuarios.detallesTecnologiasTerminales (Bandas 2.4 o 5 GHz)\n",
    "* usuarios.conteoDispositivos el cual indica el total de dispositivos conectados (Es lo mismo que total de conexiones)\n",
    "* usuarios.usuariosNuevos (Esta tenía antes Nuevos y Recurrentes, pero ahora solo tiene Nuevos por solicitud de BI)\n",
    "* usuarios.totales.usuariosNuevos, tiene el total de usuarios nuevos (el script por el momento solo totaliza nuevos siempre y cuando no se corra historicos)"
   ]
  },
  {
   "cell_type": "markdown",
   "metadata": {},
   "source": [
    "## Conectando a ElasticSearch"
   ]
  },
  {
   "cell_type": "markdown",
   "metadata": {},
   "source": [
    "La ultima línea se utiliza para garantizar la ejecución de la consulta\n",
    "* timeout es el tiempo para cada ejecución\n",
    "* max_retries el número de intentos si la conexión falla\n",
    "* retry_on_timeout para activar los reitentos"
   ]
  },
  {
   "cell_type": "code",
   "execution_count": 2,
   "metadata": {},
   "outputs": [],
   "source": [
    "context = create_default_context(cafile=parametros.cafile)\n",
    "es = Elasticsearch(\n",
    "    parametros.servidor,\n",
    "    http_auth=(parametros.usuario_EC, parametros.password_EC),\n",
    "    scheme=\"https\",\n",
    "    port=parametros.puerto,\n",
    "    ssl_context=context,\n",
    "    timeout=60, max_retries=3, retry_on_timeout=True\n",
    ")"
   ]
  },
  {
   "cell_type": "markdown",
   "metadata": {},
   "source": [
    "### Calculando fechas para la ejecución"
   ]
  },
  {
   "cell_type": "markdown",
   "metadata": {},
   "source": [
    "* Se calculan las fechas para asociar al nombre del indice\n",
    "* fecha_hoy es usada para concatenar al nombre del indice principal previa inserción"
   ]
  },
  {
   "cell_type": "code",
   "execution_count": 3,
   "metadata": {},
   "outputs": [],
   "source": [
    "now = datetime.now()\n",
    "fecha_hoy = str(now.strftime(\"%Y.%m.%d\"))"
   ]
  },
  {
   "cell_type": "markdown",
   "metadata": {},
   "source": [
    "### nombre de indice donde se insertará"
   ]
  },
  {
   "cell_type": "code",
   "execution_count": 4,
   "metadata": {},
   "outputs": [],
   "source": [
    "indice = parametros.usuarios_tablero09_index \n",
    "indice_control = parametros.tableros_mintic_control"
   ]
  },
  {
   "cell_type": "markdown",
   "metadata": {},
   "source": [
    "### Funcion para construir JSON compatible con ElasticSearch"
   ]
  },
  {
   "cell_type": "code",
   "execution_count": 5,
   "metadata": {},
   "outputs": [],
   "source": [
    "def filterKeys(document, use_these_keys):\n",
    "    return {key: document.get(key) for key in use_these_keys }"
   ]
  },
  {
   "cell_type": "markdown",
   "metadata": {},
   "source": [
    "### Trae la ultima fecha para control de ejecución"
   ]
  },
  {
   "cell_type": "markdown",
   "metadata": {},
   "source": [
    "Cuando en el rango de tiempo de la ejecución, no se insertan nuevos valores, las fecha maxima en indice mintic no aumenta, por tanto se usa esta fecha de control para garantizar que incremente el bucle de ejecución"
   ]
  },
  {
   "cell_type": "code",
   "execution_count": 6,
   "metadata": {},
   "outputs": [
    {
     "name": "stdout",
     "output_type": "stream",
     "text": [
      "ultima fecha para control de ejecucion: 2021-06-04 12:10:00\n"
     ]
    }
   ],
   "source": [
    "total_docs = 1\n",
    "try:\n",
    "    response = es.search(\n",
    "        index= indice_control,\n",
    "        body={\n",
    "           \"_source\": [\"tablero09.fechaControl\"],\n",
    "              \"query\": {\n",
    "                \"bool\": {\n",
    "                  \"filter\": [\n",
    "                  {\n",
    "                    \"exists\": {\n",
    "                      \"field\":\"jerarquia-tablero09\"\n",
    "                    }\n",
    "                  }\n",
    "              ]\n",
    "            }\n",
    "          }\n",
    "        },\n",
    "        size=total_docs\n",
    "    )\n",
    "    #print(es.info())\n",
    "    elastic_docs = response[\"hits\"][\"hits\"]\n",
    "    fields = {}\n",
    "    for num, doc in enumerate(elastic_docs):\n",
    "        fecha_ejecucion = doc[\"_source\"]['tablero09.fechaControl']\n",
    "except Exception as e:\n",
    "    print(e)\n",
    "    response[\"hits\"][\"hits\"] = []\n",
    "if response[\"hits\"][\"hits\"] == []:\n",
    "    fecha_ejecucion = '2021-05-14 00:00:00'\n",
    "print(\"ultima fecha para control de ejecucion:\",fecha_ejecucion)"
   ]
  },
  {
   "cell_type": "markdown",
   "metadata": {},
   "source": [
    "### leyendo indice semilla-inventario"
   ]
  },
  {
   "cell_type": "markdown",
   "metadata": {},
   "source": [
    "En el script que ingesta semilla, trae la información de los centros de conexión administrados. Para el indice principal se requiere:\n",
    "* site_id como llave del centro de conexión.\n",
    "* Datos geográficos (Departamento, municipio, centro poblado, sede, energía, latitud, longitud,COD_ISO, id_Beneficiario)."
   ]
  },
  {
   "cell_type": "code",
   "execution_count": 7,
   "metadata": {},
   "outputs": [],
   "source": [
    "t1=time.time()\n",
    "total_docs = 10000\n",
    "try:\n",
    "    response = es.search(\n",
    "        index= parametros.semilla_inventario_index,\n",
    "        body={\n",
    "               \"_source\": ['site_id','nombre_municipio', 'nombre_departamento', 'nombre_centro_pob', 'nombreSede' \n",
    "                           , 'energiadesc', 'latitud', 'longitud', 'COD_ISO','id_Beneficiario']\n",
    "        },\n",
    "        size=total_docs\n",
    "    )\n",
    "    #print(es.info())\n",
    "    elastic_docs = response[\"hits\"][\"hits\"]\n",
    "#     fields = {}\n",
    "#     for num, doc in enumerate(elastic_docs):\n",
    "#         source_data = doc[\"_source\"]\n",
    "#         for key, val in source_data.items():\n",
    "#             try:\n",
    "#                 fields[key] = np.append(fields[key], val)\n",
    "#             except KeyError:\n",
    "#                 fields[key] = np.array([val])\n",
    "\n",
    "#     datos_semilla = pd.DataFrame(dict([ (k,pd.Series(v)) for k,v in fields.items() ])) #pd.DataFrame(fields)\n",
    "    \n",
    "    datos_semilla = pd.DataFrame([x[\"_source\"] for x in elastic_docs])\n",
    "    \n",
    "except:\n",
    "    exit()\n",
    "    \n",
    "t2=time.time()"
   ]
  },
  {
   "cell_type": "markdown",
   "metadata": {},
   "source": [
    "Se eliminan espacios en blanco"
   ]
  },
  {
   "cell_type": "code",
   "execution_count": 8,
   "metadata": {},
   "outputs": [],
   "source": [
    "datos_semilla['site_id'] = datos_semilla['site_id'].str.strip()"
   ]
  },
  {
   "cell_type": "markdown",
   "metadata": {},
   "source": [
    "### Cambiando nombre de campos y generando location"
   ]
  },
  {
   "cell_type": "markdown",
   "metadata": {},
   "source": [
    "* Se valida latitud y longitud. Luego se calcula campo location\n",
    "* Se renombran los campos de semilla"
   ]
  },
  {
   "cell_type": "code",
   "execution_count": 9,
   "metadata": {},
   "outputs": [],
   "source": [
    "def get_location(x,y='lat'):\n",
    "    patron = re.compile('^(\\-?\\d+(\\.\\d+)?),\\s*(\\-?\\d+(\\.\\d+)?)$') #patrón que debe cumplir\n",
    "    if (not patron.match(x) is None) and (str(x)!=''):\n",
    "        return x.replace(',','.')\n",
    "    else:\n",
    "        #Código a ejecutar si las coordenadas no son válidas\n",
    "        return '4.596389' if y=='lat' else '-74.074639'\n",
    "    \n",
    "datos_semilla['latitud'] = datos_semilla['latitud'].apply(lambda x:get_location(x,'lat'))\n",
    "datos_semilla['longitud'] = datos_semilla['longitud'].apply(lambda x:get_location(x,'lon'))\n",
    "# datos_semilla['latitud'] = datos_semilla['latitud'].apply(get_location)\n",
    "# datos_semilla['longitud'] = datos_semilla['longitud'].apply(get_location)\n",
    "datos_semilla = datos_semilla.drop(datos_semilla[(datos_semilla[\"longitud\"]=='a') | (datos_semilla[\"latitud\"]=='a')].index)\n",
    "datos_semilla['usuarios.location'] = datos_semilla['latitud'] + ',' + datos_semilla['longitud']\n",
    "datos_semilla['usuarios.location']=datos_semilla['usuarios.location'].str.replace('a,a','')\n",
    "datos_semilla.drop(columns=['latitud','longitud'],inplace=True)"
   ]
  },
  {
   "cell_type": "code",
   "execution_count": 10,
   "metadata": {},
   "outputs": [],
   "source": [
    "datos_semilla = datos_semilla.rename(columns={'lugar_cod' : 'usuarios.centroDigitalUsuarios'\n",
    "                                            , 'nombre_municipio': 'usuarios.nombreMunicipio'\n",
    "                                            , 'nombre_departamento' : 'usuarios.nombreDepartamento'\n",
    "                                            , 'nombre_centro_pob': 'usuarios.localidad'\n",
    "                                            , 'nombreSede' : 'usuarios.nomCentroDigital'\n",
    "                                            , 'energiadesc' : 'usuarios.sistemaEnergia'\n",
    "                                            , 'COD_ISO' : 'usuarios.codISO'\n",
    "                                            , 'id_Beneficiario' : 'usuarios.idBeneficiario'})"
   ]
  },
  {
   "cell_type": "markdown",
   "metadata": {},
   "source": [
    "Se descartan los registros que tengan la latitud y longitud vacía o no valida"
   ]
  },
  {
   "cell_type": "code",
   "execution_count": 11,
   "metadata": {},
   "outputs": [],
   "source": [
    "datos_semilla = datos_semilla.drop(datos_semilla[(datos_semilla[\"usuarios.location\"]=='')].index)"
   ]
  },
  {
   "cell_type": "markdown",
   "metadata": {},
   "source": [
    "### leyendo indice cambium-devicedevices"
   ]
  },
  {
   "cell_type": "markdown",
   "metadata": {},
   "source": [
    "De esta formas se asocia las MAC de dispositivos de red INDOOR y OUTDOOR\n",
    "* site_id para cruzar con las misma llave de semilla.\n",
    "* datos del dispositivo: mac, status, ip.\n",
    "* ap_group para identificar si la conexión es indoor/outdoor"
   ]
  },
  {
   "cell_type": "code",
   "execution_count": 12,
   "metadata": {},
   "outputs": [],
   "source": [
    "t1=time.time()\n",
    "total_docs = 30000\n",
    "try:\n",
    "    response = es.search(\n",
    "        index= parametros.cambium_d_d_index,\n",
    "        body={\n",
    "                    \"_source\": [\"site_id\",\"mac\",\"status\",\"ip\",\"ap_group\"]\n",
    "                  , \"query\": {\n",
    "                    \"match_all\": {}\n",
    "                  }\n",
    "        },\n",
    "        size=total_docs\n",
    "    )\n",
    "    #print(es.info())\n",
    "    elastic_docs = response[\"hits\"][\"hits\"]\n",
    "#     fields = {}\n",
    "#     for num, doc in enumerate(elastic_docs):\n",
    "#         source_data = doc[\"_source\"]\n",
    "#         for key, val in source_data.items():\n",
    "#             try:\n",
    "#                 fields[key] = np.append(fields[key], val)\n",
    "#             except KeyError:\n",
    "#                 fields[key] = np.array([val])\n",
    "\n",
    "#     datos_dev = pd.DataFrame(dict([ (k,pd.Series(v)) for k,v in fields.items() ])) #pd.DataFrame(fields)\n",
    "    \n",
    "    datos_dev = pd.DataFrame([x[\"_source\"] for x in elastic_docs])\n",
    "    \n",
    "    \n",
    "except:\n",
    "    exit()\n",
    "    \n",
    "t2=time.time()"
   ]
  },
  {
   "cell_type": "code",
   "execution_count": 13,
   "metadata": {},
   "outputs": [],
   "source": [
    "datos_dev['site_id'] = datos_dev['site_id'].str.strip()"
   ]
  },
  {
   "cell_type": "markdown",
   "metadata": {},
   "source": [
    "Se descartan registros con site_id vacios ya que no cruzarán en el merge y se limpian los NaN del dataframe."
   ]
  },
  {
   "cell_type": "code",
   "execution_count": 14,
   "metadata": {},
   "outputs": [],
   "source": [
    "datos_dev.dropna(subset=['site_id'], inplace=True)\n",
    "datos_dev.fillna('', inplace=True)\n",
    "datos_dev = datos_dev.drop(datos_dev[(datos_dev['site_id']=='')].index)"
   ]
  },
  {
   "cell_type": "code",
   "execution_count": 15,
   "metadata": {},
   "outputs": [],
   "source": [
    "datos_dev['ap_group'] = datos_dev['ap_group'].str.split(\"-\", n = 1, expand = True)[0]\n",
    "datos_dev['ap_group'] = datos_dev['ap_group'].str.split(\"_\", n = 1, expand = True)[0]\n",
    "datos_dev['ap_group'] = datos_dev['ap_group'].str.split(\".\", n = 1, expand = True)[0]\n",
    "datos_dev = datos_dev.drop(datos_dev[(datos_dev['ap_group']=='')].index)"
   ]
  },
  {
   "cell_type": "markdown",
   "metadata": {},
   "source": [
    "Se toman solo los datos unicos con mac."
   ]
  },
  {
   "cell_type": "code",
   "execution_count": 16,
   "metadata": {},
   "outputs": [],
   "source": [
    "#datos_dev.drop_duplicates(subset=['site_id','mac'],inplace=True)\n",
    "datos_dev = datos_dev.drop_duplicates('mac')"
   ]
  },
  {
   "cell_type": "markdown",
   "metadata": {},
   "source": [
    "Se cambia el nombre a la mac del dispositivo de red para no confundir con la de dispositivos de usuario "
   ]
  },
  {
   "cell_type": "code",
   "execution_count": 17,
   "metadata": {},
   "outputs": [],
   "source": [
    "datos_dev= datos_dev.rename(columns={'mac' : 'usuarios.macRed','ap_group' : 'usuarios.apGroup'})"
   ]
  },
  {
   "cell_type": "markdown",
   "metadata": {},
   "source": [
    "## Lectura de datos ohmyfi-detalleconexiones"
   ]
  },
  {
   "cell_type": "markdown",
   "metadata": {},
   "source": [
    "Los datos que se toman son:\n",
    "* fechahora (de cada conexión). fecha_control es lo mismo pero con el intervalo de 10 minutos\n",
    "* Información del centro: lugar, lugar_cod.\n",
    "* Información del dispositivo de usuario: mac_usuario, dispositivo, sistema_operativo.\n",
    "* Información de usuario: tipodoc y documento"
   ]
  },
  {
   "cell_type": "code",
   "execution_count": 18,
   "metadata": {},
   "outputs": [],
   "source": [
    "def trae_conexiones(fecha_ini,fecha_fin):\n",
    "    total_docs = 5000000\n",
    "    response = es.search(\n",
    "        index= parametros.ohmyfi_d_c_index,\n",
    "        body={\n",
    "                \"_source\": [\"fechahora\",\"fecha_control\",\"lugar\",\"lugar_cod\",\"mac_usuario\", \"dispositivo\"\n",
    "                            ,\"sistema_operativo\",'tipodoc','documento']\n",
    "                , \"query\": {\n",
    "                  \"range\": {\n",
    "                    \"fechahora\": {\n",
    "                      \"gte\": fecha_ini,\n",
    "                      \"lt\": fecha_fin\n",
    "                    }\n",
    "                  }\n",
    "              }\n",
    "        },\n",
    "        size=total_docs\n",
    "    )\n",
    "    elastic_docs = response[\"hits\"][\"hits\"]\n",
    "#     fields = {}\n",
    "#     for num, doc in enumerate(elastic_docs):\n",
    "#         source_data = doc[\"_source\"]\n",
    "#         for key, val in source_data.items():\n",
    "#             try:\n",
    "#                 fields[key] = np.append(fields[key], val)\n",
    "#             except KeyError:\n",
    "#                 fields[key] = np.array([val])\n",
    "\n",
    "#     return pd.DataFrame(dict([ (k,pd.Series(v)) for k,v in fields.items() ])) \n",
    "\n",
    "    return pd.DataFrame([x[\"_source\"] for x in elastic_docs])"
   ]
  },
  {
   "cell_type": "markdown",
   "metadata": {},
   "source": [
    "### Lanzando ejecución de consulta"
   ]
  },
  {
   "cell_type": "markdown",
   "metadata": {},
   "source": [
    "* Se calcula rango en base a la fecha de control. Para este caso es de 10 minutos.\n",
    "* Se ejecuta la función de consulta con el rango de fechas.\n",
    "* Si no retorna datos se incrementa el rango y se ejecuta nuevamente. Este proceso se repite hasta conseguir datos o hasta que el rango de ejecución alcance la fecha y hora actual.\n"
   ]
  },
  {
   "cell_type": "code",
   "execution_count": 19,
   "metadata": {},
   "outputs": [],
   "source": [
    "fecha_max_mintic = fecha_ejecucion\n",
    "fecha_tope_mintic = (datetime.strptime(fecha_max_mintic, \"%Y-%m-%d %H:%M:%S\")+timedelta(minutes=50)-timedelta(seconds=1)).strftime(\"%Y-%m-%d %H:%M:%S\")\n",
    "datos_det_conex = trae_conexiones(fecha_max_mintic,fecha_tope_mintic)\n",
    "\n",
    "if datos_det_conex is None or datos_det_conex.empty:\n",
    "    while (datos_det_conex is None or datos_det_conex.empty) and ((datetime.strptime(fecha_max_mintic[0:10], '%Y-%m-%d').strftime(\"%Y-%m-%d %H:%M:%S\")) < str(now.strftime(\"%Y-%m-%d %H:%M:%S\"))):\n",
    "        fecha_max_mintic = (datetime.strptime(fecha_max_mintic, \"%Y-%m-%d %H:%M:%S\")+timedelta(minutes=50)).strftime(\"%Y-%m-%d %H:%M:%S\")\n",
    "        fecha_tope_mintic = (datetime.strptime(fecha_tope_mintic, \"%Y-%m-%d %H:%M:%S\")+timedelta(minutes=50)).strftime(\"%Y-%m-%d %H:%M:%S\")\n",
    "        datos_det_conex = trae_conexiones(fecha_max_mintic,fecha_tope_mintic)\n",
    "else:\n",
    "    pass\n",
    "                                                                                                             "
   ]
  },
  {
   "cell_type": "code",
   "execution_count": 20,
   "metadata": {},
   "outputs": [],
   "source": [
    "datos_det_conex['fecha'] = datos_det_conex['fecha_control'].str.split(\" \", n = 1, expand = True)[0]\n",
    "datos_det_conex.drop_duplicates(subset=[\"fecha_control\",\"lugar\",\"lugar_cod\",\"mac_usuario\", \"dispositivo\",\"sistema_operativo\",'tipodoc','documento'],inplace=True)"
   ]
  },
  {
   "cell_type": "code",
   "execution_count": 21,
   "metadata": {},
   "outputs": [],
   "source": [
    "datos_det_conex = datos_det_conex.rename(columns={'lugar_cod' : 'site_id'\n",
    "                                                   ,'fechahora':'usuarios.fechaConexionUsuarios'\n",
    "                                                   ,'dispositivo': 'usuarios.tipoDispositivoUsuarios'\n",
    "                                                   , 'sistema_operativo': 'usuarios.sistemaOperativoUsuarios'})"
   ]
  },
  {
   "cell_type": "markdown",
   "metadata": {},
   "source": [
    "### Se lee información de Ohmyfi consumos"
   ]
  },
  {
   "cell_type": "markdown",
   "metadata": {},
   "source": [
    "Apartir de esta lectura se toma el valor del tiempo promedio de sesión en minutos. Se toma de referencia los campos:\n",
    "* fecha_inicio a partir de la cual se calcula fecha control\n",
    "* tiempo_sesion_minutos\n",
    "* mac_ap\n",
    "* mac_usuario \n",
    "* lugar_cod"
   ]
  },
  {
   "cell_type": "code",
   "execution_count": 22,
   "metadata": {},
   "outputs": [],
   "source": [
    "def traeSesiones(fecha_max,fecha_tope):\n",
    "    total_docs = 500000\n",
    "    response = es.search(\n",
    "        index= parametros.ohmyfi_consumos_index,\n",
    "        body={\n",
    "                  \"_source\": [\"lugar_cod\", \"tiempo_sesion_minutos\",\"mac_ap\",\"mac_usuario\",\"fecha_inicio\"]\n",
    "                , \"query\": {\n",
    "                      \"range\": {\n",
    "                            \"fecha_inicio\": {\n",
    "                            \"gte\": fecha_max,\n",
    "                            \"lt\": fecha_tope\n",
    "                            }\n",
    "                        }\n",
    "                  }\n",
    "        },\n",
    "        size=total_docs\n",
    "    )\n",
    "    elastic_docs = response[\"hits\"][\"hits\"]\n",
    "#     fields = {}\n",
    "#     for num, doc in enumerate(elastic_docs):\n",
    "#         source_data = doc[\"_source\"]\n",
    "#         for key, val in source_data.items():\n",
    "#             try:\n",
    "#                 fields[key] = np.append(fields[key], val)\n",
    "#             except KeyError:\n",
    "#                 fields[key] = np.array([val])\n",
    "\n",
    "#     return pd.DataFrame(dict([ (k,pd.Series(v)) for k,v in fields.items() ])) \n",
    "\n",
    "    return pd.DataFrame([x[\"_source\"] for x in elastic_docs])"
   ]
  },
  {
   "cell_type": "markdown",
   "metadata": {},
   "source": [
    "### Se lee la información de cambium device client"
   ]
  },
  {
   "cell_type": "markdown",
   "metadata": {},
   "source": [
    "Esta lectura se usa para identificar: \n",
    "* Lecturas de consumo por dispositivo (radios rx y tx)\n",
    "* Fabricante del dispositivo\n",
    "* la mac del ap que luego se usa para identificar el ap group(Indoor/Outdoor)"
   ]
  },
  {
   "cell_type": "code",
   "execution_count": 23,
   "metadata": {},
   "outputs": [
    {
     "ename": "ConnectionTimeout",
     "evalue": "ConnectionTimeout caused by - ReadTimeoutError(HTTPSConnectionPool(host='hotzone3', port=9200): Read timed out. (read timeout=60))",
     "output_type": "error",
     "traceback": [
      "\u001b[0;31m---------------------------------------------------------------------------\u001b[0m",
      "\u001b[0;31mtimeout\u001b[0m                                   Traceback (most recent call last)",
      "\u001b[0;32m/opt/anaconda3/lib/python3.8/site-packages/urllib3/connectionpool.py\u001b[0m in \u001b[0;36m_make_request\u001b[0;34m(self, conn, method, url, timeout, chunked, **httplib_request_kw)\u001b[0m\n\u001b[1;32m    425\u001b[0m                     \u001b[0;31m# Otherwise it looks like a bug in the code.\u001b[0m\u001b[0;34m\u001b[0m\u001b[0;34m\u001b[0m\u001b[0;34m\u001b[0m\u001b[0m\n\u001b[0;32m--> 426\u001b[0;31m                     \u001b[0msix\u001b[0m\u001b[0;34m.\u001b[0m\u001b[0mraise_from\u001b[0m\u001b[0;34m(\u001b[0m\u001b[0me\u001b[0m\u001b[0;34m,\u001b[0m \u001b[0;32mNone\u001b[0m\u001b[0;34m)\u001b[0m\u001b[0;34m\u001b[0m\u001b[0;34m\u001b[0m\u001b[0m\n\u001b[0m\u001b[1;32m    427\u001b[0m         \u001b[0;32mexcept\u001b[0m \u001b[0;34m(\u001b[0m\u001b[0mSocketTimeout\u001b[0m\u001b[0;34m,\u001b[0m \u001b[0mBaseSSLError\u001b[0m\u001b[0;34m,\u001b[0m \u001b[0mSocketError\u001b[0m\u001b[0;34m)\u001b[0m \u001b[0;32mas\u001b[0m \u001b[0me\u001b[0m\u001b[0;34m:\u001b[0m\u001b[0;34m\u001b[0m\u001b[0;34m\u001b[0m\u001b[0m\n",
      "\u001b[0;32m/opt/anaconda3/lib/python3.8/site-packages/urllib3/packages/six.py\u001b[0m in \u001b[0;36mraise_from\u001b[0;34m(value, from_value)\u001b[0m\n",
      "\u001b[0;32m/opt/anaconda3/lib/python3.8/site-packages/urllib3/connectionpool.py\u001b[0m in \u001b[0;36m_make_request\u001b[0;34m(self, conn, method, url, timeout, chunked, **httplib_request_kw)\u001b[0m\n\u001b[1;32m    420\u001b[0m                 \u001b[0;32mtry\u001b[0m\u001b[0;34m:\u001b[0m\u001b[0;34m\u001b[0m\u001b[0;34m\u001b[0m\u001b[0m\n\u001b[0;32m--> 421\u001b[0;31m                     \u001b[0mhttplib_response\u001b[0m \u001b[0;34m=\u001b[0m \u001b[0mconn\u001b[0m\u001b[0;34m.\u001b[0m\u001b[0mgetresponse\u001b[0m\u001b[0;34m(\u001b[0m\u001b[0;34m)\u001b[0m\u001b[0;34m\u001b[0m\u001b[0;34m\u001b[0m\u001b[0m\n\u001b[0m\u001b[1;32m    422\u001b[0m                 \u001b[0;32mexcept\u001b[0m \u001b[0mBaseException\u001b[0m \u001b[0;32mas\u001b[0m \u001b[0me\u001b[0m\u001b[0;34m:\u001b[0m\u001b[0;34m\u001b[0m\u001b[0;34m\u001b[0m\u001b[0m\n",
      "\u001b[0;32m/opt/anaconda3/lib/python3.8/http/client.py\u001b[0m in \u001b[0;36mgetresponse\u001b[0;34m(self)\u001b[0m\n\u001b[1;32m   1346\u001b[0m             \u001b[0;32mtry\u001b[0m\u001b[0;34m:\u001b[0m\u001b[0;34m\u001b[0m\u001b[0;34m\u001b[0m\u001b[0m\n\u001b[0;32m-> 1347\u001b[0;31m                 \u001b[0mresponse\u001b[0m\u001b[0;34m.\u001b[0m\u001b[0mbegin\u001b[0m\u001b[0;34m(\u001b[0m\u001b[0;34m)\u001b[0m\u001b[0;34m\u001b[0m\u001b[0;34m\u001b[0m\u001b[0m\n\u001b[0m\u001b[1;32m   1348\u001b[0m             \u001b[0;32mexcept\u001b[0m \u001b[0mConnectionError\u001b[0m\u001b[0;34m:\u001b[0m\u001b[0;34m\u001b[0m\u001b[0;34m\u001b[0m\u001b[0m\n",
      "\u001b[0;32m/opt/anaconda3/lib/python3.8/http/client.py\u001b[0m in \u001b[0;36mbegin\u001b[0;34m(self)\u001b[0m\n\u001b[1;32m    306\u001b[0m         \u001b[0;32mwhile\u001b[0m \u001b[0;32mTrue\u001b[0m\u001b[0;34m:\u001b[0m\u001b[0;34m\u001b[0m\u001b[0;34m\u001b[0m\u001b[0m\n\u001b[0;32m--> 307\u001b[0;31m             \u001b[0mversion\u001b[0m\u001b[0;34m,\u001b[0m \u001b[0mstatus\u001b[0m\u001b[0;34m,\u001b[0m \u001b[0mreason\u001b[0m \u001b[0;34m=\u001b[0m \u001b[0mself\u001b[0m\u001b[0;34m.\u001b[0m\u001b[0m_read_status\u001b[0m\u001b[0;34m(\u001b[0m\u001b[0;34m)\u001b[0m\u001b[0;34m\u001b[0m\u001b[0;34m\u001b[0m\u001b[0m\n\u001b[0m\u001b[1;32m    308\u001b[0m             \u001b[0;32mif\u001b[0m \u001b[0mstatus\u001b[0m \u001b[0;34m!=\u001b[0m \u001b[0mCONTINUE\u001b[0m\u001b[0;34m:\u001b[0m\u001b[0;34m\u001b[0m\u001b[0;34m\u001b[0m\u001b[0m\n",
      "\u001b[0;32m/opt/anaconda3/lib/python3.8/http/client.py\u001b[0m in \u001b[0;36m_read_status\u001b[0;34m(self)\u001b[0m\n\u001b[1;32m    267\u001b[0m     \u001b[0;32mdef\u001b[0m \u001b[0m_read_status\u001b[0m\u001b[0;34m(\u001b[0m\u001b[0mself\u001b[0m\u001b[0;34m)\u001b[0m\u001b[0;34m:\u001b[0m\u001b[0;34m\u001b[0m\u001b[0;34m\u001b[0m\u001b[0m\n\u001b[0;32m--> 268\u001b[0;31m         \u001b[0mline\u001b[0m \u001b[0;34m=\u001b[0m \u001b[0mstr\u001b[0m\u001b[0;34m(\u001b[0m\u001b[0mself\u001b[0m\u001b[0;34m.\u001b[0m\u001b[0mfp\u001b[0m\u001b[0;34m.\u001b[0m\u001b[0mreadline\u001b[0m\u001b[0;34m(\u001b[0m\u001b[0m_MAXLINE\u001b[0m \u001b[0;34m+\u001b[0m \u001b[0;36m1\u001b[0m\u001b[0;34m)\u001b[0m\u001b[0;34m,\u001b[0m \u001b[0;34m\"iso-8859-1\"\u001b[0m\u001b[0;34m)\u001b[0m\u001b[0;34m\u001b[0m\u001b[0;34m\u001b[0m\u001b[0m\n\u001b[0m\u001b[1;32m    269\u001b[0m         \u001b[0;32mif\u001b[0m \u001b[0mlen\u001b[0m\u001b[0;34m(\u001b[0m\u001b[0mline\u001b[0m\u001b[0;34m)\u001b[0m \u001b[0;34m>\u001b[0m \u001b[0m_MAXLINE\u001b[0m\u001b[0;34m:\u001b[0m\u001b[0;34m\u001b[0m\u001b[0;34m\u001b[0m\u001b[0m\n",
      "\u001b[0;32m/opt/anaconda3/lib/python3.8/socket.py\u001b[0m in \u001b[0;36mreadinto\u001b[0;34m(self, b)\u001b[0m\n\u001b[1;32m    668\u001b[0m             \u001b[0;32mtry\u001b[0m\u001b[0;34m:\u001b[0m\u001b[0;34m\u001b[0m\u001b[0;34m\u001b[0m\u001b[0m\n\u001b[0;32m--> 669\u001b[0;31m                 \u001b[0;32mreturn\u001b[0m \u001b[0mself\u001b[0m\u001b[0;34m.\u001b[0m\u001b[0m_sock\u001b[0m\u001b[0;34m.\u001b[0m\u001b[0mrecv_into\u001b[0m\u001b[0;34m(\u001b[0m\u001b[0mb\u001b[0m\u001b[0;34m)\u001b[0m\u001b[0;34m\u001b[0m\u001b[0;34m\u001b[0m\u001b[0m\n\u001b[0m\u001b[1;32m    670\u001b[0m             \u001b[0;32mexcept\u001b[0m \u001b[0mtimeout\u001b[0m\u001b[0;34m:\u001b[0m\u001b[0;34m\u001b[0m\u001b[0;34m\u001b[0m\u001b[0m\n",
      "\u001b[0;32m/opt/anaconda3/lib/python3.8/ssl.py\u001b[0m in \u001b[0;36mrecv_into\u001b[0;34m(self, buffer, nbytes, flags)\u001b[0m\n\u001b[1;32m   1240\u001b[0m                   self.__class__)\n\u001b[0;32m-> 1241\u001b[0;31m             \u001b[0;32mreturn\u001b[0m \u001b[0mself\u001b[0m\u001b[0;34m.\u001b[0m\u001b[0mread\u001b[0m\u001b[0;34m(\u001b[0m\u001b[0mnbytes\u001b[0m\u001b[0;34m,\u001b[0m \u001b[0mbuffer\u001b[0m\u001b[0;34m)\u001b[0m\u001b[0;34m\u001b[0m\u001b[0;34m\u001b[0m\u001b[0m\n\u001b[0m\u001b[1;32m   1242\u001b[0m         \u001b[0;32melse\u001b[0m\u001b[0;34m:\u001b[0m\u001b[0;34m\u001b[0m\u001b[0;34m\u001b[0m\u001b[0m\n",
      "\u001b[0;32m/opt/anaconda3/lib/python3.8/ssl.py\u001b[0m in \u001b[0;36mread\u001b[0;34m(self, len, buffer)\u001b[0m\n\u001b[1;32m   1098\u001b[0m             \u001b[0;32mif\u001b[0m \u001b[0mbuffer\u001b[0m \u001b[0;32mis\u001b[0m \u001b[0;32mnot\u001b[0m \u001b[0;32mNone\u001b[0m\u001b[0;34m:\u001b[0m\u001b[0;34m\u001b[0m\u001b[0;34m\u001b[0m\u001b[0m\n\u001b[0;32m-> 1099\u001b[0;31m                 \u001b[0;32mreturn\u001b[0m \u001b[0mself\u001b[0m\u001b[0;34m.\u001b[0m\u001b[0m_sslobj\u001b[0m\u001b[0;34m.\u001b[0m\u001b[0mread\u001b[0m\u001b[0;34m(\u001b[0m\u001b[0mlen\u001b[0m\u001b[0;34m,\u001b[0m \u001b[0mbuffer\u001b[0m\u001b[0;34m)\u001b[0m\u001b[0;34m\u001b[0m\u001b[0;34m\u001b[0m\u001b[0m\n\u001b[0m\u001b[1;32m   1100\u001b[0m             \u001b[0;32melse\u001b[0m\u001b[0;34m:\u001b[0m\u001b[0;34m\u001b[0m\u001b[0;34m\u001b[0m\u001b[0m\n",
      "\u001b[0;31mtimeout\u001b[0m: The read operation timed out",
      "\nDuring handling of the above exception, another exception occurred:\n",
      "\u001b[0;31mReadTimeoutError\u001b[0m                          Traceback (most recent call last)",
      "\u001b[0;32m~/.local/lib/python3.8/site-packages/elasticsearch/connection/http_urllib3.py\u001b[0m in \u001b[0;36mperform_request\u001b[0;34m(self, method, url, params, body, timeout, ignore, headers)\u001b[0m\n\u001b[1;32m    250\u001b[0m \u001b[0;34m\u001b[0m\u001b[0m\n\u001b[0;32m--> 251\u001b[0;31m             response = self.pool.urlopen(\n\u001b[0m\u001b[1;32m    252\u001b[0m                 \u001b[0mmethod\u001b[0m\u001b[0;34m,\u001b[0m \u001b[0murl\u001b[0m\u001b[0;34m,\u001b[0m \u001b[0mbody\u001b[0m\u001b[0;34m,\u001b[0m \u001b[0mretries\u001b[0m\u001b[0;34m=\u001b[0m\u001b[0mRetry\u001b[0m\u001b[0;34m(\u001b[0m\u001b[0;32mFalse\u001b[0m\u001b[0;34m)\u001b[0m\u001b[0;34m,\u001b[0m \u001b[0mheaders\u001b[0m\u001b[0;34m=\u001b[0m\u001b[0mrequest_headers\u001b[0m\u001b[0;34m,\u001b[0m \u001b[0;34m**\u001b[0m\u001b[0mkw\u001b[0m\u001b[0;34m\u001b[0m\u001b[0;34m\u001b[0m\u001b[0m\n",
      "\u001b[0;32m/opt/anaconda3/lib/python3.8/site-packages/urllib3/connectionpool.py\u001b[0m in \u001b[0;36murlopen\u001b[0;34m(self, method, url, body, headers, retries, redirect, assert_same_host, timeout, pool_timeout, release_conn, chunked, body_pos, **response_kw)\u001b[0m\n\u001b[1;32m    725\u001b[0m \u001b[0;34m\u001b[0m\u001b[0m\n\u001b[0;32m--> 726\u001b[0;31m             retries = retries.increment(\n\u001b[0m\u001b[1;32m    727\u001b[0m                 \u001b[0mmethod\u001b[0m\u001b[0;34m,\u001b[0m \u001b[0murl\u001b[0m\u001b[0;34m,\u001b[0m \u001b[0merror\u001b[0m\u001b[0;34m=\u001b[0m\u001b[0me\u001b[0m\u001b[0;34m,\u001b[0m \u001b[0m_pool\u001b[0m\u001b[0;34m=\u001b[0m\u001b[0mself\u001b[0m\u001b[0;34m,\u001b[0m \u001b[0m_stacktrace\u001b[0m\u001b[0;34m=\u001b[0m\u001b[0msys\u001b[0m\u001b[0;34m.\u001b[0m\u001b[0mexc_info\u001b[0m\u001b[0;34m(\u001b[0m\u001b[0;34m)\u001b[0m\u001b[0;34m[\u001b[0m\u001b[0;36m2\u001b[0m\u001b[0;34m]\u001b[0m\u001b[0;34m\u001b[0m\u001b[0;34m\u001b[0m\u001b[0m\n",
      "\u001b[0;32m/opt/anaconda3/lib/python3.8/site-packages/urllib3/util/retry.py\u001b[0m in \u001b[0;36mincrement\u001b[0;34m(self, method, url, response, error, _pool, _stacktrace)\u001b[0m\n\u001b[1;32m    385\u001b[0m             \u001b[0;31m# Disabled, indicate to re-raise the error.\u001b[0m\u001b[0;34m\u001b[0m\u001b[0;34m\u001b[0m\u001b[0;34m\u001b[0m\u001b[0m\n\u001b[0;32m--> 386\u001b[0;31m             \u001b[0;32mraise\u001b[0m \u001b[0msix\u001b[0m\u001b[0;34m.\u001b[0m\u001b[0mreraise\u001b[0m\u001b[0;34m(\u001b[0m\u001b[0mtype\u001b[0m\u001b[0;34m(\u001b[0m\u001b[0merror\u001b[0m\u001b[0;34m)\u001b[0m\u001b[0;34m,\u001b[0m \u001b[0merror\u001b[0m\u001b[0;34m,\u001b[0m \u001b[0m_stacktrace\u001b[0m\u001b[0;34m)\u001b[0m\u001b[0;34m\u001b[0m\u001b[0;34m\u001b[0m\u001b[0m\n\u001b[0m\u001b[1;32m    387\u001b[0m \u001b[0;34m\u001b[0m\u001b[0m\n",
      "\u001b[0;32m/opt/anaconda3/lib/python3.8/site-packages/urllib3/packages/six.py\u001b[0m in \u001b[0;36mreraise\u001b[0;34m(tp, value, tb)\u001b[0m\n\u001b[1;32m    734\u001b[0m                 \u001b[0;32mraise\u001b[0m \u001b[0mvalue\u001b[0m\u001b[0;34m.\u001b[0m\u001b[0mwith_traceback\u001b[0m\u001b[0;34m(\u001b[0m\u001b[0mtb\u001b[0m\u001b[0;34m)\u001b[0m\u001b[0;34m\u001b[0m\u001b[0;34m\u001b[0m\u001b[0m\n\u001b[0;32m--> 735\u001b[0;31m             \u001b[0;32mraise\u001b[0m \u001b[0mvalue\u001b[0m\u001b[0;34m\u001b[0m\u001b[0;34m\u001b[0m\u001b[0m\n\u001b[0m\u001b[1;32m    736\u001b[0m         \u001b[0;32mfinally\u001b[0m\u001b[0;34m:\u001b[0m\u001b[0;34m\u001b[0m\u001b[0;34m\u001b[0m\u001b[0m\n",
      "\u001b[0;32m/opt/anaconda3/lib/python3.8/site-packages/urllib3/connectionpool.py\u001b[0m in \u001b[0;36murlopen\u001b[0;34m(self, method, url, body, headers, retries, redirect, assert_same_host, timeout, pool_timeout, release_conn, chunked, body_pos, **response_kw)\u001b[0m\n\u001b[1;32m    669\u001b[0m             \u001b[0;31m# Make the request on the httplib connection object.\u001b[0m\u001b[0;34m\u001b[0m\u001b[0;34m\u001b[0m\u001b[0;34m\u001b[0m\u001b[0m\n\u001b[0;32m--> 670\u001b[0;31m             httplib_response = self._make_request(\n\u001b[0m\u001b[1;32m    671\u001b[0m                 \u001b[0mconn\u001b[0m\u001b[0;34m,\u001b[0m\u001b[0;34m\u001b[0m\u001b[0;34m\u001b[0m\u001b[0m\n",
      "\u001b[0;32m/opt/anaconda3/lib/python3.8/site-packages/urllib3/connectionpool.py\u001b[0m in \u001b[0;36m_make_request\u001b[0;34m(self, conn, method, url, timeout, chunked, **httplib_request_kw)\u001b[0m\n\u001b[1;32m    427\u001b[0m         \u001b[0;32mexcept\u001b[0m \u001b[0;34m(\u001b[0m\u001b[0mSocketTimeout\u001b[0m\u001b[0;34m,\u001b[0m \u001b[0mBaseSSLError\u001b[0m\u001b[0;34m,\u001b[0m \u001b[0mSocketError\u001b[0m\u001b[0;34m)\u001b[0m \u001b[0;32mas\u001b[0m \u001b[0me\u001b[0m\u001b[0;34m:\u001b[0m\u001b[0;34m\u001b[0m\u001b[0;34m\u001b[0m\u001b[0m\n\u001b[0;32m--> 428\u001b[0;31m             \u001b[0mself\u001b[0m\u001b[0;34m.\u001b[0m\u001b[0m_raise_timeout\u001b[0m\u001b[0;34m(\u001b[0m\u001b[0merr\u001b[0m\u001b[0;34m=\u001b[0m\u001b[0me\u001b[0m\u001b[0;34m,\u001b[0m \u001b[0murl\u001b[0m\u001b[0;34m=\u001b[0m\u001b[0murl\u001b[0m\u001b[0;34m,\u001b[0m \u001b[0mtimeout_value\u001b[0m\u001b[0;34m=\u001b[0m\u001b[0mread_timeout\u001b[0m\u001b[0;34m)\u001b[0m\u001b[0;34m\u001b[0m\u001b[0;34m\u001b[0m\u001b[0m\n\u001b[0m\u001b[1;32m    429\u001b[0m             \u001b[0;32mraise\u001b[0m\u001b[0;34m\u001b[0m\u001b[0;34m\u001b[0m\u001b[0m\n",
      "\u001b[0;32m/opt/anaconda3/lib/python3.8/site-packages/urllib3/connectionpool.py\u001b[0m in \u001b[0;36m_raise_timeout\u001b[0;34m(self, err, url, timeout_value)\u001b[0m\n\u001b[1;32m    334\u001b[0m         \u001b[0;32mif\u001b[0m \u001b[0misinstance\u001b[0m\u001b[0;34m(\u001b[0m\u001b[0merr\u001b[0m\u001b[0;34m,\u001b[0m \u001b[0mSocketTimeout\u001b[0m\u001b[0;34m)\u001b[0m\u001b[0;34m:\u001b[0m\u001b[0;34m\u001b[0m\u001b[0;34m\u001b[0m\u001b[0m\n\u001b[0;32m--> 335\u001b[0;31m             raise ReadTimeoutError(\n\u001b[0m\u001b[1;32m    336\u001b[0m                 \u001b[0mself\u001b[0m\u001b[0;34m,\u001b[0m \u001b[0murl\u001b[0m\u001b[0;34m,\u001b[0m \u001b[0;34m\"Read timed out. (read timeout=%s)\"\u001b[0m \u001b[0;34m%\u001b[0m \u001b[0mtimeout_value\u001b[0m\u001b[0;34m\u001b[0m\u001b[0;34m\u001b[0m\u001b[0m\n",
      "\u001b[0;31mReadTimeoutError\u001b[0m: HTTPSConnectionPool(host='hotzone3', port=9200): Read timed out. (read timeout=60)",
      "\nDuring handling of the above exception, another exception occurred:\n",
      "\u001b[0;31mConnectionTimeout\u001b[0m                         Traceback (most recent call last)",
      "\u001b[0;32m<ipython-input-23-7a9e6478c7cc>\u001b[0m in \u001b[0;36m<module>\u001b[0;34m\u001b[0m\n\u001b[1;32m      2\u001b[0m \u001b[0;34m\u001b[0m\u001b[0m\n\u001b[1;32m      3\u001b[0m \u001b[0mtotal_docs\u001b[0m \u001b[0;34m=\u001b[0m \u001b[0;36m30000000\u001b[0m\u001b[0;34m\u001b[0m\u001b[0;34m\u001b[0m\u001b[0m\n\u001b[0;32m----> 4\u001b[0;31m response = es.search(\n\u001b[0m\u001b[1;32m      5\u001b[0m     \u001b[0mindex\u001b[0m\u001b[0;34m=\u001b[0m \u001b[0mparametros\u001b[0m\u001b[0;34m.\u001b[0m\u001b[0mcambium_d_c_index\u001b[0m\u001b[0;34m,\u001b[0m\u001b[0;34m\u001b[0m\u001b[0;34m\u001b[0m\u001b[0m\n\u001b[1;32m      6\u001b[0m     body={\n",
      "\u001b[0;32m~/.local/lib/python3.8/site-packages/elasticsearch/client/utils.py\u001b[0m in \u001b[0;36m_wrapped\u001b[0;34m(*args, **kwargs)\u001b[0m\n\u001b[1;32m    151\u001b[0m                 \u001b[0;32mif\u001b[0m \u001b[0mp\u001b[0m \u001b[0;32min\u001b[0m \u001b[0mkwargs\u001b[0m\u001b[0;34m:\u001b[0m\u001b[0;34m\u001b[0m\u001b[0;34m\u001b[0m\u001b[0m\n\u001b[1;32m    152\u001b[0m                     \u001b[0mparams\u001b[0m\u001b[0;34m[\u001b[0m\u001b[0mp\u001b[0m\u001b[0;34m]\u001b[0m \u001b[0;34m=\u001b[0m \u001b[0mkwargs\u001b[0m\u001b[0;34m.\u001b[0m\u001b[0mpop\u001b[0m\u001b[0;34m(\u001b[0m\u001b[0mp\u001b[0m\u001b[0;34m)\u001b[0m\u001b[0;34m\u001b[0m\u001b[0;34m\u001b[0m\u001b[0m\n\u001b[0;32m--> 153\u001b[0;31m             \u001b[0;32mreturn\u001b[0m \u001b[0mfunc\u001b[0m\u001b[0;34m(\u001b[0m\u001b[0;34m*\u001b[0m\u001b[0margs\u001b[0m\u001b[0;34m,\u001b[0m \u001b[0mparams\u001b[0m\u001b[0;34m=\u001b[0m\u001b[0mparams\u001b[0m\u001b[0;34m,\u001b[0m \u001b[0mheaders\u001b[0m\u001b[0;34m=\u001b[0m\u001b[0mheaders\u001b[0m\u001b[0;34m,\u001b[0m \u001b[0;34m**\u001b[0m\u001b[0mkwargs\u001b[0m\u001b[0;34m)\u001b[0m\u001b[0;34m\u001b[0m\u001b[0;34m\u001b[0m\u001b[0m\n\u001b[0m\u001b[1;32m    154\u001b[0m \u001b[0;34m\u001b[0m\u001b[0m\n\u001b[1;32m    155\u001b[0m         \u001b[0;32mreturn\u001b[0m \u001b[0m_wrapped\u001b[0m\u001b[0;34m\u001b[0m\u001b[0;34m\u001b[0m\u001b[0m\n",
      "\u001b[0;32m~/.local/lib/python3.8/site-packages/elasticsearch/client/__init__.py\u001b[0m in \u001b[0;36msearch\u001b[0;34m(self, body, index, doc_type, params, headers)\u001b[0m\n\u001b[1;32m   1660\u001b[0m             \u001b[0mparams\u001b[0m\u001b[0;34m[\u001b[0m\u001b[0;34m\"from\"\u001b[0m\u001b[0;34m]\u001b[0m \u001b[0;34m=\u001b[0m \u001b[0mparams\u001b[0m\u001b[0;34m.\u001b[0m\u001b[0mpop\u001b[0m\u001b[0;34m(\u001b[0m\u001b[0;34m\"from_\"\u001b[0m\u001b[0;34m)\u001b[0m\u001b[0;34m\u001b[0m\u001b[0;34m\u001b[0m\u001b[0m\n\u001b[1;32m   1661\u001b[0m \u001b[0;34m\u001b[0m\u001b[0m\n\u001b[0;32m-> 1662\u001b[0;31m         return self.transport.perform_request(\n\u001b[0m\u001b[1;32m   1663\u001b[0m             \u001b[0;34m\"POST\"\u001b[0m\u001b[0;34m,\u001b[0m\u001b[0;34m\u001b[0m\u001b[0;34m\u001b[0m\u001b[0m\n\u001b[1;32m   1664\u001b[0m             \u001b[0m_make_path\u001b[0m\u001b[0;34m(\u001b[0m\u001b[0mindex\u001b[0m\u001b[0;34m,\u001b[0m \u001b[0mdoc_type\u001b[0m\u001b[0;34m,\u001b[0m \u001b[0;34m\"_search\"\u001b[0m\u001b[0;34m)\u001b[0m\u001b[0;34m,\u001b[0m\u001b[0;34m\u001b[0m\u001b[0;34m\u001b[0m\u001b[0m\n",
      "\u001b[0;32m~/.local/lib/python3.8/site-packages/elasticsearch/transport.py\u001b[0m in \u001b[0;36mperform_request\u001b[0;34m(self, method, url, headers, params, body)\u001b[0m\n\u001b[1;32m    411\u001b[0m                     \u001b[0;31m# raise exception on last retry\u001b[0m\u001b[0;34m\u001b[0m\u001b[0;34m\u001b[0m\u001b[0;34m\u001b[0m\u001b[0m\n\u001b[1;32m    412\u001b[0m                     \u001b[0;32mif\u001b[0m \u001b[0mattempt\u001b[0m \u001b[0;34m==\u001b[0m \u001b[0mself\u001b[0m\u001b[0;34m.\u001b[0m\u001b[0mmax_retries\u001b[0m\u001b[0;34m:\u001b[0m\u001b[0;34m\u001b[0m\u001b[0;34m\u001b[0m\u001b[0m\n\u001b[0;32m--> 413\u001b[0;31m                         \u001b[0;32mraise\u001b[0m \u001b[0me\u001b[0m\u001b[0;34m\u001b[0m\u001b[0;34m\u001b[0m\u001b[0m\n\u001b[0m\u001b[1;32m    414\u001b[0m                 \u001b[0;32melse\u001b[0m\u001b[0;34m:\u001b[0m\u001b[0;34m\u001b[0m\u001b[0;34m\u001b[0m\u001b[0m\n\u001b[1;32m    415\u001b[0m                     \u001b[0;32mraise\u001b[0m \u001b[0me\u001b[0m\u001b[0;34m\u001b[0m\u001b[0;34m\u001b[0m\u001b[0m\n",
      "\u001b[0;32m~/.local/lib/python3.8/site-packages/elasticsearch/transport.py\u001b[0m in \u001b[0;36mperform_request\u001b[0;34m(self, method, url, headers, params, body)\u001b[0m\n\u001b[1;32m    379\u001b[0m \u001b[0;34m\u001b[0m\u001b[0m\n\u001b[1;32m    380\u001b[0m             \u001b[0;32mtry\u001b[0m\u001b[0;34m:\u001b[0m\u001b[0;34m\u001b[0m\u001b[0;34m\u001b[0m\u001b[0m\n\u001b[0;32m--> 381\u001b[0;31m                 status, headers_response, data = connection.perform_request(\n\u001b[0m\u001b[1;32m    382\u001b[0m                     \u001b[0mmethod\u001b[0m\u001b[0;34m,\u001b[0m\u001b[0;34m\u001b[0m\u001b[0;34m\u001b[0m\u001b[0m\n\u001b[1;32m    383\u001b[0m                     \u001b[0murl\u001b[0m\u001b[0;34m,\u001b[0m\u001b[0;34m\u001b[0m\u001b[0;34m\u001b[0m\u001b[0m\n",
      "\u001b[0;32m~/.local/lib/python3.8/site-packages/elasticsearch/connection/http_urllib3.py\u001b[0m in \u001b[0;36mperform_request\u001b[0;34m(self, method, url, params, body, timeout, ignore, headers)\u001b[0m\n\u001b[1;32m    261\u001b[0m                 \u001b[0;32mraise\u001b[0m \u001b[0mSSLError\u001b[0m\u001b[0;34m(\u001b[0m\u001b[0;34m\"N/A\"\u001b[0m\u001b[0;34m,\u001b[0m \u001b[0mstr\u001b[0m\u001b[0;34m(\u001b[0m\u001b[0me\u001b[0m\u001b[0;34m)\u001b[0m\u001b[0;34m,\u001b[0m \u001b[0me\u001b[0m\u001b[0;34m)\u001b[0m\u001b[0;34m\u001b[0m\u001b[0;34m\u001b[0m\u001b[0m\n\u001b[1;32m    262\u001b[0m             \u001b[0;32mif\u001b[0m \u001b[0misinstance\u001b[0m\u001b[0;34m(\u001b[0m\u001b[0me\u001b[0m\u001b[0;34m,\u001b[0m \u001b[0mReadTimeoutError\u001b[0m\u001b[0;34m)\u001b[0m\u001b[0;34m:\u001b[0m\u001b[0;34m\u001b[0m\u001b[0;34m\u001b[0m\u001b[0m\n\u001b[0;32m--> 263\u001b[0;31m                 \u001b[0;32mraise\u001b[0m \u001b[0mConnectionTimeout\u001b[0m\u001b[0;34m(\u001b[0m\u001b[0;34m\"TIMEOUT\"\u001b[0m\u001b[0;34m,\u001b[0m \u001b[0mstr\u001b[0m\u001b[0;34m(\u001b[0m\u001b[0me\u001b[0m\u001b[0;34m)\u001b[0m\u001b[0;34m,\u001b[0m \u001b[0me\u001b[0m\u001b[0;34m)\u001b[0m\u001b[0;34m\u001b[0m\u001b[0;34m\u001b[0m\u001b[0m\n\u001b[0m\u001b[1;32m    264\u001b[0m             \u001b[0;32mraise\u001b[0m \u001b[0mConnectionError\u001b[0m\u001b[0;34m(\u001b[0m\u001b[0;34m\"N/A\"\u001b[0m\u001b[0;34m,\u001b[0m \u001b[0mstr\u001b[0m\u001b[0;34m(\u001b[0m\u001b[0me\u001b[0m\u001b[0;34m)\u001b[0m\u001b[0;34m,\u001b[0m \u001b[0me\u001b[0m\u001b[0;34m)\u001b[0m\u001b[0;34m\u001b[0m\u001b[0;34m\u001b[0m\u001b[0m\n\u001b[1;32m    265\u001b[0m \u001b[0;34m\u001b[0m\u001b[0m\n",
      "\u001b[0;31mConnectionTimeout\u001b[0m: ConnectionTimeout caused by - ReadTimeoutError(HTTPSConnectionPool(host='hotzone3', port=9200): Read timed out. (read timeout=60))"
     ]
    }
   ],
   "source": [
    "t1=time.time()\n",
    "\n",
    "total_docs = 30000000\n",
    "response = es.search(\n",
    "    index= parametros.cambium_d_c_index,\n",
    "    body={\n",
    "            \"_source\": [\"mac\",\"ap_mac\", 'manufacturer','name',\"radio.band\",'radio.rx_bytes','radio.tx_bytes'],\n",
    "              \"query\": {\n",
    "                \"bool\": {\n",
    "                  \"filter\": [\n",
    "                  {\n",
    "                    \"exists\": {\n",
    "                      \"field\":\"mac\"\n",
    "                    }\n",
    "                  }\n",
    "                  ]\n",
    "                }\n",
    "              }\n",
    "    },\n",
    "    size=total_docs\n",
    ")\n",
    "elastic_docs = response[\"hits\"][\"hits\"]\n",
    "# fields = {}\n",
    "# for num, doc in enumerate(elastic_docs):\n",
    "#     source_data = doc[\"_source\"]\n",
    "#     for key, val in source_data.items():\n",
    "#         try:\n",
    "#             fields[key] = np.append(fields[key], val)\n",
    "#         except KeyError:\n",
    "#             fields[key] = np.array([val])\n",
    "\n",
    "# datos_dev_clients = pd.DataFrame(dict([ (k,pd.Series(v)) for k,v in fields.items() ]))\n",
    "\n",
    "datos_dev_clients = pd.DataFrame([x[\"_source\"] for x in elastic_docs])\n",
    "\n",
    "t2=time.time()"
   ]
  },
  {
   "cell_type": "markdown",
   "metadata": {},
   "source": [
    "* se cruza por mac_usuario\n",
    "* Los merge usan left para evitar perdida de datos en cruce con cambium-devicedevices. Aquellos datos que no cruzan se les marca como no identificados. En condiciones ideales, no debería presentarse ausencia de información\n",
    "* Solo se toma lo que cruza con INNER\n",
    "* se cambia el fabricante [Local MAC]\n",
    "* se cambian lo nulos"
   ]
  },
  {
   "cell_type": "code",
   "execution_count": null,
   "metadata": {},
   "outputs": [],
   "source": [
    "try:\n",
    "    datos_dev_clients.drop_duplicates(inplace=True)\n",
    "    datos_dev_clients = datos_dev_clients.rename(columns={'ap_mac' : 'usuarios.macRed','mac' : 'mac_usuario'})\n",
    "    datos_dev_clients['manufacturer'] = datos_dev_clients['manufacturer'].replace(\"[Local MAC]\", \"No identificado\")\n",
    "    datos_dev_clients.fillna({'manufacturer':'No identificado'},inplace=True)\n",
    "    \n",
    "    datos_det_conex = pd.merge(datos_det_conex,  datos_dev_clients, on='mac_usuario',how='left')\n",
    "    datos_det_conex = pd.merge(datos_det_conex,datos_dev[['usuarios.macRed','usuarios.apGroup']],on='usuarios.macRed', how='left')\n",
    "    \n",
    "    datos_det_conex.fillna({'usuarios.tipoDispositivoUsuarios':'No identificado'\n",
    "                       ,'usuarios.sistemaOperativoUsuarios':'No identificado'\n",
    "                       ,'manufacturer':'No identificado'\n",
    "                       ,'radio.band':'No identificado'\n",
    "                       },inplace=True)\n",
    "except:\n",
    "    pass"
   ]
  },
  {
   "cell_type": "markdown",
   "metadata": {},
   "source": [
    "## Calculando totales por dispositivos"
   ]
  },
  {
   "cell_type": "markdown",
   "metadata": {},
   "source": [
    "la lista use_these_keys se usa para referenciar cuales campos del dataframe irán al indice final. si los datos no se declaran en este, no se insertarán"
   ]
  },
  {
   "cell_type": "code",
   "execution_count": null,
   "metadata": {},
   "outputs": [],
   "source": [
    "\n",
    "# use_these_keys = [ 'usuarios.tablero11.siteID'\n",
    "#                   , 'usuarios.tablero11.nomCentroDigital'\n",
    "#                   , 'usuarios.tablero11.nombreDepartamento'\n",
    "#                   , 'usuarios.tablero11.nombreMunicipio'\n",
    "#                   , 'usuarios.tablero11.idBeneficiario'\n",
    "#                   , 'usuarios.tablero11.location'\n",
    "#                   , 'usuarios.tablero11.fechaControl'\n",
    "#                   , 'usuarios.tablero11.fecha'\n",
    "#                   , 'usuarios.tablero11.anyo'\n",
    "#                   , 'usuarios.tablero11.mes'\n",
    "#                   , '@timestamp']\n",
    "\n",
    "# def doc_generator(df,use_these_keys):\n",
    "#     df_iter = df.iterrows()\n",
    "#     for index, document in df_iter:\n",
    "#         yield {\n",
    "#                 \"_index\": indice, \n",
    "#                 \"_id\": f\"{ 'totalesDispositivos-' + str(document['usuarios.tablero11siteID']) + '-' + str(document['usuarios.fechaControl'])}\",\n",
    "#                 \"_source\": filterKeys(document,use_these_keys),\n",
    "#             }"
   ]
  },
  {
   "cell_type": "markdown",
   "metadata": {},
   "source": [
    "Se agrupa por:\n",
    "* Sistema operativo\n",
    "* Tipo dispositivo\n",
    "* Marca del terminal\n",
    "* Tecnología terminal\n",
    "\n",
    "Se cuentan las mac de usuario para cada site id y fecha control"
   ]
  },
  {
   "cell_type": "code",
   "execution_count": null,
   "metadata": {},
   "outputs": [],
   "source": [
    "# def cambioVariable(df):\n",
    "#     df = df.rename(columns={'siteID':'usuarios.tablero09.siteID'\n",
    "#                         ,'usuarios.siteID': 'usuarios.tablero09.siteID'\n",
    "#                         ,'usuarios.tablero09siteID':'usuarios.tablero09.siteID'\n",
    "#                         ,'fechaControl':'usuarios.tablero09.fechaControl'\n",
    "#                         ,'usuarios.fechaControl':'usuarios.tablero09.fechaControl'\n",
    "#                         ,'usuarios.tablero09fechaControl': 'usuarios.tablero09.fechaControl'\n",
    "#                         ,'nomCentroDigital':'usuarios.tablero09.nomCentroDigital'\n",
    "#                         ,'usuarios.nomCentroDigital':'usuarios.tablero09.nomCentroDigital'\n",
    "#                         ,'usuarios.tablero09nomCentroDigital':'usuarios.tablero09.nomCentroDigital'\n",
    "#                         ,'localidad':'usuarios.tablero09.localidad'\n",
    "#                         ,'usuarios.localidad':'usuarios.tablero09.localidad'\n",
    "#                         ,'usuarios.tablero09localidad':'usuarios.tablero09.localidad'\n",
    "#                         ,'nombreDepartamento':'usuarios.tablero09.nombreDepartamento'\n",
    "#                         ,'usuarios.nombreDepartamento':'usuarios.tablero09.nombreDepartamento'\n",
    "#                         ,'usuarios.tablero09nombreDepartamento':'usuarios.tablero09.nombreDepartamento'\n",
    "#                         ,'nombreMunicipio':'usuarios.tablero09.nombreMunicipio'\n",
    "#                         ,'usuarios.nombreMunicipio':'usuarios.tablero09.nombreMunicipio'\n",
    "#                         ,'usuarios.tablero09nombreMunicipio':'usuarios.tablero09.nombreMunicipio'\n",
    "#                         ,'idBeneficiario':'usuarios.tablero09.idBeneficiario'\n",
    "#                         ,'usuarios.idBeneficiario':'usuarios.tablero09.idBeneficiario'\n",
    "#                         ,'usuarios.tablero09idBeneficiario':'usuarios.tablero09.idBeneficiario'\n",
    "#                         ,'apGroup':'usuarios.tablero09.apGroup'\n",
    "#                         ,'usuarios.apGroup':'usuarios.tablero09.apGroup'\n",
    "#                         ,'usuarios.tablero09apGroup':'usuarios.tablero09.apGroup'\n",
    "#                         ,'location':'usuarios.tablero09.location'\n",
    "#                         ,'usuarios.location':'usuarios.tablero09.location'\n",
    "#                         ,'usuarios.tablero09location':'usuarios.tablero09.location'\n",
    "#                         ,'fecha':'usuarios.tablero09.fecha'\n",
    "#                         ,'usuarios.fecha':'usuarios.tablero09.fecha'\n",
    "#                         ,'usuarios.tablero09fecha':'usuarios.tablero09.fecha'\n",
    "#                         ,'anyo':'usuarios.tablero09.anyo'\n",
    "#                         ,'usuarios.anyo':'usuarios.tablero09.anyo'\n",
    "#                         ,'usuarios.tablero09anyo':'usuarios.tablero09.anyo'\n",
    "#                         ,'mes':'usuarios.tablero09.mes'\n",
    "#                         ,'usuarios.mes':'usuarios.tablero09.mes'\n",
    "#                         ,'usuarios.tablero09mes':'usuarios.tablero09.mes'\n",
    "#                         ,'macRed':'usuarios.tablero09.macRed'\n",
    "#                         ,'usuarios.macRed':'usuarios.tablero09.macRed'\n",
    "#                         ,'usuarios.tablero09macRed':'usuarios.tablero09.macRed'\n",
    "#                         ,'usuariosConectados':'usuarios.tablero09.usuariosConectados'\n",
    "#                         ,'usuarios.usuariosConectados':'usuarios.tablero09.usuariosConectados'\n",
    "#                         ,'usuarios.tablero09usuariosConectados':'usuarios.tablero09.usuariosConectados'\n",
    "#                         ,'sesiones_Usuarios':'usuarios.tablero09.sesiones_Usuarios'\n",
    "#                         ,'usuarios.sesiones_Usuarios':'usuarios.tablero09.sesiones_Usuarios'\n",
    "#                         ,'usuarios.tablero09sesiones_Usuarios':'usuarios.tablero09.sesiones_Usuarios'\n",
    "#                         ,'consumoUsuarios':'usuarios.tablero09.consumoUsuarios'\n",
    "#                         ,'usuarios.consumoUsuarios':'usuarios.tablero09.consumoUsuarios'\n",
    "#                         ,'usuarios.tablero09consumoUsuarios':'usuarios.tablero09.consumoUsuarios'\n",
    "#                         ,'consumoUsuariosDescarga_aux':'usuarios.tablero09.consumoUsuariosDescarga_aux'\n",
    "#                         ,'usuarios.consumoUsuariosDescarga_aux':'usuarios.tablero09.consumoUsuariosDescarga_aux'\n",
    "#                         ,'usuarios.tablero09consumoUsuariosDescarga_aux':'usuarios.tablero09.consumoUsuariosDescarga_aux'\n",
    "#                         ,'consumoUsuariosCarga_aux':'usuarios.tablero09.consumoUsuariosCarga_aux'\n",
    "#                         ,'usuarios.consumoUsuariosCarga_aux':'usuarios.tablero09.consumoUsuariosCarga_aux'\n",
    "#                         ,'usuarios.tablero09consumoUsuariosCarga_aux':'usuarios.tablero09.consumoUsuariosCarga_aux'\n",
    "#                         ,'consumoUsuariosDescarga':'usuarios.tablero09.consumoUsuariosDescarga'\n",
    "#                         ,'usuarios.consumoUsuariosDescarga':'usuarios.tablero09.consumoUsuariosDescarga'\n",
    "#                         ,'usuarios.tablero09consumoUsuariosDescarga':'usuarios.tablero09.consumoUsuariosDescarga'\n",
    "#                         ,'consumoUsuariosCarga': 'usuarios.tablero09.consumoUsuariosCarga'\n",
    "#                         ,'usuarios.tablero09consumoUsuariosCarga': 'usuarios.tablero09.consumoUsuariosCarga'\n",
    "#                         ,'usuarios.tiempoPromedioSesionSitio':'usuarios.tablero09.tiempoPromedioSesionSitio'\n",
    "#                        }\n",
    "#               )\n",
    "    \n",
    "#     df_vacio = pd.DataFrame(index=df.index)\n",
    "    \n",
    "#     col_select= ['usuarios.tablero09.siteID'\n",
    "#                  ,'usuarios.tablero09.nomCentroDigital'\n",
    "#                  , 'usuarios.tablero09.localidad'\n",
    "#                  , 'usuarios.tablero09.nombreDepartamento'\n",
    "#                  , 'usuarios.tablero09.nombreMunicipio'\n",
    "#                  , 'usuarios.tablero09.idBeneficiario'\n",
    "#                  , 'usuarios.tablero09.location'\n",
    "#                  , 'usuarios.tablero09.sesiones_Usuarios'\n",
    "#                  , 'usuarios.tablero09.usuariosConectados'\n",
    "#                  , 'usuarios.tablero09.consumoUsuarios'\n",
    "#                  , 'usuarios.tablero09.consumoUsuariosDescarga_aux'\n",
    "#                  , 'usuarios.tablero09.consumoUsuariosCarga_aux'\n",
    "#                  , 'usuarios.tablero09.consumoUsuariosDescarga'\n",
    "#                  , 'usuarios.tablero09.consumoUsuariosCarga'\n",
    "#                  , 'usuarios.tablero09.tiempoPromedioSesionSitio'\n",
    "#                  , 'usuarios.tablero09.usoServicioInternetSitio'\n",
    "#                  , 'usuarios.tablero09.anchoBandaDescarga'\n",
    "#                  , 'usuarios.tablero09.anchoBandaCarga'\n",
    "#                  , 'usuarios.tablero09.apGroup'\n",
    "#                  , 'usuarios.tablero09.fechaControl'\n",
    "#                  , 'usuarios.tablero09.fecha'\n",
    "#                  , 'usuarios.tablero09.anyo'\n",
    "#                  , 'usuarios.tablero09.mes'\n",
    "#                  , 'usuarios.tablero09.macRed'\n",
    "#                  , '@timestamp']\n",
    "    \n",
    "#     for c in col_select:\n",
    "#         try:\n",
    "#             df_vacio=pd.concat([df_vacio,df[c]],axis=1)\n",
    "#         except:\n",
    "#             pass\n",
    "    \n",
    "# #     print(df.columns)\n",
    "    \n",
    "#     df_vacio=df_vacio.iloc[:,~df_vacio.columns.duplicated()]\n",
    "\n",
    "#     return df_vacio"
   ]
  },
  {
   "cell_type": "code",
   "execution_count": null,
   "metadata": {},
   "outputs": [],
   "source": [
    "try:\n",
    "    totalesDispositivos = datos_det_conex[[\"fecha_control\",\"site_id\"\n",
    "                                         ,\"usuarios.sistemaOperativoUsuarios\"\n",
    "                                         ,'usuarios.tipoDispositivoUsuarios'\n",
    "                                         ,'manufacturer'\n",
    "                                         ,'radio.band'\n",
    "                                         ,\"mac_usuario\"]].groupby([\"fecha_control\",\"site_id\"\n",
    "                                                             ,\"usuarios.sistemaOperativoUsuarios\"\n",
    "                                                             ,'usuarios.tipoDispositivoUsuarios'\n",
    "                                                             ,'manufacturer'\n",
    "                                                             ,'radio.band']).agg(['count']).reset_index()\n",
    "    ##si se quiere contar ocurrencias unicas se debe usar en lugar del agg: ['mac_usuario'].nunique().reset_index()\n",
    "    totalesDispositivos.columns = totalesDispositivos.columns.droplevel(1)\n",
    "    totalesDispositivos= totalesDispositivos.rename(columns={'mac_usuario' : 'usuarios.totales.dispositivos'\n",
    "                                                            ,'fecha_control' : 'usuarios.fechaControl'\n",
    "                                                            ,'manufacturer' : 'usuarios.marcaTerminal'\n",
    "                                                            ,'radio.band' : 'usuarios.tecnologiaTerminal'\n",
    "                                                            })\n",
    "    totalesDispositivos = pd.merge(totalesDispositivos, datos_semilla, on='site_id',how='inner')\n",
    "    totalesDispositivos[\"usuarios.fecha\"] = totalesDispositivos[\"usuarios.fechaControl\"].str.split(\" \", n = 1, expand = True)[0]\n",
    "    totalesDispositivos[\"usuarios.anyo\"] = totalesDispositivos[\"usuarios.fecha\"].str[0:4]\n",
    "    totalesDispositivos[\"usuarios.mes\"] = totalesDispositivos[\"usuarios.fecha\"].str[5:7]\n",
    "    totalesDispositivos[\"usuarios.dia\"] = totalesDispositivos[\"usuarios.fecha\"].str[8:10]\n",
    "    totalesDispositivos[\"usuarios.hora\"] = totalesDispositivos[\"usuarios.fechaControl\"].str.split(\" \", n = 1, expand = True)[1].str.split(\":\", n = 2, expand = True)[0]\n",
    "    totalesDispositivos[\"usuarios.minuto\"] = totalesDispositivos[\"usuarios.fechaControl\"].str.split(\" \", n = 1, expand = True)[1].str.split(\":\", n = 2, expand = True)[1]\n",
    "    totalesDispositivos= totalesDispositivos.rename(columns={'site_id' : 'usuarios.siteID'})\n",
    "    totalesDispositivos['nombreDepartamento'] = totalesDispositivos['usuarios.nombreDepartamento']\n",
    "    totalesDispositivos['nombreMunicipio'] = totalesDispositivos['usuarios.nombreMunicipio']\n",
    "    totalesDispositivos['idBeneficiario'] = totalesDispositivos['usuarios.idBeneficiario']\n",
    "    totalesDispositivos['fecha'] = totalesDispositivos['usuarios.fecha']\n",
    "    totalesDispositivos['anyo'] = totalesDispositivos['usuarios.anyo']\n",
    "    totalesDispositivos['mes'] = totalesDispositivos['usuarios.mes']\n",
    "    totalesDispositivos['dia'] = totalesDispositivos['usuarios.dia']\n",
    "    totalesDispositivos['@timestamp'] = now.isoformat()\n",
    "    \n",
    "    #Se comenta escritura en el indice porque no se necesita esa estructura\n",
    "    \n",
    "    totalesDispositivos = cambioVariable(totalesDispositivos)\n",
    "    \n",
    "   \n",
    "\n",
    "    #salida = helpers.bulk(es, doc_generator(totalesDispositivos))\n",
    "#     print(\"Fecha: \", now,\"- Totales por Dispositivos insertados en indice principal:\",salida[0])\n",
    "except:\n",
    "    pass\n",
    "#     print(\"Fecha: \", now,\"- No se insertaron totales por dispositivos en indice principal\")\n",
    "\n",
    "    \n"
   ]
  },
  {
   "cell_type": "markdown",
   "metadata": {},
   "source": [
    "# Insertando usuarios conectados al indice principal"
   ]
  },
  {
   "cell_type": "markdown",
   "metadata": {},
   "source": [
    "* Se calcula cantidad de sesiones por sitio con detalle conexiones, pero contando la ocurrencia unica de documento\n",
    "* Se calcula la cantidad de conexiones. Se agrupa por el campo usuarios.macRed(el cual corresponde al AP) y fecha_control. Se cuenta las ocurrencias de mac_usuario. Luego al cruzar con flujo principal, si el dato es nulo para ese momento, se debe colocar en 0."
   ]
  },
  {
   "cell_type": "code",
   "execution_count": null,
   "metadata": {},
   "outputs": [],
   "source": [
    "fecha_max_mintic = fecha_ejecucion\n",
    "\n",
    "fecha_tope_mintic = (datetime.strptime(fecha_max_mintic, '%Y-%m-%d %H:%M:%S')+timedelta(minutes=50)-timedelta(seconds=1)).strftime(\"%Y-%m-%d %H:%M:%S\")\n",
    "datos_consumos = traeSesiones(fecha_max_mintic,fecha_tope_mintic)\n",
    "\n",
    "try:\n",
    "\n",
    "    if datos_consumos is None or datos_consumos.empty:\n",
    "        while (datos_consumos is None or datos_consumos.empty) and ((datetime.strptime(fecha_max_mintic[0:50], '%Y-%m-%d %H:%M:%S\"').strftime(\"%Y-%m-%d %H:%M:%S\")) < str(now.strftime(\"%Y-%m-%d %H:%M:%S\"))):\n",
    "            fecha_max_mintic = (datetime.strptime(fecha_max_mintic, '%Y-%m-%d %H:%M:%S')+timedelta(minutes=50)).strftime(\"%Y-%m-%d %H:%M:%S\")\n",
    "            fecha_tope_mintic = (datetime.strptime(fecha_tope_mintic, '%Y-%m-%d %H:%M:%S')+timedelta(minutes=50)).strftime(\"%Y-%m-%d %H:%M:%S\")\n",
    "            datos_consumos = traeSesiones(fecha_max_mintic,fecha_tope_mintic)\n",
    "    else:\n",
    "        pass\n",
    "except:\n",
    "    pass"
   ]
  },
  {
   "cell_type": "markdown",
   "metadata": {},
   "source": [
    "### Se lee el indice all-cambium-device-client"
   ]
  },
  {
   "cell_type": "markdown",
   "metadata": {},
   "source": [
    "* En este indice se guarda el detalle de los radio por fecha\n",
    "* Detalle conexiones cruza con device clients. Con estos se calculan los totales por marca"
   ]
  },
  {
   "cell_type": "code",
   "execution_count": null,
   "metadata": {},
   "outputs": [],
   "source": [
    "def traeRadio(fecha_max,fecha_tope):\n",
    "    total_docs = 100000\n",
    "    response = es.search(\n",
    "        index= 'all-'+parametros.cambium_d_c_index,\n",
    "        body={\n",
    "            \"_source\": ['mac', 'ap_mac', 'radio.band', 'radio.rx_bytes', 'radio.tx_bytes','fecha_control']\n",
    "              , \"query\": {\n",
    "                  \"range\": {\n",
    "                    \"fecha_control\": {\n",
    "                      \"gte\": fecha_max_mintic,\n",
    "                      \"lt\": fecha_tope_mintic\n",
    "                      #\"gte\": \"2021-05-26 15:00:00\",\n",
    "                      #\"lt\": \"2021-05-26 15:10:00\"  \n",
    "                    }\n",
    "                  }\n",
    "              }\n",
    "        },\n",
    "        size=total_docs\n",
    "    )\n",
    "    elastic_docs = response[\"hits\"][\"hits\"]\n",
    "    # fields = {}\n",
    "    # for num, doc in enumerate(elastic_docs):\n",
    "    #     source_data = doc[\"_source\"]\n",
    "    #     for key, val in source_data.items():\n",
    "    #         try:\n",
    "    #             fields[key] = np.append(fields[key], val)\n",
    "    #         except KeyError:\n",
    "    #             fields[key] = np.array([val])\n",
    "\n",
    "    # datos_radio = pd.DataFrame(dict([ (k,pd.Series(v)) for k,v in fields.items() ]))\n",
    "\n",
    "    return pd.DataFrame([x[\"_source\"] for x in elastic_docs])\n",
    "\n",
    "total_docs = 100000\n",
    "response = es.search(\n",
    "    index= 'all-'+parametros.cambium_d_c_index,\n",
    "    body={\n",
    "        \"_source\": ['mac', 'ap_mac', 'radio.band', 'radio.rx_bytes', 'radio.tx_bytes','fecha_control']\n",
    "          , \"query\": {\n",
    "              \"range\": {\n",
    "                \"fecha_control\": {\n",
    "                  \"gte\": fecha_max_mintic,\n",
    "                  \"lt\": fecha_tope_mintic\n",
    "                  #\"gte\": \"2021-05-26 15:00:00\",\n",
    "                  #\"lt\": \"2021-05-26 15:10:00\"  \n",
    "                }\n",
    "              }\n",
    "          }\n",
    "    },\n",
    "    size=total_docs\n",
    ")\n",
    "elastic_docs = response[\"hits\"][\"hits\"]\n",
    "# fields = {}\n",
    "# for num, doc in enumerate(elastic_docs):\n",
    "#     source_data = doc[\"_source\"]\n",
    "#     for key, val in source_data.items():\n",
    "#         try:\n",
    "#             fields[key] = np.append(fields[key], val)\n",
    "#         except KeyError:\n",
    "#             fields[key] = np.array([val])\n",
    "\n",
    "# datos_radio = pd.DataFrame(dict([ (k,pd.Series(v)) for k,v in fields.items() ]))\n",
    "\n",
    "datos_radio = pd.DataFrame([x[\"_source\"] for x in elastic_docs])\n",
    "\n",
    "datos_performance = datos_radio\n",
    "\n"
   ]
  },
  {
   "cell_type": "code",
   "execution_count": null,
   "metadata": {},
   "outputs": [],
   "source": [
    "if datos_performance is None or datos_performance.empty:\n",
    "    while (datos_performance is None or datos_performance.empty) and ((datetime.strptime(fecha_max_mintic[0:10], '%Y-%m-%d').strftime(\"%Y-%m-%d %H:%M:%S\")) < str(now.strftime(\"%Y-%m-%d %H:%M:%S\"))):\n",
    "        fecha_max_mintic = (datetime.strptime(fecha_max_mintic, '%Y-%m-%d %H:%M:%S')+timedelta(minutes=50)).strftime(\"%Y-%m-%d %H:%M:%S\")\n",
    "        fecha_tope_mintic = (datetime.strptime(fecha_tope_mintic, '%Y-%m-%d %H:%M:%S')+timedelta(minutes=50)).strftime(\"%Y-%m-%d %H:%M:%S\")\n",
    "        datos_performance = traeRadio(fecha_max_mintic,fecha_tope_mintic)\n",
    "else:\n",
    "    pass"
   ]
  },
  {
   "cell_type": "code",
   "execution_count": null,
   "metadata": {},
   "outputs": [],
   "source": [
    "try:\n",
    "    datos_logins = datos_det_conex[['fecha_control', 'site_id', 'documento','usuarios.macRed']].groupby([\"fecha_control\",\"site_id\",\"usuarios.macRed\"])['documento'].nunique().reset_index()\n",
    "    datos_logins= datos_logins.rename(columns={'documento' : 'usuarios.sesiones_Usuarios'})\n",
    "    \n",
    "    ################# datos_performance #####################\n",
    "    datos_performance['fecha_control'] = datos_performance[\"fecha_control\"].str[0:-4] + '0:00'\n",
    "    datos_performance.replace('','0',inplace=True)\n",
    "    datos_performance.fillna({'radio.rx_bytes':0,'radio.tx_bytes':0},inplace=True)\n",
    "    datos_performance['radio.rx_bytes'] = datos_performance['radio.rx_bytes'].astype(float)\n",
    "    datos_performance['radio.tx_bytes'] = datos_performance['radio.tx_bytes'].astype(float)\n",
    "    \n",
    "    datos_performance = datos_performance.groupby(['ap_mac', 'fecha_control', 'mac', 'radio.band']).agg(['max']).reset_index()\n",
    "    datos_performance.columns = datos_performance.columns.droplevel(1)\n",
    "    datos_performance = datos_performance[['ap_mac'\n",
    "                                         , 'fecha_control'\n",
    "                                         , 'radio.rx_bytes'\n",
    "                                         , 'radio.tx_bytes']].groupby(['ap_mac'\n",
    "                                                                     , 'fecha_control']).agg(['sum']).reset_index()\n",
    "    datos_performance.columns = datos_performance.columns.droplevel(1)\n",
    "    datos_performance = datos_performance.rename(columns={'radio.rx_bytes': 'usuarios.consumoUsuariosDescarga_aux'\n",
    "                                                     , 'radio.tx_bytes':'usuarios.consumoUsuariosCarga_aux'})\n",
    "    \n",
    "    datos_performance['usuarios.consumoUsuariosDescarga'] = round((datos_performance['usuarios.consumoUsuariosDescarga_aux']/float(1<<30)),6)\n",
    "    datos_performance['usuarios.consumoUsuariosCarga'] = round((datos_performance['usuarios.consumoUsuariosCarga_aux']/float(1<<30)),6)\n",
    "    datos_performance['usuarios.consumoUsuarios'] = datos_performance['usuarios.consumoUsuariosDescarga'] + datos_performance['usuarios.consumoUsuariosCarga']\n",
    "    datos_performance['usuarios.consumoUsuarios'] = round(datos_performance['usuarios.consumoUsuarios'],6)\n",
    "    datos_performance = datos_performance.rename(columns={'ap_mac':'usuarios.macRed'})\n",
    "    \n",
    "    \n",
    "    datos_performance = pd.merge(datos_performance,datos_dev[['site_id','usuarios.macRed','usuarios.apGroup']],on='usuarios.macRed', how='left')\n",
    "    \n",
    "    aux_performance = pd.merge(datos_performance,  datos_semilla, on='site_id',how='inner')\n",
    "    aux_performance.fillna({'usuarios.consumoUsuariosDescarga':0,\n",
    "                              'usuarios.consumoUsuariosCarga':0,\n",
    "                              'usuarios.consumoUsuarios':0,\n",
    "                              'usuarios.apGroup':'No identificado'},inplace=True)\n",
    "    aux_performance = aux_performance.rename(columns={'fecha_control':'usuarios.fechaControl'\n",
    "                                                           ,'site_id' : 'usuarios.siteID'})\n",
    "    \n",
    "    aux_performance[\"usuarios.fecha\"] = aux_performance[\"usuarios.fechaControl\"].str.split(\" \", n = 1, expand = True)[0]\n",
    "    aux_performance[\"usuarios.anyo\"] = aux_performance[\"usuarios.fecha\"].str[0:4]\n",
    "    aux_performance[\"usuarios.mes\"] = aux_performance[\"usuarios.fecha\"].str[5:7]\n",
    "    aux_performance[\"usuarios.dia\"] = aux_performance[\"usuarios.fecha\"].str[8:10]\n",
    "    aux_performance[\"usuarios.hora\"] = aux_performance[\"usuarios.fechaControl\"].str.split(\" \", n = 1, expand = True)[1].str.split(\":\", n = 2, expand = True)[0]\n",
    "    aux_performance[\"usuarios.minuto\"] = aux_performance[\"usuarios.fechaControl\"].str.split(\" \", n = 1, expand = True)[1].str.split(\":\", n = 2, expand = True)[1]\n",
    "    \n",
    "    aux_performance['nombreDepartamento'] = aux_performance['usuarios.nombreDepartamento']\n",
    "    aux_performance['nombreMunicipio'] = aux_performance['usuarios.nombreMunicipio']\n",
    "    aux_performance['idBeneficiario'] = aux_performance['usuarios.idBeneficiario']\n",
    "    aux_performance['fecha'] = aux_performance['usuarios.fecha']\n",
    "    aux_performance['anyo'] = aux_performance['usuarios.anyo']\n",
    "    aux_performance['mes'] = aux_performance['usuarios.mes']\n",
    "    aux_performance['dia'] = aux_performance['usuarios.dia']\n",
    "    \n",
    "    \n",
    "    ##################\n",
    "    usuariosConectados = datos_det_conex[[\"fecha_control\",\"site_id\",\"usuarios.macRed\",\"mac_usuario\"]].groupby([\"fecha_control\",\"site_id\",\"usuarios.macRed\"]).agg(['count']).reset_index()\n",
    "    usuariosConectados.columns = usuariosConectados.columns.droplevel(1)\n",
    "    usuariosConectados= usuariosConectados.rename(columns={'mac_usuario' : 'usuarios.tablero11usuariosConectados'})\n",
    "    \n",
    "    ###################\n",
    "    usuariosConectados = pd.merge(usuariosConectados,datos_logins, on=[\"fecha_control\",\"site_id\",\"usuarios.macRed\"], how='inner')\n",
    "    \n",
    "    usuariosConectados= usuariosConectados.rename(columns={'usuarios.sesiones_Usuarios' : 'usuarios.tablero11sesiones_Usuarios'})\n",
    "    \n",
    "    ###################\n",
    "    usuariosConectados = pd.merge(datos_semilla,  usuariosConectados, on=['site_id'], how='inner')\n",
    "    \n",
    "   \n",
    "    #Al parecer no esta viniendo consumoUsuario....\n",
    "    \n",
    "    usuariosConectados.fillna({'usuarios.consumoUsuarios' : 0\n",
    "                              ,'usuarios.consumoUsuariosDescarga':0\n",
    "                              ,'usuarios.consumoUsuariosCarga':0},inplace=True)\n",
    "    \n",
    "    ####################\n",
    "    usuariosConectados = pd.merge(usuariosConectados,datos_dev[['usuarios.apGroup','usuarios.macRed']], on ='usuarios.macRed', how='left')\n",
    "    \n",
    "    usuariosConectados.fillna({'usuarios.apGroup':'No identificado'},inplace=True)\n",
    "    usuariosConectados['usuarios.tablero11usuariosConectados'] = usuariosConectados['usuarios.tablero11usuariosConectados'].astype(int)\n",
    "    usuariosConectados = usuariosConectados.rename(columns={'fecha_control':'usuarios.fechaControl'\n",
    "                                                           ,'site_id' : 'usuarios.siteID'})\n",
    "    \n",
    "    usuariosConectados[\"usuarios.fecha\"] = usuariosConectados[\"usuarios.fechaControl\"].str.split(\" \", n = 1, expand = True)[0]\n",
    "    usuariosConectados[\"usuarios.anyo\"] = usuariosConectados[\"usuarios.fecha\"].str[0:4]\n",
    "    usuariosConectados[\"usuarios.mes\"] = usuariosConectados[\"usuarios.fecha\"].str[5:7]\n",
    "    usuariosConectados[\"usuarios.dia\"] = usuariosConectados[\"usuarios.fecha\"].str[8:10]\n",
    "    usuariosConectados[\"usuarios.hora\"] = usuariosConectados[\"usuarios.fechaControl\"].str.split(\" \", n = 1, expand = True)[1].str.split(\":\", n = 2, expand = True)[0]\n",
    "    usuariosConectados[\"usuarios.minuto\"] = usuariosConectados[\"usuarios.fechaControl\"].str.split(\" \", n = 1, expand = True)[1].str.split(\":\", n = 2, expand = True)[1]\n",
    "    \n",
    "    usuariosConectados['nombreDepartamento'] = usuariosConectados['usuarios.nombreDepartamento']\n",
    "    usuariosConectados['nombreMunicipio'] = usuariosConectados['usuarios.nombreMunicipio']\n",
    "    usuariosConectados['idBeneficiario'] = usuariosConectados['usuarios.idBeneficiario']\n",
    "    usuariosConectados['fecha'] = usuariosConectados['usuarios.fecha']\n",
    "    usuariosConectados['anyo'] = usuariosConectados['usuarios.anyo']\n",
    "    usuariosConectados['mes'] = usuariosConectados['usuarios.mes']\n",
    "    usuariosConectados['dia'] = usuariosConectados['usuarios.dia']\n",
    "    \n",
    "    #####################\n",
    "\n",
    "    columnas_aux_performance=['usuarios.macRed', 'usuarios.fechaControl',\\\n",
    "                               'usuarios.consumoUsuariosDescarga_aux',\n",
    "                               'usuarios.consumoUsuariosCarga_aux', 'usuarios.consumoUsuariosDescarga',\\\n",
    "                               'usuarios.consumoUsuariosCarga', 'usuarios.consumoUsuarios',\\\n",
    "                               'usuarios.siteID', 'usuarios.apGroup']\n",
    "    columnas_merge = ['usuarios.fechaControl','usuarios.siteID','usuarios.apGroup','usuarios.macRed']\n",
    "    \n",
    "    usuariosConectados=pd.merge(usuariosConectados,aux_performance[columnas_aux_performance],on=columnas_merge, how='left')\n",
    "    \n",
    "\n",
    "    usuariosConectados = usuariosConectados.rename(columns=\n",
    "                                                   {'usuarios.consumoUsuariosCarga_aux':'usuarios.tablero11consumoUsuariosCarga_aux'\n",
    "                                                    ,'usuarios.consumoUsuariosDescarga_aux':'usuarios.tablero11consumoUsuariosDescarga_aux'\n",
    "                                                    ,'usuarios.consumoUsuariosCarga' : 'usuarios.tablero11consumoUsuariosCarga'\n",
    "                                                    ,'usuarios.consumoUsuariosDescarga':'usuarios.tablero11consumoUsuariosDescarga'\n",
    "                                                    ,'usuarios.consumoUsuarios':'usuarios.tablero11consumoUsuarios'\n",
    "                                                   })\n",
    "\n",
    "except:\n",
    "    pass"
   ]
  },
  {
   "cell_type": "code",
   "execution_count": null,
   "metadata": {},
   "outputs": [],
   "source": [
    "try:\n",
    "    datos_consumos = datos_consumos.rename(columns={'lugar_cod' :'site_id'})\n",
    "    datos_consumos['mac_ap'] = datos_consumos['mac_ap'].str.replace('-',':')\n",
    "    datos_consumos['fecha_control'] = datos_consumos[\"fecha_inicio\"].str[0:-4] + '0:00'\n",
    "    \n",
    "    tiempoPromedioSesionSitio=datos_consumos[['site_id','mac_ap','fecha_control','tiempo_sesion_minutos']].groupby(['site_id','mac_ap','fecha_control']).agg(['mean']).reset_index()\n",
    "    tiempoPromedioSesionSitio.columns = tiempoPromedioSesionSitio.columns.droplevel(1)\n",
    "    tiempoPromedioSesionSitio = tiempoPromedioSesionSitio.rename(columns={'tiempo_sesion_minutos' : 'usuarios.tiempoPromedioSesionSitio'})\n",
    "    tiempoPromedioSesionSitio['usuarios.tiempoPromedioSesionSitio'] = round(tiempoPromedioSesionSitio['usuarios.tiempoPromedioSesionSitio'],6)\n",
    "    tiempoPromedioSesionSitio = tiempoPromedioSesionSitio.rename(columns={'mac_ap' : 'usuarios.macRed'\n",
    "                                                                     , 'fecha_control' : 'usuarios.fechaControl'})\n",
    "    \n",
    "\n",
    "    \n",
    "    datos_dev.rename(columns={'usuarios.siteID':'site_id'},inplace=True)\n",
    "    \n",
    "    tiempoPromedioSesionSitio = pd.merge(tiempoPromedioSesionSitio,datos_semilla, on ='site_id', how='inner')\n",
    "    tiempoPromedioSesionSitio = pd.merge(tiempoPromedioSesionSitio, datos_dev, on=['site_id','usuarios.macRed'], how='left')\n",
    "    tiempoPromedioSesionSitio.fillna({'usuarios.apGroup':'No identificado'},inplace=True)\n",
    "    tiempoPromedioSesionSitio = tiempoPromedioSesionSitio.rename(columns={'site_id' : 'usuarios.siteID'})\n",
    "    tiempoPromedioSesionSitio[\"usuarios.fecha\"] = tiempoPromedioSesionSitio[\"usuarios.fechaControl\"].str[0:10]\n",
    "    tiempoPromedioSesionSitio[\"usuarios.anyo\"] = tiempoPromedioSesionSitio[\"usuarios.fecha\"].str[0:4]\n",
    "    tiempoPromedioSesionSitio[\"usuarios.mes\"] = tiempoPromedioSesionSitio[\"usuarios.fecha\"].str[5:7]\n",
    "#     tiempoPromedioSesionSitio[\"usuarios.dia\"] = tiempoPromedioSesionSitio[\"usuarios.fecha\"].str[8:10]\n",
    "#     tiempoPromedioSesionSitio[\"usuarios.hora\"] = tiempoPromedioSesionSitio[\"usuarios.fechaControl\"].str.split(\" \", n = 1, expand = True)[1].str.split(\":\", n = 2, expand = True)[0][\"usuarios.hora\"] = tiempoPromedioSesionSitio[\"usuarios.fechaControl\"].str.split(\" \", n = 1, expand = True)[1].str.split(\":\", n = 2, expand = True)[0]\n",
    "#     tiempoPromedioSesionSitio[\"usuarios.minuto\"] = tiempoPromedioSesionSitio[\"usuarios.fechaControl\"].str.split(\" \", n = 1, expand = True)[1].str.split(\":\", n = 2, expand = True)[1]\n",
    "    \n",
    "    tiempoPromedioSesionSitio['nombreDepartamento'] = tiempoPromedioSesionSitio['usuarios.nombreDepartamento']\n",
    "    tiempoPromedioSesionSitio['nombreMunicipio'] = tiempoPromedioSesionSitio['usuarios.nombreMunicipio']\n",
    "    tiempoPromedioSesionSitio['idBeneficiario'] = tiempoPromedioSesionSitio['usuarios.idBeneficiario']\n",
    "    tiempoPromedioSesionSitio['fecha'] = tiempoPromedioSesionSitio['usuarios.fecha']\n",
    "    \n",
    "    tiempoPromedioSesionSitio['@timestamp'] = now.isoformat()\n",
    "    \n",
    "#     salida = helpers.bulk(es, doc_generator(tiempoPromedioSesionSitio))\n",
    "#     print(\"Fecha: \", now,\"- Tiempo promedio sesion en sitio insertado en indice principal:\",salida[0])\n",
    "except:\n",
    "#     print(\"Fecha: \", now,\"- Nada para insertar en indice principal\")\n",
    "    pass"
   ]
  },
  {
   "cell_type": "markdown",
   "metadata": {},
   "source": [
    "# Uso servicio de internet insertados en indice principal"
   ]
  },
  {
   "cell_type": "markdown",
   "metadata": {},
   "source": [
    "la lista use_these_keys se usa para referenciar cuales campos del dataframe irán al indice final. si los datos no se declaran en este, no se insertarán"
   ]
  },
  {
   "cell_type": "code",
   "execution_count": null,
   "metadata": {},
   "outputs": [],
   "source": [
    "# use_these_keys = ['usuarios.siteID'\n",
    "#                   ,'usuarios.tablero11.nomCentroDigital'\n",
    "#                   , 'usuarios.tablero11.localidad'\n",
    "#                   , 'usuarios.tablero11.nombreDepartamento'\n",
    "#                   , 'usuarios.tablero11.nombreMunicipio'\n",
    "#                   , 'usuarios.tablero11.idBeneficiario'\n",
    "#                   , 'usuarios.tablero11.location'\n",
    "# #                   , 'usuarios.tablero11sesiones_Usuarios'\n",
    "# #                   , 'usuarios.tablero11consumoUsuarios'\n",
    "#                   , 'usuarios.tablero11.apGroup'\n",
    "#                   , 'usuarios.tablero11.fechaControl'\n",
    "#                   , 'usuarios.tablero11.fecha'\n",
    "#                   , 'usuarios.tablero11.anyo'\n",
    "#                   , 'usuarios.tablero11.mes'\n",
    "#                   , '@timestamp']\n",
    "\n",
    "# def doc_generator(df,use_these_keys):\n",
    "#     df_iter = df.iterrows()\n",
    "#     for index, document in df_iter:\n",
    "#         yield {\n",
    "#                 \"_index\": indice, \n",
    "#                 \"_id\": f\"{ 'UsoServicio-' + str(document['usuarios.macRed']) + '-' + str(document['usuarios.detallesTecnologiasTerminales']) + '-' + str(document['usuarios.fechaControl'])}\",\n",
    "#                 \"_source\": filterKeys(document,use_these_keys),\n",
    "#             }"
   ]
  },
  {
   "cell_type": "markdown",
   "metadata": {},
   "source": [
    "### Asociando datos de Speed test"
   ]
  },
  {
   "cell_type": "markdown",
   "metadata": {},
   "source": [
    "Se tiene una lectura diara de velocidad para cada centro. Por tanto se debe cruzar con el fjulo principal, haciendo uso solo del año, mes día, sin incluir la hora."
   ]
  },
  {
   "cell_type": "code",
   "execution_count": null,
   "metadata": {},
   "outputs": [],
   "source": [
    "def traeVelocidad(fecha_max_mintic,fecha_tope_mintic):\n",
    "    total_docs = 10000\n",
    "    response = es.search(\n",
    "        index= parametros.speed_index+'*',\n",
    "        body={\n",
    "                \"_source\": [\"beneficiary_code\",\"locationid\", \"result_start_date\"\n",
    "                            , \"result_download_mbps\", \"result_upload_mbps\"],\n",
    "                \"query\": {\n",
    "                    \"range\": {\n",
    "                        \"result_start_date\": {\n",
    "                            \"gte\": fecha_max_mintic.split(' ')[0]+'T00:00:00',\n",
    "                            \"lt\": fecha_tope_mintic.split(' ')[0]+'T23:59:59'\n",
    "                        }\n",
    "                    }\n",
    "                }\n",
    "\n",
    "        },\n",
    "        size=total_docs\n",
    "    )\n",
    "    #print(es.info())\n",
    "    elastic_docs = response[\"hits\"][\"hits\"]\n",
    "    fields = {}\n",
    "    for num, doc in enumerate(elastic_docs):\n",
    "        source_data = doc[\"_source\"]\n",
    "        for key, val in source_data.items():\n",
    "            try:\n",
    "                fields[key] = np.append(fields[key], val)\n",
    "            except KeyError:\n",
    "                fields[key] = np.array([val])\n",
    "\n",
    "    return pd.DataFrame(dict([ (k,pd.Series(v)) for k,v in fields.items() ]))\n"
   ]
  },
  {
   "cell_type": "markdown",
   "metadata": {},
   "source": [
    "* Se genera fecha en yyyy-mm-dd, y cada campo por separado\n",
    "* La hora y minuto se toma aparte\n",
    "\n",
    "Valores que se convierten a cero si son nulos\n",
    "* trafico.anchoBandaDescarga\n",
    "* trafico.anchoBandaCarga"
   ]
  },
  {
   "cell_type": "code",
   "execution_count": null,
   "metadata": {},
   "outputs": [],
   "source": [
    "fecha_max_mintic = fecha_ejecucion\n",
    "fecha_tope_mintic = (datetime.strptime(fecha_max_mintic, '%Y-%m-%d %H:%M:%S')+timedelta(minutes=50)-timedelta(seconds=1)).strftime(\"%Y-%m-%d %H:%M:%S\")\n",
    "datos_speed = traeVelocidad(fecha_max_mintic,fecha_tope_mintic)\n",
    "\n",
    "if datos_speed is None or datos_speed.empty:\n",
    "    while (datos_speed is None or datos_speed.empty) and ((datetime.strptime(fecha_max_mintic[0:10], '%Y-%m-%d').strftime(\"%Y-%m-%d %H:%M:%S\")) < str(now.strftime(\"%Y-%m-%d %H:%M:%S\"))):\n",
    "        fecha_max_mintic = (datetime.strptime(fecha_max_mintic, '%Y-%m-%d %H:%M:%S')+timedelta(minutes=50)).strftime(\"%Y-%m-%d %H:%M:%S\")\n",
    "        fecha_tope_mintic = (datetime.strptime(fecha_tope_mintic, '%Y-%m-%d %H:%M:%S')+timedelta(minutes=50)).strftime(\"%Y-%m-%d %H:%M:%S\")\n",
    "        datos_speed = traeVelocidad(fecha_max_mintic,fecha_tope_mintic)\n",
    "else:\n",
    "    pass"
   ]
  },
  {
   "cell_type": "code",
   "execution_count": null,
   "metadata": {},
   "outputs": [],
   "source": [
    "try:\n",
    "    datos_speed = datos_speed.drop(datos_speed[(datos_speed[\"result_download_mbps\"]<0) | (datos_speed[\"result_upload_mbps\"]<0)].index)\n",
    "    datos_speed['trafico.totales.fecha'] = datos_speed['result_start_date'].str.split(\"T\", n = 1, expand = True)[0]\n",
    "    datos_speed['result_download_mbps'] = datos_speed['result_download_mbps'] * 1000\n",
    "    datos_speed['result_upload_mbps'] = datos_speed['result_upload_mbps'] * 1000\n",
    "    datos_speed = datos_speed[['beneficiary_code','trafico.totales.fecha','result_download_mbps','result_upload_mbps']].groupby(['beneficiary_code','trafico.totales.fecha']).agg(['max']).reset_index()\n",
    "    datos_speed.columns = datos_speed.columns.droplevel(1)\n",
    "    datos_speed.rename(columns={'result_download_mbps': 'trafico.anchoBandaDescarga'\n",
    "                             ,'result_upload_mbps' :  'trafico.anchoBandaCarga'\n",
    "                             , 'beneficiary_code' : 'site_id'\n",
    "                             }, inplace=True)\n",
    "\n",
    "    datos_speed[\"trafico.totales.anyo\"] = datos_speed[\"trafico.totales.fecha\"].str[0:4]\n",
    "    datos_speed[\"trafico.totales.mes\"] = datos_speed[\"trafico.totales.fecha\"].str[5:7]\n",
    "    datos_speed[\"trafico.totales.dia\"] = datos_speed[\"trafico.totales.fecha\"].str[8:10]\n",
    "    datos_speed = pd.merge(datos_speed,  datos_semilla, on='site_id', how='inner')\n",
    "    datos_speed = datos_speed.rename(columns={'site_id' : 'trafico.siteID'})\n",
    "    datos_speed.dropna(subset=['trafico.anchoBandaDescarga','trafico.anchoBandaCarga'])\n",
    "    datos_speed.fillna({'trafico.anchoBandaDescarga':0\n",
    "                      , 'trafico.anchoBandaCarga':0\n",
    "                       },inplace=True)\n",
    "    datos_speed.fillna('', inplace=True)\n",
    "    datos_speed['nombreDepartamento'] = datos_speed['trafico.nombreDepartamento']\n",
    "    datos_speed['nombreMunicipio'] = datos_speed['trafico.nombreMunicipio']\n",
    "    datos_speed['idBeneficiario'] = datos_speed['trafico.idBeneficiario']\n",
    "    datos_speed['fecha'] = datos_speed['trafico.totales.fecha']\n",
    "    datos_speed['anyo'] = datos_speed['trafico.totales.anyo']\n",
    "    datos_speed['mes'] = datos_speed['trafico.totales.mes']\n",
    "    datos_speed['dia'] = datos_speed['trafico.totales.dia']\n",
    "    datos_speed['@timestamp'] = now.isoformat()\n",
    "\n",
    "    datos_speed.rename(columns={\n",
    "       'trafico.siteID':'usuarios.siteID',\n",
    "       'trafico.nombreDepartamento':'usuarios.nombreDepartamento',\n",
    "       'trafico.codISO':'usuarios.codISO',\n",
    "       'trafico.sistemaEnergia':'usuarios.sistemaEnergia',\n",
    "       'trafico.nombreMunicipio':'usuarios.nombreMunicipio',\n",
    "       'trafico.localidad' : 'usuarios.localidad',\n",
    "       'trafico.nomCentroDigital' : 'usuarios.nomCentroDigital',\n",
    "       'trafico.idBeneficiario':'usuarios.idBeneficiario',\n",
    "       'trafico.location':'usuarios.location',\n",
    "       'trafico.anchoBandaDescarga':'usuarios.anchoBandaDescarga',\n",
    "       'trafico.anchoBandaCarga':'usuarios.anchoBandaCarga',\n",
    "       'trafico.totales.fecha':'usuarios.fecha',\n",
    "       'trafico.totales.anyo':'usuarios.anyo',\n",
    "       'trafico.totales.mes':'usuarios.mes',\n",
    "       'trafico.totales.dia':'usuarios.dia' }, inplace=True)\n",
    "        \n",
    "#     salida = helpers.bulk(es, doc_generator(datos_speed))\n",
    "#     print(\"Fecha: \", now,\"- Datos Velocidad carga y descarga (Trafico) en indice principal:\",salida[0])\n",
    "except:\n",
    "#     print(\"Fecha: \", now,\"- No hay Datos Velocidad carga y descarga(Trafico) para insertar en indice principal\")\n",
    "    pass"
   ]
  },
  {
   "cell_type": "code",
   "execution_count": null,
   "metadata": {},
   "outputs": [],
   "source": [
    "#NO se utiliza informacion del uso del servicio de Internet por MAC address en el Tablero 11.\n",
    "\n",
    "\n",
    "try:    \n",
    "    datos_radio['fecha_control'] = datos_radio['fecha_control'].str[0:15]+'0:00'\n",
    "    datos_radio = datos_radio.groupby(['ap_mac', 'fecha_control', 'mac', 'radio.band']).agg(['max']).reset_index()\n",
    "    datos_radio.columns = datos_radio.columns.droplevel(1)\n",
    "    datos_radio = datos_radio[['ap_mac', 'fecha_control', 'radio.band', 'radio.rx_bytes',\n",
    "           'radio.tx_bytes']].groupby(['ap_mac', 'fecha_control', 'radio.band']).agg(['sum']).reset_index()\n",
    "    datos_radio.columns = datos_radio.columns.droplevel(1)\n",
    "    datos_radio = datos_radio.rename(columns={'ap_mac' : 'usuarios.macRed'})\n",
    "    \n",
    "    usoServicioInternetSitio = pd.merge(datos_radio,datos_dev[['usuarios.apGroup', 'site_id', 'usuarios.macRed']], on ='usuarios.macRed', how='inner')\n",
    "    usoServicioInternetSitio.fillna({'radio.rx_bytes':0,'radio.tx_bytes':0},inplace=True)\n",
    "    usoServicioInternetSitio.fillna({'usuarios.macRed':'','radio.band':'No identificado','usuarios.apGroup':'No identificado'},inplace=True)\n",
    "    usoServicioInternetSitio['usuarios.usoServicioInternetSitio'] = usoServicioInternetSitio['radio.rx_bytes'].astype(float) + usoServicioInternetSitio['radio.tx_bytes'].astype(float)\n",
    "    usoServicioInternetSitio = pd.merge(usoServicioInternetSitio,datos_semilla, on ='site_id', how='inner')\n",
    "    usoServicioInternetSitio= usoServicioInternetSitio.rename(columns={'site_id' : 'usuarios.siteID'\n",
    "                                                                    ,'radio.band' : 'usuarios.detallesTecnologiasTerminales'\n",
    "                                                                    , 'fecha_control' : 'usuarios.fechaControl'})\n",
    "    usoServicioInternetSitio['usuarios.usoServicioInternetSitio'] = round((usoServicioInternetSitio['usuarios.usoServicioInternetSitio']/float(1<<30)),6) \n",
    "    usoServicioInternetSitio[\"usuarios.fecha\"] = usoServicioInternetSitio[\"usuarios.fechaControl\"].str.split(\" \", n = 1, expand = True)[0]\n",
    "    usoServicioInternetSitio[\"usuarios.anyo\"] = usoServicioInternetSitio[\"usuarios.fecha\"].str[0:4]\n",
    "    usoServicioInternetSitio[\"usuarios.mes\"] = usoServicioInternetSitio[\"usuarios.fecha\"].str[5:7]\n",
    "    usoServicioInternetSitio[\"usuarios.dia\"] = usoServicioInternetSitio[\"usuarios.fecha\"].str[8:10]\n",
    "    usoServicioInternetSitio[\"usuarios.hora\"] = usoServicioInternetSitio[\"usuarios.fechaControl\"].str.split(\" \", n = 1, expand = True)[1].str.split(\":\", n = 2, expand = True)[0]\n",
    "    usoServicioInternetSitio[\"usuarios.minuto\"] = usoServicioInternetSitio[\"usuarios.fechaControl\"].str.split(\" \", n = 1, expand = True)[1].str.split(\":\", n = 2, expand = True)[1]\n",
    "    \n",
    "    usoServicioInternetSitio['nombreDepartamento'] = usoServicioInternetSitio['usuarios.nombreDepartamento']\n",
    "    usoServicioInternetSitio['nombreMunicipio'] = usoServicioInternetSitio['usuarios.nombreMunicipio']\n",
    "    usoServicioInternetSitio['idBeneficiario'] = usoServicioInternetSitio['usuarios.idBeneficiario']\n",
    "    usoServicioInternetSitio['fecha'] = usoServicioInternetSitio['usuarios.fecha']\n",
    "    usoServicioInternetSitio['anyo'] = usoServicioInternetSitio['usuarios.anyo']\n",
    "    usoServicioInternetSitio['mes'] = usoServicioInternetSitio['usuarios.mes']\n",
    "    usoServicioInternetSitio['dia'] = usoServicioInternetSitio['usuarios.dia']\n",
    "    \n",
    "    usoServicioInternetSitio['@timestamp'] = now.isoformat()\n",
    "    \n",
    "    #Cambio de variables utilizando los campos del Tablero...\n",
    "    \n",
    "#     usoServicioInternetSitio=cambioVariable(usoServicioInternetSitio)\n",
    "    \n",
    "    #Se comenta escritura en el indice porque no se necesita esa estructura\n",
    "    #salida = helpers.bulk(es, doc_generator(usoServicioInternetSitio))\n",
    "    #print(\"Fecha: \", now,\"- Uso servicio y tecnología terminal insertados en indice principal:\",salida[0])\n",
    "except:\n",
    "#     print(\"Fecha: \", now,\"- Ningun uservicio/tecnología terminal conectado para insertar en indice principal\")\n",
    "    pass\n"
   ]
  },
  {
   "cell_type": "markdown",
   "metadata": {},
   "source": [
    "* se toma el maximo radio para cada mac de dispositivo final\n",
    "* se suma agrupando por ap_mac, banda y fecha\n",
    "* El resultado es un total para cada banda, fecha y ap_mac"
   ]
  },
  {
   "cell_type": "markdown",
   "metadata": {},
   "source": [
    "Se renombra fecha_control para cruzar"
   ]
  },
  {
   "cell_type": "code",
   "execution_count": null,
   "metadata": {},
   "outputs": [],
   "source": [
    "try:\n",
    "    use_these_keys = [ 'usuarios.tablero09.tiempoPromedioSesionSitio'\n",
    "                      , 'usuarios.tablero09.siteID'\n",
    "                      ,'usuarios.tablero09.nomCentroDigital'\n",
    "                      , 'usuarios.tablero09.localidad'\n",
    "                      , 'usuarios.tablero09.nombreDepartamento'\n",
    "                      , 'usuarios.tablero09.nombreMunicipio'\n",
    "                      , 'usuarios.tablero09.idBeneficiario'\n",
    "                      , 'usuarios.tablero09.location'\n",
    "                      , 'usuarios.tablero09.sesiones_Usuarios'\n",
    "                      , 'usuarios.tablero09.usuariosConectados'\n",
    "                      , 'usuarios.tablero09.consumoUsuarios'\n",
    "#                       , 'usuarios.tablero09.consumoUsuariosDescarga_aux'\n",
    "#                       , 'usuarios.tablero09.consumoUsuariosCarga_aux'\n",
    "                      , 'usuarios.tablero09.consumoUsuariosDescarga'\n",
    "                      , 'usuarios.tablero09.consumoUsuariosCarga'\n",
    "                      , 'usuarios.tablero09.apGroup'\n",
    "                      , 'usuarios.tablero09.fechaControl'\n",
    "                      , 'usuarios.tablero09.fecha'\n",
    "                      , 'usuarios.tablero09.anyo'\n",
    "                      , 'usuarios.tablero09.mes'\n",
    "                      , 'usuarios.tablero09.macRed'\n",
    "                      , 'usuarios.tablero09.usoServicioInternetSitio'\n",
    "                      , 'usuarios.tablero09.anchoBandaDescarga'\n",
    "                      , 'usuarios.tablero09.anchoBandaCarga'\n",
    "                      , '@timestamp']\n",
    "\n",
    "\n",
    "    usuariosConectados['@timestamp'] = now.isoformat()\n",
    "    \n",
    "    \n",
    "    #Seleccionar campos del Tablero..\n",
    "    \n",
    "    #Cambio de variables en usuariosConectados...\n",
    "    \n",
    "    usuariosConectados = usuariosConectados[[  'usuarios.nomCentroDigital',  \n",
    "                                               'usuarios.localidad',\n",
    "                                               'usuarios.siteID', \n",
    "                                               'usuarios.nombreDepartamento',\n",
    "                                               'usuarios.nombreMunicipio',\n",
    "                                               'usuarios.idBeneficiario', \n",
    "                                               'usuarios.location', \n",
    "                                               'usuarios.fechaControl',\n",
    "                                               'usuarios.macRed', \n",
    "                                               'usuarios.tablero11usuariosConectados',\n",
    "#                                                'usuarios.tablero09.tiempoPromedioSesionSitio',\n",
    "                                               'usuarios.tablero11sesiones_Usuarios', \n",
    "                                               'usuarios.apGroup',\n",
    "                                               'usuarios.fecha', \n",
    "                                               'usuarios.anyo', \n",
    "                                               'usuarios.mes',\n",
    "                                               'usuarios.tablero11consumoUsuariosDescarga',\n",
    "                                               'usuarios.tablero11consumoUsuariosCarga',\n",
    "                                               'usuarios.tablero11consumoUsuarios',\n",
    "                                               '@timestamp']]\n",
    "    \n",
    "    usuariosConectados = pd.merge(usuariosConectados,\n",
    "                                 usoServicioInternetSitio[['usuarios.siteID',\n",
    "                                                           'usuarios.macRed',\n",
    "                                                           'usuarios.fechaControl',\n",
    "                                                           'usuarios.usoServicioInternetSitio']]\n",
    "                                 ,on=['usuarios.siteID','usuarios.macRed','usuarios.fechaControl'],\n",
    "                                  how='left')\n",
    "    \n",
    "#     usuariosConectados = cambioVariable(usuariosConectados)\n",
    "\n",
    "    datos_speed = datos_speed[['trafico.siteID', \n",
    "                               'trafico.totales.fecha', \n",
    "                               'trafico.anchoBandaDescarga',\n",
    "                               'trafico.anchoBandaCarga']]\n",
    "    \n",
    "    datos_speed.columns = ['usuarios.siteID', \n",
    "                           'usuarios.fecha', \n",
    "                           'usuarios.anchoBandaDescarga',\n",
    "                           'usuarios.anchoBandaCarga']\n",
    "    \n",
    "    usuariosConectados =  pd.merge(usuariosConectados,datos_speed,on=['usuarios.siteID','usuarios.fecha'],how='left')\n",
    "    \n",
    "    usuariosConectados =  pd.merge(usuariosConectados,\n",
    "                          tiempoPromedioSesionSitio[['usuarios.siteID','usuarios.fecha','usuarios.tiempoPromedioSesionSitio']],\n",
    "                          on=['usuarios.siteID','usuarios.fecha'],how='left')\n",
    "    \n",
    "    usuariosConectados = usuariosConectados.rename(columns={\n",
    "                                                 'usuarios.nomCentroDigital':'usuarios.tablero09.nomCentroDigital',\n",
    "                                                 'usuarios.localidad':'usuarios.tablero09.localidad', \n",
    "                                                 'usuarios.siteID':'usuarios.tablero09.siteID',\n",
    "                                                 'usuarios.nombreDepartamento':'usuarios.tablero09.nombreDepartamento',\n",
    "                                                 'usuarios.nombreMunicipio':'usuarios.tablero09.nombreMunicipio',\n",
    "                                                 'usuarios.idBeneficiario':'usuarios.tablero09.idBeneficiario',\n",
    "                                                 'usuarios.location':'usuarios.tablero09.location',\n",
    "                                                 'usuarios.fechaControl':'usuarios.tablero09.fechaControl',\n",
    "                                                 'usuarios.macRed':'usuarios.tablero09.macRed',\n",
    "                                                 'usuarios.tablero11usuariosConectados':'usuarios.tablero09.usuariosConectados',\n",
    "                                                 'usuarios.tablero11sesiones_Usuarios':'usuarios.tablero09.sesiones_Usuarios',\n",
    "                                                 'usuarios.apGroup':'usuarios.tablero09.apGroup',\n",
    "                                                 'usuarios.fecha':'usuarios.tablero09.fecha', \n",
    "                                                 'usuarios.anyo':'usuarios.tablero09.anyo', \n",
    "                                                 'usuarios.mes':'usuarios.tablero09.mes',\n",
    "                                                 'usuarios.tablero11consumoUsuariosDescarga':'usuarios.tablero09.consumoUsuariosDescarga',\n",
    "                                                 'usuarios.tablero11consumoUsuariosCarga':'usuarios.tablero09.consumoUsuariosCarga',\n",
    "                                                 'usuarios.tablero11consumoUsuarios':'usuarios.tablero09.consumoUsuarios',\n",
    "                                                 'usuarios.usoServicioInternetSitio':'usuarios.tablero09.usoServicioInternetSitio',\n",
    "                                                 'usuarios.anchoBandaDescarga':'usuarios.tablero09.anchoBandaDescarga',\n",
    "                                                 'usuarios.anchoBandaCarga':'usuarios.tablero09.anchoBandaCarga',\n",
    "                                                 'usuarios.tiempoPromedioSesionSitio':'usuarios.tablero09.tiempoPromedioSesionSitio'})\n",
    "    \n",
    "    \n",
    "    def doc_generator_consumo(df,use_these_keys):\n",
    "        df_iter = df.iterrows()\n",
    "        for index, document in df_iter:\n",
    "            yield {\n",
    "                    \"_index\": indice, \n",
    "                    \"_id\": f\"{ 'usuariosConectados-'+ str(document['usuarios.tablero09.siteID']) + str(document['usuarios.tablero09.macRed']) + '-' + str(document['usuarios.tablero09.fechaControl'])+'-'+str(random.randrange(10000))}\",\n",
    "                    \"_source\": filterKeys(document,use_these_keys),\n",
    "                }\n",
    "\n",
    "    #Se comenta escritura en el indice porque no se necesita esa estructura#Se comenta escritura en el indice porque no se necesita esa estructura            }\n",
    "    \n",
    "#     usuariosConectados.fillna(\"\",inplace=True)\n",
    "\n",
    "    usuariosConectados.fillna({'usuarios.tablero09.anchoBandaDescarga':0\n",
    "                              ,'usuarios.tablero09.anchoBandaCarga':0\n",
    "                              ,'usuarios.tablero09.usoServicioInternetSitio':0\n",
    "                              ,'usuarios.tablero09.consumoUsuarios':0\n",
    "                              ,'usuarios.tablero09.consumoUsuariosCarga':0\n",
    "                              ,'usuarios.tablero09.consumoUsuariosDescarga':0\n",
    "                              ,\"usuarios.tablero09.tiempoPromedioSesionSitio\":0\n",
    "                              },inplace=True)\n",
    "    \n",
    "    usuariosConectados.fillna(\"\",inplace=True)\n",
    "    \n",
    "    salida = helpers.bulk(es, doc_generator_consumo(usuariosConectados,use_these_keys))\n",
    "    \n",
    "    print(\"Fecha: \", now,\"- Usuarios conectados insertados en indice principal:\",salida[0])\n",
    "    \n",
    "except Exception as e:  \n",
    "    \n",
    "    print(\"Fecha: \", now,\"- Ningun usuario conectado para insertar en indice principal:\")"
   ]
  },
  {
   "cell_type": "markdown",
   "metadata": {},
   "source": [
    "## Totalizar la cantidad de dispositivos por usuario"
   ]
  },
  {
   "cell_type": "markdown",
   "metadata": {},
   "source": [
    "* Para contabilizar los dispositivos por usuario, se debe contar la cantidad de ocurrencias de mac_usuario dentro de detalle de conexiones, agrupando por tipo documento y documento. \n",
    "* Aún cuando la mayoria de las fuentes referencia a mac_usuario, no se debe confundir a la hora de agrupar con los datos reales de usuario que en este caso serían el documento de identidad como campo de identificación"
   ]
  },
  {
   "cell_type": "code",
   "execution_count": null,
   "metadata": {},
   "outputs": [],
   "source": [
    "# NO se utiliza campos de CONTEO DE DISPOSITIVOS..\n",
    "\n",
    "# try:\n",
    "#     conteoDispositivos = datos_det_conex[['fecha_control','site_id', 'documento', 'tipodoc','fecha']].groupby(['fecha_control','site_id', 'documento', 'tipodoc']).agg(['count']).reset_index()\n",
    "#     conteoDispositivos.columns = conteoDispositivos.columns.droplevel(1)\n",
    "#     conteoDispositivos= conteoDispositivos.rename(columns={'fecha' : 'conteo'})\n",
    "#     conteoDispositivos = conteoDispositivos[['fecha_control','site_id','conteo']].groupby(['fecha_control','site_id']).agg(['sum']).reset_index()\n",
    "#     conteoDispositivos.columns = conteoDispositivos.columns.droplevel(1)\n",
    "#     conteoDispositivos= conteoDispositivos.rename(columns={'conteo' : 'usuarios.conteoDispositivos'})\n",
    "#     conteoDispositivos = pd.merge(conteoDispositivos, datos_semilla, on='site_id', how='inner')\n",
    "#     conteoDispositivos = conteoDispositivos.rename(columns={'fecha_control' : 'usuarios.fechaControl'})\n",
    "#     conteoDispositivos[\"usuarios.fecha\"] = conteoDispositivos[\"usuarios.fechaControl\"].str.split(\" \", n = 1, expand = True)[0]\n",
    "#     conteoDispositivos[\"usuarios.anyo\"] = conteoDispositivos[\"usuarios.fecha\"].str[0:4]\n",
    "#     conteoDispositivos[\"usuarios.mes\"] = conteoDispositivos[\"usuarios.fecha\"].str[5:7]\n",
    "#     conteoDispositivos[\"usuarios.dia\"] = conteoDispositivos[\"usuarios.fecha\"].str[8:10]\n",
    "#     conteoDispositivos[\"usuarios.hora\"] = conteoDispositivos[\"usuarios.fechaControl\"].str.split(\" \", n = 1, expand = True)[1].str.split(\":\", n = 2, expand = True)[0]\n",
    "#     conteoDispositivos[\"usuarios.minuto\"] = conteoDispositivos[\"usuarios.fechaControl\"].str.split(\" \", n = 1, expand = True)[1].str.split(\":\", n = 2, expand = True)[1]\n",
    "#     conteoDispositivos= conteoDispositivos.rename(columns={'site_id' : 'usuarios.siteID'})\n",
    "    \n",
    "#     conteoDispositivos['nombreDepartamento'] = conteoDispositivos['usuarios.nombreDepartamento']\n",
    "#     conteoDispositivos['nombreMunicipio'] = conteoDispositivos['usuarios.nombreMunicipio']\n",
    "#     conteoDispositivos['idBeneficiario'] = conteoDispositivos['usuarios.idBeneficiario']\n",
    "#     conteoDispositivos['fecha'] = conteoDispositivos['usuarios.fecha']\n",
    "#     conteoDispositivos['anyo'] = conteoDispositivos['usuarios.anyo']\n",
    "#     conteoDispositivos['mes'] = conteoDispositivos['usuarios.mes']\n",
    "#     conteoDispositivos['dia'] = conteoDispositivos['usuarios.dia']\n",
    "# except:\n",
    "#     pass\n"
   ]
  },
  {
   "cell_type": "markdown",
   "metadata": {},
   "source": [
    "# 4. Insertando promedio dispositivos en indice principal"
   ]
  },
  {
   "cell_type": "markdown",
   "metadata": {},
   "source": [
    "la lista use_these_keys se usa para referenciar cuales campos del dataframe irán al indice final. si los datos no se declaran en este, no se insertarán"
   ]
  },
  {
   "cell_type": "code",
   "execution_count": null,
   "metadata": {},
   "outputs": [],
   "source": [
    "# NO se utiliza campos de CONTEO DE DISPOSITIVOS..\n",
    "\n",
    "\n",
    "# try:\n",
    "#     use_these_keys = ['usuarios.tablero11siteID'\n",
    "#                      , 'usuarios.tablero11nomCentroDigital'\n",
    "#                      , 'usuarios.tablero11localidad'\n",
    "#                      , 'usuarios.tablero11nombreDepartamento'\n",
    "#                      , 'usuarios.tablero11nombreMunicipio'\n",
    "#                      , 'usuarios.tablero11idBeneficiario'\n",
    "#                      , 'usuarios.tablero11location'\n",
    "#                      , 'usuarios.tablero11fechaControl'\n",
    "#                      , 'usuarios.tablero11fecha'\n",
    "#                      , 'usuarios.tablero11anyo'\n",
    "#                      , 'usuarios.tablero11mes'\n",
    "#                      , '@timestamp']\n",
    "\n",
    "#     conteoDispositivos['@timestamp'] = now.isoformat()\n",
    "    \n",
    "#     #Cambio de variables utilizando los campos del Tablero...\n",
    "    \n",
    "#     conteoDispositivos=cambioVariable(conteoDispositivos)\n",
    "    \n",
    "#     #2307\n",
    "    \n",
    "#     def doc_generator(df):\n",
    "#         df_iter = df.iterrows()\n",
    "#         for index, document in df_iter:\n",
    "#             yield {\n",
    "#                     \"_index\": indice, \n",
    "#                     \"_id\": f\"{ 'PromedioDispositivos-' + str(document['usuarios.tablero11siteID']) + '-' + str(document['usuarios.fechaControl'])}\",\n",
    "#                     \"_source\": filterKeys(document),\n",
    "#                 }\n",
    "#     #Se comenta escritura en el indice porque no se necesita esa estructura        \n",
    "#     #salida = helpers.bulk(es, doc_generator(conteoDispositivos))\n",
    "#     #print(\"Fecha: \", now,\"- Promedios dispositivos Usuarios:\",salida[0])\n",
    "# except:\n",
    "#     print(\"Fecha: \", now,\"- Ningun Promedios dispositivos Usuarios para insertar en indice principal\")\n",
    "    \n"
   ]
  },
  {
   "cell_type": "markdown",
   "metadata": {},
   "source": [
    "# Marcando si usuario es nuevo o recurrente"
   ]
  },
  {
   "cell_type": "markdown",
   "metadata": {},
   "source": [
    "* Se toma del dataframe datos_det_conex y se cuenta las veces que cada mac_usuario aparece\n",
    "* Luego se suma con el historico de conexiones por usuario (indice intermedio ohmyfi-total-conexiones-historico)\n",
    "* marca como Nuevo(1 conexión). \n",
    "\n",
    "De este proceso se obtiene el campo:\n",
    "* usuarios.usuariosNuevos\n",
    "* usuarios.totales.usuariosNuevos"
   ]
  },
  {
   "cell_type": "code",
   "execution_count": null,
   "metadata": {},
   "outputs": [],
   "source": [
    "# try:\n",
    "#     datos_recurrencia = datos_det_conex[[\"fecha\",\"tipodoc\",\"documento\"]].groupby([\"tipodoc\",\"documento\"]).agg(['count']).reset_index()\n",
    "#     datos_recurrencia.columns = datos_recurrencia.columns.droplevel(1)\n",
    "#     datos_recurrencia= datos_recurrencia.rename(columns={'fecha' : 'usuarios_recurrencia_aux'})\n",
    "#     datos_recurrencia['tipodoc'] = datos_recurrencia['tipodoc'].replace('','No especificado')\n",
    "#     datos_recurrencia['documento'] = datos_recurrencia['documento'].replace('','No especificado')\n",
    "# except:\n",
    "#     pass"
   ]
  },
  {
   "cell_type": "markdown",
   "metadata": {},
   "source": [
    "### Se lee historico"
   ]
  },
  {
   "cell_type": "markdown",
   "metadata": {},
   "source": [
    "Se lee ohmyfi-total-conexiones-historico, el cual es un indice creado a partir de los datos crudos. Este guarda la cantidad de conexiones realizadas por ese usuario. Para que la consulta funcione correctamente se debe colocar el filtro que usuarios_recurrencia exista."
   ]
  },
  {
   "cell_type": "code",
   "execution_count": null,
   "metadata": {},
   "outputs": [],
   "source": [
    "# try:\n",
    "#     total_docs = 30000000\n",
    "#     response = es.search(\n",
    "#         index= parametros.ohmyfi_total_c_index,\n",
    "#         body={\n",
    "#               \"_source\": ['tipodoc', 'documento', 'usuarios_recurrencia'],\n",
    "#               \"query\": {\n",
    "#                 \"bool\": {\n",
    "#                   \"filter\": [\n",
    "#                   {\n",
    "#                     \"exists\": {\n",
    "#                       \"field\":\"usuarios_recurrencia\"\n",
    "#                     }\n",
    "#                   }\n",
    "#                   ]\n",
    "#                 }\n",
    "#               }\n",
    "#         },\n",
    "#         size=total_docs\n",
    "#     )\n",
    "#     elastic_docs = response[\"hits\"][\"hits\"]\n",
    "    \n",
    "#     ya_en_indice = pd.DataFrame([x[\"_source\"] for x in elastic_docs])\n",
    "    \n",
    "    \n",
    "# except:\n",
    "#     ya_en_indice = pd.DataFrame(columns=['tipodoc', 'documento', 'usuarios_recurrencia'])"
   ]
  },
  {
   "cell_type": "code",
   "execution_count": null,
   "metadata": {},
   "outputs": [],
   "source": [
    "# if ya_en_indice is None or ya_en_indice.empty:\n",
    "#     datos_recurrencia= datos_recurrencia.rename(columns={'usuarios_recurrencia_aux' : 'usuarios_recurrencia'})\n",
    "# else:\n",
    "#     datos_recurrencia = pd.merge(datos_recurrencia, ya_en_indice, on=['tipodoc', 'documento'],how='left')\n",
    "#     datos_recurrencia.fillna({'usuarios_recurrencia':0},inplace=True)\n",
    "#     datos_recurrencia['usuarios_recurrencia'] = datos_recurrencia['usuarios_recurrencia'] + datos_recurrencia['usuarios_recurrencia_aux']\n",
    "#     datos_recurrencia['usuarios_recurrencia'] = [int(x) for x in datos_recurrencia['usuarios_recurrencia']]"
   ]
  },
  {
   "cell_type": "code",
   "execution_count": null,
   "metadata": {},
   "outputs": [],
   "source": [
    "# try:\n",
    "#     aux_recurrencia = pd.merge(datos_recurrencia,datos_det_conex, on=['tipodoc','documento'],how='inner' )\n",
    "#     aux_recurrencia = aux_recurrencia[(aux_recurrencia['usuarios_recurrencia']==1)]\n",
    "#     aux_recurrencia.loc[aux_recurrencia['usuarios_recurrencia']==1,'usuarios.usuariosNuevos']='Nuevo'\n",
    "#     #aux_recurrencia.loc[aux_recurrencia['usuarios_recurrencia']!=1,'usuarios.usuariosNuevos']='Recurrente'\n",
    "#     aux_recurrencia = aux_recurrencia.rename(columns={'usuarios_recurrencia' :'usuarios.sesiones_Usuarios'})\n",
    "#     aux_recurrencia = aux_recurrencia[[\"fecha_control\",\"site_id\",\"usuarios.usuariosNuevos\",'documento']].groupby([\"fecha_control\",\"site_id\",\"usuarios.usuariosNuevos\"])['documento'].nunique().reset_index()\n",
    "#     aux_recurrencia= aux_recurrencia.rename(columns={'documento' : 'usuarios.totales.usuariosNuevos'})\n",
    "# except:\n",
    "#     pass"
   ]
  },
  {
   "cell_type": "code",
   "execution_count": null,
   "metadata": {},
   "outputs": [],
   "source": [
    "# try:\n",
    "#     datos_recurrencia = pd.merge(datos_semilla,  aux_recurrencia, on='site_id', how='inner')\n",
    "#     datos_recurrencia = datos_recurrencia.rename(columns={'fecha_control' : 'usuarios.fechaControl'})\n",
    "#     datos_recurrencia[\"usuarios.fecha\"] = datos_recurrencia[\"usuarios.fechaControl\"].str.split(\" \", n = 1, expand = True)[0]\n",
    "#     datos_recurrencia[\"usuarios.anyo\"] = datos_recurrencia[\"usuarios.fecha\"].str[0:4]\n",
    "#     datos_recurrencia[\"usuarios.mes\"] = datos_recurrencia[\"usuarios.fecha\"].str[5:7]\n",
    "#     datos_recurrencia[\"usuarios.dia\"] = datos_recurrencia[\"usuarios.fecha\"].str[8:10]\n",
    "#     datos_recurrencia[\"usuarios.hora\"] = datos_recurrencia[\"usuarios.fechaControl\"].str.split(\" \", n = 1, expand = True)[1].str.split(\":\", n = 2, expand = True)[0]\n",
    "#     datos_recurrencia[\"usuarios.minuto\"] = datos_recurrencia[\"usuarios.fechaControl\"].str.split(\" \", n = 1, expand = True)[1].str.split(\":\", n = 2, expand = True)[1]\n",
    "#     datos_recurrencia= datos_recurrencia.rename(columns={'site_id' : 'usuarios.siteID'})\n",
    "    \n",
    "#     datos_recurrencia['nombreDepartamento'] = datos_recurrencia['usuarios.nombreDepartamento']\n",
    "#     datos_recurrencia['nombreMunicipio'] = datos_recurrencia['usuarios.nombreMunicipio']\n",
    "#     datos_recurrencia['idBeneficiario'] = datos_recurrencia['usuarios.idBeneficiario']\n",
    "#     datos_recurrencia['fecha'] = datos_recurrencia['usuarios.fecha']\n",
    "#     datos_recurrencia['anyo'] = datos_recurrencia['usuarios.anyo']\n",
    "#     datos_recurrencia['mes'] = datos_recurrencia['usuarios.mes']\n",
    "#     datos_recurrencia['dia'] = datos_recurrencia['usuarios.dia']\n",
    "# except:\n",
    "#     pass"
   ]
  },
  {
   "cell_type": "markdown",
   "metadata": {},
   "source": [
    "# Insertando recurrencia de usuario en indice principal"
   ]
  },
  {
   "cell_type": "markdown",
   "metadata": {},
   "source": [
    "la lista use_these_keys se usa para referenciar cuales campos del dataframe irán al indice final. si los datos no se declaran en este, no se insertarán"
   ]
  },
  {
   "cell_type": "code",
   "execution_count": null,
   "metadata": {
    "scrolled": true
   },
   "outputs": [],
   "source": [
    "# try:\n",
    "#     use_these_keys = ['usuarios.tablero11.siteID'\n",
    "#                       , 'usuarios.tablero11.nomCentroDigital'\n",
    "#                       , 'usuarios.tablero11.localidad'\n",
    "#                       , 'usuarios.tablero11.nombreDepartamento'\n",
    "#                       , 'usuarios.tablero11.nombreMunicipio'\n",
    "#                       , 'usuarios.tablero11.idBeneficiario'\n",
    "#                       , 'usuarios.tablero11.location'\n",
    "#     #                   , 'usuarios.tablero11sesiones_Usuarios'\n",
    "#     #                   , 'usuarios.tablero11consumoUsuarios'\n",
    "#     #                   , 'usuarios.tablero11apGroup'\n",
    "#                       , 'usuarios.tablero11.fechaControl'\n",
    "#                       , 'usuarios.tablero11.fecha'\n",
    "#                       , 'usuarios.tablero11.anyo'\n",
    "#                       , 'usuarios.tablero11.mes'\n",
    "#                       , '@timestamp']\n",
    "\n",
    "\n",
    "#     datos_recurrencia['@timestamp'] = now.isoformat()\n",
    "    \n",
    "#     datos_recurrencia=cambioVariable(datos_recurrencia)\n",
    "    \n",
    "#     datos_recurrencia=cambio\n",
    "    \n",
    "#     def doc_generator(df,use_these_keys):\n",
    "#         df_iter = df.iterrows()\n",
    "#         for index, document in df_iter:\n",
    "#             yield {\n",
    "#                     \"_index\": indice, \n",
    "#                     \"_id\": f\"{ 'Recurrencia-' + str(document['usuarios.tablero11.siteID']) + '-' + str(document['usuarios.tablero11.fechaControl'])}\",\n",
    "#                     \"_source\": filterKeys(document,use_these_keys),\n",
    "#                 }\n",
    "            \n",
    "#     #Se comenta escritura en el indice porque no se necesita esa estructura        \n",
    "#     #  salida = helpers.bulk(es, doc_generator(datos_recurrencia))\n",
    "# #     print(\"Fecha: \", now,\"- recurrencia de usuario a indice:\",salida[0])\n",
    "# except:\n",
    "#     print(\"Fecha: \", now,\"- Ninguna recurrencia de usuario para insertar en indice principal\")"
   ]
  },
  {
   "cell_type": "markdown",
   "metadata": {},
   "source": [
    "## Insertando detalle MACs"
   ]
  },
  {
   "cell_type": "code",
   "execution_count": null,
   "metadata": {},
   "outputs": [],
   "source": [
    "#NO Se utilizan campos MAC en el Tablero 11..\n",
    "\n",
    "# use_these_keys = ['usuarios.tablero11siteID'\n",
    "#                   ,'usuarios.tablero11nomCentroDigital'\n",
    "#                   , 'usuarios.tablero11localidad'\n",
    "#                   , 'usuarios.tablero11nombreDepartamento'\n",
    "#                   , 'usuarios.tablero11nombreMunicipio'\n",
    "#                   , 'usuarios.tablero11idBeneficiario'\n",
    "#                   , 'usuarios.tablero11location'\n",
    "#                   , 'usuarios.tablero11apGroup'\n",
    "#                   , 'usuarios.tablero11fechaControl'\n",
    "#                   , 'usuarios.tablero11fecha'\n",
    "#                   , 'usuarios.tablero11anyo'\n",
    "#                   , 'usuarios.tablero11mes'\n",
    "#                   , '@timestamp']\n",
    "\n",
    "# # use_these_keys = ['usuarios.siteID'\n",
    "# #                   , 'usuarios.nomCentroDigital'\n",
    "# #                   , 'usuarios.codISO'\n",
    "# #                   , 'usuarios.localidad'\n",
    "# #                   , 'usuarios.nombreDepartamento'\n",
    "# #                   , 'usuarios.sistemaEnergia'\n",
    "# #                   , 'usuarios.nombreMunicipio'\n",
    "# #                   , 'usuarios.idBeneficiario'\n",
    "# #                   , 'usuarios.location'\n",
    "# #                   , 'usuarios.macRed'\n",
    "# #                   , 'usuarios.apGroup'\n",
    "# #                   , 'usuarios.dispositivo.mac'\n",
    "# #                   , 'usuarios.dispositivo.tipo'\n",
    "# #                   , 'usuarios.dispositivo.nombre'\n",
    "# #                   , 'usuarios.dispositivo.marca'\n",
    "# #                   , 'usuarios.dispositivo.tecnologia'\n",
    "# #                   , 'usuarios.dispositivo.sisOperativo'\n",
    "# #                   , 'usuarios.fechaControl'\n",
    "# #                   , 'usuarios.fecha'\n",
    "# #                   , 'usuarios.anyo'\n",
    "# #                   , 'usuarios.mes'\n",
    "# #                   , 'usuarios.dia'\n",
    "# #                   , 'usuarios.hora'\n",
    "# #                   , 'usuarios.minuto'\n",
    "# #                   , '@timestamp']\n",
    "# def doc_generator_mac(df,use_these_keys):\n",
    "#     df_iter = df.iterrows()\n",
    "#     for index, document in df_iter:\n",
    "#         yield {\n",
    "#                 \"_index\": indice, \n",
    "#                 \"_id\": f\"{ 'detalleMAC-' + str(document['usuarios.tablero11siteID']) + '-' + str(document['usuarios.fechaControl']) + '-' + str(document['usuarios.dispositivo.mac'])   }\",\n",
    "#                 \"_source\": filterKeys(document,use_these_keys),\n",
    "#             }\n"
   ]
  },
  {
   "cell_type": "markdown",
   "metadata": {},
   "source": [
    "## Insertando campos para tablero11"
   ]
  },
  {
   "cell_type": "code",
   "execution_count": null,
   "metadata": {},
   "outputs": [],
   "source": [
    "# use_these_keys = ['usuarios.tablero11.siteID'\n",
    "#                   ,'usuarios.tablero11.nomCentroDigital'\n",
    "#                   , 'usuarios.tablero11.localidad'\n",
    "#                   , 'usuarios.tablero11.nombreDepartamento'\n",
    "#                   , 'usuarios.tablero11.nombreMunicipio'\n",
    "#                   , 'usuarios.tablero11.idBeneficiario'\n",
    "#                   , 'usuarios.tablero11.location'\n",
    "#                   , 'usuarios.tablero11.sesiones_Usuarios'\n",
    "#                   , 'usuarios.tablero11.consumoUsuarios'\n",
    "#                   , 'usuarios.tablero11.apGroup'\n",
    "#                   , 'usuarios.tablero11.fechaControl'\n",
    "#                   , 'usuarios.tablero11.fecha'\n",
    "#                   , 'usuarios.tablero11.anyo'\n",
    "#                   , 'usuarios.tablero11.mes'\n",
    "#                   , '@timestamp']\n",
    "# def doc_tablero11(df,use_these_keys):\n",
    "#     df_iter = df.iterrows()\n",
    "#     for index, document in df_iter:\n",
    "#         yield {\n",
    "#                 \"_index\": indice, \n",
    "#                 \"_id\": f\"{ 'Tablero11-' + str(document['usuarios.tablero11.idBeneficiario']) + '-' + str(document['usuarios.tablero11.fechaControl'])  }\",\n",
    "#                 \"_source\": filterKeys(document,use_these_keys),\n",
    "#             }"
   ]
  },
  {
   "cell_type": "code",
   "execution_count": null,
   "metadata": {},
   "outputs": [],
   "source": [
    "# try:\n",
    "#     dispositivoUsuarios = datos_det_conex[['site_id','usuarios.macRed','usuarios.apGroup'\n",
    "#                                 ,'mac_usuario','fecha_control'\n",
    "#                                 ,'usuarios.tipoDispositivoUsuarios'\n",
    "#                                 ,'name','manufacturer','radio.band'\n",
    "#                                 ,'usuarios.sistemaOperativoUsuarios']].drop_duplicates(subset=['mac_usuario'])\n",
    "#     dispositivoUsuarios.fillna({'usuarios.tipoDispositivoUsuarios':'No identificado'\n",
    "#                                ,'name':'No identificado'\n",
    "#                                ,'manufacturer':'No identificado'\n",
    "#                                ,'radio.band':'No identificado'\n",
    "#                                ,'usuarios.sistemaOperativoUsuarios':'No identificado'\n",
    "#                                ,'usuarios.macRed':'No identificado'\n",
    "#                                ,'usuarios.apGroup':'No identificado'\n",
    "#                                },inplace=True)\n",
    "\n",
    "#     dispositivoUsuarios = pd.merge(dispositivoUsuarios, datos_semilla, on='site_id',how='inner')\n",
    "#     dispositivoUsuarios= dispositivoUsuarios.rename(columns={\n",
    "#                                                      'site_id' : 'usuarios.siteID'\n",
    "#                                                     ,'mac_usuario' : 'usuarios.dispositivo.mac'\n",
    "#                                                     ,'usuarios.tipoDispositivoUsuarios' : 'usuarios.dispositivo.tipo'\n",
    "#                                                     ,'name' : 'usuarios.dispositivo.nombre'\n",
    "#                                                     ,'manufacturer' : 'usuarios.dispositivo.marca'\n",
    "#                                                     ,'radio.band' : 'usuarios.dispositivo.tecnologia'\n",
    "#                                                     ,'usuarios.sistemaOperativoUsuarios' : 'usuarios.dispositivo.sisOperativo'\n",
    "#                                                     ,'fecha_control':'usuarios.fechaControl'\n",
    "#                                                     })\n",
    "#     dispositivoUsuarios[\"usuarios.fecha\"] = dispositivoUsuarios[\"usuarios.fechaControl\"].str.split(\" \", n = 1, expand = True)[0]\n",
    "#     dispositivoUsuarios[\"usuarios.anyo\"] = dispositivoUsuarios[\"usuarios.fecha\"].str[0:4]\n",
    "#     dispositivoUsuarios[\"usuarios.mes\"] = dispositivoUsuarios[\"usuarios.fecha\"].str[5:7]\n",
    "#     dispositivoUsuarios[\"usuarios.dia\"] = dispositivoUsuarios[\"usuarios.fecha\"].str[8:10]\n",
    "#     dispositivoUsuarios[\"usuarios.hora\"] = dispositivoUsuarios[\"usuarios.fechaControl\"].str.split(\" \", n = 1, expand = True)[1].str.split(\":\", n = 2, expand = True)[0]\n",
    "#     dispositivoUsuarios[\"usuarios.minuto\"] = dispositivoUsuarios[\"usuarios.fechaControl\"].str.split(\" \", n = 1, expand = True)[1].str.split(\":\", n = 2, expand = True)[1]\n",
    "#     dispositivoUsuarios['@timestamp'] = now.isoformat()\n",
    "    \n",
    "#    ############# aqui hacer cambio de variable  ################\n",
    "#     ## El dataframe dispositivos usuarios debe contener los campos de use_these_keys de arriba\n",
    "    \n",
    "#     dispositivoUsuarios=cambioVariable(dispositivoUsuarios)\n",
    "    \n",
    "    \n",
    "#     salida = helpers.bulk(es, doc_tablero11(dataframeresultante))\n",
    "#     print(\"Fecha: \", now,\"- Detalle MACs a indice:\",salida[0])\n",
    "\n",
    "# except:\n",
    "#     print(\"Fecha: \", now,\"- Ningún Detalle MACs para insertar en indice principal\")"
   ]
  },
  {
   "cell_type": "markdown",
   "metadata": {},
   "source": [
    "### Guardando fecha para control de ejecución"
   ]
  },
  {
   "cell_type": "markdown",
   "metadata": {},
   "source": [
    "* Se actualiza la fecha de control. Si el calculo supera la fecha hora actual, se asocia esta ultima."
   ]
  },
  {
   "cell_type": "code",
   "execution_count": null,
   "metadata": {},
   "outputs": [],
   "source": [
    "fecha_ejecucion = (datetime.strptime(fecha_max_mintic, '%Y-%m-%d %H:%M:%S')+timedelta(minutes=50)).strftime(\"%Y-%m-%d %H:%M:%S\")[0:15] + '0:00'    \n",
    "\n",
    "if fecha_ejecucion > str(now.strftime('%Y-%m-%d %H:%M:%S'))[0:15] + '0:00':\n",
    "    fecha_ejecucion = str(now.strftime('%Y-%m-%d %H:%M:%S'))[0:15] + '0:00'\n",
    "response = es.index(\n",
    "        index = indice_control,\n",
    "        id = 'jerarquia-tablero09',\n",
    "        body = { 'jerarquia-tablero09': 'jerarquia-tablero09','tablero09.fechaControl' : fecha_ejecucion}\n",
    ")\n",
    "print(\"actualizada fecha control de ejecucion:\",fecha_ejecucion)"
   ]
  },
  {
   "cell_type": "code",
   "execution_count": null,
   "metadata": {},
   "outputs": [],
   "source": []
  }
 ],
 "metadata": {
  "kernelspec": {
   "display_name": "Python 3",
   "language": "python",
   "name": "python3"
  },
  "language_info": {
   "codemirror_mode": {
    "name": "ipython",
    "version": 3
   },
   "file_extension": ".py",
   "mimetype": "text/x-python",
   "name": "python",
   "nbconvert_exporter": "python",
   "pygments_lexer": "ipython3",
   "version": "3.8.5"
  }
 },
 "nbformat": 4,
 "nbformat_minor": 4
}
