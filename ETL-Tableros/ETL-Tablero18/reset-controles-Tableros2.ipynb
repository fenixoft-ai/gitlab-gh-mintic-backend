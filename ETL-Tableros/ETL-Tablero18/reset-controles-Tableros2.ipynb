{
 "cells": [
  {
   "cell_type": "markdown",
   "metadata": {},
   "source": [
    "### ¿Qué hace este script?\n",
    "Reinicia todas las jerarquías de control que son usadas para la ejecución de los ETLs "
   ]
  },
  {
   "cell_type": "code",
   "execution_count": 30,
   "metadata": {},
   "outputs": [],
   "source": [
    "from elasticsearch import Elasticsearch, helpers\n",
    "from ssl import create_default_context\n",
    "import parametros"
   ]
  },
  {
   "cell_type": "code",
   "execution_count": 31,
   "metadata": {},
   "outputs": [],
   "source": [
    "context = create_default_context(cafile=parametros.cafile)\n",
    "es = Elasticsearch(\n",
    "    parametros.servidor,\n",
    "    http_auth=(parametros.usuario_EC, parametros.password_EC),\n",
    "    scheme=\"https\",\n",
    "    port=parametros.puerto,\n",
    "    ssl_context=context,\n",
    "    timeout=60, max_retries=3, retry_on_timeout=True\n",
    ") "
   ]
  },
  {
   "cell_type": "code",
   "execution_count": 32,
   "metadata": {},
   "outputs": [],
   "source": [
    "indice_control = parametros.tableros_mintic_control"
   ]
  },
  {
   "cell_type": "markdown",
   "metadata": {},
   "source": [
    "## Indice Gestión"
   ]
  },
  {
   "cell_type": "code",
   "execution_count": 33,
   "metadata": {},
   "outputs": [],
   "source": [
    "response = es.index(\n",
    "        index = indice_control,\n",
    "        id = 'jerarquia-tableroG',\n",
    "        body = { 'jerarquia-tableroG': 'jerarquia-tableroG','tableroG.fechaControl' : '2021-06-01T00:00:00'}\n",
    ")"
   ]
  },
  {
   "cell_type": "markdown",
   "metadata": {},
   "source": [
    "## Indice Trafico"
   ]
  },
  {
   "cell_type": "code",
   "execution_count": 34,
   "metadata": {},
   "outputs": [],
   "source": [
    "response = es.index(\n",
    "        index = indice_control,\n",
    "        id = 'jerarquia_tablero_trafico',\n",
    "        body = { 'jerarquia_tablero_trafico': 'jerarquia_tablero_trafico','trafico.fechaControl' : '2021-06-01 00:00:00'}\n",
    ")"
   ]
  },
  {
   "cell_type": "markdown",
   "metadata": {},
   "source": [
    "## Indice Usuarios"
   ]
  },
  {
   "cell_type": "code",
   "execution_count": 35,
   "metadata": {},
   "outputs": [],
   "source": [
    "response = es.index(\n",
    "        index = indice_control,\n",
    "        id = 'jerarquia-tablero12',\n",
    "        body = { 'jerarquia-tablero12': 'jerarquia-tablero12','usuarios.fechaControl' : '2021-06-01 00:00:00'}\n",
    ")"
   ]
  },
  {
   "cell_type": "markdown",
   "metadata": {},
   "source": [
    "## Indice Tablero10"
   ]
  },
  {
   "cell_type": "code",
   "execution_count": 36,
   "metadata": {},
   "outputs": [],
   "source": [
    "response = es.index(\n",
    "        index = indice_control,\n",
    "        id = 'jerarquia_usuarios_web',\n",
    "        body = { 'jerarquia_usuarios_web': 'usuarios_web','usuarios.fechaControl' : '2021-06-01 00:00:00'}\n",
    ")"
   ]
  },
  {
   "cell_type": "markdown",
   "metadata": {},
   "source": [
    "## Indice Tablero13"
   ]
  },
  {
   "cell_type": "code",
   "execution_count": 37,
   "metadata": {},
   "outputs": [],
   "source": [
    "response = es.index(\n",
    "        index = indice_control,\n",
    "        id = 'jerarquia-tablero13',\n",
    "        body = { 'jerarquia-tablero13': 'jerarquia-tablero13','tablero13.fechaControl' : '2021-06-01 00:00:00'}\n",
    ")"
   ]
  },
  {
   "cell_type": "markdown",
   "metadata": {},
   "source": [
    "## 09. Usuarios Tablero 09"
   ]
  },
  {
   "cell_type": "code",
   "execution_count": 38,
   "metadata": {},
   "outputs": [],
   "source": [
    "response = es.index(\n",
    "        index = indice_control,\n",
    "        id = 'jerarquia-tablero09',\n",
    "        body = { 'jerarquia-tablero09': 'jerarquia-tablero09','tablero09.fechaControl' : '2021-06-01 00:00:00'}\n",
    ")"
   ]
  },
  {
   "cell_type": "markdown",
   "metadata": {},
   "source": [
    "## 11. Usuarios Tablero 11"
   ]
  },
  {
   "cell_type": "code",
   "execution_count": 39,
   "metadata": {},
   "outputs": [],
   "source": [
    "response = es.index(\n",
    "        index = indice_control,\n",
    "        id = 'jerarquia-tablero11',\n",
    "        body = { 'jerarquia-tablero11': 'jerarquia-tablero11','tablero11.fechaControl' : '2021-06-01 00:00:00'}\n",
    ")"
   ]
  },
  {
   "cell_type": "code",
   "execution_count": null,
   "metadata": {},
   "outputs": [],
   "source": []
  }
 ],
 "metadata": {
  "kernelspec": {
   "display_name": "Python 3",
   "language": "python",
   "name": "python3"
  },
  "language_info": {
   "codemirror_mode": {
    "name": "ipython",
    "version": 3
   },
   "file_extension": ".py",
   "mimetype": "text/x-python",
   "name": "python",
   "nbconvert_exporter": "python",
   "pygments_lexer": "ipython3",
   "version": "3.8.5"
  }
 },
 "nbformat": 4,
 "nbformat_minor": 4
}
