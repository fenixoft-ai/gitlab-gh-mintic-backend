{
 "cells": [
  {
   "cell_type": "code",
   "execution_count": 1,
   "metadata": {},
   "outputs": [],
   "source": [
    "from elasticsearch import Elasticsearch\n",
    "from elasticsearch import helpers\n",
    "from ssl import create_default_context\n",
    "import requests\n",
    "from getpass import getpass\n",
    "import pandas as pd\n",
    "import numpy as np\n",
    "import json\n",
    "from datetime import datetime\n",
    "from datetime import timedelta\n",
    "import parametros\n",
    "import re"
   ]
  },
  {
   "cell_type": "markdown",
   "metadata": {},
   "source": [
    "## Conectando a ElasticSearch"
   ]
  },
  {
   "cell_type": "markdown",
   "metadata": {},
   "source": [
    "La ultima línea se utiliza para garantizar la ejecución de la consulta\n",
    "* timeout es el tiempo para cada ejecución\n",
    "* max_retries el número de intentos si la conexión falla\n",
    "* retry_on_timeout para activar los reitentos"
   ]
  },
  {
   "cell_type": "code",
   "execution_count": 2,
   "metadata": {},
   "outputs": [],
   "source": [
    "context = create_default_context(cafile=parametros.cafile)\n",
    "es = Elasticsearch(\n",
    "    parametros.servidor,\n",
    "    http_auth=(parametros.usuario_EC, parametros.password_EC),\n",
    "    scheme=\"https\",\n",
    "    port=parametros.puerto,\n",
    "    ssl_context=context,\n",
    "    timeout=60, max_retries=3, retry_on_timeout=True\n",
    ") "
   ]
  },
  {
   "cell_type": "markdown",
   "metadata": {},
   "source": [
    "### Calculando fechas para la ejecución"
   ]
  },
  {
   "cell_type": "markdown",
   "metadata": {},
   "source": [
    "* Se calculan las fechas para asociar al nombre del indice\n",
    "* fecha_hoy, es usada para concatenar al nombre del indice principal previa inserción\n",
    "* ahora, es la fecha en un formato requerido para ES"
   ]
  },
  {
   "cell_type": "code",
   "execution_count": 3,
   "metadata": {},
   "outputs": [],
   "source": [
    "now = datetime.now()\n",
    "format_ES = \"%Y.%m.%d\"\n",
    "fecha_hoy = str(now.strftime(format_ES))\n",
    "ahora_format = \"%Y-%m-%d\"'T'\"%H:%M:%S\"\n",
    "ahora = str(now.strftime(ahora_format))"
   ]
  },
  {
   "cell_type": "markdown",
   "metadata": {},
   "source": [
    "### Definiendo indice principal con fecha de hoy"
   ]
  },
  {
   "cell_type": "code",
   "execution_count": 4,
   "metadata": {},
   "outputs": [],
   "source": [
    "indice = parametros.usuarios_tablero11_index \n",
    "indice_control = parametros.tableros_mintic_control"
   ]
  },
  {
   "cell_type": "markdown",
   "metadata": {},
   "source": [
    "### Función para generar JSON compatible con ES"
   ]
  },
  {
   "cell_type": "code",
   "execution_count": 5,
   "metadata": {},
   "outputs": [],
   "source": [
    "def filterKeys(document):\n",
    "    return {key: document[key] for key in use_these_keys }"
   ]
  },
  {
   "cell_type": "markdown",
   "metadata": {},
   "source": [
    "### Trae la ultima fecha para control de ejecución"
   ]
  },
  {
   "cell_type": "markdown",
   "metadata": {},
   "source": [
    "Cuando en el rango de tiempo de la ejecución, no se insertan nuevos valores, las fecha maxima en indice mintic no aumenta, por tanto se usa esta fecha de control para garantizar que incremente el bucle de ejecución"
   ]
  },
  {
   "cell_type": "code",
   "execution_count": 6,
   "metadata": {},
   "outputs": [
    {
     "name": "stdout",
     "output_type": "stream",
     "text": [
      "ultima fecha para control de ejecucion: 2021-07-01 00:00:00\n"
     ]
    }
   ],
   "source": [
    "total_docs = 1\n",
    "try:\n",
    "    response = es.search(\n",
    "        index= indice_control,\n",
    "        body={\n",
    "           \"_source\": [\"tablero11.fechaControl\"],\n",
    "              \"query\": {\n",
    "                \"bool\": {\n",
    "                  \"filter\": [\n",
    "                  {\n",
    "                    \"exists\": {\n",
    "                      \"field\":\"jerarquia-tablero11\"\n",
    "                    }\n",
    "                  }\n",
    "              ]\n",
    "            }\n",
    "          }\n",
    "        },\n",
    "        size=total_docs\n",
    "    )\n",
    "    #print(es.info())\n",
    "    elastic_docs = response[\"hits\"][\"hits\"]\n",
    "    fields = {}\n",
    "    for num, doc in enumerate(elastic_docs):\n",
    "        fecha_ejecucion = doc[\"_source\"]['tablero11.fechaControl']\n",
    "except Exception as e:\n",
    "    print(e)\n",
    "    response[\"hits\"][\"hits\"] = []\n",
    "if response[\"hits\"][\"hits\"] == []:\n",
    "    fecha_ejecucion = '2021-05-14T00:00:00'\n",
    "print(\"ultima fecha para control de ejecucion:\",fecha_ejecucion)\n",
    "\n"
   ]
  },
  {
   "cell_type": "markdown",
   "metadata": {},
   "source": [
    "### leyendo indice semilla-inventario"
   ]
  },
  {
   "cell_type": "markdown",
   "metadata": {},
   "source": [
    "En el script que ingesta semilla, trae la información de los centros de conexión administrados. Para el indice principal se requiere:\n",
    "\n",
    "* site_id como llave del centro de conexión.\n",
    "* Datos geográficos (Departamento, municipio, centro poblado, sede.)"
   ]
  },
  {
   "cell_type": "code",
   "execution_count": 62,
   "metadata": {},
   "outputs": [],
   "source": [
    "total_docs = 10000\n",
    "try:\n",
    "    response = es.search(\n",
    "        index= parametros.semilla_inventario_index,\n",
    "        body={\n",
    "               \"_source\": ['site_id','nombre_municipio', 'nombre_departamento', 'nombre_centro_pob','energiadesc'\n",
    "                           ,'nombreSede','latitud', 'longitud','id_Beneficiario','COD_ISO','codDanesede',\n",
    "                           'cod_servicio','codDaneMuni','nombre_centro_pob','codCentroPoblado','codDaneInstitucionEdu',\n",
    "                           'tipoSitio','detalleSitio','energia','region','matricula','DDA','grupoDesc','estadoInstalacion',\n",
    "                           'nombreInstitucionEd']\n",
    "        },\n",
    "        size=total_docs\n",
    "    )\n",
    "    #print(es.info())\n",
    "    elastic_docs = response[\"hits\"][\"hits\"]\n",
    "    fields = {}\n",
    "    for num, doc in enumerate(elastic_docs):\n",
    "        source_data = doc[\"_source\"]\n",
    "        for key, val in source_data.items():\n",
    "            try:\n",
    "                fields[key] = np.append(fields[key], val)\n",
    "            except KeyError:\n",
    "                fields[key] = np.array([val])\n",
    "\n",
    "    datos_semilla = pd.DataFrame(dict([ (k,pd.Series(v)) for k,v in fields.items() ])) #pd.DataFrame(fields)\n",
    "except Exception as e:\n",
    "    print(e)\n",
    "    print(\"fecha:\",now,\"- Error en lectura de datos semilla\")\n",
    "    #exit()"
   ]
  },
  {
   "cell_type": "code",
   "execution_count": 63,
   "metadata": {},
   "outputs": [],
   "source": [
    "def get_location(x,y='lat'):\n",
    "    patron = re.compile('^(\\-?\\d+(\\.\\d+)?),\\s*(\\-?\\d+(\\.\\d+)?)$') #patrón que debe cumplir\n",
    "    if (not patron.match(x) is None) and (str(x)!=''):\n",
    "        return x.replace(',','.')\n",
    "    else:\n",
    "        #Código a ejecutar si las coordenadas no son válidas\n",
    "        return '4.596389' if y=='lat' else '-74.074639'\n",
    "    \n",
    "datos_semilla['latitud'] = datos_semilla['latitud'].apply(lambda x:get_location(x,'lat'))\n",
    "datos_semilla['longitud'] = datos_semilla['longitud'].apply(lambda x:get_location(x,'lon'))\n",
    "datos_semilla = datos_semilla.drop(datos_semilla[(datos_semilla[\"longitud\"]=='a') | (datos_semilla[\"latitud\"]=='a')].index)\n",
    "datos_semilla['gestion.location'] = datos_semilla['latitud'] + ',' + datos_semilla['longitud']\n",
    "datos_semilla['gestion.location']=datos_semilla['gestion.location'].str.replace('a,a','')\n",
    "datos_semilla.drop(columns=['latitud','longitud'],inplace=True)\n",
    "\n",
    "\n"
   ]
  },
  {
   "cell_type": "markdown",
   "metadata": {},
   "source": [
    "Lectura fuente xxxxxx"
   ]
  },
  {
   "cell_type": "code",
   "execution_count": null,
   "metadata": {},
   "outputs": [],
   "source": []
  },
  {
   "cell_type": "markdown",
   "metadata": {},
   "source": [
    "Realizando inserción"
   ]
  },
  {
   "cell_type": "code",
   "execution_count": 49,
   "metadata": {
    "scrolled": false
   },
   "outputs": [],
   "source": [
    "use_these_keys = ['gestion.numeroTicket'\n",
    "                  , 'gestion.usuarioTicket'\n",
    "                  , 'gestion.estadoTicket'\n",
    "                  , 'gestion.categoria'\n",
    "                  , 'gestion.subcategoria'\n",
    "                  , 'gestion.fechaApertura'\n",
    "                  , 'gestion.fechaCierre'\n",
    "                  , 'gestion.responsable'\n",
    "                  , 'gestion.location'\n",
    "                  , 'gestion.canal'\n",
    "                  , 'gestion.id_Beneficiario'\n",
    "                  , 'gestion.resolucion'\n",
    "                  , 'gestion.Tipo3'\n",
    "                  , 'gestion.Tipo4'\n",
    "                  , 'gestion.nombreInstitucionEd'\n",
    "                  , 'gestion.abierto'\n",
    "                  , 'gestion.nombreSede'\n",
    "                  , 'gestion.COD_ISO'\n",
    "                  , 'gestion.site_id'\n",
    "                  , 'gestion.dptoGestion'\n",
    "                  , 'gestion.muniGestion'\n",
    "                  , 'gestion.energiadesc'\n",
    "                  , 'gestion.gravedad'\n",
    "                  , 'gestion.anyo'\n",
    "                  , 'gestion.mes'\n",
    "                  , 'gestion.dia'\n",
    "                  , 'gestion.hora'\n",
    "                  , 'gestion.min'\n",
    "                  , 'gestion.seg'\n",
    "                  , 'gestion.cod_servicio'\n",
    "                  , 'gestion.codDaneMuni'\n",
    "                  , 'gestion.nombre_centro_pob'\n",
    "                  , 'gestion.codCentroPoblado'\n",
    "                  , 'gestion.codDaneInstitucionEdu'\n",
    "                  , 'gestion.tipoSitio'\n",
    "                  , 'gestion.detalleSitio'\n",
    "                  , 'gestion.energia'\n",
    "                  , 'gestion.region'\n",
    "                  , 'gestion.matricula'\n",
    "                  , 'gestion.DDA'\n",
    "                  , 'gestion.grupoDesc'\n",
    "                  , 'gestion.estadoInstalacion'\n",
    "                  , '@timestamp']\n",
    "def doc_generator(df):\n",
    "    df_iter = df.iterrows()\n",
    "    for index, document in df_iter:\n",
    "        yield {\n",
    "                \"_index\": indice, \n",
    "                \"_id\": f\"{str(document['gestion.site_id']) + '-' + str(document['gestion.numeroTicket']) + '-' + str(document['gestion.fechaApertura'])}\",\n",
    "                \"_source\": filterKeys(document),\n",
    "            }"
   ]
  },
  {
   "cell_type": "code",
   "execution_count": 53,
   "metadata": {
    "scrolled": true
   },
   "outputs": [
    {
     "name": "stdout",
     "output_type": "stream",
     "text": [
      "Ninguna Interacción insertada en indice principal:\n"
     ]
    }
   ],
   "source": [
    "try:\n",
    "    concat = pd.merge(datos_SM_interactions,datos_semilla, on=['id_Beneficiario'],how='inner')\n",
    "    concat = concat.rename(columns={'id_Beneficiario' : 'gestion.id_Beneficiario','resolution':'gestion.resolucion','variable3':'gestion.Tipo3','variable4':'gestion.Tipo4','nombreInstitucionEd':'gestion.nombreInstitucionEd', 'open':'gestion.abierto'\n",
    "                                    ,'open_time':'gestion.fechaApertura','close_time':'gestion.fechaCierre','nombreSede':'gestion.nombreSede'\n",
    "                                    ,'site_id':'gestion.site_id','nombre_departamento':'gestion.dptoGestion'\n",
    "                                    ,'nombre_municipio':'gestion.muniGestion','nombre_centro_pob':'gestion.nombre_centro_pob'\n",
    "                                    ,'COD_ISO':'gestion.COD_ISO','codDanesede':'gestion.codDanesede',\n",
    "                                    'energiadesc':'gestion.energiadesc'\n",
    "                                    ,'cod_servicio':'gestion.cod_servicio'\n",
    "                  , 'codDaneMuni':'gestion.codDaneMuni', 'nombre_centro_pob':'gestion.nombre_centro_pob', 'codCentroPoblado':'gestion.codCentroPoblado'\n",
    "                  , 'codDaneInstitucionEdu':'gestion.codDaneInstitucionEdu', 'tipoSitio':'gestion.tipoSitio', 'detalleSitio':'gestion.detalleSitio'\n",
    "                  , 'energia':'gestion.energia', 'region':'gestion.region', 'matricula':'gestion.matricula', 'DDA':'gestion.DDA'\n",
    "                  , 'grupoDesc':'gestion.grupoDesc','estadoInstalacion':'gestion.estadoInstalacion'                                                                   \n",
    "                                   })\n",
    "    concat['gestion.fechaApertura'] = concat['gestion.fechaApertura'].str.replace(\"T\",\" \")\n",
    "    concat['gestion.fechaApertura'] = concat['gestion.fechaApertura'].str.slice(stop=19)\n",
    "    concat['gestion.fechaCierre'] = concat['gestion.fechaCierre'].str.replace(\"T\",\" \")\n",
    "    concat['gestion.fechaCierre'] = concat['gestion.fechaCierre'].str.slice(stop=19)\n",
    "    concat[\"gestion.anyo\"] = concat[\"gestion.fechaApertura\"].str[0:4]\n",
    "    concat[\"gestion.mes\"] = concat[\"gestion.fechaApertura\"].str[5:7]\n",
    "    concat[\"gestion.dia\"] = concat[\"gestion.fechaApertura\"].str[8:10]\n",
    "    concat[\"gestion.hora\"] = concat[\"gestion.fechaApertura\"].str[11:13]\n",
    "    concat[\"gestion.min\"] = concat[\"gestion.fechaApertura\"].str[14:16]\n",
    "    concat[\"gestion.seg\"] = concat[\"gestion.fechaApertura\"].str[17:19]\n",
    "    concat['@timestamp'] = now.isoformat()\n",
    "    salida = helpers.bulk(es, doc_generator(concat))\n",
    "    print(\"Fecha: \", now,\"- Interacciones insertadas en indice principal:\",salida[0])\n",
    "except Exception as e:\n",
    "    print(e, \"\\nNinguna Interacción insertada en indice principal:\")\n",
    "\n",
    "    "
   ]
  },
  {
   "cell_type": "markdown",
   "metadata": {},
   "source": [
    "Actualizando fecha de control de ejecución"
   ]
  },
  {
   "cell_type": "code",
   "execution_count": 55,
   "metadata": {},
   "outputs": [
    {
     "name": "stdout",
     "output_type": "stream",
     "text": [
      "actualizada fecha control de ejecucion: 2021-07-01T18:00:00\n"
     ]
    }
   ],
   "source": [
    "fecha_ejecucion = (datetime.strptime(fecha_max_mintic, \"%Y-%m-%d\"'T'\"%H:%M:%S\")+timedelta(minutes=10)).strftime(\"%Y-%m-%d\"'T'\"%H:%M:%S\")[0:15] + '0:00'    \n",
    "#fecha_ejecucion = '2021-04-29T00:00:00'\n",
    "\n",
    "if fecha_ejecucion > str(now.strftime(\"%Y-%m-%d\"'T'\"%H:%M:%S\"))[0:15] + '0:00':\n",
    "    fecha_ejecucion = str(now.strftime(\"%Y-%m-%d\"'T'\"%H:%M:%S\"))[0:15] + '0:00'\n",
    "response = es.index(\n",
    "        index = parametros.mintic_control,\n",
    "        id = 'jerarquia-tablero11',\n",
    "        body = { 'jerarquia-tablero11': 'jerarquia-tablero11','tablero11.fechaControl' : fecha_ejecucion}\n",
    ")\n",
    "print(\"actualizada fecha control de ejecucion:\",fecha_ejecucion)\n"
   ]
  },
  {
   "cell_type": "code",
   "execution_count": null,
   "metadata": {},
   "outputs": [],
   "source": []
  }
 ],
 "metadata": {
  "kernelspec": {
   "display_name": "Python 3",
   "language": "python",
   "name": "python3"
  },
  "language_info": {
   "codemirror_mode": {
    "name": "ipython",
    "version": 3
   },
   "file_extension": ".py",
   "mimetype": "text/x-python",
   "name": "python",
   "nbconvert_exporter": "python",
   "pygments_lexer": "ipython3",
   "version": "3.8.5"
  }
 },
 "nbformat": 4,
 "nbformat_minor": 4
}
