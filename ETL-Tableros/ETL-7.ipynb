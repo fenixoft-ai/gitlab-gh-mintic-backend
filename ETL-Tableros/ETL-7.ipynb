{
 "cells": [
  {
   "cell_type": "markdown",
   "metadata": {},
   "source": [
    "### ¿Qué hace este script?\n",
    "\n",
    "Calcula para cada dispositivo de red(AP) y rango de fecha, el tiempo promedio de sesión (usuarios.tiempoPromedioSesionSitio)"
   ]
  },
  {
   "cell_type": "code",
   "execution_count": 302,
   "metadata": {},
   "outputs": [],
   "source": [
    "from elasticsearch import Elasticsearch, helpers\n",
    "from ssl import create_default_context\n",
    "import pandas as pd\n",
    "import numpy as np\n",
    "from datetime import datetime, timedelta\n",
    "import parametros\n",
    "import random\n",
    "import re\n",
    "import sys"
   ]
  },
  {
   "cell_type": "markdown",
   "metadata": {},
   "source": [
    "## Conectando a ElasticSearch"
   ]
  },
  {
   "cell_type": "markdown",
   "metadata": {},
   "source": [
    "La ultima línea se utiliza para garantizar la ejecución de la consulta\n",
    "* timeout es el tiempo para cada ejecución\n",
    "* max_retries el número de intentos si la conexión falla\n",
    "* retry_on_timeout para activar los reitentos"
   ]
  },
  {
   "cell_type": "code",
   "execution_count": 303,
   "metadata": {},
   "outputs": [],
   "source": [
    "context = create_default_context(cafile=parametros.cafile)\n",
    "es = Elasticsearch(\n",
    "    parametros.servidor,\n",
    "    http_auth=(parametros.usuario_EC, parametros.password_EC),\n",
    "    scheme=\"https\",\n",
    "    port=parametros.puerto,\n",
    "    ssl_context=context,\n",
    "    timeout=60, max_retries=3, retry_on_timeout=True\n",
    ")"
   ]
  },
  {
   "cell_type": "markdown",
   "metadata": {},
   "source": [
    "### Calculando fechas para la ejecución"
   ]
  },
  {
   "cell_type": "markdown",
   "metadata": {},
   "source": [
    "* Se calculan las fechas para asociar al nombre del indice\n",
    "* fecha_hoy es usada para concatenar al nombre del indice principal previa inserción"
   ]
  },
  {
   "cell_type": "code",
   "execution_count": 304,
   "metadata": {},
   "outputs": [],
   "source": [
    "now = datetime.now()\n",
    "fecha_hoy = str(now.strftime(\"%Y.%m.%d\"))"
   ]
  },
  {
   "cell_type": "markdown",
   "metadata": {},
   "source": [
    "### nombre de indice donde se insertará e indice para control de ejecución"
   ]
  },
  {
   "cell_type": "code",
   "execution_count": 305,
   "metadata": {},
   "outputs": [],
   "source": [
    "indice = parametros.usuarios_tablero07_index\n",
    "indice_control = parametros.tableros_mintic_control"
   ]
  },
  {
   "cell_type": "markdown",
   "metadata": {},
   "source": [
    "### Funcion para JSON compatible con ElasticSearch"
   ]
  },
  {
   "cell_type": "code",
   "execution_count": 306,
   "metadata": {},
   "outputs": [],
   "source": [
    "def filterKeys(document):\n",
    "    return {key: document[key] for key in use_these_keys }"
   ]
  },
  {
   "cell_type": "markdown",
   "metadata": {},
   "source": [
    "### Trae la ultima fecha para control de ejecución"
   ]
  },
  {
   "cell_type": "markdown",
   "metadata": {},
   "source": [
    "Cuando en el rango de tiempo de la ejecución, no se insertan nuevos valores, las fecha maxima en indice mintic no aumenta, por tanto se usa esta fecha de control para garantizar que incremente el bucle de ejecución"
   ]
  },
  {
   "cell_type": "code",
   "execution_count": 308,
   "metadata": {},
   "outputs": [
    {
     "name": "stdout",
     "output_type": "stream",
     "text": [
      "{'usuarios.Tablero07.fechaControl': '2021-07-14 13:00:00'}\n",
      "ultima fecha para control de ejecucion: 2021-07-14 13:00:00\n"
     ]
    }
   ],
   "source": [
    "total_docs = 1\n",
    "try:\n",
    "    response = es.search(\n",
    "        index= indice_control,\n",
    "        body={\n",
    "               \"_source\": [\"usuarios.Tablero07.fechaControl\"],\n",
    "              \"query\": {\n",
    "                \"bool\": {\n",
    "                  \"filter\": [\n",
    "                  {\n",
    "                    \"exists\": {\n",
    "                      \"field\":\"jerarquia_usuarios_sesiones_sitio\"\n",
    "                    }\n",
    "                  }\n",
    "                  ]\n",
    "                }\n",
    "              }\n",
    "        },\n",
    "        size=total_docs\n",
    "    )\n",
    "    #print(es.info())\n",
    "    elastic_docs = response[\"hits\"][\"hits\"]\n",
    "    fields = {}\n",
    "    for num, doc in enumerate(elastic_docs):\n",
    "        print(doc[\"_source\"])\n",
    "        fecha_ejecucion = doc[\"_source\"]['usuarios.Tablero07.fechaControl']\n",
    "except Exception as e:\n",
    "    print(\"Error:\")\n",
    "    print(e)\n",
    "    fecha_ejecucion = '2021-05-01 00:00:00'\n",
    "    pass\n",
    "if response[\"hits\"][\"hits\"] == []:\n",
    "    fecha_ejecucion = '2021-05-01 00:00:00'\n",
    "print(\"ultima fecha para control de ejecucion:\",fecha_ejecucion)"
   ]
  },
  {
   "cell_type": "markdown",
   "metadata": {},
   "source": [
    "### leyendo indice semilla-inventario"
   ]
  },
  {
   "cell_type": "markdown",
   "metadata": {},
   "source": [
    "En el script que ingesta semilla, trae la información de los centros de conexión administrados. Para el indice principal se requiere:\n",
    "* site_id como llave del centro de conexión.\n",
    "* Datos geográficos (Departamento, municipio, centro poblado, sede, energía, latitud, longitud, COD_ISO, id_Beneficiario)."
   ]
  },
  {
   "cell_type": "code",
   "execution_count": 309,
   "metadata": {},
   "outputs": [],
   "source": [
    "total_docs = 10000\n",
    "try:\n",
    "    response = es.search(\n",
    "        index= parametros.semilla_inventario_index,\n",
    "        body={\n",
    "               \"_source\": ['site_id','nombre_municipio', 'nombre_departamento', 'nombre_centro_pob', 'nombreSede' \n",
    "                           , 'energiadesc', 'latitud', 'longitud', 'COD_ISO','id_Beneficiario']\n",
    "        },\n",
    "        size=total_docs\n",
    "    )\n",
    "    #print(es.info())\n",
    "    elastic_docs = response[\"hits\"][\"hits\"]\n",
    "    fields = {}\n",
    "    for num, doc in enumerate(elastic_docs):\n",
    "        source_data = doc[\"_source\"]\n",
    "        for key, val in source_data.items():\n",
    "            try:\n",
    "                fields[key] = np.append(fields[key], val)\n",
    "            except KeyError:\n",
    "                fields[key] = np.array([val])\n",
    "\n",
    "    datos_semilla = pd.DataFrame(dict([ (k,pd.Series(v)) for k,v in fields.items() ])) #pd.DataFrame(fields)\n",
    "except:\n",
    "    exit()"
   ]
  },
  {
   "cell_type": "markdown",
   "metadata": {},
   "source": [
    "### Cambiando nombre de campos y generando location"
   ]
  },
  {
   "cell_type": "markdown",
   "metadata": {},
   "source": [
    "* Se valida latitud y longitud. Luego se calcula campo location\n",
    "* Se renombran los campos de semilla"
   ]
  },
  {
   "cell_type": "code",
   "execution_count": 310,
   "metadata": {},
   "outputs": [],
   "source": [
    "def get_location(x):\n",
    "    patron = re.compile('^(\\-?\\d+(\\.\\d+)?),\\s*(\\-?\\d+(\\.\\d+)?)$') #patrón que debe cumplir\n",
    "    if (not patron.match(x) is None):\n",
    "        return x.replace(',','.')\n",
    "    else:\n",
    "        #Código a ejecutar si las coordenadas no son válidas\n",
    "        return 'a'\n",
    "datos_semilla['latitud'] = datos_semilla['latitud'].apply(get_location)\n",
    "datos_semilla['longitud'] = datos_semilla['longitud'].apply(get_location)\n",
    "datos_semilla = datos_semilla.drop(datos_semilla[(datos_semilla[\"longitud\"]=='a') | (datos_semilla[\"latitud\"]=='a')].index)\n",
    "datos_semilla['usuarios.location'] = datos_semilla['latitud'] + ',' + datos_semilla['longitud']\n",
    "datos_semilla['usuarios.location']=datos_semilla['usuarios.location'].str.replace('a,a','')\n",
    "datos_semilla.drop(columns=['latitud','longitud'],inplace=True)"
   ]
  },
  {
   "cell_type": "code",
   "execution_count": 311,
   "metadata": {},
   "outputs": [],
   "source": [
    "datos_semilla = datos_semilla.rename(columns={'lugar_cod' : 'usuarios.centroDigitalUsuarios'\n",
    "                                            , 'nombre_municipio': 'usuarios.nombreMunicipio'\n",
    "                                            , 'nombre_departamento' : 'usuarios.nombreDepartamento'\n",
    "                                            , 'nombre_centro_pob': 'usuarios.localidad'\n",
    "                                            , 'nombreSede' : 'usuarios.nomCentroDigital'\n",
    "                                            , 'energiadesc' : 'usuarios.sistemaEnergia'\n",
    "                                            , 'COD_ISO' : 'usuarios.codISO'\n",
    "                                            , 'id_Beneficiario' : 'usuarios.idBeneficiario'})"
   ]
  },
  {
   "cell_type": "markdown",
   "metadata": {},
   "source": [
    "Se descartan los registros que tengan la latitud y longitud vacía o no valida"
   ]
  },
  {
   "cell_type": "code",
   "execution_count": 312,
   "metadata": {
    "scrolled": true
   },
   "outputs": [],
   "source": [
    "datos_semilla = datos_semilla.drop(datos_semilla[(datos_semilla[\"usuarios.location\"]=='')].index)"
   ]
  },
  {
   "cell_type": "code",
   "execution_count": 313,
   "metadata": {},
   "outputs": [],
   "source": [
    "#datos_semilla"
   ]
  },
  {
   "cell_type": "markdown",
   "metadata": {},
   "source": [
    "### leyendo indice cambium-devicedevices"
   ]
  },
  {
   "cell_type": "markdown",
   "metadata": {},
   "source": [
    "De esta formas se asocia las MAC de dispositivos de red INDOOR y OUTDOOR\n",
    "* site_id para cruzar con las misma llave de semilla.\n",
    "* datos del dispositivo: mac, status, ip.\n",
    "* ap_group para identificar si la conexión es indoor/outdoor"
   ]
  },
  {
   "cell_type": "code",
   "execution_count": 314,
   "metadata": {},
   "outputs": [],
   "source": [
    "total_docs = 30000\n",
    "try:\n",
    "    response = es.search(\n",
    "        index= parametros.cambium_d_d_index,\n",
    "        body={\n",
    "                    \"_source\": [\"site_id\",\"mac\",\"status\",\"ip\",\"ap_group\"]\n",
    "                  , \"query\": {\n",
    "                    \"match_all\": {}\n",
    "                  }\n",
    "        },\n",
    "        size=total_docs\n",
    "    )\n",
    "    #print(es.info())\n",
    "    elastic_docs = response[\"hits\"][\"hits\"]\n",
    "    fields = {}\n",
    "    for num, doc in enumerate(elastic_docs):\n",
    "        source_data = doc[\"_source\"]\n",
    "        for key, val in source_data.items():\n",
    "            try:\n",
    "                fields[key] = np.append(fields[key], val)\n",
    "            except KeyError:\n",
    "                fields[key] = np.array([val])\n",
    "\n",
    "    datos_dev = pd.DataFrame(dict([ (k,pd.Series(v)) for k,v in fields.items() ])) #pd.DataFrame(fields)\n",
    "except:\n",
    "    exit()"
   ]
  },
  {
   "cell_type": "markdown",
   "metadata": {},
   "source": [
    "Se descartan registros con site_id vacios ya que no cruzarán en el merge y se limpian los NaN del dataframe."
   ]
  },
  {
   "cell_type": "code",
   "execution_count": 315,
   "metadata": {},
   "outputs": [],
   "source": [
    "datos_dev.dropna(subset=['site_id'], inplace=True)\n",
    "datos_dev.fillna('', inplace=True)\n",
    "datos_dev = datos_dev.drop(datos_dev[(datos_dev['site_id']=='')].index)"
   ]
  },
  {
   "cell_type": "markdown",
   "metadata": {},
   "source": [
    "Se corrigen datos de ap group con formato no valido"
   ]
  },
  {
   "cell_type": "code",
   "execution_count": 316,
   "metadata": {},
   "outputs": [],
   "source": [
    "datos_dev['ap_group'] = datos_dev['ap_group'].str.split(\"-\", n = 1, expand = True)[0]\n",
    "datos_dev['ap_group'] = datos_dev['ap_group'].str.split(\"_\", n = 1, expand = True)[0]\n",
    "datos_dev['ap_group'] = datos_dev['ap_group'].str.split(\".\", n = 1, expand = True)[0]\n",
    "datos_dev = datos_dev.drop(datos_dev[(datos_dev['ap_group']=='')].index)"
   ]
  },
  {
   "cell_type": "markdown",
   "metadata": {},
   "source": [
    "Se toman solo los datos con site_id y mac unicos."
   ]
  },
  {
   "cell_type": "code",
   "execution_count": 317,
   "metadata": {},
   "outputs": [],
   "source": [
    "#datos_dev.drop_duplicates(subset=['site_id','mac'],inplace=True)\n",
    "datos_dev = datos_dev.drop_duplicates('mac')"
   ]
  },
  {
   "cell_type": "code",
   "execution_count": 318,
   "metadata": {},
   "outputs": [],
   "source": [
    "#datos_dev"
   ]
  },
  {
   "cell_type": "markdown",
   "metadata": {},
   "source": [
    "Se cambia el nombre a la mac del dispositivo de red para no confundir con la de dispositivos de usuario "
   ]
  },
  {
   "cell_type": "code",
   "execution_count": 319,
   "metadata": {},
   "outputs": [],
   "source": [
    "datos_dev= datos_dev.rename(columns={'mac' : 'usuarios.macRed','ap_group' : 'usuarios.apGroup'})"
   ]
  },
  {
   "cell_type": "markdown",
   "metadata": {},
   "source": [
    "### Se lee información de Ohmyfi consumos"
   ]
  },
  {
   "cell_type": "markdown",
   "metadata": {},
   "source": [
    "Apartir de esta lectura se toma el valor del tiempo promedio de sesión en minutos. Se toma de referencia los campos:\n",
    "* fecha_inicio a partir de la cual se calcula fecha control\n",
    "* tiempo_sesion_minutos\n",
    "* mac_usuario \n",
    "* lugar_cod"
   ]
  },
  {
   "cell_type": "code",
   "execution_count": 320,
   "metadata": {},
   "outputs": [],
   "source": [
    "def traeSesiones(fecha_max,fecha_tope):\n",
    "    total_docs = 500000\n",
    "    response = es.search(\n",
    "        index= parametros.ohmyfi_consumos_index,\n",
    "        body={\n",
    "                  \"_source\": [\"lugar_cod\", \"tiempo_sesion_minutos\",\"mac_ap\",\"fecha_inicio\"]\n",
    "                , \"query\": {\n",
    "                      \"range\": {\n",
    "                            \"fecha_inicio\": {\n",
    "                            \"gte\": fecha_max,\n",
    "                            \"lt\": fecha_tope\n",
    "                            }\n",
    "                        }\n",
    "                  }\n",
    "        },\n",
    "        size=total_docs\n",
    "    )\n",
    "    elastic_docs = response[\"hits\"][\"hits\"]\n",
    "    fields = {}\n",
    "    for num, doc in enumerate(elastic_docs):\n",
    "        source_data = doc[\"_source\"]\n",
    "        for key, val in source_data.items():\n",
    "            try:\n",
    "                fields[key] = np.append(fields[key], val)\n",
    "            except KeyError:\n",
    "                fields[key] = np.array([val])\n",
    "\n",
    "    return pd.DataFrame(dict([ (k,pd.Series(v)) for k,v in fields.items() ])) \n"
   ]
  },
  {
   "cell_type": "code",
   "execution_count": 321,
   "metadata": {},
   "outputs": [],
   "source": [
    "def trae_conexiones(fecha_ini,fecha_fin):\n",
    "    total_docs = 5000000\n",
    "    response = es.search(\n",
    "        index= parametros.ohmyfi_d_c_index,\n",
    "        body={\n",
    "                \"_source\": [\"fechahora\",\"fecha_control\",\"lugar\",\"lugar_cod\",\"mac_usuario\", \"dispositivo\"\n",
    "                            ,\"sistema_operativo\",'tipodoc','documento']\n",
    "                , \"query\": {\n",
    "                  \"range\": {\n",
    "                    \"fechahora\": {\n",
    "                      \"gte\": fecha_ini,\n",
    "                      \"lt\": fecha_fin\n",
    "                    }\n",
    "                  }\n",
    "              }\n",
    "        },\n",
    "        size=total_docs\n",
    "    )\n",
    "    elastic_docs = response[\"hits\"][\"hits\"]\n",
    "\n",
    "    return pd.DataFrame([x[\"_source\"] for x in elastic_docs])"
   ]
  },
  {
   "cell_type": "code",
   "execution_count": 325,
   "metadata": {},
   "outputs": [],
   "source": [
    "### Se lee la información de cambium device client"
   ]
  },
  {
   "cell_type": "markdown",
   "metadata": {},
   "source": [
    "Esta lectura se usa para identificar: \n",
    "* Lecturas de consumo por dispositivo (radios rx y tx)\n",
    "* Fabricante del dispositivo\n",
    "* la mac del ap que luego se usa para identificar el ap group(Indoor/Outdoor)"
   ]
  },
  {
   "cell_type": "code",
   "execution_count": 326,
   "metadata": {},
   "outputs": [
    {
     "ename": "NameError",
     "evalue": "name 'time' is not defined",
     "output_type": "error",
     "traceback": [
      "\u001b[0;31m---------------------------------------------------------------------------\u001b[0m",
      "\u001b[0;31mNameError\u001b[0m                                 Traceback (most recent call last)",
      "\u001b[0;32m<ipython-input-326-7a9e6478c7cc>\u001b[0m in \u001b[0;36m<module>\u001b[0;34m\u001b[0m\n\u001b[0;32m----> 1\u001b[0;31m \u001b[0mt1\u001b[0m\u001b[0;34m=\u001b[0m\u001b[0mtime\u001b[0m\u001b[0;34m.\u001b[0m\u001b[0mtime\u001b[0m\u001b[0;34m(\u001b[0m\u001b[0;34m)\u001b[0m\u001b[0;34m\u001b[0m\u001b[0;34m\u001b[0m\u001b[0m\n\u001b[0m\u001b[1;32m      2\u001b[0m \u001b[0;34m\u001b[0m\u001b[0m\n\u001b[1;32m      3\u001b[0m \u001b[0mtotal_docs\u001b[0m \u001b[0;34m=\u001b[0m \u001b[0;36m30000000\u001b[0m\u001b[0;34m\u001b[0m\u001b[0;34m\u001b[0m\u001b[0m\n\u001b[1;32m      4\u001b[0m response = es.search(\n\u001b[1;32m      5\u001b[0m     \u001b[0mindex\u001b[0m\u001b[0;34m=\u001b[0m \u001b[0mparametros\u001b[0m\u001b[0;34m.\u001b[0m\u001b[0mcambium_d_c_index\u001b[0m\u001b[0;34m,\u001b[0m\u001b[0;34m\u001b[0m\u001b[0;34m\u001b[0m\u001b[0m\n",
      "\u001b[0;31mNameError\u001b[0m: name 'time' is not defined"
     ]
    }
   ],
   "source": [
    "t1=time.time()\n",
    "\n",
    "total_docs = 30000000\n",
    "response = es.search(\n",
    "    index= parametros.cambium_d_c_index,\n",
    "    body={\n",
    "            \"_source\": [\"mac\",\"ap_mac\", 'manufacturer','name',\"radio.band\",'radio.rx_bytes','radio.tx_bytes'],\n",
    "              \"query\": {\n",
    "                \"bool\": {\n",
    "                  \"filter\": [\n",
    "                  {\n",
    "                    \"exists\": {\n",
    "                      \"field\":\"mac\"\n",
    "                    }\n",
    "                  }\n",
    "                  ]\n",
    "                }\n",
    "              }\n",
    "    },\n",
    "    size=total_docs\n",
    ")\n",
    "elastic_docs = response[\"hits\"][\"hits\"]\n",
    "# fields = {}\n",
    "# for num, doc in enumerate(elastic_docs):\n",
    "#     source_data = doc[\"_source\"]\n",
    "#     for key, val in source_data.items():\n",
    "#         try:\n",
    "#             fields[key] = np.append(fields[key], val)\n",
    "#         except KeyError:\n",
    "#             fields[key] = np.array([val])\n",
    "\n",
    "# datos_dev_clients = pd.DataFrame(dict([ (k,pd.Series(v)) for k,v in fields.items() ]))\n",
    "\n",
    "datos_dev_clients = pd.DataFrame([x[\"_source\"] for x in elastic_docs])\n",
    "\n",
    "t2=time.time()"
   ]
  },
  {
   "cell_type": "markdown",
   "metadata": {},
   "source": [
    "* se cruza por mac_usuario\n",
    "* Los merge usan left para evitar perdida de datos en cruce con cambium-devicedevices. Aquellos datos que no cruzan se les marca como no identificados. En condiciones ideales, no debería presentarse ausencia de información\n",
    "* Solo se toma lo que cruza con INNER\n",
    "* se cambia el fabricante [Local MAC]\n",
    "* se cambian lo nulos"
   ]
  },
  {
   "cell_type": "code",
   "execution_count": 327,
   "metadata": {},
   "outputs": [],
   "source": [
    "try:\n",
    "    datos_dev_clients.drop_duplicates(inplace=True)\n",
    "    datos_dev_clients = datos_dev_clients.rename(columns={'ap_mac' : 'usuarios.macRed','mac' : 'mac_usuario'})\n",
    "    datos_dev_clients['manufacturer'] = datos_dev_clients['manufacturer'].replace(\"[Local MAC]\", \"No identificado\")\n",
    "    datos_dev_clients.fillna({'manufacturer':'No identificado'},inplace=True)\n",
    "    datos_det_conex = pd.merge(datos_det_conex,  datos_dev_clients, on='mac_usuario',how='left')\n",
    "    datos_det_conex = pd.merge(datos_det_conex,datos_dev[['usuarios.macRed','usuarios.apGroup']],on='usuarios.macRed', how='left')\n",
    "    datos_det_conex.fillna({'usuarios.tipoDispositivoUsuarios':'No identificado'\n",
    "                       ,'usuarios.sistemaOperativoUsuarios':'No identificado'\n",
    "                       ,'manufacturer':'No identificado'\n",
    "                       ,'radio.band':'No identificado'\n",
    "                       },inplace=True)\n",
    "except:\n",
    "    pass"
   ]
  },
  {
   "cell_type": "markdown",
   "metadata": {},
   "source": [
    "### Se ejecuta consulta de datos"
   ]
  },
  {
   "cell_type": "markdown",
   "metadata": {},
   "source": [
    "* Se calcula rango en base a la fecha de control. Para este caso es de 10 minutos.\n",
    "* Se ejecuta la función de consulta con el rango de fechas.\n",
    "* Si no retorna datos se incrementa el rango y se ejecuta nuevamente. Este proceso se repite hasta conseguir datos o hasta que el rango de ejecución alcance la fecha y hora actual."
   ]
  },
  {
   "cell_type": "code",
   "execution_count": 324,
   "metadata": {},
   "outputs": [],
   "source": [
    "fecha_max_mintic=\"2021-08-09 00:00:00\"\n",
    "fecha_tope_mintic=\"2021-08-09 23:59:00\"\n",
    "datos_consumos = traeSesiones(fecha_max_mintic,fecha_tope_mintic)"
   ]
  },
  {
   "cell_type": "code",
   "execution_count": 284,
   "metadata": {},
   "outputs": [],
   "source": [
    "fecha_max_mintic = fecha_ejecucion\n",
    "\n",
    "fecha_tope_mintic = (datetime.strptime(fecha_max_mintic, '%Y-%m-%d %H:%M:%S')+timedelta(minutes=50)-timedelta(seconds=1)).strftime(\"%Y-%m-%d %H:%M:%S\")\n",
    "datos_consumos = traeSesiones(fecha_max_mintic,fecha_tope_mintic)\n",
    "\n",
    "if datos_consumos is None or datos_consumos.empty:\n",
    "    while (datos_consumos is None or datos_consumos.empty) and ((datetime.strptime(fecha_max_mintic[0:50], '%Y-%m-%d %H:%M:%S').strftime(\"%Y-%m-%d %H:%M:%S\")) < str(now.strftime(\"%Y-%m-%d %H:%M:%S\"))):\n",
    "        fecha_max_mintic = (datetime.strptime(fecha_max_mintic, '%Y-%m-%d %H:%M:%S')+timedelta(minutes=50)).strftime(\"%Y-%m-%d %H:%M:%S\")\n",
    "        fecha_tope_mintic = (datetime.strptime(fecha_tope_mintic, '%Y-%m-%d %H:%M:%S')+timedelta(minutes=50)).strftime(\"%Y-%m-%d %H:%M:%S\")\n",
    "        datos_consumos = traeSesiones(fecha_max_mintic,fecha_tope_mintic)\n",
    "else:\n",
    "    pass"
   ]
  },
  {
   "cell_type": "code",
   "execution_count": 300,
   "metadata": {},
   "outputs": [],
   "source": [
    "fecha_max_mintic = fecha_ejecucion\n",
    "\n",
    "fecha_tope_mintic = (datetime.strptime(fecha_max_mintic, '%Y-%m-%d %H:%M:%S')+timedelta(minutes=50)-timedelta(seconds=1)).strftime(\"%Y-%m-%d %H:%M:%S\")"
   ]
  },
  {
   "cell_type": "code",
   "execution_count": 301,
   "metadata": {},
   "outputs": [
    {
     "data": {
      "text/plain": [
       "('2021-06-06 00:00:00', '2021-06-06 00:49:59')"
      ]
     },
     "execution_count": 301,
     "metadata": {},
     "output_type": "execute_result"
    }
   ],
   "source": [
    "fecha_max_mintic, fecha_tope_mintic"
   ]
  },
  {
   "cell_type": "code",
   "execution_count": 285,
   "metadata": {},
   "outputs": [],
   "source": [
    "datos_det_conex = trae_conexiones(fecha_max_mintic,fecha_tope_mintic)"
   ]
  },
  {
   "cell_type": "code",
   "execution_count": 286,
   "metadata": {},
   "outputs": [
    {
     "name": "stdout",
     "output_type": "stream",
     "text": [
      "Dataframe vacio\n",
      "2021-06-05 23:10:00\n",
      "2021-06-05 23:59:59\n"
     ]
    }
   ],
   "source": [
    "continuar = True\n",
    "if datos_det_conex.empty:\n",
    "    print(\"Dataframe vacio\")\n",
    "    print(fecha_max_mintic)\n",
    "    print(fecha_tope_mintic)\n",
    "    \n",
    "    continuar = False\n",
    "else:\n",
    "    datos_det_conex['fecha'] = datos_det_conex['fecha_control'].str.split(\" \", n = 1, expand = True)[0]\n",
    "    datos_det_conex.drop_duplicates(subset=[\"fecha_control\",\"lugar\",\"lugar_cod\",\"mac_usuario\", \"dispositivo\",\"sistema_operativo\",'tipodoc','documento'],inplace=True)"
   ]
  },
  {
   "cell_type": "code",
   "execution_count": 287,
   "metadata": {},
   "outputs": [],
   "source": [
    "if  continuar:\n",
    "    \n",
    "    datos_det_conex = datos_det_conex.rename(columns={'lugar_cod' : 'site_id'\n",
    "                                                             ,'fechahora':'usuarios.fechaConexionUsuarios'\n",
    "                                                             ,'dispositivo': 'usuarios.tipoDispositivoUsuarios'\n",
    "                                                             , 'sistema_operativo': 'usuarios.sistemaOperativoUsuarios'})"
   ]
  },
  {
   "cell_type": "code",
   "execution_count": 288,
   "metadata": {
    "scrolled": true
   },
   "outputs": [],
   "source": [
    "#datos_det_conex"
   ]
  },
  {
   "cell_type": "code",
   "execution_count": 289,
   "metadata": {},
   "outputs": [],
   "source": [
    "#datos_det_conex.columns"
   ]
  },
  {
   "cell_type": "markdown",
   "metadata": {},
   "source": [
    "# Escribiendo en indice la información de tiempo promedio sesión en sitio"
   ]
  },
  {
   "cell_type": "code",
   "execution_count": 290,
   "metadata": {},
   "outputs": [],
   "source": [
    "use_these_keys = ['usuarios.fecha'\n",
    "                  , 'usuarios.siteID'\n",
    "                  ,'usuarios.tiempoPromedioSesionSitio'\n",
    "                  , 'usuarios.nomCentroDigital'\n",
    "                  , 'usuarios.codISO'\n",
    "                  , 'usuarios.idBeneficiario'\n",
    "                  , 'usuarios.localidad'\n",
    "                  , 'usuarios.nombreDepartamento'\n",
    "                  , 'usuarios.sistemaEnergia'\n",
    "                  , 'usuarios.nombreMunicipio'\n",
    "                  , 'usuarios.location'\n",
    "                  , 'usuarios.macRed'\n",
    "                  , 'usuarios.apGroup'\n",
    "                  , 'usuarios.usuariosConectados'\n",
    "                  , 'usuarios.sesiones_Usuarios'\n",
    "                  , 'usuarios.fechaControl'\n",
    "                  , 'usuarios.anyo'\n",
    "                  , 'usuarios.mes'\n",
    "                  , 'usuarios.dia'\n",
    "                  , 'usuarios.hora'\n",
    "                  , 'usuarios.minuto'\n",
    "                    , 'nombreDepartamento'\n",
    "                    , 'nombreMunicipio'\n",
    "                    , 'idBeneficiario'\n",
    "                    , 'fecha'\n",
    "                    , 'anyo'\n",
    "                    , 'mes'\n",
    "                    , 'dia'\n",
    "                  , '@timestamp']\n",
    "def doc_generator(df):\n",
    "        df_iter = df.iterrows()\n",
    "        for index, document in df_iter:\n",
    "            document = document.rename(index={'usuarios.tiempoPromedioSesionSitio_x': 'usuarios.tiempoPromedioSesionSitio','usuarios.macRed_x':'usuarios.macRed','usuarios.apGroup_x':'usuarios.apGroup','usuarios.fechaControl_x':'usuarios.fechaControl'})\n",
    "            yield {\n",
    "                    \"_index\": indice, \n",
    "                    \"_id\": f\"{str(document['usuarios.siteID']) + '-' + str(document['usuarios.fechaControl']) + '-' + str(document['usuarios.macRed'])+'-'+str(random.randrange(10000000))}\",\n",
    "                    \"_source\": filterKeys(document),\n",
    "                }\n",
    "            "
   ]
  },
  {
   "cell_type": "code",
   "execution_count": 291,
   "metadata": {
    "scrolled": true
   },
   "outputs": [],
   "source": [
    "#use_these_keys"
   ]
  },
  {
   "cell_type": "markdown",
   "metadata": {},
   "source": [
    "Se agrupa por lugar_cod, fecha_control, mac_usuario y se promedia el tiempo_sesion_minutos. Este genera el campo del indice final:\n",
    "* usuarios.tiempoPromedioSesionSitio"
   ]
  },
  {
   "cell_type": "code",
   "execution_count": 292,
   "metadata": {
    "scrolled": true
   },
   "outputs": [],
   "source": [
    "#datos_consumos.columns"
   ]
  },
  {
   "cell_type": "code",
   "execution_count": 293,
   "metadata": {
    "scrolled": false
   },
   "outputs": [],
   "source": [
    "#datos_consumos"
   ]
  },
  {
   "cell_type": "markdown",
   "metadata": {},
   "source": [
    " Se corrigen valores errados de site_id en detalle conexiones"
   ]
  },
  {
   "cell_type": "code",
   "execution_count": 294,
   "metadata": {
    "scrolled": false
   },
   "outputs": [],
   "source": [
    "if  continuar:\n",
    "\n",
    "    try:\n",
    "        datos_consumos = datos_consumos.rename(columns={'lugar_cod' :'site_id'})\n",
    "        datos_consumos['mac_ap'] = datos_consumos['mac_ap'].str.replace('-',':')\n",
    "        datos_consumos['fecha_control'] = datos_consumos[\"fecha_inicio\"].str[0:-4] + '0:00'\n",
    "        tiempoPromedioSesionSitio=datos_consumos[['site_id','mac_ap','fecha_control','tiempo_sesion_minutos']].groupby(['site_id','mac_ap','fecha_control']).agg(['mean']).reset_index()\n",
    "        tiempoPromedioSesionSitio.columns = tiempoPromedioSesionSitio.columns.droplevel(1)\n",
    "        tiempoPromedioSesionSitio = tiempoPromedioSesionSitio.rename(columns={'tiempo_sesion_minutos' : 'usuarios.tiempoPromedioSesionSitio'})\n",
    "        tiempoPromedioSesionSitio['usuarios.tiempoPromedioSesionSitio'] = round(tiempoPromedioSesionSitio['usuarios.tiempoPromedioSesionSitio'],6)\n",
    "        tiempoPromedioSesionSitio = tiempoPromedioSesionSitio.rename(columns={'mac_ap' : 'usuarios.macRed'\n",
    "                                                                              ,'fecha_control' : 'usuarios.fechaControl'})\n",
    "        tiempoPromedioSesionSitio = pd.merge(tiempoPromedioSesionSitio,datos_semilla, on ='site_id', how='inner')\n",
    "        tiempoPromedioSesionSitio = pd.merge(tiempoPromedioSesionSitio, datos_dev, on=['site_id','usuarios.macRed'], how='left')\n",
    "        tiempoPromedioSesionSitio.fillna({'usuarios.apGroup':'No identificado'},inplace=True)\n",
    "\n",
    "        datos_logins = datos_det_conex[['fecha_control', 'site_id', 'documento']].groupby([\"fecha_control\",\"site_id\"])['documento'].nunique().reset_index()\n",
    "        datos_logins= datos_logins.rename(columns={'documento' : 'usuarios.sesiones_Usuarios'})\n",
    "\n",
    "        usuariosConectados = datos_det_conex[[\"fecha_control\",\"site_id\",\"mac_usuario\"]].groupby([\"fecha_control\",\"site_id\"]).agg(['count']).reset_index()\n",
    "        usuariosConectados.columns = usuariosConectados.columns.droplevel(1)\n",
    "        usuariosConectados= usuariosConectados.rename(columns={'mac_usuario' : 'usuarios.usuariosConectados' })\n",
    "        usuariosConectados = pd.merge(usuariosConectados,datos_logins, on=[\"fecha_control\",\"site_id\"], how='inner')\n",
    "        usuariosConectados = pd.merge(datos_semilla,  usuariosConectados, on=['site_id'], how='inner')\n",
    "        usuariosConectados = pd.merge(usuariosConectados, tiempoPromedioSesionSitio, on=['site_id'], how='inner')\n",
    "        usuariosConectados.fillna({'usuarios.consumoUsuarios' : 0\n",
    "                                  ,'usuarios.consumoUsuariosDescarga':0\n",
    "                                  ,'usuarios.consumoUsuariosCarga':0},inplace=True)\n",
    "\n",
    "        usuariosConectados.fillna({'usuarios.apGroup':'No identificado'},inplace=True)\n",
    "        usuariosConectados['usuarios.usuariosConectados'] = usuariosConectados['usuarios.usuariosConectados'].astype(int)\n",
    "        usuariosConectados = usuariosConectados.rename(columns={'fecha_control':'usuarios.fechaControl'\n",
    "                                                               ,'site_id' : 'usuarios.siteID'})\n",
    "\n",
    "        tiempoPromedioSesionSitio = tiempoPromedioSesionSitio.rename(columns={'site_id' : 'usuarios.siteID'})\n",
    "        try:\n",
    "            tiempoPromedioSesionSitio[\"usuarios.fecha\"] = tiempoPromedioSesionSitio[\"usuarios.fechaControl\"].str[0:10]\n",
    "        except:\n",
    "            tiempoPromedioSesionSitio[\"usuarios.fecha\"] = \"\"\n",
    "\n",
    "        try:\n",
    "            tiempoPromedioSesionSitio[\"usuarios.anyo\"] = tiempoPromedioSesionSitio[\"usuarios.fecha\"].str[0:4]\n",
    "        except:\n",
    "            tiempoPromedioSesionSitio[\"usuarios.anyo\"] = \"\"\n",
    "\n",
    "        try:\n",
    "            tiempoPromedioSesionSitio[\"usuarios.mes\"] = tiempoPromedioSesionSitio[\"usuarios.fecha\"].str[5:7]\n",
    "        except:\n",
    "            tiempoPromedioSesionSitio[\"usuarios.mes\"] = \"\"\n",
    "\n",
    "        try:\n",
    "            tiempoPromedioSesionSitio[\"usuarios.dia\"] = tiempoPromedioSesionSitio[\"usuarios.fecha\"].str[8:10]\n",
    "        except:\n",
    "            tiempoPromedioSesionSitio[\"usuarios.dia\"] = \"\"\n",
    "\n",
    "        try:\n",
    "            tiempoPromedioSesionSitio[\"usuarios.hora\"] = tiempoPromedioSesionSitio[\"usuarios.fechaControl\"].str.split(\" \", n = 1, expand = True)[1].str.split(\":\", n = 2, expand = True)[0][\"usuarios.hora\"] = tiempoPromedioSesionSitio[\"usuarios.fechaControl\"].str.split(\" \", n = 1, expand = True)[1].str.split(\":\", n = 2, expand = True)[0]\n",
    "        except:\n",
    "            tiempoPromedioSesionSitio[\"usuarios.hora\"] = \"\"\n",
    "\n",
    "        try:\n",
    "            tiempoPromedioSesionSitio[\"usuarios.minuto\"] = tiempoPromedioSesionSitio[\"usuarios.fechaControl\"].str.split(\" \", n = 1, expand = True)[1].str.split(\":\", n = 2, expand = True)[1]\n",
    "        except:\n",
    "            tiempoPromedioSesionSitio[\"usuarios.minuto\"] = \"\"\n",
    "\n",
    "        tiempoPromedioSesionSitio['nombreDepartamento'] = tiempoPromedioSesionSitio['usuarios.nombreDepartamento']\n",
    "        tiempoPromedioSesionSitio['nombreMunicipio'] = tiempoPromedioSesionSitio['usuarios.nombreMunicipio']\n",
    "        tiempoPromedioSesionSitio['idBeneficiario'] = tiempoPromedioSesionSitio['usuarios.idBeneficiario']\n",
    "        tiempoPromedioSesionSitio['fecha'] = tiempoPromedioSesionSitio['usuarios.fecha']\n",
    "        tiempoPromedioSesionSitio['anyo'] = tiempoPromedioSesionSitio['usuarios.anyo']\n",
    "        tiempoPromedioSesionSitio['mes'] = tiempoPromedioSesionSitio['usuarios.mes']\n",
    "        tiempoPromedioSesionSitio['dia'] = tiempoPromedioSesionSitio['usuarios.dia']\n",
    "        tiempoPromedioSesionSitio['@timestamp'] = now.isoformat()\n",
    "\n",
    "        usuariosConectados2 = pd.merge(tiempoPromedioSesionSitio, usuariosConectados, on=['usuarios.siteID'], how='inner')  \n",
    "        print(usuariosConectados2)\n",
    "        salida = helpers.bulk(es, doc_generator(usuariosConectados2))\n",
    "\n",
    "        print(\"Fecha: \", now,\"- Tiempo promedio sesion en sitio insertado en indice principal:\",salida[0])\n",
    "\n",
    "    except Exception as e:\n",
    "        print(e)\n",
    "        print(\"Fecha: \", now,\"- Nada para insertar en indice principal\")"
   ]
  },
  {
   "cell_type": "code",
   "execution_count": 295,
   "metadata": {},
   "outputs": [],
   "source": [
    "#usuariosConectados2"
   ]
  },
  {
   "cell_type": "code",
   "execution_count": 296,
   "metadata": {},
   "outputs": [],
   "source": [
    "\n",
    "if  continuar:\n",
    "\n",
    "    usuariosConectados2.columns"
   ]
  },
  {
   "cell_type": "markdown",
   "metadata": {},
   "source": [
    "### Guardando fecha para control de ejecución"
   ]
  },
  {
   "cell_type": "markdown",
   "metadata": {},
   "source": [
    "* Se actualiza la fecha de control. Si el calculo supera la fecha hora actual, se asocia esta ultima."
   ]
  },
  {
   "cell_type": "code",
   "execution_count": 297,
   "metadata": {},
   "outputs": [
    {
     "name": "stdout",
     "output_type": "stream",
     "text": [
      "actualizada fecha control de ejecucion: 2021-06-06 00:00:00\n"
     ]
    }
   ],
   "source": [
    "fecha_ejecucion = (datetime.strptime(fecha_max_mintic, '%Y-%m-%d %H:%M:%S')+timedelta(minutes=50)).strftime(\"%Y-%m-%d %H:%M:%S\")[0:15] + '0:00'    \n",
    "\n",
    "if fecha_ejecucion > str(now.strftime('%Y-%m-%d %H:%M:%S'))[0:15] + '0:00':\n",
    "    fecha_ejecucion = str(now.strftime('%Y-%m-%d %H:%M:%S'))[0:15] + '0:00'\n",
    "response = es.index(\n",
    "        index = indice_control,\n",
    "        id = 'jerarquia_usuarios_sesiones_sitio',\n",
    "        body = { 'jerarquia_usuarios_sesiones_sitio': 'usuarios_sesiones_sitio','usuarios.Tablero07.fechaControl' : fecha_ejecucion}\n",
    ")\n",
    "print(\"actualizada fecha control de ejecucion:\",fecha_ejecucion)"
   ]
  }
 ],
 "metadata": {
  "kernelspec": {
   "display_name": "Python 3",
   "language": "python",
   "name": "python3"
  },
  "language_info": {
   "codemirror_mode": {
    "name": "ipython",
    "version": 3
   },
   "file_extension": ".py",
   "mimetype": "text/x-python",
   "name": "python",
   "nbconvert_exporter": "python",
   "pygments_lexer": "ipython3",
   "version": "3.8.5"
  }
 },
 "nbformat": 4,
 "nbformat_minor": 4
}
