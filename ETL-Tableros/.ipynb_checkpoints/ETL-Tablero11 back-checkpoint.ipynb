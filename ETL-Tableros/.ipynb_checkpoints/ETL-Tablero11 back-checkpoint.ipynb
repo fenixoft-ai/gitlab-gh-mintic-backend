{
 "cells": [
  {
   "cell_type": "markdown",
   "metadata": {},
   "source": [
    "### ¿Qué hace este script?\n",
    "\n",
    "#### Para cada AP:\n",
    "* usuarios.usuariosConectados(corresponde al total de conexiones), usuarios.sesiones_Usuarios (Corresponde al total de usuarios)\n",
    "* Información detallada de los dispositivos conectados en el rango de fecha procesado: usuarios.dispositivo.mac, usuarios.dispositivo.tipo, usuarios.dispositivo.marca, usuarios.dispositivo.tecnologia, usuarios.dispositivo.sisOperativo.\n",
    "\n",
    "#### Para cada sitio: \n",
    "* Totales por características de dispositivos: usuarios.sistemaOperativoUsuarios, usuarios.tipoDispositivoUsuarios, usuarios.marcaTerminal, usuarios.tecnologiaTerminal, usuarios.totales.dispositivos (Este ultimo guarda el total)\n",
    "* usuarios.usoServicioInternetSitio es la suma en Gb consumido discriminado por usuarios.detallesTecnologiasTerminales (Bandas 2.4 o 5 GHz)\n",
    "* usuarios.conteoDispositivos el cual indica el total de dispositivos conectados (Es lo mismo que total de conexiones)\n",
    "* usuarios.usuariosNuevos (Esta tenía antes Nuevos y Recurrentes, pero ahora solo tiene Nuevos por solicitud de BI)\n",
    "* usuarios.totales.usuariosNuevos, tiene el total de usuarios nuevos (el script por el momento solo totaliza nuevos siempre y cuando no se corra historicos)"
   ]
  },
  {
   "cell_type": "code",
   "execution_count": 203,
   "metadata": {},
   "outputs": [],
   "source": [
    "from elasticsearch import Elasticsearch, helpers\n",
    "from ssl import create_default_context\n",
    "import pandas as pd\n",
    "import numpy as np\n",
    "from datetime import datetime, timedelta\n",
    "import parametros\n",
    "import re\n",
    "import time"
   ]
  },
  {
   "cell_type": "markdown",
   "metadata": {},
   "source": [
    "## Conectando a ElasticSearch"
   ]
  },
  {
   "cell_type": "markdown",
   "metadata": {},
   "source": [
    "La ultima línea se utiliza para garantizar la ejecución de la consulta\n",
    "* timeout es el tiempo para cada ejecución\n",
    "* max_retries el número de intentos si la conexión falla\n",
    "* retry_on_timeout para activar los reitentos"
   ]
  },
  {
   "cell_type": "code",
   "execution_count": 512,
   "metadata": {},
   "outputs": [],
   "source": [
    "context = create_default_context(cafile=parametros.cafile)\n",
    "es = Elasticsearch(\n",
    "    parametros.servidor,\n",
    "    http_auth=(parametros.usuario_EC, parametros.password_EC),\n",
    "    scheme=\"https\",\n",
    "    port=parametros.puerto,\n",
    "    ssl_context=context,\n",
    "    timeout=60, max_retries=3, retry_on_timeout=True\n",
    ")"
   ]
  },
  {
   "cell_type": "markdown",
   "metadata": {},
   "source": [
    "### Calculando fechas para la ejecución"
   ]
  },
  {
   "cell_type": "markdown",
   "metadata": {},
   "source": [
    "* Se calculan las fechas para asociar al nombre del indice\n",
    "* fecha_hoy es usada para concatenar al nombre del indice principal previa inserción"
   ]
  },
  {
   "cell_type": "code",
   "execution_count": 513,
   "metadata": {},
   "outputs": [],
   "source": [
    "now = datetime.now()\n",
    "fecha_hoy = str(now.strftime(\"%Y.%m.%d\"))"
   ]
  },
  {
   "cell_type": "markdown",
   "metadata": {},
   "source": [
    "### nombre de indice donde se insertará"
   ]
  },
  {
   "cell_type": "code",
   "execution_count": 514,
   "metadata": {},
   "outputs": [],
   "source": [
    "indice = parametros.usuarios_tablero11_index \n",
    "indice_control = parametros.tableros_mintic_control"
   ]
  },
  {
   "cell_type": "markdown",
   "metadata": {},
   "source": [
    "### Funcion para construir JSON compatible con ElasticSearch"
   ]
  },
  {
   "cell_type": "code",
   "execution_count": 515,
   "metadata": {},
   "outputs": [],
   "source": [
    "def filterKeys(document):\n",
    "    return {key: document.get(key) for key in use_these_keys }"
   ]
  },
  {
   "cell_type": "markdown",
   "metadata": {},
   "source": [
    "### Trae la ultima fecha para control de ejecución"
   ]
  },
  {
   "cell_type": "markdown",
   "metadata": {},
   "source": [
    "Cuando en el rango de tiempo de la ejecución, no se insertan nuevos valores, las fecha maxima en indice mintic no aumenta, por tanto se usa esta fecha de control para garantizar que incremente el bucle de ejecución"
   ]
  },
  {
   "cell_type": "code",
   "execution_count": 516,
   "metadata": {},
   "outputs": [
    {
     "name": "stdout",
     "output_type": "stream",
     "text": [
      "ultima fecha para control de ejecucion: 2021-07-01 00:10:00\n"
     ]
    }
   ],
   "source": [
    "total_docs = 1\n",
    "try:\n",
    "    response = es.search(\n",
    "        index= indice_control,\n",
    "        body={\n",
    "           \"_source\": [\"tablero11.fechaControl\"],\n",
    "              \"query\": {\n",
    "                \"bool\": {\n",
    "                  \"filter\": [\n",
    "                  {\n",
    "                    \"exists\": {\n",
    "                      \"field\":\"jerarquia-tablero11\"\n",
    "                    }\n",
    "                  }\n",
    "              ]\n",
    "            }\n",
    "          }\n",
    "        },\n",
    "        size=total_docs\n",
    "    )\n",
    "    #print(es.info())\n",
    "    elastic_docs = response[\"hits\"][\"hits\"]\n",
    "    fields = {}\n",
    "    for num, doc in enumerate(elastic_docs):\n",
    "        fecha_ejecucion = doc[\"_source\"]['tablero11.fechaControl']\n",
    "except Exception as e:\n",
    "    print(e)\n",
    "    response[\"hits\"][\"hits\"] = []\n",
    "if response[\"hits\"][\"hits\"] == []:\n",
    "    fecha_ejecucion = '2021-05-14T00:00:00'\n",
    "print(\"ultima fecha para control de ejecucion:\",fecha_ejecucion)"
   ]
  },
  {
   "cell_type": "markdown",
   "metadata": {},
   "source": [
    "### leyendo indice semilla-inventario"
   ]
  },
  {
   "cell_type": "markdown",
   "metadata": {},
   "source": [
    "En el script que ingesta semilla, trae la información de los centros de conexión administrados. Para el indice principal se requiere:\n",
    "* site_id como llave del centro de conexión.\n",
    "* Datos geográficos (Departamento, municipio, centro poblado, sede, energía, latitud, longitud,COD_ISO, id_Beneficiario)."
   ]
  },
  {
   "cell_type": "code",
   "execution_count": 517,
   "metadata": {},
   "outputs": [],
   "source": [
    "t1=time.time()\n",
    "total_docs = 10000\n",
    "try:\n",
    "    response = es.search(\n",
    "        index= parametros.semilla_inventario_index,\n",
    "        body={\n",
    "               \"_source\": ['site_id','nombre_municipio', 'nombre_departamento', 'nombre_centro_pob', 'nombreSede' \n",
    "                           , 'energiadesc', 'latitud', 'longitud', 'COD_ISO','id_Beneficiario']\n",
    "        },\n",
    "        size=total_docs\n",
    "    )\n",
    "    #print(es.info())\n",
    "    elastic_docs = response[\"hits\"][\"hits\"]\n",
    "#     fields = {}\n",
    "#     for num, doc in enumerate(elastic_docs):\n",
    "#         source_data = doc[\"_source\"]\n",
    "#         for key, val in source_data.items():\n",
    "#             try:\n",
    "#                 fields[key] = np.append(fields[key], val)\n",
    "#             except KeyError:\n",
    "#                 fields[key] = np.array([val])\n",
    "\n",
    "#     datos_semilla = pd.DataFrame(dict([ (k,pd.Series(v)) for k,v in fields.items() ])) #pd.DataFrame(fields)\n",
    "    \n",
    "    datos_semilla = pd.DataFrame([x[\"_source\"] for x in elastic_docs])\n",
    "    \n",
    "except:\n",
    "    exit()\n",
    "    \n",
    "t2=time.time()"
   ]
  },
  {
   "cell_type": "markdown",
   "metadata": {},
   "source": [
    "### Cambiando nombre de campos y generando location"
   ]
  },
  {
   "cell_type": "markdown",
   "metadata": {},
   "source": [
    "* Se valida latitud y longitud. Luego se calcula campo location\n",
    "* Se renombran los campos de semilla"
   ]
  },
  {
   "cell_type": "code",
   "execution_count": 518,
   "metadata": {},
   "outputs": [],
   "source": [
    "def get_location(x,y='lat'):\n",
    "    patron = re.compile('^(\\-?\\d+(\\.\\d+)?),\\s*(\\-?\\d+(\\.\\d+)?)$') #patrón que debe cumplir\n",
    "    if (not patron.match(x) is None) and (str(x)!=''):\n",
    "        return x.replace(',','.')\n",
    "    else:\n",
    "        #Código a ejecutar si las coordenadas no son válidas\n",
    "        return '4.596389' if y=='lat' else '-74.074639'\n",
    "    \n",
    "datos_semilla['latitud'] = datos_semilla['latitud'].apply(lambda x:get_location(x,'lat'))\n",
    "datos_semilla['longitud'] = datos_semilla['longitud'].apply(lambda x:get_location(x,'lon'))\n",
    "datos_semilla['latitud'] = datos_semilla['latitud'].apply(get_location)\n",
    "datos_semilla['longitud'] = datos_semilla['longitud'].apply(get_location)\n",
    "datos_semilla = datos_semilla.drop(datos_semilla[(datos_semilla[\"longitud\"]=='a') | (datos_semilla[\"latitud\"]=='a')].index)\n",
    "datos_semilla['usuarios.location'] = datos_semilla['latitud'] + ',' + datos_semilla['longitud']\n",
    "datos_semilla['usuarios.location']=datos_semilla['usuarios.location'].str.replace('a,a','')\n",
    "datos_semilla.drop(columns=['latitud','longitud'],inplace=True)"
   ]
  },
  {
   "cell_type": "code",
   "execution_count": 519,
   "metadata": {},
   "outputs": [],
   "source": [
    "datos_semilla = datos_semilla.rename(columns={'lugar_cod' : 'usuarios.centroDigitalUsuarios'\n",
    "                                            , 'nombre_municipio': 'usuarios.nombreMunicipio'\n",
    "                                            , 'nombre_departamento' : 'usuarios.nombreDepartamento'\n",
    "                                            , 'nombre_centro_pob': 'usuarios.localidad'\n",
    "                                            , 'nombreSede' : 'usuarios.nomCentroDigital'\n",
    "                                            , 'energiadesc' : 'usuarios.sistemaEnergia'\n",
    "                                            , 'COD_ISO' : 'usuarios.codISO'\n",
    "                                            , 'id_Beneficiario' : 'usuarios.idBeneficiario'})"
   ]
  },
  {
   "cell_type": "markdown",
   "metadata": {},
   "source": [
    "Se descartan los registros que tengan la latitud y longitud vacía o no valida"
   ]
  },
  {
   "cell_type": "code",
   "execution_count": 520,
   "metadata": {},
   "outputs": [],
   "source": [
    "datos_semilla = datos_semilla.drop(datos_semilla[(datos_semilla[\"usuarios.location\"]=='')].index)"
   ]
  },
  {
   "cell_type": "markdown",
   "metadata": {},
   "source": [
    "### leyendo indice cambium-devicedevices"
   ]
  },
  {
   "cell_type": "markdown",
   "metadata": {},
   "source": [
    "De esta formas se asocia las MAC de dispositivos de red INDOOR y OUTDOOR\n",
    "* site_id para cruzar con las misma llave de semilla.\n",
    "* datos del dispositivo: mac, status, ip.\n",
    "* ap_group para identificar si la conexión es indoor/outdoor"
   ]
  },
  {
   "cell_type": "code",
   "execution_count": 536,
   "metadata": {},
   "outputs": [],
   "source": [
    "t1=time.time()\n",
    "total_docs = 30000\n",
    "try:\n",
    "    response = es.search(\n",
    "        index= parametros.cambium_d_d_index,\n",
    "        body={\n",
    "                    \"_source\": [\"site_id\",\"mac\",\"status\",\"ip\",\"ap_group\"]\n",
    "                  , \"query\": {\n",
    "                    \"match_all\": {}\n",
    "                  }\n",
    "        },\n",
    "        size=total_docs\n",
    "    )\n",
    "    #print(es.info())\n",
    "    elastic_docs = response[\"hits\"][\"hits\"]\n",
    "#     fields = {}\n",
    "#     for num, doc in enumerate(elastic_docs):\n",
    "#         source_data = doc[\"_source\"]\n",
    "#         for key, val in source_data.items():\n",
    "#             try:\n",
    "#                 fields[key] = np.append(fields[key], val)\n",
    "#             except KeyError:\n",
    "#                 fields[key] = np.array([val])\n",
    "\n",
    "#     datos_dev = pd.DataFrame(dict([ (k,pd.Series(v)) for k,v in fields.items() ])) #pd.DataFrame(fields)\n",
    "    \n",
    "    datos_dev = pd.DataFrame([x[\"_source\"] for x in elastic_docs])\n",
    "    \n",
    "    \n",
    "except:\n",
    "    exit()\n",
    "    \n",
    "t2=time.time()"
   ]
  },
  {
   "cell_type": "markdown",
   "metadata": {},
   "source": [
    "Se descartan registros con site_id vacios ya que no cruzarán en el merge y se limpian los NaN del dataframe."
   ]
  },
  {
   "cell_type": "code",
   "execution_count": 538,
   "metadata": {},
   "outputs": [],
   "source": [
    "datos_dev.dropna(subset=['site_id'], inplace=True)\n",
    "datos_dev.fillna('', inplace=True)\n",
    "datos_dev = datos_dev.drop(datos_dev[(datos_dev['site_id']=='')].index)"
   ]
  },
  {
   "cell_type": "code",
   "execution_count": 539,
   "metadata": {},
   "outputs": [],
   "source": [
    "datos_dev['ap_group'] = datos_dev['ap_group'].str.split(\"-\", n = 1, expand = True)[0]\n",
    "datos_dev['ap_group'] = datos_dev['ap_group'].str.split(\"_\", n = 1, expand = True)[0]\n",
    "datos_dev = datos_dev.drop(datos_dev[(datos_dev['ap_group']=='')].index)"
   ]
  },
  {
   "cell_type": "markdown",
   "metadata": {},
   "source": [
    "Se toman solo los datos unicos con mac."
   ]
  },
  {
   "cell_type": "code",
   "execution_count": 540,
   "metadata": {},
   "outputs": [],
   "source": [
    "#datos_dev.drop_duplicates(subset=['site_id','mac'],inplace=True)\n",
    "datos_dev = datos_dev.drop_duplicates('mac')"
   ]
  },
  {
   "cell_type": "markdown",
   "metadata": {},
   "source": [
    "Se cambia el nombre a la mac del dispositivo de red para no confundir con la de dispositivos de usuario "
   ]
  },
  {
   "cell_type": "code",
   "execution_count": 541,
   "metadata": {},
   "outputs": [],
   "source": [
    "datos_dev= datos_dev.rename(columns={'mac' : 'usuarios.macRed','ap_group' : 'usuarios.apGroup'})"
   ]
  },
  {
   "cell_type": "markdown",
   "metadata": {},
   "source": [
    "## Lectura de datos ohmyfi-detalleconexiones"
   ]
  },
  {
   "cell_type": "markdown",
   "metadata": {},
   "source": [
    "Los datos que se toman son:\n",
    "* fechahora (de cada conexión). fecha_control es lo mismo pero con el intervalo de 10 minutos\n",
    "* Información del centro: lugar, lugar_cod.\n",
    "* Información del dispositivo de usuario: mac_usuario, dispositivo, sistema_operativo.\n",
    "* Información de usuario: tipodoc y documento"
   ]
  },
  {
   "cell_type": "code",
   "execution_count": 542,
   "metadata": {},
   "outputs": [],
   "source": [
    "def trae_conexiones(fecha_ini,fecha_fin):\n",
    "    total_docs = 5000000\n",
    "    response = es.search(\n",
    "        index= parametros.ohmyfi_d_c_index,\n",
    "        body={\n",
    "                \"_source\": [\"fechahora\",\"fecha_control\",\"lugar\",\"lugar_cod\",\"mac_usuario\", \"dispositivo\"\n",
    "                            ,\"sistema_operativo\",'tipodoc','documento']\n",
    "                , \"query\": {\n",
    "                  \"range\": {\n",
    "                    \"fechahora\": {\n",
    "                      \"gte\": fecha_ini,\n",
    "                      \"lt\": fecha_fin\n",
    "                    }\n",
    "                  }\n",
    "              }\n",
    "        },\n",
    "        size=total_docs\n",
    "    )\n",
    "    elastic_docs = response[\"hits\"][\"hits\"]\n",
    "#     fields = {}\n",
    "#     for num, doc in enumerate(elastic_docs):\n",
    "#         source_data = doc[\"_source\"]\n",
    "#         for key, val in source_data.items():\n",
    "#             try:\n",
    "#                 fields[key] = np.append(fields[key], val)\n",
    "#             except KeyError:\n",
    "#                 fields[key] = np.array([val])\n",
    "\n",
    "#     return pd.DataFrame(dict([ (k,pd.Series(v)) for k,v in fields.items() ])) \n",
    "\n",
    "    return pd.DataFrame([x[\"_source\"] for x in elastic_docs])"
   ]
  },
  {
   "cell_type": "markdown",
   "metadata": {},
   "source": [
    "### Lanzando ejecución de consulta"
   ]
  },
  {
   "cell_type": "markdown",
   "metadata": {},
   "source": [
    "* Se calcula rango en base a la fecha de control. Para este caso es de 10 minutos.\n",
    "* Se ejecuta la función de consulta con el rango de fechas.\n",
    "* Si no retorna datos se incrementa el rango y se ejecuta nuevamente. Este proceso se repite hasta conseguir datos o hasta que el rango de ejecución alcance la fecha y hora actual.\n"
   ]
  },
  {
   "cell_type": "code",
   "execution_count": 550,
   "metadata": {},
   "outputs": [
    {
     "data": {
      "text/plain": [
       "Index(['fechahora', 'mac_usuario', 'dispositivo', 'lugar', 'documento',\n",
       "       'tipodoc', 'lugar_cod', 'fecha_control', 'sistema_operativo'],\n",
       "      dtype='object')"
      ]
     },
     "execution_count": 550,
     "metadata": {},
     "output_type": "execute_result"
    }
   ],
   "source": [
    "# fecha_max_mintic='2021-07-20 00:10:00'\n",
    "# fecha_tope_mintic='2021-07-26 00:10:00'\n",
    "# datos_det_conex = trae_conexiones(fecha_max_mintic,fecha_tope_mintic)\n",
    "# datos_det_conex.columns"
   ]
  },
  {
   "cell_type": "code",
   "execution_count": 554,
   "metadata": {},
   "outputs": [],
   "source": [
    "fecha_max_mintic = fecha_ejecucion\n",
    "fecha_tope_mintic = (datetime.strptime(fecha_max_mintic, '%Y-%m-%d %H:%M:%S')+timedelta(minutes=10)-timedelta(seconds=1)).strftime(\"%Y-%m-%d %H:%M:%S\")\n",
    "datos_det_conex = trae_conexiones(fecha_max_mintic,fecha_tope_mintic)\n",
    "\n",
    "if datos_det_conex is None or datos_det_conex.empty:\n",
    "    while (datos_det_conex is None or datos_det_conex.empty) and ((datetime.strptime(fecha_max_mintic[0:10], '%Y-%m-%d').strftime(\"%Y-%m-%d %H:%M:%S\")) < str(now.strftime(\"%Y-%m-%d %H:%M:%S\"))):\n",
    "        fecha_max_mintic = (datetime.strptime(fecha_max_mintic, '%Y-%m-%d %H:%M:%S')+timedelta(minutes=10)).strftime(\"%Y-%m-%d %H:%M:%S\")\n",
    "        fecha_tope_mintic = (datetime.strptime(fecha_tope_mintic, '%Y-%m-%d %H:%M:%S')+timedelta(minutes=10)).strftime(\"%Y-%m-%d %H:%M:%S\")\n",
    "        datos_det_conex = trae_conexiones(fecha_max_mintic,fecha_tope_mintic)\n",
    "else:\n",
    "    pass"
   ]
  },
  {
   "cell_type": "code",
   "execution_count": 555,
   "metadata": {},
   "outputs": [],
   "source": [
    "datos_det_conex['fecha'] = datos_det_conex['fecha_control'].str.split(\" \", n = 1, expand = True)[0]\n",
    "datos_det_conex.drop_duplicates(subset=[\"fecha_control\",\"lugar\",\"lugar_cod\",\"mac_usuario\", \"dispositivo\",\"sistema_operativo\",'tipodoc','documento'],inplace=True)"
   ]
  },
  {
   "cell_type": "code",
   "execution_count": 556,
   "metadata": {},
   "outputs": [],
   "source": [
    "datos_det_conex = datos_det_conex.rename(columns={'lugar_cod' : 'site_id'\n",
    "                                                             ,'fechahora':'usuarios.fechaConexionUsuarios'\n",
    "                                                             ,'dispositivo': 'usuarios.tipoDispositivoUsuarios'\n",
    "                                                             , 'sistema_operativo': 'usuarios.sistemaOperativoUsuarios'})"
   ]
  },
  {
   "cell_type": "markdown",
   "metadata": {},
   "source": [
    "Se corrigen valores errados de site_id en detalle conexiones"
   ]
  },
  {
   "cell_type": "code",
   "execution_count": 557,
   "metadata": {},
   "outputs": [],
   "source": [
    "datos_det_conex['site_id'] = datos_det_conex['site_id'].str.replace(\"_\",\"-\")"
   ]
  },
  {
   "cell_type": "code",
   "execution_count": 558,
   "metadata": {},
   "outputs": [
    {
     "data": {
      "text/plain": [
       "Index(['usuarios.fechaConexionUsuarios', 'mac_usuario',\n",
       "       'usuarios.tipoDispositivoUsuarios', 'lugar', 'documento', 'tipodoc',\n",
       "       'site_id', 'fecha_control', 'usuarios.sistemaOperativoUsuarios',\n",
       "       'fecha'],\n",
       "      dtype='object')"
      ]
     },
     "execution_count": 558,
     "metadata": {},
     "output_type": "execute_result"
    }
   ],
   "source": [
    "datos_det_conex.columns"
   ]
  },
  {
   "cell_type": "code",
   "execution_count": 559,
   "metadata": {},
   "outputs": [
    {
     "data": {
      "text/html": [
       "<div>\n",
       "<style scoped>\n",
       "    .dataframe tbody tr th:only-of-type {\n",
       "        vertical-align: middle;\n",
       "    }\n",
       "\n",
       "    .dataframe tbody tr th {\n",
       "        vertical-align: top;\n",
       "    }\n",
       "\n",
       "    .dataframe thead th {\n",
       "        text-align: right;\n",
       "    }\n",
       "</style>\n",
       "<table border=\"1\" class=\"dataframe\">\n",
       "  <thead>\n",
       "    <tr style=\"text-align: right;\">\n",
       "      <th></th>\n",
       "      <th>usuarios.fechaConexionUsuarios</th>\n",
       "      <th>mac_usuario</th>\n",
       "      <th>usuarios.tipoDispositivoUsuarios</th>\n",
       "      <th>lugar</th>\n",
       "      <th>documento</th>\n",
       "      <th>tipodoc</th>\n",
       "      <th>site_id</th>\n",
       "      <th>fecha_control</th>\n",
       "      <th>usuarios.sistemaOperativoUsuarios</th>\n",
       "      <th>fecha</th>\n",
       "    </tr>\n",
       "  </thead>\n",
       "  <tbody>\n",
       "    <tr>\n",
       "      <th>0</th>\n",
       "      <td>2021-07-01 00:30:08</td>\n",
       "      <td>B4:1C:30:E4:44:CF</td>\n",
       "      <td>Smartphone</td>\n",
       "      <td>VILLANUEVA_PUERTO LIBERTADOR</td>\n",
       "      <td>1063788465</td>\n",
       "      <td>TI</td>\n",
       "      <td>32066-ZZZY759</td>\n",
       "      <td>2021-07-01 00:30:00</td>\n",
       "      <td>Android</td>\n",
       "      <td>2021-07-01</td>\n",
       "    </tr>\n",
       "    <tr>\n",
       "      <th>1</th>\n",
       "      <td>2021-07-01 00:30:08</td>\n",
       "      <td>50:8E:49:05:1D:44</td>\n",
       "      <td>Smartphone</td>\n",
       "      <td>VEREDA ARRAYANES, CUBARRAL</td>\n",
       "      <td>1001884571</td>\n",
       "      <td>CC</td>\n",
       "      <td>38663-ZGYO963</td>\n",
       "      <td>2021-07-01 00:30:00</td>\n",
       "      <td>Android</td>\n",
       "      <td>2021-07-01</td>\n",
       "    </tr>\n",
       "    <tr>\n",
       "      <th>2</th>\n",
       "      <td>2021-07-01 00:30:19</td>\n",
       "      <td>14:1F:78:B1:04:E2</td>\n",
       "      <td>Smartphone</td>\n",
       "      <td>LA MILAGROSA_PUERTO ESCONDIDO</td>\n",
       "      <td>1064309777</td>\n",
       "      <td>TI</td>\n",
       "      <td>13654-ZZZY222</td>\n",
       "      <td>2021-07-01 00:30:00</td>\n",
       "      <td>Android</td>\n",
       "      <td>2021-07-01</td>\n",
       "    </tr>\n",
       "    <tr>\n",
       "      <th>3</th>\n",
       "      <td>2021-07-01 00:30:39</td>\n",
       "      <td>90:73:5A:4D:F6:81</td>\n",
       "      <td>Smartphone</td>\n",
       "      <td>RESGUARDO INDIGENA DE CAICEMAPA_DISTRACCION</td>\n",
       "      <td>56056630</td>\n",
       "      <td>CC</td>\n",
       "      <td>73919-ZZZY238</td>\n",
       "      <td>2021-07-01 00:30:00</td>\n",
       "      <td>Android</td>\n",
       "      <td>2021-07-01</td>\n",
       "    </tr>\n",
       "    <tr>\n",
       "      <th>4</th>\n",
       "      <td>2021-07-01 00:30:46</td>\n",
       "      <td>D8:0B:9A:D2:91:62</td>\n",
       "      <td>Smartphone</td>\n",
       "      <td>HATO VIEJO,SAN JUAN DE BETULIA</td>\n",
       "      <td>1005646653</td>\n",
       "      <td>CC</td>\n",
       "      <td>47511-ZGYO887</td>\n",
       "      <td>2021-07-01 00:30:00</td>\n",
       "      <td>Android</td>\n",
       "      <td>2021-07-01</td>\n",
       "    </tr>\n",
       "  </tbody>\n",
       "</table>\n",
       "</div>"
      ],
      "text/plain": [
       "  usuarios.fechaConexionUsuarios        mac_usuario  \\\n",
       "0            2021-07-01 00:30:08  B4:1C:30:E4:44:CF   \n",
       "1            2021-07-01 00:30:08  50:8E:49:05:1D:44   \n",
       "2            2021-07-01 00:30:19  14:1F:78:B1:04:E2   \n",
       "3            2021-07-01 00:30:39  90:73:5A:4D:F6:81   \n",
       "4            2021-07-01 00:30:46  D8:0B:9A:D2:91:62   \n",
       "\n",
       "  usuarios.tipoDispositivoUsuarios  \\\n",
       "0                       Smartphone   \n",
       "1                       Smartphone   \n",
       "2                       Smartphone   \n",
       "3                       Smartphone   \n",
       "4                       Smartphone   \n",
       "\n",
       "                                         lugar   documento tipodoc  \\\n",
       "0                 VILLANUEVA_PUERTO LIBERTADOR  1063788465      TI   \n",
       "1                   VEREDA ARRAYANES, CUBARRAL  1001884571      CC   \n",
       "2                LA MILAGROSA_PUERTO ESCONDIDO  1064309777      TI   \n",
       "3  RESGUARDO INDIGENA DE CAICEMAPA_DISTRACCION    56056630      CC   \n",
       "4               HATO VIEJO,SAN JUAN DE BETULIA  1005646653      CC   \n",
       "\n",
       "         site_id        fecha_control usuarios.sistemaOperativoUsuarios  \\\n",
       "0  32066-ZZZY759  2021-07-01 00:30:00                           Android   \n",
       "1  38663-ZGYO963  2021-07-01 00:30:00                           Android   \n",
       "2  13654-ZZZY222  2021-07-01 00:30:00                           Android   \n",
       "3  73919-ZZZY238  2021-07-01 00:30:00                           Android   \n",
       "4  47511-ZGYO887  2021-07-01 00:30:00                           Android   \n",
       "\n",
       "        fecha  \n",
       "0  2021-07-01  \n",
       "1  2021-07-01  \n",
       "2  2021-07-01  \n",
       "3  2021-07-01  \n",
       "4  2021-07-01  "
      ]
     },
     "execution_count": 559,
     "metadata": {},
     "output_type": "execute_result"
    }
   ],
   "source": [
    "datos_det_conex.head()"
   ]
  },
  {
   "cell_type": "markdown",
   "metadata": {},
   "source": [
    "### Se lee la información de cambium device client"
   ]
  },
  {
   "cell_type": "markdown",
   "metadata": {},
   "source": [
    "Esta lectura se usa para identificar: \n",
    "* Lecturas de consumo por dispositivo (radios rx y tx)\n",
    "* Fabricante del dispositivo\n",
    "* la mac del ap que luego se usa para identificar el ap group(Indoor/Outdoor)"
   ]
  },
  {
   "cell_type": "code",
   "execution_count": 551,
   "metadata": {},
   "outputs": [],
   "source": [
    "t1=time.time()\n",
    "\n",
    "total_docs = 30000000\n",
    "response = es.search(\n",
    "    index= parametros.cambium_d_c_index,\n",
    "    body={\n",
    "            \"_source\": [\"mac\",\"ap_mac\", 'manufacturer','name',\"radio.band\",'radio.rx_bytes','radio.tx_bytes'],\n",
    "              \"query\": {\n",
    "                \"bool\": {\n",
    "                  \"filter\": [\n",
    "                  {\n",
    "                    \"exists\": {\n",
    "                      \"field\":\"mac\"\n",
    "                    }\n",
    "                  }\n",
    "                  ]\n",
    "                }\n",
    "              }\n",
    "    },\n",
    "    size=total_docs\n",
    ")\n",
    "elastic_docs = response[\"hits\"][\"hits\"]\n",
    "# fields = {}\n",
    "# for num, doc in enumerate(elastic_docs):\n",
    "#     source_data = doc[\"_source\"]\n",
    "#     for key, val in source_data.items():\n",
    "#         try:\n",
    "#             fields[key] = np.append(fields[key], val)\n",
    "#         except KeyError:\n",
    "#             fields[key] = np.array([val])\n",
    "\n",
    "# datos_dev_clients = pd.DataFrame(dict([ (k,pd.Series(v)) for k,v in fields.items() ]))\n",
    "\n",
    "datos_dev_clients = pd.DataFrame([x[\"_source\"] for x in elastic_docs])\n",
    "\n",
    "t2=time.time()"
   ]
  },
  {
   "cell_type": "code",
   "execution_count": 552,
   "metadata": {},
   "outputs": [
    {
     "data": {
      "text/plain": [
       "Index(['ap_mac', 'name', 'mac', 'radio.band', 'radio.rx_bytes',\n",
       "       'radio.tx_bytes', 'manufacturer'],\n",
       "      dtype='object')"
      ]
     },
     "execution_count": 552,
     "metadata": {},
     "output_type": "execute_result"
    }
   ],
   "source": [
    "datos_dev_clients.columns"
   ]
  },
  {
   "cell_type": "markdown",
   "metadata": {},
   "source": [
    "* se cruza por mac_usuario\n",
    "* Los merge usan left para evitar perdida de datos en cruce con cambium-devicedevices. Aquellos datos que no cruzan se les marca como no identificados. En condiciones ideales, no debería presentarse ausencia de información\n",
    "* Solo se toma lo que cruza con INNER\n",
    "* se cambia el fabricante [Local MAC]\n",
    "* se cambian lo nulos"
   ]
  },
  {
   "cell_type": "code",
   "execution_count": 573,
   "metadata": {},
   "outputs": [],
   "source": [
    "# datos_dev_clients.drop_duplicates(inplace=True)\n",
    "# datos_dev_clients = datos_dev_clients.rename(columns={'ap_mac' : 'usuarios.macRed','mac' : 'mac_usuario'})\n",
    "# datos_dev_clients['manufacturer'] = datos_dev_clients['manufacturer'].replace(\"[Local MAC]\", \"No identificado\")\n",
    "# datos_dev_clients.fillna({'manufacturer':'No identificado'},inplace=True)\n",
    "# datos_det_conex = pd.merge(datos_det_conex,  datos_dev_clients, on='mac_usuario',how='left')\n",
    "# datos_det_conex = pd.merge(datos_det_conex,datos_dev[['usuarios.macRed','usuarios.apGroup']],on='usuarios.macRed', how='left')\n",
    "# datos_det_conex.fillna({'usuarios.tipoDispositivoUsuarios':'No identificado'\n",
    "#                    ,'usuarios.sistemaOperativoUsuarios':'No identificado'\n",
    "#                    ,'manufacturer':'No identificado'\n",
    "#                    ,'radio.band':'No identificado'\n",
    "#                    },inplace=True)"
   ]
  },
  {
   "cell_type": "code",
   "execution_count": 571,
   "metadata": {},
   "outputs": [
    {
     "data": {
      "text/html": [
       "<div>\n",
       "<style scoped>\n",
       "    .dataframe tbody tr th:only-of-type {\n",
       "        vertical-align: middle;\n",
       "    }\n",
       "\n",
       "    .dataframe tbody tr th {\n",
       "        vertical-align: top;\n",
       "    }\n",
       "\n",
       "    .dataframe thead th {\n",
       "        text-align: right;\n",
       "    }\n",
       "</style>\n",
       "<table border=\"1\" class=\"dataframe\">\n",
       "  <thead>\n",
       "    <tr style=\"text-align: right;\">\n",
       "      <th></th>\n",
       "      <th>usuarios.fechaConexionUsuarios</th>\n",
       "      <th>mac_usuario</th>\n",
       "      <th>usuarios.tipoDispositivoUsuarios</th>\n",
       "      <th>lugar</th>\n",
       "      <th>documento</th>\n",
       "      <th>tipodoc</th>\n",
       "      <th>site_id</th>\n",
       "      <th>fecha_control</th>\n",
       "      <th>usuarios.sistemaOperativoUsuarios</th>\n",
       "      <th>fecha</th>\n",
       "      <th>usuarios.macRed</th>\n",
       "      <th>name</th>\n",
       "      <th>radio.band</th>\n",
       "      <th>radio.rx_bytes</th>\n",
       "      <th>radio.tx_bytes</th>\n",
       "      <th>manufacturer</th>\n",
       "      <th>usuarios.apGroup</th>\n",
       "    </tr>\n",
       "  </thead>\n",
       "  <tbody>\n",
       "    <tr>\n",
       "      <th>0</th>\n",
       "      <td>2021-07-01 00:30:08</td>\n",
       "      <td>B4:1C:30:E4:44:CF</td>\n",
       "      <td>Smartphone</td>\n",
       "      <td>VILLANUEVA_PUERTO LIBERTADOR</td>\n",
       "      <td>1063788465</td>\n",
       "      <td>TI</td>\n",
       "      <td>32066-ZZZY759</td>\n",
       "      <td>2021-07-01 00:30:00</td>\n",
       "      <td>Android</td>\n",
       "      <td>2021-07-01</td>\n",
       "      <td>BC:A9:93:0E:2F:66</td>\n",
       "      <td>ZTE-Blade-L130</td>\n",
       "      <td>2.4GHz</td>\n",
       "      <td>876950.0</td>\n",
       "      <td>14148428.0</td>\n",
       "      <td>ZTE Corporation</td>\n",
       "      <td>OUTDOOR</td>\n",
       "    </tr>\n",
       "    <tr>\n",
       "      <th>1</th>\n",
       "      <td>2021-07-01 00:30:08</td>\n",
       "      <td>50:8E:49:05:1D:44</td>\n",
       "      <td>Smartphone</td>\n",
       "      <td>VEREDA ARRAYANES, CUBARRAL</td>\n",
       "      <td>1001884571</td>\n",
       "      <td>CC</td>\n",
       "      <td>38663-ZGYO963</td>\n",
       "      <td>2021-07-01 00:30:00</td>\n",
       "      <td>Android</td>\n",
       "      <td>2021-07-01</td>\n",
       "      <td>NaN</td>\n",
       "      <td>NaN</td>\n",
       "      <td>NaN</td>\n",
       "      <td>NaN</td>\n",
       "      <td>NaN</td>\n",
       "      <td>NaN</td>\n",
       "      <td>NaN</td>\n",
       "    </tr>\n",
       "    <tr>\n",
       "      <th>2</th>\n",
       "      <td>2021-07-01 00:30:19</td>\n",
       "      <td>14:1F:78:B1:04:E2</td>\n",
       "      <td>Smartphone</td>\n",
       "      <td>LA MILAGROSA_PUERTO ESCONDIDO</td>\n",
       "      <td>1064309777</td>\n",
       "      <td>TI</td>\n",
       "      <td>13654-ZZZY222</td>\n",
       "      <td>2021-07-01 00:30:00</td>\n",
       "      <td>Android</td>\n",
       "      <td>2021-07-01</td>\n",
       "      <td>BC:A9:93:0C:7C:11</td>\n",
       "      <td>Galaxy-J5-Prime</td>\n",
       "      <td>2.4GHz</td>\n",
       "      <td>135739.0</td>\n",
       "      <td>101020.0</td>\n",
       "      <td>Samsung Electronics Ltd</td>\n",
       "      <td>OUTDOOR</td>\n",
       "    </tr>\n",
       "    <tr>\n",
       "      <th>3</th>\n",
       "      <td>2021-07-01 00:30:39</td>\n",
       "      <td>90:73:5A:4D:F6:81</td>\n",
       "      <td>Smartphone</td>\n",
       "      <td>RESGUARDO INDIGENA DE CAICEMAPA_DISTRACCION</td>\n",
       "      <td>56056630</td>\n",
       "      <td>CC</td>\n",
       "      <td>73919-ZZZY238</td>\n",
       "      <td>2021-07-01 00:30:00</td>\n",
       "      <td>Android</td>\n",
       "      <td>2021-07-01</td>\n",
       "      <td>BC:E6:7C:E7:C9:4C</td>\n",
       "      <td>NA</td>\n",
       "      <td>2.4GHz</td>\n",
       "      <td>5749477.0</td>\n",
       "      <td>10275137.0</td>\n",
       "      <td>Motorola Mobility LLC, a Lenovo Company</td>\n",
       "      <td>OUTDOOR</td>\n",
       "    </tr>\n",
       "    <tr>\n",
       "      <th>4</th>\n",
       "      <td>2021-07-01 00:30:46</td>\n",
       "      <td>D8:0B:9A:D2:91:62</td>\n",
       "      <td>Smartphone</td>\n",
       "      <td>HATO VIEJO,SAN JUAN DE BETULIA</td>\n",
       "      <td>1005646653</td>\n",
       "      <td>CC</td>\n",
       "      <td>47511-ZGYO887</td>\n",
       "      <td>2021-07-01 00:30:00</td>\n",
       "      <td>Android</td>\n",
       "      <td>2021-07-01</td>\n",
       "      <td>BC:E6:7C:E7:C9:6E</td>\n",
       "      <td></td>\n",
       "      <td>2.4GHz</td>\n",
       "      <td>1508954.0</td>\n",
       "      <td>34729918.0</td>\n",
       "      <td>Samsung Electronics Ltd</td>\n",
       "      <td>OUTDOOR</td>\n",
       "    </tr>\n",
       "  </tbody>\n",
       "</table>\n",
       "</div>"
      ],
      "text/plain": [
       "  usuarios.fechaConexionUsuarios        mac_usuario  \\\n",
       "0            2021-07-01 00:30:08  B4:1C:30:E4:44:CF   \n",
       "1            2021-07-01 00:30:08  50:8E:49:05:1D:44   \n",
       "2            2021-07-01 00:30:19  14:1F:78:B1:04:E2   \n",
       "3            2021-07-01 00:30:39  90:73:5A:4D:F6:81   \n",
       "4            2021-07-01 00:30:46  D8:0B:9A:D2:91:62   \n",
       "\n",
       "  usuarios.tipoDispositivoUsuarios  \\\n",
       "0                       Smartphone   \n",
       "1                       Smartphone   \n",
       "2                       Smartphone   \n",
       "3                       Smartphone   \n",
       "4                       Smartphone   \n",
       "\n",
       "                                         lugar   documento tipodoc  \\\n",
       "0                 VILLANUEVA_PUERTO LIBERTADOR  1063788465      TI   \n",
       "1                   VEREDA ARRAYANES, CUBARRAL  1001884571      CC   \n",
       "2                LA MILAGROSA_PUERTO ESCONDIDO  1064309777      TI   \n",
       "3  RESGUARDO INDIGENA DE CAICEMAPA_DISTRACCION    56056630      CC   \n",
       "4               HATO VIEJO,SAN JUAN DE BETULIA  1005646653      CC   \n",
       "\n",
       "         site_id        fecha_control usuarios.sistemaOperativoUsuarios  \\\n",
       "0  32066-ZZZY759  2021-07-01 00:30:00                           Android   \n",
       "1  38663-ZGYO963  2021-07-01 00:30:00                           Android   \n",
       "2  13654-ZZZY222  2021-07-01 00:30:00                           Android   \n",
       "3  73919-ZZZY238  2021-07-01 00:30:00                           Android   \n",
       "4  47511-ZGYO887  2021-07-01 00:30:00                           Android   \n",
       "\n",
       "        fecha    usuarios.macRed             name radio.band  radio.rx_bytes  \\\n",
       "0  2021-07-01  BC:A9:93:0E:2F:66   ZTE-Blade-L130     2.4GHz        876950.0   \n",
       "1  2021-07-01                NaN              NaN        NaN             NaN   \n",
       "2  2021-07-01  BC:A9:93:0C:7C:11  Galaxy-J5-Prime     2.4GHz        135739.0   \n",
       "3  2021-07-01  BC:E6:7C:E7:C9:4C               NA     2.4GHz       5749477.0   \n",
       "4  2021-07-01  BC:E6:7C:E7:C9:6E                      2.4GHz       1508954.0   \n",
       "\n",
       "   radio.tx_bytes                             manufacturer usuarios.apGroup  \n",
       "0      14148428.0                          ZTE Corporation          OUTDOOR  \n",
       "1             NaN                                      NaN              NaN  \n",
       "2        101020.0                  Samsung Electronics Ltd          OUTDOOR  \n",
       "3      10275137.0  Motorola Mobility LLC, a Lenovo Company          OUTDOOR  \n",
       "4      34729918.0                  Samsung Electronics Ltd          OUTDOOR  "
      ]
     },
     "execution_count": 571,
     "metadata": {},
     "output_type": "execute_result"
    }
   ],
   "source": [
    "datos_det_conex.head()"
   ]
  },
  {
   "cell_type": "code",
   "execution_count": 572,
   "metadata": {},
   "outputs": [
    {
     "data": {
      "text/plain": [
       "Index(['usuarios.fechaConexionUsuarios', 'mac_usuario',\n",
       "       'usuarios.tipoDispositivoUsuarios', 'lugar', 'documento', 'tipodoc',\n",
       "       'site_id', 'fecha_control', 'usuarios.sistemaOperativoUsuarios',\n",
       "       'fecha', 'usuarios.macRed', 'name', 'radio.band', 'radio.rx_bytes',\n",
       "       'radio.tx_bytes', 'manufacturer', 'usuarios.apGroup'],\n",
       "      dtype='object')"
      ]
     },
     "execution_count": 572,
     "metadata": {},
     "output_type": "execute_result"
    }
   ],
   "source": [
    "datos_det_conex.columns"
   ]
  },
  {
   "cell_type": "code",
   "execution_count": 567,
   "metadata": {},
   "outputs": [
    {
     "data": {
      "text/html": [
       "<div>\n",
       "<style scoped>\n",
       "    .dataframe tbody tr th:only-of-type {\n",
       "        vertical-align: middle;\n",
       "    }\n",
       "\n",
       "    .dataframe tbody tr th {\n",
       "        vertical-align: top;\n",
       "    }\n",
       "\n",
       "    .dataframe thead th {\n",
       "        text-align: right;\n",
       "    }\n",
       "</style>\n",
       "<table border=\"1\" class=\"dataframe\">\n",
       "  <thead>\n",
       "    <tr style=\"text-align: right;\">\n",
       "      <th></th>\n",
       "      <th>usuarios.macRed</th>\n",
       "      <th>name</th>\n",
       "      <th>mac_usuario</th>\n",
       "      <th>radio.band</th>\n",
       "      <th>radio.rx_bytes</th>\n",
       "      <th>radio.tx_bytes</th>\n",
       "      <th>manufacturer</th>\n",
       "    </tr>\n",
       "  </thead>\n",
       "  <tbody>\n",
       "    <tr>\n",
       "      <th>0</th>\n",
       "      <td>BC:E6:7C:EC:DD:FC</td>\n",
       "      <td>HUAWEI_Y7a-3b52</td>\n",
       "      <td>0E:9C:F2:E0:B3:1F</td>\n",
       "      <td>2.4GHz</td>\n",
       "      <td>1140</td>\n",
       "      <td>0</td>\n",
       "      <td>No identificado</td>\n",
       "    </tr>\n",
       "    <tr>\n",
       "      <th>1</th>\n",
       "      <td>BC:E6:7C:5D:20:AE</td>\n",
       "      <td>SM-J260MU</td>\n",
       "      <td>F8:F1:E6:A3:0D:45</td>\n",
       "      <td>2.4GHz</td>\n",
       "      <td>147191582</td>\n",
       "      <td>160639234</td>\n",
       "      <td>Samsung Electronics Ltd</td>\n",
       "    </tr>\n",
       "    <tr>\n",
       "      <th>2</th>\n",
       "      <td>BC:A9:93:00:98:33</td>\n",
       "      <td>android-e7938e7</td>\n",
       "      <td>00:08:22:46:78:82</td>\n",
       "      <td>2.4GHz</td>\n",
       "      <td>32598</td>\n",
       "      <td>14222</td>\n",
       "      <td>InPro Comm</td>\n",
       "    </tr>\n",
       "    <tr>\n",
       "      <th>3</th>\n",
       "      <td>BC:E6:7C:EC:AA:DC</td>\n",
       "      <td>Galaxy-A01</td>\n",
       "      <td>A0:27:B6:62:78:47</td>\n",
       "      <td>2.4GHz</td>\n",
       "      <td>32466165</td>\n",
       "      <td>688148716</td>\n",
       "      <td>A0-27-B6</td>\n",
       "    </tr>\n",
       "    <tr>\n",
       "      <th>4</th>\n",
       "      <td>BC:E6:7C:5B:7C:38</td>\n",
       "      <td>NA</td>\n",
       "      <td>40:D3:AE:2A:48:4C</td>\n",
       "      <td>2.4GHz</td>\n",
       "      <td>28</td>\n",
       "      <td>0</td>\n",
       "      <td>Samsung Electronics Ltd</td>\n",
       "    </tr>\n",
       "  </tbody>\n",
       "</table>\n",
       "</div>"
      ],
      "text/plain": [
       "     usuarios.macRed             name        mac_usuario radio.band  \\\n",
       "0  BC:E6:7C:EC:DD:FC  HUAWEI_Y7a-3b52  0E:9C:F2:E0:B3:1F     2.4GHz   \n",
       "1  BC:E6:7C:5D:20:AE        SM-J260MU  F8:F1:E6:A3:0D:45     2.4GHz   \n",
       "2  BC:A9:93:00:98:33  android-e7938e7  00:08:22:46:78:82     2.4GHz   \n",
       "3  BC:E6:7C:EC:AA:DC       Galaxy-A01  A0:27:B6:62:78:47     2.4GHz   \n",
       "4  BC:E6:7C:5B:7C:38               NA  40:D3:AE:2A:48:4C     2.4GHz   \n",
       "\n",
       "   radio.rx_bytes  radio.tx_bytes             manufacturer  \n",
       "0            1140               0          No identificado  \n",
       "1       147191582       160639234  Samsung Electronics Ltd  \n",
       "2           32598           14222               InPro Comm  \n",
       "3        32466165       688148716                 A0-27-B6  \n",
       "4              28               0  Samsung Electronics Ltd  "
      ]
     },
     "execution_count": 567,
     "metadata": {},
     "output_type": "execute_result"
    }
   ],
   "source": [
    "datos_dev_clients.head()"
   ]
  },
  {
   "cell_type": "code",
   "execution_count": 306,
   "metadata": {},
   "outputs": [],
   "source": [
    "try:\n",
    "    datos_dev_clients.drop_duplicates(inplace=True)\n",
    "    datos_dev_clients = datos_dev_clients.rename(columns={'ap_mac' : 'usuarios.macRed','mac' : 'mac_usuario'})\n",
    "    datos_dev_clients['manufacturer'] = datos_dev_clients['manufacturer'].replace(\"[Local MAC]\", \"No identificado\")\n",
    "    datos_dev_clients.fillna({'manufacturer':'No identificado'},inplace=True)\n",
    "    datos_det_conex = pd.merge(datos_det_conex,  datos_dev_clients, on='mac_usuario',how='left')\n",
    "    datos_det_conex = pd.merge(datos_det_conex,datos_dev[['usuarios.macRed','usuarios.apGroup']],on='usuarios.macRed', how='left')\n",
    "    datos_det_conex.fillna({'usuarios.tipoDispositivoUsuarios':'No identificado'\n",
    "                       ,'usuarios.sistemaOperativoUsuarios':'No identificado'\n",
    "                       ,'manufacturer':'No identificado'\n",
    "                       ,'radio.band':'No identificado'\n",
    "                       },inplace=True)\n",
    "except:\n",
    "    pass"
   ]
  },
  {
   "cell_type": "markdown",
   "metadata": {},
   "source": [
    "## Calculando totales por dispositivos"
   ]
  },
  {
   "cell_type": "markdown",
   "metadata": {},
   "source": [
    "la lista use_these_keys se usa para referenciar cuales campos del dataframe irán al indice final. si los datos no se declaran en este, no se insertarán"
   ]
  },
  {
   "cell_type": "code",
   "execution_count": 307,
   "metadata": {},
   "outputs": [],
   "source": [
    "\n",
    "use_these_keys = [ 'usuarios.tablero11siteID'\n",
    "                  , 'usuarios.tablero11nomCentroDigital'\n",
    "                  , 'usuarios.tablero11nombreDepartamento'\n",
    "                  , 'usuarios.tablero11nombreMunicipio'\n",
    "                  , 'usuarios.tablero11idBeneficiario'\n",
    "                  , 'usuarios.tablero11location'\n",
    "                  , 'usuarios.tablero11fechaControl'\n",
    "                  , 'usuarios.tablero11fecha'\n",
    "                  , 'usuarios.tablero11anyo'\n",
    "                  , 'usuarios.tablero11mes'\n",
    "                  , '@timestamp']\n",
    "\n",
    "def doc_generator(df):\n",
    "    df_iter = df.iterrows()\n",
    "    for index, document in df_iter:\n",
    "        yield {\n",
    "                \"_index\": indice, \n",
    "                \"_id\": f\"{ 'totalesDispositivos-' + str(document['usuarios.tablero11siteID']) + '-' + str(document['usuarios.fechaControl'])}\",\n",
    "                \"_source\": filterKeys(document),\n",
    "            }"
   ]
  },
  {
   "cell_type": "markdown",
   "metadata": {},
   "source": [
    "Se agrupa por:\n",
    "* Sistema operativo\n",
    "* Tipo dispositivo\n",
    "* Marca del terminal\n",
    "* Tecnología terminal\n",
    "\n",
    "Se cuentan las mac de usuario para cada site id y fecha control"
   ]
  },
  {
   "cell_type": "code",
   "execution_count": 509,
   "metadata": {},
   "outputs": [],
   "source": [
    "def cambioVariable(df,campos=['siteID',\n",
    "                             'usuarios.siteID',\n",
    "                             'usuarios.fechaControl',\n",
    "                             'usuarios.nomCentroDigital',\n",
    "                             'usuarios.localidad',\n",
    "                             'usuarios.nombreDepartamento',\n",
    "                             'usuarios.nombreMunicipio',\n",
    "                             'usuarios.idBeneficiario',\n",
    "                             'usuarios.sesiones_Usuarios',\n",
    "                             'usuarios.consumoUsuarios',\n",
    "                             'usuarios.apGroup',\n",
    "                             'usuarios.location', \n",
    "                             'usuarios.fecha',\n",
    "                             'usuarios.anyo', \n",
    "                             'usuarios.mes',\n",
    "                             'usuarios.macRed',\n",
    "                             'usuarios.tablero11usuariosConectados',\n",
    "                             'usuarios.tablero11sesiones_Usuarios',\n",
    "                             '@timestamp']):\n",
    "\n",
    "    nuevas_columns={'siteID':'usuarios.tablero11siteID',\n",
    "                    'usuarios.siteID': 'usuarios.tablero11siteID',\n",
    "                    'usuarios.fechaControl':'usuarios.tablero11fechaControl',\n",
    "                    'usuarios.nomCentroDigital':'usuarios.tablero11nomCentroDigital',\n",
    "                    'usuarios.localidad':'usuarios.tablero11localidad',\n",
    "                    'usuarios.nombreDepartamento':'usuarios.tablero11nombreDepartamento',\n",
    "                    'usuarios.nombreMunicipio':'usuarios.tablero11nombreMunicipio',\n",
    "                    'usuarios.idBeneficiario':'usuarios.tablero11idBeneficiario',\n",
    "                    'usuarios.apGroup':'usuarios.tablero11apGroup',\n",
    "                    'usuarios.location':'usuarios.tablero11location',\n",
    "                    'usuarios.fecha':'usuarios.tablero11fecha',\n",
    "                    'usuarios.sesiones_Usuarios':'usuarios.tablero11sesiones_Usuarios',\n",
    "                    'usuarios.consumoUsuarios':'usuarios.tablero11consumoUsuarios',\n",
    "                    'usuarios.anyo':'usuarios.tablero11anyo', \n",
    "                    'usuarios.mes':'usuarios.tablero11mes',\n",
    "                    'usuarios.macRed':'usuarios.tablero11macRed',\n",
    "                    'usuarios.tablero11usuariosConectados':'usuarios.tablero11usuariosConectados',\n",
    "                    'usuarios.tablero11sesiones_Usuarios':'usuarios.tablero11sesiones_Usuarios',\n",
    "                    '@timestamp':'@timestamp'\n",
    "                   }\n",
    "    \n",
    "    df_vacio = pd.DataFrame(index=df.index)\n",
    "    \n",
    "    for c in campos:\n",
    "        try:\n",
    "            df_vacio=pd.concat([df_vacio,df[c]],axis=1)\n",
    "        except:\n",
    "            pass\n",
    "                    \n",
    "    df_vacio.columns=[nuevas_columns[c] for c in df_vacio.columns]\n",
    "\n",
    "    return df_vacio"
   ]
  },
  {
   "cell_type": "code",
   "execution_count": 469,
   "metadata": {},
   "outputs": [
    {
     "name": "stdout",
     "output_type": "stream",
     "text": [
      "Fecha:  2021-07-23 15:26:33.438203 - No se insertaron totales por dispositivos en indice principal\n"
     ]
    }
   ],
   "source": [
    "#No se esta utilizando campo relacionado con los dispositivos en el tablero 11...\n",
    "\n",
    "\n",
    "try:\n",
    "    totalesDispositivos = datos_det_conex[[\"fecha_control\",\"site_id\"\n",
    "                                 ,\"usuarios.sistemaOperativoUsuarios\"\n",
    "                                 ,'usuarios.tipoDispositivoUsuarios'\n",
    "                                 ,'manufacturer'\n",
    "                                 ,'radio.band'\n",
    "                                 ,\"mac_usuario\"]].groupby([\"fecha_control\",\"site_id\"\n",
    "                                                     ,\"usuarios.sistemaOperativoUsuarios\"\n",
    "                                                     ,'usuarios.tipoDispositivoUsuarios'\n",
    "                                                     ,'manufacturer'\n",
    "                                                     ,'radio.band']).agg(['count']).reset_index()\n",
    "    ##si se quiere contar ocurrencias unicas se debe usar en lugar del agg: ['mac_usuario'].nunique().reset_index()\n",
    "    totalesDispositivos.columns = totalesDispositivos.columns.droplevel(1)\n",
    "    totalesDispositivos= totalesDispositivos.rename(columns={'mac_usuario' : 'usuarios.totales.dispositivos'\n",
    "                                                            ,'fecha_control' : 'usuarios.fechaControl'\n",
    "                                                            ,'manufacturer' : 'usuarios.marcaTerminal'\n",
    "                                                            ,'radio.band' : 'usuarios.tecnologiaTerminal'\n",
    "                                                            })\n",
    "    totalesDispositivos = pd.merge(totalesDispositivos, datos_semilla, on='site_id',how='inner')\n",
    "    totalesDispositivos[\"usuarios.fecha\"] = totalesDispositivos[\"usuarios.fechaControl\"].str.split(\" \", n = 1, expand = True)[0]\n",
    "    totalesDispositivos[\"usuarios.anyo\"] = totalesDispositivos[\"usuarios.fecha\"].str[0:4]\n",
    "    totalesDispositivos[\"usuarios.mes\"] = totalesDispositivos[\"usuarios.fecha\"].str[5:7]\n",
    "    totalesDispositivos[\"usuarios.dia\"] = totalesDispositivos[\"usuarios.fecha\"].str[8:10]\n",
    "    totalesDispositivos[\"usuarios.hora\"] = totalesDispositivos[\"usuarios.fechaControl\"].str.split(\" \", n = 1, expand = True)[1].str.split(\":\", n = 2, expand = True)[0]\n",
    "    totalesDispositivos[\"usuarios.minuto\"] = totalesDispositivos[\"usuarios.fechaControl\"].str.split(\" \", n = 1, expand = True)[1].str.split(\":\", n = 2, expand = True)[1]\n",
    "    totalesDispositivos= totalesDispositivos.rename(columns={'site_id' : 'usuarios.siteID'})\n",
    "    totalesDispositivos['nombreDepartamento'] = totalesDispositivos['usuarios.nombreDepartamento']\n",
    "    totalesDispositivos['nombreMunicipio'] = totalesDispositivos['usuarios.nombreMunicipio']\n",
    "    totalesDispositivos['idBeneficiario'] = totalesDispositivos['usuarios.idBeneficiario']\n",
    "    totalesDispositivos['fecha'] = totalesDispositivos['usuarios.fecha']\n",
    "    totalesDispositivos['anyo'] = totalesDispositivos['usuarios.anyo']\n",
    "    totalesDispositivos['mes'] = totalesDispositivos['usuarios.mes']\n",
    "    totalesDispositivos['dia'] = totalesDispositivos['usuarios.dia']\n",
    "    totalesDispositivos['@timestamp'] = now.isoformat()\n",
    "    \n",
    "    #Se comenta escritura en el indice porque no se necesita esa estructura\n",
    "    \n",
    "    totalesDispositivos = cambioVariable(totalesDispositivos)\n",
    "    \n",
    "   \n",
    "\n",
    "    #salida = helpers.bulk(es, doc_generator(totalesDispositivos))\n",
    "    print(\"Fecha: \", now,\"- Totales por Dispositivos insertados en indice principal:\",salida[0])\n",
    "except:\n",
    "    print(\"Fecha: \", now,\"- No se insertaron totales por dispositivos en indice principal\")\n",
    "    \n"
   ]
  },
  {
   "cell_type": "markdown",
   "metadata": {},
   "source": [
    "# Insertando usuarios conectados al indice principal"
   ]
  },
  {
   "cell_type": "markdown",
   "metadata": {},
   "source": [
    "* Se calcula cantidad de sesiones por sitio con detalle conexiones, pero contando la ocurrencia unica de documento\n",
    "* Se calcula la cantidad de conexiones. Se agrupa por el campo usuarios.macRed(el cual corresponde al AP) y fecha_control. Se cuenta las ocurrencias de mac_usuario. Luego al cruzar con flujo principal, si el dato es nulo para ese momento, se debe colocar en 0."
   ]
  },
  {
   "cell_type": "code",
   "execution_count": null,
   "metadata": {},
   "outputs": [],
   "source": []
  },
  {
   "cell_type": "code",
   "execution_count": 507,
   "metadata": {},
   "outputs": [],
   "source": [
    "try:\n",
    "    datos_logins = datos_det_conex[['fecha_control', 'site_id', 'documento','usuarios.macRed']].groupby([\"fecha_control\",\"site_id\",\"usuarios.macRed\"])['documento'].nunique().reset_index()\n",
    "    datos_logins= datos_logins.rename(columns={'documento' : 'usuarios.sesiones_Usuarios'})\n",
    "    usuariosConectados = datos_det_conex[[\"fecha_control\",\"site_id\",\"usuarios.macRed\",\"mac_usuario\"]].groupby([\"fecha_control\",\"site_id\",\"usuarios.macRed\"]).agg(['count']).reset_index()\n",
    "    usuariosConectados.columns = usuariosConectados.columns.droplevel(1)\n",
    "    usuariosConectados= usuariosConectados.rename(columns={'mac_usuario' : 'usuarios.tablero11usuariosConectados'})\n",
    "    \n",
    "    ###################\n",
    "    usuariosConectados = pd.merge(usuariosConectados,datos_logins, on=[\"fecha_control\",\"site_id\",\"usuarios.macRed\"], how='inner')\n",
    "    \n",
    "    usuariosConectados= usuariosConectados.rename(columns={'usuarios.sesiones_Usuarios' : 'usuarios.tablero11sesiones_Usuarios'})\n",
    "    \n",
    "    ###################\n",
    "    usuariosConectados = pd.merge(datos_semilla,  usuariosConectados, on=['site_id'], how='inner')\n",
    "    \n",
    "   \n",
    "    #Al parecer no esta viniendo consumoUsuario....\n",
    "    \n",
    "    usuariosConectados.fillna({'usuarios.consumoUsuarios' : 0\n",
    "                              ,'usuarios.consumoUsuariosDescarga':0\n",
    "                              ,'usuarios.consumoUsuariosCarga':0},inplace=True)\n",
    "    \n",
    "    ####################\n",
    "    usuariosConectados = pd.merge(usuariosConectados,datos_dev[['usuarios.apGroup','usuarios.macRed']], on ='usuarios.macRed', how='left')\n",
    "    \n",
    "    usuariosConectados.fillna({'usuarios.apGroup':'No identificado'},inplace=True)\n",
    "    usuariosConectados['usuarios.tablero11usuariosConectados'] = usuariosConectados['usuarios.tablero11usuariosConectados'].astype(int)\n",
    "    usuariosConectados = usuariosConectados.rename(columns={'fecha_control':'usuarios.fechaControl'\n",
    "                                                           ,'site_id' : 'usuarios.siteID'})\n",
    "    \n",
    "    usuariosConectados[\"usuarios.fecha\"] = usuariosConectados[\"usuarios.fechaControl\"].str.split(\" \", n = 1, expand = True)[0]\n",
    "    usuariosConectados[\"usuarios.anyo\"] = usuariosConectados[\"usuarios.fecha\"].str[0:4]\n",
    "    usuariosConectados[\"usuarios.mes\"] = usuariosConectados[\"usuarios.fecha\"].str[5:7]\n",
    "    usuariosConectados[\"usuarios.dia\"] = usuariosConectados[\"usuarios.fecha\"].str[8:10]\n",
    "    usuariosConectados[\"usuarios.hora\"] = usuariosConectados[\"usuarios.fechaControl\"].str.split(\" \", n = 1, expand = True)[1].str.split(\":\", n = 2, expand = True)[0]\n",
    "    usuariosConectados[\"usuarios.minuto\"] = usuariosConectados[\"usuarios.fechaControl\"].str.split(\" \", n = 1, expand = True)[1].str.split(\":\", n = 2, expand = True)[1]\n",
    "    \n",
    "    usuariosConectados['nombreDepartamento'] = usuariosConectados['usuarios.nombreDepartamento']\n",
    "    usuariosConectados['nombreMunicipio'] = usuariosConectados['usuarios.nombreMunicipio']\n",
    "    usuariosConectados['idBeneficiario'] = usuariosConectados['usuarios.idBeneficiario']\n",
    "    usuariosConectados['fecha'] = usuariosConectados['usuarios.fecha']\n",
    "    usuariosConectados['anyo'] = usuariosConectados['usuarios.anyo']\n",
    "    usuariosConectados['mes'] = usuariosConectados['usuarios.mes']\n",
    "    usuariosConectados['dia'] = usuariosConectados['usuarios.dia']\n",
    "except:\n",
    "    pass"
   ]
  },
  {
   "cell_type": "code",
   "execution_count": 508,
   "metadata": {},
   "outputs": [
    {
     "name": "stdout",
     "output_type": "stream",
     "text": [
      "Fecha:  2021-07-23 15:26:33.438203 - Usuarios conectados insertados en indice principal: 11\n"
     ]
    }
   ],
   "source": [
    "try:\n",
    "    use_these_keys = ['usuarios.tablero11siteID'\n",
    "                      ,'usuarios.tablero11nomCentroDigital'\n",
    "                      , 'usuarios.tablero11localidad'\n",
    "                      , 'usuarios.tablero11nombreDepartamento'\n",
    "                      , 'usuarios.tablero11nombreMunicipio'\n",
    "                      , 'usuarios.tablero11idBeneficiario'\n",
    "                      , 'usuarios.tablero11location'\n",
    "                      , 'usuarios.tablero11sesiones_Usuarios'\n",
    "                      , 'usuarios.tablero11usuariosConectados'\n",
    "                      , 'usuarios.tablero11consumoUsuarios'\n",
    "                      , 'usuarios.tablero11apGroup'\n",
    "                      , 'usuarios.tablero11fechaControl'\n",
    "                      , 'usuarios.tablero11fecha'\n",
    "                      , 'usuarios.tablero11anyo'\n",
    "                      , 'usuarios.tablero11mes'\n",
    "                      , 'usuarios.tablero11macRed'\n",
    "                      , '@timestamp']\n",
    "    #     use_these_keys = ['usuarios.nomCentroDigital'\n",
    "    #                   , 'usuarios.codISO'\n",
    "    #                   , 'usuarios.idBeneficiario'    \n",
    "    #                   , 'usuarios.localidad'\n",
    "    #                   , 'usuarios.siteID'\n",
    "    #                   , 'usuarios.nombreDepartamento'\n",
    "    #                   , 'usuarios.sistemaEnergia'\n",
    "    #                   , 'usuarios.nombreMunicipio'\n",
    "    #                   , 'usuarios.location'\n",
    "    #                   , 'usuarios.fechaControl'\n",
    "    #                   , 'usuarios.macRed'\n",
    "    #                   , 'usuarios.apGroup'    \n",
    "    #                   , 'usuarios.usuariosConectados'\n",
    "    #                   , 'usuarios.sesiones_Usuarios'\n",
    "    #                   , 'usuarios.fecha'\n",
    "    #                   , 'usuarios.anyo'\n",
    "    #                   , 'usuarios.mes'\n",
    "    #                   , 'usuarios.dia'\n",
    "    #                   , 'usuarios.hora'\n",
    "    #                   , 'usuarios.minuto'\n",
    "    #                   , 'nombreDepartamento'\n",
    "    #                   , 'nombreMunicipio'\n",
    "    #                   , 'idBeneficiario'\n",
    "    #                   , 'fecha'\n",
    "    #                   , 'anyo'\n",
    "    #                   , 'mes'\n",
    "    #                   , 'dia'\n",
    "    #                   , '@timestamp']\n",
    "\n",
    "    usuariosConectados['@timestamp'] = now.isoformat()\n",
    "    \n",
    "    #Seleccionar campos del Tablero..\n",
    "    \n",
    "    #Cambio de variables en usuariosConectados...\n",
    "    \n",
    "    usuariosConectados = cambioVariable(usuariosConectados)\n",
    "    \n",
    "    #El campo consumoUsuario esta vacio el mismo no se calcula en este ETL sino en mintic-concat-usuarios-consumos\n",
    "    \n",
    "    def doc_generator(df):\n",
    "        df_iter = df.iterrows()\n",
    "        for index, document in df_iter:\n",
    "            yield {\n",
    "                    \"_index\": indice, \n",
    "                    \"_id\": f\"{ 'usuariosConectados-'+ str(document['usuarios.tablero11siteID']) + str(document['usuarios.tablero11macRed']) + '-' + str(document['usuarios.tablero11fechaControl'])}\",\n",
    "                    \"_source\": filterKeys(document),\n",
    "                }\n",
    "\n",
    "    #Se comenta escritura en el indice porque no se necesita esa estructura#Se comenta escritura en el indice porque no se necesita esa estructura            }\n",
    "    salida = helpers.bulk(es, doc_generator(usuariosConectados))\n",
    "    print(\"Fecha: \", now,\"- Usuarios conectados insertados en indice principal:\",salida[0])\n",
    "except Exception as e:  \n",
    "    print(\"Fecha: \", now,\"- Ningun usuario conectado para insertar en indice principal:\")"
   ]
  },
  {
   "cell_type": "markdown",
   "metadata": {},
   "source": [
    "### Se lee el indice all-cambium-device-client"
   ]
  },
  {
   "cell_type": "markdown",
   "metadata": {},
   "source": [
    "* En este indice se guarda el detalle de los radio por fecha\n",
    "* Detalle conexiones cruza con device clients. Con estos se calculan los totales por marca"
   ]
  },
  {
   "cell_type": "code",
   "execution_count": 314,
   "metadata": {},
   "outputs": [],
   "source": [
    "total_docs = 100000\n",
    "response = es.search(\n",
    "    index= 'all-'+parametros.cambium_d_c_index,\n",
    "    body={\n",
    "        \"_source\": ['mac', 'ap_mac', 'radio.band', 'radio.rx_bytes', 'radio.tx_bytes','fecha_control']\n",
    "          , \"query\": {\n",
    "              \"range\": {\n",
    "                \"fecha_control\": {\n",
    "                  \"gte\": fecha_max_mintic,\n",
    "                  \"lt\": fecha_tope_mintic\n",
    "                  #\"gte\": \"2021-05-26 15:00:00\",\n",
    "                  #\"lt\": \"2021-05-26 15:10:00\"  \n",
    "                }\n",
    "              }\n",
    "          }\n",
    "    },\n",
    "    size=total_docs\n",
    ")\n",
    "elastic_docs = response[\"hits\"][\"hits\"]\n",
    "# fields = {}\n",
    "# for num, doc in enumerate(elastic_docs):\n",
    "#     source_data = doc[\"_source\"]\n",
    "#     for key, val in source_data.items():\n",
    "#         try:\n",
    "#             fields[key] = np.append(fields[key], val)\n",
    "#         except KeyError:\n",
    "#             fields[key] = np.array([val])\n",
    "\n",
    "# datos_radio = pd.DataFrame(dict([ (k,pd.Series(v)) for k,v in fields.items() ]))\n",
    "\n",
    "datos_radio = pd.DataFrame([x[\"_source\"] for x in elastic_docs])"
   ]
  },
  {
   "cell_type": "markdown",
   "metadata": {},
   "source": [
    "# Uso servicio de internet insertados en indice principal"
   ]
  },
  {
   "cell_type": "markdown",
   "metadata": {},
   "source": [
    "la lista use_these_keys se usa para referenciar cuales campos del dataframe irán al indice final. si los datos no se declaran en este, no se insertarán"
   ]
  },
  {
   "cell_type": "code",
   "execution_count": 316,
   "metadata": {},
   "outputs": [],
   "source": [
    "use_these_keys = ['usuarios.siteID'\n",
    "                  ,'usuarios.tablero11nomCentroDigital'\n",
    "                  , 'usuarios.tablero11localidad'\n",
    "                  , 'usuarios.tablero11nombreDepartamento'\n",
    "                  , 'usuarios.tablero11nombreMunicipio'\n",
    "                  , 'usuarios.tablero11idBeneficiario'\n",
    "                  , 'usuarios.tablero11location'\n",
    "#                   , 'usuarios.tablero11sesiones_Usuarios'\n",
    "#                   , 'usuarios.tablero11consumoUsuarios'\n",
    "                  , 'usuarios.tablero11apGroup'\n",
    "                  , 'usuarios.tablero11fechaControl'\n",
    "                  , 'usuarios.tablero11fecha'\n",
    "                  , 'usuarios.tablero11anyo'\n",
    "                  , 'usuarios.tablero11mes'\n",
    "                  , '@timestamp']\n",
    "\n",
    "# use_these_keys = ['usuarios.macRed'\n",
    "#                   , 'usuarios.usoServicioInternetSitio'\n",
    "#                   , 'usuarios.detallesTecnologiasTerminales'\n",
    "#                   , 'usuarios.nomCentroDigital'\n",
    "#                   , 'usuarios.codISO'\n",
    "#                   , 'usuarios.idBeneficiario'\n",
    "#                   , 'usuarios.localidad'\n",
    "#                   , 'usuarios.siteID'\n",
    "#                   , 'usuarios.nombreDepartamento'\n",
    "#                   , 'usuarios.sistemaEnergia'\n",
    "#                   , 'usuarios.nombreMunicipio'\n",
    "#                   , 'usuarios.location'\n",
    "#                   , 'usuarios.fechaControl'\n",
    "#                   , 'usuarios.fecha'\n",
    "#                   , 'usuarios.anyo'\n",
    "#                   , 'usuarios.mes'\n",
    "#                   , 'usuarios.dia'\n",
    "#                   , 'usuarios.hora'\n",
    "#                   , 'usuarios.minuto'\n",
    "#                   , 'usuarios.apGroup'\n",
    "#                   , 'nombreDepartamento'\n",
    "#                     , 'nombreMunicipio'\n",
    "#                     , 'idBeneficiario'\n",
    "#                     , 'fecha'\n",
    "#                     , 'anyo'\n",
    "#                     , 'mes'\n",
    "#                     , 'dia'\n",
    "#                   , '@timestamp']\n",
    "\n",
    "def doc_generator(df):\n",
    "    df_iter = df.iterrows()\n",
    "    for index, document in df_iter:\n",
    "        yield {\n",
    "                \"_index\": indice, \n",
    "                \"_id\": f\"{ 'UsoServicio-' + str(document['usuarios.macRed']) + '-' + str(document['usuarios.detallesTecnologiasTerminales']) + '-' + str(document['usuarios.fechaControl'])}\",\n",
    "                \"_source\": filterKeys(document),\n",
    "            }"
   ]
  },
  {
   "cell_type": "markdown",
   "metadata": {},
   "source": [
    "* se toma el maximo radio para cada mac de dispositivo final\n",
    "* se suma agrupando por ap_mac, banda y fecha\n",
    "* El resultado es un total para cada banda, fecha y ap_mac"
   ]
  },
  {
   "cell_type": "code",
   "execution_count": 192,
   "metadata": {},
   "outputs": [],
   "source": [
    "#NO se utiliza informacion del uso del servicio de Internet por MAC address en el Tablero 11.\n",
    "\n",
    "\n",
    "# try:    \n",
    "#     datos_radio['fecha_control'] = datos_radio['fecha_control'].str[0:15]+'0:00'\n",
    "#     datos_radio = datos_radio.groupby(['ap_mac', 'fecha_control', 'mac', 'radio.band']).agg(['max']).reset_index()\n",
    "#     datos_radio.columns = datos_radio.columns.droplevel(1)\n",
    "#     datos_radio = datos_radio[['ap_mac', 'fecha_control', 'radio.band', 'radio.rx_bytes',\n",
    "#            'radio.tx_bytes']].groupby(['ap_mac', 'fecha_control', 'radio.band']).agg(['sum']).reset_index()\n",
    "#     datos_radio.columns = datos_radio.columns.droplevel(1)\n",
    "#     datos_radio = datos_radio.rename(columns={'ap_mac' : 'usuarios.macRed'})\n",
    "#     usoServicioInternetSitio = pd.merge(datos_radio,datos_dev[['usuarios.apGroup', 'site_id', 'usuarios.macRed']], on ='usuarios.macRed', how='inner')\n",
    "#     usoServicioInternetSitio.fillna({'radio.rx_bytes':0,'radio.tx_bytes':0},inplace=True)\n",
    "#     usoServicioInternetSitio.fillna({'usuarios.macRed':'','radio.band':'No identificado','usuarios.apGroup':'No identificado'},inplace=True)\n",
    "#     usoServicioInternetSitio['usuarios.usoServicioInternetSitio'] = usoServicioInternetSitio['radio.rx_bytes'].astype(float) + usoServicioInternetSitio['radio.tx_bytes'].astype(float)\n",
    "#     usoServicioInternetSitio = pd.merge(usoServicioInternetSitio,datos_semilla, on ='site_id', how='inner')\n",
    "#     usoServicioInternetSitio= usoServicioInternetSitio.rename(columns={'site_id' : 'usuarios.siteID'\n",
    "#                                                                     ,'radio.band' : 'usuarios.detallesTecnologiasTerminales'\n",
    "#                                                                     , 'fecha_control' : 'usuarios.fechaControl'})\n",
    "#     usoServicioInternetSitio['usuarios.usoServicioInternetSitio'] = round((usoServicioInternetSitio['usuarios.usoServicioInternetSitio']/float(1<<30)),6) \n",
    "#     usoServicioInternetSitio[\"usuarios.fecha\"] = usoServicioInternetSitio[\"usuarios.fechaControl\"].str.split(\" \", n = 1, expand = True)[0]\n",
    "#     usoServicioInternetSitio[\"usuarios.anyo\"] = usoServicioInternetSitio[\"usuarios.fecha\"].str[0:4]\n",
    "#     usoServicioInternetSitio[\"usuarios.mes\"] = usoServicioInternetSitio[\"usuarios.fecha\"].str[5:7]\n",
    "#     usoServicioInternetSitio[\"usuarios.dia\"] = usoServicioInternetSitio[\"usuarios.fecha\"].str[8:10]\n",
    "#     usoServicioInternetSitio[\"usuarios.hora\"] = usoServicioInternetSitio[\"usuarios.fechaControl\"].str.split(\" \", n = 1, expand = True)[1].str.split(\":\", n = 2, expand = True)[0]\n",
    "#     usoServicioInternetSitio[\"usuarios.minuto\"] = usoServicioInternetSitio[\"usuarios.fechaControl\"].str.split(\" \", n = 1, expand = True)[1].str.split(\":\", n = 2, expand = True)[1]\n",
    "    \n",
    "#     usoServicioInternetSitio['nombreDepartamento'] = usoServicioInternetSitio['usuarios.nombreDepartamento']\n",
    "#     usoServicioInternetSitio['nombreMunicipio'] = usoServicioInternetSitio['usuarios.nombreMunicipio']\n",
    "#     usoServicioInternetSitio['idBeneficiario'] = usoServicioInternetSitio['usuarios.idBeneficiario']\n",
    "#     usoServicioInternetSitio['fecha'] = usoServicioInternetSitio['usuarios.fecha']\n",
    "#     usoServicioInternetSitio['anyo'] = usoServicioInternetSitio['usuarios.anyo']\n",
    "#     usoServicioInternetSitio['mes'] = usoServicioInternetSitio['usuarios.mes']\n",
    "#     usoServicioInternetSitio['dia'] = usoServicioInternetSitio['usuarios.dia']\n",
    "    \n",
    "#     usoServicioInternetSitio['@timestamp'] = now.isoformat()\n",
    "    \n",
    "#     #Cambio de variables utilizando los campos del Tablero...\n",
    "    \n",
    "#     usoServicioInternetSitio=cambioVariable(usoServicioInternetSitio)\n",
    "    \n",
    "#     #Se comenta escritura en el indice porque no se necesita esa estructura\n",
    "#     #salida = helpers.bulk(es, doc_generator(usoServicioInternetSitio))\n",
    "#     #print(\"Fecha: \", now,\"- Uso servicio y tecnología terminal insertados en indice principal:\",salida[0])\n",
    "# except:\n",
    "#     print(\"Fecha: \", now,\"- Ningun uservicio/tecnología terminal conectado para insertar en indice principal\")\n"
   ]
  },
  {
   "cell_type": "markdown",
   "metadata": {},
   "source": [
    "Se renombra fecha_control para cruzar"
   ]
  },
  {
   "cell_type": "markdown",
   "metadata": {},
   "source": [
    "## Totalizar la cantidad de dispositivos por usuario"
   ]
  },
  {
   "cell_type": "markdown",
   "metadata": {},
   "source": [
    "* Para contabilizar los dispositivos por usuario, se debe contar la cantidad de ocurrencias de mac_usuario dentro de detalle de conexiones, agrupando por tipo documento y documento. \n",
    "* Aún cuando la mayoria de las fuentes referencia a mac_usuario, no se debe confundir a la hora de agrupar con los datos reales de usuario que en este caso serían el documento de identidad como campo de identificación"
   ]
  },
  {
   "cell_type": "code",
   "execution_count": 193,
   "metadata": {},
   "outputs": [],
   "source": [
    "# NO se utiliza campos de CONTEO DE DISPOSITIVOS..\n",
    "\n",
    "# try:\n",
    "#     conteoDispositivos = datos_det_conex[['fecha_control','site_id', 'documento', 'tipodoc','fecha']].groupby(['fecha_control','site_id', 'documento', 'tipodoc']).agg(['count']).reset_index()\n",
    "#     conteoDispositivos.columns = conteoDispositivos.columns.droplevel(1)\n",
    "#     conteoDispositivos= conteoDispositivos.rename(columns={'fecha' : 'conteo'})\n",
    "#     conteoDispositivos = conteoDispositivos[['fecha_control','site_id','conteo']].groupby(['fecha_control','site_id']).agg(['sum']).reset_index()\n",
    "#     conteoDispositivos.columns = conteoDispositivos.columns.droplevel(1)\n",
    "#     conteoDispositivos= conteoDispositivos.rename(columns={'conteo' : 'usuarios.conteoDispositivos'})\n",
    "#     conteoDispositivos = pd.merge(conteoDispositivos, datos_semilla, on='site_id', how='inner')\n",
    "#     conteoDispositivos = conteoDispositivos.rename(columns={'fecha_control' : 'usuarios.fechaControl'})\n",
    "#     conteoDispositivos[\"usuarios.fecha\"] = conteoDispositivos[\"usuarios.fechaControl\"].str.split(\" \", n = 1, expand = True)[0]\n",
    "#     conteoDispositivos[\"usuarios.anyo\"] = conteoDispositivos[\"usuarios.fecha\"].str[0:4]\n",
    "#     conteoDispositivos[\"usuarios.mes\"] = conteoDispositivos[\"usuarios.fecha\"].str[5:7]\n",
    "#     conteoDispositivos[\"usuarios.dia\"] = conteoDispositivos[\"usuarios.fecha\"].str[8:10]\n",
    "#     conteoDispositivos[\"usuarios.hora\"] = conteoDispositivos[\"usuarios.fechaControl\"].str.split(\" \", n = 1, expand = True)[1].str.split(\":\", n = 2, expand = True)[0]\n",
    "#     conteoDispositivos[\"usuarios.minuto\"] = conteoDispositivos[\"usuarios.fechaControl\"].str.split(\" \", n = 1, expand = True)[1].str.split(\":\", n = 2, expand = True)[1]\n",
    "#     conteoDispositivos= conteoDispositivos.rename(columns={'site_id' : 'usuarios.siteID'})\n",
    "    \n",
    "#     conteoDispositivos['nombreDepartamento'] = conteoDispositivos['usuarios.nombreDepartamento']\n",
    "#     conteoDispositivos['nombreMunicipio'] = conteoDispositivos['usuarios.nombreMunicipio']\n",
    "#     conteoDispositivos['idBeneficiario'] = conteoDispositivos['usuarios.idBeneficiario']\n",
    "#     conteoDispositivos['fecha'] = conteoDispositivos['usuarios.fecha']\n",
    "#     conteoDispositivos['anyo'] = conteoDispositivos['usuarios.anyo']\n",
    "#     conteoDispositivos['mes'] = conteoDispositivos['usuarios.mes']\n",
    "#     conteoDispositivos['dia'] = conteoDispositivos['usuarios.dia']\n",
    "# except:\n",
    "#     pass\n"
   ]
  },
  {
   "cell_type": "markdown",
   "metadata": {},
   "source": [
    "# 4. Insertando promedio dispositivos en indice principal"
   ]
  },
  {
   "cell_type": "markdown",
   "metadata": {},
   "source": [
    "la lista use_these_keys se usa para referenciar cuales campos del dataframe irán al indice final. si los datos no se declaran en este, no se insertarán"
   ]
  },
  {
   "cell_type": "code",
   "execution_count": 194,
   "metadata": {},
   "outputs": [],
   "source": [
    "# NO se utiliza campos de CONTEO DE DISPOSITIVOS..\n",
    "\n",
    "\n",
    "# try:\n",
    "#     use_these_keys = ['usuarios.tablero11siteID'\n",
    "#                      , 'usuarios.tablero11nomCentroDigital'\n",
    "#                      , 'usuarios.tablero11localidad'\n",
    "#                      , 'usuarios.tablero11nombreDepartamento'\n",
    "#                      , 'usuarios.tablero11nombreMunicipio'\n",
    "#                      , 'usuarios.tablero11idBeneficiario'\n",
    "#                      , 'usuarios.tablero11location'\n",
    "#                      , 'usuarios.tablero11fechaControl'\n",
    "#                      , 'usuarios.tablero11fecha'\n",
    "#                      , 'usuarios.tablero11anyo'\n",
    "#                      , 'usuarios.tablero11mes'\n",
    "#                      , '@timestamp']\n",
    "# #     use_these_keys = ['usuarios.nomCentroDigital'\n",
    "# #                   , 'usuarios.codISO'\n",
    "# #                   , 'usuarios.idBeneficiario'    \n",
    "# #                   , 'usuarios.localidad'\n",
    "# #                   , 'usuarios.siteID'\n",
    "# #                   , 'usuarios.nombreDepartamento'\n",
    "# #                   , 'usuarios.sistemaEnergia'\n",
    "# #                   , 'usuarios.nombreMunicipio'\n",
    "# #                   , 'usuarios.location'\n",
    "# #                   , 'usuarios.conteoDispositivos'\n",
    "# #                   , 'usuarios.fechaControl'\n",
    "# #                   , 'usuarios.fecha'\n",
    "# #                   , 'usuarios.anyo'\n",
    "# #                   , 'usuarios.mes'\n",
    "# #                   , 'usuarios.dia'\n",
    "# #                   , 'usuarios.hora'\n",
    "# #                   , 'usuarios.minuto'\n",
    "# #                     , 'nombreDepartamento'\n",
    "# #                     , 'nombreMunicipio'\n",
    "# #                     , 'idBeneficiario'\n",
    "# #                     , 'fecha'\n",
    "# #                     , 'anyo'\n",
    "# #                     , 'mes'\n",
    "# #                     , 'dia'\n",
    "# #                   , '@timestamp']\n",
    "\n",
    "#     conteoDispositivos['@timestamp'] = now.isoformat()\n",
    "    \n",
    "#     #Cambio de variables utilizando los campos del Tablero...\n",
    "    \n",
    "#     conteoDispositivos=cambioVariable(conteoDispositivos)\n",
    "    \n",
    "#     #2307\n",
    "    \n",
    "#     def doc_generator(df):\n",
    "#         df_iter = df.iterrows()\n",
    "#         for index, document in df_iter:\n",
    "#             yield {\n",
    "#                     \"_index\": indice, \n",
    "#                     \"_id\": f\"{ 'PromedioDispositivos-' + str(document['usuarios.tablero11siteID']) + '-' + str(document['usuarios.fechaControl'])}\",\n",
    "#                     \"_source\": filterKeys(document),\n",
    "#                 }\n",
    "#     #Se comenta escritura en el indice porque no se necesita esa estructura        \n",
    "#     #salida = helpers.bulk(es, doc_generator(conteoDispositivos))\n",
    "#     #print(\"Fecha: \", now,\"- Promedios dispositivos Usuarios:\",salida[0])\n",
    "# except:\n",
    "#     print(\"Fecha: \", now,\"- Ningun Promedios dispositivos Usuarios para insertar en indice principal\")\n",
    "    \n"
   ]
  },
  {
   "cell_type": "markdown",
   "metadata": {},
   "source": [
    "# Marcando si usuario es nuevo o recurrente"
   ]
  },
  {
   "cell_type": "markdown",
   "metadata": {},
   "source": [
    "* Se toma del dataframe datos_det_conex y se cuenta las veces que cada mac_usuario aparece\n",
    "* Luego se suma con el historico de conexiones por usuario (indice intermedio ohmyfi-total-conexiones-historico)\n",
    "* marca como Nuevo(1 conexión). \n",
    "\n",
    "De este proceso se obtiene el campo:\n",
    "* usuarios.usuariosNuevos\n",
    "* usuarios.totales.usuariosNuevos"
   ]
  },
  {
   "cell_type": "code",
   "execution_count": 317,
   "metadata": {},
   "outputs": [],
   "source": [
    "try:\n",
    "    datos_recurrencia = datos_det_conex[[\"fecha\",\"tipodoc\",\"documento\"]].groupby([\"tipodoc\",\"documento\"]).agg(['count']).reset_index()\n",
    "    datos_recurrencia.columns = datos_recurrencia.columns.droplevel(1)\n",
    "    datos_recurrencia= datos_recurrencia.rename(columns={'fecha' : 'usuarios_recurrencia_aux'})\n",
    "    datos_recurrencia['tipodoc'] = datos_recurrencia['tipodoc'].replace('','No especificado')\n",
    "    datos_recurrencia['documento'] = datos_recurrencia['documento'].replace('','No especificado')\n",
    "except:\n",
    "    pass"
   ]
  },
  {
   "cell_type": "markdown",
   "metadata": {},
   "source": [
    "### Se lee historico"
   ]
  },
  {
   "cell_type": "markdown",
   "metadata": {},
   "source": [
    "Se lee ohmyfi-total-conexiones-historico, el cual es un indice creado a partir de los datos crudos. Este guarda la cantidad de conexiones realizadas por ese usuario. Para que la consulta funcione correctamente se debe colocar el filtro que usuarios_recurrencia exista."
   ]
  },
  {
   "cell_type": "code",
   "execution_count": 318,
   "metadata": {},
   "outputs": [],
   "source": [
    "try:\n",
    "    total_docs = 30000000\n",
    "    response = es.search(\n",
    "        index= parametros.ohmyfi_total_c_index,\n",
    "        body={\n",
    "              \"_source\": ['tipodoc', 'documento', 'usuarios_recurrencia'],\n",
    "              \"query\": {\n",
    "                \"bool\": {\n",
    "                  \"filter\": [\n",
    "                  {\n",
    "                    \"exists\": {\n",
    "                      \"field\":\"usuarios_recurrencia\"\n",
    "                    }\n",
    "                  }\n",
    "                  ]\n",
    "                }\n",
    "              }\n",
    "        },\n",
    "        size=total_docs\n",
    "    )\n",
    "    elastic_docs = response[\"hits\"][\"hits\"]\n",
    "#     fields = {}\n",
    "#     for num, doc in enumerate(elastic_docs):\n",
    "#         source_data = doc[\"_source\"]\n",
    "#         for key, val in source_data.items():\n",
    "#             try:\n",
    "#                 fields[key] = np.append(fields[key], val)\n",
    "#             except KeyError:\n",
    "#                 fields[key] = np.array([val])\n",
    "\n",
    "#     ya_en_indice = pd.DataFrame(dict([ (k,pd.Series(v)) for k,v in fields.items() ]))\n",
    "    \n",
    "    ya_en_indice = pd.DataFrame([x[\"_source\"] for x in elastic_docs])\n",
    "    \n",
    "    \n",
    "except:\n",
    "    ya_en_indice = pd.DataFrame(columns=['tipodoc', 'documento', 'usuarios_recurrencia'])"
   ]
  },
  {
   "cell_type": "code",
   "execution_count": 320,
   "metadata": {},
   "outputs": [],
   "source": [
    "if ya_en_indice is None or ya_en_indice.empty:\n",
    "    datos_recurrencia= datos_recurrencia.rename(columns={'usuarios_recurrencia_aux' : 'usuarios_recurrencia'})\n",
    "else:\n",
    "    datos_recurrencia = pd.merge(datos_recurrencia, ya_en_indice, on=['tipodoc', 'documento'],how='left')\n",
    "    datos_recurrencia.fillna({'usuarios_recurrencia':0},inplace=True)\n",
    "    datos_recurrencia['usuarios_recurrencia'] = datos_recurrencia['usuarios_recurrencia'] + datos_recurrencia['usuarios_recurrencia_aux']\n",
    "    datos_recurrencia['usuarios_recurrencia'] = [int(x) for x in datos_recurrencia['usuarios_recurrencia']]"
   ]
  },
  {
   "cell_type": "code",
   "execution_count": 321,
   "metadata": {},
   "outputs": [],
   "source": [
    "try:\n",
    "    aux_recurrencia = pd.merge(datos_recurrencia,datos_det_conex, on=['tipodoc','documento'],how='inner' )\n",
    "    aux_recurrencia = aux_recurrencia[(aux_recurrencia['usuarios_recurrencia']==1)]\n",
    "    aux_recurrencia.loc[aux_recurrencia['usuarios_recurrencia']==1,'usuarios.usuariosNuevos']='Nuevo'\n",
    "    #aux_recurrencia.loc[aux_recurrencia['usuarios_recurrencia']!=1,'usuarios.usuariosNuevos']='Recurrente'\n",
    "    aux_recurrencia = aux_recurrencia.rename(columns={'usuarios_recurrencia' :'usuarios.sesiones_Usuarios'})\n",
    "    aux_recurrencia = aux_recurrencia[[\"fecha_control\",\"site_id\",\"usuarios.usuariosNuevos\",'documento']].groupby([\"fecha_control\",\"site_id\",\"usuarios.usuariosNuevos\"])['documento'].nunique().reset_index()\n",
    "    aux_recurrencia= aux_recurrencia.rename(columns={'documento' : 'usuarios.totales.usuariosNuevos'})\n",
    "except:\n",
    "    pass"
   ]
  },
  {
   "cell_type": "code",
   "execution_count": 322,
   "metadata": {},
   "outputs": [],
   "source": [
    "try:\n",
    "    datos_recurrencia = pd.merge(datos_semilla,  aux_recurrencia, on='site_id', how='inner')\n",
    "    datos_recurrencia = datos_recurrencia.rename(columns={'fecha_control' : 'usuarios.fechaControl'})\n",
    "    datos_recurrencia[\"usuarios.fecha\"] = datos_recurrencia[\"usuarios.fechaControl\"].str.split(\" \", n = 1, expand = True)[0]\n",
    "    datos_recurrencia[\"usuarios.anyo\"] = datos_recurrencia[\"usuarios.fecha\"].str[0:4]\n",
    "    datos_recurrencia[\"usuarios.mes\"] = datos_recurrencia[\"usuarios.fecha\"].str[5:7]\n",
    "    datos_recurrencia[\"usuarios.dia\"] = datos_recurrencia[\"usuarios.fecha\"].str[8:10]\n",
    "    datos_recurrencia[\"usuarios.hora\"] = datos_recurrencia[\"usuarios.fechaControl\"].str.split(\" \", n = 1, expand = True)[1].str.split(\":\", n = 2, expand = True)[0]\n",
    "    datos_recurrencia[\"usuarios.minuto\"] = datos_recurrencia[\"usuarios.fechaControl\"].str.split(\" \", n = 1, expand = True)[1].str.split(\":\", n = 2, expand = True)[1]\n",
    "    datos_recurrencia= datos_recurrencia.rename(columns={'site_id' : 'usuarios.siteID'})\n",
    "    \n",
    "    datos_recurrencia['nombreDepartamento'] = datos_recurrencia['usuarios.nombreDepartamento']\n",
    "    datos_recurrencia['nombreMunicipio'] = datos_recurrencia['usuarios.nombreMunicipio']\n",
    "    datos_recurrencia['idBeneficiario'] = datos_recurrencia['usuarios.idBeneficiario']\n",
    "    datos_recurrencia['fecha'] = datos_recurrencia['usuarios.fecha']\n",
    "    datos_recurrencia['anyo'] = datos_recurrencia['usuarios.anyo']\n",
    "    datos_recurrencia['mes'] = datos_recurrencia['usuarios.mes']\n",
    "    datos_recurrencia['dia'] = datos_recurrencia['usuarios.dia']\n",
    "except:\n",
    "    pass"
   ]
  },
  {
   "cell_type": "markdown",
   "metadata": {},
   "source": [
    "# Insertando recurrencia de usuario en indice principal"
   ]
  },
  {
   "cell_type": "markdown",
   "metadata": {},
   "source": [
    "la lista use_these_keys se usa para referenciar cuales campos del dataframe irán al indice final. si los datos no se declaran en este, no se insertarán"
   ]
  },
  {
   "cell_type": "code",
   "execution_count": 323,
   "metadata": {
    "scrolled": true
   },
   "outputs": [
    {
     "name": "stdout",
     "output_type": "stream",
     "text": [
      "Fecha:  2021-07-23 15:26:33.438203 - Ninguna recurrencia de usuario para insertar en indice principal\n"
     ]
    }
   ],
   "source": [
    "try:\n",
    "    use_these_keys = ['usuarios.tablero11siteID'\n",
    "                  , 'usuarios.tablero11nomCentroDigital'\n",
    "                  , 'usuarios.tablero11localidad'\n",
    "                  , 'usuarios.tablero11nombreDepartamento'\n",
    "                  , 'usuarios.tablero11nombreMunicipio'\n",
    "                  , 'usuarios.tablero11idBeneficiario'\n",
    "                  , 'usuarios.tablero11location'\n",
    "#                   , 'usuarios.tablero11sesiones_Usuarios'\n",
    "#                   , 'usuarios.tablero11consumoUsuarios'\n",
    "#                   , 'usuarios.tablero11apGroup'\n",
    "                  , 'usuarios.tablero11fechaControl'\n",
    "                  , 'usuarios.tablero11fecha'\n",
    "                  , 'usuarios.tablero11anyo'\n",
    "                  , 'usuarios.tablero11mes'\n",
    "                  , '@timestamp']\n",
    "#     use_these_keys = ['usuarios.nomCentroDigital'\n",
    "# #                       , 'usuarios.codISO'\n",
    "#                       , 'usuarios.idBeneficiario'\n",
    "#                       , 'usuarios.localidad'\n",
    "#                       , 'usuarios.siteID'\n",
    "#                       , 'usuarios.nombreDepartamento'\n",
    "#                       , 'usuarios.sistemaEnergia'\n",
    "#                       , 'usuarios.nombreMunicipio'\n",
    "#                       , 'usuarios.location'\n",
    "#                       , 'usuarios.usuariosNuevos'\n",
    "#                       , 'usuarios.totales.usuariosNuevos'\n",
    "#                       , 'usuarios.fechaControl'\n",
    "#                       , 'usuarios.fecha'\n",
    "#                       , 'usuarios.anyo'\n",
    "#                       , 'usuarios.mes'\n",
    "#                       , 'usuarios.dia'\n",
    "#                       , 'usuarios.hora'\n",
    "#                       , 'usuarios.minuto'\n",
    "#                         , 'nombreDepartamento'\n",
    "#                         , 'nombreMunicipio'\n",
    "#                         , 'idBeneficiario'\n",
    "#                         , 'fecha'\n",
    "#                         , 'anyo'\n",
    "#                         , 'mes'\n",
    "#                         , 'dia'\n",
    "#                       , '@timestamp']\n",
    "\n",
    "    datos_recurrencia['@timestamp'] = now.isoformat()\n",
    "    \n",
    "    datos_recurrencia=cambioVariable(datos_recurrencia)\n",
    "    \n",
    "    datos_recurrencia=cambio\n",
    "    \n",
    "    def doc_generator(df):\n",
    "        df_iter = df.iterrows()\n",
    "        for index, document in df_iter:\n",
    "            yield {\n",
    "                    \"_index\": indice, \n",
    "                    \"_id\": f\"{ 'Recurrencia-' + str(document['usuarios.tablero11siteID']) + '-' + str(document['usuarios.tablero11fechaControl'])}\",\n",
    "                    \"_source\": filterKeys(document),\n",
    "                }\n",
    "            \n",
    "    #Se comenta escritura en el indice porque no se necesita esa estructura        \n",
    "    #  salida = helpers.bulk(es, doc_generator(datos_recurrencia))\n",
    "#     print(\"Fecha: \", now,\"- recurrencia de usuario a indice:\",salida[0])\n",
    "except:\n",
    "    print(\"Fecha: \", now,\"- Ninguna recurrencia de usuario para insertar en indice principal\")"
   ]
  },
  {
   "cell_type": "markdown",
   "metadata": {},
   "source": [
    "## Insertando detalle MACs"
   ]
  },
  {
   "cell_type": "code",
   "execution_count": 195,
   "metadata": {},
   "outputs": [],
   "source": [
    "#NO Se utilizan campos MAC en el Tablero 11..\n",
    "\n",
    "# use_these_keys = ['usuarios.tablero11siteID'\n",
    "#                   ,'usuarios.tablero11nomCentroDigital'\n",
    "#                   , 'usuarios.tablero11localidad'\n",
    "#                   , 'usuarios.tablero11nombreDepartamento'\n",
    "#                   , 'usuarios.tablero11nombreMunicipio'\n",
    "#                   , 'usuarios.tablero11idBeneficiario'\n",
    "#                   , 'usuarios.tablero11location'\n",
    "#                   , 'usuarios.tablero11apGroup'\n",
    "#                   , 'usuarios.tablero11fechaControl'\n",
    "#                   , 'usuarios.tablero11fecha'\n",
    "#                   , 'usuarios.tablero11anyo'\n",
    "#                   , 'usuarios.tablero11mes'\n",
    "#                   , '@timestamp']\n",
    "\n",
    "# # use_these_keys = ['usuarios.siteID'\n",
    "# #                   , 'usuarios.nomCentroDigital'\n",
    "# #                   , 'usuarios.codISO'\n",
    "# #                   , 'usuarios.localidad'\n",
    "# #                   , 'usuarios.nombreDepartamento'\n",
    "# #                   , 'usuarios.sistemaEnergia'\n",
    "# #                   , 'usuarios.nombreMunicipio'\n",
    "# #                   , 'usuarios.idBeneficiario'\n",
    "# #                   , 'usuarios.location'\n",
    "# #                   , 'usuarios.macRed'\n",
    "# #                   , 'usuarios.apGroup'\n",
    "# #                   , 'usuarios.dispositivo.mac'\n",
    "# #                   , 'usuarios.dispositivo.tipo'\n",
    "# #                   , 'usuarios.dispositivo.nombre'\n",
    "# #                   , 'usuarios.dispositivo.marca'\n",
    "# #                   , 'usuarios.dispositivo.tecnologia'\n",
    "# #                   , 'usuarios.dispositivo.sisOperativo'\n",
    "# #                   , 'usuarios.fechaControl'\n",
    "# #                   , 'usuarios.fecha'\n",
    "# #                   , 'usuarios.anyo'\n",
    "# #                   , 'usuarios.mes'\n",
    "# #                   , 'usuarios.dia'\n",
    "# #                   , 'usuarios.hora'\n",
    "# #                   , 'usuarios.minuto'\n",
    "# #                   , '@timestamp']\n",
    "# def doc_generator_mac(df):\n",
    "#     df_iter = df.iterrows()\n",
    "#     for index, document in df_iter:\n",
    "#         yield {\n",
    "#                 \"_index\": indice, \n",
    "#                 \"_id\": f\"{ 'detalleMAC-' + str(document['usuarios.tablero11siteID']) + '-' + str(document['usuarios.fechaControl']) + '-' + str(document['usuarios.dispositivo.mac'])   }\",\n",
    "#                 \"_source\": filterKeys(document),\n",
    "#             }\n"
   ]
  },
  {
   "cell_type": "markdown",
   "metadata": {},
   "source": [
    "## Insertando campos para tablero11"
   ]
  },
  {
   "cell_type": "code",
   "execution_count": 324,
   "metadata": {},
   "outputs": [],
   "source": [
    "use_these_keys = ['usuarios.tablero11siteID'\n",
    "                  ,'usuarios.tablero11nomCentroDigital'\n",
    "                  , 'usuarios.tablero11localidad'\n",
    "                  , 'usuarios.tablero11nombreDepartamento'\n",
    "                  , 'usuarios.tablero11nombreMunicipio'\n",
    "                  , 'usuarios.tablero11idBeneficiario'\n",
    "                  , 'usuarios.tablero11location'\n",
    "                  , 'usuarios.tablero11sesiones_Usuarios'\n",
    "                  , 'usuarios.tablero11consumoUsuarios'\n",
    "                  , 'usuarios.tablero11apGroup'\n",
    "                  , 'usuarios.tablero11fechaControl'\n",
    "                  , 'usuarios.tablero11fecha'\n",
    "                  , 'usuarios.tablero11anyo'\n",
    "                  , 'usuarios.tablero11mes'\n",
    "                  , '@timestamp']\n",
    "def doc_tablero11(df):\n",
    "    df_iter = df.iterrows()\n",
    "    for index, document in df_iter:\n",
    "        yield {\n",
    "                \"_index\": indice, \n",
    "                \"_id\": f\"{ 'Tablero11-' + str(document['usuarios.tablero11idBeneficiario']) + '-' + str(document['usuarios.tablero11fechaControl'])  }\",\n",
    "                \"_source\": filterKeys(document),\n",
    "            }"
   ]
  },
  {
   "cell_type": "code",
   "execution_count": 325,
   "metadata": {},
   "outputs": [
    {
     "name": "stdout",
     "output_type": "stream",
     "text": [
      "Fecha:  2021-07-23 15:26:33.438203 - Ningún Detalle MACs para insertar en indice principal\n"
     ]
    }
   ],
   "source": [
    "try:\n",
    "    dispositivoUsuarios = datos_det_conex[['site_id','usuarios.macRed','usuarios.apGroup'\n",
    "                                ,'mac_usuario','fecha_control'\n",
    "                                ,'usuarios.tipoDispositivoUsuarios'\n",
    "                                ,'name','manufacturer','radio.band'\n",
    "                                ,'usuarios.sistemaOperativoUsuarios']].drop_duplicates(subset=['mac_usuario'])\n",
    "    dispositivoUsuarios.fillna({'usuarios.tipoDispositivoUsuarios':'No identificado'\n",
    "                               ,'name':'No identificado'\n",
    "                               ,'manufacturer':'No identificado'\n",
    "                               ,'radio.band':'No identificado'\n",
    "                               ,'usuarios.sistemaOperativoUsuarios':'No identificado'\n",
    "                               ,'usuarios.macRed':'No identificado'\n",
    "                               ,'usuarios.apGroup':'No identificado'\n",
    "                               },inplace=True)\n",
    "\n",
    "    dispositivoUsuarios = pd.merge(dispositivoUsuarios, datos_semilla, on='site_id',how='inner')\n",
    "    dispositivoUsuarios= dispositivoUsuarios.rename(columns={\n",
    "                                                     'site_id' : 'usuarios.siteID'\n",
    "                                                    ,'mac_usuario' : 'usuarios.dispositivo.mac'\n",
    "                                                    ,'usuarios.tipoDispositivoUsuarios' : 'usuarios.dispositivo.tipo'\n",
    "                                                    ,'name' : 'usuarios.dispositivo.nombre'\n",
    "                                                    ,'manufacturer' : 'usuarios.dispositivo.marca'\n",
    "                                                    ,'radio.band' : 'usuarios.dispositivo.tecnologia'\n",
    "                                                    ,'usuarios.sistemaOperativoUsuarios' : 'usuarios.dispositivo.sisOperativo'\n",
    "                                                    ,'fecha_control':'usuarios.fechaControl'\n",
    "                                                    })\n",
    "    dispositivoUsuarios[\"usuarios.fecha\"] = dispositivoUsuarios[\"usuarios.fechaControl\"].str.split(\" \", n = 1, expand = True)[0]\n",
    "    dispositivoUsuarios[\"usuarios.anyo\"] = dispositivoUsuarios[\"usuarios.fecha\"].str[0:4]\n",
    "    dispositivoUsuarios[\"usuarios.mes\"] = dispositivoUsuarios[\"usuarios.fecha\"].str[5:7]\n",
    "    dispositivoUsuarios[\"usuarios.dia\"] = dispositivoUsuarios[\"usuarios.fecha\"].str[8:10]\n",
    "    dispositivoUsuarios[\"usuarios.hora\"] = dispositivoUsuarios[\"usuarios.fechaControl\"].str.split(\" \", n = 1, expand = True)[1].str.split(\":\", n = 2, expand = True)[0]\n",
    "    dispositivoUsuarios[\"usuarios.minuto\"] = dispositivoUsuarios[\"usuarios.fechaControl\"].str.split(\" \", n = 1, expand = True)[1].str.split(\":\", n = 2, expand = True)[1]\n",
    "    dispositivoUsuarios['@timestamp'] = now.isoformat()\n",
    "    \n",
    "   ############# aqui hacer cambio de variable  ################\n",
    "    ## El dataframe dispositivos usuarios debe contener los campos de use_these_keys de arriba\n",
    "    \n",
    "    dispositivoUsuarios=cambioVariable(dispositivoUsuarios)\n",
    "    \n",
    "    \n",
    "    salida = helpers.bulk(es, doc_tablero11(dataframeresultante))\n",
    "    print(\"Fecha: \", now,\"- Detalle MACs a indice:\",salida[0])\n",
    "\n",
    "except:\n",
    "    print(\"Fecha: \", now,\"- Ningún Detalle MACs para insertar en indice principal\")"
   ]
  },
  {
   "cell_type": "markdown",
   "metadata": {},
   "source": [
    "### Guardando fecha para control de ejecución"
   ]
  },
  {
   "cell_type": "markdown",
   "metadata": {},
   "source": [
    "* Se actualiza la fecha de control. Si el calculo supera la fecha hora actual, se asocia esta ultima."
   ]
  },
  {
   "cell_type": "code",
   "execution_count": 179,
   "metadata": {},
   "outputs": [
    {
     "name": "stdout",
     "output_type": "stream",
     "text": [
      "actualizada fecha control de ejecucion: 2021-05-06 06:40:00\n"
     ]
    }
   ],
   "source": [
    "fecha_ejecucion = (datetime.strptime(fecha_max_mintic, '%Y-%m-%d %H:%M:%S')+timedelta(minutes=10)).strftime(\"%Y-%m-%d %H:%M:%S\")[0:15] + '0:00'    \n",
    "\n",
    "if fecha_ejecucion > str(now.strftime('%Y-%m-%d %H:%M:%S'))[0:15] + '0:00':\n",
    "    fecha_ejecucion = str(now.strftime('%Y-%m-%d %H:%M:%S'))[0:15] + '0:00'\n",
    "response = es.index(\n",
    "        index = indice_control,\n",
    "        id = 'jerarquia-tablero11',\n",
    "        body = { 'jerarquia-tablero11': 'jerarquia-tablero11','tablero11.fechaControl' : fecha_ejecucion}\n",
    ")\n",
    "print(\"actualizada fecha control de ejecucion:\",fecha_ejecucion)"
   ]
  }
 ],
 "metadata": {
  "kernelspec": {
   "display_name": "Python 3",
   "language": "python",
   "name": "python3"
  },
  "language_info": {
   "codemirror_mode": {
    "name": "ipython",
    "version": 3
   },
   "file_extension": ".py",
   "mimetype": "text/x-python",
   "name": "python",
   "nbconvert_exporter": "python",
   "pygments_lexer": "ipython3",
   "version": "3.8.5"
  }
 },
 "nbformat": 4,
 "nbformat_minor": 4
}
