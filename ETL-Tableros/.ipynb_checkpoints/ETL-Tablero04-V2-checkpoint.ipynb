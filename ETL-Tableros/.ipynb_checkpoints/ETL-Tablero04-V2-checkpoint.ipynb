{
 "cells": [
  {
   "cell_type": "markdown",
   "metadata": {},
   "source": [
    "¿Que hace este script?\n",
    "* Calcula para cada dispositivo de red: trafico.totales.traficoIN, trafico.totales.traficoOUT', trafico.totales.consumoGB'.\n",
    "* Calcula para cada site_id: trafico.totales.sitio.traficoIN, trafico.totales.sitio.traficoOUT, trafico.totales.sitio.consumoGB"
   ]
  },
  {
   "cell_type": "code",
   "execution_count": 1,
   "metadata": {},
   "outputs": [],
   "source": [
    "from elasticsearch import Elasticsearch, helpers\n",
    "from ssl import create_default_context\n",
    "import pandas as pd\n",
    "import numpy as np\n",
    "from datetime import datetime, timedelta\n",
    "import parametros\n",
    "import re"
   ]
  },
  {
   "cell_type": "markdown",
   "metadata": {},
   "source": [
    "## Conectando a ElasticSearch"
   ]
  },
  {
   "cell_type": "markdown",
   "metadata": {},
   "source": [
    "La ultima línea se utiliza para garantizar la ejecución de la consulta\n",
    "* timeout es el tiempo para cada ejecución\n",
    "* max_retries el número de intentos si la conexión falla\n",
    "* retry_on_timeout para activar los reitentos"
   ]
  },
  {
   "cell_type": "code",
   "execution_count": 2,
   "metadata": {},
   "outputs": [],
   "source": [
    "context = create_default_context(cafile=parametros.cafile)\n",
    "es = Elasticsearch(\n",
    "    parametros.servidor,\n",
    "    http_auth=(parametros.usuario_EC, parametros.password_EC),\n",
    "    scheme=\"https\",\n",
    "    port=parametros.puerto,\n",
    "    ssl_context=context,\n",
    "    timeout=60, max_retries=3, retry_on_timeout=True\n",
    ") "
   ]
  },
  {
   "cell_type": "markdown",
   "metadata": {},
   "source": [
    "### Calculando fechas para la ejecución"
   ]
  },
  {
   "cell_type": "markdown",
   "metadata": {},
   "source": [
    "* Se calculan las fechas para asociar al nombre del indice\n",
    "* fecha_hoy es usada para concatenar al nombre del indice principal previa inserción"
   ]
  },
  {
   "cell_type": "code",
   "execution_count": 3,
   "metadata": {},
   "outputs": [],
   "source": [
    "now = datetime.now()\n",
    "fecha_hoy = str(now.strftime(\"%Y.%m.%d\"))"
   ]
  },
  {
   "cell_type": "markdown",
   "metadata": {},
   "source": [
    "### Definiendo indice principal con fecha de hoy"
   ]
  },
  {
   "cell_type": "markdown",
   "metadata": {},
   "source": [
    "Estos valores se deben ajustar según ambiente. No es automático ya que no hay separación de ambientes"
   ]
  },
  {
   "cell_type": "code",
   "execution_count": 4,
   "metadata": {},
   "outputs": [],
   "source": [
    "indice = parametros.trafico_tablero04_index\n",
    "indice_control = parametros.tableros_mintic_control"
   ]
  },
  {
   "cell_type": "markdown",
   "metadata": {},
   "source": [
    "### Función para generar JSON compatible con ES"
   ]
  },
  {
   "cell_type": "code",
   "execution_count": 5,
   "metadata": {},
   "outputs": [],
   "source": [
    "def filterKeys(document, use_these_keys):\n",
    "    return {key: document[key] for key in use_these_keys }"
   ]
  },
  {
   "cell_type": "markdown",
   "metadata": {},
   "source": [
    "### leyendo indice semilla-inventario"
   ]
  },
  {
   "cell_type": "markdown",
   "metadata": {},
   "source": [
    "En el script que ingesta semilla, trae la información de los centros de conexión administrados. Para el indice principal se requiere:\n",
    "\n",
    "* site_id como llave del centro de conexión.\n",
    "* Datos geográficos (Departamento, municipio, centro poblado, sede, energía, latitud, longitud, COD_ISO, entre otros)."
   ]
  },
  {
   "cell_type": "code",
   "execution_count": 6,
   "metadata": {},
   "outputs": [],
   "source": [
    "total_docs = 10000\n",
    "try:\n",
    "    response = es.search(\n",
    "        index= parametros.semilla_inventario_index,\n",
    "        body={\n",
    "               \"_source\": ['site_id','nombre_municipio', 'nombre_departamento', 'nombre_centro_pob', 'nombreSede' \n",
    "                           , 'energiadesc', 'latitud', 'longitud','COD_ISO','id_Beneficiario']\n",
    "        },\n",
    "        size=total_docs\n",
    "    )\n",
    "    #print(es.info())\n",
    "    elastic_docs = response[\"hits\"][\"hits\"]\n",
    "    fields = {}\n",
    "    for num, doc in enumerate(elastic_docs):\n",
    "        source_data = doc[\"_source\"]\n",
    "        for key, val in source_data.items():\n",
    "            try:\n",
    "                fields[key] = np.append(fields[key], val)\n",
    "            except KeyError:\n",
    "                fields[key] = np.array([val])\n",
    "\n",
    "    datos_semilla = pd.DataFrame(dict([ (k,pd.Series(v)) for k,v in fields.items() ])) #pd.DataFrame(fields)\n",
    "except:\n",
    "    print(\"fecha:\",now,\"- Error en lectura de datos semilla\")\n",
    "    #exit()\n",
    "    "
   ]
  },
  {
   "cell_type": "markdown",
   "metadata": {},
   "source": [
    "Se valida latitud y longitud, se genera campo location y se renombran los campos de semilla"
   ]
  },
  {
   "cell_type": "code",
   "execution_count": 7,
   "metadata": {},
   "outputs": [],
   "source": [
    "def get_location(x,y='lat'):\n",
    "    patron = re.compile('^(\\-?\\d+(\\.\\d+)?),\\s*(\\-?\\d+(\\.\\d+)?)$') #patrón que debe cumplir\n",
    "    if (not patron.match(x) is None) and (str(x)!=''):\n",
    "        return x.replace(',','.')\n",
    "    else:\n",
    "        #Código a ejecutar si las coordenadas no son válidas\n",
    "        return '4.596389' if y=='lat' else '-74.074639'\n",
    "    \n",
    "datos_semilla['latitud'] = datos_semilla['latitud'].apply(lambda x:get_location(x,'lat'))\n",
    "datos_semilla['longitud'] = datos_semilla['longitud'].apply(lambda x:get_location(x,'lon'))\n",
    "\n",
    "datos_semilla['trafico.location'] = datos_semilla['latitud'] + ',' + datos_semilla['longitud']\n",
    "datos_semilla['trafico.location']=datos_semilla['trafico.location'].str.replace('a,a','')\n",
    "datos_semilla.drop(columns=['latitud','longitud'],inplace=True)\n",
    "\n",
    "datos_semilla = datos_semilla.rename(columns={'nombre_municipio': 'trafico.nombreMunicipio'\n",
    "                                              , 'nombre_departamento' : 'trafico.nombreDepartamento'\n",
    "                                              , 'nombre_centro_pob': 'trafico.localidad'\n",
    "                                              , 'nombreSede' : 'trafico.nomCentroDigital'\n",
    "                                              , 'energiadesc' : 'trafico.sistemaEnergia'\n",
    "                                              , 'COD_ISO' : 'trafico.codISO'\n",
    "                                              , 'id_Beneficiario' : 'trafico.idBeneficiario'})\n",
    "datos_semilla.fillna('', inplace=True)"
   ]
  },
  {
   "cell_type": "code",
   "execution_count": 8,
   "metadata": {},
   "outputs": [
    {
     "data": {
      "text/html": [
       "<div>\n",
       "<style scoped>\n",
       "    .dataframe tbody tr th:only-of-type {\n",
       "        vertical-align: middle;\n",
       "    }\n",
       "\n",
       "    .dataframe tbody tr th {\n",
       "        vertical-align: top;\n",
       "    }\n",
       "\n",
       "    .dataframe thead th {\n",
       "        text-align: right;\n",
       "    }\n",
       "</style>\n",
       "<table border=\"1\" class=\"dataframe\">\n",
       "  <thead>\n",
       "    <tr style=\"text-align: right;\">\n",
       "      <th></th>\n",
       "      <th>trafico.nomCentroDigital</th>\n",
       "      <th>trafico.codISO</th>\n",
       "      <th>trafico.localidad</th>\n",
       "      <th>site_id</th>\n",
       "      <th>trafico.nombreDepartamento</th>\n",
       "      <th>trafico.sistemaEnergia</th>\n",
       "      <th>trafico.nombreMunicipio</th>\n",
       "      <th>trafico.idBeneficiario</th>\n",
       "      <th>trafico.location</th>\n",
       "    </tr>\n",
       "  </thead>\n",
       "  <tbody>\n",
       "    <tr>\n",
       "      <th>0</th>\n",
       "      <td>C.E.R LA PAULINA</td>\n",
       "      <td>CO-ANT</td>\n",
       "      <td>LA PAULINA</td>\n",
       "      <td>22154-ZGYO176</td>\n",
       "      <td>ANTIOQUIA</td>\n",
       "      <td>RED INTERCONECTADA</td>\n",
       "      <td>VALDIVIA</td>\n",
       "      <td>22154</td>\n",
       "      <td>6.7048548,-76.14525469</td>\n",
       "    </tr>\n",
       "    <tr>\n",
       "      <th>1</th>\n",
       "      <td>CENTRO EDUCATIVO RURAL EL CERRO</td>\n",
       "      <td>CO-ANT</td>\n",
       "      <td>EL CERRO</td>\n",
       "      <td>20022-ZGYO177</td>\n",
       "      <td>ANTIOQUIA</td>\n",
       "      <td>RED INTERCONECTADA</td>\n",
       "      <td>FRONTINO</td>\n",
       "      <td>20022</td>\n",
       "      <td>4.225166667,-73.10716667</td>\n",
       "    </tr>\n",
       "    <tr>\n",
       "      <th>2</th>\n",
       "      <td>C. E. R.  MERCEDES YEPES</td>\n",
       "      <td>CO-ANT</td>\n",
       "      <td>VDA. LA MESETA</td>\n",
       "      <td></td>\n",
       "      <td>ANTIOQUIA</td>\n",
       "      <td>RED INTERCONECTADA</td>\n",
       "      <td>ANORÍ</td>\n",
       "      <td>18787</td>\n",
       "      <td>6.93848274,-75.151177190</td>\n",
       "    </tr>\n",
       "    <tr>\n",
       "      <th>3</th>\n",
       "      <td>C. E. R. MEDIAS FALDAS</td>\n",
       "      <td>CO-ANT</td>\n",
       "      <td>VDA EL LIMÓN</td>\n",
       "      <td></td>\n",
       "      <td>ANTIOQUIA</td>\n",
       "      <td>TIENE ENERGÍA</td>\n",
       "      <td>ANORÍ</td>\n",
       "      <td>18802</td>\n",
       "      <td>7.04797951,-75.19442611</td>\n",
       "    </tr>\n",
       "    <tr>\n",
       "      <th>4</th>\n",
       "      <td>C. E. R.  ROSAURA ORTEGA</td>\n",
       "      <td>CO-ANT</td>\n",
       "      <td>BELLAVISTA</td>\n",
       "      <td></td>\n",
       "      <td>ANTIOQUIA</td>\n",
       "      <td>RED INTERCONECTADA</td>\n",
       "      <td>ANORÍ</td>\n",
       "      <td>18804</td>\n",
       "      <td>7.06272584,-75.22730972</td>\n",
       "    </tr>\n",
       "    <tr>\n",
       "      <th>...</th>\n",
       "      <td>...</td>\n",
       "      <td>...</td>\n",
       "      <td>...</td>\n",
       "      <td>...</td>\n",
       "      <td>...</td>\n",
       "      <td>...</td>\n",
       "      <td>...</td>\n",
       "      <td>...</td>\n",
       "      <td>...</td>\n",
       "    </tr>\n",
       "    <tr>\n",
       "      <th>6942</th>\n",
       "      <td>ESCUELA SANTA ISABEL</td>\n",
       "      <td>CO-VAU</td>\n",
       "      <td>COMUNIDAD SANTA ISABEL</td>\n",
       "      <td></td>\n",
       "      <td>VAUPÉS</td>\n",
       "      <td>SOLUCIÓN SOLAR</td>\n",
       "      <td>PACOA</td>\n",
       "      <td>67733</td>\n",
       "      <td>6.39026335,-73.138349330</td>\n",
       "    </tr>\n",
       "    <tr>\n",
       "      <th>6943</th>\n",
       "      <td>ESCUELA RURAL DE SAN LUIS DE PIEDRA ÑI</td>\n",
       "      <td>CO-VAU</td>\n",
       "      <td>COMUNIDAD DE SAN LUIS</td>\n",
       "      <td></td>\n",
       "      <td>VAUPÉS</td>\n",
       "      <td>SIN INFORMACIÓN</td>\n",
       "      <td>PACOA</td>\n",
       "      <td>70622</td>\n",
       "      <td>0.08164385,-70.07416384</td>\n",
       "    </tr>\n",
       "    <tr>\n",
       "      <th>6944</th>\n",
       "      <td>ESCUELA RURAL DE SANTA ROSA</td>\n",
       "      <td>CO-VAU</td>\n",
       "      <td>COMUNIDAD DE SANTA ROSA</td>\n",
       "      <td></td>\n",
       "      <td>VAUPÉS</td>\n",
       "      <td>SIN INFORMACIÓN</td>\n",
       "      <td>PACOA</td>\n",
       "      <td>70623</td>\n",
       "      <td>4.596389,-74.074639</td>\n",
       "    </tr>\n",
       "    <tr>\n",
       "      <th>6945</th>\n",
       "      <td>ESCUELA RURAL DE TOAKA</td>\n",
       "      <td>CO-VAU</td>\n",
       "      <td>COMUNIDAD DE TOAKA</td>\n",
       "      <td></td>\n",
       "      <td>VAUPÉS</td>\n",
       "      <td>SIN INFORMACIÓN</td>\n",
       "      <td>PACOA</td>\n",
       "      <td>70624</td>\n",
       "      <td>1.007644476,-71.25103723</td>\n",
       "    </tr>\n",
       "    <tr>\n",
       "      <th>6946</th>\n",
       "      <td>ESCUELA SAMUEL DE PUERTO ESPERANZA</td>\n",
       "      <td>CO-VAU</td>\n",
       "      <td>PUERTO ESPERANZA</td>\n",
       "      <td></td>\n",
       "      <td>VAUPÉS</td>\n",
       "      <td>NO TIENE ENERGÍA</td>\n",
       "      <td>CARURÚ</td>\n",
       "      <td>70625</td>\n",
       "      <td>2.56013117,-72.64258639</td>\n",
       "    </tr>\n",
       "  </tbody>\n",
       "</table>\n",
       "<p>6947 rows × 9 columns</p>\n",
       "</div>"
      ],
      "text/plain": [
       "                    trafico.nomCentroDigital trafico.codISO  \\\n",
       "0                           C.E.R LA PAULINA         CO-ANT   \n",
       "1            CENTRO EDUCATIVO RURAL EL CERRO         CO-ANT   \n",
       "2                   C. E. R.  MERCEDES YEPES         CO-ANT   \n",
       "3                     C. E. R. MEDIAS FALDAS         CO-ANT   \n",
       "4                   C. E. R.  ROSAURA ORTEGA         CO-ANT   \n",
       "...                                      ...            ...   \n",
       "6942                    ESCUELA SANTA ISABEL         CO-VAU   \n",
       "6943  ESCUELA RURAL DE SAN LUIS DE PIEDRA ÑI         CO-VAU   \n",
       "6944             ESCUELA RURAL DE SANTA ROSA         CO-VAU   \n",
       "6945                  ESCUELA RURAL DE TOAKA         CO-VAU   \n",
       "6946      ESCUELA SAMUEL DE PUERTO ESPERANZA         CO-VAU   \n",
       "\n",
       "            trafico.localidad        site_id trafico.nombreDepartamento  \\\n",
       "0                  LA PAULINA  22154-ZGYO176                  ANTIOQUIA   \n",
       "1                    EL CERRO  20022-ZGYO177                  ANTIOQUIA   \n",
       "2              VDA. LA MESETA                                 ANTIOQUIA   \n",
       "3                VDA EL LIMÓN                                 ANTIOQUIA   \n",
       "4                  BELLAVISTA                                 ANTIOQUIA   \n",
       "...                       ...            ...                        ...   \n",
       "6942   COMUNIDAD SANTA ISABEL                                    VAUPÉS   \n",
       "6943    COMUNIDAD DE SAN LUIS                                    VAUPÉS   \n",
       "6944  COMUNIDAD DE SANTA ROSA                                    VAUPÉS   \n",
       "6945       COMUNIDAD DE TOAKA                                    VAUPÉS   \n",
       "6946         PUERTO ESPERANZA                                    VAUPÉS   \n",
       "\n",
       "     trafico.sistemaEnergia trafico.nombreMunicipio  trafico.idBeneficiario  \\\n",
       "0        RED INTERCONECTADA                VALDIVIA                   22154   \n",
       "1        RED INTERCONECTADA                FRONTINO                   20022   \n",
       "2        RED INTERCONECTADA                   ANORÍ                   18787   \n",
       "3             TIENE ENERGÍA                   ANORÍ                   18802   \n",
       "4        RED INTERCONECTADA                   ANORÍ                   18804   \n",
       "...                     ...                     ...                     ...   \n",
       "6942       SOLUCIÓN SOLAR                     PACOA                   67733   \n",
       "6943        SIN INFORMACIÓN                   PACOA                   70622   \n",
       "6944        SIN INFORMACIÓN                   PACOA                   70623   \n",
       "6945        SIN INFORMACIÓN                   PACOA                   70624   \n",
       "6946       NO TIENE ENERGÍA                  CARURÚ                   70625   \n",
       "\n",
       "              trafico.location  \n",
       "0       6.7048548,-76.14525469  \n",
       "1     4.225166667,-73.10716667  \n",
       "2     6.93848274,-75.151177190  \n",
       "3      7.04797951,-75.19442611  \n",
       "4      7.06272584,-75.22730972  \n",
       "...                        ...  \n",
       "6942  6.39026335,-73.138349330  \n",
       "6943   0.08164385,-70.07416384  \n",
       "6944       4.596389,-74.074639  \n",
       "6945  1.007644476,-71.25103723  \n",
       "6946   2.56013117,-72.64258639  \n",
       "\n",
       "[6947 rows x 9 columns]"
      ]
     },
     "execution_count": 8,
     "metadata": {},
     "output_type": "execute_result"
    }
   ],
   "source": [
    "datos_semilla"
   ]
  },
  {
   "cell_type": "markdown",
   "metadata": {},
   "source": [
    "### leyendo indice cambium-devicedevices"
   ]
  },
  {
   "cell_type": "markdown",
   "metadata": {},
   "source": [
    "Se lee la información de los dispositivos de red monitoreados por Cambium. En esta lectura no hay referencia de fechas ya que solo hay una ocurrencia por MAC de dispositivo de red.\n",
    "\n",
    "* site_id es la llave para cruzar con cada centro de conexión.\n",
    "* mac, IP y name son datos básicos del dispositivo.\n",
    "* ap_group identifica los dispositivos como INDOOR u OUTDOOR"
   ]
  },
  {
   "cell_type": "code",
   "execution_count": 9,
   "metadata": {},
   "outputs": [
    {
     "data": {
      "text/plain": [
       "'cambium-devicedevices'"
      ]
     },
     "execution_count": 9,
     "metadata": {},
     "output_type": "execute_result"
    }
   ],
   "source": [
    "parametros.cambium_d_d_index"
   ]
  },
  {
   "cell_type": "code",
   "execution_count": 10,
   "metadata": {},
   "outputs": [],
   "source": [
    "total_docs = 30000\n",
    "try:\n",
    "    response = es.search(\n",
    "        index= parametros.cambium_d_d_index,\n",
    "        body={\n",
    "                    \"_source\": [\"site_id\",\"mac\",\"ip\",\"ap_group\",\"name\"]  \n",
    "                  , \"query\": {\n",
    "                    \"match_all\": {}\n",
    "                  }\n",
    "        },\n",
    "        size=total_docs\n",
    "    )\n",
    "    #print(es.info())\n",
    "    elastic_docs = response[\"hits\"][\"hits\"]\n",
    "#     fields = {}\n",
    "#     for num, doc in enumerate(elastic_docs):\n",
    "#         source_data = doc[\"_source\"]\n",
    "#         for key, val in source_data.items():\n",
    "#             try:\n",
    "#                 fields[key] = np.append(fields[key], val)\n",
    "#             except KeyError:\n",
    "#                 fields[key] = np.array([val])\n",
    "\n",
    "#     datos_dev = pd.DataFrame(dict([ (k,pd.Series(v)) for k,v in fields.items() ])) #pd.DataFrame(fields)\n",
    "    \n",
    "    datos_dev = pd.DataFrame([x[\"_source\"] for x in elastic_docs])\n",
    "except:\n",
    "    exit()"
   ]
  },
  {
   "cell_type": "code",
   "execution_count": 11,
   "metadata": {},
   "outputs": [
    {
     "data": {
      "text/html": [
       "<div>\n",
       "<style scoped>\n",
       "    .dataframe tbody tr th:only-of-type {\n",
       "        vertical-align: middle;\n",
       "    }\n",
       "\n",
       "    .dataframe tbody tr th {\n",
       "        vertical-align: top;\n",
       "    }\n",
       "\n",
       "    .dataframe thead th {\n",
       "        text-align: right;\n",
       "    }\n",
       "</style>\n",
       "<table border=\"1\" class=\"dataframe\">\n",
       "  <thead>\n",
       "    <tr style=\"text-align: right;\">\n",
       "      <th></th>\n",
       "      <th>ap_group</th>\n",
       "      <th>ip</th>\n",
       "      <th>name</th>\n",
       "      <th>site_id</th>\n",
       "      <th>mac</th>\n",
       "    </tr>\n",
       "  </thead>\n",
       "  <tbody>\n",
       "    <tr>\n",
       "      <th>0</th>\n",
       "      <td>INDOOR-44745-ZGYO227</td>\n",
       "      <td>172.28.118.179</td>\n",
       "      <td>44745-ZGYO227-AP-INT</td>\n",
       "      <td>44745-ZGYO227</td>\n",
       "      <td>BC:E6:7C:5E:66:88</td>\n",
       "    </tr>\n",
       "    <tr>\n",
       "      <th>1</th>\n",
       "      <td>OUTDOOR</td>\n",
       "      <td>172.28.118.180</td>\n",
       "      <td>44745-ZGYO227-AP-EXT2</td>\n",
       "      <td>44745-ZGYO227</td>\n",
       "      <td>58:C1:7A:E9:C9:6F</td>\n",
       "    </tr>\n",
       "    <tr>\n",
       "      <th>2</th>\n",
       "      <td>OUTDOOR</td>\n",
       "      <td>172.28.118.181</td>\n",
       "      <td>44745-ZGYO227-AP-EXT1</td>\n",
       "      <td>44745-ZGYO227</td>\n",
       "      <td>58:C1:7A:E9:C8:5C</td>\n",
       "    </tr>\n",
       "    <tr>\n",
       "      <th>3</th>\n",
       "      <td>INDOOR_44747-ZGYO413</td>\n",
       "      <td>172.28.118.171</td>\n",
       "      <td>44747-ZGYO413-AP-INT</td>\n",
       "      <td>44747-ZGYO413</td>\n",
       "      <td>BC:E6:7C:ED:F2:4F</td>\n",
       "    </tr>\n",
       "    <tr>\n",
       "      <th>4</th>\n",
       "      <td>OUTDOOR</td>\n",
       "      <td>172.28.118.172</td>\n",
       "      <td>44747-ZGYO413-AP-EXT-1</td>\n",
       "      <td>44747-ZGYO413</td>\n",
       "      <td>BC:E6:7C:4F:07:88</td>\n",
       "    </tr>\n",
       "    <tr>\n",
       "      <th>...</th>\n",
       "      <td>...</td>\n",
       "      <td>...</td>\n",
       "      <td>...</td>\n",
       "      <td>...</td>\n",
       "      <td>...</td>\n",
       "    </tr>\n",
       "    <tr>\n",
       "      <th>4500</th>\n",
       "      <td>OUTDOOR</td>\n",
       "      <td>172.25.84.77</td>\n",
       "      <td>37717-ZZZY751-AP-EXT2</td>\n",
       "      <td>37717-ZZZY751</td>\n",
       "      <td>BC:A9:93:0C:E3:1D</td>\n",
       "    </tr>\n",
       "    <tr>\n",
       "      <th>4501</th>\n",
       "      <td>INDOOR_47123-ZGYO420</td>\n",
       "      <td>172.25.38.243</td>\n",
       "      <td>47123-ZGYO420-AP-INT</td>\n",
       "      <td>47123-ZGYO420</td>\n",
       "      <td>BC:E6:7C:ED:8A:EA</td>\n",
       "    </tr>\n",
       "    <tr>\n",
       "      <th>4502</th>\n",
       "      <td></td>\n",
       "      <td>172.25.62.188</td>\n",
       "      <td>48314-ZZZY828-AP-EXT1</td>\n",
       "      <td>48314-ZZZY828</td>\n",
       "      <td>BC:A9:93:00:30:9C</td>\n",
       "    </tr>\n",
       "    <tr>\n",
       "      <th>4503</th>\n",
       "      <td></td>\n",
       "      <td>172.25.51.236</td>\n",
       "      <td>OUDOOR1</td>\n",
       "      <td>37609-ZGYO786</td>\n",
       "      <td>BC:E6:7C:E8:CE:51</td>\n",
       "    </tr>\n",
       "    <tr>\n",
       "      <th>4504</th>\n",
       "      <td>OUTDOOR</td>\n",
       "      <td>172.25.60.212</td>\n",
       "      <td>47847-VZVF114-AP-EXT1</td>\n",
       "      <td>47847-VZVF114</td>\n",
       "      <td>BC:A9:93:00:97:B7</td>\n",
       "    </tr>\n",
       "  </tbody>\n",
       "</table>\n",
       "<p>4505 rows × 5 columns</p>\n",
       "</div>"
      ],
      "text/plain": [
       "                  ap_group              ip                    name  \\\n",
       "0     INDOOR-44745-ZGYO227  172.28.118.179    44745-ZGYO227-AP-INT   \n",
       "1                  OUTDOOR  172.28.118.180   44745-ZGYO227-AP-EXT2   \n",
       "2                  OUTDOOR  172.28.118.181   44745-ZGYO227-AP-EXT1   \n",
       "3     INDOOR_44747-ZGYO413  172.28.118.171    44747-ZGYO413-AP-INT   \n",
       "4                  OUTDOOR  172.28.118.172  44747-ZGYO413-AP-EXT-1   \n",
       "...                    ...             ...                     ...   \n",
       "4500               OUTDOOR    172.25.84.77   37717-ZZZY751-AP-EXT2   \n",
       "4501  INDOOR_47123-ZGYO420   172.25.38.243    47123-ZGYO420-AP-INT   \n",
       "4502                         172.25.62.188   48314-ZZZY828-AP-EXT1   \n",
       "4503                         172.25.51.236                 OUDOOR1   \n",
       "4504               OUTDOOR   172.25.60.212   47847-VZVF114-AP-EXT1   \n",
       "\n",
       "            site_id                mac  \n",
       "0     44745-ZGYO227  BC:E6:7C:5E:66:88  \n",
       "1     44745-ZGYO227  58:C1:7A:E9:C9:6F  \n",
       "2     44745-ZGYO227  58:C1:7A:E9:C8:5C  \n",
       "3     44747-ZGYO413  BC:E6:7C:ED:F2:4F  \n",
       "4     44747-ZGYO413  BC:E6:7C:4F:07:88  \n",
       "...             ...                ...  \n",
       "4500  37717-ZZZY751  BC:A9:93:0C:E3:1D  \n",
       "4501  47123-ZGYO420  BC:E6:7C:ED:8A:EA  \n",
       "4502  48314-ZZZY828  BC:A9:93:00:30:9C  \n",
       "4503  37609-ZGYO786  BC:E6:7C:E8:CE:51  \n",
       "4504  47847-VZVF114  BC:A9:93:00:97:B7  \n",
       "\n",
       "[4505 rows x 5 columns]"
      ]
     },
     "execution_count": 11,
     "metadata": {},
     "output_type": "execute_result"
    }
   ],
   "source": [
    "datos_dev"
   ]
  },
  {
   "cell_type": "markdown",
   "metadata": {},
   "source": [
    "Se descartan registros con site_id vacios y se limpian los NaN del dataframe"
   ]
  },
  {
   "cell_type": "code",
   "execution_count": 12,
   "metadata": {},
   "outputs": [],
   "source": [
    "datos_dev.dropna(subset=['site_id'])\n",
    "datos_dev.fillna('', inplace=True)\n",
    "datos_dev = datos_dev.drop(datos_dev[(datos_dev['site_id']=='')].index)\n",
    "datos_dev.sort_values(['site_id','ap_group'], inplace=True)"
   ]
  },
  {
   "cell_type": "markdown",
   "metadata": {},
   "source": [
    "Se limpian datos mal formados de ap_group"
   ]
  },
  {
   "cell_type": "code",
   "execution_count": 13,
   "metadata": {},
   "outputs": [],
   "source": [
    "datos_dev['ap_group'] = datos_dev['ap_group'].str.split(\"-\", n = 1, expand = True)[0]\n",
    "datos_dev['ap_group'] = datos_dev['ap_group'].str.split(\"_\", n = 1, expand = True)[0]\n",
    "datos_dev = datos_dev.drop(datos_dev[(datos_dev['ap_group']=='')].index)"
   ]
  },
  {
   "cell_type": "code",
   "execution_count": 14,
   "metadata": {},
   "outputs": [],
   "source": [
    "datos_dev = datos_dev.drop_duplicates('mac')"
   ]
  },
  {
   "cell_type": "markdown",
   "metadata": {},
   "source": [
    "Se renombran campos según formato del indice final"
   ]
  },
  {
   "cell_type": "code",
   "execution_count": 15,
   "metadata": {},
   "outputs": [],
   "source": [
    "datos_dev = datos_dev.rename(columns={'ap_mac' : 'trafico.macRed','ap_group': 'trafico.apGroup'\n",
    "                                        , 'ip': 'trafico.IP'\n",
    "                                        , 'mac' : 'trafico.macRed'\n",
    "                                        , 'name' : 'trafico.deviceName'})"
   ]
  },
  {
   "cell_type": "markdown",
   "metadata": {},
   "source": [
    "### Trae la ultima fecha para control de ejecución"
   ]
  },
  {
   "cell_type": "markdown",
   "metadata": {},
   "source": [
    "Cuando en el rango de tiempo de la ejecución, no se insertan nuevos valores, las fecha maxima en indice mintic no aumenta, por tanto se usa esta fecha de control para garantizar que incremente el bucle de ejecución"
   ]
  },
  {
   "cell_type": "code",
   "execution_count": 16,
   "metadata": {},
   "outputs": [],
   "source": [
    "# indice_control"
   ]
  },
  {
   "cell_type": "code",
   "execution_count": 17,
   "metadata": {},
   "outputs": [
    {
     "name": "stdout",
     "output_type": "stream",
     "text": [
      "ultima fecha para control de ejecucion: 2021-05-01 00:00:00\n"
     ]
    }
   ],
   "source": [
    "total_docs = 1\n",
    "try:\n",
    "    response = es.search(\n",
    "        index= indice_control,\n",
    "        body={\n",
    "               \"_source\": [\"trafico.fechaControl\"],\n",
    "              \"query\": {\n",
    "                \"bool\": {\n",
    "                  \"filter\": [\n",
    "                  {\n",
    "                    \"exists\": {\n",
    "                      \"field\":\"jerarquia_trafico_conectados\"\n",
    "                    }\n",
    "                  }\n",
    "                  ]\n",
    "                }\n",
    "              }\n",
    "        },\n",
    "        size=total_docs\n",
    "    )\n",
    "    #print(es.info())\n",
    "    elastic_docs = response[\"hits\"][\"hits\"]\n",
    "    fields = {}\n",
    "    for num, doc in enumerate(elastic_docs):\n",
    "        fecha_ejecucion = doc[\"_source\"]['trafico.fechaControl']\n",
    "except:\n",
    "    fecha_ejecucion = '2021-05-01 00:00:00'\n",
    "if response[\"hits\"][\"hits\"] == []:\n",
    "    fecha_ejecucion = '2021-05-01 00:00:00'\n",
    "print(\"ultima fecha para control de ejecucion:\",fecha_ejecucion)"
   ]
  },
  {
   "cell_type": "markdown",
   "metadata": {},
   "source": [
    "## Se lee la información de cambium device performance"
   ]
  },
  {
   "cell_type": "markdown",
   "metadata": {},
   "source": [
    " Se toma los valores de dispositivos de red y su desempeño.\n",
    " * mac del dispositivo de red\n",
    " * timestamp es la fecha y hora de la medición\n",
    " * radio.* volumen de datos descargados(r) y cargados(t)"
   ]
  },
  {
   "cell_type": "code",
   "execution_count": 18,
   "metadata": {},
   "outputs": [],
   "source": [
    "def traePerformance(fecha_max,fecha_tope):\n",
    "    total_docs = 5000000\n",
    "    response = es.search(\n",
    "        index= parametros.cambium_d_p_index,\n",
    "        body={\n",
    "                \"_source\": [\"mac\",\"timestamp\",\"radio.5ghz.rx_bps\",\n",
    "                           \"radio.5ghz.tx_bps\",\"radio.24ghz.rx_bps\"\n",
    "                          ,\"radio.24ghz.tx_bps\"]\n",
    "              , \"query\": {\n",
    "                  \"range\": {\n",
    "                    \"timestamp\": {\n",
    "                      \"gte\": fecha_max,\n",
    "                      \"lt\": fecha_tope\n",
    "                    }\n",
    "                  }\n",
    "              }\n",
    "        },\n",
    "        size=total_docs\n",
    "    )\n",
    "    elastic_docs = response[\"hits\"][\"hits\"]\n",
    "#     fields = {}\n",
    "#     for num, doc in enumerate(elastic_docs):\n",
    "#         source_data = doc[\"_source\"]\n",
    "#         for key, val in source_data.items():\n",
    "#             try:\n",
    "#                 fields[key] = np.append(fields[key], val)\n",
    "#             except KeyError:\n",
    "#                 fields[key] = np.array([val])\n",
    "\n",
    "#     return pd.DataFrame(dict([ (k,pd.Series(v)) for k,v in fields.items() ]))\n",
    "\n",
    "    return pd.DataFrame([x[\"_source\"] for x in elastic_docs])"
   ]
  },
  {
   "cell_type": "markdown",
   "metadata": {},
   "source": [
    "### Lanzando  ejecución de consulta"
   ]
  },
  {
   "cell_type": "markdown",
   "metadata": {},
   "source": [
    "* Se calcula rango en base a la fecha de control. Para este caso es de 10 minutos.\n",
    "* Se ejecuta la función de consulta con el rango de fechas.\n",
    "* Si no retorna datos se incrementa el rango y se ejecuta nuevamente. Este proceso se repite hasta conseguir datos o hasta que el rango de ejecución alcance la fecha y hora actual."
   ]
  },
  {
   "cell_type": "code",
   "execution_count": 19,
   "metadata": {},
   "outputs": [],
   "source": [
    "fecha_max_mintic = fecha_ejecucion\n",
    "fecha_tope_mintic = (datetime.strptime(fecha_max_mintic, '%Y-%m-%d %H:%M:%S')+timedelta(minutes=10)-timedelta(seconds=1)).strftime(\"%Y-%m-%d %H:%M:%S\")\n",
    "datos_performance = traePerformance(fecha_max_mintic,fecha_tope_mintic)\n",
    "\n",
    "if datos_performance is None or datos_performance.empty:\n",
    "    while (datos_performance is None or datos_performance.empty) and ((datetime.strptime(fecha_max_mintic[0:10], '%Y-%m-%d').strftime(\"%Y-%m-%d %H:%M:%S\")) < str(now.strftime(\"%Y-%m-%d %H:%M:%S\"))):\n",
    "        fecha_max_mintic = (datetime.strptime(fecha_max_mintic, '%Y-%m-%d %H:%M:%S')+timedelta(minutes=10)).strftime(\"%Y-%m-%d %H:%M:%S\")\n",
    "        fecha_tope_mintic = (datetime.strptime(fecha_tope_mintic, '%Y-%m-%d %H:%M:%S')+timedelta(minutes=10)).strftime(\"%Y-%m-%d %H:%M:%S\")\n",
    "        datos_performance = traePerformance(fecha_max_mintic,fecha_tope_mintic)\n",
    "else:\n",
    "    pass"
   ]
  },
  {
   "cell_type": "code",
   "execution_count": 20,
   "metadata": {},
   "outputs": [],
   "source": [
    "#datos_performance = traePerformance('2021-06-10 09:00:00','2021-06-10 10:00:00')"
   ]
  },
  {
   "cell_type": "markdown",
   "metadata": {},
   "source": [
    "funcion para insertar en indice: "
   ]
  },
  {
   "cell_type": "code",
   "execution_count": 21,
   "metadata": {},
   "outputs": [],
   "source": [
    "use_these_keys = [  'trafico.tablero4.apGroup',\n",
    "                    'trafico.tablero4.concurrenciaConexiones',\n",
    "                    'trafico.tablero4.idBeneficiario',\n",
    "                    'trafico.tablero4.localidad'\n",
    "                    'trafico.tablero4.location',\n",
    "                    'trafico.tablero4.macRed',\n",
    "                    'trafico.tablero4.nombreDepartamento',\n",
    "                    'trafico.tablero4.nombreMunicipio',\n",
    "                    'trafico.tablero4.nomCentroDigital',\n",
    "                    'trafico.tablero4.siteID',\n",
    "                    'trafico.tablero4.totales.cantDev',\n",
    "                    'trafico.tablero4.totales.cantDevConectados',\n",
    "                    'trafico.tablero4.totales.cantDevConectadosLAN',\n",
    "                    'trafico.tablero4.totales.cantDevConectadosWAN',\n",
    "                    'trafico.tablero4.totales.cantDevDesconectados',\n",
    "                    'trafico.tablero4.totales.cantDevDesconectadosLAN',\n",
    "                    'trafico.tablero4.totales.cantDevDesconectadosWAN',\n",
    "                    'trafico.tablero4.totales.consumoGB',\n",
    "                    'trafico.tablero4.totales.fecha',\n",
    "                    'trafico.tablero4.totales.anyo',\n",
    "                    'trafico.tablero4.totales.mes',\n",
    "                    'trafico.tablero4.totales.dia',\n",
    "                    'trafico.tablero4.totales.hora',\n",
    "                    'trafico.tablero4.totales.totalConexiones',\n",
    "                     '@timestamp']\n",
    "\n",
    "def doc_generator(df, use_these_keys):\n",
    "    df_iter = df.iterrows()\n",
    "    for index, document in df_iter:\n",
    "        yield {\n",
    "                \"_index\": indice, \n",
    "                \"_id\": f\"{'consumo-' + document['trafico.tablero4.siteID'] + '-' +  document['trafico.tablero4.macRed'] + '-' + document['trafico.tablero4.totales.fecha']}\", \n",
    "                \"_source\": filterKeys(document, use_these_keys),\n",
    "            }"
   ]
  },
  {
   "cell_type": "markdown",
   "metadata": {},
   "source": [
    "# Insertando consumo a indice "
   ]
  },
  {
   "cell_type": "markdown",
   "metadata": {},
   "source": [
    "* Calculo de indicadores de consumos para cada AP. \n",
    "* Se toman los valores de rx y tx como descarga y carga\n",
    "* de datos_dev se toma el site_id y el ap_group"
   ]
  },
  {
   "cell_type": "code",
   "execution_count": 27,
   "metadata": {},
   "outputs": [],
   "source": [
    "\n",
    "datos_performance['fecha_control'] = datos_performance[\"timestamp\"].str[0:-4] + '0:00'\n",
    "datos_performance.rename(columns={'mac': 'trafico.macRed'}, inplace=True)\n",
    "datos_performance.replace('','0',inplace=True)\n",
    "datos_performance.fillna({'radio.5ghz.rx_bps':0, 'radio.5ghz.tx_bps':0,\n",
    "                  'radio.24ghz.rx_bps':0, 'radio.24ghz.tx_bps':0 },inplace=True)\n",
    "datos_performance[['radio.5ghz.rx_bps','radio.5ghz.tx_bps','radio.24ghz.rx_bps','radio.24ghz.tx_bps']] = datos_performance[['radio.5ghz.rx_bps','radio.5ghz.tx_bps','radio.24ghz.rx_bps','radio.24ghz.tx_bps']].astype(int)\n",
    "\n",
    "aux_performance=datos_performance[['trafico.macRed','fecha_control'\n",
    "                                   ,'radio.5ghz.rx_bps'\n",
    "                                   ,'radio.5ghz.tx_bps'\n",
    "                                   ,'radio.24ghz.rx_bps'\n",
    "                                   ,'radio.24ghz.tx_bps']].groupby(['trafico.macRed','fecha_control']).agg(['sum']).reset_index()\n",
    "aux_performance.columns = aux_performance.columns.droplevel(1)\n",
    "aux_performance['trafico.totales.traficoIN_aux'] = aux_performance['radio.5ghz.rx_bps'] + aux_performance['radio.24ghz.rx_bps']\n",
    "aux_performance['trafico.totales.traficoOUT_aux'] = aux_performance['radio.5ghz.tx_bps'] + aux_performance['radio.24ghz.tx_bps']\n",
    "\n",
    "aux_performance = pd.merge(aux_performance, datos_dev, on='trafico.macRed',how='inner')\n",
    "\n",
    "mintic_02 = pd.merge(datos_semilla,  aux_performance, on='site_id',how='inner')\n",
    "\n",
    "#La información de tráfico se convierte a GigaBytes y se toman 6 decimales\n",
    "mintic_02['trafico.totales.traficoIN'] = round((mintic_02['trafico.totales.traficoIN_aux']/float(1<<30)),6)\n",
    "mintic_02['trafico.totales.traficoOUT'] = round((mintic_02['trafico.totales.traficoOUT_aux']/float(1<<30)),6)\n",
    "mintic_02['trafico.totales.consumoGB'] = mintic_02['trafico.totales.traficoIN'] + mintic_02['trafico.totales.traficoOUT']\n",
    "#Se totaliza entrante y saliente\n",
    "mintic_02['trafico.totales.consumoGB'] = round(mintic_02['trafico.totales.consumoGB'],6)\n",
    "\n",
    "### Generando columnas con fecha, anyo, mes, dia, hora y minuto por separado\n",
    "mintic_02[\"trafico.totales.fecha\"] = mintic_02[\"fecha_control\"].str.split(\" \", n = 1, expand = True)[0]\n",
    "mintic_02[\"trafico.totales.hora\"] = mintic_02[\"fecha_control\"].str.split(\" \", n = 1, expand = True)[1].str.split(\":\", n = 2, expand = True)[0]\n",
    "mintic_02[\"trafico.totales.minuto\"] = mintic_02[\"fecha_control\"].str.split(\" \", n = 1, expand = True)[1].str.split(\":\", n = 2, expand = True)[1]\n",
    "mintic_02[\"trafico.totales.anyo\"] = mintic_02[\"trafico.totales.fecha\"].str[0:4]\n",
    "mintic_02[\"trafico.totales.mes\"] = mintic_02[\"trafico.totales.fecha\"].str[5:7]\n",
    "mintic_02[\"trafico.totales.dia\"] = mintic_02[\"trafico.totales.fecha\"].str[8:10]\n",
    "### Renombrado de campos\n",
    "mintic_02.rename(columns={'site_id': 'trafico.siteID'\n",
    "                         ,'fecha_control' : 'trafico.totales.fechaControl'}, inplace=True)\n",
    "\n",
    "##nulos a cero\n",
    "mintic_02.fillna({'trafico.totales.consumoGB':0,\n",
    "                  'trafico.totales.traficoIN':0,\n",
    "                  'trafico.totales.traficoOUT':0\n",
    "                  },inplace=True)\n",
    "#cambia valores a tipo float\n",
    "mintic_02[['trafico.totales.consumoGB','trafico.totales.traficoIN','trafico.totales.traficoOUT']] = mintic_02[['trafico.totales.consumoGB','trafico.totales.traficoIN','trafico.totales.traficoOUT']].astype(float)\n",
    "\n",
    "mintic_02['nombreDepartamento'] = mintic_02['trafico.nombreDepartamento']\n",
    "mintic_02['nombreMunicipio'] = mintic_02['trafico.nombreMunicipio']\n",
    "mintic_02['idBeneficiario'] = mintic_02['trafico.idBeneficiario']\n",
    "mintic_02['fecha'] = mintic_02['trafico.totales.fecha']\n",
    "mintic_02['anyo'] = mintic_02['trafico.totales.anyo']\n",
    "mintic_02['mes'] = mintic_02['trafico.totales.mes']\n",
    "mintic_02['dia'] = mintic_02['trafico.totales.dia']\n",
    "mintic_02['@timestamp'] = now.isoformat()\n",
    "\n",
    "#salida = helpers.bulk(es, doc_generator(mintic_02))\n",
    "\n",
    "#print(\"Fecha: \", now,\"- Datos Trafico Consumos en indice principal:\",salida[0])\n",
    "\n",
    "#print(\"Fecha: \", now,\"- No se insertaron datos de consumos en indice principal\")\n",
    "#pass"
   ]
  },
  {
   "cell_type": "code",
   "execution_count": 28,
   "metadata": {},
   "outputs": [],
   "source": [
    "# 'trafico.apGroup' in mintic_02.columns"
   ]
  },
  {
   "cell_type": "markdown",
   "metadata": {},
   "source": [
    "## En otra  jerarquía se escriben los dispositivos conectados"
   ]
  },
  {
   "cell_type": "markdown",
   "metadata": {},
   "source": [
    "Se toma el dataframe del proceso anterior para realizar el siguiente proceso:\n",
    "* Se cuentan la cantidad de dispositivos WAN/LAN (OUTDOOR/INDOOR), agrupando por fecha y sitio\n",
    "* Cantidad dispositivos WAN/LAN conectados se calcula validando cuando son OUTDOOR/INDOOR y tienen trafico(traficoOUT)\n",
    "* Cantidad de dispositivos desconectados, restando los dos anteriores\n",
    "\n",
    "Datos generados\n",
    "* trafico.totales.cantDevWAN\n",
    "* trafico.totales.cantDevLAN\n",
    "* trafico.totales.cantDevConectadosWAN\n",
    "* trafico.totales.cantDevDesconectadosWAN\n",
    "* trafico.totales.cantDevConectadosLAN\n",
    "* trafico.totales.cantDevDesconectadosLAN\n",
    "* trafico.totales.cantDev"
   ]
  },
  {
   "cell_type": "code",
   "execution_count": 29,
   "metadata": {},
   "outputs": [],
   "source": [
    "try:\n",
    "    mintic_03 = mintic_02[['trafico.nomCentroDigital',\n",
    "                      'trafico.codISO',\n",
    "                      'trafico.localidad',\n",
    "                      'trafico.location',\n",
    "                      'trafico.siteID',\n",
    "                      'trafico.nombreDepartamento',\n",
    "                      'trafico.sistemaEnergia',\n",
    "                      'trafico.nombreMunicipio',\n",
    "                      'trafico.idBeneficiario',\n",
    "                      'trafico.totales.fechaControl',\n",
    "                      'trafico.totales.fecha',\n",
    "                      'trafico.totales.anyo',\n",
    "                      'trafico.totales.mes',\n",
    "                      'trafico.totales.dia',\n",
    "                      'trafico.totales.hora',\n",
    "                      'trafico.totales.minuto',\n",
    "                      'trafico.totales.traficoIN',\n",
    "                      'trafico.totales.traficoOUT',\n",
    "                      'trafico.totales.consumoGB',\n",
    "                      'trafico.apGroup'\n",
    "#                            ,\n",
    "#                       'trafico.totales.sitio.consumoGB',\n",
    "#                       'trafico.totales.cantDev',\n",
    "#                       'trafico.totales.cantDevWAN',\n",
    "#                       'trafico.totales.cantDevLAN',\n",
    "#                       'trafico.totales.cantDevConectadosWAN',\n",
    "#                       'trafico.totales.cantDevDesconectadosWAN', \n",
    "#                       'trafico.totales.cantDevConectadosLAN',\n",
    "#                       'trafico.totales.cantDevDesconectadosLAN', \n",
    "#                       'trafico.totales.cantDevConectados',\n",
    "#                       'trafico.totales.cantDevDesconectados' \n",
    "                          ]].groupby(['trafico.nomCentroDigital',\n",
    "                                      'trafico.codISO',\n",
    "                                      'trafico.localidad',\n",
    "                                      'trafico.location',\n",
    "                                      'trafico.siteID',\n",
    "                                      'trafico.nombreDepartamento',\n",
    "                                      'trafico.sistemaEnergia',\n",
    "                                      'trafico.nombreMunicipio',\n",
    "                                      'trafico.idBeneficiario',\n",
    "                                      'trafico.totales.fechaControl',\n",
    "                                      'trafico.totales.fecha',\n",
    "                                      'trafico.totales.anyo',\n",
    "                                      'trafico.totales.mes',\n",
    "                                      'trafico.totales.dia',\n",
    "                                      'trafico.totales.hora',\n",
    "                                      'trafico.totales.minuto',\n",
    "                                      'trafico.apGroup']).agg(['sum']).reset_index()\n",
    "    \n",
    "    mintic_03.columns = mintic_03.columns.droplevel(1)\n",
    "    mintic_03.rename(columns={'trafico.totales.traficoIN' : 'trafico.totales.sitio.traficoIN'\n",
    "                          ,'trafico.totales.traficoOUT' : 'trafico.totales.sitio.traficoOUT'\n",
    "                          ,'trafico.totales.consumoGB' : 'trafico.totales.sitio.consumoGB'\n",
    "                         }, inplace=True)\n",
    "except:\n",
    "    pass"
   ]
  },
  {
   "cell_type": "markdown",
   "metadata": {},
   "source": [
    "Funcion para insertar en indice la cantidad de dispositivos conectados \n",
    "* la lista use_these_keys se usa para referenciar cuales campos del dataframe irán al indice final. si los datos no se declaran en este, no se insertarán\n"
   ]
  },
  {
   "cell_type": "code",
   "execution_count": 30,
   "metadata": {},
   "outputs": [],
   "source": [
    "use_these_keys = [  'trafico.tablero4.apGroup',\n",
    "                    'trafico.tablero4.concurrenciaConexiones',\n",
    "                    'trafico.tablero4.idBeneficiario',\n",
    "                    'trafico.tablero4.localidad',\n",
    "                    'trafico.tablero4.location',\n",
    "                    'trafico.tablero4.macRed',\n",
    "                    'trafico.tablero4.nombreDepartamento',\n",
    "                    'trafico.tablero4.nombreMunicipio',\n",
    "                    'trafico.tablero4.nomCentroDigital',\n",
    "                    'trafico.tablero4.siteID',\n",
    "                    'trafico.tablero4.totales.cantDev',\n",
    "                    'trafico.tablero4.totales.cantDevConectados',\n",
    "                    'trafico.tablero4.totales.cantDevConectadosLAN',\n",
    "                    'trafico.tablero4.totales.cantDevConectadosWAN',\n",
    "                    'trafico.tablero4.totales.cantDevDesconectados',\n",
    "                    'trafico.tablero4.totales.cantDevDesconectadosLAN',\n",
    "                    'trafico.tablero4.totales.cantDevDesconectadosWAN',\n",
    "                    'trafico.tablero4.totales.consumoGB',\n",
    "                    'trafico.tablero4.totales.fechaControl',\n",
    "                    'trafico.tablero4.totales.anyo',\n",
    "                    'trafico.tablero4.totales.mes',\n",
    "                    'trafico.tablero4.totales.dia',\n",
    "                    'trafico.tablero4.totales.hora',\n",
    "                    'trafico.tablero4.totales.totalConexiones',\n",
    "                     '@timestamp']\n",
    "\n",
    "\n",
    "def doc_generator_dis(df,use_these_keys):\n",
    "    df_iter = df.iterrows()\n",
    "    for index, document in df_iter:\n",
    "        yield {\n",
    "                \"_index\": indice, \n",
    "                \"_id\": f\"{'Conectados-' + document['trafico.tablero4.siteID'] + '-' +document['trafico.tablero4.totales.fechaControl']}\",\n",
    "                \"_source\": filterKeys(document,use_these_keys),\n",
    "            }"
   ]
  },
  {
   "cell_type": "markdown",
   "metadata": {},
   "source": [
    "## Traer datos de ohmyfi-detalleconexiones"
   ]
  },
  {
   "cell_type": "markdown",
   "metadata": {},
   "source": [
    "El rango de fechas será definido tomando de referencia la ultima fechahora del indice mintic-concat. Campos extaidos:\n",
    "* fechahora de la cnexión \n",
    "* fecha_control es un campo calculado a partir de fechahora. es lo mismo pero con el valor de minuto redondeado a 0.\n",
    "* lugar_cod clave para asociar con semilla\n",
    "* mac_usuario asociado al dispositivo que realizó la conexión"
   ]
  },
  {
   "cell_type": "code",
   "execution_count": 31,
   "metadata": {},
   "outputs": [],
   "source": [
    "def trae_conexiones(fecha_ini,fecha_fin):\n",
    "    total_docs = 5000000\n",
    "    response = es.search(\n",
    "        index= parametros.ohmyfi_d_c_index,\n",
    "        body={\n",
    "                \"_source\": [\"fechahora\",\"fecha_control\",\"lugar\",\"lugar_cod\",\"mac_usuario\", \"dispositivo\"\n",
    "                            ,\"sistema_operativo\",'tipodoc','documento']\n",
    "                , \"query\": {\n",
    "                  \"range\": {\n",
    "                    \"fechahora\": {\n",
    "                      \"gte\": fecha_ini,\n",
    "                      \"lt\": fecha_fin\n",
    "                    }\n",
    "                  }\n",
    "              }\n",
    "        },\n",
    "        size=total_docs\n",
    "        #, request_timeout=300\n",
    "    )\n",
    "    elastic_docs = response[\"hits\"][\"hits\"]\n",
    "#     fields = {}\n",
    "#     for num, doc in enumerate(elastic_docs):\n",
    "#         source_data = doc[\"_source\"]\n",
    "#         for key, val in source_data.items():\n",
    "#             try:\n",
    "#                 fields[key] = np.append(fields[key], val)\n",
    "#             except KeyError:\n",
    "#                 fields[key] = np.array([val])\n",
    "\n",
    "#     return pd.DataFrame(dict([ (k,pd.Series(v)) for k,v in fields.items() ]))\n",
    "\n",
    "    return pd.DataFrame([x[\"_source\"] for x in elastic_docs])"
   ]
  },
  {
   "cell_type": "markdown",
   "metadata": {},
   "source": [
    "### Se acotan los rangos de fecha por eficiencia"
   ]
  },
  {
   "cell_type": "markdown",
   "metadata": {},
   "source": [
    "* Se calcula rango en base a la fecha de control. Para este caso es de 10 minutos.\n",
    "* Se ejecuta la función de consulta con el rango de fechas.\n",
    "* Si no retorna datos se incrementa el rango y se ejecuta nuevamente. Este proceso se repite hasta conseguir datos o hasta que el rango de ejecución alcance la fecha y hora actual."
   ]
  },
  {
   "cell_type": "code",
   "execution_count": 32,
   "metadata": {},
   "outputs": [],
   "source": [
    "fecha_max_mintic = fecha_ejecucion\n",
    "fecha_tope_mintic = (datetime.strptime(fecha_max_mintic, '%Y-%m-%d %H:%M:%S')+timedelta(minutes=10)-timedelta(seconds=1)).strftime(\"%Y-%m-%d %H:%M:%S\")\n",
    "datos_det_conex_completo = trae_conexiones(fecha_max_mintic,fecha_tope_mintic)\n",
    "\n",
    "if datos_det_conex_completo is None or datos_det_conex_completo.empty:\n",
    "    while (datos_det_conex_completo is None or datos_det_conex_completo.empty) and ((datetime.strptime(fecha_max_mintic[0:10], '%Y-%m-%d').strftime(\"%Y-%m-%d %H:%M:%S\")) < str(now.strftime(\"%Y-%m-%d %H:%M:%S\"))):\n",
    "        fecha_max_mintic = (datetime.strptime(fecha_max_mintic, '%Y-%m-%d %H:%M:%S')+timedelta(minutes=10)).strftime(\"%Y-%m-%d %H:%M:%S\")\n",
    "        fecha_tope_mintic = (datetime.strptime(fecha_tope_mintic, '%Y-%m-%d %H:%M:%S')+timedelta(minutes=10)).strftime(\"%Y-%m-%d %H:%M:%S\")\n",
    "        datos_det_conex_completo = trae_conexiones(fecha_max_mintic,fecha_tope_mintic)\n",
    "else:\n",
    "    pass"
   ]
  },
  {
   "cell_type": "code",
   "execution_count": 33,
   "metadata": {},
   "outputs": [],
   "source": [
    "datos_det_conex_completo.drop_duplicates(subset=[\"fecha_control\",\"lugar\",\"lugar_cod\",\"mac_usuario\", \"dispositivo\",\"sistema_operativo\",'tipodoc','documento'],inplace=True)"
   ]
  },
  {
   "cell_type": "markdown",
   "metadata": {},
   "source": [
    "### contanto conexiones por lugar y fecha"
   ]
  },
  {
   "cell_type": "markdown",
   "metadata": {},
   "source": [
    "Para cada centro, y fecha control, se cuenta la cantidad de conexiones. Una vez combinado con semilla, se disponibiliza el filtrado por departamento, municipio y centro de conexión. El campo generado es:\n",
    "* trafico.totales.totalConexiones"
   ]
  },
  {
   "cell_type": "code",
   "execution_count": 34,
   "metadata": {},
   "outputs": [],
   "source": [
    "datos_det_conex=datos_det_conex_completo[[\"fechahora\",\"fecha_control\",\"lugar_cod\"]].groupby(['lugar_cod','fecha_control']).agg(['count']).reset_index()\n",
    "datos_det_conex.columns = datos_det_conex.columns.droplevel(1)"
   ]
  },
  {
   "cell_type": "markdown",
   "metadata": {},
   "source": [
    "### renombrado de columnas en detalle conexiones"
   ]
  },
  {
   "cell_type": "code",
   "execution_count": 35,
   "metadata": {},
   "outputs": [],
   "source": [
    "datos_det_conex = datos_det_conex.rename(columns={'fechahora' : 'trafico.totales.totalConexiones','lugar_cod':'site_id'})"
   ]
  },
  {
   "cell_type": "markdown",
   "metadata": {},
   "source": [
    "### Combinando detalle de conexiones con dispositivos usuario y red"
   ]
  },
  {
   "cell_type": "code",
   "execution_count": 36,
   "metadata": {},
   "outputs": [],
   "source": [
    "total_docs = 30000000\n",
    "response = es.search(\n",
    "    index= parametros.cambium_d_c_index,\n",
    "    body={\n",
    "            \"_source\": [\"mac\",\"ap_mac\", 'manufacturer',\"radio.band\",'radio.rx_bytes','radio.tx_bytes'],\n",
    "              \"query\": {\n",
    "                \"bool\": {\n",
    "                  \"filter\": [\n",
    "                  {\n",
    "                    \"exists\": {\n",
    "                      \"field\":\"mac\"\n",
    "                    }\n",
    "                  }\n",
    "                  ]\n",
    "                }\n",
    "              }\n",
    "    },\n",
    "    size=total_docs\n",
    ")\n",
    "elastic_docs = response[\"hits\"][\"hits\"]\n",
    "\n",
    "datos_dev_clients= pd.DataFrame([x[\"_source\"] for x in elastic_docs])\n",
    "\n",
    "datos_dev_clients.drop_duplicates(inplace=True)"
   ]
  },
  {
   "cell_type": "markdown",
   "metadata": {},
   "source": [
    "* Se renombran campos de clientes\n",
    "* se incorpora informaciones de clientes a detalle conexiones"
   ]
  },
  {
   "cell_type": "code",
   "execution_count": 37,
   "metadata": {},
   "outputs": [],
   "source": [
    "datos_dev_clients = datos_dev_clients.rename(columns={'ap_mac' : 'trafico.macRed','mac' : 'mac_usuario'})\n",
    "datos_det_conex_completo = pd.merge(datos_det_conex_completo,  datos_dev_clients, on='mac_usuario',how='left')\n",
    "datos_det_conex_completo = pd.merge(datos_det_conex_completo,datos_dev[['trafico.macRed','trafico.apGroup','trafico.IP','trafico.deviceName']],on='trafico.macRed', how='left')"
   ]
  },
  {
   "cell_type": "markdown",
   "metadata": {},
   "source": [
    "## calculando total de conexiones"
   ]
  },
  {
   "cell_type": "markdown",
   "metadata": {},
   "source": [
    "tiene la información de semilla, total de conexiones, alarmas, performance de AP y recurrencia de usuarios.\n",
    "Para obtener un registro unico para cada site_id, ap_group y fecha_control, se usa el data frame con fechas unicas (fechas_semilla)"
   ]
  },
  {
   "cell_type": "code",
   "execution_count": 38,
   "metadata": {},
   "outputs": [],
   "source": [
    "# try:\n",
    "total_conexiones =  datos_det_conex_completo[[\"fechahora\",\"fecha_control\",\"lugar_cod\"\n",
    "                                              ,\"trafico.macRed\",'trafico.apGroup'\n",
    "                                              ,'trafico.IP', 'trafico.deviceName'\n",
    "                                             ]].groupby(['lugar_cod','fecha_control'\n",
    "                                                    ,\"trafico.macRed\",'trafico.apGroup'\n",
    "                                                    ,'trafico.IP', 'trafico.deviceName']).agg(['count']).reset_index()\n",
    "total_conexiones.columns = total_conexiones.columns.droplevel(1)\n",
    "total_conexiones.rename(columns={'fechahora': 'trafico.totales.totalConexiones'\n",
    "                                , 'lugar_cod' : 'site_id'}, inplace=True)\n",
    "mintic_01 = pd.merge(datos_semilla,  total_conexiones, on='site_id',how='inner')\n",
    "mintic_01.fillna({'trafico.totales.totalConexiones': 0}, inplace=True)\n",
    "mintic_01['trafico.totales.totalConexiones'] = mintic_01['trafico.totales.totalConexiones'].astype(int)\n",
    "mintic_01.rename(columns={'site_id': 'trafico.siteID'\n",
    "                         ,'fecha_control' : 'trafico.totales.fechaControl'}, inplace=True)\n",
    "\n",
    "mintic_01[\"trafico.totales.fecha\"] = mintic_01[\"trafico.totales.fechaControl\"].str.split(\" \", n = 1, expand = True)[0]\n",
    "mintic_01[\"trafico.totales.hora\"] = mintic_01[\"trafico.totales.fechaControl\"].str.split(\" \", n = 1, expand = True)[1].str.split(\":\", n = 2, expand = True)[0]\n",
    "mintic_01[\"trafico.totales.minuto\"] = mintic_01[\"trafico.totales.fechaControl\"].str.split(\" \", n = 1, expand = True)[1].str.split(\":\", n = 2, expand = True)[1]\n",
    "mintic_01[\"trafico.totales.anyo\"] = mintic_01[\"trafico.totales.fecha\"].str[0:4]\n",
    "mintic_01[\"trafico.totales.mes\"] = mintic_01[\"trafico.totales.fecha\"].str[5:7]\n",
    "mintic_01[\"trafico.totales.dia\"] = mintic_01[\"trafico.totales.fecha\"].str[8:10]\n",
    "\n",
    "mintic_01['nombreDepartamento'] = mintic_01['trafico.nombreDepartamento']\n",
    "mintic_01['nombreMunicipio'] = mintic_01['trafico.nombreMunicipio']\n",
    "mintic_01['idBeneficiario'] = mintic_01['trafico.idBeneficiario']\n",
    "mintic_01['fecha'] = mintic_01['trafico.totales.fecha']\n",
    "mintic_01['anyo'] = mintic_01['trafico.totales.anyo']\n",
    "mintic_01['mes'] = mintic_01['trafico.totales.mes']\n",
    "mintic_01['dia'] = mintic_01['trafico.totales.dia']\n",
    "mintic_01['@timestamp'] = now.isoformat()       \n",
    "\n",
    "mintic_01 = mintic_01[['trafico.siteID','trafico.totales.fechaControl','trafico.macRed','trafico.apGroup','trafico.totales.totalConexiones']]\n",
    "\n",
    "# mintic_04=pd.merge(mintic_03,mintic_01,on=['trafico.siteID','trafico.apGroup','trafico.totales.fechaControl'],how='left')\n",
    "total_conexiones.rename(columns={'site_id': 'trafico.siteID'\n",
    "                         ,'fecha_control' : 'trafico.totales.fechaControl'}, inplace=True)\n",
    "\n",
    "mintic_04=pd.merge(mintic_03,mintic_01,on=['trafico.siteID','trafico.apGroup','trafico.totales.fechaControl'],how='left')\n",
    "# salida = helpers.bulk(es, doc_generator(mintic_01))\n",
    "# print(\"Fecha: \", now,\"- Datos Trafico en indice principal:\",salida[0])\n",
    "# except:\n",
    "#     print(\"Fecha: \", now,\"- Nada de Trafico para insertar en indice principal:\")"
   ]
  },
  {
   "cell_type": "markdown",
   "metadata": {},
   "source": [
    "## Se lee información para usuarios recurrencia"
   ]
  },
  {
   "cell_type": "markdown",
   "metadata": {},
   "source": [
    "Se calcula y agrega al indice principal:\n",
    "* trafico.concurrenciaConexiones\n",
    "\n",
    "Se lee el indice recurrencia de conexiones y se compara con el flujo detalle conexiones para el rango dado. Si cruzan, se suma a la cuenta de recurrentes."
   ]
  },
  {
   "cell_type": "code",
   "execution_count": 41,
   "metadata": {},
   "outputs": [],
   "source": [
    "total_docs = 5000000\n",
    "response = es.search(\n",
    "    index= parametros.ohmyfi_r_u_index,\n",
    "    body={\n",
    "            \"_source\": [\"ultima_conexion\", \"lugar_cod\", \"id_usuario\"]\n",
    "    },\n",
    "    size=total_docs\n",
    ")\n",
    "#print(es.info())\n",
    "elastic_docs = response[\"hits\"][\"hits\"]\n",
    "datos_recurrencia = pd.DataFrame([x[\"_source\"] for x in elastic_docs])"
   ]
  },
  {
   "cell_type": "markdown",
   "metadata": {},
   "source": [
    "Se cuenta la cantidad de usuarios con mas de una conexión"
   ]
  },
  {
   "cell_type": "markdown",
   "metadata": {},
   "source": [
    "# Concurrencia usuario a indice"
   ]
  },
  {
   "cell_type": "code",
   "execution_count": 42,
   "metadata": {},
   "outputs": [],
   "source": [
    "try:\n",
    "    datos_det_conex_completo.rename(columns={'mac_usuario':'id_usuario'}, inplace=True)\n",
    "    aux_recurrencia=datos_det_conex_completo[['lugar_cod','id_usuario']].groupby(['id_usuario']).agg(['count']).reset_index()\n",
    "    aux_recurrencia.columns = aux_recurrencia.columns.droplevel(1)\n",
    "    aux_recurrencia.rename(columns={'lugar_cod': 'contador'}, inplace=True)\n",
    "    aux_recurrencia = aux_recurrencia.drop(aux_recurrencia[(aux_recurrencia['contador'] < 2)].index)\n",
    "    datos_recurrencia = pd.merge(datos_det_conex_completo,  aux_recurrencia, on='id_usuario', how='inner')\n",
    "    datos_recurrencia = datos_recurrencia[['lugar_cod','fecha_control','id_usuario']].groupby(['lugar_cod','fecha_control']).agg(['count']).reset_index()\n",
    "    datos_recurrencia.columns = datos_recurrencia.columns.droplevel(1)\n",
    "    datos_recurrencia.rename(columns={'lugar_cod':'site_id'}, inplace=True)\n",
    "    datos_recurrencia = pd.merge(datos_semilla,  datos_recurrencia, on='site_id', how='inner')\n",
    "    datos_recurrencia.rename(columns={'site_id':'trafico.siteID'\n",
    "                                     ,'id_usuario': 'trafico.concurrenciaConexiones'\n",
    "                                     ,'fecha_control' : 'trafico.totales.fechaControl'}, inplace=True)\n",
    "    datos_recurrencia.fillna({'trafico.concurrenciaConexiones':0},inplace=True)\n",
    "    datos_recurrencia.fillna('', inplace=True)\n",
    "    datos_recurrencia[\"trafico.totales.fecha\"] = datos_recurrencia[\"trafico.totales.fechaControl\"].str.split(\" \", n = 1, expand = True)[0]\n",
    "    datos_recurrencia[\"trafico.totales.anyo\"] = datos_recurrencia[\"trafico.totales.fecha\"].str[0:4]\n",
    "    datos_recurrencia[\"trafico.totales.mes\"] = datos_recurrencia[\"trafico.totales.fecha\"].str[5:7]\n",
    "    datos_recurrencia[\"trafico.totales.dia\"] = datos_recurrencia[\"trafico.totales.fecha\"].str[8:10]\n",
    "    datos_recurrencia[\"trafico.totales.hora\"] = datos_recurrencia[\"trafico.totales.fechaControl\"].str.split(\" \", n = 1, expand = True)[1].str.split(\":\", n = 2, expand = True)[0]\n",
    "    datos_recurrencia[\"trafico.totales.minuto\"] = datos_recurrencia[\"trafico.totales.fechaControl\"].str.split(\" \", n = 1, expand = True)[1].str.split(\":\", n = 2, expand = True)[1]\n",
    "    \n",
    "    datos_recurrencia['nombreDepartamento'] = datos_recurrencia['trafico.nombreDepartamento']\n",
    "    datos_recurrencia['nombreMunicipio'] = datos_recurrencia['trafico.nombreMunicipio']\n",
    "    datos_recurrencia['idBeneficiario'] = datos_recurrencia['trafico.idBeneficiario']\n",
    "    datos_recurrencia['fecha'] = datos_recurrencia['trafico.totales.fecha']\n",
    "    datos_recurrencia['anyo'] = datos_recurrencia['trafico.totales.anyo']\n",
    "    datos_recurrencia['mes'] = datos_recurrencia['trafico.totales.mes']\n",
    "    datos_recurrencia['dia'] = datos_recurrencia['trafico.totales.dia']\n",
    "    \n",
    "    datos_recurrencia['@timestamp'] = now.isoformat() \n",
    "    \n",
    "    datos_recurrencia=datos_recurrencia[['trafico.siteID','trafico.totales.fechaControl','trafico.concurrenciaConexiones']]\n",
    "    \n",
    "    mintic_03=pd.merge(mintic_04,datos_recurrencia,on=['trafico.siteID','trafico.totales.fechaControl'],how='left')\n",
    "    \n",
    "except:\n",
    "    pass"
   ]
  },
  {
   "cell_type": "markdown",
   "metadata": {},
   "source": [
    "# Insertando cantidad de dispositivos conectados"
   ]
  },
  {
   "cell_type": "code",
   "execution_count": 43,
   "metadata": {},
   "outputs": [
    {
     "name": "stdout",
     "output_type": "stream",
     "text": [
      "Fecha:  2021-08-02 18:38:11.363411 - Datos Dispositivos Conectados en indice principal: 210\n"
     ]
    }
   ],
   "source": [
    "try:\n",
    "    cantDevWAN = mintic_02[(mintic_02['trafico.apGroup']=='OUTDOOR')][['trafico.totales.fechaControl','trafico.macRed','trafico.siteID']].groupby(['trafico.siteID','trafico.totales.fechaControl'])['trafico.macRed'].nunique().reset_index()    \n",
    "    cantDevWAN.rename(columns={'trafico.macRed': 'trafico.totales.cantDevWAN'}, inplace=True)\n",
    "    mintic_03 = pd.merge(mintic_03,  cantDevWAN, on=['trafico.siteID','trafico.totales.fechaControl'],how='left')\n",
    "\n",
    "    cantDevConectadosWAN = mintic_02[(mintic_02['trafico.totales.traficoOUT']>0) & (mintic_02['trafico.apGroup']=='OUTDOOR')][['trafico.totales.fechaControl','trafico.macRed','trafico.siteID']].groupby(['trafico.siteID','trafico.totales.fechaControl'])['trafico.macRed'].nunique().reset_index()\n",
    "    cantDevConectadosWAN.rename(columns={'trafico.macRed': 'trafico.totales.cantDevConectadosWAN'}, inplace=True)\n",
    "\n",
    "    mintic_03 = pd.merge(mintic_03, cantDevConectadosWAN, on=['trafico.siteID','trafico.totales.fechaControl'],how='left')\n",
    "    mintic_03.fillna({'trafico.totales.cantDevWAN':0,\n",
    "                      'trafico.totales.cantDevConectadosWAN':0\n",
    "                      },inplace=True)\n",
    "    mintic_03['trafico.totales.cantDevDesconectadosWAN'] = mintic_03['trafico.totales.cantDevWAN'] - mintic_03['trafico.totales.cantDevConectadosWAN']\n",
    "\n",
    "    #La misma lógica se aplica para calcular las cantidades para dispositivos LAN, pero filtrando los INDOOR\n",
    "    cantDevLAN = mintic_02[(mintic_02['trafico.apGroup']=='INDOOR')][['trafico.totales.fechaControl','trafico.macRed','trafico.siteID']].groupby(['trafico.siteID','trafico.totales.fechaControl'])['trafico.macRed'].nunique().reset_index()\n",
    "    cantDevLAN.rename(columns={'trafico.macRed': 'trafico.totales.cantDevLAN'}, inplace=True)\n",
    "    mintic_03 = pd.merge(mintic_03,  cantDevLAN, on=['trafico.siteID','trafico.totales.fechaControl'],how='left')\n",
    "\n",
    "\n",
    "    cantDevConectadosLAN = mintic_02[~(mintic_02['trafico.totales.traficoIN']>0) & (mintic_02['trafico.apGroup']=='INDOOR')][['trafico.totales.fechaControl','trafico.macRed','trafico.siteID']].groupby(['trafico.siteID','trafico.totales.fechaControl'])['trafico.macRed'].nunique().reset_index()\n",
    "\n",
    "\n",
    "    cantDevConectadosLAN.rename(columns={'trafico.macRed': 'trafico.totales.cantDevConectadosLAN'}, inplace=True)\n",
    "\n",
    "\n",
    "    mintic_03 = pd.merge(mintic_03, cantDevConectadosLAN, on=['trafico.siteID','trafico.totales.fechaControl'],how='left')\n",
    "    mintic_03.fillna({'trafico.totales.cantDevLAN':0,\n",
    "                      'trafico.totales.cantDevConectadosLAN':0\n",
    "                      },inplace=True)\n",
    "    mintic_03['trafico.totales.cantDevDesconectadosLAN'] = mintic_03['trafico.totales.cantDevLAN'] - mintic_03['trafico.totales.cantDevConectadosLAN']\n",
    "\n",
    "    mintic_03.fillna({'trafico.totales.cantDevConectadosWAN':0,\n",
    "                      'trafico.totales.cantDevDesconectadosWAN':0,\n",
    "                      'trafico.totales.cantDevConectadosLAN':0,\n",
    "                      'trafico.totales.cantDevDesconectadosLAN':0,\n",
    "                      'trafico.totales.sitio.traficoIN':0,\n",
    "                      'trafico.totales.sitio.traficoOUT':0,\n",
    "                      'trafico.totales.sitio.consumoGB':0\n",
    "                      },inplace=True)\n",
    "\n",
    "    mintic_03['trafico.totales.cantDev'] = mintic_03['trafico.totales.cantDevLAN'] + mintic_03['trafico.totales.cantDevWAN']\n",
    "    mintic_03[['trafico.totales.cantDev','trafico.totales.cantDevConectadosWAN','trafico.totales.cantDevDesconectadosWAN','trafico.totales.cantDevConectadosLAN','trafico.totales.cantDevDesconectadosLAN']] = mintic_03[['trafico.totales.cantDev','trafico.totales.cantDevConectadosWAN','trafico.totales.cantDevDesconectadosWAN','trafico.totales.cantDevConectadosLAN','trafico.totales.cantDevDesconectadosLAN']].astype(int)\n",
    "\n",
    "    mintic_03['trafico.totales.cantDevConectados'] = mintic_03['trafico.totales.cantDevConectadosWAN'] + mintic_03['trafico.totales.cantDevConectadosLAN']\n",
    "    mintic_03['trafico.totales.cantDevDesconectados'] = mintic_03['trafico.totales.cantDevDesconectadosLAN'] + mintic_03['trafico.totales.cantDevDesconectadosWAN']\n",
    "\n",
    "    mintic_03[['trafico.totales.cantDevConectados'\n",
    "              ,'trafico.totales.cantDevDesconectados'\n",
    "              ,'trafico.totales.cantDevWAN'\n",
    "              ,'trafico.totales.cantDevLAN']] = mintic_03[['trafico.totales.cantDevConectados'\n",
    "                                                          ,'trafico.totales.cantDevDesconectados'\n",
    "                                                          ,'trafico.totales.cantDevWAN'\n",
    "                                                          ,'trafico.totales.cantDevLAN']].astype(int)    \n",
    "    mintic_03['@timestamp'] = now.isoformat()\n",
    "\n",
    "\n",
    "    mintic_03= mintic_03.rename(columns={\n",
    "                            'trafico.apGroup':'trafico.tablero4.apGroup',\n",
    "                            'trafico.totales.totalConexiones': 'trafico.tablero4.totales.totalConexiones',\n",
    "                            'trafico.concurrenciaConexiones':'trafico.tablero4.concurrenciaConexiones',             \n",
    "                            'trafico.nomCentroDigital':'trafico.tablero4.nomCentroDigital', \n",
    "                            'trafico.totales.cantDevWAN':'trafico.tablero4.macRed',\n",
    "                            'trafico.localidad':'trafico.tablero4.localidad',\n",
    "                            'trafico.location':'trafico.tablero4.location',\n",
    "                            'trafico.siteID':'trafico.tablero4.siteID', \n",
    "                            'trafico.nombreDepartamento':'trafico.tablero4.nombreDepartamento',\n",
    "                            'trafico.nombreMunicipio':'trafico.tablero4.nombreMunicipio',\n",
    "                            'trafico.idBeneficiario':'trafico.tablero4.idBeneficiario',\n",
    "                            'trafico.totales.fechaControl':'trafico.tablero4.totales.fechaControl',\n",
    "                            'trafico.totales.fecha':'trafico.tablero4.totales.fecha',\n",
    "                            'trafico.totales.anyo':'trafico.tablero4.totales.anyo',\n",
    "                            'trafico.totales.mes':'trafico.tablero4.totales.mes',\n",
    "                            'trafico.totales.dia':'trafico.tablero4.totales.dia',\n",
    "                            'trafico.totales.hora':'trafico.tablero4.totales.hora',\n",
    "                             'trafico.totales.sitio.consumoGB':'trafico.tablero4.totales.consumoGB',\n",
    "                             'trafico.totales.cantDevConectadosWAN':'trafico.tablero4.totales.cantDevConectadosWAN',\n",
    "                             'trafico.totales.cantDevDesconectadosWAN':'trafico.tablero4.totales.cantDevDesconectadosWAN',\n",
    "                             'trafico.totales.cantDevConectadosLAN':'trafico.tablero4.totales.cantDevConectadosLAN',\n",
    "                             'trafico.totales.cantDevDesconectadosLAN':'trafico.tablero4.totales.cantDevDesconectadosLAN',\n",
    "                             'trafico.totales.cantDev':'trafico.tablero4.totales.cantDev',\n",
    "                             'trafico.totales.cantDevConectados':'trafico.tablero4.totales.cantDevConectados',\n",
    "                             'trafico.totales.cantDevDesconectados':'trafico.tablero4.totales.cantDevDesconectados'\n",
    "                            })\n",
    "\n",
    "    mintic_03.fillna({'trafico.tablero4.totales.totalConexiones':0},inplace=True)\n",
    "\n",
    "    mintic_03.loc[mintic_03['trafico.tablero4.concurrenciaConexiones'].isnull().index,'trafico.tablero4.concurrenciaConexiones']=0\n",
    "\n",
    "    salida = helpers.bulk(es, doc_generator_dis(mintic_03,use_these_keys))\n",
    "    \n",
    "    print(\"Fecha: \", now,\"- Datos Dispositivos Conectados en indice principal:\",salida[0])\n",
    "    \n",
    "except:\n",
    "\n",
    "    print(\"Fecha: \", now,\"- No se insertaron datos de dispositivos conectados en indice principal\")\n",
    "\n",
    "# Guardando fecha para control de ejecución"
   ]
  },
  {
   "cell_type": "markdown",
   "metadata": {},
   "source": [
    "* Se actualiza la fecha de control. Si el calculo supera la fecha hora actual, se asocia esta ultima."
   ]
  },
  {
   "cell_type": "code",
   "execution_count": 44,
   "metadata": {},
   "outputs": [
    {
     "name": "stdout",
     "output_type": "stream",
     "text": [
      "actualizada fecha control de ejecucion: 2021-05-04 17:10:00\n"
     ]
    }
   ],
   "source": [
    "fecha_ejecucion = (datetime.strptime(fecha_max_mintic, '%Y-%m-%d %H:%M:%S')+timedelta(minutes=10)).strftime(\"%Y-%m-%d %H:%M:%S\")[0:15] + '0:00'    \n",
    "\n",
    "if fecha_ejecucion > str(now.strftime('%Y-%m-%d %H:%M:%S'))[0:15] + '0:00':\n",
    "    fecha_ejecucion = str(now.strftime('%Y-%m-%d %H:%M:%S'))[0:15] + '0:00'\n",
    "response = es.index(\n",
    "        index = indice_control,\n",
    "        id = 'jerarquia-tablero04',\n",
    "        body = { 'jerarquia-tablero04': 'jerarquia-tablero04','tablero04.fechaControl' : fecha_ejecucion}\n",
    ")\n",
    "print(\"actualizada fecha control de ejecucion:\",fecha_ejecucion)"
   ]
  },
  {
   "cell_type": "code",
   "execution_count": null,
   "metadata": {},
   "outputs": [],
   "source": []
  },
  {
   "cell_type": "code",
   "execution_count": null,
   "metadata": {},
   "outputs": [],
   "source": []
  }
 ],
 "metadata": {
  "kernelspec": {
   "display_name": "Python 3",
   "language": "python",
   "name": "python3"
  },
  "language_info": {
   "codemirror_mode": {
    "name": "ipython",
    "version": 3
   },
   "file_extension": ".py",
   "mimetype": "text/x-python",
   "name": "python",
   "nbconvert_exporter": "python",
   "pygments_lexer": "ipython3",
   "version": "3.8.5"
  }
 },
 "nbformat": 4,
 "nbformat_minor": 4
}
