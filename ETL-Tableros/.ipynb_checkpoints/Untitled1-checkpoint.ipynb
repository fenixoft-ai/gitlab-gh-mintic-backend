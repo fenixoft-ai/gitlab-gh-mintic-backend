{
 "cells": [
  {
   "cell_type": "code",
   "execution_count": 17,
   "metadata": {},
   "outputs": [],
   "source": [
    "import cx_Oracle\n",
    "from elasticsearch import Elasticsearch\n",
    "from elasticsearch import helpers\n",
    "import pandas as pd\n",
    "import numpy as np\n",
    "import json\n",
    "from ssl import create_default_context\n",
    "from datetime import datetime\n",
    "from datetime import timedelta\n",
    "#para request\n",
    "import requests\n",
    "from getpass import getpass\n",
    "import parametros\n",
    "import time\n",
    "import re"
   ]
  },
  {
   "cell_type": "code",
   "execution_count": 18,
   "metadata": {},
   "outputs": [
    {
     "name": "stdout",
     "output_type": "stream",
     "text": [
      "1467\n"
     ]
    }
   ],
   "source": [
    "def OutputTypeHandler(cursor, name, defaultType, size, precision, scale):\n",
    "    if defaultType == cx_Oracle.CLOB:\n",
    "        return cursor.var(cx_Oracle.LONG_STRING, arraysize=cursor.arraysize)\n",
    "    if defaultType == cx_Oracle.BLOB:\n",
    "        return cursor.var(cx_Oracle.LONG_BINARY, arraysize=cursor.arraysize)\n",
    "    \n",
    "dsn_tns = cx_Oracle.makedsn('172.22.108.86', '1950', service_name='DWHPDB') # if needed, place an 'r' before any parameter in order to address special characters such as '\\'.\n",
    "conn = cx_Oracle.connect(user=r'MINTICREPO', password='M1nt1Cr3po0rt3s', dsn=dsn_tns) # if needed, place an 'r' before any parameter in order to address special characters such as '\\'. For example, if your user name contains '\\', you'll need to place 'r' before the user name: user=r'User Name'\n",
    "conn.outputtypehandler = OutputTypeHandler\n",
    "\n",
    "c = conn.cursor()\n",
    "#c.execute(\"SELECT clr_txt_responsabilidad, CLR_TXT_MOTIMINTIC, CLR_TXT_JUSTMINTIC, inci.callback_type, inci.category, inci.close_time, inci.\\\"NUMBER\\\",   inci.sysmodtime, inci.clr_txt_idbneficmtc, inci.contact_name, inci.initial_impact, inci.open_time, inci.opened_by, inci.resolution_code, inci.resolved_time, inci.subcategory, inci.product_type, inci.variable1, inci.variable2, inci.variable3, inci.assignment, inci.severity, inci.incident_id, inci.status, problem_status, ( (24 * 60 * extract(day from (INCI.resolved_time - INCI.open_time))) + 60 * extract(hour from (INCI.resolved_time - INCI.open_time))  + extract(minute from (INCI.resolved_time - INCI.open_time) )) FROM USRODI.SM_INCIDENTES_MINTIC INCI where incident_id = 'SD1386067'\")\n",
    "c.execute(\"SELECT * FROM USRODI.SM_INCIDENTES_MINTIC INCI where where incident_id = 'SD1412305'\")\n",
    "\n",
    "for row in c:\n",
    "   print(row)"
   ]
  },
  {
   "cell_type": "code",
   "execution_count": null,
   "metadata": {},
   "outputs": [],
   "source": []
  }
 ],
 "metadata": {
  "kernelspec": {
   "display_name": "Python 3",
   "language": "python",
   "name": "python3"
  },
  "language_info": {
   "codemirror_mode": {
    "name": "ipython",
    "version": 3
   },
   "file_extension": ".py",
   "mimetype": "text/x-python",
   "name": "python",
   "nbconvert_exporter": "python",
   "pygments_lexer": "ipython3",
   "version": "3.8.5"
  }
 },
 "nbformat": 4,
 "nbformat_minor": 4
}
