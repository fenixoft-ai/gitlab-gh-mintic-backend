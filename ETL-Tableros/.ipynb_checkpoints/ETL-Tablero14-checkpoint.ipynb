{
 "cells": [
  {
   "cell_type": "code",
   "execution_count": 1,
   "metadata": {},
   "outputs": [],
   "source": [
    "from elasticsearch import Elasticsearch\n",
    "from elasticsearch import helpers\n",
    "from ssl import create_default_context\n",
    "import requests\n",
    "from getpass import getpass\n",
    "import pandas as pd\n",
    "import numpy as np\n",
    "import json\n",
    "from datetime import datetime\n",
    "from datetime import timedelta\n",
    "import parametros\n",
    "import random\n",
    "import re"
   ]
  },
  {
   "cell_type": "markdown",
   "metadata": {},
   "source": [
    "## Conectando a ElasticSearch"
   ]
  },
  {
   "cell_type": "markdown",
   "metadata": {},
   "source": [
    "La ultima línea se utiliza para garantizar la ejecución de la consulta\n",
    "* timeout es el tiempo para cada ejecución\n",
    "* max_retries el número de intentos si la conexión falla\n",
    "* retry_on_timeout para activar los reitentos"
   ]
  },
  {
   "cell_type": "code",
   "execution_count": 2,
   "metadata": {},
   "outputs": [],
   "source": [
    "context = create_default_context(cafile=parametros.cafile)\n",
    "es = Elasticsearch(\n",
    "    parametros.servidor,\n",
    "    http_auth=(parametros.usuario_EC, parametros.password_EC),\n",
    "    scheme=\"https\",\n",
    "    port=parametros.puerto,\n",
    "    ssl_context=context,\n",
    "    timeout=60, max_retries=3, retry_on_timeout=True\n",
    ") "
   ]
  },
  {
   "cell_type": "markdown",
   "metadata": {},
   "source": [
    "### Calculando fechas para la ejecución"
   ]
  },
  {
   "cell_type": "markdown",
   "metadata": {},
   "source": [
    "* Se calculan las fechas para asociar al nombre del indice\n",
    "* fecha_hoy, es usada para concatenar al nombre del indice principal previa inserción\n",
    "* ahora, es la fecha en un formato requerido para ES"
   ]
  },
  {
   "cell_type": "code",
   "execution_count": 3,
   "metadata": {},
   "outputs": [],
   "source": [
    "now = datetime.now()\n",
    "format_ES = \"%Y.%m.%d\"\n",
    "fecha_hoy = str(now.strftime(format_ES))\n",
    "ahora_format = \"%Y-%m-%d\"'T'\"%H:%M:%S\"\n",
    "ahora = str(now.strftime(ahora_format))"
   ]
  },
  {
   "cell_type": "markdown",
   "metadata": {},
   "source": [
    "### Definiendo indice principal con fecha de hoy"
   ]
  },
  {
   "cell_type": "code",
   "execution_count": 4,
   "metadata": {},
   "outputs": [],
   "source": [
    "indice = parametros.gestion_tablero14_index \n",
    "indice_control = parametros.tableros_mintic_control"
   ]
  },
  {
   "cell_type": "markdown",
   "metadata": {},
   "source": [
    "### Función para generar JSON compatible con ES"
   ]
  },
  {
   "cell_type": "code",
   "execution_count": 5,
   "metadata": {},
   "outputs": [],
   "source": [
    "def filterKeys(document):\n",
    "    return {key: document[key] for key in use_these_keys }"
   ]
  },
  {
   "cell_type": "markdown",
   "metadata": {},
   "source": [
    "### Trae la ultima fecha para control de ejecución"
   ]
  },
  {
   "cell_type": "markdown",
   "metadata": {},
   "source": [
    "Cuando en el rango de tiempo de la ejecución, no se insertan nuevos valores, las fecha maxima en indice mintic no aumenta, por tanto se usa esta fecha de control para garantizar que incremente el bucle de ejecución"
   ]
  },
  {
   "cell_type": "code",
   "execution_count": 6,
   "metadata": {},
   "outputs": [
    {
     "name": "stdout",
     "output_type": "stream",
     "text": [
      "ultima fecha para control de ejecucion: 2021-06-02T09:10:00\n"
     ]
    }
   ],
   "source": [
    "total_docs = 1\n",
    "try:\n",
    "    response = es.search(\n",
    "        index= indice_control,\n",
    "        body={\n",
    "           \"_source\": [\"tablero14.fechaControl\"],\n",
    "              \"query\": {\n",
    "                \"bool\": {\n",
    "                  \"filter\": [\n",
    "                  {\n",
    "                    \"exists\": {\n",
    "                      \"field\":\"jerarquia-tablero14\"\n",
    "                    }\n",
    "                  }\n",
    "              ]\n",
    "            }\n",
    "          }\n",
    "        },\n",
    "        size=total_docs\n",
    "    )\n",
    "    #print(es.info())\n",
    "    elastic_docs = response[\"hits\"][\"hits\"]\n",
    "    fields = {}\n",
    "    for num, doc in enumerate(elastic_docs):\n",
    "        fecha_ejecucion = doc[\"_source\"]['tablero14.fechaControl']\n",
    "except Exception as e:\n",
    "    print(e)\n",
    "    response[\"hits\"][\"hits\"] = []\n",
    "if response[\"hits\"][\"hits\"] == []:\n",
    "    fecha_ejecucion = '2021-05-14T00:00:00'\n",
    "print(\"ultima fecha para control de ejecucion:\",fecha_ejecucion)\n",
    "\n"
   ]
  },
  {
   "cell_type": "markdown",
   "metadata": {},
   "source": [
    "### leyendo indice semilla-inventario"
   ]
  },
  {
   "cell_type": "markdown",
   "metadata": {},
   "source": [
    "En el script que ingesta semilla, trae la información de los centros de conexión administrados. Para el indice principal se requiere:\n",
    "\n",
    "* site_id como llave del centro de conexión.\n",
    "* Datos geográficos (Departamento, municipio, centro poblado, sede.)"
   ]
  },
  {
   "cell_type": "code",
   "execution_count": 7,
   "metadata": {},
   "outputs": [],
   "source": [
    "total_docs = 10000\n",
    "try:\n",
    "    response = es.search(\n",
    "        index= parametros.semilla_inventario_index,\n",
    "        body={\n",
    "               \"_source\": ['site_id','nombre_municipio', 'nombre_departamento', 'nombre_centro_pob','energiadesc'\n",
    "                           ,'nombreSede','latitud','longitud','id_Beneficiario','COD_ISO','codDanesede',\n",
    "                           'cod_servicio','codDaneMuni','nombre_centro_pob','codCentroPoblado','codDaneInstitucionEdu',\n",
    "                           'tipoSitio','detalleSitio','energia','region','matricula','DDA','grupoDesc','estadoInstalacion',\n",
    "                           'nombreInstitucionEd']\n",
    "        },\n",
    "        size=total_docs\n",
    "    )\n",
    "    #print(es.info())\n",
    "    elastic_docs = response[\"hits\"][\"hits\"]\n",
    "    fields = {}\n",
    "    for num, doc in enumerate(elastic_docs):\n",
    "        source_data = doc[\"_source\"]\n",
    "        for key, val in source_data.items():\n",
    "            try:\n",
    "                fields[key] = np.append(fields[key], val)\n",
    "            except KeyError:\n",
    "                fields[key] = np.array([val])\n",
    "\n",
    "    datos_semilla = pd.DataFrame(dict([ (k,pd.Series(v)) for k,v in fields.items() ])) #pd.DataFrame(fields)\n",
    "except Exception as e:\n",
    "    print(e)\n",
    "    print(\"fecha:\",now,\"- Error en lectura de datos semilla\")\n",
    "    #exit()"
   ]
  },
  {
   "cell_type": "code",
   "execution_count": 8,
   "metadata": {},
   "outputs": [],
   "source": [
    "def get_location(x,y='lat'):\n",
    "    patron = re.compile('^(\\-?\\d+(\\.\\d+)?),\\s*(\\-?\\d+(\\.\\d+)?)$') #patrón que debe cumplir\n",
    "    if (not patron.match(x) is None) and (str(x)!=''):\n",
    "        return x.replace(',','.')\n",
    "    else:\n",
    "        #Código a ejecutar si las coordenadas no son válidas\n",
    "        return '4.596389' if y=='lat' else '-74.074639'\n",
    "    \n",
    "datos_semilla['latitud'] = datos_semilla['latitud'].apply(lambda x:get_location(x,'lat'))\n",
    "datos_semilla['longitud'] = datos_semilla['longitud'].apply(lambda x:get_location(x,'lon'))\n",
    "datos_semilla = datos_semilla.drop(datos_semilla[(datos_semilla[\"longitud\"]=='a') | (datos_semilla[\"latitud\"]=='a')].index)\n",
    "datos_semilla['gestion.tablero14.location'] = datos_semilla['latitud'] + ',' + datos_semilla['longitud']\n",
    "datos_semilla['gestion.tablero14.location']=datos_semilla['gestion.tablero14.location'].str.replace('a,a','')\n",
    "datos_semilla.drop(columns=['latitud','longitud'],inplace=True)"
   ]
  },
  {
   "cell_type": "code",
   "execution_count": 9,
   "metadata": {},
   "outputs": [
    {
     "data": {
      "text/plain": [
       "Index(['nombreSede', 'DDA', 'estadoInstalacion', 'COD_ISO', 'energia',\n",
       "       'nombre_departamento', 'codCentroPoblado', 'nombreInstitucionEd',\n",
       "       'codDanesede', 'tipoSitio', 'codDaneMuni', 'nombre_centro_pob',\n",
       "       'site_id', 'matricula', 'energiadesc', 'grupoDesc', 'cod_servicio',\n",
       "       'region', 'detalleSitio', 'nombre_municipio', 'id_Beneficiario',\n",
       "       'codDaneInstitucionEdu', 'gestion.tablero14.location'],\n",
       "      dtype='object')"
      ]
     },
     "execution_count": 9,
     "metadata": {},
     "output_type": "execute_result"
    }
   ],
   "source": [
    "datos_semilla.columns"
   ]
  },
  {
   "cell_type": "code",
   "execution_count": 10,
   "metadata": {},
   "outputs": [],
   "source": [
    "datos_semilla = datos_semilla.rename(columns={'nombreSede':'gestion.tablero14.nombreSede'\n",
    "                                           , 'DDA':'gestion.tablero14.DDA'\n",
    "                                           , 'estadoInstalacion':'gestion.tablero14.estadoInstalacion' \n",
    "                                           , 'COD_ISO':'gestion.tablero14.COD_ISO'\n",
    "                                           , 'energia':'gestion.tablero14.energia'\n",
    "                                           , 'nombre_departamento':'gestion.tablero14.departamento'\n",
    "                                           , 'codCentroPoblado':'gestion.tablero14.codCentroPoblado'\n",
    "                                           , 'nombreInstitucionEd':'gestion.tablero14.nombreInstitucionEd'\n",
    "                                           , 'codDanesede':'gestion.tablero14.codDanesede'\n",
    "                                           , 'tipoSitio':'gestion.tablero14.tipoSitio'\n",
    "                                           , 'codDaneMuni':'gestion.tablero14.codDaneMuni'\n",
    "                                           , 'nombre_centro_pob':'gestion.tablero14.nombre_centro_pob'\n",
    "                                           , 'site_id':'gestion.tablero14.site_id'\n",
    "                                           , 'matricula':'gestion.tablero14.matricula'\n",
    "                                           , 'energiadesc':'gestion.tablero14.energiadesc'\n",
    "                                           , 'grupoDesc':'gestion.tablero14.grupoDesc'\n",
    "                                           , 'cod_servicio':'gestion.tablero14.cod_servicio'\n",
    "                                           , 'region':'gestion.tablero14.region'\n",
    "                                           , 'detalleSitio':'gestion.tablero14.detalleSitio'\n",
    "                                           , 'nombre_municipio':'gestion.tablero14.municipio'\n",
    "                                           , 'id_Beneficiario':'gestion.tablero14.id_Beneficiario'\n",
    "                                           , 'codDaneInstitucionEdu':'gestion.tablero14.codDaneInstitucionEdu'\n",
    "                                           })"
   ]
  },
  {
   "cell_type": "markdown",
   "metadata": {},
   "source": [
    "### Leyendo indice servicemanager-interacciones"
   ]
  },
  {
   "cell_type": "markdown",
   "metadata": {},
   "source": [
    "Se lee la información de los De Service Manager. En la lectura se traen todas las interacciones reportadas por servicemanager, con la información de la misma.\n",
    "\n",
    "* id_beneficiario, es la llave para cruzar con cada centro de conexión.\n",
    "* variable1 y variable2, son la tipo y subtipo de la interaccion.\n",
    "* current_phase, estado del ticket\n",
    "* clr_txt_assignment, es el sujeto asignado al ticket\n",
    "* owner_name, usuario del ticket\n",
    "* open_time y close_time, son las fecha de apertura y cierre del ticket\n",
    "* resolution, respuesta al ticket\n",
    "* incident_id, numero del ticket\n",
    "* source, fuente del ticket(email o telefono)\n",
    "* severity, gravedad del ticket\n",
    "* clr_txt_codcategorymtc categoria segun mintic"
   ]
  },
  {
   "cell_type": "code",
   "execution_count": 11,
   "metadata": {
    "scrolled": true
   },
   "outputs": [],
   "source": [
    "def traeSMInteracciones(fecha_max,fecha_tope):\n",
    "    total_docs = 10000\n",
    "    response = es.search(\n",
    "        index= parametros.sm_interaciones,\n",
    "        body={\n",
    "            \"_source\": ['variable1'\n",
    "                  , 'opened_by'\n",
    "                  , 'subcategory'\n",
    "                  , '@timestamp'\n",
    "                  , 'open_time'\n",
    "                  , 'clr_txt_idbneficmtc'\n",
    "                  , 'category'\n",
    "                  , 'close_time'\n",
    "                  , 'source'\n",
    "                  , 'key_char'\n",
    "                  , 'total'\n",
    "                  , 'close_date'\n",
    "                  , 'resolution_code'\n",
    "                  , 'resolved_time'\n",
    "                  , 'callback_type'\n",
    "                  , 'initial_impact'\n",
    "                  , 'name'\n",
    "                  , 'variable2'\n",
    "                  , '@version'\n",
    "                  , 'contact_name'\n",
    "                  , 'variable3'\n",
    "                        ]\n",
    "            ,\"query\": {\n",
    "              \"range\": {\n",
    "                \"open_time\": {\n",
    "                    \"gte\": fecha_max,\n",
    "                    \"lt\": fecha_tope\n",
    "                }\n",
    "              }\n",
    "          }\n",
    "        },\n",
    "        size=total_docs\n",
    "    )\n",
    "    elastic_docs = response[\"hits\"][\"hits\"]\n",
    "    fields = {}\n",
    "    for num, doc in enumerate(elastic_docs):\n",
    "        source_data = doc[\"_source\"]\n",
    "        for key, val in source_data.items():\n",
    "            try:\n",
    "                fields[key] = np.append(fields[key], val)\n",
    "            except KeyError:\n",
    "                fields[key] = np.array([val])\n",
    "\n",
    "    datos_SM_interactions = pd.DataFrame(dict([ (k,pd.Series(v)) for k,v in fields.items() ]))\n",
    "    \n",
    "    if datos_SM_interactions is None or datos_SM_interactions.empty:\n",
    "        return pd.DataFrame()\n",
    "    \n",
    "    datos_SM_interactions = datos_SM_interactions.rename(columns={'variable1':'gestion.tablero14.categoria'\n",
    "                                                                  , 'opened_by':'gestion.tablero14.opened_by'\n",
    "                                                                  , 'subcategory':'gestion.tablero14.subcategoria'\n",
    "                                                                  , '@timestamp':'gestion.tablero14.@timestamp'\n",
    "                                                                  , 'open_time':'gestion.tablero14.fechaApertura'\n",
    "                                                                  , 'clr_txt_idbneficmtc':'gestion.tablero14.id_Beneficiario'\n",
    "                                                                  , 'category':'gestion.tablero14.category'\n",
    "                                                                  , 'close_time':'gestion.tablero14.fechaCierre'\n",
    "                                                                  , 'source':'gestion.tablero14.canal'\n",
    "                                                                  , 'key_char':'gestion.tablero14.numeroTicket'\n",
    "                                                                  , 'total':'gestion.tablero14.total'\n",
    "                                                                  , 'close_date':'gestion.tablero14.close_date'\n",
    "                                                                  , 'resolution_code':'gestion.tablero14.coderesolucion'\n",
    "                                                                  , 'resolved_time':'gestion.tablero14.time-resolution'\n",
    "                                                                  , 'callback_type':'gestion.tablero14.callback_type'\n",
    "                                                                  , 'initial_impact':'gestion.tablero14.initial_impact'\n",
    "                                                                  , 'name':'gestion.tablero14.name'\n",
    "                                                                  , 'variable2':'gestion.tablero14.variable2'\n",
    "                                                                  , '@version':'gestion.tablero14.version'\n",
    "                                                                  , 'contact_name':'gestion.tablero14.contact_name'                                                                  \n",
    "                                                                  , 'variable3':'gestion.tablero14.variable3'})         \n",
    "    datos_SM_interactions = datos_SM_interactions.dropna(subset=['gestion.tablero14.id_Beneficiario'])\n",
    "    datos_SM_interactions = datos_SM_interactions.drop(datos_SM_interactions[datos_SM_interactions['gestion.tablero14.id_Beneficiario']==\"null\"].index)\n",
    "    datos_SM_interactions['gestion.tablero14.id_Beneficiario'] = datos_SM_interactions['gestion.tablero14.id_Beneficiario'].astype(int)\n",
    "    datos_SM_interactions['gestion.tablero14.canal'] = datos_SM_interactions['gestion.tablero14.canal'].replace(['5','6'],['Correo Electrónico','Teléfono'])\n",
    "    return datos_SM_interactions"
   ]
  },
  {
   "cell_type": "markdown",
   "metadata": {},
   "source": [
    "Realizando bucle hasta conseguir datos de servicemanager-interacciones o hasta la fecha actual para realizar la carga de datos "
   ]
  },
  {
   "cell_type": "code",
   "execution_count": 12,
   "metadata": {
    "scrolled": true
   },
   "outputs": [],
   "source": [
    "fecha_max_mintic = fecha_ejecucion\n",
    "\n",
    "\n",
    "\n",
    "fecha_tope_mintic = (datetime.strptime(fecha_max_mintic, \"%Y-%m-%d\"'T'\"%H:%M:%S\")+timedelta(minutes=10)-timedelta(seconds=1)).strftime(\"%Y-%m-%d\"'T'\"%H:%M:%S\")\n",
    "datos_SM_interactions = traeSMInteracciones(fecha_max_mintic,fecha_tope_mintic)\n",
    "\n",
    "\n",
    "if datos_SM_interactions is None or datos_SM_interactions.empty:\n",
    "    while (datos_SM_interactions is None or datos_SM_interactions.empty) and ((datetime.strptime(fecha_max_mintic[0:10], '%Y-%m-%d').strftime(\"%Y-%m-%d\"'T'\"%H:%M:%S\")) < str(now.strftime(\"%Y-%m-%d\"'T'\"%H:%M:%S\"))):\n",
    "        fecha_max_mintic = (datetime.strptime(fecha_max_mintic, \"%Y-%m-%d\"'T'\"%H:%M:%S\")+timedelta(minutes=10)).strftime(\"%Y-%m-%d\"'T'\"%H:%M:%S\")\n",
    "        fecha_tope_mintic = (datetime.strptime(fecha_tope_mintic, \"%Y-%m-%d\"'T'\"%H:%M:%S\")+timedelta(minutes=10)).strftime(\"%Y-%m-%d\"'T'\"%H:%M:%S\")\n",
    "        datos_SM_interactions = traeSMInteracciones(fecha_max_mintic,fecha_tope_mintic)\n",
    "else:\n",
    "    pass\n",
    "\n"
   ]
  },
  {
   "cell_type": "code",
   "execution_count": 13,
   "metadata": {},
   "outputs": [],
   "source": [
    "#fecha_max_mintic\n",
    "#print (fecha_max_mintic, \"   hastaaaa  \", fecha_tope_mintic)"
   ]
  },
  {
   "cell_type": "code",
   "execution_count": 14,
   "metadata": {},
   "outputs": [
    {
     "data": {
      "text/html": [
       "<div>\n",
       "<style scoped>\n",
       "    .dataframe tbody tr th:only-of-type {\n",
       "        vertical-align: middle;\n",
       "    }\n",
       "\n",
       "    .dataframe tbody tr th {\n",
       "        vertical-align: top;\n",
       "    }\n",
       "\n",
       "    .dataframe thead th {\n",
       "        text-align: right;\n",
       "    }\n",
       "</style>\n",
       "<table border=\"1\" class=\"dataframe\">\n",
       "  <thead>\n",
       "    <tr style=\"text-align: right;\">\n",
       "      <th></th>\n",
       "      <th>gestion.tablero14.categoria</th>\n",
       "      <th>gestion.tablero14.numeroTicket</th>\n",
       "      <th>gestion.tablero14.close_date</th>\n",
       "      <th>gestion.tablero14.contact_name</th>\n",
       "      <th>gestion.tablero14.variable3</th>\n",
       "      <th>gestion.tablero14.variable2</th>\n",
       "      <th>gestion.tablero14.fechaApertura</th>\n",
       "      <th>gestion.tablero14.fechaCierre</th>\n",
       "      <th>gestion.tablero14.canal</th>\n",
       "      <th>gestion.tablero14.time-resolution</th>\n",
       "      <th>...</th>\n",
       "      <th>gestion.tablero14.@timestamp</th>\n",
       "      <th>gestion.tablero14.callback_type</th>\n",
       "      <th>gestion.tablero14.coderesolucion</th>\n",
       "      <th>gestion.tablero14.opened_by</th>\n",
       "      <th>gestion.tablero14.name</th>\n",
       "      <th>gestion.tablero14.version</th>\n",
       "      <th>gestion.tablero14.id_Beneficiario</th>\n",
       "      <th>gestion.tablero14.subcategoria</th>\n",
       "      <th>gestion.tablero14.category</th>\n",
       "      <th>gestion.tablero14.initial_impact</th>\n",
       "    </tr>\n",
       "  </thead>\n",
       "  <tbody>\n",
       "    <tr>\n",
       "      <th>0</th>\n",
       "      <td>Navegacion Internet</td>\n",
       "      <td>SD1401132</td>\n",
       "      <td></td>\n",
       "      <td>2</td>\n",
       "      <td>Navegacion Internet / Sin acceso a internet</td>\n",
       "      <td>Sin acceso a internet</td>\n",
       "      <td>2021-06-02T11:46:29</td>\n",
       "      <td>2021-06-18T10:10:29</td>\n",
       "      <td></td>\n",
       "      <td>Falla Conectividad MINTIC</td>\n",
       "      <td>...</td>\n",
       "      <td></td>\n",
       "      <td>Telefono</td>\n",
       "      <td>None</td>\n",
       "      <td>Fulfilled</td>\n",
       "      <td></td>\n",
       "      <td>1</td>\n",
       "      <td>20991</td>\n",
       "      <td>Falla Conectividad MINTIC</td>\n",
       "      <td>incident</td>\n",
       "      <td>2</td>\n",
       "    </tr>\n",
       "  </tbody>\n",
       "</table>\n",
       "<p>1 rows × 21 columns</p>\n",
       "</div>"
      ],
      "text/plain": [
       "  gestion.tablero14.categoria gestion.tablero14.numeroTicket  \\\n",
       "0        Navegacion Internet                       SD1401132   \n",
       "\n",
       "  gestion.tablero14.close_date gestion.tablero14.contact_name  \\\n",
       "0                                                           2   \n",
       "\n",
       "                    gestion.tablero14.variable3 gestion.tablero14.variable2  \\\n",
       "0  Navegacion Internet / Sin acceso a internet       Sin acceso a internet    \n",
       "\n",
       "  gestion.tablero14.fechaApertura gestion.tablero14.fechaCierre  \\\n",
       "0             2021-06-02T11:46:29           2021-06-18T10:10:29   \n",
       "\n",
       "  gestion.tablero14.canal gestion.tablero14.time-resolution  ...  \\\n",
       "0                                 Falla Conectividad MINTIC  ...   \n",
       "\n",
       "  gestion.tablero14.@timestamp gestion.tablero14.callback_type  \\\n",
       "0                                                     Telefono   \n",
       "\n",
       "  gestion.tablero14.coderesolucion gestion.tablero14.opened_by  \\\n",
       "0                             None                   Fulfilled   \n",
       "\n",
       "  gestion.tablero14.name gestion.tablero14.version  \\\n",
       "0                                                1   \n",
       "\n",
       "  gestion.tablero14.id_Beneficiario  gestion.tablero14.subcategoria  \\\n",
       "0                             20991       Falla Conectividad MINTIC   \n",
       "\n",
       "  gestion.tablero14.category gestion.tablero14.initial_impact  \n",
       "0                   incident                                2  \n",
       "\n",
       "[1 rows x 21 columns]"
      ]
     },
     "execution_count": 14,
     "metadata": {},
     "output_type": "execute_result"
    }
   ],
   "source": [
    "datos_SM_interactions"
   ]
  },
  {
   "cell_type": "markdown",
   "metadata": {},
   "source": [
    "Haciendo merge entre semilla e interacciones"
   ]
  },
  {
   "cell_type": "markdown",
   "metadata": {},
   "source": [
    "Realizando inserción"
   ]
  },
  {
   "cell_type": "code",
   "execution_count": 15,
   "metadata": {
    "scrolled": false
   },
   "outputs": [],
   "source": [
    "use_these_keys = [ 'gestion.tablero14.nombreSede'\n",
    "                    , 'gestion.tablero14.DDA'\n",
    "                    , 'gestion.tablero14.estadoInstalacion' \n",
    "                    , 'gestion.tablero14.COD_ISO'\n",
    "                    , 'gestion.tablero14.energia'\n",
    "                    , 'gestion.tablero14.departamento'\n",
    "                    , 'gestion.tablero14.codCentroPoblado'\n",
    "                    , 'gestion.tablero14.nombreInstitucionEd'\n",
    "                    , 'gestion.tablero14.codDanesede'\n",
    "                    , 'gestion.tablero14.tipoSitio'\n",
    "                    , 'gestion.tablero14.codDaneMuni'\n",
    "                    , 'gestion.tablero14.nombre_centro_pob'\n",
    "                    , 'gestion.tablero14.site_id'\n",
    "                    , 'gestion.tablero14.matricula'\n",
    "                    , 'gestion.tablero14.energiadesc'\n",
    "                    , 'gestion.tablero14.grupoDesc'\n",
    "                    , 'gestion.tablero14.cod_servicio'\n",
    "                    , 'gestion.tablero14.region'\n",
    "                    , 'gestion.tablero14.detalleSitio'\n",
    "                    , 'gestion.tablero14.municipio'\n",
    "                    , 'gestion.tablero14.id_Beneficiario'\n",
    "                    , 'gestion.tablero14.location'\n",
    "                    , 'gestion.tablero14.codDaneInstitucionEdu'\n",
    "                    , 'gestion.tablero14.categoria'\n",
    "                    #, 'gestion.tablero14.opened_by'\n",
    "                    , 'gestion.tablero14.subcategoria'\n",
    "                    , 'gestion.tablero14.@timestamp'\n",
    "                    , 'gestion.tablero14.fechaApertura'\n",
    "                    , 'gestion.tablero14.id_Beneficiario'\n",
    "                    , 'gestion.tablero14.category'\n",
    "                    , 'gestion.tablero14.fechaCierre'\n",
    "                    , 'gestion.tablero14.canal'\n",
    "                    , 'gestion.tablero14.numeroTicket'\n",
    "                    #, 'gestion.tablero14.total'\n",
    "                    , 'gestion.tablero14.close_date'\n",
    "                    # , 'gestion.tablero14.coderesolucion'\n",
    "                    , 'gestion.tablero14.time-resolution'                                                                                       \n",
    "                    , 'gestion.tablero14.callback_type'\n",
    "                    , 'gestion.tablero14.initial_impact'\n",
    "                    , 'gestion.tablero14.name'\n",
    "                    , 'gestion.tablero14.variable2'\n",
    "                    , 'gestion.tablero14.version'\n",
    "                    #, 'gestion.tablero14.contact_name'                                                                  \n",
    "                    , 'gestion.tablero14.variable3'\n",
    "                    , 'gestion.tablero14.anyo'\n",
    "                    , 'gestion.tablero14.mes'\n",
    "                    , 'gestion.tablero14.dia'\n",
    "                  ]\n",
    "def doc_generator(df):\n",
    "    df_iter = df.iterrows()\n",
    "    for index, document in df_iter:\n",
    "        yield {\n",
    "                \"_index\": indice, \n",
    "                \"_id\": f\"{str(document['gestion.tablero14.site_id']) + '-' + str(document['gestion.tablero14.numeroTicket']) + '-' + str(document['gestion.tablero14.fechaApertura'])+ str(random.randrange(1000))}\",\n",
    "                \"_source\": filterKeys(document),\n",
    "            }"
   ]
  },
  {
   "cell_type": "code",
   "execution_count": 16,
   "metadata": {
    "scrolled": true
   },
   "outputs": [
    {
     "name": "stdout",
     "output_type": "stream",
     "text": [
      "Fecha:  2021-08-14 15:31:28.556745 - Interacciones insertadas en indice principal: 1\n"
     ]
    }
   ],
   "source": [
    "try:\n",
    "    concat = pd.merge(datos_SM_interactions,datos_semilla, on=['gestion.tablero14.id_Beneficiario'],how='inner')\n",
    "    concat['gestion.tablero14.fechaApertura'] = concat['gestion.tablero14.fechaApertura'].str.replace(\"T\",\" \")\n",
    "    concat['gestion.tablero14.fechaApertura'] = concat['gestion.tablero14.fechaApertura'].str.slice(stop=19)\n",
    "    concat[\"gestion.tablero14.anyo\"] = concat[\"gestion.tablero14.fechaApertura\"].str[0:4]\n",
    "    concat[\"gestion.tablero14.mes\"] = concat[\"gestion.tablero14.fechaApertura\"].str[5:7]\n",
    "    concat[\"gestion.tablero14.dia\"] = concat[\"gestion.tablero14.fechaApertura\"].str[8:10]\n",
    "    concat['@timestamp'] = now.isoformat()\n",
    "    \n",
    "    \n",
    "    concat = concat.fillna(0)\n",
    "             \n",
    "    salida = helpers.bulk(es, doc_generator(concat))\n",
    "    print(\"Fecha: \", now,\"- Interacciones insertadas en indice principal:\",salida[0])\n",
    "except Exception as e:\n",
    "    print(e, \"\\nNinguna Interacción insertada en indice principal:\")\n",
    "\n",
    "    "
   ]
  },
  {
   "cell_type": "code",
   "execution_count": 17,
   "metadata": {
    "scrolled": false
   },
   "outputs": [
    {
     "data": {
      "text/plain": [
       "gestion.tablero14.categoria                object\n",
       "gestion.tablero14.numeroTicket             object\n",
       "gestion.tablero14.close_date               object\n",
       "gestion.tablero14.contact_name             object\n",
       "gestion.tablero14.variable3                object\n",
       "gestion.tablero14.variable2                object\n",
       "gestion.tablero14.fechaApertura            object\n",
       "gestion.tablero14.fechaCierre              object\n",
       "gestion.tablero14.canal                    object\n",
       "gestion.tablero14.time-resolution          object\n",
       "gestion.tablero14.total                    object\n",
       "gestion.tablero14.@timestamp               object\n",
       "gestion.tablero14.callback_type            object\n",
       "gestion.tablero14.coderesolucion            int64\n",
       "gestion.tablero14.opened_by                object\n",
       "gestion.tablero14.name                     object\n",
       "gestion.tablero14.version                  object\n",
       "gestion.tablero14.id_Beneficiario           int64\n",
       "gestion.tablero14.subcategoria             object\n",
       "gestion.tablero14.category                 object\n",
       "gestion.tablero14.initial_impact           object\n",
       "gestion.tablero14.nombreSede               object\n",
       "gestion.tablero14.DDA                       int64\n",
       "gestion.tablero14.estadoInstalacion         int64\n",
       "gestion.tablero14.COD_ISO                  object\n",
       "gestion.tablero14.energia                   int64\n",
       "gestion.tablero14.departamento             object\n",
       "gestion.tablero14.codCentroPoblado          int64\n",
       "gestion.tablero14.nombreInstitucionEd      object\n",
       "gestion.tablero14.codDanesede               int64\n",
       "gestion.tablero14.tipoSitio                 int64\n",
       "gestion.tablero14.codDaneMuni               int64\n",
       "gestion.tablero14.nombre_centro_pob        object\n",
       "gestion.tablero14.site_id                  object\n",
       "gestion.tablero14.matricula                object\n",
       "gestion.tablero14.energiadesc              object\n",
       "gestion.tablero14.grupoDesc                object\n",
       "gestion.tablero14.cod_servicio             object\n",
       "gestion.tablero14.region                   object\n",
       "gestion.tablero14.detalleSitio              int64\n",
       "gestion.tablero14.municipio                object\n",
       "gestion.tablero14.codDaneInstitucionEdu     int64\n",
       "gestion.tablero14.location                 object\n",
       "gestion.tablero14.anyo                     object\n",
       "gestion.tablero14.mes                      object\n",
       "gestion.tablero14.dia                      object\n",
       "@timestamp                                 object\n",
       "dtype: object"
      ]
     },
     "execution_count": 17,
     "metadata": {},
     "output_type": "execute_result"
    }
   ],
   "source": [
    "concat.dtypes"
   ]
  },
  {
   "cell_type": "code",
   "execution_count": 18,
   "metadata": {},
   "outputs": [
    {
     "data": {
      "text/html": [
       "<div>\n",
       "<style scoped>\n",
       "    .dataframe tbody tr th:only-of-type {\n",
       "        vertical-align: middle;\n",
       "    }\n",
       "\n",
       "    .dataframe tbody tr th {\n",
       "        vertical-align: top;\n",
       "    }\n",
       "\n",
       "    .dataframe thead th {\n",
       "        text-align: right;\n",
       "    }\n",
       "</style>\n",
       "<table border=\"1\" class=\"dataframe\">\n",
       "  <thead>\n",
       "    <tr style=\"text-align: right;\">\n",
       "      <th></th>\n",
       "      <th>gestion.tablero14.categoria</th>\n",
       "      <th>gestion.tablero14.numeroTicket</th>\n",
       "      <th>gestion.tablero14.close_date</th>\n",
       "      <th>gestion.tablero14.contact_name</th>\n",
       "      <th>gestion.tablero14.variable3</th>\n",
       "      <th>gestion.tablero14.variable2</th>\n",
       "      <th>gestion.tablero14.fechaApertura</th>\n",
       "      <th>gestion.tablero14.fechaCierre</th>\n",
       "      <th>gestion.tablero14.canal</th>\n",
       "      <th>gestion.tablero14.time-resolution</th>\n",
       "      <th>...</th>\n",
       "      <th>gestion.tablero14.cod_servicio</th>\n",
       "      <th>gestion.tablero14.region</th>\n",
       "      <th>gestion.tablero14.detalleSitio</th>\n",
       "      <th>gestion.tablero14.municipio</th>\n",
       "      <th>gestion.tablero14.codDaneInstitucionEdu</th>\n",
       "      <th>gestion.tablero14.location</th>\n",
       "      <th>gestion.tablero14.anyo</th>\n",
       "      <th>gestion.tablero14.mes</th>\n",
       "      <th>gestion.tablero14.dia</th>\n",
       "      <th>@timestamp</th>\n",
       "    </tr>\n",
       "  </thead>\n",
       "  <tbody>\n",
       "    <tr>\n",
       "      <th>0</th>\n",
       "      <td>Navegacion Internet</td>\n",
       "      <td>SD1401132</td>\n",
       "      <td></td>\n",
       "      <td>2</td>\n",
       "      <td>Navegacion Internet / Sin acceso a internet</td>\n",
       "      <td>Sin acceso a internet</td>\n",
       "      <td>2021-06-02 11:46:29</td>\n",
       "      <td>2021-06-18T10:10:29</td>\n",
       "      <td></td>\n",
       "      <td>Falla Conectividad MINTIC</td>\n",
       "      <td>...</td>\n",
       "      <td>ZZZY130</td>\n",
       "      <td>A</td>\n",
       "      <td>8</td>\n",
       "      <td>RIONEGRO</td>\n",
       "      <td>205615000010</td>\n",
       "      <td>5.86281346,-75.68581996</td>\n",
       "      <td>2021</td>\n",
       "      <td>06</td>\n",
       "      <td>02</td>\n",
       "      <td>2021-08-14T15:31:28.556745</td>\n",
       "    </tr>\n",
       "  </tbody>\n",
       "</table>\n",
       "<p>1 rows × 47 columns</p>\n",
       "</div>"
      ],
      "text/plain": [
       "  gestion.tablero14.categoria gestion.tablero14.numeroTicket  \\\n",
       "0        Navegacion Internet                       SD1401132   \n",
       "\n",
       "  gestion.tablero14.close_date gestion.tablero14.contact_name  \\\n",
       "0                                                           2   \n",
       "\n",
       "                    gestion.tablero14.variable3 gestion.tablero14.variable2  \\\n",
       "0  Navegacion Internet / Sin acceso a internet       Sin acceso a internet    \n",
       "\n",
       "  gestion.tablero14.fechaApertura gestion.tablero14.fechaCierre  \\\n",
       "0             2021-06-02 11:46:29           2021-06-18T10:10:29   \n",
       "\n",
       "  gestion.tablero14.canal gestion.tablero14.time-resolution  ...  \\\n",
       "0                                 Falla Conectividad MINTIC  ...   \n",
       "\n",
       "  gestion.tablero14.cod_servicio gestion.tablero14.region  \\\n",
       "0                        ZZZY130                        A   \n",
       "\n",
       "  gestion.tablero14.detalleSitio  gestion.tablero14.municipio  \\\n",
       "0                              8                     RIONEGRO   \n",
       "\n",
       "  gestion.tablero14.codDaneInstitucionEdu gestion.tablero14.location  \\\n",
       "0                            205615000010    5.86281346,-75.68581996   \n",
       "\n",
       "  gestion.tablero14.anyo  gestion.tablero14.mes gestion.tablero14.dia  \\\n",
       "0                   2021                     06                    02   \n",
       "\n",
       "                   @timestamp  \n",
       "0  2021-08-14T15:31:28.556745  \n",
       "\n",
       "[1 rows x 47 columns]"
      ]
     },
     "execution_count": 18,
     "metadata": {},
     "output_type": "execute_result"
    }
   ],
   "source": [
    "concat"
   ]
  },
  {
   "cell_type": "markdown",
   "metadata": {},
   "source": [
    "Actualizando fecha de control de ejecución"
   ]
  },
  {
   "cell_type": "code",
   "execution_count": 19,
   "metadata": {},
   "outputs": [
    {
     "name": "stdout",
     "output_type": "stream",
     "text": [
      "actualizada fecha control de ejecucion: 2021-06-02T11:50:00\n"
     ]
    }
   ],
   "source": [
    "fecha_ejecucion = (datetime.strptime(fecha_max_mintic, \"%Y-%m-%d\"'T'\"%H:%M:%S\")+timedelta(minutes=10)).strftime(\"%Y-%m-%d\"'T'\"%H:%M:%S\")[0:15] + '0:00'    \n",
    "#fecha_ejecucion = '2021-04-29T00:00:00'\n",
    "\n",
    "if fecha_ejecucion > str(now.strftime(\"%Y-%m-%d\"'T'\"%H:%M:%S\"))[0:15] + '0:00':\n",
    "    fecha_ejecucion = str(now.strftime(\"%Y-%m-%d\"'T'\"%H:%M:%S\"))[0:15] + '0:00'\n",
    "response = es.index(\n",
    "        index = indice_control,\n",
    "        id = 'jerarquia-tablero14',\n",
    "        body = { 'jerarquia-tablero14': 'jerarquia-tablero14','tablero14.fechaControl' : fecha_ejecucion}\n",
    ")\n",
    "print(\"actualizada fecha control de ejecucion:\",fecha_ejecucion)\n"
   ]
  },
  {
   "cell_type": "code",
   "execution_count": null,
   "metadata": {},
   "outputs": [],
   "source": []
  },
  {
   "cell_type": "code",
   "execution_count": null,
   "metadata": {},
   "outputs": [],
   "source": []
  },
  {
   "cell_type": "code",
   "execution_count": null,
   "metadata": {},
   "outputs": [],
   "source": []
  }
 ],
 "metadata": {
  "kernelspec": {
   "display_name": "Python 3",
   "language": "python",
   "name": "python3"
  },
  "language_info": {
   "codemirror_mode": {
    "name": "ipython",
    "version": 3
   },
   "file_extension": ".py",
   "mimetype": "text/x-python",
   "name": "python",
   "nbconvert_exporter": "python",
   "pygments_lexer": "ipython3",
   "version": "3.8.5"
  }
 },
 "nbformat": 4,
 "nbformat_minor": 4
}
