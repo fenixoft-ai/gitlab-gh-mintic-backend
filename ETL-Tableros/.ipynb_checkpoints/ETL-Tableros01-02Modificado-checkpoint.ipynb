{
 "cells": [
  {
   "cell_type": "code",
   "execution_count": 1685,
   "metadata": {},
   "outputs": [],
   "source": [
    "from elasticsearch import Elasticsearch, helpers\n",
    "from ssl import create_default_context\n",
    "import pandas as pd\n",
    "import numpy as np\n",
    "from datetime import datetime, timedelta\n",
    "import parametros\n",
    "import re\n",
    "import time\n",
    "# Aqui comence con los cambios, quite algunas librerias que no se estan usando [GM]"
   ]
  },
  {
   "cell_type": "markdown",
   "metadata": {},
   "source": [
    "## Conectando a ElasticSearch"
   ]
  },
  {
   "cell_type": "markdown",
   "metadata": {},
   "source": [
    "La ultima línea se utiliza para garantizar la ejecución de la consulta\n",
    "* timeout es el tiempo para cada ejecución\n",
    "* max_retries el número de intentos si la conexión falla\n",
    "* retry_on_timeout para activar los reitentos"
   ]
  },
  {
   "cell_type": "code",
   "execution_count": 1686,
   "metadata": {},
   "outputs": [],
   "source": [
    "context = create_default_context(cafile=parametros.cafile)\n",
    "es = Elasticsearch(\n",
    "    parametros.servidor,\n",
    "    http_auth=(parametros.usuario_EC, parametros.password_EC),\n",
    "    scheme=\"https\",\n",
    "    port=parametros.puerto,\n",
    "    ssl_context=context,\n",
    "    timeout=60, max_retries=3, retry_on_timeout=True\n",
    ") "
   ]
  },
  {
   "cell_type": "markdown",
   "metadata": {},
   "source": [
    "### Calculando fechas para la ejecución"
   ]
  },
  {
   "cell_type": "markdown",
   "metadata": {},
   "source": [
    "* Se calculan las fechas para asociar al nombre del indice\n",
    "* fecha_hoy es usada para concatenar al nombre del indice principal previa inserción"
   ]
  },
  {
   "cell_type": "code",
   "execution_count": 1687,
   "metadata": {},
   "outputs": [],
   "source": [
    "now = datetime.now()\n",
    "fecha_hoy = str(now.strftime(\"%Y.%m.%d\"))\n",
    "ahora_format = \"%Y-%m-%d\"'T'\"%H:%M:%S\"\n",
    "ahora = str(now.strftime(ahora_format))\n",
    "ahora_cdd = str(now.strftime(\"%Y-%m-%d\"' '\"%H:%M:%S\"))\n",
    "fechaAhora = str(now.strftime(\"%Y%m%d%H%M%S\"))\n",
    "datos_logs =\"\"\n",
    "#fechaAhora"
   ]
  },
  {
   "cell_type": "markdown",
   "metadata": {},
   "source": [
    "### Definiendo indice principal con fecha de hoy\n",
    "* 1.- Primer detalle (aqui se deberia de quitar esa fecha_hoy ? )\n",
    "*     [ indice parameter= \"dev-mintic-concat\" ]   [GM]\n",
    "\n"
   ]
  },
  {
   "cell_type": "code",
   "execution_count": 1688,
   "metadata": {},
   "outputs": [],
   "source": [
    "indice = parametros.disponibilidad_tableros_index\n",
    "indice_control = parametros.tableros_mintic_control"
   ]
  },
  {
   "cell_type": "markdown",
   "metadata": {},
   "source": [
    "### Función para generar JSON compatible con ES"
   ]
  },
  {
   "cell_type": "code",
   "execution_count": 1689,
   "metadata": {},
   "outputs": [],
   "source": [
    "def filterKeys(document, use_these_keys):\n",
    "    return {key: document.get(key) for key in use_these_keys }"
   ]
  },
  {
   "cell_type": "markdown",
   "metadata": {},
   "source": [
    "### Trae la ultima fecha para control de ejecución"
   ]
  },
  {
   "cell_type": "markdown",
   "metadata": {},
   "source": [
    "Cuando en el rango de tiempo de la ejecución, no se insertan nuevos valores, las fecha maxima en indice mintic no aumenta, por tanto se usa esta fecha de control para garantizar que incremente el bucle de ejecución"
   ]
  },
  {
   "cell_type": "code",
   "execution_count": 1690,
   "metadata": {},
   "outputs": [
    {
     "name": "stdout",
     "output_type": "stream",
     "text": [
      "ultima fecha para control de ejecucion gestion_estado_incidentes: 2021-06-09T00:00:00\n"
     ]
    }
   ],
   "source": [
    "total_docs = 1\n",
    "try:\n",
    "    response = es.search(\n",
    "        index= indice_control,\n",
    "        body={\n",
    "           \"_source\": [\"gestion.fechaControl\"],\n",
    "              \"query\": {\n",
    "                \"bool\": {\n",
    "                  \"filter\": [\n",
    "                  {\n",
    "                    \"exists\": {\n",
    "                              \"field\":\"jerarquia_disponibilidad1\"\n",
    "                    }\n",
    "                  }\n",
    "              ]\n",
    "            }\n",
    "          }\n",
    "        },\n",
    "        size=total_docs\n",
    "    )\n",
    "    #print(es.info())\n",
    "    elastic_docs = response[\"hits\"][\"hits\"]\n",
    "    fields = {}\n",
    "    for num, doc in enumerate(elastic_docs):\n",
    "        fecha_ejecucion = doc[\"_source\"]['gestion.fechaControl']\n",
    "except:\n",
    "    response[\"hits\"][\"hits\"] = []\n",
    "if response[\"hits\"][\"hits\"] == []:\n",
    "    fecha_ejecucion = '2021-06-01T00:00:00'\n",
    "print(\"ultima fecha para control de ejecucion gestion_estado_incidentes:\",fecha_ejecucion)"
   ]
  },
  {
   "cell_type": "markdown",
   "metadata": {},
   "source": [
    "### 1.- leyendo indice semilla-inventario"
   ]
  },
  {
   "cell_type": "markdown",
   "metadata": {},
   "source": [
    "En el script que ingesta semilla, trae la información de los centros de conexión administrados. Para el indice principal se requiere:\n",
    "\n",
    "* site_id como llave del centro de conexión.\n",
    "* Datos geográficos (Departamento, municipio, centro poblado, sede.)"
   ]
  },
  {
   "cell_type": "code",
   "execution_count": 1691,
   "metadata": {},
   "outputs": [],
   "source": [
    "total_docs = 10000\n",
    "try:\n",
    "    response = es.search(\n",
    "        index= parametros.semilla_inventario_index,\n",
    "        body={\n",
    "               \"_source\": ['site_id','nombre_municipio', 'nombre_departamento', 'nombre_centro_pob','energiadesc'\n",
    "                           ,'nombreSede','latitud','longitud','id_Beneficiario','COD_ISO','codDanesede',\n",
    "                           'cod_servicio','codDaneMuni','nombre_centro_pob','codCentroPoblado','codDaneInstitucionEdu',\n",
    "                           'tipoSitio','detalleSitio','energia','region','matricula','DDA','grupoDesc','estadoInstalacion',\n",
    "                           'nombreInstitucionEd']\n",
    "        },\n",
    "        size=total_docs\n",
    "    )\n",
    "    #print(es.info())\n",
    "    elastic_docs = response[\"hits\"][\"hits\"]\n",
    "    fields = {}\n",
    "    for num, doc in enumerate(elastic_docs):\n",
    "        source_data = doc[\"_source\"]\n",
    "        for key, val in source_data.items():\n",
    "            try:\n",
    "                fields[key] = np.append(fields[key], val)\n",
    "            except KeyError:\n",
    "                fields[key] = np.array([val])\n",
    "\n",
    "    datos_semilla = pd.DataFrame(dict([ (k,pd.Series(v)) for k,v in fields.items() ])) #pd.DataFrame(fields)\n",
    "except Exception as e:\n",
    "    print(e)\n",
    "    print(\"fecha:\",now,\"- Error en lectura de datos semilla\")\n",
    "    #exit()"
   ]
  },
  {
   "cell_type": "code",
   "execution_count": 1692,
   "metadata": {},
   "outputs": [],
   "source": [
    "def get_location(x,y='lat'):\n",
    "    patron = re.compile('^(\\-?\\d+(\\.\\d+)?),\\s*(\\-?\\d+(\\.\\d+)?)$') #patrón que debe cumplir\n",
    "    if (not patron.match(x) is None) and (str(x)!=''):\n",
    "        return x.replace(',','.')\n",
    "    else:\n",
    "        #Código a ejecutar si las coordenadas no son válidas\n",
    "        return '4.596389' if y=='lat' else '-74.074639'"
   ]
  },
  {
   "cell_type": "code",
   "execution_count": 1693,
   "metadata": {},
   "outputs": [],
   "source": [
    "datos_semilla['latitud'] = datos_semilla['latitud'].apply(lambda x:get_location(x,'lat'))\n",
    "datos_semilla['longitud'] = datos_semilla['longitud'].apply(lambda x:get_location(x,'lon'))\n",
    "datos_semilla = datos_semilla.drop(datos_semilla[(datos_semilla[\"longitud\"]=='a') | (datos_semilla[\"latitud\"]=='a')].index)\n",
    "datos_semilla['gestion.location'] = datos_semilla['latitud'] + ',' + datos_semilla['longitud']\n",
    "datos_semilla['gestion.location']=datos_semilla['gestion.location'].str.replace('a,a','')\n",
    "datos_semilla.drop(columns=['latitud','longitud'],inplace=True)"
   ]
  },
  {
   "cell_type": "markdown",
   "metadata": {},
   "source": [
    "### 2.- Leyendo datos de Cambium-Device-Devices"
   ]
  },
  {
   "cell_type": "code",
   "execution_count": 1694,
   "metadata": {},
   "outputs": [],
   "source": [
    "# Se extraen los datos de cambium-devicedevices,  'cambium-devicedevices'\n",
    "\n",
    "def traerDDevices(fecha_max,fecha_tope):\n",
    "    print(fecha_max)\n",
    "    print(fecha_tope)\n",
    "    total_docs = 10000\n",
    "    try:\n",
    "        response = es.search(\n",
    "            index= parametros.cambium_d_d_index,\n",
    "            body={\n",
    "                \"_source\": [\"registration_date\",\"mac\",\"ip\",\"ap_group\",\"site_id\",\"status\",\"name\"]\n",
    "                ,\"query\": {\n",
    "    \"range\": {\n",
    "      \"registration_date\": {\n",
    "        \"gte\": fecha_max,\n",
    "        \"lt\": fecha_tope\n",
    "      }\n",
    "    }\n",
    "  }\n",
    "            },\n",
    "            size=total_docs\n",
    "        )\n",
    "        elastic_docs = response[\"hits\"][\"hits\"]\n",
    "        datos_DDevices = pd.DataFrame([x[\"_source\"] for x in elastic_docs])\n",
    "        \n",
    "        datos_DDevices['site_id'] = datos_DDevices['site_id'].str.strip()\n",
    "        datos_DDevices  = datos_DDevices.rename(columns={'ap_group':'gestion.ptos_acceso'})\n",
    "        datos_DDevices  = datos_DDevices.dropna(subset=['site_id'])\n",
    "        datos_DDevices.fillna('', inplace=True)\n",
    "        datos_DDevices = datos_DDevices.drop(datos_DDevices[(datos_DDevices['site_id']=='')].index)\n",
    "        datos_DDevices.sort_values(['site_id','gestion.ptos_acceso'], inplace=True)\n",
    "        \n",
    "        datos_DDevices['gestion.ptos_acceso'] = datos_DDevices['gestion.ptos_acceso'].str.split(\"-\", n = 1, expand = True)[0]\n",
    "        datos_DDevices['gestion.ptos_acceso'] = datos_DDevices['gestion.ptos_acceso'].str.split(\"_\", n = 1, expand = True)[0]\n",
    "        datos_DDevices['gestion.ptos_acceso'] = datos_DDevices['gestion.ptos_acceso'].str.split(\".\", n = 1, expand = True)[0]\n",
    "        datos_DDevices = datos_DDevices.drop(datos_DDevices[(datos_DDevices['gestion.ptos_acceso']=='')].index)\n",
    "        datos_DDevices = datos_DDevices.drop_duplicates('mac')\n",
    "        \n",
    "        return datos_DDevices \n",
    "    except Exception as e:\n",
    "        print(e)\n",
    "        return pd.DataFrame()\n",
    "    "
   ]
  },
  {
   "cell_type": "markdown",
   "metadata": {},
   "source": [
    "Realizando bucle hasta conseguir datos de servicemanager-incidentes o hasta la fecha actual para realizar la carga de datos"
   ]
  },
  {
   "cell_type": "code",
   "execution_count": 1695,
   "metadata": {},
   "outputs": [],
   "source": [
    "def drop_invalid_values(df, fields=[], values = ['NA','',np.NaN,None],operator='or'):\n",
    "    fields = df.columns if fields==[] else fields\n",
    "    if operator=='or':\n",
    "        freduce = np.logical_or.reduce\n",
    "    elif operator=='and':\n",
    "        freduce = np.logical_and.reduce\n",
    "    else:\n",
    "        return\n",
    "    \n",
    "    df.drop(df[freduce([df[c].isin(values) for c in fields])].index,inplace=True)"
   ]
  },
  {
   "cell_type": "code",
   "execution_count": 1696,
   "metadata": {},
   "outputs": [],
   "source": [
    "datos_CDD=pd.DataFrame(columns=['registration_date', \n",
    "                                    'gestion.ptos_acceso', \n",
    "                                    'ip', \n",
    "                                    'site_id', \n",
    "                                    'mac',\n",
    "                                    'status'])"
   ]
  },
  {
   "cell_type": "code",
   "execution_count": 1697,
   "metadata": {},
   "outputs": [
    {
     "name": "stdout",
     "output_type": "stream",
     "text": [
      "2021-06-09 00:00:00\n",
      "2021-06-09 00:59:59\n",
      "'site_id'\n",
      "2021-06-09 01:00:00\n",
      "2021-06-09 01:59:59\n",
      "'site_id'\n",
      "2021-06-09 02:00:00\n",
      "2021-06-09 02:59:59\n",
      "'site_id'\n",
      "2021-06-09 03:00:00\n",
      "2021-06-09 03:59:59\n",
      "'site_id'\n",
      "2021-06-09 04:00:00\n",
      "2021-06-09 04:59:59\n",
      "'site_id'\n",
      "2021-06-09 05:00:00\n",
      "2021-06-09 05:59:59\n",
      "'site_id'\n",
      "2021-06-09 06:00:00\n",
      "2021-06-09 06:59:59\n",
      "'site_id'\n",
      "2021-06-09 07:00:00\n",
      "2021-06-09 07:59:59\n",
      "'site_id'\n",
      "2021-06-09 08:00:00\n",
      "2021-06-09 08:59:59\n",
      "'site_id'\n",
      "2021-06-09 09:00:00\n",
      "2021-06-09 09:59:59\n"
     ]
    }
   ],
   "source": [
    "fecha_max_mintic = fecha_ejecucion.replace('T',' ')\n",
    "\n",
    "fecha_tope_mintic = (datetime.strptime(fecha_max_mintic, \"%Y-%m-%d %H:%M:%S\")+timedelta(minutes=60)-timedelta(seconds=1)).strftime(\"%Y-%m-%d %H:%M:%S\")\n",
    "datos_CDD = traerDDevices(fecha_max_mintic,fecha_tope_mintic)\n",
    "\n",
    "if datos_CDD is None or datos_CDD.empty:\n",
    "    while (datos_CDD is None or datos_CDD.empty) and ((datetime.strptime(fecha_max_mintic[0:10], '%Y-%m-%d').strftime(\"%Y-%m-%d %H:%M:%S\")) < str(now.strftime(\"%Y-%m-%d %H:%M:%S.%f\"))):\n",
    "        fecha_max_mintic = (datetime.strptime(fecha_max_mintic, \"%Y-%m-%d %H:%M:%S\")+timedelta(minutes=60)).strftime(\"%Y-%m-%d %H:%M:%S\")\n",
    "        fecha_tope_mintic = (datetime.strptime(fecha_tope_mintic, \"%Y-%m-%d %H:%M:%S\")+timedelta(minutes=60)).strftime(\"%Y-%m-%d %H:%M:%S\")\n",
    "        datos_CDD = traerDDevices(fecha_max_mintic,fecha_tope_mintic)\n",
    "else:\n",
    "    pass\n",
    "\n",
    "if datos_CDD.empty:\n",
    "    datos_CDD=pd.DataFrame(columns=['registration_date', \n",
    "                                    'gestion.ptos_acceso', \n",
    "                                    'ip', \n",
    "                                    'site_id', \n",
    "                                    'mac',\n",
    "                                    'status'])\n",
    "\n",
    "\n",
    "if datos_CDD is None or datos_CDD.empty:\n",
    "    datos_logs = datos_logs +\"\\n No trajo datos en este rango de fecha. \"\n",
    "    datos_CDD2=pd.DataFrame(columns=['site_id', 'status'])\n",
    "else:\n",
    "    drop_invalid_values(datos_CDD,['gestion.ptos_acceso','site_id','status'])\n",
    "    \n",
    "    datos_CDD  = datos_CDD.dropna(subset=['site_id'])\n",
    "\n",
    "    datos_CDD = datos_CDD.drop(datos_CDD[(datos_CDD['site_id']=='')].index)\n",
    "    datos_logs= datos_logs + \"\\n total reg.: \" + str(datos_CDD[\"site_id\"].size) + \"    viene con (registration_date,gestion.ptos_acceso,ip,site_id,mac,status)\"\n",
    "\n",
    "    #datos_CDD2 = datos_CDD[[\"site_id\",\"registration_date\", \"status\", \"gestion.ptos_acceso\"]]\n",
    "    datos_CDD2 = datos_CDD[[\"site_id\", \"status\"]]    #datos_CDD2 = datos_CDD2[[\"site_id\",\"registration_date\", \"status\", \"gestion.ptos_acceso\"]].groupby([\"site_id\", \"status\", \"gestion.ptos_acceso\"]).agg(['max']).reset_index()\n",
    "    datos_CDD2 = datos_CDD2[[\"site_id\",\"status\"]].groupby([\"site_id\"]).agg(['count']).reset_index()\n",
    "\n",
    "    datos_CDD2.columns = datos_CDD2.columns.droplevel(1)       \n",
    "    datos_logs = datos_logs +\"\\n se quitan los repetidos status=(offline, online, onboaring) total reg.: \" + str(datos_CDD2[\"site_id\"].size)\n",
    " \n",
    "#print (datos_logs)    # ojoooooo  cuando se pase a Produccion se quita esta linea"
   ]
  },
  {
   "cell_type": "code",
   "execution_count": 1698,
   "metadata": {},
   "outputs": [],
   "source": [
    "def disponibilidad(x):\n",
    "    resp = 'No disponible'\n",
    "    if 'online' in list(x):\n",
    "        resp='Disponible'\n",
    "    return resp\n",
    "\n",
    "df_dispo = pd.concat([datos_CDD.groupby(['site_id'])['status'].apply(lambda x: disponibilidad(x)),\n",
    "                      datos_CDD.groupby(['site_id']).registration_date.max('registration_date')],\n",
    "                      axis=1)\n",
    "\n",
    "\n",
    "df_dispo.rename(columns={'status':'disponibilidad','registration_date':'max_fecha'},inplace=True)\n",
    "\n",
    "df_dispo.reset_index(inplace=True)\n",
    "\n",
    "\n",
    "df_dispo= pd.merge(df_dispo,datos_CDD[['site_id','mac','ip','gestion.ptos_acceso','status']],on=['site_id'],how='inner')\n",
    "\n",
    "df_dispo.rename(columns={'status':'status.macRed','gestion.ptos_acceso':'ap_group'},inplace=True)"
   ]
  },
  {
   "cell_type": "markdown",
   "metadata": {},
   "source": [
    "Se limpian datos mal formados de ap_group"
   ]
  },
  {
   "cell_type": "code",
   "execution_count": 1699,
   "metadata": {},
   "outputs": [],
   "source": [
    "if not df_dispo.empty:\n",
    "    df_dispo['ap_group'] = df_dispo['ap_group'].str.split(\"-\", n = 1, expand = True)[0]\n",
    "    df_dispo['ap_group'] = df_dispo['ap_group'].str.split(\"_\", n = 1, expand = True)[0]\n",
    "    df_dispo['ap_group'] = df_dispo['ap_group'].str.split(\".\", n = 1, expand = True)[0]\n",
    "    df_dispo = df_dispo.drop(df_dispo[(df_dispo['ap_group']=='')].index)\n",
    "    df_dispo = df_dispo.drop(df_dispo[(df_dispo['ap_group']=='PRUEBA OUTDOOR')].index)"
   ]
  },
  {
   "cell_type": "markdown",
   "metadata": {},
   "source": [
    "## Lectura de estados\n",
    "* estos estados guardan el ultimo estado \"offline\" en que estuvo el centro \n"
   ]
  },
  {
   "cell_type": "code",
   "execution_count": 1700,
   "metadata": {},
   "outputs": [],
   "source": [
    "total_docs = 10000\n",
    "try:\n",
    "    response = es.search(\n",
    "        index= \"edo_sitio-\" + indice,\n",
    "        body={\n",
    "               \"_source\": ['site_id','fechahora','itsm_incident_id']\n",
    "        },\n",
    "        size=total_docs\n",
    "    )    \n",
    "    elastic_docs = response[\"hits\"][\"hits\"]\n",
    "    fields = {}\n",
    "    for num, doc in enumerate(elastic_docs):\n",
    "        source_data = doc[\"_source\"]\n",
    "        for key, val in source_data.items():\n",
    "            try:\n",
    "                fields[key] = np.append(fields[key], val)\n",
    "            except KeyError:\n",
    "                fields[key] = np.array([val])\n",
    "\n",
    "    edo_sitio = pd.DataFrame(dict([ (k,pd.Series(v)) for k,v in fields.items() ]))\n",
    "    \n",
    "    if edo_sitio.empty:\n",
    "        edo_sitio = pd.DataFrame(columns=['site_id','fechahora','itsm_incident_id'])\n",
    "\n",
    "except Exception as e:\n",
    "#     print(e.message)\n",
    "    edo_sitio = pd.DataFrame(columns=['site_id','fechahora','itsm_incident_id'])\n",
    "    \n",
    "edo_sitio[\"fechahora\"] = fechaAhora\n",
    "#edo_sitio[\"itsm_incident_id\"]    = \"0\"\n",
    "  "
   ]
  },
  {
   "cell_type": "code",
   "execution_count": 1701,
   "metadata": {},
   "outputs": [
    {
     "name": "stdout",
     "output_type": "stream",
     "text": [
      "         site_id  status\n",
      "0  36886-ZGYO356       3\n"
     ]
    }
   ],
   "source": [
    "print(datos_CDD2)\n",
    "try:\n",
    "    concat0 = pd.merge(datos_semilla, datos_CDD , on=['site_id'],how='inner')\n",
    "except Exception as e:\n",
    "#     print(e.message)\n",
    "    concat0 = pd.DataFrame()\n",
    "\n",
    "datos_logs = datos_logs +\"\\n se cruza con SEMILLA  total reg.: \" + str(concat0[\"site_id\"].size)"
   ]
  },
  {
   "cell_type": "markdown",
   "metadata": {},
   "source": [
    "Haciendo merge entre semilla e incidentes"
   ]
  },
  {
   "cell_type": "code",
   "execution_count": 1702,
   "metadata": {
    "scrolled": true
   },
   "outputs": [
    {
     "name": "stdout",
     "output_type": "stream",
     "text": [
      " Conectados:  6  desconectados:  0  total:  6\n",
      "     nombreSede  DDA  estadoInstalacion COD_ISO  energia nombre_departamento  \\\n",
      "0  LAS MERCEDES    5                  3  CO-HUI        1               HUILA   \n",
      "1  LAS MERCEDES    5                  3  CO-HUI        1               HUILA   \n",
      "2  LAS MERCEDES    5                  3  CO-HUI        1               HUILA   \n",
      "3  LAS MERCEDES    5                  3  CO-HUI        1               HUILA   \n",
      "4  LAS MERCEDES    5                  3  CO-HUI        1               HUILA   \n",
      "5  LAS MERCEDES    5                  3  CO-HUI        1               HUILA   \n",
      "\n",
      "   codCentroPoblado          nombreInstitucionEd   codDanesede  tipoSitio  \\\n",
      "0               333  IE LUIS EDGAR DURAN RAMIREZ  241530000106          1   \n",
      "1               333  IE LUIS EDGAR DURAN RAMIREZ  241530000106          1   \n",
      "2               333  IE LUIS EDGAR DURAN RAMIREZ  241530000106          1   \n",
      "3               333  IE LUIS EDGAR DURAN RAMIREZ  241530000106          1   \n",
      "4               333  IE LUIS EDGAR DURAN RAMIREZ  241530000106          1   \n",
      "5               333  IE LUIS EDGAR DURAN RAMIREZ  241530000106          1   \n",
      "\n",
      "   ...  gestion.ptos_acceso              ip                   name  \\\n",
      "0  ...               INDOOR  172.28.117.155   36886-ZGYO356-AP-INT   \n",
      "1  ...               INDOOR  172.28.117.155   36886-ZGYO356-AP-INT   \n",
      "2  ...              OUTDOOR  172.28.117.156  36886-ZGYO356-AP-EXT1   \n",
      "3  ...              OUTDOOR  172.28.117.156  36886-ZGYO356-AP-EXT1   \n",
      "4  ...              OUTDOOR  172.28.117.157  36886-ZGYO356-AP-EXT2   \n",
      "5  ...              OUTDOOR  172.28.117.157  36886-ZGYO356-AP-EXT2   \n",
      "\n",
      "                 mac status_x cantidad cantidad_x status_y  cantidad_y  \\\n",
      "0  BC:E6:7C:5F:39:F6  offline        0          3  offline           1   \n",
      "1  BC:E6:7C:5F:39:F6  offline        0          3   online           2   \n",
      "2  BC:A9:93:00:98:25   online        0          3  offline           1   \n",
      "3  BC:A9:93:00:98:25   online        0          3   online           2   \n",
      "4  BC:A9:93:00:98:45   online        0          3  offline           1   \n",
      "5  BC:A9:93:00:98:45   online        0          3   online           2   \n",
      "\n",
      "  gestion.estadoCentro  \n",
      "0           CONECTADOS  \n",
      "1           CONECTADOS  \n",
      "2           CONECTADOS  \n",
      "3           CONECTADOS  \n",
      "4           CONECTADOS  \n",
      "5           CONECTADOS  \n",
      "\n",
      "[6 rows x 34 columns]\n",
      "NO  NOOOOO tienes registro .. todo_off\n"
     ]
    }
   ],
   "source": [
    "# esto es el deber ser, lo politicamente correcto \n",
    "result1=concat0\n",
    "result2=concat0\n",
    "\n",
    "result1['cantidad'] = 0\n",
    "result2['cantidad'] = 0\n",
    "\n",
    "result1 = result1.groupby(['site_id'])['site_id'].count().to_frame()\n",
    "result2 = result2.groupby(['site_id', 'status'])['site_id'].count().to_frame()\n",
    "\n",
    "result1 = result1.rename(columns={'site_id' :  'cantidad_x'})\n",
    "result2 = result2.rename(columns={'site_id' :  'cantidad_y'})\n",
    "result1 = result1.reset_index()\n",
    "result2 = result2.reset_index()\n",
    "#result1 = result1[['site_id',\"cantidad\"]].groupby(['site_id']).agg(['count'])\n",
    "#result2 = result2[['site_id', 'status',\"cantidad\"]].groupby(['site_id', 'status']).agg(['count'])\n",
    "#result1 = result1.columns.droplevel(1)\n",
    "#result2 = result2.columns.droplevel(1)\n",
    "#datos_CDD2[[\"site_id\",\"status\"]].groupby([\"site_id\"]).agg(['count']).reset_index()\n",
    "result_completo = pd.merge(result1, result2,on=['site_id'],how='inner')\n",
    "#result_completo[\"gestion.estadoCentro\"] = result_completo.apply(lambda row: 'DESCONECTADOS' if( row.status == 'offline' and row.cantidad_x == row.cantidad_y) else 'CONECTADOS', axis=1)\n",
    "result_completo[\"gestion.estadoCentro\"] = result_completo.apply(lambda row: 'DESCONECTADOS' if( row.status  == 'offline' and row.cantidad_x == row.cantidad_y) else 'CONECTADOS', axis=1)\n",
    "\n",
    "completo  = pd.merge(concat0, result_completo,on=['site_id'],how='inner')\n",
    "\n",
    "\n",
    "#completo \n",
    "conectados = 0\n",
    "desconectados = 0\n",
    "\n",
    "bb = completo[(completo[\"gestion.estadoCentro\"]==\"DESCONECTADOS\")].reset_index()\n",
    "aa = completo[(completo[\"gestion.estadoCentro\"]!=\"DESCONECTADOS\")].reset_index()\n",
    "\n",
    "conectados = aa[\"site_id\"].size\n",
    "desconectados = bb[\"site_id\"].size\n",
    "totales = desconectados + conectados\n",
    "print (\" Conectados: \" , conectados , \" desconectados: \", desconectados , \" total: \" , totales)\n",
    "print(completo)\n",
    "#i=0\n",
    "#for index2 in todos_off:    \n",
    " #   print (i,\" reg. site_id: \" )\n",
    " #   print (index2)\n",
    " #   i=i+1\n",
    "    # df.loc[df['A'] > 2, 'B'] = new_val    ejemplo \n",
    "\n",
    "if len(todos_off)>0:\n",
    "    print (\"tienes registro .. todo_off\")\n",
    "else:    \n",
    "    print (\"NO  NOOOOO tienes registro .. todo_off\")\n"
   ]
  },
  {
   "cell_type": "markdown",
   "metadata": {},
   "source": [
    "### Realizando inserción en ultimo estado del sitio"
   ]
  },
  {
   "cell_type": "code",
   "execution_count": 1703,
   "metadata": {},
   "outputs": [],
   "source": [
    "#use_these_keys = ['site_id','gestion.estadoCentro','fechahora', 'itsm_incident_id']\n",
    "#def doc_generator(df,use_these_keys):\n",
    "#    df_iter = df.iterrows()\n",
    "#    for index, document in df_iter:\n",
    "#        yield {\n",
    "#                \"_index\": \"edo_sitio-\" + indice, \n",
    "#                \"_id\": f\"{'Estado-'+str(document['site_id'])}\",\n",
    "#                \"_source\": filterKeys(document,use_these_keys),\n",
    "#            }\n",
    "#if len(todos_off)>0:        \n",
    "#    salida = helpers.bulk(es, doc_generator(todos_off,use_these_keys))\n",
    "#    print(\"Fecha: \", now,\"- Ult.Estado de los Centros Desconectados  insertadas en indice edo_sitio:\",salida[0])\n"
   ]
  },
  {
   "cell_type": "code",
   "execution_count": 1704,
   "metadata": {},
   "outputs": [],
   "source": [
    "# es.indices.delete(index=\"edo_sitio-\" + parametros.mintic_concat_index, ignore=[400, 404])\n",
    "# aqui elimino todo el indice para poder ingresar los nuevos registros con los campos nuevos  GM"
   ]
  },
  {
   "cell_type": "markdown",
   "metadata": {},
   "source": [
    "## 10.- insercion en el indice\n"
   ]
  },
  {
   "cell_type": "code",
   "execution_count": 1705,
   "metadata": {},
   "outputs": [
    {
     "name": "stdout",
     "output_type": "stream",
     "text": [
      "  gestion.estado.nombreSede  gestion.estado.DDA  \\\n",
      "0              LAS MERCEDES                   5   \n",
      "1              LAS MERCEDES                   5   \n",
      "2              LAS MERCEDES                   5   \n",
      "3              LAS MERCEDES                   5   \n",
      "4              LAS MERCEDES                   5   \n",
      "5              LAS MERCEDES                   5   \n",
      "\n",
      "   gestion.estado.estadoInstalacion gestion.estado.COD_ISO  \\\n",
      "0                                 3                 CO-HUI   \n",
      "1                                 3                 CO-HUI   \n",
      "2                                 3                 CO-HUI   \n",
      "3                                 3                 CO-HUI   \n",
      "4                                 3                 CO-HUI   \n",
      "5                                 3                 CO-HUI   \n",
      "\n",
      "   gestion.estado.energia gestion.estado.dptoGestion  \\\n",
      "0                       1                      HUILA   \n",
      "1                       1                      HUILA   \n",
      "2                       1                      HUILA   \n",
      "3                       1                      HUILA   \n",
      "4                       1                      HUILA   \n",
      "5                       1                      HUILA   \n",
      "\n",
      "   gestion.estado.codCentroPoblado gestion.estado.nombreInstitucionEd  \\\n",
      "0                              333        IE LUIS EDGAR DURAN RAMIREZ   \n",
      "1                              333        IE LUIS EDGAR DURAN RAMIREZ   \n",
      "2                              333        IE LUIS EDGAR DURAN RAMIREZ   \n",
      "3                              333        IE LUIS EDGAR DURAN RAMIREZ   \n",
      "4                              333        IE LUIS EDGAR DURAN RAMIREZ   \n",
      "5                              333        IE LUIS EDGAR DURAN RAMIREZ   \n",
      "\n",
      "   gestion.estado.codDanesede  gestion.estado.tipoSitio  ...  \\\n",
      "0                241530000106                         1  ...   \n",
      "1                241530000106                         1  ...   \n",
      "2                241530000106                         1  ...   \n",
      "3                241530000106                         1  ...   \n",
      "4                241530000106                         1  ...   \n",
      "5                241530000106                         1  ...   \n",
      "\n",
      "   gestion.fechaControl gestion.fecha gestion.hora gestion.minuto  \\\n",
      "0   2021-08-24 01:30:52    2021-08-24           01             30   \n",
      "1   2021-08-24 01:30:52    2021-08-24           01             30   \n",
      "2   2021-08-24 01:30:52    2021-08-24           01             30   \n",
      "3   2021-08-24 01:30:52    2021-08-24           01             30   \n",
      "4   2021-08-24 01:30:52    2021-08-24           01             30   \n",
      "5   2021-08-24 01:30:52    2021-08-24           01             30   \n",
      "\n",
      "  gestion.anyo gestion.mes gestion.dia gestion.totales.cantDev  \\\n",
      "0         2021          08          24                       6   \n",
      "1         2021          08          24                       6   \n",
      "2         2021          08          24                       6   \n",
      "3         2021          08          24                       6   \n",
      "4         2021          08          24                       6   \n",
      "5         2021          08          24                       6   \n",
      "\n",
      "   gestion.totales.cantDevConectados gestion.totales.cantDevdesConectados  \n",
      "0                                  6                                    0  \n",
      "1                                  6                                    0  \n",
      "2                                  6                                    0  \n",
      "3                                  6                                    0  \n",
      "4                                  6                                    0  \n",
      "5                                  6                                    0  \n",
      "\n",
      "[6 rows x 44 columns]\n"
     ]
    }
   ],
   "source": [
    "# primero INSERTAR FINAL\n",
    "completo.fillna({'fechahora':fechaAhora},inplace=True)\n",
    "completo.fillna({'gestion.estadoCentro':'CONECTADOS'},inplace=True)\n",
    "completo.fillna({'itsm_incident_id':0},inplace=True)\n",
    "\n",
    "try:\n",
    "    completo = completo.rename(columns={'id_Beneficiario' :  'gestion.estado.id_Beneficiario'\n",
    "                                                                ,'nombreSede':'gestion.estado.nombreSede'\n",
    "                                                                ,'site_id':'gestion.estado.site_id'\n",
    "                                                                ,'nombre_departamento':'gestion.estado.dptoGestion'\n",
    "                                                                ,'nombre_municipio':'gestion.estado.muniGestion'\n",
    "                                                                ,'nombre_centro_pob':'gestion.estado.nombre_centro_pob'\n",
    "                                                                ,'COD_ISO':'gestion.estado.COD_ISO'\n",
    "                                                                ,'codDanesede':'gestion.estado.codDanesede'\n",
    "                                                                ,'energiadesc':'gestion.estado.energiadesc'\n",
    "                                                                ,'DDA':'gestion.estado.DDA'\n",
    "                                                                ,'gestion.location':'gestion.estado.location'\n",
    "                                                                ,'estadoInstalacion':'gestion.estado.estadoInstalacion'\n",
    "                                                                ,'nombreInstitucionEd':'gestion.estado.nombreInstitucionEd'\n",
    "                                                                ,'matricula':'gestion.estado.matricula'\n",
    "                                                                ,'municipioPDET':'gestion.estado.municipioPDET'    \n",
    "                                        ,'cod_servicio':'gestion.estado.cod_servicio'\n",
    "                                        ,'codDaneMuni':'gestion.estado.codDaneMuni'\n",
    "                                        ,'codCentroPoblado':'gestion.estado.codCentroPoblado'\n",
    "                                        ,'codDaneInstitucionEdu':'gestion.estado.codDaneInstitucionEdu'\n",
    "                                        ,'tipoSitio':'gestion.estado.tipoSitio'\n",
    "                                        ,'detalleSitio':'gestion.estado.detalleSitio'\n",
    "                                        ,'energia':'gestion.estado.energia'\n",
    "                                        ,'region':'gestion.estado.region'\n",
    "                                        ,'grupoDesc' :'gestion.estado.grupoDesc'\n",
    "                                        })\n",
    "                \n",
    "    completo[\"gestion.fechaControl\"] =  ahora_cdd\n",
    "    completo[\"gestion.fecha\"]=  completo[\"gestion.fechaControl\"].str.split(\" \", n = 1, expand = True)[0]\n",
    "    completo[\"gestion.hora\"]=completo[\"gestion.fechaControl\"].str.split(\" \", n=1, expand=True)[1].str.split(\":\", n = 2, expand = True)[0]\n",
    "    completo[\"gestion.minuto\"]=completo[\"gestion.fechaControl\"].str.split(\" \", n=1, expand=True)[1].str.split(\":\", n = 2, expand = True)[1]\n",
    "    completo[\"gestion.anyo\"] =  completo[\"gestion.fecha\"].str[0:4]\n",
    "    completo[\"gestion.mes\"]  =  completo[\"gestion.fecha\"].str[5:7]\n",
    "    completo[\"gestion.dia\"]  =  completo[\"gestion.fecha\"].str[8:10]\n",
    "    completo[\"gestion.totales.cantDev\"]  = totales  \n",
    "    completo[\"gestion.totales.cantDevConectados\"]  =  conectados\n",
    "    completo[\"gestion.totales.cantDevdesConectados\"]  =  desconectados\n",
    "    \n",
    "    print(completo)\n",
    "except Exception as e:\n",
    "    completo = pd.DataFrame(columns=['gestion.estado.nombreSede', 'gestion.estado.DDA','gestion.estado.estadoInstalacion', 'gestion.estado.COD_ISO',\n",
    "   'gestion.estado.energia', 'gestion.estado.dptoGestion','gestion.estado.codCentroPoblado', 'gestion.estado.codDanesede',\n",
    "   'gestion.estado.tipoSitio', 'gestion.estado.codDaneMuni','gestion.estado.nombre_centro_pob', 'gestion.estado.site_id',\n",
    "   'gestion.estado.matricula', 'gestion.estado.energiadesc','gestion.estado.grupoDesc', 'gestion.estado.cod_servicio',\n",
    "   'gestion.estado.region', 'gestion.estado.detalleSitio','gestion.estado.muniGestion', 'gestion.estado.id_Beneficiario',\n",
    "   'gestion.estado.codDaneInstitucionEdu', 'gestion.estado.location','status', 'gestion.estadoCentro', 'itsm_incident_id', 'fechahora',\n",
    "   'gestion.fechaControl', 'gestion.fecha', 'gestion.hora', 'gestion.anyo','gestion.mes', 'gestion.dia', 'gestion.totales.cantDev',\n",
    "   'gestion.totales.cantDevConectados','gestion.totales.cantDevdesConectados'])\n",
    "    print(e)\n"
   ]
  },
  {
   "cell_type": "code",
   "execution_count": 1706,
   "metadata": {},
   "outputs": [
    {
     "name": "stdout",
     "output_type": "stream",
     "text": [
      "Index(['gestion.estado.site_id', 'gestion.estado.disponibilidad',\n",
      "       'gestion.estado.max_fecha', 'mac', 'ip', 'ap_group', 'status.macRed'],\n",
      "      dtype='object')\n",
      "  gestion.estado.nombreSede  gestion.estado.DDA  \\\n",
      "0              LAS MERCEDES                   5   \n",
      "1              LAS MERCEDES                   5   \n",
      "2              LAS MERCEDES                   5   \n",
      "3              LAS MERCEDES                   5   \n",
      "4              LAS MERCEDES                   5   \n",
      "5              LAS MERCEDES                   5   \n",
      "\n",
      "   gestion.estado.estadoInstalacion gestion.estado.COD_ISO  \\\n",
      "0                                 3                 CO-HUI   \n",
      "1                                 3                 CO-HUI   \n",
      "2                                 3                 CO-HUI   \n",
      "3                                 3                 CO-HUI   \n",
      "4                                 3                 CO-HUI   \n",
      "5                                 3                 CO-HUI   \n",
      "\n",
      "   gestion.estado.energia gestion.estado.dptoGestion  \\\n",
      "0                       1                      HUILA   \n",
      "1                       1                      HUILA   \n",
      "2                       1                      HUILA   \n",
      "3                       1                      HUILA   \n",
      "4                       1                      HUILA   \n",
      "5                       1                      HUILA   \n",
      "\n",
      "   gestion.estado.codCentroPoblado gestion.estado.nombreInstitucionEd  \\\n",
      "0                              333        IE LUIS EDGAR DURAN RAMIREZ   \n",
      "1                              333        IE LUIS EDGAR DURAN RAMIREZ   \n",
      "2                              333        IE LUIS EDGAR DURAN RAMIREZ   \n",
      "3                              333        IE LUIS EDGAR DURAN RAMIREZ   \n",
      "4                              333        IE LUIS EDGAR DURAN RAMIREZ   \n",
      "5                              333        IE LUIS EDGAR DURAN RAMIREZ   \n",
      "\n",
      "   gestion.estado.codDanesede  gestion.estado.tipoSitio  ...  gestion.mes  \\\n",
      "0                241530000106                         1  ...           08   \n",
      "1                241530000106                         1  ...           08   \n",
      "2                241530000106                         1  ...           08   \n",
      "3                241530000106                         1  ...           08   \n",
      "4                241530000106                         1  ...           08   \n",
      "5                241530000106                         1  ...           08   \n",
      "\n",
      "  gestion.dia gestion.totales.cantDev gestion.totales.cantDevConectados  \\\n",
      "0          24                       6                                 6   \n",
      "1          24                       6                                 6   \n",
      "2          24                       6                                 6   \n",
      "3          24                       6                                 6   \n",
      "4          24                       6                                 6   \n",
      "5          24                       6                                 6   \n",
      "\n",
      "  gestion.totales.cantDevdesConectados gestion.estado.disponibilidad  \\\n",
      "0                                    0                    Disponible   \n",
      "1                                    0                    Disponible   \n",
      "2                                    0                    Disponible   \n",
      "3                                    0                    Disponible   \n",
      "4                                    0                    Disponible   \n",
      "5                                    0                    Disponible   \n",
      "\n",
      "  gestion.estado.max_fecha            ip_y  ap_group status.macRed  \n",
      "0      2021-06-09 09:42:56  172.28.117.155    INDOOR       offline  \n",
      "1      2021-06-09 09:42:56  172.28.117.155    INDOOR       offline  \n",
      "2      2021-06-09 09:42:56  172.28.117.156   OUTDOOR        online  \n",
      "3      2021-06-09 09:42:56  172.28.117.156   OUTDOOR        online  \n",
      "4      2021-06-09 09:42:56  172.28.117.157   OUTDOOR        online  \n",
      "5      2021-06-09 09:42:56  172.28.117.157   OUTDOOR        online  \n",
      "\n",
      "[6 rows x 49 columns]\n"
     ]
    }
   ],
   "source": [
    "df_dispo.rename(columns={'site_id':'gestion.estado.site_id',\n",
    "                         'disponibilidad' : 'gestion.estado.disponibilidad',\n",
    "                         'max_fecha':'gestion.estado.max_fecha'},\n",
    "                inplace=True)\n",
    "\n",
    "idx=completo[completo['gestion.estado.matricula']=='No aplica'].index\n",
    "\n",
    "completo.loc[idx,'gestion.estado.matricula']=0\n",
    "\n",
    "print(df_dispo.columns)\n",
    "completo = pd.merge(completo, df_dispo,on=['gestion.estado.site_id','mac'],how='inner')\n",
    "print(completo)"
   ]
  },
  {
   "cell_type": "code",
   "execution_count": 1707,
   "metadata": {},
   "outputs": [
    {
     "name": "stdout",
     "output_type": "stream",
     "text": [
      "  gestion.estado.nombreSede  gestion.estado.DDA  \\\n",
      "0              LAS MERCEDES                   5   \n",
      "1              LAS MERCEDES                   5   \n",
      "2              LAS MERCEDES                   5   \n",
      "3              LAS MERCEDES                   5   \n",
      "4              LAS MERCEDES                   5   \n",
      "5              LAS MERCEDES                   5   \n",
      "\n",
      "   gestion.estado.estadoInstalacion gestion.estado.COD_ISO  \\\n",
      "0                                 3                 CO-HUI   \n",
      "1                                 3                 CO-HUI   \n",
      "2                                 3                 CO-HUI   \n",
      "3                                 3                 CO-HUI   \n",
      "4                                 3                 CO-HUI   \n",
      "5                                 3                 CO-HUI   \n",
      "\n",
      "   gestion.estado.energia gestion.estado.dptoGestion  \\\n",
      "0                       1                      HUILA   \n",
      "1                       1                      HUILA   \n",
      "2                       1                      HUILA   \n",
      "3                       1                      HUILA   \n",
      "4                       1                      HUILA   \n",
      "5                       1                      HUILA   \n",
      "\n",
      "   gestion.estado.codCentroPoblado gestion.estado.nombreInstitucionEd  \\\n",
      "0                              333        IE LUIS EDGAR DURAN RAMIREZ   \n",
      "1                              333        IE LUIS EDGAR DURAN RAMIREZ   \n",
      "2                              333        IE LUIS EDGAR DURAN RAMIREZ   \n",
      "3                              333        IE LUIS EDGAR DURAN RAMIREZ   \n",
      "4                              333        IE LUIS EDGAR DURAN RAMIREZ   \n",
      "5                              333        IE LUIS EDGAR DURAN RAMIREZ   \n",
      "\n",
      "   gestion.estado.codDanesede  gestion.estado.tipoSitio  ...  gestion.mes  \\\n",
      "0                241530000106                         1  ...           08   \n",
      "1                241530000106                         1  ...           08   \n",
      "2                241530000106                         1  ...           08   \n",
      "3                241530000106                         1  ...           08   \n",
      "4                241530000106                         1  ...           08   \n",
      "5                241530000106                         1  ...           08   \n",
      "\n",
      "  gestion.dia gestion.totales.cantDev gestion.totales.cantDevConectados  \\\n",
      "0          24                       6                                 6   \n",
      "1          24                       6                                 6   \n",
      "2          24                       6                                 6   \n",
      "3          24                       6                                 6   \n",
      "4          24                       6                                 6   \n",
      "5          24                       6                                 6   \n",
      "\n",
      "  gestion.totales.cantDevdesConectados gestion.estado.disponibilidad  \\\n",
      "0                                    0                    Disponible   \n",
      "1                                    0                    Disponible   \n",
      "2                                    0                    Disponible   \n",
      "3                                    0                    Disponible   \n",
      "4                                    0                    Disponible   \n",
      "5                                    0                    Disponible   \n",
      "\n",
      "  gestion.estado.max_fecha            ip_y  ap_group status.macRed  \n",
      "0      2021-06-09 09:42:56  172.28.117.155    INDOOR       offline  \n",
      "1      2021-06-09 09:42:56  172.28.117.155    INDOOR       offline  \n",
      "2      2021-06-09 09:42:56  172.28.117.156   OUTDOOR        online  \n",
      "3      2021-06-09 09:42:56  172.28.117.156   OUTDOOR        online  \n",
      "4      2021-06-09 09:42:56  172.28.117.157   OUTDOOR        online  \n",
      "5      2021-06-09 09:42:56  172.28.117.157   OUTDOOR        online  \n",
      "\n",
      "[6 rows x 49 columns]\n"
     ]
    }
   ],
   "source": [
    "print(completo)\n",
    "if not completo.empty:\n",
    "    completo[\"gestion.fechaControl\"] =  completo['gestion.estado.max_fecha']\n",
    "    completo[\"gestion.fecha\"]=  completo[\"gestion.fechaControl\"].str.split(\" \", n = 1, expand = True)[0]\n",
    "    completo[\"gestion.hora\"]=completo[\"gestion.fechaControl\"].str.split(\" \", n=1, expand=True)[1].str.split(\":\", n = 2, expand = True)[0]\n",
    "    completo[\"gestion.minuto\"]=completo[\"gestion.fechaControl\"].str.split(\" \", n=1, expand=True)[1].str.split(\":\", n = 2, expand = True)[1]\n",
    "    completo[\"gestion.anyo\"] =  completo[\"gestion.fecha\"].str[0:4]\n",
    "    completo[\"gestion.mes\"]  =  completo[\"gestion.fecha\"].str[5:7]\n",
    "    completo[\"gestion.dia\"]  =  completo[\"gestion.fecha\"].str[8:10]"
   ]
  },
  {
   "cell_type": "code",
   "execution_count": 1708,
   "metadata": {},
   "outputs": [],
   "source": [
    "# insertando los datos en el indice \n",
    "\n",
    "use_these_keys = ['gestion.estado.id_Beneficiario'\n",
    "                  ,'gestion.estadoCentro'\n",
    "                  ,'gestion.estado.nombreSede'\n",
    "                  ,'gestion.estado.COD_ISO'\n",
    "                  ,'gestion.estado.codDanesede'\n",
    "                  ,'gestion.estado.nombre_centro_pob'\n",
    "                  ,'gestion.estado.site_id'\n",
    "                  ,'gestion.estado.dptoGestion'\n",
    "                  ,'gestion.estado.energiadesc'\n",
    "                  ,'gestion.estado.muniGestion'\n",
    "                  ,'gestion.estado.location'  \n",
    "                  ,'gestion.estado.DDA'\n",
    "                  ,'gestion.estado.nombreInstitucionEd'\n",
    "                  ,'gestion.estado.matricula'\n",
    "                  ,'gestion.estado.municipioPDET'    \n",
    "                  ,'gestion.fechaControl'\n",
    "                  ,'gestion.fecha'\n",
    "                  ,'gestion.anyo'\n",
    "                  ,'gestion.mes'\n",
    "                  ,'gestion.dia'\n",
    "                  ,'gestion.hora'\n",
    "                  ,'gestion.totales.cantDev'\n",
    "                  ,'gestion.totales.cantDevConectados'\n",
    "                  ,'gestion.totales.cantDevdesConectados'\n",
    "                  ,'gestion.estado.disponibilidad'\n",
    "                  ,'gestion.estado.max_fecha'\n",
    "                  ,'gestion.estado.cod_servicio'\n",
    "                  ,'gestion.estado.codDaneMuni'                  \n",
    "                  ,'gestion.estado.codCentroPoblado'\n",
    "                  ,'gestion.estado.codDaneInstitucionEdu'\n",
    "                  ,'gestion.estado.tipoSitio'\n",
    "                  ,'gestion.estado.detalleSitio'\n",
    "                  ,'gestion.estado.energia'\n",
    "                  ,'gestion.estado.region'\n",
    "                  ,'gestion.estado.grupoDesc'\n",
    "                  ,'gestion.estado.estadoInstalacion'\n",
    "                  ,'@timestamp'\n",
    "                  ,'mac'\n",
    "                  ,'ip'\n",
    "                  ,'ap_group'\n",
    "                  ,'status.macRed'\n",
    "                  ,'gestion.minuto']                         "
   ]
  },
  {
   "cell_type": "code",
   "execution_count": 1709,
   "metadata": {},
   "outputs": [
    {
     "name": "stdout",
     "output_type": "stream",
     "text": [
      "Fecha:  2021-08-24 01:30:52.578618 - Llamadas insertadas en indice principal: 6\n"
     ]
    }
   ],
   "source": [
    "completo['@timestamp'] = now.isoformat()\n",
    "def doc_generator2(df,use_these_keys):\n",
    "    df_iter = df.iterrows()\n",
    "    for index, document in df_iter:\n",
    "        yield {\n",
    "                \"_index\": indice, \n",
    "                \"_id\": f\"{'Estado-'+str(+document['gestion.estado.id_Beneficiario']) + '-' + str(document['gestion.fechaControl'])}\",\n",
    "                \"_source\": filterKeys(document,use_these_keys),\n",
    "            }\n",
    "\n",
    "salida = helpers.bulk(es, doc_generator2(completo,use_these_keys))\n",
    "print(completo)\n",
    "print(\"Fecha: \", now,\"- Llamadas insertadas en indice principal:\",salida[0])"
   ]
  },
  {
   "cell_type": "markdown",
   "metadata": {},
   "source": [
    "Actualizando fecha de control de ejecución"
   ]
  },
  {
   "cell_type": "code",
   "execution_count": 1710,
   "metadata": {},
   "outputs": [
    {
     "name": "stdout",
     "output_type": "stream",
     "text": [
      "actualizada fecha control de ejecucion: 2021-06-09T01:00:00\n"
     ]
    }
   ],
   "source": [
    "fecha_ejecucion = (datetime.strptime(fecha_ejecucion, \"%Y-%m-%d\"'T'\"%H:%M:%S\")+timedelta(minutes=60)).strftime(\"%Y-%m-%d\"'T'\"%H:%M:%S\")[0:15] + '0:00'    \n",
    "\n",
    "if fecha_ejecucion > str(now.strftime(\"%Y-%m-%d\"'T'\"%H:%M:%S\"))[0:15] + '0:00':\n",
    "    fecha_ejecucion = str(now.strftime(\"%Y-%m-%d\"'T'\"%H:%M:%S\"))[0:15] + '0:00'\n",
    "\n",
    "response = es.index(\n",
    "        index = indice_control,\n",
    "        id = 'jerarquia_disponibilidad1',\n",
    "        body = { 'jerarquia_disponibilidad1': 'jerarquia_disponibilidad1','gestion.fechaControl' : fecha_ejecucion}\n",
    ")\n",
    "print(\"actualizada fecha control de ejecucion:\",fecha_ejecucion)"
   ]
  },
  {
   "cell_type": "code",
   "execution_count": null,
   "metadata": {},
   "outputs": [],
   "source": []
  }
 ],
 "metadata": {
  "kernelspec": {
   "display_name": "Python 3",
   "language": "python",
   "name": "python3"
  },
  "language_info": {
   "codemirror_mode": {
    "name": "ipython",
    "version": 3
   },
   "file_extension": ".py",
   "mimetype": "text/x-python",
   "name": "python",
   "nbconvert_exporter": "python",
   "pygments_lexer": "ipython3",
   "version": "3.8.5"
  }
 },
 "nbformat": 4,
 "nbformat_minor": 4
}
