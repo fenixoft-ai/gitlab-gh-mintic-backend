{
 "cells": [
  {
   "cell_type": "code",
   "execution_count": 1,
   "metadata": {},
   "outputs": [],
   "source": [
    "#!/usr/bin/env python\n",
    "# coding: utf-8"
   ]
  },
  {
   "cell_type": "markdown",
   "metadata": {},
   "source": [
    "Â¿Que hace este script?<br>\n",
    "* Calcula para cada dispositivo de red: trafico.totales.traficoIN, trafico.totales.traficoOUT', trafico.totales.consumoGB'.<br>\n",
    "* Calcula para cada site_id: trafico.totales.sitio.traficoIN, trafico.totales.sitio.traficoOUT, trafico.totales.sitio.consumoGB"
   ]
  },
  {
   "cell_type": "markdown",
   "metadata": {},
   "source": [
    "In[742]:"
   ]
  },
  {
   "cell_type": "code",
   "execution_count": 6,
   "metadata": {},
   "outputs": [],
   "source": [
    "from elasticsearch import Elasticsearch, helpers\n",
    "from ssl import create_default_context\n",
    "import pandas as pd\n",
    "import numpy as np\n",
    "from datetime import datetime, timedelta\n",
    "import parametros\n",
    "import random\n",
    "import re"
   ]
  },
  {
   "cell_type": "markdown",
   "metadata": {},
   "source": [
    "## Conectando a ElasticSearch"
   ]
  },
  {
   "cell_type": "markdown",
   "metadata": {},
   "source": [
    "La ultima lÃ­nea se utiliza para garantizar la ejecuciÃ³n de la consulta<br>\n",
    "* timeout es el tiempo para cada ejecuciÃ³n<br>\n",
    "* max_retries el nÃºmero de intentos si la conexiÃ³n falla<br>\n",
    "* retry_on_timeout para activar los reitentos"
   ]
  },
  {
   "cell_type": "markdown",
   "metadata": {},
   "source": [
    "In[743]:"
   ]
  },
  {
   "cell_type": "code",
   "execution_count": 7,
   "metadata": {},
   "outputs": [],
   "source": [
    "context = create_default_context(cafile=parametros.cafile)\n",
    "es = Elasticsearch(\n",
    "    parametros.servidor,\n",
    "    http_auth=(parametros.usuario_EC, parametros.password_EC),\n",
    "    scheme=\"https\",\n",
    "    port=parametros.puerto,\n",
    "    ssl_context=context,\n",
    "    timeout=60, max_retries=3, retry_on_timeout=True\n",
    ") "
   ]
  },
  {
   "cell_type": "markdown",
   "metadata": {},
   "source": [
    "### Calculando fechas para la ejecuciÃ³n"
   ]
  },
  {
   "cell_type": "markdown",
   "metadata": {},
   "source": [
    "* Se calculan las fechas para asociar al nombre del indice<br>\n",
    "* fecha_hoy es usada para concatenar al nombre del indice principal previa inserciÃ³n"
   ]
  },
  {
   "cell_type": "markdown",
   "metadata": {},
   "source": [
    "In[744]:"
   ]
  },
  {
   "cell_type": "code",
   "execution_count": 8,
   "metadata": {},
   "outputs": [],
   "source": [
    "now = datetime.now()\n",
    "fecha_hoy = str(now.strftime(\"%Y.%m.%d\"))"
   ]
  },
  {
   "cell_type": "markdown",
   "metadata": {},
   "source": [
    "### Definiendo indice principal con fecha de hoy"
   ]
  },
  {
   "cell_type": "markdown",
   "metadata": {},
   "source": [
    "Estos valores se deben ajustar segÃºn ambiente. No es automÃ¡tico ya que no hay separaciÃ³n de ambientes"
   ]
  },
  {
   "cell_type": "markdown",
   "metadata": {},
   "source": [
    "In[745]:"
   ]
  },
  {
   "cell_type": "code",
   "execution_count": 9,
   "metadata": {},
   "outputs": [],
   "source": [
    "indice = parametros.disponibilidad_tableros_index\n",
    "indice_control = parametros.tableros_mintic_control"
   ]
  },
  {
   "cell_type": "markdown",
   "metadata": {},
   "source": [
    "### FunciÃ³n para generar JSON compatible con ES"
   ]
  },
  {
   "cell_type": "markdown",
   "metadata": {},
   "source": [
    "In[746]:"
   ]
  },
  {
   "cell_type": "code",
   "execution_count": 10,
   "metadata": {},
   "outputs": [],
   "source": [
    "def filterKeys(document):\n",
    "    return {key: document[key] for key in use_these_keys }"
   ]
  },
  {
   "cell_type": "markdown",
   "metadata": {},
   "source": [
    "### leyendo indice semilla-inventario"
   ]
  },
  {
   "cell_type": "markdown",
   "metadata": {},
   "source": [
    "En el script que ingesta semilla, trae la informaciÃ³n de los centros de conexiÃ³n administrados. Para el indice principal se requiere:<br>\n",
    "<br>\n",
    "* site_id como llave del centro de conexiÃ³n.<br>\n",
    "* Datos geogrÃ¡ficos (Departamento, municipio, centro poblado, sede, energÃ­a, latitud, longitud, COD_ISO, entre otros)."
   ]
  },
  {
   "cell_type": "markdown",
   "metadata": {},
   "source": [
    "In[747]:"
   ]
  },
  {
   "cell_type": "code",
   "execution_count": 11,
   "metadata": {},
   "outputs": [],
   "source": [
    "total_docs = 10000\n",
    "try:\n",
    "    response = es.search(\n",
    "        index= parametros.semilla_inventario_index,\n",
    "        body={\n",
    "               \"_source\": ['site_id','nombre_municipio', 'nombre_departamento', 'nombre_centro_pob', 'nombreSede' \n",
    "                           , 'energiadesc', 'latitud', 'longitud','COD_ISO','id_Beneficiario']\n",
    "        },\n",
    "        size=total_docs\n",
    "    )\n",
    "    #print(es.info())\n",
    "    elastic_docs = response[\"hits\"][\"hits\"]\n",
    "    fields = {}\n",
    "    for num, doc in enumerate(elastic_docs):\n",
    "        source_data = doc[\"_source\"]\n",
    "        for key, val in source_data.items():\n",
    "            try:\n",
    "                fields[key] = np.append(fields[key], val)\n",
    "            except KeyError:\n",
    "                fields[key] = np.array([val])\n",
    "    \n",
    "    datos_semilla = pd.DataFrame(dict([ (k,pd.Series(v)) for k,v in fields.items() ])) #pd.DataFrame(fields)\n",
    "except:\n",
    "    print(\"fecha:\",now,\"- Error en lectura de datos semilla\")\n",
    "    #exit()\n",
    "    "
   ]
  },
  {
   "cell_type": "markdown",
   "metadata": {},
   "source": [
    "In[748]:"
   ]
  },
  {
   "cell_type": "code",
   "execution_count": 12,
   "metadata": {},
   "outputs": [],
   "source": [
    "datos_semilla['site_id'] = datos_semilla['site_id'].str.strip()"
   ]
  },
  {
   "cell_type": "code",
   "execution_count": 13,
   "metadata": {},
   "outputs": [
    {
     "data": {
      "text/html": [
       "<div>\n",
       "<style scoped>\n",
       "    .dataframe tbody tr th:only-of-type {\n",
       "        vertical-align: middle;\n",
       "    }\n",
       "\n",
       "    .dataframe tbody tr th {\n",
       "        vertical-align: top;\n",
       "    }\n",
       "\n",
       "    .dataframe thead th {\n",
       "        text-align: right;\n",
       "    }\n",
       "</style>\n",
       "<table border=\"1\" class=\"dataframe\">\n",
       "  <thead>\n",
       "    <tr style=\"text-align: right;\">\n",
       "      <th></th>\n",
       "      <th>nombreSede</th>\n",
       "      <th>longitud</th>\n",
       "      <th>latitud</th>\n",
       "      <th>COD_ISO</th>\n",
       "      <th>nombre_centro_pob</th>\n",
       "      <th>site_id</th>\n",
       "      <th>nombre_departamento</th>\n",
       "      <th>energiadesc</th>\n",
       "      <th>nombre_municipio</th>\n",
       "      <th>id_Beneficiario</th>\n",
       "    </tr>\n",
       "  </thead>\n",
       "  <tbody>\n",
       "    <tr>\n",
       "      <th>0</th>\n",
       "      <td>C.E.R LA PAULINA</td>\n",
       "      <td>-76,14525469</td>\n",
       "      <td>6,7048548</td>\n",
       "      <td>CO-ANT</td>\n",
       "      <td>LA PAULINA</td>\n",
       "      <td>22154-ZGYO176</td>\n",
       "      <td>ANTIOQUIA</td>\n",
       "      <td>Red Interconectada</td>\n",
       "      <td>VALDIVIA</td>\n",
       "      <td>22154</td>\n",
       "    </tr>\n",
       "    <tr>\n",
       "      <th>1</th>\n",
       "      <td>CENTRO EDUCATIVO RURAL EL CERRO</td>\n",
       "      <td>-73,10716667</td>\n",
       "      <td>4,225166667</td>\n",
       "      <td>CO-ANT</td>\n",
       "      <td>EL CERRO</td>\n",
       "      <td>20022-ZGYO177</td>\n",
       "      <td>ANTIOQUIA</td>\n",
       "      <td>Red Interconectada</td>\n",
       "      <td>FRONTINO</td>\n",
       "      <td>20022</td>\n",
       "    </tr>\n",
       "    <tr>\n",
       "      <th>2</th>\n",
       "      <td>C. E. R.  MERCEDES YEPES</td>\n",
       "      <td>-75,151177190</td>\n",
       "      <td>6,93848274</td>\n",
       "      <td>CO-ANT</td>\n",
       "      <td>VDA. LA MESETA</td>\n",
       "      <td>18787-</td>\n",
       "      <td>ANTIOQUIA</td>\n",
       "      <td>sin informacion</td>\n",
       "      <td>ANORÍ</td>\n",
       "      <td>18787</td>\n",
       "    </tr>\n",
       "    <tr>\n",
       "      <th>3</th>\n",
       "      <td>C. E. R. MEDIAS FALDAS</td>\n",
       "      <td>-75,19442611</td>\n",
       "      <td>7,04797951</td>\n",
       "      <td>CO-ANT</td>\n",
       "      <td>VDA EL LIMÓN</td>\n",
       "      <td>18802-</td>\n",
       "      <td>ANTIOQUIA</td>\n",
       "      <td>sin informacion</td>\n",
       "      <td>ANORÍ</td>\n",
       "      <td>18802</td>\n",
       "    </tr>\n",
       "    <tr>\n",
       "      <th>4</th>\n",
       "      <td>C. E. R.  ROSAURA ORTEGA</td>\n",
       "      <td>-75,22730972</td>\n",
       "      <td>7,06272584</td>\n",
       "      <td>CO-ANT</td>\n",
       "      <td>BELLAVISTA</td>\n",
       "      <td>18804-ZGYO583</td>\n",
       "      <td>ANTIOQUIA</td>\n",
       "      <td>Red Interconectada</td>\n",
       "      <td>ANORÍ</td>\n",
       "      <td>18804</td>\n",
       "    </tr>\n",
       "    <tr>\n",
       "      <th>...</th>\n",
       "      <td>...</td>\n",
       "      <td>...</td>\n",
       "      <td>...</td>\n",
       "      <td>...</td>\n",
       "      <td>...</td>\n",
       "      <td>...</td>\n",
       "      <td>...</td>\n",
       "      <td>...</td>\n",
       "      <td>...</td>\n",
       "      <td>...</td>\n",
       "    </tr>\n",
       "    <tr>\n",
       "      <th>6942</th>\n",
       "      <td>ESCUELA SANTA ISABEL</td>\n",
       "      <td>-73,138349330</td>\n",
       "      <td>6,39026335</td>\n",
       "      <td>CO-VAU</td>\n",
       "      <td>COMUNIDAD SANTA ISABEL</td>\n",
       "      <td>67733-</td>\n",
       "      <td>VAUPÉS</td>\n",
       "      <td>sin informacion</td>\n",
       "      <td>PACOA</td>\n",
       "      <td>67733</td>\n",
       "    </tr>\n",
       "    <tr>\n",
       "      <th>6943</th>\n",
       "      <td>ESCUELA RURAL DE SAN LUIS DE PIEDRA ÑI</td>\n",
       "      <td>-70,07416384</td>\n",
       "      <td>0,08164385</td>\n",
       "      <td>CO-VAU</td>\n",
       "      <td>COMUNIDAD DE SAN LUIS</td>\n",
       "      <td>70622-</td>\n",
       "      <td>VAUPÉS</td>\n",
       "      <td>sin informacion</td>\n",
       "      <td>PACOA</td>\n",
       "      <td>70622</td>\n",
       "    </tr>\n",
       "    <tr>\n",
       "      <th>6944</th>\n",
       "      <td>ESCUELA RURAL DE SANTA ROSA</td>\n",
       "      <td></td>\n",
       "      <td></td>\n",
       "      <td>CO-VAU</td>\n",
       "      <td>COMUNIDAD DE SANTA ROSA</td>\n",
       "      <td>70623-</td>\n",
       "      <td>VAUPÉS</td>\n",
       "      <td>sin informacion</td>\n",
       "      <td>PACOA</td>\n",
       "      <td>70623</td>\n",
       "    </tr>\n",
       "    <tr>\n",
       "      <th>6945</th>\n",
       "      <td>ESCUELA RURAL DE TOAKA</td>\n",
       "      <td>-71,25103723</td>\n",
       "      <td>1,007644476</td>\n",
       "      <td>CO-VAU</td>\n",
       "      <td>COMUNIDAD DE TOAKA</td>\n",
       "      <td>70624-</td>\n",
       "      <td>VAUPÉS</td>\n",
       "      <td>sin informacion</td>\n",
       "      <td>PACOA</td>\n",
       "      <td>70624</td>\n",
       "    </tr>\n",
       "    <tr>\n",
       "      <th>6946</th>\n",
       "      <td>ESCUELA SAMUEL DE PUERTO ESPERANZA</td>\n",
       "      <td>-72,64258639</td>\n",
       "      <td>2,56013117</td>\n",
       "      <td>CO-VAU</td>\n",
       "      <td>PUERTO ESPERANZA</td>\n",
       "      <td>70625-</td>\n",
       "      <td>VAUPÉS</td>\n",
       "      <td>sin informacion</td>\n",
       "      <td>CARURÚ</td>\n",
       "      <td>70625</td>\n",
       "    </tr>\n",
       "  </tbody>\n",
       "</table>\n",
       "<p>6947 rows × 10 columns</p>\n",
       "</div>"
      ],
      "text/plain": [
       "                                  nombreSede       longitud      latitud  \\\n",
       "0                           C.E.R LA PAULINA   -76,14525469    6,7048548   \n",
       "1            CENTRO EDUCATIVO RURAL EL CERRO   -73,10716667  4,225166667   \n",
       "2                   C. E. R.  MERCEDES YEPES  -75,151177190   6,93848274   \n",
       "3                     C. E. R. MEDIAS FALDAS   -75,19442611   7,04797951   \n",
       "4                   C. E. R.  ROSAURA ORTEGA   -75,22730972   7,06272584   \n",
       "...                                      ...            ...          ...   \n",
       "6942                    ESCUELA SANTA ISABEL  -73,138349330   6,39026335   \n",
       "6943  ESCUELA RURAL DE SAN LUIS DE PIEDRA ÑI   -70,07416384   0,08164385   \n",
       "6944             ESCUELA RURAL DE SANTA ROSA                               \n",
       "6945                  ESCUELA RURAL DE TOAKA   -71,25103723  1,007644476   \n",
       "6946      ESCUELA SAMUEL DE PUERTO ESPERANZA   -72,64258639   2,56013117   \n",
       "\n",
       "     COD_ISO        nombre_centro_pob        site_id nombre_departamento  \\\n",
       "0     CO-ANT               LA PAULINA  22154-ZGYO176           ANTIOQUIA   \n",
       "1     CO-ANT                 EL CERRO  20022-ZGYO177           ANTIOQUIA   \n",
       "2     CO-ANT           VDA. LA MESETA         18787-           ANTIOQUIA   \n",
       "3     CO-ANT             VDA EL LIMÓN         18802-           ANTIOQUIA   \n",
       "4     CO-ANT               BELLAVISTA  18804-ZGYO583           ANTIOQUIA   \n",
       "...      ...                      ...            ...                 ...   \n",
       "6942  CO-VAU   COMUNIDAD SANTA ISABEL         67733-              VAUPÉS   \n",
       "6943  CO-VAU    COMUNIDAD DE SAN LUIS         70622-              VAUPÉS   \n",
       "6944  CO-VAU  COMUNIDAD DE SANTA ROSA         70623-              VAUPÉS   \n",
       "6945  CO-VAU       COMUNIDAD DE TOAKA         70624-              VAUPÉS   \n",
       "6946  CO-VAU         PUERTO ESPERANZA         70625-              VAUPÉS   \n",
       "\n",
       "             energiadesc nombre_municipio  id_Beneficiario  \n",
       "0     Red Interconectada         VALDIVIA            22154  \n",
       "1     Red Interconectada         FRONTINO            20022  \n",
       "2        sin informacion            ANORÍ            18787  \n",
       "3        sin informacion            ANORÍ            18802  \n",
       "4     Red Interconectada            ANORÍ            18804  \n",
       "...                  ...              ...              ...  \n",
       "6942     sin informacion            PACOA            67733  \n",
       "6943     sin informacion            PACOA            70622  \n",
       "6944     sin informacion            PACOA            70623  \n",
       "6945     sin informacion            PACOA            70624  \n",
       "6946     sin informacion           CARURÚ            70625  \n",
       "\n",
       "[6947 rows x 10 columns]"
      ]
     },
     "execution_count": 13,
     "metadata": {},
     "output_type": "execute_result"
    }
   ],
   "source": [
    "datos_semilla"
   ]
  },
  {
   "cell_type": "markdown",
   "metadata": {},
   "source": [
    "Se valida latitud y longitud, se genera campo location y se renombran los campos de semilla"
   ]
  },
  {
   "cell_type": "markdown",
   "metadata": {},
   "source": [
    "In[749]:"
   ]
  },
  {
   "cell_type": "code",
   "execution_count": 7,
   "metadata": {},
   "outputs": [],
   "source": [
    "def get_location(x,y='lat'):\n",
    "    patron = re.compile('^(\\-?\\d+(\\.\\d+)?),\\s*(\\-?\\d+(\\.\\d+)?)$') #patrÃ³n que debe cumplir\n",
    "    if (not patron.match(x) is None) and (str(x)!=''):\n",
    "        return x.replace(',','.')\n",
    "    else:\n",
    "        #CÃ³digo a ejecutar si las coordenadas no son vÃ¡lidas\n",
    "        return '4.596389' if y=='lat' else '-74.074639'\n",
    "    \n",
    "datos_semilla['latitud'] = datos_semilla['latitud'].apply(lambda x:get_location(x,'lat'))\n",
    "datos_semilla['longitud'] = datos_semilla['longitud'].apply(lambda x:get_location(x,'lon'))"
   ]
  },
  {
   "cell_type": "code",
   "execution_count": 66,
   "metadata": {},
   "outputs": [
    {
     "ename": "KeyError",
     "evalue": "'latitud'",
     "output_type": "error",
     "traceback": [
      "\u001b[0;31m---------------------------------------------------------------------------\u001b[0m",
      "\u001b[0;31mKeyError\u001b[0m                                  Traceback (most recent call last)",
      "\u001b[0;32m/opt/anaconda3/lib/python3.8/site-packages/pandas/core/indexes/base.py\u001b[0m in \u001b[0;36mget_loc\u001b[0;34m(self, key, method, tolerance)\u001b[0m\n\u001b[1;32m   2894\u001b[0m             \u001b[0;32mtry\u001b[0m\u001b[0;34m:\u001b[0m\u001b[0;34m\u001b[0m\u001b[0;34m\u001b[0m\u001b[0m\n\u001b[0;32m-> 2895\u001b[0;31m                 \u001b[0;32mreturn\u001b[0m \u001b[0mself\u001b[0m\u001b[0;34m.\u001b[0m\u001b[0m_engine\u001b[0m\u001b[0;34m.\u001b[0m\u001b[0mget_loc\u001b[0m\u001b[0;34m(\u001b[0m\u001b[0mcasted_key\u001b[0m\u001b[0;34m)\u001b[0m\u001b[0;34m\u001b[0m\u001b[0;34m\u001b[0m\u001b[0m\n\u001b[0m\u001b[1;32m   2896\u001b[0m             \u001b[0;32mexcept\u001b[0m \u001b[0mKeyError\u001b[0m \u001b[0;32mas\u001b[0m \u001b[0merr\u001b[0m\u001b[0;34m:\u001b[0m\u001b[0;34m\u001b[0m\u001b[0;34m\u001b[0m\u001b[0m\n",
      "\u001b[0;32mpandas/_libs/index.pyx\u001b[0m in \u001b[0;36mpandas._libs.index.IndexEngine.get_loc\u001b[0;34m()\u001b[0m\n",
      "\u001b[0;32mpandas/_libs/index.pyx\u001b[0m in \u001b[0;36mpandas._libs.index.IndexEngine.get_loc\u001b[0;34m()\u001b[0m\n",
      "\u001b[0;32mpandas/_libs/hashtable_class_helper.pxi\u001b[0m in \u001b[0;36mpandas._libs.hashtable.PyObjectHashTable.get_item\u001b[0;34m()\u001b[0m\n",
      "\u001b[0;32mpandas/_libs/hashtable_class_helper.pxi\u001b[0m in \u001b[0;36mpandas._libs.hashtable.PyObjectHashTable.get_item\u001b[0;34m()\u001b[0m\n",
      "\u001b[0;31mKeyError\u001b[0m: 'latitud'",
      "\nThe above exception was the direct cause of the following exception:\n",
      "\u001b[0;31mKeyError\u001b[0m                                  Traceback (most recent call last)",
      "\u001b[0;32m<ipython-input-66-f88370cbd5a3>\u001b[0m in \u001b[0;36m<module>\u001b[0;34m\u001b[0m\n\u001b[0;32m----> 1\u001b[0;31m \u001b[0mdatos_semilla\u001b[0m\u001b[0;34m[\u001b[0m\u001b[0;34m'trafico.location'\u001b[0m\u001b[0;34m]\u001b[0m \u001b[0;34m=\u001b[0m \u001b[0mdatos_semilla\u001b[0m\u001b[0;34m[\u001b[0m\u001b[0;34m'latitud'\u001b[0m\u001b[0;34m]\u001b[0m \u001b[0;34m+\u001b[0m \u001b[0;34m','\u001b[0m \u001b[0;34m+\u001b[0m \u001b[0mdatos_semilla\u001b[0m\u001b[0;34m[\u001b[0m\u001b[0;34m'longitud'\u001b[0m\u001b[0;34m]\u001b[0m\u001b[0;34m\u001b[0m\u001b[0;34m\u001b[0m\u001b[0m\n\u001b[0m\u001b[1;32m      2\u001b[0m \u001b[0mdatos_semilla\u001b[0m\u001b[0;34m[\u001b[0m\u001b[0;34m'trafico.location'\u001b[0m\u001b[0;34m]\u001b[0m\u001b[0;34m=\u001b[0m\u001b[0mdatos_semilla\u001b[0m\u001b[0;34m[\u001b[0m\u001b[0;34m'trafico.location'\u001b[0m\u001b[0;34m]\u001b[0m\u001b[0;34m.\u001b[0m\u001b[0mstr\u001b[0m\u001b[0;34m.\u001b[0m\u001b[0mreplace\u001b[0m\u001b[0;34m(\u001b[0m\u001b[0;34m'a,a'\u001b[0m\u001b[0;34m,\u001b[0m\u001b[0;34m''\u001b[0m\u001b[0;34m)\u001b[0m\u001b[0;34m\u001b[0m\u001b[0;34m\u001b[0m\u001b[0m\n\u001b[1;32m      3\u001b[0m \u001b[0mdatos_semilla\u001b[0m\u001b[0;34m.\u001b[0m\u001b[0mdrop\u001b[0m\u001b[0;34m(\u001b[0m\u001b[0mcolumns\u001b[0m\u001b[0;34m=\u001b[0m\u001b[0;34m[\u001b[0m\u001b[0;34m'latitud'\u001b[0m\u001b[0;34m,\u001b[0m\u001b[0;34m'longitud'\u001b[0m\u001b[0;34m]\u001b[0m\u001b[0;34m,\u001b[0m\u001b[0minplace\u001b[0m\u001b[0;34m=\u001b[0m\u001b[0;32mTrue\u001b[0m\u001b[0;34m)\u001b[0m\u001b[0;34m\u001b[0m\u001b[0;34m\u001b[0m\u001b[0m\n",
      "\u001b[0;32m/opt/anaconda3/lib/python3.8/site-packages/pandas/core/frame.py\u001b[0m in \u001b[0;36m__getitem__\u001b[0;34m(self, key)\u001b[0m\n\u001b[1;32m   2900\u001b[0m             \u001b[0;32mif\u001b[0m \u001b[0mself\u001b[0m\u001b[0;34m.\u001b[0m\u001b[0mcolumns\u001b[0m\u001b[0;34m.\u001b[0m\u001b[0mnlevels\u001b[0m \u001b[0;34m>\u001b[0m \u001b[0;36m1\u001b[0m\u001b[0;34m:\u001b[0m\u001b[0;34m\u001b[0m\u001b[0;34m\u001b[0m\u001b[0m\n\u001b[1;32m   2901\u001b[0m                 \u001b[0;32mreturn\u001b[0m \u001b[0mself\u001b[0m\u001b[0;34m.\u001b[0m\u001b[0m_getitem_multilevel\u001b[0m\u001b[0;34m(\u001b[0m\u001b[0mkey\u001b[0m\u001b[0;34m)\u001b[0m\u001b[0;34m\u001b[0m\u001b[0;34m\u001b[0m\u001b[0m\n\u001b[0;32m-> 2902\u001b[0;31m             \u001b[0mindexer\u001b[0m \u001b[0;34m=\u001b[0m \u001b[0mself\u001b[0m\u001b[0;34m.\u001b[0m\u001b[0mcolumns\u001b[0m\u001b[0;34m.\u001b[0m\u001b[0mget_loc\u001b[0m\u001b[0;34m(\u001b[0m\u001b[0mkey\u001b[0m\u001b[0;34m)\u001b[0m\u001b[0;34m\u001b[0m\u001b[0;34m\u001b[0m\u001b[0m\n\u001b[0m\u001b[1;32m   2903\u001b[0m             \u001b[0;32mif\u001b[0m \u001b[0mis_integer\u001b[0m\u001b[0;34m(\u001b[0m\u001b[0mindexer\u001b[0m\u001b[0;34m)\u001b[0m\u001b[0;34m:\u001b[0m\u001b[0;34m\u001b[0m\u001b[0;34m\u001b[0m\u001b[0m\n\u001b[1;32m   2904\u001b[0m                 \u001b[0mindexer\u001b[0m \u001b[0;34m=\u001b[0m \u001b[0;34m[\u001b[0m\u001b[0mindexer\u001b[0m\u001b[0;34m]\u001b[0m\u001b[0;34m\u001b[0m\u001b[0;34m\u001b[0m\u001b[0m\n",
      "\u001b[0;32m/opt/anaconda3/lib/python3.8/site-packages/pandas/core/indexes/base.py\u001b[0m in \u001b[0;36mget_loc\u001b[0;34m(self, key, method, tolerance)\u001b[0m\n\u001b[1;32m   2895\u001b[0m                 \u001b[0;32mreturn\u001b[0m \u001b[0mself\u001b[0m\u001b[0;34m.\u001b[0m\u001b[0m_engine\u001b[0m\u001b[0;34m.\u001b[0m\u001b[0mget_loc\u001b[0m\u001b[0;34m(\u001b[0m\u001b[0mcasted_key\u001b[0m\u001b[0;34m)\u001b[0m\u001b[0;34m\u001b[0m\u001b[0;34m\u001b[0m\u001b[0m\n\u001b[1;32m   2896\u001b[0m             \u001b[0;32mexcept\u001b[0m \u001b[0mKeyError\u001b[0m \u001b[0;32mas\u001b[0m \u001b[0merr\u001b[0m\u001b[0;34m:\u001b[0m\u001b[0;34m\u001b[0m\u001b[0;34m\u001b[0m\u001b[0m\n\u001b[0;32m-> 2897\u001b[0;31m                 \u001b[0;32mraise\u001b[0m \u001b[0mKeyError\u001b[0m\u001b[0;34m(\u001b[0m\u001b[0mkey\u001b[0m\u001b[0;34m)\u001b[0m \u001b[0;32mfrom\u001b[0m \u001b[0merr\u001b[0m\u001b[0;34m\u001b[0m\u001b[0;34m\u001b[0m\u001b[0m\n\u001b[0m\u001b[1;32m   2898\u001b[0m \u001b[0;34m\u001b[0m\u001b[0m\n\u001b[1;32m   2899\u001b[0m         \u001b[0;32mif\u001b[0m \u001b[0mtolerance\u001b[0m \u001b[0;32mis\u001b[0m \u001b[0;32mnot\u001b[0m \u001b[0;32mNone\u001b[0m\u001b[0;34m:\u001b[0m\u001b[0;34m\u001b[0m\u001b[0;34m\u001b[0m\u001b[0m\n",
      "\u001b[0;31mKeyError\u001b[0m: 'latitud'"
     ]
    }
   ],
   "source": [
    "datos_semilla['trafico.location'] = datos_semilla['latitud'] + ',' + datos_semilla['longitud']\n",
    "datos_semilla['trafico.location']=datos_semilla['trafico.location'].str.replace('a,a','')\n",
    "datos_semilla.drop(columns=['latitud','longitud'],inplace=True)"
   ]
  },
  {
   "cell_type": "code",
   "execution_count": 9,
   "metadata": {},
   "outputs": [],
   "source": [
    "datos_semilla = datos_semilla.rename(columns={'nombre_municipio': 'trafico.nombreMunicipio'\n",
    "                                              , 'nombre_departamento' : 'trafico.nombreDepartamento'\n",
    "                                              , 'nombre_centro_pob': 'trafico.localidad'\n",
    "                                              , 'nombreSede' : 'trafico.nomCentroDigital'\n",
    "                                              , 'energiadesc' : 'trafico.sistemaEnergia'\n",
    "                                              , 'COD_ISO' : 'trafico.codISO'\n",
    "                                              , 'id_Beneficiario' : 'trafico.idBeneficiario'})\n",
    "datos_semilla.fillna('', inplace=True)"
   ]
  },
  {
   "cell_type": "markdown",
   "metadata": {},
   "source": [
    "In[750]:"
   ]
  },
  {
   "cell_type": "code",
   "execution_count": 10,
   "metadata": {},
   "outputs": [],
   "source": [
    "datos_semilla = datos_semilla.drop(datos_semilla[(datos_semilla[\"trafico.location\"]=='')].index)"
   ]
  },
  {
   "cell_type": "markdown",
   "metadata": {},
   "source": [
    "### leyendo indice cambium-devicedevices"
   ]
  },
  {
   "cell_type": "markdown",
   "metadata": {},
   "source": [
    "Se lee la informaciÃ³n de los dispositivos de red monitoreados por Cambium. En esta lectura no hay referencia de fechas ya que solo hay una ocurrencia por MAC de dispositivo de red.<br>\n",
    "<br>\n",
    "* site_id es la llave para cruzar con cada centro de conexiÃ³n.<br>\n",
    "* mac, IP y name son datos bÃ¡sicos del dispositivo.<br>\n",
    "* ap_group identifica los dispositivos como INDOOR u OUTDOOR"
   ]
  },
  {
   "cell_type": "markdown",
   "metadata": {},
   "source": [
    "In[751]:"
   ]
  },
  {
   "cell_type": "code",
   "execution_count": 13,
   "metadata": {},
   "outputs": [],
   "source": [
    "total_docs = 30000\n",
    "try:\n",
    "    response = es.search(\n",
    "        index= parametros.cambium_d_d_index,\n",
    "        body={\n",
    "                    \"_source\": [\"site_id\",\"mac\",\"ip\",\"ap_group\",\"name\"]  \n",
    "                  , \"query\": {\n",
    "                    \"match_all\": {}\n",
    "                  }\n",
    "        },\n",
    "        size=total_docs\n",
    "    )\n",
    "    #print(es.info())\n",
    "    elastic_docs = response[\"hits\"][\"hits\"]\n",
    "#     fields = {}\n",
    "#     for num, doc in enumerate(elastic_docs):\n",
    "#         source_data = doc[\"_source\"]\n",
    "#         for key, val in source_data.items():\n",
    "#             try:\n",
    "#                 fields[key] = np.append(fields[key], val)\n",
    "#             except KeyError:\n",
    "#                 fields[key] = np.array([val])\n",
    "\n",
    "#     datos_dev = pd.DataFrame(dict([ (k,pd.Series(v)) for k,v in fields.items() ])) #pd.DataFrame(fields)\n",
    "    \n",
    "    datos_dev = pd.DataFrame([x[\"_source\"] for x in elastic_docs])\n",
    "    \n",
    "except:\n",
    "    exit()"
   ]
  },
  {
   "cell_type": "markdown",
   "metadata": {},
   "source": [
    "In[752]:"
   ]
  },
  {
   "cell_type": "code",
   "execution_count": 14,
   "metadata": {},
   "outputs": [],
   "source": [
    "datos_dev['site_id'] = datos_dev['site_id'].str.strip()"
   ]
  },
  {
   "cell_type": "markdown",
   "metadata": {},
   "source": [
    "Se descartan registros con site_id vacios y se limpian los NaN del dataframe"
   ]
  },
  {
   "cell_type": "markdown",
   "metadata": {},
   "source": [
    "In[753]:"
   ]
  },
  {
   "cell_type": "code",
   "execution_count": 15,
   "metadata": {},
   "outputs": [],
   "source": [
    "datos_dev.dropna(subset=['site_id'])\n",
    "datos_dev.fillna('', inplace=True)\n",
    "datos_dev = datos_dev.drop(datos_dev[(datos_dev['site_id']=='')].index)\n",
    "datos_dev.sort_values(['site_id','ap_group'], inplace=True)"
   ]
  },
  {
   "cell_type": "markdown",
   "metadata": {},
   "source": [
    "Se limpian datos mal formados de ap_group"
   ]
  },
  {
   "cell_type": "markdown",
   "metadata": {},
   "source": [
    "In[754]:"
   ]
  },
  {
   "cell_type": "code",
   "execution_count": 16,
   "metadata": {},
   "outputs": [],
   "source": [
    "datos_dev['ap_group'] = datos_dev['ap_group'].str.split(\"-\", n = 1, expand = True)[0]\n",
    "datos_dev['ap_group'] = datos_dev['ap_group'].str.split(\"_\", n = 1, expand = True)[0]\n",
    "datos_dev['ap_group'] = datos_dev['ap_group'].str.split(\".\", n = 1, expand = True)[0]\n",
    "datos_dev = datos_dev.drop(datos_dev[(datos_dev['ap_group']=='')].index)"
   ]
  },
  {
   "cell_type": "markdown",
   "metadata": {},
   "source": [
    "In[755]:"
   ]
  },
  {
   "cell_type": "code",
   "execution_count": 17,
   "metadata": {},
   "outputs": [],
   "source": [
    "datos_dev = datos_dev.drop_duplicates('mac')"
   ]
  },
  {
   "cell_type": "markdown",
   "metadata": {},
   "source": [
    "Se renombran campos segÃºn formato del indice final"
   ]
  },
  {
   "cell_type": "markdown",
   "metadata": {},
   "source": [
    "In[756]:"
   ]
  },
  {
   "cell_type": "code",
   "execution_count": 18,
   "metadata": {},
   "outputs": [],
   "source": [
    "datos_dev = datos_dev.rename(columns={'ap_group': 'trafico.apGroup'\n",
    "                                        , 'ip': 'trafico.IP'\n",
    "                                        , 'mac' : 'trafico.macRed'\n",
    "                                        , 'name' : 'trafico.deviceName'})"
   ]
  },
  {
   "cell_type": "markdown",
   "metadata": {},
   "source": [
    "### Trae la ultima fecha para control de ejecuciÃ³n"
   ]
  },
  {
   "cell_type": "markdown",
   "metadata": {},
   "source": [
    "Cuando en el rango de tiempo de la ejecuciÃ³n, no se insertan nuevos valores, las fecha maxima en indice mintic no aumenta, por tanto se usa esta fecha de control para garantizar que incremente el bucle de ejecuciÃ³n"
   ]
  },
  {
   "cell_type": "markdown",
   "metadata": {},
   "source": [
    "In[757]:"
   ]
  },
  {
   "cell_type": "code",
   "execution_count": 19,
   "metadata": {},
   "outputs": [
    {
     "name": "stdout",
     "output_type": "stream",
     "text": [
      "ultima fecha para control de ejecucion: 2021-08-24 10:00:00\n"
     ]
    }
   ],
   "source": [
    "total_docs = 1\n",
    "try:\n",
    "    response = es.search(\n",
    "        index= indice_control,\n",
    "        body={\n",
    "               \"_source\": [\"trafico.fechaControl\"],\n",
    "              \"query\": {\n",
    "                \"bool\": {\n",
    "                  \"filter\": [\n",
    "                  {\n",
    "                    \"exists\": {\n",
    "                      \"field\":\"jerarquia_tablero_trafico\"\n",
    "                    }\n",
    "                  }\n",
    "                  ]\n",
    "                }\n",
    "              }\n",
    "        },\n",
    "        size=total_docs\n",
    "    )\n",
    "    #print(es.info())\n",
    "    elastic_docs = response[\"hits\"][\"hits\"]\n",
    "    fields = {}\n",
    "    for num, doc in enumerate(elastic_docs):\n",
    "        fecha_ejecucion = doc[\"_source\"]['trafico.fechaControl']\n",
    "except:\n",
    "    fecha_ejecucion = '2021-05-01 00:00:00'\n",
    "if response[\"hits\"][\"hits\"] == []:\n",
    "    fecha_ejecucion = '2021-05-01 00:00:00'\n",
    "print(\"ultima fecha para control de ejecucion:\",fecha_ejecucion)"
   ]
  },
  {
   "cell_type": "markdown",
   "metadata": {},
   "source": [
    "## Se lee la informaciÃ³n de cambium device performance"
   ]
  },
  {
   "cell_type": "markdown",
   "metadata": {},
   "source": [
    " Se toma los valores de dispositivos de red y su desempeÃ±o.<br>\n",
    " * mac del dispositivo de red<br>\n",
    " * timestamp es la fecha y hora de la mediciÃ³n<br>\n",
    " * radio.* volumen de datos descargados(r) y cargados(t)"
   ]
  },
  {
   "cell_type": "markdown",
   "metadata": {},
   "source": [
    "In[758]:"
   ]
  },
  {
   "cell_type": "code",
   "execution_count": 21,
   "metadata": {},
   "outputs": [],
   "source": [
    "def traePerformance(fecha_max,fecha_tope):\n",
    "    total_docs = 5000000\n",
    "    response = es.search(\n",
    "        index= parametros.cambium_d_p_index,\n",
    "        body={\n",
    "                \"_source\": [\"mac\",\"timestamp\",\"radio.5ghz.rx_bps\",\n",
    "                           \"radio.5ghz.tx_bps\",\"radio.24ghz.rx_bps\"\n",
    "                          ,\"radio.24ghz.tx_bps\"]\n",
    "              , \"query\": {\n",
    "                  \"range\": {\n",
    "                    \"timestamp\": {\n",
    "                      \"gte\": fecha_max,\n",
    "                      \"lt\": fecha_tope\n",
    "                    }\n",
    "                  }\n",
    "              }\n",
    "        },\n",
    "        size=total_docs\n",
    "    )\n",
    "    elastic_docs = response[\"hits\"][\"hits\"]\n",
    "#     fields = {}\n",
    "#     for num, doc in enumerate(elastic_docs):\n",
    "#         source_data = doc[\"_source\"]\n",
    "#         for key, val in source_data.items():\n",
    "#             try:\n",
    "#                 fields[key] = np.append(fields[key], val)\n",
    "#             except KeyError:\n",
    "#                 fields[key] = np.array([val])\n",
    "\n",
    "    return pd.DataFrame([x[\"_source\"] for x in elastic_docs])"
   ]
  },
  {
   "cell_type": "markdown",
   "metadata": {},
   "source": [
    "### Lanzando  ejecuciÃ³n de consulta"
   ]
  },
  {
   "cell_type": "markdown",
   "metadata": {},
   "source": [
    "* Se calcula rango en base a la fecha de control. Para este caso es de 10 minutos.<br>\n",
    "* Se ejecuta la funciÃ³n de consulta con el rango de fechas.<br>\n",
    "* Si no retorna datos se incrementa el rango y se ejecuta nuevamente. Este proceso se repite hasta conseguir datos o hasta que el rango de ejecuciÃ³n alcance la fecha y hora actual."
   ]
  },
  {
   "cell_type": "markdown",
   "metadata": {},
   "source": [
    "In[759]:"
   ]
  },
  {
   "cell_type": "code",
   "execution_count": 22,
   "metadata": {},
   "outputs": [],
   "source": [
    "fecha_max_mintic = fecha_ejecucion\n",
    "fecha_tope_mintic = (datetime.strptime(fecha_max_mintic, '%Y-%m-%d %H:%M:%S')+timedelta(minutes=120)-timedelta(seconds=1)).strftime(\"%Y-%m-%d %H:%M:%S\")\n",
    "datos_performance = traePerformance(fecha_max_mintic,fecha_tope_mintic)\n",
    "\n",
    "if datos_performance is None or datos_performance.empty:\n",
    "    while (datos_performance is None or datos_performance.empty) and ((datetime.strptime(fecha_max_mintic[0:10], '%Y-%m-%d').strftime(\"%Y-%m-%d %H:%M:%S\")) < str(now.strftime(\"%Y-%m-%d %H:%M:%S\"))):\n",
    "        fecha_max_mintic = (datetime.strptime(fecha_max_mintic, '%Y-%m-%d %H:%M:%S')+timedelta(minutes=120)).strftime(\"%Y-%m-%d %H:%M:%S\")\n",
    "        fecha_tope_mintic = (datetime.strptime(fecha_tope_mintic, '%Y-%m-%d %H:%M:%S')+timedelta(minutes=120)).strftime(\"%Y-%m-%d %H:%M:%S\")\n",
    "        datos_performance = traePerformance(fecha_max_mintic,fecha_tope_mintic)\n",
    "else:\n",
    "    pass\n"
   ]
  },
  {
   "cell_type": "markdown",
   "metadata": {},
   "source": [
    "funcion para insertar en indice: "
   ]
  },
  {
   "cell_type": "markdown",
   "metadata": {},
   "source": [
    "In[760]:"
   ]
  },
  {
   "cell_type": "code",
   "execution_count": 23,
   "metadata": {},
   "outputs": [],
   "source": [
    "use_these_keys = ['trafico.nomCentroDigital',\n",
    "                  'trafico.codISO',\n",
    "                  'trafico.localidad',\n",
    "                  'trafico.siteID',\n",
    "                  'trafico.nombreDepartamento',\n",
    "                  'trafico.sistemaEnergia',\n",
    "                  'trafico.nombreMunicipio',\n",
    "                  'trafico.idBeneficiario',\n",
    "                  'trafico.location',\n",
    "                  'trafico.apGroup',\n",
    "                  'trafico.IP',\n",
    "                  'trafico.deviceName',\n",
    "                  'trafico.macRed',\n",
    "                  #'trafico.status.macRed',\n",
    "                  'trafico.totales.fechaControl',\n",
    "                  'trafico.totales.traficoIN',\n",
    "                  'trafico.totales.traficoOUT',\n",
    "                  'trafico.totales.consumoGB',\n",
    "                  'trafico.totales.promedioIN',\n",
    "                  'trafico.totales.promedioOUT',\n",
    "                  'trafico.totales.promedioConsumo',\n",
    "                  'trafico.totales.fecha',\n",
    "                  'trafico.totales.anyo',\n",
    "                  'trafico.totales.mes',\n",
    "                  'trafico.totales.dia',\n",
    "                  'trafico.totales.hora',\n",
    "                  'trafico.totales.minuto',\n",
    "                  'nombreDepartamento',\n",
    "                    'nombreMunicipio',\n",
    "                    'idBeneficiario',\n",
    "                    'fecha',\n",
    "                    'anyo',\n",
    "                    'mes',\n",
    "                    'dia',\n",
    "                  '@timestamp']\n",
    "def doc_generator(df):\n",
    "    df_iter = df.iterrows()\n",
    "    for index, document in df_iter:\n",
    "        yield {\n",
    "                \"_index\": indice, \n",
    "                \"_id\": f\"{'consumo-' + document['trafico.siteID'] + '-' + document['trafico.macRed'] + '-' +document['trafico.totales.fechaControl']+'-'+str(random.randrange(10000))}\",\n",
    "                \"_source\": filterKeys(document),\n",
    "            }"
   ]
  },
  {
   "cell_type": "markdown",
   "metadata": {},
   "source": [
    "# Insertando consumo a indice "
   ]
  },
  {
   "cell_type": "markdown",
   "metadata": {},
   "source": [
    "* Calculo de indicadores de consumos para cada AP. <br>\n",
    "* Se toman los valores de rx y tx como descarga y carga<br>\n",
    "* de datos_dev se toma el site_id y el ap_group"
   ]
  },
  {
   "cell_type": "markdown",
   "metadata": {},
   "source": [
    "In[761]:"
   ]
  },
  {
   "cell_type": "code",
   "execution_count": 24,
   "metadata": {},
   "outputs": [
    {
     "name": "stdout",
     "output_type": "stream",
     "text": [
      "Fecha:  2021-09-15 19:45:32.941777 - Datos Trafico Consumos en indice principal: 18348\n"
     ]
    }
   ],
   "source": [
    "try:\n",
    "    datos_performance.drop_duplicates(inplace=True)\n",
    "    datos_performance['fecha_control'] = datos_performance[\"timestamp\"].str[0:-4] + '0:00'\n",
    "    datos_performance.rename(columns={'mac': 'trafico.macRed'}, inplace=True)\n",
    "    datos_performance.replace('','0',inplace=True)\n",
    "    datos_performance.fillna({'radio.5ghz.rx_bps':0, 'radio.5ghz.tx_bps':0,\n",
    "                      'radio.24ghz.rx_bps':0, 'radio.24ghz.tx_bps':0 },inplace=True)\n",
    "    datos_performance[['radio.5ghz.rx_bps','radio.5ghz.tx_bps','radio.24ghz.rx_bps','radio.24ghz.tx_bps']] = datos_performance[['radio.5ghz.rx_bps','radio.5ghz.tx_bps','radio.24ghz.rx_bps','radio.24ghz.tx_bps']].astype(int)\n",
    "    aux_performance=datos_performance[['trafico.macRed','fecha_control'\n",
    "                                       ,'radio.5ghz.rx_bps'\n",
    "                                       ,'radio.5ghz.tx_bps'\n",
    "                                       ,'radio.24ghz.rx_bps'\n",
    "                                       ,'radio.24ghz.tx_bps']].groupby(['trafico.macRed','fecha_control']).agg(['sum']).reset_index()\n",
    "    aux_performance.columns = aux_performance.columns.droplevel(1)\n",
    "    aux_performance['trafico.totales.traficoIN_aux'] = aux_performance['radio.5ghz.rx_bps'] + aux_performance['radio.24ghz.rx_bps']\n",
    "    aux_performance['trafico.totales.traficoOUT_aux'] = aux_performance['radio.5ghz.tx_bps'] + aux_performance['radio.24ghz.tx_bps']\n",
    "    \n",
    "    aux_performance = pd.merge(aux_performance, datos_dev, on='trafico.macRed',how='inner')\n",
    "    mintic_02 = pd.merge(datos_semilla,  aux_performance, on='site_id',how='inner')\n",
    "    \n",
    "        ## Calculo del promedio \n",
    "    aux_performance['trafico.totales.promedioIN'] = round((aux_performance['trafico.totales.traficoIN_aux']/float(1<<30)),6)\n",
    "    aux_performance['trafico.totales.promedioOUT'] = round((aux_performance['trafico.totales.traficoOUT_aux']/float(1<<30)),6)\n",
    "    aux_performance['trafico.totales.promedioConsumo'] = aux_performance['trafico.totales.promedioIN'] + aux_performance['trafico.totales.promedioOUT']\n",
    "    #Se totaliza para la sede completa\n",
    "    aux_performance['trafico.totales.promedioConsumo'] = round(aux_performance['trafico.totales.promedioConsumo'],6)\n",
    "    \n",
    "    #La informaciÃ³n de trÃ¡fico se convierte a GigaBytes y se toman 6 decimales\n",
    "    mintic_02['trafico.totales.traficoIN'] = round((mintic_02['trafico.totales.traficoIN_aux']/float(1<<30)),6)\n",
    "    mintic_02['trafico.totales.traficoOUT'] = round((mintic_02['trafico.totales.traficoOUT_aux']/float(1<<30)),6)\n",
    "    mintic_02['trafico.totales.consumoGB'] = mintic_02['trafico.totales.traficoIN'] + mintic_02['trafico.totales.traficoOUT']\n",
    "    #Se totaliza entrante y saliente\n",
    "    mintic_02['trafico.totales.consumoGB'] = round(mintic_02['trafico.totales.consumoGB'],6)\n",
    "\n",
    "    ### Generando columnas con fecha, anyo, mes, dia, hora y minuto por separado\n",
    "    mintic_02[\"trafico.totales.fecha\"] = mintic_02[\"fecha_control\"].str.split(\" \", n = 1, expand = True)[0]\n",
    "    mintic_02[\"trafico.totales.hora\"] = mintic_02[\"fecha_control\"].str.split(\" \", n = 1, expand = True)[1].str.split(\":\", n = 2, expand = True)[0]\n",
    "    mintic_02[\"trafico.totales.minuto\"] = mintic_02[\"fecha_control\"].str.split(\" \", n = 1, expand = True)[1].str.split(\":\", n = 2, expand = True)[1]\n",
    "    mintic_02[\"trafico.totales.anyo\"] = mintic_02[\"trafico.totales.fecha\"].str[0:4]\n",
    "    mintic_02[\"trafico.totales.mes\"] = mintic_02[\"trafico.totales.fecha\"].str[5:7]\n",
    "    mintic_02[\"trafico.totales.dia\"] = mintic_02[\"trafico.totales.fecha\"].str[8:10]\n",
    "    ### Renombrado de campos\n",
    "    mintic_02.rename(columns={'site_id': 'trafico.siteID'\n",
    "                             ,'fecha_control' : 'trafico.totales.fechaControl'}, inplace=True)\n",
    "    \n",
    "    aux_performance=aux_performance.rename(columns={'site_id' : 'trafico.siteID', \\\n",
    "                                                'fecha_control':'trafico.totales.fechaControl'})\n",
    "    \n",
    "    \n",
    "    ##nulos a cero\n",
    "    mintic_02.fillna({'trafico.totales.consumoGB':0,\n",
    "                      'trafico.totales.traficoIN':0,\n",
    "                      'trafico.totales.traficoOUT':0\n",
    "                      },inplace=True)\n",
    "    #cambia valores a tipo float\n",
    "    mintic_02[['trafico.totales.consumoGB','trafico.totales.traficoIN','trafico.totales.traficoOUT']] = mintic_02[['trafico.totales.consumoGB','trafico.totales.traficoIN','trafico.totales.traficoOUT']].astype(float)\n",
    "    \n",
    "    mintic_02['nombreDepartamento'] = mintic_02['trafico.nombreDepartamento']\n",
    "    mintic_02['nombreMunicipio'] = mintic_02['trafico.nombreMunicipio']\n",
    "    mintic_02['idBeneficiario'] = mintic_02['trafico.idBeneficiario']\n",
    "    mintic_02['fecha'] = mintic_02['trafico.totales.fecha']\n",
    "    mintic_02['anyo'] = mintic_02['trafico.totales.anyo']\n",
    "    mintic_02['mes'] = mintic_02['trafico.totales.mes']\n",
    "    mintic_02['dia'] = mintic_02['trafico.totales.dia']\n",
    "    mintic_02['@timestamp'] = now.isoformat()\n",
    "    \n",
    "    aux_performance = aux_performance[['trafico.siteID'\n",
    "                              ,'trafico.macRed'\n",
    "                              ,'trafico.totales.fechaControl'\n",
    "                              ,'trafico.totales.promedioIN'\n",
    "                              ,'trafico.totales.promedioOUT'\n",
    "                              ,'trafico.totales.promedioConsumo']]\n",
    "    \n",
    "    mintic_02 = pd.merge(mintic_02,aux_performance, \n",
    "                        on=['trafico.siteID',\n",
    "                            'trafico.macRed',\n",
    "                            'trafico.totales.fechaControl'],how='left')\n",
    "    salida = helpers.bulk(es, doc_generator(mintic_02))\n",
    "    print(\"Fecha: \", now,\"- Datos Trafico Consumos en indice principal:\",salida[0])\n",
    "except Exception as e:\n",
    "    print(e)\n",
    "    print(\"Fecha: \", now,\"- No se insertaron datos de consumos en indice principal\")    "
   ]
  },
  {
   "cell_type": "code",
   "execution_count": 25,
   "metadata": {},
   "outputs": [
    {
     "data": {
      "text/html": [
       "<div>\n",
       "<style scoped>\n",
       "    .dataframe tbody tr th:only-of-type {\n",
       "        vertical-align: middle;\n",
       "    }\n",
       "\n",
       "    .dataframe tbody tr th {\n",
       "        vertical-align: top;\n",
       "    }\n",
       "\n",
       "    .dataframe thead th {\n",
       "        text-align: right;\n",
       "    }\n",
       "</style>\n",
       "<table border=\"1\" class=\"dataframe\">\n",
       "  <thead>\n",
       "    <tr style=\"text-align: right;\">\n",
       "      <th></th>\n",
       "      <th>trafico.nomCentroDigital</th>\n",
       "      <th>trafico.codISO</th>\n",
       "      <th>trafico.localidad</th>\n",
       "      <th>trafico.siteID</th>\n",
       "      <th>trafico.nombreDepartamento</th>\n",
       "      <th>trafico.sistemaEnergia</th>\n",
       "      <th>trafico.nombreMunicipio</th>\n",
       "      <th>trafico.idBeneficiario</th>\n",
       "      <th>trafico.location</th>\n",
       "      <th>trafico.macRed</th>\n",
       "      <th>...</th>\n",
       "      <th>nombreMunicipio</th>\n",
       "      <th>idBeneficiario</th>\n",
       "      <th>fecha</th>\n",
       "      <th>anyo</th>\n",
       "      <th>mes</th>\n",
       "      <th>dia</th>\n",
       "      <th>@timestamp</th>\n",
       "      <th>trafico.totales.promedioIN</th>\n",
       "      <th>trafico.totales.promedioOUT</th>\n",
       "      <th>trafico.totales.promedioConsumo</th>\n",
       "    </tr>\n",
       "  </thead>\n",
       "  <tbody>\n",
       "    <tr>\n",
       "      <th>0</th>\n",
       "      <td>C. E. R. SANTA MARTINA</td>\n",
       "      <td>CO-ANT</td>\n",
       "      <td>SANTA MARTINA</td>\n",
       "      <td>20909-ZZZY725</td>\n",
       "      <td>ANTIOQUIA</td>\n",
       "      <td>Red Interconectada</td>\n",
       "      <td>PUERTO BERRÍO</td>\n",
       "      <td>20909</td>\n",
       "      <td>7.02121096,-75.94836537</td>\n",
       "      <td>BC:A9:93:0C:E2:50</td>\n",
       "      <td>...</td>\n",
       "      <td>PUERTO BERRÍO</td>\n",
       "      <td>20909</td>\n",
       "      <td>2021-08-24</td>\n",
       "      <td>2021</td>\n",
       "      <td>08</td>\n",
       "      <td>24</td>\n",
       "      <td>2021-09-15T19:45:32.941777</td>\n",
       "      <td>0.0</td>\n",
       "      <td>0.0</td>\n",
       "      <td>0.0</td>\n",
       "    </tr>\n",
       "    <tr>\n",
       "      <th>1</th>\n",
       "      <td>C. E. R. SANTA MARTINA</td>\n",
       "      <td>CO-ANT</td>\n",
       "      <td>SANTA MARTINA</td>\n",
       "      <td>20909-ZZZY725</td>\n",
       "      <td>ANTIOQUIA</td>\n",
       "      <td>Red Interconectada</td>\n",
       "      <td>PUERTO BERRÍO</td>\n",
       "      <td>20909</td>\n",
       "      <td>7.02121096,-75.94836537</td>\n",
       "      <td>BC:A9:93:0C:E2:50</td>\n",
       "      <td>...</td>\n",
       "      <td>PUERTO BERRÍO</td>\n",
       "      <td>20909</td>\n",
       "      <td>2021-08-24</td>\n",
       "      <td>2021</td>\n",
       "      <td>08</td>\n",
       "      <td>24</td>\n",
       "      <td>2021-09-15T19:45:32.941777</td>\n",
       "      <td>0.0</td>\n",
       "      <td>0.0</td>\n",
       "      <td>0.0</td>\n",
       "    </tr>\n",
       "    <tr>\n",
       "      <th>2</th>\n",
       "      <td>C. E. R. MANI DE LAS CASAS</td>\n",
       "      <td>CO-ANT</td>\n",
       "      <td>VDA PIEDECUESTA</td>\n",
       "      <td>18620-ZZZY358</td>\n",
       "      <td>ANTIOQUIA</td>\n",
       "      <td>Red Interconectada</td>\n",
       "      <td>AMAGÁ</td>\n",
       "      <td>18620</td>\n",
       "      <td>6.05917632,-75.70988576</td>\n",
       "      <td>BC:E6:7C:E8:3F:1C</td>\n",
       "      <td>...</td>\n",
       "      <td>AMAGÁ</td>\n",
       "      <td>18620</td>\n",
       "      <td>2021-08-24</td>\n",
       "      <td>2021</td>\n",
       "      <td>08</td>\n",
       "      <td>24</td>\n",
       "      <td>2021-09-15T19:45:32.941777</td>\n",
       "      <td>0.0</td>\n",
       "      <td>0.0</td>\n",
       "      <td>0.0</td>\n",
       "    </tr>\n",
       "    <tr>\n",
       "      <th>3</th>\n",
       "      <td>C. E. R. MANI DE LAS CASAS</td>\n",
       "      <td>CO-ANT</td>\n",
       "      <td>VDA PIEDECUESTA</td>\n",
       "      <td>18620-ZZZY358</td>\n",
       "      <td>ANTIOQUIA</td>\n",
       "      <td>Red Interconectada</td>\n",
       "      <td>AMAGÁ</td>\n",
       "      <td>18620</td>\n",
       "      <td>6.05917632,-75.70988576</td>\n",
       "      <td>BC:E6:7C:E8:3F:1C</td>\n",
       "      <td>...</td>\n",
       "      <td>AMAGÁ</td>\n",
       "      <td>18620</td>\n",
       "      <td>2021-08-24</td>\n",
       "      <td>2021</td>\n",
       "      <td>08</td>\n",
       "      <td>24</td>\n",
       "      <td>2021-09-15T19:45:32.941777</td>\n",
       "      <td>0.0</td>\n",
       "      <td>0.0</td>\n",
       "      <td>0.0</td>\n",
       "    </tr>\n",
       "    <tr>\n",
       "      <th>4</th>\n",
       "      <td>C. E. R. MANI DE LAS CASAS</td>\n",
       "      <td>CO-ANT</td>\n",
       "      <td>VDA PIEDECUESTA</td>\n",
       "      <td>18620-ZZZY358</td>\n",
       "      <td>ANTIOQUIA</td>\n",
       "      <td>Red Interconectada</td>\n",
       "      <td>AMAGÁ</td>\n",
       "      <td>18620</td>\n",
       "      <td>6.05917632,-75.70988576</td>\n",
       "      <td>BC:E6:7C:E8:3F:B6</td>\n",
       "      <td>...</td>\n",
       "      <td>AMAGÁ</td>\n",
       "      <td>18620</td>\n",
       "      <td>2021-08-24</td>\n",
       "      <td>2021</td>\n",
       "      <td>08</td>\n",
       "      <td>24</td>\n",
       "      <td>2021-09-15T19:45:32.941777</td>\n",
       "      <td>0.0</td>\n",
       "      <td>0.0</td>\n",
       "      <td>0.0</td>\n",
       "    </tr>\n",
       "    <tr>\n",
       "      <th>...</th>\n",
       "      <td>...</td>\n",
       "      <td>...</td>\n",
       "      <td>...</td>\n",
       "      <td>...</td>\n",
       "      <td>...</td>\n",
       "      <td>...</td>\n",
       "      <td>...</td>\n",
       "      <td>...</td>\n",
       "      <td>...</td>\n",
       "      <td>...</td>\n",
       "      <td>...</td>\n",
       "      <td>...</td>\n",
       "      <td>...</td>\n",
       "      <td>...</td>\n",
       "      <td>...</td>\n",
       "      <td>...</td>\n",
       "      <td>...</td>\n",
       "      <td>...</td>\n",
       "      <td>...</td>\n",
       "      <td>...</td>\n",
       "      <td>...</td>\n",
       "    </tr>\n",
       "    <tr>\n",
       "      <th>18343</th>\n",
       "      <td>I.E.T. LOS ALPES - SEDE PRINCIPAL</td>\n",
       "      <td>CO-TOL</td>\n",
       "      <td>KM 1 VIA EL DIVISO</td>\n",
       "      <td>49603-ZZZY503</td>\n",
       "      <td>TOLIMA</td>\n",
       "      <td>Red Interconectada</td>\n",
       "      <td>VILLARRICA</td>\n",
       "      <td>49603</td>\n",
       "      <td>1.804166667,-75.50111111</td>\n",
       "      <td>BC:A9:93:00:30:B8</td>\n",
       "      <td>...</td>\n",
       "      <td>VILLARRICA</td>\n",
       "      <td>49603</td>\n",
       "      <td>2021-08-24</td>\n",
       "      <td>2021</td>\n",
       "      <td>08</td>\n",
       "      <td>24</td>\n",
       "      <td>2021-09-15T19:45:32.941777</td>\n",
       "      <td>0.0</td>\n",
       "      <td>0.0</td>\n",
       "      <td>0.0</td>\n",
       "    </tr>\n",
       "    <tr>\n",
       "      <th>18344</th>\n",
       "      <td>I.E.T. LOS ALPES - SEDE PRINCIPAL</td>\n",
       "      <td>CO-TOL</td>\n",
       "      <td>KM 1 VIA EL DIVISO</td>\n",
       "      <td>49603-ZZZY503</td>\n",
       "      <td>TOLIMA</td>\n",
       "      <td>Red Interconectada</td>\n",
       "      <td>VILLARRICA</td>\n",
       "      <td>49603</td>\n",
       "      <td>1.804166667,-75.50111111</td>\n",
       "      <td>BC:A9:93:00:30:D1</td>\n",
       "      <td>...</td>\n",
       "      <td>VILLARRICA</td>\n",
       "      <td>49603</td>\n",
       "      <td>2021-08-24</td>\n",
       "      <td>2021</td>\n",
       "      <td>08</td>\n",
       "      <td>24</td>\n",
       "      <td>2021-09-15T19:45:32.941777</td>\n",
       "      <td>0.0</td>\n",
       "      <td>0.0</td>\n",
       "      <td>0.0</td>\n",
       "    </tr>\n",
       "    <tr>\n",
       "      <th>18345</th>\n",
       "      <td>I.E.T. LOS ALPES - SEDE PRINCIPAL</td>\n",
       "      <td>CO-TOL</td>\n",
       "      <td>KM 1 VIA EL DIVISO</td>\n",
       "      <td>49603-ZZZY503</td>\n",
       "      <td>TOLIMA</td>\n",
       "      <td>Red Interconectada</td>\n",
       "      <td>VILLARRICA</td>\n",
       "      <td>49603</td>\n",
       "      <td>1.804166667,-75.50111111</td>\n",
       "      <td>BC:A9:93:00:30:D1</td>\n",
       "      <td>...</td>\n",
       "      <td>VILLARRICA</td>\n",
       "      <td>49603</td>\n",
       "      <td>2021-08-24</td>\n",
       "      <td>2021</td>\n",
       "      <td>08</td>\n",
       "      <td>24</td>\n",
       "      <td>2021-09-15T19:45:32.941777</td>\n",
       "      <td>0.0</td>\n",
       "      <td>0.0</td>\n",
       "      <td>0.0</td>\n",
       "    </tr>\n",
       "    <tr>\n",
       "      <th>18346</th>\n",
       "      <td>I.E.T. LOS ALPES - SEDE PRINCIPAL</td>\n",
       "      <td>CO-TOL</td>\n",
       "      <td>KM 1 VIA EL DIVISO</td>\n",
       "      <td>49603-ZZZY503</td>\n",
       "      <td>TOLIMA</td>\n",
       "      <td>Red Interconectada</td>\n",
       "      <td>VILLARRICA</td>\n",
       "      <td>49603</td>\n",
       "      <td>1.804166667,-75.50111111</td>\n",
       "      <td>BC:E6:7C:EC:A9:C3</td>\n",
       "      <td>...</td>\n",
       "      <td>VILLARRICA</td>\n",
       "      <td>49603</td>\n",
       "      <td>2021-08-24</td>\n",
       "      <td>2021</td>\n",
       "      <td>08</td>\n",
       "      <td>24</td>\n",
       "      <td>2021-09-15T19:45:32.941777</td>\n",
       "      <td>0.0</td>\n",
       "      <td>0.0</td>\n",
       "      <td>0.0</td>\n",
       "    </tr>\n",
       "    <tr>\n",
       "      <th>18347</th>\n",
       "      <td>I.E.T. LOS ALPES - SEDE PRINCIPAL</td>\n",
       "      <td>CO-TOL</td>\n",
       "      <td>KM 1 VIA EL DIVISO</td>\n",
       "      <td>49603-ZZZY503</td>\n",
       "      <td>TOLIMA</td>\n",
       "      <td>Red Interconectada</td>\n",
       "      <td>VILLARRICA</td>\n",
       "      <td>49603</td>\n",
       "      <td>1.804166667,-75.50111111</td>\n",
       "      <td>BC:E6:7C:EC:A9:C3</td>\n",
       "      <td>...</td>\n",
       "      <td>VILLARRICA</td>\n",
       "      <td>49603</td>\n",
       "      <td>2021-08-24</td>\n",
       "      <td>2021</td>\n",
       "      <td>08</td>\n",
       "      <td>24</td>\n",
       "      <td>2021-09-15T19:45:32.941777</td>\n",
       "      <td>0.0</td>\n",
       "      <td>0.0</td>\n",
       "      <td>0.0</td>\n",
       "    </tr>\n",
       "  </tbody>\n",
       "</table>\n",
       "<p>18348 rows × 40 columns</p>\n",
       "</div>"
      ],
      "text/plain": [
       "                trafico.nomCentroDigital trafico.codISO   trafico.localidad  \\\n",
       "0                 C. E. R. SANTA MARTINA         CO-ANT       SANTA MARTINA   \n",
       "1                 C. E. R. SANTA MARTINA         CO-ANT       SANTA MARTINA   \n",
       "2             C. E. R. MANI DE LAS CASAS         CO-ANT     VDA PIEDECUESTA   \n",
       "3             C. E. R. MANI DE LAS CASAS         CO-ANT     VDA PIEDECUESTA   \n",
       "4             C. E. R. MANI DE LAS CASAS         CO-ANT     VDA PIEDECUESTA   \n",
       "...                                  ...            ...                 ...   \n",
       "18343  I.E.T. LOS ALPES - SEDE PRINCIPAL         CO-TOL  KM 1 VIA EL DIVISO   \n",
       "18344  I.E.T. LOS ALPES - SEDE PRINCIPAL         CO-TOL  KM 1 VIA EL DIVISO   \n",
       "18345  I.E.T. LOS ALPES - SEDE PRINCIPAL         CO-TOL  KM 1 VIA EL DIVISO   \n",
       "18346  I.E.T. LOS ALPES - SEDE PRINCIPAL         CO-TOL  KM 1 VIA EL DIVISO   \n",
       "18347  I.E.T. LOS ALPES - SEDE PRINCIPAL         CO-TOL  KM 1 VIA EL DIVISO   \n",
       "\n",
       "      trafico.siteID trafico.nombreDepartamento trafico.sistemaEnergia  \\\n",
       "0      20909-ZZZY725                  ANTIOQUIA     Red Interconectada   \n",
       "1      20909-ZZZY725                  ANTIOQUIA     Red Interconectada   \n",
       "2      18620-ZZZY358                  ANTIOQUIA     Red Interconectada   \n",
       "3      18620-ZZZY358                  ANTIOQUIA     Red Interconectada   \n",
       "4      18620-ZZZY358                  ANTIOQUIA     Red Interconectada   \n",
       "...              ...                        ...                    ...   \n",
       "18343  49603-ZZZY503                     TOLIMA     Red Interconectada   \n",
       "18344  49603-ZZZY503                     TOLIMA     Red Interconectada   \n",
       "18345  49603-ZZZY503                     TOLIMA     Red Interconectada   \n",
       "18346  49603-ZZZY503                     TOLIMA     Red Interconectada   \n",
       "18347  49603-ZZZY503                     TOLIMA     Red Interconectada   \n",
       "\n",
       "      trafico.nombreMunicipio  trafico.idBeneficiario  \\\n",
       "0               PUERTO BERRÍO                   20909   \n",
       "1               PUERTO BERRÍO                   20909   \n",
       "2                       AMAGÁ                   18620   \n",
       "3                       AMAGÁ                   18620   \n",
       "4                       AMAGÁ                   18620   \n",
       "...                       ...                     ...   \n",
       "18343              VILLARRICA                   49603   \n",
       "18344              VILLARRICA                   49603   \n",
       "18345              VILLARRICA                   49603   \n",
       "18346              VILLARRICA                   49603   \n",
       "18347              VILLARRICA                   49603   \n",
       "\n",
       "               trafico.location     trafico.macRed  ... nombreMunicipio  \\\n",
       "0       7.02121096,-75.94836537  BC:A9:93:0C:E2:50  ...   PUERTO BERRÍO   \n",
       "1       7.02121096,-75.94836537  BC:A9:93:0C:E2:50  ...   PUERTO BERRÍO   \n",
       "2       6.05917632,-75.70988576  BC:E6:7C:E8:3F:1C  ...           AMAGÁ   \n",
       "3       6.05917632,-75.70988576  BC:E6:7C:E8:3F:1C  ...           AMAGÁ   \n",
       "4       6.05917632,-75.70988576  BC:E6:7C:E8:3F:B6  ...           AMAGÁ   \n",
       "...                         ...                ...  ...             ...   \n",
       "18343  1.804166667,-75.50111111  BC:A9:93:00:30:B8  ...      VILLARRICA   \n",
       "18344  1.804166667,-75.50111111  BC:A9:93:00:30:D1  ...      VILLARRICA   \n",
       "18345  1.804166667,-75.50111111  BC:A9:93:00:30:D1  ...      VILLARRICA   \n",
       "18346  1.804166667,-75.50111111  BC:E6:7C:EC:A9:C3  ...      VILLARRICA   \n",
       "18347  1.804166667,-75.50111111  BC:E6:7C:EC:A9:C3  ...      VILLARRICA   \n",
       "\n",
       "       idBeneficiario       fecha  anyo  mes  dia                  @timestamp  \\\n",
       "0               20909  2021-08-24  2021   08   24  2021-09-15T19:45:32.941777   \n",
       "1               20909  2021-08-24  2021   08   24  2021-09-15T19:45:32.941777   \n",
       "2               18620  2021-08-24  2021   08   24  2021-09-15T19:45:32.941777   \n",
       "3               18620  2021-08-24  2021   08   24  2021-09-15T19:45:32.941777   \n",
       "4               18620  2021-08-24  2021   08   24  2021-09-15T19:45:32.941777   \n",
       "...               ...         ...   ...  ...  ...                         ...   \n",
       "18343           49603  2021-08-24  2021   08   24  2021-09-15T19:45:32.941777   \n",
       "18344           49603  2021-08-24  2021   08   24  2021-09-15T19:45:32.941777   \n",
       "18345           49603  2021-08-24  2021   08   24  2021-09-15T19:45:32.941777   \n",
       "18346           49603  2021-08-24  2021   08   24  2021-09-15T19:45:32.941777   \n",
       "18347           49603  2021-08-24  2021   08   24  2021-09-15T19:45:32.941777   \n",
       "\n",
       "      trafico.totales.promedioIN trafico.totales.promedioOUT  \\\n",
       "0                            0.0                         0.0   \n",
       "1                            0.0                         0.0   \n",
       "2                            0.0                         0.0   \n",
       "3                            0.0                         0.0   \n",
       "4                            0.0                         0.0   \n",
       "...                          ...                         ...   \n",
       "18343                        0.0                         0.0   \n",
       "18344                        0.0                         0.0   \n",
       "18345                        0.0                         0.0   \n",
       "18346                        0.0                         0.0   \n",
       "18347                        0.0                         0.0   \n",
       "\n",
       "      trafico.totales.promedioConsumo  \n",
       "0                                 0.0  \n",
       "1                                 0.0  \n",
       "2                                 0.0  \n",
       "3                                 0.0  \n",
       "4                                 0.0  \n",
       "...                               ...  \n",
       "18343                             0.0  \n",
       "18344                             0.0  \n",
       "18345                             0.0  \n",
       "18346                             0.0  \n",
       "18347                             0.0  \n",
       "\n",
       "[18348 rows x 40 columns]"
      ]
     },
     "execution_count": 25,
     "metadata": {},
     "output_type": "execute_result"
    }
   ],
   "source": [
    "mintic_02"
   ]
  },
  {
   "cell_type": "markdown",
   "metadata": {},
   "source": [
    "## En otra  jerarquÃ­a se escriben los dispositivos conectados"
   ]
  },
  {
   "cell_type": "markdown",
   "metadata": {},
   "source": [
    "Se toma el dataframe del proceso anterior para realizar el siguiente proceso:<br>\n",
    "* Se cuentan la cantidad de dispositivos WAN/LAN (OUTDOOR/INDOOR), agrupando por fecha y sitio<br>\n",
    "* Cantidad dispositivos WAN/LAN conectados se calcula validando cuando son OUTDOOR/INDOOR y tienen trafico(traficoOUT)<br>\n",
    "* Cantidad de dispositivos desconectados, restando los dos anteriores<br>\n",
    "<br>\n",
    "Datos generados<br>\n",
    "* trafico.totales.cantDevWAN<br>\n",
    "* trafico.totales.cantDevLAN<br>\n",
    "* trafico.totales.cantDevConectadosWAN<br>\n",
    "* trafico.totales.cantDevDesconectadosWAN<br>\n",
    "* trafico.totales.cantDevConectadosLAN<br>\n",
    "* trafico.totales.cantDevDesconectadosLAN<br>\n",
    "* trafico.totales.cantDev"
   ]
  },
  {
   "cell_type": "markdown",
   "metadata": {},
   "source": [
    "In[762]:"
   ]
  },
  {
   "cell_type": "code",
   "execution_count": 26,
   "metadata": {},
   "outputs": [],
   "source": [
    "try:\n",
    "    mintic_03 = mintic_02[['trafico.nomCentroDigital',\n",
    "                      'trafico.codISO',\n",
    "                      'trafico.localidad',\n",
    "                      'trafico.siteID',\n",
    "                      'trafico.nombreDepartamento',\n",
    "                      'trafico.sistemaEnergia',\n",
    "                      'trafico.nombreMunicipio',\n",
    "                      'trafico.idBeneficiario',\n",
    "                      'trafico.location',\n",
    "                      'trafico.apGroup',\n",
    "                      'trafico.macRed',\n",
    "                      'trafico.totales.fechaControl',\n",
    "                      'trafico.totales.fecha',\n",
    "                      'trafico.totales.anyo',\n",
    "                      'trafico.totales.mes',\n",
    "                      'trafico.totales.dia',\n",
    "                      'trafico.totales.hora',\n",
    "                      'trafico.totales.minuto',\n",
    "                      'trafico.totales.traficoIN',\n",
    "                      'trafico.totales.traficoOUT',\n",
    "                      'trafico.totales.consumoGB',\n",
    "                      'trafico.totales.promedioIN',\n",
    "                      'trafico.totales.promedioOUT',\n",
    "                      'trafico.totales.promedioConsumo']].groupby(['trafico.nomCentroDigital',\n",
    "                                                              'trafico.codISO',\n",
    "                                                              'trafico.localidad',\n",
    "                                                              'trafico.siteID',\n",
    "                                                              'trafico.nombreDepartamento',\n",
    "                                                              'trafico.sistemaEnergia',\n",
    "                                                              'trafico.nombreMunicipio',\n",
    "                                                              'trafico.idBeneficiario',\n",
    "                                                              'trafico.location',\n",
    "                                                              'trafico.apGroup',\n",
    "                                                              'trafico.macRed',\n",
    "                                                              'trafico.totales.fechaControl',\n",
    "                                                              'trafico.totales.fecha',\n",
    "                                                              'trafico.totales.anyo',\n",
    "                                                              'trafico.totales.mes',\n",
    "                                                              'trafico.totales.dia',\n",
    "                                                              'trafico.totales.hora',\n",
    "                                                              'trafico.totales.promedioIN',\n",
    "                                                              'trafico.totales.promedioOUT',\n",
    "                                                              'trafico.totales.promedioConsumo',\n",
    "                                                              'trafico.totales.minuto']).agg(['sum']).reset_index()\n",
    "    mintic_03.columns = mintic_03.columns.droplevel(1)\n",
    "    mintic_03.rename(columns={'trafico.totales.traficoIN' : 'trafico.totales.sitio.traficoIN'\n",
    "                          ,'trafico.totales.traficoOUT' : 'trafico.totales.sitio.traficoOUT'\n",
    "                          ,'trafico.totales.consumoGB' : 'trafico.totales.sitio.consumoGB'\n",
    "                         }, inplace=True)\n",
    "except:\n",
    "    pass"
   ]
  },
  {
   "cell_type": "markdown",
   "metadata": {},
   "source": [
    "Funcion para insertar en indice la cantidad de dispositivos conectados <br>\n",
    "* la lista use_these_keys se usa para referenciar cuales campos del dataframe irÃ¡n al indice final. si los datos no se declaran en este, no se insertarÃ¡n<br>\n"
   ]
  },
  {
   "cell_type": "markdown",
   "metadata": {},
   "source": [
    "In[763]:"
   ]
  },
  {
   "cell_type": "code",
   "execution_count": 27,
   "metadata": {},
   "outputs": [],
   "source": [
    "use_these_keys = ['trafico.nomCentroDigital',\n",
    "                  'trafico.codISO',\n",
    "                  'trafico.localidad',\n",
    "                  'trafico.siteID',\n",
    "                  'trafico.nombreDepartamento',\n",
    "                  'trafico.sistemaEnergia',\n",
    "                  'trafico.nombreMunicipio',\n",
    "                  'trafico.idBeneficiario',\n",
    "                  'trafico.location',\n",
    "                  'trafico.apGroup',\n",
    "                  'trafico.totales.fechaControl',\n",
    "                  'trafico.totales.cantDevWAN',\n",
    "                  'trafico.totales.cantDevConectadosWAN',\n",
    "                  'trafico.totales.cantDevDesconectadosWAN',\n",
    "                  'trafico.totales.cantDevLAN',\n",
    "                  'trafico.totales.cantDevConectadosLAN',\n",
    "                  'trafico.totales.cantDevDesconectadosLAN',\n",
    "                  'trafico.totales.cantDev',\n",
    "                  'trafico.totales.cantDevConectados',\n",
    "                  'trafico.totales.cantDevDesconectados',\n",
    "                  'trafico.totales.fecha',\n",
    "                  'trafico.totales.anyo',\n",
    "                  'trafico.totales.mes',\n",
    "                  'trafico.totales.dia',\n",
    "                  'trafico.totales.hora',\n",
    "                  'trafico.totales.minuto',\n",
    "                  'trafico.totales.sitio.traficoIN',\n",
    "                  'trafico.totales.sitio.traficoOUT',\n",
    "                  'trafico.totales.sitio.consumoGB',\n",
    "                  'trafico.totales.promedioIN',\n",
    "                  'trafico.totales.promedioOUT',\n",
    "                  'trafico.totales.promedioConsumo',\n",
    "                  '@timestamp']\n",
    "\n",
    "def doc_generator_dis(df):\n",
    "    df_iter = df.iterrows()\n",
    "    for index, document in df_iter:\n",
    "        yield {\n",
    "                \"_index\": indice, \n",
    "                \"_id\": f\"{'Conectados-' + document['trafico.siteID'] + '-' +document['trafico.totales.fechaControl']+'-'+str(random.randrange(10000))}\",\n",
    "                \"_source\": filterKeys(document),\n",
    "            }"
   ]
  },
  {
   "cell_type": "markdown",
   "metadata": {},
   "source": [
    "# Insertando cantidad de dispositivos conectados"
   ]
  },
  {
   "cell_type": "markdown",
   "metadata": {},
   "source": [
    "In[764]:"
   ]
  },
  {
   "cell_type": "code",
   "execution_count": 28,
   "metadata": {},
   "outputs": [
    {
     "name": "stdout",
     "output_type": "stream",
     "text": [
      "Fecha:  2021-09-15 19:45:32.941777 - Datos Dispositivos Conectados en indice principal: 18348\n"
     ]
    }
   ],
   "source": [
    "try:\n",
    "    cantDevWAN = mintic_02[(mintic_02['trafico.apGroup']=='OUTDOOR')][['trafico.totales.fechaControl','trafico.macRed','trafico.siteID']].groupby(['trafico.siteID','trafico.totales.fechaControl'])['trafico.macRed'].nunique().reset_index()    \n",
    "    cantDevWAN.rename(columns={'trafico.macRed': 'trafico.totales.cantDevWAN'}, inplace=True)\n",
    "    mintic_03 = pd.merge(mintic_03,  cantDevWAN, on=['trafico.siteID','trafico.totales.fechaControl'],how='left')\n",
    "    cantDevConectadosWAN = mintic_02[(mintic_02['trafico.totales.traficoOUT']>0) & (mintic_02['trafico.apGroup']=='OUTDOOR')][['trafico.totales.fechaControl','trafico.macRed','trafico.siteID']].groupby(['trafico.siteID','trafico.totales.fechaControl'])['trafico.macRed'].nunique().reset_index()\n",
    "    cantDevConectadosWAN.rename(columns={'trafico.macRed': 'trafico.totales.cantDevConectadosWAN'}, inplace=True)\n",
    "    mintic_03 = pd.merge(mintic_03, cantDevConectadosWAN, on=['trafico.siteID','trafico.totales.fechaControl'],how='left')\n",
    "    mintic_03.fillna({'trafico.totales.cantDevWAN':0,\n",
    "                      'trafico.totales.cantDevConectadosWAN':0\n",
    "                      },inplace=True)\n",
    "    mintic_03['trafico.totales.cantDevDesconectadosWAN'] = mintic_03['trafico.totales.cantDevWAN'] - mintic_03['trafico.totales.cantDevConectadosWAN']\n",
    "\n",
    "    #La misma lÃ³gica se aplica para calcular las cantidades para dispositivos LAN, pero filtrando los INDOOR\n",
    "    cantDevLAN = mintic_02[(mintic_02['trafico.apGroup']=='INDOOR')][['trafico.totales.fechaControl','trafico.macRed','trafico.siteID']].groupby(['trafico.siteID','trafico.totales.fechaControl'])['trafico.macRed'].nunique().reset_index()\n",
    "    cantDevLAN.rename(columns={'trafico.macRed': 'trafico.totales.cantDevLAN'}, inplace=True)\n",
    "    mintic_03 = pd.merge(mintic_03,  cantDevLAN, on=['trafico.siteID','trafico.totales.fechaControl'],how='left')\n",
    "    cantDevConectadosLAN = mintic_02[~(mintic_02['trafico.totales.traficoIN']>0) & (mintic_02['trafico.apGroup']=='INDOOR')][['trafico.totales.fechaControl','trafico.macRed','trafico.siteID']].groupby(['trafico.siteID','trafico.totales.fechaControl'])['trafico.macRed'].nunique().reset_index()\n",
    "    cantDevConectadosLAN.rename(columns={'trafico.macRed': 'trafico.totales.cantDevConectadosLAN'}, inplace=True)\n",
    "    mintic_03 = pd.merge(mintic_03, cantDevConectadosLAN, on=['trafico.siteID','trafico.totales.fechaControl'],how='left')\n",
    "    mintic_03.fillna({'trafico.totales.cantDevLAN':0,\n",
    "                      'trafico.totales.cantDevConectadosLAN':0\n",
    "                      },inplace=True)\n",
    "    mintic_03['trafico.totales.cantDevDesconectadosLAN'] = mintic_03['trafico.totales.cantDevLAN'] - mintic_03['trafico.totales.cantDevConectadosLAN']\n",
    "    mintic_03.fillna({'trafico.totales.cantDevConectadosWAN':0,\n",
    "                      'trafico.totales.cantDevDesconectadosWAN':0,\n",
    "                      'trafico.totales.cantDevConectadosLAN':0,\n",
    "                      'trafico.totales.cantDevDesconectadosLAN':0,\n",
    "                      'trafico.totales.sitio.traficoIN':0,\n",
    "                      'trafico.totales.sitio.traficoOUT':0,\n",
    "                      'trafico.totales.sitio.consumoGB':0\n",
    "                      },inplace=True)\n",
    "    #cambia valores a tipo float \n",
    "    mintic_03[['trafico.totales.sitio.consumoGB','trafico.totales.sitio.traficoIN','trafico.totales.sitio.traficoOUT']] = mintic_03[['trafico.totales.sitio.consumoGB','trafico.totales.sitio.traficoIN','trafico.totales.sitio.traficoOUT']].astype(float)\n",
    "    \n",
    "    mintic_03['trafico.totales.cantDev'] = mintic_03['trafico.totales.cantDevLAN'] + mintic_03['trafico.totales.cantDevWAN']\n",
    "    mintic_03[['trafico.totales.cantDev','trafico.totales.cantDevConectadosWAN','trafico.totales.cantDevDesconectadosWAN','trafico.totales.cantDevConectadosLAN','trafico.totales.cantDevDesconectadosLAN']] = mintic_03[['trafico.totales.cantDev','trafico.totales.cantDevConectadosWAN','trafico.totales.cantDevDesconectadosWAN','trafico.totales.cantDevConectadosLAN','trafico.totales.cantDevDesconectadosLAN']].astype(int)\n",
    "    mintic_03['trafico.totales.cantDevConectados'] = mintic_03['trafico.totales.cantDevConectadosWAN'] + mintic_03['trafico.totales.cantDevConectadosLAN']\n",
    "    mintic_03['trafico.totales.cantDevDesconectados'] = mintic_03['trafico.totales.cantDevDesconectadosLAN'] + mintic_03['trafico.totales.cantDevDesconectadosWAN']\n",
    "    mintic_03[['trafico.totales.cantDevConectados'\n",
    "              ,'trafico.totales.cantDevDesconectados'\n",
    "              ,'trafico.totales.cantDevWAN'\n",
    "              ,'trafico.totales.cantDevLAN']] = mintic_03[['trafico.totales.cantDevConectados'\n",
    "                                                          ,'trafico.totales.cantDevDesconectados'\n",
    "                                                          ,'trafico.totales.cantDevWAN'\n",
    "                                                          ,'trafico.totales.cantDevLAN']].astype(int)    \n",
    "    mintic_03['@timestamp'] = now.isoformat()\n",
    "    \n",
    "    if ('mintic_03' in locals() or 'mintic_03' in globals()) and (not mintic_03.empty):\n",
    "        pass\n",
    "    salida = helpers.bulk(es, doc_generator_dis(mintic_03))\n",
    "    \n",
    "    print(\"Fecha: \", now,\"- Datos Dispositivos Conectados en indice principal:\",salida[0])\n",
    "except Exception as e:\n",
    "    print(e)\n",
    "    print(\"Fecha: \", now,\"- No se insertaron datos de dispositivos conectados en indice principal\")"
   ]
  },
  {
   "cell_type": "markdown",
   "metadata": {},
   "source": [
    "In[765]:"
   ]
  },
  {
   "cell_type": "code",
   "execution_count": 29,
   "metadata": {},
   "outputs": [],
   "source": [
    "use_these_keys = ['trafico.nomCentroDigital',\n",
    "                  'trafico.codISO',\n",
    "                  'trafico.localidad',\n",
    "                  'trafico.siteID',\n",
    "                  'trafico.nombreDepartamento',\n",
    "                  'trafico.sistemaEnergia',\n",
    "                  'trafico.nombreMunicipio',\n",
    "                  'trafico.idBeneficiario',\n",
    "                  'trafico.location',\n",
    "                  'trafico.apGroup',\n",
    "                  'trafico.totales.fechaControl',\n",
    "                  #'trafico.totales.cantDevWAN',\n",
    "                  #'trafico.totales.cantDevConectadosWAN',\n",
    "                  #'trafico.totales.cantDevDesconectadosWAN',\n",
    "                  #'trafico.totales.cantDevLAN',\n",
    "                  #'trafico.totales.cantDevConectadosLAN',\n",
    "                  #'trafico.totales.cantDevDesconectadosLAN',\n",
    "                  #'trafico.totales.cantDev',\n",
    "                  #'trafico.totales.cantDevConectados',\n",
    "                  #'trafico.totales.cantDevDesconectados',\n",
    "                  'trafico.totales.fecha',\n",
    "                  'trafico.totales.anyo',\n",
    "                  'trafico.totales.mes',\n",
    "                  'trafico.totales.dia',\n",
    "                  'trafico.totales.hora',\n",
    "                  'trafico.totales.minuto',\n",
    "                  #'trafico.totales.sitio.traficoIN',\n",
    "                  #'trafico.totales.sitio.traficoOUT',\n",
    "                  #'trafico.totales.sitio.consumoGB',\n",
    "                  #'trafico.totales.promedioIN',\n",
    "                  #'trafico.totales.promedioOUT',\n",
    "                  #'trafico.totales.promedioConsumo',\n",
    "                  'trafico.totales.totalConexiones',\n",
    "                  '@timestamp']\n",
    "\n",
    "\n",
    "def doc_generator_dis(df):\n",
    "    df_iter = df.iterrows()\n",
    "    for index, document in df_iter:\n",
    "        yield {\n",
    "                \"_index\": indice, \n",
    "                \"_id\": f\"{'Conectados-' + document['trafico.siteID'] + '-' +document['trafico.totales.fechaControl']+'-'+str(random.randrange(10000))}\",\n",
    "                \"_source\": filterKeys(document),\n",
    "            }"
   ]
  },
  {
   "cell_type": "markdown",
   "metadata": {},
   "source": [
    "### Traer datos de ohmyfi-detalleconexiones"
   ]
  },
  {
   "cell_type": "markdown",
   "metadata": {},
   "source": [
    "El rango de fechas serÃ¡ definido tomando de referencia la ultima fechahora del indice mintic-concat.<br>\n",
    "<br>\n",
    "Campos extaidos:<br>\n",
    "* fechahora de la conexiÃ³n<br>\n",
    "* fecha_control es un campo calculado a partir de fechahora. es lo mismo pero con el valor de minuto redondeado a 0.<br>\n",
    "* ugar_cod clave para asociar con semilla<br>\n",
    "* mac_usuario asociado al dispositivo que realizÃ³ la conexiÃ³n"
   ]
  },
  {
   "cell_type": "markdown",
   "metadata": {},
   "source": [
    "In[766]:"
   ]
  },
  {
   "cell_type": "code",
   "execution_count": 30,
   "metadata": {},
   "outputs": [],
   "source": [
    "def trae_conexiones(fecha_ini,fecha_fin):\n",
    "    total_docs = 5000000\n",
    "#     print(fecha_ini)\n",
    "#     print(fecha_fin)\n",
    "    response = es.search(\n",
    "        index= parametros.ohmyfi_d_c_index,\n",
    "        body={\n",
    "                \"_source\": [\"fechahora\",\"fecha_control\",\"lugar\",\"lugar_cod\",\"mac_usuario\", \"dispositivo\"\n",
    "                            ,\"sistema_operativo\",'tipodoc','documento']\n",
    "                , \"query\": {\n",
    "                  \"range\": {\n",
    "                    \"fechahora\": {\n",
    "                      \"gte\": fecha_ini,\n",
    "                      \"lt\": fecha_fin\n",
    "                    }\n",
    "                  }\n",
    "              }\n",
    "        },\n",
    "        size=total_docs\n",
    "        #, request_timeout=300\n",
    "    )\n",
    "    elastic_docs = response[\"hits\"][\"hits\"]\n",
    "#     fields = {}\n",
    "#     for num, doc in enumerate(elastic_docs):\n",
    "#         source_data = doc[\"_source\"]\n",
    "#         for key, val in source_data.items():\n",
    "#             try:\n",
    "#                 fields[key] = np.append(fields[key], val)\n",
    "#             except KeyError:\n",
    "#                 fields[key] = np.array([val])\n",
    "\n",
    "#     return pd.DataFrame(dict([ (k,pd.Series(v)) for k,v in fields.items() ]))\n",
    "\n",
    "    return pd.DataFrame([x[\"_source\"] for x in elastic_docs])"
   ]
  },
  {
   "cell_type": "markdown",
   "metadata": {},
   "source": [
    "### Se acotan los rangos de fecha por eficiencia"
   ]
  },
  {
   "cell_type": "markdown",
   "metadata": {},
   "source": [
    "* Se calcula rango en base a la fecha de control. Para este caso es de 10 minutos.<br>\n",
    "* Se ejecuta la funciÃ³n de consulta con el rango de fechas.<br>\n",
    "* Si no retorna datos se incrementa el rango y se ejecuta nuevamente. Este proceso se repite hasta conseguir datos o hasta que el rango de ejecuciÃ³n alcance la fecha y hora actual."
   ]
  },
  {
   "cell_type": "markdown",
   "metadata": {},
   "source": [
    "In[767]:"
   ]
  },
  {
   "cell_type": "code",
   "execution_count": 31,
   "metadata": {},
   "outputs": [],
   "source": [
    "fecha_max_mintic = fecha_ejecucion\n",
    "fecha_tope_mintic = (datetime.strptime(fecha_max_mintic, '%Y-%m-%d %H:%M:%S')+timedelta(minutes=120)-timedelta(seconds=1)).strftime(\"%Y-%m-%d %H:%M:%S\")\n",
    "datos_det_conex_completo = trae_conexiones(fecha_max_mintic,fecha_tope_mintic)\n",
    "\n",
    "if datos_det_conex_completo is None or datos_det_conex_completo.empty:\n",
    "    while (datos_det_conex_completo is None or datos_det_conex_completo.empty) and ((datetime.strptime(fecha_max_mintic[0:10], '%Y-%m-%d').strftime(\"%Y-%m-%d %H:%M:%S\")) < str(now.strftime(\"%Y-%m-%d %H:%M:%S\"))):\n",
    "        fecha_max_mintic = (datetime.strptime(fecha_max_mintic, '%Y-%m-%d %H:%M:%S')+timedelta(minutes=120)).strftime(\"%Y-%m-%d %H:%M:%S\")\n",
    "        fecha_tope_mintic = (datetime.strptime(fecha_tope_mintic, '%Y-%m-%d %H:%M:%S')+timedelta(minutes=120)).strftime(\"%Y-%m-%d %H:%M:%S\")\n",
    "        datos_det_conex_completo = trae_conexiones(fecha_max_mintic,fecha_tope_mintic)\n",
    "else:\n",
    "    pass"
   ]
  },
  {
   "cell_type": "markdown",
   "metadata": {},
   "source": [
    "In[768]:"
   ]
  },
  {
   "cell_type": "code",
   "execution_count": 32,
   "metadata": {},
   "outputs": [],
   "source": [
    "datos_det_conex_completo['lugar_cod'] = datos_det_conex_completo['lugar_cod'].str.strip()"
   ]
  },
  {
   "cell_type": "markdown",
   "metadata": {},
   "source": [
    "In[769]:"
   ]
  },
  {
   "cell_type": "code",
   "execution_count": 33,
   "metadata": {},
   "outputs": [],
   "source": [
    "datos_det_conex_completo.drop_duplicates(subset=[\"fecha_control\",\"lugar\",\"lugar_cod\",\"mac_usuario\", \"dispositivo\",\"sistema_operativo\",'tipodoc','documento'],inplace=True)"
   ]
  },
  {
   "cell_type": "markdown",
   "metadata": {},
   "source": [
    "### contanto conexiones por lugar y fecha"
   ]
  },
  {
   "cell_type": "markdown",
   "metadata": {},
   "source": [
    "Para cada centro, y fecha control, se cuenta la cantidad de conexiones. Una vez combinado con semilla, se disponibiliza el filtrado por departamento, municipio y centro de conexiÃ³n. El campo generado es:<br>\n",
    "* trafico.totales.totalConexiones"
   ]
  },
  {
   "cell_type": "markdown",
   "metadata": {},
   "source": [
    "In[770]:"
   ]
  },
  {
   "cell_type": "code",
   "execution_count": 34,
   "metadata": {},
   "outputs": [],
   "source": [
    "datos_det_conex=datos_det_conex_completo[[\"fechahora\",\"fecha_control\",\"lugar_cod\"]].groupby(['lugar_cod','fecha_control']).agg(['count']).reset_index()\n",
    "datos_det_conex.columns = datos_det_conex.columns.droplevel(1)"
   ]
  },
  {
   "cell_type": "markdown",
   "metadata": {},
   "source": [
    "### renombrado de columnas en detalle conexiones"
   ]
  },
  {
   "cell_type": "markdown",
   "metadata": {},
   "source": [
    "In[771]:"
   ]
  },
  {
   "cell_type": "code",
   "execution_count": 35,
   "metadata": {},
   "outputs": [],
   "source": [
    "datos_det_conex = datos_det_conex.rename(columns={'fechahora' : 'trafico.totales.totalConexiones','lugar_cod':'site_id'})"
   ]
  },
  {
   "cell_type": "markdown",
   "metadata": {},
   "source": [
    "### Combinando detalle de conexiones con dispositivos usuario y red"
   ]
  },
  {
   "cell_type": "markdown",
   "metadata": {},
   "source": [
    "In[772]:"
   ]
  },
  {
   "cell_type": "code",
   "execution_count": 36,
   "metadata": {},
   "outputs": [],
   "source": [
    "total_docs = 30000000\n",
    "response = es.search(\n",
    "    index= parametros.cambium_d_c_index,\n",
    "    body={\n",
    "            \"_source\": [\"mac\",\"ap_mac\", 'manufacturer',\"radio.band\",'radio.rx_bytes','radio.tx_bytes'],\n",
    "              \"query\": {\n",
    "                \"bool\": {\n",
    "                  \"filter\": [\n",
    "                  {\n",
    "                    \"exists\": {\n",
    "                      \"field\":\"mac\"\n",
    "                    }\n",
    "                  }\n",
    "                  ]\n",
    "                }\n",
    "              }\n",
    "    },\n",
    "    size=total_docs\n",
    ")\n",
    "elastic_docs = response[\"hits\"][\"hits\"]\n",
    "\n",
    "datos_dev_clients= pd.DataFrame([x[\"_source\"] for x in elastic_docs])\n",
    "\n",
    "datos_dev_clients.drop_duplicates(inplace=True)"
   ]
  },
  {
   "cell_type": "markdown",
   "metadata": {},
   "source": [
    "* Se renombran campos de clientes<br>\n",
    "* se incorpora informaciones de clientes a detalle conexiones"
   ]
  },
  {
   "cell_type": "markdown",
   "metadata": {},
   "source": [
    "In[773]:"
   ]
  },
  {
   "cell_type": "code",
   "execution_count": 37,
   "metadata": {},
   "outputs": [],
   "source": [
    "datos_dev_clients = datos_dev_clients.rename(columns={'ap_mac' : 'trafico.macRed','mac' : 'mac_usuario'})\n",
    "datos_det_conex_completo = pd.merge(datos_det_conex_completo,  datos_dev_clients, on='mac_usuario',how='left')\n",
    "datos_det_conex_completo = pd.merge(datos_det_conex_completo,datos_dev[['trafico.macRed','trafico.apGroup','trafico.IP','trafico.deviceName']],on='trafico.macRed', how='left')"
   ]
  },
  {
   "cell_type": "markdown",
   "metadata": {},
   "source": [
    "## calculando total de conexiones"
   ]
  },
  {
   "cell_type": "markdown",
   "metadata": {},
   "source": [
    "tiene la informaciÃ³n de semilla, total de conexiones, alarmas, performance de AP y recurrencia de usuarios. Para obtener un registro unico para cada site_id, ap_group y fecha_control, se usa el data frame con fechas unicas (fechas_semilla)"
   ]
  },
  {
   "cell_type": "markdown",
   "metadata": {},
   "source": [
    "In[774]:"
   ]
  },
  {
   "cell_type": "code",
   "execution_count": 38,
   "metadata": {},
   "outputs": [
    {
     "name": "stdout",
     "output_type": "stream",
     "text": [
      "Fecha:  2021-09-15 19:45:32.941777 - Datos Trafico en indice principal: 2075\n"
     ]
    }
   ],
   "source": [
    "try:\n",
    "    total_conexiones =  datos_det_conex_completo[[\"fechahora\",\"fecha_control\",\"lugar_cod\"\n",
    "                                                  ,\"trafico.macRed\",'trafico.apGroup'\n",
    "                                                  ,'trafico.IP', 'trafico.deviceName'\n",
    "                                                 ]].groupby(['lugar_cod','fecha_control'\n",
    "                                                        ,\"trafico.macRed\",'trafico.apGroup'\n",
    "                                                        ,'trafico.IP', 'trafico.deviceName']).agg(['count']).reset_index()\n",
    "    total_conexiones.columns = total_conexiones.columns.droplevel(1)\n",
    "    total_conexiones.rename(columns={'fechahora': 'trafico.totales.totalConexiones'\n",
    "                                    , 'lugar_cod' : 'site_id'}, inplace=True)\n",
    "    mintic_01 = pd.merge(datos_semilla,  total_conexiones, on='site_id',how='inner')\n",
    "    mintic_01.fillna({'trafico.totales.totalConexiones': 0}, inplace=True)\n",
    "    mintic_01['trafico.totales.totalConexiones'] = mintic_01['trafico.totales.totalConexiones'].astype(int)\n",
    "    mintic_01.rename(columns={'site_id': 'trafico.siteID'\n",
    "                             ,'fecha_control' : 'trafico.totales.fechaControl'}, inplace=True)\n",
    "    try:\n",
    "        mintic_01[\"trafico.totales.fecha\"] = mintic_01[\"trafico.totales.fechaControl\"].str.split(\" \", n = 1, expand = True)[0]\n",
    "    except:\n",
    "        mintic_01[\"trafico.totales.fecha\"] = \"\"\n",
    "    try:\n",
    "        mintic_01[\"trafico.totales.hora\"] = mintic_01[\"trafico.totales.fechaControl\"].str.split(\" \", n = 1, expand = True)[1].str.split(\":\", n = 2, expand = True)[0]\n",
    "    except:\n",
    "        mintic_01[\"trafico.totales.hora\"] = \"\"\n",
    "    try:\n",
    "        mintic_01[\"trafico.totales.minuto\"] = mintic_01[\"trafico.totales.fechaControl\"].str.split(\" \", n = 1, expand = True)[1].str.split(\":\", n = 2, expand = True)[1]\n",
    "    except:\n",
    "        mintic_01[\"trafico.totales.minuto\"] = \"\"\n",
    "    try:\n",
    "        mintic_01[\"trafico.totales.anyo\"] = mintic_01[\"trafico.totales.fecha\"].str[0:4]\n",
    "    except:\n",
    "        mintic_01[\"trafico.totales.anyo\"] = \"\"\n",
    "    try:\n",
    "        mintic_01[\"trafico.totales.mes\"] = mintic_01[\"trafico.totales.fecha\"].str[5:7]\n",
    "    except:\n",
    "        mintic_01[\"trafico.totales.mes\"] = \"\"\n",
    "    try:\n",
    "        mintic_01[\"trafico.totales.dia\"] = mintic_01[\"trafico.totales.fecha\"].str[8:10]\n",
    "    except:\n",
    "        mintic_01[\"trafico.totales.dia\"] = \"\"\n",
    "    mintic_01['nombreDepartamento'] = mintic_01['trafico.nombreDepartamento']\n",
    "    mintic_01['nombreMunicipio'] = mintic_01['trafico.nombreMunicipio']\n",
    "    mintic_01['idBeneficiario'] = mintic_01['trafico.idBeneficiario']\n",
    "    mintic_01['fecha'] = mintic_01['trafico.totales.fecha']\n",
    "    mintic_01['anyo'] = mintic_01['trafico.totales.anyo']\n",
    "    mintic_01['mes'] = mintic_01['trafico.totales.mes']\n",
    "    mintic_01['dia'] = mintic_01['trafico.totales.dia']\n",
    "    mintic_01['@timestamp'] = now.isoformat()       \n",
    "\n",
    "    #mintic_01 = mintic_01[['trafico.siteID','trafico.totales.fechaControl','trafico.macRed','trafico.apGroup','trafico.totales.totalConexiones','@timestamp']]\n",
    "\n",
    "    # mintic_04=pd.merge(mintic_03,mintic_01,on=['trafico.siteID','trafico.apGroup','trafico.totales.fechaControl'],how='left')\n",
    "    total_conexiones.rename(columns={'site_id': 'trafico.siteID'\n",
    "                             ,'fecha_control' : 'trafico.totales.fechaControl'}, inplace=True)\n",
    "\n",
    "    #mintic_04=pd.merge(mintic_03,mintic_01,on=['trafico.siteID','trafico.apGroup','trafico.totales.fechaControl'],how='left')\n",
    "    salida = helpers.bulk(es, doc_generator_dis(mintic_01))\n",
    "    print(\"Fecha: \", now,\"- Datos Trafico en indice principal:\",salida[0])\n",
    "except Exception as e:\n",
    "    print(e)\n",
    "    print(\"Fecha: \", now,\"- Nada de Trafico para insertar en indice principal:\")"
   ]
  },
  {
   "cell_type": "code",
   "execution_count": 39,
   "metadata": {},
   "outputs": [
    {
     "data": {
      "text/plain": [
       "trafico.nomCentroDigital           object\n",
       "trafico.codISO                     object\n",
       "trafico.localidad                  object\n",
       "trafico.siteID                     object\n",
       "trafico.nombreDepartamento         object\n",
       "trafico.sistemaEnergia             object\n",
       "trafico.nombreMunicipio            object\n",
       "trafico.idBeneficiario              int64\n",
       "trafico.location                   object\n",
       "trafico.totales.fechaControl       object\n",
       "trafico.macRed                     object\n",
       "trafico.apGroup                    object\n",
       "trafico.IP                         object\n",
       "trafico.deviceName                 object\n",
       "trafico.totales.totalConexiones     int64\n",
       "trafico.totales.fecha              object\n",
       "trafico.totales.hora               object\n",
       "trafico.totales.minuto             object\n",
       "trafico.totales.anyo               object\n",
       "trafico.totales.mes                object\n",
       "trafico.totales.dia                object\n",
       "nombreDepartamento                 object\n",
       "nombreMunicipio                    object\n",
       "idBeneficiario                      int64\n",
       "fecha                              object\n",
       "anyo                               object\n",
       "mes                                object\n",
       "dia                                object\n",
       "@timestamp                         object\n",
       "dtype: object"
      ]
     },
     "execution_count": 39,
     "metadata": {},
     "output_type": "execute_result"
    }
   ],
   "source": [
    "mintic_01.dtypes"
   ]
  },
  {
   "cell_type": "markdown",
   "metadata": {},
   "source": [
    "## Se lee informaciÃ³n para usuarios recurrencia"
   ]
  },
  {
   "cell_type": "markdown",
   "metadata": {},
   "source": [
    "Se calcula y agrega al indice principal:<br>\n",
    "* trafico.concurrenciaConexiones<br>\n",
    "<br>\n",
    "Se lee el indice recurrencia de conexiones y se compara con el flujo detalle conexiones para el rango dado. Si cruzan, se suma a la cuenta de recurrentes."
   ]
  },
  {
   "cell_type": "markdown",
   "metadata": {},
   "source": [
    "In[775]:"
   ]
  },
  {
   "cell_type": "code",
   "execution_count": 40,
   "metadata": {},
   "outputs": [],
   "source": [
    "total_docs = 5000000\n",
    "response = es.search(\n",
    "    index= parametros.ohmyfi_r_u_index,\n",
    "    body={\n",
    "            \"_source\": [\"ultima_conexion\", \"lugar_cod\", \"id_usuario\"]\n",
    "    },\n",
    "    size=total_docs\n",
    ")\n",
    "#print(es.info())\n",
    "elastic_docs = response[\"hits\"][\"hits\"]\n",
    "datos_recurrencia = pd.DataFrame([x[\"_source\"] for x in elastic_docs])"
   ]
  },
  {
   "cell_type": "markdown",
   "metadata": {},
   "source": [
    "In[776]:"
   ]
  },
  {
   "cell_type": "code",
   "execution_count": 41,
   "metadata": {},
   "outputs": [],
   "source": [
    "datos_recurrencia['lugar_cod'] = datos_recurrencia['lugar_cod'].str.strip()"
   ]
  },
  {
   "cell_type": "markdown",
   "metadata": {},
   "source": [
    "Se cuenta la cantidad de usuarios con mas de una conexiÃ³n"
   ]
  },
  {
   "cell_type": "markdown",
   "metadata": {},
   "source": [
    "# Concurrencia usuario a indice"
   ]
  },
  {
   "cell_type": "markdown",
   "metadata": {},
   "source": [
    "In[777]:"
   ]
  },
  {
   "cell_type": "code",
   "execution_count": 42,
   "metadata": {},
   "outputs": [],
   "source": [
    "try:\n",
    "    datos_det_conex_completo.rename(columns={'mac_usuario':'id_usuario'}, inplace=True)\n",
    "    aux_recurrencia=datos_det_conex_completo[['lugar_cod','id_usuario']].groupby(['id_usuario']).agg(['count']).reset_index()\n",
    "    aux_recurrencia.columns = aux_recurrencia.columns.droplevel(1)\n",
    "    aux_recurrencia.rename(columns={'lugar_cod': 'contador'}, inplace=True)\n",
    "    aux_recurrencia = aux_recurrencia.drop(aux_recurrencia[(aux_recurrencia['contador'] < 2)].index)\n",
    "    datos_recurrencia = pd.merge(datos_det_conex_completo,  aux_recurrencia, on='id_usuario', how='inner')\n",
    "    datos_recurrencia = datos_recurrencia[['lugar_cod','fecha_control','id_usuario']].groupby(['lugar_cod','fecha_control']).agg(['count']).reset_index()\n",
    "    datos_recurrencia.columns = datos_recurrencia.columns.droplevel(1)\n",
    "    datos_recurrencia.rename(columns={'lugar_cod':'site_id'}, inplace=True)\n",
    "    datos_recurrencia = pd.merge(datos_semilla,  datos_recurrencia, on='site_id', how='inner')\n",
    "    datos_recurrencia.rename(columns={'site_id':'trafico.siteID'\n",
    "                                     ,'id_usuario': 'trafico.concurrenciaConexiones'\n",
    "                                     ,'fecha_control' : 'trafico.totales.fechaControl'}, inplace=True)\n",
    "    datos_recurrencia.fillna({'trafico.concurrenciaConexiones':0},inplace=True)\n",
    "    datos_recurrencia.fillna('', inplace=True)\n",
    "    #print(datos_recurrencia)\n",
    "    try:\n",
    "        datos_recurrencia[\"trafico.totales.fecha\"] = datos_recurrencia[\"trafico.totales.fechaControl\"].str.split(\" \", n = 1, expand = True)[0]\n",
    "    except Exception as e:\n",
    "        datos_recurrencia[\"trafico.totales.fecha\"] = \"\"\n",
    "        \n",
    "    datos_recurrencia[\"trafico.totales.anyo\"] = datos_recurrencia[\"trafico.totales.fecha\"].str[0:4]\n",
    "    try:\n",
    "        datos_recurrencia[\"trafico.totales.mes\"] = datos_recurrencia[\"trafico.totales.fecha\"].str[5:7]\n",
    "    except Exception as e:\n",
    "        datos_recurrencia[\"trafico.totales.mes\"] = \"\"\n",
    "    \n",
    "    try:\n",
    "        datos_recurrencia[\"trafico.totales.dia\"] = datos_recurrencia[\"trafico.totales.fecha\"].str[8:10]\n",
    "    except:\n",
    "        datos_recurrencia[\"trafico.totales.dia\"] = \"\"\n",
    "    \n",
    "    try:\n",
    "        datos_recurrencia[\"trafico.totales.hora\"] = datos_recurrencia[\"trafico.totales.fechaControl\"].str.split(\" \", n = 1, expand = True)[1].str.split(\":\", n = 2, expand = True)[0]\n",
    "    except:\n",
    "        datos_recurrencia[\"trafico.totales.hora\"] = \"\"\n",
    "    \n",
    "    try:\n",
    "        datos_recurrencia[\"trafico.totales.minuto\"] = datos_recurrencia[\"trafico.totales.fechaControl\"].str.split(\" \", n = 1, expand = True)[1].str.split(\":\", n = 2, expand = True)[1]\n",
    "    except:\n",
    "        datos_recurrencia[\"trafico.totales.minuto\"] = ''\n",
    "    \n",
    "    datos_recurrencia['nombreDepartamento'] = datos_recurrencia['trafico.nombreDepartamento']\n",
    "    datos_recurrencia['nombreMunicipio'] = datos_recurrencia['trafico.nombreMunicipio']\n",
    "    datos_recurrencia['idBeneficiario'] = datos_recurrencia['trafico.idBeneficiario']\n",
    "    datos_recurrencia['fecha'] = datos_recurrencia['trafico.totales.fecha']\n",
    "    datos_recurrencia['anyo'] = datos_recurrencia['trafico.totales.anyo']\n",
    "    datos_recurrencia['mes'] = datos_recurrencia['trafico.totales.mes']\n",
    "    datos_recurrencia['dia'] = datos_recurrencia['trafico.totales.dia']\n",
    "    #print(\"eje111\")\n",
    "    datos_recurrencia['@timestamp'] = now.isoformat() \n",
    "    \n",
    "    #datos_recurrencia=datos_recurrencia[['trafico.siteID','trafico.totales.fechaControl','trafico.concurrenciaConexiones']]\n",
    "    \n",
    "    #mintic_03=pd.merge(mintic_04,datos_recurrencia,on=['trafico.siteID','trafico.totales.fechaControl'],how='left')\n",
    "    datos_recurrencia=pd.merge(mintic_01,datos_recurrencia,on=['trafico.siteID','trafico.totales.fechaControl'],how='left')\n",
    "    \n",
    "    #datos_recurrencia=datos_recurrencia[['trafico.siteID','trafico.totales.fechaControl','trafico.concurrenciaConexiones']]\n",
    "    #print(mintic_03)\n",
    "    \n",
    "    datos_recurrencia.fillna({'trafico.concurrenciaConexiones':0,\n",
    "                    },inplace=True)\n",
    "    datos_recurrencia[['trafico.concurrenciaConexiones']] = datos_recurrencia[['trafico.concurrenciaConexiones']].astype(int)\n",
    "    \n",
    "    #salida = helpers.bulk(es, doc_generator(datos_recurrencia))\n",
    "    #print(\"Fecha: \", now,\"- recurrencia de usuario a indice:\",salida[0])\n",
    "except Exception as e:\n",
    "    #print(\"Fecha: \", now,\"- Ninguna recurrencia de usuario para insertar en indice principal\")\n",
    "    pass"
   ]
  },
  {
   "cell_type": "markdown",
   "metadata": {},
   "source": [
    "In[778]:"
   ]
  },
  {
   "cell_type": "code",
   "execution_count": 43,
   "metadata": {},
   "outputs": [],
   "source": [
    "datos_recurrencia.rename(columns={'trafico.nomCentroDigital_x':'trafico.nomCentroDigital',\n",
    "                                  'trafico.idBeneficiario_x':'trafico.idBeneficiario',\n",
    "                                  'trafico.location_x':'trafico.location',\n",
    "                                  'trafico.totales.fecha_x':'trafico.totales.fecha',\n",
    "                                  'trafico.totales.hora_x':'trafico.totales.hora',\n",
    "                                  'trafico.totales.minuto_x':'trafico.totales.minuto',\n",
    "                                  'trafico.totales.anyo_x': 'trafico.totales.anyo',\n",
    "                                  'trafico.totales.mes_x' :'trafico.totales.mes',\n",
    "                                  'trafico.totales.dia_x' : 'trafico.totales.dia',\n",
    "                                  'fecha_x' : 'fecha',\n",
    "                                  'anyo_x' : 'anyo',\n",
    "                                  'mes_x' : 'mes',\n",
    "                                  'dia_x': 'dia'}, inplace=True)"
   ]
  },
  {
   "cell_type": "markdown",
   "metadata": {},
   "source": [
    "In[779]:"
   ]
  },
  {
   "cell_type": "code",
   "execution_count": 44,
   "metadata": {},
   "outputs": [],
   "source": [
    "datos_recurrencia=datos_recurrencia[['trafico.siteID',\n",
    "                                     'trafico.nomCentroDigital',\n",
    "                                     'trafico.idBeneficiario',\n",
    "                                     'trafico.location',\n",
    "                                     'trafico.totales.fechaControl',\n",
    "                                     'trafico.totales.fecha',\n",
    "                                     'trafico.totales.hora',\n",
    "                                     'trafico.totales.minuto',\n",
    "                                     'trafico.totales.anyo',\n",
    "                                     'trafico.totales.mes',\n",
    "                                     'trafico.totales.dia',\n",
    "                                     'fecha',\n",
    "                                     'anyo',\n",
    "                                     'mes',\n",
    "                                     'dia',\n",
    "                                     'trafico.concurrenciaConexiones'\n",
    "                                    ]]"
   ]
  },
  {
   "cell_type": "markdown",
   "metadata": {},
   "source": [
    "# Insertando recurrencia de usuario en indice principal"
   ]
  },
  {
   "cell_type": "markdown",
   "metadata": {},
   "source": [
    "la lista use_these_keys se usa para referenciar cuales campos del dataframe irÃ¡n al indice final. si los datos no se declaran en este, no se insertarÃ¡n"
   ]
  },
  {
   "cell_type": "markdown",
   "metadata": {},
   "source": [
    "In[780]:"
   ]
  },
  {
   "cell_type": "code",
   "execution_count": 45,
   "metadata": {},
   "outputs": [
    {
     "name": "stdout",
     "output_type": "stream",
     "text": [
      "Fecha:  2021-09-15 19:45:32.941777 - recurrencia de usuario a indice: 2075\n"
     ]
    }
   ],
   "source": [
    "try:\n",
    "    use_these_keys = ['trafico.siteID',\n",
    "                                     'trafico.nomCentroDigital',\n",
    "                                     'trafico.idBeneficiario',\n",
    "                                     'trafico.location',\n",
    "                                     'trafico.totales.fechaControl',\n",
    "                                     'trafico.totales.fecha',\n",
    "                                     'trafico.totales.hora',\n",
    "                                     'trafico.totales.minuto',\n",
    "                                     'trafico.totales.anyo',\n",
    "                                     'trafico.totales.mes',\n",
    "                                     'trafico.totales.dia',\n",
    "                                     'fecha',\n",
    "                                     'anyo',\n",
    "                                     'mes',\n",
    "                                     'dia',\n",
    "                                     'trafico.concurrenciaConexiones',\n",
    "                                     '@timestamp']\n",
    "    datos_recurrencia['@timestamp'] = now.isoformat()\n",
    "    def doc_generator(df):\n",
    "        df_iter = df.iterrows()\n",
    "        for index, document in df_iter:\n",
    "            yield {\n",
    "                    \"_index\": indice, \n",
    "                    \"_id\": f\"{ 'Recurrencia-' + str(document['trafico.siteID']) + '-' + str(document['trafico.totales.fechaControl'])+ str(random.randrange(1000))}\",\n",
    "                    \"_source\": filterKeys(document),\n",
    "                }\n",
    "    salida = helpers.bulk(es, doc_generator(datos_recurrencia))\n",
    "    print(\"Fecha: \", now,\"- recurrencia de usuario a indice:\",salida[0])\n",
    "except Exception as e:\n",
    "    print(e)\n",
    "    print(\"Fecha: \", now,\"- Ninguna recurrencia de usuario para insertar en indice principal\")"
   ]
  },
  {
   "cell_type": "markdown",
   "metadata": {},
   "source": [
    "### Asociando datos de Speed test"
   ]
  },
  {
   "cell_type": "markdown",
   "metadata": {},
   "source": [
    "Se tiene una lectura diara de velocidad para cada centro. Por tanto se debe cruzar con el fjulo principal, haciendo uso solo del aÃ±o, mes dÃ­a, sin incluir la hora."
   ]
  },
  {
   "cell_type": "markdown",
   "metadata": {},
   "source": [
    "### FunciÃ³n para generar JSON compatible con ES"
   ]
  },
  {
   "cell_type": "markdown",
   "metadata": {},
   "source": [
    "In[781]:"
   ]
  },
  {
   "cell_type": "code",
   "execution_count": 46,
   "metadata": {},
   "outputs": [],
   "source": [
    "def traeVelocidad(fecha_max_mintic,fecha_tope_mintic):\n",
    "    total_docs = 10000\n",
    "    print(fecha_max_mintic)\n",
    "    print(fecha_tope_mintic)\n",
    "    response = es.search(\n",
    "        index= parametros.speed_index+'*',\n",
    "        body={\n",
    "                \"_source\": [\"beneficiary_code\",\"locationid\", \"result_start_date\"\n",
    "                            , \"result_download_mbps\", \"result_upload_mbps\"],\n",
    "                \"query\": {\n",
    "                    \"range\": {\n",
    "                        \"result_start_date\": {\n",
    "                            \"gte\": fecha_max_mintic.split(' ')[0]+'T00:00:00',\n",
    "                            \"lt\": fecha_tope_mintic.split(' ')[0]+'T23:59:59'\n",
    "                        }\n",
    "                    }\n",
    "                }\n",
    "        },\n",
    "        size=total_docs\n",
    "    )\n",
    "    #print(es.info())\n",
    "    elastic_docs = response[\"hits\"][\"hits\"]\n",
    "#     fields = {}\n",
    "#     for num, doc in enumerate(elastic_docs):\n",
    "#         source_data = doc[\"_source\"]\n",
    "#         for key, val in source_data.items():\n",
    "#             try:\n",
    "#                 fields[key] = np.append(fields[key], val)\n",
    "#             except KeyError:\n",
    "#                 fields[key] = np.array([val])\n",
    "    return pd.DataFrame([x[\"_source\"] for x in elastic_docs])"
   ]
  },
  {
   "cell_type": "markdown",
   "metadata": {},
   "source": [
    "* Se genera fecha en yyyy-mm-dd, y cada campo por separado<br>\n",
    "* La hora y minuto se toma aparte<br>\n",
    "<br>\n",
    "Valores que se convierten a cero si son nulos<br>\n",
    "* trafico.anchoBandaDescarga<br>\n",
    "* trafico.anchoBandaCarga"
   ]
  },
  {
   "cell_type": "markdown",
   "metadata": {},
   "source": [
    "In[782]:"
   ]
  },
  {
   "cell_type": "code",
   "execution_count": 47,
   "metadata": {},
   "outputs": [
    {
     "name": "stdout",
     "output_type": "stream",
     "text": [
      "2021-08-24 10:00:00\n",
      "2021-08-24 11:59:59\n"
     ]
    }
   ],
   "source": [
    "fecha_max_mintic = fecha_ejecucion\n",
    "fecha_tope_mintic = (datetime.strptime(fecha_max_mintic, '%Y-%m-%d %H:%M:%S')+timedelta(minutes=120)-timedelta(seconds=1)).strftime(\"%Y-%m-%d %H:%M:%S\")\n",
    "datos_speed = traeVelocidad(fecha_max_mintic,fecha_tope_mintic)\n",
    "\n",
    "if datos_speed is None or datos_speed.empty:\n",
    "    while (datos_speed is None or datos_speed.empty) and ((datetime.strptime(fecha_max_mintic[0:10], '%Y-%m-%d').strftime(\"%Y-%m-%d %H:%M:%S\")) < str(now.strftime(\"%Y-%m-%d %H:%M:%S\"))):\n",
    "        fecha_max_mintic = (datetime.strptime(fecha_max_mintic, '%Y-%m-%d %H:%M:%S')+timedelta(minutes=120)).strftime(\"%Y-%m-%d %H:%M:%S\")\n",
    "        fecha_tope_mintic = (datetime.strptime(fecha_tope_mintic, '%Y-%m-%d %H:%M:%S')+timedelta(minutes=120)).strftime(\"%Y-%m-%d %H:%M:%S\")\n",
    "        datos_speed = traeVelocidad(fecha_max_mintic,fecha_tope_mintic)\n",
    "else:\n",
    "    pass"
   ]
  },
  {
   "cell_type": "markdown",
   "metadata": {},
   "source": [
    "In[783]:"
   ]
  },
  {
   "cell_type": "code",
   "execution_count": null,
   "metadata": {},
   "outputs": [],
   "source": [
    "datos_speed['beneficiary_code'] = datos_speed['beneficiary_code'].str.strip()"
   ]
  },
  {
   "cell_type": "markdown",
   "metadata": {},
   "source": [
    "# 7. Speed test a indice"
   ]
  },
  {
   "cell_type": "markdown",
   "metadata": {},
   "source": [
    "In[784]:"
   ]
  },
  {
   "cell_type": "code",
   "execution_count": 48,
   "metadata": {},
   "outputs": [],
   "source": [
    "try:\n",
    "    datos_speed = datos_speed.drop(datos_speed[(datos_speed[\"result_download_mbps\"]<0) | (datos_speed[\"result_upload_mbps\"]<0)].index)\n",
    "    datos_speed['trafico.totales.fecha'] = datos_speed['result_start_date'].str.split(\"T\", n = 1, expand = True)[0]\n",
    "    datos_speed['result_download_mbps'] = datos_speed['result_download_mbps'] * 1000\n",
    "    datos_speed['result_upload_mbps'] = datos_speed['result_upload_mbps'] * 1000\n",
    "    datos_speed = datos_speed[['beneficiary_code','trafico.totales.fecha','result_download_mbps','result_upload_mbps']].groupby(['beneficiary_code','trafico.totales.fecha']).agg(['max']).reset_index()\n",
    "    datos_speed.columns = datos_speed.columns.droplevel(1)\n",
    "    datos_speed.rename(columns={'result_download_mbps': 'trafico.anchoBandaDescarga'\n",
    "                             ,'result_upload_mbps' :  'trafico.anchoBandaCarga'\n",
    "                             , 'beneficiary_code' : 'site_id'\n",
    "                             }, inplace=True)\n",
    "    datos_speed[\"trafico.totales.anyo\"] = datos_speed[\"trafico.totales.fecha\"].str[0:4]\n",
    "    datos_speed[\"trafico.totales.mes\"] = datos_speed[\"trafico.totales.fecha\"].str[5:7]\n",
    "    datos_speed[\"trafico.totales.dia\"] = datos_speed[\"trafico.totales.fecha\"].str[8:10]\n",
    "    datos_speed = pd.merge(datos_speed,  datos_semilla, on='site_id', how='inner')\n",
    "    datos_speed = datos_speed.rename(columns={'site_id' : 'trafico.siteID'})\n",
    "    datos_speed.dropna(subset=['trafico.anchoBandaDescarga','trafico.anchoBandaCarga'])\n",
    "    datos_speed.fillna({'trafico.anchoBandaDescarga':0\n",
    "                      , 'trafico.anchoBandaCarga':0\n",
    "                       },inplace=True)\n",
    "    datos_speed.fillna('', inplace=True)\n",
    "    datos_speed['nombreDepartamento'] = datos_speed['trafico.nombreDepartamento']\n",
    "    datos_speed['nombreMunicipio'] = datos_speed['trafico.nombreMunicipio']\n",
    "    datos_speed['idBeneficiario'] = datos_speed['trafico.idBeneficiario']\n",
    "    datos_speed['fecha'] = datos_speed['trafico.totales.fecha']\n",
    "    datos_speed['anyo'] = datos_speed['trafico.totales.anyo']\n",
    "    datos_speed['mes'] = datos_speed['trafico.totales.mes']\n",
    "    datos_speed['dia'] = datos_speed['trafico.totales.dia']\n",
    "    datos_speed['@timestamp'] = now.isoformat()\n",
    "        \n",
    "    #salida = helpers.bulk(es, doc_generator(datos_speed))\n",
    "    #print(\"Fecha: \", now,\"- Datos Velocidad carga y descarga (Trafico) en indice principal:\",salida[0])\n",
    "except Exception as e:\n",
    "    print(e)\n",
    "    #print(\"Fecha: \", now,\"- Ningun dato velocidad para insertar en indice principal\")"
   ]
  },
  {
   "cell_type": "markdown",
   "metadata": {},
   "source": [
    "In[785]:"
   ]
  },
  {
   "cell_type": "code",
   "execution_count": 49,
   "metadata": {},
   "outputs": [
    {
     "name": "stdout",
     "output_type": "stream",
     "text": [
      "Fecha:  2021-09-15 19:45:32.941777 - Datos Velocidad carga y descarga (Trafico) en indice principal: 2\n"
     ]
    }
   ],
   "source": [
    "try:\n",
    "    use_these_keys = ['trafico.nomCentroDigital', \n",
    "                  'trafico.localidad',\n",
    "                  'trafico.siteID',\n",
    "                  'trafico.nombreDepartamento', \n",
    "                  'trafico.codISO', \n",
    "                  'trafico.sistemaEnergia',\n",
    "                  'trafico.nombreMunicipio', \n",
    "                  'trafico.idBeneficiario',\n",
    "                  'trafico.location', \n",
    "                  'trafico.anchoBandaDescarga',\n",
    "                  'trafico.anchoBandaCarga',\n",
    "                  'trafico.totales.fecha',\n",
    "                  'trafico.totales.anyo',\n",
    "                  'trafico.totales.mes',\n",
    "                  'trafico.totales.dia',\n",
    "                  'nombreDepartamento',\n",
    "                    'nombreMunicipio',\n",
    "                    'idBeneficiario',\n",
    "                    'fecha',\n",
    "                    'anyo',\n",
    "                    'mes',\n",
    "                    'dia',\n",
    "                  '@timestamp']\n",
    "    datos_speed['@timestamp'] = now.isoformat()\n",
    "    def doc_generator(df):\n",
    "        df_iter = df.iterrows()\n",
    "        for index, document in df_iter:\n",
    "            yield {\n",
    "                    \"_index\": indice, \n",
    "                    \"_id\": f\"{ 'Velocidad-' + document['trafico.siteID'] + '-' + document['trafico.totales.fecha']+ '-'+str(random.randrange(1000))}\",\n",
    "                    \"_source\": filterKeys(document),\n",
    "                }\n",
    "    salida = helpers.bulk(es, doc_generator(datos_speed))\n",
    "    print(\"Fecha: \", now,\"- Datos Velocidad carga y descarga (Trafico) en indice principal:\",salida[0])\n",
    "except Exception as e:\n",
    "    print(e)\n",
    "    print(\"Fecha: \", now,\"- Ningun dato velocidad para insertar en indice principal\")"
   ]
  },
  {
   "cell_type": "markdown",
   "metadata": {},
   "source": [
    "### Guardando fecha para control de ejecuciÃ³n"
   ]
  },
  {
   "cell_type": "markdown",
   "metadata": {},
   "source": [
    "* Se actualiza la fecha de control. Si el calculo supera la fecha hora actual, se asocia esta ultima."
   ]
  },
  {
   "cell_type": "markdown",
   "metadata": {},
   "source": [
    "In[786]:"
   ]
  },
  {
   "cell_type": "code",
   "execution_count": 50,
   "metadata": {},
   "outputs": [
    {
     "name": "stdout",
     "output_type": "stream",
     "text": [
      "actualizada fecha control de ejecucion: 2021-08-24 12:00:00\n"
     ]
    }
   ],
   "source": [
    "fecha_ejecucion = (datetime.strptime(fecha_max_mintic, '%Y-%m-%d %H:%M:%S')+timedelta(minutes=120)).strftime(\"%Y-%m-%d %H:%M:%S\")[0:15] + '0:00'\n",
    "\n",
    "if fecha_ejecucion > str(now.strftime('%Y-%m-%d %H:%M:%S'))[0:15] + '0:00':\n",
    "    fecha_ejecucion = str(now.strftime('%Y-%m-%d %H:%M:%S'))[0:15] + '0:00'\n",
    "response = es.index(\n",
    "        index = indice_control,\n",
    "        id = 'jerarquia_tablero_trafico',\n",
    "        body = { 'jerarquia_tablero_trafico': 'jerarquia_tablero_trafico','trafico.fechaControl' : fecha_ejecucion}\n",
    ")\n",
    "print(\"actualizada fecha control de ejecucion:\",fecha_ejecucion)"
   ]
  },
  {
   "cell_type": "markdown",
   "metadata": {},
   "source": [
    "In[ ]:"
   ]
  }
 ],
 "metadata": {
  "kernelspec": {
   "display_name": "Python 3",
   "language": "python",
   "name": "python3"
  },
  "language_info": {
   "codemirror_mode": {
    "name": "ipython",
    "version": 3
   },
   "file_extension": ".py",
   "mimetype": "text/x-python",
   "name": "python",
   "nbconvert_exporter": "python",
   "pygments_lexer": "ipython3",
   "version": "3.8.5"
  }
 },
 "nbformat": 4,
 "nbformat_minor": 2
}
