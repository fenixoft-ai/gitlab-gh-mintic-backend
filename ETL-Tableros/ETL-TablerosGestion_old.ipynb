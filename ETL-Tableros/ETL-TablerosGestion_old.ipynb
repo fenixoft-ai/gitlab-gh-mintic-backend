{
 "cells": [
  {
   "cell_type": "code",
   "execution_count": 3015,
   "metadata": {},
   "outputs": [],
   "source": [
    "from elasticsearch import Elasticsearch\n",
    "from elasticsearch import helpers\n",
    "from ssl import create_default_context\n",
    "import requests\n",
    "from getpass import getpass\n",
    "import pandas as pd\n",
    "import numpy as np\n",
    "import json\n",
    "from datetime import datetime\n",
    "from datetime import timedelta\n",
    "import parametros\n",
    "import random\n",
    "import re"
   ]
  },
  {
   "cell_type": "markdown",
   "metadata": {},
   "source": [
    "## Conectando a ElasticSearch"
   ]
  },
  {
   "cell_type": "markdown",
   "metadata": {},
   "source": [
    "La ultima línea se utiliza para garantizar la ejecución de la consulta\n",
    "* timeout es el tiempo para cada ejecución\n",
    "* max_retries el número de intentos si la conexión falla\n",
    "* retry_on_timeout para activar los reitentos"
   ]
  },
  {
   "cell_type": "code",
   "execution_count": 3016,
   "metadata": {},
   "outputs": [],
   "source": [
    "context = create_default_context(cafile=parametros.cafile)\n",
    "es = Elasticsearch(\n",
    "    parametros.servidor,\n",
    "    http_auth=(parametros.usuario_EC, parametros.password_EC),\n",
    "    scheme=\"https\",\n",
    "    port=parametros.puerto,\n",
    "    ssl_context=context,\n",
    "    timeout=60, max_retries=3, retry_on_timeout=True\n",
    ") "
   ]
  },
  {
   "cell_type": "markdown",
   "metadata": {},
   "source": [
    "### Calculando fechas para la ejecución"
   ]
  },
  {
   "cell_type": "markdown",
   "metadata": {},
   "source": [
    "* Se calculan las fechas para asociar al nombre del indice\n",
    "* fecha_hoy, es usada para concatenar al nombre del indice principal previa inserción\n",
    "* ahora, es la fecha en un formato requerido para ES"
   ]
  },
  {
   "cell_type": "code",
   "execution_count": 3017,
   "metadata": {},
   "outputs": [],
   "source": [
    "now = datetime.now()\n",
    "format_ES = \"%Y.%m.%d\"\n",
    "fecha_hoy = str(now.strftime(format_ES))\n",
    "ahora_format = \"%Y-%m-%d\"'T'\"%H:%M:%S\"\n",
    "ahora = str(now.strftime(ahora_format))"
   ]
  },
  {
   "cell_type": "markdown",
   "metadata": {},
   "source": [
    "### Definiendo indice principal con fecha de hoy"
   ]
  },
  {
   "cell_type": "code",
   "execution_count": 3018,
   "metadata": {
    "scrolled": false
   },
   "outputs": [],
   "source": [
    "indice = parametros.gestion_tableros_gestion_index\n",
    "indice_control = parametros.tableros_mintic_control"
   ]
  },
  {
   "cell_type": "markdown",
   "metadata": {},
   "source": [
    "### Función para generar JSON compatible con ES"
   ]
  },
  {
   "cell_type": "code",
   "execution_count": 3019,
   "metadata": {},
   "outputs": [],
   "source": [
    "def filterKeys(document):\n",
    "    return {key: document[key] for key in use_these_keys }"
   ]
  },
  {
   "cell_type": "markdown",
   "metadata": {},
   "source": [
    "### Trae la ultima fecha para control de ejecución"
   ]
  },
  {
   "cell_type": "markdown",
   "metadata": {},
   "source": [
    "Cuando en el rango de tiempo de la ejecución, no se insertan nuevos valores, las fecha maxima en indice mintic no aumenta, por tanto se usa esta fecha de control para garantizar que incremente el bucle de ejecución"
   ]
  },
  {
   "cell_type": "code",
   "execution_count": 3020,
   "metadata": {},
   "outputs": [
    {
     "name": "stdout",
     "output_type": "stream",
     "text": [
      "ultima fecha para control de ejecucion: 2021-04-29T18:50:00\n"
     ]
    }
   ],
   "source": [
    "total_docs = 1\n",
    "try:\n",
    "    response = es.search(\n",
    "        index= \"prod-tableros_mintic_control\",\n",
    "        body={\n",
    "           \"_source\": [\"tableroG.fechaControl\"],\n",
    "              \"query\": {\n",
    "                \"bool\": {\n",
    "                  \"filter\": [\n",
    "                  {\n",
    "                    \"exists\": {\n",
    "                      \"field\":\"jerarquia-tableroG\"\n",
    "                    }\n",
    "                  }\n",
    "              ]\n",
    "            }\n",
    "          }\n",
    "        },\n",
    "        size=total_docs\n",
    "    )\n",
    "    #print(es.info())\n",
    "    elastic_docs = response[\"hits\"][\"hits\"]\n",
    "    fields = {}\n",
    "    for num, doc in enumerate(elastic_docs):\n",
    "        fecha_ejecucion = doc[\"_source\"]['tableroG.fechaControl']\n",
    "except Exception as e:\n",
    "    print(e)\n",
    "    response[\"hits\"][\"hits\"] = []\n",
    "if response[\"hits\"][\"hits\"] == []:\n",
    "    fecha_ejecucion = '2021-05-01T00:00:00'\n",
    "print(\"ultima fecha para control de ejecucion:\",fecha_ejecucion)\n",
    "\n"
   ]
  },
  {
   "cell_type": "markdown",
   "metadata": {},
   "source": [
    "### leyendo indice semilla-inventario"
   ]
  },
  {
   "cell_type": "markdown",
   "metadata": {},
   "source": [
    "En el script que ingesta semilla, trae la información de los centros de conexión administrados. Para el indice principal se requiere:\n",
    "\n",
    "* site_id como llave del centro de conexión.\n",
    "* Datos geográficos (Departamento, municipio, centro poblado, sede.)"
   ]
  },
  {
   "cell_type": "code",
   "execution_count": 3021,
   "metadata": {},
   "outputs": [],
   "source": [
    "total_docs = 10000\n",
    "try:\n",
    "    response = es.search(\n",
    "        index= parametros.semilla_inventario_index,\n",
    "        body={\n",
    "               \"_source\": ['site_id','nombre_municipio', 'nombre_departamento', 'nombre_centro_pob','energiadesc'\n",
    "                           ,'nombreSede','latitud','longitud','id_Beneficiario','COD_ISO','codDanesede',\n",
    "                           'cod_servicio','codDaneMuni','nombre_centro_pob','codCentroPoblado','codDaneInstitucionEdu',\n",
    "                           'tipoSitio','detalleSitio','energia','region','matricula','DDA','grupoDesc','estadoInstalacion',\n",
    "                           'nombreInstitucionEd']\n",
    "        },\n",
    "        size=total_docs\n",
    "    )\n",
    "    #print(es.info())\n",
    "    elastic_docs = response[\"hits\"][\"hits\"]\n",
    "    fields = {}\n",
    "    for num, doc in enumerate(elastic_docs):\n",
    "        source_data = doc[\"_source\"]\n",
    "        for key, val in source_data.items():\n",
    "            try:\n",
    "                fields[key] = np.append(fields[key], val)\n",
    "            except KeyError:\n",
    "                fields[key] = np.array([val])\n",
    "\n",
    "    datos_semilla = pd.DataFrame(dict([ (k,pd.Series(v)) for k,v in fields.items() ])) #pd.DataFrame(fields)\n",
    "except Exception as e:\n",
    "    print(e)\n",
    "    print(\"fecha:\",now,\"- Error en lectura de datos semilla\")\n",
    "    #exit()"
   ]
  },
  {
   "cell_type": "code",
   "execution_count": 3022,
   "metadata": {},
   "outputs": [],
   "source": [
    "def get_location(x,y='lat'):\n",
    "    patron = re.compile('^(\\-?\\d+(\\.\\d+)?),\\s*(\\-?\\d+(\\.\\d+)?)$') #patrón que debe cumplir\n",
    "    if (not patron.match(x) is None) and (str(x)!=''):\n",
    "        return x.replace(',','.')\n",
    "    else:\n",
    "        #Código a ejecutar si las coordenadas no son válidas\n",
    "        return '4.596389' if y=='lat' else '-74.074639'\n",
    "    \n",
    "datos_semilla['latitud'] = datos_semilla['latitud'].apply(lambda x:get_location(x,'lat'))\n",
    "datos_semilla['longitud'] = datos_semilla['longitud'].apply(lambda x:get_location(x,'lon'))\n",
    "datos_semilla = datos_semilla.drop(datos_semilla[(datos_semilla[\"longitud\"]=='a') | (datos_semilla[\"latitud\"]=='a')].index)\n",
    "datos_semilla['gestion.location'] = datos_semilla['latitud'] + ',' + datos_semilla['longitud']\n",
    "datos_semilla['gestion.location']=datos_semilla['gestion.location'].str.replace('a,a','')\n",
    "datos_semilla.drop(columns=['latitud','longitud'],inplace=True)\n"
   ]
  },
  {
   "cell_type": "code",
   "execution_count": 3023,
   "metadata": {},
   "outputs": [],
   "source": [
    "datos_semilla = datos_semilla.rename(columns={'nombreSede':'gestion.nombreSede'\n",
    "                                               , 'DDA':'gestion.DDA'\n",
    "                                               , 'estadoInstalacion':'gestion.estadoInstalacion' \n",
    "                                               , 'COD_ISO':'gestion.COD_ISO'\n",
    "                                               , 'energia':'gestion.energia'\n",
    "                                               , 'nombre_departamento':'gestion.departamento'\n",
    "                                               , 'codCentroPoblado':'gestion.codCentroPoblado'\n",
    "                                               , 'nombreInstitucionEd':'gestion.nombreInstitucionEd'\n",
    "                                               , 'codDanesede':'gestion.codDanesede'\n",
    "                                               , 'tipoSitio':'gestion.tipoSitio'\n",
    "                                               , 'codDaneMuni':'gestion.codDaneMuni'\n",
    "                                               , 'nombre_centro_pob':'gestion.nombre_centro_pob'\n",
    "                                               , 'site_id':'gestion.site_id'\n",
    "                                               , 'matricula':'gestion.matricula'\n",
    "                                               , 'energiadesc':'gestion.energiadesc'\n",
    "                                               , 'grupoDesc':'gestion.grupoDesc'\n",
    "                                               , 'cod_servicio':'gestion.cod_servicio'\n",
    "                                               , 'region':'gestion.region'\n",
    "                                               , 'detalleSitio':'gestion.detalleSitio'\n",
    "                                               , 'nombre_municipio':'gestion.municipio'\n",
    "                                               , 'id_Beneficiario':'gestion.id_Beneficiario'\n",
    "                                               , 'codDaneInstitucionEdu':'gestion.codDaneInstitucionEdu'\n",
    "                                           })        \n"
   ]
  },
  {
   "cell_type": "code",
   "execution_count": 3024,
   "metadata": {
    "scrolled": false
   },
   "outputs": [],
   "source": [
    "#print(datos_semilla['gestion.id_Beneficiario'])\n",
    "#gapminder_2002 = datos_semilla.loc[datos_semilla['gestion.id_Beneficiario'] == 14510]\n",
    "#print(gapminder_2002)\n",
    "#datos_semilla"
   ]
  },
  {
   "cell_type": "code",
   "execution_count": 3025,
   "metadata": {
    "scrolled": false
   },
   "outputs": [],
   "source": [
    " #datos_semilla.dtypes"
   ]
  },
  {
   "cell_type": "markdown",
   "metadata": {},
   "source": [
    "### Leyendo indice servicemanager-interacciones"
   ]
  },
  {
   "cell_type": "markdown",
   "metadata": {},
   "source": [
    "Se lee la información de los De Service Manager. En la lectura se traen todas las interacciones reportadas por servicemanager, con la información de la misma.\n",
    "\n",
    "* id_beneficiario, es la llave para cruzar con cada centro de conexión.\n",
    "* variable1 y variable2, son la tipo y subtipo de la interaccion.\n",
    "* current_phase, estado del ticket\n",
    "* clr_txt_assignment, es el sujeto asignado al ticket\n",
    "* owner_name, usuario del ticket\n",
    "* open_time y close_time, son las fecha de apertura y cierre del ticket\n",
    "* resolution, respuesta al ticket\n",
    "* incident_id, numero del ticket\n",
    "* source, fuente del ticket(email o telefono)\n",
    "* severity, gravedad del ticket\n",
    "* clr_txt_codcategorymtc categoria segun mintic"
   ]
  },
  {
   "cell_type": "code",
   "execution_count": 3026,
   "metadata": {},
   "outputs": [],
   "source": [
    "def traeSMInteracciones(fecha_max,fecha_tope):\n",
    "    #print(fecha_max)\n",
    "    #print(fecha_tope)\n",
    "    try:\n",
    "        total_docs = 10000\n",
    "        response = es.search(\n",
    "            index= \"servicemanager-interacciones-tmp\",\n",
    "            body={\n",
    "                \"_source\": ['callback_type',\n",
    "    'problem_status',\n",
    "    'status',\n",
    "    'initial_impact',\n",
    "    'close_time',\n",
    "    'sysmodtime',\n",
    "    'incident_id',\n",
    "    'from_source',\n",
    "    'opened_by',\n",
    "    'source',\n",
    "    'key_char',\n",
    "    'total',\n",
    "    'close_date',\n",
    "    'resolution_code',\n",
    "    'name',\n",
    "    'variable2',\n",
    "    'variable3',\n",
    "                            'motivo_mintic',\n",
    "                            'just_mintic',\n",
    "                            'paradas',\n",
    "                            'total_caso',\n",
    "                            'total_claro'\n",
    "                  , 'clr_bmcdatevent'\n",
    "                  , 'severity'\n",
    "                  , 'subcategory'\n",
    "                  , 'clr_bmc_host'\n",
    "                  , 'clr_txt_idbneficmtc'\n",
    "                  , 'assignment'\n",
    "                  , 'category'\n",
    "                  , 'contact_name'\n",
    "                  , 'clr_bmc_location'\n",
    "                  , 'number'\n",
    "                  , '@version'\n",
    "                  , 'clr_txt_company_code'\n",
    "                  , 'open_time'\n",
    "                  , 'product_type'\n",
    "                  , 'resolution'\n",
    "                  , 'resolved_time'\n",
    "                  , '@timestamp'\n",
    "                            ]\n",
    "                ,\"query\": {\n",
    "                  \"range\": {\n",
    "                    \"open_time\": {\n",
    "                        \"gte\": fecha_max,\n",
    "                        \"lt\": fecha_tope\n",
    "                    }\n",
    "                  }\n",
    "              }\n",
    "            },\n",
    "            size=total_docs\n",
    "        )\n",
    "        elastic_docs = response[\"hits\"][\"hits\"]\n",
    "        fields = {}\n",
    "        for num, doc in enumerate(elastic_docs):\n",
    "            source_data = doc[\"_source\"]\n",
    "            for key, val in source_data.items():\n",
    "                try:\n",
    "                    fields[key] = np.append(fields[key], val)\n",
    "                except KeyError:\n",
    "                    fields[key] = np.array([val])\n",
    "\n",
    "        datos_SM_interactions = pd.DataFrame(dict([ (k,pd.Series(v)) for k,v in fields.items() ]))\n",
    "        \n",
    "        return datos_SM_interactions\n",
    "    \n",
    "    except Exception as e:\n",
    "        print(\"Error\")\n",
    "        print(e)\n",
    "        return pd.DataFrame()"
   ]
  },
  {
   "cell_type": "code",
   "execution_count": 3027,
   "metadata": {
    "scrolled": true
   },
   "outputs": [],
   "source": [
    "def traeSMIncidentes(fecha_max,fecha_tope):\n",
    "    try:\n",
    "        \n",
    "        response = es.search(\n",
    "            index= \"servicemanager-incidentes-tmp\",\n",
    "            body={\n",
    "                \"_source\": ['callback_type',\n",
    "    'problem_status',\n",
    "    'status',\n",
    "    'initial_impact',\n",
    "    'close_time',\n",
    "    'sysmodtime',\n",
    "    'incident_id',\n",
    "    'from_source',\n",
    "    'opened_by',\n",
    "    'source',\n",
    "    'key_char',\n",
    "    'total',\n",
    "    'close_date',\n",
    "    'resolution_code',\n",
    "    'name',\n",
    "    'variable2',\n",
    "    'variable3',\n",
    "                            'motivo_mintic',\n",
    "                            'just_mintic',\n",
    "                            'paradas',\n",
    "                            'total_caso',\n",
    "                            'total_claro'\n",
    "                  , 'clr_bmcdatevent'\n",
    "                  , 'severity'\n",
    "                  , 'subcategory'\n",
    "                  , 'clr_bmc_host'\n",
    "                  , 'clr_txt_idbneficmtc'\n",
    "                  , 'assignment'\n",
    "                  , 'category'\n",
    "                  , 'contact_name'\n",
    "                  , 'clr_bmc_location'\n",
    "                  , 'number'\n",
    "                  , '@version'\n",
    "                  , 'clr_txt_company_code'\n",
    "                  , 'open_time'\n",
    "                  , 'product_type'\n",
    "                  , 'resolution'\n",
    "                  , 'resolved_time'\n",
    "                  , '@timestamp']\n",
    "                ,\"query\": {\n",
    "                    \"range\": {\n",
    "                      \"open_time\": {\n",
    "                        \"gte\": fecha_max,\n",
    "                        \"lt\": fecha_tope\n",
    "                      }\n",
    "                    }\n",
    "                }\n",
    "            },\n",
    "            size=total_docs\n",
    "        )\n",
    "        elastic_docs = response[\"hits\"][\"hits\"]\n",
    "        fields = {}\n",
    "        for num, doc in enumerate(elastic_docs):\n",
    "            source_data = doc[\"_source\"]\n",
    "            for key, val in source_data.items():\n",
    "                try:\n",
    "                    fields[key] = np.append(fields[key], val)\n",
    "                except KeyError:\n",
    "                    fields[key] = np.array([val])\n",
    "                    \n",
    "        datos_SM_incidents = pd.DataFrame(dict([ (k,pd.Series(v)) for k,v in fields.items() ]))\n",
    "        return datos_SM_incidents\n",
    "        \n",
    "    except Exception as e:\n",
    "        print(\"Error\")\n",
    "        print(e)\n",
    "        return pd.DataFrame()"
   ]
  },
  {
   "cell_type": "markdown",
   "metadata": {},
   "source": [
    "Realizando bucle hasta conseguir datos de servicemanager-interacciones o hasta la fecha actual para realizar la carga de datos "
   ]
  },
  {
   "cell_type": "code",
   "execution_count": 3028,
   "metadata": {},
   "outputs": [],
   "source": [
    "fecha_max_mintic = fecha_ejecucion\n",
    "\n",
    "fecha_tope_mintic = (datetime.strptime(fecha_max_mintic, \"%Y-%m-%d\"'T'\"%H:%M:%S\")+timedelta(minutes=10)-timedelta(seconds=1)).strftime(\"%Y-%m-%d\"'T'\"%H:%M:%S\")\n",
    "datos_SM_inci = traeSMIncidentes(fecha_max_mintic,fecha_tope_mintic)\n",
    "\n",
    "\n",
    "if datos_SM_inci is None or datos_SM_inci.empty:\n",
    "    while (datos_SM_inci is None or datos_SM_inci.empty) and ((datetime.strptime(fecha_max_mintic[0:10], '%Y-%m-%d').strftime(\"%Y-%m-%d\"'T'\"%H:%M:%S\")) < str(now.strftime(\"%Y-%m-%d\"'T'\"%H:%M:%S\"))):\n",
    "        fecha_max_mintic = (datetime.strptime(fecha_max_mintic, \"%Y-%m-%d\"'T'\"%H:%M:%S\")+timedelta(minutes=10)).strftime(\"%Y-%m-%d\"'T'\"%H:%M:%S\")\n",
    "        fecha_tope_mintic = (datetime.strptime(fecha_tope_mintic, \"%Y-%m-%d\"'T'\"%H:%M:%S\")+timedelta(minutes=10)).strftime(\"%Y-%m-%d\"'T'\"%H:%M:%S\")\n",
    "        datos_SM_inci = traeSMIncidentes(fecha_max_mintic,fecha_tope_mintic)\n",
    "else:\n",
    "    pass"
   ]
  },
  {
   "cell_type": "code",
   "execution_count": 3029,
   "metadata": {
    "scrolled": true
   },
   "outputs": [],
   "source": [
    "fecha_max_mintic = fecha_ejecucion\n",
    "\n",
    "fecha_tope_mintic = (datetime.strptime(fecha_max_mintic, \"%Y-%m-%d\"'T'\"%H:%M:%S\")+timedelta(minutes=10)-timedelta(seconds=1)).strftime(\"%Y-%m-%d\"'T'\"%H:%M:%S\")\n",
    "datos_SM_inte = traeSMInteracciones(fecha_max_mintic,fecha_tope_mintic)\n",
    "\n",
    "\n",
    "if datos_SM_inte is None or datos_SM_inte.empty:\n",
    "    while (datos_SM_inte is None or datos_SM_inte.empty) and ((datetime.strptime(fecha_max_mintic[0:10], '%Y-%m-%d').strftime(\"%Y-%m-%d\"'T'\"%H:%M:%S\")) < str(now.strftime(\"%Y-%m-%d\"'T'\"%H:%M:%S\"))):\n",
    "        fecha_max_mintic = (datetime.strptime(fecha_max_mintic, \"%Y-%m-%d\"'T'\"%H:%M:%S\")+timedelta(minutes=10)).strftime(\"%Y-%m-%d\"'T'\"%H:%M:%S\")\n",
    "        fecha_tope_mintic = (datetime.strptime(fecha_tope_mintic, \"%Y-%m-%d\"'T'\"%H:%M:%S\")+timedelta(minutes=10)).strftime(\"%Y-%m-%d\"'T'\"%H:%M:%S\")\n",
    "        datos_SM_inte = traeSMInteracciones(fecha_max_mintic,fecha_tope_mintic)\n",
    "else:\n",
    "    pass\n"
   ]
  },
  {
   "cell_type": "code",
   "execution_count": 3047,
   "metadata": {},
   "outputs": [
    {
     "name": "stdout",
     "output_type": "stream",
     "text": [
      "VERIFICAR NO CRUCES BENFICIARIO\n",
      "1\n"
     ]
    }
   ],
   "source": [
    "try:\n",
    "    if (not datos_SM_inte.empty and not datos_SM_inci.empty):\n",
    "        datos_SM = datos_SM_inte.append(datos_SM_inci)\n",
    "    elif (not datos_SM_inte.empty and datos_SM_inci.empty):\n",
    "        datos_SM = datos_SM_inte\n",
    "    elif (datos_SM_inte.empty and not datos_SM_inci.empty):\n",
    "        datos_SM = datos_SM_inci\n",
    "    else:\n",
    "        datos_SM = pd.DataFrame()\n",
    "    \n",
    "    if not datos_SM.empty:\n",
    "        datos_SM['resolved_time'] = datos_SM.apply(lambda row: row.resolved_time if( row.resolved_time != 0 and row.resolved_time != '0'  and row.resolved_time != '') else None, axis=1)\n",
    "        datos_SM['gestion.id'] = datos_SM.apply(lambda row: row.number if( row.number != None and row.number != 'null' and row.number != '') else row.incident_id, axis=1)\n",
    "        #datos_SM['incident_id'] = datos_SM.apply(lambda row: row.incident_id if( row.incident_id is not None and row.incident_id != \"\") else row.key_char if( row.key_char is not None and row.key_char != \"\") else row.number, axis=1)\n",
    "        datos_SM['gestion.tiempoRespuesta'] = datos_SM.apply(lambda row: (datetime.strptime(row.resolved_time, \"%Y-%m-%d\"'T'\"%H:%M:%S\") - datetime.strptime(row.open_time, \"%Y-%m-%d\"'T'\"%H:%M:%S\")).total_seconds() % 3600 if( row.resolved_time is not None) else 0, axis=1)    \n",
    "        datos_SM['gestion.gravedad'] = datos_SM['severity'].replace(['1','2','3'],['Alto','Medio','Bajo'])\n",
    "        datos_SM['close_time'] = datos_SM.apply(lambda row: row.close_time if( row.close_time != 0 and row.close_time != '0' and row.close_time != '') else None, axis=1)\n",
    "        datos_SM['initial_impact'] = datos_SM.apply(lambda row: row.initial_impact if( row.initial_impact != None and row.initial_impact != 'null' and row.initial_impact != '') else 0, axis=1)\n",
    "        #datos_SM['gestion.duracion'] = datos_SM.apply(lambda row: (datetime.strptime(row.resolved_time, \"%Y-%m-%d\"'T'\"%H:%M:%S\") - datetime.strptime(row.open_time, \"%Y-%m-%d\"'T'\"%H:%M:%S\")).total_seconds() % 3600 if( row.resolved_time is not None) else 0, axis=1)\n",
    "        \n",
    "        datos_SM = datos_SM.rename(columns={'category':'gestion.categoria'\n",
    "                                            ,'problem_status':'gestion.problem_status'\n",
    "                                            ,'status':'gestion.status'\n",
    "                                                #, 'severity':'gestion.gravedad'\n",
    "                                                ,'product_type' : 'gestion.detallesTicket'\n",
    "                                                ,'contact_name':'gestion.usuarioTicket'\n",
    "                                                ,'assignment':'gestion.responsable'\n",
    "                                                ,'clr_bmc_location':'gestion.site_id'\n",
    "                                                ,'clr_bmc_host':'gestion.IP'\n",
    "                                                                      , 'opened_by':'gestion.opened_by',\n",
    "                                            'motivo_mintic':'gestion.motivo_mintic',\n",
    "                            'just_mintic':'gestion.just_mintic'\n",
    "                                            , 'total_caso':'gestion.total_caso'\n",
    "                                            , 'total_claro':'gestion.duracion'\n",
    "                                            , 'paradas':'gestion.paradas'\n",
    "                                            , 'number':'gestion.number'\n",
    "                                            ,'sysmodtime':'gestion.sysmodtime'\n",
    "                                                                      , 'subcategory':'gestion.subcategoria'\n",
    "                                                                      , '@timestamp':'gestion.@timestamp'\n",
    "                                                                      , 'open_time':'gestion.fechaApertura'\n",
    "                                                                      , 'clr_txt_idbneficmtc':'gestion.id_Beneficiario'\n",
    "                                                                      , 'category':'gestion.categoria'\n",
    "                                                                      , 'close_time':'gestion.fechaCierre'\n",
    "                                                                      , 'source':'gestion.canal'\n",
    "                                                                      , 'incident_id':'gestion.numeroTicket'\n",
    "                                                                      , 'total':'gestion.total'\n",
    "                                                                      , 'close_date':'gestion.close_date'\n",
    "                                                                      , 'resolution_code':'gestion.coderesolucion'\n",
    "                                                                      , 'resolved_time':'gestion.timeresolution'\n",
    "                                                                      , 'callback_type':'gestion.callback_type'\n",
    "                                                                      , 'initial_impact':'gestion.initial_impact'\n",
    "                                                                      , 'name':'gestion.name'\n",
    "                                                                      , 'variable2':'gestion.variable2'\n",
    "                                                                      , '@version':'gestion.version'\n",
    "                                                                      #, 'contact_name':'gestion.contact_name'                                                                  \n",
    "                                                                      , 'variable3':'gestion.variable3'})         \n",
    "        datos_SM = datos_SM.dropna(subset=['gestion.id_Beneficiario'])\n",
    "        \n",
    "        #PARA VERIFICAR NO CRUCES BENFICIARIO\n",
    "        print(\"VERIFICAR NO CRUCES BENFICIARIO\")\n",
    "        sub_null = pd.DataFrame()\n",
    "        sub_null = datos_SM[datos_SM[\"gestion.id_Beneficiario\"] == \"\"]\n",
    "        if (not sub_null.empty):\n",
    "            print(sub_null.shape[0])\n",
    "            #print(sub_null.count())\n",
    "        \n",
    "        sub_null = datos_SM[datos_SM[\"gestion.id_Beneficiario\"] == None]\n",
    "        if (not sub_null.empty):\n",
    "            #print(sub_null.count())\n",
    "            print(sub_null.shape[0])\n",
    "        \n",
    "        sub_null = datos_SM[datos_SM[\"gestion.id_Beneficiario\"] == \"null\"]\n",
    "        if (not sub_null.empty):\n",
    "            #print(sub_null.count())\n",
    "            print(sub_null.shape[0])\n",
    "        \n",
    "        ###################################\n",
    "        \n",
    "        datos_SM = datos_SM.drop(datos_SM[datos_SM['gestion.id_Beneficiario']==\"\"].index)\n",
    "        datos_SM = datos_SM.drop(datos_SM[datos_SM['gestion.id_Beneficiario']==\"null\"].index)\n",
    "        datos_SM['gestion.id_Beneficiario'] = datos_SM['gestion.id_Beneficiario'].astype(int)\n",
    "        datos_SM['gestion.canal'] = datos_SM['gestion.canal'].replace(['5','6'],['Correo Electrónico','Teléfono'])\n",
    "except Exception as e:\n",
    "    print(\"Error 2 Aqui\")\n",
    "    print(e)\n",
    "    print(fecha_max_mintic)\n",
    "    print(datos_SM.columns)"
   ]
  },
  {
   "cell_type": "code",
   "execution_count": 3031,
   "metadata": {},
   "outputs": [],
   "source": [
    "#print(datos_SM.columns)\n",
    "#print(datos_SM.dtypes)\n",
    "#print(datos_SM[['gestion.paradas', 'gestion.duracion', 'gestion.total_caso', 'gestion.tiempoRespuesta']])"
   ]
  },
  {
   "cell_type": "code",
   "execution_count": 3032,
   "metadata": {
    "scrolled": true
   },
   "outputs": [],
   "source": [
    "#datos_SM.columns"
   ]
  },
  {
   "cell_type": "code",
   "execution_count": 3033,
   "metadata": {
    "scrolled": true
   },
   "outputs": [],
   "source": [
    "#datos_SM.columns"
   ]
  },
  {
   "cell_type": "markdown",
   "metadata": {},
   "source": [
    "## Haciendo merge entre semilla e interacciones"
   ]
  },
  {
   "cell_type": "markdown",
   "metadata": {},
   "source": [
    "Realizando inserción"
   ]
  },
  {
   "cell_type": "code",
   "execution_count": 3034,
   "metadata": {
    "scrolled": false
   },
   "outputs": [],
   "source": [
    "use_these_keys = [ 'gestion.nombreSede'\n",
    "                    , 'gestion.DDA'\n",
    "                    , 'gestion.estadoInstalacion' \n",
    "                    , 'gestion.COD_ISO'\n",
    "                    , 'gestion.energia'\n",
    "                    , 'gestion.departamento'\n",
    "                    , 'gestion.codCentroPoblado'\n",
    "                    , 'gestion.nombreInstitucionEd'\n",
    "                    , 'gestion.codDanesede'\n",
    "                    , 'gestion.tipoSitio'\n",
    "                    , 'gestion.codDaneMuni'\n",
    "                    , 'gestion.nombre_centro_pob'\n",
    "                    , 'gestion.site_id'\n",
    "                    , 'gestion.matricula'\n",
    "                    , 'gestion.energiadesc'\n",
    "                    , 'gestion.grupoDesc'\n",
    "                    , 'gestion.cod_servicio'\n",
    "                    , 'gestion.region'\n",
    "                    , 'gestion.detalleSitio'\n",
    "                    , 'gestion.municipio'\n",
    "                    , 'gestion.id_Beneficiario'\n",
    "                    , 'gestion.location'\n",
    "                    , 'gestion.codDaneInstitucionEdu'\n",
    "                    , 'gestion.categoria'\n",
    "                    , 'gestion.gravedad'\n",
    "                    , 'gestion.detallesTicket'\n",
    "                    , 'gestion.usuarioTicket'\n",
    "                    , 'gestion.responsable'\n",
    "                  ,'gestion.just_mintic'\n",
    "                  ,'gestion.motivo_mintic'\n",
    "                  , 'gestion.IP'\n",
    "                  , 'gestion.duracion'\n",
    "                  , 'gestion.opened_by'\n",
    "                  , 'gestion.tiempoRespuesta'\n",
    "                  ,'gestion.problem_status'\n",
    "                  ,'gestion.status'\n",
    "                  ,'gestion.number'\n",
    "                  #, 'gestion.category'\n",
    "                    #, 'gestion.opened_by'\n",
    "                    , 'gestion.subcategoria'\n",
    "                    , 'gestion.@timestamp'\n",
    "                    , 'gestion.fechaApertura'\n",
    "                    , 'gestion.id_Beneficiario'\n",
    "                    , 'gestion.fechaCierre'\n",
    "                    , 'gestion.canal'\n",
    "                    , 'gestion.numeroTicket'\n",
    "                    , 'gestion.total'\n",
    "                    , 'gestion.close_date'\n",
    "                    , 'gestion.coderesolucion'\n",
    "                    , 'gestion.timeresolution'                                                                                       \n",
    "                    , 'gestion.callback_type'\n",
    "                    , 'gestion.initial_impact'\n",
    "                    , 'gestion.name'\n",
    "                    , 'gestion.variable2'\n",
    "                    , 'gestion.version'\n",
    "                    #, 'gestion.contact_name'                                                                  \n",
    "                    , 'gestion.variable3'\n",
    "                    , 'gestion.fecha'\n",
    "                    , 'gestion.anyo'\n",
    "                    , 'gestion.mes'\n",
    "                    , 'gestion.dia'\n",
    "                  ,'gestion.total_caso'\n",
    "                  ,'gestion.paradas'\n",
    "                  ,'gestion.sysmodtime'\n",
    "                  ]\n",
    "def doc_generator(df):\n",
    "    df_iter = df.iterrows()\n",
    "    for index, document in df_iter:\n",
    "        yield {\n",
    "                \"_index\": \"prod-gestion-tableros-gestion\", \n",
    "                #\"_id\": f\"{str(document['gestion.id_Beneficiario']) + '-' + str(document['gestion.fechaApertura'])+ str(random.randrange(1000))}\",\n",
    "                \"_id\": f\"{str(document['gestion.id'])}\",\n",
    "                \"_source\": filterKeys(document),\n",
    "            }"
   ]
  },
  {
   "cell_type": "code",
   "execution_count": 3035,
   "metadata": {},
   "outputs": [],
   "source": [
    "def doc_ordenamiento(df):\n",
    "    df_iter = df.iterrows()\n",
    "    for index, document in df_iter:\n",
    "        yield {\n",
    "                \"_index\": indice, \n",
    "                \"_id\": 1,\n",
    "                \"_source\": filterKeys(document),\n",
    "            }"
   ]
  },
  {
   "cell_type": "code",
   "execution_count": 3036,
   "metadata": {
    "scrolled": false
   },
   "outputs": [
    {
     "name": "stdout",
     "output_type": "stream",
     "text": [
      "You are trying to merge on object and int64 columns. If you wish to proceed you should use pd.concat \n",
      "Ninguna Interacción insertada en indice principal:\n"
     ]
    }
   ],
   "source": [
    "concat = pd.DataFrame()\n",
    "try:\n",
    "    if not datos_SM.empty:\n",
    "        cant_1 = len(datos_SM)\n",
    "        concat = pd.merge(datos_SM,datos_semilla, on=['gestion.id_Beneficiario'],how='inner')\n",
    "        cant_2 = len(concat)\n",
    "        \n",
    "        concat_outa = pd.DataFrame()\n",
    "        if (cant_1 != cant_2):\n",
    "            concat_outa = pd.merge(datos_SM,datos_semilla, on=['gestion.id_Beneficiario'],how='left')\n",
    "            \n",
    "            #PARA VERIFICAR NO CRUCES SEMILLA\n",
    "            print(\"PARA VERIFICAR NO CRUCES SEMILLA\")\n",
    "            if (not concat_outa.empty):\n",
    "                print(concat_outa.shape[0])\n",
    "            ############################\n",
    "            \n",
    "        concat['gestion.fechaApertura'] = concat['gestion.fechaApertura'].str.replace(\"T\",\" \")\n",
    "        concat['gestion.fechaApertura'] = concat['gestion.fechaApertura'].str.slice(stop=19)\n",
    "        #concat[\"gestion.fecha\"] = concat[\"gestion.fechaApertura\"].str[0:10]\n",
    "        concat[\"gestion.fecha\"] = concat[\"gestion.fechaApertura\"]\n",
    "        concat[\"gestion.anyo\"] = concat[\"gestion.fechaApertura\"].str[0:4]\n",
    "        concat[\"gestion.mes\"] = concat[\"gestion.fechaApertura\"].str[5:7]\n",
    "        concat[\"gestion.dia\"] = concat[\"gestion.fechaApertura\"].str[8:10]\n",
    "        concat['gestion.fechaApertura'] = concat['gestion.fechaApertura'].str[0:10] + \" 00:00:00\"\n",
    "        concat['@timestamp'] = now.isoformat()\n",
    "        concat = concat.fillna('null')\n",
    "        \n",
    "        concat = concat.rename(columns={'gestion.site_id_x':'gestion.site_id'})\n",
    "        concat = concat.rename(columns={'gestion.category':'gestion.categoria'})\n",
    "        salida = helpers.bulk(es, doc_generator(concat))\n",
    "        print(\"Fecha: \", now,\"- Interacciones insertadas en indice principal:\",salida[0])\n",
    "except Exception as e:\n",
    "    print(e, \"\\nNinguna Interacción insertada en indice principal:\")\n",
    "\n",
    "    "
   ]
  },
  {
   "cell_type": "code",
   "execution_count": 3037,
   "metadata": {},
   "outputs": [],
   "source": [
    "#concat"
   ]
  },
  {
   "cell_type": "markdown",
   "metadata": {},
   "source": [
    "Actualizando fecha de control de ejecución"
   ]
  },
  {
   "cell_type": "code",
   "execution_count": 3038,
   "metadata": {},
   "outputs": [
    {
     "name": "stdout",
     "output_type": "stream",
     "text": [
      "actualizada fecha control de ejecucion: 2021-04-30T15:10:00\n"
     ]
    }
   ],
   "source": [
    "fecha_ejecucion = (datetime.strptime(fecha_max_mintic, \"%Y-%m-%d\"'T'\"%H:%M:%S\")+timedelta(minutes=10)).strftime(\"%Y-%m-%d\"'T'\"%H:%M:%S\")[0:15] + '0:00'    \n",
    "#fecha_ejecucion = '2021-04-29T00:00:00'\n",
    "\n",
    "if fecha_ejecucion > str(now.strftime(\"%Y-%m-%d\"'T'\"%H:%M:%S\"))[0:15] + '0:00':\n",
    "    fecha_ejecucion = str(now.strftime(\"%Y-%m-%d\"'T'\"%H:%M:%S\"))[0:15] + '0:00'\n",
    "response = es.index(\n",
    "        index = \"prod-tableros_mintic_control\",\n",
    "        id = 'jerarquia-tableroG',\n",
    "        body = { 'jerarquia-tableroG': 'jerarquia-tableroG','tableroG.fechaControl' : fecha_ejecucion}\n",
    ")\n",
    "print(\"actualizada fecha control de ejecucion:\",fecha_ejecucion)\n",
    "\n"
   ]
  },
  {
   "cell_type": "code",
   "execution_count": null,
   "metadata": {},
   "outputs": [],
   "source": []
  }
 ],
 "metadata": {
  "kernelspec": {
   "display_name": "Python 3",
   "language": "python",
   "name": "python3"
  },
  "language_info": {
   "codemirror_mode": {
    "name": "ipython",
    "version": 3
   },
   "file_extension": ".py",
   "mimetype": "text/x-python",
   "name": "python",
   "nbconvert_exporter": "python",
   "pygments_lexer": "ipython3",
   "version": "3.8.5"
  }
 },
 "nbformat": 4,
 "nbformat_minor": 4
}
