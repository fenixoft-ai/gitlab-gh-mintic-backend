{
 "cells": [
  {
   "cell_type": "code",
   "execution_count": 1,
   "metadata": {},
   "outputs": [],
   "source": [
    "from elasticsearch import Elasticsearch\n",
    "from elasticsearch import helpers\n",
    "from ssl import create_default_context\n",
    "import requests\n",
    "from getpass import getpass\n",
    "import pandas as pd\n",
    "import numpy as np\n",
    "import json\n",
    "from datetime import datetime\n",
    "from datetime import timedelta\n",
    "import parametros\n",
    "import re"
   ]
  },
  {
   "cell_type": "markdown",
   "metadata": {},
   "source": [
    "## Conectando a ElasticSearch"
   ]
  },
  {
   "cell_type": "markdown",
   "metadata": {},
   "source": [
    "La ultima línea se utiliza para garantizar la ejecución de la consulta\n",
    "* timeout es el tiempo para cada ejecución\n",
    "* max_retries el número de intentos si la conexión falla\n",
    "* retry_on_timeout para activar los reitentos"
   ]
  },
  {
   "cell_type": "code",
   "execution_count": 2,
   "metadata": {},
   "outputs": [],
   "source": [
    "context = create_default_context(cafile=parametros.cafile)\n",
    "es = Elasticsearch(\n",
    "    parametros.servidor,\n",
    "    http_auth=(parametros.usuario_EC, parametros.password_EC),\n",
    "    scheme=\"https\",\n",
    "    port=parametros.puerto,\n",
    "    ssl_context=context,\n",
    "    timeout=60, max_retries=3, retry_on_timeout=True\n",
    ") "
   ]
  },
  {
   "cell_type": "markdown",
   "metadata": {},
   "source": [
    "### Calculando fechas para la ejecución"
   ]
  },
  {
   "cell_type": "markdown",
   "metadata": {},
   "source": [
    "* Se calculan las fechas para asociar al nombre del indice\n",
    "* fecha_hoy, es usada para concatenar al nombre del indice principal previa inserción\n",
    "* ahora, es la fecha en un formato requerido para ES"
   ]
  },
  {
   "cell_type": "code",
   "execution_count": 3,
   "metadata": {},
   "outputs": [],
   "source": [
    "now = datetime.now()\n",
    "format_ES = \"%Y.%m.%d\"\n",
    "fecha_hoy = str(now.strftime(format_ES))\n",
    "ahora_format = \"%Y-%m-%d\"'T'\"%H:%M:%S\"\n",
    "ahora = str(now.strftime(ahora_format))"
   ]
  },
  {
   "cell_type": "markdown",
   "metadata": {},
   "source": [
    "### Definiendo indice principal con fecha de hoy"
   ]
  },
  {
   "cell_type": "code",
   "execution_count": 4,
   "metadata": {},
   "outputs": [],
   "source": [
    "indice = parametros.gestion_tablero14_index \n",
    "indice_control = parametros.tableros_mintic_control"
   ]
  },
  {
   "cell_type": "markdown",
   "metadata": {},
   "source": [
    "### Función para generar JSON compatible con ES"
   ]
  },
  {
   "cell_type": "code",
   "execution_count": 5,
   "metadata": {},
   "outputs": [],
   "source": [
    "def filterKeys(document):\n",
    "    return {key: document[key] for key in use_these_keys }"
   ]
  },
  {
   "cell_type": "markdown",
   "metadata": {},
   "source": [
    "### Trae la ultima fecha para control de ejecución"
   ]
  },
  {
   "cell_type": "markdown",
   "metadata": {},
   "source": [
    "Cuando en el rango de tiempo de la ejecución, no se insertan nuevos valores, las fecha maxima en indice mintic no aumenta, por tanto se usa esta fecha de control para garantizar que incremente el bucle de ejecución"
   ]
  },
  {
   "cell_type": "code",
   "execution_count": 6,
   "metadata": {},
   "outputs": [
    {
     "name": "stdout",
     "output_type": "stream",
     "text": [
      "ultima fecha para control de ejecucion: 2021-07-01T00:00:00\n"
     ]
    }
   ],
   "source": [
    "total_docs = 1\n",
    "try:\n",
    "    response = es.search(\n",
    "        index= indice_control,\n",
    "        body={\n",
    "           \"_source\": [\"tablero14.fechaControl\"],\n",
    "              \"query\": {\n",
    "                \"bool\": {\n",
    "                  \"filter\": [\n",
    "                  {\n",
    "                    \"exists\": {\n",
    "                      \"field\":\"jerarquia-tablero14\"\n",
    "                    }\n",
    "                  }\n",
    "              ]\n",
    "            }\n",
    "          }\n",
    "        },\n",
    "        size=total_docs\n",
    "    )\n",
    "    #print(es.info())\n",
    "    elastic_docs = response[\"hits\"][\"hits\"]\n",
    "    fields = {}\n",
    "    for num, doc in enumerate(elastic_docs):\n",
    "        fecha_ejecucion = doc[\"_source\"]['tablero14.fechaControl']\n",
    "except Exception as e:\n",
    "    print(e)\n",
    "    response[\"hits\"][\"hits\"] = []\n",
    "if response[\"hits\"][\"hits\"] == []:\n",
    "    fecha_ejecucion = '2021-05-14T00:00:00'\n",
    "print(\"ultima fecha para control de ejecucion:\",fecha_ejecucion)\n",
    "\n"
   ]
  },
  {
   "cell_type": "markdown",
   "metadata": {},
   "source": [
    "### leyendo indice semilla-inventario"
   ]
  },
  {
   "cell_type": "markdown",
   "metadata": {},
   "source": [
    "En el script que ingesta semilla, trae la información de los centros de conexión administrados. Para el indice principal se requiere:\n",
    "\n",
    "* site_id como llave del centro de conexión.\n",
    "* Datos geográficos (Departamento, municipio, centro poblado, sede.)"
   ]
  },
  {
   "cell_type": "code",
   "execution_count": 7,
   "metadata": {},
   "outputs": [],
   "source": [
    "total_docs = 10000\n",
    "try:\n",
    "    response = es.search(\n",
    "        index= parametros.semilla_inventario_index,\n",
    "        body={\n",
    "               \"_source\": ['site_id','nombre_municipio', 'nombre_departamento', 'nombre_centro_pob','energiadesc'\n",
    "                           ,'nombreSede','latitud', 'longitud','id_Beneficiario','COD_ISO','codDanesede',\n",
    "                           'cod_servicio','codDaneMuni','nombre_centro_pob','codCentroPoblado','codDaneInstitucionEdu',\n",
    "                           'tipoSitio','detalleSitio','energia','region','matricula','DDA','grupoDesc','estadoInstalacion',\n",
    "                           'nombreInstitucionEd']\n",
    "        },\n",
    "        size=total_docs\n",
    "    )\n",
    "    #print(es.info())\n",
    "    elastic_docs = response[\"hits\"][\"hits\"]\n",
    "    fields = {}\n",
    "    for num, doc in enumerate(elastic_docs):\n",
    "        source_data = doc[\"_source\"]\n",
    "        for key, val in source_data.items():\n",
    "            try:\n",
    "                fields[key] = np.append(fields[key], val)\n",
    "            except KeyError:\n",
    "                fields[key] = np.array([val])\n",
    "\n",
    "    datos_semilla = pd.DataFrame(dict([ (k,pd.Series(v)) for k,v in fields.items() ])) #pd.DataFrame(fields)\n",
    "except Exception as e:\n",
    "    print(e)\n",
    "    print(\"fecha:\",now,\"- Error en lectura de datos semilla\")\n",
    "    #exit()"
   ]
  },
  {
   "cell_type": "code",
   "execution_count": 8,
   "metadata": {},
   "outputs": [],
   "source": [
    "def get_location(x,y='lat'):\n",
    "    patron = re.compile('^(\\-?\\d+(\\.\\d+)?),\\s*(\\-?\\d+(\\.\\d+)?)$') #patrón que debe cumplir\n",
    "    if (not patron.match(x) is None) and (str(x)!=''):\n",
    "        return x.replace(',','.')\n",
    "    else:\n",
    "        #Código a ejecutar si las coordenadas no son válidas\n",
    "        return '4.596389' if y=='lat' else '-74.074639'\n",
    "    \n",
    "datos_semilla['latitud'] = datos_semilla['latitud'].apply(lambda x:get_location(x,'lat'))\n",
    "datos_semilla['longitud'] = datos_semilla['longitud'].apply(lambda x:get_location(x,'lon'))\n",
    "datos_semilla = datos_semilla.drop(datos_semilla[(datos_semilla[\"longitud\"]=='a') | (datos_semilla[\"latitud\"]=='a')].index)\n",
    "datos_semilla['gestion.tablero14location'] = datos_semilla['latitud'] + ',' + datos_semilla['longitud']\n",
    "datos_semilla['gestion.tablero14location']=datos_semilla['gestion.tablero14location'].str.replace('a,a','')\n",
    "datos_semilla.drop(columns=['latitud','longitud'],inplace=True)\n"
   ]
  },
  {
   "cell_type": "markdown",
   "metadata": {},
   "source": [
    "### Leyendo indice servicemanager-interacciones"
   ]
  },
  {
   "cell_type": "markdown",
   "metadata": {},
   "source": [
    "Se lee la información de los De Service Manager. En la lectura se traen todas las interacciones reportadas por servicemanager, con la información de la misma.\n",
    "\n",
    "* id_beneficiario, es la llave para cruzar con cada centro de conexión.\n",
    "* variable1 y variable2, son la tipo y subtipo de la interaccion.\n",
    "* current_phase, estado del ticket\n",
    "* clr_txt_assignment, es el sujeto asignado al ticket\n",
    "* owner_name, usuario del ticket\n",
    "* open_time y close_time, son las fecha de apertura y cierre del ticket\n",
    "* resolution, respuesta al ticket\n",
    "* incident_id, numero del ticket\n",
    "* source, fuente del ticket(email o telefono)\n",
    "* severity, gravedad del ticket\n",
    "* clr_txt_codcategorymtc categoria segun mintic"
   ]
  },
  {
   "cell_type": "code",
   "execution_count": 9,
   "metadata": {
    "scrolled": true
   },
   "outputs": [],
   "source": [
    "def traeSMInteracciones(fecha_max,fecha_tope):\n",
    "    total_docs = 10000\n",
    "    response = es.search(\n",
    "        index= parametros.sm_interaciones,\n",
    "        body={\n",
    "            \"_source\": [\"clr_txt_idbneficmtc\",\"variable1\",\"variable2\",\"variable3\"\n",
    "                        ,\"variable4\",\"current_phase\",\"clr_txt_assignment\",\"owner_name\"\n",
    "                        ,\"open_time\",\"close_time\",\"resolution\",\"open\",\"incident_id\",\"source\"]\n",
    "            ,\"query\": {\n",
    "              \"range\": {\n",
    "                \"open_time\": {\n",
    "                    \"gte\": fecha_max,\n",
    "                    \"lt\": fecha_tope\n",
    "                }\n",
    "              }\n",
    "          }\n",
    "        },\n",
    "        size=total_docs\n",
    "    )\n",
    "    elastic_docs = response[\"hits\"][\"hits\"]\n",
    "    fields = {}\n",
    "    for num, doc in enumerate(elastic_docs):\n",
    "        source_data = doc[\"_source\"]\n",
    "        for key, val in source_data.items():\n",
    "            try:\n",
    "                fields[key] = np.append(fields[key], val)\n",
    "            except KeyError:\n",
    "                fields[key] = np.array([val])\n",
    "\n",
    "    datos_SM_interactions = pd.DataFrame(dict([ (k,pd.Series(v)) for k,v in fields.items() ]))\n",
    "    \n",
    "    if datos_SM_interactions is None or datos_SM_interactions.empty:\n",
    "        return pd.DataFrame()\n",
    "    datos_SM_interactions = datos_SM_interactions.rename(columns={'variable1' : 'gestion.tablero14categoria'\n",
    "                                                                  ,'variable2' : 'gestion.tablero14subcategoria'\n",
    "                                                                  ,'current_phase':'gestion.tablero14estadoTicket'\n",
    "                                                                  ,'owner_name':'gestion.tablero14usuarioTicket'\n",
    "                                                                  ,'clr_txt_assignment':'gestion.tablero14responsable'\n",
    "                                                                  ,'source':'gestion.tablero14canal'\n",
    "                                                                  ,'clr_txt_idbneficmtc':'gestion.tablero14id_Beneficiario'\n",
    "                                                                  ,'variable4' : 'gestion.tablero14Tipo4'\n",
    "                                                                  ,'incident_id':'gestion.tablero14numeroTicket'})         \n",
    "    datos_SM_interactions = datos_SM_interactions.dropna(subset=['gestion.tablero14id_Beneficiario'])\n",
    "    datos_SM_interactions = datos_SM_interactions.drop(datos_SM_interactions[datos_SM_interactions['gestion.tablero14id_Beneficiario']==\"null\"].index)\n",
    "    datos_SM_interactions['gestion.tablero14id_Beneficiario'] = datos_SM_interactions['gestion.tablero14id_Beneficiario'].astype(int)\n",
    "    datos_SM_interactions['gestion.tablero14canal'] = datos_SM_interactions['gestion.tablero14canal'].replace(['5','6'],['Correo Electrónico','Teléfono'])\n",
    "\n",
    "    return datos_SM_interactions"
   ]
  },
  {
   "cell_type": "markdown",
   "metadata": {},
   "source": [
    "Realizando bucle hasta conseguir datos de servicemanager-interacciones o hasta la fecha actual para realizar la carga de datos "
   ]
  },
  {
   "cell_type": "code",
   "execution_count": 10,
   "metadata": {
    "scrolled": true
   },
   "outputs": [],
   "source": [
    "fecha_max_mintic = fecha_ejecucion\n",
    "\n",
    "\n",
    "\n",
    "fecha_tope_mintic = (datetime.strptime(fecha_max_mintic, \"%Y-%m-%d\"'T'\"%H:%M:%S\")+timedelta(minutes=10)-timedelta(seconds=1)).strftime(\"%Y-%m-%d\"'T'\"%H:%M:%S\")\n",
    "datos_SM_interactions = traeSMInteracciones(fecha_max_mintic,fecha_tope_mintic)\n",
    "\n",
    "\n",
    "if datos_SM_interactions is None or datos_SM_interactions.empty:\n",
    "    while (datos_SM_interactions is None or datos_SM_interactions.empty) and ((datetime.strptime(fecha_max_mintic[0:10], '%Y-%m-%d').strftime(\"%Y-%m-%d\"'T'\"%H:%M:%S\")) < str(now.strftime(\"%Y-%m-%d\"'T'\"%H:%M:%S\"))):\n",
    "        fecha_max_mintic = (datetime.strptime(fecha_max_mintic, \"%Y-%m-%d\"'T'\"%H:%M:%S\")+timedelta(minutes=10)).strftime(\"%Y-%m-%d\"'T'\"%H:%M:%S\")\n",
    "        fecha_tope_mintic = (datetime.strptime(fecha_tope_mintic, \"%Y-%m-%d\"'T'\"%H:%M:%S\")+timedelta(minutes=10)).strftime(\"%Y-%m-%d\"'T'\"%H:%M:%S\")\n",
    "        datos_SM_interactions = traeSMInteracciones(fecha_max_mintic,fecha_tope_mintic)\n",
    "else:\n",
    "    pass\n",
    "\n"
   ]
  },
  {
   "cell_type": "code",
   "execution_count": 11,
   "metadata": {},
   "outputs": [],
   "source": [
    "#fecha_max_mintic\n",
    "#print (fecha_max_mintic, \"   hastaaaa  \", fecha_tope_mintic)"
   ]
  },
  {
   "cell_type": "markdown",
   "metadata": {},
   "source": [
    "Haciendo merge entre semilla e interacciones"
   ]
  },
  {
   "cell_type": "markdown",
   "metadata": {},
   "source": [
    "Realizando inserción"
   ]
  },
  {
   "cell_type": "code",
   "execution_count": 12,
   "metadata": {
    "scrolled": false
   },
   "outputs": [],
   "source": [
    "use_these_keys = [\n",
    "                  'gestion.tablero14location'\n",
    "                  , 'gestion.tablero14id_Beneficiario'\n",
    "                  , 'gestion.tablero14Tipo4'\n",
    "                  , 'gestion.tablero14fechaApertura'\n",
    "                  , 'gestion.tablero14nombreSede'\n",
    "                  , 'gestion.tablero14dptoGestion'\n",
    "                  , 'gestion.tablero14muniGestion'\n",
    "                  , 'gestion.tablero14anyo'\n",
    "                  , 'gestion.tablero14mes'\n",
    "                  , 'gestion.tablero14dia'\n",
    "                  , 'gestion.tablero14nombre_centro_pob'\n",
    "                  , '@timestamp'\n",
    "                  ]\n",
    "def doc_generator(df):\n",
    "    df_iter = df.iterrows()\n",
    "    for index, document in df_iter:\n",
    "        yield {\n",
    "                \"_index\": indice, \n",
    "                \"_id\": f\"{str(document['site_id']) + '-' + str(document['gestion.tablero14numeroTicket']) + '-' + str(document['gestion.tablero14fechaApertura'])}\",\n",
    "                \"_source\": filterKeys(document),\n",
    "            }"
   ]
  },
  {
   "cell_type": "code",
   "execution_count": 13,
   "metadata": {},
   "outputs": [],
   "source": [
    "def doc_ordenamiento(df):\n",
    "    df_iter = df.iterrows()\n",
    "    for index, document in df_iter:\n",
    "        yield {\n",
    "                \"_index\": indice, \n",
    "                \"_id\": 1,\n",
    "                \"_source\": filterKeys(document),\n",
    "            }"
   ]
  },
  {
   "cell_type": "code",
   "execution_count": 14,
   "metadata": {},
   "outputs": [],
   "source": [
    "d = {'ordenar.tablero14ordenamiento': [1]}\n",
    "df_ordenamiento = pd.DataFrame(data=d)\n",
    "use_these_keys = [\n",
    "'ordenar.tablero14ordenamiento'\n",
    "]\n",
    "salida = helpers.bulk(es, doc_ordenamiento(df_ordenamiento ))"
   ]
  },
  {
   "cell_type": "code",
   "execution_count": 15,
   "metadata": {},
   "outputs": [],
   "source": [
    "datos_semilla.columns=['nombreSede', 'DDA', 'estadoInstalacion', 'COD_ISO', 'energia',\n",
    "'nombre_departamento', 'codCentroPoblado', 'nombreInstitucionEd',\n",
    "'codDanesede', 'tipoSitio', 'codDaneMuni', 'nombre_centro_pob',\n",
    "'site_id', 'matricula', 'energiadesc', 'grupoDesc', 'cod_servicio',\n",
    "'region', 'detalleSitio', 'nombre_municipio', 'gestion.tablero14id_Beneficiario',\n",
    "'codDaneInstitucionEdu', 'gestion.tablero14location']"
   ]
  },
  {
   "cell_type": "code",
   "execution_count": 16,
   "metadata": {
    "scrolled": true
   },
   "outputs": [
    {
     "name": "stdout",
     "output_type": "stream",
     "text": [
      "Fecha:  2021-07-23 18:48:41.789675 - Interacciones insertadas en indice principal: 14\n"
     ]
    }
   ],
   "source": [
    "try:\n",
    "    concat = pd.merge(datos_SM_interactions,datos_semilla, on=['gestion.tablero14id_Beneficiario'],how='inner')\n",
    "    concat = concat.rename(columns={'id_Beneficiario' : 'gestion.tablero14id_Beneficiario'\n",
    "                                    ,'variable4':'gestion.tablero14Tipo4'\n",
    "                                    ,'variable3':'gestion.tablero14.Tipo3'\n",
    "                                    ,'open_time':'gestion.tablero14fechaApertura'\n",
    "                                    ,'nombreSede':'gestion.tablero14nombreSede'\n",
    "                                    ,'nombre_departamento':'gestion.tablero14DepartamentoGestion'\n",
    "                                    ,'nombre_municipio':'gestion.tablero14MunicipioGestion'\n",
    "                                    ,'nombre_centro_pob':'gestion.tablero14nombre_centro_pob'\n",
    "                                    })\n",
    "    concat['gestion.tablero14fechaApertura'] = concat['gestion.tablero14fechaApertura'].str.replace(\"T\",\" \")\n",
    "    concat['gestion.tablero14fechaApertura'] = concat['gestion.tablero14fechaApertura'].str.slice(stop=19)\n",
    "    concat[\"gestion.tablero14anyo\"] = concat[\"gestion.tablero14fechaApertura\"].str[0:4]\n",
    "    concat[\"gestion.tablero14mes\"] = concat[\"gestion.tablero14fechaApertura\"].str[5:7]\n",
    "    concat[\"gestion.tablero14dia\"] = concat[\"gestion.tablero14fechaApertura\"].str[8:10]\n",
    "    concat['@timestamp'] = now.isoformat()\n",
    "    concat = concat.fillna('null')\n",
    "     \n",
    "    use_these_keys =   [\n",
    "         'gestion.tablero14fechaApertura', \n",
    "         'gestion.tablero14Tipo4',\n",
    "         'gestion.tablero14DepartamentoGestion',\n",
    "         'gestion.tablero14MunicipioGestion',\n",
    "         'gestion.tablero14id_Beneficiario', \n",
    "         'gestion.tablero14nombreSede', \n",
    "         'gestion.tablero14location', \n",
    "         'gestion.tablero14anyo',\n",
    "         'gestion.tablero14mes', \n",
    "         'gestion.tablero14dia', \n",
    "         '@timestamp']\n",
    "        \n",
    "    salida = helpers.bulk(es, doc_generator(concat))\n",
    "    print(\"Fecha: \", now,\"- Interacciones insertadas en indice principal:\",salida[0])\n",
    "except Exception as e:\n",
    "    print(e, \"\\nNinguna Interacción insertada en indice principal:\")\n",
    "\n",
    "    "
   ]
  },
  {
   "cell_type": "markdown",
   "metadata": {},
   "source": [
    "Actualizando fecha de control de ejecución"
   ]
  },
  {
   "cell_type": "code",
   "execution_count": 17,
   "metadata": {
    "scrolled": true
   },
   "outputs": [],
   "source": [
    "#concat"
   ]
  },
  {
   "cell_type": "code",
   "execution_count": 18,
   "metadata": {},
   "outputs": [
    {
     "name": "stdout",
     "output_type": "stream",
     "text": [
      "actualizada fecha control de ejecucion: 2021-07-01T00:10:00\n"
     ]
    }
   ],
   "source": [
    "fecha_ejecucion = (datetime.strptime(fecha_max_mintic, \"%Y-%m-%d\"'T'\"%H:%M:%S\")+timedelta(minutes=10)).strftime(\"%Y-%m-%d\"'T'\"%H:%M:%S\")[0:15] + '0:00'    \n",
    "#fecha_ejecucion = '2021-04-29T00:00:00'\n",
    "\n",
    "if fecha_ejecucion > str(now.strftime(\"%Y-%m-%d\"'T'\"%H:%M:%S\"))[0:15] + '0:00':\n",
    "    fecha_ejecucion = str(now.strftime(\"%Y-%m-%d\"'T'\"%H:%M:%S\"))[0:15] + '0:00'\n",
    "response = es.index(\n",
    "        index = indice_control,\n",
    "        id = 'jerarquia-tablero14',\n",
    "        body = { 'jerarquia-tablero14': 'jerarquia-tablero14','tablero14.fechaControl' : fecha_ejecucion}\n",
    ")\n",
    "print(\"actualizada fecha control de ejecucion:\",fecha_ejecucion)\n"
   ]
  },
  {
   "cell_type": "code",
   "execution_count": null,
   "metadata": {},
   "outputs": [],
   "source": []
  }
 ],
 "metadata": {
  "kernelspec": {
   "display_name": "Python 3",
   "language": "python",
   "name": "python3"
  },
  "language_info": {
   "codemirror_mode": {
    "name": "ipython",
    "version": 3
   },
   "file_extension": ".py",
   "mimetype": "text/x-python",
   "name": "python",
   "nbconvert_exporter": "python",
   "pygments_lexer": "ipython3",
   "version": "3.8.5"
  }
 },
 "nbformat": 4,
 "nbformat_minor": 4
}
