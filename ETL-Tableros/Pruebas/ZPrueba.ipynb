{
 "cells": [
  {
   "cell_type": "markdown",
   "metadata": {},
   "source": [
    "¿Que hace este script?\n",
    "* Calcula para cada dispositivo de red: trafico.totales.traficoIN, trafico.totales.traficoOUT', trafico.totales.consumoGB'.\n",
    "* Calcula para cada site_id: trafico.totales.sitio.traficoIN, trafico.totales.sitio.traficoOUT, trafico.totales.sitio.consumoGB"
   ]
  },
  {
   "cell_type": "code",
   "execution_count": 25,
   "metadata": {},
   "outputs": [],
   "source": [
    "from elasticsearch import Elasticsearch, helpers\n",
    "from ssl import create_default_context\n",
    "import pandas as pd\n",
    "import numpy as np\n",
    "from datetime import datetime, timedelta\n",
    "import parametros\n",
    "import re"
   ]
  },
  {
   "cell_type": "markdown",
   "metadata": {},
   "source": [
    "## Conectando a ElasticSearch"
   ]
  },
  {
   "cell_type": "markdown",
   "metadata": {},
   "source": [
    "La ultima línea se utiliza para garantizar la ejecución de la consulta\n",
    "* timeout es el tiempo para cada ejecución\n",
    "* max_retries el número de intentos si la conexión falla\n",
    "* retry_on_timeout para activar los reitentos"
   ]
  },
  {
   "cell_type": "code",
   "execution_count": 26,
   "metadata": {},
   "outputs": [],
   "source": [
    "context = create_default_context(cafile=parametros.cafile)\n",
    "es = Elasticsearch(\n",
    "    parametros.servidor,\n",
    "    http_auth=(parametros.usuario_EC, parametros.password_EC),\n",
    "    scheme=\"https\",\n",
    "    port=parametros.puerto,\n",
    "    ssl_context=context,\n",
    "    timeout=60, max_retries=3, retry_on_timeout=True\n",
    ") "
   ]
  },
  {
   "cell_type": "markdown",
   "metadata": {},
   "source": [
    "### Calculando fechas para la ejecución"
   ]
  },
  {
   "cell_type": "markdown",
   "metadata": {},
   "source": [
    "* Se calculan las fechas para asociar al nombre del indice\n",
    "* fecha_hoy es usada para concatenar al nombre del indice principal previa inserción"
   ]
  },
  {
   "cell_type": "code",
   "execution_count": 27,
   "metadata": {},
   "outputs": [],
   "source": [
    "now = datetime.now()\n",
    "fecha_hoy = str(now.strftime(\"%Y.%m.%d\"))"
   ]
  },
  {
   "cell_type": "markdown",
   "metadata": {},
   "source": [
    "### Definiendo indice principal con fecha de hoy"
   ]
  },
  {
   "cell_type": "markdown",
   "metadata": {},
   "source": [
    "Estos valores se deben ajustar según ambiente. No es automático ya que no hay separación de ambientes"
   ]
  },
  {
   "cell_type": "code",
   "execution_count": 28,
   "metadata": {},
   "outputs": [],
   "source": [
    "indice = parametros.conteo_centros_index\n",
    "indice_control = parametros.tableros_mintic_control"
   ]
  },
  {
   "cell_type": "markdown",
   "metadata": {},
   "source": [
    "### Función para generar JSON compatible con ES"
   ]
  },
  {
   "cell_type": "code",
   "execution_count": 29,
   "metadata": {},
   "outputs": [],
   "source": [
    "def filterKeys(document):\n",
    "    return {key: document[key] for key in use_these_keys }"
   ]
  },
  {
   "cell_type": "markdown",
   "metadata": {},
   "source": [
    "### leyendo indice semilla-inventario"
   ]
  },
  {
   "cell_type": "markdown",
   "metadata": {},
   "source": [
    "En el script que ingesta semilla, trae la información de los centros de conexión administrados. Para el indice principal se requiere:\n",
    "\n",
    "* site_id como llave del centro de conexión.\n",
    "* Datos geográficos (Departamento, municipio, centro poblado, sede, energía, latitud, longitud, COD_ISO, entre otros)."
   ]
  },
  {
   "cell_type": "code",
   "execution_count": 30,
   "metadata": {},
   "outputs": [],
   "source": [
    "total_docs = 10000\n",
    "try:\n",
    "    response = es.search(\n",
    "        index= parametros.semilla_inventario_index,\n",
    "        body={\n",
    "               \"_source\": ['site_id','nombre_municipio', 'nombre_departamento', 'nombre_centro_pob', 'nombreSede' \n",
    "                           , 'energiadesc', 'latitud', 'longitud','COD_ISO','id_Beneficiario']\n",
    "        },\n",
    "        size=total_docs\n",
    "    )\n",
    "    #print(es.info())\n",
    "    elastic_docs = response[\"hits\"][\"hits\"]\n",
    "    fields = {}\n",
    "    for num, doc in enumerate(elastic_docs):\n",
    "        source_data = doc[\"_source\"]\n",
    "        for key, val in source_data.items():\n",
    "            try:\n",
    "                fields[key] = np.append(fields[key], val)\n",
    "            except KeyError:\n",
    "                fields[key] = np.array([val])\n",
    "\n",
    "    datos_semilla = pd.DataFrame(dict([ (k,pd.Series(v)) for k,v in fields.items() ])) #pd.DataFrame(fields)\n",
    "except:\n",
    "    print(\"fecha:\",now,\"- Error en lectura de datos semilla\")\n",
    "    #exit()\n",
    "    "
   ]
  },
  {
   "cell_type": "markdown",
   "metadata": {},
   "source": [
    "Se valida latitud y longitud, se genera campo location y se renombran los campos de semilla"
   ]
  },
  {
   "cell_type": "code",
   "execution_count": 31,
   "metadata": {},
   "outputs": [],
   "source": [
    "def get_location(x,y='lat'):\n",
    "    patron = re.compile('^(\\-?\\d+(\\.\\d+)?),\\s*(\\-?\\d+(\\.\\d+)?)$') #patrón que debe cumplir\n",
    "    if (not patron.match(x) is None) and (str(x)!=''):\n",
    "        return x.replace(',','.')\n",
    "    else:\n",
    "        #Código a ejecutar si las coordenadas no son válidas\n",
    "        return '4.596389' if y=='lat' else '-74.074639'\n",
    "    \n",
    "datos_semilla['latitud'] = datos_semilla['latitud'].apply(lambda x:get_location(x,'lat'))\n",
    "datos_semilla['longitud'] = datos_semilla['longitud'].apply(lambda x:get_location(x,'lon'))\n",
    "datos_semilla = datos_semilla.drop(datos_semilla[(datos_semilla[\"longitud\"]=='a') | (datos_semilla[\"latitud\"]=='a')].index)\n",
    "datos_semilla['centros.location'] = datos_semilla['latitud'] + ',' + datos_semilla['longitud']\n",
    "datos_semilla['centros.location']=datos_semilla['centros.location'].str.replace('a,a','')\n",
    "datos_semilla.drop(columns=['latitud','longitud'],inplace=True)\n",
    "\n",
    "datos_semilla = datos_semilla.rename(columns={'nombre_municipio': 'centros.nombreMunicipio'\n",
    "                                              , 'nombre_departamento' : 'centros.nombreDepartamento'\n",
    "                                              , 'nombre_centro_pob': 'centros.localidad'\n",
    "                                              , 'nombreSede' : 'centros.nomCentroDigital'\n",
    "                                              , 'energiadesc' : 'centros.sistemaEnergia'\n",
    "                                              , 'COD_ISO' : 'centros.codISO'\n",
    "                                              , 'id_Beneficiario' : 'centros.idBeneficiario'})\n",
    "datos_semilla.fillna('', inplace=True)"
   ]
  },
  {
   "cell_type": "code",
   "execution_count": 32,
   "metadata": {},
   "outputs": [],
   "source": [
    "datos_semilla = datos_semilla.drop(datos_semilla[(datos_semilla[\"centros.location\"]=='')].index)"
   ]
  },
  {
   "cell_type": "code",
   "execution_count": 33,
   "metadata": {},
   "outputs": [
    {
     "data": {
      "text/html": [
       "<div>\n",
       "<style scoped>\n",
       "    .dataframe tbody tr th:only-of-type {\n",
       "        vertical-align: middle;\n",
       "    }\n",
       "\n",
       "    .dataframe tbody tr th {\n",
       "        vertical-align: top;\n",
       "    }\n",
       "\n",
       "    .dataframe thead th {\n",
       "        text-align: right;\n",
       "    }\n",
       "</style>\n",
       "<table border=\"1\" class=\"dataframe\">\n",
       "  <thead>\n",
       "    <tr style=\"text-align: right;\">\n",
       "      <th></th>\n",
       "      <th>centros.nomCentroDigital</th>\n",
       "      <th>centros.codISO</th>\n",
       "      <th>centros.localidad</th>\n",
       "      <th>site_id</th>\n",
       "      <th>centros.nombreDepartamento</th>\n",
       "      <th>centros.sistemaEnergia</th>\n",
       "      <th>centros.nombreMunicipio</th>\n",
       "      <th>centros.idBeneficiario</th>\n",
       "      <th>centros.location</th>\n",
       "    </tr>\n",
       "  </thead>\n",
       "  <tbody>\n",
       "    <tr>\n",
       "      <th>0</th>\n",
       "      <td>C.E.R LA PAULINA</td>\n",
       "      <td>CO-ANT</td>\n",
       "      <td>LA PAULINA</td>\n",
       "      <td>22154-ZGYO176</td>\n",
       "      <td>ANTIOQUIA</td>\n",
       "      <td>RED INTERCONECTADA</td>\n",
       "      <td>VALDIVIA</td>\n",
       "      <td>22154</td>\n",
       "      <td>6.7048548,-76.14525469</td>\n",
       "    </tr>\n",
       "    <tr>\n",
       "      <th>1</th>\n",
       "      <td>CENTRO EDUCATIVO RURAL EL CERRO</td>\n",
       "      <td>CO-ANT</td>\n",
       "      <td>EL CERRO</td>\n",
       "      <td>20022-ZGYO177</td>\n",
       "      <td>ANTIOQUIA</td>\n",
       "      <td>RED INTERCONECTADA</td>\n",
       "      <td>FRONTINO</td>\n",
       "      <td>20022</td>\n",
       "      <td>4.225166667,-73.10716667</td>\n",
       "    </tr>\n",
       "    <tr>\n",
       "      <th>2</th>\n",
       "      <td>C. E. R.  MERCEDES YEPES</td>\n",
       "      <td>CO-ANT</td>\n",
       "      <td>VDA. LA MESETA</td>\n",
       "      <td></td>\n",
       "      <td>ANTIOQUIA</td>\n",
       "      <td>RED INTERCONECTADA</td>\n",
       "      <td>ANORÍ</td>\n",
       "      <td>18787</td>\n",
       "      <td>6.93848274,-75.151177190</td>\n",
       "    </tr>\n",
       "    <tr>\n",
       "      <th>3</th>\n",
       "      <td>C. E. R. MEDIAS FALDAS</td>\n",
       "      <td>CO-ANT</td>\n",
       "      <td>VDA EL LIMÓN</td>\n",
       "      <td></td>\n",
       "      <td>ANTIOQUIA</td>\n",
       "      <td>TIENE ENERGÍA</td>\n",
       "      <td>ANORÍ</td>\n",
       "      <td>18802</td>\n",
       "      <td>7.04797951,-75.19442611</td>\n",
       "    </tr>\n",
       "    <tr>\n",
       "      <th>4</th>\n",
       "      <td>C. E. R.  ROSAURA ORTEGA</td>\n",
       "      <td>CO-ANT</td>\n",
       "      <td>BELLAVISTA</td>\n",
       "      <td></td>\n",
       "      <td>ANTIOQUIA</td>\n",
       "      <td>RED INTERCONECTADA</td>\n",
       "      <td>ANORÍ</td>\n",
       "      <td>18804</td>\n",
       "      <td>7.06272584,-75.22730972</td>\n",
       "    </tr>\n",
       "    <tr>\n",
       "      <th>...</th>\n",
       "      <td>...</td>\n",
       "      <td>...</td>\n",
       "      <td>...</td>\n",
       "      <td>...</td>\n",
       "      <td>...</td>\n",
       "      <td>...</td>\n",
       "      <td>...</td>\n",
       "      <td>...</td>\n",
       "      <td>...</td>\n",
       "    </tr>\n",
       "    <tr>\n",
       "      <th>6942</th>\n",
       "      <td>ESCUELA SANTA ISABEL</td>\n",
       "      <td>CO-VAU</td>\n",
       "      <td>COMUNIDAD SANTA ISABEL</td>\n",
       "      <td></td>\n",
       "      <td>VAUPÉS</td>\n",
       "      <td>SOLUCIÓN SOLAR</td>\n",
       "      <td>PACOA</td>\n",
       "      <td>67733</td>\n",
       "      <td>6.39026335,-73.138349330</td>\n",
       "    </tr>\n",
       "    <tr>\n",
       "      <th>6943</th>\n",
       "      <td>ESCUELA RURAL DE SAN LUIS DE PIEDRA ÑI</td>\n",
       "      <td>CO-VAU</td>\n",
       "      <td>COMUNIDAD DE SAN LUIS</td>\n",
       "      <td></td>\n",
       "      <td>VAUPÉS</td>\n",
       "      <td>SIN INFORMACIÓN</td>\n",
       "      <td>PACOA</td>\n",
       "      <td>70622</td>\n",
       "      <td>0.08164385,-70.07416384</td>\n",
       "    </tr>\n",
       "    <tr>\n",
       "      <th>6944</th>\n",
       "      <td>ESCUELA RURAL DE SANTA ROSA</td>\n",
       "      <td>CO-VAU</td>\n",
       "      <td>COMUNIDAD DE SANTA ROSA</td>\n",
       "      <td></td>\n",
       "      <td>VAUPÉS</td>\n",
       "      <td>SIN INFORMACIÓN</td>\n",
       "      <td>PACOA</td>\n",
       "      <td>70623</td>\n",
       "      <td>4.596389,-74.074639</td>\n",
       "    </tr>\n",
       "    <tr>\n",
       "      <th>6945</th>\n",
       "      <td>ESCUELA RURAL DE TOAKA</td>\n",
       "      <td>CO-VAU</td>\n",
       "      <td>COMUNIDAD DE TOAKA</td>\n",
       "      <td></td>\n",
       "      <td>VAUPÉS</td>\n",
       "      <td>SIN INFORMACIÓN</td>\n",
       "      <td>PACOA</td>\n",
       "      <td>70624</td>\n",
       "      <td>1.007644476,-71.25103723</td>\n",
       "    </tr>\n",
       "    <tr>\n",
       "      <th>6946</th>\n",
       "      <td>ESCUELA SAMUEL DE PUERTO ESPERANZA</td>\n",
       "      <td>CO-VAU</td>\n",
       "      <td>PUERTO ESPERANZA</td>\n",
       "      <td></td>\n",
       "      <td>VAUPÉS</td>\n",
       "      <td>NO TIENE ENERGÍA</td>\n",
       "      <td>CARURÚ</td>\n",
       "      <td>70625</td>\n",
       "      <td>2.56013117,-72.64258639</td>\n",
       "    </tr>\n",
       "  </tbody>\n",
       "</table>\n",
       "<p>6947 rows × 9 columns</p>\n",
       "</div>"
      ],
      "text/plain": [
       "                    centros.nomCentroDigital centros.codISO  \\\n",
       "0                           C.E.R LA PAULINA         CO-ANT   \n",
       "1            CENTRO EDUCATIVO RURAL EL CERRO         CO-ANT   \n",
       "2                   C. E. R.  MERCEDES YEPES         CO-ANT   \n",
       "3                     C. E. R. MEDIAS FALDAS         CO-ANT   \n",
       "4                   C. E. R.  ROSAURA ORTEGA         CO-ANT   \n",
       "...                                      ...            ...   \n",
       "6942                    ESCUELA SANTA ISABEL         CO-VAU   \n",
       "6943  ESCUELA RURAL DE SAN LUIS DE PIEDRA ÑI         CO-VAU   \n",
       "6944             ESCUELA RURAL DE SANTA ROSA         CO-VAU   \n",
       "6945                  ESCUELA RURAL DE TOAKA         CO-VAU   \n",
       "6946      ESCUELA SAMUEL DE PUERTO ESPERANZA         CO-VAU   \n",
       "\n",
       "            centros.localidad        site_id centros.nombreDepartamento  \\\n",
       "0                  LA PAULINA  22154-ZGYO176                  ANTIOQUIA   \n",
       "1                    EL CERRO  20022-ZGYO177                  ANTIOQUIA   \n",
       "2              VDA. LA MESETA                                 ANTIOQUIA   \n",
       "3                VDA EL LIMÓN                                 ANTIOQUIA   \n",
       "4                  BELLAVISTA                                 ANTIOQUIA   \n",
       "...                       ...            ...                        ...   \n",
       "6942   COMUNIDAD SANTA ISABEL                                    VAUPÉS   \n",
       "6943    COMUNIDAD DE SAN LUIS                                    VAUPÉS   \n",
       "6944  COMUNIDAD DE SANTA ROSA                                    VAUPÉS   \n",
       "6945       COMUNIDAD DE TOAKA                                    VAUPÉS   \n",
       "6946         PUERTO ESPERANZA                                    VAUPÉS   \n",
       "\n",
       "     centros.sistemaEnergia centros.nombreMunicipio  centros.idBeneficiario  \\\n",
       "0        RED INTERCONECTADA                VALDIVIA                   22154   \n",
       "1        RED INTERCONECTADA                FRONTINO                   20022   \n",
       "2        RED INTERCONECTADA                   ANORÍ                   18787   \n",
       "3             TIENE ENERGÍA                   ANORÍ                   18802   \n",
       "4        RED INTERCONECTADA                   ANORÍ                   18804   \n",
       "...                     ...                     ...                     ...   \n",
       "6942       SOLUCIÓN SOLAR                     PACOA                   67733   \n",
       "6943        SIN INFORMACIÓN                   PACOA                   70622   \n",
       "6944        SIN INFORMACIÓN                   PACOA                   70623   \n",
       "6945        SIN INFORMACIÓN                   PACOA                   70624   \n",
       "6946       NO TIENE ENERGÍA                  CARURÚ                   70625   \n",
       "\n",
       "              centros.location  \n",
       "0       6.7048548,-76.14525469  \n",
       "1     4.225166667,-73.10716667  \n",
       "2     6.93848274,-75.151177190  \n",
       "3      7.04797951,-75.19442611  \n",
       "4      7.06272584,-75.22730972  \n",
       "...                        ...  \n",
       "6942  6.39026335,-73.138349330  \n",
       "6943   0.08164385,-70.07416384  \n",
       "6944       4.596389,-74.074639  \n",
       "6945  1.007644476,-71.25103723  \n",
       "6946   2.56013117,-72.64258639  \n",
       "\n",
       "[6947 rows x 9 columns]"
      ]
     },
     "execution_count": 33,
     "metadata": {},
     "output_type": "execute_result"
    }
   ],
   "source": [
    "datos_semilla"
   ]
  },
  {
   "cell_type": "markdown",
   "metadata": {},
   "source": [
    "### leyendo indice cambium-devicedevices"
   ]
  },
  {
   "cell_type": "markdown",
   "metadata": {},
   "source": [
    "Se lee la información de los dispositivos de red monitoreados por Cambium. En esta lectura no hay referencia de fechas ya que solo hay una ocurrencia por MAC de dispositivo de red.\n",
    "\n",
    "* site_id es la llave para cruzar con cada centro de conexión.\n",
    "* mac, IP y name son datos básicos del dispositivo.\n",
    "* ap_group identifica los dispositivos como INDOOR u OUTDOOR"
   ]
  },
  {
   "cell_type": "code",
   "execution_count": 34,
   "metadata": {},
   "outputs": [],
   "source": [
    "total_docs = 30000\n",
    "try:\n",
    "    response = es.search(\n",
    "        index= parametros.cambium_d_d_index,\n",
    "        body={\n",
    "                    \"_source\": [\"site_id\",\"mac\",\"ip\",\"ap_group\"]\n",
    "                  , \"query\": {\n",
    "                    \"match_all\": {}\n",
    "                  }\n",
    "        },\n",
    "        size=total_docs\n",
    "    )\n",
    "    #print(es.info())\n",
    "    elastic_docs = response[\"hits\"][\"hits\"]\n",
    "\n",
    "    datos_dev = pd.DataFrame([x[\"_source\"] for x in elastic_docs])\n",
    "    \n",
    "    \n",
    "except:\n",
    "    exit()"
   ]
  },
  {
   "cell_type": "markdown",
   "metadata": {},
   "source": [
    "Se descartan registros con site_id vacios y se limpian los NaN del dataframe"
   ]
  },
  {
   "cell_type": "code",
   "execution_count": 35,
   "metadata": {},
   "outputs": [],
   "source": [
    "datos_dev.dropna(subset=['site_id'])\n",
    "datos_dev.fillna('', inplace=True)\n",
    "datos_dev = datos_dev.drop(datos_dev[(datos_dev['site_id']=='')].index)\n",
    "datos_dev.sort_values(['site_id','ap_group'], inplace=True)"
   ]
  },
  {
   "cell_type": "markdown",
   "metadata": {},
   "source": [
    "Se limpian datos mal formados de ap_group"
   ]
  },
  {
   "cell_type": "code",
   "execution_count": 36,
   "metadata": {},
   "outputs": [],
   "source": [
    "datos_dev['ap_group'] = datos_dev['ap_group'].str.split(\"-\", n = 1, expand = True)[0]\n",
    "datos_dev['ap_group'] = datos_dev['ap_group'].str.split(\"_\", n = 1, expand = True)[0]\n",
    "datos_dev = datos_dev.drop(datos_dev[(datos_dev['ap_group']=='')].index)"
   ]
  },
  {
   "cell_type": "code",
   "execution_count": 37,
   "metadata": {},
   "outputs": [],
   "source": [
    "datos_dev = datos_dev.drop_duplicates('mac')"
   ]
  },
  {
   "cell_type": "markdown",
   "metadata": {},
   "source": [
    "Se renombran campos según formato del indice final"
   ]
  },
  {
   "cell_type": "code",
   "execution_count": 38,
   "metadata": {},
   "outputs": [],
   "source": [
    "datos_dev = datos_dev.rename(columns={'ap_mac' : 'centros.macRed','ap_group': 'centros.apGroup'\n",
    "                                        , 'ip': 'centros.IP'\n",
    "                                        , 'mac' : 'centros.macRed'\n",
    "                                        , 'name' : 'centros.deviceName'})"
   ]
  },
  {
   "cell_type": "code",
   "execution_count": 39,
   "metadata": {},
   "outputs": [
    {
     "data": {
      "text/html": [
       "<div>\n",
       "<style scoped>\n",
       "    .dataframe tbody tr th:only-of-type {\n",
       "        vertical-align: middle;\n",
       "    }\n",
       "\n",
       "    .dataframe tbody tr th {\n",
       "        vertical-align: top;\n",
       "    }\n",
       "\n",
       "    .dataframe thead th {\n",
       "        text-align: right;\n",
       "    }\n",
       "</style>\n",
       "<table border=\"1\" class=\"dataframe\">\n",
       "  <thead>\n",
       "    <tr style=\"text-align: right;\">\n",
       "      <th></th>\n",
       "      <th>centros.apGroup</th>\n",
       "      <th>centros.IP</th>\n",
       "      <th>site_id</th>\n",
       "      <th>centros.macRed</th>\n",
       "    </tr>\n",
       "  </thead>\n",
       "  <tbody>\n",
       "    <tr>\n",
       "      <th>3319</th>\n",
       "      <td>INDOOR</td>\n",
       "      <td>172.25.41.219</td>\n",
       "      <td>10003700</td>\n",
       "      <td>BC:E6:7C:5D:20:E1</td>\n",
       "    </tr>\n",
       "    <tr>\n",
       "      <th>3320</th>\n",
       "      <td>OUTDOOR</td>\n",
       "      <td>172.25.41.220</td>\n",
       "      <td>10003700</td>\n",
       "      <td>BC:A9:93:0E:2F:15</td>\n",
       "    </tr>\n",
       "    <tr>\n",
       "      <th>3321</th>\n",
       "      <td>OUTDOOR</td>\n",
       "      <td>172.25.41.221</td>\n",
       "      <td>10003700</td>\n",
       "      <td>BC:A9:93:0E:63:3E</td>\n",
       "    </tr>\n",
       "    <tr>\n",
       "      <th>3282</th>\n",
       "      <td>INDOOR</td>\n",
       "      <td>172.25.46.251</td>\n",
       "      <td>10501-ZZZY338</td>\n",
       "      <td>BC:E6:7C:ED:8A:FE</td>\n",
       "    </tr>\n",
       "    <tr>\n",
       "      <th>3283</th>\n",
       "      <td>OUTDOOR</td>\n",
       "      <td>172.25.46.253</td>\n",
       "      <td>10501-ZZZY338</td>\n",
       "      <td>BC:E6:7C:E8:3F:AE</td>\n",
       "    </tr>\n",
       "    <tr>\n",
       "      <th>...</th>\n",
       "      <td>...</td>\n",
       "      <td>...</td>\n",
       "      <td>...</td>\n",
       "      <td>...</td>\n",
       "    </tr>\n",
       "    <tr>\n",
       "      <th>1136</th>\n",
       "      <td>OUTDOOR</td>\n",
       "      <td>172.25.132.77</td>\n",
       "      <td>PRUEBA-LABORATORIO</td>\n",
       "      <td>BC:E6:7C:E7:FC:2B</td>\n",
       "    </tr>\n",
       "    <tr>\n",
       "      <th>1137</th>\n",
       "      <td>OUTDOOR</td>\n",
       "      <td>172.25.132.76</td>\n",
       "      <td>PRUEBA-LABORATORIO</td>\n",
       "      <td>BC:E6:7C:E7:FC:21</td>\n",
       "    </tr>\n",
       "    <tr>\n",
       "      <th>1477</th>\n",
       "      <td>INDOOR</td>\n",
       "      <td>172.25.117.11</td>\n",
       "      <td>TUMBATORO</td>\n",
       "      <td>BC:E6:7C:5F:3A:F1</td>\n",
       "    </tr>\n",
       "    <tr>\n",
       "      <th>1478</th>\n",
       "      <td>OUTDOOR</td>\n",
       "      <td>172.25.117.12</td>\n",
       "      <td>TUMBATORO</td>\n",
       "      <td>BC:E6:7C:E8:3F:8A</td>\n",
       "    </tr>\n",
       "    <tr>\n",
       "      <th>1479</th>\n",
       "      <td>OUTDOOR</td>\n",
       "      <td>172.25.117.13</td>\n",
       "      <td>TUMBATORO</td>\n",
       "      <td>BC:E6:7C:E8:3F:5E</td>\n",
       "    </tr>\n",
       "  </tbody>\n",
       "</table>\n",
       "<p>4257 rows × 4 columns</p>\n",
       "</div>"
      ],
      "text/plain": [
       "     centros.apGroup     centros.IP             site_id     centros.macRed\n",
       "3319          INDOOR  172.25.41.219            10003700  BC:E6:7C:5D:20:E1\n",
       "3320         OUTDOOR  172.25.41.220            10003700  BC:A9:93:0E:2F:15\n",
       "3321         OUTDOOR  172.25.41.221            10003700  BC:A9:93:0E:63:3E\n",
       "3282          INDOOR  172.25.46.251       10501-ZZZY338  BC:E6:7C:ED:8A:FE\n",
       "3283         OUTDOOR  172.25.46.253       10501-ZZZY338  BC:E6:7C:E8:3F:AE\n",
       "...              ...            ...                 ...                ...\n",
       "1136         OUTDOOR  172.25.132.77  PRUEBA-LABORATORIO  BC:E6:7C:E7:FC:2B\n",
       "1137         OUTDOOR  172.25.132.76  PRUEBA-LABORATORIO  BC:E6:7C:E7:FC:21\n",
       "1477          INDOOR  172.25.117.11           TUMBATORO  BC:E6:7C:5F:3A:F1\n",
       "1478         OUTDOOR  172.25.117.12           TUMBATORO  BC:E6:7C:E8:3F:8A\n",
       "1479         OUTDOOR  172.25.117.13           TUMBATORO  BC:E6:7C:E8:3F:5E\n",
       "\n",
       "[4257 rows x 4 columns]"
      ]
     },
     "execution_count": 39,
     "metadata": {},
     "output_type": "execute_result"
    }
   ],
   "source": [
    "datos_dev"
   ]
  },
  {
   "cell_type": "markdown",
   "metadata": {},
   "source": [
    "### Trae la ultima fecha para control de ejecución"
   ]
  },
  {
   "cell_type": "markdown",
   "metadata": {},
   "source": [
    "Cuando en el rango de tiempo de la ejecución, no se insertan nuevos valores, las fecha maxima en indice mintic no aumenta, por tanto se usa esta fecha de control para garantizar que incremente el bucle de ejecución"
   ]
  },
  {
   "cell_type": "code",
   "execution_count": 40,
   "metadata": {},
   "outputs": [
    {
     "name": "stdout",
     "output_type": "stream",
     "text": [
      "ultima fecha para control de ejecucion: 2021-06-25 00:00:00\n"
     ]
    }
   ],
   "source": [
    "total_docs = 1\n",
    "try:\n",
    "    response = es.search(\n",
    "        index= indice_control,\n",
    "        body={\n",
    "               \"_source\": [\"tablero06.fechaControl\"],\n",
    "              \"query\": {\n",
    "                \"bool\": {\n",
    "                  \"filter\": [\n",
    "                  {\n",
    "                    \"exists\": {\n",
    "                      \"field\":\"jerarquia-tablero06\"\n",
    "                    }\n",
    "                  }\n",
    "                  ]\n",
    "                }\n",
    "              }\n",
    "        },\n",
    "        size=total_docs\n",
    "    )\n",
    "    #print(es.info())\n",
    "    elastic_docs = response[\"hits\"][\"hits\"]\n",
    "    fields = {}\n",
    "    for num, doc in enumerate(elastic_docs):\n",
    "        fecha_ejecucion = doc[\"_source\"]['tablero06.fechaControl']\n",
    "except:\n",
    "    fecha_ejecucion = '2021-05-01 00:00:00'\n",
    "if response[\"hits\"][\"hits\"] == []:\n",
    "    fecha_ejecucion = '2021-05-01 00:00:00'\n",
    "print(\"ultima fecha para control de ejecucion:\",fecha_ejecucion)"
   ]
  },
  {
   "cell_type": "markdown",
   "metadata": {},
   "source": [
    "## Se lee la información de cambium device performance"
   ]
  },
  {
   "cell_type": "markdown",
   "metadata": {},
   "source": [
    " Se toma los valores de dispositivos de red y su desempeño.\n",
    " * mac del dispositivo de red\n",
    " * timestamp es la fecha y hora de la medición\n",
    " * radio.* volumen de datos descargados(r) y cargados(t)"
   ]
  },
  {
   "cell_type": "code",
   "execution_count": 41,
   "metadata": {},
   "outputs": [],
   "source": [
    "def traePerformance(fecha_max,fecha_tope):\n",
    "    total_docs = 5000000\n",
    "    response = es.search(\n",
    "        index= parametros.cambium_d_p_index,\n",
    "        body={\n",
    "                \"_source\": [\"mac\",\"timestamp\",\"radio.5ghz.rx_bps\",\n",
    "                           \"radio.5ghz.tx_bps\",\"radio.24ghz.rx_bps\"\n",
    "                          ,\"radio.24ghz.tx_bps\"]\n",
    "              , \"query\": {\n",
    "                  \"range\": {\n",
    "                    \"timestamp\": {\n",
    "                      \"gte\": fecha_max,\n",
    "                      \"lt\": fecha_tope\n",
    "                    }\n",
    "                  }\n",
    "              }\n",
    "        },\n",
    "        size=total_docs\n",
    "    )\n",
    "    elastic_docs = response[\"hits\"][\"hits\"]\n",
    "    fields = {}\n",
    "    for num, doc in enumerate(elastic_docs):\n",
    "        source_data = doc[\"_source\"]\n",
    "        for key, val in source_data.items():\n",
    "            try:\n",
    "                fields[key] = np.append(fields[key], val)\n",
    "            except KeyError:\n",
    "                fields[key] = np.array([val])\n",
    "\n",
    "    return pd.DataFrame(dict([ (k,pd.Series(v)) for k,v in fields.items() ]))"
   ]
  },
  {
   "cell_type": "markdown",
   "metadata": {},
   "source": [
    "### Lanzando  ejecución de consulta"
   ]
  },
  {
   "cell_type": "markdown",
   "metadata": {},
   "source": [
    "* Se calcula rango en base a la fecha de control. Para este caso es de 10 minutos.\n",
    "* Se ejecuta la función de consulta con el rango de fechas.\n",
    "* Si no retorna datos se incrementa el rango y se ejecuta nuevamente. Este proceso se repite hasta conseguir datos o hasta que el rango de ejecución alcance la fecha y hora actual."
   ]
  },
  {
   "cell_type": "code",
   "execution_count": 42,
   "metadata": {},
   "outputs": [],
   "source": [
    "fecha_max_mintic = fecha_ejecucion\n",
    "fecha_tope_mintic = (datetime.strptime(fecha_max_mintic, '%Y-%m-%d %H:%M:%S')+timedelta(minutes=10)-timedelta(seconds=1)).strftime(\"%Y-%m-%d %H:%M:%S\")\n",
    "datos_performance = traePerformance(fecha_max_mintic,fecha_tope_mintic)\n",
    "\n",
    "if datos_performance is None or datos_performance.empty:\n",
    "    while (datos_performance is None or datos_performance.empty) and ((datetime.strptime(fecha_max_mintic[0:10], '%Y-%m-%d').strftime(\"%Y-%m-%d %H:%M:%S\")) < str(now.strftime(\"%Y-%m-%d %H:%M:%S\"))):\n",
    "        fecha_max_mintic = (datetime.strptime(fecha_max_mintic, '%Y-%m-%d %H:%M:%S')+timedelta(minutes=10)).strftime(\"%Y-%m-%d %H:%M:%S\")\n",
    "        fecha_tope_mintic = (datetime.strptime(fecha_tope_mintic, '%Y-%m-%d %H:%M:%S')+timedelta(minutes=10)).strftime(\"%Y-%m-%d %H:%M:%S\")\n",
    "        datos_performance = traePerformance(fecha_max_mintic,fecha_tope_mintic)\n",
    "else:\n",
    "    pass"
   ]
  },
  {
   "cell_type": "code",
   "execution_count": 43,
   "metadata": {},
   "outputs": [],
   "source": [
    "#datos_performance = traePerformance('2021-06-10 09:00:00','2021-06-10 10:00:00')"
   ]
  },
  {
   "cell_type": "markdown",
   "metadata": {},
   "source": [
    "funcion para insertar en indice: "
   ]
  },
  {
   "cell_type": "code",
   "execution_count": 44,
   "metadata": {},
   "outputs": [],
   "source": [
    "use_these_keys = ['centros.nomCentroDigital',\n",
    "                  'centros.codISO',\n",
    "                  'centros.localidad',\n",
    "                  'centros.siteID',\n",
    "                  'centros.nombreDepartamento',\n",
    "                  'centros.sistemaEnergia',\n",
    "                  'centros.nombreMunicipio',\n",
    "                  'centros.idBeneficiario',\n",
    "                  'centros.apGroup',\n",
    "                  'centros.IP',\n",
    "                  'centros.deviceName',\n",
    "                  'centros.macRed',\n",
    "                  'centros.fechaControl',\n",
    "                  'centros.traficoIN',\n",
    "                  'centros.traficoOUT',\n",
    "                  'centros.consumoGB',\n",
    "                  'centros.fecha',\n",
    "                  'centros.anyo',\n",
    "                  'centros.mes',\n",
    "                  'centros.dia',\n",
    "                  'centros.hora',\n",
    "                  'centros.minuto',\n",
    "                  'nombreDepartamento',\n",
    "                    'nombreMunicipio',\n",
    "                    'idBeneficiario',\n",
    "                    'fecha',\n",
    "                    'anyo',\n",
    "                    'mes',\n",
    "                    'dia',\n",
    "                  '@timestamp']\n",
    "def doc_generator(df):\n",
    "    df_iter = df.iterrows()\n",
    "    for index, document in df_iter:\n",
    "        yield {\n",
    "                \"_index\": indice, \n",
    "                \"_id\": f\"{'consumo-' + document['trafico.tablero06.siteID'] + '-' + document['trafico.tablero06.macRed'] + '-' +document['trafico.totales.tablero06.fechaControl']}\",\n",
    "                \"_source\": filterKeys(document),\n",
    "            }"
   ]
  },
  {
   "cell_type": "code",
   "execution_count": 45,
   "metadata": {},
   "outputs": [
    {
     "data": {
      "text/html": [
       "<div>\n",
       "<style scoped>\n",
       "    .dataframe tbody tr th:only-of-type {\n",
       "        vertical-align: middle;\n",
       "    }\n",
       "\n",
       "    .dataframe tbody tr th {\n",
       "        vertical-align: top;\n",
       "    }\n",
       "\n",
       "    .dataframe thead th {\n",
       "        text-align: right;\n",
       "    }\n",
       "</style>\n",
       "<table border=\"1\" class=\"dataframe\">\n",
       "  <thead>\n",
       "    <tr style=\"text-align: right;\">\n",
       "      <th></th>\n",
       "      <th>centros.apGroup</th>\n",
       "      <th>centros.IP</th>\n",
       "      <th>site_id</th>\n",
       "      <th>centros.macRed</th>\n",
       "    </tr>\n",
       "  </thead>\n",
       "  <tbody>\n",
       "    <tr>\n",
       "      <th>3319</th>\n",
       "      <td>INDOOR</td>\n",
       "      <td>172.25.41.219</td>\n",
       "      <td>10003700</td>\n",
       "      <td>BC:E6:7C:5D:20:E1</td>\n",
       "    </tr>\n",
       "    <tr>\n",
       "      <th>3320</th>\n",
       "      <td>OUTDOOR</td>\n",
       "      <td>172.25.41.220</td>\n",
       "      <td>10003700</td>\n",
       "      <td>BC:A9:93:0E:2F:15</td>\n",
       "    </tr>\n",
       "    <tr>\n",
       "      <th>3321</th>\n",
       "      <td>OUTDOOR</td>\n",
       "      <td>172.25.41.221</td>\n",
       "      <td>10003700</td>\n",
       "      <td>BC:A9:93:0E:63:3E</td>\n",
       "    </tr>\n",
       "    <tr>\n",
       "      <th>3282</th>\n",
       "      <td>INDOOR</td>\n",
       "      <td>172.25.46.251</td>\n",
       "      <td>10501-ZZZY338</td>\n",
       "      <td>BC:E6:7C:ED:8A:FE</td>\n",
       "    </tr>\n",
       "    <tr>\n",
       "      <th>3283</th>\n",
       "      <td>OUTDOOR</td>\n",
       "      <td>172.25.46.253</td>\n",
       "      <td>10501-ZZZY338</td>\n",
       "      <td>BC:E6:7C:E8:3F:AE</td>\n",
       "    </tr>\n",
       "    <tr>\n",
       "      <th>...</th>\n",
       "      <td>...</td>\n",
       "      <td>...</td>\n",
       "      <td>...</td>\n",
       "      <td>...</td>\n",
       "    </tr>\n",
       "    <tr>\n",
       "      <th>1136</th>\n",
       "      <td>OUTDOOR</td>\n",
       "      <td>172.25.132.77</td>\n",
       "      <td>PRUEBA-LABORATORIO</td>\n",
       "      <td>BC:E6:7C:E7:FC:2B</td>\n",
       "    </tr>\n",
       "    <tr>\n",
       "      <th>1137</th>\n",
       "      <td>OUTDOOR</td>\n",
       "      <td>172.25.132.76</td>\n",
       "      <td>PRUEBA-LABORATORIO</td>\n",
       "      <td>BC:E6:7C:E7:FC:21</td>\n",
       "    </tr>\n",
       "    <tr>\n",
       "      <th>1477</th>\n",
       "      <td>INDOOR</td>\n",
       "      <td>172.25.117.11</td>\n",
       "      <td>TUMBATORO</td>\n",
       "      <td>BC:E6:7C:5F:3A:F1</td>\n",
       "    </tr>\n",
       "    <tr>\n",
       "      <th>1478</th>\n",
       "      <td>OUTDOOR</td>\n",
       "      <td>172.25.117.12</td>\n",
       "      <td>TUMBATORO</td>\n",
       "      <td>BC:E6:7C:E8:3F:8A</td>\n",
       "    </tr>\n",
       "    <tr>\n",
       "      <th>1479</th>\n",
       "      <td>OUTDOOR</td>\n",
       "      <td>172.25.117.13</td>\n",
       "      <td>TUMBATORO</td>\n",
       "      <td>BC:E6:7C:E8:3F:5E</td>\n",
       "    </tr>\n",
       "  </tbody>\n",
       "</table>\n",
       "<p>4257 rows × 4 columns</p>\n",
       "</div>"
      ],
      "text/plain": [
       "     centros.apGroup     centros.IP             site_id     centros.macRed\n",
       "3319          INDOOR  172.25.41.219            10003700  BC:E6:7C:5D:20:E1\n",
       "3320         OUTDOOR  172.25.41.220            10003700  BC:A9:93:0E:2F:15\n",
       "3321         OUTDOOR  172.25.41.221            10003700  BC:A9:93:0E:63:3E\n",
       "3282          INDOOR  172.25.46.251       10501-ZZZY338  BC:E6:7C:ED:8A:FE\n",
       "3283         OUTDOOR  172.25.46.253       10501-ZZZY338  BC:E6:7C:E8:3F:AE\n",
       "...              ...            ...                 ...                ...\n",
       "1136         OUTDOOR  172.25.132.77  PRUEBA-LABORATORIO  BC:E6:7C:E7:FC:2B\n",
       "1137         OUTDOOR  172.25.132.76  PRUEBA-LABORATORIO  BC:E6:7C:E7:FC:21\n",
       "1477          INDOOR  172.25.117.11           TUMBATORO  BC:E6:7C:5F:3A:F1\n",
       "1478         OUTDOOR  172.25.117.12           TUMBATORO  BC:E6:7C:E8:3F:8A\n",
       "1479         OUTDOOR  172.25.117.13           TUMBATORO  BC:E6:7C:E8:3F:5E\n",
       "\n",
       "[4257 rows x 4 columns]"
      ]
     },
     "execution_count": 45,
     "metadata": {},
     "output_type": "execute_result"
    }
   ],
   "source": [
    "datos_dev"
   ]
  },
  {
   "cell_type": "markdown",
   "metadata": {},
   "source": [
    "## En otra  jerarquía se escriben los dispositivos conectados"
   ]
  },
  {
   "cell_type": "markdown",
   "metadata": {},
   "source": [
    "Se toma el dataframe del proceso anterior para realizar el siguiente proceso:\n",
    "* Se cuentan la cantidad de dispositivos WAN/LAN (OUTDOOR/INDOOR), agrupando por fecha y sitio\n",
    "* Cantidad dispositivos WAN/LAN conectados se calcula validando cuando son OUTDOOR/INDOOR y tienen trafico(traficoOUT)\n",
    "* Cantidad de dispositivos desconectados, restando los dos anteriores\n",
    "\n",
    "Datos generados\n",
    "* trafico.totales.cantDevWAN\n",
    "* trafico.totales.cantDevLAN\n",
    "* trafico.totales.cantDevConectadosWAN\n",
    "* trafico.totales.cantDevDesconectadosWAN\n",
    "* trafico.totales.cantDevConectadosLAN\n",
    "* trafico.totales.cantDevDesconectadosLAN\n",
    "* trafico.totales.cantDev"
   ]
  },
  {
   "cell_type": "code",
   "execution_count": 46,
   "metadata": {},
   "outputs": [],
   "source": [
    "try:\n",
    "    mintic_03 =['centros.nomCentroDigital',\n",
    "                      'centros.codISO',\n",
    "                      'centros.localidad',\n",
    "                      'centros.siteID',\n",
    "                      'centros.nombreDepartamento',\n",
    "                      'centros.sistemaEnergia',\n",
    "                      'centros.nombreMunicipio',\n",
    "                      'centros.idBeneficiario',\n",
    "                      'centros.location',\n",
    "                      'centros.apGroup',\n",
    "                      'centros.fechaControl',\n",
    "                      'centros.fecha',\n",
    "                      'centros.anyo',\n",
    "                      'centros.mes',\n",
    "                      'centros.dia',\n",
    "                      'centros.hora',\n",
    "                      'centros.minuto',\n",
    "                      'centros.traficoIN',\n",
    "                      'centros.traficoOUT',\n",
    "                      'centros.consumoGB',]\n",
    "    mintic_03.columns = mintic_03.columns.droplevel(1)\n",
    "    mintic_03.rename(columns={'centros.traficoIN' : 'centros.traficoIN'\n",
    "                          ,'centros.traficoOUT' : 'centros.traficoOUT'\n",
    "                          ,'centros.consumoGB' : 'centros.consumoGB'\n",
    "                         }, inplace=True)\n",
    "except:\n",
    "    pass"
   ]
  },
  {
   "cell_type": "code",
   "execution_count": 47,
   "metadata": {},
   "outputs": [
    {
     "data": {
      "text/plain": [
       "['centros.nomCentroDigital',\n",
       " 'centros.codISO',\n",
       " 'centros.localidad',\n",
       " 'centros.siteID',\n",
       " 'centros.nombreDepartamento',\n",
       " 'centros.sistemaEnergia',\n",
       " 'centros.nombreMunicipio',\n",
       " 'centros.idBeneficiario',\n",
       " 'centros.location',\n",
       " 'centros.apGroup',\n",
       " 'centros.fechaControl',\n",
       " 'centros.fecha',\n",
       " 'centros.anyo',\n",
       " 'centros.mes',\n",
       " 'centros.dia',\n",
       " 'centros.hora',\n",
       " 'centros.minuto',\n",
       " 'centros.traficoIN',\n",
       " 'centros.traficoOUT',\n",
       " 'centros.consumoGB']"
      ]
     },
     "execution_count": 47,
     "metadata": {},
     "output_type": "execute_result"
    }
   ],
   "source": [
    "mintic_03"
   ]
  },
  {
   "cell_type": "markdown",
   "metadata": {},
   "source": [
    "Funcion para insertar en indice la cantidad de dispositivos conectados \n",
    "* la lista use_these_keys se usa para referenciar cuales campos del dataframe irán al indice final. si los datos no se declaran en este, no se insertarán\n"
   ]
  },
  {
   "cell_type": "code",
   "execution_count": 48,
   "metadata": {},
   "outputs": [],
   "source": [
    "use_these_keys = ['centros.nomCentroDigital',\n",
    "                  'centros.codISO',\n",
    "                  'centros.localidad',\n",
    "                  'centros.siteID',\n",
    "                  'centros.nombreDepartamento',\n",
    "                  'centros.sistemaEnergia',\n",
    "                  'centros.nombreMunicipio',\n",
    "                  'centros.idBeneficiario',\n",
    "                  'centros.location',\n",
    "                  'centros.apGroup',\n",
    "                  'centros.fechaControl',\n",
    "                  'centros.cantDevWAN',\n",
    "                  'centros.cantDevConectadosWAN',\n",
    "                  'centros.cantDevDesconectadosWAN',\n",
    "                  'centros.cantDevLAN',\n",
    "                  'centros.cantDevConectadosLAN',\n",
    "                  'centros.cantDevDesconectadosLAN',\n",
    "                  'centros.cantDev',\n",
    "                  'centros.cantDevConectados',\n",
    "                  'centros.cantDevDesconectados',\n",
    "                  'centros.fecha',\n",
    "                  'centros.anyo',\n",
    "                  'centros.mes',\n",
    "                  'centros.dia',\n",
    "                  'centros.hora',\n",
    "                  'centros.minuto',\n",
    "                  'centros.traficoIN',\n",
    "                  'centros.traficoOUT',\n",
    "                  'centros.consumoGB',\n",
    "                  '@timestamp']\n",
    "\n",
    "def doc_generator_dis(df):\n",
    "    df_iter = df.iterrows()\n",
    "    for index, document in df_iter:\n",
    "        yield {\n",
    "                \"_index\": indice, \n",
    "                \"_id\": f\"{'Conectados-' + document['centros.siteID'] + '-' +document['centros.fechaControl']}\",\n",
    "                \"_source\": filterKeys(document),\n",
    "            }"
   ]
  },
  {
   "cell_type": "markdown",
   "metadata": {},
   "source": [
    "# Insertando cantidad de dispositivos conectados"
   ]
  },
  {
   "cell_type": "code",
   "execution_count": 33,
   "metadata": {},
   "outputs": [
    {
     "ename": "IndentationError",
     "evalue": "expected an indented block (<ipython-input-33-34ce73491ca4>, line 3)",
     "output_type": "error",
     "traceback": [
      "\u001b[0;36m  File \u001b[0;32m\"<ipython-input-33-34ce73491ca4>\"\u001b[0;36m, line \u001b[0;32m3\u001b[0m\n\u001b[0;31m    mintic_03['@timestamp'] = now.isoformat()\u001b[0m\n\u001b[0m    ^\u001b[0m\n\u001b[0;31mIndentationError\u001b[0m\u001b[0;31m:\u001b[0m expected an indented block\n"
     ]
    }
   ],
   "source": [
    "try:\n",
    "    \n",
    "mintic_03['@timestamp'] = now.isoformat()\n",
    "\n",
    "salida = helpers.bulk(es, doc_generator_dis(mintic_03))\n",
    "\n",
    "print(\"Fecha: \", now,\"- Datos Dispositivos Conectados en indice principal:\",salida[0])\n",
    "\n",
    "except:\n",
    "print(\"Fecha: \", now,\"- No se insertaron datos de dispositivos conectados en indice principal\")"
   ]
  },
  {
   "cell_type": "code",
   "execution_count": 34,
   "metadata": {},
   "outputs": [
    {
     "data": {
      "text/plain": [
       "pandas.core.frame.DataFrame"
      ]
     },
     "execution_count": 34,
     "metadata": {},
     "output_type": "execute_result"
    }
   ],
   "source": [
    "type(mintic_03)"
   ]
  },
  {
   "cell_type": "code",
   "execution_count": 35,
   "metadata": {},
   "outputs": [
    {
     "ename": "KeyError",
     "evalue": "'centros.siteID'",
     "output_type": "error",
     "traceback": [
      "\u001b[0;31m---------------------------------------------------------------------------\u001b[0m",
      "\u001b[0;31mKeyError\u001b[0m                                  Traceback (most recent call last)",
      "\u001b[0;32m<ipython-input-35-d87440d75e9f>\u001b[0m in \u001b[0;36m<module>\u001b[0;34m\u001b[0m\n\u001b[0;32m----> 1\u001b[0;31m \u001b[0mmintic_03\u001b[0m \u001b[0;34m=\u001b[0m \u001b[0mpd\u001b[0m\u001b[0;34m.\u001b[0m\u001b[0mmerge\u001b[0m\u001b[0;34m(\u001b[0m\u001b[0mmintic_03\u001b[0m\u001b[0;34m,\u001b[0m  \u001b[0mcantDevWAN\u001b[0m\u001b[0;34m,\u001b[0m \u001b[0mon\u001b[0m\u001b[0;34m=\u001b[0m\u001b[0;34m[\u001b[0m\u001b[0;34m'centros.siteID'\u001b[0m\u001b[0;34m,\u001b[0m\u001b[0;34m'centros.fechaControl'\u001b[0m\u001b[0;34m]\u001b[0m\u001b[0;34m,\u001b[0m\u001b[0mhow\u001b[0m\u001b[0;34m=\u001b[0m\u001b[0;34m'left'\u001b[0m\u001b[0;34m)\u001b[0m\u001b[0;34m\u001b[0m\u001b[0;34m\u001b[0m\u001b[0m\n\u001b[0m\u001b[1;32m      2\u001b[0m \u001b[0;34m\u001b[0m\u001b[0m\n\u001b[1;32m      3\u001b[0m \u001b[0mmintic_03\u001b[0m\u001b[0;34m[\u001b[0m\u001b[0;34m'@timestamp'\u001b[0m\u001b[0;34m]\u001b[0m \u001b[0;34m=\u001b[0m \u001b[0mnow\u001b[0m\u001b[0;34m.\u001b[0m\u001b[0misoformat\u001b[0m\u001b[0;34m(\u001b[0m\u001b[0;34m)\u001b[0m\u001b[0;34m\u001b[0m\u001b[0;34m\u001b[0m\u001b[0m\n\u001b[1;32m      4\u001b[0m \u001b[0msalida\u001b[0m \u001b[0;34m=\u001b[0m \u001b[0mhelpers\u001b[0m\u001b[0;34m.\u001b[0m\u001b[0mbulk\u001b[0m\u001b[0;34m(\u001b[0m\u001b[0mes\u001b[0m\u001b[0;34m,\u001b[0m \u001b[0mdoc_generator_dis\u001b[0m\u001b[0;34m(\u001b[0m\u001b[0mmintic_03\u001b[0m\u001b[0;34m)\u001b[0m\u001b[0;34m)\u001b[0m\u001b[0;34m\u001b[0m\u001b[0;34m\u001b[0m\u001b[0m\n\u001b[1;32m      5\u001b[0m \u001b[0mprint\u001b[0m\u001b[0;34m(\u001b[0m\u001b[0;34m\"Fecha: \"\u001b[0m\u001b[0;34m,\u001b[0m \u001b[0mnow\u001b[0m\u001b[0;34m,\u001b[0m\u001b[0;34m\"- Datos Dispositivos Conectados en indice principal:\"\u001b[0m\u001b[0;34m,\u001b[0m\u001b[0msalida\u001b[0m\u001b[0;34m[\u001b[0m\u001b[0;36m0\u001b[0m\u001b[0;34m]\u001b[0m\u001b[0;34m)\u001b[0m\u001b[0;34m\u001b[0m\u001b[0;34m\u001b[0m\u001b[0m\n",
      "\u001b[0;32m/opt/anaconda3/lib/python3.8/site-packages/pandas/core/reshape/merge.py\u001b[0m in \u001b[0;36mmerge\u001b[0;34m(left, right, how, on, left_on, right_on, left_index, right_index, sort, suffixes, copy, indicator, validate)\u001b[0m\n\u001b[1;32m     72\u001b[0m     \u001b[0mvalidate\u001b[0m\u001b[0;34m=\u001b[0m\u001b[0;32mNone\u001b[0m\u001b[0;34m,\u001b[0m\u001b[0;34m\u001b[0m\u001b[0;34m\u001b[0m\u001b[0m\n\u001b[1;32m     73\u001b[0m ) -> \"DataFrame\":\n\u001b[0;32m---> 74\u001b[0;31m     op = _MergeOperation(\n\u001b[0m\u001b[1;32m     75\u001b[0m         \u001b[0mleft\u001b[0m\u001b[0;34m,\u001b[0m\u001b[0;34m\u001b[0m\u001b[0;34m\u001b[0m\u001b[0m\n\u001b[1;32m     76\u001b[0m         \u001b[0mright\u001b[0m\u001b[0;34m,\u001b[0m\u001b[0;34m\u001b[0m\u001b[0;34m\u001b[0m\u001b[0m\n",
      "\u001b[0;32m/opt/anaconda3/lib/python3.8/site-packages/pandas/core/reshape/merge.py\u001b[0m in \u001b[0;36m__init__\u001b[0;34m(self, left, right, how, on, left_on, right_on, axis, left_index, right_index, sort, suffixes, copy, indicator, validate)\u001b[0m\n\u001b[1;32m    650\u001b[0m             \u001b[0mself\u001b[0m\u001b[0;34m.\u001b[0m\u001b[0mright_join_keys\u001b[0m\u001b[0;34m,\u001b[0m\u001b[0;34m\u001b[0m\u001b[0;34m\u001b[0m\u001b[0m\n\u001b[1;32m    651\u001b[0m             \u001b[0mself\u001b[0m\u001b[0;34m.\u001b[0m\u001b[0mjoin_names\u001b[0m\u001b[0;34m,\u001b[0m\u001b[0;34m\u001b[0m\u001b[0;34m\u001b[0m\u001b[0m\n\u001b[0;32m--> 652\u001b[0;31m         ) = self._get_merge_keys()\n\u001b[0m\u001b[1;32m    653\u001b[0m \u001b[0;34m\u001b[0m\u001b[0m\n\u001b[1;32m    654\u001b[0m         \u001b[0;31m# validate the merge keys dtypes. We may need to coerce\u001b[0m\u001b[0;34m\u001b[0m\u001b[0;34m\u001b[0m\u001b[0;34m\u001b[0m\u001b[0m\n",
      "\u001b[0;32m/opt/anaconda3/lib/python3.8/site-packages/pandas/core/reshape/merge.py\u001b[0m in \u001b[0;36m_get_merge_keys\u001b[0;34m(self)\u001b[0m\n\u001b[1;32m   1003\u001b[0m                     \u001b[0;32mif\u001b[0m \u001b[0;32mnot\u001b[0m \u001b[0mis_rkey\u001b[0m\u001b[0;34m(\u001b[0m\u001b[0mrk\u001b[0m\u001b[0;34m)\u001b[0m\u001b[0;34m:\u001b[0m\u001b[0;34m\u001b[0m\u001b[0;34m\u001b[0m\u001b[0m\n\u001b[1;32m   1004\u001b[0m                         \u001b[0;32mif\u001b[0m \u001b[0mrk\u001b[0m \u001b[0;32mis\u001b[0m \u001b[0;32mnot\u001b[0m \u001b[0;32mNone\u001b[0m\u001b[0;34m:\u001b[0m\u001b[0;34m\u001b[0m\u001b[0;34m\u001b[0m\u001b[0m\n\u001b[0;32m-> 1005\u001b[0;31m                             \u001b[0mright_keys\u001b[0m\u001b[0;34m.\u001b[0m\u001b[0mappend\u001b[0m\u001b[0;34m(\u001b[0m\u001b[0mright\u001b[0m\u001b[0;34m.\u001b[0m\u001b[0m_get_label_or_level_values\u001b[0m\u001b[0;34m(\u001b[0m\u001b[0mrk\u001b[0m\u001b[0;34m)\u001b[0m\u001b[0;34m)\u001b[0m\u001b[0;34m\u001b[0m\u001b[0;34m\u001b[0m\u001b[0m\n\u001b[0m\u001b[1;32m   1006\u001b[0m                         \u001b[0;32melse\u001b[0m\u001b[0;34m:\u001b[0m\u001b[0;34m\u001b[0m\u001b[0;34m\u001b[0m\u001b[0m\n\u001b[1;32m   1007\u001b[0m                             \u001b[0;31m# work-around for merge_asof(right_index=True)\u001b[0m\u001b[0;34m\u001b[0m\u001b[0;34m\u001b[0m\u001b[0;34m\u001b[0m\u001b[0m\n",
      "\u001b[0;32m/opt/anaconda3/lib/python3.8/site-packages/pandas/core/generic.py\u001b[0m in \u001b[0;36m_get_label_or_level_values\u001b[0;34m(self, key, axis)\u001b[0m\n\u001b[1;32m   1561\u001b[0m             \u001b[0mvalues\u001b[0m \u001b[0;34m=\u001b[0m \u001b[0mself\u001b[0m\u001b[0;34m.\u001b[0m\u001b[0maxes\u001b[0m\u001b[0;34m[\u001b[0m\u001b[0maxis\u001b[0m\u001b[0;34m]\u001b[0m\u001b[0;34m.\u001b[0m\u001b[0mget_level_values\u001b[0m\u001b[0;34m(\u001b[0m\u001b[0mkey\u001b[0m\u001b[0;34m)\u001b[0m\u001b[0;34m.\u001b[0m\u001b[0m_values\u001b[0m\u001b[0;34m\u001b[0m\u001b[0;34m\u001b[0m\u001b[0m\n\u001b[1;32m   1562\u001b[0m         \u001b[0;32melse\u001b[0m\u001b[0;34m:\u001b[0m\u001b[0;34m\u001b[0m\u001b[0;34m\u001b[0m\u001b[0m\n\u001b[0;32m-> 1563\u001b[0;31m             \u001b[0;32mraise\u001b[0m \u001b[0mKeyError\u001b[0m\u001b[0;34m(\u001b[0m\u001b[0mkey\u001b[0m\u001b[0;34m)\u001b[0m\u001b[0;34m\u001b[0m\u001b[0;34m\u001b[0m\u001b[0m\n\u001b[0m\u001b[1;32m   1564\u001b[0m \u001b[0;34m\u001b[0m\u001b[0m\n\u001b[1;32m   1565\u001b[0m         \u001b[0;31m# Check for duplicates\u001b[0m\u001b[0;34m\u001b[0m\u001b[0;34m\u001b[0m\u001b[0;34m\u001b[0m\u001b[0m\n",
      "\u001b[0;31mKeyError\u001b[0m: 'centros.siteID'"
     ]
    }
   ],
   "source": [
    "mintic_03 = pd.merge(mintic_03,  cantDevWAN, on=['centros.siteID','centros.fechaControl'],how='left')\n",
    "\n",
    "mintic_03['@timestamp'] = now.isoformat()\n",
    "salida = helpers.bulk(es, doc_generator_dis(mintic_03))\n",
    "print(\"Fecha: \", now,\"- Datos Dispositivos Conectados en indice principal:\",salida[0])"
   ]
  },
  {
   "cell_type": "markdown",
   "metadata": {},
   "source": [
    "### Guardando fecha para control de ejecución"
   ]
  },
  {
   "cell_type": "markdown",
   "metadata": {},
   "source": [
    "* Se actualiza la fecha de control. Si el calculo supera la fecha hora actual, se asocia esta ultima."
   ]
  },
  {
   "cell_type": "code",
   "execution_count": null,
   "metadata": {},
   "outputs": [],
   "source": [
    "fecha_ejecucion = (datetime.strptime(fecha_max_mintic, '%Y-%m-%d %H:%M:%S')+timedelta(minutes=10)).strftime(\"%Y-%m-%d %H:%M:%S\")[0:15] + '0:00'    \n",
    "\n",
    "if fecha_ejecucion > str(now.strftime('%Y-%m-%d %H:%M:%S'))[0:15] + '0:00':\n",
    "    fecha_ejecucion = str(now.strftime('%Y-%m-%d %H:%M:%S'))[0:15] + '0:00'\n",
    "response = es.index(\n",
    "        index = indice_control,\n",
    "        id = 'jerarquia-conteos',\n",
    "        body = { 'jerarquia-conteos': 'jerarquia-conteos','conteos.fechaControl' : fecha_ejecucion}\n",
    ")\n",
    "print(\"actualizada fecha control de ejecucion:\",fecha_ejecucion)"
   ]
  },
  {
   "cell_type": "code",
   "execution_count": null,
   "metadata": {},
   "outputs": [],
   "source": []
  },
  {
   "cell_type": "code",
   "execution_count": null,
   "metadata": {},
   "outputs": [],
   "source": []
  }
 ],
 "metadata": {
  "kernelspec": {
   "display_name": "Python 3",
   "language": "python",
   "name": "python3"
  },
  "language_info": {
   "codemirror_mode": {
    "name": "ipython",
    "version": 3
   },
   "file_extension": ".py",
   "mimetype": "text/x-python",
   "name": "python",
   "nbconvert_exporter": "python",
   "pygments_lexer": "ipython3",
   "version": "3.8.5"
  }
 },
 "nbformat": 4,
 "nbformat_minor": 4
}
