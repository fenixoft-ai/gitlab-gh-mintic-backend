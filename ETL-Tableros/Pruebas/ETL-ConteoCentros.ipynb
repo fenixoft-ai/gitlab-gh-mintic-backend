{
 "cells": [
  {
   "cell_type": "markdown",
   "metadata": {},
   "source": [
    "¿Que hace este script?\n",
    "* Calcula para cada dispositivo de red: trafico.totales.traficoIN, trafico.totales.traficoOUT', trafico.totales.consumoGB'.\n",
    "* Calcula para cada site_id: trafico.totales.sitio.traficoIN, trafico.totales.sitio.traficoOUT, trafico.totales.sitio.consumoGB"
   ]
  },
  {
   "cell_type": "code",
   "execution_count": 56,
   "metadata": {},
   "outputs": [],
   "source": [
    "from elasticsearch import Elasticsearch, helpers\n",
    "from ssl import create_default_context\n",
    "import pandas as pd\n",
    "import numpy as np\n",
    "from datetime import datetime, timedelta\n",
    "import parametros\n",
    "import re"
   ]
  },
  {
   "cell_type": "markdown",
   "metadata": {},
   "source": [
    "## Conectando a ElasticSearch"
   ]
  },
  {
   "cell_type": "markdown",
   "metadata": {},
   "source": [
    "La ultima línea se utiliza para garantizar la ejecución de la consulta\n",
    "* timeout es el tiempo para cada ejecución\n",
    "* max_retries el número de intentos si la conexión falla\n",
    "* retry_on_timeout para activar los reitentos"
   ]
  },
  {
   "cell_type": "code",
   "execution_count": 57,
   "metadata": {},
   "outputs": [],
   "source": [
    "context = create_default_context(cafile=parametros.cafile)\n",
    "es = Elasticsearch(\n",
    "    parametros.servidor,\n",
    "    http_auth=(parametros.usuario_EC, parametros.password_EC),\n",
    "    scheme=\"https\",\n",
    "    port=parametros.puerto,\n",
    "    ssl_context=context,\n",
    "    timeout=60, max_retries=3, retry_on_timeout=True\n",
    ") "
   ]
  },
  {
   "cell_type": "markdown",
   "metadata": {},
   "source": [
    "### Calculando fechas para la ejecución"
   ]
  },
  {
   "cell_type": "markdown",
   "metadata": {},
   "source": [
    "* Se calculan las fechas para asociar al nombre del indice\n",
    "* fecha_hoy es usada para concatenar al nombre del indice principal previa inserción"
   ]
  },
  {
   "cell_type": "code",
   "execution_count": 58,
   "metadata": {},
   "outputs": [],
   "source": [
    "now = datetime.now()\n",
    "fecha_hoy = str(now.strftime(\"%Y.%m.%d\"))"
   ]
  },
  {
   "cell_type": "markdown",
   "metadata": {},
   "source": [
    "### Definiendo indice principal con fecha de hoy"
   ]
  },
  {
   "cell_type": "markdown",
   "metadata": {},
   "source": [
    "Estos valores se deben ajustar según ambiente. No es automático ya que no hay separación de ambientes"
   ]
  },
  {
   "cell_type": "code",
   "execution_count": 59,
   "metadata": {},
   "outputs": [],
   "source": [
    "indice = parametros.conteo_centros_index\n",
    "indice_control = parametros.tableros_mintic_control"
   ]
  },
  {
   "cell_type": "markdown",
   "metadata": {},
   "source": [
    "### Función para generar JSON compatible con ES"
   ]
  },
  {
   "cell_type": "code",
   "execution_count": 60,
   "metadata": {},
   "outputs": [],
   "source": [
    "def filterKeys(document):\n",
    "    return {key: document[key] for key in use_these_keys }"
   ]
  },
  {
   "cell_type": "markdown",
   "metadata": {},
   "source": [
    "### leyendo indice semilla-inventario"
   ]
  },
  {
   "cell_type": "markdown",
   "metadata": {},
   "source": [
    "En el script que ingesta semilla, trae la información de los centros de conexión administrados. Para el indice principal se requiere:\n",
    "\n",
    "* site_id como llave del centro de conexión.\n",
    "* Datos geográficos (Departamento, municipio, centro poblado, sede, energía, latitud, longitud, COD_ISO, entre otros)."
   ]
  },
  {
   "cell_type": "code",
   "execution_count": 61,
   "metadata": {},
   "outputs": [],
   "source": [
    "total_docs = 10000\n",
    "try:\n",
    "    response = es.search(\n",
    "        index= parametros.semilla_inventario_index,\n",
    "        body={\n",
    "               \"_source\": ['site_id','nombre_municipio', 'nombre_departamento', 'nombre_centro_pob', 'nombreSede' \n",
    "                           , 'energiadesc', 'latitud', 'longitud','COD_ISO','id_Beneficiario']\n",
    "        },\n",
    "        size=total_docs\n",
    "    )\n",
    "    #print(es.info())\n",
    "    elastic_docs = response[\"hits\"][\"hits\"]\n",
    "#     fields = {}\n",
    "#     for num, doc in enumerate(elastic_docs):\n",
    "#         source_data = doc[\"_source\"]\n",
    "#         for key, val in source_data.items():\n",
    "#             try:\n",
    "#                 fields[key] = np.append(fields[key], val)\n",
    "#             except KeyError:\n",
    "#                 fields[key] = np.array([val])\n",
    "\n",
    "#     datos_semilla = pd.DataFrame(dict([ (k,pd.Series(v)) for k,v in fields.items() ])) #pd.DataFrame(fields)\n",
    "    \n",
    "    datos_semilla = pd.DataFrame([x[\"_source\"] for x in elastic_docs])\n",
    "    \n",
    "except:\n",
    "    print(\"fecha:\",now,\"- Error en lectura de datos semilla\")\n",
    "    #exit()\n",
    "    "
   ]
  },
  {
   "cell_type": "markdown",
   "metadata": {},
   "source": [
    "Se valida latitud y longitud, se genera campo location y se renombran los campos de semilla"
   ]
  },
  {
   "cell_type": "code",
   "execution_count": 62,
   "metadata": {},
   "outputs": [],
   "source": [
    "def get_location(x,y='lat'):\n",
    "    patron = re.compile('^(\\-?\\d+(\\.\\d+)?),\\s*(\\-?\\d+(\\.\\d+)?)$') #patrón que debe cumplir\n",
    "    if (not patron.match(x) is None) and (str(x)!=''):\n",
    "        return x.replace(',','.')\n",
    "    else:\n",
    "        #Código a ejecutar si las coordenadas no son válidas\n",
    "        return '4.596389' if y=='lat' else '-74.074639'\n",
    "    \n",
    "datos_semilla['latitud'] = datos_semilla['latitud'].apply(lambda x:get_location(x,'lat'))\n",
    "datos_semilla['longitud'] = datos_semilla['longitud'].apply(lambda x:get_location(x,'lon'))\n",
    "datos_semilla = datos_semilla.drop(datos_semilla[(datos_semilla[\"longitud\"]=='a') | (datos_semilla[\"latitud\"]=='a')].index)\n",
    "datos_semilla['centros.location'] = datos_semilla['latitud'] + ',' + datos_semilla['longitud']\n",
    "datos_semilla['centros.location']=datos_semilla['centros.location'].str.replace('a,a','')\n",
    "datos_semilla.drop(columns=['latitud','longitud'],inplace=True)\n",
    "\n",
    "datos_semilla = datos_semilla.rename(columns={'nombre_municipio': 'centros.nombreMunicipio'\n",
    "                                              , 'nombre_departamento' : 'centros.nombreDepartamento'\n",
    "                                              , 'nombre_centro_pob': 'centros.localidad'\n",
    "                                              , 'nombreSede' : 'centros.nomCentroDigital'\n",
    "                                              , 'energiadesc' : 'centros.sistemaEnergia'\n",
    "                                              , 'COD_ISO' : 'centros.codISO'\n",
    "                                              , 'id_Beneficiario' : 'centros.idBeneficiario'})\n",
    "datos_semilla.fillna('', inplace=True)"
   ]
  },
  {
   "cell_type": "code",
   "execution_count": 77,
   "metadata": {},
   "outputs": [],
   "source": [
    "datos_semilla = datos_semilla.drop(datos_semilla[(datos_semilla[\"centros.location\"]=='')].index)"
   ]
  },
  {
   "cell_type": "code",
   "execution_count": 78,
   "metadata": {},
   "outputs": [
    {
     "data": {
      "text/html": [
       "<div>\n",
       "<style scoped>\n",
       "    .dataframe tbody tr th:only-of-type {\n",
       "        vertical-align: middle;\n",
       "    }\n",
       "\n",
       "    .dataframe tbody tr th {\n",
       "        vertical-align: top;\n",
       "    }\n",
       "\n",
       "    .dataframe thead th {\n",
       "        text-align: right;\n",
       "    }\n",
       "</style>\n",
       "<table border=\"1\" class=\"dataframe\">\n",
       "  <thead>\n",
       "    <tr style=\"text-align: right;\">\n",
       "      <th></th>\n",
       "      <th>centros.nomCentroDigital</th>\n",
       "      <th>centros.codISO</th>\n",
       "      <th>centros.localidad</th>\n",
       "      <th>site_id</th>\n",
       "      <th>centros.nombreDepartamento</th>\n",
       "      <th>centros.sistemaEnergia</th>\n",
       "      <th>centros.nombreMunicipio</th>\n",
       "      <th>centros.idBeneficiario</th>\n",
       "      <th>centros.location</th>\n",
       "    </tr>\n",
       "  </thead>\n",
       "  <tbody>\n",
       "    <tr>\n",
       "      <th>0</th>\n",
       "      <td>I. E. SAN ANTONIO DE PIOJÓ SEDE LOS OLIVOS</td>\n",
       "      <td>CO-ATL</td>\n",
       "      <td>LOS OLIVOS</td>\n",
       "      <td>22514-ZZZY767</td>\n",
       "      <td>ATLÁNTICO</td>\n",
       "      <td>RED INTERCONECTADA</td>\n",
       "      <td>PIOJÓ</td>\n",
       "      <td>22514</td>\n",
       "      <td>10.039416,-73.20525</td>\n",
       "    </tr>\n",
       "    <tr>\n",
       "      <th>1</th>\n",
       "      <td>I.E. MARTILLO - SEDE PRINCIPAL</td>\n",
       "      <td>CO-ATL</td>\n",
       "      <td>KRA 4 NO 2A-15</td>\n",
       "      <td>22519-ZZZY558</td>\n",
       "      <td>ATLÁNTICO</td>\n",
       "      <td>SIN INFORMACIÓN</td>\n",
       "      <td>PONEDERA</td>\n",
       "      <td>22519</td>\n",
       "      <td>6.99780241,-75.59734752</td>\n",
       "    </tr>\n",
       "    <tr>\n",
       "      <th>2</th>\n",
       "      <td>I.E. TECNICA AGROPECUARIA SAN CAYETANO DE GALL...</td>\n",
       "      <td>CO-ATL</td>\n",
       "      <td>CRA. 5 N. 5 - 58</td>\n",
       "      <td>22538-ZZZY571</td>\n",
       "      <td>ATLÁNTICO</td>\n",
       "      <td>SIN INFORMACIÓN</td>\n",
       "      <td>SABANALARGA</td>\n",
       "      <td>22538</td>\n",
       "      <td>10.83546085,-75.045541840</td>\n",
       "    </tr>\n",
       "    <tr>\n",
       "      <th>3</th>\n",
       "      <td>I.E. TÉCNICA JUAN V PADILLA</td>\n",
       "      <td>CO-ATL</td>\n",
       "      <td>VEREDA EL VAIVEN</td>\n",
       "      <td>11130-ZZZY429</td>\n",
       "      <td>ATLÁNTICO</td>\n",
       "      <td>SIN INFORMACIÓN</td>\n",
       "      <td>JUAN DE ACOSTA</td>\n",
       "      <td>11130</td>\n",
       "      <td>10.79876297,-74.92334914</td>\n",
       "    </tr>\n",
       "    <tr>\n",
       "      <th>4</th>\n",
       "      <td>I.E. TECNICA MARIA INMACULADA DE PITAL DE MEGUA</td>\n",
       "      <td>CO-ATL</td>\n",
       "      <td>KR 15 11 96</td>\n",
       "      <td>74366-ZGYO061</td>\n",
       "      <td>ATLÁNTICO</td>\n",
       "      <td>SIN INFORMACIÓN</td>\n",
       "      <td>BARANOA</td>\n",
       "      <td>74366</td>\n",
       "      <td>4.710277778,-75.01111111</td>\n",
       "    </tr>\n",
       "    <tr>\n",
       "      <th>...</th>\n",
       "      <td>...</td>\n",
       "      <td>...</td>\n",
       "      <td>...</td>\n",
       "      <td>...</td>\n",
       "      <td>...</td>\n",
       "      <td>...</td>\n",
       "      <td>...</td>\n",
       "      <td>...</td>\n",
       "      <td>...</td>\n",
       "    </tr>\n",
       "    <tr>\n",
       "      <th>6942</th>\n",
       "      <td>ESCUELA SANTA ISABEL</td>\n",
       "      <td>CO-VAU</td>\n",
       "      <td>COMUNIDAD SANTA ISABEL</td>\n",
       "      <td></td>\n",
       "      <td>VAUPÉS</td>\n",
       "      <td>SOLUCIÓN SOLAR</td>\n",
       "      <td>PACOA</td>\n",
       "      <td>67733</td>\n",
       "      <td>6.39026335,-73.138349330</td>\n",
       "    </tr>\n",
       "    <tr>\n",
       "      <th>6943</th>\n",
       "      <td>ESCUELA RURAL DE SAN LUIS DE PIEDRA ÑI</td>\n",
       "      <td>CO-VAU</td>\n",
       "      <td>COMUNIDAD DE SAN LUIS</td>\n",
       "      <td></td>\n",
       "      <td>VAUPÉS</td>\n",
       "      <td>SIN INFORMACIÓN</td>\n",
       "      <td>PACOA</td>\n",
       "      <td>70622</td>\n",
       "      <td>0.08164385,-70.07416384</td>\n",
       "    </tr>\n",
       "    <tr>\n",
       "      <th>6944</th>\n",
       "      <td>ESCUELA RURAL DE SANTA ROSA</td>\n",
       "      <td>CO-VAU</td>\n",
       "      <td>COMUNIDAD DE SANTA ROSA</td>\n",
       "      <td></td>\n",
       "      <td>VAUPÉS</td>\n",
       "      <td>SIN INFORMACIÓN</td>\n",
       "      <td>PACOA</td>\n",
       "      <td>70623</td>\n",
       "      <td>4.596389,-74.074639</td>\n",
       "    </tr>\n",
       "    <tr>\n",
       "      <th>6945</th>\n",
       "      <td>ESCUELA RURAL DE TOAKA</td>\n",
       "      <td>CO-VAU</td>\n",
       "      <td>COMUNIDAD DE TOAKA</td>\n",
       "      <td></td>\n",
       "      <td>VAUPÉS</td>\n",
       "      <td>SIN INFORMACIÓN</td>\n",
       "      <td>PACOA</td>\n",
       "      <td>70624</td>\n",
       "      <td>1.007644476,-71.25103723</td>\n",
       "    </tr>\n",
       "    <tr>\n",
       "      <th>6946</th>\n",
       "      <td>ESCUELA SAMUEL DE PUERTO ESPERANZA</td>\n",
       "      <td>CO-VAU</td>\n",
       "      <td>PUERTO ESPERANZA</td>\n",
       "      <td></td>\n",
       "      <td>VAUPÉS</td>\n",
       "      <td>NO TIENE ENERGÍA</td>\n",
       "      <td>CARURÚ</td>\n",
       "      <td>70625</td>\n",
       "      <td>2.56013117,-72.64258639</td>\n",
       "    </tr>\n",
       "  </tbody>\n",
       "</table>\n",
       "<p>6947 rows × 9 columns</p>\n",
       "</div>"
      ],
      "text/plain": [
       "                               centros.nomCentroDigital centros.codISO  \\\n",
       "0            I. E. SAN ANTONIO DE PIOJÓ SEDE LOS OLIVOS         CO-ATL   \n",
       "1                        I.E. MARTILLO - SEDE PRINCIPAL         CO-ATL   \n",
       "2     I.E. TECNICA AGROPECUARIA SAN CAYETANO DE GALL...         CO-ATL   \n",
       "3                           I.E. TÉCNICA JUAN V PADILLA         CO-ATL   \n",
       "4       I.E. TECNICA MARIA INMACULADA DE PITAL DE MEGUA         CO-ATL   \n",
       "...                                                 ...            ...   \n",
       "6942                               ESCUELA SANTA ISABEL         CO-VAU   \n",
       "6943             ESCUELA RURAL DE SAN LUIS DE PIEDRA ÑI         CO-VAU   \n",
       "6944                        ESCUELA RURAL DE SANTA ROSA         CO-VAU   \n",
       "6945                             ESCUELA RURAL DE TOAKA         CO-VAU   \n",
       "6946                 ESCUELA SAMUEL DE PUERTO ESPERANZA         CO-VAU   \n",
       "\n",
       "            centros.localidad        site_id centros.nombreDepartamento  \\\n",
       "0                  LOS OLIVOS  22514-ZZZY767                  ATLÁNTICO   \n",
       "1              KRA 4 NO 2A-15  22519-ZZZY558                  ATLÁNTICO   \n",
       "2            CRA. 5 N. 5 - 58  22538-ZZZY571                  ATLÁNTICO   \n",
       "3            VEREDA EL VAIVEN  11130-ZZZY429                  ATLÁNTICO   \n",
       "4                 KR 15 11 96  74366-ZGYO061                  ATLÁNTICO   \n",
       "...                       ...            ...                        ...   \n",
       "6942   COMUNIDAD SANTA ISABEL                                    VAUPÉS   \n",
       "6943    COMUNIDAD DE SAN LUIS                                    VAUPÉS   \n",
       "6944  COMUNIDAD DE SANTA ROSA                                    VAUPÉS   \n",
       "6945       COMUNIDAD DE TOAKA                                    VAUPÉS   \n",
       "6946         PUERTO ESPERANZA                                    VAUPÉS   \n",
       "\n",
       "     centros.sistemaEnergia centros.nombreMunicipio  centros.idBeneficiario  \\\n",
       "0        RED INTERCONECTADA                   PIOJÓ                   22514   \n",
       "1           SIN INFORMACIÓN                PONEDERA                   22519   \n",
       "2           SIN INFORMACIÓN             SABANALARGA                   22538   \n",
       "3           SIN INFORMACIÓN          JUAN DE ACOSTA                   11130   \n",
       "4           SIN INFORMACIÓN                 BARANOA                   74366   \n",
       "...                     ...                     ...                     ...   \n",
       "6942       SOLUCIÓN SOLAR                     PACOA                   67733   \n",
       "6943        SIN INFORMACIÓN                   PACOA                   70622   \n",
       "6944        SIN INFORMACIÓN                   PACOA                   70623   \n",
       "6945        SIN INFORMACIÓN                   PACOA                   70624   \n",
       "6946       NO TIENE ENERGÍA                  CARURÚ                   70625   \n",
       "\n",
       "               centros.location  \n",
       "0           10.039416,-73.20525  \n",
       "1       6.99780241,-75.59734752  \n",
       "2     10.83546085,-75.045541840  \n",
       "3      10.79876297,-74.92334914  \n",
       "4      4.710277778,-75.01111111  \n",
       "...                         ...  \n",
       "6942   6.39026335,-73.138349330  \n",
       "6943    0.08164385,-70.07416384  \n",
       "6944        4.596389,-74.074639  \n",
       "6945   1.007644476,-71.25103723  \n",
       "6946    2.56013117,-72.64258639  \n",
       "\n",
       "[6947 rows x 9 columns]"
      ]
     },
     "execution_count": 78,
     "metadata": {},
     "output_type": "execute_result"
    }
   ],
   "source": [
    "datos_semilla"
   ]
  },
  {
   "cell_type": "markdown",
   "metadata": {},
   "source": [
    "### leyendo indice cambium-devicedevices"
   ]
  },
  {
   "cell_type": "markdown",
   "metadata": {},
   "source": [
    "Se lee la información de los dispositivos de red monitoreados por Cambium. En esta lectura no hay referencia de fechas ya que solo hay una ocurrencia por MAC de dispositivo de red.\n",
    "\n",
    "* site_id es la llave para cruzar con cada centro de conexión.\n",
    "* mac, IP y name son datos básicos del dispositivo.\n",
    "* ap_group identifica los dispositivos como INDOOR u OUTDOOR"
   ]
  },
  {
   "cell_type": "code",
   "execution_count": 79,
   "metadata": {},
   "outputs": [],
   "source": [
    "total_docs = 30000\n",
    "try:\n",
    "    response = es.search(\n",
    "        index= parametros.cambium_d_d_index,\n",
    "        body={\n",
    "                    \"_source\": [\"site_id\",\"mac\",'name',\"ip\",\"ap_group\"]\n",
    "                  , \"query\": {\n",
    "                    \"match_all\": {}\n",
    "                  }\n",
    "        },\n",
    "        size=total_docs\n",
    "    )\n",
    "    #print(es.info())\n",
    "    elastic_docs = response[\"hits\"][\"hits\"]\n",
    "#     fields = {}\n",
    "#     for num, doc in enumerate(elastic_docs):\n",
    "#         source_data = doc[\"_source\"]\n",
    "#         for key, val in source_data.items():\n",
    "#             try:\n",
    "#                 fields[key] = np.append(fields[key], val)\n",
    "#             except KeyError:\n",
    "#                 fields[key] = np.array([val])\n",
    "\n",
    "#     datos_dev = pd.DataFrame(dict([ (k,pd.Series(v)) for k,v in fields.items() ])) #pd.DataFrame(fields)\n",
    "    \n",
    "    datos_dev = pd.DataFrame([x[\"_source\"] for x in elastic_docs])\n",
    "    \n",
    "    \n",
    "except:\n",
    "    exit()"
   ]
  },
  {
   "cell_type": "markdown",
   "metadata": {},
   "source": [
    "Se descartan registros con site_id vacios y se limpian los NaN del dataframe"
   ]
  },
  {
   "cell_type": "code",
   "execution_count": 80,
   "metadata": {},
   "outputs": [],
   "source": [
    "datos_dev.dropna(subset=['site_id'])\n",
    "datos_dev.fillna('', inplace=True)\n",
    "datos_dev = datos_dev.drop(datos_dev[(datos_dev['site_id']=='')].index)\n",
    "datos_dev.sort_values(['site_id','ap_group'], inplace=True)"
   ]
  },
  {
   "cell_type": "markdown",
   "metadata": {},
   "source": [
    "Se limpian datos mal formados de ap_group"
   ]
  },
  {
   "cell_type": "code",
   "execution_count": 81,
   "metadata": {},
   "outputs": [],
   "source": [
    "datos_dev['ap_group'] = datos_dev['ap_group'].str.split(\"-\", n = 1, expand = True)[0]\n",
    "datos_dev['ap_group'] = datos_dev['ap_group'].str.split(\"_\", n = 1, expand = True)[0]\n",
    "datos_dev = datos_dev.drop(datos_dev[(datos_dev['ap_group']=='')].index)"
   ]
  },
  {
   "cell_type": "code",
   "execution_count": 82,
   "metadata": {},
   "outputs": [],
   "source": [
    "datos_dev = datos_dev.drop_duplicates('mac')"
   ]
  },
  {
   "cell_type": "markdown",
   "metadata": {},
   "source": [
    "Se renombran campos según formato del indice final"
   ]
  },
  {
   "cell_type": "code",
   "execution_count": 83,
   "metadata": {},
   "outputs": [],
   "source": [
    "datos_dev = datos_dev.rename(columns={'ap_mac' : 'centros.macRed','ap_group': 'centros.apGroup'\n",
    "                                        , 'ip': 'centros.IP'\n",
    "                                        , 'mac' : 'centros.macRed'\n",
    "                                        , 'name' : 'centros.deviceName'})"
   ]
  },
  {
   "cell_type": "code",
   "execution_count": 84,
   "metadata": {},
   "outputs": [
    {
     "data": {
      "text/html": [
       "<div>\n",
       "<style scoped>\n",
       "    .dataframe tbody tr th:only-of-type {\n",
       "        vertical-align: middle;\n",
       "    }\n",
       "\n",
       "    .dataframe tbody tr th {\n",
       "        vertical-align: top;\n",
       "    }\n",
       "\n",
       "    .dataframe thead th {\n",
       "        text-align: right;\n",
       "    }\n",
       "</style>\n",
       "<table border=\"1\" class=\"dataframe\">\n",
       "  <thead>\n",
       "    <tr style=\"text-align: right;\">\n",
       "      <th></th>\n",
       "      <th>centros.apGroup</th>\n",
       "      <th>centros.IP</th>\n",
       "      <th>centros.deviceName</th>\n",
       "      <th>site_id</th>\n",
       "      <th>centros.macRed</th>\n",
       "    </tr>\n",
       "  </thead>\n",
       "  <tbody>\n",
       "    <tr>\n",
       "      <th>3325</th>\n",
       "      <td>INDOOR</td>\n",
       "      <td>172.25.41.219</td>\n",
       "      <td>32094-ZZZY229-EL-BRILLANTE-AP-INT</td>\n",
       "      <td>10003700</td>\n",
       "      <td>BC:E6:7C:5D:20:E1</td>\n",
       "    </tr>\n",
       "    <tr>\n",
       "      <th>3326</th>\n",
       "      <td>OUTDOOR</td>\n",
       "      <td>172.25.41.220</td>\n",
       "      <td>32094-ZZZY229-EL-BRILLANTE-AP-EXT2</td>\n",
       "      <td>10003700</td>\n",
       "      <td>BC:A9:93:0E:2F:15</td>\n",
       "    </tr>\n",
       "    <tr>\n",
       "      <th>3327</th>\n",
       "      <td>OUTDOOR</td>\n",
       "      <td>172.25.41.221</td>\n",
       "      <td>32094-ZZZY229-EL-BRILLANTE-AP-EXT1</td>\n",
       "      <td>10003700</td>\n",
       "      <td>BC:A9:93:0E:63:3E</td>\n",
       "    </tr>\n",
       "    <tr>\n",
       "      <th>3288</th>\n",
       "      <td>INDOOR</td>\n",
       "      <td>172.25.46.251</td>\n",
       "      <td>10501-ZZZY338-AP-INT</td>\n",
       "      <td>10501-ZZZY338</td>\n",
       "      <td>BC:E6:7C:ED:8A:FE</td>\n",
       "    </tr>\n",
       "    <tr>\n",
       "      <th>3289</th>\n",
       "      <td>OUTDOOR</td>\n",
       "      <td>172.25.46.253</td>\n",
       "      <td>10501-ZZZY338-AP-EXT2</td>\n",
       "      <td>10501-ZZZY338</td>\n",
       "      <td>BC:E6:7C:E8:3F:AE</td>\n",
       "    </tr>\n",
       "    <tr>\n",
       "      <th>...</th>\n",
       "      <td>...</td>\n",
       "      <td>...</td>\n",
       "      <td>...</td>\n",
       "      <td>...</td>\n",
       "      <td>...</td>\n",
       "    </tr>\n",
       "    <tr>\n",
       "      <th>1043</th>\n",
       "      <td>OUTDOOR</td>\n",
       "      <td>172.25.132.77</td>\n",
       "      <td>PRUEBA-LABORATORIO-AP-EXT2</td>\n",
       "      <td>PRUEBA-LABORATORIO</td>\n",
       "      <td>BC:E6:7C:E7:FC:2B</td>\n",
       "    </tr>\n",
       "    <tr>\n",
       "      <th>1044</th>\n",
       "      <td>OUTDOOR</td>\n",
       "      <td>172.25.132.76</td>\n",
       "      <td>PRUEBA-LABORATORIO-AP-EXT1</td>\n",
       "      <td>PRUEBA-LABORATORIO</td>\n",
       "      <td>BC:E6:7C:E7:FC:21</td>\n",
       "    </tr>\n",
       "    <tr>\n",
       "      <th>1426</th>\n",
       "      <td>INDOOR</td>\n",
       "      <td>172.25.117.11</td>\n",
       "      <td>47354-ZGYO835-AP-INT</td>\n",
       "      <td>TUMBATORO</td>\n",
       "      <td>BC:E6:7C:5F:3A:F1</td>\n",
       "    </tr>\n",
       "    <tr>\n",
       "      <th>1427</th>\n",
       "      <td>OUTDOOR</td>\n",
       "      <td>172.25.117.12</td>\n",
       "      <td>47354-ZGYO835-AP-EXT1</td>\n",
       "      <td>TUMBATORO</td>\n",
       "      <td>BC:E6:7C:E8:3F:8A</td>\n",
       "    </tr>\n",
       "    <tr>\n",
       "      <th>1428</th>\n",
       "      <td>OUTDOOR</td>\n",
       "      <td>172.25.117.13</td>\n",
       "      <td>47354-ZGYO835-AP-EXT2</td>\n",
       "      <td>TUMBATORO</td>\n",
       "      <td>BC:E6:7C:E8:3F:5E</td>\n",
       "    </tr>\n",
       "  </tbody>\n",
       "</table>\n",
       "<p>4271 rows × 5 columns</p>\n",
       "</div>"
      ],
      "text/plain": [
       "     centros.apGroup     centros.IP                  centros.deviceName  \\\n",
       "3325          INDOOR  172.25.41.219   32094-ZZZY229-EL-BRILLANTE-AP-INT   \n",
       "3326         OUTDOOR  172.25.41.220  32094-ZZZY229-EL-BRILLANTE-AP-EXT2   \n",
       "3327         OUTDOOR  172.25.41.221  32094-ZZZY229-EL-BRILLANTE-AP-EXT1   \n",
       "3288          INDOOR  172.25.46.251                10501-ZZZY338-AP-INT   \n",
       "3289         OUTDOOR  172.25.46.253               10501-ZZZY338-AP-EXT2   \n",
       "...              ...            ...                                 ...   \n",
       "1043         OUTDOOR  172.25.132.77          PRUEBA-LABORATORIO-AP-EXT2   \n",
       "1044         OUTDOOR  172.25.132.76          PRUEBA-LABORATORIO-AP-EXT1   \n",
       "1426          INDOOR  172.25.117.11                47354-ZGYO835-AP-INT   \n",
       "1427         OUTDOOR  172.25.117.12               47354-ZGYO835-AP-EXT1   \n",
       "1428         OUTDOOR  172.25.117.13               47354-ZGYO835-AP-EXT2   \n",
       "\n",
       "                 site_id     centros.macRed  \n",
       "3325            10003700  BC:E6:7C:5D:20:E1  \n",
       "3326            10003700  BC:A9:93:0E:2F:15  \n",
       "3327            10003700  BC:A9:93:0E:63:3E  \n",
       "3288       10501-ZZZY338  BC:E6:7C:ED:8A:FE  \n",
       "3289       10501-ZZZY338  BC:E6:7C:E8:3F:AE  \n",
       "...                  ...                ...  \n",
       "1043  PRUEBA-LABORATORIO  BC:E6:7C:E7:FC:2B  \n",
       "1044  PRUEBA-LABORATORIO  BC:E6:7C:E7:FC:21  \n",
       "1426           TUMBATORO  BC:E6:7C:5F:3A:F1  \n",
       "1427           TUMBATORO  BC:E6:7C:E8:3F:8A  \n",
       "1428           TUMBATORO  BC:E6:7C:E8:3F:5E  \n",
       "\n",
       "[4271 rows x 5 columns]"
      ]
     },
     "execution_count": 84,
     "metadata": {},
     "output_type": "execute_result"
    }
   ],
   "source": [
    "datos_dev"
   ]
  },
  {
   "cell_type": "markdown",
   "metadata": {},
   "source": [
    "### Trae la ultima fecha para control de ejecución"
   ]
  },
  {
   "cell_type": "markdown",
   "metadata": {},
   "source": [
    "Cuando en el rango de tiempo de la ejecución, no se insertan nuevos valores, las fecha maxima en indice mintic no aumenta, por tanto se usa esta fecha de control para garantizar que incremente el bucle de ejecución"
   ]
  },
  {
   "cell_type": "code",
   "execution_count": 85,
   "metadata": {},
   "outputs": [
    {
     "name": "stdout",
     "output_type": "stream",
     "text": [
      "ultima fecha para control de ejecucion: 2021-05-01 00:00:00\n"
     ]
    }
   ],
   "source": [
    "total_docs = 1\n",
    "try:\n",
    "    response = es.search(\n",
    "        index= indice_control,\n",
    "        body={\n",
    "               \"_source\": [\"conteos.fechaControl\"],\n",
    "              \"query\": {\n",
    "                \"bool\": {\n",
    "                  \"filter\": [\n",
    "                  {\n",
    "                    \"exists\": {\n",
    "                      \"field\":\"jerarquia-conteos\"\n",
    "                    }\n",
    "                  }\n",
    "                  ]\n",
    "                }\n",
    "              }\n",
    "        },\n",
    "        size=total_docs\n",
    "    )\n",
    "    #print(es.info())\n",
    "    elastic_docs = response[\"hits\"][\"hits\"]\n",
    "    fields = {}\n",
    "    for num, doc in enumerate(elastic_docs):\n",
    "        fecha_ejecucion = doc[\"_source\"]['tablero06.fechaControl']\n",
    "except:\n",
    "    fecha_ejecucion = '2021-05-01 00:00:00'\n",
    "if response[\"hits\"][\"hits\"] == []:\n",
    "    fecha_ejecucion = '2021-05-01 00:00:00'\n",
    "print(\"ultima fecha para control de ejecucion:\",fecha_ejecucion)"
   ]
  },
  {
   "cell_type": "markdown",
   "metadata": {},
   "source": [
    "## Se lee la información de cambium device performance"
   ]
  },
  {
   "cell_type": "markdown",
   "metadata": {},
   "source": [
    " Se toma los valores de dispositivos de red y su desempeño.\n",
    " * mac del dispositivo de red\n",
    " * timestamp es la fecha y hora de la medición\n",
    " * radio.* volumen de datos descargados(r) y cargados(t)"
   ]
  },
  {
   "cell_type": "code",
   "execution_count": 86,
   "metadata": {},
   "outputs": [],
   "source": [
    "def traePerformance(fecha_max,fecha_tope):\n",
    "    total_docs = 5000000\n",
    "    response = es.search(\n",
    "        index= parametros.cambium_d_p_index,\n",
    "        body={\n",
    "                \"_source\": [\"mac\",\"timestamp\",\"radio.5ghz.rx_bps\",\n",
    "                           \"radio.5ghz.tx_bps\",\"radio.24ghz.rx_bps\"\n",
    "                          ,\"radio.24ghz.tx_bps\"]\n",
    "              , \"query\": {\n",
    "                  \"range\": {\n",
    "                    \"timestamp\": {\n",
    "                      \"gte\": fecha_max,\n",
    "                      \"lt\": fecha_tope\n",
    "                    }\n",
    "                  }\n",
    "              }\n",
    "        },\n",
    "        size=total_docs\n",
    "    )\n",
    "    elastic_docs = response[\"hits\"][\"hits\"]\n",
    "#     fields = {}\n",
    "#     for num, doc in enumerate(elastic_docs):\n",
    "#         source_data = doc[\"_source\"]\n",
    "#         for key, val in source_data.items():\n",
    "#             try:\n",
    "#                 fields[key] = np.append(fields[key], val)\n",
    "#             except KeyError:\n",
    "#                 fields[key] = np.array([val])\n",
    "\n",
    "#     return pd.DataFrame(dict([ (k,pd.Series(v)) for k,v in fields.items() ]))\n",
    "\n",
    "    return pd.DataFrame([x[\"_source\"] for x in elastic_docs])"
   ]
  },
  {
   "cell_type": "markdown",
   "metadata": {},
   "source": [
    "### Lanzando  ejecución de consulta"
   ]
  },
  {
   "cell_type": "markdown",
   "metadata": {},
   "source": [
    "* Se calcula rango en base a la fecha de control. Para este caso es de 10 minutos.\n",
    "* Se ejecuta la función de consulta con el rango de fechas.\n",
    "* Si no retorna datos se incrementa el rango y se ejecuta nuevamente. Este proceso se repite hasta conseguir datos o hasta que el rango de ejecución alcance la fecha y hora actual."
   ]
  },
  {
   "cell_type": "code",
   "execution_count": 73,
   "metadata": {},
   "outputs": [],
   "source": [
    "fecha_max_mintic = fecha_ejecucion\n",
    "fecha_tope_mintic = (datetime.strptime(fecha_max_mintic, '%Y-%m-%d %H:%M:%S')+timedelta(minutes=10)-timedelta(seconds=1)).strftime(\"%Y-%m-%d %H:%M:%S\")\n",
    "datos_performance = traePerformance(fecha_max_mintic,fecha_tope_mintic)\n",
    "\n",
    "if datos_performance is None or datos_performance.empty:\n",
    "    while (datos_performance is None or datos_performance.empty) and ((datetime.strptime(fecha_max_mintic[0:10], '%Y-%m-%d').strftime(\"%Y-%m-%d %H:%M:%S\")) < str(now.strftime(\"%Y-%m-%d %H:%M:%S\"))):\n",
    "        fecha_max_mintic = (datetime.strptime(fecha_max_mintic, '%Y-%m-%d %H:%M:%S')+timedelta(minutes=10)).strftime(\"%Y-%m-%d %H:%M:%S\")\n",
    "        fecha_tope_mintic = (datetime.strptime(fecha_tope_mintic, '%Y-%m-%d %H:%M:%S')+timedelta(minutes=10)).strftime(\"%Y-%m-%d %H:%M:%S\")\n",
    "        datos_performance = traePerformance(fecha_max_mintic,fecha_tope_mintic)\n",
    "else:\n",
    "    pass"
   ]
  },
  {
   "cell_type": "code",
   "execution_count": 74,
   "metadata": {},
   "outputs": [],
   "source": [
    "#datos_performance = traePerformance('2021-06-10 09:00:00','2021-06-10 10:00:00')"
   ]
  },
  {
   "cell_type": "markdown",
   "metadata": {},
   "source": [
    "funcion para insertar en indice: "
   ]
  },
  {
   "cell_type": "code",
   "execution_count": 75,
   "metadata": {},
   "outputs": [],
   "source": [
    "use_these_keys = ['centro.nomCentroDigital',\n",
    "                  'centro.codISO',\n",
    "                  'centro.localidad',\n",
    "                  'centro.siteID',\n",
    "                  'centro.nombreDepartamento',\n",
    "                  'centro.sistemaEnergia',\n",
    "                  'centro.nombreMunicipio',\n",
    "                  'centro.idBeneficiario',\n",
    "                  'centro.apGroup',\n",
    "                  'centro.IP',\n",
    "                  'centro.deviceName',\n",
    "                  'centro.macRed',\n",
    "                  'totales.centro.fechaControl',\n",
    "                  'totales.centro.traficoIN',\n",
    "                  'totales.centro.traficoOUT',\n",
    "                  'totales.centro.consumoGB',\n",
    "                  'totales.centro.fecha',\n",
    "                  'totales.centro.anyo',\n",
    "                  'totales.centro.mes',\n",
    "                  'totales.centro.dia',\n",
    "                  'totales.centro.hora',\n",
    "                  'totales.centro.minuto',\n",
    "                  'nombreDepartamento',\n",
    "                    'nombreMunicipio',\n",
    "                    'idBeneficiario',\n",
    "                    'fecha',\n",
    "                    'anyo',\n",
    "                    'mes',\n",
    "                    'dia',\n",
    "                  '@timestamp']\n",
    "def doc_generator(df):\n",
    "    df_iter = df.iterrows()\n",
    "    for index, document in df_iter:\n",
    "        yield {\n",
    "                \"_index\": indice, \n",
    "                \"_id\": f\"{'consumo-' + document['centro.siteID'] + '-' + document['centro.macRed'] + '-' +document['totales.centro.fechaControl']}\",\n",
    "                \"_source\": filterKeys(document),\n",
    "            }"
   ]
  },
  {
   "cell_type": "markdown",
   "metadata": {},
   "source": [
    "# Insertando consumo a indice "
   ]
  },
  {
   "cell_type": "markdown",
   "metadata": {},
   "source": [
    "* Calculo de indicadores de consumos para cada AP. \n",
    "* Se toman los valores de rx y tx como descarga y carga\n",
    "* de datos_dev se toma el site_id y el ap_group"
   ]
  },
  {
   "cell_type": "code",
   "execution_count": null,
   "metadata": {},
   "outputs": [],
   "source": []
  },
  {
   "cell_type": "code",
   "execution_count": 76,
   "metadata": {},
   "outputs": [
    {
     "name": "stdout",
     "output_type": "stream",
     "text": [
      "Fecha:  2021-07-29 13:46:29.405156 - No se insertaron datos de consumos en indice principal\n"
     ]
    }
   ],
   "source": [
    "\n",
    "try:\n",
    "    datos_performance['fecha_control'] = datos_performance[\"timestamp\"].str[0:-4] + '0:00'\n",
    "    datos_performance.rename(columns={'mac': 'centro.macRed'}, inplace=True)\n",
    "    datos_performance.replace('','0',inplace=True)\n",
    "    datos_performance.fillna({'radio.5ghz.rx_bps':0, 'radio.5ghz.tx_bps':0,\n",
    "                      'radio.24ghz.rx_bps':0, 'radio.24ghz.tx_bps':0 },inplace=True)\n",
    "    datos_performance[['radio.5ghz.rx_bps','radio.5ghz.tx_bps','radio.24ghz.rx_bps','radio.24ghz.tx_bps']] = datos_performance[['radio.5ghz.rx_bps','radio.5ghz.tx_bps','radio.24ghz.rx_bps','radio.24ghz.tx_bps']].astype(int)\n",
    "\n",
    "    aux_performance=datos_performance[['centro.macRed','fecha_control'\n",
    "                                       ,'radio.5ghz.rx_bps'\n",
    "                                       ,'radio.5ghz.tx_bps'\n",
    "                                       ,'radio.24ghz.rx_bps'\n",
    "                                       ,'radio.24ghz.tx_bps']].groupby(['centro.macRed','fecha_control']).agg(['sum']).reset_index()\n",
    "    aux_performance.columns = aux_performance.columns.droplevel(1)\n",
    "    aux_performance['totales.centro.traficoIN_aux'] = aux_performance['radio.5ghz.rx_bps'] + aux_performance['radio.24ghz.rx_bps']\n",
    "    aux_performance['totales.centro.traficoOUT_aux'] = aux_performance['radio.5ghz.tx_bps'] + aux_performance['radio.24ghz.tx_bps']\n",
    "    \n",
    "    aux_performance = pd.merge(aux_performance, datos_dev, on='centro.macRed',how='inner')\n",
    "    mintic_02 = pd.merge(datos_semilla,  aux_performance, on='site_id',how='inner')\n",
    "    \n",
    "    #La información de tráfico se convierte a GigaBytes y se toman 6 decimales\n",
    "    mintic_02['totales.centro.traficoIN'] = round((mintic_02['totales.centro.traficoIN_aux']/float(1<<30)),6)\n",
    "    mintic_02['totales.centro.traficoOUT'] = round((mintic_02['totales.centro.traficoOUT_aux']/float(1<<30)),6)\n",
    "    mintic_02['totales.centro.consumoGB'] = mintic_02['totales.centro.traficoIN'] + mintic_02['totales.centro.traficoOUT']\n",
    "    #Se totaliza entrante y saliente\n",
    "    mintic_02['totales.centro.consumoGB'] = round(mintic_02['totales.centro.consumoGB'],6)\n",
    "\n",
    "    ### Generando columnas con fecha, anyo, mes, dia, hora y minuto por separado\n",
    "    mintic_02[\"totales.centro.fecha\"] = mintic_02[\"fecha_control\"].str.split(\" \", n = 1, expand = True)[0]\n",
    "    mintic_02[\"totales.centro.hora\"] = mintic_02[\"fecha_control\"].str.split(\" \", n = 1, expand = True)[1].str.split(\":\", n = 2, expand = True)[0]\n",
    "    mintic_02[\"totales.centro.minuto\"] = mintic_02[\"fecha_control\"].str.split(\" \", n = 1, expand = True)[1].str.split(\":\", n = 2, expand = True)[1]\n",
    "    mintic_02[\"totales.centro.anyo\"] = mintic_02[\"totales.centro.fecha\"].str[0:4]\n",
    "    mintic_02[\"totales.centro.mes\"] = mintic_02[\"totales.centro.fecha\"].str[5:7]\n",
    "    mintic_02[\"totales.centro.dia\"] = mintic_02[\"totales.centro.fecha\"].str[8:10]\n",
    "    ### Renombrado de campos\n",
    "    mintic_02.rename(columns={'site_id': 'centro.siteID'\n",
    "                             ,'fecha_control' : 'totales.centro.fechaControl'}, inplace=True)\n",
    "\n",
    "    ##nulos a cero\n",
    "    mintic_02.fillna({'totales.centro.consumoGB':0,\n",
    "                      'totales.centro.traficoIN':0,\n",
    "                      'totales.centro.traficoOUT':0\n",
    "                      },inplace=True)\n",
    "    #cambia valores a tipo float\n",
    "    mintic_02[['totales.centro.consumoGB','totales.centro.traficoIN','totales.centro.traficoOUT']] = mintic_02[['totales.centro.consumoGB','totales.centro.traficoIN','totales.centro.traficoOUT']].astype(float)\n",
    "    \n",
    "    mintic_02['nombreDepartamento'] = mintic_02['centro.nombreDepartamento']\n",
    "    mintic_02['nombreMunicipio'] = mintic_02['centro.nombreMunicipio']\n",
    "    mintic_02['idBeneficiario'] = mintic_02['centro.idBeneficiario']\n",
    "    mintic_02['fecha'] = mintic_02['totales.centro.fecha']\n",
    "    mintic_02['anyo'] = mintic_02['totales.centro.anyo']\n",
    "    mintic_02['mes'] = mintic_02['totales.centro.mes']\n",
    "    mintic_02['dia'] = mintic_02['totales.centro.dia']\n",
    "    mintic_02['@timestamp'] = now.isoformat()\n",
    "    salida = helpers.bulk(es, doc_generator(mintic_02))\n",
    "    print(\"Fecha: \", now,\"- Datos Trafico Consumos en indice principal:\",salida[0])\n",
    "except:\n",
    "    print(\"Fecha: \", now,\"- No se insertaron datos de consumos en indice principal\")"
   ]
  },
  {
   "cell_type": "markdown",
   "metadata": {},
   "source": [
    "## En otra  jerarquía se escriben los dispositivos conectados"
   ]
  },
  {
   "cell_type": "markdown",
   "metadata": {},
   "source": [
    "Se toma el dataframe del proceso anterior para realizar el siguiente proceso:\n",
    "* Se cuentan la cantidad de dispositivos WAN/LAN (OUTDOOR/INDOOR), agrupando por fecha y sitio\n",
    "* Cantidad dispositivos WAN/LAN conectados se calcula validando cuando son OUTDOOR/INDOOR y tienen trafico(traficoOUT)\n",
    "* Cantidad de dispositivos desconectados, restando los dos anteriores\n",
    "\n",
    "Datos generados\n",
    "* trafico.totales.cantDevWAN\n",
    "* trafico.totales.cantDevLAN\n",
    "* trafico.totales.cantDevConectadosWAN\n",
    "* trafico.totales.cantDevDesconectadosWAN\n",
    "* trafico.totales.cantDevConectadosLAN\n",
    "* trafico.totales.cantDevDesconectadosLAN\n",
    "* trafico.totales.cantDev"
   ]
  },
  {
   "cell_type": "code",
   "execution_count": 48,
   "metadata": {},
   "outputs": [],
   "source": [
    "try:\n",
    "    mintic_03 = mintic_02[['centro.nomCentroDigital',\n",
    "                      'centro.codISO',\n",
    "                      'centro.localidad',\n",
    "                      'centro.siteID',\n",
    "                      'centro.nombreDepartamento',\n",
    "                      'centro.sistemaEnergia',\n",
    "                      'centro.nombreMunicipio',\n",
    "                      'centro.idBeneficiario',\n",
    "                      'centro.location',\n",
    "                      'centro.apGroup',\n",
    "                      'totales.centro.fechaControl',\n",
    "                      'totales.centro.fecha',\n",
    "                      'totales.centro.anyo',\n",
    "                      'totales.centro.mes',\n",
    "                      'totales.centro.dia',\n",
    "                      'totales.centro.hora',\n",
    "                      'totales.centro.minuto',\n",
    "                      'totales.centro.traficoIN',\n",
    "                      'totales.centro.traficoOUT',\n",
    "                      'totales.centro.consumoGB',]].groupby(['centro.nomCentroDigital',\n",
    "                                                              'centro.codISO',\n",
    "                                                              'centro.localidad',\n",
    "                                                              'centro.siteID',\n",
    "                                                              'centro.nombreDepartamento',\n",
    "                                                              'centro.sistemaEnergia',\n",
    "                                                              'centro.nombreMunicipio',\n",
    "                                                              'centro.idBeneficiario',\n",
    "                                                              'totales.centro.fechaControl',\n",
    "                                                              'totales.centro.fecha',\n",
    "                                                              'totales.centro.anyo',\n",
    "                                                              'totales.centro.mes',\n",
    "                                                              'totales.centro.dia',\n",
    "                                                              'totales.centro.hora',\n",
    "                                                              'totales.centro.minuto']).agg(['sum']).reset_index()\n",
    "    mintic_03.columns = mintic_03.columns.droplevel(1)\n",
    "    mintic_03.rename(columns={'totales.centro.traficoIN' : 'totales.sitio.centro.traficoIN'\n",
    "                          ,'totales.centro.traficoOUT' : 'totales.sitio.centro.traficoOUT'\n",
    "                          ,'totales.centro.consumoGB' : 'totales.sitio.centro.consumoGB'\n",
    "                         }, inplace=True)\n",
    "except:\n",
    "    pass"
   ]
  },
  {
   "cell_type": "markdown",
   "metadata": {},
   "source": [
    "Funcion para insertar en indice la cantidad de dispositivos conectados \n",
    "* la lista use_these_keys se usa para referenciar cuales campos del dataframe irán al indice final. si los datos no se declaran en este, no se insertarán\n"
   ]
  },
  {
   "cell_type": "code",
   "execution_count": 49,
   "metadata": {},
   "outputs": [],
   "source": [
    "use_these_keys = ['centro.nomCentroDigital',\n",
    "                  'centro.codISO',\n",
    "                  'centro.localidad',\n",
    "                  'centro.siteID',\n",
    "                  'centro.nombreDepartamento',\n",
    "                  'centro.sistemaEnergia',\n",
    "                  'centro.nombreMunicipio',\n",
    "                  'centro.idBeneficiario',\n",
    "                  'centro.location',\n",
    "                  'centro.apGroup',\n",
    "                  'totales.centro.fechaControl',\n",
    "                  'totales.centro.cantDevWAN',\n",
    "                  'totales.centro.cantDevConectadosWAN',\n",
    "                  'totales.centro.cantDevDesconectadosWAN',\n",
    "                  'totales.centro.cantDevLAN',\n",
    "                  'totales.centro.cantDevConectadosLAN',\n",
    "                  'totales.centro.cantDevDesconectadosLAN',\n",
    "                  'totales.centro.cantDev',\n",
    "                  'totales.centro.cantDevConectados',\n",
    "                  'totales.centro.cantDevDesconectados',\n",
    "                  'totales.centro.fecha',\n",
    "                  'totales.centro.anyo',\n",
    "                  'totales.centro.mes',\n",
    "                  'totales.centro.dia',\n",
    "                  'totales.centro.hora',\n",
    "                  'totales.centro.minuto',\n",
    "                  'totales.sitio.centro.traficoIN',\n",
    "                  'totales.sitio.centro.traficoOUT',\n",
    "                  'totales.sitio.centro.consumoGB',\n",
    "                  '@timestamp']\n",
    "\n",
    "def doc_generator_dis(df):\n",
    "    df_iter = df.iterrows()\n",
    "    for index, document in df_iter:\n",
    "        yield {\n",
    "                \"_index\": indice, \n",
    "                \"_id\": f\"{'Conectados-' + document['centro.siteID'] + '-' +document['totales.centro.fechaControl']}\",\n",
    "                \"_source\": filterKeys(document),\n",
    "            }\n"
   ]
  },
  {
   "cell_type": "markdown",
   "metadata": {},
   "source": [
    "# Insertando "
   ]
  },
  {
   "cell_type": "code",
   "execution_count": 50,
   "metadata": {},
   "outputs": [
    {
     "name": "stdout",
     "output_type": "stream",
     "text": [
      "Fecha:  2021-07-29 13:43:29.079575 - No se insertaron datos de dispositivos conectados en indice principal\n"
     ]
    }
   ],
   "source": [
    "try:\n",
    "    cantDevWAN = mintic_02[(mintic_02['centro.apGroup']=='OUTDOOR')][['totales.centro.fechaControl','centro.macRed','centro.siteID']].groupby(['centro.siteID','totales.centro.fechaControl'])['centro.macRed'].nunique().reset_index()    \n",
    "    cantDevWAN.rename(columns={'centro.macRed': 'totales.centro.cantDevWAN'}, inplace=True)\n",
    "    mintic_03 = pd.merge(mintic_03,  cantDevWAN, on=['centro.siteID','totales.centro.fechaControl'],how='left')\n",
    "\n",
    "    cantDevConectadosWAN = mintic_02[(mintic_02['totales.centro.traficoOUT']>0) & (mintic_02['centro.apGroup']=='OUTDOOR')][['totales.centro.fechaControl','centro.macRed','centro.siteID']].groupby(['centro.siteID','totales.centro.fechaControl'])['centro.macRed'].nunique().reset_index()\n",
    "    cantDevConectadosWAN.rename(columns={'centro.macRed': 'totales.centro.cantDevConectadosWAN'}, inplace=True)\n",
    "    mintic_03 = pd.merge(mintic_03, cantDevConectadosWAN, on=['centro.siteID','totales.centro.fechaControl'],how='left')\n",
    "    mintic_03.fillna({'totales.centro.cantDevWAN':0,\n",
    "                      'totales.centro.cantDevConectadosWAN':0\n",
    "                      },inplace=True)\n",
    "    mintic_03['totales.centro.cantDevDesconectadosWAN'] = mintic_03['totales.centro.cantDevWAN'] - mintic_03['totales.centro.cantDevConectadosWAN']\n",
    "\n",
    "    #La misma lógica se aplica para calcular las cantidades para dispositivos LAN, pero filtrando los INDOOR\n",
    "    cantDevLAN = mintic_02[(mintic_02['centro.apGroup']=='INDOOR')][['totales.centro.fechaControl','centro.macRed','centro.siteID']].groupby(['centro.siteID','totales.centro.fechaControl'])['centro.macRed'].nunique().reset_index()\n",
    "    cantDevLAN.rename(columns={'centro.macRed': 'totales.centro.cantDevLAN'}, inplace=True)\n",
    "    mintic_03 = pd.merge(mintic_03,  cantDevLAN, on=['centro.siteID','totales.centro.fechaControl'],how='left')\n",
    "\n",
    "    cantDevConectadosLAN = mintic_02[~(mintic_02['totales.centro.traficoIN']>0) & (mintic_02['centro.apGroup']=='INDOOR')][['totales.centro.fechaControl','centro.macRed','centro.siteID']].groupby(['centro.siteID','totales.centro.fechaControl'])['centro.macRed'].nunique().reset_index()\n",
    "    cantDevConectadosLAN.rename(columns={'centro.macRed': 'totales.centro.cantDevConectadosLAN'}, inplace=True)\n",
    "\n",
    "    mintic_03 = pd.merge(mintic_03, cantDevConectadosLAN, on=['centro.siteID','totales.centro.fechaControl'],how='left')\n",
    "    mintic_03.fillna({'totales.centro.cantDevLAN':0,\n",
    "                      'totales.centro.cantDevConectadosLAN':0\n",
    "                      },inplace=True)\n",
    "    mintic_03['totales.centro.cantDevDesconectadosLAN'] = mintic_03['totales.centro.cantDevLAN'] - mintic_03['totales.centro.cantDevConectadosLAN']\n",
    "\n",
    "    mintic_03.fillna({'totales.centro.cantDevConectadosWAN':0,\n",
    "                      'totales.centro.cantDevDesconectadosWAN':0,\n",
    "                      'totales.centro.cantDevConectadosLAN':0,\n",
    "                      'totales.centro.cantDevDesconectadosLAN':0,\n",
    "                      'totales.centro.sitio.traficoIN':0,\n",
    "                      'totales.centro.sitio.traficoOUT':0,\n",
    "                      'totales.centro.sitio.consumoGB':0\n",
    "                      },inplace=True)\n",
    "    mintic_03['totales.centro.cantDev'] = mintic_03['totales.centro.cantDevLAN'] + mintic_03['totales.centro.cantDevWAN']\n",
    "    mintic_03[['totales.centro.cantDev','totales.centro.cantDevConectadosWAN','totales.centro.cantDevDesconectadosWAN','totales.centro.cantDevConectadosLAN','totales.centro.cantDevDesconectadosLAN']] = mintic_03[['totales.centro.cantDev','totales.centro.cantDevConectadosWAN','totales.centro.cantDevDesconectadosWAN','totales.centro.cantDevConectadosLAN','totales.centro.cantDevDesconectadosLAN']].astype(int)\n",
    "\n",
    "    mintic_03['totales.centro.cantDevConectados'] = mintic_03['totales.centro.cantDevConectadosWAN'] + mintic_03['totales.centro.cantDevConectadosLAN']\n",
    "    mintic_03['totales.centro.cantDevDesconectados'] = mintic_03['totales.centro.cantDevDesconectadosLAN'] + mintic_03['totales.centro.cantDevDesconectadosWAN']\n",
    "    mintic_03[['totales.centro.cantDevConectados'\n",
    "              ,'totales.centro.cantDevDesconectados'\n",
    "              ,'totales.centro.cantDevWAN'\n",
    "              ,'totales.centro.cantDevLAN']] = mintic_03[['totales.centro.cantDevConectados'\n",
    "                                                          ,'totales.centro.cantDevDesconectados'\n",
    "                                                          ,'totales.centro.cantDevWAN'\n",
    "                                                          ,'totales.centro.cantDevLAN']].astype(int)    \n",
    "    mintic_03['@timestamp'] = now.isoformat()\n",
    "    salida = helpers.bulk(es, doc_generator_dis(mintic_03))\n",
    "    print(\"Fecha: \", now,\"- Datos Dispositivos Conectados en indice principal:\",salida[0])\n",
    "except:\n",
    "    print(\"Fecha: \", now,\"- No se insertaron datos de dispositivos conectados en indice principal\")\n",
    "\n",
    "\n"
   ]
  },
  {
   "cell_type": "markdown",
   "metadata": {},
   "source": [
    "### Guardando fecha para control de ejecución"
   ]
  },
  {
   "cell_type": "markdown",
   "metadata": {},
   "source": [
    "* Se actualiza la fecha de control. Si el calculo supera la fecha hora actual, se asocia esta ultima."
   ]
  },
  {
   "cell_type": "code",
   "execution_count": 51,
   "metadata": {},
   "outputs": [
    {
     "name": "stdout",
     "output_type": "stream",
     "text": [
      "actualizada fecha control de ejecucion: 2021-05-01 00:10:00\n"
     ]
    }
   ],
   "source": [
    "fecha_ejecucion = (datetime.strptime(fecha_max_mintic, '%Y-%m-%d %H:%M:%S')+timedelta(minutes=10)).strftime(\"%Y-%m-%d %H:%M:%S\")[0:15] + '0:00'    \n",
    "\n",
    "if fecha_ejecucion > str(now.strftime('%Y-%m-%d %H:%M:%S'))[0:15] + '0:00':\n",
    "    fecha_ejecucion = str(now.strftime('%Y-%m-%d %H:%M:%S'))[0:15] + '0:00'\n",
    "response = es.index(\n",
    "        index = indice_control,\n",
    "        id = 'jerarquia-tablero06',\n",
    "        body = { 'jerarquia-tablero06': 'jerarquia-tablero06','tablero06.fechaControl' : fecha_ejecucion}\n",
    ")\n",
    "print(\"actualizada fecha control de ejecucion:\",fecha_ejecucion)"
   ]
  },
  {
   "cell_type": "code",
   "execution_count": null,
   "metadata": {},
   "outputs": [],
   "source": []
  },
  {
   "cell_type": "code",
   "execution_count": null,
   "metadata": {},
   "outputs": [],
   "source": []
  },
  {
   "cell_type": "code",
   "execution_count": null,
   "metadata": {},
   "outputs": [],
   "source": []
  }
 ],
 "metadata": {
  "kernelspec": {
   "display_name": "Python 3",
   "language": "python",
   "name": "python3"
  },
  "language_info": {
   "codemirror_mode": {
    "name": "ipython",
    "version": 3
   },
   "file_extension": ".py",
   "mimetype": "text/x-python",
   "name": "python",
   "nbconvert_exporter": "python",
   "pygments_lexer": "ipython3",
   "version": "3.8.5"
  }
 },
 "nbformat": 4,
 "nbformat_minor": 4
}
