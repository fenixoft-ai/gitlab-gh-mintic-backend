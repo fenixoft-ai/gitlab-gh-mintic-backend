{
 "cells": [
  {
   "cell_type": "markdown",
   "metadata": {},
   "source": [
    "¿Que hace este script?\n",
    "* Calcula para cada dispositivo de red: trafico.totales.traficoIN, trafico.totales.traficoOUT', trafico.totales.consumoGB'.\n",
    "* Calcula para cada site_id: trafico.totales.sitio.traficoIN, trafico.totales.sitio.traficoOUT, trafico.totales.sitio.consumoGB"
   ]
  },
  {
   "cell_type": "code",
   "execution_count": 25,
   "metadata": {},
   "outputs": [],
   "source": [
    "from elasticsearch import Elasticsearch, helpers\n",
    "from ssl import create_default_context\n",
    "import pandas as pd\n",
    "import numpy as np\n",
    "from datetime import datetime, timedelta\n",
    "import parametros\n",
    "import re"
   ]
  },
  {
   "cell_type": "markdown",
   "metadata": {},
   "source": [
    "## Conectando a ElasticSearch"
   ]
  },
  {
   "cell_type": "markdown",
   "metadata": {},
   "source": [
    "La ultima línea se utiliza para garantizar la ejecución de la consulta\n",
    "* timeout es el tiempo para cada ejecución\n",
    "* max_retries el número de intentos si la conexión falla\n",
    "* retry_on_timeout para activar los reitentos"
   ]
  },
  {
   "cell_type": "code",
   "execution_count": 26,
   "metadata": {},
   "outputs": [],
   "source": [
    "context = create_default_context(cafile=parametros.cafile)\n",
    "es = Elasticsearch(\n",
    "    parametros.servidor,\n",
    "    http_auth=(parametros.usuario_EC, parametros.password_EC),\n",
    "    scheme=\"https\",\n",
    "    port=parametros.puerto,\n",
    "    ssl_context=context,\n",
    "    timeout=60, max_retries=3, retry_on_timeout=True\n",
    ") "
   ]
  },
  {
   "cell_type": "markdown",
   "metadata": {},
   "source": [
    "### Calculando fechas para la ejecución"
   ]
  },
  {
   "cell_type": "markdown",
   "metadata": {},
   "source": [
    "* Se calculan las fechas para asociar al nombre del indice\n",
    "* fecha_hoy es usada para concatenar al nombre del indice principal previa inserción"
   ]
  },
  {
   "cell_type": "code",
   "execution_count": 27,
   "metadata": {},
   "outputs": [],
   "source": [
    "now = datetime.now()\n",
    "fecha_hoy = str(now.strftime(\"%Y.%m.%d\"))"
   ]
  },
  {
   "cell_type": "markdown",
   "metadata": {},
   "source": [
    "### Definiendo indice principal con fecha de hoy"
   ]
  },
  {
   "cell_type": "markdown",
   "metadata": {},
   "source": [
    "Estos valores se deben ajustar según ambiente. No es automático ya que no hay separación de ambientes"
   ]
  },
  {
   "cell_type": "code",
   "execution_count": 28,
   "metadata": {},
   "outputs": [],
   "source": [
    "indice = parametros.trafico_tablero06_index\n",
    "indice_control = parametros.tableros_mintic_control"
   ]
  },
  {
   "cell_type": "markdown",
   "metadata": {},
   "source": [
    "### Función para generar JSON compatible con ES"
   ]
  },
  {
   "cell_type": "code",
   "execution_count": 29,
   "metadata": {},
   "outputs": [],
   "source": [
    "def filterKeys(document):\n",
    "    return {key: document[key] for key in use_these_keys }"
   ]
  },
  {
   "cell_type": "markdown",
   "metadata": {},
   "source": [
    "### leyendo indice semilla-inventario"
   ]
  },
  {
   "cell_type": "markdown",
   "metadata": {},
   "source": [
    "En el script que ingesta semilla, trae la información de los centros de conexión administrados. Para el indice principal se requiere:\n",
    "\n",
    "* site_id como llave del centro de conexión.\n",
    "* Datos geográficos (Departamento, municipio, centro poblado, sede, energía, latitud, longitud, COD_ISO, entre otros)."
   ]
  },
  {
   "cell_type": "code",
   "execution_count": 30,
   "metadata": {},
   "outputs": [],
   "source": [
    "total_docs = 10000\n",
    "try:\n",
    "    response = es.search(\n",
    "        index= parametros.semilla_inventario_index,\n",
    "        body={\n",
    "               \"_source\": ['site_id','nombre_municipio', 'nombre_departamento', 'nombre_centro_pob', 'nombreSede' \n",
    "                           , 'energiadesc', 'latitud', 'longitud','COD_ISO','id_Beneficiario']\n",
    "        },\n",
    "        size=total_docs\n",
    "    )\n",
    "    #print(es.info())\n",
    "    elastic_docs = response[\"hits\"][\"hits\"]\n",
    "    fields = {}\n",
    "    for num, doc in enumerate(elastic_docs):\n",
    "        source_data = doc[\"_source\"]\n",
    "        for key, val in source_data.items():\n",
    "            try:\n",
    "                fields[key] = np.append(fields[key], val)\n",
    "            except KeyError:\n",
    "                fields[key] = np.array([val])\n",
    "\n",
    "    datos_semilla = pd.DataFrame(dict([ (k,pd.Series(v)) for k,v in fields.items() ])) #pd.DataFrame(fields)\n",
    "except:\n",
    "    print(\"fecha:\",now,\"- Error en lectura de datos semilla\")\n",
    "    #exit()\n",
    "    "
   ]
  },
  {
   "cell_type": "markdown",
   "metadata": {},
   "source": [
    "Se valida latitud y longitud, se genera campo location y se renombran los campos de semilla"
   ]
  },
  {
   "cell_type": "code",
   "execution_count": 31,
   "metadata": {},
   "outputs": [],
   "source": [
    "def get_location(x,y='lat'):\n",
    "    patron = re.compile('^(\\-?\\d+(\\.\\d+)?),\\s*(\\-?\\d+(\\.\\d+)?)$') #patrón que debe cumplir\n",
    "    if (not patron.match(x) is None) and (str(x)!=''):\n",
    "        return x.replace(',','.')\n",
    "    else:\n",
    "        #Código a ejecutar si las coordenadas no son válidas\n",
    "        return '4.596389' if y=='lat' else '-74.074639'\n",
    "    \n",
    "datos_semilla['latitud'] = datos_semilla['latitud'].apply(lambda x:get_location(x,'lat'))\n",
    "datos_semilla['longitud'] = datos_semilla['longitud'].apply(lambda x:get_location(x,'lon'))\n",
    "datos_semilla = datos_semilla.drop(datos_semilla[(datos_semilla[\"longitud\"]=='a') | (datos_semilla[\"latitud\"]=='a')].index)\n",
    "datos_semilla['trafico.tablero06.location'] = datos_semilla['latitud'] + ',' + datos_semilla['longitud']\n",
    "datos_semilla['trafico.tablero06.location']=datos_semilla['trafico.tablero06.location'].str.replace('a,a','')\n",
    "datos_semilla.drop(columns=['latitud','longitud'],inplace=True)\n",
    "\n",
    "datos_semilla = datos_semilla.rename(columns={'nombre_municipio': 'trafico.tablero06.nombreMunicipio'\n",
    "                                              , 'nombre_departamento' : 'trafico.tablero06.nombreDepartamento'\n",
    "                                              , 'nombre_centro_pob': 'trafico.tablero06.localidad'\n",
    "                                              , 'nombreSede' : 'trafico.tablero06.nomCentroDigital'\n",
    "                                              , 'energiadesc' : 'trafico.tablero06.sistemaEnergia'\n",
    "                                              , 'COD_ISO' : 'trafico.tablero06.codISO'\n",
    "                                              , 'id_Beneficiario' : 'trafico.tablero06.idBeneficiario'})\n",
    "datos_semilla.fillna('', inplace=True)"
   ]
  },
  {
   "cell_type": "code",
   "execution_count": 32,
   "metadata": {},
   "outputs": [],
   "source": [
    "datos_semilla = datos_semilla.drop(datos_semilla[(datos_semilla[\"trafico.tablero06.location\"]=='')].index)"
   ]
  },
  {
   "cell_type": "markdown",
   "metadata": {},
   "source": [
    "### leyendo indice cambium-devicedevices"
   ]
  },
  {
   "cell_type": "markdown",
   "metadata": {},
   "source": [
    "Se lee la información de los dispositivos de red monitoreados por Cambium. En esta lectura no hay referencia de fechas ya que solo hay una ocurrencia por MAC de dispositivo de red.\n",
    "\n",
    "* site_id es la llave para cruzar con cada centro de conexión.\n",
    "* mac, IP y name son datos básicos del dispositivo.\n",
    "* ap_group identifica los dispositivos como INDOOR u OUTDOOR"
   ]
  },
  {
   "cell_type": "code",
   "execution_count": 33,
   "metadata": {},
   "outputs": [],
   "source": [
    "total_docs = 30000\n",
    "try:\n",
    "    response = es.search(\n",
    "        index= parametros.cambium_d_d_index,\n",
    "        body={\n",
    "                    \"_source\": [\"site_id\",\"mac\",\"ip\",\"ap_group\"]\n",
    "                  , \"query\": {\n",
    "                    \"match_all\": {}\n",
    "                  }\n",
    "        },\n",
    "        size=total_docs\n",
    "    )\n",
    "    #print(es.info())\n",
    "    elastic_docs = response[\"hits\"][\"hits\"]\n",
    "#     fields = {}\n",
    "#     for num, doc in enumerate(elastic_docs):\n",
    "#         source_data = doc[\"_source\"]\n",
    "#         for key, val in source_data.items():\n",
    "#             try:\n",
    "#                 fields[key] = np.append(fields[key], val)\n",
    "#             except KeyError:\n",
    "#                 fields[key] = np.array([val])\n",
    "\n",
    "#     datos_dev = pd.DataFrame(dict([ (k,pd.Series(v)) for k,v in fields.items() ])) #pd.DataFrame(fields)\n",
    "    \n",
    "    datos_dev = pd.DataFrame([x[\"_source\"] for x in elastic_docs])\n",
    "    \n",
    "    \n",
    "except:\n",
    "    exit()"
   ]
  },
  {
   "cell_type": "markdown",
   "metadata": {},
   "source": [
    "Se descartan registros con site_id vacios y se limpian los NaN del dataframe"
   ]
  },
  {
   "cell_type": "code",
   "execution_count": 34,
   "metadata": {},
   "outputs": [],
   "source": [
    "datos_dev.dropna(subset=['site_id'])\n",
    "datos_dev.fillna('', inplace=True)\n",
    "datos_dev = datos_dev.drop(datos_dev[(datos_dev['site_id']=='')].index)\n",
    "datos_dev.sort_values(['site_id','ap_group'], inplace=True)"
   ]
  },
  {
   "cell_type": "markdown",
   "metadata": {},
   "source": [
    "Se limpian datos mal formados de ap_group"
   ]
  },
  {
   "cell_type": "code",
   "execution_count": 35,
   "metadata": {},
   "outputs": [],
   "source": [
    "datos_dev['ap_group'] = datos_dev['ap_group'].str.split(\"-\", n = 1, expand = True)[0]\n",
    "datos_dev['ap_group'] = datos_dev['ap_group'].str.split(\"_\", n = 1, expand = True)[0]\n",
    "datos_dev = datos_dev.drop(datos_dev[(datos_dev['ap_group']=='')].index)"
   ]
  },
  {
   "cell_type": "code",
   "execution_count": 36,
   "metadata": {},
   "outputs": [],
   "source": [
    "datos_dev = datos_dev.drop_duplicates('mac')"
   ]
  },
  {
   "cell_type": "markdown",
   "metadata": {},
   "source": [
    "Se renombran campos según formato del indice final"
   ]
  },
  {
   "cell_type": "code",
   "execution_count": 37,
   "metadata": {},
   "outputs": [],
   "source": [
    "datos_dev = datos_dev.rename(columns={'ap_mac' : 'trafico.tablero06.macRed','ap_group': 'trafico.tablero06.apGroup'\n",
    "                                        , 'ip': 'trafico.tablero06.IP'\n",
    "                                        , 'mac' : 'trafico.tablero06.macRed'\n",
    "                                        , 'name' : 'trafico.tablero06.deviceName'})"
   ]
  },
  {
   "cell_type": "markdown",
   "metadata": {},
   "source": [
    "### Trae la ultima fecha para control de ejecución"
   ]
  },
  {
   "cell_type": "markdown",
   "metadata": {},
   "source": [
    "Cuando en el rango de tiempo de la ejecución, no se insertan nuevos valores, las fecha maxima en indice mintic no aumenta, por tanto se usa esta fecha de control para garantizar que incremente el bucle de ejecución"
   ]
  },
  {
   "cell_type": "code",
   "execution_count": 38,
   "metadata": {},
   "outputs": [
    {
     "name": "stdout",
     "output_type": "stream",
     "text": [
      "ultima fecha para control de ejecucion: 2021-06-25 00:00:00\n"
     ]
    }
   ],
   "source": [
    "total_docs = 1\n",
    "try:\n",
    "    response = es.search(\n",
    "        index= indice_control,\n",
    "        body={\n",
    "               \"_source\": [\"tablero06.fechaControl\"],\n",
    "              \"query\": {\n",
    "                \"bool\": {\n",
    "                  \"filter\": [\n",
    "                  {\n",
    "                    \"exists\": {\n",
    "                      \"field\":\"jerarquia-tablero06\"\n",
    "                    }\n",
    "                  }\n",
    "                  ]\n",
    "                }\n",
    "              }\n",
    "        },\n",
    "        size=total_docs\n",
    "    )\n",
    "    #print(es.info())\n",
    "    elastic_docs = response[\"hits\"][\"hits\"]\n",
    "    fields = {}\n",
    "    for num, doc in enumerate(elastic_docs):\n",
    "        fecha_ejecucion = doc[\"_source\"]['tablero06.fechaControl']\n",
    "except:\n",
    "    fecha_ejecucion = '2021-05-01 00:00:00'\n",
    "if response[\"hits\"][\"hits\"] == []:\n",
    "    fecha_ejecucion = '2021-05-01 00:00:00'\n",
    "print(\"ultima fecha para control de ejecucion:\",fecha_ejecucion)"
   ]
  },
  {
   "cell_type": "markdown",
   "metadata": {},
   "source": [
    "## Se lee la información de cambium device performance"
   ]
  },
  {
   "cell_type": "markdown",
   "metadata": {},
   "source": [
    " Se toma los valores de dispositivos de red y su desempeño.\n",
    " * mac del dispositivo de red\n",
    " * timestamp es la fecha y hora de la medición\n",
    " * radio.* volumen de datos descargados(r) y cargados(t)"
   ]
  },
  {
   "cell_type": "code",
   "execution_count": 39,
   "metadata": {},
   "outputs": [],
   "source": [
    "def traePerformance(fecha_max,fecha_tope):\n",
    "    total_docs = 5000000\n",
    "    response = es.search(\n",
    "        index= parametros.cambium_d_p_index,\n",
    "        body={\n",
    "                \"_source\": [\"mac\",\"timestamp\",\"radio.5ghz.rx_bps\",\n",
    "                           \"radio.5ghz.tx_bps\",\"radio.24ghz.rx_bps\"\n",
    "                          ,\"radio.24ghz.tx_bps\"]\n",
    "              , \"query\": {\n",
    "                  \"range\": {\n",
    "                    \"timestamp\": {\n",
    "                      \"gte\": fecha_max,\n",
    "                      \"lt\": fecha_tope\n",
    "                    }\n",
    "                  }\n",
    "              }\n",
    "        },\n",
    "        size=total_docs\n",
    "    )\n",
    "    elastic_docs = response[\"hits\"][\"hits\"]\n",
    "    fields = {}\n",
    "    for num, doc in enumerate(elastic_docs):\n",
    "        source_data = doc[\"_source\"]\n",
    "        for key, val in source_data.items():\n",
    "            try:\n",
    "                fields[key] = np.append(fields[key], val)\n",
    "            except KeyError:\n",
    "                fields[key] = np.array([val])\n",
    "\n",
    "    return pd.DataFrame(dict([ (k,pd.Series(v)) for k,v in fields.items() ]))"
   ]
  },
  {
   "cell_type": "markdown",
   "metadata": {},
   "source": [
    "### Lanzando  ejecución de consulta"
   ]
  },
  {
   "cell_type": "markdown",
   "metadata": {},
   "source": [
    "* Se calcula rango en base a la fecha de control. Para este caso es de 10 minutos.\n",
    "* Se ejecuta la función de consulta con el rango de fechas.\n",
    "* Si no retorna datos se incrementa el rango y se ejecuta nuevamente. Este proceso se repite hasta conseguir datos o hasta que el rango de ejecución alcance la fecha y hora actual."
   ]
  },
  {
   "cell_type": "code",
   "execution_count": 40,
   "metadata": {},
   "outputs": [],
   "source": [
    "fecha_max_mintic = fecha_ejecucion\n",
    "fecha_tope_mintic = (datetime.strptime(fecha_max_mintic, '%Y-%m-%d %H:%M:%S')+timedelta(minutes=10)-timedelta(seconds=1)).strftime(\"%Y-%m-%d %H:%M:%S\")\n",
    "datos_performance = traePerformance(fecha_max_mintic,fecha_tope_mintic)\n",
    "\n",
    "if datos_performance is None or datos_performance.empty:\n",
    "    while (datos_performance is None or datos_performance.empty) and ((datetime.strptime(fecha_max_mintic[0:10], '%Y-%m-%d').strftime(\"%Y-%m-%d %H:%M:%S\")) < str(now.strftime(\"%Y-%m-%d %H:%M:%S\"))):\n",
    "        fecha_max_mintic = (datetime.strptime(fecha_max_mintic, '%Y-%m-%d %H:%M:%S')+timedelta(minutes=10)).strftime(\"%Y-%m-%d %H:%M:%S\")\n",
    "        fecha_tope_mintic = (datetime.strptime(fecha_tope_mintic, '%Y-%m-%d %H:%M:%S')+timedelta(minutes=10)).strftime(\"%Y-%m-%d %H:%M:%S\")\n",
    "        datos_performance = traePerformance(fecha_max_mintic,fecha_tope_mintic)\n",
    "else:\n",
    "    pass"
   ]
  },
  {
   "cell_type": "code",
   "execution_count": 41,
   "metadata": {},
   "outputs": [],
   "source": [
    "#datos_performance = traePerformance('2021-06-10 09:00:00','2021-06-10 10:00:00')"
   ]
  },
  {
   "cell_type": "markdown",
   "metadata": {},
   "source": [
    "funcion para insertar en indice: "
   ]
  },
  {
   "cell_type": "code",
   "execution_count": 52,
   "metadata": {},
   "outputs": [],
   "source": [
    "use_these_keys = ['trafico.tablero06.nomCentroDigital',\n",
    "                  'trafico.tablero06.codISO',\n",
    "                  'trafico.tablero06.localidad',\n",
    "                  'trafico.tablero06.siteID',\n",
    "                  'trafico.tablero06.nombreDepartamento',\n",
    "                  'trafico.tablero06.sistemaEnergia',\n",
    "                  'trafico.tablero06.nombreMunicipio',\n",
    "                  'trafico.tablero06.idBeneficiario',\n",
    "                  'trafico.tablero06.apGroup',\n",
    "                  'trafico.tablero06.IP',\n",
    "                  'trafico.tablero06.deviceName',\n",
    "                  'trafico.tablero06.macRed',\n",
    "                  #'trafico.status.macRed',\n",
    "                  'trafico.totales.tablero06.fechaControl',\n",
    "                  'trafico.totales.tablero06.traficoIN',\n",
    "                  'trafico.totales.tablero06.traficoOUT',\n",
    "                  'trafico.totales.tablero06.consumoGB',\n",
    "                  'trafico.totales.tablero06.fecha',\n",
    "                  'trafico.totales.tablero06.anyo',\n",
    "                  'trafico.totales.tablero06.mes',\n",
    "                  'trafico.totales.tablero06.dia',\n",
    "                  'trafico.totales.tablero06.hora',\n",
    "                  'trafico.totales.tablero06.minuto',\n",
    "                  'nombreDepartamento',\n",
    "                    'nombreMunicipio',\n",
    "                    'idBeneficiario',\n",
    "                    'fecha',\n",
    "                    'anyo',\n",
    "                    'mes',\n",
    "                    'dia',\n",
    "                  '@timestamp']\n",
    "def doc_generator(df):\n",
    "    df_iter = df.iterrows()\n",
    "    for index, document in df_iter:\n",
    "        yield {\n",
    "                \"_index\": indice, \n",
    "                \"_id\": f\"{'consumo-' + document['trafico.tablero06.siteID'] + '-' + document['trafico.tablero06.macRed'] + '-' +document['trafico.totales.tablero06.fechaControl']}\",\n",
    "                \"_source\": filterKeys(document),\n",
    "            }"
   ]
  },
  {
   "cell_type": "markdown",
   "metadata": {},
   "source": [
    "# Insertando consumo a indice "
   ]
  },
  {
   "cell_type": "markdown",
   "metadata": {},
   "source": [
    "* Calculo de indicadores de consumos para cada AP. \n",
    "* Se toman los valores de rx y tx como descarga y carga\n",
    "* de datos_dev se toma el site_id y el ap_group"
   ]
  },
  {
   "cell_type": "code",
   "execution_count": 56,
   "metadata": {},
   "outputs": [
    {
     "name": "stdout",
     "output_type": "stream",
     "text": [
      "Fecha:  2021-07-28 16:30:23.506190 - No se insertaron datos de consumos en indice principal\n"
     ]
    }
   ],
   "source": [
    "try:\n",
    "    datos_performance['fecha_control'] = datos_performance[\"timestamp\"].str[0:-4] + '0:00'\n",
    "    datos_performance.rename(columns={'mac': 'trafico.tablero06.macRed'}, inplace=True)\n",
    "    datos_performance.replace('','0',inplace=True)\n",
    "    datos_performance.fillna({'radio.5ghz.rx_bps':0, 'radio.5ghz.tx_bps':0,\n",
    "                      'radio.24ghz.rx_bps':0, 'radio.24ghz.tx_bps':0 },inplace=True)\n",
    "    datos_performance[['radio.5ghz.rx_bps','radio.5ghz.tx_bps','radio.24ghz.rx_bps','radio.24ghz.tx_bps']] = datos_performance[['radio.5ghz.rx_bps','radio.5ghz.tx_bps','radio.24ghz.rx_bps','radio.24ghz.tx_bps']].astype(int)\n",
    "\n",
    "    aux_performance=datos_performance[['trafico.tablero06.macRed','fecha_control'\n",
    "                                       ,'radio.5ghz.rx_bps'\n",
    "                                       ,'radio.5ghz.tx_bps'\n",
    "                                       ,'radio.24ghz.rx_bps'\n",
    "                                       ,'radio.24ghz.tx_bps']].groupby(['trafico.tablero06.macRed','fecha_control']).agg(['sum']).reset_index()\n",
    "    aux_performance.columns = aux_performance.columns.droplevel(1)\n",
    "    aux_performance['trafico.totales.tablero06.traficoIN_aux'] = aux_performance['radio.5ghz.rx_bps'] + aux_performance['radio.24ghz.rx_bps']\n",
    "    aux_performance['trafico.totales.tablero06.traficoOUT_aux'] = aux_performance['radio.5ghz.tx_bps'] + aux_performance['radio.24ghz.tx_bps']\n",
    "    \n",
    "    aux_performance = pd.merge(aux_performance, datos_dev, on='trafico.tablero06.macRed',how='inner')\n",
    "    mintic_02 = pd.merge(datos_semilla,  aux_performance, on='site_id',how='inner')\n",
    "    \n",
    "    #La información de tráfico se convierte a GigaBytes y se toman 6 decimales\n",
    "    mintic_02['trafico.totales.tablero06.traficoIN'] = round((mintic_02['trafico.totales.tablero06.traficoIN_aux']/float(1<<30)),6)\n",
    "    mintic_02['trafico.totales.tablero06.traficoOUT'] = round((mintic_02['trafico.totales.tablero06.traficoOUT_aux']/float(1<<30)),6)\n",
    "    mintic_02['trafico.totales.tablero06.consumoGB'] = mintic_02['trafico.totales.tablero06.traficoIN'] + mintic_02['trafico.totales.tablero06.traficoOUT']\n",
    "    #Se totaliza entrante y saliente\n",
    "    mintic_02['trafico.totales.tablero06.consumoGB'] = round(mintic_02['trafico.totales.tablero06.consumoGB'],6)\n",
    "\n",
    "    ### Generando columnas con fecha, anyo, mes, dia, hora y minuto por separado\n",
    "    mintic_02[\"trafico.totales.tablero06.fecha\"] = mintic_02[\"fecha_control\"].str.split(\" \", n = 1, expand = True)[0]\n",
    "    mintic_02[\"trafico.totales.tablero06.hora\"] = mintic_02[\"fecha_control\"].str.split(\" \", n = 1, expand = True)[1].str.split(\":\", n = 2, expand = True)[0]\n",
    "    mintic_02[\"trafico.totales.tablero06.minuto\"] = mintic_02[\"fecha_control\"].str.split(\" \", n = 1, expand = True)[1].str.split(\":\", n = 2, expand = True)[1]\n",
    "    mintic_02[\"trafico.totales.tablero06.anyo\"] = mintic_02[\"trafico.totales.tablero06.fecha\"].str[0:4]\n",
    "    mintic_02[\"trafico.totales.tablero06.mes\"] = mintic_02[\"trafico.totales.tablero06.fecha\"].str[5:7]\n",
    "    mintic_02[\"trafico.totales.tablero06.dia\"] = mintic_02[\"trafico.totales.tablero06.fecha\"].str[8:10]\n",
    "    ### Renombrado de campos\n",
    "    mintic_02.rename(columns={'site_id': 'trafico.tablero06.siteID'\n",
    "                             ,'fecha_control' : 'trafico.totales.tablero06.fechaControl'}, inplace=True)\n",
    "\n",
    "    ##nulos a cero\n",
    "    mintic_02.fillna({'trafico.totales.tablero06.consumoGB':0,\n",
    "                      'trafico.totales.tablero06.traficoIN':0,\n",
    "                      'trafico.totales.tablero06.traficoOUT':0\n",
    "                      },inplace=True)\n",
    "    #cambia valores a tipo float\n",
    "    mintic_02[['trafico.totales.tablero06.consumoGB','trafico.totales.tablero06.traficoIN','trafico.totales.tablero06.traficoOUT']] = mintic_02[['trafico.totales.tablero06.consumoGB','trafico.totales.tablero06.traficoIN','trafico.totales.tablero06.traficoOUT']].astype(float)\n",
    "    \n",
    "    mintic_02['nombreDepartamento'] = mintic_02['trafico.tablero06.nombreDepartamento']\n",
    "    mintic_02['nombreMunicipio'] = mintic_02['trafico.tablero06.nombreMunicipio']\n",
    "    mintic_02['idBeneficiario'] = mintic_02['trafico.tablero06.idBeneficiario']\n",
    "    mintic_02['fecha'] = mintic_02['trafico.totales.tablero06.fecha']\n",
    "    mintic_02['anyo'] = mintic_02['trafico.totales.tablero06.anyo']\n",
    "    mintic_02['mes'] = mintic_02['trafico.totales.tablero06.mes']\n",
    "    mintic_02['dia'] = mintic_02['trafico.totales.tablero06.dia']\n",
    "    mintic_02['@timestamp'] = now.isoformat()\n",
    "    salida = helpers.bulk(es, doc_generator(mintic_02))\n",
    "    print(\"Fecha: \", now,\"- Datos Trafico Consumos en indice principal:\",salida[0])\n",
    "except:\n",
    "    print(\"Fecha: \", now,\"- No se insertaron datos de consumos en indice principal\")"
   ]
  },
  {
   "cell_type": "code",
   "execution_count": 61,
   "metadata": {},
   "outputs": [
    {
     "data": {
      "text/html": [
       "<div>\n",
       "<style scoped>\n",
       "    .dataframe tbody tr th:only-of-type {\n",
       "        vertical-align: middle;\n",
       "    }\n",
       "\n",
       "    .dataframe tbody tr th {\n",
       "        vertical-align: top;\n",
       "    }\n",
       "\n",
       "    .dataframe thead th {\n",
       "        text-align: right;\n",
       "    }\n",
       "</style>\n",
       "<table border=\"1\" class=\"dataframe\">\n",
       "  <thead>\n",
       "    <tr style=\"text-align: right;\">\n",
       "      <th></th>\n",
       "      <th>trafico.tablero06.apGroup</th>\n",
       "      <th>trafico.tablero06.IP</th>\n",
       "      <th>site_id</th>\n",
       "      <th>trafico.tablero06.macRed</th>\n",
       "    </tr>\n",
       "  </thead>\n",
       "  <tbody>\n",
       "    <tr>\n",
       "      <th>3282</th>\n",
       "      <td>INDOOR</td>\n",
       "      <td>172.25.41.219</td>\n",
       "      <td>10003700</td>\n",
       "      <td>BC:E6:7C:5D:20:E1</td>\n",
       "    </tr>\n",
       "    <tr>\n",
       "      <th>3283</th>\n",
       "      <td>OUTDOOR</td>\n",
       "      <td>172.25.41.220</td>\n",
       "      <td>10003700</td>\n",
       "      <td>BC:A9:93:0E:2F:15</td>\n",
       "    </tr>\n",
       "    <tr>\n",
       "      <th>3284</th>\n",
       "      <td>OUTDOOR</td>\n",
       "      <td>172.25.41.221</td>\n",
       "      <td>10003700</td>\n",
       "      <td>BC:A9:93:0E:63:3E</td>\n",
       "    </tr>\n",
       "    <tr>\n",
       "      <th>3245</th>\n",
       "      <td>INDOOR</td>\n",
       "      <td>172.25.46.251</td>\n",
       "      <td>10501-ZZZY338</td>\n",
       "      <td>BC:E6:7C:ED:8A:FE</td>\n",
       "    </tr>\n",
       "    <tr>\n",
       "      <th>3246</th>\n",
       "      <td>OUTDOOR</td>\n",
       "      <td>172.25.46.253</td>\n",
       "      <td>10501-ZZZY338</td>\n",
       "      <td>BC:E6:7C:E8:3F:AE</td>\n",
       "    </tr>\n",
       "    <tr>\n",
       "      <th>...</th>\n",
       "      <td>...</td>\n",
       "      <td>...</td>\n",
       "      <td>...</td>\n",
       "      <td>...</td>\n",
       "    </tr>\n",
       "    <tr>\n",
       "      <th>1067</th>\n",
       "      <td>OUTDOOR</td>\n",
       "      <td>172.25.132.77</td>\n",
       "      <td>PRUEBA-LABORATORIO</td>\n",
       "      <td>BC:E6:7C:E7:FC:2B</td>\n",
       "    </tr>\n",
       "    <tr>\n",
       "      <th>1068</th>\n",
       "      <td>OUTDOOR</td>\n",
       "      <td>172.25.132.76</td>\n",
       "      <td>PRUEBA-LABORATORIO</td>\n",
       "      <td>BC:E6:7C:E7:FC:21</td>\n",
       "    </tr>\n",
       "    <tr>\n",
       "      <th>1440</th>\n",
       "      <td>INDOOR</td>\n",
       "      <td>172.25.117.11</td>\n",
       "      <td>TUMBATORO</td>\n",
       "      <td>BC:E6:7C:5F:3A:F1</td>\n",
       "    </tr>\n",
       "    <tr>\n",
       "      <th>1441</th>\n",
       "      <td>OUTDOOR</td>\n",
       "      <td>172.25.117.12</td>\n",
       "      <td>TUMBATORO</td>\n",
       "      <td>BC:E6:7C:E8:3F:8A</td>\n",
       "    </tr>\n",
       "    <tr>\n",
       "      <th>1442</th>\n",
       "      <td>OUTDOOR</td>\n",
       "      <td>172.25.117.13</td>\n",
       "      <td>TUMBATORO</td>\n",
       "      <td>BC:E6:7C:E8:3F:5E</td>\n",
       "    </tr>\n",
       "  </tbody>\n",
       "</table>\n",
       "<p>4218 rows × 4 columns</p>\n",
       "</div>"
      ],
      "text/plain": [
       "     trafico.tablero06.apGroup trafico.tablero06.IP             site_id  \\\n",
       "3282                    INDOOR        172.25.41.219            10003700   \n",
       "3283                   OUTDOOR        172.25.41.220            10003700   \n",
       "3284                   OUTDOOR        172.25.41.221            10003700   \n",
       "3245                    INDOOR        172.25.46.251       10501-ZZZY338   \n",
       "3246                   OUTDOOR        172.25.46.253       10501-ZZZY338   \n",
       "...                        ...                  ...                 ...   \n",
       "1067                   OUTDOOR        172.25.132.77  PRUEBA-LABORATORIO   \n",
       "1068                   OUTDOOR        172.25.132.76  PRUEBA-LABORATORIO   \n",
       "1440                    INDOOR        172.25.117.11           TUMBATORO   \n",
       "1441                   OUTDOOR        172.25.117.12           TUMBATORO   \n",
       "1442                   OUTDOOR        172.25.117.13           TUMBATORO   \n",
       "\n",
       "     trafico.tablero06.macRed  \n",
       "3282        BC:E6:7C:5D:20:E1  \n",
       "3283        BC:A9:93:0E:2F:15  \n",
       "3284        BC:A9:93:0E:63:3E  \n",
       "3245        BC:E6:7C:ED:8A:FE  \n",
       "3246        BC:E6:7C:E8:3F:AE  \n",
       "...                       ...  \n",
       "1067        BC:E6:7C:E7:FC:2B  \n",
       "1068        BC:E6:7C:E7:FC:21  \n",
       "1440        BC:E6:7C:5F:3A:F1  \n",
       "1441        BC:E6:7C:E8:3F:8A  \n",
       "1442        BC:E6:7C:E8:3F:5E  \n",
       "\n",
       "[4218 rows x 4 columns]"
      ]
     },
     "execution_count": 61,
     "metadata": {},
     "output_type": "execute_result"
    }
   ],
   "source": [
    "datos_dev"
   ]
  },
  {
   "cell_type": "markdown",
   "metadata": {},
   "source": [
    "## En otra  jerarquía se escriben los dispositivos conectados"
   ]
  },
  {
   "cell_type": "markdown",
   "metadata": {},
   "source": [
    "Se toma el dataframe del proceso anterior para realizar el siguiente proceso:\n",
    "* Se cuentan la cantidad de dispositivos WAN/LAN (OUTDOOR/INDOOR), agrupando por fecha y sitio\n",
    "* Cantidad dispositivos WAN/LAN conectados se calcula validando cuando son OUTDOOR/INDOOR y tienen trafico(traficoOUT)\n",
    "* Cantidad de dispositivos desconectados, restando los dos anteriores\n",
    "\n",
    "Datos generados\n",
    "* trafico.totales.cantDevWAN\n",
    "* trafico.totales.cantDevLAN\n",
    "* trafico.totales.cantDevConectadosWAN\n",
    "* trafico.totales.cantDevDesconectadosWAN\n",
    "* trafico.totales.cantDevConectadosLAN\n",
    "* trafico.totales.cantDevDesconectadosLAN\n",
    "* trafico.totales.cantDev"
   ]
  },
  {
   "cell_type": "code",
   "execution_count": 45,
   "metadata": {},
   "outputs": [],
   "source": [
    "try:\n",
    "    mintic_03 = mintic_02[['trafico.tablero06.nomCentroDigital',\n",
    "                      'trafico.tablero06.codISO',\n",
    "                      'trafico.tablero06.localidad',\n",
    "                      'trafico.tablero06.siteID',\n",
    "                      'trafico.tablero06.nombreDepartamento',\n",
    "                      'trafico.tablero06.sistemaEnergia',\n",
    "                      'trafico.tablero06.nombreMunicipio',\n",
    "                      'trafico.tablero06.idBeneficiario',\n",
    "                      'trafico.tablero06.location',\n",
    "                      'trafico.tablero06.apGroup',\n",
    "                      'trafico.totales.tablero06.fechaControl',\n",
    "                      'trafico.totales.tablero06.fecha',\n",
    "                      'trafico.totales.tablero06.anyo',\n",
    "                      'trafico.totales.tablero06.mes',\n",
    "                      'trafico.totales.tablero06.dia',\n",
    "                      'trafico.totales.tablero06.hora',\n",
    "                      'trafico.totales.tablero06.minuto',\n",
    "                      'trafico.totales.tablero06.traficoIN',\n",
    "                      'trafico.totales.tablero06.traficoOUT',\n",
    "                      'trafico.totales.tablero06.consumoGB',]].groupby(['trafico.tablero06.nomCentroDigital',\n",
    "                                                              'trafico.tablero06.codISO',\n",
    "                                                              'trafico.tablero06.localidad',\n",
    "                                                              'trafico.tablero06.siteID',\n",
    "                                                              'trafico.tablero06.nombreDepartamento',\n",
    "                                                              'trafico.tablero06.sistemaEnergia',\n",
    "                                                              'trafico.tablero06.nombreMunicipio',\n",
    "                                                              'trafico.tablero06.idBeneficiario',\n",
    "                                                              'trafico.totales.tablero06.fechaControl',\n",
    "                                                              'trafico.totales.tablero06.fecha',\n",
    "                                                              'trafico.totales.tablero06.anyo',\n",
    "                                                              'trafico.totales.tablero06.mes',\n",
    "                                                              'trafico.totales.tablero06.dia',\n",
    "                                                              'trafico.totales.tablero06.hora',\n",
    "                                                              'trafico.totales.tablero06.minuto']).agg(['sum']).reset_index()\n",
    "    mintic_03.columns = mintic_03.columns.droplevel(1)\n",
    "    mintic_03.rename(columns={'trafico.totales.tablero06.traficoIN' : 'trafico.totales.sitio.tablero06.traficoIN'\n",
    "                          ,'trafico.totales.tablero06.traficoOUT' : 'trafico.totales.sitio.tablero06.traficoOUT'\n",
    "                          ,'trafico.totales.tablero06.consumoGB' : 'trafico.totales.sitio.tablero06.consumoGB'\n",
    "                         }, inplace=True)\n",
    "except:\n",
    "    pass"
   ]
  },
  {
   "cell_type": "markdown",
   "metadata": {},
   "source": [
    "Funcion para insertar en indice la cantidad de dispositivos conectados \n",
    "* la lista use_these_keys se usa para referenciar cuales campos del dataframe irán al indice final. si los datos no se declaran en este, no se insertarán\n"
   ]
  },
  {
   "cell_type": "code",
   "execution_count": 46,
   "metadata": {},
   "outputs": [],
   "source": [
    "use_these_keys = ['trafico.tablero06.nomCentroDigital',\n",
    "                  'trafico.tablero06.codISO',\n",
    "                  'trafico.tablero06.localidad',\n",
    "                  'trafico.tablero06.siteID',\n",
    "                  'trafico.tablero06.nombreDepartamento',\n",
    "                  'trafico.tablero06.sistemaEnergia',\n",
    "                  'trafico.tablero06.nombreMunicipio',\n",
    "                  'trafico.tablero06.idBeneficiario',\n",
    "                  'trafico.tablero06.location',\n",
    "                  'trafico.tablero06.apGroup',\n",
    "                  'trafico.totales.tablero06.fechaControl',\n",
    "                  'trafico.totales.tablero06.cantDevWAN',\n",
    "                  'trafico.totales.tablero06.cantDevConectadosWAN',\n",
    "                  'trafico.totales.tablero06.cantDevDesconectadosWAN',\n",
    "                  'trafico.totales.tablero06.cantDevLAN',\n",
    "                  'trafico.totales.tablero06.cantDevConectadosLAN',\n",
    "                  'trafico.totales.tablero06.cantDevDesconectadosLAN',\n",
    "                  'trafico.totales.tablero06.cantDev',\n",
    "                  'trafico.totales.tablero06.cantDevConectados',\n",
    "                  'trafico.totales.tablero06.cantDevDesconectados',\n",
    "                  'trafico.totales.tablero06.fecha',\n",
    "                  'trafico.totales.tablero06.anyo',\n",
    "                  'trafico.totales.tablero06.mes',\n",
    "                  'trafico.totales.tablero06.dia',\n",
    "                  'trafico.totales.tablero06.hora',\n",
    "                  'trafico.totales.tablero06.minuto',\n",
    "                  'trafico.totales.sitio.tablero06.traficoIN',\n",
    "                  'trafico.totales.sitio.tablero06.traficoOUT',\n",
    "                  'trafico.totales.sitio.tablero06.consumoGB',\n",
    "                  '@timestamp']\n",
    "\n",
    "def doc_generator_dis(df):\n",
    "    df_iter = df.iterrows()\n",
    "    for index, document in df_iter:\n",
    "        yield {\n",
    "                \"_index\": indice, \n",
    "                \"_id\": f\"{'Conectados-' + document['trafico.tablero06.siteID'] + '-' +document['trafico.totales.tablero06.fechaControl']}\",\n",
    "                \"_source\": filterKeys(document),\n",
    "            }"
   ]
  },
  {
   "cell_type": "markdown",
   "metadata": {},
   "source": [
    "# Insertando cantidad de dispositivos conectados"
   ]
  },
  {
   "cell_type": "code",
   "execution_count": 47,
   "metadata": {},
   "outputs": [
    {
     "name": "stdout",
     "output_type": "stream",
     "text": [
      "Fecha:  2021-07-28 16:30:23.506190 - Datos Dispositivos Conectados en indice principal: 205\n"
     ]
    }
   ],
   "source": [
    "try:\n",
    "    cantDevWAN = mintic_02[(mintic_02['trafico.tablero06.apGroup']=='OUTDOOR')][['trafico.totales.tablero06.fechaControl','trafico.tablero06.macRed','trafico.tablero06.siteID']].groupby(['trafico.tablero06.siteID','trafico.totales.tablero06.fechaControl'])['trafico.tablero06.macRed'].nunique().reset_index()    \n",
    "    cantDevWAN.rename(columns={'trafico.tablero06.macRed': 'trafico.totales.tablero06.cantDevWAN'}, inplace=True)\n",
    "    mintic_03 = pd.merge(mintic_03,  cantDevWAN, on=['trafico.tablero06.siteID','trafico.totales.tablero06.fechaControl'],how='left')\n",
    "\n",
    "    cantDevConectadosWAN = mintic_02[(mintic_02['trafico.totales.tablero06.traficoOUT']>0) & (mintic_02['trafico.tablero06.apGroup']=='OUTDOOR')][['trafico.totales.tablero06.fechaControl','trafico.tablero06.macRed','trafico.tablero06.siteID']].groupby(['trafico.tablero06.siteID','trafico.totales.tablero06.fechaControl'])['trafico.tablero06.macRed'].nunique().reset_index()\n",
    "    cantDevConectadosWAN.rename(columns={'trafico.tablero06.macRed': 'trafico.totales.tablero06.cantDevConectadosWAN'}, inplace=True)\n",
    "    mintic_03 = pd.merge(mintic_03, cantDevConectadosWAN, on=['trafico.tablero06.siteID','trafico.totales.tablero06.fechaControl'],how='left')\n",
    "    mintic_03.fillna({'trafico.totales.tablero06.cantDevWAN':0,\n",
    "                      'trafico.totales.tablero06.cantDevConectadosWAN':0\n",
    "                      },inplace=True)\n",
    "    mintic_03['trafico.totales.tablero06.cantDevDesconectadosWAN'] = mintic_03['trafico.totales.tablero06.cantDevWAN'] - mintic_03['trafico.totales.tablero06.cantDevConectadosWAN']\n",
    "\n",
    "    #La misma lógica se aplica para calcular las cantidades para dispositivos LAN, pero filtrando los INDOOR\n",
    "    cantDevLAN = mintic_02[(mintic_02['trafico.tablero06.apGroup']=='INDOOR')][['trafico.totales.tablero06.fechaControl','trafico.tablero06.macRed','trafico.tablero06.siteID']].groupby(['trafico.tablero06.siteID','trafico.totales.tablero06.fechaControl'])['trafico.tablero06.macRed'].nunique().reset_index()\n",
    "    cantDevLAN.rename(columns={'trafico.tablero06.macRed': 'trafico.totales.tablero06.cantDevLAN'}, inplace=True)\n",
    "    mintic_03 = pd.merge(mintic_03,  cantDevLAN, on=['trafico.tablero06.siteID','trafico.totales.tablero06.fechaControl'],how='left')\n",
    "\n",
    "    cantDevConectadosLAN = mintic_02[~(mintic_02['trafico.totales.tablero06.traficoIN']>0) & (mintic_02['trafico.tablero06.apGroup']=='INDOOR')][['trafico.totales.tablero06.fechaControl','trafico.tablero06.macRed','trafico.tablero06.siteID']].groupby(['trafico.tablero06.siteID','trafico.totales.tablero06.fechaControl'])['trafico.tablero06.macRed'].nunique().reset_index()\n",
    "    cantDevConectadosLAN.rename(columns={'trafico.tablero06.macRed': 'trafico.totales.tablero06.cantDevConectadosLAN'}, inplace=True)\n",
    "\n",
    "    mintic_03 = pd.merge(mintic_03, cantDevConectadosLAN, on=['trafico.tablero06.siteID','trafico.totales.tablero06.fechaControl'],how='left')\n",
    "    mintic_03.fillna({'trafico.totales.tablero06.cantDevLAN':0,\n",
    "                      'trafico.totales.tablero06.cantDevConectadosLAN':0\n",
    "                      },inplace=True)\n",
    "    mintic_03['trafico.totales.tablero06.cantDevDesconectadosLAN'] = mintic_03['trafico.totales.tablero06.cantDevLAN'] - mintic_03['trafico.totales.tablero06.cantDevConectadosLAN']\n",
    "\n",
    "    mintic_03.fillna({'trafico.totales.tablero06.cantDevConectadosWAN':0,\n",
    "                      'trafico.totales.tablero06.cantDevDesconectadosWAN':0,\n",
    "                      'trafico.totales.tablero06.cantDevConectadosLAN':0,\n",
    "                      'trafico.totales.tablero06.cantDevDesconectadosLAN':0,\n",
    "                      'trafico.totales.tablero06.sitio.traficoIN':0,\n",
    "                      'trafico.totales.tablero06.sitio.traficoOUT':0,\n",
    "                      'trafico.totales.tablero06.sitio.consumoGB':0\n",
    "                      },inplace=True)\n",
    "    mintic_03['trafico.totales.tablero06.cantDev'] = mintic_03['trafico.totales.tablero06.cantDevLAN'] + mintic_03['trafico.totales.tablero06.cantDevWAN']\n",
    "    mintic_03[['trafico.totales.tablero06.cantDev','trafico.totales.tablero06.cantDevConectadosWAN','trafico.totales.tablero06.cantDevDesconectadosWAN','trafico.totales.tablero06.cantDevConectadosLAN','trafico.totales.tablero06.cantDevDesconectadosLAN']] = mintic_03[['trafico.totales.tablero06.cantDev','trafico.totales.tablero06.cantDevConectadosWAN','trafico.totales.tablero06.cantDevDesconectadosWAN','trafico.totales.tablero06.cantDevConectadosLAN','trafico.totales.tablero06.cantDevDesconectadosLAN']].astype(int)\n",
    "\n",
    "    mintic_03['trafico.totales.tablero06.cantDevConectados'] = mintic_03['trafico.totales.tablero06.cantDevConectadosWAN'] + mintic_03['trafico.totales.tablero06.cantDevConectadosLAN']\n",
    "    mintic_03['trafico.totales.tablero06.cantDevDesconectados'] = mintic_03['trafico.totales.tablero06.cantDevDesconectadosLAN'] + mintic_03['trafico.totales.tablero06.cantDevDesconectadosWAN']\n",
    "    mintic_03[['trafico.totales.tablero06.cantDevConectados'\n",
    "              ,'trafico.totales.tablero06.cantDevDesconectados'\n",
    "              ,'trafico.totales.tablero06.cantDevWAN'\n",
    "              ,'trafico.totales.tablero06.cantDevLAN']] = mintic_03[['trafico.totales.tablero06.cantDevConectados'\n",
    "                                                          ,'trafico.totales.tablero06.cantDevDesconectados'\n",
    "                                                          ,'trafico.totales.tablero06.cantDevWAN'\n",
    "                                                          ,'trafico.totales.tablero06.cantDevLAN']].astype(int)    \n",
    "    mintic_03['@timestamp'] = now.isoformat()\n",
    "    salida = helpers.bulk(es, doc_generator_dis(mintic_03))\n",
    "    print(\"Fecha: \", now,\"- Datos Dispositivos Conectados en indice principal:\",salida[0])\n",
    "except:\n",
    "    print(\"Fecha: \", now,\"- No se insertaron datos de dispositivos conectados en indice principal\")"
   ]
  },
  {
   "cell_type": "markdown",
   "metadata": {},
   "source": [
    "### Guardando fecha para control de ejecución"
   ]
  },
  {
   "cell_type": "markdown",
   "metadata": {},
   "source": [
    "* Se actualiza la fecha de control. Si el calculo supera la fecha hora actual, se asocia esta ultima."
   ]
  },
  {
   "cell_type": "code",
   "execution_count": 48,
   "metadata": {},
   "outputs": [
    {
     "name": "stdout",
     "output_type": "stream",
     "text": [
      "actualizada fecha control de ejecucion: 2021-06-25 05:10:00\n"
     ]
    }
   ],
   "source": [
    "fecha_ejecucion = (datetime.strptime(fecha_max_mintic, '%Y-%m-%d %H:%M:%S')+timedelta(minutes=10)).strftime(\"%Y-%m-%d %H:%M:%S\")[0:15] + '0:00'    \n",
    "\n",
    "if fecha_ejecucion > str(now.strftime('%Y-%m-%d %H:%M:%S'))[0:15] + '0:00':\n",
    "    fecha_ejecucion = str(now.strftime('%Y-%m-%d %H:%M:%S'))[0:15] + '0:00'\n",
    "response = es.index(\n",
    "        index = indice_control,\n",
    "        id = 'jerarquia-tablero06',\n",
    "        body = { 'jerarquia-tablero06': 'jerarquia-tablero06','tablero06.fechaControl' : fecha_ejecucion}\n",
    ")\n",
    "print(\"actualizada fecha control de ejecucion:\",fecha_ejecucion)"
   ]
  },
  {
   "cell_type": "code",
   "execution_count": null,
   "metadata": {},
   "outputs": [],
   "source": []
  }
 ],
 "metadata": {
  "kernelspec": {
   "display_name": "Python 3",
   "language": "python",
   "name": "python3"
  },
  "language_info": {
   "codemirror_mode": {
    "name": "ipython",
    "version": 3
   },
   "file_extension": ".py",
   "mimetype": "text/x-python",
   "name": "python",
   "nbconvert_exporter": "python",
   "pygments_lexer": "ipython3",
   "version": "3.8.5"
  }
 },
 "nbformat": 4,
 "nbformat_minor": 4
}
